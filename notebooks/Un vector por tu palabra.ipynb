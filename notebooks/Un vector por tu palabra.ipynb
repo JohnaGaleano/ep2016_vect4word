{
 "cells": [
  {
   "cell_type": "markdown",
   "metadata": {},
   "source": [
    "# ¡Hola!\n",
    "____________________\n",
    "- **Name:** Maite Giménez.\n",
    "- **Twitter:** @maidotgimenez\n",
    "- **Github:** maigimenez\n",
    "\n",
    "\n",
    "\n",
    "- **Who?:** \n",
    "  - Ph.D. student at Universitat Politècnica de València.\n",
    "  - University Spokeperson of Spanish Python Association ([¡Hazte socio/a!](http://www.es.python.org/page/quiero-ser-socio))\n",
    "\n",
    "\n",
    "\n",
    "![PyladiesES!](imgs/pyladiesES.png \"PyLadies Spain\")\n",
    "\n",
    "## Where are the slides?\n",
    "It's a notebook and it's available here: [Github/maigimenez/ep2016_vect4word](https://github.com/maigimenez/ep2016_vect4word)"
   ]
  },
  {
   "cell_type": "markdown",
   "metadata": {},
   "source": [
    "# Roadmap\n",
    "\n",
    "1. Definition of the problem. \n",
    "  1. Text representation in NLP.\n",
    "  2. An NLP problem: Binary gender classification.\n",
    "2. Get some data.\n",
    "3. Bag of words.\n",
    "4. Word embeddings\n",
    "  1. Pre-trained word embeddings.\n",
    "  2. Train your own model.\n",
    "5. Compare your approaches\n",
    "6. Discuss!"
   ]
  },
  {
   "cell_type": "markdown",
   "metadata": {},
   "source": [
    "## Science is broken\n",
    "![Science!](imgs/neil.gif \"Loving science!\")"
   ]
  },
  {
   "cell_type": "markdown",
   "metadata": {},
   "source": [
    "# 1. Definition of the problem\n",
    "\n",
    "## 1.1. Words are NOT numbers\n",
    "\n",
    "- Most of the machine learning algorithms are design to address problems trained with numeric features. \n",
    "\n",
    "\n",
    "![Sklearn!](imgs/sklearn.png \"Scikit-learn\")\n",
    "\n",
    "- But in natural language processing we are dealing with words, so...\n",
    "\n",
    "\n",
    "![Doctor!](imgs/doctor.gif \"I'm sorry\")\n",
    "\n",
    "## 1.2. Binary gender classification is dead\n",
    "\n",
    "> Schler, J., Koppel, M., Argamon, S., & Pennebaker, J. W. (2006, March). *Effects of Age and Gender on Blogging.* In AAAI Spring Symposium: Computational Approaches to Analyzing Weblogs (Vol. 6, pp. 199-205).\n",
    "[read the paper](http://www.aaai.org/Papers/Symposia/Spring/2006/SS-06-03/SS06-03-039.pdf)\n",
    "\n",
    "\n",
    "\n",
    "| Feature       | Male            | Female          |\n",
    "| ------------- |:---------------:| :--------------:|\n",
    "| linux         | **0.53 ± 0.04** |   0.03 ± 0.01   |\n",
    "| india         | **0.62 ± 0.04** |   0.15 ± 0.01   |\n",
    "| programming   | **0.36 ± 0.02** |   0.08 ± 0.01   |\n",
    "| google        | **0.90 ± 0.04** |   0.19 ± 0.02   |\n",
    "| software      | **0.99 ± 0.05** |   0.17 ± 0.02   |\n",
    "| shopping      |   0.66 ± 0.02   | **1.48 ± 0.03** |\n",
    "| mom           |   2.07 ± 0.05   | **4.69 ± 0.08** |\n",
    "| cried         |   0.31 ± 0.01   | **0.72 ± 0.02** |\n",
    "| freaked       |   0.08 ± 0.01   | **0.21 ± 0.01** |\n",
    "| cute          |   0.83 ± 0.03   | **2.32 ± 0.04** |\n",
    "\n",
    "Word frequency (per 10000 words) and standard error by gender"
   ]
  },
  {
   "cell_type": "markdown",
   "metadata": {},
   "source": [
    "# 2. Get some data!"
   ]
  },
  {
   "cell_type": "markdown",
   "metadata": {},
   "source": [
    "## 2.1 Gather your data"
   ]
  },
  {
   "cell_type": "code",
   "execution_count": 73,
   "metadata": {
    "collapsed": true
   },
   "outputs": [],
   "source": [
    "from configparser import ConfigParser\n",
    "from os.path import join\n",
    "from os import pardir"
   ]
  },
  {
   "cell_type": "code",
   "execution_count": 2,
   "metadata": {
    "collapsed": false
   },
   "outputs": [],
   "source": [
    "config = ConfigParser()\n",
    "config.read(join(pardir,'src','credentials.ini'))\n",
    "\n",
    "APP_KEY = config['twitter']['app_key']\n",
    "APP_SECRET = config['twitter']['app_secret']\n",
    "OAUTH_TOKEN =  config['twitter']['oauth_token']\n",
    "OAUTH_TOKEN_SECRET =  config['twitter']['oauth_token_secret']"
   ]
  },
  {
   "cell_type": "code",
   "execution_count": null,
   "metadata": {
    "collapsed": false
   },
   "outputs": [],
   "source": [
    "from twitter import oauth, Twitter, TwitterHTTPError"
   ]
  },
  {
   "cell_type": "code",
   "execution_count": null,
   "metadata": {
    "collapsed": false
   },
   "outputs": [],
   "source": [
    "auth = oauth.OAuth(OAUTH_TOKEN, OAUTH_TOKEN_SECRET,\n",
    "                   APP_KEY, APP_SECRET)\n",
    "\n",
    "twitter_api = Twitter(auth=auth)\n",
    "twitter_api.retry = True"
   ]
  },
  {
   "cell_type": "markdown",
   "metadata": {},
   "source": [
    "*Full disclaimer: gender is non a binary issue. This is just a simplified example. If you are willing to expand this experiment, go ahead and contact me!*"
   ]
  },
  {
   "cell_type": "code",
   "execution_count": null,
   "metadata": {
    "collapsed": false
   },
   "outputs": [],
   "source": [
    "brogrammers = ['jakevdp', 'rasbt', 'GaelVaroquaux', 'amuellerml', 'fperez_org', \n",
    "               'fpedregosa', 'ogrisel', 'dontusethiscode', 'randal_olson', 'tdhopper' ] \n",
    "sisgrammers = ['pkafei', 'LorenaABarba', 'jessicamckellar', 'heddle317', 'diana_clarke',\n",
    "               'wholemilk', 'spang', 'cecilycarver', 'juliaelman', 'b0rk']\n",
    "\n",
    "brotweets = []\n",
    "for bro in brogrammers: \n",
    "    brotweets.extend(twitter_api.statuses.user_timeline(screen_name=bro, count=100))\n",
    "\n",
    "sistweets = []\n",
    "for sis in sisgrammers: \n",
    "    sistweets.extend(twitter_api.statuses.user_timeline(screen_name=sis, count=100))"
   ]
  },
  {
   "cell_type": "markdown",
   "metadata": {},
   "source": [
    "## 2.2. Clean your data"
   ]
  },
  {
   "cell_type": "code",
   "execution_count": null,
   "metadata": {
    "collapsed": false
   },
   "outputs": [],
   "source": [
    "import re\n",
    "\n",
    "def clean_tweet(tweet):\n",
    "    \"\"\" Simplest preprocess.\n",
    "\n",
    "    Convert a tweet to lowercarse and replace URLs and @username by a generic token\n",
    "\n",
    "    Args:\n",
    "        tweet (str): Tweet to clean.\n",
    "\n",
    "    Returns:\n",
    "        str: Preprocessed tweet\n",
    "    \"\"\"\n",
    "    \n",
    "    tweet = tweet.lower()\n",
    "    \n",
    "    # Remove URL and replace them with a token\n",
    "    URL_REGEX = r'http[s]?://(?:[a-zA-Z]|[0-9]|[$-_@.&+]|[!*\\(\\),]|(?:%[0-9a-fA-F][0-9a-fA-F]))+'\n",
    "    tweet = re.sub(URL_REGEX, '<url>', tweet, flags=re.MULTILINE)\n",
    "    \n",
    "    # Remove usernames and replace them with a token\n",
    "    tweet = re.sub(\"@([A-Za-z0-9_]+)\", \"<user>\", tweet)\n",
    "\n",
    "    # Remove repeated spaces\n",
    "    tweet = re.sub(r\"\\s{2,}\", \" \", tweet)\n",
    "\n",
    "    # If a character is repeated more than 4 time, keep only 3 repetitions.\n",
    "    tweet = re.sub(r'(.)\\1{4,}', r'\\1\\1\\1', tweet)\n",
    "    \n",
    "    return tweet"
   ]
  },
  {
   "cell_type": "code",
   "execution_count": null,
   "metadata": {
    "collapsed": false
   },
   "outputs": [],
   "source": [
    "import pandas as pd\n",
    "\n",
    "dataset = []\n",
    "# Gather the text \n",
    "for tweet in brotweets:\n",
    "    cleaned_tweet = clean_tweet(tweet['text'])\n",
    "    dataset.append({'id': tweet['id'], 'text': cleaned_tweet, 'class': 0})\n",
    "for tweet in sistweets:\n",
    "    cleaned_tweet = clean_tweet(tweet['text'])\n",
    "    dataset.append({'id': tweet['id'], 'text': cleaned_tweet, 'class': 1})\n",
    "\n",
    "pd_dataset = pd.DataFrame(dataset)"
   ]
  },
  {
   "cell_type": "code",
   "execution_count": null,
   "metadata": {
    "collapsed": false
   },
   "outputs": [],
   "source": [
    "pd_dataset.head()"
   ]
  },
  {
   "cell_type": "markdown",
   "metadata": {},
   "source": [
    "## 2.3. Share your data"
   ]
  },
  {
   "cell_type": "code",
   "execution_count": null,
   "metadata": {
    "collapsed": false
   },
   "outputs": [],
   "source": [
    "pd_dataset.to_csv('../corpora/full_dataset.csv')"
   ]
  },
  {
   "cell_type": "code",
   "execution_count": null,
   "metadata": {
    "collapsed": false
   },
   "outputs": [],
   "source": [
    "pd_dataset[['class', 'id']].to_csv('../corpora/ep16.csv')"
   ]
  },
  {
   "cell_type": "markdown",
   "metadata": {},
   "source": [
    "![Toast!](imgs/toast.gif \"Let's celebrate!\")"
   ]
  },
  {
   "cell_type": "markdown",
   "metadata": {},
   "source": [
    "## 2.4. Study your data"
   ]
  },
  {
   "cell_type": "code",
   "execution_count": 1,
   "metadata": {
    "collapsed": false
   },
   "outputs": [
    {
     "data": {
      "text/html": [
       "<div>\n",
       "<table border=\"1\" class=\"dataframe\">\n",
       "  <thead>\n",
       "    <tr style=\"text-align: right;\">\n",
       "      <th></th>\n",
       "      <th>class</th>\n",
       "      <th>id</th>\n",
       "      <th>text</th>\n",
       "    </tr>\n",
       "  </thead>\n",
       "  <tbody>\n",
       "    <tr>\n",
       "      <th>0</th>\n",
       "      <td>0</td>\n",
       "      <td>752137929871462400</td>\n",
       "      <td>&lt;user&gt; great seeing you today!</td>\n",
       "    </tr>\n",
       "    <tr>\n",
       "      <th>1</th>\n",
       "      <td>0</td>\n",
       "      <td>751510274432131072</td>\n",
       "      <td>\"i just wanted to check that you got my previo...</td>\n",
       "    </tr>\n",
       "    <tr>\n",
       "      <th>2</th>\n",
       "      <td>0</td>\n",
       "      <td>751374701344219136</td>\n",
       "      <td>rt &lt;user&gt;: &lt;user&gt; support for minor bugs may e...</td>\n",
       "    </tr>\n",
       "    <tr>\n",
       "      <th>3</th>\n",
       "      <td>0</td>\n",
       "      <td>751373414435328001</td>\n",
       "      <td>could be controversial, but frankly i think it...</td>\n",
       "    </tr>\n",
       "    <tr>\n",
       "      <th>4</th>\n",
       "      <td>0</td>\n",
       "      <td>751373066987573248</td>\n",
       "      <td>til that &lt;user&gt; plans to drop python 2 support...</td>\n",
       "    </tr>\n",
       "  </tbody>\n",
       "</table>\n",
       "</div>"
      ],
      "text/plain": [
       "   class                  id  \\\n",
       "0      0  752137929871462400   \n",
       "1      0  751510274432131072   \n",
       "2      0  751374701344219136   \n",
       "3      0  751373414435328001   \n",
       "4      0  751373066987573248   \n",
       "\n",
       "                                                text  \n",
       "0                     <user> great seeing you today!  \n",
       "1  \"i just wanted to check that you got my previo...  \n",
       "2  rt <user>: <user> support for minor bugs may e...  \n",
       "3  could be controversial, but frankly i think it...  \n",
       "4  til that <user> plans to drop python 2 support...  "
      ]
     },
     "execution_count": 1,
     "metadata": {},
     "output_type": "execute_result"
    }
   ],
   "source": [
    "import pandas as pd\n",
    "\n",
    "DATASET_PATH = \"../corpora/full_dataset.csv\"\n",
    "pd_dataset = pd.DataFrame.from_csv(DATASET_PATH)\n",
    "pd_dataset.head()"
   ]
  },
  {
   "cell_type": "code",
   "execution_count": 2,
   "metadata": {
    "collapsed": false
   },
   "outputs": [],
   "source": [
    "import nltk.data\n",
    "#nltk.download()   "
   ]
  },
  {
   "cell_type": "code",
   "execution_count": 3,
   "metadata": {
    "collapsed": false
   },
   "outputs": [],
   "source": [
    "from nltk.tokenize import TweetTokenizer, word_tokenize\n",
    "from nltk.corpus import stopwords\n",
    "from collections import Counter\n",
    "import re\n",
    "import scipy.stats as stats"
   ]
  },
  {
   "cell_type": "code",
   "execution_count": 4,
   "metadata": {
    "collapsed": false
   },
   "outputs": [
    {
     "name": "stdout",
     "output_type": "stream",
     "text": [
      "i, me, my, myself, we, our, ours, ourselves, you, your, yours, yourself, yourselves, he, him, his, himself, she, her, hers\n"
     ]
    }
   ],
   "source": [
    "print(', '.join(stopwords.words('english')[:20]))"
   ]
  },
  {
   "cell_type": "code",
   "execution_count": 5,
   "metadata": {
    "collapsed": true
   },
   "outputs": [],
   "source": [
    "def get_vocabulary(corpus, tokenizer):\n",
    "    stop_words = stopwords.words('english')\n",
    "\n",
    "    # Remove puntuation marks\n",
    "    no_punks = [re.sub(r'\\W', ' ', tweet) for tweet in corpus]\n",
    "    \n",
    "    # Tokenize and remove stop words\n",
    "    clean_tokens = []\n",
    "    for tweet in no_punks:\n",
    "        # Replace different numbers with a token\n",
    "        tweet = re.sub(r\"\\.\\d+\\s*\", \".<number> \", tweet)\n",
    "        tweet = re.sub(r\"\\d+\\s*\", \" <number> \", tweet)\n",
    "    \n",
    "        tokens = tokenizer(tweet)\n",
    "        tokens = [token for token in tokens if token not in stop_words]\n",
    "        clean_tokens.extend(tokens)\n",
    "\n",
    "    # Build the vocabulary\n",
    "    return Counter(clean_tokens)"
   ]
  },
  {
   "cell_type": "code",
   "execution_count": 6,
   "metadata": {
    "collapsed": false
   },
   "outputs": [],
   "source": [
    "tknzr = TweetTokenizer()\n",
    "\n",
    "brotweets = pd_dataset[pd_dataset['class'] == 0]['text'].tolist()\n",
    "sistweets = pd_dataset[pd_dataset['class'] == 1]['text'].tolist()\n",
    "\n",
    "brocabulary = get_vocabulary(brotweets, tknzr.tokenize)\n",
    "siscabulary = get_vocabulary(sistweets, tknzr.tokenize)"
   ]
  },
  {
   "cell_type": "code",
   "execution_count": 7,
   "metadata": {
    "collapsed": false
   },
   "outputs": [
    {
     "data": {
      "text/plain": [
       "[('user', 1313),\n",
       " ('url', 676),\n",
       " ('<number>', 483),\n",
       " ('rt', 420),\n",
       " ('python', 96),\n",
       " ('talk', 49),\n",
       " ('learning', 46),\n",
       " ('data', 45),\n",
       " ('new', 43),\n",
       " ('https', 42)]"
      ]
     },
     "execution_count": 7,
     "metadata": {},
     "output_type": "execute_result"
    }
   ],
   "source": [
    "brocabulary.most_common(10)"
   ]
  },
  {
   "cell_type": "code",
   "execution_count": 8,
   "metadata": {
    "collapsed": false
   },
   "outputs": [
    {
     "data": {
      "text/plain": [
       "[('user', 1009),\n",
       " ('url', 419),\n",
       " ('<number>', 337),\n",
       " ('rt', 234),\n",
       " ('pycon', 54),\n",
       " ('one', 40),\n",
       " ('sgdq', 40),\n",
       " ('get', 39),\n",
       " ('like', 37),\n",
       " ('code', 30)]"
      ]
     },
     "execution_count": 8,
     "metadata": {},
     "output_type": "execute_result"
    }
   ],
   "source": [
    "siscabulary.most_common(10)"
   ]
  },
  {
   "cell_type": "code",
   "execution_count": 9,
   "metadata": {
    "collapsed": false
   },
   "outputs": [
    {
     "data": {
      "text/html": [
       "\n",
       "    <div class=\"bk-root\">\n",
       "        <a href=\"http://bokeh.pydata.org\" target=\"_blank\" class=\"bk-logo bk-logo-small bk-logo-notebook\"></a>\n",
       "        <span id=\"db11210d-2f7a-4a16-9ee9-ceb3698f319d\">Loading BokehJS ...</span>\n",
       "    </div>"
      ]
     },
     "metadata": {},
     "output_type": "display_data"
    },
    {
     "data": {
      "application/javascript": [
       "\n",
       "(function(global) {\n",
       "  function now() {\n",
       "    return new Date();\n",
       "  }\n",
       "\n",
       "  if (typeof (window._bokeh_onload_callbacks) === \"undefined\") {\n",
       "    window._bokeh_onload_callbacks = [];\n",
       "  }\n",
       "\n",
       "  function run_callbacks() {\n",
       "    window._bokeh_onload_callbacks.forEach(function(callback) { callback() });\n",
       "    delete window._bokeh_onload_callbacks\n",
       "    console.info(\"Bokeh: all callbacks have finished\");\n",
       "  }\n",
       "\n",
       "  function load_libs(js_urls, callback) {\n",
       "    window._bokeh_onload_callbacks.push(callback);\n",
       "    if (window._bokeh_is_loading > 0) {\n",
       "      console.log(\"Bokeh: BokehJS is being loaded, scheduling callback at\", now());\n",
       "      return null;\n",
       "    }\n",
       "    if (js_urls == null || js_urls.length === 0) {\n",
       "      run_callbacks();\n",
       "      return null;\n",
       "    }\n",
       "    console.log(\"Bokeh: BokehJS not loaded, scheduling load and callback at\", now());\n",
       "    window._bokeh_is_loading = js_urls.length;\n",
       "    for (var i = 0; i < js_urls.length; i++) {\n",
       "      var url = js_urls[i];\n",
       "      var s = document.createElement('script');\n",
       "      s.src = url;\n",
       "      s.async = false;\n",
       "      s.onreadystatechange = s.onload = function() {\n",
       "        window._bokeh_is_loading--;\n",
       "        if (window._bokeh_is_loading === 0) {\n",
       "          console.log(\"Bokeh: all BokehJS libraries loaded\");\n",
       "          run_callbacks()\n",
       "        }\n",
       "      };\n",
       "      s.onerror = function() {\n",
       "        console.warn(\"failed to load library \" + url);\n",
       "      };\n",
       "      console.log(\"Bokeh: injecting script tag for BokehJS library: \", url);\n",
       "      document.getElementsByTagName(\"head\")[0].appendChild(s);\n",
       "    }\n",
       "  };\n",
       "\n",
       "  var js_urls = ['https://cdn.pydata.org/bokeh/release/bokeh-0.12.0.min.js', 'https://cdn.pydata.org/bokeh/release/bokeh-widgets-0.12.0.min.js', 'https://cdn.pydata.org/bokeh/release/bokeh-compiler-0.12.0.min.js'];\n",
       "\n",
       "  var inline_js = [\n",
       "    function(Bokeh) {\n",
       "      Bokeh.set_log_level(\"info\");\n",
       "    },\n",
       "    \n",
       "    function(Bokeh) {\n",
       "      Bokeh.$(\"#db11210d-2f7a-4a16-9ee9-ceb3698f319d\").text(\"BokehJS successfully loaded\");\n",
       "    },\n",
       "    function(Bokeh) {\n",
       "      console.log(\"Bokeh: injecting CSS: https://cdn.pydata.org/bokeh/release/bokeh-0.12.0.min.css\");\n",
       "      Bokeh.embed.inject_css(\"https://cdn.pydata.org/bokeh/release/bokeh-0.12.0.min.css\");\n",
       "      console.log(\"Bokeh: injecting CSS: https://cdn.pydata.org/bokeh/release/bokeh-widgets-0.12.0.min.css\");\n",
       "      Bokeh.embed.inject_css(\"https://cdn.pydata.org/bokeh/release/bokeh-widgets-0.12.0.min.css\");\n",
       "    }\n",
       "  ];\n",
       "\n",
       "  function run_inline_js() {\n",
       "    for (var i = 0; i < inline_js.length; i++) {\n",
       "      inline_js[i](window.Bokeh);\n",
       "    }\n",
       "  }\n",
       "\n",
       "  if (window._bokeh_is_loading === 0) {\n",
       "    console.log(\"Bokeh: BokehJS loaded, going straight to plotting\");\n",
       "    run_inline_js();\n",
       "  } else {\n",
       "    load_libs(js_urls, function() {\n",
       "      console.log(\"Bokeh: BokehJS plotting callback run at\", now());\n",
       "      run_inline_js();\n",
       "    });\n",
       "  }\n",
       "}(this));"
      ]
     },
     "metadata": {},
     "output_type": "display_data"
    }
   ],
   "source": [
    "from bokeh.plotting import figure, show, vplot, ColumnDataSource\n",
    "from bokeh.io import output_notebook\n",
    "from bokeh.models import HoverTool\n",
    "\n",
    "output_notebook()"
   ]
  },
  {
   "cell_type": "code",
   "execution_count": 10,
   "metadata": {
    "collapsed": false
   },
   "outputs": [],
   "source": [
    "MOST_COMMON = 50\n",
    "\n",
    "mc_brocavulary = brocabulary.most_common(int(MOST_COMMON/2))\n",
    "mc_siscavulary = siscabulary.most_common(int(MOST_COMMON/2))\n",
    "\n",
    "fr_brocavulary, fr_siscavulary  = [], []\n",
    "most_common_words = mc_brocavulary + mc_siscavulary\n",
    "words = list(set(word for word, _ in most_common_words))\n",
    "for word in words:\n",
    "    if word in brocabulary:\n",
    "        fr_brocavulary.append(brocabulary[word])\n",
    "    else:\n",
    "        fr_brocavulary.append(0)\n",
    "    if word in siscabulary:\n",
    "        fr_siscavulary.append(siscabulary[word])\n",
    "    else:\n",
    "        fr_siscavulary.append(0)"
   ]
  },
  {
   "cell_type": "code",
   "execution_count": 11,
   "metadata": {
    "collapsed": false
   },
   "outputs": [
    {
     "data": {
      "text/html": [
       "\n",
       "\n",
       "    <div class=\"bk-root\">\n",
       "        <div class=\"plotdiv\" id=\"c1edc9e8-fe98-4089-aa39-017d6593252e\"></div>\n",
       "    </div>\n",
       "<script type=\"text/javascript\">\n",
       "  \n",
       "  (function(global) {\n",
       "    function now() {\n",
       "      return new Date();\n",
       "    }\n",
       "  \n",
       "    if (typeof (window._bokeh_onload_callbacks) === \"undefined\") {\n",
       "      window._bokeh_onload_callbacks = [];\n",
       "    }\n",
       "  \n",
       "    function run_callbacks() {\n",
       "      window._bokeh_onload_callbacks.forEach(function(callback) { callback() });\n",
       "      delete window._bokeh_onload_callbacks\n",
       "      console.info(\"Bokeh: all callbacks have finished\");\n",
       "    }\n",
       "  \n",
       "    function load_libs(js_urls, callback) {\n",
       "      window._bokeh_onload_callbacks.push(callback);\n",
       "      if (window._bokeh_is_loading > 0) {\n",
       "        console.log(\"Bokeh: BokehJS is being loaded, scheduling callback at\", now());\n",
       "        return null;\n",
       "      }\n",
       "      if (js_urls == null || js_urls.length === 0) {\n",
       "        run_callbacks();\n",
       "        return null;\n",
       "      }\n",
       "      console.log(\"Bokeh: BokehJS not loaded, scheduling load and callback at\", now());\n",
       "      window._bokeh_is_loading = js_urls.length;\n",
       "      for (var i = 0; i < js_urls.length; i++) {\n",
       "        var url = js_urls[i];\n",
       "        var s = document.createElement('script');\n",
       "        s.src = url;\n",
       "        s.async = false;\n",
       "        s.onreadystatechange = s.onload = function() {\n",
       "          window._bokeh_is_loading--;\n",
       "          if (window._bokeh_is_loading === 0) {\n",
       "            console.log(\"Bokeh: all BokehJS libraries loaded\");\n",
       "            run_callbacks()\n",
       "          }\n",
       "        };\n",
       "        s.onerror = function() {\n",
       "          console.warn(\"failed to load library \" + url);\n",
       "        };\n",
       "        console.log(\"Bokeh: injecting script tag for BokehJS library: \", url);\n",
       "        document.getElementsByTagName(\"head\")[0].appendChild(s);\n",
       "      }\n",
       "    };var element = document.getElementById(\"c1edc9e8-fe98-4089-aa39-017d6593252e\");\n",
       "    if (element == null) {\n",
       "      console.log(\"Bokeh: ERROR: autoload.js configured with elementid 'c1edc9e8-fe98-4089-aa39-017d6593252e' but no matching script tag was found. \")\n",
       "      return false;\n",
       "    }\n",
       "  \n",
       "    var js_urls = [];\n",
       "  \n",
       "    var inline_js = [\n",
       "      function(Bokeh) {\n",
       "        Bokeh.$(function() {\n",
       "            var docs_json = {\"89c39d1b-6f98-4bd2-bea4-66e10780cbb9\":{\"roots\":{\"references\":[{\"attributes\":{\"fill_alpha\":{\"value\":0.2},\"fill_color\":{\"value\":\"navy\"},\"line_color\":{\"value\":\"navy\"},\"size\":{\"units\":\"screen\",\"value\":10},\"x\":{\"field\":\"range_words\"},\"y\":{\"field\":\"freq_true\"}},\"id\":\"5e13d85c-68ea-4b0a-b696-7ce22534f8fd\",\"type\":\"Circle\"},{\"attributes\":{\"fill_alpha\":{\"value\":0.1},\"fill_color\":{\"value\":\"#1f77b4\"},\"line_alpha\":{\"value\":0.1},\"line_color\":{\"value\":\"#1f77b4\"},\"size\":{\"units\":\"screen\",\"value\":10},\"x\":{\"field\":\"range_words\"},\"y\":{\"field\":\"freq_false\"}},\"id\":\"95f76b48-2b63-443a-9875-cf150afa5493\",\"type\":\"Circle\"},{\"attributes\":{},\"id\":\"52405a08-07d1-4162-a2bf-7b044dd6941c\",\"type\":\"CategoricalTickFormatter\"},{\"attributes\":{\"plot\":{\"id\":\"ace2246a-1b66-4f55-ab45-b5671fc11f40\",\"subtype\":\"Figure\",\"type\":\"Plot\"}},\"id\":\"f66dd022-4f61-4e45-b5ef-9a29fc5f11d7\",\"type\":\"PanTool\"},{\"attributes\":{},\"id\":\"d97286a9-675a-4854-b420-810bf29996fb\",\"type\":\"BasicTicker\"},{\"attributes\":{\"plot\":null,\"text\":\"Vocabulary gender\"},\"id\":\"6930d55d-5b5f-4733-951d-707cc965d8ca\",\"type\":\"Title\"},{\"attributes\":{\"bottom_units\":\"screen\",\"fill_alpha\":{\"value\":0.5},\"fill_color\":{\"value\":\"lightgrey\"},\"left_units\":\"screen\",\"level\":\"overlay\",\"line_alpha\":{\"value\":1.0},\"line_color\":{\"value\":\"black\"},\"line_dash\":[4,4],\"line_width\":{\"value\":2},\"plot\":null,\"render_mode\":\"css\",\"right_units\":\"screen\",\"top_units\":\"screen\"},\"id\":\"c3d7440f-c2fb-4b76-b726-f4877d7e0cc8\",\"type\":\"BoxAnnotation\"},{\"attributes\":{},\"id\":\"783a4e9f-28bf-462a-b183-fd8cc208a08d\",\"type\":\"BasicTickFormatter\"},{\"attributes\":{\"plot\":{\"id\":\"ace2246a-1b66-4f55-ab45-b5671fc11f40\",\"subtype\":\"Figure\",\"type\":\"Plot\"}},\"id\":\"b453242e-724c-426b-89a9-de0707a62ba8\",\"type\":\"ResetTool\"},{\"attributes\":{\"callback\":null,\"plot\":{\"id\":\"ace2246a-1b66-4f55-ab45-b5671fc11f40\",\"subtype\":\"Figure\",\"type\":\"Plot\"},\"tooltips\":[[\"words\",\"@words\"]]},\"id\":\"c76efb40-80f2-4926-b2bd-7338bbba8789\",\"type\":\"HoverTool\"},{\"attributes\":{\"data_source\":{\"id\":\"7e6b20af-c7f4-4e45-89cb-e53110b9a3c1\",\"type\":\"ColumnDataSource\"},\"glyph\":{\"id\":\"e2fa40d3-01ad-4f8c-a4c0-53ca740b445e\",\"type\":\"Circle\"},\"hover_glyph\":null,\"nonselection_glyph\":{\"id\":\"95f76b48-2b63-443a-9875-cf150afa5493\",\"type\":\"Circle\"},\"selection_glyph\":null},\"id\":\"efb0647e-06f4-4696-8601-969ded712b9b\",\"type\":\"GlyphRenderer\"},{\"attributes\":{\"axis_label\":\"Words\",\"formatter\":{\"id\":\"52405a08-07d1-4162-a2bf-7b044dd6941c\",\"type\":\"CategoricalTickFormatter\"},\"major_label_orientation\":0.7853981633974483,\"plot\":{\"id\":\"ace2246a-1b66-4f55-ab45-b5671fc11f40\",\"subtype\":\"Figure\",\"type\":\"Plot\"},\"ticker\":{\"id\":\"183a2e6d-f9f3-47ab-80d0-12d25e0916e4\",\"type\":\"CategoricalTicker\"}},\"id\":\"3181b5f7-2d52-411a-a528-0cd5ea04d778\",\"type\":\"CategoricalAxis\"},{\"attributes\":{\"callback\":null,\"factors\":[\"slides\",\"dataviz\",\"day\",\"time\",\"people\",\"get\",\"python\",\"icml\",\"pycon\",\"thanks\",\"user\",\"code\",\"one\",\"learn\",\"sgdq\",\"think\",\"<number>\",\"amp\",\"like\",\"rt\",\"know\",\"url\",\"really\",\"data\",\"new\",\"way\",\"https\",\"great\",\"want\",\"talk\",\"learning\",\"good\",\"oh\",\"open\"]},\"id\":\"d2db2d99-d461-469d-8d1f-f9b4877c3775\",\"type\":\"FactorRange\"},{\"attributes\":{},\"id\":\"183a2e6d-f9f3-47ab-80d0-12d25e0916e4\",\"type\":\"CategoricalTicker\"},{\"attributes\":{\"plot\":{\"id\":\"ace2246a-1b66-4f55-ab45-b5671fc11f40\",\"subtype\":\"Figure\",\"type\":\"Plot\"}},\"id\":\"296a74f0-e017-4db0-953b-ab40662c5c09\",\"type\":\"SaveTool\"},{\"attributes\":{\"fill_alpha\":{\"value\":0.1},\"fill_color\":{\"value\":\"#1f77b4\"},\"line_alpha\":{\"value\":0.1},\"line_color\":{\"value\":\"#1f77b4\"},\"size\":{\"units\":\"screen\",\"value\":10},\"x\":{\"field\":\"range_words\"},\"y\":{\"field\":\"freq_true\"}},\"id\":\"72aa587d-e5f7-4391-b94f-8896f820bb94\",\"type\":\"Circle\"},{\"attributes\":{\"overlay\":{\"id\":\"c3d7440f-c2fb-4b76-b726-f4877d7e0cc8\",\"type\":\"BoxAnnotation\"},\"plot\":{\"id\":\"ace2246a-1b66-4f55-ab45-b5671fc11f40\",\"subtype\":\"Figure\",\"type\":\"Plot\"}},\"id\":\"92b19548-9bb7-4e40-9490-1aebcb16ccd0\",\"type\":\"BoxZoomTool\"},{\"attributes\":{\"data_source\":{\"id\":\"7e6b20af-c7f4-4e45-89cb-e53110b9a3c1\",\"type\":\"ColumnDataSource\"},\"glyph\":{\"id\":\"5e13d85c-68ea-4b0a-b696-7ce22534f8fd\",\"type\":\"Circle\"},\"hover_glyph\":null,\"nonselection_glyph\":{\"id\":\"72aa587d-e5f7-4391-b94f-8896f820bb94\",\"type\":\"Circle\"},\"selection_glyph\":null},\"id\":\"d5a4ed7a-bd7c-4fca-9ca2-da9da7737a46\",\"type\":\"GlyphRenderer\"},{\"attributes\":{\"callback\":null,\"column_names\":[\"freq_false\",\"words\",\"freq_true\",\"range_words\"],\"data\":{\"freq_false\":[8,0,22,25,20,39,27,0,54,29,1009,30,40,6,40,23,337,29,37,234,29,419,18,6,27,22,12,19,20,20,6,29,22,24],\"freq_true\":[25,32,14,25,19,25,96,27,18,40,1313,25,35,28,0,25,483,42,34,420,13,676,30,45,43,7,42,34,9,49,46,28,13,25],\"range_words\":[1,2,3,4,5,6,7,8,9,10,11,12,13,14,15,16,17,18,19,20,21,22,23,24,25,26,27,28,29,30,31,32,33,34],\"words\":[\"slides\",\"dataviz\",\"day\",\"time\",\"people\",\"get\",\"python\",\"icml\",\"pycon\",\"thanks\",\"user\",\"code\",\"one\",\"learn\",\"sgdq\",\"think\",\"<number>\",\"amp\",\"like\",\"rt\",\"know\",\"url\",\"really\",\"data\",\"new\",\"way\",\"https\",\"great\",\"want\",\"talk\",\"learning\",\"good\",\"oh\",\"open\"]}},\"id\":\"7e6b20af-c7f4-4e45-89cb-e53110b9a3c1\",\"type\":\"ColumnDataSource\"},{\"attributes\":{\"callback\":null},\"id\":\"85de6b86-3cf1-4725-bbf6-a5caf585792a\",\"type\":\"DataRange1d\"},{\"attributes\":{\"active_drag\":\"auto\",\"active_scroll\":\"auto\",\"active_tap\":\"auto\",\"tools\":[{\"id\":\"c76efb40-80f2-4926-b2bd-7338bbba8789\",\"type\":\"HoverTool\"},{\"id\":\"f66dd022-4f61-4e45-b5ef-9a29fc5f11d7\",\"type\":\"PanTool\"},{\"id\":\"1a335c53-1f65-4073-8b43-0a6e1f9a4200\",\"type\":\"WheelZoomTool\"},{\"id\":\"92b19548-9bb7-4e40-9490-1aebcb16ccd0\",\"type\":\"BoxZoomTool\"},{\"id\":\"b453242e-724c-426b-89a9-de0707a62ba8\",\"type\":\"ResetTool\"},{\"id\":\"296a74f0-e017-4db0-953b-ab40662c5c09\",\"type\":\"SaveTool\"}]},\"id\":\"490a9cee-7434-4423-a2a5-e0534054628f\",\"type\":\"Toolbar\"},{\"attributes\":{\"below\":[{\"id\":\"3181b5f7-2d52-411a-a528-0cd5ea04d778\",\"type\":\"CategoricalAxis\"}],\"left\":[{\"id\":\"db3f7d5d-7b57-4f2d-b05d-d8de7f4d0963\",\"type\":\"LinearAxis\"}],\"renderers\":[{\"id\":\"3181b5f7-2d52-411a-a528-0cd5ea04d778\",\"type\":\"CategoricalAxis\"},{\"id\":\"f5645c4b-2387-41e3-be92-67365cf43e50\",\"type\":\"Grid\"},{\"id\":\"db3f7d5d-7b57-4f2d-b05d-d8de7f4d0963\",\"type\":\"LinearAxis\"},{\"id\":\"386f6b92-abe1-4b55-abed-fbcc7ae8d8db\",\"type\":\"Grid\"},{\"id\":\"c3d7440f-c2fb-4b76-b726-f4877d7e0cc8\",\"type\":\"BoxAnnotation\"},{\"id\":\"d5a4ed7a-bd7c-4fca-9ca2-da9da7737a46\",\"type\":\"GlyphRenderer\"},{\"id\":\"efb0647e-06f4-4696-8601-969ded712b9b\",\"type\":\"GlyphRenderer\"}],\"title\":{\"id\":\"6930d55d-5b5f-4733-951d-707cc965d8ca\",\"type\":\"Title\"},\"tool_events\":{\"id\":\"84395587-ec63-4a78-8a8f-fe7226c9b328\",\"type\":\"ToolEvents\"},\"toolbar\":{\"id\":\"490a9cee-7434-4423-a2a5-e0534054628f\",\"type\":\"Toolbar\"},\"x_range\":{\"id\":\"d2db2d99-d461-469d-8d1f-f9b4877c3775\",\"type\":\"FactorRange\"},\"y_range\":{\"id\":\"85de6b86-3cf1-4725-bbf6-a5caf585792a\",\"type\":\"DataRange1d\"}},\"id\":\"ace2246a-1b66-4f55-ab45-b5671fc11f40\",\"subtype\":\"Figure\",\"type\":\"Plot\"},{\"attributes\":{\"plot\":{\"id\":\"ace2246a-1b66-4f55-ab45-b5671fc11f40\",\"subtype\":\"Figure\",\"type\":\"Plot\"},\"ticker\":{\"id\":\"183a2e6d-f9f3-47ab-80d0-12d25e0916e4\",\"type\":\"CategoricalTicker\"}},\"id\":\"f5645c4b-2387-41e3-be92-67365cf43e50\",\"type\":\"Grid\"},{\"attributes\":{\"axis_label\":\"Frequency\",\"formatter\":{\"id\":\"783a4e9f-28bf-462a-b183-fd8cc208a08d\",\"type\":\"BasicTickFormatter\"},\"plot\":{\"id\":\"ace2246a-1b66-4f55-ab45-b5671fc11f40\",\"subtype\":\"Figure\",\"type\":\"Plot\"},\"ticker\":{\"id\":\"d97286a9-675a-4854-b420-810bf29996fb\",\"type\":\"BasicTicker\"}},\"id\":\"db3f7d5d-7b57-4f2d-b05d-d8de7f4d0963\",\"type\":\"LinearAxis\"},{\"attributes\":{\"fill_alpha\":{\"value\":0.2},\"fill_color\":{\"value\":\"red\"},\"line_color\":{\"value\":\"red\"},\"size\":{\"units\":\"screen\",\"value\":10},\"x\":{\"field\":\"range_words\"},\"y\":{\"field\":\"freq_false\"}},\"id\":\"e2fa40d3-01ad-4f8c-a4c0-53ca740b445e\",\"type\":\"Circle\"},{\"attributes\":{\"plot\":{\"id\":\"ace2246a-1b66-4f55-ab45-b5671fc11f40\",\"subtype\":\"Figure\",\"type\":\"Plot\"}},\"id\":\"1a335c53-1f65-4073-8b43-0a6e1f9a4200\",\"type\":\"WheelZoomTool\"},{\"attributes\":{\"dimension\":1,\"plot\":{\"id\":\"ace2246a-1b66-4f55-ab45-b5671fc11f40\",\"subtype\":\"Figure\",\"type\":\"Plot\"},\"ticker\":{\"id\":\"d97286a9-675a-4854-b420-810bf29996fb\",\"type\":\"BasicTicker\"}},\"id\":\"386f6b92-abe1-4b55-abed-fbcc7ae8d8db\",\"type\":\"Grid\"},{\"attributes\":{},\"id\":\"84395587-ec63-4a78-8a8f-fe7226c9b328\",\"type\":\"ToolEvents\"}],\"root_ids\":[\"ace2246a-1b66-4f55-ab45-b5671fc11f40\"]},\"title\":\"Bokeh Application\",\"version\":\"0.12.0\"}};\n",
       "            var render_items = [{\"docid\":\"89c39d1b-6f98-4bd2-bea4-66e10780cbb9\",\"elementid\":\"c1edc9e8-fe98-4089-aa39-017d6593252e\",\"modelid\":\"ace2246a-1b66-4f55-ab45-b5671fc11f40\",\"notebook_comms_target\":\"86902c59-e5da-46c0-8eb4-9d4c0929024f\"}];\n",
       "            \n",
       "            Bokeh.embed.embed_items(docs_json, render_items);\n",
       "        });\n",
       "      },\n",
       "      function(Bokeh) {\n",
       "      }\n",
       "    ];\n",
       "  \n",
       "    function run_inline_js() {\n",
       "      for (var i = 0; i < inline_js.length; i++) {\n",
       "        inline_js[i](window.Bokeh);\n",
       "      }\n",
       "    }\n",
       "  \n",
       "    if (window._bokeh_is_loading === 0) {\n",
       "      console.log(\"Bokeh: BokehJS loaded, going straight to plotting\");\n",
       "      run_inline_js();\n",
       "    } else {\n",
       "      load_libs(js_urls, function() {\n",
       "        console.log(\"Bokeh: BokehJS plotting callback run at\", now());\n",
       "        run_inline_js();\n",
       "      });\n",
       "    }\n",
       "  }(this));\n",
       "</script>"
      ]
     },
     "metadata": {},
     "output_type": "display_data"
    },
    {
     "data": {
      "text/html": [
       "<p><code>&lt;Bokeh Notebook handle for <strong>In[11]</strong>&gt;</code></p>"
      ],
      "text/plain": [
       "<bokeh.io._CommsHandle at 0x7f248728add8>"
      ]
     },
     "execution_count": 11,
     "metadata": {},
     "output_type": "execute_result"
    }
   ],
   "source": [
    "import numpy as np\n",
    "range_words=list(range(1,len(words)+1))\n",
    "source = ColumnDataSource(data=dict(range_words=range_words,\n",
    "                                    words=words,\n",
    "                                    freq_true=fr_brocavulary, \n",
    "                                    freq_false=fr_siscavulary))\n",
    "\n",
    "hover = HoverTool()\n",
    "hover.point_policy = \"follow_mouse\"\n",
    "hover = HoverTool(\n",
    "        tooltips=[\n",
    "            (\"words\", \"@words\"),\n",
    "        ]\n",
    "    )\n",
    "\n",
    "TOOLS=\"pan,wheel_zoom,box_zoom,reset,save\"\n",
    "\n",
    "\n",
    "p = figure(title = \"Vocabulary gender\", x_range=words, tools=[TOOLS, hover])\n",
    "p.xaxis.axis_label = 'Words'\n",
    "p.yaxis.axis_label = 'Frequency'\n",
    "p.circle('range_words', 'freq_true', source=source, fill_alpha=0.2, size=10, color=\"navy\")\n",
    "p.circle('range_words', 'freq_false', source=source, fill_alpha=0.2, size=10, color='red')\n",
    "p.xaxis.major_label_orientation = np.pi/4  \n",
    "\n",
    "show(p)"
   ]
  },
  {
   "cell_type": "code",
   "execution_count": 12,
   "metadata": {
    "collapsed": false
   },
   "outputs": [
    {
     "data": {
      "text/html": [
       "\n",
       "\n",
       "    <div class=\"bk-root\">\n",
       "        <div class=\"plotdiv\" id=\"4b24945b-2632-417e-8205-bef2a2acc66e\"></div>\n",
       "    </div>\n",
       "<script type=\"text/javascript\">\n",
       "  \n",
       "  (function(global) {\n",
       "    function now() {\n",
       "      return new Date();\n",
       "    }\n",
       "  \n",
       "    if (typeof (window._bokeh_onload_callbacks) === \"undefined\") {\n",
       "      window._bokeh_onload_callbacks = [];\n",
       "    }\n",
       "  \n",
       "    function run_callbacks() {\n",
       "      window._bokeh_onload_callbacks.forEach(function(callback) { callback() });\n",
       "      delete window._bokeh_onload_callbacks\n",
       "      console.info(\"Bokeh: all callbacks have finished\");\n",
       "    }\n",
       "  \n",
       "    function load_libs(js_urls, callback) {\n",
       "      window._bokeh_onload_callbacks.push(callback);\n",
       "      if (window._bokeh_is_loading > 0) {\n",
       "        console.log(\"Bokeh: BokehJS is being loaded, scheduling callback at\", now());\n",
       "        return null;\n",
       "      }\n",
       "      if (js_urls == null || js_urls.length === 0) {\n",
       "        run_callbacks();\n",
       "        return null;\n",
       "      }\n",
       "      console.log(\"Bokeh: BokehJS not loaded, scheduling load and callback at\", now());\n",
       "      window._bokeh_is_loading = js_urls.length;\n",
       "      for (var i = 0; i < js_urls.length; i++) {\n",
       "        var url = js_urls[i];\n",
       "        var s = document.createElement('script');\n",
       "        s.src = url;\n",
       "        s.async = false;\n",
       "        s.onreadystatechange = s.onload = function() {\n",
       "          window._bokeh_is_loading--;\n",
       "          if (window._bokeh_is_loading === 0) {\n",
       "            console.log(\"Bokeh: all BokehJS libraries loaded\");\n",
       "            run_callbacks()\n",
       "          }\n",
       "        };\n",
       "        s.onerror = function() {\n",
       "          console.warn(\"failed to load library \" + url);\n",
       "        };\n",
       "        console.log(\"Bokeh: injecting script tag for BokehJS library: \", url);\n",
       "        document.getElementsByTagName(\"head\")[0].appendChild(s);\n",
       "      }\n",
       "    };var element = document.getElementById(\"4b24945b-2632-417e-8205-bef2a2acc66e\");\n",
       "    if (element == null) {\n",
       "      console.log(\"Bokeh: ERROR: autoload.js configured with elementid '4b24945b-2632-417e-8205-bef2a2acc66e' but no matching script tag was found. \")\n",
       "      return false;\n",
       "    }\n",
       "  \n",
       "    var js_urls = [];\n",
       "  \n",
       "    var inline_js = [\n",
       "      function(Bokeh) {\n",
       "        Bokeh.$(function() {\n",
       "            var docs_json = {\"274a33e8-225a-44b7-8445-d91927f06b8b\":{\"roots\":{\"references\":[{\"attributes\":{\"plot\":{\"id\":\"4b8d9e7b-63e4-4412-b83e-d82025c41ce6\",\"subtype\":\"Figure\",\"type\":\"Plot\"},\"ticker\":{\"id\":\"edd49798-1f0b-4bee-aeb3-56762ebacecb\",\"type\":\"BasicTicker\"}},\"id\":\"3b5e4f85-a18c-4fed-adc7-d10e2aaf0e32\",\"type\":\"Grid\"},{\"attributes\":{\"bottom\":{\"value\":0},\"fill_alpha\":{\"value\":0.1},\"fill_color\":{\"value\":\"#1f77b4\"},\"left\":{\"field\":\"left\"},\"line_alpha\":{\"value\":0.1},\"line_color\":{\"value\":\"#1f77b4\"},\"right\":{\"field\":\"right\"},\"top\":{\"field\":\"top\"}},\"id\":\"1876d1c8-9bc0-42b1-9578-5d1a6c083388\",\"type\":\"Quad\"},{\"attributes\":{\"below\":[{\"id\":\"6bc85ae8-326f-4533-a40f-4840f9a344cc\",\"type\":\"LinearAxis\"}],\"left\":[{\"id\":\"5685773b-f490-4df1-9f1b-f7ce47af096c\",\"type\":\"LinearAxis\"}],\"renderers\":[{\"id\":\"6bc85ae8-326f-4533-a40f-4840f9a344cc\",\"type\":\"LinearAxis\"},{\"id\":\"3b5e4f85-a18c-4fed-adc7-d10e2aaf0e32\",\"type\":\"Grid\"},{\"id\":\"5685773b-f490-4df1-9f1b-f7ce47af096c\",\"type\":\"LinearAxis\"},{\"id\":\"ba9d6c38-efc8-4f20-85d4-d6b25d8e5429\",\"type\":\"Grid\"},{\"id\":\"8ec11336-aa7f-4086-8006-cb1d9d57de3e\",\"type\":\"BoxAnnotation\"},{\"id\":\"1b0ec5da-608f-41f6-a135-9ee643ee8c70\",\"type\":\"GlyphRenderer\"},{\"id\":\"4e713dda-22a7-41de-a565-fc318b7bc978\",\"type\":\"GlyphRenderer\"},{\"id\":\"772916a5-9da7-4ac1-a3b1-309e3eec290d\",\"type\":\"Legend\"},{\"id\":\"205e7059-8b33-4105-908a-8baec08bed78\",\"type\":\"GlyphRenderer\"},{\"id\":\"d629b148-e029-410d-9d29-b1e721556ee6\",\"type\":\"GlyphRenderer\"}],\"title\":{\"id\":\"10d9a650-f4b5-4bfc-a527-1c121aa61967\",\"type\":\"Title\"},\"tool_events\":{\"id\":\"c9bc2ddc-c016-4c63-9c20-dad38a12c154\",\"type\":\"ToolEvents\"},\"toolbar\":{\"id\":\"4dd5cd75-b089-49fe-a394-fc9cccf71ef2\",\"type\":\"Toolbar\"},\"x_range\":{\"id\":\"9755be7b-ac40-4e63-adb4-b06f46dd4b8f\",\"type\":\"DataRange1d\"},\"y_range\":{\"id\":\"05356dd5-0fcd-4662-9ddb-14c7582724f1\",\"type\":\"DataRange1d\"}},\"id\":\"4b8d9e7b-63e4-4412-b83e-d82025c41ce6\",\"subtype\":\"Figure\",\"type\":\"Plot\"},{\"attributes\":{\"dimension\":1,\"plot\":{\"id\":\"4b8d9e7b-63e4-4412-b83e-d82025c41ce6\",\"subtype\":\"Figure\",\"type\":\"Plot\"},\"ticker\":{\"id\":\"5dc97bad-d3c0-44fd-965f-2d19d4e69e2a\",\"type\":\"BasicTicker\"}},\"id\":\"ba9d6c38-efc8-4f20-85d4-d6b25d8e5429\",\"type\":\"Grid\"},{\"attributes\":{\"active_drag\":\"auto\",\"active_scroll\":\"auto\",\"active_tap\":\"auto\",\"tools\":[{\"id\":\"432a4dd4-5e0f-494b-bc9d-904468601713\",\"type\":\"PanTool\"},{\"id\":\"9014518c-d8f8-4397-8324-3019dd200647\",\"type\":\"WheelZoomTool\"},{\"id\":\"6d4493fe-b734-46bd-91de-d95b5094e530\",\"type\":\"BoxZoomTool\"},{\"id\":\"f0a770d8-5334-4106-a2f1-9642796ea9e9\",\"type\":\"SaveTool\"},{\"id\":\"444878ce-8a73-42a7-8188-39d86e9b82ab\",\"type\":\"ResetTool\"},{\"id\":\"7766bf1e-1cfd-4a13-9c93-d42779ae486d\",\"type\":\"HelpTool\"}]},\"id\":\"4dd5cd75-b089-49fe-a394-fc9cccf71ef2\",\"type\":\"Toolbar\"},{\"attributes\":{\"plot\":{\"id\":\"4b8d9e7b-63e4-4412-b83e-d82025c41ce6\",\"subtype\":\"Figure\",\"type\":\"Plot\"}},\"id\":\"432a4dd4-5e0f-494b-bc9d-904468601713\",\"type\":\"PanTool\"},{\"attributes\":{\"plot\":null,\"text\":\"\"},\"id\":\"10d9a650-f4b5-4bfc-a527-1c121aa61967\",\"type\":\"Title\"},{\"attributes\":{\"legends\":[[\"PDF\",[{\"id\":\"205e7059-8b33-4105-908a-8baec08bed78\",\"type\":\"GlyphRenderer\"},{\"id\":\"d629b148-e029-410d-9d29-b1e721556ee6\",\"type\":\"GlyphRenderer\"}]]],\"plot\":{\"id\":\"4b8d9e7b-63e4-4412-b83e-d82025c41ce6\",\"subtype\":\"Figure\",\"type\":\"Plot\"}},\"id\":\"772916a5-9da7-4ac1-a3b1-309e3eec290d\",\"type\":\"Legend\"},{\"attributes\":{\"callback\":null,\"column_names\":[\"right\",\"top\",\"left\"],\"data\":{\"left\":[6.0,13.95,21.9,29.85,37.8,45.75,53.7,61.65,69.6,77.55,85.5,93.45,101.4,109.35000000000001,117.3,125.25,133.2,141.15,149.1,157.05],\"right\":[13.95,21.9,29.85,37.8,45.75,53.7,61.65,69.6,77.55,85.5,93.45,101.4,109.35000000000001,117.3,125.25,133.2,141.15,149.1,157.05,165.0],\"top\":[0.0016352201257861635,0.002264150943396227,0.0021383647798742128,0.0023899371069182403,0.004025157232704401,0.004402515723270438,0.005157232704402518,0.0069182389937106955,0.00943396226415094,0.0064150943396226396,0.009937106918238991,0.010566037735849052,0.009811320754716977,0.01635220125786166,0.016603773584905654,0.01094339622641511,0.00654088050314464,0.00012578616352201274,0.0,0.00012578616352201274]}},\"id\":\"5ecb0df1-d5f0-4ed4-9034-13c4e65a4d5f\",\"type\":\"ColumnDataSource\"},{\"attributes\":{\"line_alpha\":{\"value\":0.1},\"line_color\":{\"value\":\"#1f77b4\"},\"line_width\":{\"value\":6},\"x\":{\"field\":\"x\"},\"y\":{\"field\":\"y\"}},\"id\":\"1f855083-1f05-4af9-9436-ddd8ea0bde55\",\"type\":\"Line\"},{\"attributes\":{\"plot\":{\"id\":\"4b8d9e7b-63e4-4412-b83e-d82025c41ce6\",\"subtype\":\"Figure\",\"type\":\"Plot\"}},\"id\":\"f0a770d8-5334-4106-a2f1-9642796ea9e9\",\"type\":\"SaveTool\"},{\"attributes\":{\"data_source\":{\"id\":\"b72bda12-3787-403f-9a3f-0334b845cafb\",\"type\":\"ColumnDataSource\"},\"glyph\":{\"id\":\"8b739191-79d5-4533-abba-54cb4b0c165d\",\"type\":\"Line\"},\"hover_glyph\":null,\"nonselection_glyph\":{\"id\":\"1f855083-1f05-4af9-9436-ddd8ea0bde55\",\"type\":\"Line\"},\"selection_glyph\":null},\"id\":\"d629b148-e029-410d-9d29-b1e721556ee6\",\"type\":\"GlyphRenderer\"},{\"attributes\":{\"callback\":null,\"column_names\":[\"right\",\"top\",\"left\"],\"data\":{\"left\":[5.0,11.95,18.9,25.85,32.8,39.75,46.7,53.65,60.6,67.55000000000001,74.5,81.45,88.4,95.35000000000001,102.3,109.25,116.2,123.15,130.10000000000002,137.05],\"right\":[11.95,18.9,25.85,32.8,39.75,46.7,53.65,60.6,67.55000000000001,74.5,81.45,88.4,95.35000000000001,102.3,109.25,116.2,123.15,130.10000000000002,137.05,144.0],\"top\":[0.0025899280575539573,0.005755395683453238,0.005467625899280574,0.005467625899280579,0.00820143884892086,0.006906474820143882,0.00705035971223022,0.006906474820143882,0.008345323741007181,0.005899280575539578,0.006330935251798558,0.006762589928057551,0.007194244604316544,0.007194244604316559,0.008633093525179852,0.010359712230215824,0.011942446043165463,0.006618705035971207,0.011366906474820162,0.00489208633093526]}},\"id\":\"ebf6abcc-ffb2-4f7a-ab94-2c5a274c1a10\",\"type\":\"ColumnDataSource\"},{\"attributes\":{\"line_alpha\":{\"value\":0.1},\"line_color\":{\"value\":\"#1f77b4\"},\"line_width\":{\"value\":6},\"x\":{\"field\":\"x\"},\"y\":{\"field\":\"y\"}},\"id\":\"a1ca1c81-2a02-468e-bd30-c680c4cf2d81\",\"type\":\"Line\"},{\"attributes\":{\"callback\":null},\"id\":\"9755be7b-ac40-4e63-adb4-b06f46dd4b8f\",\"type\":\"DataRange1d\"},{\"attributes\":{\"overlay\":{\"id\":\"8ec11336-aa7f-4086-8006-cb1d9d57de3e\",\"type\":\"BoxAnnotation\"},\"plot\":{\"id\":\"4b8d9e7b-63e4-4412-b83e-d82025c41ce6\",\"subtype\":\"Figure\",\"type\":\"Plot\"}},\"id\":\"6d4493fe-b734-46bd-91de-d95b5094e530\",\"type\":\"BoxZoomTool\"},{\"attributes\":{\"callback\":null},\"id\":\"05356dd5-0fcd-4662-9ddb-14c7582724f1\",\"type\":\"DataRange1d\"},{\"attributes\":{\"callback\":null,\"column_names\":[\"y\",\"x\"],\"data\":{\"x\":[5,5,5,5,7,8,8,8,9,9,10,11,11,11,11,11,11,11,12,12,12,12,12,12,12,13,13,13,13,13,13,13,13,13,14,14,14,14,14,14,14,15,15,15,16,16,16,16,17,17,17,17,17,17,18,18,18,18,19,19,19,19,19,19,20,20,20,20,21,21,22,22,22,22,23,23,23,23,23,23,24,24,24,24,24,25,25,25,25,25,25,25,25,25,25,25,26,26,26,26,26,26,27,27,27,27,27,27,27,27,28,28,28,28,29,29,29,29,30,30,30,30,30,30,31,31,31,31,31,31,31,31,32,32,33,33,33,33,33,33,33,33,34,34,34,34,34,34,34,34,35,35,35,35,35,35,35,35,35,35,35,36,36,36,36,36,36,36,37,37,37,37,37,37,37,37,37,38,38,38,38,38,38,38,39,39,39,39,39,39,39,40,40,40,40,40,41,41,41,42,42,42,42,42,42,42,42,43,43,43,43,43,43,44,44,44,44,44,44,44,44,44,45,45,45,45,45,45,45,45,45,45,45,46,46,46,46,46,46,47,47,47,47,47,47,47,47,47,47,47,48,48,48,48,48,48,48,48,49,49,49,49,49,49,50,50,50,51,51,51,51,51,51,51,52,52,52,52,52,52,52,52,53,53,53,53,53,53,54,54,54,54,54,54,54,54,55,55,55,55,55,55,55,55,55,55,56,56,56,56,56,56,56,56,56,56,56,57,57,58,58,58,58,58,58,58,59,59,59,59,59,60,60,60,60,60,61,61,61,61,61,61,61,61,61,61,62,62,62,62,62,62,63,63,63,63,63,63,63,63,63,63,64,65,65,65,65,65,65,65,65,65,65,65,65,66,66,66,66,66,66,66,66,66,67,67,67,67,67,67,67,67,67,67,68,68,68,68,68,68,68,69,69,69,70,70,70,71,71,71,71,71,71,71,71,72,72,72,72,72,72,73,73,73,73,73,73,73,74,74,74,74,74,74,74,75,75,75,75,75,75,75,75,75,76,76,76,77,77,77,77,77,77,77,77,78,78,78,78,78,78,78,78,78,79,79,79,80,80,80,80,80,80,80,80,81,81,81,81,82,82,82,82,83,83,83,83,83,83,84,84,84,85,85,85,85,85,85,85,85,85,85,85,85,85,86,86,86,86,86,87,87,87,87,87,87,87,87,87,88,88,88,88,88,88,88,89,89,89,89,89,89,89,89,90,90,90,90,91,91,91,91,91,91,91,91,91,92,92,92,92,92,92,92,92,93,93,93,93,94,94,94,94,94,94,94,95,95,95,95,95,95,95,95,95,95,96,96,96,96,96,96,97,97,97,97,97,97,97,97,98,98,98,99,99,99,99,99,99,100,100,100,100,100,100,100,100,101,101,101,101,101,101,101,101,101,102,102,102,102,102,102,102,102,102,102,103,103,103,103,103,103,103,104,104,104,104,104,104,105,105,105,105,105,105,106,106,106,106,106,106,106,106,106,106,106,107,107,107,107,107,107,107,107,107,108,108,108,108,108,108,108,108,108,108,108,109,109,109,109,109,109,109,109,109,109,110,110,110,110,110,111,111,111,111,111,111,112,112,112,112,112,112,112,112,112,112,112,113,113,113,113,113,113,113,113,113,113,113,113,113,114,114,114,114,114,114,114,114,114,114,115,115,115,115,115,115,115,115,115,115,115,115,115,115,116,116,116,116,116,116,116,116,116,116,116,116,116,117,117,117,117,117,117,117,117,117,117,117,118,118,118,118,118,118,118,118,118,118,119,119,119,119,119,119,119,119,119,119,119,119,119,119,119,120,120,120,120,120,120,120,121,121,121,121,121,121,121,121,121,121,121,121,122,122,122,122,122,122,122,122,122,122,122,122,122,122,122,122,122,122,122,122,122,122,123,123,123,123,123,123,124,124,124,124,124,124,124,124,125,125,125,125,125,126,126,126,126,126,127,127,127,127,127,127,127,128,128,128,128,129,129,129,129,129,129,129,129,130,130,130,130,130,130,130,130,130,131,131,131,131,131,131,131,131,131,131,131,131,131,131,131,131,131,131,132,132,132,132,132,132,132,132,132,132,132,132,132,132,133,133,133,133,133,133,133,133,133,133,133,133,133,134,134,134,134,134,134,135,135,135,135,135,135,135,135,135,135,135,135,136,136,136,136,136,136,137,137,137,137,137,137,137,137,137,137,138,138,138,138,138,138,138,138,138,138,138,139,139,139,139,139,139,139,139,139,139,139,140,140,140,140,140,140,140,140,140,140,141,144],\"y\":[0.0014618887652501974,0.0014618887652501974,0.0014618887652501974,0.0014618887652501974,0.0016177426135336212,0.0017000769680762232,0.0017000769680762232,0.0017000769680762232,0.0017853997999497373,0.0017853997999497373,0.001873743414976812,0.0019651354818486897,0.0019651354818486897,0.0019651354818486897,0.0019651354818486897,0.0019651354818486897,0.0019651354818486897,0.0019651354818486897,0.00205959872645945,0.00205959872645945,0.00205959872645945,0.00205959872645945,0.00205959872645945,0.00205959872645945,0.00205959872645945,0.0021571506282538236,0.0021571506282538236,0.0021571506282538236,0.0021571506282538236,0.0021571506282538236,0.0021571506282538236,0.0021571506282538236,0.0021571506282538236,0.0021571506282538236,0.002257803119941539,0.002257803119941539,0.002257803119941539,0.002257803119941539,0.002257803119941539,0.002257803119941539,0.002257803119941539,0.0023615622919804756,0.0023615622919804756,0.0023615622919804756,0.0024684281032747385,0.0024684281032747385,0.0024684281032747385,0.0024684281032747385,0.0025783940995718637,0.0025783940995718637,0.0025783940995718637,0.0025783940995718637,0.0025783940995718637,0.0025783940995718637,0.002691447141074927,0.002691447141074927,0.002691447141074927,0.002691447141074927,0.002807567140810142,0.002807567140810142,0.002807567140810142,0.002807567140810142,0.002807567140810142,0.002807567140810142,0.0029267268153078596,0.0029267268153078596,0.0029267268153078596,0.0029267268153078596,0.0030488914491645512,0.0030488914491645512,0.0031740186750546986,0.0031740186750546986,0.0031740186750546986,0.0031740186750546986,0.0033020582707544337,0.0033020582707544337,0.0033020582707544337,0.0033020582707544337,0.0033020582707544337,0.0033020582707544337,0.0034329519747226703,0.0034329519747226703,0.0034329519747226703,0.0034329519747226703,0.0034329519747226703,0.003566633321760364,0.003566633321760364,0.003566633321760364,0.003566633321760364,0.003566633321760364,0.003566633321760364,0.003566633321760364,0.003566633321760364,0.003566633321760364,0.003566633321760364,0.003566633321760364,0.003703027500233894,0.003703027500233894,0.003703027500233894,0.003703027500233894,0.003703027500233894,0.003703027500233894,0.003842051232304509,0.003842051232304509,0.003842051232304509,0.003842051232304509,0.003842051232304509,0.003842051232304509,0.003842051232304509,0.003842051232304509,0.003983612678551996,0.003983612678551996,0.003983612678551996,0.003983612678551996,0.004127611368317249,0.004127611368317249,0.004127611368317249,0.004127611368317249,0.004273938157015285,0.004273938157015285,0.004273938157015285,0.004273938157015285,0.004273938157015285,0.004273938157015285,0.0044224752115874745,0.0044224752115874745,0.0044224752115874745,0.0044224752115874745,0.0044224752115874745,0.0044224752115874745,0.0044224752115874745,0.0044224752115874745,0.004573096025169577,0.004573096025169577,0.004725665461950692,0.004725665461950692,0.004725665461950692,0.004725665461950692,0.004725665461950692,0.004725665461950692,0.004725665461950692,0.004725665461950692,0.00488003983308795,0.00488003983308795,0.00488003983308795,0.00488003983308795,0.00488003983308795,0.00488003983308795,0.00488003983308795,0.00488003983308795,0.0050360670044227365,0.0050360670044227365,0.0050360670044227365,0.0050360670044227365,0.0050360670044227365,0.0050360670044227365,0.0050360670044227365,0.0050360670044227365,0.0050360670044227365,0.0050360670044227365,0.0050360670044227365,0.0051935865366173044,0.0051935865366173044,0.0051935865366173044,0.0051935865366173044,0.0051935865366173044,0.0051935865366173044,0.0051935865366173044,0.005352429858195839,0.005352429858195839,0.005352429858195839,0.005352429858195839,0.005352429858195839,0.005352429858195839,0.005352429858195839,0.005352429858195839,0.005352429858195839,0.005512420471832407,0.005512420471832407,0.005512420471832407,0.005512420471832407,0.005512420471832407,0.005512420471832407,0.005512420471832407,0.00567337419408006,0.00567337419408006,0.00567337419408006,0.00567337419408006,0.00567337419408006,0.00567337419408006,0.00567337419408006,0.005835099428581545,0.005835099428581545,0.005835099428581545,0.005835099428581545,0.005835099428581545,0.005997397472643357,0.005997397472643357,0.005997397472643357,0.006160062856892061,0.006160062856892061,0.006160062856892061,0.006160062856892061,0.006160062856892061,0.006160062856892061,0.006160062856892061,0.006160062856892061,0.0063228837175656645,0.0063228837175656645,0.0063228837175656645,0.0063228837175656645,0.0063228837175656645,0.0063228837175656645,0.006485642200824621,0.006485642200824621,0.006485642200824621,0.006485642200824621,0.006485642200824621,0.006485642200824621,0.006485642200824621,0.006485642200824621,0.006485642200824621,0.006648114898297244,0.006648114898297244,0.006648114898297244,0.006648114898297244,0.006648114898297244,0.006648114898297244,0.006648114898297244,0.006648114898297244,0.006648114898297244,0.006648114898297244,0.006648114898297244,0.006810073312904413,0.006810073312904413,0.006810073312904413,0.006810073312904413,0.006810073312904413,0.006810073312904413,0.006971284353839137,0.006971284353839137,0.006971284353839137,0.006971284353839137,0.006971284353839137,0.006971284353839137,0.006971284353839137,0.006971284353839137,0.006971284353839137,0.006971284353839137,0.006971284353839137,0.0071315108594090515,0.0071315108594090515,0.0071315108594090515,0.0071315108594090515,0.0071315108594090515,0.0071315108594090515,0.0071315108594090515,0.0071315108594090515,0.0072905121462852746,0.0072905121462852746,0.0072905121462852746,0.0072905121462852746,0.0072905121462852746,0.0072905121462852746,0.007448044583540273,0.007448044583540273,0.007448044583540273,0.007603862189701686,0.007603862189701686,0.007603862189701686,0.007603862189701686,0.007603862189701686,0.007603862189701686,0.007603862189701686,0.007757717250899344,0.007757717250899344,0.007757717250899344,0.007757717250899344,0.007757717250899344,0.007757717250899344,0.007757717250899344,0.007757717250899344,0.007909360958040183,0.007909360958040183,0.007909360958040183,0.007909360958040183,0.007909360958040183,0.007909360958040183,0.008058544060811338,0.008058544060811338,0.008058544060811338,0.008058544060811338,0.008058544060811338,0.008058544060811338,0.008058544060811338,0.008058544060811338,0.008205017536186446,0.008205017536186446,0.008205017536186446,0.008205017536186446,0.008205017536186446,0.008205017536186446,0.008205017536186446,0.008205017536186446,0.008205017536186446,0.008205017536186446,0.008348533268995019,0.008348533268995019,0.008348533268995019,0.008348533268995019,0.008348533268995019,0.008348533268995019,0.008348533268995019,0.008348533268995019,0.008348533268995019,0.008348533268995019,0.008348533268995019,0.008488844742010568,0.008488844742010568,0.008625707732920875,0.008625707732920875,0.008625707732920875,0.008625707732920875,0.008625707732920875,0.008625707732920875,0.008625707732920875,0.008758881015464102,0.008758881015464102,0.008758881015464102,0.008758881015464102,0.008758881015464102,0.00888812706194811,0.00888812706194811,0.00888812706194811,0.00888812706194811,0.00888812706194811,0.009013212744317966,0.009013212744317966,0.009013212744317966,0.009013212744317966,0.009013212744317966,0.009013212744317966,0.009013212744317966,0.009013212744317966,0.009013212744317966,0.009013212744317966,0.009133910030898824,0.009133910030898824,0.009133910030898824,0.009133910030898824,0.009133910030898824,0.009133910030898824,0.0092499966759185,0.0092499966759185,0.0092499966759185,0.0092499966759185,0.0092499966759185,0.0092499966759185,0.0092499966759185,0.0092499966759185,0.0092499966759185,0.0092499966759185,0.00936125689890653,0.009467482051074701,0.009467482051074701,0.009467482051074701,0.009467482051074701,0.009467482051074701,0.009467482051074701,0.009467482051074701,0.009467482051074701,0.009467482051074701,0.009467482051074701,0.009467482051074701,0.009467482051074701,0.009568471265807899,0.009568471265807899,0.009568471265807899,0.009568471265807899,0.009568471265807899,0.009568471265807899,0.009568471265807899,0.009568471265807899,0.009568471265807899,0.009664032090433844,0.009664032090433844,0.009664032090433844,0.009664032090433844,0.009664032090433844,0.009664032090433844,0.009664032090433844,0.009664032090433844,0.009664032090433844,0.009664032090433844,0.009753981096495909,0.009753981096495909,0.009753981096495909,0.009753981096495909,0.009753981096495909,0.009753981096495909,0.009753981096495909,0.009838144465824357,0.009838144465824357,0.009838144465824357,0.009916358549787903,0.009916358549787903,0.009916358549787903,0.009988470399209151,0.009988470399209151,0.009988470399209151,0.009988470399209151,0.009988470399209151,0.009988470399209151,0.009988470399209151,0.009988470399209151,0.010054338262543533,0.010054338262543533,0.010054338262543533,0.010054338262543533,0.010054338262543533,0.010054338262543533,0.010113832050051523,0.010113832050051523,0.010113832050051523,0.010113832050051523,0.010113832050051523,0.010113832050051523,0.010113832050051523,0.010166833761837267,0.010166833761837267,0.010166833761837267,0.010166833761837267,0.010166833761837267,0.010166833761837267,0.010166833761837267,0.010213237877782718,0.010213237877782718,0.010213237877782718,0.010213237877782718,0.010213237877782718,0.010213237877782718,0.010213237877782718,0.010213237877782718,0.010213237877782718,0.010252951707573914,0.010252951707573914,0.010252951707573914,0.01028589569919438,0.01028589569919438,0.01028589569919438,0.01028589569919438,0.01028589569919438,0.01028589569919438,0.01028589569919438,0.01028589569919438,0.010312003704448559,0.010312003704448559,0.010312003704448559,0.010312003704448559,0.010312003704448559,0.010312003704448559,0.010312003704448559,0.010312003704448559,0.010312003704448559,0.010331223200274912,0.010331223200274912,0.010331223200274912,0.010343515464812221,0.010343515464812221,0.010343515464812221,0.010343515464812221,0.010343515464812221,0.010343515464812221,0.010343515464812221,0.010343515464812221,0.010348855707393034,0.010348855707393034,0.010348855707393034,0.010348855707393034,0.010347233151853425,0.010347233151853425,0.010347233151853425,0.010347233151853425,0.010338651072767205,0.010338651072767205,0.010338651072767205,0.010338651072767205,0.010338651072767205,0.010338651072767205,0.010323126784434037,0.010323126784434037,0.010323126784434037,0.010300691582673317,0.010300691582673317,0.010300691582673317,0.010300691582673317,0.010300691582673317,0.010300691582673317,0.010300691582673317,0.010300691582673317,0.010300691582673317,0.010300691582673317,0.010300691582673317,0.010300691582673317,0.010300691582673317,0.010271390639697668,0.010271390639697668,0.010271390639697668,0.010271390639697668,0.010271390639697668,0.010235282852560356,0.010235282852560356,0.010235282852560356,0.010235282852560356,0.010235282852560356,0.010235282852560356,0.010235282852560356,0.010235282852560356,0.010235282852560356,0.010192440645888272,0.010192440645888272,0.010192440645888272,0.010192440645888272,0.010192440645888272,0.010192440645888272,0.010192440645888272,0.010142949729825318,0.010142949729825318,0.010142949729825318,0.010142949729825318,0.010142949729825318,0.010142949729825318,0.010142949729825318,0.010142949729825318,0.010086908814318474,0.010086908814318474,0.010086908814318474,0.010086908814318474,0.010024429281079635,0.010024429281079635,0.010024429281079635,0.010024429281079635,0.010024429281079635,0.010024429281079635,0.010024429281079635,0.010024429281079635,0.010024429281079635,0.009955634814749013,0.009955634814749013,0.009955634814749013,0.009955634814749013,0.009955634814749013,0.009955634814749013,0.009955634814749013,0.009955634814749013,0.009880660994969467,0.009880660994969467,0.009880660994969467,0.009880660994969467,0.009799654851254641,0.009799654851254641,0.009799654851254641,0.009799654851254641,0.009799654851254641,0.009799654851254641,0.009799654851254641,0.009712774382695967,0.009712774382695967,0.009712774382695967,0.009712774382695967,0.009712774382695967,0.009712774382695967,0.009712774382695967,0.009712774382695967,0.009712774382695967,0.009712774382695967,0.009620188044703826,0.009620188044703826,0.009620188044703826,0.009620188044703826,0.009620188044703826,0.009620188044703826,0.009522074205115418,0.009522074205115418,0.009522074205115418,0.009522074205115418,0.009522074205115418,0.009522074205115418,0.009522074205115418,0.009522074205115418,0.009418620572125615,0.009418620572125615,0.009418620572125615,0.00931002359660641,0.00931002359660641,0.00931002359660641,0.00931002359660641,0.00931002359660641,0.00931002359660641,0.009196487851475343,0.009196487851475343,0.009196487851475343,0.009196487851475343,0.009196487851475343,0.009196487851475343,0.009196487851475343,0.009196487851475343,0.00907822539085258,0.00907822539085258,0.00907822539085258,0.00907822539085258,0.00907822539085258,0.00907822539085258,0.00907822539085258,0.00907822539085258,0.00907822539085258,0.008955455091810423,0.008955455091810423,0.008955455091810423,0.008955455091810423,0.008955455091810423,0.008955455091810423,0.008955455091810423,0.008955455091810423,0.008955455091810423,0.008955455091810423,0.008828401981567084,0.008828401981567084,0.008828401981567084,0.008828401981567084,0.008828401981567084,0.008828401981567084,0.008828401981567084,0.00869729655300899,0.00869729655300899,0.00869729655300899,0.00869729655300899,0.00869729655300899,0.00869729655300899,0.008562374071442424,0.008562374071442424,0.008562374071442424,0.008562374071442424,0.008562374071442424,0.008562374071442424,0.008423873875476122,0.008423873875476122,0.008423873875476122,0.008423873875476122,0.008423873875476122,0.008423873875476122,0.008423873875476122,0.008423873875476122,0.008423873875476122,0.008423873875476122,0.008423873875476122,0.008282038674921725,0.008282038674921725,0.008282038674921725,0.008282038674921725,0.008282038674921725,0.008282038674921725,0.008282038674921725,0.008282038674921725,0.008282038674921725,0.00813711384856916,0.00813711384856916,0.00813711384856916,0.00813711384856916,0.00813711384856916,0.00813711384856916,0.00813711384856916,0.00813711384856916,0.00813711384856916,0.00813711384856916,0.00813711384856916,0.0079893467446493,0.0079893467446493,0.0079893467446493,0.0079893467446493,0.0079893467446493,0.0079893467446493,0.0079893467446493,0.0079893467446493,0.0079893467446493,0.0079893467446493,0.007838985986737343,0.007838985986737343,0.007838985986737343,0.007838985986737343,0.007838985986737343,0.0076862807877777,0.0076862807877777,0.0076862807877777,0.0076862807877777,0.0076862807877777,0.0076862807877777,0.007531480274825517,0.007531480274825517,0.007531480274825517,0.007531480274825517,0.007531480274825517,0.007531480274825517,0.007531480274825517,0.007531480274825517,0.007531480274825517,0.007531480274825517,0.007531480274825517,0.007374832827002012,0.007374832827002012,0.007374832827002012,0.007374832827002012,0.007374832827002012,0.007374832827002012,0.007374832827002012,0.007374832827002012,0.007374832827002012,0.007374832827002012,0.007374832827002012,0.007374832827002012,0.007374832827002012,0.007216585429051428,0.007216585429051428,0.007216585429051428,0.007216585429051428,0.007216585429051428,0.007216585429051428,0.007216585429051428,0.007216585429051428,0.007216585429051428,0.007216585429051428,0.007056983042767395,0.007056983042767395,0.007056983042767395,0.007056983042767395,0.007056983042767395,0.007056983042767395,0.007056983042767395,0.007056983042767395,0.007056983042767395,0.007056983042767395,0.007056983042767395,0.007056983042767395,0.007056983042767395,0.007056983042767395,0.006896267998426857,0.006896267998426857,0.006896267998426857,0.006896267998426857,0.006896267998426857,0.006896267998426857,0.006896267998426857,0.006896267998426857,0.006896267998426857,0.006896267998426857,0.006896267998426857,0.006896267998426857,0.006896267998426857,0.006734679408231404,0.006734679408231404,0.006734679408231404,0.006734679408231404,0.006734679408231404,0.006734679408231404,0.006734679408231404,0.006734679408231404,0.006734679408231404,0.006734679408231404,0.006734679408231404,0.006572452603609812,0.006572452603609812,0.006572452603609812,0.006572452603609812,0.006572452603609812,0.006572452603609812,0.006572452603609812,0.006572452603609812,0.006572452603609812,0.006572452603609812,0.006409818598082988,0.006409818598082988,0.006409818598082988,0.006409818598082988,0.006409818598082988,0.006409818598082988,0.006409818598082988,0.006409818598082988,0.006409818598082988,0.006409818598082988,0.006409818598082988,0.006409818598082988,0.006409818598082988,0.006409818598082988,0.006409818598082988,0.0062470035772343065,0.0062470035772343065,0.0062470035772343065,0.0062470035772343065,0.0062470035772343065,0.0062470035772343065,0.0062470035772343065,0.0060842284171655865,0.0060842284171655865,0.0060842284171655865,0.0060842284171655865,0.0060842284171655865,0.0060842284171655865,0.0060842284171655865,0.0060842284171655865,0.0060842284171655865,0.0060842284171655865,0.0060842284171655865,0.0060842284171655865,0.005921708232652902,0.005921708232652902,0.005921708232652902,0.005921708232652902,0.005921708232652902,0.005921708232652902,0.005921708232652902,0.005921708232652902,0.005921708232652902,0.005921708232652902,0.005921708232652902,0.005921708232652902,0.005921708232652902,0.005921708232652902,0.005921708232652902,0.005921708232652902,0.005921708232652902,0.005921708232652902,0.005921708232652902,0.005921708232652902,0.005921708232652902,0.005921708232652902,0.005759651956047893,0.005759651956047893,0.005759651956047893,0.005759651956047893,0.005759651956047893,0.005759651956047893,0.005598261947800553,0.005598261947800553,0.005598261947800553,0.005598261947800553,0.005598261947800553,0.005598261947800553,0.005598261947800553,0.005598261947800553,0.0054377336393094805,0.0054377336393094805,0.0054377336393094805,0.0054377336393094805,0.0054377336393094805,0.005278255208636431,0.005278255208636431,0.005278255208636431,0.005278255208636431,0.005278255208636431,0.005120007289454582,0.005120007289454582,0.005120007289454582,0.005120007289454582,0.005120007289454582,0.005120007289454582,0.005120007289454582,0.004963162713435292,0.004963162713435292,0.004963162713435292,0.004963162713435292,0.004807886286117095,0.004807886286117095,0.004807886286117095,0.004807886286117095,0.004807886286117095,0.004807886286117095,0.004807886286117095,0.004807886286117095,0.004654334596144113,0.004654334596144113,0.004654334596144113,0.004654334596144113,0.004654334596144113,0.004654334596144113,0.004654334596144113,0.004654334596144113,0.004654334596144113,0.004502655857609838,0.004502655857609838,0.004502655857609838,0.004502655857609838,0.004502655857609838,0.004502655857609838,0.004502655857609838,0.004502655857609838,0.004502655857609838,0.004502655857609838,0.004502655857609838,0.004502655857609838,0.004502655857609838,0.004502655857609838,0.004502655857609838,0.004502655857609838,0.004502655857609838,0.004502655857609838,0.004352989785097022,0.004352989785097022,0.004352989785097022,0.004352989785097022,0.004352989785097022,0.004352989785097022,0.004352989785097022,0.004352989785097022,0.004352989785097022,0.004352989785097022,0.004352989785097022,0.004352989785097022,0.004352989785097022,0.004352989785097022,0.004205467500865862,0.004205467500865862,0.004205467500865862,0.004205467500865862,0.004205467500865862,0.004205467500865862,0.004205467500865862,0.004205467500865862,0.004205467500865862,0.004205467500865862,0.004205467500865862,0.004205467500865862,0.004205467500865862,0.004060211473511516,0.004060211473511516,0.004060211473511516,0.004060211473511516,0.004060211473511516,0.004060211473511516,0.003917335487288624,0.003917335487288624,0.003917335487288624,0.003917335487288624,0.003917335487288624,0.003917335487288624,0.003917335487288624,0.003917335487288624,0.003917335487288624,0.003917335487288624,0.003917335487288624,0.003917335487288624,0.0037769446411855525,0.0037769446411855525,0.0037769446411855525,0.0037769446411855525,0.0037769446411855525,0.0037769446411855525,0.003639135376724802,0.003639135376724802,0.003639135376724802,0.003639135376724802,0.003639135376724802,0.003639135376724802,0.003639135376724802,0.003639135376724802,0.003639135376724802,0.003639135376724802,0.003503995533368909,0.003503995533368909,0.003503995533368909,0.003503995533368909,0.003503995533368909,0.003503995533368909,0.003503995533368909,0.003503995533368909,0.003503995533368909,0.003503995533368909,0.003503995533368909,0.003371604430323262,0.003371604430323262,0.003371604430323262,0.003371604430323262,0.003371604430323262,0.003371604430323262,0.003371604430323262,0.003371604430323262,0.003371604430323262,0.003371604430323262,0.003371604430323262,0.003242032973449058,0.003242032973449058,0.003242032973449058,0.003242032973449058,0.003242032973449058,0.003242032973449058,0.003242032973449058,0.003242032973449058,0.003242032973449058,0.003242032973449058,0.0031153437859308846,0.002753075189005994]}},\"id\":\"b72bda12-3787-403f-9a3f-0334b845cafb\",\"type\":\"ColumnDataSource\"},{\"attributes\":{\"line_alpha\":{\"value\":0.7},\"line_color\":{\"value\":\"red\"},\"line_width\":{\"value\":6},\"x\":{\"field\":\"x\"},\"y\":{\"field\":\"y\"}},\"id\":\"8b739191-79d5-4533-abba-54cb4b0c165d\",\"type\":\"Line\"},{\"attributes\":{\"plot\":{\"id\":\"4b8d9e7b-63e4-4412-b83e-d82025c41ce6\",\"subtype\":\"Figure\",\"type\":\"Plot\"}},\"id\":\"444878ce-8a73-42a7-8188-39d86e9b82ab\",\"type\":\"ResetTool\"},{\"attributes\":{\"line_alpha\":{\"value\":0.7},\"line_color\":{\"value\":\"navy\"},\"line_width\":{\"value\":6},\"x\":{\"field\":\"x\"},\"y\":{\"field\":\"y\"}},\"id\":\"78a8a359-ce27-4b58-b357-3d46e57e8feb\",\"type\":\"Line\"},{\"attributes\":{\"bottom_units\":\"screen\",\"fill_alpha\":{\"value\":0.5},\"fill_color\":{\"value\":\"lightgrey\"},\"left_units\":\"screen\",\"level\":\"overlay\",\"line_alpha\":{\"value\":1.0},\"line_color\":{\"value\":\"black\"},\"line_dash\":[4,4],\"line_width\":{\"value\":2},\"plot\":null,\"render_mode\":\"css\",\"right_units\":\"screen\",\"top_units\":\"screen\"},\"id\":\"8ec11336-aa7f-4086-8006-cb1d9d57de3e\",\"type\":\"BoxAnnotation\"},{\"attributes\":{\"data_source\":{\"id\":\"85470015-b9be-432d-af62-f883193e30bf\",\"type\":\"ColumnDataSource\"},\"glyph\":{\"id\":\"78a8a359-ce27-4b58-b357-3d46e57e8feb\",\"type\":\"Line\"},\"hover_glyph\":null,\"nonselection_glyph\":{\"id\":\"a1ca1c81-2a02-468e-bd30-c680c4cf2d81\",\"type\":\"Line\"},\"selection_glyph\":null},\"id\":\"205e7059-8b33-4105-908a-8baec08bed78\",\"type\":\"GlyphRenderer\"},{\"attributes\":{},\"id\":\"c9bc2ddc-c016-4c63-9c20-dad38a12c154\",\"type\":\"ToolEvents\"},{\"attributes\":{\"bottom\":{\"value\":0},\"fill_alpha\":{\"value\":0.1},\"fill_color\":{\"value\":\"#1f77b4\"},\"left\":{\"field\":\"left\"},\"line_alpha\":{\"value\":0.1},\"line_color\":{\"value\":\"#1f77b4\"},\"right\":{\"field\":\"right\"},\"top\":{\"field\":\"top\"}},\"id\":\"8931ca43-5f67-4349-8f9d-2ff166f0919e\",\"type\":\"Quad\"},{\"attributes\":{\"data_source\":{\"id\":\"5ecb0df1-d5f0-4ed4-9034-13c4e65a4d5f\",\"type\":\"ColumnDataSource\"},\"glyph\":{\"id\":\"d09c1f0d-6af9-439c-9987-61f19c8d50f8\",\"type\":\"Quad\"},\"hover_glyph\":null,\"nonselection_glyph\":{\"id\":\"8931ca43-5f67-4349-8f9d-2ff166f0919e\",\"type\":\"Quad\"},\"selection_glyph\":null},\"id\":\"1b0ec5da-608f-41f6-a135-9ee643ee8c70\",\"type\":\"GlyphRenderer\"},{\"attributes\":{},\"id\":\"ac76a34f-0543-4205-b564-2bab6e97bd82\",\"type\":\"BasicTickFormatter\"},{\"attributes\":{\"callback\":null,\"column_names\":[\"y\",\"x\"],\"data\":{\"x\":[6,8,10,11,11,12,12,12,12,12,12,13,13,14,14,14,14,14,15,16,16,16,16,17,17,17,19,19,19,21,21,22,22,23,24,25,26,26,27,27,27,28,28,28,28,29,29,29,30,30,31,31,32,33,34,34,34,34,35,36,36,36,37,37,37,37,37,38,38,39,39,39,39,39,39,39,40,40,40,40,40,41,41,41,41,41,42,42,42,42,42,43,43,44,44,45,45,45,45,46,46,46,46,46,47,47,47,47,47,48,48,48,48,48,48,48,49,49,49,49,49,49,49,50,50,50,51,52,52,52,52,53,53,53,54,54,54,54,55,55,55,55,55,55,55,55,56,56,56,56,56,56,56,56,56,57,57,57,58,58,59,60,60,60,60,60,60,60,60,60,60,61,61,61,61,62,62,62,62,62,63,63,63,63,64,64,64,64,64,64,64,64,64,64,65,65,65,65,65,65,66,66,66,66,66,66,66,66,66,67,67,67,67,68,68,68,68,68,68,69,69,69,69,69,69,69,69,69,69,69,70,70,70,70,70,70,70,70,70,70,71,71,71,71,71,71,71,71,71,71,71,72,72,72,72,72,72,72,72,72,72,73,73,73,73,73,73,73,74,74,74,74,74,74,75,75,75,75,75,75,75,75,75,75,75,75,75,75,75,75,76,76,76,76,76,76,76,76,77,77,77,77,77,77,77,78,78,78,78,78,79,79,79,79,79,79,79,80,80,80,80,80,80,80,81,81,81,82,82,82,82,82,82,82,82,83,83,83,83,83,83,83,83,83,84,84,84,84,84,85,85,85,85,85,85,85,86,86,86,86,86,86,87,87,87,87,87,87,87,88,88,88,88,88,88,88,88,88,88,88,88,88,88,88,88,89,89,89,89,89,89,89,89,90,90,90,90,90,90,90,90,90,90,90,90,90,90,90,90,91,91,91,91,91,91,92,92,92,92,92,92,92,92,92,92,92,93,93,93,93,93,93,93,93,93,94,94,94,94,94,94,94,94,94,94,94,94,94,95,95,95,95,95,95,96,96,96,96,96,97,97,97,97,97,97,97,97,97,97,97,97,97,97,98,98,98,98,98,98,98,98,98,98,98,98,98,98,98,98,98,98,99,99,99,99,99,100,100,100,100,100,100,100,100,100,100,100,100,101,101,101,101,101,101,101,101,101,101,101,102,102,102,102,102,102,102,102,102,102,103,103,103,103,103,103,103,103,103,104,104,104,104,104,104,104,104,104,104,104,104,104,104,104,105,105,105,105,105,105,105,106,106,106,106,106,106,106,106,106,106,106,106,107,107,107,107,107,107,107,108,108,108,108,108,108,108,108,109,109,109,109,109,109,109,109,109,109,110,110,110,110,110,110,110,110,110,110,110,110,110,110,110,110,110,110,110,110,110,110,111,111,111,111,111,111,111,111,111,111,111,111,111,111,111,111,111,112,112,112,112,112,112,112,112,112,112,112,112,112,112,112,112,112,112,112,113,113,113,113,113,113,113,113,113,113,113,113,113,113,114,114,114,114,114,114,114,114,114,114,114,114,114,114,114,114,114,114,114,115,115,115,115,115,115,115,115,115,115,115,115,115,115,115,116,116,116,116,116,116,116,116,116,116,116,116,116,117,117,117,117,117,117,117,117,117,117,117,118,118,118,118,118,118,118,118,118,118,118,118,118,118,118,118,118,118,118,118,118,119,119,119,119,119,119,119,119,119,119,119,119,119,119,119,119,119,119,119,120,120,120,120,120,120,120,120,120,120,120,120,120,120,120,120,120,120,120,120,120,120,121,121,121,121,121,121,121,121,121,121,121,121,121,121,121,121,122,122,122,122,122,122,122,122,122,122,122,122,122,122,122,122,122,122,122,122,122,122,122,122,123,123,123,123,123,123,123,123,123,123,124,124,124,124,124,124,124,124,124,125,125,125,125,125,125,125,125,125,125,125,126,126,126,126,126,126,126,126,126,126,126,126,126,127,127,127,127,127,127,127,127,127,128,128,128,128,128,128,128,129,129,129,129,130,130,130,130,130,130,130,130,130,130,130,130,130,130,130,130,131,131,131,131,131,131,131,131,131,131,131,131,131,132,132,132,132,132,132,132,132,132,132,132,132,132,132,133,133,133,133,133,133,133,133,133,133,133,134,134,134,134,134,134,134,134,134,134,134,134,134,134,134,135,135,135,135,135,136,136,136,136,137,137,137,137,137,137,137,137,137,137,137,137,138,138,138,138,138,138,138,139,139,139,139,139,140,140,140,140,142,165],\"y\":[0.00029800583938421166,0.0003531582250947239,0.0004168695013177598,0.0004522440520024083,0.0004522440520024083,0.0004901366363214776,0.0004901366363214776,0.0004901366363214776,0.0004901366363214776,0.0004901366363214776,0.0004901366363214776,0.0005306803780402704,0.0005306803780402704,0.0005740113173848584,0.0005740113173848584,0.0005740113173848584,0.0005740113173848584,0.0005740113173848584,0.0006202680938953062,0.0006695915898962449,0.0006695915898962449,0.0006695915898962449,0.0006695915898962449,0.0007221245335637515,0.0007221245335637515,0.0007221245335637515,0.0008373962351538798,0.0008373962351538798,0.0008373962351538798,0.0009672442439752697,0.0009672442439752697,0.001037996934974998,0.001037996934974998,0.0011128267324575709,0.001191874669414828,0.001275278951071356,0.001363174189995699,0.001363174189995699,0.001455690605627651,0.001455690605627651,0.001455690605627651,0.0015529531906294674,0.0015529531906294674,0.0015529531906294674,0.0015529531906294674,0.0016550808468727028,0.0016550808468727028,0.0016550808468727028,0.0017621854942809982,0.0017621854942809982,0.001874371156159382,0.001874371156159382,0.0019917330250486453,0.00211435651354529,0.002242316294919449,0.002242316294919449,0.002242316294919449,0.002242316294919449,0.0023756753387405914,0.0025144839470796687,0.0025144839470796687,0.0025144839470796687,0.0026587787971919553,0.0026587787971919553,0.0026587787971919553,0.0026587787971919553,0.0026587787971919553,0.00280858199689283,0.00280858199689283,0.0029639001591146613,0.0029639001591146613,0.0029639001591146613,0.0029639001591146613,0.0029639001591146613,0.0029639001591146613,0.0029639001591146613,0.0031247235023723692,0.0031247235023723692,0.0031247235023723692,0.0031247235023723692,0.0031247235023723692,0.003291024984063825,0.003291024984063825,0.003291024984063825,0.003291024984063825,0.003291024984063825,0.003462759473684942,0.003462759473684942,0.003462759473684942,0.003462759473684942,0.003462759473684942,0.0036398629731441276,0.0036398629731441276,0.003822251891413215,0.003822251891413215,0.004009822380748547,0.004009822380748547,0.004009822380748547,0.004009822380748547,0.004202449741653925,0.004202449741653925,0.004202449741653925,0.004202449741653925,0.004202449741653925,0.004399987903633938,0.004399987903633938,0.004399987903633938,0.004399987903633938,0.004399987903633938,0.004602268988599972,0.004602268988599972,0.004602268988599972,0.004602268988599972,0.004602268988599972,0.004602268988599972,0.004602268988599972,0.004809102963540411,0.004809102963540411,0.004809102963540411,0.004809102963540411,0.004809102963540411,0.004809102963540411,0.004809102963540411,0.005020277388750367,0.005020277388750367,0.005020277388750367,0.005235557267534497,0.005454685002849491,0.005454685002849491,0.005454685002849491,0.005454685002849491,0.005677380465841659,0.005677380465841659,0.005677380465841659,0.005903341180661652,0.005903341180661652,0.005903341180661652,0.005903341180661652,0.0061322426293049835,0.0061322426293049835,0.0061322426293049835,0.0061322426293049835,0.0061322426293049835,0.0061322426293049835,0.0061322426293049835,0.0061322426293049835,0.006363738679537209,0.006363738679537209,0.006363738679537209,0.006363738679537209,0.006363738679537209,0.006363738679537209,0.006363738679537209,0.006363738679537209,0.006363738679537209,0.006597462138219777,0.006597462138219777,0.006597462138219777,0.006833025431561899,0.006833025431561899,0.007070021412989902,0.007308024298454946,0.007308024298454946,0.007308024298454946,0.007308024298454946,0.007308024298454946,0.007308024298454946,0.007308024298454946,0.007308024298454946,0.007308024298454946,0.007308024298454946,0.007546590728098589,0.007546590728098589,0.007546590728098589,0.007546590728098589,0.007785260952271053,0.007785260952271053,0.007785260952271053,0.007785260952271053,0.007785260952271053,0.008023560138956245,0.008023560138956245,0.008023560138956245,0.008023560138956245,0.008260999798708863,0.008260999798708863,0.008260999798708863,0.008260999798708863,0.008260999798708863,0.008260999798708863,0.008260999798708863,0.008260999798708863,0.008260999798708863,0.008260999798708863,0.008497079322260388,0.008497079322260388,0.008497079322260388,0.008497079322260388,0.008497079322260388,0.008497079322260388,0.008731287625011016,0.008731287625011016,0.008731287625011016,0.008731287625011016,0.008731287625011016,0.008731287625011016,0.008731287625011016,0.008731287625011016,0.008731287625011016,0.008963104891702373,0.008963104891702373,0.008963104891702373,0.008963104891702373,0.009192004413670065,0.009192004413670065,0.009192004413670065,0.009192004413670065,0.009192004413670065,0.009192004413670065,0.009417454510214305,0.009417454510214305,0.009417454510214305,0.009417454510214305,0.009417454510214305,0.009417454510214305,0.009417454510214305,0.009417454510214305,0.009417454510214305,0.009417454510214305,0.009417454510214305,0.009638920524810189,0.009638920524810189,0.009638920524810189,0.009638920524810189,0.009638920524810189,0.009638920524810189,0.009638920524810189,0.009638920524810189,0.009638920524810189,0.009638920524810189,0.009855866886114754,0.009855866886114754,0.009855866886114754,0.009855866886114754,0.009855866886114754,0.009855866886114754,0.009855866886114754,0.009855866886114754,0.009855866886114754,0.009855866886114754,0.009855866886114754,0.010067759223024228,0.010067759223024228,0.010067759223024228,0.010067759223024228,0.010067759223024228,0.010067759223024228,0.010067759223024228,0.010067759223024228,0.010067759223024228,0.010067759223024228,0.010274066522399667,0.010274066522399667,0.010274066522399667,0.010274066522399667,0.010274066522399667,0.010274066522399667,0.010274066522399667,0.010474263317519704,0.010474263317519704,0.010474263317519704,0.010474263317519704,0.010474263317519704,0.010474263317519704,0.010667831894842352,0.010667831894842352,0.010667831894842352,0.010667831894842352,0.010667831894842352,0.010667831894842352,0.010667831894842352,0.010667831894842352,0.010667831894842352,0.010667831894842352,0.010667831894842352,0.010667831894842352,0.010667831894842352,0.010667831894842352,0.010667831894842352,0.010667831894842352,0.010854264506269575,0.010854264506269575,0.010854264506269575,0.010854264506269575,0.010854264506269575,0.010854264506269575,0.010854264506269575,0.010854264506269575,0.011033065573814206,0.011033065573814206,0.011033065573814206,0.011033065573814206,0.011033065573814206,0.011033065573814206,0.011033065573814206,0.01120375387337317,0.01120375387337317,0.01120375387337317,0.01120375387337317,0.01120375387337317,0.011365864684217408,0.011365864684217408,0.011365864684217408,0.011365864684217408,0.011365864684217408,0.011365864684217408,0.011365864684217408,0.011518951890820283,0.011518951890820283,0.011518951890820283,0.011518951890820283,0.011518951890820283,0.011518951890820283,0.011518951890820283,0.011662590023763962,0.011662590023763962,0.011662590023763962,0.01179637622668826,0.01179637622668826,0.01179637622668826,0.01179637622668826,0.01179637622668826,0.01179637622668826,0.01179637622668826,0.01179637622668826,0.011919932136578071,0.011919932136578071,0.011919932136578071,0.011919932136578071,0.011919932136578071,0.011919932136578071,0.011919932136578071,0.011919932136578071,0.011919932136578071,0.012032905665122396,0.012032905665122396,0.012032905665122396,0.012032905665122396,0.012032905665122396,0.012134972669417668,0.012134972669417668,0.012134972669417668,0.012134972669417668,0.012134972669417668,0.012134972669417668,0.012134972669417668,0.012225838500926779,0.012225838500926779,0.012225838500926779,0.012225838500926779,0.012225838500926779,0.012225838500926779,0.012305239422338632,0.012305239422338632,0.012305239422338632,0.012305239422338632,0.012305239422338632,0.012305239422338632,0.012305239422338632,0.012372943882795149,0.012372943882795149,0.012372943882795149,0.012372943882795149,0.012372943882795149,0.012372943882795149,0.012372943882795149,0.012372943882795149,0.012372943882795149,0.012372943882795149,0.012372943882795149,0.012372943882795149,0.012372943882795149,0.012372943882795149,0.012372943882795149,0.012372943882795149,0.01242875364285747,0.01242875364285747,0.01242875364285747,0.01242875364285747,0.01242875364285747,0.01242875364285747,0.01242875364285747,0.01242875364285747,0.012472504741562678,0.012472504741562678,0.012472504741562678,0.012472504741562678,0.012472504741562678,0.012472504741562678,0.012472504741562678,0.012472504741562678,0.012472504741562678,0.012472504741562678,0.012472504741562678,0.012472504741562678,0.012472504741562678,0.012472504741562678,0.012472504741562678,0.012472504741562678,0.012504068298968999,0.012504068298968999,0.012504068298968999,0.012504068298968999,0.012504068298968999,0.012504068298968999,0.012523351148691755,0.012523351148691755,0.012523351148691755,0.012523351148691755,0.012523351148691755,0.012523351148691755,0.012523351148691755,0.012523351148691755,0.012523351148691755,0.012523351148691755,0.012523351148691755,0.012530296296085387,0.012530296296085387,0.012530296296085387,0.012530296296085387,0.012530296296085387,0.012530296296085387,0.012530296296085387,0.012530296296085387,0.012530296296085387,0.012524883198917881,0.012524883198917881,0.012524883198917881,0.012524883198917881,0.012524883198917881,0.012524883198917881,0.012524883198917881,0.012524883198917881,0.012524883198917881,0.012524883198917881,0.012524883198917881,0.012524883198917881,0.012524883198917881,0.012507127868603253,0.012507127868603253,0.012507127868603253,0.012507127868603253,0.012507127868603253,0.012507127868603253,0.012477082791293807,0.012477082791293807,0.012477082791293807,0.012477082791293807,0.012477082791293807,0.012434836669376462,0.012434836669376462,0.012434836669376462,0.012434836669376462,0.012434836669376462,0.012434836669376462,0.012434836669376462,0.012434836669376462,0.012434836669376462,0.012434836669376462,0.012434836669376462,0.012434836669376462,0.012434836669376462,0.012434836669376462,0.012380513985154998,0.012380513985154998,0.012380513985154998,0.012380513985154998,0.012380513985154998,0.012380513985154998,0.012380513985154998,0.012380513985154998,0.012380513985154998,0.012380513985154998,0.012380513985154998,0.012380513985154998,0.012380513985154998,0.012380513985154998,0.012380513985154998,0.012380513985154998,0.012380513985154998,0.012380513985154998,0.012314274389721923,0.012314274389721923,0.012314274389721923,0.012314274389721923,0.012314274389721923,0.012236311921218872,0.012236311921218872,0.012236311921218872,0.012236311921218872,0.012236311921218872,0.012236311921218872,0.012236311921218872,0.012236311921218872,0.012236311921218872,0.012236311921218872,0.012236311921218872,0.012236311921218872,0.012146854057842698,0.012146854057842698,0.012146854057842698,0.012146854057842698,0.012146854057842698,0.012146854057842698,0.012146854057842698,0.012146854057842698,0.012146854057842698,0.012146854057842698,0.012146854057842698,0.012046160612065324,0.012046160612065324,0.012046160612065324,0.012046160612065324,0.012046160612065324,0.012046160612065324,0.012046160612065324,0.012046160612065324,0.012046160612065324,0.012046160612065324,0.011934522473589705,0.011934522473589705,0.011934522473589705,0.011934522473589705,0.011934522473589705,0.011934522473589705,0.011934522473589705,0.011934522473589705,0.011934522473589705,0.011812260209552615,0.011812260209552615,0.011812260209552615,0.011812260209552615,0.011812260209552615,0.011812260209552615,0.011812260209552615,0.011812260209552615,0.011812260209552615,0.011812260209552615,0.011812260209552615,0.011812260209552615,0.011812260209552615,0.011812260209552615,0.011812260209552615,0.011679722531399442,0.011679722531399442,0.011679722531399442,0.011679722531399442,0.011679722531399442,0.011679722531399442,0.011679722531399442,0.011537284638688949,0.011537284638688949,0.011537284638688949,0.011537284638688949,0.011537284638688949,0.011537284638688949,0.011537284638688949,0.011537284638688949,0.011537284638688949,0.011537284638688949,0.011537284638688949,0.011537284638688949,0.011385346450830698,0.011385346450830698,0.011385346450830698,0.011385346450830698,0.011385346450830698,0.011385346450830698,0.011385346450830698,0.011224330738408513,0.011224330738408513,0.011224330738408513,0.011224330738408513,0.011224330738408513,0.011224330738408513,0.011224330738408513,0.011224330738408513,0.01105468116629556,0.01105468116629556,0.01105468116629556,0.01105468116629556,0.01105468116629556,0.01105468116629556,0.01105468116629556,0.01105468116629556,0.01105468116629556,0.01105468116629556,0.01087686026121645,0.01087686026121645,0.01087686026121645,0.01087686026121645,0.01087686026121645,0.01087686026121645,0.01087686026121645,0.01087686026121645,0.01087686026121645,0.01087686026121645,0.01087686026121645,0.01087686026121645,0.01087686026121645,0.01087686026121645,0.01087686026121645,0.01087686026121645,0.01087686026121645,0.01087686026121645,0.01087686026121645,0.01087686026121645,0.01087686026121645,0.01087686026121645,0.01069134731675653,0.01069134731675653,0.01069134731675653,0.01069134731675653,0.01069134731675653,0.01069134731675653,0.01069134731675653,0.01069134731675653,0.01069134731675653,0.01069134731675653,0.01069134731675653,0.01069134731675653,0.01069134731675653,0.01069134731675653,0.01069134731675653,0.01069134731675653,0.01069134731675653,0.010498636249056746,0.010498636249056746,0.010498636249056746,0.010498636249056746,0.010498636249056746,0.010498636249056746,0.010498636249056746,0.010498636249056746,0.010498636249056746,0.010498636249056746,0.010498636249056746,0.010498636249056746,0.010498636249056746,0.010498636249056746,0.010498636249056746,0.010498636249056746,0.010498636249056746,0.010498636249056746,0.010498636249056746,0.010299233416563568,0.010299233416563568,0.010299233416563568,0.010299233416563568,0.010299233416563568,0.010299233416563568,0.010299233416563568,0.010299233416563568,0.010299233416563568,0.010299233416563568,0.010299233416563568,0.010299233416563568,0.010299233416563568,0.010299233416563568,0.010093655417227855,0.010093655417227855,0.010093655417227855,0.010093655417227855,0.010093655417227855,0.010093655417227855,0.010093655417227855,0.010093655417227855,0.010093655417227855,0.010093655417227855,0.010093655417227855,0.010093655417227855,0.010093655417227855,0.010093655417227855,0.010093655417227855,0.010093655417227855,0.010093655417227855,0.010093655417227855,0.010093655417227855,0.009882426876465952,0.009882426876465952,0.009882426876465952,0.009882426876465952,0.009882426876465952,0.009882426876465952,0.009882426876465952,0.009882426876465952,0.009882426876465952,0.009882426876465952,0.009882426876465952,0.009882426876465952,0.009882426876465952,0.009882426876465952,0.009882426876465952,0.009666078239013099,0.009666078239013099,0.009666078239013099,0.009666078239013099,0.009666078239013099,0.009666078239013099,0.009666078239013099,0.009666078239013099,0.009666078239013099,0.009666078239013099,0.009666078239013099,0.009666078239013099,0.009666078239013099,0.009445143577517153,0.009445143577517153,0.009445143577517153,0.009445143577517153,0.009445143577517153,0.009445143577517153,0.009445143577517153,0.009445143577517153,0.009445143577517153,0.009445143577517153,0.009445143577517153,0.009220158430343708,0.009220158430343708,0.009220158430343708,0.009220158430343708,0.009220158430343708,0.009220158430343708,0.009220158430343708,0.009220158430343708,0.009220158430343708,0.009220158430343708,0.009220158430343708,0.009220158430343708,0.009220158430343708,0.009220158430343708,0.009220158430343708,0.009220158430343708,0.009220158430343708,0.009220158430343708,0.009220158430343708,0.009220158430343708,0.009220158430343708,0.008991657680597656,0.008991657680597656,0.008991657680597656,0.008991657680597656,0.008991657680597656,0.008991657680597656,0.008991657680597656,0.008991657680597656,0.008991657680597656,0.008991657680597656,0.008991657680597656,0.008991657680597656,0.008991657680597656,0.008991657680597656,0.008991657680597656,0.008991657680597656,0.008991657680597656,0.008991657680597656,0.008991657680597656,0.008760173487816637,0.008760173487816637,0.008760173487816637,0.008760173487816637,0.008760173487816637,0.008760173487816637,0.008760173487816637,0.008760173487816637,0.008760173487816637,0.008760173487816637,0.008760173487816637,0.008760173487816637,0.008760173487816637,0.008760173487816637,0.008760173487816637,0.008760173487816637,0.008760173487816637,0.008760173487816637,0.008760173487816637,0.008760173487816637,0.008760173487816637,0.008760173487816637,0.008526233283165586,0.008526233283165586,0.008526233283165586,0.008526233283165586,0.008526233283165586,0.008526233283165586,0.008526233283165586,0.008526233283165586,0.008526233283165586,0.008526233283165586,0.008526233283165586,0.008526233283165586,0.008526233283165586,0.008526233283165586,0.008526233283165586,0.008526233283165586,0.008290357838265944,0.008290357838265944,0.008290357838265944,0.008290357838265944,0.008290357838265944,0.008290357838265944,0.008290357838265944,0.008290357838265944,0.008290357838265944,0.008290357838265944,0.008290357838265944,0.008290357838265944,0.008290357838265944,0.008290357838265944,0.008290357838265944,0.008290357838265944,0.008290357838265944,0.008290357838265944,0.008290357838265944,0.008290357838265944,0.008290357838265944,0.008290357838265944,0.008290357838265944,0.008290357838265944,0.00805305941703585,0.00805305941703585,0.00805305941703585,0.00805305941703585,0.00805305941703585,0.00805305941703585,0.00805305941703585,0.00805305941703585,0.00805305941703585,0.00805305941703585,0.007814840019106801,0.007814840019106801,0.007814840019106801,0.007814840019106801,0.007814840019106801,0.007814840019106801,0.007814840019106801,0.007814840019106801,0.007814840019106801,0.007576189722526611,0.007576189722526611,0.007576189722526611,0.007576189722526611,0.007576189722526611,0.007576189722526611,0.007576189722526611,0.007576189722526611,0.007576189722526611,0.007576189722526611,0.007576189722526611,0.007337585132566526,0.007337585132566526,0.007337585132566526,0.007337585132566526,0.007337585132566526,0.007337585132566526,0.007337585132566526,0.007337585132566526,0.007337585132566526,0.007337585132566526,0.007337585132566526,0.007337585132566526,0.007337585132566526,0.007099487942530877,0.007099487942530877,0.007099487942530877,0.007099487942530877,0.007099487942530877,0.007099487942530877,0.007099487942530877,0.007099487942530877,0.007099487942530877,0.006862343611529703,0.006862343611529703,0.006862343611529703,0.006862343611529703,0.006862343611529703,0.006862343611529703,0.006862343611529703,0.006626580163226782,0.006626580163226782,0.006626580163226782,0.006626580163226782,0.006392607108626401,0.006392607108626401,0.006392607108626401,0.006392607108626401,0.006392607108626401,0.006392607108626401,0.006392607108626401,0.006392607108626401,0.006392607108626401,0.006392607108626401,0.006392607108626401,0.006392607108626401,0.006392607108626401,0.006392607108626401,0.006392607108626401,0.006392607108626401,0.00616081449501997,0.00616081449501997,0.00616081449501997,0.00616081449501997,0.00616081449501997,0.00616081449501997,0.00616081449501997,0.00616081449501997,0.00616081449501997,0.00616081449501997,0.00616081449501997,0.00616081449501997,0.00616081449501997,0.005931572082286494,0.005931572082286494,0.005931572082286494,0.005931572082286494,0.005931572082286494,0.005931572082286494,0.005931572082286494,0.005931572082286494,0.005931572082286494,0.005931572082286494,0.005931572082286494,0.005931572082286494,0.005931572082286494,0.005931572082286494,0.005705228646836314,0.005705228646836314,0.005705228646836314,0.005705228646836314,0.005705228646836314,0.005705228646836314,0.005705228646836314,0.005705228646836314,0.005705228646836314,0.005705228646836314,0.005705228646836314,0.005482111412612676,0.005482111412612676,0.005482111412612676,0.005482111412612676,0.005482111412612676,0.005482111412612676,0.005482111412612676,0.005482111412612676,0.005482111412612676,0.005482111412612676,0.005482111412612676,0.005482111412612676,0.005482111412612676,0.005482111412612676,0.005482111412612676,0.0052625256077270255,0.0052625256077270255,0.0052625256077270255,0.0052625256077270255,0.0052625256077270255,0.005046754144507476,0.005046754144507476,0.005046754144507476,0.005046754144507476,0.004835057419990984,0.004835057419990984,0.004835057419990984,0.004835057419990984,0.004835057419990984,0.004835057419990984,0.004835057419990984,0.004835057419990984,0.004835057419990984,0.004835057419990984,0.004835057419990984,0.004835057419990984,0.00462767323319306,0.00462767323319306,0.00462767323319306,0.00462767323319306,0.00462767323319306,0.00462767323319306,0.00462767323319306,0.004424816814848349,0.004424816814848349,0.004424816814848349,0.004424816814848349,0.004424816814848349,0.004226680964734404,0.004226680964734404,0.004226680964734404,0.004226680964734404,0.0038452315468402473,0.0009758009869174676]}},\"id\":\"85470015-b9be-432d-af62-f883193e30bf\",\"type\":\"ColumnDataSource\"},{\"attributes\":{\"data_source\":{\"id\":\"ebf6abcc-ffb2-4f7a-ab94-2c5a274c1a10\",\"type\":\"ColumnDataSource\"},\"glyph\":{\"id\":\"98f7f7db-6e91-4ff9-a8dc-132360ce73d4\",\"type\":\"Quad\"},\"hover_glyph\":null,\"nonselection_glyph\":{\"id\":\"1876d1c8-9bc0-42b1-9578-5d1a6c083388\",\"type\":\"Quad\"},\"selection_glyph\":null},\"id\":\"4e713dda-22a7-41de-a565-fc318b7bc978\",\"type\":\"GlyphRenderer\"},{\"attributes\":{\"bottom\":{\"value\":0},\"fill_alpha\":{\"value\":0.3},\"fill_color\":{\"value\":\"navy\"},\"left\":{\"field\":\"left\"},\"line_color\":{\"value\":\"#033649\"},\"right\":{\"field\":\"right\"},\"top\":{\"field\":\"top\"}},\"id\":\"d09c1f0d-6af9-439c-9987-61f19c8d50f8\",\"type\":\"Quad\"},{\"attributes\":{\"axis_label\":\"# tweets\",\"formatter\":{\"id\":\"ac76a34f-0543-4205-b564-2bab6e97bd82\",\"type\":\"BasicTickFormatter\"},\"plot\":{\"id\":\"4b8d9e7b-63e4-4412-b83e-d82025c41ce6\",\"subtype\":\"Figure\",\"type\":\"Plot\"},\"ticker\":{\"id\":\"5dc97bad-d3c0-44fd-965f-2d19d4e69e2a\",\"type\":\"BasicTicker\"}},\"id\":\"5685773b-f490-4df1-9f1b-f7ce47af096c\",\"type\":\"LinearAxis\"},{\"attributes\":{\"plot\":{\"id\":\"4b8d9e7b-63e4-4412-b83e-d82025c41ce6\",\"subtype\":\"Figure\",\"type\":\"Plot\"}},\"id\":\"7766bf1e-1cfd-4a13-9c93-d42779ae486d\",\"type\":\"HelpTool\"},{\"attributes\":{},\"id\":\"3b880d54-48be-4156-95d4-1172beabed1f\",\"type\":\"BasicTickFormatter\"},{\"attributes\":{},\"id\":\"5dc97bad-d3c0-44fd-965f-2d19d4e69e2a\",\"type\":\"BasicTicker\"},{\"attributes\":{\"plot\":{\"id\":\"4b8d9e7b-63e4-4412-b83e-d82025c41ce6\",\"subtype\":\"Figure\",\"type\":\"Plot\"}},\"id\":\"9014518c-d8f8-4397-8324-3019dd200647\",\"type\":\"WheelZoomTool\"},{\"attributes\":{\"axis_label\":\"len(tweets)\",\"formatter\":{\"id\":\"3b880d54-48be-4156-95d4-1172beabed1f\",\"type\":\"BasicTickFormatter\"},\"plot\":{\"id\":\"4b8d9e7b-63e4-4412-b83e-d82025c41ce6\",\"subtype\":\"Figure\",\"type\":\"Plot\"},\"ticker\":{\"id\":\"edd49798-1f0b-4bee-aeb3-56762ebacecb\",\"type\":\"BasicTicker\"}},\"id\":\"6bc85ae8-326f-4533-a40f-4840f9a344cc\",\"type\":\"LinearAxis\"},{\"attributes\":{},\"id\":\"edd49798-1f0b-4bee-aeb3-56762ebacecb\",\"type\":\"BasicTicker\"},{\"attributes\":{\"bottom\":{\"value\":0},\"fill_alpha\":{\"value\":0.3},\"fill_color\":{\"value\":\"red\"},\"left\":{\"field\":\"left\"},\"line_color\":{\"value\":\"#033649\"},\"right\":{\"field\":\"right\"},\"top\":{\"field\":\"top\"}},\"id\":\"98f7f7db-6e91-4ff9-a8dc-132360ce73d4\",\"type\":\"Quad\"}],\"root_ids\":[\"4b8d9e7b-63e4-4412-b83e-d82025c41ce6\"]},\"title\":\"Bokeh Application\",\"version\":\"0.12.0\"}};\n",
       "            var render_items = [{\"docid\":\"274a33e8-225a-44b7-8445-d91927f06b8b\",\"elementid\":\"4b24945b-2632-417e-8205-bef2a2acc66e\",\"modelid\":\"4b8d9e7b-63e4-4412-b83e-d82025c41ce6\",\"notebook_comms_target\":\"26f8413e-9cf8-492d-9129-6f61261020f0\"}];\n",
       "            \n",
       "            Bokeh.embed.embed_items(docs_json, render_items);\n",
       "        });\n",
       "      },\n",
       "      function(Bokeh) {\n",
       "      }\n",
       "    ];\n",
       "  \n",
       "    function run_inline_js() {\n",
       "      for (var i = 0; i < inline_js.length; i++) {\n",
       "        inline_js[i](window.Bokeh);\n",
       "      }\n",
       "    }\n",
       "  \n",
       "    if (window._bokeh_is_loading === 0) {\n",
       "      console.log(\"Bokeh: BokehJS loaded, going straight to plotting\");\n",
       "      run_inline_js();\n",
       "    } else {\n",
       "      load_libs(js_urls, function() {\n",
       "        console.log(\"Bokeh: BokehJS plotting callback run at\", now());\n",
       "        run_inline_js();\n",
       "      });\n",
       "    }\n",
       "  }(this));\n",
       "</script>"
      ]
     },
     "metadata": {},
     "output_type": "display_data"
    },
    {
     "data": {
      "text/html": [
       "<p><code>&lt;Bokeh Notebook handle for <strong>In[12]</strong>&gt;</code></p>"
      ],
      "text/plain": [
       "<bokeh.io._CommsHandle at 0x7f248723d2e8>"
      ]
     },
     "execution_count": 12,
     "metadata": {},
     "output_type": "execute_result"
    }
   ],
   "source": [
    "tweet_lens_bro = [len(tweet) for tweet in brotweets]\n",
    "hist_bro, edges_bro = np.histogram(tweet_lens_bro, density=True, bins=20)\n",
    "tweet_lens_bro.sort()\n",
    "\n",
    "tweet_lens_sis = [len(tweet) for tweet in sistweets]\n",
    "hist_sis, edges_sis = np.histogram(tweet_lens_sis, density=True, bins=20)\n",
    "tweet_lens_sis.sort()\n",
    "\n",
    "p = figure(title=\"\")\n",
    "p.quad(top=hist_bro, bottom=0, left=edges_bro[:-1], right=edges_bro[1:],\n",
    "        fill_color=\"navy\", line_color=\"#033649\", fill_alpha=0.3)\n",
    "p.quad(top=hist_sis, bottom=0, left=edges_sis[:-1], right=edges_sis[1:],\n",
    "        fill_color=\"red\", line_color=\"#033649\", fill_alpha=0.3)\n",
    "\n",
    "sigma =  np.std(tweet_lens_bro)\n",
    "mu = np.mean(tweet_lens_bro)\n",
    "pdf = stats.norm.pdf(tweet_lens_bro, mu, sigma)\n",
    "p.line(tweet_lens_bro, pdf, line_color=\"navy\", line_width=6, alpha=0.7, legend=\"PDF\")\n",
    "\n",
    "sigma =  np.std(tweet_lens_sis)\n",
    "mu = np.mean(tweet_lens_sis)\n",
    "pdf = stats.norm.pdf(tweet_lens_sis, mu, sigma)\n",
    "p.line(tweet_lens_sis, pdf, line_color=\"red\", line_width=6, alpha=0.7, legend=\"PDF\")\n",
    "\n",
    "p.xaxis.axis_label = 'len(tweets)'\n",
    "p.yaxis.axis_label = '# tweets'\n",
    "show(p)\n"
   ]
  },
  {
   "cell_type": "markdown",
   "metadata": {},
   "source": [
    "## 2.5. Split your data in train and test \n",
    "*(and probably share it too)*"
   ]
  },
  {
   "cell_type": "code",
   "execution_count": 13,
   "metadata": {
    "collapsed": false
   },
   "outputs": [
    {
     "name": "stdout",
     "output_type": "stream",
     "text": [
      "Examples in train: 1200\n",
      "Examples in test: 800\n"
     ]
    }
   ],
   "source": [
    "from sklearn import cross_validation\n",
    "X = pd_dataset['text'].tolist()\n",
    "y = pd_dataset['class'].tolist()\n",
    "\n",
    "X_train, X_test, y_train, y_test = cross_validation.train_test_split(X, y, test_size=0.4, random_state=0)\n",
    "print(\"Examples in train: {}\".format(len(X_train)))\n",
    "print(\"Examples in test: {}\".format(len(X_test)))"
   ]
  },
  {
   "cell_type": "markdown",
   "metadata": {
    "collapsed": true
   },
   "source": [
    "#  3. In the beginning we had a bag of words *(or maybe the set)* "
   ]
  },
  {
   "cell_type": "markdown",
   "metadata": {},
   "source": [
    "## 3.1. What is a bag of words\n",
    "\n",
    "- Simplest way to represent text.\n",
    "- Create a vector with the size of the vocabulary seen in train.\n",
    "- Each sentence is represented counting the number of times each word appears.\n",
    "\n",
    "```python\n",
    "dataset = [\"I love Python\", \"I love NLP\", \"Pyladies are cool\"]\n",
    "vocabulary = set([\"I\", \"love\", \"Python\", \"NLP\", \"Pyladies\", \"are\", \"cool\"])\n",
    "dataset_representation =  [[1,1,1,0,0,0,0], \n",
    "                           [1,1,0,1,0,0,0],\n",
    "                           [0,0,0,0,1,1,1]] \n",
    "```\n",
    "\n",
    "Ok, that looks cool. This look solved. Let's party! "
   ]
  },
  {
   "cell_type": "markdown",
   "metadata": {},
   "source": [
    "## 3.2. So, what's the problem, then?\n",
    "\n",
    "\n",
    "- Unseen words.\n",
    "- One-hot Representation: Represents every word as an $\\mathbb{R}^{|V|×1}$\n",
    "```python\n",
    "hotel = [0, 0, 0, 0, 0, 0, 0, 0, 1, 0, 0, 0, 0, 0]\n",
    "motel = [0, 0, 0, 0, 1, 0, 0, 0, 0, 0, 0, 0, 0, 0]\n",
    "w hotel AN D w motel = 0\n",
    "```\n",
    "$w^{hotel} AND w^{motel} = 0\n",
    "&nbsp;\n",
    "![cat!](imgs/catF.gif \"Angry cat fuck\")\n",
    "\n",
    "&nbsp;\n",
    "\n",
    "- *The curse of dimensionality!!!*\n",
    "  - Generalizing locally (eg. nearest neighbors) requires representative examples for all relevant variations\n",
    "  - The number of possible configurations of the variables of interest is much larger than the number of training samples.\n",
    "\n",
    "\n",
    "&nbsp;\n",
    "![Curse!](imgs/curse.jpg \"The curse of the dimensionality\")\n"
   ]
  },
  {
   "cell_type": "code",
   "execution_count": 14,
   "metadata": {
    "collapsed": false
   },
   "outputs": [
    {
     "name": "stdout",
     "output_type": "stream",
     "text": [
      "Train: {0|1}^(1200x4060)\n",
      "Test:  {0|1}^(800x4060)\n",
      "\n",
      "VOCABULARY EXTRACT: broke, broken, brother, brownlee, browser, bruce, brunch, brutal, btw, bu, buddy, buffer, bug, bugfixes, buggy, bugs, build, building, built, bullies, bump, bunch, burnt, bursting, busy, but, butler, button, buy, buys, buzz, by, byegium, ca, cabin, cable, cableporn, caesar, caged, call, called, calling, calls, came, camp, campaign, camping, can, canada, candidate, cannot, capita, capitalism, capitalists, capn, captain, captains, capture, car, card, cardinality, cards, career, careful, caribbean, caring, carpentry, cars, cartoon, case, cash, cat, catch, categorical, catered, cats, catty, caught, causal, cause, caused, cc, celebrate, celebrating, cena, centenial, center, centrality, centre, century, cernan, certainly, ceval, cfd, cffi, cfp, chair, chalk, challenge, challenges\n",
      "\n",
      "TWEET REPRESENTATION: [0 0 0 0 0 0 0 0 0 0 0 0 0 0 0 0 0 0 0 0 0 0 0 0 0 0 0 0 0 0 0 0 0 0 0 0 0\n",
      " 0 0 0 0 0 0 0 0 0 0 0 0 0 0 0 0 0 0 0 0 0 0 0 0 0 0 0 0 0 0 0 0 0 0 0 0 0\n",
      " 0 0 0 0 0 0 0 0 0 0 0 0 0 0 0 0 0 0 0 0 0 0 0 0 0 0 0 0 0 0 0 0 0 0 0 0 0\n",
      " 0 0 0 0 0 0 0 0 0 0 0 0 1 0 0 0 0 0 0 0 0 0 0 0 0 0 0 0 0 0 0 0 0 0 0 0 0\n",
      " 0 0 0 0 0 0 0 0 0 0 0 0 0 0 0 0 0 0 0 0 0 0 0 0 0 0 0 0 0 0 0 0 0 0 0 0 0\n",
      " 0 0 0 0 0 0 0 0 0 0 0 0 0 0 0 0 0 0 0 0 0 0 0 0 0 0 0 0 0 0 0 0 0 0 0 0 0\n",
      " 0 0 0 0 0 0 1 0 0 0 0 0 0 0 0 0 0 0 0 0 0 0 0 0 0 0 0 0 0 0 0 0 0 0 0 0 0\n",
      " 0 0 0 0 0 0 0 0 0 0 0 0 0 0 0 0 0 0 0 0 0 0 0 0 0 0 0 0 0 0 0 0 0 0 0 0 0\n",
      " 0 0 0 0 0 0 0 0 0 0 0 0 0 0 0 0 0 0 0 0 0 0 0 0 0 0 0 0 0 0 0 0 0 0 0 0 0\n",
      " 0 0 0 0 0 0 0 0 0 0 0 0 0 0 0 0 0 0 0 0 0 0 0 0 0 0 0 0 0 0 0 0 0 0 0 0 0\n",
      " 0 0 0 0 0 0 0 0 0 0 0 0 0 0 0 0 0 0 0 0 0 0 0 0 0 0 0 0 0 0 0 0 0 0 0 0 0\n",
      " 0 0 0 0 0 0 0 0 0 0 0 0 0 0 0 0 0 0 0 0 0 0 0 0 0 0 0 0 0 0 0 0 0 0 0 0 0\n",
      " 0 0 0 0 0 0 0 0 0 0 0 0 0 0 0 0 0 0 0 0 0 0 0 0 0 0 0 0 0 0 0 0 0 0 0 0 0\n",
      " 0 0 0 0 0 1 0 0 0 0 0 0 0 0 0 0 0 0 0 0 0 0 0 0 0 1 0 0 0 0 0 0 0 0 0 0 0\n",
      " 0 0 0 0 0 0 0 0 0 0 0 0 0 0 0 0 0 0 0 0 0 0 0 0 0 0 0 0 0 0 0 0 0 0 0 0 0\n",
      " 0 0 0 0 0 0 0 0 0 0 0 0 0 0 0 0 0 0 0 0 0 0 0 0 0 0 0 0 0 0 0 0 0 0 0 0 0\n",
      " 0 0 0 0 0 0 0 0 0 0 0 0 0 0 0 0 0 0 0 0 0 0 0 0 0 0 0 0 0 0 0 0 0 0 0 0 0\n",
      " 0 0 0 0 0 0 0 0 0 0 0 0 0 0 0 0 0 0 0 0 0 0 0 0 0 0 0 0 0 0 0 0 0 0 0 0 0\n",
      " 0 0 0 0 0 0 0 0 0 0 0 0 0 0 0 0 0 0 0 0 0 0 0 0 0 0 0 0 0 0 0 0 0 0 0 0 0\n",
      " 0 0 0 0 0 0 0 0 0 0 0 0 0 0 0 0 0 0 0 0 0 0 0 0 0 0 0 0 0 0 0 0 0 0 0 0 0\n",
      " 0 0 0 0 0 0 0 0 0 0 0 0 0 0 0 0 0 0 0 0 0 0 0 0 0 0 0 0 0 0 0 0 0 0 0 0 0\n",
      " 0 0 0 0 0 0 0 0 0 0 0 0 0 0 0 0 0 0 0 0 0 0 0 0 0 0 0 0 0 0 0 0 0 0 0 0 0\n",
      " 0 0 0 0 0 0 0 0 0 0 0 0 0 0 0 0 0 0 0 0 0 0 0 0 0 0 0 0 0 0 0 0 0 0 0 0 0\n",
      " 0 0 0 0 0 0 0 0 0 0 0 0 0 0 0 0 0 0 0 0 0 0 0 0 0 0 0 0 0 0 0 0 0 0 0 0 0\n",
      " 0 0 0 0 0 0 0 1 0 0 0 0 0 0 0 0 0 0 0 0 0 0 0 0 0 0 0 0 0 0 0 0 0 0 0 0 0\n",
      " 0 0 0 0 0 0 0 0 0 0 0 0 0 0 0 0 0 0 0 0 0 0 0 0 0 0 0 0 0 0 0 0 0 0 0 0 0\n",
      " 0 0 0 0 0 0 0 0 0 0 0 0 0 0 0 0 0 0 0 0 0 0 0 0 0 0 0 0 0 0 0 0 0 0 0 0 0\n",
      " 0 0 0 0 0 0 0 0 0 0 0 0 0 0 0 0 0 0 0 0 0 0 0 0 0 0 0 0 0 0 0 0 0 0 0 0 0\n",
      " 0 0 0 0 0 0 0 0 0 0 0 0 0 0 0 0 0 0 0 0 0 0 0 0 0 0 0 0 0 0 0 0 0 0 0 0 0\n",
      " 0 0 0 0 0 0 0 0 0 0 0 0 0 0 0 0 0 0 0 0 0 0 0 0 0 0 0 0 0 0 0 0 0 0 0 0 0\n",
      " 0 0 0 0 0 0 0 0 0 0 0 0 0 0 0 0 0 0 0 0 0 0 0 0 0 0 0 0 0 0 0 0 0 0 0 0 0\n",
      " 0 0 0 0 0 0 0 0 0 0 0 0 0 0 0 0 0 0 0 0 0 0 0 0 0 0 0 0 0 0 0 0 0 0 0 0 0\n",
      " 0 0 0 0 0 0 0 0 0 0 0 0 0 0 0 0 0 0 0 0 0 0 0 0 0 0 0 0 0 0 0 0 0 0 0 0 0\n",
      " 0 0 0 0 0 0 0 0 0 0 0 0 0 0 0 0 0 0 0 0 0 0 0 0 0 0 0 0 0 0 0 0 0 0 0 0 0\n",
      " 0 0 0 0 0 0 0 0 0 0 0 0 0 0 0 0 0 0 0 0 0 0 0 0 0 0 0 0 0 0 0 0 0 0 0 0 0\n",
      " 0 0 0 0 0 0 0 0 0 0 0 0 0 0 0 0 0 0 0 0 0 0 0 0 0 0 0 0 0 0 0 0 0 0 0 0 0\n",
      " 0 0 0 0 0 0 0 0 0 0 0 0 0 0 0 0 0 0 0 0 0 0 0 0 0 0 0 0 0 0 0 0 0 0 0 0 0\n",
      " 0 0 0 0 0 0 0 0 0 0 0 0 0 0 0 0 0 0 0 0 0 0 0 0 0 0 0 0 0 0 0 0 0 0 0 0 0\n",
      " 0 0 0 0 0 0 0 0 0 0 0 0 0 0 0 0 0 0 0 0 0 0 0 0 0 0 0 0 0 0 0 0 0 0 0 0 0\n",
      " 0 0 0 0 0 0 0 0 0 0 0 0 0 0 0 0 0 0 0 0 0 0 0 0 0 0 0 0 0 0 0 0 0 0 0 0 0\n",
      " 0 0 0 0 0 0 0 0 0 0 0 0 0 0 0 0 0 0 0 0 0 0 0 0 0 0 0 0 0 0 0 0 0 0 0 0 0\n",
      " 0 0 0 0 0 0 0 0 0 0 0 0 0 0 0 0 0 0 0 0 0 0 0 0 0 0 0 0 0 0 0 0 0 0 0 0 0\n",
      " 0 0 0 0 0 0 0 0 0 0 0 0 0 0 0 0 0 0 0 0 0 0 0 0 0 0 0 0 0 0 0 0 0 0 0 0 0\n",
      " 0 0 0 0 0 0 0 0 0 0 0 0 0 0 0 0 0 0 0 0 0 0 0 0 0 0 0 0 0 0 0 0 0 0 0 0 0\n",
      " 0 0 0 0 0 0 0 0 0 0 0 0 0 0 0 0 0 0 0 0 0 0 0 0 0 0 0 0 0 0 0 0 0 0 0 0 0\n",
      " 0 0 0 0 0 0 0 0 0 0 0 0 0 0 0 0 0 0 0 0 0 0 0 0 0 0 0 0 0 0 0 0 0 0 0 0 0\n",
      " 0 0 0 0 0 0 0 0 0 0 0 0 0 0 0 0 0 0 0 0 0 0 0 0 0 0 0 0 0 0 0 0 0 0 0 0 0\n",
      " 0 0 0 0 0 0 0 0 0 0 0 0 0 0 0 0 0 0 0 0 0 0 0 0 0 0 0 0 0 0 0 0 0 0 0 0 0\n",
      " 0 0 0 0 0 0 0 0 0 0 0 0 0 0 0 0 0 0 0 0 0 0 0 0 0 0 0 0 0 0 0 0 0 0 0 0 0\n",
      " 0 0 0 0 0 0 0 0 0 0 0 0 0 0 0 0 0 0 0 0 0 0 0 0 0 0 0 0 0 0 0 0 0 0 0 0 0\n",
      " 0 0 0 0 0 0 0 0 0 0 0 0 0 0 1 0 0 0 0 0 0 0 0 0 0 0 0 0 0 0 0 0 0 0 0 0 0\n",
      " 0 0 0 0 0 0 0 0 0 0 0 0 0 0 0 0 0 0 0 0 0 0 0 0 0 0 0 0 0 0 0 0 0 0 0 0 0\n",
      " 0 0 0 0 0 0 0 0 0 0 0 0 0 0 0 0 0 0 0 0 0 0 0 0 0 0 0 0 0 0 0 0 0 0 0 0 0\n",
      " 0 0 0 0 0 0 0 0 0 0 0 0 0 0 0 0 0 0 0 0 0 0 0 0 0 0 0 0 0 0 0 0 0 0 0 0 0\n",
      " 0 0 0 0 0 0 0 0 0 0 0 0 0 0 0 0 0 0 0 0 0 0 0 0 0 0 0 0 0 0 0 0 0 0 0 0 0\n",
      " 0 0 0 0 0 0 0 0 0 0 0 0 0 0 0 0 0 0 0 0 0 0 0 0 0 0 0 0 0 0 0 0 0 0 0 0 0\n",
      " 0 0 0 0 0 0 0 0 0 0 0 0 0 0 0 0 0 0 0 0 0 0 0 0 0 0 0 0 0 0 0 0 0 0 0 0 0\n",
      " 0 0 0 0 0 0 0 0 0 0 0 0 0 0 0 0 0 0 0 0 0 0 0 0 0 0 0 0 0 0 0 0 0 0 0 0 0\n",
      " 0 0 1 0 0 0 0 0 0 0 0 0 0 0 0 0 0 0 0 0 0 0 0 0 0 0 0 0 0 0 0 0 0 0 0 0 0\n",
      " 0 0 0 0 0 0 0 0 0 0 0 0 0 0 0 0 0 0 0 0 0 0 0 0 0 0 0 0 0 0 0 0 0 0 0 0 0\n",
      " 0 0 0 0 0 0 0 0 0 0 0 0 0 0 0 0 0 0 0 0 0 0 0 0 0 0 0 0 0 0 0 0 0 0 0 0 0\n",
      " 0 0 0 0 0 0 0 0 0 0 0 0 0 0 0 0 0 0 0 0 0 0 0 0 0 0 0 0 0 0 0 0 0 0 0 0 0\n",
      " 0 0 0 0 0 0 0 0 0 0 0 0 0 0 0 0 0 0 0 0 0 0 0 0 0 0 0 0 0 0 0 0 0 0 0 0 0\n",
      " 0 0 0 0 0 0 0 0 0 0 0 0 0 0 0 0 0 0 0 0 0 0 0 0 0 0 0 0 0 0 0 0 0 0 0 0 0\n",
      " 0 0 0 0 0 0 0 0 0 0 0 0 0 0 0 0 0 0 0 0 0 0 0 0 0 0 0 0 0 0 0 0 0 0 0 0 0\n",
      " 0 0 0 0 0 0 0 0 0 0 0 0 0 0 0 0 0 0 0 0 0 0 0 0 0 0 0 0 0 0 0 0 0 0 0 0 0\n",
      " 0 0 0 0 0 0 0 0 0 0 0 0 0 0 0 0 0 0 0 0 0 0 0 0 0 0 0 0 0 0 0 0 0 0 0 0 0\n",
      " 0 0 0 0 0 0 0 0 0 0 0 0 0 0 0 0 0 0 0 0 0 0 0 0 0 0 0 0 0 0 0 0 0 0 0 0 0\n",
      " 0 0 0 0 0 0 0 0 0 0 0 0 0 0 0 0 0 0 0 0 0 0 0 0 0 0 0 0 0 0 0 0 0 0 0 0 0\n",
      " 0 0 0 0 0 0 0 0 0 0 0 0 0 0 0 0 0 0 0 0 0 0 0 0 0 0 0 0 0 0 0 0 0 0 0 0 0\n",
      " 0 0 0 0 0 0 0 0 0 0 0 0 0 0 0 0 0 0 0 0 0 0 0 0 0 0 0 0 0 0 0 0 0 0 0 0 0\n",
      " 0 0 0 0 0 0 0 0 0 0 0 0 0 0 0 0 0 0 0 0 0 0 0 0 0 0 0 0 0 0 0 0 0 0 0 0 0\n",
      " 0 0 0 0 0 0 0 0 0 0 0 0 0 0 0 0 0 0 0 0 0 0 0 0 0 0 0 0 0 0 0 0 0 0 0 0 0\n",
      " 0 0 0 0 0 0 0 0 0 0 0 0 0 0 0 0 0 0 0 0 0 0 0 0 0 0 0 0 0 0 0 0 0 0 0 0 0\n",
      " 0 0 0 0 0 0 0 0 0 0 0 0 0 0 0 0 0 0 0 0 0 0 0 0 0 0 0 0 0 0 0 0 0 0 0 0 0\n",
      " 0 0 0 0 0 0 0 0 0 0 0 0 0 0 0 0 0 0 0 0 0 0 0 0 0 0 0 0 0 0 0 0 0 0 0 0 0\n",
      " 0 0 0 0 0 0 0 0 0 0 0 0 0 0 0 0 0 0 0 0 0 0 0 0 0 0 0 0 0 0 0 0 0 0 0 0 0\n",
      " 0 0 0 0 0 0 0 0 0 0 0 0 0 0 0 0 0 0 0 0 0 0 0 0 0 0 0 0 0 0 0 0 0 0 0 0 0\n",
      " 0 0 0 0 0 0 0 0 0 0 0 0 0 0 0 0 0 0 0 0 0 0 0 0 0 0 0 0 0 0 0 0 0 0 0 0 0\n",
      " 0 0 0 0 0 0 0 0 0 0 0 0 0 0 0 0 0 0 0 0 0 0 0 0 0 0 0 0 0 0 0 0 0 0 0 0 0\n",
      " 0 0 0 0 0 0 0 0 0 0 0 0 0 0 0 0 0 0 0 0 0 0 0 0 0 0 0 0 0 0 0 0 0 0 0 0 0\n",
      " 0 0 0 0 0 0 0 0 0 0 0 0 0 0 0 0 0 0 0 0 0 0 0 0 0 0 0 0 0 0 0 0 0 0 0 0 0\n",
      " 0 0 0 0 0 0 0 0 0 0 0 0 0 0 0 0 0 0 0 0 0 0 0 0 0 0 0 0 0 0 0 0 0 0 0 0 0\n",
      " 0 0 0 0 0 0 0 0 0 0 0 0 0 0 0 0 0 0 0 0 0 0 0 0 0 0 0 0 0 0 0 0 0 0 0 0 0\n",
      " 0 0 0 0 0 0 0 0 0 0 0 0 0 0 0 0 0 0 0 0 0 0 0 0 0 0 0 0 0 0 0 0 0 0 0 0 0\n",
      " 0 0 0 0 0 0 0 0 0 0 0 0 0 0 0 0 0 0 0 0 0 0 0 0 0 0 0 0 0 0 0 0 0 0 0 0 0\n",
      " 0 0 0 0 0 0 0 0 0 0 0 0 0 0 0 0 0 0 0 0 0 0 0 0 0 0 0 0 0 0 0 0 0 0 0 0 0\n",
      " 0 0 0 0 0 0 0 0 0 0 0 0 0 0 0 0 0 0 0 0 0 0 0 0 0 0 0 0 0 0 0 0 0 0 0 0 0\n",
      " 0 0 0 0 0 0 0 0 0 0 0 0 0 0 0 0 0 0 0 0 0 0 0 0 0 0 0 0 0 0 0 0 0 0 0 0 0\n",
      " 0 0 0 0 0 0 0 0 0 0 0 0 0 0 0 0 0 0 0 0 0 0 0 0 0 0 0 0 0 0 0 0 0 0 0 0 0\n",
      " 0 0 0 0 0 0 0 0 0 0 0 0 0 0 0 0 0 0 0 0 0 0 0 0 0 0 0 0 0 0 0 0 0 0 0 0 0\n",
      " 0 0 0 0 0 0 0 0 0 0 0 0 0 0 0 0 0 0 0 0 0 0 0 0 0 0 0 0 0 0 0 0 0 0 0 0 0\n",
      " 0 0 0 0 0 0 0 0 0 0 0 0 0 0 0 0 0 0 0 0 0 0 0 0 0 0 0 0 0 0 0 0 0 0 0 0 0\n",
      " 0 0 0 0 0 0 0 0 0 0 0 0 0 0 0 0 0 0 0 0 0 0 0 0 0 0 0 0 0 0 0 0 0 0 0 0 0\n",
      " 0 0 0 0 0 0 0 0 0 0 0 0 0 0 0 0 0 0 0 0 0 0 0 0 0 0 0 0 0 0 0 0 0 0 0 0 0\n",
      " 0 0 0 0 0 0 0 0 0 0 0 0 0 0 0 0 0 0 0 0 0 0 0 0 0 0 0 0 0 0 0 0 0 0 0 0 0\n",
      " 0 0 0 0 0 0 0 0 0 0 0 0 0 0 0 0 0 0 0 0 0 0 0 0 0 0 0 0 0 0 0 0 0 0 0 0 0\n",
      " 0 0 0 0 0 0 0 0 0 0 0 0 0 0 0 0 0 0 0 0 0 0 0 0 0 0 0 0 0 0 0 0 0 0 0 0 0\n",
      " 0 0 0 0 0 0 0 0 0 0 0 0 0 0 0 0 0 0 0 1 0 0 0 0 0 0 0 0 0 0 0 0 0 0 0 0 0\n",
      " 0 0 0 0 0 0 0 0 0 0 0 0 0 0 0 0 0 0 0 0 0 0 0 0 0 0 0 0 0 0 0 0 0 0 0 0 0\n",
      " 0 0 0 0 0 0 0 0 0 0 0 0 0 0 0 0 0 0 0 0 0 0 0 0 0 0 0 0 0 0 0 0 0 0 0 1 0\n",
      " 0 0 0 0 0 0 0 0 0 0 0 0 0 0 0 0 0 0 0 0 0 0 0 0 0 0 0 0 0 0 0 0 0 0 0 0 0\n",
      " 0 0 0 0 0 0 0 0 0 0 0 0 0 0 0 0 0 0 0 0 0 2 0 0 0 0 0 0 0 0 0 0 0 0 0 0 0\n",
      " 0 0 0 0 0 0 0 0 0 0 0 0 0 0 0 0 0 0 0 0 0 0 0 0 0 0 0 0 0 0 0 0 0 0 0 0 0\n",
      " 0 0 0 0 0 0 0 0 0 0 0 0 0 0 0 0 0 0 0 0 0 0 0 0 0 0 0 0 0 0 0 0 0 0 0 0 0\n",
      " 0 0 0 0 0 0 0 0 0 0 0 0 0 0 0 0 0 0 0 0 0 0 0 0 0 0 0 0 0 0 0 0 0 0 0 0 0\n",
      " 0 0 0 0 0 0 0 0 0 0 1 0 0 0 0 0 0 0 0 0 0 0 0 0 0 0 0 0 0 0 0 0 0 0 0 0 0\n",
      " 0 0 0 0 0 0 0 0 0 0 0 0 0 0 0 0 0 0 0 0 0 0 0 0 0 0 0 0 0 0 0 0 0 0 0 0 0\n",
      " 0 0 0 0 0 0 0 0 0 0 0 0 0 0 0 0 0 0 0 0 0 0 0 0 0 0 0 0 0 0 0 0 0 0 0 0 0\n",
      " 0 0 0 0 0 0 0 0 0 0 0 0 0 0 0 0 0 0 0 0 0 0 0 0 0 0 0]\n"
     ]
    }
   ],
   "source": [
    "from sklearn.feature_extraction.text import CountVectorizer\n",
    "\n",
    "vectorizer = CountVectorizer(analyzer = \"word\", \n",
    "                             tokenizer = None,\n",
    "                             preprocessor = None,\n",
    "                             stop_words = None,\n",
    "                             ngram_range=(1, 1),\n",
    "                             max_features = 5000) \n",
    "\n",
    "# Fit the train\n",
    "BOW_train = vectorizer.fit_transform(X_train)\n",
    "BOW_train = BOW_train.toarray()\n",
    "\n",
    "# Transform the test\n",
    "BOW_test = vectorizer.transform(X_test)\n",
    "BOW_test = BOW_test.toarray()\n",
    "\n",
    "\n",
    "print('Train: {{0|1}}^({}x{})'.format(BOW_train.shape[0], BOW_train.shape[1]))\n",
    "print('Test:  {{0|1}}^({}x{})'.format(BOW_test.shape[0], BOW_test.shape[1]))\n",
    "vocab = vectorizer.get_feature_names()\n",
    "print('\\nVOCABULARY EXTRACT: {}'.format(', '.join(vocab[500:600])))\n",
    "np.set_printoptions(threshold=np.nan)\n",
    "print('\\nTWEET REPRESENTATION: {}'.format(BOW_train[0]))"
   ]
  },
  {
   "cell_type": "markdown",
   "metadata": {},
   "source": [
    "# 4. Word embeddings\n",
    "\n",
    "> You shall know a word by the company it keeps.\n",
    ">\n",
    "> -- <cite>J.R. Firth 1957:11</cite>\n",
    "\n",
    "## The holy grail in text representation!\n",
    "### Word2vec\n",
    "Ok, we need to talk.\n",
    "- Word2vec is NOT an algorithm for learning word embeddings. Word2vec is a **family** of algorithms for learning word embeddings. You may want to talk about a skipgram model trained using negative sampling.\n",
    "- Word2vec is NOT the holy grail (If you don't understand it)\n",
    "- (Sligthly related note) Tensorflow is awesome, but we should get used to allocate memory\n",
    "\n",
    "&nbsp;\n",
    "&nbsp;\n",
    "\n",
    ">Mikolov, T., Sutskever, I., Chen, K., Corrado, G. S., & Dean, J. (2013). *Distributed representations of words and phrases and their compositionality.* In Advances in neural information processing systems (pp. 3111-3119).\n",
    "\n",
    "Now, we can go on.\n",
    "- With Word2vec algorithms are able to learn word embedings from unsupervised raw text. \n",
    "- Two algorithms are implemented:\n",
    " - Continuous Bag-of-Words model (CBOW) \n",
    "   - Predicts target words (e.g. 'mat') from source context words ('the cat sits on the').\n",
    "   - CBOW smoothes over a lot of the distributional information.\n",
    "   - Useful for smaller datasets.\n",
    " - **Skip-Gram model**\n",
    "   - Predicts source context words ('the cat sits on the') from target words (e.g. 'mat').\n",
    "   - Treats each context-target pair as a new observation.\n",
    "   - Useful for larger datasets\n",
    "   \n",
    "- These algorithms are trained using:\n",
    "    - **Negative sampling.** \n",
    "    - Hierarchical Softmax\n",
    "    \n",
    " \n",
    "![w2v!](imgs/nce-nplm.png \"Noise-Contrastive Training\")\n",
    "&nbsp;\n",
    "&nbsp;\n",
    "[Read the complete tutorial](https://www.tensorflow.org/versions/r0.9/tutorials/word2vec/index.html)\n",
    "\n",
    "&nbsp;\n",
    "&nbsp;\n",
    "\n",
    "### Glove\n",
    "\n",
    "> Pennington, J., Socher, R., & Manning, C. D. (2014, October). *[Glove: Global Vectors for Word Representation](http://nlp.stanford.edu/pubs/glove.pdf)*. In  EMNLP (Vol. 14, pp. 1532-43).\n",
    "\n",
    "GloVe is an unsupervised learning algorithm for obtaining vector representations for words. Training is performed on aggregated global word-word co-occurrence statistics from a corpus, and the resulting representations showcase interesting linear substructures of the word vector space.\n",
    "\n",
    "- New global logbilinear regression model that combines the advantages of the two major model families in the literature: \n",
    "  - Global matrix factorization \n",
    "  - Local context window methods.\n",
    "  \n",
    "![glove!](imgs/man_woman.jpg \"Word vectors learned with GloVe\")"
   ]
  },
  {
   "cell_type": "markdown",
   "metadata": {},
   "source": [
    "## 4.1. Pretrained data using GloVe"
   ]
  },
  {
   "cell_type": "code",
   "execution_count": 15,
   "metadata": {
    "collapsed": false
   },
   "outputs": [],
   "source": [
    "from os.path import join"
   ]
  },
  {
   "cell_type": "code",
   "execution_count": 16,
   "metadata": {
    "collapsed": false
   },
   "outputs": [],
   "source": [
    "import numpy as np\n",
    "\n",
    "def load_glove_dict(glove_file):\n",
    "    glove_embeddings = {}\n",
    "    with open(glove_file) as glove_file:\n",
    "        for line in glove_file:\n",
    "            split_line = line.split() \n",
    "            word, vector = split_line[0], np.asarray(split_line[1:])\n",
    "            glove_embeddings[word] =  vector\n",
    "    return glove_embeddings"
   ]
  },
  {
   "cell_type": "code",
   "execution_count": 17,
   "metadata": {
    "collapsed": false
   },
   "outputs": [],
   "source": [
    "GLOVE_PATH = '../../../resources/GloVe/twitter_dataset'\n",
    "\n",
    "embedding_size = '25'\n",
    "glove_file = join(GLOVE_PATH, 'glove.twitter.27B.' + embedding_size + 'd.txt')\n",
    "glove_25 = load_glove_dict(glove_file)"
   ]
  },
  {
   "cell_type": "code",
   "execution_count": 18,
   "metadata": {
    "collapsed": false
   },
   "outputs": [],
   "source": [
    "embedding_size = '100'\n",
    "glove_file = join(GLOVE_PATH, 'glove.twitter.27B.' + embedding_size + 'd.txt')\n",
    "glove_100 = load_glove_dict(glove_file)"
   ]
  },
  {
   "cell_type": "code",
   "execution_count": 19,
   "metadata": {
    "collapsed": true
   },
   "outputs": [],
   "source": [
    "def get_most_common_vocab(most_common, vocabulary):\n",
    "    most_common_words = vocabulary.most_common(int(most_common))\n",
    "    return set(word for word, _ in most_common_words)"
   ]
  },
  {
   "cell_type": "code",
   "execution_count": 20,
   "metadata": {
    "collapsed": false
   },
   "outputs": [],
   "source": [
    "def get_words_to_plot(most_common, vocabulary, dictionary):\n",
    "    words_to_plot = {}\n",
    "    unseen_words = []\n",
    "    for word in get_most_common_vocab(most_common, vocabulary):\n",
    "        if word in dictionary:\n",
    "            words_to_plot[word] = dictionary[word]\n",
    "        else:\n",
    "            unseen_words.append(word)\n",
    "    return words_to_plot, unseen_words"
   ]
  },
  {
   "cell_type": "code",
   "execution_count": 47,
   "metadata": {
    "collapsed": false
   },
   "outputs": [],
   "source": [
    "from sklearn.manifold import TSNE\n",
    "\n",
    "def plot_tsne(dictionary, most_common):\n",
    "    tsne = TSNE(perplexity=30, n_components=2, init='pca', n_iter=5000)\n",
    "   \n",
    "    words_to_plot_bros, unseen_words_bros = get_words_to_plot(most_common, brocabulary, dictionary)\n",
    "    words_to_plot_sis, unseen_words_sis = get_words_to_plot(most_common, siscabulary, dictionary)\n",
    "\n",
    "    low_dim_embs_bros = tsne.fit_transform(list(words_to_plot_bros.values()))\n",
    "    low_dim_embs_sis = tsne.fit_transform(list(words_to_plot_sis.values()))\n",
    "    \n",
    "    words_bros = list(words_to_plot_bros.keys())\n",
    "    range_words_bros=list(range(1,len(words_bros)+1))\n",
    "    source_bros = ColumnDataSource(data=dict(range_words=range_words_bros,\n",
    "                                             words_bros=words_bros,\n",
    "                                             x=low_dim_embs_bros[:,0], \n",
    "                                             y=low_dim_embs_bros[:,1]))\n",
    "\n",
    "    words_sis = list(words_to_plot_sis.keys())\n",
    "    range_words_sis = list(range(1,len(words_sis)+1))\n",
    "    source_sis = ColumnDataSource(data=dict(range_words=range_words_sis,\n",
    "                                             words_sis=words_sis,\n",
    "                                             x=low_dim_embs_sis[:,0], \n",
    "                                             y=low_dim_embs_sis[:,1]))\n",
    "    \n",
    "    \n",
    "    hover = HoverTool()\n",
    "    hover.point_policy = \"follow_mouse\"\n",
    "    hover = HoverTool(\n",
    "            tooltips=[\n",
    "                (\"words_bros\", \"@words_bros\"),\n",
    "                (\"words_sis\", \"@words_sis\"),\n",
    "            ]\n",
    "        )\n",
    "\n",
    "    TOOLS=\"pan,wheel_zoom,box_zoom,reset,save\"\n",
    "\n",
    "    p = figure(title = \"Word visualization\", tools=[TOOLS, hover])\n",
    "    p.circle('x', 'y', source=source_bros, fill_alpha=0.2, size=10, color='navy')\n",
    "    p.circle('x', 'y', source=source_sis, fill_alpha=0.2, size=10, color='red')\n",
    "\n",
    "    show(p)\n",
    "    return set(unseen_words_bros + unseen_words_sis)"
   ]
  },
  {
   "cell_type": "code",
   "execution_count": 59,
   "metadata": {
    "collapsed": false
   },
   "outputs": [
    {
     "data": {
      "text/html": [
       "\n",
       "\n",
       "    <div class=\"bk-root\">\n",
       "        <div class=\"plotdiv\" id=\"15103063-9c1d-4408-b93c-716be893a33a\"></div>\n",
       "    </div>\n",
       "<script type=\"text/javascript\">\n",
       "  \n",
       "  (function(global) {\n",
       "    function now() {\n",
       "      return new Date();\n",
       "    }\n",
       "  \n",
       "    if (typeof (window._bokeh_onload_callbacks) === \"undefined\") {\n",
       "      window._bokeh_onload_callbacks = [];\n",
       "    }\n",
       "  \n",
       "    function run_callbacks() {\n",
       "      window._bokeh_onload_callbacks.forEach(function(callback) { callback() });\n",
       "      delete window._bokeh_onload_callbacks\n",
       "      console.info(\"Bokeh: all callbacks have finished\");\n",
       "    }\n",
       "  \n",
       "    function load_libs(js_urls, callback) {\n",
       "      window._bokeh_onload_callbacks.push(callback);\n",
       "      if (window._bokeh_is_loading > 0) {\n",
       "        console.log(\"Bokeh: BokehJS is being loaded, scheduling callback at\", now());\n",
       "        return null;\n",
       "      }\n",
       "      if (js_urls == null || js_urls.length === 0) {\n",
       "        run_callbacks();\n",
       "        return null;\n",
       "      }\n",
       "      console.log(\"Bokeh: BokehJS not loaded, scheduling load and callback at\", now());\n",
       "      window._bokeh_is_loading = js_urls.length;\n",
       "      for (var i = 0; i < js_urls.length; i++) {\n",
       "        var url = js_urls[i];\n",
       "        var s = document.createElement('script');\n",
       "        s.src = url;\n",
       "        s.async = false;\n",
       "        s.onreadystatechange = s.onload = function() {\n",
       "          window._bokeh_is_loading--;\n",
       "          if (window._bokeh_is_loading === 0) {\n",
       "            console.log(\"Bokeh: all BokehJS libraries loaded\");\n",
       "            run_callbacks()\n",
       "          }\n",
       "        };\n",
       "        s.onerror = function() {\n",
       "          console.warn(\"failed to load library \" + url);\n",
       "        };\n",
       "        console.log(\"Bokeh: injecting script tag for BokehJS library: \", url);\n",
       "        document.getElementsByTagName(\"head\")[0].appendChild(s);\n",
       "      }\n",
       "    };var element = document.getElementById(\"15103063-9c1d-4408-b93c-716be893a33a\");\n",
       "    if (element == null) {\n",
       "      console.log(\"Bokeh: ERROR: autoload.js configured with elementid '15103063-9c1d-4408-b93c-716be893a33a' but no matching script tag was found. \")\n",
       "      return false;\n",
       "    }\n",
       "  \n",
       "    var js_urls = [];\n",
       "  \n",
       "    var inline_js = [\n",
       "      function(Bokeh) {\n",
       "        Bokeh.$(function() {\n",
       "            var docs_json = {\"02fb93c4-892d-495b-80c7-5a0fd58591a1\":{\"roots\":{\"references\":[{\"attributes\":{\"plot\":{\"id\":\"49dcfdf2-ef75-429b-9707-4126a08dad8e\",\"subtype\":\"Figure\",\"type\":\"Plot\"}},\"id\":\"0f383b04-a991-413b-8eab-467928a2f3a6\",\"type\":\"PanTool\"},{\"attributes\":{\"formatter\":{\"id\":\"7b176982-f0a2-4c41-ab9e-561d7169bd79\",\"type\":\"BasicTickFormatter\"},\"plot\":{\"id\":\"49dcfdf2-ef75-429b-9707-4126a08dad8e\",\"subtype\":\"Figure\",\"type\":\"Plot\"},\"ticker\":{\"id\":\"f54f0931-f0bc-43ce-b03b-66c3a4ec74f1\",\"type\":\"BasicTicker\"}},\"id\":\"7265accd-a7c0-4e05-b6e5-4f5a47280faa\",\"type\":\"LinearAxis\"},{\"attributes\":{\"overlay\":{\"id\":\"431b8386-fd3b-4f5f-a13e-9d6c2e4709d6\",\"type\":\"BoxAnnotation\"},\"plot\":{\"id\":\"49dcfdf2-ef75-429b-9707-4126a08dad8e\",\"subtype\":\"Figure\",\"type\":\"Plot\"}},\"id\":\"9f126340-c5bd-4fb6-867d-83520838664e\",\"type\":\"BoxZoomTool\"},{\"attributes\":{\"fill_alpha\":{\"value\":0.1},\"fill_color\":{\"value\":\"#1f77b4\"},\"line_alpha\":{\"value\":0.1},\"line_color\":{\"value\":\"#1f77b4\"},\"size\":{\"units\":\"screen\",\"value\":10},\"x\":{\"field\":\"x\"},\"y\":{\"field\":\"y\"}},\"id\":\"b15d4034-0141-4764-a2a7-d942b6408916\",\"type\":\"Circle\"},{\"attributes\":{\"callback\":null,\"plot\":{\"id\":\"49dcfdf2-ef75-429b-9707-4126a08dad8e\",\"subtype\":\"Figure\",\"type\":\"Plot\"},\"tooltips\":[[\"words_bros\",\"@words_bros\"],[\"words_sis\",\"@words_sis\"]]},\"id\":\"79a0932d-79b7-4c25-a558-a605095bc8b6\",\"type\":\"HoverTool\"},{\"attributes\":{\"callback\":null,\"column_names\":[\"x\",\"words_bros\",\"y\",\"range_words\"],\"data\":{\"range_words\":[1,2,3,4,5,6,7,8,9,10,11,12,13,14,15,16,17,18,19,20,21,22,23,24,25,26,27,28,29,30,31,32,33,34,35,36,37,38,39,40,41,42,43,44,45,46,47,48,49,50,51,52,53,54,55,56,57,58,59,60,61,62,63,64,65,66,67,68,69,70,71,72,73,74,75,76,77,78,79,80,81,82,83,84,85,86,87,88,89,90,91,92,93,94,95,96,97,98,99,100,101,102,103,104,105,106,107,108,109,110,111,112,113,114,115,116,117,118,119,120,121,122,123,124,125,126,127,128,129,130,131,132,133,134,135,136,137,138,139,140,141,142,143,144,145,146,147,148,149,150,151,152,153,154,155,156,157,158,159,160,161,162,163,164,165,166,167,168,169,170,171,172,173,174,175,176,177,178,179,180,181,182,183,184,185,186,187,188,189,190,191,192,193,194,195,196,197,198,199,200,201,202,203,204,205,206,207,208,209,210,211,212,213,214,215,216,217,218,219,220,221,222,223,224,225,226,227,228,229,230,231,232,233,234,235,236,237,238,239,240,241,242,243,244,245,246,247,248,249,250,251,252,253,254,255,256,257,258,259,260,261,262,263,264,265,266,267,268,269,270,271,272,273,274,275,276,277,278,279,280,281,282,283,284,285,286,287,288,289,290,291,292,293,294,295,296,297,298,299,300,301,302,303,304,305,306,307,308,309,310,311,312,313,314,315,316,317,318,319,320,321,322,323,324,325,326,327,328,329,330,331,332,333,334,335,336,337,338,339,340,341,342,343,344,345,346,347,348,349,350,351,352,353,354,355,356,357,358,359,360,361,362,363,364,365,366,367,368,369,370,371,372,373,374,375,376,377,378,379,380,381,382,383,384,385,386,387,388,389,390,391,392,393,394,395,396,397,398,399,400,401,402,403,404,405,406,407,408,409,410,411,412,413,414,415,416,417,418,419,420,421,422,423,424,425,426,427,428,429,430,431,432,433,434,435,436,437,438,439,440,441,442,443,444,445,446,447,448,449,450,451,452,453,454,455,456,457,458,459,460,461,462,463,464,465,466,467,468,469,470,471,472,473,474,475,476,477,478,479,480,481,482,483,484,485,486,487,488,489,490,491,492,493,494,495,496,497,498,499,500,501,502,503,504,505,506,507,508,509,510,511,512,513,514,515,516,517,518,519,520,521,522,523,524,525,526,527,528,529,530,531,532,533,534,535,536,537,538,539,540,541,542,543,544,545,546,547,548,549,550,551,552,553,554,555,556,557,558,559,560,561,562,563,564,565,566,567,568,569,570,571,572,573,574,575,576,577,578,579,580,581,582,583,584,585,586,587,588,589,590,591,592,593,594,595,596,597,598,599,600,601,602,603,604,605,606,607,608,609,610,611,612,613,614,615,616,617,618,619,620,621,622,623,624,625,626,627,628,629,630,631,632,633,634,635,636,637,638,639,640,641,642,643,644,645,646,647,648,649,650,651,652,653,654,655,656,657,658,659,660,661,662,663,664,665,666,667,668,669,670,671,672,673,674,675,676,677,678,679,680,681,682,683,684,685,686,687,688,689,690,691,692,693,694,695,696,697,698,699,700,701,702,703,704,705,706,707,708,709,710,711,712,713,714,715,716,717,718,719,720,721,722,723,724,725,726,727,728,729,730,731,732,733,734,735,736,737,738,739,740,741,742,743,744,745,746,747,748,749,750,751,752,753,754,755,756,757,758,759,760,761,762,763,764,765,766,767,768,769,770,771,772,773,774,775,776,777,778,779,780,781,782,783,784,785,786,787,788,789,790,791,792,793,794,795,796,797,798,799,800,801,802,803,804,805,806,807,808,809,810,811,812,813,814,815,816,817,818,819,820,821,822,823,824,825,826,827,828,829,830,831,832,833,834,835,836,837,838,839,840,841,842,843,844,845,846,847,848,849,850,851,852,853,854,855,856,857,858,859,860,861,862,863,864,865,866,867,868,869,870,871,872,873,874,875,876,877,878,879,880,881,882,883,884,885,886,887,888,889,890,891,892,893,894,895,896,897,898,899,900,901,902,903,904,905,906,907,908,909,910,911,912,913,914,915,916,917,918,919,920,921,922,923,924,925,926,927,928,929,930,931,932,933,934,935,936,937,938,939],\"words_bros\":[\"people\",\"study\",\"tutorials\",\"computational\",\"something\",\"tonight\",\"hours\",\"considering\",\"c\",\"graphics\",\"spouse\",\"style\",\"presented\",\"hackers\",\"h\",\"world\",\"excited\",\"results\",\"submissions\",\"white\",\"gradient\",\"growth\",\"json\",\"contributor\",\"join\",\"change\",\"without\",\"cause\",\"stack\",\"journal\",\"machined\",\"experience\",\"hey\",\"e\",\"automation\",\"far\",\"could\",\"flow\",\"th\",\"like\",\"prefer\",\"wikipedia\",\"bug\",\"videos\",\"spout\",\"b\",\"discussion\",\"consulate\",\"architecture\",\"negative\",\"use\",\"point\",\"side\",\"scientific\",\"congrats\",\"bp\",\"type\",\"ni\",\"live\",\"ordinal\",\"flattered\",\"name\",\"images\",\"first\",\"weekend\",\"series\",\"dropout\",\"discovered\",\"submit\",\"implementation\",\"hacks\",\"money\",\"backend\",\"water\",\"begins\",\"needs\",\"sur\",\"shell\",\"seattle\",\"understand\",\"fix\",\"sprint\",\"label\",\"spatial\",\"control\",\"interviews\",\"nyu\",\"helpful\",\"decoder\",\"missing\",\"tables\",\"night\",\"managers\",\"podcast\",\"changelog\",\"consider\",\"rc\",\"every\",\"joined\",\"found\",\"july\",\"usually\",\"lines\",\"mu\",\"ai\",\"along\",\"happy\",\"surprised\",\"faster\",\"private\",\"hm\",\"mention\",\"cleaning\",\"different\",\"declaration\",\"pure\",\"logistic\",\"connectivity\",\"speed\",\"styles\",\"engineer\",\"charger\",\"everyone\",\"p\",\"solve\",\"regression\",\"known\",\"always\",\"gb\",\"hiring\",\"list\",\"french\",\"apologies\",\"fabian\",\"ml\",\"tricks\",\"san\",\"registration\",\"translations\",\"super\",\"update\",\"transfer\",\"causal\",\"indeed\",\"using\",\"ways\",\"including\",\"kinds\",\"multi\",\"two\",\"earth\",\"strangers\",\"changing\",\"amp\",\"fmri\",\"word\",\"progress\",\"scientist\",\"speaking\",\"power\",\"reading\",\"unfortunately\",\"poster\",\"folks\",\"slow\",\"among\",\"seeing\",\"prediction\",\"reinforcement\",\"enjoy\",\"available\",\"penalty\",\"pip\",\"yes\",\"classification\",\"away\",\"state\",\"insights\",\"example\",\"lightning\",\"g\",\"schedule\",\"long\",\"haha\",\"rules\",\"case\",\"bbq\",\"syntax\",\"overhead\",\"make\",\"fixed\",\"youtube\",\"easy\",\"matlab\",\"useful\",\"focused\",\"intuitive\",\"agree\",\"maintenance\",\"yet\",\"nips\",\"otherwise\",\"spot\",\"later\",\"bit\",\"attend\",\"least\",\"university\",\"colleagues\",\"materials\",\"originally\",\"add\",\"looking\",\"completed\",\"working\",\"fast\",\"ones\",\"said\",\"papers\",\"ec\",\"gradients\",\"room\",\"fact\",\"see\",\"aes\",\"article\",\"notebooks\",\"distributed\",\"actual\",\"log\",\"submitted\",\"aspect\",\"arxiv\",\"tuning\",\"effort\",\"berkeley\",\"keep\",\"nc\",\"speakers\",\"let\",\"community\",\"submitting\",\"idea\",\"opensource\",\"day\",\"tomorrow\",\"project\",\"anywhere\",\"inspiration\",\"math\",\"chat\",\"blog\",\"analysis\",\"cfp\",\"keeping\",\"according\",\"u\",\"x\",\"literally\",\"random\",\"statement\",\"go\",\"small\",\"color\",\"highly\",\"give\",\"biggest\",\"computing\",\"supervised\",\"seen\",\"meeting\",\"points\",\"average\",\"sure\",\"scientists\",\"hands\",\"recomm\",\"publications\",\"test\",\"valid\",\"ok\",\"big\",\"ecosystem\",\"short\",\"currently\",\"learned\",\"top\",\"student\",\"data\",\"someone\",\"find\",\"api\",\"personal\",\"safe\",\"booth\",\"version\",\"told\",\"exact\",\"current\",\"kids\",\"source\",\"line\",\"deep\",\"repo\",\"contribute\",\"independence\",\"memory\",\"may\",\"google\",\"full\",\"honored\",\"nb\",\"probably\",\"cluster\",\"performance\",\"programming\",\"challenge\",\"calls\",\"recently\",\"audience\",\"nice\",\"summer\",\"guess\",\"eu\",\"generally\",\"hood\",\"info\",\"done\",\"sf\",\"github\",\"paris\",\"spend\",\"population\",\"soon\",\"aura\",\"multiple\",\"dropping\",\"al\",\"rounding\",\"processing\",\"debt\",\"map\",\"seems\",\"knights\",\"local\",\"ios\",\"du\",\"new\",\"published\",\"latest\",\"wheels\",\"police\",\"recent\",\"door\",\"gif\",\"thank\",\"move\",\"particular\",\"suit\",\"plotting\",\"powell\",\"static\",\"sry\",\"little\",\"bias\",\"stuff\",\"logger\",\"software\",\"polynomial\",\"derived\",\"ca\",\"capital\",\"sustainability\",\"apis\",\"systems\",\"except\",\"much\",\"thanks\",\"positive\",\"old\",\"heaps\",\"accepted\",\"best\",\"catch\",\"work\",\"projects\",\"amd\",\"user\",\"internet\",\"tue\",\"link\",\"fun\",\"whether\",\"trial\",\"curious\",\"interpreting\",\"announced\",\"worth\",\"import\",\"build\",\"pong\",\"rooms\",\"whole\",\"tools\",\"cross\",\"know\",\"active\",\"students\",\"climate\",\"woot\",\"oops\",\"animated\",\"simple\",\"amazing\",\"made\",\"demo\",\"request\",\"int\",\"released\",\"fused\",\"unedited\",\"et\",\"response\",\"ideas\",\"books\",\"impressive\",\"en\",\"around\",\"k\",\"signed\",\"defaults\",\"traditional\",\"stay\",\"pull\",\"model\",\"atlantic\",\"got\",\"country\",\"toutes\",\"python\",\"coding\",\"graphical\",\"realize\",\"search\",\"brain\",\"biases\",\"expect\",\"becoming\",\"space\",\"starting\",\"success\",\"responsive\",\"glad\",\"second\",\"leaving\",\"approximate\",\"incredibly\",\"setup\",\"delay\",\"geoff\",\"library\",\"might\",\"summit\",\"makes\",\"please\",\"excellent\",\"docs\",\"klein\",\"program\",\"w\",\"bayesian\",\"gotta\",\"wed\",\"major\",\"keynote\",\"harvard\",\"meet\",\"generalization\",\"often\",\"interested\",\"forget\",\"mode\",\"social\",\"reproduce\",\"turns\",\"loss\",\"frankly\",\"last\",\"start\",\"hosting\",\"discover\",\"well\",\"lot\",\"l\",\"time\",\"gt\",\"issues\",\"solvers\",\"better\",\"summary\",\"error\",\"empirical\",\"imported\",\"revamped\",\"awe\",\"review\",\"neuroscience\",\"worked\",\"statistics\",\"million\",\"functions\",\"mechanical\",\"based\",\"started\",\"anything\",\"updates\",\"htt\",\"research\",\"watch\",\"total\",\"take\",\"visit\",\"methods\",\"models\",\"sorry\",\"look\",\"statistical\",\"france\",\"right\",\"visualizations\",\"install\",\"behind\",\"thoughts\",\"definitely\",\"really\",\"relatively\",\"access\",\"everything\",\"trees\",\"okay\",\"doc\",\"learnings\",\"talk\",\"design\",\"versions\",\"end\",\"volunteers\",\"good\",\"heart\",\"web\",\"would\",\"support\",\"dataviz\",\"existence\",\"asynchronous\",\"center\",\"problem\",\"giving\",\"mind\",\"believe\",\"watches\",\"questions\",\"us\",\"maps\",\"utah\",\"hack\",\"pm\",\"counties\",\"labyrinth\",\"figure\",\"related\",\"lasso\",\"explained\",\"tutorial\",\"wanted\",\"stumbled\",\"path\",\"introduction\",\"say\",\"sound\",\"resource\",\"friends\",\"command\",\"author\",\"explains\",\"surprise\",\"early\",\"plus\",\"dask\",\"btw\",\"exciting\",\"crazy\",\"play\",\"notes\",\"text\",\"la\",\"deepmind\",\"slides\",\"py\",\"open\",\"improvements\",\"none\",\"comes\",\"boosting\",\"windows\",\"senior\",\"v\",\"real\",\"week\",\"js\",\"beta\",\"perl\",\"speaker\",\"via\",\"write\",\"monday\",\"car\",\"park\",\"question\",\"easier\",\"bigdata\",\"phone\",\"register\",\"seq\",\"ci\",\"extended\",\"similar\",\"interactive\",\"smooth\",\"shows\",\"release\",\"reference\",\"run\",\"function\",\"<number>\",\"automated\",\"paper\",\"teaching\",\"still\",\"https\",\"joint\",\"st\",\"maybe\",\"online\",\"linux\",\"detailed\",\"getting\",\"show\",\"seem\",\"forge\",\"academia\",\"presentation\",\"science\",\"next\",\"details\",\"book\",\"upon\",\"life\",\"ht\",\"ever\",\"trying\",\"upgrade\",\"dataset\",\"tried\",\"bunch\",\"jupiter\",\"inference\",\"awesome\",\"beautiful\",\"twitter\",\"another\",\"suggestions\",\"bag\",\"built\",\"today\",\"written\",\"going\",\"documentation\",\"planet\",\"feedback\",\"sustainable\",\"hope\",\"deadline\",\"tweet\",\"linked\",\"used\",\"de\",\"words\",\"quite\",\"server\",\"man\",\"url\",\"approach\",\"energised\",\"pretty\",\"love\",\"noticed\",\"r\",\"turn\",\"keynotes\",\"expertise\",\"wow\",\"updated\",\"torch\",\"machines\",\"already\",\"read\",\"vision\",\"actively\",\"matrix\",\"non\",\"feel\",\"funny\",\"instead\",\"wrote\",\"sold\",\"lab\",\"decoding\",\"sparse\",\"religion\",\"professional\",\"pycon\",\"credit\",\"video\",\"takes\",\"octobre\",\"heard\",\"engineering\",\"german\",\"century\",\"types\",\"thought\",\"saying\",\"osis\",\"important\",\"check\",\"networks\",\"les\",\"whose\",\"gimmicky\",\"ppl\",\"dl\",\"welcome\",\"visual\",\"domain\",\"afternoon\",\"part\",\"f\",\"help\",\"munich\",\"difference\",\"provide\",\"issue\",\"presenting\",\"anaconda\",\"way\",\"making\",\"image\",\"machine\",\"closing\",\"fit\",\"create\",\"generative\",\"features\",\"learning\",\"enough\",\"years\",\"american\",\"conference\",\"enterprise\",\"yeah\",\"election\",\"http\",\"get\",\"saw\",\"try\",\"reason\",\"moment\",\"possible\",\"year\",\"thing\",\"vienna\",\"translate\",\"position\",\"mean\",\"third\",\"sky\",\"users\",\"app\",\"neural\",\"package\",\"level\",\"hear\",\"coming\",\"recorded\",\"job\",\"notebook\",\"etc\",\"tickets\",\"history\",\"workshop\",\"putting\",\"asks\",\"tell\",\"terminals\",\"anyone\",\"gallery\",\"home\",\"actually\",\"many\",\"split\",\"final\",\"posted\",\"sad\",\"rejection\",\"bad\",\"mostly\",\"algebra\",\"called\",\"one\",\"keyboard\",\"course\",\"great\",\"technical\",\"others\",\"call\",\"display\",\"optional\",\"upload\",\"oh\",\"curation\",\"vs\",\"nets\",\"completely\",\"gets\",\"feature\",\"bring\",\"set\",\"examples\",\"timing\",\"days\",\"linear\",\"future\",\"announce\",\"news\",\"laptop\",\"ad\",\"follow\",\"given\",\"depends\",\"single\",\"analytics\",\"means\",\"large\",\"tagged\",\"n\",\"classic\",\"bars\",\"thx\",\"looks\",\"wonderful\",\"quick\",\"answer\",\"tasks\",\"clear\",\"scale\",\"post\",\"though\",\"files\",\"requests\",\"family\",\"must\",\"rt\",\"things\",\"never\",\"natural\",\"presidential\",\"hundreds\",\"beyond\",\"rennes\",\"times\",\"interesting\",\"optimization\",\"cool\",\"learn\",\"finally\",\"want\",\"come\",\"numba\",\"high\",\"left\",\"heavy\",\"group\",\"since\",\"problems\",\"ready\",\"forward\",\"sheffield\",\"validation\",\"posters\",\"james\",\"ago\",\"self\",\"tpot\",\"banker\",\"stats\",\"team\",\"cognitive\",\"code\",\"policy\",\"proceedings\",\"trick\",\"less\",\"pro\",\"person\",\"due\",\"openscience\",\"numerical\",\"speak\",\"also\",\"mmds\",\"title\",\"think\",\"free\",\"cc\",\"viz\",\"japanese\",\"need\",\"git\",\"talks\",\"intensive\",\"promising\",\"conda\",\"back\",\"til\",\"changes\",\"running\",\"datasets\",\"language\"],\"x\":[-18.77919909901055,3.002434070203665,2.5408583177330404,12.91030910585884,-21.936273039089297,-27.073568384382686,-25.047758352512467,-15.933650430627551,-4.728872837160588,1.5798743408294138,0.1830978683952331,-15.142482623134715,-2.0604316540794954,4.3626035674992325,-4.411675056069837,-12.047511925705972,-27.58095061601455,-1.5446302061716566,-3.521826715728926,-14.679157922275746,14.07477614423501,-0.8671902461091159,11.368807760953498,13.22306858583017,-7.923179802364718,-13.012735818372118,-21.335387231319856,-27.194266490330122,-12.137580816159893,-3.269951973045657,14.916420108140791,-3.5384274627318675,-20.30936120805472,-6.245917600267232,6.295275323806474,-22.17785747247716,-25.312656003680594,-13.364581648078447,-22.441646436876542,-27.033970857172584,-17.017245161596506,-4.409435888926095,-3.779606415994295,-6.845948347240161,15.830997928533819,-5.013482176436909,-2.6396645620577597,10.771015937933633,2.357960249652468,-7.3686800097782195,-15.530888940098539,-18.29734591079712,-14.919897451290854,11.398947130505004,-22.351122513147907,4.530377176269995,-18.10697650054997,-4.96737559352369,-20.207633676666575,13.727313719605588,-13.673018133498392,-24.749567704735124,-2.7753186760599178,-22.631324430089972,-24.814008490657493,-14.026364103185331,16.78457435271542,-6.026441639651516,-2.9663383344579373,8.271991411641224,4.506077319421505,-28.223097087369133,8.450515863800504,-16.290706570052397,-18.650703051405422,-28.236472799836505,2.9243658028822783,7.975656725157792,3.0408124860145573,-20.24245943108526,-11.322036035973454,-0.8770003778357657,1.2692335607130631,13.13255837915268,-10.189295491484074,-1.739708641243743,5.150865730422748,-3.3563868884930255,13.75105778763356,-23.0299500567001,-13.627030623180117,-26.965262486765106,0.9547623083146402,-0.20294980592503742,16.670781678539672,-18.118886230918797,5.237458744592926,-21.508681220397587,-13.2917106192549,-6.160994772565527,-22.942061752614674,-16.545544116206223,-12.938894486152174,0.54405513255465,-8.734111258353638,-21.976154599049387,-27.09071816137358,-14.79229804262982,-17.41577658134653,-1.291796013080244,-18.32955498402995,-7.651114209969509,-14.53991691412507,-19.3353437570639,7.5418576225777425,-17.259113247226296,10.00339981198993,8.944219476585634,-10.619155873989584,-13.575348839436135,4.4446183550631595,8.75327613334463,-24.05837300949327,-5.216474890952817,-10.535598029941863,12.915149987717657,-19.655308804436242,-26.169736413716773,7.021369184640668,3.3781661389795477,-6.335391447515478,-7.189983079402665,-18.735648269803065,9.289049055540152,5.110951471410363,-13.4276414451288,1.2646328615637958,-1.8830195733701138,6.941229516982411,-16.69785009281338,-5.150721752704127,-3.5250440235212706,14.466215716880061,-17.832451242508622,-15.46324892252738,-4.87838278843577,-9.523543154633428,-10.42661394286668,8.931842050350213,-19.640985506688583,-11.836056625127732,-20.88949243188904,-13.844540940131449,5.34054999022089,12.31343508754278,-12.469764809575357,-1.8695056482393229,8.284617940645445,-8.530154439190795,-10.569132241125649,-6.657334769788778,-17.014411540053413,-2.3100210454774945,-17.878797439869945,-17.721105814923387,-7.8188426571540885,-23.895050779715675,-1.2136944595816257,13.550377509634767,-30.34974924718649,-7.3651115724812755,-17.060453248186803,9.076503267559193,-19.865934910680114,9.715885788304558,-22.863589694140618,3.7543769407066696,7.667920013674165,-4.4175693928297965,-2.195416342275972,-3.873886207218757,-9.491602747754008,-20.710550688630445,-18.523932220250853,-11.845668154558433,-10.366069202038465,-13.305875061830617,11.282494124041374,11.949973626524764,-26.950306480078375,-11.236519052401249,-6.2034754350639165,-16.550619306404563,7.1549660864876,-3.8151807799388626,-12.27318851957707,13.20091673044381,-19.30528369406371,4.016179531313612,-22.95705856184332,9.58925410398423,-18.59127750953001,-13.956090932053868,-26.267105041729703,-20.08674449055375,-19.777573086842594,-23.75820572766134,4.948459966001292,0.3536988270236892,5.664366858627167,-6.949656007934723,-5.187035892329525,-30.86791164139956,-2.7093351316427974,-28.63864447723043,-17.41410100773375,-19.65284782624299,-25.620057312956135,-2.641823207978038,4.362986394326496,13.74333879786903,-14.252118752519385,-19.851571452828413,-24.939538830007898,9.489211022750188,-3.3484439965705413,5.612807187353447,10.44087254214553,-8.13833018436342,4.438452648524516,-4.081216441560096,-5.302284077658072,17.87547878809584,6.026617022552723,-10.287945150509183,4.88977505365762,-29.91961354677238,3.761297367602819,3.4827962990399493,-26.30757293552859,-0.08861750260848487,6.588653114971213,-7.640555113489485,10.258423485757241,-26.79995398437624,-26.546333356169846,1.232407929473335,-20.239659659229037,-2.967879765209348,3.458907130943746,-6.67718913959683,-5.923266165852944,-0.7329907627848911,14.232184451703946,-15.153113403286458,-7.297484127963133,-6.216445450003456,-3.9703255867657696,-24.84138939713861,-18.397699067811235,-5.463459591435355,-26.432747703513034,-17.35135457616464,-11.789944979664051,-12.799284445018566,-26.597284251408414,-11.018778780611267,6.591184700065095,15.046495978131883,-26.260492830844818,-0.24087598337475313,-18.17527106179802,-9.687053690657898,-24.359387151614207,8.281172641045066,-20.817829928483178,16.206338764535325,12.805793887516323,3.17995091966785,-5.841175479837505,-18.49269277508492,-17.39427775397444,8.074726135309682,-20.548962498766947,-15.861944144946445,-13.899172051613954,-16.38957026534619,1.1188472351107728,4.801844650444352,-22.51067601595111,-23.343834946539655,6.71114666693577,-8.073572139480978,-30.47357240243833,-0.2825425491950866,-0.6786082218301402,-25.663736727989203,-8.526104732803537,-8.721081543469943,-30.89287842527866,-3.8713877030157255,-12.924800453207279,-15.130594667611645,9.624480434040212,-2.8652436998974076,7.486287111324807,-9.598034191952882,-21.948593967850915,-4.304613232495643,-14.302171352017996,-10.668790428905602,3.86690468925062,-25.11775444037265,9.99535474072043,-1.5448217027929285,6.788302396348366,-12.33828438016528,-14.65970566532149,-13.51230629784451,-1.7229649928793065,-29.607759566901954,-24.895734183137264,-24.550536523589408,-7.21415047656096,-15.81339780902497,-16.09424627168834,-7.00348481460561,-27.163043426869713,2.8748555155785525,9.743925384268973,4.674941668753192,-22.00080188732277,-9.583275450251135,-26.33225317633646,3.961981633865115,-9.46184641238309,-15.584273802161569,-1.9743393254263815,13.26305301433381,6.857114274451793,2.2290575465065263,-3.9761261328276256,-15.140923481135808,6.918526058879527,-0.5034854508807699,-3.250023118246253,3.4396396024920284,-18.934100277784157,-4.244439182917113,-6.167671489109069,-10.555215987895522,-16.360836350547718,-5.957048021951877,-15.219869966999322,-3.0345364370130987,-22.804632702616843,-22.64040215564061,-8.084639581990814,-15.122588984830358,-8.42100485940318,8.372810918871313,11.423813028002783,-17.860765578362034,-20.142446175209166,-7.364933299685257,-20.901577752075845,8.645172481504913,4.750092545541918,18.583501268929627,14.679143172322917,-25.978152893657057,-0.5362973263363662,6.7649609624500116,7.247280294025013,5.365693102004121,-20.111916919804525,-21.031066014894662,-22.723851096149986,-10.942776993441244,-23.028772352270323,-12.7170921773533,-16.608609935425214,-29.492068700344614,-20.941579237010327,-28.706424019064475,1.6186002764398786,6.502347253781624,-3.5544402844900507,-5.767205246593839,1.363135875643536,-5.426315146595814,-30.270953527472557,-17.68569439324877,-10.280353212987412,-13.798281505279563,11.217645903964705,-9.08896552013125,-21.822214859335496,1.875909404687367,-3.624941038996549,-13.896922936192151,-13.87312704649935,-21.37428457520602,4.88078478481975,-15.057260159959007,-26.962089648909963,-1.6252767226577212,2.0075490974853802,3.434187586227951,-21.408885804545168,-17.460450633783697,-0.8755195212651563,-15.932267496265895,-30.3376761373115,-23.339845401233145,2.754829068687167,-4.887440607108904,3.5193685266984986,-9.400387379639483,16.956255270872045,16.651360549485158,3.0697783898030107,-5.217007543967858,-7.3254717385746035,-6.038658532543666,-10.55249407942214,-3.090963546366191,-21.965461328535802,-5.579530197131455,-11.12818999359388,12.675110984995525,-6.06331393825734,-29.967062656628634,-19.855002239035244,1.0089459025948633,3.5587358557076074,-28.121584967162097,-14.406058396155316,2.85202983851734,8.218350945202674,6.430851785943445,12.438707408869433,-20.637238678215613,-5.568765152419038,-16.773185806471265,10.909399003988865,-18.855708197475415,-15.599566688190306,-10.361583230587144,-24.518187599871453,-2.125523546703133,3.7033127975373414,-23.361299710126328,-21.57911897268783,-23.295704399588384,14.289103535129017,-11.932417442734799,2.3576157659452703,-10.833320625183683,8.876539187493142,1.8038254953768367,-25.14962323050402,0.8339605583820627,-22.945678760641556,-24.47108292951532,-3.1165751125713816,0.7082696615983793,8.892095058118294,0.3621555513298345,-3.062957318506755,13.363568759469644,-27.38173898343835,-22.97732130209748,-10.883762592971214,15.285791444071783,5.131315753590298,-25.03225766941653,14.748839439422646,-16.766338519866842,-16.249185906438232,-25.72904879547858,-12.773124983249092,-7.777504358255598,12.910774888607891,-20.038904762516406,-2.004622258958949,-14.419354911185392,-23.289306257370402,-25.30715952909892,-1.2603365462182357,-5.096090227596758,-24.18644599724621,-19.504982959695937,-4.714960580820006,-23.117047857446156,-2.7520518514443504,-10.194775666918204,17.528027652077025,-24.011753227519034,-1.2117293507309073,-5.121527810132122,11.928625719908485,2.211712939344571,11.687845867011369,-19.272706355577306,-6.5113451875207256,12.715439488693633,-14.546445809555497,1.8400145908760304,-10.454015794837376,6.804333866727436,4.085616348431178,-4.820080249906952,-25.452575210697265,-22.50969437191526,-5.927408551988117,3.8235374158130346,3.2590675036645136,-24.935679355793475,-9.58645424378378,-26.516320628120496,-7.6708422560682274,5.769845662051857,1.0065902725397002,-18.393256168775956,-30.71651064947059,12.505683560159673,5.425698382729967,-23.12574354951999,11.280190663569924,3.9515393534697973,-21.5916929571057,-16.924861332132284,-24.43157443942125,-26.75886130841505,-14.893144642779781,-1.4843025890192787,-22.172076385595695,-16.961926920097632,-18.51069008384779,0.53479409495524,12.15600863463809,-27.466941395242827,2.0821951853855376,-0.5793004949770114,-20.951936235254024,0.2032010674042731,-29.36688330382715,-29.93200728222621,-5.516479001879885,-25.47825665323714,-25.661381431577226,10.172875851193519,-6.276143189711254,14.367079532012417,0.8294840795703159,-10.883279191914108,-16.910610895939463,-17.142299641893413,-25.412376862061617,-18.84374125773295,-12.31689825230331,-26.037197411821214,-4.663427063906365,3.9071689382179047,4.30828218839815,-22.861955300149756,4.023818555193936,10.25466305896825,-14.67094731829534,-4.976241861933598,9.967858218990209,-5.948159795019291,2.5012750634760526,-23.265266664505646,-7.850877495300113,-12.178630950234938,-1.2596131358788685,-26.833781108403485,-18.475704498817592,6.351050937613395,-30.99571216356505,-3.8381355252452307,-5.884805811372113,-6.386129921251102,-20.007108419839096,-25.89253669341251,3.3673784214897178,16.963094785591498,-18.765098562313547,-10.7208114616358,-28.601650842972166,-24.36648984715206,-1.8428262013548877,-20.32827950355351,-4.04162440699188,15.203954476557179,0.3580881421938017,1.8512977882281683,-14.627763139284514,8.675798136456583,-19.432689307657046,-20.640237584023307,9.247915467426164,-2.987569522874974,2.5335911755061744,-4.101007797857754,-29.398814021766167,-24.56199540284726,3.9692120358189116,3.397853041369136,9.265772300828075,3.3516222396369004,-6.57712050272491,-6.626033710759422,-25.83821139820424,-17.410923121908414,1.1032608895397578,-12.369682359723216,-16.45929721909486,7.708357537285021,-20.261632914118508,-3.2334394398007715,14.408934916617092,-0.8153522826599955,-9.087887559962287,-8.124013999782429,-0.4065303071189673,-15.308867496452576,-19.545895812484417,-8.833637713302098,-4.3796596552990295,-21.58152263064547,6.729051095749547,-4.298629989459588,10.775487560855101,0.7132088199614377,0.2540243426090436,-26.319012257449803,3.9013621217392895,-13.007505799552037,-22.297279187413807,-24.438318639755988,-5.77386656773703,5.123648359941858,-2.1446142221738533,-27.969986274795136,-20.000495180929548,-15.392546725069458,10.898871656919706,-2.3200703184085327,0.08887189191882827,3.8063081707084674,-23.627995103668685,-6.706355635876965,-4.322224264931806,-11.843588367980107,-18.458619807911205,2.214019005161654,-22.98277079302367,-23.573544863068854,2.5996462339695277,10.842150676770133,-23.857006000682905,-18.64840375706406,11.703620191079674,13.457444418318392,-30.1384948933521,-31.06355560385912,-6.8285441742975825,-22.096336346187996,-3.952884765764308,-16.761778509515917,-3.769068016216031,-26.744981972654774,-5.837766887687767,-26.40335774477582,8.609413693697054,-9.99442757719409,-4.005621712997153,7.15061392000717,-24.229639623996608,-3.495632855627665,-7.125512898177099,-6.672177039150407,-15.742521916766298,-3.3331881821001548,-12.383039654055153,-13.584987862134746,4.173096780247807,-28.60896359888366,-4.027311022338359,-4.678339204189218,15.90510744430077,-30.49664931779341,-29.2696265162274,-14.49592637676097,-5.914338477398354,-20.17581698577613,15.151797726482497,7.731403533842789,-19.956286717446208,-4.908366039805916,-1.1295661991145618,-12.341442536311174,-26.172794751502447,-6.9175233247074885,-3.6855399552920747,-1.605902106519284,9.41996106598037,0.3136463663061486,-27.152017488651087,-28.947675414600802,-21.388653145343316,-5.801399354527787,-10.488746303967732,3.085842639145263,13.094459633817646,15.185381421026108,-6.4224933707516545,3.8812351014713316,16.106478211325047,2.0734885759596646,-6.942088108931188,-20.005083885988597,5.626325140657701,-26.44307674390517,3.362406218136219,-7.123175196430492,-8.503436823597957,-10.384446069900447,-25.712769359591334,-25.343172298918404,7.804964540287532,-11.88608295414767,-6.894312565078357,5.410143789167126,2.4977697101494725,-17.88565010804315,14.86076562777559,-18.01733559775554,1.7273111774492784,-22.3038518025229,0.6796511115901289,-1.1182772779387777,-26.225024719206676,-20.070707304006113,-4.5754840021232335,-24.776844428822173,5.097949190039202,-10.62811840398176,-2.9285692732146176,-9.887444736311295,-1.7599132973181641,10.667348159102923,-23.23858450545923,-23.030835446629805,-0.7364059239418062,-11.150251106455956,-13.853246606210673,-15.085093622503955,-2.680184608001343,14.313610378249956,-2.3218611472562927,0.22359345709522832,-20.907089726552798,-23.76709014391754,-14.442368372715993,0.8567399315104367,7.226106871414857,-19.78210596353561,5.3798137835675455,3.73906081201316,-27.992740299277624,-26.172953645027565,-26.272781666995208,-20.13799288739004,-19.801317616098927,-11.893158790003145,-23.829704483474863,-22.235245205042734,5.606952444463984,-7.77665962892437,-8.143805062695028,-26.312882324765937,-21.494601436307,-11.59660881927531,-3.326503114287729,-4.464388284149757,11.751472700681221,-7.6521195898693355,-17.88884756397217,-26.942621201783925,-26.241962703446834,-9.01423680042233,3.2043604247335895,8.568274336875245,3.457186034044478,-20.831938481039327,-7.974324681173755,0.5433857807629358,-15.605099147090675,-14.570659134456704,-26.649713119979168,12.233617421260345,-22.42141099668913,-2.4922336261706453,-27.451519423105424,-25.023466713987645,-19.472162337883958,-12.24338932526423,-13.169290659290787,-4.6072093065980315,-28.15730235735041,-4.872984120680751,-27.995764177136163,-16.933168863433824,3.0505162866837203,-25.036469956509453,-22.373515123851696,8.770750128227006,-19.33152622534161,-30.071312020413817,3.553945417383163,-18.575742564990147,-27.777999405609652,-2.815893933861134,9.667673951758532,-4.821482018957307,-19.542797028727346,8.404787082810497,2.2286347276105807,2.35108270733534,-15.405677908849404,-20.040191071115434,-2.0947909803454525,-26.511651668004017,-14.324408307608808,-2.5113256968088393,-4.524504076737257,-24.781195668135034,10.433676804114013,-18.37214351525831,-11.226891141305973,-6.741426939021021,10.355578734740856,0.5545275815162267,-23.590775123567404,-16.827172593404615,-18.098872886879082,-19.129401243262475,7.268784985481027,-20.78115151820032,-17.710034615227517,-4.611926649292941,-5.916662709805022,-14.45073953347846,-13.480219632825065,-22.65548038156178,-30.799171820608663,-30.691180909238366,-16.87087819821827,-13.081328221206183,8.256419180460599,-14.610280094474156,-14.418316755360536,-5.836299647776109,-23.265584918280855,0.7630303241714763,-4.595765617589827,-31.01862529839042,-25.106393784350757,-16.7165606677588,-21.89820435389187,-25.66568171979362,-11.699653209180733,1.91363411086167,-10.108383708352282,-11.989983312583053,5.828324078627631,-20.34733078210046,-10.806106224384237,6.688261594004313,-29.737324574775702,-13.882587754810176,-26.43430948561459,-27.86956287858969,-26.95360671304179,3.6883509338083056,-17.967742886544464,-23.020445585944042,-14.563761089596085,-0.5223663387856999,-24.045490631375873,-10.57977923513717,-26.833473746012274,-24.422335536093843,6.171597445498544,8.926521334416078,-1.770816723778502,-13.596651510601239,-23.89913992194283,-17.532701021985883,11.3559139993032,9.645766237894348,-2.7809348340131663,-22.706440032399524,12.581961994882958,-7.948334172256478,3.5170965800568363,15.179762010661463,-12.756839000824773,-20.693067584976504,-5.638902256080628,-21.38137640653162,-16.221403689357,10.027339205631824,13.17674095772963,-8.703462662716252,-24.420303708063916,15.660337800728762,-21.111140812572636,-25.817133937454116,-7.435085517043999,1.2565540835687357,13.976017016740075,-6.565083166000465,-27.555812459207633,8.753430411742778,-14.764439315014643,5.477300272471571,-9.376587490241649,12.065422430638606,-22.987297976597937,-24.73949747712569,-13.724911881505736,-21.520723802423976,12.582552574485241,-8.002030484800216],\"y\":[-16.843998028637408,-11.832705280440184,-3.876295314949843,-10.006216446438817,-19.02807693833426,-2.354684304519488,-4.071073284602703,-21.931006676521505,18.242204862103886,-3.3440255002229002,-20.650543664484115,5.145225544527615,-6.597139997833114,1.9761797286588014,18.6960761447765,8.906331397513775,-4.929082896628621,-14.98432627105439,-1.9972138205372179,6.703548866001802,-4.42894193138726,-15.97094999818006,-2.6084670005863795,-1.2888602964854325,0.7701833352637196,-15.260614877324803,-18.187472996484424,-15.231544555979692,0.24022349677539365,-8.252368111562266,-4.866656298722093,-14.936118485111548,12.072633239851955,17.892021605678217,-5.451820167707653,-12.98355601734216,-16.83249541851554,0.8039547137991957,-1.0988938299195095,-17.23758469420245,-24.153462913801967,3.8310786928270755,9.811044029118987,4.541056107765094,-5.799842455282937,18.51547034929562,-9.095570334529949,-13.803517226468205,-6.160041858604472,-25.423729541823068,-14.483959987402056,-3.540049405967206,-1.9718429646471605,-10.275321397699301,9.555273035958194,10.519610412153835,-5.116786524338578,13.710877354887716,5.477152351183955,-6.312700675353755,-20.957691997095072,-21.17067090867087,-4.2255233715282365,-3.8337015312377707,-2.359885612839478,5.338037834646384,-10.254909714634726,-20.88479555834781,-1.7176564504598058,-7.446059223129384,1.925776498914724,-11.331898387075,-3.2558866452257225,-0.855642277203709,-7.135746987953518,-12.386155814121354,19.30350078691316,2.850304280020113,8.15815206156452,-19.708966852687883,-1.5812689499371333,9.687425123709637,2.0831252354525525,-7.810948154048711,4.2038534291756555,-5.9574959708843,9.54271141831992,-17.904925416995624,-2.7023367832988083,-7.299327059196999,-5.942924279122586,-1.8832672563113872,-18.758917614000868,-2.6326469381036386,-7.133415377346443,-19.10321810312758,10.784546233633273,-14.292398290609317,-18.728200184119338,-20.95031943496874,-0.298713282162307,-24.677176963299104,-3.071613418566958,13.220117388565733,15.160178320272706,-9.80943286109868,-0.40530092346555746,-19.986038347601635,-9.896568226615145,3.189244236553173,12.693443775261127,8.289192299091276,-6.953465401894493,-16.243587396803548,-17.489115921808008,0.6700417418615517,-5.307102190567068,-8.821771177600045,3.5896787720714642,11.75990532586273,-7.170275907241324,12.53155683024555,-11.727089716191752,17.12308762392261,-12.852704642893883,-6.143948707810693,-23.580142669222386,-15.072922537421475,11.910658397120164,-8.763102641755866,-0.4817093819657405,-9.376312011255324,-22.232998061242935,7.211282960429271,11.903682761872496,-10.26701336900419,10.062038678196755,-1.8769258807514526,-14.824435343312471,5.709991147192983,-2.0280027961538636,0.004404807275039113,-7.034834584296043,-22.048515700325712,-14.50620349488455,-16.44549712606074,-8.225421702748086,-16.66823443902725,1.075635187402894,-14.982853110054394,8.622361760925592,-24.48003860710588,-16.62369630831244,10.946954359830649,-5.607319696742719,-11.00904738572935,-15.533425103726138,-13.041789072559496,-10.560838233387686,4.171451785170957,-6.106000354571286,-22.198028959386054,0.7283956239317003,-16.455177051388024,-8.79207365762679,-12.687445908261283,-10.284567980605942,-12.3873161459739,-6.465877389711218,-3.7883446152374587,-1.4580588581689997,-3.6827119853716233,3.277535793950046,11.577781447182808,-6.732733298386904,-8.635956941092925,6.346595748725623,-5.83808806216603,-13.407450031712152,9.529732175494358,17.45664297873971,-0.8651185752599926,-5.509573340999706,12.505869933744329,-8.141742409870085,0.9572202393348894,-0.34071371984324206,-2.9102891109446762,-0.3805532969877759,-13.750629953632385,-1.503224186741963,2.1510785857188237,-9.217058681259736,-1.7127998479132218,-17.53798723352282,-17.531511164283764,-13.66927592334199,-21.05114851688209,-6.459148400970315,-13.863081425298788,4.0305605355749865,-22.685113276597395,-2.14160037124649,-4.431647332858957,-12.885221402895006,-1.1842688250616904,-14.787952670378603,6.106171601410746,-19.07716516308715,-7.771697235851538,-23.15986266230781,1.6092234387583497,-15.137711309512182,-22.33816055408572,-5.91913905951054,-9.375934942365452,-17.210100719931514,-20.155399410720023,-8.15374991397931,10.811936149766556,-4.765902234191781,-6.591239712719129,-19.116536524502333,-10.864404189838437,2.7449968658431345,-8.596870082496194,-0.6451470329540204,-8.125165863262314,-16.76190802071414,0.47612999815029317,-6.150779698513708,-15.507335303412177,-7.477137987545959,3.787093434834867,-14.852006804023949,6.995934141159018,-10.74292545162296,8.42529052423741,4.701444112911714,-11.997117874633743,6.170785613340157,-12.847293260257706,-17.69788840967339,-2.658368504020098,-1.1256784926835088,-2.8247476429608835,-7.357319848313596,-21.897388451606243,-14.233024649464392,-12.960580369896874,6.92648363597607,1.8166207721769512,-10.277191674491728,-0.4700998049343357,-17.021216575007646,-13.223629804274239,19.873600029789078,17.0686652558297,-18.47317193636941,-14.831408090976778,-11.112769129176245,-9.57507018758538,3.7521215685703133,6.103214116079195,-22.974516154024275,-12.436505181612695,-9.850381642011284,-6.1369738272336,-8.647488931752477,-21.504139263937688,3.9321851873143197,-3.5372468965387207,-18.556046866111647,-14.369708334133396,-13.137690168232652,-8.885187547782547,-4.0001136696945085,-2.3921554107564784,-12.454361780728943,-18.287626472836905,11.96733558385748,4.487975941676929,-8.32418676212442,-5.652188326773112,-20.60902303872892,-14.292248151143756,5.334715145849075,-12.51629149580797,-4.031873522791426,-20.309226621374048,-20.385959991767344,0.9719945367484352,4.947419383931269,-9.303949865043087,-5.97996235898614,0.9280358869219849,-20.130258764003965,-15.478945183231783,-13.56314736536662,-6.945116680619443,-9.125116117860737,-2.9313555255437747,0.3978331514982121,-0.9639501228316363,-19.588582749095824,-17.518689753690705,-2.115206206491433,-12.026436809703613,5.256128045658051,1.9566399983179075,-23.24261144414536,9.656959699138362,-18.084720127876917,0.1088732422843601,-7.385509901967719,-3.3268790184896346,-7.2963677921530445,-11.879822070735848,-18.834566306536072,-7.109813438202441,-2.6703548698590636,-3.368489683875767,-14.81258754394752,16.010491264903607,-24.4189002863847,-2.6752880115155806,1.9841009949353796,-7.675450549859057,9.280917273836847,-1.753350688130928,18.294455609397794,-22.01542526828359,-18.539623248436307,-5.208365702869467,18.32528729258174,-8.428085119702429,-16.402464766825826,14.113299638171545,-5.469390116208871,-7.783835706736567,-16.286735430372435,6.471798235267549,-22.187084256549635,8.667081887790008,6.771773829281747,5.742085825086448,19.700801146850257,0.33863008302169095,-6.3219175188375685,-3.2005531985135227,3.2475546906478483,-6.886998894371632,-3.0681310783655547,-4.595164678542618,1.333866921904363,9.823810883954625,-10.734048065139351,-16.78835808213527,3.176909008594491,-22.219940442604056,7.286371100397711,-1.6903063421833948,10.544633987470485,-12.80140255450638,9.911381704383645,-15.90344383566264,-3.3260522240379427,-4.523236914497568,-5.085281810120969,-11.465291046328307,-10.240706952800952,7.1640336252122365,-8.55442742909955,0.6854821473978918,-5.966898035382285,-18.663010864790532,-15.731667602290104,9.587086032331769,-25.411431220754924,-5.888522115338476,-25.213423155733953,-19.345197268763904,-0.7308715187636966,-8.36604586704687,-8.081198164449901,-7.574579454067108,11.304478445322165,3.570041226611158,5.413394078130633,16.829841635750814,2.3708970531952143,-3.7515658433184327,-21.02845674219595,0.9408725280937746,-20.704367561245167,-6.427888544407039,-5.329740379417367,-21.819565708863713,2.5235174892767165,-21.58206825341229,-2.285503541526954,-6.253616269098254,-13.965554318688012,-5.230767696486089,-2.184403548520277,-17.471198311281647,3.7531437170289164,-13.234646089948393,-15.574838102745218,8.07556661808172,10.11144625532353,-4.613483464655364,-8.593609774880601,-1.9501835897135837,-17.17535173610584,-1.1404618019246138,-1.2404292588977608,10.230233867256741,-3.8176111679221076,-5.6913318734071145,-7.44588590995881,19.292900884249747,-11.239093387731545,-17.920310262976496,-5.934347495254655,-21.229479054365598,14.392717252504859,-9.637958602030638,17.158722798827892,-5.605934242723315,-4.003696930080842,-9.656516506793785,-10.63506231601432,-8.625512922221805,1.14448387222013,7.5483601965865965,-9.16134570145391,7.716441293302896,18.691039605433765,-1.7266368443384803,-2.951969393133541,-7.256338887150484,-20.344724104599898,0.3162008834829813,-12.296571726270336,-11.850109201344297,-19.84021055147822,-21.07941690353033,9.90588618422149,-6.070577183794084,-15.626578449249658,-3.077075298481224,-11.766834768059445,-4.037956045594323,-7.591160605937877,-8.529919286528555,-22.345472959392936,-2.3795889134798895,-2.3848918096941216,7.046073079495628,-11.501124868601035,-16.778858665808055,3.492519565072601,-16.886927803957047,4.843389378381469,-13.135573846288212,-1.501681216215395,8.707139277784547,-7.326154216367252,18.972354310876963,-6.8066863567838105,-11.954866393244203,-0.040119454475254376,-9.953126811463523,0.09084116424046472,6.26048672826389,-11.287026245811322,-7.305809895309063,-25.185631363752908,-22.027827726168063,-13.028005627905065,2.385422776258914,5.1021439630940755,1.3095559863514525,-10.532224995559826,-16.231262575749586,-22.878134612662837,-3.590913596088112,-7.773138769043848,-1.665178511622796,-20.581843624503566,-13.373518629534113,-16.704298405014224,18.730839422071288,-3.0955262287739567,17.274728530316438,-11.739392358596076,-4.018600240313882,-13.189033670178352,-9.96976189864717,8.711879971677515,-9.41839033287646,2.63227260348947,-6.0236955524677,10.426928783967256,-4.458494216047771,-10.35905099369858,-18.542872145482974,-12.661744305311363,-7.412462190858599,-11.01018503650109,-7.227007418838307,-12.84122323587523,-7.272137319398902,-20.086022014948632,-2.192534456056384,14.255695489670755,-10.437710008996747,-10.109750069084132,6.076774946585305,-12.165863762974855,0.5421380783838937,-7.7590962935368335,1.0345022182825314,11.42653344762703,-15.433077463518117,-8.80302894480533,17.785293009809465,-13.205614632611491,-4.522668333680074,0.18160385498719311,-9.01055915119284,-12.782896994006954,-17.04196543140302,-17.306702217568112,-24.496876206959623,2.478402497255403,-18.33539633771536,-15.50243352779599,11.924204400226657,-1.7214869207927421,-5.160248593130904,-19.23114399089648,-5.8454626648207,0.8445031558793519,-4.682679699127064,-19.06237314685316,-2.1526892388635472,-12.959120158542918,4.383755462668374,-15.970641358631129,3.933566958692942,-4.422065214580488,-15.573160023258689,-6.272768728132006,6.85491442376552,-12.196606045124033,-18.20563701027188,-12.634747831689221,-12.991450317279327,-10.607967280819105,-13.218988745490366,-11.348319650713007,6.1284883003930775,8.058674047459842,1.8792898764648833,0.29501532996714724,8.077625824701071,1.3967431525994791,-9.654395129021482,-12.418532520020928,7.0240157349230765,-13.699940965616424,-3.805677985086612,-15.372065755020751,-20.352230904075284,-3.9733254347756066,-9.408117284364137,-18.712156475600338,-8.451179359531894,-7.325979253788706,-5.945791906122168,-12.202862273918079,-5.802945497299282,-13.690723216804129,-2.055612074412698,-2.834824616494986,18.776634485994446,-2.0962710338097557,11.210384395800574,-20.752066706938972,-17.36915782220974,-9.245613929661873,-8.468532246703738,2.2392870580363047,14.014182530090752,-2.966359026409103,-9.331311694211422,11.919842922561681,-3.7497304601642325,-9.91949315424971,-18.4651539026944,-11.214958243034282,-11.006244216194549,5.836390652146051,-9.430559498225223,18.647155789563435,-16.97720618785245,-2.748175968083361,12.33411924231126,-0.9735714221193915,-2.151514800832998,3.501077095779644,2.3030635201728913,-8.080877856103568,-2.3883099777400107,-6.282996402588163,7.31346691702682,-13.218149839972941,-10.291437139023975,-5.299849637487759,2.293428544353933,-0.28886557469742,2.5248442895853196,15.925513763169459,-2.627384925214344,-16.747930350470167,-4.544158098910731,0.26057944848505876,5.6874080186731,-4.494868875445855,-12.161822030836689,-4.9666536697581,-11.123828879388267,19.893568127732493,-7.3660621180632155,-10.419073805057819,-14.29513145457156,-15.520890291546703,14.167481428694579,0.18972736005018032,-1.152357167556986,-14.450132308179203,4.8211617837889795,-2.1816185342441523,-10.565463245274227,-9.07696770669299,5.8901077351475735,-23.32786480814913,1.3330755152362304,12.23683112565922,-7.823900046493169,-12.887306422099794,-3.719197422925441,-2.2291934417374595,-5.183557678379537,-19.26124195769238,-12.613597116775312,13.968639230488332,-15.630894210902671,-18.513412630240474,0.39648403148402434,-5.616944413360697,-18.979243501701383,-15.589947649837045,7.688798586705115,-7.603073182938675,-1.408522976420417,-1.3326168910957252,6.958136863147348,-5.038730390861988,-11.100618908511038,2.8491793966106096,-22.17616718244576,-2.758623393390767,-6.625042176739663,-8.454650878126762,-6.985964383074258,10.306743368267124,-10.488126424789524,-9.136883946546272,-11.843254466699012,-0.1594143462760973,7.360209046430396,-12.48364427960922,-14.557791223418885,14.408044098164291,-11.014547819841113,-22.26054782995324,-1.902945916122928,-15.707127249744484,2.9142155985093385,-15.694784789205103,-9.068786300611624,-15.629558494785044,-13.727815532331576,-19.342671779417856,19.83740363199804,-9.041208548808708,-0.3484819596885482,-7.148520341281054,11.168320314053659,-2.861215580790113,9.64466410960806,3.8540361757446795,-7.369908176051552,-8.04040912614716,-15.454768345535456,-19.600396035042664,1.063964049269783,16.068438020175098,-16.685726085316183,-17.91870737867132,-18.190905844364842,-6.912507767070683,-6.2779792598707544,-11.280856792964682,-5.9750088755702855,-6.40497166559705,-15.267942297828696,-4.912320091043967,-0.4424579113870076,-16.28848537957524,3.7207949910804157,-10.543706428492392,17.673899753825612,-20.77879248457401,-7.401992874353712,-9.358143820659436,-6.921068954978194,-16.628077515251977,-19.145824324912933,-19.862682827901686,4.987290170914248,-14.999097512290609,0.12945155624560417,-14.01376663235559,19.07185407624705,-20.098809892841235,-6.4950515737397465,-16.570671599743413,13.116386821797553,10.03080471073219,-5.262200616621352,-1.1448195965182868,-1.8061169843614442,-4.2940566481306925,19.234958970153226,4.753305930448386,15.805791765385562,-14.816691237608962,-19.647272490235405,-11.514538087905374,-6.5781018575639605,2.3732760063089913,-12.85921419288981,-17.17130415712231,-2.4071793176360012,1.666492804124385,-4.2902595207212615,2.9894331131980754,-20.862960500708326,-6.134134941039119,-5.230237848729069,-14.342701952467245,-17.241766037688393,-4.816112334023858,7.500657733481012,7.3898935625818005,-6.296755113697969,11.62827065407143,-17.60463405974939,14.219114950809324,-9.443236879154068,-21.822754166084927,-13.665816485284049,-18.699623282648094,-3.8715156265159574,-15.052441564299823,-4.1564154227055665,-15.550225505165997,7.83316056049509,-10.624707738776479,-14.393205116935185,-17.894996111381126,-3.7352354755311716,8.973777974658258,3.776042668842748,5.36814346688899,-7.491185652360332,-2.0222889820813577,-2.2377949741541854,-20.49863225461902,-5.539995277281906,-5.1143188383096785,-9.071417777848083,12.417642489230321,12.80355244044719,0.48035227128416935,-6.5583237137874555,-7.009313515772243,-16.723630618679756,-12.011706085542542,-19.025230485518886,-3.7817125463447656,-19.78163698683739,-4.19952221440646,-6.634319334395101,-17.590745902817723,-15.689065057734647,-1.2160242755893194,5.594963873086236,-4.193954628113497,-16.491598510731546,-24.172472514015105,-16.562011386823592,-24.002028744065793,-13.203546471005629,-20.684242262843345,-15.059809624003773,12.227537409766907,-6.253666892993161,-1.5244089978442665,-7.777778680962598,-17.65878989365258,-19.335997126640084,-3.9901431404095398,-15.595787598709977,0.31010974060461116,11.683288646273395,-4.74474466589064,14.836955074889229,8.214882004958886,-21.878571641327493,-10.626251630673012,-2.8485287026101056,-11.593520854830052,2.1293573117542297,-11.894835579785873,-13.8137584616703,-3.921502728109867,-10.28492559505493,-12.174764892556933,-4.2394711150672375,-3.375404616318244,12.50569620368428,14.317194661725967,4.655003615326334,-18.8196943076954,-23.048373164638047,-4.960447505963383,-5.353536936811613,-18.894214624250306,3.391386337021749,-4.3476831230462345,19.656320380812712,5.43278205190712,-1.6504577676540568,10.364296566393767,-15.525065318343534,-1.0885718623062366,-9.117297068568112,-12.571004487737417,-10.409838932223398,-1.1219144552309765,-9.616256246670183,1.3671193732835072,-13.845774157200973,-1.202560162819601,-1.476617929302415,-5.899737947044457,-15.833439259527673,13.175514186126403,-16.228387992757423,-14.649271522998797,6.062055552952719,-17.90921135568068,-7.827079653143899,-22.348160746130066,17.87114839808094,-14.296119352708985,-20.779081496594802,-4.949109993708017,-3.030288279859172,-14.195586154747486,-7.160507962325915,-13.232117786069574,-10.184584274638471,12.03688705818241,-1.894184247870814,-8.056319526608439,0.9852691609605513,3.902759741719083,-5.36765302103659,-12.198710702974356,-5.892562590213284,-6.755165619557793,7.866681159776094,-7.049406620461888,1.612644439581174,11.773383597050755,-5.339978147836334,-13.973861556911064,4.468672653201362,-5.25395074955563,-12.559317043592722,3.3641342230082225,-10.778172548778914,-0.9468502078418932,-15.728344071809673,-1.2044872713670298,-6.662220588594154,-16.32395399353366,16.363544247847187,-14.809693611149969,-5.498619535834245,-3.5094231089407617,-8.117529565365809,-10.595610654811042,-16.198430389279192,-4.64374087796816,-3.009636791478562,-17.92296428884511,-0.274898008934254,13.782143930907646,-3.064596341752365,-9.544571240393982,-12.324061435803928,3.741703362415099,-11.675806149680177,-9.987735874759727,-21.63823939321007,2.9700839844223927,3.449997230914867,-0.9376084175349504,-17.43331463545532,-10.951589135189195,-4.731395688858572,-10.530015167981764]}},\"id\":\"554ef9e2-d1f1-4c4b-9488-cd3330aa610a\",\"type\":\"ColumnDataSource\"},{\"attributes\":{\"fill_alpha\":{\"value\":0.1},\"fill_color\":{\"value\":\"#1f77b4\"},\"line_alpha\":{\"value\":0.1},\"line_color\":{\"value\":\"#1f77b4\"},\"size\":{\"units\":\"screen\",\"value\":10},\"x\":{\"field\":\"x\"},\"y\":{\"field\":\"y\"}},\"id\":\"77f22010-9d07-4e9e-a216-a97bc3fcc8bd\",\"type\":\"Circle\"},{\"attributes\":{\"callback\":null,\"column_names\":[\"x\",\"y\",\"words_sis\",\"range_words\"],\"data\":{\"range_words\":[1,2,3,4,5,6,7,8,9,10,11,12,13,14,15,16,17,18,19,20,21,22,23,24,25,26,27,28,29,30,31,32,33,34,35,36,37,38,39,40,41,42,43,44,45,46,47,48,49,50,51,52,53,54,55,56,57,58,59,60,61,62,63,64,65,66,67,68,69,70,71,72,73,74,75,76,77,78,79,80,81,82,83,84,85,86,87,88,89,90,91,92,93,94,95,96,97,98,99,100,101,102,103,104,105,106,107,108,109,110,111,112,113,114,115,116,117,118,119,120,121,122,123,124,125,126,127,128,129,130,131,132,133,134,135,136,137,138,139,140,141,142,143,144,145,146,147,148,149,150,151,152,153,154,155,156,157,158,159,160,161,162,163,164,165,166,167,168,169,170,171,172,173,174,175,176,177,178,179,180,181,182,183,184,185,186,187,188,189,190,191,192,193,194,195,196,197,198,199,200,201,202,203,204,205,206,207,208,209,210,211,212,213,214,215,216,217,218,219,220,221,222,223,224,225,226,227,228,229,230,231,232,233,234,235,236,237,238,239,240,241,242,243,244,245,246,247,248,249,250,251,252,253,254,255,256,257,258,259,260,261,262,263,264,265,266,267,268,269,270,271,272,273,274,275,276,277,278,279,280,281,282,283,284,285,286,287,288,289,290,291,292,293,294,295,296,297,298,299,300,301,302,303,304,305,306,307,308,309,310,311,312,313,314,315,316,317,318,319,320,321,322,323,324,325,326,327,328,329,330,331,332,333,334,335,336,337,338,339,340,341,342,343,344,345,346,347,348,349,350,351,352,353,354,355,356,357,358,359,360,361,362,363,364,365,366,367,368,369,370,371,372,373,374,375,376,377,378,379,380,381,382,383,384,385,386,387,388,389,390,391,392,393,394,395,396,397,398,399,400,401,402,403,404,405,406,407,408,409,410,411,412,413,414,415,416,417,418,419,420,421,422,423,424,425,426,427,428,429,430,431,432,433,434,435,436,437,438,439,440,441,442,443,444,445,446,447,448,449,450,451,452,453,454,455,456,457,458,459,460,461,462,463,464,465,466,467,468,469,470,471,472,473,474,475,476,477,478,479,480,481,482,483,484,485,486,487,488,489,490,491,492,493,494,495,496,497,498,499,500,501,502,503,504,505,506,507,508,509,510,511,512,513,514,515,516,517,518,519,520,521,522,523,524,525,526,527,528,529,530,531,532,533,534,535,536,537,538,539,540,541,542,543,544,545,546,547,548,549,550,551,552,553,554,555,556,557,558,559,560,561,562,563,564,565,566,567,568,569,570,571,572,573,574,575,576,577,578,579,580,581,582,583,584,585,586,587,588,589,590,591,592,593,594,595,596,597,598,599,600,601,602,603,604,605,606,607,608,609,610,611,612,613,614,615,616,617,618,619,620,621,622,623,624,625,626,627,628,629,630,631,632,633,634,635,636,637,638,639,640,641,642,643,644,645,646,647,648,649,650,651,652,653,654,655,656,657,658,659,660,661,662,663,664,665,666,667,668,669,670,671,672,673,674,675,676,677,678,679,680,681,682,683,684,685,686,687,688,689,690,691,692,693,694,695,696,697,698,699,700,701,702,703,704,705,706,707,708,709,710,711,712,713,714,715,716,717,718,719,720,721,722,723,724,725,726,727,728,729,730,731,732,733,734,735,736,737,738,739,740,741,742,743,744,745,746,747,748,749,750,751,752,753,754,755,756,757,758,759,760,761,762,763,764,765,766,767,768,769,770,771,772,773,774,775,776,777,778,779,780,781,782,783,784,785,786,787,788,789,790,791,792,793,794,795,796,797,798,799,800,801,802,803,804,805,806,807,808,809,810,811,812,813,814,815,816,817,818,819,820,821,822,823,824,825,826,827,828,829,830,831,832,833,834,835,836,837,838,839,840,841,842,843,844,845,846,847,848,849,850,851,852,853,854,855,856,857,858,859,860,861,862,863,864,865,866,867,868,869,870,871,872,873,874,875,876,877,878,879,880,881,882,883,884,885,886,887,888,889,890,891,892,893,894,895,896,897,898,899,900,901,902,903,904,905,906,907,908,909,910,911,912,913,914,915,916,917,918,919,920,921,922,923,924,925,926,927,928,929,930,931,932,933,934,935,936,937,938,939,940,941,942,943,944,945,946,947,948,949,950,951,952,953,954,955,956,957,958,959,960,961,962,963,964,965,966,967,968,969,970,971,972,973,974,975,976,977,978,979,980,981,982,983],\"words_sis\":[\"floor\",\"people\",\"diverse\",\"postdoctoral\",\"straight\",\"tutorials\",\"computational\",\"join\",\"true\",\"tonight\",\"hours\",\"actor\",\"gustavo\",\"happen\",\"c\",\"slack\",\"company\",\"special\",\"went\",\"programmers\",\"aw\",\"excited\",\"yay\",\"blog\",\"journals\",\"yesterday\",\"dc\",\"body\",\"music\",\"loved\",\"something\",\"change\",\"without\",\"internals\",\"nd\",\"panel\",\"stack\",\"journal\",\"note\",\"favorite\",\"redesign\",\"session\",\"terrifying\",\"term\",\"hey\",\"e\",\"miss\",\"compelling\",\"far\",\"sometimes\",\"yup\",\"like\",\"exercises\",\"training\",\"bug\",\"sans\",\"sick\",\"song\",\"b\",\"front\",\"interview\",\"fully\",\"cuda\",\"use\",\"near\",\"point\",\"side\",\"cute\",\"congrats\",\"offered\",\"tho\",\"quick\",\"live\",\"game\",\"infrastructure\",\"name\",\"images\",\"first\",\"reminder\",\"editorial\",\"weekend\",\"monday\",\"series\",\"caesar\",\"submit\",\"dad\",\"lol\",\"impossible\",\"honestly\",\"soon\",\"needs\",\"fine\",\"publish\",\"seattle\",\"understand\",\"requires\",\"breath\",\"impact\",\"h\",\"helpful\",\"setting\",\"huh\",\"access\",\"css\",\"choice\",\"openstack\",\"night\",\"muslim\",\"planning\",\"webcams\",\"every\",\"found\",\"pay\",\"knowing\",\"lines\",\"linux\",\"helped\",\"lawyers\",\"hail\",\"happy\",\"surprised\",\"talk\",\"lga\",\"luck\",\"team\",\"jail\",\"diane\",\"context\",\"links\",\"voice\",\"next\",\"directors\",\"fantastic\",\"engineer\",\"cs\",\"table\",\"behemoth\",\"general\",\"always\",\"g\",\"account\",\"hiring\",\"list\",\"gets\",\"felt\",\"announce\",\"investing\",\"san\",\"cat\",\"worried\",\"super\",\"timeline\",\"bus\",\"tech\",\"indeed\",\"met\",\"victims\",\"two\",\"opera\",\"already\",\"think\",\"amp\",\"proud\",\"word\",\"child\",\"obama\",\"speaking\",\"board\",\"stanford\",\"reading\",\"rain\",\"lemonade\",\"folks\",\"slow\",\"seeing\",\"nvidia\",\"instead\",\"technical\",\"valley\",\"developer\",\"meetup\",\"yes\",\"fly\",\"away\",\"touch\",\"says\",\"minutes\",\"leave\",\"mysql\",\"long\",\"dollars\",\"creating\",\"decide\",\"case\",\"onboarding\",\"character\",\"make\",\"twice\",\"ballroom\",\"youtube\",\"easy\",\"finish\",\"omg\",\"mentoring\",\"experience\",\"silly\",\"agree\",\"yet\",\"ed\",\"student\",\"least\",\"jeez\",\"university\",\"colleagues\",\"working\",\"stop\",\"sorry\",\"add\",\"explanation\",\"sentiment\",\"fast\",\"said\",\"francisco\",\"bitcoin\",\"peer\",\"conferences\",\"platform\",\"room\",\"rewarding\",\"see\",\"tweets\",\"blue\",\"opening\",\"distributed\",\"fruit\",\"computer\",\"log\",\"th\",\"apollo\",\"closer\",\"beyond\",\"arxiv\",\"search\",\"cost\",\"second\",\"keep\",\"speakers\",\"teams\",\"changed\",\"snakes\",\"launches\",\"failure\",\"role\",\"pics\",\"published\",\"day\",\"tomorrow\",\"project\",\"advocates\",\"place\",\"glad\",\"foot\",\"cfp\",\"names\",\"jack\",\"believe\",\"u\",\"x\",\"literally\",\"random\",\"statement\",\"go\",\"explained\",\"highly\",\"wake\",\"computing\",\"spent\",\"icymi\",\"mac\",\"beloved\",\"development\",\"lost\",\"page\",\"sure\",\"fight\",\"kid\",\"reviewer\",\"later\",\"saturday\",\"key\",\"house\",\"short\",\"lots\",\"syrup\",\"systems\",\"collaboration\",\"data\",\"someone\",\"buy\",\"find\",\"api\",\"personal\",\"growing\",\"booth\",\"frank\",\"exact\",\"beer\",\"source\",\"line\",\"proprietary\",\"longer\",\"five\",\"incredible\",\"may\",\"google\",\"wish\",\"families\",\"full\",\"actually\",\"switch\",\"honored\",\"probably\",\"performance\",\"sandbox\",\"stats\",\"invitation\",\"pretend\",\"citizen\",\"nice\",\"summer\",\"em\",\"supportive\",\"much\",\"jenkins\",\"proposals\",\"info\",\"friend\",\"done\",\"sf\",\"women\",\"explaining\",\"guy\",\"blast\",\"pop\",\"delightful\",\"taking\",\"hpc\",\"whether\",\"mention\",\"invite\",\"mishka\",\"new\",\"class\",\"hires\",\"shit\",\"police\",\"commitment\",\"power\",\"etc\",\"thank\",\"lightning\",\"restricted\",\"building\",\"little\",\"help\",\"lonely\",\"stuff\",\"middle\",\"software\",\"deadly\",\"seen\",\"clark\",\"trump\",\"q\",\"review\",\"stories\",\"woman\",\"thanks\",\"spending\",\"glass\",\"hi\",\"gone\",\"wrong\",\"work\",\"clicked\",\"projects\",\"user\",\"best\",\"fun\",\"whole\",\"wifi\",\"groups\",\"article\",\"auction\",\"view\",\"clearly\",\"space\",\"quote\",\"head\",\"easier\",\"shirt\",\"dm\",\"involved\",\"tools\",\"conduct\",\"know\",\"students\",\"meant\",\"w\",\"almost\",\"love\",\"mobile\",\"amazing\",\"taste\",\"repeat\",\"website\",\"season\",\"talks\",\"outline\",\"toyota\",\"us\",\"band\",\"doubt\",\"figure\",\"explain\",\"books\",\"around\",\"emoji\",\"slides\",\"weeks\",\"stay\",\"model\",\"tribute\",\"teaching\",\"python\",\"simulation\",\"pre\",\"brain\",\"goals\",\"petition\",\"feet\",\"director\",\"bruce\",\"glitch\",\"generation\",\"instant\",\"beginners\",\"restart\",\"communication\",\"v\",\"lose\",\"might\",\"dude\",\"turned\",\"makes\",\"please\",\"environment\",\"anytime\",\"thing\",\"basically\",\"keynote\",\"athlete\",\"meet\",\"island\",\"given\",\"lights\",\"apparently\",\"often\",\"publishing\",\"food\",\"interested\",\"never\",\"christmas\",\"state\",\"give\",\"social\",\"ploop\",\"intro\",\"teach\",\"neighbor\",\"picture\",\"attacks\",\"shared\",\"uk\",\"idea\",\"feature\",\"last\",\"start\",\"running\",\"well\",\"route\",\"lot\",\"l\",\"world\",\"gt\",\"hello\",\"better\",\"could\",\"error\",\"award\",\"car\",\"form\",\"writes\",\"eee\",\"volunteer\",\"hoodie\",\"share\",\"million\",\"based\",\"deliberate\",\"started\",\"hair\",\"_\",\"accessible\",\"experienced\",\"sleep\",\"htt\",\"research\",\"watch\",\"perfect\",\"station\",\"take\",\"reilly\",\"visit\",\"reason\",\"hard\",\"fuck\",\"grant\",\"west\",\"made\",\"look\",\"countries\",\"community\",\"definitely\",\"really\",\"material\",\"everything\",\"become\",\"okay\",\"took\",\"spots\",\"critical\",\"watched\",\"told\",\"bar\",\"design\",\"practice\",\"versions\",\"lady\",\"even\",\"event\",\"end\",\"overwhelming\",\"served\",\"good\",\"heart\",\"isc\",\"web\",\"would\",\"support\",\"bought\",\"internet\",\"problem\",\"giving\",\"angry\",\"talking\",\"jokes\",\"remember\",\"crap\",\"kill\",\"rape\",\"hack\",\"party\",\"pm\",\"diana\",\"camp\",\"computers\",\"words\",\"related\",\"nominate\",\"hearing\",\"edition\",\"coming\",\"tutorial\",\"locke\",\"ate\",\"management\",\"say\",\"lunch\",\"device\",\"drive\",\"debate\",\"command\",\"friday\",\"june\",\"plus\",\"donated\",\"video\",\"debugging\",\"pride\",\"exciting\",\"crazy\",\"play\",\"lt\",\"holy\",\"constraint\",\"sustainable\",\"public\",\"k\",\"open\",\"since\",\"red\",\"outreach\",\"gun\",\"ignore\",\"nearly\",\"windows\",\"crypto\",\"real\",\"week\",\"enemy\",\"seriously\",\"canada\",\"story\",\"late\",\"wishes\",\"chocobo\",\"tweet\",\"via\",\"write\",\"postdoc\",\"mostly\",\"include\",\"piece\",\"shout\",\"high\",\"meeting\",\"register\",\"important\",\"recruiter\",\"simply\",\"posting\",\"candy\",\"times\",\"learn\",\"sign\",\"austin\",\"run\",\"advice\",\"maple\",\"url\",\"junior\",\"<number>\",\"paper\",\"sadly\",\"silicon\",\"photocopy\",\"https\",\"maybe\",\"online\",\"education\",\"lived\",\"sweet\",\"round\",\"outside\",\"getting\",\"added\",\"show\",\"sqlite\",\"system\",\"works\",\"documentary\",\"science\",\"initiative\",\"details\",\"book\",\"invitations\",\"finally\",\"wearing\",\"paid\",\"life\",\"wear\",\"ever\",\"driving\",\"morning\",\"haha\",\"months\",\"guide\",\"tried\",\"dance\",\"calling\",\"big\",\"awesome\",\"saying\",\"beautiful\",\"twitter\",\"guess\",\"playing\",\"built\",\"today\",\"kind\",\"written\",\"going\",\"got\",\"hope\",\"played\",\"deadline\",\"month\",\"portland\",\"used\",\"local\",\"bed\",\"guido\",\"wants\",\"looking\",\"posts\",\"man\",\"sending\",\"investments\",\"ff\",\"challenges\",\"enjoyed\",\"scores\",\"pretty\",\"terrible\",\"r\",\"turn\",\"enjoying\",\"wut\",\"tim\",\"wow\",\"updated\",\"happening\",\"past\",\"read\",\"perf\",\"wait\",\"non\",\"feel\",\"college\",\"funny\",\"topics\",\"wrote\",\"tuned\",\"psf\",\"hand\",\"chair\",\"different\",\"polite\",\"professional\",\"pycon\",\"credit\",\"huge\",\"trying\",\"takes\",\"still\",\"heard\",\"holding\",\"production\",\"thought\",\"god\",\"send\",\"thinking\",\"cc\",\"check\",\"remote\",\"openaccess\",\"whose\",\"heck\",\"ppl\",\"school\",\"rolling\",\"welcome\",\"seconds\",\"knew\",\"part\",\"f\",\"war\",\"standards\",\"profile\",\"heading\",\"one\",\"way\",\"making\",\"myth\",\"machine\",\"truly\",\"strange\",\"decline\",\"else\",\"listening\",\"comments\",\"recommend\",\"history\",\"learning\",\"mark\",\"languages\",\"enough\",\"years\",\"another\",\"conference\",\"create\",\"dinner\",\"yeah\",\"http\",\"value\",\"eating\",\"saw\",\"try\",\"telling\",\"js\",\"lovely\",\"group\",\"position\",\"mean\",\"guys\",\"app\",\"guidelines\",\"level\",\"kate\",\"hear\",\"wine\",\"mail\",\"job\",\"skillshare\",\"speaker\",\"hate\",\"smile\",\"deploys\",\"workshop\",\"program\",\"nginx\",\"diet\",\"passed\",\"tell\",\"anyone\",\"girls\",\"difficult\",\"home\",\"learned\",\"many\",\"knows\",\"waiting\",\"thoughts\",\"sad\",\"bad\",\"everyone\",\"sketch\",\"decent\",\"algorithms\",\"following\",\"tea\",\"course\",\"great\",\"sea\",\"question\",\"others\",\"call\",\"mad\",\"diversity\",\"break\",\"put\",\"oh\",\"tower\",\"post\",\"insane\",\"bring\",\"set\",\"days\",\"future\",\"phone\",\"news\",\"follow\",\"qgis\",\"listen\",\"president\",\"single\",\"analytics\",\"behind\",\"weird\",\"photo\",\"birthday\",\"together\",\"coursera\",\"thx\",\"plugin\",\"looks\",\"wonderful\",\"plan\",\"yoga\",\"get\",\"strangers\",\"congratulations\",\"scaling\",\"dear\",\"gaming\",\"skills\",\"scale\",\"though\",\"files\",\"driver\",\"requests\",\"family\",\"rt\",\"win\",\"things\",\"email\",\"right\",\"interesting\",\"ridiculous\",\"year\",\"cool\",\"feeling\",\"goes\",\"want\",\"totally\",\"come\",\"ran\",\"factory\",\"friends\",\"left\",\"rust\",\"mid\",\"money\",\"using\",\"knowledge\",\"bid\",\"ready\",\"forward\",\"toronto\",\"technology\",\"ago\",\"tfw\",\"ops\",\"turns\",\"places\",\"america\",\"finding\",\"hour\",\"evil\",\"hoping\",\"familiar\",\"conf\",\"textbooks\",\"storytelling\",\"til\",\"dev\",\"useless\",\"code\",\"count\",\"success\",\"time\",\"old\",\"less\",\"pro\",\"person\",\"movie\",\"due\",\"customer\",\"watching\",\"missed\",\"baby\",\"also\",\"starts\",\"sends\",\"free\",\"explains\",\"need\",\"flask\",\"p\",\"modern\",\"programming\",\"numba\",\"back\",\"runs\",\"product\",\"underrated\",\"hamilton\",\"penny\",\"pass\",\"message\",\"application\",\"airport\"],\"x\":[-11.175466931280917,-24.48280774096585,10.50278437609184,17.391460407431367,-10.969133409887183,14.492247215510076,13.69448579613036,1.5526876710633393,-26.798416743370648,-20.44609805508068,-19.863554491714442,12.455838480418521,4.064686358105413,-12.138389704835241,-3.231300907025621,-12.787665968660697,7.321524305554489,-0.9004788429022538,-17.286343416849885,13.875082399309518,-27.174335448619185,-22.041798135252247,-25.342033900110334,6.150223490118708,-6.872915154314493,-18.115504077687515,-4.327267778087716,-10.626906902868358,-12.932854527916994,-17.64003213652302,-24.97883306616454,-8.481996032410358,-21.05479035922026,15.265393050424283,-16.442574226256593,3.8915635830317674,-7.84731754277955,6.4261633885269624,-3.7077691509598636,-19.065256471119895,12.633702570197071,0.5485803009643763,-7.2819523156366355,-4.19028922103425,-22.561544794792795,-4.674367574288367,-25.97075368651899,-5.818674208520433,-24.82536998399856,-19.35676543160521,-26.540244497064922,-23.063197781579714,0.5644623627532679,1.3670768052284548,-1.6969368810580194,1.3495141683021903,-20.32748814537053,-12.855273154391297,-3.8483363780358135,-11.15067626970412,-0.17423786696136606,-14.977025217180662,17.237641785300685,-13.445028843899065,-13.06044051615685,-5.959632303482761,-11.015694363307535,-23.80025202744559,-19.443711137635038,0.9636564171886769,-23.87135565907682,-8.954720796220842,-9.614932312434421,-16.42189132578688,8.870811952980885,-10.899390563481308,1.9318458132229142,-17.78430683885003,-0.8759677119853257,6.280974826426514,-19.54429452203253,-19.49008265282565,3.293121814661041,15.462814886839318,4.607630536467343,-28.469119449033393,-27.129289412173744,-8.359864065002302,-18.30326852073119,-21.404265548783485,-12.825944420934109,-25.790879327553384,5.387427406097797,-4.159355891298211,-16.85431294786989,3.7241648281469644,-11.942025397718806,6.138372567665888,-3.0724531375931203,-6.156697986860058,-5.998230113006234,-26.81967889142868,8.251789452538777,13.995784548340804,-10.690328981022283,15.660018511500692,-20.54328239114141,4.485035888264194,-1.9044544220216562,16.905649663556645,-18.265098305076794,-15.485034141325736,1.1201062365474226,-18.920388994459614,-6.881983490650701,13.252754456539282,-15.060054199719257,7.186876878126781,-12.716231842111034,-24.195844161321606,-15.683952038924756,-21.04132758455865,18.658627187792007,-20.113463295588907,-16.443363528528284,-8.71175847239903,12.595114194762832,-1.8841771696672407,5.3710795575504235,-12.52732099548652,-18.326379514460246,5.9975514858174215,-21.171109043247252,10.362029737003086,-0.004373007401769824,-10.720862159307698,15.634843746707336,11.6617785490472,-24.87011131130103,-2.8211030663657417,5.731249816336924,9.071298257610495,2.004571484937605,-13.015670414379379,-22.794685310810326,-0.6646330012855927,8.18233798780652,-2.704437279753935,-14.080623260215171,-15.455782966777377,-7.979184075306797,6.344655150809198,-7.022381734025179,10.15257936467941,-14.40892789056259,-28.123748556941866,9.384419283968501,-17.08656648539568,11.806002254224985,-20.999595086550276,-20.94236360622033,-0.6004352176159125,-19.06347684219417,-19.618464043360323,-9.561510492662412,-4.28435108276463,3.60137413549545,3.746289106371979,2.5381794638540023,-0.8933100301451994,-13.61080348068243,-10.316881639915026,-24.487315669978525,-9.008820862625047,-19.026601153489842,19.327296853057362,-20.781016545180766,9.960500420879862,-2.880704392217981,10.764247839014558,1.7340395508568718,-26.451501005770265,-11.415762424538235,-20.03543392210906,-9.343922898307456,-11.946172075511601,-19.803277659360255,-20.44906094970617,14.35785439828511,-15.617419929431257,-0.34442135396938106,6.155473712892981,-12.840832474843037,3.647464475163822,15.792858502570201,-0.0970065847586603,-22.706181417270614,-17.344445358279263,0.7929756013099795,8.592197277776444,-8.934352256695767,-8.123915743520259,-26.914936828062892,7.935593873985288,1.8167702637827705,-18.33961005201299,-16.16219838784995,-23.07242733023204,-5.271319191842686,3.7844357197649967,-18.797993884467967,-13.924057892895492,2.5174019979611635,5.99916037898647,-23.968475025338595,-25.957617731703532,-27.686141757118417,3.6476014706731537,-2.3970647325410956,7.482486739248778,-8.976670246677148,-16.882054046424297,-2.737792841137571,9.93942782453821,7.733016618357775,2.698221634619431,8.798234312969614,-12.088532724789237,-5.661693745576385,-22.613264798137795,5.947258706343036,-10.01998066939824,-0.6065793017489733,11.989631150957164,-10.146560965987778,10.939788970500025,0.957088312511109,-16.93231935207507,1.1698803932028354,-14.389800042135773,-16.014708620566836,18.032755301282325,5.955304709689528,0.8548476120948927,-16.745921882753354,-25.554112557144595,15.356182827405313,-16.432247865397418,-9.178841043734032,-12.982499919770783,8.853623813736904,4.715903027557525,-8.873848997780467,2.3202817560531352,5.854266095060228,-20.013697884459756,-20.488543365073152,5.4947864095653465,6.666007347080225,-5.9399009256814805,-17.69427777248066,-9.954888117936527,16.65778058590575,-10.886059243537545,-3.652740484913929,-26.082211574332874,-3.9161290672349964,-2.889360855089264,-17.580692157671972,-14.54309539324789,-3.7769891884026983,-22.206505072223017,-2.1378686085881347,-7.94565344665666,-30.568937728038264,11.838649502745131,-2.7534922583999744,7.418291042858011,-8.900040210732481,-22.92361721972477,8.35497600623978,-18.61223541960046,4.640287860144446,-19.180733172796895,-14.586605113334613,-27.866277678998472,11.067393822481092,-21.182185695726478,-19.495374817840457,-5.212132014897304,-12.244377376482213,-15.463117424536858,-22.96433368498289,-8.183007680521559,10.454223645017992,7.354425631837411,9.712058697127787,-25.453997993059556,-15.137875717931292,-23.024823572978665,12.11124668946866,10.457366414198034,-13.784878361832435,0.3154773342233944,-4.535069571760374,-6.48126084318576,-9.755226493412955,5.985241868370629,-7.501541947396694,14.418235184095643,-10.522947460430446,-15.80704636546815,-21.08034712640083,-19.72750615864835,9.639243996540985,-24.637737019050576,9.387927512759932,-7.1240539443097814,-18.05458307575915,-9.457316032578857,-4.993370942057013,-17.77247074790204,-11.09856953097205,13.718269865815884,-2.6394348408601127,3.3864264563444832,-17.960178216054917,4.440174637668285,-22.347994046487095,-18.672229472194193,-5.540412776798671,-5.870157766139059,-22.948294946964946,12.449072049194106,8.803304220623364,6.963684096622544,-29.32696165433712,-23.08689026527945,-4.271028082193237,-10.383500753960133,-2.970642514435687,-28.048354972770998,-14.215615939956013,-11.48756573241811,-6.293936763523998,-20.226203371401727,20.37586520999972,-13.359246154887568,4.02257686474105,3.8147987545883266,14.545577402580403,-16.674593140845598,1.172689413152106,10.781886478481761,-27.949136255664488,-6.643639159188939,3.7908812726384857,-4.947773543874364,-0.6778284255580993,-21.290999123556198,-5.593847759712369,13.903255936848073,3.7602216786727856,-25.67242518925162,-15.286330832964126,-20.797552125336875,-22.107035868832018,-11.409235163636888,10.98114515424078,9.160041412710678,-16.70746343342218,12.101231000335291,11.50549882830447,-4.808249309723922,4.204132026055325,-2.3028444221980644,-10.246869460226334,-20.838847968082685,-2.7378222129699465,-9.574202984910144,-22.55818871543816,-20.658678014392123,-20.38207288797778,-24.06902991726608,-10.150076558240471,5.512025180514473,6.221463373874637,-20.087207313040558,-21.401291430071982,-18.215348417185528,10.350776228685678,4.4694182481713085,4.632778826251306,0.2558132396041351,3.761927097643308,-16.075718776257716,-4.113745487541602,-2.2354877781079816,-10.6553847204532,-9.771565554901837,-8.539994209213912,4.391512515426837,-0.26316423488049023,11.320782379753021,11.062754793774566,-22.580492996032014,3.214929473342866,-16.920429637696657,-2.0086130437305245,-17.13019484390601,-25.801928277126567,9.793766568179537,-21.09037282839192,-10.367527553670975,-16.18009526883618,5.792467178698855,-18.634494222087337,-11.81606863330476,-0.9873211825436803,1.389031835073,-21.762314539587603,-11.378359436516286,-15.113509249990674,-6.48441845311014,-16.637535479450346,-0.9840143208604488,-12.491038635071666,-8.163296672729599,-4.680791484303019,-18.861723576563534,-25.48622318685553,6.586811935693127,-0.9356709045601147,5.2194934984451855,14.655042061308064,13.813038206252742,-2.8954619028979276,-10.633842682814507,-4.153722214873702,8.490759744547058,-10.038638664993094,12.117469813827661,-5.121094737937809,16.165278210376705,-4.052993122256264,-0.5255485351548341,14.753335687360588,3.58027672782114,3.8929152101205076,-2.920151910326534,-18.752976544660683,-22.940462057132233,-27.993927806002183,-15.322716628296412,-22.089167077404795,-15.539821228407998,8.836100371916114,-22.15880259158235,-24.312117879192865,-16.88896625131893,2.4593505088414993,-5.127997717761879,-7.035892789485562,-2.85805406400338,0.6624735774523862,-10.368595497596004,-16.27980571610855,-19.185226266994462,6.410200112025778,-14.317239776436091,-9.030249451029926,-24.819116367668002,-19.518195899766873,2.2456348421293577,-21.70920048577939,10.371997255343006,15.081114620767378,9.459282049414666,5.491331898921546,-12.96144643323259,-0.27222488770548614,9.14619922280348,3.2147178346157075,-4.900217641709954,-3.3249951732657212,1.9007177806052098,-17.685874302611474,-19.629274895348978,-13.696426476865339,-24.06882996403623,-6.0813736892807375,-22.881487677685758,-2.11861206058274,-5.7317355200044915,-1.8666882338424526,-22.428042470741616,-23.53972731307047,-23.606983227452208,7.337203612453512,-11.106348637026986,-7.860152765612647,-4.289910435972347,-0.8255290301068767,18.302449191265612,6.052853881844217,-8.692149108935741,2.8567873387445917,-0.4308776101033156,0.5106485430019085,11.394628801670505,-19.81420642877832,-23.450893209456158,-0.561244726703952,10.983630095316489,1.7826344639465075,-30.66306914651306,14.802605003340027,3.8582500257329633,-23.489156449977433,-22.630312948216446,-6.589976997091501,-22.59554593413411,12.910514765694646,1.3045168186975944,-20.158227014220824,-24.187309656853024,-28.003148137404576,1.4141087633488991,-4.099504434973117,-21.90958480698252,-23.790813496747763,4.135030993329589,4.964927358597169,-17.355819740717696,-23.013258209874973,10.250132470574497,-25.11257137177107,-19.293726607563215,-27.482255867960962,-16.646833576053474,-5.605297882819794,5.880871566610124,-16.51287862021417,-16.912455214112953,-8.10035684907095,6.36177945306679,1.0834367485387428,1.4543504414741453,-12.487062694343805,-24.648223005583976,0.28265060179002116,-16.234914605627246,-8.68323269955752,0.3664358628642364,-21.59365904513409,-28.667370549428515,17.867239286977675,8.879317562695201,-22.790025274583776,-13.969872681825011,-15.185233095303472,9.902393593491936,-21.361769735599324,-20.00345801822821,-16.732165446108556,-20.154173210919076,-18.23363729466694,-18.124824337931553,-16.105223901567484,-28.230827349947756,-8.880402428223002,8.608985353972233,-18.427026075378514,-17.37319987183875,3.130127602278955,1.251831310237214,12.560215034070017,-19.331329297839687,-0.0330081383256727,-4.583225894563623,-18.665582520166236,3.6926101362243715,-21.00851769248156,14.279119131782481,12.866082425770934,-15.86719068213602,8.549289303999046,-21.744503646550353,-10.59459161359678,11.07178600767652,-8.83525454988803,-4.321075414991729,10.53618249522637,-18.71606750612534,-17.710891259336,1.2092369389716375,-0.35502566421719856,8.468448056007874,14.740837728658287,-14.744070005161694,-6.792612847761707,-18.85118253870281,-16.17049993263107,-1.0767180626301762,-13.768875592773151,14.412450708350642,8.906277224472097,4.007914878619645,-4.761734651607942,-1.131793153466207,-18.62950420855549,-9.705477911619399,7.170587333010807,-9.826206107902294,-17.47027037307996,-16.726775736967127,11.411978928414431,13.827358159822792,-27.54872452853014,-19.43726909034008,10.345841115678697,-18.326272049320668,-4.930862635074878,-2.71097160413929,-20.970199444999057,-23.55817613995791,15.42472883339152,5.80086781256751,7.394209985737657,-1.0746217373420515,17.256182337706857,-15.21163727494712,1.59914747729053,-2.618019859398942,-17.71710743007584,-6.222831391648243,-0.15784634289051636,3.7706246176720937,-7.790568623001076,10.309430313224821,-15.457127324464215,4.280653750211124,-9.542826998582942,-17.222147399163866,5.491262039465625,-1.0110918428465758,-6.726289328475922,-12.935389658775179,-6.0779972128993816,-7.953730396480113,5.829034286157213,-7.409014485430238,-2.8112656484163594,-1.2396205054585687,-14.791167492822598,11.436656808583331,13.856629392923395,14.782619309478608,-19.328431652189245,9.080534049111947,4.374231918767728,-14.94693329679421,-23.92903377161574,-11.503580018011517,-13.013073551039614,-21.69169651800093,2.264865931155821,-9.503255995347509,15.436870218215189,11.020003560022786,-13.82953975139251,-0.8878937515027198,5.230644986901334,10.08658333145251,1.0625086399618153,-1.1399663024302027,2.8424387709722705,-21.26971423343625,-10.928845086355443,0.29970864107180706,-25.759852779899063,-10.925192571088822,-24.668420090550267,-8.604248082588532,-20.596888167305742,-27.766096971966377,-18.342495896674443,4.792826322917045,-15.856815663779823,-11.794630405181358,-20.156604051292312,-26.38396514692954,-21.244691750671983,-19.903940895920783,-22.613917838776608,6.262611328494198,-19.115951307067693,-15.586380648161418,4.736920049684709,-20.44874569066924,-20.600723994938768,-1.885858547184617,-21.814474576353668,-21.572472667021145,-24.39596962469189,-15.903354118917727,-0.7958133001229726,-17.898778821490513,-4.098555238566277,-13.828622002518888,4.7726374667490195,-30.63723727302505,4.146168910339591,-12.784071293608879,-23.73402407783232,4.682780922537299,-28.270889544678575,-2.5700538742881216,10.36314205459457,-2.9803734717798105,5.858568951936316,-11.563883130823385,-1.2472792397141539,-23.527703569742588,-3.6386459186117435,-4.101995711337007,-10.441513647482656,-11.541122983791583,-13.984472894195296,-5.04817211513568,-26.710923055838766,2.5041993052327096,-12.09681516066555,-16.414264544741098,-3.757035815977019,-10.004212754817488,-21.635488266610135,-4.826553516075386,-22.378068965466323,2.2989728452189064,-18.25874793749661,0.48392224316746935,-2.556972216171367,0.37190462204901803,15.438239244665805,-9.887196231681862,-10.780284652077846,-22.80862515367204,-5.836906962499369,7.953885219413519,15.560250391458613,1.6597621221624541,-26.528645822243366,-21.097490166399943,-13.233231827025627,-24.370704611150252,-17.737173229423306,-12.571279643468033,7.39323923958265,-17.453102457533753,-27.18886278768746,2.9385058794117684,-19.808166803856317,-0.9321053821993113,2.367708946017936,11.665074696554509,16.376966283488436,-13.525597740310065,-14.00978576389798,-24.494071747086924,1.5006039327414964,-11.634767810685862,-21.741439800447765,-19.623944522960283,-17.275476358313163,-3.714824193363375,-3.0662299362735066,-7.218765931769345,1.3586233005073167,4.334398025080248,-13.621982462705237,-24.577938157707678,-23.554460138286156,-21.797564401093027,1.732615170469177,-4.778398437592186,-15.528828330176568,-7.511812313768777,8.149677235706505,-25.333715437914613,-13.859724190059993,4.300970731008864,-8.036391179345003,-2.391198106186609,5.257194868289248,-4.207285586903381,3.5424496758214588,-21.716411512327728,-17.952083349163118,-17.866091387507318,1.640731409322843,7.170703951546674,-17.773117482833527,-26.54656406727386,14.697883156879564,2.1510171038331123,-20.44375625735709,-16.662681278896734,-20.817640470402218,-19.848606494240805,0.34426715463006374,-22.243224392957664,3.8917150232006046,-5.214186173799785,-22.505292540399832,-27.045768826085467,9.673117451669633,8.904105006351815,-5.912604593655568,2.983502530609332,-18.52116530652072,-11.546563743968298,3.467447531972253,9.803829230688667,16.435394910445964,15.330812304293437,-25.637074696329165,-28.68058864686551,13.324847857985603,5.530824229130599,6.348751332969738,15.264368511920345,-12.603997783222058,-16.229318185532595,-21.44700329407375,-25.495056312953434,-27.223068872397523,-8.918357624299345,-12.882272818929831,5.52728553688029,-23.19814799485636,-14.112700423167038,-21.271227751759316,-18.956595099157564,-20.863290741141377,-20.650119516458183,-26.2674731896191,-1.4195014283274396,-13.85153283252262,13.609220331314878,-17.40924659404854,-11.257086215729732,-4.876920031072004,-21.273278153358103,9.61788092493975,-7.2757308842774915,-24.22097761574418,-21.070551628970826,-18.987519092135454,7.259466559200492,-16.576402169057438,-21.72090926342923,-26.978361734526423,-3.132248096249395,5.557099925030013,-16.610716093705303,-21.14295786635818,-7.324037799612386,-18.73089863283472,-8.199504395163462,-1.5438132334329433,7.359511388399072,-16.53893115176249,15.54227397693849,-13.655167232259544,-4.838039008699927,-15.648033633455382,11.876871409227883,-12.05913522899132,-17.824018408500482,-0.8902179636335927,-24.206961161726756,-24.469479186695704,16.518491410453983,-20.822411954088974,13.80464163608269,-23.829867005347246,-21.978946334845894,-2.524569409704914,0.6833943604874757,-21.857120193524246,-11.998646414892455,-19.315684525686297,14.287848400442943,-22.598202426349292,9.846287483108341,5.154002194637533,-6.32412341698832,-23.473061908797426,7.520152131786154,-8.313306654810352,4.050956845220891,-29.2679225876342,-0.15964041644604332,-16.931859967722072,-24.3050246536268,5.588135372805475,-23.644908509826497,-6.873971403217363,-16.261010275360885,-17.89069123997126,-22.381055219163144,-22.362451360255985,-13.229068729798122,-24.04142660367079,-16.68117851049488,-22.881967521841677,-13.641927903955871,6.6187512631214815,-29.681891716856082,-19.36386195143729,19.02383337547059,-7.183915938305456,0.19308893794456972,-13.353053877047204,2.520787051889537,-0.5661500157861457,-21.174572144454412,-14.936731587810193,-4.229509253715471,9.795539706435253,-18.538571056196776,19.0747187884752,9.22176761081551,-13.329192922102424,-5.07712778860403,-5.414733255564661,-18.739897071389077,-19.764343851632336,-16.51590157725944,-15.169695531792119,10.21559981774434,2.52694188112866,0.30863871265827614,9.735975346647141,-21.873824088345884,13.005646181882202,-15.911152018113699,2.9160816778133833,-18.14048913612857,4.663220914975409,-17.060518295585513,-27.365357539389933,-10.639331442023938,-4.577169067430396,-24.59950907014988,-12.92953185316868,-25.276387885588942,8.310275839549773,-23.520901296080797,-17.116869632044562,-25.00408041313998,-20.367855506417452,-19.83936266237121,-2.636149313672439,1.7214353991045908,-2.321521417153187,-22.22761786105535,14.569183622047987,-4.027856667887619,6.114843682222059,13.454279011132005,-1.456809420060695,-16.459276828493174,-12.952123985078606,7.547116836548581,-9.172293645387295,-4.27375955822265,2.853264922926233,-14.586108419821223,2.8174808353827077,10.238179242293228,-6.403172162906083],\"y\":[1.1657500847408586,-17.019507955519355,-5.367350440117562,-8.982126814859656,-2.455388087192773,2.1310156785535095,-4.88376549427009,7.957022316958219,-12.026730311791363,2.551434020437488,-1.415853634248252,12.192298358044816,16.736863836591407,-15.997634692185915,18.278851635231135,-19.656961776694022,-0.16541712290523014,-0.014038035042124674,-6.865072240703335,-2.963386348289779,0.6012299404445974,-2.4480250343269625,-0.7929273611738236,5.579659711013866,8.865860406500216,-6.009115368625242,6.893734994156136,-5.847062893308187,9.859714232365306,-10.290414845614817,-14.198576418669434,-12.903828694995058,-10.432954031029977,-6.043632017384384,0.9547643623416185,-0.39928264673200003,-6.325839507832818,4.478801738352812,12.372831131099751,6.660440845937874,-2.3046643108558404,-2.4222435642518017,-17.045719299943574,-10.458603040559556,12.52045084940115,18.849007199726813,6.6053889579485485,-17.200188398330127,-6.8380174677986405,-15.955512754832386,-1.4167216978960258,-12.998855827000797,-4.890601337002148,-5.076417779629503,11.664561572105082,15.145599341720509,-18.68609433480358,10.10613359987861,19.241104011153944,-0.26764977656787303,-2.3951437111509453,-15.918449926193079,-6.143786546449125,-10.950213273888277,0.38504667332664944,-8.170772750769139,-1.0357621609206837,5.226041063639467,9.5344824092271,-17.958091750113724,-6.334205580777091,-7.583808869717599,10.6823633739198,8.761791411203594,-2.8612742731763774,-18.029830496438187,9.245910114609115,-2.357766176111422,1.0090611504895026,4.710149884129529,1.852500388490564,3.9189108094639558,0.9766310188934614,-1.6319120749957075,3.081585312316213,-7.136176647964596,-2.264534130709715,-14.177417754283914,-14.767620040640228,-0.8556042346628394,-9.185676817298614,-2.9969277919408555,2.9829894236192436,6.244365083075396,-15.898090486823888,-13.528505445374883,-5.098367252686726,-10.006322730231842,18.64598951219046,-19.660694262593978,0.3887965474135691,-1.6140258302395993,3.9159249055680756,-0.3449620629358203,13.282283024515442,-4.1462694039898835,3.4328186098341957,-7.453433825632631,-2.2331784783397177,-2.416504665508605,-3.8289235903994077,-10.556703946726136,-20.212729370337836,-13.09192858123669,-0.7229901801904819,0.14241218405832107,-11.72665605949112,-7.193925664737994,-17.955674724464792,8.960654146329999,-12.876213422362458,-13.381195400359385,-5.883717333676262,10.0577988937041,11.126100902796887,-9.544078777628982,-8.6853440673345,-13.297027367891365,7.706623859842715,10.781254310832677,-1.6383626884184526,-6.509142176694417,7.746872653150644,-0.5043888151419369,15.984031778715748,1.614256518628096,-6.1804920093254925,12.148292826731867,-10.326953954512511,17.73519565270021,9.46334506565098,-1.289956401839746,5.589385105837589,-7.443255369119598,-19.996268699999987,2.8626421960307793,-9.332988466478067,7.355243604963216,7.140406962042766,-12.765004222193365,13.731414988122191,12.217487547467671,-2.6084049848700093,1.8066651292409908,-14.761005924524527,3.0198002321890356,-16.881481429613544,-4.382896336786443,5.71646724208443,-5.004457345431668,-12.679163050477493,14.06598019279888,10.816025120725383,-21.883595628204418,-10.22384846926435,-5.673089070243832,-16.343677187803667,-0.6873512658395028,-8.772681967503543,-9.304587138117318,-0.4111172279268907,6.622138100310821,-18.22245895998834,-6.89145054835247,-12.07502663293538,-5.208358219260246,-10.281837044580007,-0.901913007997327,4.698600965449249,-0.153463367369006,-1.1465171958214624,-0.8794151352320094,-3.120573063639575,-6.703529780437241,-1.0917600417266877,-9.881404952475876,-2.2703789568764465,-6.679675143741224,-1.0350176481051545,-0.8981173593397992,-20.518855633574233,-13.453620107608064,-14.299872879284003,12.499588303665455,-5.323614113164387,-12.764881323290796,-9.339371158106575,-5.94111001235222,0.12854011744673058,7.988737458704875,-7.809109069949297,0.9644561966367753,0.386627594135019,-4.7635629879722545,-14.303138305915066,-19.169782979179146,-15.028790764750559,-6.362340960749486,12.392280446690481,-10.341800812258555,-8.794318815712536,-18.71864331518926,-8.360189879917543,-6.613888320455588,-4.250555530386118,-9.280347187013847,-1.0470143764839541,9.503185631607453,-13.362268516954062,-10.676099735591176,-7.201837857577572,-11.593932344214657,7.3197571492102504,-9.765924913845936,-4.916335248134306,-2.803146368014215,2.2264879413944616,2.2730286422573323,-18.00323419108369,-7.401041944524795,12.452778311187588,4.334240357027926,-0.7684871839573372,-5.7326011931742205,7.364620815346392,4.7203822266276045,12.382547395654788,1.0015242073863269,0.9572601795489094,-5.277135778549352,-19.346578266659257,-7.312661415998688,6.544213768595978,-20.525654615055025,-2.786374879127405,-8.833153060394945,6.662683319939163,10.204970921456448,-12.676592395814021,-2.270282209684113,1.8328653080790747,-13.001778782503306,11.133989623513466,9.472891597600533,3.236431638138522,3.2201875855337323,2.2441465646643843,-0.72813295524106,-6.522598381554073,-4.020582271646866,-9.36906733518503,0.33405603942074596,-6.4365487858673065,-18.028202601900777,8.134260731267583,-10.775017461473567,19.786960943254208,17.26680731307623,-14.354106096130899,-21.655836717808242,-11.368675407663279,-5.140689004662203,-13.238835109710372,-20.00576751446733,-3.6350802663027633,0.47826866858683437,-20.682296462750852,-8.353947289139219,8.384839566817652,10.769925073391097,-2.0470084310311925,-7.014256268832421,6.634975071891827,-9.062933546510934,-2.3869755804064776,-6.938649451770523,-7.240365361113294,-0.1283367628485708,3.272979604126086,-0.32840989388582853,2.8062838649237563,-0.6527026758702731,-15.525424734878625,6.666317450610058,1.4668018619819307,-3.184187692425541,4.621019771781379,-14.881047432258066,-8.70987482197549,-10.212806700443643,7.652880044404436,12.133053052562767,-5.415428473009173,-0.8058377799275535,9.633158075078539,-11.950464766551809,5.9830591222731115,4.822847591675957,-0.39881253630528213,-6.399605528591326,-14.91923111926389,-4.547432968827427,7.474955150934774,-8.497953599658466,6.540344229023182,-3.248487318682045,-16.91651079161682,1.4063810630951787,-14.032527432449127,-1.9103045449014342,-14.300103475710026,-13.66617029086135,11.902007996265523,-5.161974766215589,-16.264373256878017,4.218662002497132,-16.01035796066652,-7.180294423361699,5.322566861395714,0.982467072214224,16.476410307049655,-20.522834890391643,-14.786851672645517,-9.15578078609935,-7.533731090121406,8.401900361163394,-7.656853242374251,-3.8222464124770226,6.5010365460683275,-10.375091598488817,-13.013502602372842,-7.21225285886636,1.896924434198869,9.218880075495118,-17.273486965987225,-10.041022120060758,4.091876147627928,-14.105287119521838,11.963497504216617,11.722865923939514,-6.927446247220574,4.865034934552688,-6.342335136430046,-2.718948431383912,-13.816288648961486,-5.097960454303006,-13.465531089549916,-0.44238103566541276,15.276467857262489,11.43637911353525,6.779570337544392,-11.772346135365716,-2.044810418004501,3.322740781756762,14.130696015595618,-19.633221224904993,-15.538754424498979,-3.8461449247634953,1.1701091527500975,-14.793261245510985,-10.063437783267991,-9.062198459796328,-9.127949491344541,17.640829407110598,1.0488638948391868,-8.225298612710933,-10.296370457331497,11.733618244619532,-20.689002070525532,4.316512992561863,12.759140671458454,-5.8896259215201345,-14.895876016025303,-3.8210227120871374,-12.365112272389972,-3.7599141613473956,9.88749675564117,6.599924359387533,4.957425773282917,-3.7268127873836026,7.441558553127137,-6.454084621995216,5.127770212380521,2.9067870709833357,7.594006023953731,-13.534018872648737,0.2830830682686107,-9.583087542015452,-1.022637935496877,-14.80397559397583,-2.5591666691744774,11.504216925450335,-14.28575937152764,1.3976439900960502,-11.825138708000242,-12.321927156682378,-7.010814692820933,-12.87621316860261,19.023161465424717,-7.794821991270129,6.654200239331481,5.055935107140174,7.322570696378643,7.377686724804633,-2.7395558141491527,6.93800519257724,-1.1264980680929244,-9.826731172732085,-6.350089658579655,1.2950096943276705,-7.860906142516475,9.31773028375931,-13.83617912844816,-10.693105866577335,-15.937268228803726,-8.385915114218518,-0.658954236124775,-5.321480805563735,1.5864800733824056,-0.16489683506774744,-8.69795044249928,1.0470885687291387,-3.783553708994791,-15.587618418053111,-1.5627294791418487,-5.3719410288476315,12.651433445231223,-5.9721811748001254,-16.461619766637167,-6.45124704756562,0.29878518488292444,12.126257428378398,11.448434799877072,-0.03692172110417412,-6.902727143519297,7.7910045320485795,1.2998432106895141,15.193117161469203,-11.366880596949839,18.561101899182773,-7.219145999768721,-11.408851765919003,-7.189030882342428,-7.23591542852469,-11.481086456015074,14.058337700205142,-3.4623417686438693,-0.45652328286932015,-12.973968433275678,-13.904645776940125,-2.3222923914716387,-12.333132585891336,11.00227706471384,4.324359337350152,-17.907716188643274,-2.5660274020936003,-13.39945899228848,-16.435761065895964,2.696486984778968,5.458080226705415,-18.944407311653475,-11.521112034087738,3.9169499319769603,-8.203404267895305,-9.226837752284434,11.62836502790338,-8.62897737616665,10.051766431844873,-16.377784449765073,-12.732953660105506,10.586587499319794,-14.778367176980643,7.533757109664181,4.102546856234983,-2.5877341359691797,5.890694655973798,-1.5810948707679162,-3.5605568295252206,-3.884697751210841,-4.233533662342655,-2.8933475960182298,-15.105329724762674,18.604535687418185,3.1884357510177668,17.109872032123416,12.761835956850252,-8.975140116099256,-11.968908062111328,10.636969818437077,12.410279298723944,-2.9994432669070497,-9.97086918206604,-11.12582798641218,0.8396717240415402,-4.879526768062462,6.667040574518703,8.099755724958774,-20.536708849620055,-13.527709320501806,-11.601944281465077,-4.804466678545638,3.1144237847144587,18.009387482940408,-5.510972264711728,-14.854291396288096,-0.9665299550745152,10.146217667274746,-9.31424465142898,-1.551877102522464,6.914748360493739,-2.389702979453799,-8.748305704498472,-9.204522913540691,7.137993488200087,-14.850221597089227,-8.671686269787235,-13.953509986061857,-17.69205240706908,5.115802803892507,-11.272384594321446,4.062351231609327,-5.907786303659586,-4.300270411458518,-13.841984971575263,-12.702680078375922,12.490065869743672,-13.850246507808498,-16.783677797594898,-1.1568838162717308,-7.592963962799863,-4.054096744164217,-10.303474343145814,-9.483994725539462,-11.536111394418798,2.2004023232285563,0.5730555931245677,-5.679375512148938,4.298706308589666,7.753416859065588,-11.415872713524383,-0.9353612195029902,-1.7512008275629498,-16.896797638251964,-17.466131834839153,5.510494824715819,-10.58870397654,-4.307100508914708,6.716703742130324,-10.84750083950211,14.076897195163456,-8.723440806627675,7.381775294133675,-17.277045608317163,-10.477710116954533,-21.763552219452514,-13.11813922339439,-20.084637390583822,-10.744900033689387,-17.953164883764575,-14.61126122201562,-9.815149559795636,9.844908989937101,3.6287859095589052,2.5644150402550925,17.22402535109057,-3.618588483555905,2.8995318765886218,-22.025323884731677,-13.945522092799644,-14.212695237918075,-11.744385053231587,1.1775297321032463,-1.290669176836678,1.3531580079827348,-8.931299598008081,1.6838506980955241,-1.5394440814764885,-13.357968052302779,7.3697285557789005,3.469968473592548,-3.7956838049813206,-4.614126216573052,-12.861595187256533,1.6681741343269398,1.9990466941343974,15.215940627740826,-18.755745171451846,8.28726660735424,-3.754871675746549,3.9166706152919377,-15.684212613445917,-18.757856035796376,8.719910966319418,15.564183487937377,-17.98977915263142,-9.59843718047983,-3.5047938709756723,-4.488549186764792,17.63383042363429,-0.8064629596748256,-5.214489719961645,4.1482333662931765,-5.230294141350238,-4.722679647526857,-16.686998527960785,-5.8173004554546885,5.387296689596774,-6.355950941464157,-12.52029613347285,0.5346128033019868,-13.206952242262059,-14.715860525659785,4.197250859518521,-7.620654239666202,0.29063213232114,9.84582940035116,-7.082124439127664,12.392519372041939,7.497484155644099,-10.654577288837626,-8.828180825760116,-14.684125895239088,4.820509584424215,-6.560032616565675,13.240944993069206,-7.096704073868521,-2.534666786900557,2.8677212974045267,-13.194354841449789,-1.6292808922623427,-20.14866699077618,6.485265652477406,7.80151617075998,-5.279767340099846,-16.580672964099726,3.6133883274677174,11.1850401712037,-1.4769222637342887,-19.52760492235565,6.712206443141908,8.842030546751673,13.506102588178118,20.095940306115963,-7.071224475797172,-14.44008467791116,-3.7647836393415726,-8.289557644377672,10.070700652282246,-9.167206286185955,7.247073588344314,-9.302396864637979,-9.886480104408088,6.739293294372716,-1.2519409688467646,-0.08707959263186527,-5.980546897365827,4.358224748531546,10.811199477142429,-4.912939088692533,1.8466767760384841,-8.360232825670638,-3.9045694491540246,-10.286344137108472,-6.047245499402281,5.620562328593939,-7.378803602866335,2.832501320902584,-4.3964971628512775,-7.8275107384039835,-21.511250083951037,-12.862392159565017,-7.849550228675192,-12.217867617784155,-3.7898257948084386,3.1941005796994313,-0.6634797784184295,-0.5171399248072961,1.0597724310348267,-11.256483487934455,9.688199498989956,-13.631735990125133,4.087387632067581,6.685077889726817,-13.22641817109989,7.423977067752368,12.213431238816325,-9.651988302319184,8.691622478626837,-2.4059965816557387,1.5257075918918452,-16.811876943726407,-10.540442331094006,-4.829161787701035,-6.0619214979122855,-3.4257169243121877,8.678201099089105,1.9451736525464896,0.1991381634017652,6.128437051085478,-11.002139327043531,-3.9817850044965906,-1.8913766050448073,16.76686970125312,-9.235226925269595,3.7712584802046094,5.2949932060796225,-8.09469333369792,1.28898571214223,-9.15654315481796,15.581164516005481,-12.217436830138373,-12.56202414248026,-16.366550691235123,4.658010534152118,-2.6742713471092987,19.413584708427244,-2.4482822534753876,-12.574431259807797,-18.973821047072764,10.538959692849383,0.08003850804452746,5.7529017359675105,-16.028562291879684,-3.828830575509639,-8.617310051241411,15.86521995881934,-2.649008436478426,13.158222136890194,-19.289241473505708,-7.880737714756191,-19.640627904592296,-11.155007345690327,-10.679535785904566,5.640575524570447,-6.9406519680161365,-0.8981020432148632,1.5928752518996812,-16.59741646821847,-20.704787974566813,0.582581533009989,-8.296772246726086,-20.7189394038495,3.386402547100239,-10.04381325402815,-7.321066034934222,-9.852122058867359,-11.272087723578787,-4.132189457254615,-1.3228445224288006,-11.260662131266514,-11.298298686630078,10.404042778384703,-12.358251304602781,16.924897871597445,7.925720341823795,3.4078838899391095,-6.222072319791582,-13.008265160897363,-18.682649022576094,-18.056238958229656,-7.0796875473663725,-1.6297697624203835,12.085329439518425,-2.3135222675514533,-11.241778170773472,-7.41671266260313,18.91605302537481,-8.86431194018253,-12.76564359880207,8.215931015816397,0.7178868603522498,-12.705026046479949,-8.7215064057712,-11.2304107939731,-11.236169303022585,-1.0091882912917238,-20.056237805548964,-16.717193768718044,-10.515035232470249,-14.841082342660009,9.657085632118633,7.263034587433219,-19.917456035516267,-7.745605221690747,-15.471125493291584,10.052231113988812,-16.341048987334972,-9.545571838859507,-0.5401492743541989,-3.8835290738897656,-1.8375893655121482,-13.575381950096535,3.905492107561067,-1.0542063170105103,13.532150051022118,-13.394253653240005,-11.211010459285669,-10.158752177946564,-8.890754797374614,-13.2317109535519,15.058010009790925,7.7620505899125485,-5.037446253185005,-8.484050922194312,-13.54788752276822,-4.447737347696112,6.453819387291268,-7.561967182766177,-7.60882550233932,17.4270587809078,-11.52898829920666,4.705874987069812,10.542859012197766,-0.8269285925919456,-7.993655139502111,4.922855324807845,-17.117778500252367,-10.534965243424505,-7.003872080346644,-2.4265272253633667,-2.340558216249996,-4.498710419753053,5.443272618848615,-7.140397254571644,-12.958979002616156,-14.916342344501297,-4.577119760533463,-14.728335197553347,1.4671044881093795,-17.06706330558994,-16.320413237919333,-12.746031801116388,-2.9904236602438594,-22.464020759045408,-18.771079585144182,-18.294875751432723,-15.622776620438271,-5.847386329503852,-16.30115256404076,-3.268913326923824,13.332628514108533,5.568169254602041,-9.714049241589137,6.329017480154055,13.880616992287289,-12.872660957808908,-16.82909798415346,-13.81452747142236,-18.743116162111473,-5.346282183529496,-2.0454620536353967,-8.262389378634692,-0.20490620060375506,2.5164581626962708,11.548729524692286,-18.760914296797676,-7.763665696027603,1.3368220957268977,-0.1159865897522428,-11.143485161793372,9.499082120800082,6.626203018243267,13.426145867049367,-5.819039343112016,9.812751797509108,-6.2532935098848705,-2.461210153432411,0.614703246988611,-0.8485935528453408,-19.34619373252808,10.128316496529678,8.976987790151494,-7.890773592792357,-7.597123779226618,11.899940821845853,-0.2902143295402534,4.061255035510345,7.8869826979248145,-2.4711747738414416,-5.127348730765649,-6.2898740994857425,-22.425043022493146,13.453321205988509,-5.8375412889706695,11.520883054913504,3.3815490807051445,-15.023430122197482,-10.560471323496056,-6.586597276555135,5.180340748740407,-3.679121056771572,5.151602715119469,-7.66561186370647,17.53185147303143,6.757804535340804,-13.788368902218911,9.452846451310254,-7.700064890858157,-15.770164555385726,-18.28711060289474,-0.32628682218335714,5.108832686994211,-19.319358468608076,-7.086600746245136,-10.899693572055726,-14.543420639987506,-5.33112953853455,-3.9601411700892872,-0.8919946001489905,-6.0842407523108175,-6.5689956855296545,-3.498401490867285,3.127820027983504,-21.6086043996592,-10.944867446558316,-13.219248514896739,2.8785578134751333,-2.3796949824691533,-5.4557707296632785,5.95995517212244,2.412838117913166,-5.195467576046755,-1.6849213688956817,9.977597573523841,-7.1292686688964055,-3.9657819305841553,3.4660783222108393,-12.852933168953223,0.07683755909564671,-22.011832938144547,-5.754770360730445,12.901650412194709,-3.4480616686654,-9.013310139160442,-4.526120637175121,-1.8035792445777121,5.598183436331198,-17.79623718343503,3.8382427769789556,-8.188584527530349,-13.011686993227388,-1.7283592027301669,-6.556338420577192,-14.92384540233066,16.79459748709342,-15.525609405856454,3.877451378792851,-6.194747616774486,-1.05370263520757,-1.532168445941765,-8.33495787429847,6.596166292625076,-16.305246611877628,-3.903757102658062,1.1794499953649873,6.5419277790215125,-12.405691102451977,-8.54582173213913,-7.550524501495801,17.590122168468735,0.7527206686822887,-1.5107427139431178,14.375461393535002,11.657163326828591,-6.584607718568585,-0.14701969480223076,-20.64011143839619,8.720874063308242,-20.070711869235097,-3.5769278311292485,10.549075301355876,0.695151865133724,5.403953635111293]}},\"id\":\"2267429f-bb5f-4b57-ad53-3837d8497855\",\"type\":\"ColumnDataSource\"},{\"attributes\":{\"bottom_units\":\"screen\",\"fill_alpha\":{\"value\":0.5},\"fill_color\":{\"value\":\"lightgrey\"},\"left_units\":\"screen\",\"level\":\"overlay\",\"line_alpha\":{\"value\":1.0},\"line_color\":{\"value\":\"black\"},\"line_dash\":[4,4],\"line_width\":{\"value\":2},\"plot\":null,\"render_mode\":\"css\",\"right_units\":\"screen\",\"top_units\":\"screen\"},\"id\":\"431b8386-fd3b-4f5f-a13e-9d6c2e4709d6\",\"type\":\"BoxAnnotation\"},{\"attributes\":{\"active_drag\":\"auto\",\"active_scroll\":\"auto\",\"active_tap\":\"auto\",\"tools\":[{\"id\":\"79a0932d-79b7-4c25-a558-a605095bc8b6\",\"type\":\"HoverTool\"},{\"id\":\"0f383b04-a991-413b-8eab-467928a2f3a6\",\"type\":\"PanTool\"},{\"id\":\"de15f75f-a97c-465c-8781-56a666585389\",\"type\":\"WheelZoomTool\"},{\"id\":\"9f126340-c5bd-4fb6-867d-83520838664e\",\"type\":\"BoxZoomTool\"},{\"id\":\"a5e27b6f-1d94-40d4-a29c-3e9c2ab42a36\",\"type\":\"ResetTool\"},{\"id\":\"45b06379-c1f9-489e-9c20-3df3d238fec6\",\"type\":\"SaveTool\"}]},\"id\":\"cf940db6-b020-411b-9488-43aeeb01fe6f\",\"type\":\"Toolbar\"},{\"attributes\":{\"data_source\":{\"id\":\"2267429f-bb5f-4b57-ad53-3837d8497855\",\"type\":\"ColumnDataSource\"},\"glyph\":{\"id\":\"52831097-61a0-4b7d-9e64-d0e77adcff1a\",\"type\":\"Circle\"},\"hover_glyph\":null,\"nonselection_glyph\":{\"id\":\"b15d4034-0141-4764-a2a7-d942b6408916\",\"type\":\"Circle\"},\"selection_glyph\":null},\"id\":\"d9849568-4714-4625-bbfb-8b462f7fccc6\",\"type\":\"GlyphRenderer\"},{\"attributes\":{\"plot\":{\"id\":\"49dcfdf2-ef75-429b-9707-4126a08dad8e\",\"subtype\":\"Figure\",\"type\":\"Plot\"},\"ticker\":{\"id\":\"f54f0931-f0bc-43ce-b03b-66c3a4ec74f1\",\"type\":\"BasicTicker\"}},\"id\":\"b4d062b2-d363-45dc-a716-46e93f73abc9\",\"type\":\"Grid\"},{\"attributes\":{\"plot\":{\"id\":\"49dcfdf2-ef75-429b-9707-4126a08dad8e\",\"subtype\":\"Figure\",\"type\":\"Plot\"}},\"id\":\"a5e27b6f-1d94-40d4-a29c-3e9c2ab42a36\",\"type\":\"ResetTool\"},{\"attributes\":{},\"id\":\"7fab2009-66b4-4293-885c-f24857d1ef54\",\"type\":\"BasicTicker\"},{\"attributes\":{},\"id\":\"4e762a00-bf82-4f93-8b35-31be72c5e2e4\",\"type\":\"ToolEvents\"},{\"attributes\":{\"plot\":{\"id\":\"49dcfdf2-ef75-429b-9707-4126a08dad8e\",\"subtype\":\"Figure\",\"type\":\"Plot\"}},\"id\":\"de15f75f-a97c-465c-8781-56a666585389\",\"type\":\"WheelZoomTool\"},{\"attributes\":{},\"id\":\"7b176982-f0a2-4c41-ab9e-561d7169bd79\",\"type\":\"BasicTickFormatter\"},{\"attributes\":{\"below\":[{\"id\":\"7265accd-a7c0-4e05-b6e5-4f5a47280faa\",\"type\":\"LinearAxis\"}],\"left\":[{\"id\":\"67740445-1c02-4424-bf84-8e30e575e2d6\",\"type\":\"LinearAxis\"}],\"renderers\":[{\"id\":\"7265accd-a7c0-4e05-b6e5-4f5a47280faa\",\"type\":\"LinearAxis\"},{\"id\":\"b4d062b2-d363-45dc-a716-46e93f73abc9\",\"type\":\"Grid\"},{\"id\":\"67740445-1c02-4424-bf84-8e30e575e2d6\",\"type\":\"LinearAxis\"},{\"id\":\"9bba1c0e-4653-4942-9cf9-43cd43cb3da7\",\"type\":\"Grid\"},{\"id\":\"431b8386-fd3b-4f5f-a13e-9d6c2e4709d6\",\"type\":\"BoxAnnotation\"},{\"id\":\"17ad3306-f9f9-4baf-a88d-79a44171a0f7\",\"type\":\"GlyphRenderer\"},{\"id\":\"d9849568-4714-4625-bbfb-8b462f7fccc6\",\"type\":\"GlyphRenderer\"}],\"title\":{\"id\":\"3e058009-4985-49f6-ac4a-ab5dbc794c06\",\"type\":\"Title\"},\"tool_events\":{\"id\":\"4e762a00-bf82-4f93-8b35-31be72c5e2e4\",\"type\":\"ToolEvents\"},\"toolbar\":{\"id\":\"cf940db6-b020-411b-9488-43aeeb01fe6f\",\"type\":\"Toolbar\"},\"x_range\":{\"id\":\"cc0a3894-9492-49e5-9a0a-c860c116d2e8\",\"type\":\"DataRange1d\"},\"y_range\":{\"id\":\"fd64cf5e-3720-461f-84fc-812a25f78f33\",\"type\":\"DataRange1d\"}},\"id\":\"49dcfdf2-ef75-429b-9707-4126a08dad8e\",\"subtype\":\"Figure\",\"type\":\"Plot\"},{\"attributes\":{},\"id\":\"04e0d601-ed66-4e26-a33b-b76b19093b09\",\"type\":\"BasicTickFormatter\"},{\"attributes\":{\"plot\":null,\"text\":\"Word visualization\"},\"id\":\"3e058009-4985-49f6-ac4a-ab5dbc794c06\",\"type\":\"Title\"},{\"attributes\":{\"data_source\":{\"id\":\"554ef9e2-d1f1-4c4b-9488-cd3330aa610a\",\"type\":\"ColumnDataSource\"},\"glyph\":{\"id\":\"50ef14c3-1f88-436f-abfe-0812103d1b74\",\"type\":\"Circle\"},\"hover_glyph\":null,\"nonselection_glyph\":{\"id\":\"77f22010-9d07-4e9e-a216-a97bc3fcc8bd\",\"type\":\"Circle\"},\"selection_glyph\":null},\"id\":\"17ad3306-f9f9-4baf-a88d-79a44171a0f7\",\"type\":\"GlyphRenderer\"},{\"attributes\":{\"plot\":{\"id\":\"49dcfdf2-ef75-429b-9707-4126a08dad8e\",\"subtype\":\"Figure\",\"type\":\"Plot\"}},\"id\":\"45b06379-c1f9-489e-9c20-3df3d238fec6\",\"type\":\"SaveTool\"},{\"attributes\":{\"dimension\":1,\"plot\":{\"id\":\"49dcfdf2-ef75-429b-9707-4126a08dad8e\",\"subtype\":\"Figure\",\"type\":\"Plot\"},\"ticker\":{\"id\":\"7fab2009-66b4-4293-885c-f24857d1ef54\",\"type\":\"BasicTicker\"}},\"id\":\"9bba1c0e-4653-4942-9cf9-43cd43cb3da7\",\"type\":\"Grid\"},{\"attributes\":{\"callback\":null},\"id\":\"fd64cf5e-3720-461f-84fc-812a25f78f33\",\"type\":\"DataRange1d\"},{\"attributes\":{\"formatter\":{\"id\":\"04e0d601-ed66-4e26-a33b-b76b19093b09\",\"type\":\"BasicTickFormatter\"},\"plot\":{\"id\":\"49dcfdf2-ef75-429b-9707-4126a08dad8e\",\"subtype\":\"Figure\",\"type\":\"Plot\"},\"ticker\":{\"id\":\"7fab2009-66b4-4293-885c-f24857d1ef54\",\"type\":\"BasicTicker\"}},\"id\":\"67740445-1c02-4424-bf84-8e30e575e2d6\",\"type\":\"LinearAxis\"},{\"attributes\":{\"fill_alpha\":{\"value\":0.2},\"fill_color\":{\"value\":\"red\"},\"line_color\":{\"value\":\"red\"},\"size\":{\"units\":\"screen\",\"value\":10},\"x\":{\"field\":\"x\"},\"y\":{\"field\":\"y\"}},\"id\":\"52831097-61a0-4b7d-9e64-d0e77adcff1a\",\"type\":\"Circle\"},{\"attributes\":{},\"id\":\"f54f0931-f0bc-43ce-b03b-66c3a4ec74f1\",\"type\":\"BasicTicker\"},{\"attributes\":{\"fill_alpha\":{\"value\":0.2},\"fill_color\":{\"value\":\"navy\"},\"line_color\":{\"value\":\"navy\"},\"size\":{\"units\":\"screen\",\"value\":10},\"x\":{\"field\":\"x\"},\"y\":{\"field\":\"y\"}},\"id\":\"50ef14c3-1f88-436f-abfe-0812103d1b74\",\"type\":\"Circle\"},{\"attributes\":{\"callback\":null},\"id\":\"cc0a3894-9492-49e5-9a0a-c860c116d2e8\",\"type\":\"DataRange1d\"}],\"root_ids\":[\"49dcfdf2-ef75-429b-9707-4126a08dad8e\"]},\"title\":\"Bokeh Application\",\"version\":\"0.12.0\"}};\n",
       "            var render_items = [{\"docid\":\"02fb93c4-892d-495b-80c7-5a0fd58591a1\",\"elementid\":\"15103063-9c1d-4408-b93c-716be893a33a\",\"modelid\":\"49dcfdf2-ef75-429b-9707-4126a08dad8e\",\"notebook_comms_target\":\"f04cd1b8-2987-4152-9ffc-8dfaec858e1a\"}];\n",
       "            \n",
       "            Bokeh.embed.embed_items(docs_json, render_items);\n",
       "        });\n",
       "      },\n",
       "      function(Bokeh) {\n",
       "      }\n",
       "    ];\n",
       "  \n",
       "    function run_inline_js() {\n",
       "      for (var i = 0; i < inline_js.length; i++) {\n",
       "        inline_js[i](window.Bokeh);\n",
       "      }\n",
       "    }\n",
       "  \n",
       "    if (window._bokeh_is_loading === 0) {\n",
       "      console.log(\"Bokeh: BokehJS loaded, going straight to plotting\");\n",
       "      run_inline_js();\n",
       "    } else {\n",
       "      load_libs(js_urls, function() {\n",
       "        console.log(\"Bokeh: BokehJS plotting callback run at\", now());\n",
       "        run_inline_js();\n",
       "      });\n",
       "    }\n",
       "  }(this));\n",
       "</script>"
      ]
     },
     "metadata": {},
     "output_type": "display_data"
    }
   ],
   "source": [
    "unseen_words = plot_tsne(glove_100, 1000)"
   ]
  },
  {
   "cell_type": "code",
   "execution_count": 60,
   "metadata": {
    "collapsed": false
   },
   "outputs": [
    {
     "name": "stdout",
     "output_type": "stream",
     "text": [
      "prompt_toolkit, uwsgi, kubernetes, scikit, sklearn, jupyter, rwatch, alifexv, pydataparis, resnet, pydatabln, dadaist, icml, openai, prni, hyperparameter, sagemath, subsampling, ctypes, print_statement, sourceness, tensorflow, moogles, benv, nilearn, reproducibility, cython, brexit, wikitables, ipython, numfocus, deeplearning, factorization, neuroimaging, preprint, pytn, numpy, matplotlib, mcpenface, lstms, machinelearning, ohbm, scipy, barbagroup, sgdq, datashader, sparsity, pyconopenspace, pydatalondon, wssspe, datascience, ceval, polyconf, joblib, tflops, seabikes, pydata, iclr, euroscipy, decoders, automl, __past__, orlandoshooting, neuralnetworks, connectomics, prereleas, proxysql, percona, plotly, jmlr, ngcmsummeracademy, cffi, pypi, scikitlearn\n"
     ]
    }
   ],
   "source": [
    "print(', '.join(unseen_words))"
   ]
  },
  {
   "cell_type": "code",
   "execution_count": 61,
   "metadata": {
    "collapsed": true
   },
   "outputs": [],
   "source": [
    "def tokenize_dataset(tokenizer, dataset):\n",
    "    tokenize_dataset = []\n",
    "    for tweet in dataset:\n",
    "        # Replace different numbers with a token\n",
    "        tweet = re.sub(r\"\\.\\d+\\s*\", \".<number> \", tweet)\n",
    "        tweet = re.sub(r\"\\d+\\s*\", \" <number> \", tweet)\n",
    "        tokens = tokenizer(tweet)\n",
    "        tokenize_dataset.append(tokens)\n",
    "    return tokenize_dataset"
   ]
  },
  {
   "cell_type": "code",
   "execution_count": 52,
   "metadata": {
    "collapsed": false
   },
   "outputs": [],
   "source": [
    "X_train_tokenized = tokenize_dataset(TweetTokenizer().tokenize, X_train)\n",
    "X_test_tokenized = tokenize_dataset(TweetTokenizer().tokenize, X_test)"
   ]
  },
  {
   "cell_type": "code",
   "execution_count": 53,
   "metadata": {
    "collapsed": true
   },
   "outputs": [],
   "source": [
    "def get_embeddings(dataset, dictionary, embedding_size):\n",
    "    X_emebeddings = []\n",
    "    for tweet in dataset:\n",
    "        tweet_embeddings = []\n",
    "        for word in tweet:\n",
    "            if word in dictionary:\n",
    "                tweet_embeddings.append(dictionary[word])\n",
    "        if not tweet_embeddings:\n",
    "            tweet_embeddings.append(np.zeros(embedding_size))\n",
    "        # Each tweet would have a different number of words and ML techniques requiere fixed inputs. \n",
    "        X_emebeddings.append(np.mean(np.asarray(tweet_embeddings, dtype=np.float32), axis=0))\n",
    "    return X_emebeddings"
   ]
  },
  {
   "cell_type": "code",
   "execution_count": 54,
   "metadata": {
    "collapsed": true
   },
   "outputs": [],
   "source": [
    "X_train_GloVe = get_embeddings(X_train_tokenized, glove_100, 100)\n",
    "X_test_GloVe = get_embeddings(X_test_tokenized, glove_100, 100)"
   ]
  },
  {
   "cell_type": "markdown",
   "metadata": {},
   "source": [
    "## 4.2. But I want to train word embeddings with my own data!"
   ]
  },
  {
   "cell_type": "code",
   "execution_count": 55,
   "metadata": {
    "collapsed": false
   },
   "outputs": [],
   "source": [
    "from gensim.models import word2vec"
   ]
  },
  {
   "cell_type": "code",
   "execution_count": 56,
   "metadata": {
    "collapsed": false
   },
   "outputs": [],
   "source": [
    "# Initialize and train the model (this will take some time)\n",
    "model = word2vec.Word2Vec(X_train_tokenized, \n",
    "                          workers = 4,\n",
    "                          size = 100,  \n",
    "                          min_count = 1,     # How many times a word should appear to be taken into account\n",
    "                          window = 5, \n",
    "                          sample = 1e-3 ,    # Downsample setting for frequent words\n",
    "                          batch_words = 100) # Batches of examples passed to worker threads \n",
    "\n",
    "# This model won't be updated\n",
    "model.init_sims(replace=True)\n",
    "\n",
    "model_name = \"word2vec\"\n",
    "model.save(model_name)"
   ]
  },
  {
   "cell_type": "code",
   "execution_count": 57,
   "metadata": {
    "collapsed": false,
    "scrolled": true
   },
   "outputs": [
    {
     "data": {
      "text/plain": [
       "(4193, 100)"
      ]
     },
     "execution_count": 57,
     "metadata": {},
     "output_type": "execute_result"
    }
   ],
   "source": [
    "model.syn0.shape"
   ]
  },
  {
   "cell_type": "code",
   "execution_count": 62,
   "metadata": {
    "collapsed": false
   },
   "outputs": [
    {
     "data": {
      "text/html": [
       "\n",
       "\n",
       "    <div class=\"bk-root\">\n",
       "        <div class=\"plotdiv\" id=\"3021a8e7-187f-45cc-ae32-321b214f6fad\"></div>\n",
       "    </div>\n",
       "<script type=\"text/javascript\">\n",
       "  \n",
       "  (function(global) {\n",
       "    function now() {\n",
       "      return new Date();\n",
       "    }\n",
       "  \n",
       "    if (typeof (window._bokeh_onload_callbacks) === \"undefined\") {\n",
       "      window._bokeh_onload_callbacks = [];\n",
       "    }\n",
       "  \n",
       "    function run_callbacks() {\n",
       "      window._bokeh_onload_callbacks.forEach(function(callback) { callback() });\n",
       "      delete window._bokeh_onload_callbacks\n",
       "      console.info(\"Bokeh: all callbacks have finished\");\n",
       "    }\n",
       "  \n",
       "    function load_libs(js_urls, callback) {\n",
       "      window._bokeh_onload_callbacks.push(callback);\n",
       "      if (window._bokeh_is_loading > 0) {\n",
       "        console.log(\"Bokeh: BokehJS is being loaded, scheduling callback at\", now());\n",
       "        return null;\n",
       "      }\n",
       "      if (js_urls == null || js_urls.length === 0) {\n",
       "        run_callbacks();\n",
       "        return null;\n",
       "      }\n",
       "      console.log(\"Bokeh: BokehJS not loaded, scheduling load and callback at\", now());\n",
       "      window._bokeh_is_loading = js_urls.length;\n",
       "      for (var i = 0; i < js_urls.length; i++) {\n",
       "        var url = js_urls[i];\n",
       "        var s = document.createElement('script');\n",
       "        s.src = url;\n",
       "        s.async = false;\n",
       "        s.onreadystatechange = s.onload = function() {\n",
       "          window._bokeh_is_loading--;\n",
       "          if (window._bokeh_is_loading === 0) {\n",
       "            console.log(\"Bokeh: all BokehJS libraries loaded\");\n",
       "            run_callbacks()\n",
       "          }\n",
       "        };\n",
       "        s.onerror = function() {\n",
       "          console.warn(\"failed to load library \" + url);\n",
       "        };\n",
       "        console.log(\"Bokeh: injecting script tag for BokehJS library: \", url);\n",
       "        document.getElementsByTagName(\"head\")[0].appendChild(s);\n",
       "      }\n",
       "    };var element = document.getElementById(\"3021a8e7-187f-45cc-ae32-321b214f6fad\");\n",
       "    if (element == null) {\n",
       "      console.log(\"Bokeh: ERROR: autoload.js configured with elementid '3021a8e7-187f-45cc-ae32-321b214f6fad' but no matching script tag was found. \")\n",
       "      return false;\n",
       "    }\n",
       "  \n",
       "    var js_urls = [];\n",
       "  \n",
       "    var inline_js = [\n",
       "      function(Bokeh) {\n",
       "        Bokeh.$(function() {\n",
       "            var docs_json = {\"01bc23d2-0266-49a2-82a4-d13f7d838eda\":{\"roots\":{\"references\":[{\"attributes\":{\"callback\":null},\"id\":\"5d71f687-84e5-44a5-a17a-a9b6ec086696\",\"type\":\"DataRange1d\"},{\"attributes\":{},\"id\":\"68c4e167-540f-4846-aaf8-e7046dc7b8f2\",\"type\":\"BasicTickFormatter\"},{\"attributes\":{\"fill_alpha\":{\"value\":0.2},\"fill_color\":{\"value\":\"red\"},\"line_color\":{\"value\":\"red\"},\"size\":{\"units\":\"screen\",\"value\":10},\"x\":{\"field\":\"x\"},\"y\":{\"field\":\"y\"}},\"id\":\"8ca92627-db13-4569-9f46-9575392488fa\",\"type\":\"Circle\"},{\"attributes\":{\"callback\":null,\"column_names\":[\"x\",\"words_bros\",\"y\",\"range_words\"],\"data\":{\"range_words\":[1,2,3,4,5,6,7,8,9,10,11,12,13,14,15,16,17,18,19,20,21,22,23,24,25,26,27,28,29,30,31,32,33,34,35,36,37,38,39,40,41,42,43,44,45,46,47,48,49,50,51,52,53,54,55,56,57,58,59,60,61,62,63,64,65,66,67,68,69,70,71,72,73,74,75,76,77,78,79,80,81,82,83,84,85,86,87,88,89,90,91,92,93,94,95,96,97,98,99,100,101,102,103,104,105,106,107,108,109,110,111,112,113,114,115,116,117,118,119,120,121,122,123,124,125,126,127,128,129,130,131,132,133,134,135,136,137,138,139,140,141,142,143,144,145,146,147,148,149,150,151,152,153,154,155,156,157,158,159,160,161,162,163,164,165,166,167,168,169,170,171,172,173,174,175,176,177,178,179,180,181,182,183,184,185,186,187,188,189,190,191,192,193,194,195,196,197,198,199,200,201,202,203,204,205,206,207,208,209,210,211,212,213,214,215,216,217,218,219,220,221,222,223,224,225,226,227,228,229,230,231,232,233,234,235,236,237,238,239,240,241,242,243,244,245,246,247,248,249,250,251,252,253,254,255,256,257,258,259,260,261,262,263,264,265,266,267,268,269,270,271,272,273,274,275,276,277,278,279,280,281,282,283,284,285,286,287,288,289,290,291,292,293,294,295,296,297,298,299,300,301,302,303,304,305,306,307,308,309,310,311,312,313,314,315,316,317,318,319,320,321,322,323,324,325,326,327,328,329,330,331,332,333,334,335,336,337,338,339,340,341,342,343,344,345,346,347,348,349,350,351,352,353,354,355,356,357,358,359,360,361,362,363,364,365,366,367,368,369,370,371,372,373,374,375,376,377,378,379,380,381,382,383,384,385,386,387,388,389,390,391,392,393,394,395,396,397,398,399,400,401,402,403,404,405,406,407,408,409,410,411,412,413,414,415,416,417,418,419,420,421,422,423,424,425,426,427,428,429,430,431,432,433,434,435,436,437,438,439,440,441,442,443,444,445,446,447,448,449,450,451,452,453,454,455,456,457,458,459,460,461,462,463,464,465,466,467,468,469,470,471,472,473,474,475,476,477,478,479,480,481,482,483,484,485,486,487,488,489,490,491,492,493,494,495,496,497,498,499,500,501,502,503,504,505,506,507,508,509,510,511,512,513,514,515,516,517,518,519,520,521,522,523,524,525,526,527,528,529,530,531,532,533,534,535,536,537,538,539,540,541,542,543,544,545,546,547,548,549,550,551,552,553,554,555,556,557,558,559,560,561,562,563,564,565,566,567,568,569,570,571,572,573,574,575,576,577,578,579,580,581,582,583,584,585,586,587,588,589,590,591,592,593,594,595,596,597,598,599,600,601,602,603,604,605,606,607,608,609,610,611,612,613,614,615,616,617,618,619,620,621,622,623,624,625,626,627,628,629,630,631,632,633,634,635,636,637,638,639,640,641,642,643,644,645,646,647,648,649,650,651,652,653,654,655,656,657,658,659,660,661,662,663,664,665,666,667,668,669,670,671,672,673,674,675,676,677,678,679,680,681,682,683,684,685,686,687,688,689,690,691,692,693,694,695,696,697,698,699,700,701,702,703,704,705,706,707,708,709,710,711,712,713,714,715,716,717,718,719,720,721,722,723,724,725,726,727,728,729,730,731,732,733,734,735,736,737,738,739,740,741,742,743,744,745,746,747,748,749,750,751,752,753,754,755,756,757,758,759,760,761,762,763,764,765,766,767,768,769,770,771,772,773,774,775,776,777,778,779,780,781,782,783,784,785,786,787,788,789,790,791,792,793,794,795,796,797,798,799,800,801,802,803,804,805,806,807,808,809,810,811,812,813,814,815,816,817,818,819,820,821,822,823,824,825,826,827,828,829,830,831,832,833,834,835,836,837,838,839,840,841,842,843,844,845,846,847,848,849,850,851,852,853,854,855,856,857,858,859,860,861,862,863,864,865,866,867,868,869,870,871,872,873,874,875,876,877,878,879,880,881,882,883,884,885,886,887,888,889,890,891,892,893,894,895,896,897,898,899,900,901,902,903,904,905,906,907,908,909,910,911,912,913,914,915,916,917,918],\"words_bros\":[\"people\",\"study\",\"tutorials\",\"computational\",\"something\",\"tonight\",\"hours\",\"talks\",\"c\",\"graphics\",\"spouse\",\"style\",\"presented\",\"hackers\",\"h\",\"world\",\"excited\",\"results\",\"submissions\",\"white\",\"gradient\",\"growth\",\"json\",\"contributor\",\"join\",\"change\",\"without\",\"stack\",\"journal\",\"machined\",\"experience\",\"hey\",\"e\",\"far\",\"revamped\",\"flow\",\"th\",\"like\",\"bug\",\"videos\",\"automl\",\"b\",\"discussion\",\"consulate\",\"architecture\",\"negative\",\"use\",\"point\",\"side\",\"scientific\",\"congrats\",\"bp\",\"type\",\"ni\",\"live\",\"ordinal\",\"flattered\",\"name\",\"images\",\"first\",\"weekend\",\"series\",\"dropout\",\"discovered\",\"submit\",\"implementation\",\"hacks\",\"money\",\"backend\",\"water\",\"begins\",\"needs\",\"sur\",\"shell\",\"seattle\",\"understand\",\"fix\",\"sprint\",\"spatial\",\"control\",\"interviews\",\"nyu\",\"learned\",\"decoder\",\"missing\",\"tables\",\"night\",\"datashader\",\"managers\",\"podcast\",\"changelog\",\"every\",\"joined\",\"found\",\"july\",\"joblib\",\"usually\",\"lines\",\"linux\",\"ai\",\"along\",\"happy\",\"surprised\",\"faster\",\"private\",\"hm\",\"cleaning\",\"different\",\"pure\",\"next\",\"speed\",\"du\",\"engineer\",\"charger\",\"icml\",\"hyperparameter\",\"regression\",\"known\",\"always\",\"g\",\"hiring\",\"list\",\"french\",\"apologies\",\"fabian\",\"ml\",\"tricks\",\"san\",\"registration\",\"translations\",\"super\",\"update\",\"causal\",\"indeed\",\"using\",\"ways\",\"including\",\"kinds\",\"two\",\"earth\",\"strangers\",\"think\",\"fmri\",\"word\",\"progress\",\"scientist\",\"speaking\",\"door\",\"reading\",\"unfortunately\",\"poster\",\"folks\",\"slow\",\"among\",\"seeing\",\"reinforcement\",\"enjoy\",\"available\",\"penalty\",\"pip\",\"yes\",\"classification\",\"away\",\"state\",\"example\",\"move\",\"gb\",\"schedule\",\"long\",\"haha\",\"rules\",\"case\",\"bbq\",\"syntax\",\"effort\",\"make\",\"fixed\",\"fused\",\"youtube\",\"easy\",\"matlab\",\"useful\",\"intuitive\",\"spout\",\"agree\",\"maintenance\",\"yet\",\"spot\",\"later\",\"bit\",\"attend\",\"least\",\"university\",\"colleagues\",\"materials\",\"originally\",\"add\",\"scipy\",\"working\",\"fast\",\"ones\",\"said\",\"papers\",\"ec\",\"gradients\",\"room\",\"fact\",\"see\",\"aes\",\"article\",\"notebooks\",\"distributed\",\"actual\",\"log\",\"submitted\",\"aspect\",\"could\",\"tuning\",\"server\",\"berkeley\",\"keep\",\"speakers\",\"let\",\"community\",\"numfocus\",\"idea\",\"prefer\",\"day\",\"tomorrow\",\"project\",\"anywhere\",\"inspiration\",\"math\",\"chat\",\"blog\",\"learnings\",\"cfp\",\"keeping\",\"according\",\"u\",\"x\",\"literally\",\"random\",\"statement\",\"go\",\"small\",\"color\",\"highly\",\"give\",\"biggest\",\"computing\",\"supervised\",\"meeting\",\"points\",\"average\",\"sure\",\"scientists\",\"matplotlib\",\"lstms\",\"publications\",\"test\",\"valid\",\"ok\",\"big\",\"ecosystem\",\"short\",\"currently\",\"top\",\"student\",\"related\",\"data\",\"someone\",\"numpy\",\"find\",\"api\",\"personal\",\"safe\",\"booth\",\"version\",\"told\",\"exact\",\"current\",\"kids\",\"source\",\"line\",\"deep\",\"repo\",\"independence\",\"memory\",\"may\",\"google\",\"full\",\"honored\",\"nb\",\"probably\",\"cluster\",\"performance\",\"challenge\",\"stats\",\"print_statement\",\"recently\",\"audience\",\"nice\",\"git\",\"guess\",\"eu\",\"ipython\",\"generally\",\"info\",\"done\",\"sf\",\"github\",\"paris\",\"spend\",\"population\",\"soon\",\"aura\",\"multiple\",\"sparsity\",\"al\",\"behind\",\"catch\",\"whether\",\"seems\",\"mention\",\"local\",\"declaration\",\"styles\",\"ceval\",\"new\",\"published\",\"latest\",\"wheels\",\"police\",\"recent\",\"power\",\"posted\",\"thank\",\"lightning\",\"particular\",\"suit\",\"plotting\",\"powell\",\"static\",\"sry\",\"little\",\"bias\",\"stuff\",\"nc\",\"software\",\"polynomial\",\"derived\",\"ca\",\"kubernetes\",\"seen\",\"sustainability\",\"apis\",\"systems\",\"except\",\"much\",\"thanks\",\"positive\",\"old\",\"heaps\",\"accepted\",\"factorization\",\"work\",\"projects\",\"amd\",\"user\",\"internet\",\"tue\",\"link\",\"fun\",\"map\",\"trial\",\"curious\",\"interpreting\",\"announced\",\"worth\",\"import\",\"build\",\"pong\",\"easier\",\"whole\",\"tools\",\"pydata\",\"know\",\"active\",\"students\",\"climate\",\"woot\",\"oops\",\"animated\",\"simple\",\"amazing\",\"made\",\"decoders\",\"demo\",\"int\",\"released\",\"turn\",\"unedited\",\"et\",\"response\",\"ideas\",\"books\",\"impressive\",\"en\",\"around\",\"k\",\"signed\",\"defaults\",\"traditional\",\"stay\",\"pull\",\"model\",\"atlantic\",\"got\",\"country\",\"toutes\",\"resnet\",\"coding\",\"graphical\",\"realize\",\"search\",\"brain\",\"biases\",\"expect\",\"becoming\",\"space\",\"starting\",\"success\",\"responsive\",\"glad\",\"second\",\"leaving\",\"approximate\",\"neuroimaging\",\"delay\",\"geoff\",\"library\",\"might\",\"summit\",\"makes\",\"please\",\"excellent\",\"docs\",\"klein\",\"program\",\"gotta\",\"wed\",\"major\",\"keynote\",\"harvard\",\"meet\",\"generalization\",\"often\",\"interested\",\"forget\",\"mode\",\"social\",\"reproduce\",\"turns\",\"loss\",\"frankly\",\"last\",\"start\",\"hosting\",\"discover\",\"well\",\"lot\",\"l\",\"time\",\"issues\",\"solvers\",\"better\",\"summary\",\"error\",\"empirical\",\"imported\",\"car\",\"review\",\"neuroscience\",\"worked\",\"best\",\"million\",\"tensorflow\",\"functions\",\"w\",\"based\",\"started\",\"anything\",\"updates\",\"htt\",\"research\",\"watch\",\"total\",\"take\",\"visit\",\"methods\",\"setup\",\"models\",\"sorry\",\"look\",\"statistical\",\"right\",\"visualizations\",\"install\",\"definitely\",\"really\",\"access\",\"everything\",\"tflops\",\"trees\",\"okay\",\"doc\",\"analysis\",\"talk\",\"design\",\"versions\",\"end\",\"volunteers\",\"good\",\"heart\",\"web\",\"would\",\"support\",\"dataviz\",\"existence\",\"asynchronous\",\"center\",\"problem\",\"giving\",\"mind\",\"believe\",\"watches\",\"questions\",\"us\",\"maps\",\"hack\",\"pm\",\"counties\",\"labyrinth\",\"figure\",\"calls\",\"lasso\",\"explained\",\"tutorial\",\"wanted\",\"stumbled\",\"path\",\"introduction\",\"statistics\",\"say\",\"sound\",\"resource\",\"friends\",\"command\",\"explains\",\"surprise\",\"early\",\"plus\",\"video\",\"heavy\",\"exciting\",\"crazy\",\"play\",\"notes\",\"text\",\"la\",\"deepmind\",\"slides\",\"open\",\"improvements\",\"none\",\"comes\",\"sklearn\",\"boosting\",\"windows\",\"senior\",\"v\",\"real\",\"week\",\"js\",\"beta\",\"perl\",\"speaker\",\"via\",\"write\",\"monday\",\"mostly\",\"park\",\"question\",\"high\",\"phone\",\"register\",\"seq\",\"ci\",\"extended\",\"similar\",\"interactive\",\"smooth\",\"shows\",\"release\",\"reference\",\"run\",\"function\",\"preprint\",\"<number>\",\"paper\",\"teaching\",\"still\",\"python\",\"https\",\"joint\",\"maybe\",\"online\",\"btw\",\"detailed\",\"non\",\"getting\",\"show\",\"plotly\",\"seem\",\"academia\",\"presentation\",\"science\",\"logistic\",\"details\",\"book\",\"life\",\"ht\",\"ever\",\"sagemath\",\"upgrade\",\"dataset\",\"tried\",\"bunch\",\"jupiter\",\"inference\",\"awesome\",\"submitting\",\"twitter\",\"another\",\"suggestions\",\"bag\",\"built\",\"today\",\"written\",\"going\",\"documentation\",\"planet\",\"feedback\",\"sustainable\",\"hope\",\"deadline\",\"tweet\",\"linked\",\"used\",\"de\",\"words\",\"quite\",\"looking\",\"man\",\"url\",\"approach\",\"energised\",\"beautiful\",\"pretty\",\"love\",\"noticed\",\"r\",\"focused\",\"keynotes\",\"expertise\",\"wow\",\"updated\",\"torch\",\"machines\",\"already\",\"read\",\"vision\",\"matrix\",\"wikitables\",\"feel\",\"funny\",\"instead\",\"wrote\",\"sold\",\"lab\",\"decoding\",\"sparse\",\"cffi\",\"professional\",\"pycon\",\"credit\",\"trying\",\"takes\",\"octobre\",\"heard\",\"nilearn\",\"engineering\",\"german\",\"rooms\",\"century\",\"types\",\"thought\",\"saying\",\"important\",\"check\",\"networks\",\"les\",\"whose\",\"american\",\"ppl\",\"dl\",\"welcome\",\"visual\",\"domain\",\"afternoon\",\"part\",\"f\",\"help\",\"difference\",\"provide\",\"issue\",\"presenting\",\"anaconda\",\"way\",\"making\",\"image\",\"machine\",\"closing\",\"fit\",\"create\",\"generative\",\"features\",\"learning\",\"enough\",\"years\",\"algebra\",\"conference\",\"person\",\"enterprise\",\"yeah\",\"election\",\"http\",\"get\",\"saw\",\"try\",\"reason\",\"moment\",\"possible\",\"dadaist\",\"year\",\"thing\",\"vienna\",\"translate\",\"position\",\"mean\",\"third\",\"sky\",\"ctypes\",\"solve\",\"app\",\"neural\",\"package\",\"level\",\"hear\",\"brexit\",\"coming\",\"recorded\",\"job\",\"notebook\",\"etc\",\"tickets\",\"history\",\"workshop\",\"putting\",\"asks\",\"tell\",\"terminals\",\"anyone\",\"gallery\",\"home\",\"actually\",\"many\",\"split\",\"final\",\"thoughts\",\"sad\",\"rejection\",\"bad\",\"everyone\",\"dask\",\"called\",\"one\",\"keyboard\",\"course\",\"great\",\"technical\",\"others\",\"call\",\"display\",\"optional\",\"oh\",\"curation\",\"vs\",\"nets\",\"gets\",\"feature\",\"bring\",\"set\",\"examples\",\"timing\",\"days\",\"linear\",\"future\",\"announce\",\"news\",\"laptop\",\"ad\",\"follow\",\"given\",\"depends\",\"single\",\"analytics\",\"means\",\"large\",\"classic\",\"bars\",\"thx\",\"looks\",\"wonderful\",\"quick\",\"answer\",\"tasks\",\"arxiv\",\"clear\",\"scale\",\"post\",\"though\",\"files\",\"requests\",\"family\",\"must\",\"rt\",\"wssspe\",\"things\",\"never\",\"natural\",\"presidential\",\"hundreds\",\"beyond\",\"rennes\",\"times\",\"interesting\",\"optimization\",\"__past__\",\"cool\",\"learn\",\"finally\",\"want\",\"come\",\"numba\",\"consider\",\"left\",\"pypi\",\"group\",\"since\",\"problems\",\"ready\",\"forward\",\"rwatch\",\"validation\",\"posters\",\"james\",\"ago\",\"openai\",\"subsampling\",\"tpot\",\"cause\",\"completely\",\"benv\",\"team\",\"cython\",\"users\",\"code\",\"policy\",\"proceedings\",\"trick\",\"less\",\"pro\",\"jupyter\",\"due\",\"viz\",\"numerical\",\"speak\",\"also\",\"mmds\",\"title\",\"free\",\"cc\",\"japanese\",\"need\",\"summer\",\"p\",\"programming\",\"promising\",\"conda\",\"back\",\"til\",\"changes\",\"running\",\"datasets\",\"language\",\"reproducibility\"],\"x\":[-65.16766037059,-40.00781125945493,-56.385393793885726,-25.777050574015405,-49.80893600644172,-45.652576836739726,-49.573703672073265,-59.20161942423581,-63.22011338582637,-34.18690309353753,-32.75593279586171,-16.21995909747313,-4.409131838238899,11.860425429048659,-9.322944838231466,-43.962762034799404,-36.11563554452509,-33.272992741502186,-24.383365939439027,-11.604800523868894,-38.63837699263229,-50.48050634434656,4.3413023032007825,-9.38221693951353,-65.18361531238853,-62.45333575866826,-55.30421524673719,-56.987667833893454,-53.062427154899076,-3.3574770783363244,-50.29166597145877,7.109211057183817,-34.6954397772668,-69.7046367177378,9.895220386147429,-40.003746546712144,-45.36486475825449,-62.663510541954444,-20.970194912104468,-22.673695920499608,-22.0358487650595,-48.86932140191934,10.83135754388188,-15.288576424410863,-32.22258701861879,-12.028576530548907,-62.95049846282548,-40.06401419045339,-56.863080989955655,-36.911012409024195,-37.42632387695157,-8.072299021351743,-23.916497197642826,-52.04890347662165,-48.562153898305006,-12.94911889618903,-31.071146879953893,-63.91131924967347,-49.779235001384045,-65.04806416792356,-56.508163432164466,-60.70696535600639,6.616378462458335,-33.980202633374766,-41.98799548091136,-37.304561550604696,-10.441963274559619,-38.45100118764923,17.21313324922573,-9.591651988398445,-63.89211697300842,-54.044016391522824,-48.68215869153839,-24.93258501419885,-51.62878538389701,-19.581658995928073,-15.349365374855438,-27.639646542444012,-32.49736972607244,-35.809054225073105,-32.75053967384285,-24.5026754155181,-41.3757418427033,-19.31708497463094,-8.673182515056702,1.4894766842198846,-22.420261982499408,-44.532617530778616,20.181227822106607,4.765832777663877,-22.59097456769877,-50.748895120955154,2.1754825820602903,-17.822302427968452,-26.69755834809079,-19.6245757011306,-2.762897316235631,-27.54590242719481,-51.43129711448079,-3.566627137439291,-6.169802179668603,-65.14334197590158,10.956113197050424,-52.47626702413433,2.240523096319494,-12.981763178898245,-19.400330719999207,-31.316004722519438,-37.87837356392886,-66.02028054010582,-26.274686784244388,-39.75551681432229,-12.889099853383392,-23.629496246843313,-26.916814028858383,-27.3478567001464,-56.67529987761511,-11.4426755515392,-64.47907270785785,-46.534187458108896,-52.784931508908315,-48.27603791818943,-14.338490675809098,-2.859082548440179,-7.58562645751674,-59.19968368757844,1.995331886423482,21.695026232572623,-5.979686912417689,9.537613702941089,-58.792278501648426,-30.51478072314393,-17.735795725566156,-5.966867001951085,-60.97281067922798,-3.33067301674947,10.686810925122195,-22.998681530372885,-36.44519264357448,5.420149615434485,-27.846999062912154,-63.00737488433583,-46.94620788384613,-32.172430363759446,-29.455862987014854,-22.923890279578664,-55.25185998092826,-12.650929144361276,-26.6487770206835,7.063128912825428,-20.61060959329458,-46.09722019498483,-6.663980357566768,-23.071658527587577,-34.32035886318616,-38.23254954521054,-34.90288619518299,-36.26589202865502,-8.073386583182286,-37.088617791457594,-42.50181557833282,-49.17197593597498,-34.37912296095118,-40.59948194824503,-36.671049809343764,-4.804611063627927,-7.91274580628824,-13.596665168840932,-43.873392041524475,-33.587309326615504,-30.23198076153223,-54.86642992622465,-24.611481436852937,1.042261785033069,-27.045843434585738,-60.69253274593678,-20.424023946560276,-8.176904532329255,-54.9073799923149,-51.49286951481974,4.491263662862711,-54.833314249663886,-12.287779883351059,-20.317836042573813,-9.466859902409373,-37.90790698073922,-61.244453317186206,-46.33367199150021,2.8695094058956494,-24.97128127145349,-24.18934532564951,-17.19326058865876,-31.374206242068432,4.895667726165743,-5.435876821533335,7.41525775912881,-12.232870256369855,-23.155653359112893,-60.41115258606236,-62.91276053237564,-13.374037911170996,-38.79841327152806,-49.11488927435961,-12.841291323348498,1.356143493509726,-39.814763786125276,18.242516139094562,-66.13179888539342,-27.001176361106875,-35.16944297275162,-44.634833562450964,-32.809608301233865,0.36540062945028073,-49.34933796315416,-39.5899128303907,-8.368981234054768,-61.612236463632016,15.437751348664404,-0.6900478235692581,3.7665162602771205,-18.456511066023378,-20.04410772252453,-22.93449391055906,-56.13466575156581,-6.250279316460338,-67.71119150940969,9.976842241259492,-65.02347834457879,-50.612985652947344,-52.04229831489286,-23.351005547747246,-27.065346728269063,-24.37491767959962,-0.009647668714448818,-66.17767479172537,3.997234713606606,-18.060498022190604,3.4791152664306413,-1.405028823623708,-42.670782296743475,-35.724009314594,-41.370819655324865,-55.82591191139153,-28.920333041719744,-44.393023316324,-30.473316581170426,-12.199855533221664,-14.692057807497926,-58.80391125213752,-1.8563615085493703,-20.27611818918908,-16.044763380365197,-49.510401467086496,-31.899161759208503,-17.442819453355817,-51.06333949943938,-0.6344174825526977,-0.02611704249560025,-13.130530621378787,-19.242598155181433,-45.885347588229905,19.982269016944617,18.33141676198438,-53.41526430570431,-19.678830728864128,-52.92320849737563,1.9134217103069076,-9.688452941247354,-23.483450859938,-24.053377021445492,-61.94752878327551,-52.28354590059581,-0.02863992110196077,-51.46871031176569,-32.83144417539966,-5.61817823683396,-10.375585289300489,-42.53350829734304,-63.16488529747692,-17.10170450823834,-19.951620591729093,-28.7701745003651,-56.69696306771681,-68.41636889322864,-41.14668403825302,-57.97761531216254,-30.044289188219643,-20.90397200890769,-40.61895969103985,-59.14933045764731,-46.14951759750832,-46.70218323433149,19.64419449744179,-56.681262931303415,-54.66883491413512,-16.79028121698094,-40.450813172716764,-1.1218366020229422,-5.779003757113871,-31.702669831220444,-20.95181347707849,-37.254883828544415,-68.74879853438846,16.251245081824678,-56.346410597536,-5.05643362164883,-36.03121807319369,-7.14616181130704,-13.791062485286364,-36.87441362493492,-50.44122384668831,-54.36276041558446,-48.347862384884365,-37.78608921041126,-10.644041427034661,-57.86459730450691,-8.657797399297408,-29.829382908130192,-29.34035368833105,-0.6099279274955621,-46.93441102173504,7.10490150655707,-60.56666307728886,-28.52056273179359,-23.385976543247168,-37.754391475187525,6.789267727909507,10.516332796503072,-10.150055240220833,-63.93040333604275,-10.020762560468784,-17.54505800318323,15.39070947961295,-56.312376180351364,7.036745986384153,-45.568688159435624,-16.552529331086227,-25.716519608299098,-53.27862826718049,-18.478346869875832,19.014692412264907,6.614379774683775,-40.2808782703978,-19.164829257506376,-2.258560103915877,-60.407297871857104,-18.010907378031238,-4.185134781340885,-16.532519426518483,-64.91982302450562,-0.7759297759402755,16.721679873552976,-0.27197152799641666,-31.425819097804244,-34.334822332228605,-44.09042638670844,-36.59319320471362,-59.37188790325066,-46.93208835504134,-65.23988924274407,-64.7476792919464,-39.66564730045959,-37.782851575746676,0.41263693973376,-14.228922352844219,-22.399967229984842,-59.48578539258135,-62.401202501858634,-7.750310343434697,-31.242083109264925,-60.797471978007906,-27.798866827540618,2.199103377635377,-43.350054622336245,14.85678733718607,-29.560555844905597,-24.021051983152333,1.054113987570892,-4.058885051077415,-58.360847307092065,-17.462920464282675,-48.736375459552804,-18.862021334423307,-65.96249074716853,-42.29904181958103,-51.99804067281587,-58.592851003693326,-64.59674369696596,-47.99147795520324,-49.11213579676714,6.849287549002429,11.853201210307118,6.475584685896182,-0.9373183334217254,-30.88209645886768,-44.38970038805459,-54.282712478542216,-57.40617206420356,-24.62064297211538,-25.427212529801377,-39.65906809362071,-1.302416438549354,-5.265181592806415,-25.143834560811776,-16.8275417462621,-1.2379195505352076,-42.41654366257949,-28.873506157883273,-42.82606247355961,-58.28618970792182,-30.98080043771774,-11.75281171075589,-25.418697463845337,-11.624254060651507,-38.88006507468451,-19.8069823164088,-58.18449023142869,0.21508672485404537,-66.7022262444658,4.681068512889071,-22.939082416942924,-36.51594879413539,-67.3422916034504,19.798920779120188,-23.720414744666385,-38.2633142518181,-55.98722354968552,-15.035983385386071,-15.231483862602065,-7.945481908953704,-39.407896948626274,-24.7343102714697,-5.104611860377965,6.727745737203209,-55.36759422287893,-14.568142444820182,-5.890188517843494,4.611245741203983,-21.06335541514806,-16.36777420024973,-28.617634210651786,-54.83268240439309,-63.950709650342716,-24.53257157456279,-21.21028819797978,-42.94550518554338,-22.223682287961143,-37.50654310286944,-17.073858617672688,-59.121197230300176,-21.208806273024422,-27.39254451257846,9.144257154389729,-53.56213517810024,-27.622799076584535,-30.42490048771482,-13.975483930199577,-41.96187491788016,-59.74257393240152,-33.172282885063176,-35.34578062424153,-39.96766795962258,-26.411180221473188,-16.674777790085706,-28.96128388409674,-6.457814054876527,-69.19410506007407,-54.702585993714536,-55.38571943044013,-15.09246449549325,-62.43695026740184,-29.52578581372965,-24.545026355540625,-62.1755996914788,-46.22258937094985,-48.52336942749231,-60.61488149858984,-1.4602876387388801,-66.41185336704865,-42.583288144315475,-34.852109378571804,-11.124886791423359,-50.510562709863514,-19.23079816820477,-12.442857646092444,-59.176294709783356,-38.693161689571845,-9.201387250392914,-49.74819209936303,-61.703129567944906,-42.560577522471654,-37.801813084100715,-31.279454298569902,-24.029832555107735,-72.57809128525564,-70.6265061410068,-58.74427050002943,-14.229699914564554,-61.27888473659055,-32.02950186960591,-34.70000585444265,-10.554175627880017,-58.974994967533625,-42.38305624291571,-63.96421087983103,-42.191695453594356,-63.771390066275494,3.924522861441193,-34.46562087966827,-65.58413664325265,-63.0155943997319,-13.921396219290985,-21.60650915168455,-14.531247447831072,-27.949883125662254,-13.634441041396435,-34.324681041624046,-33.164278593122965,-62.004794561154846,-56.13611323715287,-42.761097598109295,-65.46127286651634,-32.51985730431694,-62.45498263365489,-29.602936600973063,-46.293904588115716,-64.17671981729927,-67.35572260265512,5.844718524510598,7.400796424764796,19.67854146114111,-6.334385160859473,-57.695412017443815,-40.54016821238725,-15.65380459817261,-35.113586054733695,-16.90982551697589,3.034315219593639,-64.3712537906782,-25.701463721584624,-33.75855320966229,-53.336596451188065,-10.58426877551113,10.831432797206269,-48.06193850937784,-34.71611578017128,-8.361718859453491,-27.03421386491088,-69.61172049544525,-17.698627240760935,-28.67321720837466,-25.303066266925278,-12.888793940520483,-12.691017040209724,-45.024890967857566,4.08284374308204,-19.05683775440932,-67.41771618618301,-37.41806259320679,-61.48172133096958,-37.508558683309715,-22.104620910851136,7.902088479189646,-54.50693754389006,6.231076165560763,-46.658831695282956,-7.198866197083076,-15.316143899458197,-2.6395359603027693,-42.97640722840657,-46.22072924538131,-0.6458863976037051,-57.36192064307842,-63.220430606611295,-32.77004043580833,3.4831842802387505,-42.687120495288134,1.6919757750358508,-7.506379809497639,-45.56217933763836,-4.114499364310143,-6.341793490043662,-44.17751711857893,-57.24427329056166,-16.54457893883577,-32.833283299597525,6.76005685631737,-4.131893542773603,-52.950553621481575,-50.38857879680871,-35.6000801137397,-36.07799205434751,-35.957169050624465,-26.661484671361304,-21.753243165341335,-31.127950341313287,-33.641967893757794,-52.63641324509503,8.819742318800918,10.156009465072563,-5.882596272628722,-37.59241881628917,-4.844938076376768,-8.30770269103146,-62.888738206048444,-10.289124663131535,-62.83953780768238,-46.417748041499856,-34.1248694534654,-63.479132122107735,-59.96323390900824,-28.209515088818794,-62.04768519078439,-62.82165718828804,-67.96704854523722,-10.245764948127153,-69.69991804987463,-59.34141076279332,-16.439535956596895,-17.932671727629803,-6.826707967111368,-57.049484600881605,-29.868873073829477,12.574909525176778,-16.76116007956359,-4.230875735884457,-38.1186631206149,-63.50054074651956,-29.870767801587657,-28.589524430907023,-26.335452940727276,-50.03502188915896,-16.92451883577578,-35.92045758436511,9.186510158220685,-1.0349944063164878,-24.377988140142264,-37.96262661970832,-43.78189454295962,-11.301115440012037,-26.02364911901408,-44.33440307136957,10.44927048273087,-34.226994885239854,-29.056041495984747,-20.020562227791086,-20.142488133136368,20.547509649105557,-65.68765627299214,-39.37653963321393,-61.4574953407795,-7.718897214292163,-30.086530988440618,-36.84571523339513,-25.655534650477048,-47.217372285715285,-32.928974353115834,-5.65965200312993,2.1218247075990724,-47.29596704429052,-41.2088828556628,-47.21534038557511,-31.599452056013785,-58.19782053106825,-53.88307696943183,-30.548323615823602,-25.118339876033385,-31.03398147803,-8.667231620965396,-51.25868051754985,-54.33469864171807,-6.536487068315501,-43.29390996987853,-44.37052037935342,-18.749145809492724,-30.92915247978054,-55.572201813754475,-49.81091024167783,-43.0959285198205,22.639432526808427,-59.90251461737039,-61.78795338452297,-3.6285172774405368,-44.23408561139143,12.374302338377726,-47.757363206059416,-15.89456688344994,-35.67665718490688,-38.699380875789515,-16.580613357147165,-16.741079249432158,-9.802701539676162,-26.0929941793039,-8.805703274012934,-15.824617910233597,-68.00170419873734,-17.726573161317706,-45.15799939532138,-20.201627753715933,-26.99812171846635,-44.14424789958519,-45.052355726990996,-36.95542188905132,4.417167555657282,2.467192925302333,-7.82054406651197,-57.528844780620936,-52.87201629625561,-65.21829019573741,-44.47191247853839,-59.7800709039925,-7.410270767480272,-39.03535930486502,-38.19290504563525,-26.921584611607184,-36.199125881267356,-47.699092403129505,-25.713589641400638,-41.143469324617335,-22.494200603260328,-3.4467342526613134,-18.30404550610811,-20.707129749779185,-63.596458411353,-46.455630928486265,-41.2218060564852,-41.63497126841949,-9.1510984050103,-45.14276092002409,-63.34429727688118,0.3981268729236247,-39.93105915759834,-61.471951573991625,7.892841570921671,-14.132076570792133,-40.88564490559555,-21.90738140150265,-34.29017168744206,-63.835141433601706,-47.27965596818497,-61.0338029522417,-15.043699545008964,-67.70726508702687,-42.053810531746166,-11.266398067251906,-41.07831150487425,-23.348645632038664,-30.127311679574092,-63.21365917333995,-12.550377971651635,-31.57087873180856,-12.68820990331592,-16.237714068048668,-47.613774257598,-11.07614718119757,-70.66380108533664,-53.25570831238697,-4.657486546771717,11.285150188043946,-22.791331798396744,-18.923230085976705,-22.30747661571926,-14.315981935913795,-63.239673239661705,-41.775041377381356,-46.47597038699924,-45.72116985833494,-18.343735644786943,-28.734753189302825,-60.33852027825406,10.344396235046993,-48.75534602618282,-2.0719947364510323,-57.93189253374683,-13.477277067764707,-44.520094367796865,-28.65691479128775,-39.48936150765592,-52.62497791275694,-13.236731055289853,-3.359918080195184,-66.24529845661837,-35.862226038057955,-69.51727835259165,8.32792880571276,-36.2308116315435,-60.158019427864275,-61.22577819529444,-3.2817021722628996,-51.77655580531191,-26.677742026611796,-20.69235749936271,-30.391902042343922,-51.1967468125488,-51.9169603282189,11.28899660992357,-57.03327894456521,-63.79629268997338,5.138859816431683,-60.78470006236901,-66.80679154889921,-25.731374409610204,-53.59722697848908,-56.1434053076493,-47.97436882215103,3.8301565778572386,-54.974616462661984,-5.603409272838999,-48.86021971800196,-57.627250233913905,-10.41025332265766,-51.37918472671192,-40.462384029823006,-51.84893773830644,-20.77753779732789,-11.603729934320587,-57.800703263806035,-57.642454663743784,-62.07608792709998,-17.574155432244734,-32.416931861815485,-21.16100966694668,3.4837728074493923,-44.611925529727564,-22.978579139077212,-0.8772061311590419,-20.998334212616573,-33.89136813068526,-26.10137649857084,-54.17154119253747,-11.479202355121297,-29.76736905313274,-4.973042960933441,-48.30328909104775,-26.070321171707324,-24.225041159605254,-49.07777411365712,-39.39922346982831,7.142248519801849,-12.128498492316643,-2.3220757682787565,-60.692273269793176,-54.01466670850875,-57.12203006426699,-52.624103901406315,-35.33629727218738,-20.3749196444281,-63.89251332707835,-2.789202007819762,-63.6027330246912,-67.79649270126937,-67.95851751792988,-12.197032251899811,-26.779170806408338,-25.208158828379705,-22.156564737678806,-42.46838133742784,-51.857111459201796,-65.10103959479355,-9.404893534555047,-64.68547895873243,-50.83514396116567,-33.034025048236394,-57.08755016588501,-61.86375436430842,-32.329302342910715,-22.117861721850193,-37.275966240153075,-28.129714317044407,-59.80483641390275,-59.04333973995567,-39.393949905223124,-48.393478854865414,-40.985031628581424,-33.69171114984147,-0.5827736549745943,-17.865669359101588,-21.187890457126546,-42.29163277325845,-17.48588876344559,-35.08415209482474,13.317034992798808,-50.4500784370625,-27.92447277957048,12.653700515654043,-53.28533901854919,-31.613351912059954,-61.062052528594776,-63.01168778116432,-3.602461483284631,-2.632639312804924,-14.416635346968876,-14.983039362689729,-40.84072088455055,-19.728194045815062,-28.0931495874405,-50.913547185436144,-12.790484879330215,-8.607191148033905,-50.810973087418006,-28.390427072025375,-29.077667040455395,-54.542896845025545,1.7041243349191053,-46.926146692796095,-60.268164243502746,-29.766973592156845,-2.852648579772185,-66.43240137177553,-71.51561477360615,14.60287403308434,-62.21391919698251,-39.93058051806511,-30.58931299908992,-66.45094442568953,-24.513400737493892,-54.446567103131684,-10.40493872042291],\"y\":[-8.029799460275239,-25.20886402078,-12.852453637464151,-20.19070207536879,3.0573919900036213,10.464741575368762,-2.819123758139572,-7.972888300865089,3.9018549955479878,-9.764854778961729,-28.073030817967897,10.931879458222628,4.398882934852003,-12.406173934628331,-31.35720623442145,-2.59542253790027,13.063803093262132,0.6474275138527733,-7.453918857651066,7.023460735565248,7.277464396768813,-22.298085311553212,24.47628712103415,-6.4223194620544986,-1.3754729126413094,-15.165032382840154,-9.423372142588097,-9.196993369767378,-7.585740429365036,-30.187851759380305,-14.567903041146476,11.33674047316344,-20.03651556133543,-8.547955921731857,7.372070745315744,17.871768386318134,-6.039566823262193,-6.819494085139282,-6.206465173161712,-6.399137760327919,-0.8981367053796374,-11.581407443258291,4.008881110393087,-24.679548463220204,8.365873597230289,15.022237668223847,-2.533040823910872,14.918377282432699,-17.871083561369147,-2.34893839389769,-12.501643256628812,-15.832814177922415,24.449794875766546,-28.77150421139844,-1.5443832657502103,17.791337800658262,-13.504171585360249,1.9250700032006072,-17.58632114626279,-9.316958405790023,4.612898981979143,0.3022778550104437,8.633123144576336,-11.950432246057174,11.209800938098578,23.149854268388832,2.2684866496612606,-14.322792014923285,-9.254705900083897,-11.545804479376645,-14.122360948255517,15.362917612921201,-18.048482818865715,13.804521857613839,-18.60544467988908,-15.658566609415915,1.3407849769723375,-14.53324553283397,27.602672911494707,17.66310714668033,5.389789045602915,-17.279290004230184,-5.764011645308213,25.34133659132407,-2.5490254702222077,-12.651011177074317,3.9080609460407305,-1.6795001582702698,-6.175538137262452,-14.28005478471889,-29.469644414587407,-11.040581718783894,-22.909775304337273,18.087988261663842,-11.973122800248943,-17.811780110345712,0.6613232957572653,0.4717678571322141,-8.082495317391828,-2.092486787085307,-17.188093758264728,-2.7572505642220766,13.672642044981462,-11.77805931766696,16.444821415364206,-6.373235257836842,14.744956846172135,-4.184438782255972,-17.85850380648359,-12.087758040578716,-2.7380952745183635,-10.77459704475514,-22.901165846870356,-26.35387279427948,-16.51007846877698,-3.1738555948136353,-6.583517336388587,4.90700798086698,-12.540051818020785,-17.80181730651063,-9.500618816919554,0.014733404078505447,-10.367871519014201,7.520298669411416,-19.21421043638689,-15.095009425604308,-7.169243115318674,-2.4175825213599262,19.079623410109445,10.164764835119227,-17.7368298505328,-8.177033614654835,9.004511215958154,11.347097811057937,-5.3239965215061655,-17.203528864133368,-7.187964085247651,19.481926726814912,-6.569183237479774,-4.064227340041089,2.0822675433700977,-7.8253531555573135,4.141060165200243,-18.201503678945986,-33.62268426335728,21.945317706134404,9.817928906631996,-1.782401505792702,-4.795244551157164,17.019459823497815,12.327683695900475,-13.08970771050623,2.8417342331352815,-4.569913063613959,-32.424985300343494,0.5282088405092485,-26.588196698837912,-9.845142193828458,-26.498276139414997,-4.97927387785106,22.76073368225795,-20.13111695707026,-4.585136151651675,-27.882380921996198,-27.38671303003957,-15.264548530477244,-13.61007637399773,20.416859802405153,0.354444492867857,13.834309314508172,-18.745662099081965,-1.2419518504561766,26.667506073578178,-24.777875751442622,24.261304732114066,-7.927932006247786,5.365777993581998,-4.606074818208651,-24.74576021639766,3.868748570478622,-17.25226376765047,1.9395269226579688,8.952724513011177,27.38135836766141,8.58435940865735,-24.801721431120743,-12.158020059841272,19.321808753256406,-19.565773127858776,-15.568005005554816,-24.077345827943628,4.136087960030526,0.3961009837125592,4.1500975758359475,-27.82583677524983,-22.73534201666301,22.917649642117844,8.727462527874618,-16.29207341183348,0.5065120211364551,-0.43509646936407237,-5.47535404421264,-9.740524742930008,-20.527387966250775,-9.940052578637445,-8.291535329292053,-15.192153441780968,-6.075414538637733,12.945882755496909,-8.19573026393371,-11.931518963346482,-21.01062221914744,0.6447187762936706,-25.656528340339776,-13.265186338891928,1.4524059457755976,-10.874144279969617,-3.6699530338863537,-15.537694432534716,20.276807504807273,11.005045937805221,3.80294545506474,29.158385935391046,-7.853555626897163,27.151388422265736,-1.0287542271218935,-15.543576358120946,-6.76606750108073,-12.424704605847408,-14.541234655090852,-18.658078854281346,-35.13739446654361,28.78885543768946,-21.26201852829369,-7.357405023438259,-11.795659830746747,-38.06314406481301,14.056334032277208,22.71875432346561,-13.076548014793058,-22.030185653921254,-19.471763749174364,3.0874319314130627,9.55910521884373,14.647358577554428,4.602451042315952,-8.735297657328966,-16.834020181512752,-0.7759320622856747,-18.749894190028648,20.523268878924192,22.427759906807445,16.25368961495634,2.2921578222039702,32.12277151399185,-9.597623936177401,8.645990989720925,25.727970339270968,-32.46695151007908,-28.79218555750047,1.8808097938905877,-14.51405263848689,-9.998802255373947,-3.921432392797587,16.736168005279747,11.246427167118043,11.703779436856504,-20.41172885209832,11.710337490508103,2.8304734613857345,-4.462953392913571,-0.7169020891693957,2.820373656176984,-20.813865331085733,10.565707276345048,-24.697935107311736,21.57234301003179,-2.0667762295046965,6.160073106030097,-22.736758340240048,9.629878040449148,-17.27959088589605,-19.853049104608527,-2.9010616655484127,3.3876646688427665,-2.861538034244367,24.880509148854504,-11.145500770983361,-4.121487713339296,0.6146049739539788,22.267278817800364,-1.5998528191446726,6.8268009971740735,-1.0092109493546229,-2.887788181246644,16.199950194455095,5.114388756420806,11.474073336369981,23.280731589320386,5.864670745921232,-1.2737393642392014,14.87538695017069,-6.590599310437019,9.504055288750253,-2.585843033559548,-9.129836435993537,-0.7357351859337281,5.154014284992557,6.103928612646149,-19.668510821473276,12.477485515327928,0.1828712017446324,19.36235582273831,-31.575141671455842,-3.2625783683805696,-14.073176226422166,-23.92376213256856,-4.810040471074811,7.282824537309608,-3.1637561078086898,-27.318879238989332,6.168270393977096,-20.007134245094893,-6.139589387455241,-8.106166950964772,17.272589691021476,14.348403497856086,-7.884755703165473,10.982203506838,-5.413912126985505,16.076864206899188,20.124222387556273,15.032308635477829,6.871814046770903,-15.70556124734066,-3.1813294059124906,-18.012981978998184,4.22249301038913,-13.560979991338892,5.9609238804204905,3.2239027717608892,1.8202253114969926,-6.269198141615446,-1.0156419836728428,4.327032548465286,1.834704432157633,-25.384504561660783,-6.501598621956936,28.187990362092826,-10.765348250255812,15.29076797523092,-0.7866194735715404,18.36030474739366,-26.53845726022033,11.825789397677715,12.291910274403177,3.450980952174473,9.620294914339537,16.10827914212674,-5.448236634710214,-4.669824793154462,-18.391566957476904,11.521675935753546,-5.095255789636973,-27.62061254705244,16.323270175747744,-3.665138359757961,-13.341528582995226,10.05133497724139,-24.644372494716468,-14.049732801189945,27.390438147714143,5.322130551170142,3.748238336359725,4.103239049085211,1.0684372732693561,5.256503124524756,19.33889703695226,28.82484085365258,-6.61553898641678,-13.413474064308438,-4.887890100837719,-19.927579806411266,-14.21494994813785,1.919472864967834,-4.892817560738556,-12.215122554481189,-6.165183783366968,11.060944475330249,6.778067922916734,20.01478123669981,-5.480666926034141,-9.940505460427154,-7.0564354766774295,-6.4320130859352345,8.362322069648842,-18.578493156144688,0.7170841591216026,7.293337684434733,31.24856836604471,25.76546681575237,-1.0223891874374413,6.406295735415361,-10.868293106950963,7.150521123149708,18.15694239404781,-4.128137210637515,-21.066058530879236,-20.946638407258586,2.014957983979538,19.29007121806818,19.51958458230056,-33.93608296267488,25.335963590138505,9.228308462283483,7.483664145106801,-21.362923348587305,13.307412778904514,-4.8526841664167195,-7.528351035448946,13.739402536692976,20.276577825157595,1.546752652974874,11.05056213995378,-1.383722944281567,-1.2423470210648961,0.8509627539364619,-12.518608804019102,14.753225955038303,-8.07747067610557,-20.49689140071736,-3.5546657867354217,16.64804555207107,-6.670175310243802,-16.721080179570098,-8.384676170740738,-11.323255538423759,11.164963159096004,0.7229358641385024,2.110125340291358,-12.641739212167154,-14.862063276806776,22.675976406990785,0.3389924782314689,14.519423618897752,-8.781305743045769,7.668031297227975,-15.509074965865429,-36.822230641219086,7.086846130793528,2.4865669952139555,-9.794393710341637,0.3886327796579644,-20.391158928481143,3.4238592183701586,-2.4404434332184453,12.95984620869994,-7.524322186573357,3.314921846677448,24.20950534767754,-6.363032044737213,-0.5572177835806044,-6.37595790127744,-27.597611367539848,13.232594395510917,-6.653695164503544,1.029057657993067,-4.780542093837107,17.763711537898686,7.97323906093659,-9.738129088717661,17.534184348093255,9.76300583453754,-6.087281321293528,-10.338694269106277,-13.505972011646525,-3.3283347336896116,9.579696698538879,-10.305691081119335,7.233360932439132,15.48644719304986,32.68082838154263,-0.319798643470354,-22.766248535430893,-11.54527031758524,-6.2958513470716255,23.31599627185982,4.153396334826101,-7.978476310742554,-3.1122287559709556,-25.333668520393843,-3.6311916189538413,21.866987073771643,-12.42609464707971,-13.388343438447794,-3.0314612798935405,-9.411703627501877,-18.875865495337422,7.888716429281014,15.903907960979481,5.006671377678768,-22.61296981874473,4.994514347057948,19.44353479694343,-2.2692434834640385,-11.16223866438432,-9.419388352670941,7.1984146299513005,9.159835172325334,1.9902420764997943,-4.734723159517839,16.09565944571143,-15.346726668231947,3.556414213098101,-19.167346990602564,-3.867163911395166,-18.137818028464594,17.702755509948222,-5.405666645004092,-3.886470504373961,-17.931110414436176,6.580367812959549,-3.654121749250388,-3.8761442424037074,-14.953374433792355,13.03252743897626,-7.902166809626826,-6.384293429881506,-19.896359431636082,14.079503870262432,-11.580712769331605,-13.467627259792957,3.350405467139992,6.844137644160123,-2.202622168576768,-14.65170466456521,-0.9672818064190152,-4.822710701044543,-3.5799672424593685,11.559697489975127,7.248131458205842,7.616543223411327,-26.534838812664525,-6.9035108567386585,-21.77413160295278,-23.86739332649852,25.55518453650322,-21.90315242796688,-4.680422084356241,-9.213912064668216,22.213169191031312,-29.719902183589852,33.426902115127206,-25.19796733229696,4.779038727173848,-2.283350944536565,1.8061739897863571,3.869020375627733,-7.732208523694989,-17.81660072167343,2.92218293424926,-22.850640742387863,-32.85621819684984,12.89642975592249,-7.470806720566017,-24.740588882135178,-21.76504295978709,18.828960007305938,19.888686827512835,-15.5839493468443,0.09643179420569012,-9.688408302319292,6.045372143038432,-3.724040322220053,-5.950476851851224,-9.311428117440137,5.352853468999427,22.343473980584967,-29.33761886332568,-15.285394230933392,21.036173011879235,15.900551777854455,-14.000411671630168,11.101668940101261,-30.754732170043912,-14.54475569300322,-0.928517541494579,-12.375867861050123,2.738694934407475,-4.396102152702777,6.964419271215923,10.430016415865659,-15.591515374025892,-7.9785116316331575,10.565339174456271,11.268152248726265,20.177915578199137,16.22283956434594,-34.27399888226608,19.100464214635092,-2.207323369076868,-21.696149643206155,-22.243257390236877,17.709397807177268,-11.849956956390226,-8.779964371539327,9.603878504221468,-4.529490709752787,-1.2380852976690884,-5.608644898308526,-5.609601759883797,19.94284503415863,-8.016142429423933,-5.3253867354515645,-13.884516945251828,18.993874046452994,-1.134212945817931,-2.3032632139666602,13.100189739609236,0.4764733772176977,7.993619937248706,-10.99468502917135,-16.081823288201566,10.367854241071013,-7.479202785936228,2.152682947078734,-28.900071514599546,-10.695367844393962,-0.8010948686410214,5.532768422584167,6.012552711722658,-6.204924557290213,25.136164102640187,26.383045272510017,-19.687825560738805,-26.827981825112918,16.79146808229156,-10.951608909543086,-10.43357563306586,-14.825161323425394,-26.601769921457276,2.2813875125928593,-17.463400356170666,-29.759335713567665,-10.467514791272592,-8.445467940726278,-3.088618782192886,3.60127938505103,-3.985210432249656,-16.135300244520582,-8.968367789163741,-10.035620572993906,-27.17077438988957,8.550814451443435,21.69073190867214,3.0131905903623224,3.6732164986091624,0.19099371473947113,-15.191202921798478,-5.89796823882262,-14.652539434090052,-11.676201601897946,-9.621232334499242,-10.521557307299126,-10.595673060818477,8.968901930000051,-9.26908333491528,-31.298571691956823,-12.231543686910841,-16.48621853199327,-8.285645712506813,13.54340510013083,-6.187092625422511,17.10131078880809,-6.240604172931901,-20.797985747644397,-10.989187041805673,1.3577401495803385,9.668414343216897,1.7816383287404913,-8.906632405185437,-7.240517198166527,15.245128027165348,-27.114604817279698,1.2421145236094382,-3.307500045825648,-14.76494704212208,-11.659138588052729,4.6399637772786075,-11.08389943690858,-20.138749004908888,28.127133472768808,-18.375942922213564,23.194681191783257,-4.392474762578957,-9.604131908901227,-2.796788001339314,6.585162638462741,-31.955657505065417,17.8941661824611,-4.603786375509162,-9.167346509226686,1.3659298179745676,-26.005821800067274,9.17892799943276,-0.62417607425506,8.77765674206858,0.8500316986446765,-16.198373238180142,-7.563659464319928,-10.901503940933331,20.941731519923174,13.291819947103182,-9.159853018164672,9.851818926629583,-17.298186613314403,6.646081489115194,1.999390597849734,-16.78595203233379,-3.00941041518446,25.02776092230113,2.6077217549345515,-24.778704951503,-17.71691692259539,-22.39957962665675,-9.561504352003963,-22.849160643024177,6.393065567028865,-22.71511629044695,-8.561970557138663,-18.220158264516247,11.12489100654551,3.7324925543759306,-4.316441642535743,26.328997634209554,-12.359204685064787,-13.06317234978403,2.6574324768417217,-7.021265304432807,-14.783356901526949,-2.1179845968553073,-6.192697669252859,-11.614580775238156,-0.0715346454586269,-5.360137329168861,-1.9730656075894828,-14.532337853150118,15.069417406561126,-6.65833609365584,11.322773989903576,13.287807032386896,3.2133362721441046,4.919557599823604,-9.140988408673943,13.17044758952956,-6.468155871729983,-1.9519886573482785,8.730190752256103,-1.6887463886394667,-10.544934099714222,-11.215572926878227,-17.696226865132285,22.937653988600438,21.83671009653702,13.315506178772173,-7.705793816312456,-20.376879725534096,13.07932710021175,-8.135532149387798,-1.1996984509997948,-10.26656927590374,-15.90614081155879,-11.195061848980188,-4.037862587172312,-15.63276931159372,-19.03545810598149,-3.6243054890006037,-2.855860556001105,9.298078046530637,-14.224509448746318,13.081960144801807,-0.04913638151289068,-24.881418470795985,-10.777202234748762,3.7784996910344706,-13.573413791182212,11.949641654537475,-6.3869199569562065,-14.535033886046465,-6.422520362686602,-23.96110689701414,-21.0624065896563,-23.020883009947593,-30.029241202558595,-3.139763312835163,-7.266627054290865,13.488100452109096,-6.236468377695953,17.088998222181125,-9.837391326695583,-3.357330202301271,-13.76411851771499,-5.9146793738389265,-5.300215048059844,1.1599230337551814,0.17758808786580907,-6.689003000074909,-4.360484217231799,9.124105961787999,-1.4974776833515848,-13.41108396797403,1.5374337594604648,1.0898493250333776,14.100450052518346,-7.890218631203917,-16.83639945099599,-8.030050952628711,-5.348169448738045,1.959124230649532,-16.300225816709162,-11.933156285946923,18.32556678790636,1.4846480528038095,-16.947347794184633,1.30704153802323,-12.506550496676548,-27.060620366763516,-16.502467617360004,15.547768863460567,-22.19558145924389,-18.920666132180987,29.282277207143284,-19.478125205216735,-7.200446891308277,-0.6427123422099508,-21.779513728825773,4.604263183339684,2.53775955257665,-12.417170928192695,-29.21449935928903,-24.17237637870732,-4.392815412729287,4.167920553013862,-15.340574360895177,5.617144538114914,1.0391138551119505,-4.652444701283187,-4.4198770272016885,-8.339552450774764,-0.8739853216901889,-7.978906513676647,-4.691388980610275,1.045091307227035,7.924694945010154,19.27723117198407,-19.973323079597797,15.934481108347182,-24.70648863580145,4.06643432950792,-17.49360554719365,0.1856623245284663,5.838487966388117,-8.050778903895397,-12.427568118868061,-0.3681091322967429,-1.5331649033486048,6.0105654830774835,5.916339923462166,-1.3023601072378224,-12.808339472810761,-4.7721209593665685,-22.737678383913266,13.692995098573377,8.874556987918842,-23.424296215366894,5.8447420542347315,-4.738959786135085,23.799628534365247,-29.97004534696707,22.541754020073345,-2.933515841564514,-16.714086728769423,10.325509265447113,-30.216856983354127,6.203903173323453,-16.560863787102814,-16.27754249148475,5.604605902176792,-5.881046231989755,10.631803184932167,-21.182264795488727,9.994258833356104,-21.624070215090782,16.807223473576805,-13.500982053250164,15.558559061445663,7.858136058936064,29.327967669735376,13.207577592494259,-1.935362170149206,-25.37409983209775,11.330904265255862,6.056046233312157,-2.0004244900660075,7.623198897414052,-7.013087154444338,2.9713324137421537,-4.551750613814809,-8.766532231456113,-13.54854247508611,-11.16878308793651,-1.6018188743226216,21.30800110816117,-11.41555904514462,-2.0997422800862484,-5.696544973002287,-12.561602495658791,-0.6011539769289193]}},\"id\":\"368b0141-788b-4e59-bdea-1c1dfdb2d84c\",\"type\":\"ColumnDataSource\"},{\"attributes\":{\"callback\":null,\"column_names\":[\"x\",\"y\",\"words_sis\",\"range_words\"],\"data\":{\"range_words\":[1,2,3,4,5,6,7,8,9,10,11,12,13,14,15,16,17,18,19,20,21,22,23,24,25,26,27,28,29,30,31,32,33,34,35,36,37,38,39,40,41,42,43,44,45,46,47,48,49,50,51,52,53,54,55,56,57,58,59,60,61,62,63,64,65,66,67,68,69,70,71,72,73,74,75,76,77,78,79,80,81,82,83,84,85,86,87,88,89,90,91,92,93,94,95,96,97,98,99,100,101,102,103,104,105,106,107,108,109,110,111,112,113,114,115,116,117,118,119,120,121,122,123,124,125,126,127,128,129,130,131,132,133,134,135,136,137,138,139,140,141,142,143,144,145,146,147,148,149,150,151,152,153,154,155,156,157,158,159,160,161,162,163,164,165,166,167,168,169,170,171,172,173,174,175,176,177,178,179,180,181,182,183,184,185,186,187,188,189,190,191,192,193,194,195,196,197,198,199,200,201,202,203,204,205,206,207,208,209,210,211,212,213,214,215,216,217,218,219,220,221,222,223,224,225,226,227,228,229,230,231,232,233,234,235,236,237,238,239,240,241,242,243,244,245,246,247,248,249,250,251,252,253,254,255,256,257,258,259,260,261,262,263,264,265,266,267,268,269,270,271,272,273,274,275,276,277,278,279,280,281,282,283,284,285,286,287,288,289,290,291,292,293,294,295,296,297,298,299,300,301,302,303,304,305,306,307,308,309,310,311,312,313,314,315,316,317,318,319,320,321,322,323,324,325,326,327,328,329,330,331,332,333,334,335,336,337,338,339,340,341,342,343,344,345,346,347,348,349,350,351,352,353,354,355,356,357,358,359,360,361,362,363,364,365,366,367,368,369,370,371,372,373,374,375,376,377,378,379,380,381,382,383,384,385,386,387,388,389,390,391,392,393,394,395,396,397,398,399,400,401,402,403,404,405,406,407,408,409,410,411,412,413,414,415,416,417,418,419,420,421,422,423,424,425,426,427,428,429,430,431,432,433,434,435,436,437,438,439,440,441,442,443,444,445,446,447,448,449,450,451,452,453,454,455,456,457,458,459,460,461,462,463,464,465,466,467,468,469,470,471,472,473,474,475,476,477,478,479,480,481,482,483,484,485,486,487,488,489,490,491,492,493,494,495,496,497,498,499,500,501,502,503,504,505,506,507,508,509,510,511,512,513,514,515,516,517,518,519,520,521,522,523,524,525,526,527,528,529,530,531,532,533,534,535,536,537,538,539,540,541,542,543,544,545,546,547,548,549,550,551,552,553,554,555,556,557,558,559,560,561,562,563,564,565,566,567,568,569,570,571,572,573,574,575,576,577,578,579,580,581,582,583,584,585,586,587,588,589,590,591,592,593,594,595,596,597,598,599,600,601,602,603,604,605,606,607,608,609,610,611,612,613,614,615,616,617,618,619,620,621,622,623,624,625,626,627,628,629,630,631,632,633,634,635,636,637,638,639,640,641,642,643,644,645,646,647,648,649,650,651,652,653,654,655,656,657,658,659,660,661,662,663,664,665,666,667,668,669,670,671,672,673,674,675,676,677,678,679,680,681,682,683,684,685,686,687,688,689,690,691,692,693,694,695,696,697,698,699,700,701,702,703,704,705,706,707,708,709,710,711,712,713,714,715,716,717,718,719,720,721,722,723,724,725,726,727,728,729,730,731,732,733,734,735,736,737,738,739,740,741,742,743,744,745,746,747,748,749,750,751,752,753,754,755,756,757,758,759,760,761,762,763,764,765,766,767,768,769,770,771,772,773,774,775,776,777,778,779,780,781,782,783,784,785,786,787,788,789,790,791,792,793,794,795,796,797,798,799,800,801,802,803,804,805,806,807,808,809,810,811,812,813,814,815,816,817,818,819,820,821,822,823,824,825,826,827,828,829,830,831,832,833,834,835,836,837,838,839,840,841,842,843,844,845,846,847,848,849,850,851,852,853,854,855,856,857,858,859,860,861,862,863,864,865,866,867,868,869,870,871,872,873,874,875,876,877,878,879,880,881,882,883,884,885,886,887,888,889,890,891,892,893,894,895,896,897,898,899,900,901,902,903,904,905,906,907,908,909,910,911,912,913,914,915,916,917,918,919,920,921,922,923,924,925,926,927,928,929,930],\"words_sis\":[\"floor\",\"people\",\"diverse\",\"postdoctoral\",\"straight\",\"tutorials\",\"computational\",\"join\",\"true\",\"tonight\",\"hours\",\"actor\",\"gustavo\",\"happen\",\"c\",\"slack\",\"company\",\"special\",\"went\",\"programmers\",\"aw\",\"excited\",\"dc\",\"music\",\"something\",\"change\",\"child\",\"internals\",\"nd\",\"stack\",\"journal\",\"note\",\"redesign\",\"session\",\"terrifying\",\"hey\",\"e\",\"miss\",\"compelling\",\"far\",\"sometimes\",\"yup\",\"like\",\"exercises\",\"training\",\"bug\",\"sans\",\"sick\",\"song\",\"b\",\"front\",\"interview\",\"fully\",\"use\",\"near\",\"point\",\"side\",\"folks\",\"congrats\",\"offered\",\"women\",\"quick\",\"live\",\"game\",\"infrastructure\",\"name\",\"images\",\"first\",\"reminder\",\"editorial\",\"weekend\",\"series\",\"caesar\",\"submit\",\"lol\",\"money\",\"honestly\",\"explaining\",\"needs\",\"fine\",\"publish\",\"seattle\",\"understand\",\"requires\",\"breath\",\"impact\",\"h\",\"actually\",\"setting\",\"access\",\"css\",\"choice\",\"openstack\",\"night\",\"muslim\",\"planning\",\"webcams\",\"every\",\"found\",\"pay\",\"knowing\",\"lines\",\"linux\",\"helped\",\"lawyers\",\"hail\",\"happy\",\"surprised\",\"talk\",\"luck\",\"team\",\"jail\",\"impossible\",\"context\",\"links\",\"voice\",\"next\",\"directors\",\"engineer\",\"cs\",\"table\",\"behemoth\",\"general\",\"always\",\"g\",\"hiring\",\"list\",\"gets\",\"felt\",\"announce\",\"investing\",\"san\",\"cat\",\"worried\",\"super\",\"tech\",\"indeed\",\"met\",\"victims\",\"two\",\"opera\",\"terrible\",\"think\",\"proud\",\"word\",\"without\",\"obama\",\"speaking\",\"board\",\"favorite\",\"reading\",\"lemonade\",\"cute\",\"slow\",\"seeing\",\"nvidia\",\"instead\",\"technical\",\"valley\",\"developer\",\"meetup\",\"yes\",\"fly\",\"away\",\"touch\",\"ever\",\"minutes\",\"leave\",\"mysql\",\"long\",\"dollars\",\"creating\",\"decide\",\"wine\",\"case\",\"hate\",\"character\",\"make\",\"twice\",\"ballroom\",\"youtube\",\"easy\",\"finish\",\"omg\",\"experience\",\"silly\",\"agree\",\"yet\",\"ed\",\"student\",\"least\",\"university\",\"colleagues\",\"stop\",\"sorry\",\"add\",\"scipy\",\"explanation\",\"working\",\"fast\",\"said\",\"francisco\",\"bitcoin\",\"peer\",\"conferences\",\"platform\",\"room\",\"rewarding\",\"see\",\"tweets\",\"blue\",\"opening\",\"distributed\",\"fruit\",\"computer\",\"log\",\"th\",\"apollo\",\"closer\",\"beyond\",\"arxiv\",\"search\",\"awesome\",\"second\",\"keep\",\"speakers\",\"teams\",\"changed\",\"snakes\",\"launches\",\"failure\",\"role\",\"published\",\"day\",\"tomorrow\",\"project\",\"advocates\",\"place\",\"another\",\"foot\",\"cfp\",\"names\",\"jack\",\"believe\",\"u\",\"x\",\"literally\",\"random\",\"statement\",\"go\",\"explained\",\"highly\",\"wake\",\"says\",\"computing\",\"icymi\",\"mac\",\"development\",\"meeting\",\"page\",\"already\",\"sure\",\"fight\",\"kid\",\"reviewer\",\"guess\",\"later\",\"saturday\",\"key\",\"house\",\"short\",\"lots\",\"syrup\",\"systems\",\"collaboration\",\"data\",\"someone\",\"buy\",\"find\",\"api\",\"personal\",\"growing\",\"booth\",\"frank\",\"exact\",\"beer\",\"cost\",\"source\",\"line\",\"proprietary\",\"longer\",\"five\",\"incredible\",\"may\",\"google\",\"wish\",\"families\",\"full\",\"switch\",\"honored\",\"probably\",\"performance\",\"stats\",\"invitation\",\"pretend\",\"moogles\",\"citizen\",\"nice\",\"summer\",\"em\",\"supportive\",\"much\",\"jenkins\",\"proposals\",\"info\",\"friend\",\"done\",\"sf\",\"sentiment\",\"soon\",\"guy\",\"blast\",\"pop\",\"delightful\",\"taking\",\"whether\",\"mention\",\"invite\",\"mishka\",\"new\",\"class\",\"shit\",\"police\",\"commitment\",\"power\",\"etc\",\"thank\",\"lightning\",\"restricted\",\"building\",\"little\",\"help\",\"lonely\",\"stuff\",\"middle\",\"software\",\"deadly\",\"seen\",\"q\",\"uwsgi\",\"review\",\"stories\",\"woman\",\"thanks\",\"spending\",\"glass\",\"hi\",\"gone\",\"wrong\",\"work\",\"clicked\",\"projects\",\"user\",\"best\",\"fun\",\"whole\",\"wifi\",\"groups\",\"article\",\"auction\",\"view\",\"clearly\",\"space\",\"head\",\"easier\",\"involved\",\"tools\",\"conduct\",\"know\",\"students\",\"meant\",\"w\",\"almost\",\"mobile\",\"amazing\",\"taste\",\"repeat\",\"website\",\"talks\",\"outline\",\"toyota\",\"us\",\"band\",\"doubt\",\"figure\",\"mcpenface\",\"percona\",\"explain\",\"books\",\"around\",\"emoji\",\"slides\",\"weeks\",\"stay\",\"model\",\"tribute\",\"teaching\",\"python\",\"pre\",\"brain\",\"goals\",\"tho\",\"petition\",\"feet\",\"director\",\"bruce\",\"generation\",\"instant\",\"beginners\",\"restart\",\"communication\",\"v\",\"lose\",\"might\",\"dude\",\"turned\",\"makes\",\"please\",\"environment\",\"anytime\",\"thing\",\"basically\",\"keynote\",\"meet\",\"island\",\"given\",\"lights\",\"apparently\",\"often\",\"publishing\",\"food\",\"interested\",\"never\",\"feeling\",\"give\",\"social\",\"ploop\",\"intro\",\"teach\",\"turns\",\"picture\",\"attacks\",\"shared\",\"uk\",\"idea\",\"feature\",\"last\",\"start\",\"running\",\"well\",\"route\",\"lot\",\"l\",\"world\",\"journals\",\"hello\",\"better\",\"could\",\"error\",\"car\",\"form\",\"writes\",\"eee\",\"volunteer\",\"hoodie\",\"share\",\"million\",\"based\",\"deliberate\",\"started\",\"hair\",\"_\",\"accessible\",\"experienced\",\"sleep\",\"htt\",\"research\",\"watch\",\"perfect\",\"station\",\"take\",\"visit\",\"reason\",\"hard\",\"fuck\",\"grant\",\"west\",\"made\",\"look\",\"countries\",\"community\",\"definitely\",\"really\",\"nominate\",\"everything\",\"become\",\"okay\",\"took\",\"spots\",\"critical\",\"watched\",\"told\",\"bar\",\"design\",\"practice\",\"versions\",\"lady\",\"even\",\"event\",\"end\",\"overwhelming\",\"served\",\"good\",\"heart\",\"web\",\"would\",\"support\",\"bought\",\"internet\",\"problem\",\"giving\",\"angry\",\"talking\",\"remember\",\"totally\",\"rape\",\"hack\",\"party\",\"pm\",\"award\",\"camp\",\"computers\",\"related\",\"material\",\"hearing\",\"edition\",\"tutorial\",\"locke\",\"ate\",\"management\",\"say\",\"lunch\",\"device\",\"drive\",\"debate\",\"command\",\"friday\",\"june\",\"plus\",\"donated\",\"video\",\"debugging\",\"pride\",\"exciting\",\"crazy\",\"play\",\"guido\",\"holy\",\"constraint\",\"sustainable\",\"public\",\"k\",\"open\",\"red\",\"outreach\",\"gun\",\"ignore\",\"nearly\",\"windows\",\"crypto\",\"real\",\"week\",\"enemy\",\"seriously\",\"canada\",\"story\",\"late\",\"wishes\",\"chocobo\",\"via\",\"write\",\"sad\",\"mostly\",\"include\",\"piece\",\"shout\",\"post\",\"lost\",\"register\",\"important\",\"recruiter\",\"ff\",\"posting\",\"times\",\"learn\",\"sign\",\"austin\",\"run\",\"advice\",\"maple\",\"junior\",\"<number>\",\"paper\",\"sadly\",\"silicon\",\"photocopy\",\"https\",\"kill\",\"maybe\",\"online\",\"education\",\"lived\",\"sweet\",\"round\",\"outside\",\"getting\",\"added\",\"proxysql\",\"show\",\"system\",\"works\",\"science\",\"initiative\",\"details\",\"book\",\"invitations\",\"wearing\",\"life\",\"wear\",\"state\",\"driving\",\"morning\",\"haha\",\"months\",\"tried\",\"dance\",\"calling\",\"big\",\"cuda\",\"saying\",\"beautiful\",\"twitter\",\"blog\",\"playing\",\"built\",\"today\",\"kind\",\"written\",\"going\",\"got\",\"hope\",\"played\",\"deadline\",\"month\",\"tweet\",\"used\",\"local\",\"bed\",\"words\",\"wants\",\"looking\",\"posts\",\"man\",\"url\",\"investments\",\"challenges\",\"enjoyed\",\"scores\",\"pretty\",\"love\",\"r\",\"turn\",\"enjoying\",\"tim\",\"wow\",\"updated\",\"happening\",\"past\",\"read\",\"perf\",\"wait\",\"non\",\"feel\",\"college\",\"funny\",\"topics\",\"wrote\",\"tuned\",\"jupyter\",\"psf\",\"hand\",\"chair\",\"different\",\"polite\",\"professional\",\"pycon\",\"credit\",\"huge\",\"trying\",\"takes\",\"still\",\"heard\",\"holding\",\"production\",\"thought\",\"god\",\"send\",\"thinking\",\"cc\",\"check\",\"whose\",\"ppl\",\"school\",\"rolling\",\"welcome\",\"seconds\",\"knew\",\"part\",\"f\",\"war\",\"standards\",\"profile\",\"heading\",\"one\",\"way\",\"making\",\"myth\",\"machine\",\"truly\",\"decline\",\"else\",\"listening\",\"comments\",\"recommend\",\"history\",\"learning\",\"mark\",\"languages\",\"enough\",\"years\",\"conference\",\"create\",\"dinner\",\"yeah\",\"http\",\"portland\",\"value\",\"saw\",\"try\",\"telling\",\"js\",\"lovely\",\"group\",\"position\",\"mean\",\"guys\",\"app\",\"guidelines\",\"level\",\"kate\",\"hear\",\"brexit\",\"mail\",\"job\",\"skillshare\",\"speaker\",\"smile\",\"deploys\",\"workshop\",\"program\",\"nginx\",\"diet\",\"tell\",\"anyone\",\"girls\",\"difficult\",\"home\",\"learned\",\"many\",\"knows\",\"waiting\",\"thoughts\",\"monday\",\"bad\",\"everyone\",\"yesterday\",\"decent\",\"algorithms\",\"following\",\"tea\",\"course\",\"great\",\"sea\",\"question\",\"others\",\"call\",\"mad\",\"diversity\",\"break\",\"put\",\"oh\",\"tower\",\"high\",\"insane\",\"bring\",\"set\",\"days\",\"future\",\"phone\",\"news\",\"follow\",\"qgis\",\"listen\",\"president\",\"single\",\"analytics\",\"behind\",\"weird\",\"photo\",\"birthday\",\"together\",\"coursera\",\"thx\",\"plugin\",\"looks\",\"wonderful\",\"plan\",\"yoga\",\"get\",\"strangers\",\"congratulations\",\"scaling\",\"dear\",\"gaming\",\"skills\",\"scale\",\"though\",\"files\",\"driver\",\"requests\",\"family\",\"rt\",\"win\",\"things\",\"email\",\"right\",\"interesting\",\"year\",\"cool\",\"finally\",\"goes\",\"want\",\"glad\",\"come\",\"factory\",\"friends\",\"left\",\"pypi\",\"rust\",\"mid\",\"since\",\"using\",\"knowledge\",\"bid\",\"ready\",\"forward\",\"sending\",\"toronto\",\"technology\",\"ago\",\"tfw\",\"coming\",\"documentary\",\"places\",\"america\",\"finding\",\"hour\",\"evil\",\"hoping\",\"familiar\",\"conf\",\"textbooks\",\"storytelling\",\"til\",\"dev\",\"useless\",\"code\",\"heck\",\"success\",\"time\",\"old\",\"less\",\"pro\",\"person\",\"movie\",\"due\",\"customer\",\"watching\",\"missed\",\"baby\",\"also\",\"starts\",\"sends\",\"free\",\"explains\",\"need\",\"flask\",\"p\",\"modern\",\"programming\",\"numba\",\"back\",\"runs\",\"underrated\",\"hamilton\",\"penny\",\"pass\",\"message\",\"application\",\"airport\"],\"x\":[-5.759729414532222,-58.13088521661078,-39.34861214250737,-10.449235506488485,7.192778308895604,-53.308469312395275,-10.63574237949859,-40.815685046057794,-3.259639004716482,-41.11980922101117,-35.885489500413485,-9.58354628078607,-9.76804023250685,16.2419879107104,-52.09559754011639,30.02447009480511,-47.930731465446264,-48.923126133465495,-21.576146178076446,-8.193145636859976,11.450931763177193,-34.29854800052994,-37.69712548103006,-34.18190473871548,-55.43611141843009,-42.139325194079895,-32.141144232108324,-7.225448173573003,-9.768683686293308,-57.48286562404507,-64.57282766067536,-32.0606935272048,-4.617016037305016,0.7301264801490047,-18.91059041569383,-3.674236825954469,-47.55280359831259,-27.61132336974342,-5.5783166916050755,-51.32512028602711,17.35084213430819,-16.674685344005216,-57.20605515005169,-53.31332393037763,-26.763354912545633,-31.331734545566402,-6.380047249183809,-40.51333452170201,-55.77855313045652,-49.23450005480691,-59.91827566155367,13.556152106355547,-25.67529483040094,-54.39396466357609,-11.953216541890008,-47.121000690527495,-44.19818054228172,-47.61559128238932,-48.321252867627415,1.2281284129801702,-46.11877149252457,-41.61274949309174,-50.677248384882965,-51.92547940803012,-6.015144231367797,-63.026295497484234,-41.8002631688499,-59.870495303454646,10.602221216301235,-29.58925639634691,-36.00417152928524,-58.27884317378908,-23.123202807770163,-40.902502063571355,-10.911623446945335,-47.765436485611964,-12.22139603581127,-51.77068106977478,-51.10751316887976,-31.932056635307944,-28.406233475215668,-37.299596250926726,-28.14189277829509,-35.07408826062844,-23.38655790642557,-26.1773934104456,2.8475053916942596,-58.6021889756503,-37.06601852237812,-27.241103904969584,-20.435396753325612,-0.7220104692845422,2.412782776920765,-23.416659376281526,-39.7344968638541,-31.27258285205048,1.2491284489882337,-62.6167887827921,-26.186059735732954,-19.61065395538607,-26.010793094541636,-54.364029500824245,-58.78904007109387,-58.08018566707061,-44.847245897879816,-25.48350820537522,-57.73012297069339,2.0373939180698737,-55.91506340065237,-39.07152548442494,-47.85366630449725,-20.490131890585115,-12.910414411096898,-27.386950844735228,4.855139713482348,-33.67676399424547,-56.950135721473934,-5.595532159814235,-29.727008723358075,5.771428184663249,-37.16177804398867,-19.46332900706876,12.110222325321528,-57.46337781757017,-36.88844152123046,-38.992882804965134,-45.592756837260296,-19.22449778005311,-23.215775743258952,-39.40397326853757,-49.7968707088447,12.416670520602176,-20.985860642909987,-29.915401074161867,-45.95666831563102,-49.12528736547291,-28.297923781049526,-29.349564134427258,-0.6418816929529321,-46.1330036822341,-14.66832870378221,1.4796381728411285,-58.36388537656644,-0.36194252916627556,-36.03457974163394,-61.61869380278332,15.609162160827202,-32.952505118485284,-56.53367509063747,-47.601683718640565,-35.118516536740636,-7.061981141762547,-13.149698515124786,-3.747510400502885,-50.714406718599186,-23.91105671778968,-29.87082515414975,-38.118158637924616,-45.77943361431232,-1.9688084639726875,3.7424645547654487,-43.76343132696462,-36.49668225675051,-32.539183553984216,-14.09025170743054,-52.7757357500675,-62.62782866507881,-57.656974514053225,-52.43295432910395,-62.19648223136886,-17.344547699867583,10.732366162426764,-18.988343475377906,-19.471226255725405,-53.06738838252145,-55.91850147509825,-43.69744915187014,-55.76353040486746,-26.556436434834232,-21.725295164038528,-32.21672267892776,-54.7065907759298,-43.87891627909404,-34.64346408457275,-45.58773027529073,-33.12874546292294,-10.392995251257888,-59.65706902100439,9.421556222727732,-30.282078862276705,-26.416444685921018,-35.662717898376755,-11.338263629395778,-33.87251681682695,-30.980244113245874,-16.833062649027543,-32.928922064641505,-16.785585505377597,-62.43172692399764,-54.54428927478486,-41.45182443974681,-8.219438939345595,-19.269317058110758,1.5749376180410382,-30.274351456995227,-24.243923737432624,-31.196580795272713,-11.750640099573294,-58.84340970989232,8.360120120783252,-0.584699011683286,-8.94902559064659,-37.17474802626749,-7.0536570613431335,-50.90009457065716,-53.8657994250805,-50.73679295323901,-14.42398925482534,-3.136806540027596,-19.89167747315116,0.6826588895683547,-41.37504199998926,-37.89609387122186,-41.926021377608365,-25.04436096048947,-25.604764542736824,-31.82861258780254,-28.430319359255193,-1.2788731440810552,17.94794683863753,-23.003037655615724,-58.91766178810883,-3.843349169757167,-55.623523104516394,-47.20255009952821,-49.52498727206972,-11.384685355286962,-36.534599284060725,-31.950271925652416,-17.468917384791528,-19.181848623281997,-38.4862112282029,-32.661161941601065,-14.336981695157787,-48.970219357773615,-31.3749132116352,-43.96194699157169,-53.4491015991207,-29.460951253422966,-53.3674397582706,-19.085665810833063,-8.242482354861156,-20.063381684466435,-14.977745351727165,-43.24517213374044,-9.974236249325116,0.9356278374277784,-29.948056920662275,-34.52025127188195,11.854447264121086,-49.25889139797354,-51.034173642077064,-26.36275592294635,-11.657050796283475,-2.019292316263827,-37.62689582688914,33.90725292795256,-7.803885110424055,-33.88529324542587,-12.004941857979981,-49.058226942075706,-21.391093276956155,-34.61544423870487,-41.0827434796191,-8.712622665201875,-56.436482059407695,-63.69706503761447,-17.12805054874566,-51.78704444918113,-45.09098010084037,-5.9885384446400085,-42.887226735590204,-51.07224471737801,-24.570875689213917,-25.46824255292065,-27.64998412676872,-24.61571797802837,-59.52279684103492,-53.48744027216468,-16.29792046475978,-17.723720017600908,-41.8440450025476,3.6027392567398286,-64.79236045621668,-42.21090025120111,-33.595503560435795,-12.178281533157715,-62.89395260763629,-23.028675904087667,18.979840723120667,-48.539735882772916,-39.64787807246708,-12.752715599657481,-7.27387844112548,-26.11105153404582,11.335674319583017,2.8474731519116094,-59.11008110409285,-26.93328597279081,-19.130547219439602,-31.33897295641628,-55.79729545996223,6.237449180336003,-14.975901702399808,-17.336233333079328,-37.809268204550136,-54.33680974022394,-34.84573450124357,-20.6878379031201,-61.32321011195936,-27.642993750606504,-5.477259222009098,-32.33308619586898,10.90128523372529,-29.259389131059727,-47.33043461943829,4.3120599905116235,-25.044656008781594,-16.25022885747789,-56.85831334283042,-18.026607720140014,-15.049667120863914,-28.77299621116484,-18.114195796700795,-50.75541125773032,-52.405459967810586,-23.151435095006768,-46.359880085197624,4.113835275491288,-50.5325637504881,-54.259912087746294,-43.36199161832565,-13.301947300537382,-13.368686943156298,-21.277060462315234,-56.62834109668066,-24.927644617642944,-43.80152153387356,-21.99118525959703,-32.83344212480945,-49.78518527874083,-28.77503775014883,-21.606165929933393,-55.45787289280865,-64.4917633160133,-8.009789236614582,-20.918695574358228,-5.617544086113899,-7.393227955992459,-57.26282205266048,25.07685103255318,-64.77921649829352,-29.08342445255907,-54.54144173485429,-44.80913294159164,-32.97285172433489,-3.8641652252481777,-5.510689881007972,-39.81450265992237,3.4556912514383136,-8.761612814895852,-16.80473342746657,-38.057423651790224,-11.616372302681485,-52.04613465056427,-12.68128040439896,-59.09458261447227,2.0618340244993334,-56.27570343115504,-47.44951593165057,-1.3786505527246113,-56.35165390461383,-6.263193815228209,-30.27346192446526,-47.26966992018405,-13.241022784694332,-4.585199726519572,-52.62361670074887,-51.045380009583404,-16.88139811555604,-10.787905257183933,-55.91879242034163,-2.5183400553638298,-25.128489445622993,-42.90848655241834,-13.351336608287278,-25.171905597278162,-1.5434344878758037,-22.2461146179969,-40.76928161760019,31.081835626770182,-58.93745055130425,-41.28246669724321,-43.23818245190701,-50.1915608573318,-28.427226630994525,-47.571175000340396,-56.68765177254873,-2.671463091563164,-51.74045732598031,-36.81018883517554,-42.094490950070096,-9.117157768014723,-17.550254061411586,-9.700117565084833,9.748067307624702,2.3370319146825977,-11.803211243675845,-9.201925144414396,6.475034273454361,-24.434045549713826,-2.522206819664357,-22.274117875006723,-61.41142165987307,-55.99873179227744,-25.510578223065888,-35.89144742267857,-48.70490162879098,-8.414309213695114,-12.638666349600374,-54.99830753735536,5.1378087423322185,-49.942780965902806,-41.466717006750685,-19.409455707628947,-39.23924084220987,-1.2616791630422588,-45.34474247805337,-34.76587564061742,-22.442834919598877,6.64465176440513,-58.68674891205382,-51.76044586310984,4.421313727264662,-61.79543130991414,-23.809130425041985,-63.156444462765506,-6.963127468103911,-37.7120599324593,-27.219387658406696,4.580246043653167,-1.0536961451599056,-24.18550034382682,8.274128349112088,-62.34444721847933,-36.83552444753746,-60.33027071092945,-43.737230510927276,-59.7014003791458,-61.21424294956927,-47.28460911485313,-29.507262580679438,-30.229695109080193,-52.52367121104289,0.23204484847494303,0.11633918109016395,-54.92524026581078,-60.069985453184096,-51.57535328729059,-0.9760393330186337,-24.181112568737777,-18.043259127871426,-27.75446632206679,-29.17726362806248,-15.39637078898072,-14.381773410242706,-27.364112159579978,-47.95673849253034,7.187422664945021,-42.981260738784094,-54.62570026788087,-41.03437622239564,-50.30910658652324,-11.10550933758785,-10.522923116575825,-44.3754529976589,-63.736224076695585,-46.72737981487319,-5.051396857221565,-9.414026141541093,-39.880424841518575,-56.28384854422217,-18.215427621510223,-26.678500125665234,-1.6911154966001016,-47.698217302877154,-26.378988797847743,-43.07653166839275,-54.32275628942468,-27.468818686474034,-53.65989689071993,-60.93232422893026,-57.333389342071506,-7.470881551030497,-31.461096447604444,-20.19066384717871,-37.39071594664347,-10.827384953941197,18.907758620643996,-65.31679895376523,-4.173052096706945,26.86828703784158,-28.118387892854994,-46.327886036214345,-36.365095342515865,-40.75021436574931,-38.500117431872255,-39.29356009913261,-34.082877295593164,-61.587994037068945,-9.969884261207312,14.977151570303207,-55.4627064313144,-7.3698938734612565,-43.51089435571637,-58.587024333956705,-53.17757013323303,-18.63676901389542,-56.21574469331999,-56.35388600110278,-44.984392105683085,3.308540705281005,-17.383504828115697,-29.691281489291637,-53.19053575687097,3.2019113406331012,-41.814632398023484,-11.017176334754925,-51.32773695036637,-40.75755697487388,-35.49302014261835,-53.69672231810688,-39.21135347584688,-36.21403421137648,5.161118216630653,-12.440157872760434,-56.163994061042644,3.5034370505671792,5.974757189976327,-51.62113577508784,-61.42407496958927,-9.27283580852556,-5.6899643212643305,-29.522314114564328,-15.392844915306489,-43.33240100750267,11.34362660605873,-35.85380236284098,35.33433118994824,5.013317549741011,-37.72725905721031,-50.74134706492978,-11.519378479977478,-34.4173856855174,-13.409356063655917,-25.740140945229324,-10.56303657997698,-16.657506898212457,-41.295542698597636,-27.557844312914067,-53.10112610108437,-31.726314434197732,-57.24996455814121,-40.58145754623995,-40.58025800781605,-7.750336311357657,7.899867113423489,-38.807013322720124,-43.42481978561046,-34.028592103152434,-43.606551962167906,-59.01338157687844,11.516225141312564,-16.031569126624625,-23.628494393005333,-31.172543003507652,-49.92198253485372,-9.0998758615516,-8.716479008084901,-60.970892305565684,-54.92898563504537,-45.684090244838906,-36.113212719281115,0.9312165117257969,1.5886990271691335,-4.173101880642059,-54.62624269498487,-48.065249552871684,-31.958928132345807,-49.58284507309434,-29.942541626161816,-32.75235548517368,-15.30966907793688,-34.1631405047212,-56.22067738146904,-17.918320970682437,-17.341614234541655,-60.153582336068396,-16.56992337802359,-34.03358644728112,4.778783123302351,-57.00000477960081,-55.875566134867356,7.359853526496047,-13.009232224472381,-16.89029883813517,-48.8815971091281,-16.622022396828108,-57.0263090562955,-53.836155598390235,-52.42671780130362,13.813865641513903,-36.959397746309286,-32.41862344578286,2.916765826247612,-59.466656399989354,-40.374614450948805,-15.936476740037511,-53.82663707208163,-46.60935402430478,6.977442060574307,-58.18428391124098,-9.415217228071711,-34.030492863067614,-40.084974258891386,-44.129957318184296,10.468346692603388,-45.915000431730114,-53.24839296675563,-23.09903091571389,-22.63831319354611,-34.85634733882399,-45.059709732050955,12.068976813989114,-43.209612225959134,-30.211170083850863,-21.406484967918566,-52.82401442896322,-14.434400899266166,-57.12225305333918,-54.64208744976327,-37.158659301156014,-54.77244616903125,-55.874719557178864,-6.0800008105767365,-58.17384216404931,-37.586205405070196,-44.26170220349463,-59.4065300230131,-57.708927841095914,-47.164451085272525,8.914308466412214,-55.86987629110807,-48.8617012677661,-5.167297594853081,-46.45481471117394,-43.79623119779726,-35.545017276265185,-47.20831457559265,9.128354113164878,-57.33429943018778,-36.402419448740396,-51.54543562801021,-28.109384711454094,-17.068898237314727,-39.041221944284985,-14.341562779788275,-22.008144183907337,-48.17842998896545,-50.87930499136641,-47.69025063592105,0.9881467479934144,-3.267795715922229,-6.493133547237026,-49.34377097864357,-42.394880379718806,10.049891042730188,-58.87630965924887,-59.233563139267815,-14.640400167811821,-45.04096448979994,-20.40427405692096,-50.73558476549401,36.584757717316,-27.738442634244773,-6.370508838381129,-38.36702792047315,-11.46479869980193,-23.6393504028844,-23.915855126134762,-26.683589135470573,-41.19870079651517,-42.9412854638848,-14.068163450311904,-22.39456313387768,-63.644922625364416,-27.006711714690937,-12.096982138372892,-31.03603090856917,-22.1349722968456,-58.8294652207881,-44.655936343604154,-6.408612017427303,-44.921058087385084,-61.020552386958094,-34.48563670159217,-52.80152697043639,-46.655947037986806,-14.440555394506026,-60.6641758535431,-38.91856421846403,-42.64396096921363,-46.289672376054384,-22.374058218516964,-29.38326465594715,-12.796009922590622,-4.903578879109957,-21.594705612785404,-38.83151160006916,-0.6857974960340374,-1.710658754707726,-21.780756562159823,-14.637748634877727,-57.06251992421005,-57.3384612954586,-3.2087638526196596,-16.814172171818225,-64.08992434890587,-5.8855645216813945,-34.682548906109,7.995810424426091,-18.432182690685423,-26.379751596004272,7.317113098439221,-33.41476343075906,-57.71085716218756,8.771879096001095,-22.66838510116195,-44.571663374506294,-58.06606651279712,-57.442571067607766,-39.698527665773994,-1.9577329069628746,-43.55865006139325,-28.98722758103209,-36.96571028039058,-40.85691343942168,-30.658643588996494,-30.537295604030973,-21.53021243046135,-19.168592972013414,-38.49770115657728,-41.65995794908401,-19.76217218782471,-11.345315918171693,-22.188338989049388,-40.65365272685006,-0.6373446378500978,-21.825486819396495,-22.244578098192793,-61.431061612635084,12.341205023716538,-23.59133094477779,-46.605424339575805,-25.52891713086881,-7.058845329869616,-24.27118072385988,-20.85967564085796,-50.53024228036642,-59.80578564303547,-44.438139868745786,-16.569198408983787,-49.79963034006882,-58.47484834917977,-4.4756040377385675,-26.40683537079724,-38.07515352076631,-44.63582712352673,-58.11932998199211,-14.9281969048912,1.643458084946626,-20.033829245570388,-45.12705425359218,-54.62840614560958,-46.48952174278355,-30.27193570734364,-8.526614615168995,-15.135406986390947,-13.339900311300072,-11.144411240680128,-60.17801166254338,-59.96391417167008,-10.433338703283034,-28.550731416765856,-45.862477045149745,-60.46881102795474,0.42793777542184397,-51.58194581097339,-18.57537288019784,-33.32242087055007,-49.55469697559541,-15.238101390939171,-12.643722109763974,-18.812846788901588,-50.57500764440119,-42.50990034826729,-55.045178619809164,-56.2296547716436,-52.87929410215088,-25.953728497454872,-57.74780966574882,1.9958544676021162,-45.6900063594683,-22.394140847301802,-35.702922446524205,-41.17295626719447,-36.80293581064939,-15.181352789639025,-4.952972297262031,-53.232010462936536,-33.363633706376646,-1.8745106464424248,-14.22341428802112,-19.81019529138029,-52.72356284176207,-24.03569144354931,-43.3228119360177,-23.91148016999339,-57.760594988854486,-35.49277930268784,-28.434255104626374,-22.217065215436,-39.92413426394045,14.840021067549985,-41.19626305174379,-11.625529003703535,-51.722732353651956,-62.30984989228996,-24.473314687570074,-49.28126397447722,-44.87257538949417,-56.630124191074295,-36.32361006061198,-53.69913360369348,-45.82109513759162,-56.84185040848519,-49.23987401318388,-51.30998024494206,-65.59947734998771,-40.79796266318976,-48.53556978225984,-53.713061092735025,-65.22266221865114,-52.837933786649835,-7.689076035738808,-55.73319488749827,-30.7469837702347,-30.463907885432093,-28.74270573602076,-19.49039293425448,-55.354736111579015,-54.7106575529206,-10.100814900924975,-3.2589901979363756,-48.85440326070767,-39.06807487317809,-9.654087569178515,-38.83904743258872,-24.93342735282805,-33.182283685082204,-3.4907961223595327,-42.66155990881833,-31.197274359204417,-32.74625179306985,8.365644611241526,1.0088767776353116,-20.036082214648268,-20.204482725521153,-3.8518567971428768,-24.763474694382573,-50.59746660038408,-8.632866173381851,-28.98302832445396,-30.503438443551296,-56.452680568212436,4.002027063902944,-57.4930163344992,8.873215498083432,-30.576234941146375,-56.251831194343545,-48.63562963725442,-19.595779247124085,-32.70784866879323,-36.70926798694497,-28.62200760792199,-35.33382890093269,-23.394860732792683,-50.43089062954895,-32.26035477723646,-38.11443770032772,-54.328136487840844,-60.20663108065549,-20.461120834862427,-54.15017391929028,-36.631330715833855,-56.82801990946459,-22.620295117873933,5.316593073901457,-29.618558911055793,-61.04381422213842,-39.295491519725104,-55.54022044510592,-42.31910379489806,-20.133189472983904,-2.646390843170484,-17.648869452315285,-17.087182313806824,-32.40744041427776,-26.840640909997585,-15.306709212960897],\"y\":[0.07182368265669704,-10.470585387174594,-18.09855027780902,-15.198060483701429,1.6730053047740672,-15.718590943772519,-13.370320802189793,1.6517946032844224,8.941985529121169,-20.620560561201255,20.13365476391524,1.037768570048474,21.846814835077154,12.26995828836709,-15.192054964305282,9.763462801839008,-9.33299457331758,-4.688445177446303,23.984647662827026,10.841865581579622,-2.4319678005259475,0.7161364105249146,4.980326951841631,6.6022933663836145,-14.147760282967297,-7.607995093824051,-19.9014738876793,-11.706929251041228,-5.729527253319908,-2.6476221145898915,-8.821261015506884,-8.348897846400806,21.300476126795314,12.23912247583812,-9.48246151677118,-1.9876467011944556,-3.7717538600538423,18.932354244307366,18.252291008246598,-23.962141688954556,-5.6711781853195165,-26.886188424784944,-9.42732942846005,-21.97691478758343,6.0581124444092,-4.6146831737625975,7.8181253512241495,-24.549549842707886,-21.768600120571794,-15.973258088450095,-0.755345646490471,14.882712345637682,5.547777160158964,-8.028486822661703,-30.453104640061973,-0.8121292361701807,-16.5154399879994,-18.843992592340545,9.723316172169344,3.2558745458962806,1.9122848746130203,-24.55215863177465,2.2753029159353626,3.075117655591474,-16.492446144368085,-4.680723969759519,-18.45466178144808,-8.186054665665567,-14.701008648283809,-17.12358262883549,11.498193684490714,-1.168047970380484,4.470972164637584,14.204319165081564,6.577036241710526,-7.920814701075346,4.937993706285197,-20.169207121878767,5.126195935179141,4.677995050791004,-18.664167840124726,-30.41169565733031,-3.9243667804969227,8.617837692428935,-15.577228657660518,-11.860826398344127,-25.76095420462036,5.465224033337665,-22.1634744583922,1.4784910238683187,23.47369682068957,-8.658057892346788,17.636214940802052,11.70951076837376,22.286286052438108,-28.82113165237376,-7.287044347461885,1.7282611335492535,-14.975410106621464,-0.8883788970564364,27.638947832524774,-0.3315757690972993,-13.569224776683688,-14.714754294896736,-11.802677242153488,12.073515731826888,-11.441742614278914,20.592190095144375,-8.20052112686149,-15.49238707214725,-6.356404702279069,-7.290612388442177,-12.954309806591677,-20.31197710575209,2.7030290631331795,3.2443169710343027,-12.459990097580802,-13.70450044378393,-27.742981949226476,14.057765112861743,28.014065130725353,14.60530211673753,-17.072235155924442,2.1408866458702347,-6.650219458972422,-26.272793092170467,-3.996173455944365,6.931343349333663,23.16343431999736,8.860726339092965,-25.21828638628287,18.736941270496764,12.341839666098778,-3.415683357585876,-13.773509658039304,-6.31420674608454,21.82294923682766,6.008500192938714,-1.6658319475375425,-22.107219434558385,21.683177177977765,-10.57432302251608,-9.626679351126382,18.916166043034192,-15.11834769838778,-0.07916574099628255,4.537836584057884,-17.698441847328763,12.80368578710526,-15.817729104821783,-7.215381313036083,2.3960790847612548,-3.1559683719871017,-16.31117742435668,-17.142692396863136,-2.795241388514105,-24.01510719231139,-7.642107336533438,-5.448804836994258,16.628769748223117,5.411805089304068,-5.418384475384686,-1.4931997752226518,21.32526872851477,-0.37683667518174746,-5.815408059192726,-9.174515701934821,-15.985828796653426,-7.125914846652057,-7.609816859614899,1.4988229873271237,-7.92722881294207,9.0549747876225,2.5901130026554293,-2.786520775461555,2.5500083688838147,-24.80790245722098,-4.722849137191139,-3.3979118062850198,10.695901883829865,-6.864071224971924,2.8591847471899317,5.3827837129872105,-3.3997004582429056,-7.849028435308484,-22.100375084565407,13.48383672148788,-15.199123383963752,13.437109339491272,5.929769141988617,-22.017974222129624,-11.954393439871248,29.500896794523594,-19.58141438332687,-9.511363010308973,22.720722333687924,-15.123367605948244,14.78877335792099,-13.244594793438045,-5.353406234009086,-10.9969092005705,8.80747250856809,-24.09335472850349,-14.454517156930933,-5.6262893748290566,10.153269420905817,-11.087281734473558,14.895167819034475,-6.802354251204023,-16.782989838304665,-25.159054630544325,17.180427295658752,-13.345047011220636,5.62258286479466,-9.050137293912007,-3.6067821230875117,-21.6336533989491,15.70121468153962,-7.166778338372642,-5.329286424568421,-17.117083447470485,-9.118968189596353,-18.922203570085596,-28.88010164124706,3.8393939647662756,-24.310095233303663,11.70431915245271,-12.265373987021453,5.952353669336,-1.2128953340751545,-12.780156182152158,-16.820960061283436,-12.919667512952195,-9.674226356596927,2.7641786605960177,-19.520826431816246,-22.341367976254663,-18.16325127234797,-16.327612206080307,-0.4394010104521464,-26.35764387291958,-4.052167939555438,-14.263261940814145,-16.76910777954265,6.932215322242934,-21.773940251139546,-22.347884750528095,-7.419141958434282,17.650018409229624,-9.09534504923983,16.405297533130394,12.976293691905362,-15.242481797271008,11.161434998224456,1.202525574268383,26.141702961237897,0.026025499895708237,-19.95667528402374,23.032881854617287,5.6220815186185735,-7.624093991888405,-4.462674858137239,-11.017264433797889,-10.995585463909485,-3.807190757327197,-2.605376508873955,7.083050961137502,-13.640828277632105,2.2750366239887385,-0.4709915936005046,-12.639388432154188,9.179029142735128,-16.34474582701946,12.165329069192572,-27.529338447470636,-7.160794381395217,-0.7805986212678911,-18.735583013691734,-8.444410521026109,3.9406856936406043,-28.47586609210663,1.929950971186995,-15.966924005320386,2.081949021793999,-19.012014976715026,-24.139136844787686,-20.840435793949037,-12.502521269360608,1.20119574421597,5.0530418935434795,-14.422905381742686,-22.43184222566897,-17.484508539873307,-3.1346811636841325,0.0147682409045862,-15.445472666745959,20.1167521296684,-2.7945535751478285,26.113838359392304,7.932064783720197,-10.943262979107287,-12.145325769372214,25.006713796929127,-9.569250495009465,-5.234889568531934,-0.3937319480955994,-24.723257513580528,-5.218786121594068,16.675884871929192,-20.108577500794006,-26.08191053881179,-7.055901744277187,-3.891870895889432,1.3818006732867787,-2.4394382010438243,-11.888070129397269,-16.985229971019976,-18.013455854526054,-16.7380418080896,-10.733140085082956,4.748289848008617,4.090598951129527,1.9696685544980816,-1.9119604064277977,-6.9152036309725196,14.23610151866863,-2.397686976048114,-16.887999449813293,-24.56529573784556,-9.030765006562499,-3.9026491243293036,-2.3446044679849334,-1.8891282800804927,-16.407305035046807,-12.8744940514484,-4.750370623525694,0.9147728721841057,-12.050187868033367,6.751683716443055,-7.182011813788469,-11.72658092116226,-18.95719301439278,-20.411619426397106,-25.118769281194822,-22.180994416732382,-3.8583529526782545,18.0605265142477,9.24804529814341,-13.79749473699761,-3.6216525401934128,-4.542679110862342,15.652879305087122,-11.471074543561317,-8.851142451727782,6.453018450009446,-4.394622762599586,-9.790919534997323,-25.315253054866044,22.659931122219547,-5.969554689049285,-10.110495763349569,-5.289613731213782,-31.34084108373026,-2.4465032308736907,-6.447076087463108,-0.49584366722671797,-4.806430774321893,-3.444049849524912,-19.747398161777696,9.934213630483516,6.870687356490064,27.934097065139728,-5.383219721808231,-6.713940297474523,-3.56814257574321,22.486535465629952,-2.190274077250042,-2.0990061558455073,-9.483328287896379,0.9510318531593333,3.639382655930039,-6.20432548860786,16.22851164977841,19.875569889362744,-14.180381499930204,-10.08072757712152,-21.0713726180122,-12.526641597344435,-7.64008509625245,12.486421409648392,11.525116323665957,-10.582560259698557,-9.840591156047697,-0.267801376488135,-20.444697419302635,-6.575840621869566,-6.663862097852083,10.778432558182077,13.435417517008181,19.347123710267137,10.485477836608325,7.695112954332598,5.295401057853948,14.289500852240723,-0.7552343610586181,8.31506859914548,5.662641715910961,-8.037249257806305,12.923991966173242,-12.09111231331849,15.868628599092414,9.5353077454994,-6.916913743659224,10.628537508630629,-11.712491450134726,3.6944938156020517,-4.9883507759101855,-27.432019782731654,-18.156895117392242,6.9865511139616014,-6.073728768642267,-0.06604165119574973,-5.216973973614756,-1.8694408819553407,-16.351837337927073,23.738434844027584,4.501768667835666,-0.02347819907110779,-21.25297035601862,2.0635019980186136,-13.037140919818158,9.370590099162218,-14.286740174729719,-4.719341516667894,27.44363114001168,-22.566698563661486,-19.767796366912865,6.521244162047776,-5.243090448982102,6.134942254773995,-7.230963018573306,-3.5737110014042495,-9.691042237698781,-6.116486057022927,-18.239390298537817,-1.113660881017688,-15.33774903100912,-19.358753736635812,-9.684514450469168,-7.649835192827066,-21.781224976685355,-6.155249616809376,-32.335949882444346,2.4483807293091813,-6.009180026275239,9.641637489118228,-13.727580283886414,-26.65492054774619,-6.072451129968703,-12.409925067566354,7.430919487642041,12.106846005988412,-1.057526564300188,13.216348096940896,-3.9645679918897625,-12.36929085040167,-6.421799547327925,-11.512827062393564,-6.009598924338763,14.371295111297545,-4.710852163378972,-5.9336869239507095,-15.83541541322167,-21.925840812688467,-10.026483882520337,-27.97412433775826,12.889058911514168,-23.14673617375928,-9.794810196673131,-8.800287849024434,-18.290354534777258,-15.00794604582107,2.7464637667964653,-2.5990722104399833,1.5801671357788267,-10.272666447100013,-10.442143687656063,-17.31220524164687,-10.514764058473874,-15.900840602703086,-8.3041803676631,-15.481997113094732,19.80849050810447,10.213228841954518,-14.945680447354261,-26.729674860003247,7.757589945808796,-13.692480008024134,-8.781172297238996,-3.120289067118178,-4.8064586060508505,-6.479937440080651,-8.66996932719686,19.71879037434452,0.2980592129215409,-28.730399082947724,-20.041429100349458,-24.723000499590807,2.714326630734583,7.042425142044701,11.32316028781522,-9.905412842235801,-5.522646331863817,8.472219390870041,1.2772642898954318,-1.4045171429724659,13.044154555149785,1.121114927541591,-27.81515002987438,-9.298441605804193,9.547639421003923,-13.801364831989112,-7.802751935448678,-15.86943509161068,8.029851324729094,-8.716195924687328,-11.29323497022658,4.189548411468332,-19.14282881210339,-0.03186343551720632,-2.239706633655269,1.123488413883536,6.75865458916688,-8.417536394576285,6.722807604574605,-8.64164362750783,17.045660540500602,-0.6155928695010954,0.9195860122419011,10.184422577487465,-20.10474158223749,-24.38217906944396,4.038069749357149,3.010172856430113,-26.507657662755893,9.02610047462044,8.758222681221119,-12.828314314260567,-18.624995539408822,-2.130532215601643,-14.805135934073146,-2.956922835136184,9.700052675450193,7.983670444544543,19.803566362656262,11.598639619784096,0.12191627397795696,-13.643468091209144,8.064265817517066,18.231799287122563,1.68904937973901,-10.872061081494293,-8.574569540003688,-25.060227651878485,13.85342616270615,14.877248964130121,3.69149647852556,-8.58018305078606,-26.475351064826143,24.96415522654273,-1.7390312268440429,-2.089836185734515,-6.906108016356329,0.045100793597174615,-5.0168519959412405,3.2555394376402838,-22.27895578805927,11.037663747664586,6.753916765990264,-1.829778355667305,-2.514049745107733,2.9949810374858536,-2.9593446938149457,-4.312655330391344,-23.051832014287186,16.459968824299217,0.9213962376554701,4.789725065237752,-16.548293736246848,3.658876317625102,-1.2138081394133688,-19.090104810505238,-3.4828351174681575,5.643493721143437,23.562511252284118,1.4972882892335513,-7.224210545038756,-20.76445717328982,6.59623026684286,-2.003511256130183,10.542534279405173,8.122752649620828,7.793651976912265,14.907841511956114,-1.9175336158198757,-10.837028492981437,17.085740857688606,1.2963794633337389,-22.370526253297314,-11.13887695338513,-10.664701622770568,-8.2854508500434,-12.121984933515213,11.192223750367534,17.826121991679276,-6.126137953794979,-17.729223411950198,9.024803416768162,4.385233486346292,-10.138095944104666,0.016172610955818425,-11.970163567907994,-9.144227108124294,-13.224763884349152,14.194875697751138,-19.25250950334994,-13.31667256698012,-15.617626488101253,-12.659162313871184,-2.9121013014472124,4.766333008703,-12.515522879328605,-9.607055959777215,10.619692604308561,-10.072323312209631,-18.195527210836012,9.972842436377201,-1.2782743323476893,2.9143215759227448,7.525649101552913,-24.766349465475336,-22.375124068677152,13.498388967646658,-2.103159082977881,-12.015055000164777,3.9729141571951456,20.10551779198094,-10.175792582717891,28.817229690127917,-0.8717295137664748,3.9887383975272073,-27.55687816655535,-10.60538293969583,13.259053178140324,-5.515118332003938,-6.315219890889825,-21.2601108277781,-4.002070152428999,-10.111545308160531,-4.102175767292844,-5.145332782393261,-5.841848496054024,0.7959049007725483,-3.2158436269834767,24.443627936387767,-8.940088854832549,-7.301213838052828,-8.954457128519563,-10.614425458493418,7.178490945452086,-13.908520622783012,-5.120638687977737,-0.824406218271315,-13.74314939812038,-29.88895359122313,-1.55391420971649,-5.0497745770265805,-18.6116356069161,4.173230937248861,-18.494792028039566,-12.46707186496686,15.675044300864206,-23.878594590528273,-22.717814635482064,-8.829800244571109,-6.14283441458319,-10.794903060275983,-11.293085242977904,-9.032034696011037,-8.033571855965592,-20.63071986246041,-2.2206440893290655,6.751922916196184,8.815088238904778,-0.5526998968462858,-1.935800362248236,-16.78174339742659,26.84806909430513,-11.21886748117512,16.248840644204133,2.0514142417096073,22.10626763927421,-10.28890820767223,-22.602916187482673,-3.3469795502884545,-7.062460981751903,-28.92702104385799,-17.173201458624472,-18.15915059403472,-26.625200778101824,-7.87595573548232,2.588922064957398,11.862755549911116,-0.04757830310333757,-5.145024911729215,-13.559491451639326,-18.341976213883793,11.734465533230722,-14.234946757930476,-16.80189849446731,-10.999980209210209,-2.153278219214543,-25.17256887554829,4.236816670352485,13.94098634567798,-18.74022245369874,6.156184231624055,28.996896663138184,-13.808561536031759,8.326065803395394,22.41745303466418,-0.5683772092564854,5.443241516047809,-7.79630121501183,-10.314655383825077,6.890419416711592,3.1895006704482793,-13.118147371112554,14.022397683464359,12.908416142435293,-19.46258348724409,25.047229035735807,-1.748366516165572,16.303027553042142,-6.111221595009147,-9.306142310249381,19.405113197214483,-30.374642518821535,-13.338095692529931,-5.179172730179424,-17.928411825246634,-3.28939656445352,-12.11874430654417,-0.7081309510654098,-15.12465350259037,7.473949981391072,2.9689384230260023,8.970716013478665,23.36089912710693,-3.5892633385283665,11.799635370487298,-9.467027711654563,-12.576450093729878,-11.856166939562996,8.47236626014074,-8.827191473171776,-6.809607918058392,1.5238997454340961,2.2061150677575485,16.764894406461828,-3.780521799679267,-3.362087731761429,-28.771115752607827,-6.9254608591621425,19.91249155392552,-7.246880144399902,8.48610704978974,7.527440292513658,-3.0757521107029544,-4.475130177065006,-15.000375453469207,-0.4647952042613502,-11.705644850550653,0.6989973562047138,-18.557937253780313,0.39568511592482697,-0.26991295744681276,-8.814515645904816,-7.433805036925091,12.863437306244435,-18.559587601361596,0.8731104393502741,-0.3487871299114113,-14.848694351668973,4.552247312784492,-12.403248579525219,-24.25987748031724,-12.021037284146868,7.085085241478328,16.77311174023626,-10.299303420789562,-7.1092847418557925,-20.182478203082052,3.610057165381399,-15.855483061063792,-9.127357100636178,-20.63031117234686,10.81425792973299,-8.08136770017136,16.660897282207404,-9.98060169927509,25.081641568645313,11.50850877780577,-22.00423106833904,8.510949489593523,-16.542626567924316,-4.078140442828283,6.479852591238377,8.653438027403658,-9.197243022853112,-20.543730929757984,7.848239153070243,9.500349262044386,14.49504319797311,6.102109747225123,7.357634235226164,-16.42214082678468,-18.825039802568675,-8.145953918887448,-13.858238277887923,-9.61763619322957,-22.170708777774085,3.344832531963075,21.251563138097417,4.894245934530012,13.813387915590535,4.932423909327059,-8.232324962241172,-8.510585144920071,-0.37271120169112604,-10.393573199546726,-6.798988737963269,-15.951684188617845,8.619299230324675,-2.9776946064808865,-4.602777631771459,-10.880341426371329,-11.18491889981725,-9.867727382204981,11.594950285040259,16.951277634712614,-10.196003236782836,-10.727142654225705,-6.3798141712446315,-10.392339171114461,-11.359572137384811,-22.541767428804334,-14.12361137416817,-7.208763422472928,-17.137580119715047,-1.7269417530206694,-15.160383632270047,-11.424191152368772,-8.295073711685081,-1.4491905227894588,-3.0624654461947647,2.366967748707276,-15.39499285961305,-27.132269825141478,-32.04644036491526,-11.400542075956565,-9.702780992450473,19.140909414704865,18.940021705945206,2.304961049898721,-6.726375650970248,-31.396753876607363,6.640983682904551,21.69658814299685,-31.066977818568652,3.6542232244583297,-4.019607913194786,14.280582457877022,18.914982829755843,-1.5688981663579515,10.021401475922644,5.19400616549495,-18.687563047094823,15.05126023893671,-13.872949326679281,14.16270373803016,15.102965686268414,-10.628953465856869,26.056123096832646,-13.413255040853299,12.083301434549039,-7.791847644748012,-13.583607173817416,-13.850313349761386,-8.784382414939952,-14.157636746805194,-13.597797544998292,13.285424424657807,13.832377881827085,2.014200692246805,17.68134149375863,-17.72735997675242,-5.78516529029932,-24.24387602499378,17.97814507027326,10.341560304495577,-3.062691407434028,15.299166948391417,-20.116375724571004,29.269067260264123,-5.1160378918065215,-20.56288188176351,-14.706868492999918,0.5474554413797825,-7.903977481143465,15.614539543176015,-5.728646861109965,-14.817515522961207,18.034744093279773,-27.61258724558587,-17.861610027641408,-12.451323526278747,9.905953696873413,-17.36224287495423,17.743470676658323]}},\"id\":\"fab99eb4-853b-4d33-9abc-9b38ccc7901b\",\"type\":\"ColumnDataSource\"},{\"attributes\":{\"bottom_units\":\"screen\",\"fill_alpha\":{\"value\":0.5},\"fill_color\":{\"value\":\"lightgrey\"},\"left_units\":\"screen\",\"level\":\"overlay\",\"line_alpha\":{\"value\":1.0},\"line_color\":{\"value\":\"black\"},\"line_dash\":[4,4],\"line_width\":{\"value\":2},\"plot\":null,\"render_mode\":\"css\",\"right_units\":\"screen\",\"top_units\":\"screen\"},\"id\":\"60d338e0-6fc6-45c8-bbf5-d1bcf19cad90\",\"type\":\"BoxAnnotation\"},{\"attributes\":{\"plot\":{\"id\":\"0ccdf382-6878-40c8-9b08-48f4b7ccff01\",\"subtype\":\"Figure\",\"type\":\"Plot\"}},\"id\":\"be443bf7-3df3-4435-b207-c24845a5585a\",\"type\":\"ResetTool\"},{\"attributes\":{\"plot\":{\"id\":\"0ccdf382-6878-40c8-9b08-48f4b7ccff01\",\"subtype\":\"Figure\",\"type\":\"Plot\"},\"ticker\":{\"id\":\"fe4a6ea1-1506-4be7-aaa3-bee192d2a215\",\"type\":\"BasicTicker\"}},\"id\":\"2bc4739d-320b-4568-8a08-f0dac6ca2f70\",\"type\":\"Grid\"},{\"attributes\":{\"fill_alpha\":{\"value\":0.1},\"fill_color\":{\"value\":\"#1f77b4\"},\"line_alpha\":{\"value\":0.1},\"line_color\":{\"value\":\"#1f77b4\"},\"size\":{\"units\":\"screen\",\"value\":10},\"x\":{\"field\":\"x\"},\"y\":{\"field\":\"y\"}},\"id\":\"96678235-2a9d-4c95-bd0b-d3d62a251ef7\",\"type\":\"Circle\"},{\"attributes\":{},\"id\":\"1f4fafd9-35d4-4e2e-a4e9-142a4fc24cf8\",\"type\":\"BasicTicker\"},{\"attributes\":{\"plot\":{\"id\":\"0ccdf382-6878-40c8-9b08-48f4b7ccff01\",\"subtype\":\"Figure\",\"type\":\"Plot\"}},\"id\":\"ac9fb065-15b4-4aea-877b-f09bcf0ac7cf\",\"type\":\"WheelZoomTool\"},{\"attributes\":{\"dimension\":1,\"plot\":{\"id\":\"0ccdf382-6878-40c8-9b08-48f4b7ccff01\",\"subtype\":\"Figure\",\"type\":\"Plot\"},\"ticker\":{\"id\":\"1f4fafd9-35d4-4e2e-a4e9-142a4fc24cf8\",\"type\":\"BasicTicker\"}},\"id\":\"0c30c9d3-7614-48e6-bdc2-6de86ae616ab\",\"type\":\"Grid\"},{\"attributes\":{\"formatter\":{\"id\":\"68c4e167-540f-4846-aaf8-e7046dc7b8f2\",\"type\":\"BasicTickFormatter\"},\"plot\":{\"id\":\"0ccdf382-6878-40c8-9b08-48f4b7ccff01\",\"subtype\":\"Figure\",\"type\":\"Plot\"},\"ticker\":{\"id\":\"1f4fafd9-35d4-4e2e-a4e9-142a4fc24cf8\",\"type\":\"BasicTicker\"}},\"id\":\"a2220af9-8b78-4054-a459-91fee433a898\",\"type\":\"LinearAxis\"},{\"attributes\":{\"below\":[{\"id\":\"68e6002d-0b60-4a8e-b97d-19252fc2e042\",\"type\":\"LinearAxis\"}],\"left\":[{\"id\":\"a2220af9-8b78-4054-a459-91fee433a898\",\"type\":\"LinearAxis\"}],\"renderers\":[{\"id\":\"68e6002d-0b60-4a8e-b97d-19252fc2e042\",\"type\":\"LinearAxis\"},{\"id\":\"2bc4739d-320b-4568-8a08-f0dac6ca2f70\",\"type\":\"Grid\"},{\"id\":\"a2220af9-8b78-4054-a459-91fee433a898\",\"type\":\"LinearAxis\"},{\"id\":\"0c30c9d3-7614-48e6-bdc2-6de86ae616ab\",\"type\":\"Grid\"},{\"id\":\"60d338e0-6fc6-45c8-bbf5-d1bcf19cad90\",\"type\":\"BoxAnnotation\"},{\"id\":\"18975a35-0c12-410e-a66b-619d840cd276\",\"type\":\"GlyphRenderer\"},{\"id\":\"497ce12b-8b59-486c-8d5f-cf56ec5878f6\",\"type\":\"GlyphRenderer\"}],\"title\":{\"id\":\"8260708a-f4c9-4982-8566-c9caeb52e44e\",\"type\":\"Title\"},\"tool_events\":{\"id\":\"efbcd9a2-8699-41fb-8279-1b88ba8ad0e4\",\"type\":\"ToolEvents\"},\"toolbar\":{\"id\":\"07064398-0619-41ae-bd57-24e9ff84d3b7\",\"type\":\"Toolbar\"},\"x_range\":{\"id\":\"5d71f687-84e5-44a5-a17a-a9b6ec086696\",\"type\":\"DataRange1d\"},\"y_range\":{\"id\":\"4cc7b43a-3f1a-44ab-925d-cdc80585745f\",\"type\":\"DataRange1d\"}},\"id\":\"0ccdf382-6878-40c8-9b08-48f4b7ccff01\",\"subtype\":\"Figure\",\"type\":\"Plot\"},{\"attributes\":{\"plot\":{\"id\":\"0ccdf382-6878-40c8-9b08-48f4b7ccff01\",\"subtype\":\"Figure\",\"type\":\"Plot\"}},\"id\":\"6b48013d-ee36-4bef-a87c-51bdb8b99ae8\",\"type\":\"PanTool\"},{\"attributes\":{},\"id\":\"93e36352-ef3e-446e-801c-29b8742792be\",\"type\":\"BasicTickFormatter\"},{\"attributes\":{},\"id\":\"efbcd9a2-8699-41fb-8279-1b88ba8ad0e4\",\"type\":\"ToolEvents\"},{\"attributes\":{\"overlay\":{\"id\":\"60d338e0-6fc6-45c8-bbf5-d1bcf19cad90\",\"type\":\"BoxAnnotation\"},\"plot\":{\"id\":\"0ccdf382-6878-40c8-9b08-48f4b7ccff01\",\"subtype\":\"Figure\",\"type\":\"Plot\"}},\"id\":\"a0ea13e3-51c1-4371-9e83-52329fd48025\",\"type\":\"BoxZoomTool\"},{\"attributes\":{\"fill_alpha\":{\"value\":0.2},\"fill_color\":{\"value\":\"navy\"},\"line_color\":{\"value\":\"navy\"},\"size\":{\"units\":\"screen\",\"value\":10},\"x\":{\"field\":\"x\"},\"y\":{\"field\":\"y\"}},\"id\":\"624dff61-875e-4f77-a831-8f9ab72a640b\",\"type\":\"Circle\"},{\"attributes\":{\"formatter\":{\"id\":\"93e36352-ef3e-446e-801c-29b8742792be\",\"type\":\"BasicTickFormatter\"},\"plot\":{\"id\":\"0ccdf382-6878-40c8-9b08-48f4b7ccff01\",\"subtype\":\"Figure\",\"type\":\"Plot\"},\"ticker\":{\"id\":\"fe4a6ea1-1506-4be7-aaa3-bee192d2a215\",\"type\":\"BasicTicker\"}},\"id\":\"68e6002d-0b60-4a8e-b97d-19252fc2e042\",\"type\":\"LinearAxis\"},{\"attributes\":{\"data_source\":{\"id\":\"368b0141-788b-4e59-bdea-1c1dfdb2d84c\",\"type\":\"ColumnDataSource\"},\"glyph\":{\"id\":\"624dff61-875e-4f77-a831-8f9ab72a640b\",\"type\":\"Circle\"},\"hover_glyph\":null,\"nonselection_glyph\":{\"id\":\"96678235-2a9d-4c95-bd0b-d3d62a251ef7\",\"type\":\"Circle\"},\"selection_glyph\":null},\"id\":\"18975a35-0c12-410e-a66b-619d840cd276\",\"type\":\"GlyphRenderer\"},{\"attributes\":{\"fill_alpha\":{\"value\":0.1},\"fill_color\":{\"value\":\"#1f77b4\"},\"line_alpha\":{\"value\":0.1},\"line_color\":{\"value\":\"#1f77b4\"},\"size\":{\"units\":\"screen\",\"value\":10},\"x\":{\"field\":\"x\"},\"y\":{\"field\":\"y\"}},\"id\":\"54c20bd7-4252-4b6a-8515-fd0f2a0b4cfc\",\"type\":\"Circle\"},{\"attributes\":{\"active_drag\":\"auto\",\"active_scroll\":\"auto\",\"active_tap\":\"auto\",\"tools\":[{\"id\":\"949a9ee8-5316-412d-b795-9c9c29c24ed0\",\"type\":\"HoverTool\"},{\"id\":\"6b48013d-ee36-4bef-a87c-51bdb8b99ae8\",\"type\":\"PanTool\"},{\"id\":\"ac9fb065-15b4-4aea-877b-f09bcf0ac7cf\",\"type\":\"WheelZoomTool\"},{\"id\":\"a0ea13e3-51c1-4371-9e83-52329fd48025\",\"type\":\"BoxZoomTool\"},{\"id\":\"be443bf7-3df3-4435-b207-c24845a5585a\",\"type\":\"ResetTool\"},{\"id\":\"91bf6590-ec58-4b7d-8c0e-310342486e54\",\"type\":\"SaveTool\"}]},\"id\":\"07064398-0619-41ae-bd57-24e9ff84d3b7\",\"type\":\"Toolbar\"},{\"attributes\":{\"plot\":null,\"text\":\"Word visualization\"},\"id\":\"8260708a-f4c9-4982-8566-c9caeb52e44e\",\"type\":\"Title\"},{\"attributes\":{\"data_source\":{\"id\":\"fab99eb4-853b-4d33-9abc-9b38ccc7901b\",\"type\":\"ColumnDataSource\"},\"glyph\":{\"id\":\"8ca92627-db13-4569-9f46-9575392488fa\",\"type\":\"Circle\"},\"hover_glyph\":null,\"nonselection_glyph\":{\"id\":\"54c20bd7-4252-4b6a-8515-fd0f2a0b4cfc\",\"type\":\"Circle\"},\"selection_glyph\":null},\"id\":\"497ce12b-8b59-486c-8d5f-cf56ec5878f6\",\"type\":\"GlyphRenderer\"},{\"attributes\":{\"callback\":null,\"plot\":{\"id\":\"0ccdf382-6878-40c8-9b08-48f4b7ccff01\",\"subtype\":\"Figure\",\"type\":\"Plot\"},\"tooltips\":[[\"words_bros\",\"@words_bros\"],[\"words_sis\",\"@words_sis\"]]},\"id\":\"949a9ee8-5316-412d-b795-9c9c29c24ed0\",\"type\":\"HoverTool\"},{\"attributes\":{},\"id\":\"fe4a6ea1-1506-4be7-aaa3-bee192d2a215\",\"type\":\"BasicTicker\"},{\"attributes\":{\"plot\":{\"id\":\"0ccdf382-6878-40c8-9b08-48f4b7ccff01\",\"subtype\":\"Figure\",\"type\":\"Plot\"}},\"id\":\"91bf6590-ec58-4b7d-8c0e-310342486e54\",\"type\":\"SaveTool\"},{\"attributes\":{\"callback\":null},\"id\":\"4cc7b43a-3f1a-44ab-925d-cdc80585745f\",\"type\":\"DataRange1d\"}],\"root_ids\":[\"0ccdf382-6878-40c8-9b08-48f4b7ccff01\"]},\"title\":\"Bokeh Application\",\"version\":\"0.12.0\"}};\n",
       "            var render_items = [{\"docid\":\"01bc23d2-0266-49a2-82a4-d13f7d838eda\",\"elementid\":\"3021a8e7-187f-45cc-ae32-321b214f6fad\",\"modelid\":\"0ccdf382-6878-40c8-9b08-48f4b7ccff01\",\"notebook_comms_target\":\"edee0b2c-0b3a-42d5-b9d0-0c353a99ea1b\"}];\n",
       "            \n",
       "            Bokeh.embed.embed_items(docs_json, render_items);\n",
       "        });\n",
       "      },\n",
       "      function(Bokeh) {\n",
       "      }\n",
       "    ];\n",
       "  \n",
       "    function run_inline_js() {\n",
       "      for (var i = 0; i < inline_js.length; i++) {\n",
       "        inline_js[i](window.Bokeh);\n",
       "      }\n",
       "    }\n",
       "  \n",
       "    if (window._bokeh_is_loading === 0) {\n",
       "      console.log(\"Bokeh: BokehJS loaded, going straight to plotting\");\n",
       "      run_inline_js();\n",
       "    } else {\n",
       "      load_libs(js_urls, function() {\n",
       "        console.log(\"Bokeh: BokehJS plotting callback run at\", now());\n",
       "        run_inline_js();\n",
       "      });\n",
       "    }\n",
       "  }(this));\n",
       "</script>"
      ]
     },
     "metadata": {},
     "output_type": "display_data"
    }
   ],
   "source": [
    "_ = plot_tsne(model, 1000)"
   ]
  },
  {
   "cell_type": "code",
   "execution_count": 63,
   "metadata": {
    "collapsed": false
   },
   "outputs": [
    {
     "data": {
      "text/plain": [
       "[('a', 0.9998871088027954),\n",
       " (',', 0.9998788237571716),\n",
       " ('of', 0.9998779296875),\n",
       " ('.', 0.9998756647109985),\n",
       " ('and', 0.9998719692230225),\n",
       " ('the', 0.9998714923858643),\n",
       " ('to', 0.9998636841773987),\n",
       " ('on', 0.999862551689148),\n",
       " ('about', 0.9998599290847778),\n",
       " ('is', 0.9998557567596436)]"
      ]
     },
     "execution_count": 63,
     "metadata": {},
     "output_type": "execute_result"
    }
   ],
   "source": [
    "model.most_similar(\"python\")"
   ]
  },
  {
   "cell_type": "code",
   "execution_count": 64,
   "metadata": {
    "collapsed": false
   },
   "outputs": [],
   "source": [
    "X_train_word2vec = get_embeddings(X_train_tokenized, model, 100)\n",
    "X_test_word2vec = get_embeddings(X_test_tokenized, model, 100)"
   ]
  },
  {
   "cell_type": "markdown",
   "metadata": {},
   "source": [
    "##  5.  Now fight! "
   ]
  },
  {
   "cell_type": "code",
   "execution_count": 65,
   "metadata": {
    "collapsed": false
   },
   "outputs": [],
   "source": [
    "from sklearn import svm\n",
    "from sklearn.metrics import classification_report, roc_curve, auc"
   ]
  },
  {
   "cell_type": "code",
   "execution_count": 66,
   "metadata": {
    "collapsed": false
   },
   "outputs": [
    {
     "name": "stdout",
     "output_type": "stream",
     "text": [
      "             precision    recall  f1-score   support\n",
      "\n",
      "       Bros       0.00      0.00      0.00       411\n",
      "        Sis       0.49      1.00      0.65       389\n",
      "\n",
      "avg / total       0.24      0.48      0.32       800\n",
      "\n"
     ]
    }
   ],
   "source": [
    "clf = svm.SVC()\n",
    "clf.fit(BOW_train, y_train)  \n",
    "predicction_BOW = clf.predict(BOW_test)\n",
    "target_names = ['Bros', 'Sis']\n",
    "print(classification_report(y_test, predicction_BOW,  target_names=target_names))"
   ]
  },
  {
   "cell_type": "code",
   "execution_count": 67,
   "metadata": {
    "collapsed": false
   },
   "outputs": [
    {
     "name": "stdout",
     "output_type": "stream",
     "text": [
      "             precision    recall  f1-score   support\n",
      "\n",
      "       Bros       0.66      0.60      0.62       411\n",
      "        Sis       0.61      0.67      0.64       389\n",
      "\n",
      "avg / total       0.63      0.63      0.63       800\n",
      "\n"
     ]
    }
   ],
   "source": [
    "clf = svm.SVC()\n",
    "clf.fit(X_train_GloVe, y_train)\n",
    "predicction_GloVe = clf.predict(X_test_GloVe)\n",
    "print(classification_report(y_test, predicction_GloVe,  target_names=target_names))"
   ]
  },
  {
   "cell_type": "code",
   "execution_count": 68,
   "metadata": {
    "collapsed": false
   },
   "outputs": [
    {
     "name": "stdout",
     "output_type": "stream",
     "text": [
      "             precision    recall  f1-score   support\n",
      "\n",
      "       Bros       0.00      0.00      0.00       411\n",
      "        Sis       0.49      1.00      0.65       389\n",
      "\n",
      "avg / total       0.24      0.49      0.32       800\n",
      "\n"
     ]
    },
    {
     "name": "stderr",
     "output_type": "stream",
     "text": [
      "/home/mgimenez/Dev/tools/miniconda3/envs/coolkids/lib/python3.4/site-packages/sklearn/metrics/classification.py:1074: UndefinedMetricWarning: Precision and F-score are ill-defined and being set to 0.0 in labels with no predicted samples.\n",
      "  'precision', 'predicted', average, warn_for)\n"
     ]
    }
   ],
   "source": [
    "clf = svm.SVC()\n",
    "clf.fit(X_train_word2vec, y_train)\n",
    "predicction_word2vec = clf.predict(X_test_word2vec)\n",
    "print(classification_report(y_test, predicction_word2vec,  target_names=target_names))"
   ]
  },
  {
   "cell_type": "code",
   "execution_count": 69,
   "metadata": {
    "collapsed": false
   },
   "outputs": [],
   "source": [
    "false_positive_rate_bow, true_positive_rate_bow, _ = roc_curve(y_test, predicction_BOW)\n",
    "roc_auc_bow = auc(false_positive_rate_bow, true_positive_rate_bow)\n",
    "\n",
    "false_positive_rate_glove, true_positive_rate_glove, _ = roc_curve(y_test, predicction_GloVe)\n",
    "roc_auc_glove = auc(false_positive_rate_glove, true_positive_rate_glove)\n",
    "\n",
    "false_positive_rate_w2v, true_positive_rate_w2v, _ = roc_curve(y_test, predicction_word2vec)\n",
    "roc_auc_w2v = auc(false_positive_rate_w2v, true_positive_rate_w2v)"
   ]
  },
  {
   "cell_type": "code",
   "execution_count": 70,
   "metadata": {
    "collapsed": false
   },
   "outputs": [
    {
     "data": {
      "text/html": [
       "\n",
       "\n",
       "    <div class=\"bk-root\">\n",
       "        <div class=\"plotdiv\" id=\"58ce7f01-b7f5-4b0a-afbb-3845aa0d4076\"></div>\n",
       "    </div>\n",
       "<script type=\"text/javascript\">\n",
       "  \n",
       "  (function(global) {\n",
       "    function now() {\n",
       "      return new Date();\n",
       "    }\n",
       "  \n",
       "    if (typeof (window._bokeh_onload_callbacks) === \"undefined\") {\n",
       "      window._bokeh_onload_callbacks = [];\n",
       "    }\n",
       "  \n",
       "    function run_callbacks() {\n",
       "      window._bokeh_onload_callbacks.forEach(function(callback) { callback() });\n",
       "      delete window._bokeh_onload_callbacks\n",
       "      console.info(\"Bokeh: all callbacks have finished\");\n",
       "    }\n",
       "  \n",
       "    function load_libs(js_urls, callback) {\n",
       "      window._bokeh_onload_callbacks.push(callback);\n",
       "      if (window._bokeh_is_loading > 0) {\n",
       "        console.log(\"Bokeh: BokehJS is being loaded, scheduling callback at\", now());\n",
       "        return null;\n",
       "      }\n",
       "      if (js_urls == null || js_urls.length === 0) {\n",
       "        run_callbacks();\n",
       "        return null;\n",
       "      }\n",
       "      console.log(\"Bokeh: BokehJS not loaded, scheduling load and callback at\", now());\n",
       "      window._bokeh_is_loading = js_urls.length;\n",
       "      for (var i = 0; i < js_urls.length; i++) {\n",
       "        var url = js_urls[i];\n",
       "        var s = document.createElement('script');\n",
       "        s.src = url;\n",
       "        s.async = false;\n",
       "        s.onreadystatechange = s.onload = function() {\n",
       "          window._bokeh_is_loading--;\n",
       "          if (window._bokeh_is_loading === 0) {\n",
       "            console.log(\"Bokeh: all BokehJS libraries loaded\");\n",
       "            run_callbacks()\n",
       "          }\n",
       "        };\n",
       "        s.onerror = function() {\n",
       "          console.warn(\"failed to load library \" + url);\n",
       "        };\n",
       "        console.log(\"Bokeh: injecting script tag for BokehJS library: \", url);\n",
       "        document.getElementsByTagName(\"head\")[0].appendChild(s);\n",
       "      }\n",
       "    };var element = document.getElementById(\"58ce7f01-b7f5-4b0a-afbb-3845aa0d4076\");\n",
       "    if (element == null) {\n",
       "      console.log(\"Bokeh: ERROR: autoload.js configured with elementid '58ce7f01-b7f5-4b0a-afbb-3845aa0d4076' but no matching script tag was found. \")\n",
       "      return false;\n",
       "    }\n",
       "  \n",
       "    var js_urls = [];\n",
       "  \n",
       "    var inline_js = [\n",
       "      function(Bokeh) {\n",
       "        Bokeh.$(function() {\n",
       "            var docs_json = {\"763e86fd-c8cf-4544-b7bb-1e57d356e106\":{\"roots\":{\"references\":[{\"attributes\":{\"line_alpha\":{\"value\":0.1},\"line_color\":{\"value\":\"#1f77b4\"},\"line_width\":{\"value\":2},\"x\":{\"field\":\"x\"},\"y\":{\"field\":\"y\"}},\"id\":\"1f87fd4c-fc5c-4d8b-ad82-866fb514b182\",\"type\":\"Line\"},{\"attributes\":{\"callback\":null},\"id\":\"6aca89dd-cdf1-4fc0-8289-7792fb220c52\",\"type\":\"DataRange1d\"},{\"attributes\":{\"legends\":[[\"BoW ROC curve (area = 0.50)\",[{\"id\":\"2aa4d262-5fa3-48b8-877f-7d8830a6f753\",\"type\":\"GlyphRenderer\"}]],[\"GloVE ROC curve (area = 0.63)\",[{\"id\":\"6ea98050-9215-46ba-9fc3-fecbbd7c472b\",\"type\":\"GlyphRenderer\"}]],[\"W2V ROC curve (area = 0.50)\",[{\"id\":\"fa1502bd-7406-4a03-a1ff-1146e22bf4ed\",\"type\":\"GlyphRenderer\"}]],[\"Guessing\",[{\"id\":\"9ffd101b-8b9c-4dd5-894b-14ff82cf1847\",\"type\":\"GlyphRenderer\"}]]],\"location\":\"bottom_right\",\"plot\":{\"id\":\"4ac0a24f-f7b0-48a0-97fc-881c2deeb3ae\",\"subtype\":\"Figure\",\"type\":\"Plot\"}},\"id\":\"59fcee2f-5011-4699-b6c9-fe28566146a3\",\"type\":\"Legend\"},{\"attributes\":{\"below\":[{\"id\":\"ff781a4c-e250-4d85-8e80-e9aab56c1051\",\"type\":\"LinearAxis\"}],\"left\":[{\"id\":\"de4b7abc-b3ec-4aea-8aa8-b82c7a105f89\",\"type\":\"LinearAxis\"}],\"renderers\":[{\"id\":\"ff781a4c-e250-4d85-8e80-e9aab56c1051\",\"type\":\"LinearAxis\"},{\"id\":\"30499ab1-f821-4273-99e0-b1f3552e5f22\",\"type\":\"Grid\"},{\"id\":\"de4b7abc-b3ec-4aea-8aa8-b82c7a105f89\",\"type\":\"LinearAxis\"},{\"id\":\"33db32b1-4347-4154-a8fa-e4c6bd65e89f\",\"type\":\"Grid\"},{\"id\":\"a020636b-2979-46c4-a33a-b20f2ef891fe\",\"type\":\"BoxAnnotation\"},{\"id\":\"59fcee2f-5011-4699-b6c9-fe28566146a3\",\"type\":\"Legend\"},{\"id\":\"2aa4d262-5fa3-48b8-877f-7d8830a6f753\",\"type\":\"GlyphRenderer\"},{\"id\":\"6ea98050-9215-46ba-9fc3-fecbbd7c472b\",\"type\":\"GlyphRenderer\"},{\"id\":\"fa1502bd-7406-4a03-a1ff-1146e22bf4ed\",\"type\":\"GlyphRenderer\"},{\"id\":\"9ffd101b-8b9c-4dd5-894b-14ff82cf1847\",\"type\":\"GlyphRenderer\"}],\"title\":{\"id\":\"b6101509-2bf2-499f-9040-9662ecb2a24a\",\"type\":\"Title\"},\"tool_events\":{\"id\":\"7bf31a7c-f91a-4fef-a566-4f8f9307970d\",\"type\":\"ToolEvents\"},\"toolbar\":{\"id\":\"b5582753-78d0-4b64-93f1-19a52dee3160\",\"type\":\"Toolbar\"},\"x_range\":{\"id\":\"336f7e56-82f8-4d19-b460-458aa36dbb72\",\"type\":\"DataRange1d\"},\"y_range\":{\"id\":\"6aca89dd-cdf1-4fc0-8289-7792fb220c52\",\"type\":\"DataRange1d\"}},\"id\":\"4ac0a24f-f7b0-48a0-97fc-881c2deeb3ae\",\"subtype\":\"Figure\",\"type\":\"Plot\"},{\"attributes\":{},\"id\":\"7bf31a7c-f91a-4fef-a566-4f8f9307970d\",\"type\":\"ToolEvents\"},{\"attributes\":{\"line_alpha\":{\"value\":0.1},\"line_color\":{\"value\":\"#1f77b4\"},\"line_dash\":[4,4],\"line_width\":{\"value\":2},\"x\":{\"field\":\"x\"},\"y\":{\"field\":\"y\"}},\"id\":\"692497f8-f074-400b-a2c4-5d5eb8df3c65\",\"type\":\"Line\"},{\"attributes\":{},\"id\":\"d06ac25c-50b1-4ce6-98bb-abedb5e20195\",\"type\":\"BasicTickFormatter\"},{\"attributes\":{\"line_color\":{\"value\":\"green\"},\"line_width\":{\"value\":2},\"x\":{\"field\":\"x\"},\"y\":{\"field\":\"y\"}},\"id\":\"4f99d3aa-eddc-4360-a4a2-634898ffc958\",\"type\":\"Line\"},{\"attributes\":{\"data_source\":{\"id\":\"871d603b-ff4e-491d-8ca9-30e0c338d2d8\",\"type\":\"ColumnDataSource\"},\"glyph\":{\"id\":\"3bed2ed0-ba5e-4a4d-84c4-42e4df1df988\",\"type\":\"Line\"},\"hover_glyph\":null,\"nonselection_glyph\":{\"id\":\"1f87fd4c-fc5c-4d8b-ad82-866fb514b182\",\"type\":\"Line\"},\"selection_glyph\":null},\"id\":\"fa1502bd-7406-4a03-a1ff-1146e22bf4ed\",\"type\":\"GlyphRenderer\"},{\"attributes\":{\"data_source\":{\"id\":\"bf4ab0c5-d3c8-46d8-9a62-5e73bcb7b769\",\"type\":\"ColumnDataSource\"},\"glyph\":{\"id\":\"a6107e72-0168-491e-bf4e-ba55b28131a1\",\"type\":\"Line\"},\"hover_glyph\":null,\"nonselection_glyph\":{\"id\":\"692497f8-f074-400b-a2c4-5d5eb8df3c65\",\"type\":\"Line\"},\"selection_glyph\":null},\"id\":\"9ffd101b-8b9c-4dd5-894b-14ff82cf1847\",\"type\":\"GlyphRenderer\"},{\"attributes\":{\"plot\":{\"id\":\"4ac0a24f-f7b0-48a0-97fc-881c2deeb3ae\",\"subtype\":\"Figure\",\"type\":\"Plot\"}},\"id\":\"83be0da0-fa1d-4bcd-95e4-e6e360f00ee5\",\"type\":\"SaveTool\"},{\"attributes\":{\"dimension\":1,\"plot\":{\"id\":\"4ac0a24f-f7b0-48a0-97fc-881c2deeb3ae\",\"subtype\":\"Figure\",\"type\":\"Plot\"},\"ticker\":{\"id\":\"0329b9a5-a175-470b-8a4c-19559d99dbb8\",\"type\":\"BasicTicker\"}},\"id\":\"33db32b1-4347-4154-a8fa-e4c6bd65e89f\",\"type\":\"Grid\"},{\"attributes\":{},\"id\":\"5a74cef8-4dc8-4d85-bf13-2563a7d90515\",\"type\":\"BasicTicker\"},{\"attributes\":{\"bottom_units\":\"screen\",\"fill_alpha\":{\"value\":0.5},\"fill_color\":{\"value\":\"lightgrey\"},\"left_units\":\"screen\",\"level\":\"overlay\",\"line_alpha\":{\"value\":1.0},\"line_color\":{\"value\":\"black\"},\"line_dash\":[4,4],\"line_width\":{\"value\":2},\"plot\":null,\"render_mode\":\"css\",\"right_units\":\"screen\",\"top_units\":\"screen\"},\"id\":\"a020636b-2979-46c4-a33a-b20f2ef891fe\",\"type\":\"BoxAnnotation\"},{\"attributes\":{\"callback\":null,\"column_names\":[\"x\",\"y\"],\"data\":{\"x\":[0.0,1.0,1.0],\"y\":[0.0,0.9974293059125964,1.0]}},\"id\":\"1c739218-1d0d-4d50-bd1f-3951755dd52e\",\"type\":\"ColumnDataSource\"},{\"attributes\":{\"data_source\":{\"id\":\"1c739218-1d0d-4d50-bd1f-3951755dd52e\",\"type\":\"ColumnDataSource\"},\"glyph\":{\"id\":\"4f99d3aa-eddc-4360-a4a2-634898ffc958\",\"type\":\"Line\"},\"hover_glyph\":null,\"nonselection_glyph\":{\"id\":\"4f41a0a6-d487-430c-bef0-effcb0ed7407\",\"type\":\"Line\"},\"selection_glyph\":null},\"id\":\"2aa4d262-5fa3-48b8-877f-7d8830a6f753\",\"type\":\"GlyphRenderer\"},{\"attributes\":{\"axis_label\":\"True Positive Rate\",\"formatter\":{\"id\":\"10ad6655-e1d6-45cb-b27e-4958fbd099db\",\"type\":\"BasicTickFormatter\"},\"plot\":{\"id\":\"4ac0a24f-f7b0-48a0-97fc-881c2deeb3ae\",\"subtype\":\"Figure\",\"type\":\"Plot\"},\"ticker\":{\"id\":\"0329b9a5-a175-470b-8a4c-19559d99dbb8\",\"type\":\"BasicTicker\"}},\"id\":\"de4b7abc-b3ec-4aea-8aa8-b82c7a105f89\",\"type\":\"LinearAxis\"},{\"attributes\":{\"callback\":null,\"column_names\":[\"x\",\"y\"],\"data\":{\"x\":[0.0,0.40389294403892945,1.0],\"y\":[0.0,0.6709511568123393,1.0]}},\"id\":\"1e90c663-6577-4a35-bb18-9e9ba97a2b74\",\"type\":\"ColumnDataSource\"},{\"attributes\":{\"data_source\":{\"id\":\"1e90c663-6577-4a35-bb18-9e9ba97a2b74\",\"type\":\"ColumnDataSource\"},\"glyph\":{\"id\":\"20041f58-0878-4a46-b329-5238e2cd608b\",\"type\":\"Line\"},\"hover_glyph\":null,\"nonselection_glyph\":{\"id\":\"b76c4237-892c-43fd-9b39-6462f3b45c6b\",\"type\":\"Line\"},\"selection_glyph\":null},\"id\":\"6ea98050-9215-46ba-9fc3-fecbbd7c472b\",\"type\":\"GlyphRenderer\"},{\"attributes\":{\"callback\":null,\"column_names\":[\"x\",\"y\"],\"data\":{\"x\":[0.0,1.0],\"y\":[0.0,1.0]}},\"id\":\"871d603b-ff4e-491d-8ca9-30e0c338d2d8\",\"type\":\"ColumnDataSource\"},{\"attributes\":{\"active_drag\":\"auto\",\"active_scroll\":\"auto\",\"active_tap\":\"auto\",\"tools\":[{\"id\":\"5a264124-0321-4a50-82fa-9acdb2340ad8\",\"type\":\"PanTool\"},{\"id\":\"4c936abc-7d91-4d47-93e8-e1c3b53be71b\",\"type\":\"WheelZoomTool\"},{\"id\":\"b8522f24-e078-43a5-94f2-a3d873d096ed\",\"type\":\"BoxZoomTool\"},{\"id\":\"3dfd5458-4a5c-435a-871c-30b5fecf28fc\",\"type\":\"ResetTool\"},{\"id\":\"83be0da0-fa1d-4bcd-95e4-e6e360f00ee5\",\"type\":\"SaveTool\"}]},\"id\":\"b5582753-78d0-4b64-93f1-19a52dee3160\",\"type\":\"Toolbar\"},{\"attributes\":{\"plot\":{\"id\":\"4ac0a24f-f7b0-48a0-97fc-881c2deeb3ae\",\"subtype\":\"Figure\",\"type\":\"Plot\"}},\"id\":\"4c936abc-7d91-4d47-93e8-e1c3b53be71b\",\"type\":\"WheelZoomTool\"},{\"attributes\":{\"line_color\":{\"value\":\"yellow\"},\"line_width\":{\"value\":2},\"x\":{\"field\":\"x\"},\"y\":{\"field\":\"y\"}},\"id\":\"3bed2ed0-ba5e-4a4d-84c4-42e4df1df988\",\"type\":\"Line\"},{\"attributes\":{\"line_alpha\":{\"value\":0.1},\"line_color\":{\"value\":\"#1f77b4\"},\"line_width\":{\"value\":2},\"x\":{\"field\":\"x\"},\"y\":{\"field\":\"y\"}},\"id\":\"b76c4237-892c-43fd-9b39-6462f3b45c6b\",\"type\":\"Line\"},{\"attributes\":{\"callback\":null,\"column_names\":[\"x\",\"y\"],\"data\":{\"x\":[0.0,1.0],\"y\":[0.0,1.05]}},\"id\":\"bf4ab0c5-d3c8-46d8-9a62-5e73bcb7b769\",\"type\":\"ColumnDataSource\"},{\"attributes\":{\"axis_label\":\"False Positive Rate\",\"formatter\":{\"id\":\"d06ac25c-50b1-4ce6-98bb-abedb5e20195\",\"type\":\"BasicTickFormatter\"},\"plot\":{\"id\":\"4ac0a24f-f7b0-48a0-97fc-881c2deeb3ae\",\"subtype\":\"Figure\",\"type\":\"Plot\"},\"ticker\":{\"id\":\"5a74cef8-4dc8-4d85-bf13-2563a7d90515\",\"type\":\"BasicTicker\"}},\"id\":\"ff781a4c-e250-4d85-8e80-e9aab56c1051\",\"type\":\"LinearAxis\"},{\"attributes\":{},\"id\":\"10ad6655-e1d6-45cb-b27e-4958fbd099db\",\"type\":\"BasicTickFormatter\"},{\"attributes\":{\"line_alpha\":{\"value\":0.1},\"line_color\":{\"value\":\"#1f77b4\"},\"line_width\":{\"value\":2},\"x\":{\"field\":\"x\"},\"y\":{\"field\":\"y\"}},\"id\":\"4f41a0a6-d487-430c-bef0-effcb0ed7407\",\"type\":\"Line\"},{\"attributes\":{\"callback\":null},\"id\":\"336f7e56-82f8-4d19-b460-458aa36dbb72\",\"type\":\"DataRange1d\"},{\"attributes\":{\"plot\":{\"id\":\"4ac0a24f-f7b0-48a0-97fc-881c2deeb3ae\",\"subtype\":\"Figure\",\"type\":\"Plot\"},\"ticker\":{\"id\":\"5a74cef8-4dc8-4d85-bf13-2563a7d90515\",\"type\":\"BasicTicker\"}},\"id\":\"30499ab1-f821-4273-99e0-b1f3552e5f22\",\"type\":\"Grid\"},{\"attributes\":{},\"id\":\"0329b9a5-a175-470b-8a4c-19559d99dbb8\",\"type\":\"BasicTicker\"},{\"attributes\":{\"line_color\":{\"value\":\"gray\"},\"line_dash\":[4,4],\"line_width\":{\"value\":2},\"x\":{\"field\":\"x\"},\"y\":{\"field\":\"y\"}},\"id\":\"a6107e72-0168-491e-bf4e-ba55b28131a1\",\"type\":\"Line\"},{\"attributes\":{\"plot\":null,\"text\":\"Receiver Operating Characteristic\"},\"id\":\"b6101509-2bf2-499f-9040-9662ecb2a24a\",\"type\":\"Title\"},{\"attributes\":{\"plot\":{\"id\":\"4ac0a24f-f7b0-48a0-97fc-881c2deeb3ae\",\"subtype\":\"Figure\",\"type\":\"Plot\"}},\"id\":\"3dfd5458-4a5c-435a-871c-30b5fecf28fc\",\"type\":\"ResetTool\"},{\"attributes\":{\"overlay\":{\"id\":\"a020636b-2979-46c4-a33a-b20f2ef891fe\",\"type\":\"BoxAnnotation\"},\"plot\":{\"id\":\"4ac0a24f-f7b0-48a0-97fc-881c2deeb3ae\",\"subtype\":\"Figure\",\"type\":\"Plot\"}},\"id\":\"b8522f24-e078-43a5-94f2-a3d873d096ed\",\"type\":\"BoxZoomTool\"},{\"attributes\":{\"line_color\":{\"value\":\"blue\"},\"line_width\":{\"value\":2},\"x\":{\"field\":\"x\"},\"y\":{\"field\":\"y\"}},\"id\":\"20041f58-0878-4a46-b329-5238e2cd608b\",\"type\":\"Line\"},{\"attributes\":{\"plot\":{\"id\":\"4ac0a24f-f7b0-48a0-97fc-881c2deeb3ae\",\"subtype\":\"Figure\",\"type\":\"Plot\"}},\"id\":\"5a264124-0321-4a50-82fa-9acdb2340ad8\",\"type\":\"PanTool\"}],\"root_ids\":[\"4ac0a24f-f7b0-48a0-97fc-881c2deeb3ae\"]},\"title\":\"Bokeh Application\",\"version\":\"0.12.0\"}};\n",
       "            var render_items = [{\"docid\":\"763e86fd-c8cf-4544-b7bb-1e57d356e106\",\"elementid\":\"58ce7f01-b7f5-4b0a-afbb-3845aa0d4076\",\"modelid\":\"4ac0a24f-f7b0-48a0-97fc-881c2deeb3ae\",\"notebook_comms_target\":\"da883c22-d239-4307-b630-d86fbd1a8e91\"}];\n",
       "            \n",
       "            Bokeh.embed.embed_items(docs_json, render_items);\n",
       "        });\n",
       "      },\n",
       "      function(Bokeh) {\n",
       "      }\n",
       "    ];\n",
       "  \n",
       "    function run_inline_js() {\n",
       "      for (var i = 0; i < inline_js.length; i++) {\n",
       "        inline_js[i](window.Bokeh);\n",
       "      }\n",
       "    }\n",
       "  \n",
       "    if (window._bokeh_is_loading === 0) {\n",
       "      console.log(\"Bokeh: BokehJS loaded, going straight to plotting\");\n",
       "      run_inline_js();\n",
       "    } else {\n",
       "      load_libs(js_urls, function() {\n",
       "        console.log(\"Bokeh: BokehJS plotting callback run at\", now());\n",
       "        run_inline_js();\n",
       "      });\n",
       "    }\n",
       "  }(this));\n",
       "</script>"
      ]
     },
     "metadata": {},
     "output_type": "display_data"
    },
    {
     "data": {
      "text/html": [
       "<p><code>&lt;Bokeh Notebook handle for <strong>In[70]</strong>&gt;</code></p>"
      ],
      "text/plain": [
       "<bokeh.io._CommsHandle at 0x7f2440339b70>"
      ]
     },
     "execution_count": 70,
     "metadata": {},
     "output_type": "execute_result"
    }
   ],
   "source": [
    "from bokeh.palettes import Spectral6\n",
    "\n",
    "p = figure(title=\"Receiver Operating Characteristic\", tools=TOOLS)\n",
    "\n",
    "\n",
    "p.line(false_positive_rate_bow, true_positive_rate_bow, legend='BoW ROC curve (area = {:.2f})'.format(roc_auc_bow), \n",
    "       line_color=\"green\", line_width=2)\n",
    "p.line(false_positive_rate_glove, true_positive_rate_glove, \n",
    "       legend='GloVE ROC curve (area = {:.2f})'.format(roc_auc_glove), \n",
    "       line_color=\"blue\", line_width=2)\n",
    "p.line(false_positive_rate_w2v, true_positive_rate_w2v, \n",
    "       legend='W2V ROC curve (area = {:.2f})'.format(roc_auc_w2v), \n",
    "       line_color=\"yellow\", line_width=2)\n",
    "\n",
    "\n",
    "p.line([0.0, 1.0], [0.0, 1.05], legend='Guessing', \n",
    "       line_color=\"gray\", line_width=2, line_dash=(4, 4))\n",
    "\n",
    "p.xaxis.axis_label = 'False Positive Rate'\n",
    "p.yaxis.axis_label = 'True Positive Rate'\n",
    "\n",
    "p.legend.location = 'bottom_right'\n",
    "show(p)  "
   ]
  },
  {
   "cell_type": "markdown",
   "metadata": {
    "collapsed": true
   },
   "source": [
    "# 6. Discurssion\n",
    "\n",
    "- Science is NOT broken *some* scientist are.\n",
    "- Understand your algorithms.\n",
    "- If you have guessed that maybe the mean is not the best option for representing sentences you may want to use a Neural Network toolkit try [Layers](https://github.com/RParedesPalacios/Layers).\n",
    "![CNN!](imgs/CNN_357.jpg \"CNN\")\n",
    "\n",
    "- And finally ...\n",
    "![Bitches!](imgs/amy.gif \"Bitches get stuff done\")\n"
   ]
  },
  {
   "cell_type": "markdown",
   "metadata": {
    "collapsed": true
   },
   "source": [
    "# Thank you!\n",
    "Nos vemos en la PyCon ES 2016\n",
    "![Bitches!](imgs/pycones.jpg \"Bitches get stuff done\")"
   ]
  }
 ],
 "metadata": {
  "kernelspec": {
   "display_name": "Python 3",
   "language": "python",
   "name": "python3"
  },
  "language_info": {
   "codemirror_mode": {
    "name": "ipython",
    "version": 3
   },
   "file_extension": ".py",
   "mimetype": "text/x-python",
   "name": "python",
   "nbconvert_exporter": "python",
   "pygments_lexer": "ipython3",
   "version": "3.4.5"
  }
 },
 "nbformat": 4,
 "nbformat_minor": 0
}
