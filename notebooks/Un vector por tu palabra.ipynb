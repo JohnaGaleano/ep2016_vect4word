{
 "cells": [
  {
   "cell_type": "markdown",
   "metadata": {},
   "source": [
    "# ¡Hola!\n",
    "____________________\n",
    "- **Name:** Maite Giménez.\n",
    "- **Who?:** Ph.D. student at Universitat Politècnica de València.\n",
    "- **Twitter:** @maidotgimenez\n",
    "- **Github:** maigimenez\n",
    "\n",
    "\n",
    "\n",
    "![PyladiesES!](imgs/pyladiesES.png \"PyLadies Spain\")\n",
    "\n",
    "## Where are the slides?\n",
    "It's a notebook and it's available here: [Github/maigimenez/ep2016_vect4word](https://github.com/maigimenez/ep2016_vect4word)"
   ]
  },
  {
   "cell_type": "markdown",
   "metadata": {},
   "source": [
    "# Roadmap\n",
    "\n",
    "1. Point 1\n",
    "2. Point 2\n",
    "3. Point 3"
   ]
  },
  {
   "cell_type": "markdown",
   "metadata": {},
   "source": [
    "# 0. Make a plan!\n",
    "\n",
    "![Science!](imgs/neil.gif \"Loving science!\")"
   ]
  },
  {
   "cell_type": "markdown",
   "metadata": {},
   "source": [
    "## 0.1 Gather your data"
   ]
  },
  {
   "cell_type": "code",
   "execution_count": 1,
   "metadata": {
    "collapsed": true
   },
   "outputs": [],
   "source": [
    "from configparser import ConfigParser\n",
    "from os.path import join\n",
    "from os import pardir"
   ]
  },
  {
   "cell_type": "code",
   "execution_count": 2,
   "metadata": {
    "collapsed": false
   },
   "outputs": [],
   "source": [
    "config = ConfigParser()\n",
    "config.read(join(pardir,'src','credentials.ini'))\n",
    "\n",
    "APP_KEY = config['twitter']['app_key']\n",
    "APP_SECRET = config['twitter']['app_secret']\n",
    "OAUTH_TOKEN =  config['twitter']['oauth_token']\n",
    "OAUTH_TOKEN_SECRET =  config['twitter']['oauth_token_secret']"
   ]
  },
  {
   "cell_type": "code",
   "execution_count": null,
   "metadata": {
    "collapsed": false
   },
   "outputs": [],
   "source": [
    "from twitter import oauth, Twitter, TwitterHTTPError"
   ]
  },
  {
   "cell_type": "code",
   "execution_count": null,
   "metadata": {
    "collapsed": true
   },
   "outputs": [],
   "source": [
    "auth = oauth.OAuth(OAUTH_TOKEN, OAUTH_TOKEN_SECRET,\n",
    "                   APP_KEY, APP_SECRET)\n",
    "\n",
    "twitter_api = Twitter(auth=auth)\n",
    "twitter_api.retry = True"
   ]
  },
  {
   "cell_type": "markdown",
   "metadata": {},
   "source": [
    "*Full disclaimer: gender is non a binary issue. This is just a simplified example. If you are willing to expand this experiment, go ahead and contact me!*"
   ]
  },
  {
   "cell_type": "code",
   "execution_count": null,
   "metadata": {
    "collapsed": false
   },
   "outputs": [],
   "source": [
    "brogrammers = ['jakevdp', 'rasbt', 'GaelVaroquaux', 'amuellerml', 'fperez_org', \n",
    "               'fpedregosa', 'ogrisel', 'dontusethiscode', 'randal_olson', 'tdhopper' ] \n",
    "sisgrammers = ['pkafei', 'LorenaABarba', 'jessicamckellar', 'heddle317', 'diana_clarke',\n",
    "               'wholemilk', 'spang', 'cecilycarver', 'juliaelman', 'b0rk']\n",
    "\n",
    "brotweets = []\n",
    "for bro in brogrammers: \n",
    "    brotweets.extend(twitter_api.statuses.user_timeline(screen_name=bro, count=100))\n",
    "\n",
    "sistweets = []\n",
    "for sis in sisgrammers: \n",
    "    sistweets.extend(twitter_api.statuses.user_timeline(screen_name=sis, count=100))"
   ]
  },
  {
   "cell_type": "markdown",
   "metadata": {},
   "source": [
    "## 0.1 Clean your data"
   ]
  },
  {
   "cell_type": "code",
   "execution_count": null,
   "metadata": {
    "collapsed": false
   },
   "outputs": [],
   "source": [
    "import re\n",
    "\n",
    "def clean_tweet(tweet):\n",
    "    \"\"\" Simplest preprocess.\n",
    "\n",
    "    Convert a tweet to lowercarse and replace URLs and @username by a generic token\n",
    "\n",
    "    Args:\n",
    "        tweet (str): Tweet to clean.\n",
    "\n",
    "    Returns:\n",
    "        str: Preprocessed tweet\n",
    "    \"\"\"\n",
    "    \n",
    "    tweet = tweet.lower()\n",
    "    \n",
    "    # Remove URL and replace them with a token\n",
    "    URL_REGEX = r'http[s]?://(?:[a-zA-Z]|[0-9]|[$-_@.&+]|[!*\\(\\),]|(?:%[0-9a-fA-F][0-9a-fA-F]))+'\n",
    "    tweet = re.sub(URL_REGEX, '<url>', tweet, flags=re.MULTILINE)\n",
    "    \n",
    "    # Remove usernames and replace them with a token\n",
    "    tweet = re.sub(\"@([A-Za-z0-9_]+)\", \"<user>\", tweet)\n",
    "\n",
    "    # Remove repeated spaces\n",
    "    tweet = re.sub(r\"\\s{2,}\", \" \", tweet)\n",
    "\n",
    "    # If a character is repeated more than 4 time, keep only 3 repetitions.\n",
    "    tweet = re.sub(r'(.)\\1{4,}', r'\\1\\1\\1', tweet)\n",
    "    \n",
    "    return tweet"
   ]
  },
  {
   "cell_type": "code",
   "execution_count": null,
   "metadata": {
    "collapsed": false
   },
   "outputs": [],
   "source": [
    "import pandas as pd\n",
    "\n",
    "dataset = []\n",
    "# Gather the text \n",
    "for tweet in brotweets:\n",
    "    cleaned_tweet = clean_tweet(tweet['text'])\n",
    "    dataset.append({'id': tweet['id'], 'text': cleaned_tweet, 'class': 0})\n",
    "for tweet in sistweets:\n",
    "    cleaned_tweet = clean_tweet(tweet['text'])\n",
    "    dataset.append({'id': tweet['id'], 'text': cleaned_tweet, 'class': 1})\n",
    "\n",
    "pd_dataset = pd.DataFrame(dataset)"
   ]
  },
  {
   "cell_type": "code",
   "execution_count": null,
   "metadata": {
    "collapsed": false
   },
   "outputs": [],
   "source": [
    "pd_dataset.head()"
   ]
  },
  {
   "cell_type": "markdown",
   "metadata": {},
   "source": [
    "## 0.2. Share your data"
   ]
  },
  {
   "cell_type": "code",
   "execution_count": null,
   "metadata": {
    "collapsed": false
   },
   "outputs": [],
   "source": [
    "pd_dataset.to_csv('../corpora/full_dataset.csv')"
   ]
  },
  {
   "cell_type": "code",
   "execution_count": null,
   "metadata": {
    "collapsed": false
   },
   "outputs": [],
   "source": [
    "pd_dataset[['class', 'id']].to_csv('../corpora/ep16.csv')"
   ]
  },
  {
   "cell_type": "markdown",
   "metadata": {},
   "source": [
    "![Toast!](imgs/toast.gif \"Let's celebrate!\")"
   ]
  },
  {
   "cell_type": "markdown",
   "metadata": {},
   "source": [
    "## 0.3. Study your data"
   ]
  },
  {
   "cell_type": "code",
   "execution_count": 3,
   "metadata": {
    "collapsed": false
   },
   "outputs": [
    {
     "data": {
      "text/html": [
       "<div>\n",
       "<table border=\"1\" class=\"dataframe\">\n",
       "  <thead>\n",
       "    <tr style=\"text-align: right;\">\n",
       "      <th></th>\n",
       "      <th>class</th>\n",
       "      <th>id</th>\n",
       "      <th>text</th>\n",
       "    </tr>\n",
       "  </thead>\n",
       "  <tbody>\n",
       "    <tr>\n",
       "      <th>0</th>\n",
       "      <td>0</td>\n",
       "      <td>752137929871462400</td>\n",
       "      <td>&lt;user&gt; great seeing you today!</td>\n",
       "    </tr>\n",
       "    <tr>\n",
       "      <th>1</th>\n",
       "      <td>0</td>\n",
       "      <td>751510274432131072</td>\n",
       "      <td>\"i just wanted to check that you got my previo...</td>\n",
       "    </tr>\n",
       "    <tr>\n",
       "      <th>2</th>\n",
       "      <td>0</td>\n",
       "      <td>751374701344219136</td>\n",
       "      <td>rt &lt;user&gt;: &lt;user&gt; support for minor bugs may e...</td>\n",
       "    </tr>\n",
       "    <tr>\n",
       "      <th>3</th>\n",
       "      <td>0</td>\n",
       "      <td>751373414435328001</td>\n",
       "      <td>could be controversial, but frankly i think it...</td>\n",
       "    </tr>\n",
       "    <tr>\n",
       "      <th>4</th>\n",
       "      <td>0</td>\n",
       "      <td>751373066987573248</td>\n",
       "      <td>til that &lt;user&gt; plans to drop python 2 support...</td>\n",
       "    </tr>\n",
       "  </tbody>\n",
       "</table>\n",
       "</div>"
      ],
      "text/plain": [
       "   class                  id  \\\n",
       "0      0  752137929871462400   \n",
       "1      0  751510274432131072   \n",
       "2      0  751374701344219136   \n",
       "3      0  751373414435328001   \n",
       "4      0  751373066987573248   \n",
       "\n",
       "                                                text  \n",
       "0                     <user> great seeing you today!  \n",
       "1  \"i just wanted to check that you got my previo...  \n",
       "2  rt <user>: <user> support for minor bugs may e...  \n",
       "3  could be controversial, but frankly i think it...  \n",
       "4  til that <user> plans to drop python 2 support...  "
      ]
     },
     "execution_count": 3,
     "metadata": {},
     "output_type": "execute_result"
    }
   ],
   "source": [
    "import pandas as pd\n",
    "\n",
    "DATASET_PATH = \"../corpora/full_dataset.csv\"\n",
    "pd_dataset = pd.DataFrame.from_csv(DATASET_PATH)\n",
    "pd_dataset.head()"
   ]
  },
  {
   "cell_type": "code",
   "execution_count": 4,
   "metadata": {
    "collapsed": false
   },
   "outputs": [],
   "source": [
    "import nltk.data\n",
    "#nltk.download()   "
   ]
  },
  {
   "cell_type": "code",
   "execution_count": 5,
   "metadata": {
    "collapsed": true
   },
   "outputs": [],
   "source": [
    "from nltk.tokenize import TweetTokenizer, word_tokenize\n",
    "from nltk.corpus import stopwords\n",
    "from collections import Counter\n",
    "import re\n",
    "import scipy.stats as stats"
   ]
  },
  {
   "cell_type": "code",
   "execution_count": 6,
   "metadata": {
    "collapsed": false
   },
   "outputs": [
    {
     "name": "stdout",
     "output_type": "stream",
     "text": [
      "i, me, my, myself, we, our, ours, ourselves, you, your, yours, yourself, yourselves, he, him, his, himself, she, her, hers\n"
     ]
    }
   ],
   "source": [
    "print(', '.join(stopwords.words('english')[:20]))"
   ]
  },
  {
   "cell_type": "code",
   "execution_count": 7,
   "metadata": {
    "collapsed": true
   },
   "outputs": [],
   "source": [
    "def get_vocabulary(corpus, tokenizer):\n",
    "    stop_words = stopwords.words('english')\n",
    "\n",
    "    # Remove puntuation marks\n",
    "    no_punks = [re.sub(r'\\W', ' ', tweet) for tweet in corpus]\n",
    "    \n",
    "    # Tokenize and remove stop words\n",
    "    clean_tokens = []\n",
    "    for tweet in no_punks:\n",
    "        # Replace different numbers with a token\n",
    "        tweet = re.sub(r\"\\.\\d+\\s*\", \".<number> \", tweet)\n",
    "        tweet = re.sub(r\"\\d+\\s*\", \" <number> \", tweet)\n",
    "    \n",
    "        tokens = tokenizer(tweet)\n",
    "        tokens = [token for token in tokens if token not in stop_words]\n",
    "        clean_tokens.extend(tokens)\n",
    "\n",
    "    # Build the vocabulary\n",
    "    return Counter(clean_tokens)"
   ]
  },
  {
   "cell_type": "code",
   "execution_count": 8,
   "metadata": {
    "collapsed": false
   },
   "outputs": [],
   "source": [
    "tknzr = TweetTokenizer()\n",
    "\n",
    "brotweets = pd_dataset[pd_dataset['class'] == 0]['text'].tolist()\n",
    "sistweets = pd_dataset[pd_dataset['class'] == 1]['text'].tolist()\n",
    "\n",
    "brocabulary = get_vocabulary(brotweets, tknzr.tokenize)\n",
    "siscabulary = get_vocabulary(sistweets, tknzr.tokenize)"
   ]
  },
  {
   "cell_type": "code",
   "execution_count": 9,
   "metadata": {
    "collapsed": false
   },
   "outputs": [
    {
     "data": {
      "text/plain": [
       "[('user', 1313),\n",
       " ('url', 676),\n",
       " ('<number>', 483),\n",
       " ('rt', 420),\n",
       " ('python', 96),\n",
       " ('talk', 49),\n",
       " ('learning', 46),\n",
       " ('data', 45),\n",
       " ('new', 43),\n",
       " ('https', 42)]"
      ]
     },
     "execution_count": 9,
     "metadata": {},
     "output_type": "execute_result"
    }
   ],
   "source": [
    "brocabulary.most_common(10)"
   ]
  },
  {
   "cell_type": "code",
   "execution_count": 10,
   "metadata": {
    "collapsed": false
   },
   "outputs": [
    {
     "data": {
      "text/plain": [
       "[('user', 1009),\n",
       " ('url', 419),\n",
       " ('<number>', 337),\n",
       " ('rt', 234),\n",
       " ('pycon', 54),\n",
       " ('sgdq', 40),\n",
       " ('one', 40),\n",
       " ('get', 39),\n",
       " ('like', 37),\n",
       " ('code', 30)]"
      ]
     },
     "execution_count": 10,
     "metadata": {},
     "output_type": "execute_result"
    }
   ],
   "source": [
    "siscabulary.most_common(10)"
   ]
  },
  {
   "cell_type": "code",
   "execution_count": 11,
   "metadata": {
    "collapsed": false
   },
   "outputs": [
    {
     "data": {
      "text/html": [
       "\n",
       "    <div class=\"bk-root\">\n",
       "        <a href=\"http://bokeh.pydata.org\" target=\"_blank\" class=\"bk-logo bk-logo-small bk-logo-notebook\"></a>\n",
       "        <span id=\"f52b9149-e3b3-44c1-a885-6dc5ad277563\">Loading BokehJS ...</span>\n",
       "    </div>"
      ]
     },
     "metadata": {},
     "output_type": "display_data"
    },
    {
     "data": {
      "application/javascript": [
       "\n",
       "(function(global) {\n",
       "  function now() {\n",
       "    return new Date();\n",
       "  }\n",
       "\n",
       "  if (typeof (window._bokeh_onload_callbacks) === \"undefined\") {\n",
       "    window._bokeh_onload_callbacks = [];\n",
       "  }\n",
       "\n",
       "  function run_callbacks() {\n",
       "    window._bokeh_onload_callbacks.forEach(function(callback) { callback() });\n",
       "    delete window._bokeh_onload_callbacks\n",
       "    console.info(\"Bokeh: all callbacks have finished\");\n",
       "  }\n",
       "\n",
       "  function load_libs(js_urls, callback) {\n",
       "    window._bokeh_onload_callbacks.push(callback);\n",
       "    if (window._bokeh_is_loading > 0) {\n",
       "      console.log(\"Bokeh: BokehJS is being loaded, scheduling callback at\", now());\n",
       "      return null;\n",
       "    }\n",
       "    if (js_urls == null || js_urls.length === 0) {\n",
       "      run_callbacks();\n",
       "      return null;\n",
       "    }\n",
       "    console.log(\"Bokeh: BokehJS not loaded, scheduling load and callback at\", now());\n",
       "    window._bokeh_is_loading = js_urls.length;\n",
       "    for (var i = 0; i < js_urls.length; i++) {\n",
       "      var url = js_urls[i];\n",
       "      var s = document.createElement('script');\n",
       "      s.src = url;\n",
       "      s.async = false;\n",
       "      s.onreadystatechange = s.onload = function() {\n",
       "        window._bokeh_is_loading--;\n",
       "        if (window._bokeh_is_loading === 0) {\n",
       "          console.log(\"Bokeh: all BokehJS libraries loaded\");\n",
       "          run_callbacks()\n",
       "        }\n",
       "      };\n",
       "      s.onerror = function() {\n",
       "        console.warn(\"failed to load library \" + url);\n",
       "      };\n",
       "      console.log(\"Bokeh: injecting script tag for BokehJS library: \", url);\n",
       "      document.getElementsByTagName(\"head\")[0].appendChild(s);\n",
       "    }\n",
       "  };\n",
       "\n",
       "  var js_urls = ['https://cdn.pydata.org/bokeh/release/bokeh-0.12.0.min.js', 'https://cdn.pydata.org/bokeh/release/bokeh-widgets-0.12.0.min.js', 'https://cdn.pydata.org/bokeh/release/bokeh-compiler-0.12.0.min.js'];\n",
       "\n",
       "  var inline_js = [\n",
       "    function(Bokeh) {\n",
       "      Bokeh.set_log_level(\"info\");\n",
       "    },\n",
       "    \n",
       "    function(Bokeh) {\n",
       "      Bokeh.$(\"#f52b9149-e3b3-44c1-a885-6dc5ad277563\").text(\"BokehJS successfully loaded\");\n",
       "    },\n",
       "    function(Bokeh) {\n",
       "      console.log(\"Bokeh: injecting CSS: https://cdn.pydata.org/bokeh/release/bokeh-0.12.0.min.css\");\n",
       "      Bokeh.embed.inject_css(\"https://cdn.pydata.org/bokeh/release/bokeh-0.12.0.min.css\");\n",
       "      console.log(\"Bokeh: injecting CSS: https://cdn.pydata.org/bokeh/release/bokeh-widgets-0.12.0.min.css\");\n",
       "      Bokeh.embed.inject_css(\"https://cdn.pydata.org/bokeh/release/bokeh-widgets-0.12.0.min.css\");\n",
       "    }\n",
       "  ];\n",
       "\n",
       "  function run_inline_js() {\n",
       "    for (var i = 0; i < inline_js.length; i++) {\n",
       "      inline_js[i](window.Bokeh);\n",
       "    }\n",
       "  }\n",
       "\n",
       "  if (window._bokeh_is_loading === 0) {\n",
       "    console.log(\"Bokeh: BokehJS loaded, going straight to plotting\");\n",
       "    run_inline_js();\n",
       "  } else {\n",
       "    load_libs(js_urls, function() {\n",
       "      console.log(\"Bokeh: BokehJS plotting callback run at\", now());\n",
       "      run_inline_js();\n",
       "    });\n",
       "  }\n",
       "}(this));"
      ]
     },
     "metadata": {},
     "output_type": "display_data"
    }
   ],
   "source": [
    "from bokeh.plotting import figure, show, vplot, ColumnDataSource\n",
    "from bokeh.io import output_notebook\n",
    "from bokeh.models import HoverTool\n",
    "\n",
    "output_notebook()"
   ]
  },
  {
   "cell_type": "code",
   "execution_count": 12,
   "metadata": {
    "collapsed": false
   },
   "outputs": [],
   "source": [
    "MOST_COMMON = 50\n",
    "\n",
    "mc_brocavulary = brocabulary.most_common(int(MOST_COMMON/2))\n",
    "mc_siscavulary = siscabulary.most_common(int(MOST_COMMON/2))\n",
    "\n",
    "fr_brocavulary, fr_siscavulary  = [], []\n",
    "most_common_words = mc_brocavulary + mc_siscavulary\n",
    "words = list(set(word for word, _ in most_common_words))\n",
    "for word in words:\n",
    "    if word in brocabulary:\n",
    "        fr_brocavulary.append(brocabulary[word])\n",
    "    else:\n",
    "        fr_brocavulary.append(0)\n",
    "    if word in siscabulary:\n",
    "        fr_siscavulary.append(siscabulary[word])\n",
    "    else:\n",
    "        fr_siscavulary.append(0)"
   ]
  },
  {
   "cell_type": "code",
   "execution_count": 13,
   "metadata": {
    "collapsed": false
   },
   "outputs": [
    {
     "data": {
      "text/html": [
       "\n",
       "\n",
       "    <div class=\"bk-root\">\n",
       "        <div class=\"plotdiv\" id=\"f10143c7-9f1d-47b7-8461-576627bf9aab\"></div>\n",
       "    </div>\n",
       "<script type=\"text/javascript\">\n",
       "  \n",
       "  (function(global) {\n",
       "    function now() {\n",
       "      return new Date();\n",
       "    }\n",
       "  \n",
       "    if (typeof (window._bokeh_onload_callbacks) === \"undefined\") {\n",
       "      window._bokeh_onload_callbacks = [];\n",
       "    }\n",
       "  \n",
       "    function run_callbacks() {\n",
       "      window._bokeh_onload_callbacks.forEach(function(callback) { callback() });\n",
       "      delete window._bokeh_onload_callbacks\n",
       "      console.info(\"Bokeh: all callbacks have finished\");\n",
       "    }\n",
       "  \n",
       "    function load_libs(js_urls, callback) {\n",
       "      window._bokeh_onload_callbacks.push(callback);\n",
       "      if (window._bokeh_is_loading > 0) {\n",
       "        console.log(\"Bokeh: BokehJS is being loaded, scheduling callback at\", now());\n",
       "        return null;\n",
       "      }\n",
       "      if (js_urls == null || js_urls.length === 0) {\n",
       "        run_callbacks();\n",
       "        return null;\n",
       "      }\n",
       "      console.log(\"Bokeh: BokehJS not loaded, scheduling load and callback at\", now());\n",
       "      window._bokeh_is_loading = js_urls.length;\n",
       "      for (var i = 0; i < js_urls.length; i++) {\n",
       "        var url = js_urls[i];\n",
       "        var s = document.createElement('script');\n",
       "        s.src = url;\n",
       "        s.async = false;\n",
       "        s.onreadystatechange = s.onload = function() {\n",
       "          window._bokeh_is_loading--;\n",
       "          if (window._bokeh_is_loading === 0) {\n",
       "            console.log(\"Bokeh: all BokehJS libraries loaded\");\n",
       "            run_callbacks()\n",
       "          }\n",
       "        };\n",
       "        s.onerror = function() {\n",
       "          console.warn(\"failed to load library \" + url);\n",
       "        };\n",
       "        console.log(\"Bokeh: injecting script tag for BokehJS library: \", url);\n",
       "        document.getElementsByTagName(\"head\")[0].appendChild(s);\n",
       "      }\n",
       "    };var element = document.getElementById(\"f10143c7-9f1d-47b7-8461-576627bf9aab\");\n",
       "    if (element == null) {\n",
       "      console.log(\"Bokeh: ERROR: autoload.js configured with elementid 'f10143c7-9f1d-47b7-8461-576627bf9aab' but no matching script tag was found. \")\n",
       "      return false;\n",
       "    }\n",
       "  \n",
       "    var js_urls = [];\n",
       "  \n",
       "    var inline_js = [\n",
       "      function(Bokeh) {\n",
       "        Bokeh.$(function() {\n",
       "            var docs_json = {\"f4cc0d57-d865-443a-94d6-1a3aead80e3f\":{\"roots\":{\"references\":[{\"attributes\":{\"below\":[{\"id\":\"22cae2ae-1542-44e9-be0a-0ce6e405a423\",\"type\":\"CategoricalAxis\"}],\"left\":[{\"id\":\"84c32ce1-9a51-4098-a6d8-a2987a86fddd\",\"type\":\"LinearAxis\"}],\"renderers\":[{\"id\":\"22cae2ae-1542-44e9-be0a-0ce6e405a423\",\"type\":\"CategoricalAxis\"},{\"id\":\"9285353f-df66-4c6c-8940-ce5688399044\",\"type\":\"Grid\"},{\"id\":\"84c32ce1-9a51-4098-a6d8-a2987a86fddd\",\"type\":\"LinearAxis\"},{\"id\":\"752a83f5-d1c4-425d-9805-6d92f2b023bd\",\"type\":\"Grid\"},{\"id\":\"99db2ce8-f4f2-4ddc-905e-999e736b9f87\",\"type\":\"BoxAnnotation\"},{\"id\":\"9ec6d4a4-3783-45b7-97d3-b6bf6e62dee3\",\"type\":\"GlyphRenderer\"},{\"id\":\"bc18bed5-88bf-4a8a-ad15-1dd8c3e9084c\",\"type\":\"GlyphRenderer\"}],\"title\":{\"id\":\"d313610f-f42c-424a-86e6-4b801d42795f\",\"type\":\"Title\"},\"tool_events\":{\"id\":\"8cb5389a-3424-4883-89d1-b9fbbf14126a\",\"type\":\"ToolEvents\"},\"toolbar\":{\"id\":\"4fa7653b-549e-409b-9b28-25857ada8e84\",\"type\":\"Toolbar\"},\"x_range\":{\"id\":\"ec1ea107-176b-49b1-bc83-275773258ad3\",\"type\":\"FactorRange\"},\"y_range\":{\"id\":\"344562a8-57ce-40ac-a2d2-6936b98503d3\",\"type\":\"DataRange1d\"}},\"id\":\"840919b3-e4a7-4a96-9d79-6b18b161a1d4\",\"subtype\":\"Figure\",\"type\":\"Plot\"},{\"attributes\":{\"dimension\":1,\"plot\":{\"id\":\"840919b3-e4a7-4a96-9d79-6b18b161a1d4\",\"subtype\":\"Figure\",\"type\":\"Plot\"},\"ticker\":{\"id\":\"a96b99f6-d0ff-421a-8c0d-72a904e22b03\",\"type\":\"BasicTicker\"}},\"id\":\"752a83f5-d1c4-425d-9805-6d92f2b023bd\",\"type\":\"Grid\"},{\"attributes\":{\"callback\":null,\"plot\":{\"id\":\"840919b3-e4a7-4a96-9d79-6b18b161a1d4\",\"subtype\":\"Figure\",\"type\":\"Plot\"},\"tooltips\":[[\"words\",\"@words\"]]},\"id\":\"cd746bb6-6ac4-40ee-89cd-acb07ca94675\",\"type\":\"HoverTool\"},{\"attributes\":{\"plot\":{\"id\":\"840919b3-e4a7-4a96-9d79-6b18b161a1d4\",\"subtype\":\"Figure\",\"type\":\"Plot\"},\"ticker\":{\"id\":\"056980a1-6418-46b5-bf1a-af8e4fbd839f\",\"type\":\"CategoricalTicker\"}},\"id\":\"9285353f-df66-4c6c-8940-ce5688399044\",\"type\":\"Grid\"},{\"attributes\":{\"axis_label\":\"Frequency\",\"formatter\":{\"id\":\"01bb5235-b8ea-4641-b404-c44d8572ab70\",\"type\":\"BasicTickFormatter\"},\"plot\":{\"id\":\"840919b3-e4a7-4a96-9d79-6b18b161a1d4\",\"subtype\":\"Figure\",\"type\":\"Plot\"},\"ticker\":{\"id\":\"a96b99f6-d0ff-421a-8c0d-72a904e22b03\",\"type\":\"BasicTicker\"}},\"id\":\"84c32ce1-9a51-4098-a6d8-a2987a86fddd\",\"type\":\"LinearAxis\"},{\"attributes\":{\"axis_label\":\"Words\",\"formatter\":{\"id\":\"a8571b9e-d9db-42e3-8b5f-bdebbcadc75c\",\"type\":\"CategoricalTickFormatter\"},\"major_label_orientation\":0.7853981633974483,\"plot\":{\"id\":\"840919b3-e4a7-4a96-9d79-6b18b161a1d4\",\"subtype\":\"Figure\",\"type\":\"Plot\"},\"ticker\":{\"id\":\"056980a1-6418-46b5-bf1a-af8e4fbd839f\",\"type\":\"CategoricalTicker\"}},\"id\":\"22cae2ae-1542-44e9-be0a-0ce6e405a423\",\"type\":\"CategoricalAxis\"},{\"attributes\":{\"plot\":{\"id\":\"840919b3-e4a7-4a96-9d79-6b18b161a1d4\",\"subtype\":\"Figure\",\"type\":\"Plot\"}},\"id\":\"d5f5c442-3084-4d14-9cdb-c655bbdb9801\",\"type\":\"ResetTool\"},{\"attributes\":{\"data_source\":{\"id\":\"d50441fc-65b2-488e-9c97-b79c6de538b6\",\"type\":\"ColumnDataSource\"},\"glyph\":{\"id\":\"2e6d3cf6-485a-40ee-b94a-ca56f1203961\",\"type\":\"Circle\"},\"hover_glyph\":null,\"nonselection_glyph\":{\"id\":\"ccec8227-79b5-4f58-afe4-994de2d0ab43\",\"type\":\"Circle\"},\"selection_glyph\":null},\"id\":\"bc18bed5-88bf-4a8a-ad15-1dd8c3e9084c\",\"type\":\"GlyphRenderer\"},{\"attributes\":{\"plot\":{\"id\":\"840919b3-e4a7-4a96-9d79-6b18b161a1d4\",\"subtype\":\"Figure\",\"type\":\"Plot\"}},\"id\":\"04a5a0f4-f98a-40a5-8eac-0b55ace7fc3b\",\"type\":\"WheelZoomTool\"},{\"attributes\":{\"fill_alpha\":{\"value\":0.1},\"fill_color\":{\"value\":\"#1f77b4\"},\"line_alpha\":{\"value\":0.1},\"line_color\":{\"value\":\"#1f77b4\"},\"size\":{\"units\":\"screen\",\"value\":10},\"x\":{\"field\":\"range_words\"},\"y\":{\"field\":\"freq_false\"}},\"id\":\"ccec8227-79b5-4f58-afe4-994de2d0ab43\",\"type\":\"Circle\"},{\"attributes\":{\"callback\":null,\"column_names\":[\"words\",\"freq_false\",\"freq_true\",\"range_words\"],\"data\":{\"freq_false\":[18,234,29,24,22,22,27,19,6,1009,20,25,40,29,8,22,20,419,29,27,12,0,6,39,54,0,20,37,23,30,6,40,29,337],\"freq_true\":[30,420,40,25,7,14,96,34,28,1313,19,25,35,28,25,13,9,676,13,43,42,27,46,25,18,32,49,34,25,25,45,0,42,483],\"range_words\":[1,2,3,4,5,6,7,8,9,10,11,12,13,14,15,16,17,18,19,20,21,22,23,24,25,26,27,28,29,30,31,32,33,34],\"words\":[\"really\",\"rt\",\"thanks\",\"open\",\"way\",\"day\",\"python\",\"great\",\"learn\",\"user\",\"people\",\"time\",\"one\",\"good\",\"slides\",\"oh\",\"want\",\"url\",\"know\",\"new\",\"https\",\"icml\",\"learning\",\"get\",\"pycon\",\"dataviz\",\"talk\",\"like\",\"think\",\"code\",\"data\",\"sgdq\",\"amp\",\"<number>\"]}},\"id\":\"d50441fc-65b2-488e-9c97-b79c6de538b6\",\"type\":\"ColumnDataSource\"},{\"attributes\":{},\"id\":\"8cb5389a-3424-4883-89d1-b9fbbf14126a\",\"type\":\"ToolEvents\"},{\"attributes\":{},\"id\":\"a8571b9e-d9db-42e3-8b5f-bdebbcadc75c\",\"type\":\"CategoricalTickFormatter\"},{\"attributes\":{\"plot\":null,\"text\":\"Vocabulary gender\"},\"id\":\"d313610f-f42c-424a-86e6-4b801d42795f\",\"type\":\"Title\"},{\"attributes\":{\"callback\":null,\"factors\":[\"really\",\"rt\",\"thanks\",\"open\",\"way\",\"day\",\"python\",\"great\",\"learn\",\"user\",\"people\",\"time\",\"one\",\"good\",\"slides\",\"oh\",\"want\",\"url\",\"know\",\"new\",\"https\",\"icml\",\"learning\",\"get\",\"pycon\",\"dataviz\",\"talk\",\"like\",\"think\",\"code\",\"data\",\"sgdq\",\"amp\",\"<number>\"]},\"id\":\"ec1ea107-176b-49b1-bc83-275773258ad3\",\"type\":\"FactorRange\"},{\"attributes\":{},\"id\":\"056980a1-6418-46b5-bf1a-af8e4fbd839f\",\"type\":\"CategoricalTicker\"},{\"attributes\":{\"fill_alpha\":{\"value\":0.2},\"fill_color\":{\"value\":\"red\"},\"line_color\":{\"value\":\"red\"},\"size\":{\"units\":\"screen\",\"value\":10},\"x\":{\"field\":\"range_words\"},\"y\":{\"field\":\"freq_false\"}},\"id\":\"2e6d3cf6-485a-40ee-b94a-ca56f1203961\",\"type\":\"Circle\"},{\"attributes\":{\"plot\":{\"id\":\"840919b3-e4a7-4a96-9d79-6b18b161a1d4\",\"subtype\":\"Figure\",\"type\":\"Plot\"}},\"id\":\"12cb9730-1e7c-4277-a970-784efa28e712\",\"type\":\"PanTool\"},{\"attributes\":{},\"id\":\"01bb5235-b8ea-4641-b404-c44d8572ab70\",\"type\":\"BasicTickFormatter\"},{\"attributes\":{\"fill_alpha\":{\"value\":0.2},\"fill_color\":{\"value\":\"navy\"},\"line_color\":{\"value\":\"navy\"},\"size\":{\"units\":\"screen\",\"value\":10},\"x\":{\"field\":\"range_words\"},\"y\":{\"field\":\"freq_true\"}},\"id\":\"e2b94549-8eee-434c-87d6-1093e96eba7e\",\"type\":\"Circle\"},{\"attributes\":{\"callback\":null},\"id\":\"344562a8-57ce-40ac-a2d2-6936b98503d3\",\"type\":\"DataRange1d\"},{\"attributes\":{\"bottom_units\":\"screen\",\"fill_alpha\":{\"value\":0.5},\"fill_color\":{\"value\":\"lightgrey\"},\"left_units\":\"screen\",\"level\":\"overlay\",\"line_alpha\":{\"value\":1.0},\"line_color\":{\"value\":\"black\"},\"line_dash\":[4,4],\"line_width\":{\"value\":2},\"plot\":null,\"render_mode\":\"css\",\"right_units\":\"screen\",\"top_units\":\"screen\"},\"id\":\"99db2ce8-f4f2-4ddc-905e-999e736b9f87\",\"type\":\"BoxAnnotation\"},{\"attributes\":{\"fill_alpha\":{\"value\":0.1},\"fill_color\":{\"value\":\"#1f77b4\"},\"line_alpha\":{\"value\":0.1},\"line_color\":{\"value\":\"#1f77b4\"},\"size\":{\"units\":\"screen\",\"value\":10},\"x\":{\"field\":\"range_words\"},\"y\":{\"field\":\"freq_true\"}},\"id\":\"1f250b1d-5dea-48a6-bc3f-137d44d588dc\",\"type\":\"Circle\"},{\"attributes\":{\"data_source\":{\"id\":\"d50441fc-65b2-488e-9c97-b79c6de538b6\",\"type\":\"ColumnDataSource\"},\"glyph\":{\"id\":\"e2b94549-8eee-434c-87d6-1093e96eba7e\",\"type\":\"Circle\"},\"hover_glyph\":null,\"nonselection_glyph\":{\"id\":\"1f250b1d-5dea-48a6-bc3f-137d44d588dc\",\"type\":\"Circle\"},\"selection_glyph\":null},\"id\":\"9ec6d4a4-3783-45b7-97d3-b6bf6e62dee3\",\"type\":\"GlyphRenderer\"},{\"attributes\":{\"plot\":{\"id\":\"840919b3-e4a7-4a96-9d79-6b18b161a1d4\",\"subtype\":\"Figure\",\"type\":\"Plot\"}},\"id\":\"35a4a338-2a5f-4791-b60f-d45dc2168bbd\",\"type\":\"SaveTool\"},{\"attributes\":{\"overlay\":{\"id\":\"99db2ce8-f4f2-4ddc-905e-999e736b9f87\",\"type\":\"BoxAnnotation\"},\"plot\":{\"id\":\"840919b3-e4a7-4a96-9d79-6b18b161a1d4\",\"subtype\":\"Figure\",\"type\":\"Plot\"}},\"id\":\"e69ecd5c-7cc8-4e26-8bd2-70a318f64449\",\"type\":\"BoxZoomTool\"},{\"attributes\":{},\"id\":\"a96b99f6-d0ff-421a-8c0d-72a904e22b03\",\"type\":\"BasicTicker\"},{\"attributes\":{\"active_drag\":\"auto\",\"active_scroll\":\"auto\",\"active_tap\":\"auto\",\"tools\":[{\"id\":\"cd746bb6-6ac4-40ee-89cd-acb07ca94675\",\"type\":\"HoverTool\"},{\"id\":\"12cb9730-1e7c-4277-a970-784efa28e712\",\"type\":\"PanTool\"},{\"id\":\"04a5a0f4-f98a-40a5-8eac-0b55ace7fc3b\",\"type\":\"WheelZoomTool\"},{\"id\":\"e69ecd5c-7cc8-4e26-8bd2-70a318f64449\",\"type\":\"BoxZoomTool\"},{\"id\":\"d5f5c442-3084-4d14-9cdb-c655bbdb9801\",\"type\":\"ResetTool\"},{\"id\":\"35a4a338-2a5f-4791-b60f-d45dc2168bbd\",\"type\":\"SaveTool\"}]},\"id\":\"4fa7653b-549e-409b-9b28-25857ada8e84\",\"type\":\"Toolbar\"}],\"root_ids\":[\"840919b3-e4a7-4a96-9d79-6b18b161a1d4\"]},\"title\":\"Bokeh Application\",\"version\":\"0.12.0\"}};\n",
       "            var render_items = [{\"docid\":\"f4cc0d57-d865-443a-94d6-1a3aead80e3f\",\"elementid\":\"f10143c7-9f1d-47b7-8461-576627bf9aab\",\"modelid\":\"840919b3-e4a7-4a96-9d79-6b18b161a1d4\",\"notebook_comms_target\":\"f3f96c9f-b1f4-4a2d-9482-56c42ac00950\"}];\n",
       "            \n",
       "            Bokeh.embed.embed_items(docs_json, render_items);\n",
       "        });\n",
       "      },\n",
       "      function(Bokeh) {\n",
       "      }\n",
       "    ];\n",
       "  \n",
       "    function run_inline_js() {\n",
       "      for (var i = 0; i < inline_js.length; i++) {\n",
       "        inline_js[i](window.Bokeh);\n",
       "      }\n",
       "    }\n",
       "  \n",
       "    if (window._bokeh_is_loading === 0) {\n",
       "      console.log(\"Bokeh: BokehJS loaded, going straight to plotting\");\n",
       "      run_inline_js();\n",
       "    } else {\n",
       "      load_libs(js_urls, function() {\n",
       "        console.log(\"Bokeh: BokehJS plotting callback run at\", now());\n",
       "        run_inline_js();\n",
       "      });\n",
       "    }\n",
       "  }(this));\n",
       "</script>"
      ]
     },
     "metadata": {},
     "output_type": "display_data"
    },
    {
     "data": {
      "text/html": [
       "<p><code>&lt;Bokeh Notebook handle for <strong>In[13]</strong>&gt;</code></p>"
      ],
      "text/plain": [
       "<bokeh.io._CommsHandle at 0x7fcd11319a90>"
      ]
     },
     "execution_count": 13,
     "metadata": {},
     "output_type": "execute_result"
    }
   ],
   "source": [
    "import numpy as np\n",
    "range_words=list(range(1,len(words)+1))\n",
    "source = ColumnDataSource(data=dict(range_words=range_words,\n",
    "                                    words=words,\n",
    "                                    freq_true=fr_brocavulary, \n",
    "                                    freq_false=fr_siscavulary))\n",
    "\n",
    "hover = HoverTool()\n",
    "hover.point_policy = \"follow_mouse\"\n",
    "hover = HoverTool(\n",
    "        tooltips=[\n",
    "            (\"words\", \"@words\"),\n",
    "        ]\n",
    "    )\n",
    "\n",
    "TOOLS=\"pan,wheel_zoom,box_zoom,reset,save\"\n",
    "\n",
    "\n",
    "p = figure(title = \"Vocabulary gender\", x_range=words, tools=[TOOLS, hover])\n",
    "p.xaxis.axis_label = 'Words'\n",
    "p.yaxis.axis_label = 'Frequency'\n",
    "p.circle('range_words', 'freq_true', source=source, fill_alpha=0.2, size=10, color=\"navy\")\n",
    "p.circle('range_words', 'freq_false', source=source, fill_alpha=0.2, size=10, color='red')\n",
    "p.xaxis.major_label_orientation = np.pi/4  \n",
    "\n",
    "show(p)"
   ]
  },
  {
   "cell_type": "code",
   "execution_count": 14,
   "metadata": {
    "collapsed": false
   },
   "outputs": [
    {
     "data": {
      "text/html": [
       "\n",
       "\n",
       "    <div class=\"bk-root\">\n",
       "        <div class=\"plotdiv\" id=\"d039bdd9-56a1-42f9-bce6-9ceaa0c63e0e\"></div>\n",
       "    </div>\n",
       "<script type=\"text/javascript\">\n",
       "  \n",
       "  (function(global) {\n",
       "    function now() {\n",
       "      return new Date();\n",
       "    }\n",
       "  \n",
       "    if (typeof (window._bokeh_onload_callbacks) === \"undefined\") {\n",
       "      window._bokeh_onload_callbacks = [];\n",
       "    }\n",
       "  \n",
       "    function run_callbacks() {\n",
       "      window._bokeh_onload_callbacks.forEach(function(callback) { callback() });\n",
       "      delete window._bokeh_onload_callbacks\n",
       "      console.info(\"Bokeh: all callbacks have finished\");\n",
       "    }\n",
       "  \n",
       "    function load_libs(js_urls, callback) {\n",
       "      window._bokeh_onload_callbacks.push(callback);\n",
       "      if (window._bokeh_is_loading > 0) {\n",
       "        console.log(\"Bokeh: BokehJS is being loaded, scheduling callback at\", now());\n",
       "        return null;\n",
       "      }\n",
       "      if (js_urls == null || js_urls.length === 0) {\n",
       "        run_callbacks();\n",
       "        return null;\n",
       "      }\n",
       "      console.log(\"Bokeh: BokehJS not loaded, scheduling load and callback at\", now());\n",
       "      window._bokeh_is_loading = js_urls.length;\n",
       "      for (var i = 0; i < js_urls.length; i++) {\n",
       "        var url = js_urls[i];\n",
       "        var s = document.createElement('script');\n",
       "        s.src = url;\n",
       "        s.async = false;\n",
       "        s.onreadystatechange = s.onload = function() {\n",
       "          window._bokeh_is_loading--;\n",
       "          if (window._bokeh_is_loading === 0) {\n",
       "            console.log(\"Bokeh: all BokehJS libraries loaded\");\n",
       "            run_callbacks()\n",
       "          }\n",
       "        };\n",
       "        s.onerror = function() {\n",
       "          console.warn(\"failed to load library \" + url);\n",
       "        };\n",
       "        console.log(\"Bokeh: injecting script tag for BokehJS library: \", url);\n",
       "        document.getElementsByTagName(\"head\")[0].appendChild(s);\n",
       "      }\n",
       "    };var element = document.getElementById(\"d039bdd9-56a1-42f9-bce6-9ceaa0c63e0e\");\n",
       "    if (element == null) {\n",
       "      console.log(\"Bokeh: ERROR: autoload.js configured with elementid 'd039bdd9-56a1-42f9-bce6-9ceaa0c63e0e' but no matching script tag was found. \")\n",
       "      return false;\n",
       "    }\n",
       "  \n",
       "    var js_urls = [];\n",
       "  \n",
       "    var inline_js = [\n",
       "      function(Bokeh) {\n",
       "        Bokeh.$(function() {\n",
       "            var docs_json = {\"fd9135ef-0a1a-4273-9842-4fc8f70bed2c\":{\"roots\":{\"references\":[{\"attributes\":{\"data_source\":{\"id\":\"44e13edd-e433-438f-987b-f533ae512791\",\"type\":\"ColumnDataSource\"},\"glyph\":{\"id\":\"d63f690e-fab6-40ca-a726-87091eb2aeca\",\"type\":\"Line\"},\"hover_glyph\":null,\"nonselection_glyph\":{\"id\":\"e377e6e8-548c-4368-a5c2-f031b426fc7e\",\"type\":\"Line\"},\"selection_glyph\":null},\"id\":\"ba56f84c-53fa-4220-b01e-e3538732afc8\",\"type\":\"GlyphRenderer\"},{\"attributes\":{\"plot\":null,\"text\":\"\"},\"id\":\"75cb2443-7d57-4514-8f3d-26fdfe86416e\",\"type\":\"Title\"},{\"attributes\":{},\"id\":\"5121e565-0304-4845-ba67-769c9473ef67\",\"type\":\"BasicTicker\"},{\"attributes\":{\"line_alpha\":{\"value\":0.1},\"line_color\":{\"value\":\"#1f77b4\"},\"line_width\":{\"value\":6},\"x\":{\"field\":\"x\"},\"y\":{\"field\":\"y\"}},\"id\":\"e377e6e8-548c-4368-a5c2-f031b426fc7e\",\"type\":\"Line\"},{\"attributes\":{\"callback\":null},\"id\":\"b063e7f8-da52-49a0-b6e1-e1d4cc18da35\",\"type\":\"DataRange1d\"},{\"attributes\":{\"callback\":null,\"column_names\":[\"right\",\"top\",\"left\"],\"data\":{\"left\":[6.0,13.95,21.9,29.85,37.8,45.75,53.7,61.65,69.6,77.55,85.5,93.45,101.4,109.35000000000001,117.3,125.25,133.2,141.15,149.1,157.05],\"right\":[13.95,21.9,29.85,37.8,45.75,53.7,61.65,69.6,77.55,85.5,93.45,101.4,109.35000000000001,117.3,125.25,133.2,141.15,149.1,157.05,165.0],\"top\":[0.0016352201257861635,0.002264150943396227,0.0021383647798742128,0.0023899371069182403,0.004025157232704401,0.004402515723270438,0.005157232704402518,0.0069182389937106955,0.00943396226415094,0.0064150943396226396,0.009937106918238991,0.010566037735849052,0.009811320754716977,0.01635220125786166,0.016603773584905654,0.01094339622641511,0.00654088050314464,0.00012578616352201274,0.0,0.00012578616352201274]}},\"id\":\"7de188d1-115e-440b-b0cc-7f772e1bdba0\",\"type\":\"ColumnDataSource\"},{\"attributes\":{\"plot\":{\"id\":\"201a039f-15c7-4103-8824-03d2859a2366\",\"subtype\":\"Figure\",\"type\":\"Plot\"},\"ticker\":{\"id\":\"b7cc88cc-ca7b-4f02-9c5e-50fd23409992\",\"type\":\"BasicTicker\"}},\"id\":\"bd4a3fe1-99f7-43ff-95a4-f140d60beb34\",\"type\":\"Grid\"},{\"attributes\":{\"plot\":{\"id\":\"201a039f-15c7-4103-8824-03d2859a2366\",\"subtype\":\"Figure\",\"type\":\"Plot\"}},\"id\":\"d97f407c-13d7-4e42-8cc6-a08f8774bae9\",\"type\":\"HelpTool\"},{\"attributes\":{\"callback\":null,\"column_names\":[\"x\",\"y\"],\"data\":{\"x\":[5,5,5,5,7,8,8,8,9,9,10,11,11,11,11,11,11,11,12,12,12,12,12,12,12,13,13,13,13,13,13,13,13,13,14,14,14,14,14,14,14,15,15,15,16,16,16,16,17,17,17,17,17,17,18,18,18,18,19,19,19,19,19,19,20,20,20,20,21,21,22,22,22,22,23,23,23,23,23,23,24,24,24,24,24,25,25,25,25,25,25,25,25,25,25,25,26,26,26,26,26,26,27,27,27,27,27,27,27,27,28,28,28,28,29,29,29,29,30,30,30,30,30,30,31,31,31,31,31,31,31,31,32,32,33,33,33,33,33,33,33,33,34,34,34,34,34,34,34,34,35,35,35,35,35,35,35,35,35,35,35,36,36,36,36,36,36,36,37,37,37,37,37,37,37,37,37,38,38,38,38,38,38,38,39,39,39,39,39,39,39,40,40,40,40,40,41,41,41,42,42,42,42,42,42,42,42,43,43,43,43,43,43,44,44,44,44,44,44,44,44,44,45,45,45,45,45,45,45,45,45,45,45,46,46,46,46,46,46,47,47,47,47,47,47,47,47,47,47,47,48,48,48,48,48,48,48,48,49,49,49,49,49,49,50,50,50,51,51,51,51,51,51,51,52,52,52,52,52,52,52,52,53,53,53,53,53,53,54,54,54,54,54,54,54,54,55,55,55,55,55,55,55,55,55,55,56,56,56,56,56,56,56,56,56,56,56,57,57,58,58,58,58,58,58,58,59,59,59,59,59,60,60,60,60,60,61,61,61,61,61,61,61,61,61,61,62,62,62,62,62,62,63,63,63,63,63,63,63,63,63,63,64,65,65,65,65,65,65,65,65,65,65,65,65,66,66,66,66,66,66,66,66,66,67,67,67,67,67,67,67,67,67,67,68,68,68,68,68,68,68,69,69,69,70,70,70,71,71,71,71,71,71,71,71,72,72,72,72,72,72,73,73,73,73,73,73,73,74,74,74,74,74,74,74,75,75,75,75,75,75,75,75,75,76,76,76,77,77,77,77,77,77,77,77,78,78,78,78,78,78,78,78,78,79,79,79,80,80,80,80,80,80,80,80,81,81,81,81,82,82,82,82,83,83,83,83,83,83,84,84,84,85,85,85,85,85,85,85,85,85,85,85,85,85,86,86,86,86,86,87,87,87,87,87,87,87,87,87,88,88,88,88,88,88,88,89,89,89,89,89,89,89,89,90,90,90,90,91,91,91,91,91,91,91,91,91,92,92,92,92,92,92,92,92,93,93,93,93,94,94,94,94,94,94,94,95,95,95,95,95,95,95,95,95,95,96,96,96,96,96,96,97,97,97,97,97,97,97,97,98,98,98,99,99,99,99,99,99,100,100,100,100,100,100,100,100,101,101,101,101,101,101,101,101,101,102,102,102,102,102,102,102,102,102,102,103,103,103,103,103,103,103,104,104,104,104,104,104,105,105,105,105,105,105,106,106,106,106,106,106,106,106,106,106,106,107,107,107,107,107,107,107,107,107,108,108,108,108,108,108,108,108,108,108,108,109,109,109,109,109,109,109,109,109,109,110,110,110,110,110,111,111,111,111,111,111,112,112,112,112,112,112,112,112,112,112,112,113,113,113,113,113,113,113,113,113,113,113,113,113,114,114,114,114,114,114,114,114,114,114,115,115,115,115,115,115,115,115,115,115,115,115,115,115,116,116,116,116,116,116,116,116,116,116,116,116,116,117,117,117,117,117,117,117,117,117,117,117,118,118,118,118,118,118,118,118,118,118,119,119,119,119,119,119,119,119,119,119,119,119,119,119,119,120,120,120,120,120,120,120,121,121,121,121,121,121,121,121,121,121,121,121,122,122,122,122,122,122,122,122,122,122,122,122,122,122,122,122,122,122,122,122,122,122,123,123,123,123,123,123,124,124,124,124,124,124,124,124,125,125,125,125,125,126,126,126,126,126,127,127,127,127,127,127,127,128,128,128,128,129,129,129,129,129,129,129,129,130,130,130,130,130,130,130,130,130,131,131,131,131,131,131,131,131,131,131,131,131,131,131,131,131,131,131,132,132,132,132,132,132,132,132,132,132,132,132,132,132,133,133,133,133,133,133,133,133,133,133,133,133,133,134,134,134,134,134,134,135,135,135,135,135,135,135,135,135,135,135,135,136,136,136,136,136,136,137,137,137,137,137,137,137,137,137,137,138,138,138,138,138,138,138,138,138,138,138,139,139,139,139,139,139,139,139,139,139,139,140,140,140,140,140,140,140,140,140,140,141,144],\"y\":[0.0014618887652501974,0.0014618887652501974,0.0014618887652501974,0.0014618887652501974,0.0016177426135336212,0.0017000769680762232,0.0017000769680762232,0.0017000769680762232,0.0017853997999497373,0.0017853997999497373,0.001873743414976812,0.0019651354818486897,0.0019651354818486897,0.0019651354818486897,0.0019651354818486897,0.0019651354818486897,0.0019651354818486897,0.0019651354818486897,0.00205959872645945,0.00205959872645945,0.00205959872645945,0.00205959872645945,0.00205959872645945,0.00205959872645945,0.00205959872645945,0.0021571506282538236,0.0021571506282538236,0.0021571506282538236,0.0021571506282538236,0.0021571506282538236,0.0021571506282538236,0.0021571506282538236,0.0021571506282538236,0.0021571506282538236,0.002257803119941539,0.002257803119941539,0.002257803119941539,0.002257803119941539,0.002257803119941539,0.002257803119941539,0.002257803119941539,0.0023615622919804756,0.0023615622919804756,0.0023615622919804756,0.0024684281032747385,0.0024684281032747385,0.0024684281032747385,0.0024684281032747385,0.0025783940995718637,0.0025783940995718637,0.0025783940995718637,0.0025783940995718637,0.0025783940995718637,0.0025783940995718637,0.002691447141074927,0.002691447141074927,0.002691447141074927,0.002691447141074927,0.002807567140810142,0.002807567140810142,0.002807567140810142,0.002807567140810142,0.002807567140810142,0.002807567140810142,0.0029267268153078596,0.0029267268153078596,0.0029267268153078596,0.0029267268153078596,0.0030488914491645512,0.0030488914491645512,0.0031740186750546986,0.0031740186750546986,0.0031740186750546986,0.0031740186750546986,0.0033020582707544337,0.0033020582707544337,0.0033020582707544337,0.0033020582707544337,0.0033020582707544337,0.0033020582707544337,0.0034329519747226703,0.0034329519747226703,0.0034329519747226703,0.0034329519747226703,0.0034329519747226703,0.003566633321760364,0.003566633321760364,0.003566633321760364,0.003566633321760364,0.003566633321760364,0.003566633321760364,0.003566633321760364,0.003566633321760364,0.003566633321760364,0.003566633321760364,0.003566633321760364,0.003703027500233894,0.003703027500233894,0.003703027500233894,0.003703027500233894,0.003703027500233894,0.003703027500233894,0.003842051232304509,0.003842051232304509,0.003842051232304509,0.003842051232304509,0.003842051232304509,0.003842051232304509,0.003842051232304509,0.003842051232304509,0.003983612678551996,0.003983612678551996,0.003983612678551996,0.003983612678551996,0.004127611368317249,0.004127611368317249,0.004127611368317249,0.004127611368317249,0.004273938157015285,0.004273938157015285,0.004273938157015285,0.004273938157015285,0.004273938157015285,0.004273938157015285,0.0044224752115874745,0.0044224752115874745,0.0044224752115874745,0.0044224752115874745,0.0044224752115874745,0.0044224752115874745,0.0044224752115874745,0.0044224752115874745,0.004573096025169577,0.004573096025169577,0.004725665461950692,0.004725665461950692,0.004725665461950692,0.004725665461950692,0.004725665461950692,0.004725665461950692,0.004725665461950692,0.004725665461950692,0.00488003983308795,0.00488003983308795,0.00488003983308795,0.00488003983308795,0.00488003983308795,0.00488003983308795,0.00488003983308795,0.00488003983308795,0.0050360670044227365,0.0050360670044227365,0.0050360670044227365,0.0050360670044227365,0.0050360670044227365,0.0050360670044227365,0.0050360670044227365,0.0050360670044227365,0.0050360670044227365,0.0050360670044227365,0.0050360670044227365,0.0051935865366173044,0.0051935865366173044,0.0051935865366173044,0.0051935865366173044,0.0051935865366173044,0.0051935865366173044,0.0051935865366173044,0.005352429858195839,0.005352429858195839,0.005352429858195839,0.005352429858195839,0.005352429858195839,0.005352429858195839,0.005352429858195839,0.005352429858195839,0.005352429858195839,0.005512420471832407,0.005512420471832407,0.005512420471832407,0.005512420471832407,0.005512420471832407,0.005512420471832407,0.005512420471832407,0.00567337419408006,0.00567337419408006,0.00567337419408006,0.00567337419408006,0.00567337419408006,0.00567337419408006,0.00567337419408006,0.005835099428581545,0.005835099428581545,0.005835099428581545,0.005835099428581545,0.005835099428581545,0.005997397472643357,0.005997397472643357,0.005997397472643357,0.006160062856892061,0.006160062856892061,0.006160062856892061,0.006160062856892061,0.006160062856892061,0.006160062856892061,0.006160062856892061,0.006160062856892061,0.0063228837175656645,0.0063228837175656645,0.0063228837175656645,0.0063228837175656645,0.0063228837175656645,0.0063228837175656645,0.006485642200824621,0.006485642200824621,0.006485642200824621,0.006485642200824621,0.006485642200824621,0.006485642200824621,0.006485642200824621,0.006485642200824621,0.006485642200824621,0.006648114898297244,0.006648114898297244,0.006648114898297244,0.006648114898297244,0.006648114898297244,0.006648114898297244,0.006648114898297244,0.006648114898297244,0.006648114898297244,0.006648114898297244,0.006648114898297244,0.006810073312904413,0.006810073312904413,0.006810073312904413,0.006810073312904413,0.006810073312904413,0.006810073312904413,0.006971284353839137,0.006971284353839137,0.006971284353839137,0.006971284353839137,0.006971284353839137,0.006971284353839137,0.006971284353839137,0.006971284353839137,0.006971284353839137,0.006971284353839137,0.006971284353839137,0.0071315108594090515,0.0071315108594090515,0.0071315108594090515,0.0071315108594090515,0.0071315108594090515,0.0071315108594090515,0.0071315108594090515,0.0071315108594090515,0.0072905121462852746,0.0072905121462852746,0.0072905121462852746,0.0072905121462852746,0.0072905121462852746,0.0072905121462852746,0.007448044583540273,0.007448044583540273,0.007448044583540273,0.007603862189701686,0.007603862189701686,0.007603862189701686,0.007603862189701686,0.007603862189701686,0.007603862189701686,0.007603862189701686,0.007757717250899344,0.007757717250899344,0.007757717250899344,0.007757717250899344,0.007757717250899344,0.007757717250899344,0.007757717250899344,0.007757717250899344,0.007909360958040183,0.007909360958040183,0.007909360958040183,0.007909360958040183,0.007909360958040183,0.007909360958040183,0.008058544060811338,0.008058544060811338,0.008058544060811338,0.008058544060811338,0.008058544060811338,0.008058544060811338,0.008058544060811338,0.008058544060811338,0.008205017536186446,0.008205017536186446,0.008205017536186446,0.008205017536186446,0.008205017536186446,0.008205017536186446,0.008205017536186446,0.008205017536186446,0.008205017536186446,0.008205017536186446,0.008348533268995019,0.008348533268995019,0.008348533268995019,0.008348533268995019,0.008348533268995019,0.008348533268995019,0.008348533268995019,0.008348533268995019,0.008348533268995019,0.008348533268995019,0.008348533268995019,0.008488844742010568,0.008488844742010568,0.008625707732920875,0.008625707732920875,0.008625707732920875,0.008625707732920875,0.008625707732920875,0.008625707732920875,0.008625707732920875,0.008758881015464102,0.008758881015464102,0.008758881015464102,0.008758881015464102,0.008758881015464102,0.00888812706194811,0.00888812706194811,0.00888812706194811,0.00888812706194811,0.00888812706194811,0.009013212744317966,0.009013212744317966,0.009013212744317966,0.009013212744317966,0.009013212744317966,0.009013212744317966,0.009013212744317966,0.009013212744317966,0.009013212744317966,0.009013212744317966,0.009133910030898824,0.009133910030898824,0.009133910030898824,0.009133910030898824,0.009133910030898824,0.009133910030898824,0.0092499966759185,0.0092499966759185,0.0092499966759185,0.0092499966759185,0.0092499966759185,0.0092499966759185,0.0092499966759185,0.0092499966759185,0.0092499966759185,0.0092499966759185,0.00936125689890653,0.009467482051074701,0.009467482051074701,0.009467482051074701,0.009467482051074701,0.009467482051074701,0.009467482051074701,0.009467482051074701,0.009467482051074701,0.009467482051074701,0.009467482051074701,0.009467482051074701,0.009467482051074701,0.009568471265807899,0.009568471265807899,0.009568471265807899,0.009568471265807899,0.009568471265807899,0.009568471265807899,0.009568471265807899,0.009568471265807899,0.009568471265807899,0.009664032090433844,0.009664032090433844,0.009664032090433844,0.009664032090433844,0.009664032090433844,0.009664032090433844,0.009664032090433844,0.009664032090433844,0.009664032090433844,0.009664032090433844,0.009753981096495909,0.009753981096495909,0.009753981096495909,0.009753981096495909,0.009753981096495909,0.009753981096495909,0.009753981096495909,0.009838144465824357,0.009838144465824357,0.009838144465824357,0.009916358549787903,0.009916358549787903,0.009916358549787903,0.009988470399209151,0.009988470399209151,0.009988470399209151,0.009988470399209151,0.009988470399209151,0.009988470399209151,0.009988470399209151,0.009988470399209151,0.010054338262543533,0.010054338262543533,0.010054338262543533,0.010054338262543533,0.010054338262543533,0.010054338262543533,0.010113832050051523,0.010113832050051523,0.010113832050051523,0.010113832050051523,0.010113832050051523,0.010113832050051523,0.010113832050051523,0.010166833761837267,0.010166833761837267,0.010166833761837267,0.010166833761837267,0.010166833761837267,0.010166833761837267,0.010166833761837267,0.010213237877782718,0.010213237877782718,0.010213237877782718,0.010213237877782718,0.010213237877782718,0.010213237877782718,0.010213237877782718,0.010213237877782718,0.010213237877782718,0.010252951707573914,0.010252951707573914,0.010252951707573914,0.01028589569919438,0.01028589569919438,0.01028589569919438,0.01028589569919438,0.01028589569919438,0.01028589569919438,0.01028589569919438,0.01028589569919438,0.010312003704448559,0.010312003704448559,0.010312003704448559,0.010312003704448559,0.010312003704448559,0.010312003704448559,0.010312003704448559,0.010312003704448559,0.010312003704448559,0.010331223200274912,0.010331223200274912,0.010331223200274912,0.010343515464812221,0.010343515464812221,0.010343515464812221,0.010343515464812221,0.010343515464812221,0.010343515464812221,0.010343515464812221,0.010343515464812221,0.010348855707393034,0.010348855707393034,0.010348855707393034,0.010348855707393034,0.010347233151853425,0.010347233151853425,0.010347233151853425,0.010347233151853425,0.010338651072767205,0.010338651072767205,0.010338651072767205,0.010338651072767205,0.010338651072767205,0.010338651072767205,0.010323126784434037,0.010323126784434037,0.010323126784434037,0.010300691582673317,0.010300691582673317,0.010300691582673317,0.010300691582673317,0.010300691582673317,0.010300691582673317,0.010300691582673317,0.010300691582673317,0.010300691582673317,0.010300691582673317,0.010300691582673317,0.010300691582673317,0.010300691582673317,0.010271390639697668,0.010271390639697668,0.010271390639697668,0.010271390639697668,0.010271390639697668,0.010235282852560356,0.010235282852560356,0.010235282852560356,0.010235282852560356,0.010235282852560356,0.010235282852560356,0.010235282852560356,0.010235282852560356,0.010235282852560356,0.010192440645888272,0.010192440645888272,0.010192440645888272,0.010192440645888272,0.010192440645888272,0.010192440645888272,0.010192440645888272,0.010142949729825318,0.010142949729825318,0.010142949729825318,0.010142949729825318,0.010142949729825318,0.010142949729825318,0.010142949729825318,0.010142949729825318,0.010086908814318474,0.010086908814318474,0.010086908814318474,0.010086908814318474,0.010024429281079635,0.010024429281079635,0.010024429281079635,0.010024429281079635,0.010024429281079635,0.010024429281079635,0.010024429281079635,0.010024429281079635,0.010024429281079635,0.009955634814749013,0.009955634814749013,0.009955634814749013,0.009955634814749013,0.009955634814749013,0.009955634814749013,0.009955634814749013,0.009955634814749013,0.009880660994969467,0.009880660994969467,0.009880660994969467,0.009880660994969467,0.009799654851254641,0.009799654851254641,0.009799654851254641,0.009799654851254641,0.009799654851254641,0.009799654851254641,0.009799654851254641,0.009712774382695967,0.009712774382695967,0.009712774382695967,0.009712774382695967,0.009712774382695967,0.009712774382695967,0.009712774382695967,0.009712774382695967,0.009712774382695967,0.009712774382695967,0.009620188044703826,0.009620188044703826,0.009620188044703826,0.009620188044703826,0.009620188044703826,0.009620188044703826,0.009522074205115418,0.009522074205115418,0.009522074205115418,0.009522074205115418,0.009522074205115418,0.009522074205115418,0.009522074205115418,0.009522074205115418,0.009418620572125615,0.009418620572125615,0.009418620572125615,0.00931002359660641,0.00931002359660641,0.00931002359660641,0.00931002359660641,0.00931002359660641,0.00931002359660641,0.009196487851475343,0.009196487851475343,0.009196487851475343,0.009196487851475343,0.009196487851475343,0.009196487851475343,0.009196487851475343,0.009196487851475343,0.00907822539085258,0.00907822539085258,0.00907822539085258,0.00907822539085258,0.00907822539085258,0.00907822539085258,0.00907822539085258,0.00907822539085258,0.00907822539085258,0.008955455091810423,0.008955455091810423,0.008955455091810423,0.008955455091810423,0.008955455091810423,0.008955455091810423,0.008955455091810423,0.008955455091810423,0.008955455091810423,0.008955455091810423,0.008828401981567084,0.008828401981567084,0.008828401981567084,0.008828401981567084,0.008828401981567084,0.008828401981567084,0.008828401981567084,0.00869729655300899,0.00869729655300899,0.00869729655300899,0.00869729655300899,0.00869729655300899,0.00869729655300899,0.008562374071442424,0.008562374071442424,0.008562374071442424,0.008562374071442424,0.008562374071442424,0.008562374071442424,0.008423873875476122,0.008423873875476122,0.008423873875476122,0.008423873875476122,0.008423873875476122,0.008423873875476122,0.008423873875476122,0.008423873875476122,0.008423873875476122,0.008423873875476122,0.008423873875476122,0.008282038674921725,0.008282038674921725,0.008282038674921725,0.008282038674921725,0.008282038674921725,0.008282038674921725,0.008282038674921725,0.008282038674921725,0.008282038674921725,0.00813711384856916,0.00813711384856916,0.00813711384856916,0.00813711384856916,0.00813711384856916,0.00813711384856916,0.00813711384856916,0.00813711384856916,0.00813711384856916,0.00813711384856916,0.00813711384856916,0.0079893467446493,0.0079893467446493,0.0079893467446493,0.0079893467446493,0.0079893467446493,0.0079893467446493,0.0079893467446493,0.0079893467446493,0.0079893467446493,0.0079893467446493,0.007838985986737343,0.007838985986737343,0.007838985986737343,0.007838985986737343,0.007838985986737343,0.0076862807877777,0.0076862807877777,0.0076862807877777,0.0076862807877777,0.0076862807877777,0.0076862807877777,0.007531480274825517,0.007531480274825517,0.007531480274825517,0.007531480274825517,0.007531480274825517,0.007531480274825517,0.007531480274825517,0.007531480274825517,0.007531480274825517,0.007531480274825517,0.007531480274825517,0.007374832827002012,0.007374832827002012,0.007374832827002012,0.007374832827002012,0.007374832827002012,0.007374832827002012,0.007374832827002012,0.007374832827002012,0.007374832827002012,0.007374832827002012,0.007374832827002012,0.007374832827002012,0.007374832827002012,0.007216585429051428,0.007216585429051428,0.007216585429051428,0.007216585429051428,0.007216585429051428,0.007216585429051428,0.007216585429051428,0.007216585429051428,0.007216585429051428,0.007216585429051428,0.007056983042767395,0.007056983042767395,0.007056983042767395,0.007056983042767395,0.007056983042767395,0.007056983042767395,0.007056983042767395,0.007056983042767395,0.007056983042767395,0.007056983042767395,0.007056983042767395,0.007056983042767395,0.007056983042767395,0.007056983042767395,0.006896267998426857,0.006896267998426857,0.006896267998426857,0.006896267998426857,0.006896267998426857,0.006896267998426857,0.006896267998426857,0.006896267998426857,0.006896267998426857,0.006896267998426857,0.006896267998426857,0.006896267998426857,0.006896267998426857,0.006734679408231404,0.006734679408231404,0.006734679408231404,0.006734679408231404,0.006734679408231404,0.006734679408231404,0.006734679408231404,0.006734679408231404,0.006734679408231404,0.006734679408231404,0.006734679408231404,0.006572452603609812,0.006572452603609812,0.006572452603609812,0.006572452603609812,0.006572452603609812,0.006572452603609812,0.006572452603609812,0.006572452603609812,0.006572452603609812,0.006572452603609812,0.006409818598082988,0.006409818598082988,0.006409818598082988,0.006409818598082988,0.006409818598082988,0.006409818598082988,0.006409818598082988,0.006409818598082988,0.006409818598082988,0.006409818598082988,0.006409818598082988,0.006409818598082988,0.006409818598082988,0.006409818598082988,0.006409818598082988,0.0062470035772343065,0.0062470035772343065,0.0062470035772343065,0.0062470035772343065,0.0062470035772343065,0.0062470035772343065,0.0062470035772343065,0.0060842284171655865,0.0060842284171655865,0.0060842284171655865,0.0060842284171655865,0.0060842284171655865,0.0060842284171655865,0.0060842284171655865,0.0060842284171655865,0.0060842284171655865,0.0060842284171655865,0.0060842284171655865,0.0060842284171655865,0.005921708232652902,0.005921708232652902,0.005921708232652902,0.005921708232652902,0.005921708232652902,0.005921708232652902,0.005921708232652902,0.005921708232652902,0.005921708232652902,0.005921708232652902,0.005921708232652902,0.005921708232652902,0.005921708232652902,0.005921708232652902,0.005921708232652902,0.005921708232652902,0.005921708232652902,0.005921708232652902,0.005921708232652902,0.005921708232652902,0.005921708232652902,0.005921708232652902,0.005759651956047893,0.005759651956047893,0.005759651956047893,0.005759651956047893,0.005759651956047893,0.005759651956047893,0.005598261947800553,0.005598261947800553,0.005598261947800553,0.005598261947800553,0.005598261947800553,0.005598261947800553,0.005598261947800553,0.005598261947800553,0.0054377336393094805,0.0054377336393094805,0.0054377336393094805,0.0054377336393094805,0.0054377336393094805,0.005278255208636431,0.005278255208636431,0.005278255208636431,0.005278255208636431,0.005278255208636431,0.005120007289454582,0.005120007289454582,0.005120007289454582,0.005120007289454582,0.005120007289454582,0.005120007289454582,0.005120007289454582,0.004963162713435292,0.004963162713435292,0.004963162713435292,0.004963162713435292,0.004807886286117095,0.004807886286117095,0.004807886286117095,0.004807886286117095,0.004807886286117095,0.004807886286117095,0.004807886286117095,0.004807886286117095,0.004654334596144113,0.004654334596144113,0.004654334596144113,0.004654334596144113,0.004654334596144113,0.004654334596144113,0.004654334596144113,0.004654334596144113,0.004654334596144113,0.004502655857609838,0.004502655857609838,0.004502655857609838,0.004502655857609838,0.004502655857609838,0.004502655857609838,0.004502655857609838,0.004502655857609838,0.004502655857609838,0.004502655857609838,0.004502655857609838,0.004502655857609838,0.004502655857609838,0.004502655857609838,0.004502655857609838,0.004502655857609838,0.004502655857609838,0.004502655857609838,0.004352989785097022,0.004352989785097022,0.004352989785097022,0.004352989785097022,0.004352989785097022,0.004352989785097022,0.004352989785097022,0.004352989785097022,0.004352989785097022,0.004352989785097022,0.004352989785097022,0.004352989785097022,0.004352989785097022,0.004352989785097022,0.004205467500865862,0.004205467500865862,0.004205467500865862,0.004205467500865862,0.004205467500865862,0.004205467500865862,0.004205467500865862,0.004205467500865862,0.004205467500865862,0.004205467500865862,0.004205467500865862,0.004205467500865862,0.004205467500865862,0.004060211473511516,0.004060211473511516,0.004060211473511516,0.004060211473511516,0.004060211473511516,0.004060211473511516,0.003917335487288624,0.003917335487288624,0.003917335487288624,0.003917335487288624,0.003917335487288624,0.003917335487288624,0.003917335487288624,0.003917335487288624,0.003917335487288624,0.003917335487288624,0.003917335487288624,0.003917335487288624,0.0037769446411855525,0.0037769446411855525,0.0037769446411855525,0.0037769446411855525,0.0037769446411855525,0.0037769446411855525,0.003639135376724802,0.003639135376724802,0.003639135376724802,0.003639135376724802,0.003639135376724802,0.003639135376724802,0.003639135376724802,0.003639135376724802,0.003639135376724802,0.003639135376724802,0.003503995533368909,0.003503995533368909,0.003503995533368909,0.003503995533368909,0.003503995533368909,0.003503995533368909,0.003503995533368909,0.003503995533368909,0.003503995533368909,0.003503995533368909,0.003503995533368909,0.003371604430323262,0.003371604430323262,0.003371604430323262,0.003371604430323262,0.003371604430323262,0.003371604430323262,0.003371604430323262,0.003371604430323262,0.003371604430323262,0.003371604430323262,0.003371604430323262,0.003242032973449058,0.003242032973449058,0.003242032973449058,0.003242032973449058,0.003242032973449058,0.003242032973449058,0.003242032973449058,0.003242032973449058,0.003242032973449058,0.003242032973449058,0.0031153437859308846,0.002753075189005994]}},\"id\":\"690a67ad-3b50-4eed-8251-06bb3ab44159\",\"type\":\"ColumnDataSource\"},{\"attributes\":{\"bottom\":{\"value\":0},\"fill_alpha\":{\"value\":0.3},\"fill_color\":{\"value\":\"red\"},\"left\":{\"field\":\"left\"},\"line_color\":{\"value\":\"#033649\"},\"right\":{\"field\":\"right\"},\"top\":{\"field\":\"top\"}},\"id\":\"73654171-fc57-4de6-ba90-46cdadd8fe95\",\"type\":\"Quad\"},{\"attributes\":{\"bottom_units\":\"screen\",\"fill_alpha\":{\"value\":0.5},\"fill_color\":{\"value\":\"lightgrey\"},\"left_units\":\"screen\",\"level\":\"overlay\",\"line_alpha\":{\"value\":1.0},\"line_color\":{\"value\":\"black\"},\"line_dash\":[4,4],\"line_width\":{\"value\":2},\"plot\":null,\"render_mode\":\"css\",\"right_units\":\"screen\",\"top_units\":\"screen\"},\"id\":\"e50013a2-1dfc-40fc-a251-637c8caaef45\",\"type\":\"BoxAnnotation\"},{\"attributes\":{\"line_alpha\":{\"value\":0.7},\"line_color\":{\"value\":\"red\"},\"line_width\":{\"value\":6},\"x\":{\"field\":\"x\"},\"y\":{\"field\":\"y\"}},\"id\":\"ef2d2bee-ff65-43ca-a477-cd0c7be45bad\",\"type\":\"Line\"},{\"attributes\":{\"callback\":null,\"column_names\":[\"right\",\"top\",\"left\"],\"data\":{\"left\":[5.0,11.95,18.9,25.85,32.8,39.75,46.7,53.65,60.6,67.55000000000001,74.5,81.45,88.4,95.35000000000001,102.3,109.25,116.2,123.15,130.10000000000002,137.05],\"right\":[11.95,18.9,25.85,32.8,39.75,46.7,53.65,60.6,67.55000000000001,74.5,81.45,88.4,95.35000000000001,102.3,109.25,116.2,123.15,130.10000000000002,137.05,144.0],\"top\":[0.0025899280575539573,0.005755395683453238,0.005467625899280574,0.005467625899280579,0.00820143884892086,0.006906474820143882,0.00705035971223022,0.006906474820143882,0.008345323741007181,0.005899280575539578,0.006330935251798558,0.006762589928057551,0.007194244604316544,0.007194244604316559,0.008633093525179852,0.010359712230215824,0.011942446043165463,0.006618705035971207,0.011366906474820162,0.00489208633093526]}},\"id\":\"b31cedd9-d979-429d-bdb4-d566e851484c\",\"type\":\"ColumnDataSource\"},{\"attributes\":{},\"id\":\"d4fc7805-223c-484c-8a04-453f8f668f04\",\"type\":\"BasicTickFormatter\"},{\"attributes\":{\"active_drag\":\"auto\",\"active_scroll\":\"auto\",\"active_tap\":\"auto\",\"tools\":[{\"id\":\"4cd547cd-9e83-4ccf-ab81-ebf6b05a275b\",\"type\":\"PanTool\"},{\"id\":\"ed3e26ff-39fb-4fc4-a5d3-35989fd78cd5\",\"type\":\"WheelZoomTool\"},{\"id\":\"14502ae0-d656-403e-a019-47bcdda44596\",\"type\":\"BoxZoomTool\"},{\"id\":\"2c08aaa2-f0c9-4c22-a7bf-6b6e161431d8\",\"type\":\"SaveTool\"},{\"id\":\"3982ae25-d5a2-4ac5-87f1-1313f1904357\",\"type\":\"ResetTool\"},{\"id\":\"d97f407c-13d7-4e42-8cc6-a08f8774bae9\",\"type\":\"HelpTool\"}]},\"id\":\"93018c21-508c-48f1-8835-21d9eeec902f\",\"type\":\"Toolbar\"},{\"attributes\":{\"plot\":{\"id\":\"201a039f-15c7-4103-8824-03d2859a2366\",\"subtype\":\"Figure\",\"type\":\"Plot\"}},\"id\":\"2c08aaa2-f0c9-4c22-a7bf-6b6e161431d8\",\"type\":\"SaveTool\"},{\"attributes\":{\"dimension\":1,\"plot\":{\"id\":\"201a039f-15c7-4103-8824-03d2859a2366\",\"subtype\":\"Figure\",\"type\":\"Plot\"},\"ticker\":{\"id\":\"5121e565-0304-4845-ba67-769c9473ef67\",\"type\":\"BasicTicker\"}},\"id\":\"516da3ac-cda4-4b62-a573-11ca1f9c3d35\",\"type\":\"Grid\"},{\"attributes\":{\"bottom\":{\"value\":0},\"fill_alpha\":{\"value\":0.1},\"fill_color\":{\"value\":\"#1f77b4\"},\"left\":{\"field\":\"left\"},\"line_alpha\":{\"value\":0.1},\"line_color\":{\"value\":\"#1f77b4\"},\"right\":{\"field\":\"right\"},\"top\":{\"field\":\"top\"}},\"id\":\"fff2a1a9-56c6-4870-b651-6e4dde7c2799\",\"type\":\"Quad\"},{\"attributes\":{\"line_alpha\":{\"value\":0.1},\"line_color\":{\"value\":\"#1f77b4\"},\"line_width\":{\"value\":6},\"x\":{\"field\":\"x\"},\"y\":{\"field\":\"y\"}},\"id\":\"ed97f062-922a-43f5-bb2a-3e1d57859862\",\"type\":\"Line\"},{\"attributes\":{\"plot\":{\"id\":\"201a039f-15c7-4103-8824-03d2859a2366\",\"subtype\":\"Figure\",\"type\":\"Plot\"}},\"id\":\"ed3e26ff-39fb-4fc4-a5d3-35989fd78cd5\",\"type\":\"WheelZoomTool\"},{\"attributes\":{},\"id\":\"61077536-cfc0-482b-82e9-323c82bea078\",\"type\":\"BasicTickFormatter\"},{\"attributes\":{},\"id\":\"b7cc88cc-ca7b-4f02-9c5e-50fd23409992\",\"type\":\"BasicTicker\"},{\"attributes\":{\"line_alpha\":{\"value\":0.7},\"line_color\":{\"value\":\"navy\"},\"line_width\":{\"value\":6},\"x\":{\"field\":\"x\"},\"y\":{\"field\":\"y\"}},\"id\":\"d63f690e-fab6-40ca-a726-87091eb2aeca\",\"type\":\"Line\"},{\"attributes\":{\"bottom\":{\"value\":0},\"fill_alpha\":{\"value\":0.1},\"fill_color\":{\"value\":\"#1f77b4\"},\"left\":{\"field\":\"left\"},\"line_alpha\":{\"value\":0.1},\"line_color\":{\"value\":\"#1f77b4\"},\"right\":{\"field\":\"right\"},\"top\":{\"field\":\"top\"}},\"id\":\"1eb3acce-faa9-49ea-bbd9-ed94c565efdb\",\"type\":\"Quad\"},{\"attributes\":{\"callback\":null,\"column_names\":[\"x\",\"y\"],\"data\":{\"x\":[6,8,10,11,11,12,12,12,12,12,12,13,13,14,14,14,14,14,15,16,16,16,16,17,17,17,19,19,19,21,21,22,22,23,24,25,26,26,27,27,27,28,28,28,28,29,29,29,30,30,31,31,32,33,34,34,34,34,35,36,36,36,37,37,37,37,37,38,38,39,39,39,39,39,39,39,40,40,40,40,40,41,41,41,41,41,42,42,42,42,42,43,43,44,44,45,45,45,45,46,46,46,46,46,47,47,47,47,47,48,48,48,48,48,48,48,49,49,49,49,49,49,49,50,50,50,51,52,52,52,52,53,53,53,54,54,54,54,55,55,55,55,55,55,55,55,56,56,56,56,56,56,56,56,56,57,57,57,58,58,59,60,60,60,60,60,60,60,60,60,60,61,61,61,61,62,62,62,62,62,63,63,63,63,64,64,64,64,64,64,64,64,64,64,65,65,65,65,65,65,66,66,66,66,66,66,66,66,66,67,67,67,67,68,68,68,68,68,68,69,69,69,69,69,69,69,69,69,69,69,70,70,70,70,70,70,70,70,70,70,71,71,71,71,71,71,71,71,71,71,71,72,72,72,72,72,72,72,72,72,72,73,73,73,73,73,73,73,74,74,74,74,74,74,75,75,75,75,75,75,75,75,75,75,75,75,75,75,75,75,76,76,76,76,76,76,76,76,77,77,77,77,77,77,77,78,78,78,78,78,79,79,79,79,79,79,79,80,80,80,80,80,80,80,81,81,81,82,82,82,82,82,82,82,82,83,83,83,83,83,83,83,83,83,84,84,84,84,84,85,85,85,85,85,85,85,86,86,86,86,86,86,87,87,87,87,87,87,87,88,88,88,88,88,88,88,88,88,88,88,88,88,88,88,88,89,89,89,89,89,89,89,89,90,90,90,90,90,90,90,90,90,90,90,90,90,90,90,90,91,91,91,91,91,91,92,92,92,92,92,92,92,92,92,92,92,93,93,93,93,93,93,93,93,93,94,94,94,94,94,94,94,94,94,94,94,94,94,95,95,95,95,95,95,96,96,96,96,96,97,97,97,97,97,97,97,97,97,97,97,97,97,97,98,98,98,98,98,98,98,98,98,98,98,98,98,98,98,98,98,98,99,99,99,99,99,100,100,100,100,100,100,100,100,100,100,100,100,101,101,101,101,101,101,101,101,101,101,101,102,102,102,102,102,102,102,102,102,102,103,103,103,103,103,103,103,103,103,104,104,104,104,104,104,104,104,104,104,104,104,104,104,104,105,105,105,105,105,105,105,106,106,106,106,106,106,106,106,106,106,106,106,107,107,107,107,107,107,107,108,108,108,108,108,108,108,108,109,109,109,109,109,109,109,109,109,109,110,110,110,110,110,110,110,110,110,110,110,110,110,110,110,110,110,110,110,110,110,110,111,111,111,111,111,111,111,111,111,111,111,111,111,111,111,111,111,112,112,112,112,112,112,112,112,112,112,112,112,112,112,112,112,112,112,112,113,113,113,113,113,113,113,113,113,113,113,113,113,113,114,114,114,114,114,114,114,114,114,114,114,114,114,114,114,114,114,114,114,115,115,115,115,115,115,115,115,115,115,115,115,115,115,115,116,116,116,116,116,116,116,116,116,116,116,116,116,117,117,117,117,117,117,117,117,117,117,117,118,118,118,118,118,118,118,118,118,118,118,118,118,118,118,118,118,118,118,118,118,119,119,119,119,119,119,119,119,119,119,119,119,119,119,119,119,119,119,119,120,120,120,120,120,120,120,120,120,120,120,120,120,120,120,120,120,120,120,120,120,120,121,121,121,121,121,121,121,121,121,121,121,121,121,121,121,121,122,122,122,122,122,122,122,122,122,122,122,122,122,122,122,122,122,122,122,122,122,122,122,122,123,123,123,123,123,123,123,123,123,123,124,124,124,124,124,124,124,124,124,125,125,125,125,125,125,125,125,125,125,125,126,126,126,126,126,126,126,126,126,126,126,126,126,127,127,127,127,127,127,127,127,127,128,128,128,128,128,128,128,129,129,129,129,130,130,130,130,130,130,130,130,130,130,130,130,130,130,130,130,131,131,131,131,131,131,131,131,131,131,131,131,131,132,132,132,132,132,132,132,132,132,132,132,132,132,132,133,133,133,133,133,133,133,133,133,133,133,134,134,134,134,134,134,134,134,134,134,134,134,134,134,134,135,135,135,135,135,136,136,136,136,137,137,137,137,137,137,137,137,137,137,137,137,138,138,138,138,138,138,138,139,139,139,139,139,140,140,140,140,142,165],\"y\":[0.00029800583938421166,0.0003531582250947239,0.0004168695013177598,0.0004522440520024083,0.0004522440520024083,0.0004901366363214776,0.0004901366363214776,0.0004901366363214776,0.0004901366363214776,0.0004901366363214776,0.0004901366363214776,0.0005306803780402704,0.0005306803780402704,0.0005740113173848584,0.0005740113173848584,0.0005740113173848584,0.0005740113173848584,0.0005740113173848584,0.0006202680938953062,0.0006695915898962449,0.0006695915898962449,0.0006695915898962449,0.0006695915898962449,0.0007221245335637515,0.0007221245335637515,0.0007221245335637515,0.0008373962351538798,0.0008373962351538798,0.0008373962351538798,0.0009672442439752697,0.0009672442439752697,0.001037996934974998,0.001037996934974998,0.0011128267324575709,0.001191874669414828,0.001275278951071356,0.001363174189995699,0.001363174189995699,0.001455690605627651,0.001455690605627651,0.001455690605627651,0.0015529531906294674,0.0015529531906294674,0.0015529531906294674,0.0015529531906294674,0.0016550808468727028,0.0016550808468727028,0.0016550808468727028,0.0017621854942809982,0.0017621854942809982,0.001874371156159382,0.001874371156159382,0.0019917330250486453,0.00211435651354529,0.002242316294919449,0.002242316294919449,0.002242316294919449,0.002242316294919449,0.0023756753387405914,0.0025144839470796687,0.0025144839470796687,0.0025144839470796687,0.0026587787971919553,0.0026587787971919553,0.0026587787971919553,0.0026587787971919553,0.0026587787971919553,0.00280858199689283,0.00280858199689283,0.0029639001591146613,0.0029639001591146613,0.0029639001591146613,0.0029639001591146613,0.0029639001591146613,0.0029639001591146613,0.0029639001591146613,0.0031247235023723692,0.0031247235023723692,0.0031247235023723692,0.0031247235023723692,0.0031247235023723692,0.003291024984063825,0.003291024984063825,0.003291024984063825,0.003291024984063825,0.003291024984063825,0.003462759473684942,0.003462759473684942,0.003462759473684942,0.003462759473684942,0.003462759473684942,0.0036398629731441276,0.0036398629731441276,0.003822251891413215,0.003822251891413215,0.004009822380748547,0.004009822380748547,0.004009822380748547,0.004009822380748547,0.004202449741653925,0.004202449741653925,0.004202449741653925,0.004202449741653925,0.004202449741653925,0.004399987903633938,0.004399987903633938,0.004399987903633938,0.004399987903633938,0.004399987903633938,0.004602268988599972,0.004602268988599972,0.004602268988599972,0.004602268988599972,0.004602268988599972,0.004602268988599972,0.004602268988599972,0.004809102963540411,0.004809102963540411,0.004809102963540411,0.004809102963540411,0.004809102963540411,0.004809102963540411,0.004809102963540411,0.005020277388750367,0.005020277388750367,0.005020277388750367,0.005235557267534497,0.005454685002849491,0.005454685002849491,0.005454685002849491,0.005454685002849491,0.005677380465841659,0.005677380465841659,0.005677380465841659,0.005903341180661652,0.005903341180661652,0.005903341180661652,0.005903341180661652,0.0061322426293049835,0.0061322426293049835,0.0061322426293049835,0.0061322426293049835,0.0061322426293049835,0.0061322426293049835,0.0061322426293049835,0.0061322426293049835,0.006363738679537209,0.006363738679537209,0.006363738679537209,0.006363738679537209,0.006363738679537209,0.006363738679537209,0.006363738679537209,0.006363738679537209,0.006363738679537209,0.006597462138219777,0.006597462138219777,0.006597462138219777,0.006833025431561899,0.006833025431561899,0.007070021412989902,0.007308024298454946,0.007308024298454946,0.007308024298454946,0.007308024298454946,0.007308024298454946,0.007308024298454946,0.007308024298454946,0.007308024298454946,0.007308024298454946,0.007308024298454946,0.007546590728098589,0.007546590728098589,0.007546590728098589,0.007546590728098589,0.007785260952271053,0.007785260952271053,0.007785260952271053,0.007785260952271053,0.007785260952271053,0.008023560138956245,0.008023560138956245,0.008023560138956245,0.008023560138956245,0.008260999798708863,0.008260999798708863,0.008260999798708863,0.008260999798708863,0.008260999798708863,0.008260999798708863,0.008260999798708863,0.008260999798708863,0.008260999798708863,0.008260999798708863,0.008497079322260388,0.008497079322260388,0.008497079322260388,0.008497079322260388,0.008497079322260388,0.008497079322260388,0.008731287625011016,0.008731287625011016,0.008731287625011016,0.008731287625011016,0.008731287625011016,0.008731287625011016,0.008731287625011016,0.008731287625011016,0.008731287625011016,0.008963104891702373,0.008963104891702373,0.008963104891702373,0.008963104891702373,0.009192004413670065,0.009192004413670065,0.009192004413670065,0.009192004413670065,0.009192004413670065,0.009192004413670065,0.009417454510214305,0.009417454510214305,0.009417454510214305,0.009417454510214305,0.009417454510214305,0.009417454510214305,0.009417454510214305,0.009417454510214305,0.009417454510214305,0.009417454510214305,0.009417454510214305,0.009638920524810189,0.009638920524810189,0.009638920524810189,0.009638920524810189,0.009638920524810189,0.009638920524810189,0.009638920524810189,0.009638920524810189,0.009638920524810189,0.009638920524810189,0.009855866886114754,0.009855866886114754,0.009855866886114754,0.009855866886114754,0.009855866886114754,0.009855866886114754,0.009855866886114754,0.009855866886114754,0.009855866886114754,0.009855866886114754,0.009855866886114754,0.010067759223024228,0.010067759223024228,0.010067759223024228,0.010067759223024228,0.010067759223024228,0.010067759223024228,0.010067759223024228,0.010067759223024228,0.010067759223024228,0.010067759223024228,0.010274066522399667,0.010274066522399667,0.010274066522399667,0.010274066522399667,0.010274066522399667,0.010274066522399667,0.010274066522399667,0.010474263317519704,0.010474263317519704,0.010474263317519704,0.010474263317519704,0.010474263317519704,0.010474263317519704,0.010667831894842352,0.010667831894842352,0.010667831894842352,0.010667831894842352,0.010667831894842352,0.010667831894842352,0.010667831894842352,0.010667831894842352,0.010667831894842352,0.010667831894842352,0.010667831894842352,0.010667831894842352,0.010667831894842352,0.010667831894842352,0.010667831894842352,0.010667831894842352,0.010854264506269575,0.010854264506269575,0.010854264506269575,0.010854264506269575,0.010854264506269575,0.010854264506269575,0.010854264506269575,0.010854264506269575,0.011033065573814206,0.011033065573814206,0.011033065573814206,0.011033065573814206,0.011033065573814206,0.011033065573814206,0.011033065573814206,0.01120375387337317,0.01120375387337317,0.01120375387337317,0.01120375387337317,0.01120375387337317,0.011365864684217408,0.011365864684217408,0.011365864684217408,0.011365864684217408,0.011365864684217408,0.011365864684217408,0.011365864684217408,0.011518951890820283,0.011518951890820283,0.011518951890820283,0.011518951890820283,0.011518951890820283,0.011518951890820283,0.011518951890820283,0.011662590023763962,0.011662590023763962,0.011662590023763962,0.01179637622668826,0.01179637622668826,0.01179637622668826,0.01179637622668826,0.01179637622668826,0.01179637622668826,0.01179637622668826,0.01179637622668826,0.011919932136578071,0.011919932136578071,0.011919932136578071,0.011919932136578071,0.011919932136578071,0.011919932136578071,0.011919932136578071,0.011919932136578071,0.011919932136578071,0.012032905665122396,0.012032905665122396,0.012032905665122396,0.012032905665122396,0.012032905665122396,0.012134972669417668,0.012134972669417668,0.012134972669417668,0.012134972669417668,0.012134972669417668,0.012134972669417668,0.012134972669417668,0.012225838500926779,0.012225838500926779,0.012225838500926779,0.012225838500926779,0.012225838500926779,0.012225838500926779,0.012305239422338632,0.012305239422338632,0.012305239422338632,0.012305239422338632,0.012305239422338632,0.012305239422338632,0.012305239422338632,0.012372943882795149,0.012372943882795149,0.012372943882795149,0.012372943882795149,0.012372943882795149,0.012372943882795149,0.012372943882795149,0.012372943882795149,0.012372943882795149,0.012372943882795149,0.012372943882795149,0.012372943882795149,0.012372943882795149,0.012372943882795149,0.012372943882795149,0.012372943882795149,0.01242875364285747,0.01242875364285747,0.01242875364285747,0.01242875364285747,0.01242875364285747,0.01242875364285747,0.01242875364285747,0.01242875364285747,0.012472504741562678,0.012472504741562678,0.012472504741562678,0.012472504741562678,0.012472504741562678,0.012472504741562678,0.012472504741562678,0.012472504741562678,0.012472504741562678,0.012472504741562678,0.012472504741562678,0.012472504741562678,0.012472504741562678,0.012472504741562678,0.012472504741562678,0.012472504741562678,0.012504068298968999,0.012504068298968999,0.012504068298968999,0.012504068298968999,0.012504068298968999,0.012504068298968999,0.012523351148691755,0.012523351148691755,0.012523351148691755,0.012523351148691755,0.012523351148691755,0.012523351148691755,0.012523351148691755,0.012523351148691755,0.012523351148691755,0.012523351148691755,0.012523351148691755,0.012530296296085387,0.012530296296085387,0.012530296296085387,0.012530296296085387,0.012530296296085387,0.012530296296085387,0.012530296296085387,0.012530296296085387,0.012530296296085387,0.012524883198917881,0.012524883198917881,0.012524883198917881,0.012524883198917881,0.012524883198917881,0.012524883198917881,0.012524883198917881,0.012524883198917881,0.012524883198917881,0.012524883198917881,0.012524883198917881,0.012524883198917881,0.012524883198917881,0.012507127868603253,0.012507127868603253,0.012507127868603253,0.012507127868603253,0.012507127868603253,0.012507127868603253,0.012477082791293807,0.012477082791293807,0.012477082791293807,0.012477082791293807,0.012477082791293807,0.012434836669376462,0.012434836669376462,0.012434836669376462,0.012434836669376462,0.012434836669376462,0.012434836669376462,0.012434836669376462,0.012434836669376462,0.012434836669376462,0.012434836669376462,0.012434836669376462,0.012434836669376462,0.012434836669376462,0.012434836669376462,0.012380513985154998,0.012380513985154998,0.012380513985154998,0.012380513985154998,0.012380513985154998,0.012380513985154998,0.012380513985154998,0.012380513985154998,0.012380513985154998,0.012380513985154998,0.012380513985154998,0.012380513985154998,0.012380513985154998,0.012380513985154998,0.012380513985154998,0.012380513985154998,0.012380513985154998,0.012380513985154998,0.012314274389721923,0.012314274389721923,0.012314274389721923,0.012314274389721923,0.012314274389721923,0.012236311921218872,0.012236311921218872,0.012236311921218872,0.012236311921218872,0.012236311921218872,0.012236311921218872,0.012236311921218872,0.012236311921218872,0.012236311921218872,0.012236311921218872,0.012236311921218872,0.012236311921218872,0.012146854057842698,0.012146854057842698,0.012146854057842698,0.012146854057842698,0.012146854057842698,0.012146854057842698,0.012146854057842698,0.012146854057842698,0.012146854057842698,0.012146854057842698,0.012146854057842698,0.012046160612065324,0.012046160612065324,0.012046160612065324,0.012046160612065324,0.012046160612065324,0.012046160612065324,0.012046160612065324,0.012046160612065324,0.012046160612065324,0.012046160612065324,0.011934522473589705,0.011934522473589705,0.011934522473589705,0.011934522473589705,0.011934522473589705,0.011934522473589705,0.011934522473589705,0.011934522473589705,0.011934522473589705,0.011812260209552615,0.011812260209552615,0.011812260209552615,0.011812260209552615,0.011812260209552615,0.011812260209552615,0.011812260209552615,0.011812260209552615,0.011812260209552615,0.011812260209552615,0.011812260209552615,0.011812260209552615,0.011812260209552615,0.011812260209552615,0.011812260209552615,0.011679722531399442,0.011679722531399442,0.011679722531399442,0.011679722531399442,0.011679722531399442,0.011679722531399442,0.011679722531399442,0.011537284638688949,0.011537284638688949,0.011537284638688949,0.011537284638688949,0.011537284638688949,0.011537284638688949,0.011537284638688949,0.011537284638688949,0.011537284638688949,0.011537284638688949,0.011537284638688949,0.011537284638688949,0.011385346450830698,0.011385346450830698,0.011385346450830698,0.011385346450830698,0.011385346450830698,0.011385346450830698,0.011385346450830698,0.011224330738408513,0.011224330738408513,0.011224330738408513,0.011224330738408513,0.011224330738408513,0.011224330738408513,0.011224330738408513,0.011224330738408513,0.01105468116629556,0.01105468116629556,0.01105468116629556,0.01105468116629556,0.01105468116629556,0.01105468116629556,0.01105468116629556,0.01105468116629556,0.01105468116629556,0.01105468116629556,0.01087686026121645,0.01087686026121645,0.01087686026121645,0.01087686026121645,0.01087686026121645,0.01087686026121645,0.01087686026121645,0.01087686026121645,0.01087686026121645,0.01087686026121645,0.01087686026121645,0.01087686026121645,0.01087686026121645,0.01087686026121645,0.01087686026121645,0.01087686026121645,0.01087686026121645,0.01087686026121645,0.01087686026121645,0.01087686026121645,0.01087686026121645,0.01087686026121645,0.01069134731675653,0.01069134731675653,0.01069134731675653,0.01069134731675653,0.01069134731675653,0.01069134731675653,0.01069134731675653,0.01069134731675653,0.01069134731675653,0.01069134731675653,0.01069134731675653,0.01069134731675653,0.01069134731675653,0.01069134731675653,0.01069134731675653,0.01069134731675653,0.01069134731675653,0.010498636249056746,0.010498636249056746,0.010498636249056746,0.010498636249056746,0.010498636249056746,0.010498636249056746,0.010498636249056746,0.010498636249056746,0.010498636249056746,0.010498636249056746,0.010498636249056746,0.010498636249056746,0.010498636249056746,0.010498636249056746,0.010498636249056746,0.010498636249056746,0.010498636249056746,0.010498636249056746,0.010498636249056746,0.010299233416563568,0.010299233416563568,0.010299233416563568,0.010299233416563568,0.010299233416563568,0.010299233416563568,0.010299233416563568,0.010299233416563568,0.010299233416563568,0.010299233416563568,0.010299233416563568,0.010299233416563568,0.010299233416563568,0.010299233416563568,0.010093655417227855,0.010093655417227855,0.010093655417227855,0.010093655417227855,0.010093655417227855,0.010093655417227855,0.010093655417227855,0.010093655417227855,0.010093655417227855,0.010093655417227855,0.010093655417227855,0.010093655417227855,0.010093655417227855,0.010093655417227855,0.010093655417227855,0.010093655417227855,0.010093655417227855,0.010093655417227855,0.010093655417227855,0.009882426876465952,0.009882426876465952,0.009882426876465952,0.009882426876465952,0.009882426876465952,0.009882426876465952,0.009882426876465952,0.009882426876465952,0.009882426876465952,0.009882426876465952,0.009882426876465952,0.009882426876465952,0.009882426876465952,0.009882426876465952,0.009882426876465952,0.009666078239013099,0.009666078239013099,0.009666078239013099,0.009666078239013099,0.009666078239013099,0.009666078239013099,0.009666078239013099,0.009666078239013099,0.009666078239013099,0.009666078239013099,0.009666078239013099,0.009666078239013099,0.009666078239013099,0.009445143577517153,0.009445143577517153,0.009445143577517153,0.009445143577517153,0.009445143577517153,0.009445143577517153,0.009445143577517153,0.009445143577517153,0.009445143577517153,0.009445143577517153,0.009445143577517153,0.009220158430343708,0.009220158430343708,0.009220158430343708,0.009220158430343708,0.009220158430343708,0.009220158430343708,0.009220158430343708,0.009220158430343708,0.009220158430343708,0.009220158430343708,0.009220158430343708,0.009220158430343708,0.009220158430343708,0.009220158430343708,0.009220158430343708,0.009220158430343708,0.009220158430343708,0.009220158430343708,0.009220158430343708,0.009220158430343708,0.009220158430343708,0.008991657680597656,0.008991657680597656,0.008991657680597656,0.008991657680597656,0.008991657680597656,0.008991657680597656,0.008991657680597656,0.008991657680597656,0.008991657680597656,0.008991657680597656,0.008991657680597656,0.008991657680597656,0.008991657680597656,0.008991657680597656,0.008991657680597656,0.008991657680597656,0.008991657680597656,0.008991657680597656,0.008991657680597656,0.008760173487816637,0.008760173487816637,0.008760173487816637,0.008760173487816637,0.008760173487816637,0.008760173487816637,0.008760173487816637,0.008760173487816637,0.008760173487816637,0.008760173487816637,0.008760173487816637,0.008760173487816637,0.008760173487816637,0.008760173487816637,0.008760173487816637,0.008760173487816637,0.008760173487816637,0.008760173487816637,0.008760173487816637,0.008760173487816637,0.008760173487816637,0.008760173487816637,0.008526233283165586,0.008526233283165586,0.008526233283165586,0.008526233283165586,0.008526233283165586,0.008526233283165586,0.008526233283165586,0.008526233283165586,0.008526233283165586,0.008526233283165586,0.008526233283165586,0.008526233283165586,0.008526233283165586,0.008526233283165586,0.008526233283165586,0.008526233283165586,0.008290357838265944,0.008290357838265944,0.008290357838265944,0.008290357838265944,0.008290357838265944,0.008290357838265944,0.008290357838265944,0.008290357838265944,0.008290357838265944,0.008290357838265944,0.008290357838265944,0.008290357838265944,0.008290357838265944,0.008290357838265944,0.008290357838265944,0.008290357838265944,0.008290357838265944,0.008290357838265944,0.008290357838265944,0.008290357838265944,0.008290357838265944,0.008290357838265944,0.008290357838265944,0.008290357838265944,0.00805305941703585,0.00805305941703585,0.00805305941703585,0.00805305941703585,0.00805305941703585,0.00805305941703585,0.00805305941703585,0.00805305941703585,0.00805305941703585,0.00805305941703585,0.007814840019106801,0.007814840019106801,0.007814840019106801,0.007814840019106801,0.007814840019106801,0.007814840019106801,0.007814840019106801,0.007814840019106801,0.007814840019106801,0.007576189722526611,0.007576189722526611,0.007576189722526611,0.007576189722526611,0.007576189722526611,0.007576189722526611,0.007576189722526611,0.007576189722526611,0.007576189722526611,0.007576189722526611,0.007576189722526611,0.007337585132566526,0.007337585132566526,0.007337585132566526,0.007337585132566526,0.007337585132566526,0.007337585132566526,0.007337585132566526,0.007337585132566526,0.007337585132566526,0.007337585132566526,0.007337585132566526,0.007337585132566526,0.007337585132566526,0.007099487942530877,0.007099487942530877,0.007099487942530877,0.007099487942530877,0.007099487942530877,0.007099487942530877,0.007099487942530877,0.007099487942530877,0.007099487942530877,0.006862343611529703,0.006862343611529703,0.006862343611529703,0.006862343611529703,0.006862343611529703,0.006862343611529703,0.006862343611529703,0.006626580163226782,0.006626580163226782,0.006626580163226782,0.006626580163226782,0.006392607108626401,0.006392607108626401,0.006392607108626401,0.006392607108626401,0.006392607108626401,0.006392607108626401,0.006392607108626401,0.006392607108626401,0.006392607108626401,0.006392607108626401,0.006392607108626401,0.006392607108626401,0.006392607108626401,0.006392607108626401,0.006392607108626401,0.006392607108626401,0.00616081449501997,0.00616081449501997,0.00616081449501997,0.00616081449501997,0.00616081449501997,0.00616081449501997,0.00616081449501997,0.00616081449501997,0.00616081449501997,0.00616081449501997,0.00616081449501997,0.00616081449501997,0.00616081449501997,0.005931572082286494,0.005931572082286494,0.005931572082286494,0.005931572082286494,0.005931572082286494,0.005931572082286494,0.005931572082286494,0.005931572082286494,0.005931572082286494,0.005931572082286494,0.005931572082286494,0.005931572082286494,0.005931572082286494,0.005931572082286494,0.005705228646836314,0.005705228646836314,0.005705228646836314,0.005705228646836314,0.005705228646836314,0.005705228646836314,0.005705228646836314,0.005705228646836314,0.005705228646836314,0.005705228646836314,0.005705228646836314,0.005482111412612676,0.005482111412612676,0.005482111412612676,0.005482111412612676,0.005482111412612676,0.005482111412612676,0.005482111412612676,0.005482111412612676,0.005482111412612676,0.005482111412612676,0.005482111412612676,0.005482111412612676,0.005482111412612676,0.005482111412612676,0.005482111412612676,0.0052625256077270255,0.0052625256077270255,0.0052625256077270255,0.0052625256077270255,0.0052625256077270255,0.005046754144507476,0.005046754144507476,0.005046754144507476,0.005046754144507476,0.004835057419990984,0.004835057419990984,0.004835057419990984,0.004835057419990984,0.004835057419990984,0.004835057419990984,0.004835057419990984,0.004835057419990984,0.004835057419990984,0.004835057419990984,0.004835057419990984,0.004835057419990984,0.00462767323319306,0.00462767323319306,0.00462767323319306,0.00462767323319306,0.00462767323319306,0.00462767323319306,0.00462767323319306,0.004424816814848349,0.004424816814848349,0.004424816814848349,0.004424816814848349,0.004424816814848349,0.004226680964734404,0.004226680964734404,0.004226680964734404,0.004226680964734404,0.0038452315468402473,0.0009758009869174676]}},\"id\":\"44e13edd-e433-438f-987b-f533ae512791\",\"type\":\"ColumnDataSource\"},{\"attributes\":{\"callback\":null},\"id\":\"1375e00a-304b-471f-90c0-9868bafe7712\",\"type\":\"DataRange1d\"},{\"attributes\":{\"bottom\":{\"value\":0},\"fill_alpha\":{\"value\":0.3},\"fill_color\":{\"value\":\"navy\"},\"left\":{\"field\":\"left\"},\"line_color\":{\"value\":\"#033649\"},\"right\":{\"field\":\"right\"},\"top\":{\"field\":\"top\"}},\"id\":\"61284a75-9a24-484b-9810-e906f05190c4\",\"type\":\"Quad\"},{\"attributes\":{},\"id\":\"88c51f1f-7318-4a58-b691-82d923b4885e\",\"type\":\"ToolEvents\"},{\"attributes\":{\"axis_label\":\"# tweets\",\"formatter\":{\"id\":\"61077536-cfc0-482b-82e9-323c82bea078\",\"type\":\"BasicTickFormatter\"},\"plot\":{\"id\":\"201a039f-15c7-4103-8824-03d2859a2366\",\"subtype\":\"Figure\",\"type\":\"Plot\"},\"ticker\":{\"id\":\"5121e565-0304-4845-ba67-769c9473ef67\",\"type\":\"BasicTicker\"}},\"id\":\"5f0b7c81-e616-4752-ad48-481ed509e4e0\",\"type\":\"LinearAxis\"},{\"attributes\":{\"data_source\":{\"id\":\"b31cedd9-d979-429d-bdb4-d566e851484c\",\"type\":\"ColumnDataSource\"},\"glyph\":{\"id\":\"73654171-fc57-4de6-ba90-46cdadd8fe95\",\"type\":\"Quad\"},\"hover_glyph\":null,\"nonselection_glyph\":{\"id\":\"1eb3acce-faa9-49ea-bbd9-ed94c565efdb\",\"type\":\"Quad\"},\"selection_glyph\":null},\"id\":\"fe6b9641-4203-48e0-a7c9-857e06769fe6\",\"type\":\"GlyphRenderer\"},{\"attributes\":{\"plot\":{\"id\":\"201a039f-15c7-4103-8824-03d2859a2366\",\"subtype\":\"Figure\",\"type\":\"Plot\"}},\"id\":\"3982ae25-d5a2-4ac5-87f1-1313f1904357\",\"type\":\"ResetTool\"},{\"attributes\":{\"data_source\":{\"id\":\"690a67ad-3b50-4eed-8251-06bb3ab44159\",\"type\":\"ColumnDataSource\"},\"glyph\":{\"id\":\"ef2d2bee-ff65-43ca-a477-cd0c7be45bad\",\"type\":\"Line\"},\"hover_glyph\":null,\"nonselection_glyph\":{\"id\":\"ed97f062-922a-43f5-bb2a-3e1d57859862\",\"type\":\"Line\"},\"selection_glyph\":null},\"id\":\"c3c5314d-74dc-47d8-ab0a-a7a9ca36b4a7\",\"type\":\"GlyphRenderer\"},{\"attributes\":{\"axis_label\":\"len(tweets)\",\"formatter\":{\"id\":\"d4fc7805-223c-484c-8a04-453f8f668f04\",\"type\":\"BasicTickFormatter\"},\"plot\":{\"id\":\"201a039f-15c7-4103-8824-03d2859a2366\",\"subtype\":\"Figure\",\"type\":\"Plot\"},\"ticker\":{\"id\":\"b7cc88cc-ca7b-4f02-9c5e-50fd23409992\",\"type\":\"BasicTicker\"}},\"id\":\"7cd3e4a5-8f1b-4952-88e5-e329c06d0b90\",\"type\":\"LinearAxis\"},{\"attributes\":{\"data_source\":{\"id\":\"7de188d1-115e-440b-b0cc-7f772e1bdba0\",\"type\":\"ColumnDataSource\"},\"glyph\":{\"id\":\"61284a75-9a24-484b-9810-e906f05190c4\",\"type\":\"Quad\"},\"hover_glyph\":null,\"nonselection_glyph\":{\"id\":\"fff2a1a9-56c6-4870-b651-6e4dde7c2799\",\"type\":\"Quad\"},\"selection_glyph\":null},\"id\":\"65041204-b4ab-474c-8ad6-f5127aaa9015\",\"type\":\"GlyphRenderer\"},{\"attributes\":{\"plot\":{\"id\":\"201a039f-15c7-4103-8824-03d2859a2366\",\"subtype\":\"Figure\",\"type\":\"Plot\"}},\"id\":\"4cd547cd-9e83-4ccf-ab81-ebf6b05a275b\",\"type\":\"PanTool\"},{\"attributes\":{\"legends\":[[\"PDF\",[{\"id\":\"ba56f84c-53fa-4220-b01e-e3538732afc8\",\"type\":\"GlyphRenderer\"},{\"id\":\"c3c5314d-74dc-47d8-ab0a-a7a9ca36b4a7\",\"type\":\"GlyphRenderer\"}]]],\"plot\":{\"id\":\"201a039f-15c7-4103-8824-03d2859a2366\",\"subtype\":\"Figure\",\"type\":\"Plot\"}},\"id\":\"d2206f8a-eea3-4c08-b70b-5280cc59f85e\",\"type\":\"Legend\"},{\"attributes\":{\"below\":[{\"id\":\"7cd3e4a5-8f1b-4952-88e5-e329c06d0b90\",\"type\":\"LinearAxis\"}],\"left\":[{\"id\":\"5f0b7c81-e616-4752-ad48-481ed509e4e0\",\"type\":\"LinearAxis\"}],\"renderers\":[{\"id\":\"7cd3e4a5-8f1b-4952-88e5-e329c06d0b90\",\"type\":\"LinearAxis\"},{\"id\":\"bd4a3fe1-99f7-43ff-95a4-f140d60beb34\",\"type\":\"Grid\"},{\"id\":\"5f0b7c81-e616-4752-ad48-481ed509e4e0\",\"type\":\"LinearAxis\"},{\"id\":\"516da3ac-cda4-4b62-a573-11ca1f9c3d35\",\"type\":\"Grid\"},{\"id\":\"e50013a2-1dfc-40fc-a251-637c8caaef45\",\"type\":\"BoxAnnotation\"},{\"id\":\"65041204-b4ab-474c-8ad6-f5127aaa9015\",\"type\":\"GlyphRenderer\"},{\"id\":\"fe6b9641-4203-48e0-a7c9-857e06769fe6\",\"type\":\"GlyphRenderer\"},{\"id\":\"d2206f8a-eea3-4c08-b70b-5280cc59f85e\",\"type\":\"Legend\"},{\"id\":\"ba56f84c-53fa-4220-b01e-e3538732afc8\",\"type\":\"GlyphRenderer\"},{\"id\":\"c3c5314d-74dc-47d8-ab0a-a7a9ca36b4a7\",\"type\":\"GlyphRenderer\"}],\"title\":{\"id\":\"75cb2443-7d57-4514-8f3d-26fdfe86416e\",\"type\":\"Title\"},\"tool_events\":{\"id\":\"88c51f1f-7318-4a58-b691-82d923b4885e\",\"type\":\"ToolEvents\"},\"toolbar\":{\"id\":\"93018c21-508c-48f1-8835-21d9eeec902f\",\"type\":\"Toolbar\"},\"x_range\":{\"id\":\"1375e00a-304b-471f-90c0-9868bafe7712\",\"type\":\"DataRange1d\"},\"y_range\":{\"id\":\"b063e7f8-da52-49a0-b6e1-e1d4cc18da35\",\"type\":\"DataRange1d\"}},\"id\":\"201a039f-15c7-4103-8824-03d2859a2366\",\"subtype\":\"Figure\",\"type\":\"Plot\"},{\"attributes\":{\"overlay\":{\"id\":\"e50013a2-1dfc-40fc-a251-637c8caaef45\",\"type\":\"BoxAnnotation\"},\"plot\":{\"id\":\"201a039f-15c7-4103-8824-03d2859a2366\",\"subtype\":\"Figure\",\"type\":\"Plot\"}},\"id\":\"14502ae0-d656-403e-a019-47bcdda44596\",\"type\":\"BoxZoomTool\"}],\"root_ids\":[\"201a039f-15c7-4103-8824-03d2859a2366\"]},\"title\":\"Bokeh Application\",\"version\":\"0.12.0\"}};\n",
       "            var render_items = [{\"docid\":\"fd9135ef-0a1a-4273-9842-4fc8f70bed2c\",\"elementid\":\"d039bdd9-56a1-42f9-bce6-9ceaa0c63e0e\",\"modelid\":\"201a039f-15c7-4103-8824-03d2859a2366\",\"notebook_comms_target\":\"b0df8b28-a15a-4fcf-b276-062917278881\"}];\n",
       "            \n",
       "            Bokeh.embed.embed_items(docs_json, render_items);\n",
       "        });\n",
       "      },\n",
       "      function(Bokeh) {\n",
       "      }\n",
       "    ];\n",
       "  \n",
       "    function run_inline_js() {\n",
       "      for (var i = 0; i < inline_js.length; i++) {\n",
       "        inline_js[i](window.Bokeh);\n",
       "      }\n",
       "    }\n",
       "  \n",
       "    if (window._bokeh_is_loading === 0) {\n",
       "      console.log(\"Bokeh: BokehJS loaded, going straight to plotting\");\n",
       "      run_inline_js();\n",
       "    } else {\n",
       "      load_libs(js_urls, function() {\n",
       "        console.log(\"Bokeh: BokehJS plotting callback run at\", now());\n",
       "        run_inline_js();\n",
       "      });\n",
       "    }\n",
       "  }(this));\n",
       "</script>"
      ]
     },
     "metadata": {},
     "output_type": "display_data"
    },
    {
     "data": {
      "text/html": [
       "<p><code>&lt;Bokeh Notebook handle for <strong>In[14]</strong>&gt;</code></p>"
      ],
      "text/plain": [
       "<bokeh.io._CommsHandle at 0x7fcd112b72b0>"
      ]
     },
     "execution_count": 14,
     "metadata": {},
     "output_type": "execute_result"
    }
   ],
   "source": [
    "tweet_lens_bro = [len(tweet) for tweet in brotweets]\n",
    "hist_bro, edges_bro = np.histogram(tweet_lens_bro, density=True, bins=20)\n",
    "tweet_lens_bro.sort()\n",
    "\n",
    "tweet_lens_sis = [len(tweet) for tweet in sistweets]\n",
    "hist_sis, edges_sis = np.histogram(tweet_lens_sis, density=True, bins=20)\n",
    "tweet_lens_sis.sort()\n",
    "\n",
    "p = figure(title=\"\")\n",
    "p.quad(top=hist_bro, bottom=0, left=edges_bro[:-1], right=edges_bro[1:],\n",
    "        fill_color=\"navy\", line_color=\"#033649\", fill_alpha=0.3)\n",
    "p.quad(top=hist_sis, bottom=0, left=edges_sis[:-1], right=edges_sis[1:],\n",
    "        fill_color=\"red\", line_color=\"#033649\", fill_alpha=0.3)\n",
    "\n",
    "sigma =  np.std(tweet_lens_bro)\n",
    "mu = np.mean(tweet_lens_bro)\n",
    "pdf = stats.norm.pdf(tweet_lens_bro, mu, sigma)\n",
    "p.line(tweet_lens_bro, pdf, line_color=\"navy\", line_width=6, alpha=0.7, legend=\"PDF\")\n",
    "\n",
    "sigma =  np.std(tweet_lens_sis)\n",
    "mu = np.mean(tweet_lens_sis)\n",
    "pdf = stats.norm.pdf(tweet_lens_sis, mu, sigma)\n",
    "p.line(tweet_lens_sis, pdf, line_color=\"red\", line_width=6, alpha=0.7, legend=\"PDF\")\n",
    "\n",
    "p.xaxis.axis_label = 'len(tweets)'\n",
    "p.yaxis.axis_label = '# tweets'\n",
    "show(p)\n"
   ]
  },
  {
   "cell_type": "markdown",
   "metadata": {},
   "source": [
    "## 0.4 Split your data in train and test \n",
    "*(and probably share it too)*"
   ]
  },
  {
   "cell_type": "code",
   "execution_count": 15,
   "metadata": {
    "collapsed": false
   },
   "outputs": [
    {
     "name": "stdout",
     "output_type": "stream",
     "text": [
      "Examples in train: 1200\n",
      "Examples in test: 800\n"
     ]
    }
   ],
   "source": [
    "from sklearn import cross_validation\n",
    "X = pd_dataset['text'].tolist()\n",
    "y = pd_dataset['class'].tolist()\n",
    "\n",
    "X_train, X_test, y_train, y_test = cross_validation.train_test_split(X, y, test_size=0.4, random_state=0)\n",
    "print(\"Examples in train: {}\".format(len(X_train)))\n",
    "print(\"Examples in test: {}\".format(len(X_test)))"
   ]
  },
  {
   "cell_type": "markdown",
   "metadata": {
    "collapsed": true
   },
   "source": [
    "#  1. In the beginning we had a bag of words *(or maybe the set)* "
   ]
  },
  {
   "cell_type": "markdown",
   "metadata": {},
   "source": [
    "## 1.1. What is a bag of words\n",
    "\n",
    "- Simplest way to represent text.\n",
    "- Create a vector with the size of the vocabulary seen in train.\n",
    "- Each sentence is represented counting the number of times each word appears.\n",
    "\n",
    "```python\n",
    "dataset = [\"I love Python\", \"I love NLP\", \"Pyladies are cool\"]\n",
    "vocabulary = set([\"I\", \"love\", \"Python\", \"NLP\", \"Pyladies\", \"are\", \"cool\"])\n",
    "dataset_representation =  [[1,1,1,0,0,0,0], \n",
    "                           [1,1,0,1,0,0,0],\n",
    "                           [0,0,0,0,1,1,1]] \n",
    "```\n",
    "\n",
    "Ok, that looks cool. This look solved. Let's party! "
   ]
  },
  {
   "cell_type": "code",
   "execution_count": 34,
   "metadata": {
    "collapsed": false
   },
   "outputs": [
    {
     "name": "stdout",
     "output_type": "stream",
     "text": [
      "Train: {0|1}^(1200x4060)\n",
      "Test:  {0|1}^(800x4060)\n",
      "\n",
      "VOCABULARY EXTRACT: broke, broken, brother, brownlee, browser, bruce, brunch, brutal, btw, bu, buddy, buffer, bug, bugfixes, buggy, bugs, build, building, built, bullies, bump, bunch, burnt, bursting, busy, but, butler, button, buy, buys, buzz, by, byegium, ca, cabin, cable, cableporn, caesar, caged, call, called, calling, calls, came, camp, campaign, camping, can, canada, candidate, cannot, capita, capitalism, capitalists, capn, captain, captains, capture, car, card, cardinality, cards, career, careful, caribbean, caring, carpentry, cars, cartoon, case, cash, cat, catch, categorical, catered, cats, catty, caught, causal, cause, caused, cc, celebrate, celebrating, cena, centenial, center, centrality, centre, century, cernan, certainly, ceval, cfd, cffi, cfp, chair, chalk, challenge, challenges\n",
      "\n",
      "TWEET REPRESENTATION: [0 0 0 0 0 0 0 0 0 0 0 0 0 0 0 0 0 0 0 0 0 0 0 0 0 0 0 0 0 0 0 0 0 0 0 0 0\n",
      " 0 0 0 0 0 0 0 0 0 0 0 0 0 0 0 0 0 0 0 0 0 0 0 0 0 0 0 0 0 0 0 0 0 0 0 0 0\n",
      " 0 0 0 0 0 0 0 0 0 0 0 0 0 0 0 0 0 0 0 0 0 0 0 0 0 0 0 0 0 0 0 0 0 0 0 0 0\n",
      " 0 0 0 0 0 0 0 0 0 0 0 0 1 0 0 0 0 0 0 0 0 0 0 0 0 0 0 0 0 0 0 0 0 0 0 0 0\n",
      " 0 0 0 0 0 0 0 0 0 0 0 0 0 0 0 0 0 0 0 0 0 0 0 0 0 0 0 0 0 0 0 0 0 0 0 0 0\n",
      " 0 0 0 0 0 0 0 0 0 0 0 0 0 0 0 0 0 0 0 0 0 0 0 0 0 0 0 0 0 0 0 0 0 0 0 0 0\n",
      " 0 0 0 0 0 0 1 0 0 0 0 0 0 0 0 0 0 0 0 0 0 0 0 0 0 0 0 0 0 0 0 0 0 0 0 0 0\n",
      " 0 0 0 0 0 0 0 0 0 0 0 0 0 0 0 0 0 0 0 0 0 0 0 0 0 0 0 0 0 0 0 0 0 0 0 0 0\n",
      " 0 0 0 0 0 0 0 0 0 0 0 0 0 0 0 0 0 0 0 0 0 0 0 0 0 0 0 0 0 0 0 0 0 0 0 0 0\n",
      " 0 0 0 0 0 0 0 0 0 0 0 0 0 0 0 0 0 0 0 0 0 0 0 0 0 0 0 0 0 0 0 0 0 0 0 0 0\n",
      " 0 0 0 0 0 0 0 0 0 0 0 0 0 0 0 0 0 0 0 0 0 0 0 0 0 0 0 0 0 0 0 0 0 0 0 0 0\n",
      " 0 0 0 0 0 0 0 0 0 0 0 0 0 0 0 0 0 0 0 0 0 0 0 0 0 0 0 0 0 0 0 0 0 0 0 0 0\n",
      " 0 0 0 0 0 0 0 0 0 0 0 0 0 0 0 0 0 0 0 0 0 0 0 0 0 0 0 0 0 0 0 0 0 0 0 0 0\n",
      " 0 0 0 0 0 1 0 0 0 0 0 0 0 0 0 0 0 0 0 0 0 0 0 0 0 1 0 0 0 0 0 0 0 0 0 0 0\n",
      " 0 0 0 0 0 0 0 0 0 0 0 0 0 0 0 0 0 0 0 0 0 0 0 0 0 0 0 0 0 0 0 0 0 0 0 0 0\n",
      " 0 0 0 0 0 0 0 0 0 0 0 0 0 0 0 0 0 0 0 0 0 0 0 0 0 0 0 0 0 0 0 0 0 0 0 0 0\n",
      " 0 0 0 0 0 0 0 0 0 0 0 0 0 0 0 0 0 0 0 0 0 0 0 0 0 0 0 0 0 0 0 0 0 0 0 0 0\n",
      " 0 0 0 0 0 0 0 0 0 0 0 0 0 0 0 0 0 0 0 0 0 0 0 0 0 0 0 0 0 0 0 0 0 0 0 0 0\n",
      " 0 0 0 0 0 0 0 0 0 0 0 0 0 0 0 0 0 0 0 0 0 0 0 0 0 0 0 0 0 0 0 0 0 0 0 0 0\n",
      " 0 0 0 0 0 0 0 0 0 0 0 0 0 0 0 0 0 0 0 0 0 0 0 0 0 0 0 0 0 0 0 0 0 0 0 0 0\n",
      " 0 0 0 0 0 0 0 0 0 0 0 0 0 0 0 0 0 0 0 0 0 0 0 0 0 0 0 0 0 0 0 0 0 0 0 0 0\n",
      " 0 0 0 0 0 0 0 0 0 0 0 0 0 0 0 0 0 0 0 0 0 0 0 0 0 0 0 0 0 0 0 0 0 0 0 0 0\n",
      " 0 0 0 0 0 0 0 0 0 0 0 0 0 0 0 0 0 0 0 0 0 0 0 0 0 0 0 0 0 0 0 0 0 0 0 0 0\n",
      " 0 0 0 0 0 0 0 0 0 0 0 0 0 0 0 0 0 0 0 0 0 0 0 0 0 0 0 0 0 0 0 0 0 0 0 0 0\n",
      " 0 0 0 0 0 0 0 1 0 0 0 0 0 0 0 0 0 0 0 0 0 0 0 0 0 0 0 0 0 0 0 0 0 0 0 0 0\n",
      " 0 0 0 0 0 0 0 0 0 0 0 0 0 0 0 0 0 0 0 0 0 0 0 0 0 0 0 0 0 0 0 0 0 0 0 0 0\n",
      " 0 0 0 0 0 0 0 0 0 0 0 0 0 0 0 0 0 0 0 0 0 0 0 0 0 0 0 0 0 0 0 0 0 0 0 0 0\n",
      " 0 0 0 0 0 0 0 0 0 0 0 0 0 0 0 0 0 0 0 0 0 0 0 0 0 0 0 0 0 0 0 0 0 0 0 0 0\n",
      " 0 0 0 0 0 0 0 0 0 0 0 0 0 0 0 0 0 0 0 0 0 0 0 0 0 0 0 0 0 0 0 0 0 0 0 0 0\n",
      " 0 0 0 0 0 0 0 0 0 0 0 0 0 0 0 0 0 0 0 0 0 0 0 0 0 0 0 0 0 0 0 0 0 0 0 0 0\n",
      " 0 0 0 0 0 0 0 0 0 0 0 0 0 0 0 0 0 0 0 0 0 0 0 0 0 0 0 0 0 0 0 0 0 0 0 0 0\n",
      " 0 0 0 0 0 0 0 0 0 0 0 0 0 0 0 0 0 0 0 0 0 0 0 0 0 0 0 0 0 0 0 0 0 0 0 0 0\n",
      " 0 0 0 0 0 0 0 0 0 0 0 0 0 0 0 0 0 0 0 0 0 0 0 0 0 0 0 0 0 0 0 0 0 0 0 0 0\n",
      " 0 0 0 0 0 0 0 0 0 0 0 0 0 0 0 0 0 0 0 0 0 0 0 0 0 0 0 0 0 0 0 0 0 0 0 0 0\n",
      " 0 0 0 0 0 0 0 0 0 0 0 0 0 0 0 0 0 0 0 0 0 0 0 0 0 0 0 0 0 0 0 0 0 0 0 0 0\n",
      " 0 0 0 0 0 0 0 0 0 0 0 0 0 0 0 0 0 0 0 0 0 0 0 0 0 0 0 0 0 0 0 0 0 0 0 0 0\n",
      " 0 0 0 0 0 0 0 0 0 0 0 0 0 0 0 0 0 0 0 0 0 0 0 0 0 0 0 0 0 0 0 0 0 0 0 0 0\n",
      " 0 0 0 0 0 0 0 0 0 0 0 0 0 0 0 0 0 0 0 0 0 0 0 0 0 0 0 0 0 0 0 0 0 0 0 0 0\n",
      " 0 0 0 0 0 0 0 0 0 0 0 0 0 0 0 0 0 0 0 0 0 0 0 0 0 0 0 0 0 0 0 0 0 0 0 0 0\n",
      " 0 0 0 0 0 0 0 0 0 0 0 0 0 0 0 0 0 0 0 0 0 0 0 0 0 0 0 0 0 0 0 0 0 0 0 0 0\n",
      " 0 0 0 0 0 0 0 0 0 0 0 0 0 0 0 0 0 0 0 0 0 0 0 0 0 0 0 0 0 0 0 0 0 0 0 0 0\n",
      " 0 0 0 0 0 0 0 0 0 0 0 0 0 0 0 0 0 0 0 0 0 0 0 0 0 0 0 0 0 0 0 0 0 0 0 0 0\n",
      " 0 0 0 0 0 0 0 0 0 0 0 0 0 0 0 0 0 0 0 0 0 0 0 0 0 0 0 0 0 0 0 0 0 0 0 0 0\n",
      " 0 0 0 0 0 0 0 0 0 0 0 0 0 0 0 0 0 0 0 0 0 0 0 0 0 0 0 0 0 0 0 0 0 0 0 0 0\n",
      " 0 0 0 0 0 0 0 0 0 0 0 0 0 0 0 0 0 0 0 0 0 0 0 0 0 0 0 0 0 0 0 0 0 0 0 0 0\n",
      " 0 0 0 0 0 0 0 0 0 0 0 0 0 0 0 0 0 0 0 0 0 0 0 0 0 0 0 0 0 0 0 0 0 0 0 0 0\n",
      " 0 0 0 0 0 0 0 0 0 0 0 0 0 0 0 0 0 0 0 0 0 0 0 0 0 0 0 0 0 0 0 0 0 0 0 0 0\n",
      " 0 0 0 0 0 0 0 0 0 0 0 0 0 0 0 0 0 0 0 0 0 0 0 0 0 0 0 0 0 0 0 0 0 0 0 0 0\n",
      " 0 0 0 0 0 0 0 0 0 0 0 0 0 0 0 0 0 0 0 0 0 0 0 0 0 0 0 0 0 0 0 0 0 0 0 0 0\n",
      " 0 0 0 0 0 0 0 0 0 0 0 0 0 0 0 0 0 0 0 0 0 0 0 0 0 0 0 0 0 0 0 0 0 0 0 0 0\n",
      " 0 0 0 0 0 0 0 0 0 0 0 0 0 0 1 0 0 0 0 0 0 0 0 0 0 0 0 0 0 0 0 0 0 0 0 0 0\n",
      " 0 0 0 0 0 0 0 0 0 0 0 0 0 0 0 0 0 0 0 0 0 0 0 0 0 0 0 0 0 0 0 0 0 0 0 0 0\n",
      " 0 0 0 0 0 0 0 0 0 0 0 0 0 0 0 0 0 0 0 0 0 0 0 0 0 0 0 0 0 0 0 0 0 0 0 0 0\n",
      " 0 0 0 0 0 0 0 0 0 0 0 0 0 0 0 0 0 0 0 0 0 0 0 0 0 0 0 0 0 0 0 0 0 0 0 0 0\n",
      " 0 0 0 0 0 0 0 0 0 0 0 0 0 0 0 0 0 0 0 0 0 0 0 0 0 0 0 0 0 0 0 0 0 0 0 0 0\n",
      " 0 0 0 0 0 0 0 0 0 0 0 0 0 0 0 0 0 0 0 0 0 0 0 0 0 0 0 0 0 0 0 0 0 0 0 0 0\n",
      " 0 0 0 0 0 0 0 0 0 0 0 0 0 0 0 0 0 0 0 0 0 0 0 0 0 0 0 0 0 0 0 0 0 0 0 0 0\n",
      " 0 0 0 0 0 0 0 0 0 0 0 0 0 0 0 0 0 0 0 0 0 0 0 0 0 0 0 0 0 0 0 0 0 0 0 0 0\n",
      " 0 0 1 0 0 0 0 0 0 0 0 0 0 0 0 0 0 0 0 0 0 0 0 0 0 0 0 0 0 0 0 0 0 0 0 0 0\n",
      " 0 0 0 0 0 0 0 0 0 0 0 0 0 0 0 0 0 0 0 0 0 0 0 0 0 0 0 0 0 0 0 0 0 0 0 0 0\n",
      " 0 0 0 0 0 0 0 0 0 0 0 0 0 0 0 0 0 0 0 0 0 0 0 0 0 0 0 0 0 0 0 0 0 0 0 0 0\n",
      " 0 0 0 0 0 0 0 0 0 0 0 0 0 0 0 0 0 0 0 0 0 0 0 0 0 0 0 0 0 0 0 0 0 0 0 0 0\n",
      " 0 0 0 0 0 0 0 0 0 0 0 0 0 0 0 0 0 0 0 0 0 0 0 0 0 0 0 0 0 0 0 0 0 0 0 0 0\n",
      " 0 0 0 0 0 0 0 0 0 0 0 0 0 0 0 0 0 0 0 0 0 0 0 0 0 0 0 0 0 0 0 0 0 0 0 0 0\n",
      " 0 0 0 0 0 0 0 0 0 0 0 0 0 0 0 0 0 0 0 0 0 0 0 0 0 0 0 0 0 0 0 0 0 0 0 0 0\n",
      " 0 0 0 0 0 0 0 0 0 0 0 0 0 0 0 0 0 0 0 0 0 0 0 0 0 0 0 0 0 0 0 0 0 0 0 0 0\n",
      " 0 0 0 0 0 0 0 0 0 0 0 0 0 0 0 0 0 0 0 0 0 0 0 0 0 0 0 0 0 0 0 0 0 0 0 0 0\n",
      " 0 0 0 0 0 0 0 0 0 0 0 0 0 0 0 0 0 0 0 0 0 0 0 0 0 0 0 0 0 0 0 0 0 0 0 0 0\n",
      " 0 0 0 0 0 0 0 0 0 0 0 0 0 0 0 0 0 0 0 0 0 0 0 0 0 0 0 0 0 0 0 0 0 0 0 0 0\n",
      " 0 0 0 0 0 0 0 0 0 0 0 0 0 0 0 0 0 0 0 0 0 0 0 0 0 0 0 0 0 0 0 0 0 0 0 0 0\n",
      " 0 0 0 0 0 0 0 0 0 0 0 0 0 0 0 0 0 0 0 0 0 0 0 0 0 0 0 0 0 0 0 0 0 0 0 0 0\n",
      " 0 0 0 0 0 0 0 0 0 0 0 0 0 0 0 0 0 0 0 0 0 0 0 0 0 0 0 0 0 0 0 0 0 0 0 0 0\n",
      " 0 0 0 0 0 0 0 0 0 0 0 0 0 0 0 0 0 0 0 0 0 0 0 0 0 0 0 0 0 0 0 0 0 0 0 0 0\n",
      " 0 0 0 0 0 0 0 0 0 0 0 0 0 0 0 0 0 0 0 0 0 0 0 0 0 0 0 0 0 0 0 0 0 0 0 0 0\n",
      " 0 0 0 0 0 0 0 0 0 0 0 0 0 0 0 0 0 0 0 0 0 0 0 0 0 0 0 0 0 0 0 0 0 0 0 0 0\n",
      " 0 0 0 0 0 0 0 0 0 0 0 0 0 0 0 0 0 0 0 0 0 0 0 0 0 0 0 0 0 0 0 0 0 0 0 0 0\n",
      " 0 0 0 0 0 0 0 0 0 0 0 0 0 0 0 0 0 0 0 0 0 0 0 0 0 0 0 0 0 0 0 0 0 0 0 0 0\n",
      " 0 0 0 0 0 0 0 0 0 0 0 0 0 0 0 0 0 0 0 0 0 0 0 0 0 0 0 0 0 0 0 0 0 0 0 0 0\n",
      " 0 0 0 0 0 0 0 0 0 0 0 0 0 0 0 0 0 0 0 0 0 0 0 0 0 0 0 0 0 0 0 0 0 0 0 0 0\n",
      " 0 0 0 0 0 0 0 0 0 0 0 0 0 0 0 0 0 0 0 0 0 0 0 0 0 0 0 0 0 0 0 0 0 0 0 0 0\n",
      " 0 0 0 0 0 0 0 0 0 0 0 0 0 0 0 0 0 0 0 0 0 0 0 0 0 0 0 0 0 0 0 0 0 0 0 0 0\n",
      " 0 0 0 0 0 0 0 0 0 0 0 0 0 0 0 0 0 0 0 0 0 0 0 0 0 0 0 0 0 0 0 0 0 0 0 0 0\n",
      " 0 0 0 0 0 0 0 0 0 0 0 0 0 0 0 0 0 0 0 0 0 0 0 0 0 0 0 0 0 0 0 0 0 0 0 0 0\n",
      " 0 0 0 0 0 0 0 0 0 0 0 0 0 0 0 0 0 0 0 0 0 0 0 0 0 0 0 0 0 0 0 0 0 0 0 0 0\n",
      " 0 0 0 0 0 0 0 0 0 0 0 0 0 0 0 0 0 0 0 0 0 0 0 0 0 0 0 0 0 0 0 0 0 0 0 0 0\n",
      " 0 0 0 0 0 0 0 0 0 0 0 0 0 0 0 0 0 0 0 0 0 0 0 0 0 0 0 0 0 0 0 0 0 0 0 0 0\n",
      " 0 0 0 0 0 0 0 0 0 0 0 0 0 0 0 0 0 0 0 0 0 0 0 0 0 0 0 0 0 0 0 0 0 0 0 0 0\n",
      " 0 0 0 0 0 0 0 0 0 0 0 0 0 0 0 0 0 0 0 0 0 0 0 0 0 0 0 0 0 0 0 0 0 0 0 0 0\n",
      " 0 0 0 0 0 0 0 0 0 0 0 0 0 0 0 0 0 0 0 0 0 0 0 0 0 0 0 0 0 0 0 0 0 0 0 0 0\n",
      " 0 0 0 0 0 0 0 0 0 0 0 0 0 0 0 0 0 0 0 0 0 0 0 0 0 0 0 0 0 0 0 0 0 0 0 0 0\n",
      " 0 0 0 0 0 0 0 0 0 0 0 0 0 0 0 0 0 0 0 0 0 0 0 0 0 0 0 0 0 0 0 0 0 0 0 0 0\n",
      " 0 0 0 0 0 0 0 0 0 0 0 0 0 0 0 0 0 0 0 0 0 0 0 0 0 0 0 0 0 0 0 0 0 0 0 0 0\n",
      " 0 0 0 0 0 0 0 0 0 0 0 0 0 0 0 0 0 0 0 0 0 0 0 0 0 0 0 0 0 0 0 0 0 0 0 0 0\n",
      " 0 0 0 0 0 0 0 0 0 0 0 0 0 0 0 0 0 0 0 0 0 0 0 0 0 0 0 0 0 0 0 0 0 0 0 0 0\n",
      " 0 0 0 0 0 0 0 0 0 0 0 0 0 0 0 0 0 0 0 0 0 0 0 0 0 0 0 0 0 0 0 0 0 0 0 0 0\n",
      " 0 0 0 0 0 0 0 0 0 0 0 0 0 0 0 0 0 0 0 0 0 0 0 0 0 0 0 0 0 0 0 0 0 0 0 0 0\n",
      " 0 0 0 0 0 0 0 0 0 0 0 0 0 0 0 0 0 0 0 0 0 0 0 0 0 0 0 0 0 0 0 0 0 0 0 0 0\n",
      " 0 0 0 0 0 0 0 0 0 0 0 0 0 0 0 0 0 0 0 0 0 0 0 0 0 0 0 0 0 0 0 0 0 0 0 0 0\n",
      " 0 0 0 0 0 0 0 0 0 0 0 0 0 0 0 0 0 0 0 1 0 0 0 0 0 0 0 0 0 0 0 0 0 0 0 0 0\n",
      " 0 0 0 0 0 0 0 0 0 0 0 0 0 0 0 0 0 0 0 0 0 0 0 0 0 0 0 0 0 0 0 0 0 0 0 0 0\n",
      " 0 0 0 0 0 0 0 0 0 0 0 0 0 0 0 0 0 0 0 0 0 0 0 0 0 0 0 0 0 0 0 0 0 0 0 1 0\n",
      " 0 0 0 0 0 0 0 0 0 0 0 0 0 0 0 0 0 0 0 0 0 0 0 0 0 0 0 0 0 0 0 0 0 0 0 0 0\n",
      " 0 0 0 0 0 0 0 0 0 0 0 0 0 0 0 0 0 0 0 0 0 2 0 0 0 0 0 0 0 0 0 0 0 0 0 0 0\n",
      " 0 0 0 0 0 0 0 0 0 0 0 0 0 0 0 0 0 0 0 0 0 0 0 0 0 0 0 0 0 0 0 0 0 0 0 0 0\n",
      " 0 0 0 0 0 0 0 0 0 0 0 0 0 0 0 0 0 0 0 0 0 0 0 0 0 0 0 0 0 0 0 0 0 0 0 0 0\n",
      " 0 0 0 0 0 0 0 0 0 0 0 0 0 0 0 0 0 0 0 0 0 0 0 0 0 0 0 0 0 0 0 0 0 0 0 0 0\n",
      " 0 0 0 0 0 0 0 0 0 0 1 0 0 0 0 0 0 0 0 0 0 0 0 0 0 0 0 0 0 0 0 0 0 0 0 0 0\n",
      " 0 0 0 0 0 0 0 0 0 0 0 0 0 0 0 0 0 0 0 0 0 0 0 0 0 0 0 0 0 0 0 0 0 0 0 0 0\n",
      " 0 0 0 0 0 0 0 0 0 0 0 0 0 0 0 0 0 0 0 0 0 0 0 0 0 0 0 0 0 0 0 0 0 0 0 0 0\n",
      " 0 0 0 0 0 0 0 0 0 0 0 0 0 0 0 0 0 0 0 0 0 0 0 0 0 0 0]\n"
     ]
    }
   ],
   "source": [
    "from sklearn.feature_extraction.text import CountVectorizer\n",
    "\n",
    "vectorizer = CountVectorizer(analyzer = \"word\", \n",
    "                             tokenizer = None,\n",
    "                             preprocessor = None,\n",
    "                             stop_words = None,\n",
    "                             ngram_range=(1, 1),\n",
    "                             max_features = 5000) \n",
    "\n",
    "# Fit the train\n",
    "BOW_train = vectorizer.fit_transform(X_train)\n",
    "BOW_train = BOW_train.toarray()\n",
    "\n",
    "# Transform the test\n",
    "BOW_test = vectorizer.transform(X_test)\n",
    "BOW_test = BOW_test.toarray()\n",
    "\n",
    "\n",
    "print('Train: {{0|1}}^({}x{})'.format(BOW_train.shape[0], BOW_train.shape[1]))\n",
    "print('Test:  {{0|1}}^({}x{})'.format(BOW_test.shape[0], BOW_test.shape[1]))\n",
    "vocab = vectorizer.get_feature_names()\n",
    "print('\\nVOCABULARY EXTRACT: {}'.format(', '.join(vocab[500:600])))\n",
    "np.set_printoptions(threshold=np.nan)\n",
    "print('\\nTWEET REPRESENTATION: {}'.format(BOW_train[0]))"
   ]
  },
  {
   "cell_type": "markdown",
   "metadata": {},
   "source": [
    "## 1.2. So, what's the problem, then?\n",
    "\n",
    "\n",
    "- Unseen words.\n",
    "- One-hot Representation: Represents every word as an $\\mathbb{R}^{|V|×1}$\n",
    "```python\n",
    "hotel = [0, 0, 0, 0, 0, 0, 0, 0, 1, 0, 0, 0, 0, 0]\n",
    "motel = [0, 0, 0, 0, 1, 0, 0, 0, 0, 0, 0, 0, 0, 0]\n",
    "w hotel AN D w motel = 0\n",
    "```\n",
    "$w^{hotel} AND w^{motel} = 0\n",
    "&nbsp;\n",
    "\n",
    "\n",
    "- *The curse of dimensionality!!!*\n",
    "  - Generalizing locally (eg. nearest neighbors) requires representative examples for all relevant variations\n",
    "  - The number of possible configurations of the variables of interest is much larger than the number of training samples.\n",
    "\n",
    "\n",
    "&nbsp;\n",
    "![Curse!](imgs/curse.jpg \"The curse of the dimensionality\")\n"
   ]
  },
  {
   "cell_type": "markdown",
   "metadata": {},
   "source": [
    "#  2. Word embeddings"
   ]
  },
  {
   "cell_type": "markdown",
   "metadata": {},
   "source": [
    "> You shall know a word by the company it keeps.\n",
    ">\n",
    "> -- <cite>J.R. Firth 1957:11</cite>"
   ]
  },
  {
   "cell_type": "markdown",
   "metadata": {},
   "source": [
    "## 2.1. Pretrained data using GloVe"
   ]
  },
  {
   "cell_type": "code",
   "execution_count": 16,
   "metadata": {
    "collapsed": false
   },
   "outputs": [],
   "source": [
    "import numpy as np\n",
    "\n",
    "def load_glove_dict(glove_file):\n",
    "    glove_embeddings = {}\n",
    "    with open(glove_file) as glove_file:\n",
    "        for line in glove_file:\n",
    "            split_line = line.split() \n",
    "            word, vector = split_line[0], np.asarray(split_line[1:])\n",
    "            glove_embeddings[word] =  vector\n",
    "    return glove_embeddings"
   ]
  },
  {
   "cell_type": "code",
   "execution_count": 17,
   "metadata": {
    "collapsed": false
   },
   "outputs": [],
   "source": [
    "GLOVE_PATH = '/home/mgimenez/Dev/resources/GloVe/twitter_dataset'\n",
    "\n",
    "embedding_size = '25'\n",
    "glove_file = join(GLOVE_PATH, 'glove.twitter.27B.' + embedding_size + 'd.txt')\n",
    "glove_25 = load_glove_dict(glove_file)"
   ]
  },
  {
   "cell_type": "code",
   "execution_count": 18,
   "metadata": {
    "collapsed": true
   },
   "outputs": [],
   "source": [
    "embedding_size = '100'\n",
    "glove_file = join(GLOVE_PATH, 'glove.twitter.27B.' + embedding_size + 'd.txt')\n",
    "glove_100 = load_glove_dict(glove_file)"
   ]
  },
  {
   "cell_type": "code",
   "execution_count": 19,
   "metadata": {
    "collapsed": false
   },
   "outputs": [],
   "source": [
    "embedding_size = '200'\n",
    "glove_file = join(GLOVE_PATH, 'glove.twitter.27B.' + embedding_size + 'd.txt')\n",
    "glove_200 = load_glove_dict(glove_file)"
   ]
  },
  {
   "cell_type": "code",
   "execution_count": 20,
   "metadata": {
    "collapsed": true
   },
   "outputs": [],
   "source": [
    "def get_most_common_vocab(most_common, brocabulary, siscabulary):\n",
    "    mc_brocavulary = brocabulary.most_common(int(most_common/2))\n",
    "    mc_siscavulary = siscabulary.most_common(int(most_common/2))\n",
    "\n",
    "    most_common_words = mc_brocavulary + mc_siscavulary\n",
    "    return set(word for word, _ in most_common_words)"
   ]
  },
  {
   "cell_type": "code",
   "execution_count": 21,
   "metadata": {
    "collapsed": false
   },
   "outputs": [],
   "source": [
    "def get_words_to_plot(most_common, dictionary):\n",
    "    words_to_plot = {}\n",
    "    unseen_words = []\n",
    "    for word in get_most_common_vocab(most_common, brocabulary, siscabulary):\n",
    "        if word in dictionary:\n",
    "            words_to_plot[word] = dictionary[word]\n",
    "        else:\n",
    "            unseen_words.append(word)\n",
    "    return words_to_plot, unseen_words"
   ]
  },
  {
   "cell_type": "code",
   "execution_count": 28,
   "metadata": {
    "collapsed": false
   },
   "outputs": [],
   "source": [
    "from sklearn.manifold import TSNE\n",
    "import matplotlib.pyplot as plt\n",
    "\n",
    "tsne = TSNE(perplexity=30, n_components=2, init='pca', n_iter=5000)\n",
    "words_to_plot, unseen_words = get_words_to_plot(1000, glove_25)\n",
    "\n",
    "low_dim_embs = tsne.fit_transform(list(words_to_plot.values()))"
   ]
  },
  {
   "cell_type": "code",
   "execution_count": 36,
   "metadata": {
    "collapsed": false
   },
   "outputs": [
    {
     "name": "stdout",
     "output_type": "stream",
     "text": [
      "cython, euroscipy, ipython, numfocus, alifexv, neuroimaging, jupyter, automl, factorization, pydataparis, nilearn, matplotlib, preprint, uwsgi, joblib, numpy, scikit, decoders, icml, pydata, pydatabln, sparsity, tensorflow, print_statement, deeplearning, dadaist, __past__, ohbm, sklearn, scipy, brexit, datascience, reproducibility, sgdq, machinelearning, pypi, pydatalondon\n"
     ]
    }
   ],
   "source": [
    "print(', '.join(unseen_words))"
   ]
  },
  {
   "cell_type": "code",
   "execution_count": 29,
   "metadata": {
    "collapsed": false,
    "scrolled": false
   },
   "outputs": [
    {
     "data": {
      "text/html": [
       "\n",
       "\n",
       "    <div class=\"bk-root\">\n",
       "        <div class=\"plotdiv\" id=\"2bedc7fe-150b-419c-83f8-f6505358e1b1\"></div>\n",
       "    </div>\n",
       "<script type=\"text/javascript\">\n",
       "  \n",
       "  (function(global) {\n",
       "    function now() {\n",
       "      return new Date();\n",
       "    }\n",
       "  \n",
       "    if (typeof (window._bokeh_onload_callbacks) === \"undefined\") {\n",
       "      window._bokeh_onload_callbacks = [];\n",
       "    }\n",
       "  \n",
       "    function run_callbacks() {\n",
       "      window._bokeh_onload_callbacks.forEach(function(callback) { callback() });\n",
       "      delete window._bokeh_onload_callbacks\n",
       "      console.info(\"Bokeh: all callbacks have finished\");\n",
       "    }\n",
       "  \n",
       "    function load_libs(js_urls, callback) {\n",
       "      window._bokeh_onload_callbacks.push(callback);\n",
       "      if (window._bokeh_is_loading > 0) {\n",
       "        console.log(\"Bokeh: BokehJS is being loaded, scheduling callback at\", now());\n",
       "        return null;\n",
       "      }\n",
       "      if (js_urls == null || js_urls.length === 0) {\n",
       "        run_callbacks();\n",
       "        return null;\n",
       "      }\n",
       "      console.log(\"Bokeh: BokehJS not loaded, scheduling load and callback at\", now());\n",
       "      window._bokeh_is_loading = js_urls.length;\n",
       "      for (var i = 0; i < js_urls.length; i++) {\n",
       "        var url = js_urls[i];\n",
       "        var s = document.createElement('script');\n",
       "        s.src = url;\n",
       "        s.async = false;\n",
       "        s.onreadystatechange = s.onload = function() {\n",
       "          window._bokeh_is_loading--;\n",
       "          if (window._bokeh_is_loading === 0) {\n",
       "            console.log(\"Bokeh: all BokehJS libraries loaded\");\n",
       "            run_callbacks()\n",
       "          }\n",
       "        };\n",
       "        s.onerror = function() {\n",
       "          console.warn(\"failed to load library \" + url);\n",
       "        };\n",
       "        console.log(\"Bokeh: injecting script tag for BokehJS library: \", url);\n",
       "        document.getElementsByTagName(\"head\")[0].appendChild(s);\n",
       "      }\n",
       "    };var element = document.getElementById(\"2bedc7fe-150b-419c-83f8-f6505358e1b1\");\n",
       "    if (element == null) {\n",
       "      console.log(\"Bokeh: ERROR: autoload.js configured with elementid '2bedc7fe-150b-419c-83f8-f6505358e1b1' but no matching script tag was found. \")\n",
       "      return false;\n",
       "    }\n",
       "  \n",
       "    var js_urls = [];\n",
       "  \n",
       "    var inline_js = [\n",
       "      function(Bokeh) {\n",
       "        Bokeh.$(function() {\n",
       "            var docs_json = {\"28d28afd-93cb-4f48-b514-7b1952e87bb4\":{\"roots\":{\"references\":[{\"attributes\":{\"plot\":{\"id\":\"d51663bd-dd2e-45f2-a7a8-adbe182e7539\",\"subtype\":\"Figure\",\"type\":\"Plot\"}},\"id\":\"530859d2-162f-4002-87fa-3aa68c7f394a\",\"type\":\"ResetTool\"},{\"attributes\":{\"below\":[{\"id\":\"3531d357-3471-441e-a35c-cea747ea4718\",\"type\":\"LinearAxis\"}],\"left\":[{\"id\":\"03f6ac7f-427e-442f-81af-e3fbf4927ec2\",\"type\":\"LinearAxis\"}],\"renderers\":[{\"id\":\"3531d357-3471-441e-a35c-cea747ea4718\",\"type\":\"LinearAxis\"},{\"id\":\"26e76c89-3a17-43bc-af0a-468e491b0f58\",\"type\":\"Grid\"},{\"id\":\"03f6ac7f-427e-442f-81af-e3fbf4927ec2\",\"type\":\"LinearAxis\"},{\"id\":\"833f7c0d-3799-4580-9813-7bcd1365668f\",\"type\":\"Grid\"},{\"id\":\"369c5a32-4f21-48a6-850a-92e99c79c2cb\",\"type\":\"BoxAnnotation\"},{\"id\":\"63470b2d-7a26-4b77-8a1d-7402e58e7518\",\"type\":\"GlyphRenderer\"}],\"title\":{\"id\":\"40918339-57e3-4d59-b6f4-8d83e044ae6d\",\"type\":\"Title\"},\"tool_events\":{\"id\":\"18d41846-d58d-4e26-9a54-0eb19844cf9c\",\"type\":\"ToolEvents\"},\"toolbar\":{\"id\":\"8dd2081b-c8be-4523-9625-9b32bec58f7e\",\"type\":\"Toolbar\"},\"x_range\":{\"id\":\"027ed9c0-17fe-4f9e-be02-878368decb3c\",\"type\":\"DataRange1d\"},\"y_range\":{\"id\":\"eb2dbee7-2d7c-4671-842f-17683eb160a4\",\"type\":\"DataRange1d\"}},\"id\":\"d51663bd-dd2e-45f2-a7a8-adbe182e7539\",\"subtype\":\"Figure\",\"type\":\"Plot\"},{\"attributes\":{\"overlay\":{\"id\":\"369c5a32-4f21-48a6-850a-92e99c79c2cb\",\"type\":\"BoxAnnotation\"},\"plot\":{\"id\":\"d51663bd-dd2e-45f2-a7a8-adbe182e7539\",\"subtype\":\"Figure\",\"type\":\"Plot\"}},\"id\":\"b2a53b58-a7f9-43d8-9d33-45df0f8e56ce\",\"type\":\"BoxZoomTool\"},{\"attributes\":{\"plot\":{\"id\":\"d51663bd-dd2e-45f2-a7a8-adbe182e7539\",\"subtype\":\"Figure\",\"type\":\"Plot\"}},\"id\":\"460cf832-359e-498d-a67b-73a13469847e\",\"type\":\"PanTool\"},{\"attributes\":{\"plot\":{\"id\":\"d51663bd-dd2e-45f2-a7a8-adbe182e7539\",\"subtype\":\"Figure\",\"type\":\"Plot\"}},\"id\":\"bdcd2482-f462-42d3-b189-8f9606254daf\",\"type\":\"WheelZoomTool\"},{\"attributes\":{\"data_source\":{\"id\":\"51388bc1-d965-4e76-b5ae-85877ac0412d\",\"type\":\"ColumnDataSource\"},\"glyph\":{\"id\":\"5cc0cdcf-c78a-4e99-9907-6fa32c8ba4b2\",\"type\":\"Circle\"},\"hover_glyph\":null,\"nonselection_glyph\":{\"id\":\"0a3631e1-b61c-4c2d-94be-eb287cae0990\",\"type\":\"Circle\"},\"selection_glyph\":null},\"id\":\"63470b2d-7a26-4b77-8a1d-7402e58e7518\",\"type\":\"GlyphRenderer\"},{\"attributes\":{\"formatter\":{\"id\":\"24b641ba-9856-49dd-8989-af8585c8ad02\",\"type\":\"BasicTickFormatter\"},\"plot\":{\"id\":\"d51663bd-dd2e-45f2-a7a8-adbe182e7539\",\"subtype\":\"Figure\",\"type\":\"Plot\"},\"ticker\":{\"id\":\"2c2fbea0-bd03-41c9-9be0-f8fa6dd50496\",\"type\":\"BasicTicker\"}},\"id\":\"03f6ac7f-427e-442f-81af-e3fbf4927ec2\",\"type\":\"LinearAxis\"},{\"attributes\":{\"fill_alpha\":{\"value\":0.1},\"fill_color\":{\"value\":\"#1f77b4\"},\"line_alpha\":{\"value\":0.1},\"line_color\":{\"value\":\"#1f77b4\"},\"size\":{\"units\":\"screen\",\"value\":10},\"x\":{\"field\":\"x\"},\"y\":{\"field\":\"y\"}},\"id\":\"0a3631e1-b61c-4c2d-94be-eb287cae0990\",\"type\":\"Circle\"},{\"attributes\":{\"callback\":null,\"plot\":{\"id\":\"d51663bd-dd2e-45f2-a7a8-adbe182e7539\",\"subtype\":\"Figure\",\"type\":\"Plot\"},\"tooltips\":[[\"words\",\"@words\"]]},\"id\":\"e75ed2f2-b848-43f9-97c6-32a5a8107354\",\"type\":\"HoverTool\"},{\"attributes\":{\"plot\":null,\"text\":\"Word visualization\"},\"id\":\"40918339-57e3-4d59-b6f4-8d83e044ae6d\",\"type\":\"Title\"},{\"attributes\":{\"callback\":null,\"column_names\":[\"words\",\"x\",\"y\",\"range_words\"],\"data\":{\"range_words\":[1,2,3,4,5,6,7,8,9,10,11,12,13,14,15,16,17,18,19,20,21,22,23,24,25,26,27,28,29,30,31,32,33,34,35,36,37,38,39,40,41,42,43,44,45,46,47,48,49,50,51,52,53,54,55,56,57,58,59,60,61,62,63,64,65,66,67,68,69,70,71,72,73,74,75,76,77,78,79,80,81,82,83,84,85,86,87,88,89,90,91,92,93,94,95,96,97,98,99,100,101,102,103,104,105,106,107,108,109,110,111,112,113,114,115,116,117,118,119,120,121,122,123,124,125,126,127,128,129,130,131,132,133,134,135,136,137,138,139,140,141,142,143,144,145,146,147,148,149,150,151,152,153,154,155,156,157,158,159,160,161,162,163,164,165,166,167,168,169,170,171,172,173,174,175,176,177,178,179,180,181,182,183,184,185,186,187,188,189,190,191,192,193,194,195,196,197,198,199,200,201,202,203,204,205,206,207,208,209,210,211,212,213,214,215,216,217,218,219,220,221,222,223,224,225,226,227,228,229,230,231,232,233,234,235,236,237,238,239,240,241,242,243,244,245,246,247,248,249,250,251,252,253,254,255,256,257,258,259,260,261,262,263,264,265,266,267,268,269,270,271,272,273,274,275,276,277,278,279,280,281,282,283,284,285,286,287,288,289,290,291,292,293,294,295,296,297,298,299,300,301,302,303,304,305,306,307,308,309,310,311,312,313,314,315,316,317,318,319,320,321,322,323,324,325,326,327,328,329,330,331,332,333,334,335,336,337,338,339,340,341,342,343,344,345,346,347,348,349,350,351,352,353,354,355,356,357,358,359,360,361,362,363,364,365,366,367,368,369,370,371,372,373,374,375,376,377,378,379,380,381,382,383,384,385,386,387,388,389,390,391,392,393,394,395,396,397,398,399,400,401,402,403,404,405,406,407,408,409,410,411,412,413,414,415,416,417,418,419,420,421,422,423,424,425,426,427,428,429,430,431,432,433,434,435,436,437,438,439,440,441,442,443,444,445,446,447,448,449,450,451,452,453,454,455,456,457,458,459,460,461,462,463,464,465,466,467,468,469,470,471,472,473,474,475,476,477,478,479,480,481,482,483,484,485,486,487,488,489,490,491,492,493,494,495,496,497,498,499,500,501,502,503,504,505,506,507,508,509,510,511,512,513,514,515,516,517,518,519,520,521,522,523,524,525,526,527,528,529,530,531,532,533,534,535,536,537,538,539,540,541,542,543,544,545,546,547,548,549,550,551,552,553,554,555,556,557,558,559,560,561,562,563,564,565,566,567,568,569,570,571,572,573,574,575,576,577,578,579,580,581,582,583,584,585,586,587,588,589,590,591,592,593,594,595,596,597,598,599,600,601,602,603,604,605,606,607,608,609,610,611,612,613,614,615,616,617,618,619,620,621,622,623,624,625,626,627,628,629,630,631,632,633,634,635,636,637,638,639,640,641,642,643,644,645,646,647,648,649,650,651,652,653,654,655,656,657,658,659,660,661,662,663,664,665,666,667,668,669,670,671,672,673,674,675,676,677,678,679,680,681,682,683,684,685,686,687,688,689,690,691,692,693,694,695,696,697,698,699,700,701,702,703,704,705,706,707,708,709,710,711,712,713,714,715,716,717,718,719,720,721,722,723,724,725,726,727,728,729,730,731,732,733,734,735,736,737,738],\"words\":[\"issues\",\"nc\",\"yeah\",\"teaching\",\"dev\",\"versions\",\"note\",\"f\",\"examples\",\"looks\",\"c\",\"mostly\",\"folks\",\"js\",\"dask\",\"lawyers\",\"speak\",\"directors\",\"submit\",\"party\",\"glad\",\"use\",\"slides\",\"b\",\"factory\",\"p\",\"demo\",\"challenges\",\"log\",\"would\",\"excited\",\"insane\",\"believe\",\"saw\",\"proposals\",\"related\",\"fast\",\"etc\",\"get\",\"dl\",\"together\",\"generative\",\"bars\",\"read\",\"months\",\"social\",\"tweet\",\"import\",\"floor\",\"less\",\"version\",\"project\",\"education\",\"surprised\",\"wish\",\"monday\",\"mention\",\"may\",\"called\",\"head\",\"rc\",\"quite\",\"hey\",\"maybe\",\"lunch\",\"images\",\"person\",\"enough\",\"started\",\"ok\",\"lots\",\"actually\",\"switch\",\"pretty\",\"bring\",\"many\",\"intro\",\"instead\",\"german\",\"also\",\"science\",\"guess\",\"example\",\"forge\",\"everyone\",\"anaconda\",\"scale\",\"lab\",\"japanese\",\"announce\",\"_\",\"h\",\"make\",\"program\",\"penny\",\"linux\",\"material\",\"announced\",\"better\",\"ff\",\"seattle\",\"closing\",\"windows\",\"dear\",\"awesome\",\"reference\",\"welcome\",\"doc\",\"keep\",\"decline\",\"scientific\",\"git\",\"thoughts\",\"g\",\"lovely\",\"isc\",\"kind\",\"plugin\",\"new\",\"back\",\"dance\",\"flattered\",\"though\",\"online\",\"challenge\",\"country\",\"classification\",\"turns\",\"optimization\",\"list\",\"think\",\"language\",\"part\",\"opensource\",\"event\",\"wrote\",\"fit\",\"police\",\"award\",\"k\",\"rt\",\"sorry\",\"fly\",\"wonderful\",\"based\",\"yesterday\",\"http\",\"every\",\"know\",\"much\",\"engineering\",\"models\",\"gets\",\"french\",\"l\",\"easy\",\"apparently\",\"reinforcement\",\"goes\",\"guidelines\",\"please\",\"piece\",\"history\",\"myth\",\"took\",\"important\",\"advice\",\"us\",\"issue\",\"hour\",\"friends\",\"old\",\"e\",\"hear\",\"lady\",\"call\",\"til\",\"skills\",\"ready\",\"introduction\",\"weeks\",\"crypto\",\"files\",\"explained\",\"upon\",\"board\",\"python\",\"great\",\"telling\",\"holy\",\"machines\",\"video\",\"changes\",\"lines\",\"gt\",\"fun\",\"always\",\"using\",\"modern\",\"translate\",\"journal\",\"goals\",\"students\",\"yup\",\"wants\",\"similar\",\"email\",\"whether\",\"academia\",\"training\",\"enjoyed\",\"presidential\",\"talks\",\"th\",\"come\",\"faster\",\"point\",\"made\",\"open\",\"maps\",\"guy\",\"late\",\"provide\",\"tutorials\",\"deep\",\"problem\",\"visit\",\"since\",\"interactive\",\"networks\",\"day\",\"peer\",\"must\",\"joint\",\"tools\",\"anyone\",\"needs\",\"war\",\"women\",\"says\",\"tweets\",\"simple\",\"check\",\"workshop\",\"front\",\"level\",\"auction\",\"far\",\"distributed\",\"written\",\"finish\",\"position\",\"today\",\"meet\",\"big\",\"self\",\"anything\",\"quick\",\"future\",\"met\",\"model\",\"lost\",\"books\",\"really\",\"tomorrow\",\"powell\",\"htt\",\"r\",\"line\",\"machine\",\"overwhelming\",\"posts\",\"sprint\",\"regression\",\"portland\",\"w\",\"personal\",\"seeing\",\"enjoy\",\"experience\",\"nginx\",\"help\",\"loss\",\"touch\",\"morning\",\"reason\",\"want\",\"red\",\"impressive\",\"weekend\",\"slack\",\"tried\",\"times\",\"try\",\"form\",\"yet\",\"got\",\"explains\",\"already\",\"message\",\"validation\",\"architecture\",\"storytelling\",\"unedited\",\"explaining\",\"dataviz\",\"text\",\"next\",\"random\",\"discussion\",\"run\",\"empirical\",\"junior\",\"past\",\"send\",\"evil\",\"install\",\"cross\",\"cool\",\"helped\",\"speakers\",\"long\",\"poster\",\"audience\",\"starting\",\"free\",\"super\",\"internet\",\"recently\",\"lose\",\"yes\",\"course\",\"pro\",\"product\",\"taking\",\"book\",\"join\",\"company\",\"july\",\"listening\",\"deploys\",\"favorite\",\"methods\",\"ml\",\"community\",\"might\",\"control\",\"psf\",\"search\",\"frank\",\"last\",\"words\",\"large\",\"key\",\"package\",\"valley\",\"talk\",\"programming\",\"friend\",\"https\",\"mmds\",\"error\",\"group\",\"image\",\"learned\",\"days\",\"natural\",\"going\",\"viz\",\"happy\",\"trying\",\"eu\",\"state\",\"thanks\",\"features\",\"instant\",\"thinking\",\"spent\",\"side\",\"pass\",\"perf\",\"driver\",\"system\",\"sign\",\"pip\",\"pop\",\"one\",\"tho\",\"software\",\"best\",\"good\",\"url\",\"lot\",\"building\",\"non\",\"need\",\"ai\",\"py\",\"shout\",\"miss\",\"q\",\"blog\",\"updated\",\"change\",\"live\",\"fuck\",\"pure\",\"starts\",\"thing\",\"amp\",\"summer\",\"music\",\"review\",\"json\",\"role\",\"guys\",\"practice\",\"pay\",\"election\",\"never\",\"heart\",\"paris\",\"early\",\"sweet\",\"library\",\"diana\",\"word\",\"doubt\",\"hard\",\"hand\",\"matrix\",\"watch\",\"team\",\"used\",\"life\",\"saying\",\"article\",\"ever\",\"birthday\",\"stuff\",\"done\",\"web\",\"logistic\",\"title\",\"understand\",\"build\",\"source\",\"seen\",\"something\",\"release\",\"missed\",\"uk\",\"due\",\"excellent\",\"woman\",\"code\",\"mind\",\"year\",\"info\",\"single\",\"details\",\"mean\",\"summit\",\"happen\",\"feel\",\"go\",\"sad\",\"world\",\"little\",\"lightning\",\"sends\",\"coming\",\"thx\",\"listen\",\"outreach\",\"third\",\"look\",\"people\",\"end\",\"works\",\"ago\",\"learn\",\"multi\",\"feedback\",\"dude\",\"design\",\"technical\",\"terrifying\",\"tonight\",\"leave\",\"performance\",\"around\",\"cluster\",\"papers\",\"projects\",\"summary\",\"useful\",\"notebook\",\"nearly\",\"keynote\",\"repo\",\"analysis\",\"linear\",\"interesting\",\"someone\",\"booth\",\"man\",\"plan\",\"runs\",\"hair\",\"final\",\"beginners\",\"proprietary\",\"getting\",\"forward\",\"things\",\"computing\",\"sending\",\"vienna\",\"movie\",\"upgrade\",\"post\",\"function\",\"running\",\"real\",\"research\",\"idea\",\"rules\",\"canada\",\"approach\",\"v\",\"definitely\",\"full\",\"series\",\"rejection\",\"stop\",\"questions\",\"park\",\"gallery\",\"seems\",\"top\",\"hate\",\"api\",\"videos\",\"released\",\"docs\",\"wrong\",\"silly\",\"giving\",\"implementation\",\"shirt\",\"two\",\"baby\",\"link\",\"find\",\"device\",\"via\",\"job\",\"cs\",\"thank\",\"u\",\"chat\",\"stay\",\"bad\",\"sustainable\",\"results\",\"easier\",\"diversity\",\"cc\",\"watching\",\"high\",\"update\",\"conda\",\"amazing\",\"access\",\"feature\",\"work\",\"hope\",\"making\",\"thought\",\"first\",\"enemy\",\"tickets\",\"conference\",\"write\",\"google\",\"place\",\"hours\",\"changed\",\"gradient\",\"data\",\"hello\",\"whole\",\"major\",\"case\",\"god\",\"space\",\"victims\",\"heard\",\"mysql\",\"map\",\"night\",\"song\",\"public\",\"looking\",\"dc\",\"algebra\",\"available\",\"app\",\"amd\",\"openscience\",\"comes\",\"wake\",\"qgis\",\"user\",\"james\",\"ploop\",\"time\",\"path\",\"coding\",\"reading\",\"lt\",\"right\",\"nice\",\"set\",\"fmri\",\"presented\",\"computer\",\"exciting\",\"different\",\"speaking\",\"game\",\"test\",\"okay\",\"probably\",\"statistical\",\"years\",\"languages\",\"give\",\"int\",\"without\",\"users\",\"neural\",\"documentation\",\"home\",\"stack\",\"see\",\"debugging\",\"month\",\"tell\",\"name\",\"pycon\",\"away\",\"congrats\",\"week\",\"sure\",\"haha\",\"kate\",\"phone\",\"power\",\"room\",\"datasets\",\"diverse\",\"memory\",\"guido\",\"minutes\",\"class\",\"oh\",\"tech\",\"add\",\"congratulations\",\"question\",\"label\",\"money\",\"average\",\"learning\",\"finally\",\"family\",\"like\",\"show\",\"programmers\",\"style\",\"wait\",\"tutorial\",\"wow\",\"tfw\",\"indeed\",\"meeting\",\"notebooks\",\"left\",\"laptop\",\"terrible\",\"sf\",\"computers\",\"remember\",\"put\",\"toronto\",\"went\",\"way\",\"fine\",\"omg\",\"brain\",\"systems\",\"working\",\"strangers\",\"schedule\",\"vs\",\"still\",\"color\",\"even\",\"ppl\",\"love\",\"could\",\"proceedings\",\"interested\",\"another\",\"openaccess\",\"possible\",\"de\",\"github\",\"posted\",\"take\",\"study\",\"say\",\"totally\",\"ht\",\"paper\",\"soon\",\"start\",\"x\",\"pm\",\"teach\",\"support\",\"analytics\",\"twitter\",\"makes\",\"<number>\",\"well\"],\"x\":[-1.1044464166925967,10.366145435672303,-24.408506442986116,3.053588721406831,10.013479267424643,8.048799579771487,1.3123414433962455,5.077151736952702,8.971568290521097,-20.815214968473736,5.1545215240162925,-7.905122540947599,-14.605450330020352,8.040801941743435,19.501548921190192,12.046511059979206,-14.47940653882773,11.89151822909517,7.20081034895161,-13.168578496741222,-24.174959558205828,-7.149235604078702,6.027398544199036,9.46601415981847,4.696201545092643,4.714049062304443,8.903415214779972,0.43359071850473896,7.071820927452258,-24.876797909074927,-16.81871344615669,-7.077198598615622,-20.879138170294834,-18.17421756373667,13.18608129574143,1.078192282758502,-9.414448933637162,6.205608485137549,-20.799046017891193,7.363635465090936,-15.296084075643781,17.74487822945766,5.634846899482309,-8.278249791391303,-13.501006983835328,0.32330848088015085,0.5569717707194943,12.639286104425615,-8.362260947868068,-9.494018458596132,-4.011802221315469,2.7765468847745103,5.031345028007374,-20.928694737365397,-23.8200527808888,-13.845319432005821,0.8288621310939772,-11.980390321566716,-20.59626989096936,-7.9241826272670846,13.494415006750934,-3.4918768499621877,-23.12122049849565,-25.119309643882897,-15.958589555298085,6.959268366277045,-15.690416924153448,-17.153736152243724,-16.182489808289553,-25.022351880985862,-16.889757004991488,-21.394812616245623,2.5147740557854554,-20.63042529984233,-23.762967326536515,-15.847245440070504,7.867089858962268,-19.188952017762364,10.717644613450469,-20.18259398943782,4.044810941447049,-25.505137920637516,0.5424292088673629,15.198132548560155,-24.136128536416212,17.406280075689082,5.9598891612335505,0.015513660785484839,11.258054396772778,0.37952700931589833,2.4439927508882744,5.633247207619893,-24.554790056952864,2.09432779396402,7.3371724156348295,13.519327667195556,-2.188022980081739,0.11980959795178148,-23.6061839974853,5.577607219015483,12.621625563142228,-5.713848124508308,10.450271283715397,-22.41340532312056,-17.178405992037398,5.65721680886605,-21.812232520975133,8.112090499410524,-26.94620431512085,13.940755238301755,15.904916419290704,9.249470996555337,-11.943905369712715,6.38113217292454,-19.096182821375404,19.06954481219959,-19.398210365679752,12.377763604968514,-2.1315346230670924,-23.74854631181747,-8.98228660058862,-11.843975175822791,-25.957064078670918,3.6654691407595514,-0.26622541880207623,-13.560412974556892,15.719564145899302,-13.04621309006237,13.666783481528409,3.6837364758203024,-24.638183560533967,2.352339703484887,-4.109678076800446,18.321480863143623,1.9638366895658557,-4.255947586727908,-4.948627262978406,7.722166074314694,-2.0829183225650643,4.726410083608525,2.4316800596636803,-25.73669501157855,-9.635037929813663,-18.187530821579536,2.0734743586856648,-15.246655850570853,14.223037807825323,-16.50648337419689,-24.7803896324943,-23.014386763588863,7.36232971210772,10.53901404807153,-17.541687364914964,10.85266970673283,5.562204059632548,-10.168576820125912,-20.708275292271832,17.58181365570516,-14.992150411825934,13.400078569334656,-25.053751435276045,2.470176662903889,-2.6105139104292343,1.5762608179886692,-16.387752564110322,-2.842219667534467,-0.19547485596243291,-22.993855541528756,3.2141629697742986,-14.098142024415562,-22.843648325948724,-17.312302884185353,4.087044322931174,-21.282182236554117,-8.405460063922348,-26.956142456134753,-16.708252308643885,2.6317404680337635,-10.852798633739539,7.785508283718029,-13.01209219263697,18.528473073603614,9.061697660427177,-2.439628514207949,-11.393585970020798,2.222694899105971,15.160114338982611,-17.139867325913965,-22.565452888026737,-17.33584695771024,5.232855087815818,-2.6426824762190715,-1.3729231139951936,2.0029637082544998,7.225567189676986,-17.47320773739835,-24.96094501640465,-6.778555482558273,11.715501178125937,10.838204933420768,6.800701363012799,-5.378268670509248,5.743449142607699,-25.56515595425376,-21.801718350647267,-2.8022522310025693,2.5959220387807957,-15.745921040575734,4.392247620575303,-2.5413276542243,-11.900899021122871,9.501166072188525,-10.217267845875961,-11.871064941824896,-25.11266520533824,-8.832067993084273,-3.8432182179614727,-19.417258676064282,-3.5262168762399426,10.06870154217594,-20.608627315382016,-13.954284232161186,-0.1918062986572889,12.368682628290406,-12.177649549154346,-13.564691280054006,-2.1698376844251808,-15.095949499663211,10.756029309427474,11.271002795817594,-15.734700339027642,14.316830151153288,-23.303690520902638,5.078210659926224,11.704306747594215,-21.68196768824418,-28.127045800962513,-3.5503444140365623,-13.354023510053963,-10.446548854113434,0.32679717642249373,-1.9979943122149235,-2.903357031589594,3.1341353504538745,-7.145085791575752,-2.104326924692521,4.830884271632463,-11.057851748797795,15.355780841983156,-4.029597691696524,-8.08957024706477,1.5214992073911193,-14.57991369572585,-21.927112025319904,-9.050074100515669,-13.534154673160977,-21.75288767997438,-9.915078333545267,0.380169156059642,-9.688504209544487,10.115588050941762,-15.57851818741014,4.296661896314904,-24.4397926096088,-14.651544597472235,15.005612740267503,14.290454326825415,4.1578255058787565,-0.32276038474922586,4.118745423953993,-0.4847077194318948,7.357633318151678,3.57009584579765,17.834159844300842,12.281976901910872,4.464896205727606,-1.7911193936211796,-19.200866985495757,-18.033542754822335,1.7514618679789409,17.300386418459514,-23.480423829291357,-4.543699320882773,1.7690824974197896,-16.56790209548086,-16.659046548382623,-26.157440918718546,-5.0513489962011295,-6.179953927560943,-13.872180713995819,-3.159600166225399,-22.407864508203552,-14.482514458198143,-24.997106445179462,-1.5324174098852967,-18.900800267195777,-19.726718283655348,-2.702517933448268,-16.708659443805956,-3.905705454120209,14.506220472508174,10.424544664446831,11.47447015382165,15.311698955657175,-1.803349451341961,19.241659365237904,-6.851140331763557,-13.224383164676656,-4.666711022108846,5.910980819253594,-8.262188007953673,16.811375391933307,11.135422105266805,-14.820289163925137,-6.769744179622519,1.1439419664456232,7.9284616918622355,-6.361990832529924,-19.23030743179559,-21.89635208362788,7.166092238601138,-18.474376853433476,-3.542416288889089,4.201105970214713,-8.984655180176684,-0.6766087831563494,-6.003404149465755,2.389778043135902,-5.927179563848741,-17.98166736350717,-26.147737868867548,-4.174651589711522,4.358701440789958,8.752600498631585,-17.67500153747053,3.441472334370262,-2.323484015516414,2.7175177268500135,-11.29829124774248,-19.97693873530343,17.212507856761736,-15.082047626435024,12.930965411984523,14.065673021519013,3.710579149683441,-23.695751160259977,-1.0432146061903182,18.82623688639717,7.573380185942492,14.673171866339796,-13.391534712466175,-15.868574810201046,1.3648832133914395,0.67547959470014,5.065715560820788,12.42758190728252,-26.872411780393648,11.579001888827339,-22.954340555756676,14.387797427482976,20.28270626228466,-1.094578262365804,2.3909724361171834,6.586628299418741,-16.73756344390606,-13.984706827304015,-3.2881879995696335,-18.266238817757845,18.0893536569337,-20.904366601675633,-23.86476727032229,3.5626605365588544,8.403444000641692,-21.798801542586762,7.3697269298160615,3.5245252866474766,-19.89123163713287,-13.164866046492175,-7.275562620409408,-8.763052808909523,-15.124560709157395,3.294866173014099,9.821671121761598,-2.7594353910684544,16.322174697044247,-8.365266680898285,-20.29867767514301,-27.414947917366597,11.732440586025021,-16.272841880511994,-17.711105999421832,14.274932908884693,-17.065205442187,1.510623319791801,-2.8680723175856495,-24.3275736485981,3.1440724948460996,8.37666627964919,-21.554107963680956,-22.35840524525312,5.612845323633146,3.3112372719311187,6.117724090826992,-3.4540803091837775,-11.00933866105835,-27.33852326165785,-3.0534920834030834,-15.62892249553021,-18.448668982780724,13.31134603474259,-14.96418825107013,-9.397540965126888,4.895396226663657,16.900170352729123,-10.827558397874299,-23.762334461336696,-7.290114113422502,-10.437259004393775,9.96771138625662,-25.072567161415623,-12.742933143495724,10.934506073961881,-13.39406735661783,-19.679695906061692,1.1380729751096963,13.231721317542569,-19.39663948933422,-17.036848862223508,-27.110860259839633,-6.7852282460036415,15.048738491755731,-11.49000878321689,-7.761610664729158,-20.36362122906766,-14.60181968089867,-22.816748977759143,6.107521063916644,-19.208887645226664,-20.77387586170364,-17.818450833971287,-17.51919377583768,4.043539069403911,17.876981978534285,-2.372840040873681,-15.409974966766914,-0.25567736619925874,5.94059841676903,-17.753059168155563,-21.771447728122126,0.6558191302508233,-15.61184640634411,11.91559102395946,-11.137341983926678,5.606499332796942,-13.661825731759155,3.9955765124506426,-13.7667687753456,-13.047204990098257,4.875537391120241,-4.6298442682274485,5.425119177646151,-24.9300465910251,3.704545622886408,-17.28535442105679,-23.252652970830393,-24.181696837207795,-22.71803542754451,-13.968607591646734,-19.945233413471723,-7.868196924462101,-8.48275427975989,-14.73314527818047,-22.098557487806623,-21.010504209208186,11.411127345606106,-3.514407868209941,-20.540840573835666,-16.161846790105876,-10.691539358925183,-10.74426343348274,-14.829484530956618,-14.190743605514609,12.884441953152404,7.119246417400339,-27.561123256346903,9.486623661320621,8.106362481755447,-6.757085319326588,-14.681822659359167,-22.949918969285118,-2.0973665915444597,-13.335654675344554,15.709675978138726,0.22751790268918223,5.410061473416849,9.330442950541004,9.028366206843003,11.9379482570226,-13.281253367853289,8.250731369148038,15.951722413584571,8.772073013650152,18.266860786410376,-5.319821078116441,-21.557573148916084,6.7060520050311805,-27.836021855293374,-0.7890237911774444,-8.21154069147745,-20.502922016251087,9.164407857709548,12.849146201038202,16.857272608475625,-18.829695337190156,-9.689099092187789,-15.999513383017316,11.884526480498195,-8.692908544071562,13.18030753632021,-9.6312586173861,8.409500217842089,2.151948807702463,-2.0564352831374975,-9.196685320609316,-8.639245890312374,5.077178384542686,-4.025612178063769,0.07218794457282146,12.140443282637502,0.8064065817702954,5.88436024856936,-20.621684996796947,-4.599646957748111,-1.4991465314591874,-0.3979841130150519,-27.61975277719112,-1.0113351491849845,12.38846343998474,6.616783639109971,-19.61253774622284,-5.93361456679497,-26.575727049827766,8.548506669284336,0.23453688675534395,0.4701874243289407,8.783597883986934,-22.3433428080896,-28.57522255914685,-18.88811128593225,14.142080146366276,-6.436776348926931,-15.703373816396722,-20.973294298772597,1.165617818252299,-22.409593115698527,9.65068409891863,4.041493660918833,2.3277201725818326,9.741694806704608,-21.57610922181295,3.2780775778181157,1.9271604060296583,-26.949899371122648,-26.819419765602216,10.836522075155054,-5.472868791586242,-9.239557899507222,11.143317204845646,6.8098344609411985,-19.503294417639587,-7.18993204417086,0.2668490561337761,18.01935858562427,-16.63617482047939,8.12804995902456,5.778728273238002,-12.042391041336582,-23.405437237464525,-17.55897500890855,-21.613063285467092,-12.785604381893908,1.2948289528634276,-9.929868576332913,3.4187738540422408,-7.3897858354509,3.185158700513601,-4.331444551280445,-13.160157220865193,-18.575424757271236,16.591096459863866,4.991651418918274,-22.243273561881967,-16.75739258253738,-3.3106510897113557,3.490023466765111,-14.276670763005123,2.8606065756265187,2.305145603135612,-18.2613279153222,14.316661429579023,3.811747257860744,-15.731310087254824,-9.603717936775269,1.8807350522755195,-19.877466194730143,8.953332750141028,5.237310914607745,4.592498659747795,3.6930088086824284,13.493893197091797,19.966147413420437,-17.742885716128193,-22.05763878258221,19.499193231693454,2.959299801346921,14.511363303796161,20.800916463745097,-11.806435716795121,1.2525599871686586,13.363644183158549,-7.3444641775003525,7.302895240489439,-25.333956662331797,-19.121187936690117,-4.2247017314954745,17.248267050348996,5.5094752734631065,9.352894548389031,-5.414629346574312,-15.783224847044414,-1.5737946484028253,-11.0320827740044,-1.2541401075956204,-26.02780989471745,-21.360451821881547,16.304212676204042,-14.27470186081879,2.641571960665262,-24.412444175856884,9.20468955429945,-18.074239615540115,7.7911487211940615,18.385535478304146,14.543967671677903,-11.035662492093648,5.868833906627669,-23.639057247697295,17.42283017873256,-11.470109486134973,-26.661761427232697,-20.71472145361183,19.391965740454992,-14.271645353336567,-20.23498907818967,-13.571809072400503,-23.733304905571,-25.921274454168973,12.857023323950719,-6.663185114955143,0.580233920773868,-10.006087192853894,17.31202333291977,13.341181857976313,1.2405737572199085,13.387882583862606,-11.679804865192805,-7.186275111098313,-25.09911777567291,3.2400956924301685,1.2917103630048388,-19.996937552297172,-6.042198012939863,12.890930022669535,-12.009468116090018,-4.178601124265993,2.937196718486664,-16.66104980666735,-22.41517946314021,-25.66469051348927,-10.785306702394697,15.624645025816415,-4.366371442766636,-16.40945076731507,11.724651905949349,-24.725744962249763,15.723367816884428,-17.299526537147347,1.385921926939281,12.709524825686245,-15.64220233272634,9.392817722654947,-3.498725712400733,10.905747322198465,11.076726833210781,-21.124667555029088,-25.52106849571923,11.979998278595653,-16.67538143479539,-22.71643784078703,-19.457119790290477,-24.732270341289187,-11.07853609797181,11.298683835720713,-10.872130848720058,-8.839410102734194,-5.861741089879139,9.833969203943553,-24.27763669509753,-4.102803428760684,-26.528997095803245,-14.634856494541854,-21.268374727001707,-24.263944831019757,13.528552622998467,-10.7868186511688,-16.15858215533008,19.781670857624935,-3.5213240375485118,6.10073982121148,16.280365084572804,-5.848303169435013,-22.442049799220886,-1.4361308127105132,-26.03571147487471,-20.482399147698313,7.919207215844986,-0.7302182215102718,-15.201172293941921,-9.795409502398845,5.999439261822175,8.773295922057537,-14.192674944117458,-2.4777115941812937,12.431979705491516,2.1310723669226657,-18.446243279728172,6.698576943035244,-24.314561583547146],\"y\":[-14.472436634765867,6.147861422776202,3.8855751583616156,-15.895498145662891,-1.3627559756013143,-9.387560955426832,4.386852252430477,12.29681795498701,-10.384216064521281,-1.7634940980182912,13.135693098054222,-12.479200989476066,-20.07512294266968,5.1378701918196255,-5.574714960734754,-15.980789908637561,-16.759016855297318,-15.507434219431472,-8.137327407585628,4.698095029648388,-9.856719162018962,-9.480458022471941,-1.423453536529474,8.829840032200766,-2.192117143823774,14.096700888581218,-1.0671707490613462,-14.273041189651819,-0.5377513742940786,-16.61962066844077,1.7361434072901356,-12.37511092400462,-7.403001809003424,-7.209177453573231,-14.838396128358147,-16.39153191612482,-10.388054579777306,6.214272331182841,-4.282748318665175,10.05762839726815,-8.09294126945976,-7.100122005783458,0.5497168525941378,-20.227017584817993,-3.054283704223541,5.586155229245403,7.631944549570876,-0.7013419983979795,-2.0862991453370023,-12.04503279222487,8.931386827141209,-6.836717391430707,-14.815345231552898,-15.30051813064987,1.429843948044034,0.5380975525066011,10.553407824951673,-5.190907576243118,-12.120378493545735,-1.3763387815524797,-1.52263526812085,4.299403633765523,5.342727631623033,-9.190364900191495,5.1276147573799555,-9.97170376587638,-13.765150569060076,-11.918028813971874,-2.1456119314674926,5.9305860638248005,-9.979044999949025,-14.43975833522637,-0.49122493273504053,-1.403301039935212,-5.727326716306289,-10.459855088113128,2.6508396088128485,-9.174827717787705,2.652499630160649,-15.997724679860411,-15.423168086796506,-10.553310460763909,-15.56038792259572,-3.5524308487208804,-1.6217943165908646,-2.8223856702282797,-1.2839745841108463,-9.853594368105682,1.7381151573362723,-5.737131978669929,11.589136543116908,12.42789102576174,-6.7791706385779555,-8.15522020528074,1.3790307327687483,-7.331369639811599,7.043027724817286,-6.010516771528232,-8.575670224076601,9.306596637416755,5.881058296830663,-5.241279195205798,-3.991144797735536,6.451144834273341,9.303238293787816,-10.244551871404825,6.484902101063694,2.273319701089382,-4.514963830442698,-14.307248697124106,-12.433718815222228,0.8493647480536685,-15.095809845875099,11.87974863392849,8.194380259233565,-4.375589090280215,-19.349591175921866,-7.578072756014501,1.0708093771388312,-3.320952464916044,8.770420699159992,-20.628530073257398,-9.511307981013474,5.658192928781964,-5.283685339803344,-9.767251467502346,-11.11701024082612,-7.909081204212209,-9.762490145147344,-5.807873491706155,-12.843211083283462,-16.878666998402185,-3.779454803630813,-7.845898077479138,-7.523546618172979,-19.305239293032372,-0.881758736786184,-18.73822361541006,-4.681453638124865,14.27317204475017,11.071409825702725,5.309977155164589,-2.5953859274147915,7.784518531868422,-14.811897007427207,-2.97182759359415,2.3796179298997395,-8.270624538429097,-11.393136209882332,-9.640984406371784,-14.533625392180873,0.0006209281879481846,-4.793076409435467,2.4566848622919117,12.176212995508315,-11.466696268410344,-13.974232109269579,-10.290780118913755,-5.416418383530591,-13.138304302253133,0.2811916912027254,-1.4907772272600246,-5.975535716318081,-18.228111230405453,-4.808798072409995,-14.658044531370782,-15.923097747562043,-6.363245840318116,-12.387815878123753,-3.370914027356329,-1.983956741714144,-7.832592370061729,14.677052921347292,-6.3445929742766465,7.44939579787212,-7.164268603336978,-0.44894839330269803,-14.437288353699094,-0.621413040882713,-12.639912120962178,-1.8566444862012619,-8.472428921620281,-5.956047582437618,-18.79403778325172,-15.511943740148906,-10.05683384964925,-2.4206378285889976,7.999452038691607,-13.232610125968673,-6.169836381935467,-1.213818411286441,9.00581812105021,-14.525771126526935,-1.4547077754775646,11.293821170396921,4.880856474898226,-13.036015880887351,-9.47596526823998,0.7991129590728286,-1.901139036939918,-12.153267645564146,-8.101779196615988,-15.287459479891885,4.114355268592864,-18.682776925284923,4.961156164075234,3.465038664030457,-17.01740036572489,16.03954455181675,-7.9371413694862545,-6.350241973109184,-17.71986340206999,-18.430981132198806,2.4453217436430603,-3.105704668945556,-11.232446042912443,-13.82337086435712,-12.419952949945014,-0.4599938843377389,-5.229254942027479,-11.737546820456311,-0.9071818301435098,-12.238407715456233,-10.507872774629012,-13.18386654183033,-14.78977987821552,-1.1390558111393534,-4.181777379918745,-11.170651288642144,-5.127374946834487,2.792751719087355,-10.875908519661976,-17.45232585799423,0.19038708603960589,-8.999155328341685,-9.885407822723911,-17.357589971480316,-9.113565047285915,-10.587297177479313,-18.504662133456574,7.9510839693862065,5.210416390261701,1.2647445988995705,-8.017400953262104,-1.5601411148738777,-8.927586915401712,-4.315154339867362,-4.638567038322569,-8.359911886239225,-19.309207457709892,-4.595796352011612,-13.063391947442442,1.0669029665240242,1.5294258258841953,5.602190345925884,-14.404735639070113,-8.841660214131519,-10.558015993168471,-15.337080142965931,12.944227458093557,-0.10710890108574492,-5.82695928605388,-6.677962584646481,-12.300699645300439,1.5687569304328715,10.450953215958032,2.4231643138506556,13.097216765548326,0.18497735933055276,-1.4595846303698359,-18.462812195563476,-6.66112622097353,0.2329863298690935,-10.451207576730136,6.031567047334639,10.529317657705134,4.60056098511083,-8.01869146884576,4.400082652910918,-14.851097487462448,-7.195734165880396,-17.903763824174376,-7.682576438824185,-0.3272745224997757,4.063596229600001,-14.209628998629393,-14.352083773192717,6.640428333032688,-11.584980701137594,3.1623865512871103,-10.831417453088203,-14.852993324047574,-7.289842673770909,-6.495514565563455,-9.693585369384431,-14.574761097750992,-4.243443681070061,-18.71503504900665,-2.916408205447226,-16.577041531335247,-12.33550745149625,-11.914295271679574,-11.522523338381378,-5.84826460829102,-17.472444250225166,-7.702144046976779,3.114838641324098,3.7707945603640267,2.430649967516331,-12.663072556543877,-2.8103540784114953,-12.00838961972107,10.471762626423036,-6.470604781692745,2.7886332293225693,-19.864858476518233,-3.4493283922556897,-1.6606373887011219,3.1921183406109153,-18.09697949675601,-3.000271515974634,1.2479639834838916,9.261088054743983,-12.510390021762811,-4.720365209802778,0.3485114312456382,7.534642286286238,5.956345367954248,-18.189646357118804,-17.343171221620207,5.061580169918703,-12.128728142403238,15.39859867164999,-8.764710912166645,-9.77485049545847,-6.091370501383116,-1.6253260883665093,-10.981679462115055,2.1879007542889832,-6.110354720954523,-5.864173297858716,8.907927246920766,-12.749334220476154,-1.0458618820709409,-11.12885321578138,-15.922775768073745,4.8471224443626095,-5.460550153646316,-5.031738006396141,10.06710712397678,0.861543501916343,-14.601089081744608,1.0718411094836031,-3.1221729517826518,-4.862423478822004,6.706577580961243,-7.516375602175529,-12.433420009009183,0.005513865888350233,1.7717527572645095,-5.308015745475351,3.7192060307944326,-8.71799322674716,-10.118721145001622,-16.63413648259861,-0.3843766997124877,6.48541963797671,-2.987913595406206,-5.1392887677936,6.268068036445105,-14.563825137602203,15.241850419371714,-18.33924935498958,6.130017465918083,-9.315304294756857,-4.278151539588194,-9.554049493767932,-3.7025222519167498,-2.1477313642311358,-4.445353981310263,11.226340669984923,0.11448823854354948,-7.16020984597439,-2.738294369310107,-1.7074842850206815,8.4441566120014,-7.663227564428574,-9.454603096659882,-8.312131300116084,6.3850086123193295,3.824485160315135,1.1928603552364854,-11.062395993037274,-10.459814550868394,12.664077833523388,-7.055612381719836,14.196354245485463,10.711003976214064,2.044811540588341,5.10370332998932,14.868823398633303,4.86768634530007,-6.926239623369021,-14.731688086063714,6.039616155600959,-10.274350672883195,12.427893774439548,-1.6487219822412296,-12.874866897087962,-2.1760236783436038,2.9618665099285875,8.901242664131278,-7.53345355810311,-7.667119158916575,7.238768710557316,2.3531970625699326,-5.85111580779112,-8.015456707552778,-18.038576765155682,-13.985827118264748,-12.972274612194054,8.136034336183497,-0.02353745223188386,4.6545558472609505,-10.23804768662013,10.632011410939487,-19.395997398106857,-16.55742438053016,-13.236004974779657,-0.5240997206413308,-3.6297519545437185,5.016770923757988,5.852125560958529,-13.030626989304691,-12.664451282501505,-11.98874626962159,-12.001515830414407,-13.3198268650705,6.332008709144005,-10.671280796492123,-1.89906563878778,4.639007463397092,-8.543495013541447,-5.453599145670646,-15.98185605446349,-12.149027908447932,-11.767002666181806,-6.6106763259770736,-10.029819435340684,-5.420941236897516,-3.379429209694342,4.296094897365916,-3.9040904964033873,-11.953545222621502,-11.234464847594703,-4.241424759305143,-13.811530802606313,1.5191620713071523,5.47417732267748,1.6102225935427834,-6.7412371688651636,-11.449326575022921,-9.43397088488914,-16.220267182614215,-11.27507827259314,-3.9278958136696036,-10.889803673865943,-9.529805050724358,-1.0876838025490025,-7.754030567931974,-16.624669285841094,0.38075810971602025,7.889959200538633,-6.073382714148435,-14.329320914690415,-6.027715482391119,-1.4797409791381573,-12.840576311885876,-4.583924173659694,-12.152422372460881,-3.479605185941253,-17.387719751770465,-0.9567265575031555,-8.024678591897926,-10.098334183342029,-8.316106669060597,-14.14383165816775,-13.047507592207515,1.8243880541112456,-4.639838519136999,-4.4372559567096905,-5.978811816229966,-3.0214476171130658,-8.54114895034574,-14.734527615146613,-11.482513587769574,-10.285778380848006,-2.8035261526452406,-3.661751578498495,-11.7688273294167,-5.0305439123223685,-13.933137949460304,-10.466319096045632,-11.458311794547914,-9.669499093623784,-3.6736411647544513,-12.050178549774289,4.623867292372173,-7.491128418796191,-0.3454225339850814,9.337610228592856,-11.24200207896292,-8.479759399218905,-4.021474225631095,-6.656267568038918,-12.330748394551138,-9.413547640139582,-16.07122800294004,6.0994683137522285,9.495813496924017,-1.471827318001265,3.7537971488439763,-10.684570120365652,-3.0942082632418217,5.475173094332062,-14.806645744601177,5.460449010101059,-5.087233449665765,5.285814568836568,-13.923310431390716,12.306184103987489,-14.846609422400338,0.7233986525852584,-3.3809013477312067,-18.39655501611048,-6.0497073077486,-20.799931375073367,7.283528967959352,-4.173269744186463,-15.370688114575797,6.91233314601403,-11.781771805507859,-1.6029381602654398,7.965807183587373,-6.125989384473225,-6.263205836332531,-12.059363695759822,-10.12702444959431,-9.591783046482211,-12.68889055731139,0.543055714288211,-9.497324509686184,4.285603011726804,4.632373185477698,-8.288261041257625,-5.41488521893509,6.088054660636358,-11.311626989721061,6.241894642587258,7.419202920772527,11.54693239475539,5.792814504088565,-4.683128358877115,-10.933496506440658,-13.212129788169152,-7.065976744948185,-11.941755444988416,-13.934206199266383,10.063022756765216,-6.1759834438206616,-2.770209088055727,-0.47906703128664874,-2.9103382547269083,6.264863154701107,-5.295745933885189,-6.976234710641707,-8.00295796166203,-2.29314599141319,-10.634988886034765,-12.979932262329367,1.3324319191418752,-20.033515953157618,2.2402551134018345,-9.259975551618545,-20.218276646198667,5.646477296610877,-13.37930640736232,-2.508706979643959,-15.016261180943667,-3.7338881043355636,3.2130045855167864,6.128207689798704,-8.032893691268045,-6.416189542644061,-1.004837519939486,-12.747837317207438,-2.5658881447810726,-20.611742995222894,-6.480797127025847,-7.413153137721846,-2.724083102249901,3.0450066972783594,9.431762349832107,-12.716091954082989,-2.7356121127876416,6.6479326042142315,-16.959943839539513,-5.245831706198343,4.500575053054012,-2.3507962895794527,-7.525020039816755,-13.197632463449073,-4.665086853059313,-6.952114293621649,3.930264669919396,11.839134384100443,-5.788237263932134,-0.5781626199193743,-3.3030861819977555,-11.750792482000623,-19.525570006663447,6.4651629058840925,-9.976696840498525,3.574984068418544,0.7098163503582623,-9.104351257532311,-8.74487697902725,-4.079823112953692,-11.25075349817113,-11.017608165672911,-16.895623358514595,3.7491267790721756,-9.525905622238477,5.440761740986907,-14.313933734956642,-12.17095781340748,-4.337180983041808,-17.716666323763537,-6.502165975073155,4.936747415079837,-9.097062203021114,-6.026407021678675,-9.715726931955137,-11.55704444190203,-0.7930898103572158,0.7671969298789283,-4.546878271051725,-9.841950742557463,1.1464265090110026,-7.963877833912924,-11.376570482759885,-5.858430791692537,-5.833990419163132,8.926976393240613,2.987742211058202,-8.455865712876676,6.09426707661582,11.479245502104323,3.3646469278764,-2.9337717888651005,-0.3021137410553707,-8.26754231134457,-5.344668100910233,-3.089740081142619,10.478982062103537,-2.4340409882256995,-5.524566887170251,5.339068985425928,-10.549477550732062,3.145295651271312,10.223878165132888,-13.782136507124278,-0.08941539794516049,-10.217378005236334,-6.4275735775605565,-15.566883129931643,-2.6683534316085527,2.5928729715913095,-11.06501804945357,6.715091318401699,-9.562676036169796,8.674868850563032,0.836094188268466,-6.854744151623967,4.516197375949955,3.191226332783055,-18.913312262245007,-8.047029305105967,-3.804039660070933,-5.01707272739177,-2.8945460290537057,4.106047441337523,5.9792194608590865,-4.992171492129939,-7.286625450195053,-5.674128908287697,5.797927405238238,-4.0766242182094174,-8.77778151489699,1.4729314956520065,4.439979033133991,-13.476294031567676,-9.631054638037789,-8.085612197395623,-15.304084091213598,-6.536114636764617,9.34041255557475,-12.836711222031695,6.498616226719247,-13.805791974191763,-20.07388176380659,4.328331796027414,-16.14591897311363,-14.953076378273007,-8.399498214683131,-7.337315338073561,-7.665364158402677,-14.175820568349456,15.167541775898858,-7.240891385103669,-18.225280847142393,-6.120281371413268,-10.446419274401046,-6.443799855054757,-15.293355410134176,9.068049250942405,-9.199900423865497,0.8019054570017647,-5.381969799482666,11.012093301451516,8.480685741002786,-17.346238553060978,-1.9007606812836957,-9.139085407339683,7.907015484805879,-12.577086427474216,12.959613591317169,-10.082430894659261]}},\"id\":\"51388bc1-d965-4e76-b5ae-85877ac0412d\",\"type\":\"ColumnDataSource\"},{\"attributes\":{},\"id\":\"18d41846-d58d-4e26-9a54-0eb19844cf9c\",\"type\":\"ToolEvents\"},{\"attributes\":{\"plot\":{\"id\":\"d51663bd-dd2e-45f2-a7a8-adbe182e7539\",\"subtype\":\"Figure\",\"type\":\"Plot\"},\"ticker\":{\"id\":\"bcb7e520-2ebf-475f-b999-2be9efdb1979\",\"type\":\"BasicTicker\"}},\"id\":\"26e76c89-3a17-43bc-af0a-468e491b0f58\",\"type\":\"Grid\"},{\"attributes\":{\"callback\":null},\"id\":\"027ed9c0-17fe-4f9e-be02-878368decb3c\",\"type\":\"DataRange1d\"},{\"attributes\":{\"bottom_units\":\"screen\",\"fill_alpha\":{\"value\":0.5},\"fill_color\":{\"value\":\"lightgrey\"},\"left_units\":\"screen\",\"level\":\"overlay\",\"line_alpha\":{\"value\":1.0},\"line_color\":{\"value\":\"black\"},\"line_dash\":[4,4],\"line_width\":{\"value\":2},\"plot\":null,\"render_mode\":\"css\",\"right_units\":\"screen\",\"top_units\":\"screen\"},\"id\":\"369c5a32-4f21-48a6-850a-92e99c79c2cb\",\"type\":\"BoxAnnotation\"},{\"attributes\":{},\"id\":\"bcb7e520-2ebf-475f-b999-2be9efdb1979\",\"type\":\"BasicTicker\"},{\"attributes\":{},\"id\":\"24b641ba-9856-49dd-8989-af8585c8ad02\",\"type\":\"BasicTickFormatter\"},{\"attributes\":{\"active_drag\":\"auto\",\"active_scroll\":\"auto\",\"active_tap\":\"auto\",\"tools\":[{\"id\":\"e75ed2f2-b848-43f9-97c6-32a5a8107354\",\"type\":\"HoverTool\"},{\"id\":\"460cf832-359e-498d-a67b-73a13469847e\",\"type\":\"PanTool\"},{\"id\":\"bdcd2482-f462-42d3-b189-8f9606254daf\",\"type\":\"WheelZoomTool\"},{\"id\":\"b2a53b58-a7f9-43d8-9d33-45df0f8e56ce\",\"type\":\"BoxZoomTool\"},{\"id\":\"530859d2-162f-4002-87fa-3aa68c7f394a\",\"type\":\"ResetTool\"},{\"id\":\"aa4a50cd-2da8-4051-8749-64dd14bcb75f\",\"type\":\"SaveTool\"}]},\"id\":\"8dd2081b-c8be-4523-9625-9b32bec58f7e\",\"type\":\"Toolbar\"},{\"attributes\":{\"formatter\":{\"id\":\"4a3e3884-b21f-4283-b1c0-96e13b0f8db1\",\"type\":\"BasicTickFormatter\"},\"plot\":{\"id\":\"d51663bd-dd2e-45f2-a7a8-adbe182e7539\",\"subtype\":\"Figure\",\"type\":\"Plot\"},\"ticker\":{\"id\":\"bcb7e520-2ebf-475f-b999-2be9efdb1979\",\"type\":\"BasicTicker\"}},\"id\":\"3531d357-3471-441e-a35c-cea747ea4718\",\"type\":\"LinearAxis\"},{\"attributes\":{\"plot\":{\"id\":\"d51663bd-dd2e-45f2-a7a8-adbe182e7539\",\"subtype\":\"Figure\",\"type\":\"Plot\"}},\"id\":\"aa4a50cd-2da8-4051-8749-64dd14bcb75f\",\"type\":\"SaveTool\"},{\"attributes\":{\"callback\":null},\"id\":\"eb2dbee7-2d7c-4671-842f-17683eb160a4\",\"type\":\"DataRange1d\"},{\"attributes\":{},\"id\":\"4a3e3884-b21f-4283-b1c0-96e13b0f8db1\",\"type\":\"BasicTickFormatter\"},{\"attributes\":{},\"id\":\"2c2fbea0-bd03-41c9-9be0-f8fa6dd50496\",\"type\":\"BasicTicker\"},{\"attributes\":{\"dimension\":1,\"plot\":{\"id\":\"d51663bd-dd2e-45f2-a7a8-adbe182e7539\",\"subtype\":\"Figure\",\"type\":\"Plot\"},\"ticker\":{\"id\":\"2c2fbea0-bd03-41c9-9be0-f8fa6dd50496\",\"type\":\"BasicTicker\"}},\"id\":\"833f7c0d-3799-4580-9813-7bcd1365668f\",\"type\":\"Grid\"},{\"attributes\":{\"fill_alpha\":{\"value\":0.2},\"fill_color\":{\"value\":\"navy\"},\"line_color\":{\"value\":\"navy\"},\"size\":{\"units\":\"screen\",\"value\":10},\"x\":{\"field\":\"x\"},\"y\":{\"field\":\"y\"}},\"id\":\"5cc0cdcf-c78a-4e99-9907-6fa32c8ba4b2\",\"type\":\"Circle\"}],\"root_ids\":[\"d51663bd-dd2e-45f2-a7a8-adbe182e7539\"]},\"title\":\"Bokeh Application\",\"version\":\"0.12.0\"}};\n",
       "            var render_items = [{\"docid\":\"28d28afd-93cb-4f48-b514-7b1952e87bb4\",\"elementid\":\"2bedc7fe-150b-419c-83f8-f6505358e1b1\",\"modelid\":\"d51663bd-dd2e-45f2-a7a8-adbe182e7539\",\"notebook_comms_target\":\"420dbde4-3888-46e8-8dff-c84f534dc677\"}];\n",
       "            \n",
       "            Bokeh.embed.embed_items(docs_json, render_items);\n",
       "        });\n",
       "      },\n",
       "      function(Bokeh) {\n",
       "      }\n",
       "    ];\n",
       "  \n",
       "    function run_inline_js() {\n",
       "      for (var i = 0; i < inline_js.length; i++) {\n",
       "        inline_js[i](window.Bokeh);\n",
       "      }\n",
       "    }\n",
       "  \n",
       "    if (window._bokeh_is_loading === 0) {\n",
       "      console.log(\"Bokeh: BokehJS loaded, going straight to plotting\");\n",
       "      run_inline_js();\n",
       "    } else {\n",
       "      load_libs(js_urls, function() {\n",
       "        console.log(\"Bokeh: BokehJS plotting callback run at\", now());\n",
       "        run_inline_js();\n",
       "      });\n",
       "    }\n",
       "  }(this));\n",
       "</script>"
      ]
     },
     "metadata": {},
     "output_type": "display_data"
    },
    {
     "data": {
      "text/html": [
       "<p><code>&lt;Bokeh Notebook handle for <strong>In[29]</strong>&gt;</code></p>"
      ],
      "text/plain": [
       "<bokeh.io._CommsHandle at 0x7fccc7890400>"
      ]
     },
     "execution_count": 29,
     "metadata": {},
     "output_type": "execute_result"
    }
   ],
   "source": [
    "import numpy as np\n",
    "words = list(words_to_plot.keys())\n",
    "range_words=list(range(1,len(words)+1))\n",
    "\n",
    "source = ColumnDataSource(data=dict(range_words=range_words,\n",
    "                                    words=words,\n",
    "                                    x=low_dim_embs[:,0], \n",
    "                                    y=low_dim_embs[:,1]))\n",
    "\n",
    "hover = HoverTool()\n",
    "hover.point_policy = \"follow_mouse\"\n",
    "hover = HoverTool(\n",
    "        tooltips=[\n",
    "            (\"words\", \"@words\"),\n",
    "        ]\n",
    "    )\n",
    "\n",
    "TOOLS=\"pan,wheel_zoom,box_zoom,reset,save\"\n",
    "\n",
    "\n",
    "p = figure(title = \"Word visualization\", tools=[TOOLS, hover])\n",
    "p.circle('x', 'y', source=source, fill_alpha=0.2, size=10, color='navy')\n",
    "\n",
    "show(p)"
   ]
  },
  {
   "cell_type": "code",
   "execution_count": 45,
   "metadata": {
    "collapsed": true
   },
   "outputs": [],
   "source": [
    "def tokenize_dataset(tokenizer, dataset):\n",
    "    tokenize_dataset = []\n",
    "    for tweet in dataset:\n",
    "        # Replace different numbers with a token\n",
    "        tweet = re.sub(r\"\\.\\d+\\s*\", \".<number> \", tweet)\n",
    "        tweet = re.sub(r\"\\d+\\s*\", \" <number> \", tweet)\n",
    "        tokens = tokenizer(tweet)\n",
    "        tokenize_dataset.append(tokens)\n",
    "    return tokenize_dataset"
   ]
  },
  {
   "cell_type": "code",
   "execution_count": 49,
   "metadata": {
    "collapsed": false
   },
   "outputs": [],
   "source": [
    "X_train_tokenized = tokenize_dataset(TweetTokenizer().tokenize, X_train)\n",
    "X_test_tokenized = tokenize_dataset(TweetTokenizer().tokenize, X_test)"
   ]
  },
  {
   "cell_type": "code",
   "execution_count": 87,
   "metadata": {
    "collapsed": false
   },
   "outputs": [],
   "source": [
    "X_train_GloVe = []\n",
    "for tweet in X_train_tokenized:\n",
    "    tweet_GloVe = []\n",
    "    for word in tweet:\n",
    "        if word in glove_25:\n",
    "            tweet_GloVe.append(glove_25[word])\n",
    "    if not tweet_GloVe:\n",
    "        tweet_GloVe.append(np.zeros(25))\n",
    "    # Each tweet would have a different number of words and ML techniques requiere fixed inputs. \n",
    "    X_train_GloVe.append(np.mean(np.asarray(tweet_GloVe, dtype=np.float32), axis=0))"
   ]
  },
  {
   "cell_type": "code",
   "execution_count": 86,
   "metadata": {
    "collapsed": false
   },
   "outputs": [],
   "source": [
    "X_test_GloVe = []\n",
    "for tweet in X_test_tokenized:\n",
    "    tweet_GloVe = []\n",
    "    for word in tweet:\n",
    "        if word in glove_25:\n",
    "            tweet_GloVe.append(glove_25[word])\n",
    "    if not tweet_GloVe:\n",
    "        tweet_GloVe.append(np.zeros(25))\n",
    "    # Each tweet would have a different number of words and ML techniques requiere fixed inputs.\n",
    "    X_test_GloVe.append(np.mean(np.asarray(tweet_GloVe, dtype=np.float32), axis=0))"
   ]
  },
  {
   "cell_type": "markdown",
   "metadata": {},
   "source": [
    "## 2.2. Pretrained data using Word2vec"
   ]
  },
  {
   "cell_type": "markdown",
   "metadata": {},
   "source": [
    "Pre-trained word and phrase vectors\n",
    "\n",
    "We are publishing pre-trained vectors trained on part of Google News dataset (about 100 billion words). The model contains 300-dimensional vectors for 3 million words and phrases. The phrases were obtained using a simple data-driven approach described in [2]. The archive is available here: GoogleNews-vectors-negative300.bin.gz."
   ]
  },
  {
   "cell_type": "markdown",
   "metadata": {},
   "source": [
    "## 2.3. But I want to train word embeddings with my own data!"
   ]
  }
 ],
 "metadata": {
  "kernelspec": {
   "display_name": "Python 3",
   "language": "python",
   "name": "python3"
  },
  "language_info": {
   "codemirror_mode": {
    "name": "ipython",
    "version": 3
   },
   "file_extension": ".py",
   "mimetype": "text/x-python",
   "name": "python",
   "nbconvert_exporter": "python",
   "pygments_lexer": "ipython3",
   "version": "3.4.5"
  }
 },
 "nbformat": 4,
 "nbformat_minor": 0
}
