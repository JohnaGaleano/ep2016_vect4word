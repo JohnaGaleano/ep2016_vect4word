{
 "cells": [
  {
   "cell_type": "markdown",
   "metadata": {},
   "source": [
    "# ¡Hola!\n",
    "____________________\n",
    "- **Name:** Maite Giménez.\n",
    "- **Twitter:** @maidotgimenez\n",
    "- **Github:** maigimenez\n",
    "\n",
    "\n",
    "\n",
    "- **Who?:** \n",
    "  - Ph.D. student at Universitat Politècnica de València.\n",
    "  - University Spokeperson of Spanish Python Association ([¡Hazte socio/a!](http://www.es.python.org/page/quiero-ser-socio))\n",
    "\n",
    "\n",
    "\n",
    "![PyladiesES!](imgs/pyladiesES.png \"PyLadies Spain\")\n",
    "\n",
    "## Where are the slides?\n",
    "It's a notebook and it's available here: [Github/maigimenez/ep2016_vect4word](https://github.com/maigimenez/ep2016_vect4word)"
   ]
  },
  {
   "cell_type": "markdown",
   "metadata": {},
   "source": [
    "# Roadmap\n",
    "\n",
    "1. Definition of the problem. \n",
    "  1. Text representation in NLP.\n",
    "  2. An NLP problem: Binary gender classification.\n",
    "2. Get some data.\n",
    "3. Bag of words.\n",
    "4. Word embeddings\n",
    "  1. Pre-trained word embeddings.\n",
    "  2. Train your own model.\n",
    "5. Compare your approaches\n",
    "6. Discuss!"
   ]
  },
  {
   "cell_type": "markdown",
   "metadata": {},
   "source": [
    "## Science is broken\n",
    "![Science!](imgs/neil.gif \"Loving science!\")"
   ]
  },
  {
   "cell_type": "markdown",
   "metadata": {},
   "source": [
    "# 1. Definition of the problem\n",
    "\n",
    "## 1.1. Words are NOT numbers\n",
    "\n",
    "- Most of the machine learning algorithms are designed to address problems trained with numeric features. \n",
    "\n",
    "\n",
    "![Sklearn!](imgs/sklearn.png \"Scikit-learn\")\n",
    "\n",
    "- But in natural language processing we are dealing with words, so...\n",
    "\n",
    "\n",
    "![Doctor!](imgs/doctor.gif \"I'm sorry\")\n",
    "\n",
    "## 1.2. Binary gender classification is dead\n",
    "\n",
    "> Schler, J., Koppel, M., Argamon, S., & Pennebaker, J. W. (2006, March). *Effects of Age and Gender on Blogging.* In AAAI Spring Symposium: Computational Approaches to Analyzing Weblogs (Vol. 6, pp. 199-205).\n",
    "[read the paper](http://www.aaai.org/Papers/Symposia/Spring/2006/SS-06-03/SS06-03-039.pdf)\n",
    "\n",
    "\n",
    "\n",
    "| Feature       | Male            | Female          |\n",
    "| ------------- |:---------------:| :--------------:|\n",
    "| linux         | **0.53 ± 0.04** |   0.03 ± 0.01   |\n",
    "| india         | **0.62 ± 0.04** |   0.15 ± 0.01   |\n",
    "| programming   | **0.36 ± 0.02** |   0.08 ± 0.01   |\n",
    "| google        | **0.90 ± 0.04** |   0.19 ± 0.02   |\n",
    "| software      | **0.99 ± 0.05** |   0.17 ± 0.02   |\n",
    "| shopping      |   0.66 ± 0.02   | **1.48 ± 0.03** |\n",
    "| mom           |   2.07 ± 0.05   | **4.69 ± 0.08** |\n",
    "| cried         |   0.31 ± 0.01   | **0.72 ± 0.02** |\n",
    "| freaked       |   0.08 ± 0.01   | **0.21 ± 0.01** |\n",
    "| cute          |   0.83 ± 0.03   | **2.32 ± 0.04** |\n",
    "\n",
    "Word frequency (per 10000 words) and standard error by gender"
   ]
  },
  {
   "cell_type": "markdown",
   "metadata": {},
   "source": [
    "# 2. Get some data!"
   ]
  },
  {
   "cell_type": "markdown",
   "metadata": {},
   "source": [
    "## 2.1 Gather your data"
   ]
  },
  {
   "cell_type": "code",
   "execution_count": 1,
   "metadata": {
    "collapsed": true
   },
   "outputs": [],
   "source": [
    "from configparser import ConfigParser\n",
    "from os.path import join\n",
    "from os import pardir"
   ]
  },
  {
   "cell_type": "code",
   "execution_count": 2,
   "metadata": {
    "collapsed": false
   },
   "outputs": [],
   "source": [
    "config = ConfigParser()\n",
    "config.read(join(pardir,'src','credentials.ini'))\n",
    "\n",
    "APP_KEY = config['twitter']['app_key']\n",
    "APP_SECRET = config['twitter']['app_secret']\n",
    "OAUTH_TOKEN =  config['twitter']['oauth_token']\n",
    "OAUTH_TOKEN_SECRET =  config['twitter']['oauth_token_secret']"
   ]
  },
  {
   "cell_type": "code",
   "execution_count": 3,
   "metadata": {
    "collapsed": false
   },
   "outputs": [],
   "source": [
    "from twitter import oauth, Twitter, TwitterHTTPError"
   ]
  },
  {
   "cell_type": "code",
   "execution_count": null,
   "metadata": {
    "collapsed": false
   },
   "outputs": [],
   "source": [
    "auth = oauth.OAuth(OAUTH_TOKEN, OAUTH_TOKEN_SECRET,\n",
    "                   APP_KEY, APP_SECRET)\n",
    "\n",
    "twitter_api = Twitter(auth=auth)\n",
    "twitter_api.retry = True"
   ]
  },
  {
   "cell_type": "markdown",
   "metadata": {},
   "source": [
    "*Full disclaimer: gender is non a binary issue. This is just a simplified example. If you are willing to expand this experiment, go ahead and contact me!*"
   ]
  },
  {
   "cell_type": "code",
   "execution_count": null,
   "metadata": {
    "collapsed": false
   },
   "outputs": [],
   "source": [
    "brogrammers = ['jakevdp', 'rasbt', 'GaelVaroquaux', 'amuellerml', 'fperez_org', \n",
    "               'fpedregosa', 'ogrisel', 'dontusethiscode', 'randal_olson', 'tdhopper' ] \n",
    "sisgrammers = ['pkafei', 'LorenaABarba', 'jessicamckellar', 'heddle317', 'diana_clarke',\n",
    "               'wholemilk', 'spang', 'cecilycarver', 'juliaelman', 'b0rk']\n",
    "\n",
    "brotweets = []\n",
    "for bro in brogrammers: \n",
    "    brotweets.extend(twitter_api.statuses.user_timeline(screen_name=bro, count=100))\n",
    "\n",
    "sistweets = []\n",
    "for sis in sisgrammers: \n",
    "    sistweets.extend(twitter_api.statuses.user_timeline(screen_name=sis, count=100))"
   ]
  },
  {
   "cell_type": "markdown",
   "metadata": {},
   "source": [
    "## 2.2. Clean your data"
   ]
  },
  {
   "cell_type": "code",
   "execution_count": null,
   "metadata": {
    "collapsed": false
   },
   "outputs": [],
   "source": [
    "import re\n",
    "\n",
    "def clean_tweet(tweet):\n",
    "    \"\"\" Simplest preprocess.\n",
    "\n",
    "    Convert a tweet to lowercarse and replace URLs and @username by a generic token\n",
    "\n",
    "    Args:\n",
    "        tweet (str): Tweet to clean.\n",
    "\n",
    "    Returns:\n",
    "        str: Preprocessed tweet\n",
    "    \"\"\"\n",
    "    \n",
    "    tweet = tweet.lower()\n",
    "    \n",
    "    # Remove URL and replace them with a token\n",
    "    URL_REGEX = r'http[s]?://(?:[a-zA-Z]|[0-9]|[$-_@.&+]|[!*\\(\\),]|(?:%[0-9a-fA-F][0-9a-fA-F]))+'\n",
    "    tweet = re.sub(URL_REGEX, '<url>', tweet, flags=re.MULTILINE)\n",
    "    \n",
    "    # Remove usernames and replace them with a token\n",
    "    tweet = re.sub(\"@([A-Za-z0-9_]+)\", \"<user>\", tweet)\n",
    "\n",
    "    # Remove repeated spaces\n",
    "    tweet = re.sub(r\"\\s{2,}\", \" \", tweet)\n",
    "\n",
    "    # If a character is repeated more than 4 time, keep only 3 repetitions.\n",
    "    tweet = re.sub(r'(.)\\1{4,}', r'\\1\\1\\1', tweet)\n",
    "    \n",
    "    return tweet"
   ]
  },
  {
   "cell_type": "code",
   "execution_count": null,
   "metadata": {
    "collapsed": false
   },
   "outputs": [],
   "source": [
    "import pandas as pd\n",
    "\n",
    "dataset = []\n",
    "# Gather the text \n",
    "for tweet in brotweets:\n",
    "    cleaned_tweet = clean_tweet(tweet['text'])\n",
    "    dataset.append({'id': tweet['id'], 'text': cleaned_tweet, 'class': 0})\n",
    "for tweet in sistweets:\n",
    "    cleaned_tweet = clean_tweet(tweet['text'])\n",
    "    dataset.append({'id': tweet['id'], 'text': cleaned_tweet, 'class': 1})\n",
    "\n",
    "pd_dataset = pd.DataFrame(dataset)"
   ]
  },
  {
   "cell_type": "code",
   "execution_count": null,
   "metadata": {
    "collapsed": false
   },
   "outputs": [],
   "source": [
    "pd_dataset.head()"
   ]
  },
  {
   "cell_type": "markdown",
   "metadata": {},
   "source": [
    "## 2.3. Share your data"
   ]
  },
  {
   "cell_type": "code",
   "execution_count": null,
   "metadata": {
    "collapsed": false
   },
   "outputs": [],
   "source": [
    "pd_dataset.to_csv('../corpora/full_dataset.csv')"
   ]
  },
  {
   "cell_type": "code",
   "execution_count": null,
   "metadata": {
    "collapsed": false
   },
   "outputs": [],
   "source": [
    "pd_dataset[['class', 'id']].to_csv('../corpora/ep16.csv')"
   ]
  },
  {
   "cell_type": "markdown",
   "metadata": {},
   "source": [
    "![Toast!](imgs/toast.gif \"Let's celebrate!\")"
   ]
  },
  {
   "cell_type": "markdown",
   "metadata": {},
   "source": [
    "## 2.4. Study your data"
   ]
  },
  {
   "cell_type": "code",
   "execution_count": 4,
   "metadata": {
    "collapsed": false
   },
   "outputs": [
    {
     "data": {
      "text/html": [
       "<div>\n",
       "<table border=\"1\" class=\"dataframe\">\n",
       "  <thead>\n",
       "    <tr style=\"text-align: right;\">\n",
       "      <th></th>\n",
       "      <th>class</th>\n",
       "      <th>id</th>\n",
       "      <th>text</th>\n",
       "    </tr>\n",
       "  </thead>\n",
       "  <tbody>\n",
       "    <tr>\n",
       "      <th>0</th>\n",
       "      <td>0</td>\n",
       "      <td>752137929871462400</td>\n",
       "      <td>&lt;user&gt; great seeing you today!</td>\n",
       "    </tr>\n",
       "    <tr>\n",
       "      <th>1</th>\n",
       "      <td>0</td>\n",
       "      <td>751510274432131072</td>\n",
       "      <td>\"i just wanted to check that you got my previo...</td>\n",
       "    </tr>\n",
       "    <tr>\n",
       "      <th>2</th>\n",
       "      <td>0</td>\n",
       "      <td>751374701344219136</td>\n",
       "      <td>rt &lt;user&gt;: &lt;user&gt; support for minor bugs may e...</td>\n",
       "    </tr>\n",
       "    <tr>\n",
       "      <th>3</th>\n",
       "      <td>0</td>\n",
       "      <td>751373414435328001</td>\n",
       "      <td>could be controversial, but frankly i think it...</td>\n",
       "    </tr>\n",
       "    <tr>\n",
       "      <th>4</th>\n",
       "      <td>0</td>\n",
       "      <td>751373066987573248</td>\n",
       "      <td>til that &lt;user&gt; plans to drop python 2 support...</td>\n",
       "    </tr>\n",
       "  </tbody>\n",
       "</table>\n",
       "</div>"
      ],
      "text/plain": [
       "   class                  id  \\\n",
       "0      0  752137929871462400   \n",
       "1      0  751510274432131072   \n",
       "2      0  751374701344219136   \n",
       "3      0  751373414435328001   \n",
       "4      0  751373066987573248   \n",
       "\n",
       "                                                text  \n",
       "0                     <user> great seeing you today!  \n",
       "1  \"i just wanted to check that you got my previo...  \n",
       "2  rt <user>: <user> support for minor bugs may e...  \n",
       "3  could be controversial, but frankly i think it...  \n",
       "4  til that <user> plans to drop python 2 support...  "
      ]
     },
     "execution_count": 4,
     "metadata": {},
     "output_type": "execute_result"
    }
   ],
   "source": [
    "import pandas as pd\n",
    "\n",
    "DATASET_PATH = \"../corpora/full_dataset.csv\"\n",
    "pd_dataset = pd.DataFrame.from_csv(DATASET_PATH)\n",
    "pd_dataset.head()"
   ]
  },
  {
   "cell_type": "code",
   "execution_count": 5,
   "metadata": {
    "collapsed": false
   },
   "outputs": [],
   "source": [
    "import nltk.data\n",
    "#nltk.download()   "
   ]
  },
  {
   "cell_type": "code",
   "execution_count": 6,
   "metadata": {
    "collapsed": false
   },
   "outputs": [],
   "source": [
    "from nltk.tokenize import TweetTokenizer, word_tokenize\n",
    "from nltk.corpus import stopwords\n",
    "from collections import Counter\n",
    "import re\n",
    "import scipy.stats as stats"
   ]
  },
  {
   "cell_type": "code",
   "execution_count": 7,
   "metadata": {
    "collapsed": false
   },
   "outputs": [
    {
     "name": "stdout",
     "output_type": "stream",
     "text": [
      "i, me, my, myself, we, our, ours, ourselves, you, your, yours, yourself, yourselves, he, him, his, himself, she, her, hers\n"
     ]
    }
   ],
   "source": [
    "print(', '.join(stopwords.words('english')[:20]))"
   ]
  },
  {
   "cell_type": "code",
   "execution_count": 8,
   "metadata": {
    "collapsed": true
   },
   "outputs": [],
   "source": [
    "def get_vocabulary(corpus, tokenizer):\n",
    "    \"\"\" Get the vocabulary of a dataset. \n",
    "\n",
    "    Get a vocabulary of a set of tweets after removing stopwords, non letters, \n",
    "    and replacing each number by the token <number>\n",
    "\n",
    "    Args:\n",
    "        corpus (list of tweets): A list of tweets.\n",
    "        tokenizer (function): tokenizer function. To get the tokens of each tweet.\n",
    "\n",
    "    Returns:\n",
    "        Counter: Vocabulary with the frequency of each word in it.\n",
    "    \"\"\"\n",
    "    stop_words = stopwords.words('english')\n",
    "\n",
    "    # Remove puntuation marks\n",
    "    no_punks = [re.sub(r'\\W', ' ', tweet) for tweet in corpus]\n",
    "    \n",
    "    # Tokenize and remove stop words\n",
    "    clean_tokens = []\n",
    "    for tweet in no_punks:\n",
    "        # Replace different numbers with a token\n",
    "        tweet = re.sub(r\"\\.\\d+\\s*\", \".<number> \", tweet)\n",
    "        tweet = re.sub(r\"\\d+\\s*\", \" <number> \", tweet)\n",
    "    \n",
    "        tokens = tokenizer(tweet)\n",
    "        tokens = [token for token in tokens if token not in stop_words]\n",
    "        clean_tokens.extend(tokens)\n",
    "\n",
    "    # Build the vocabulary\n",
    "    return Counter(clean_tokens)"
   ]
  },
  {
   "cell_type": "code",
   "execution_count": 9,
   "metadata": {
    "collapsed": false
   },
   "outputs": [],
   "source": [
    "tknzr = TweetTokenizer()\n",
    "\n",
    "brotweets = pd_dataset[pd_dataset['class'] == 0]['text'].tolist()\n",
    "sistweets = pd_dataset[pd_dataset['class'] == 1]['text'].tolist()\n",
    "\n",
    "brocabulary = get_vocabulary(brotweets, tknzr.tokenize)\n",
    "siscabulary = get_vocabulary(sistweets, tknzr.tokenize)"
   ]
  },
  {
   "cell_type": "code",
   "execution_count": 10,
   "metadata": {
    "collapsed": false
   },
   "outputs": [
    {
     "data": {
      "text/plain": [
       "[('user', 1313),\n",
       " ('url', 676),\n",
       " ('<number>', 483),\n",
       " ('rt', 420),\n",
       " ('python', 96),\n",
       " ('talk', 49),\n",
       " ('learning', 46),\n",
       " ('data', 45),\n",
       " ('new', 43),\n",
       " ('amp', 42)]"
      ]
     },
     "execution_count": 10,
     "metadata": {},
     "output_type": "execute_result"
    }
   ],
   "source": [
    "brocabulary.most_common(10)"
   ]
  },
  {
   "cell_type": "code",
   "execution_count": 11,
   "metadata": {
    "collapsed": false
   },
   "outputs": [
    {
     "data": {
      "text/plain": [
       "[('user', 1009),\n",
       " ('url', 419),\n",
       " ('<number>', 337),\n",
       " ('rt', 234),\n",
       " ('pycon', 54),\n",
       " ('one', 40),\n",
       " ('sgdq', 40),\n",
       " ('get', 39),\n",
       " ('like', 37),\n",
       " ('code', 30)]"
      ]
     },
     "execution_count": 11,
     "metadata": {},
     "output_type": "execute_result"
    }
   ],
   "source": [
    "siscabulary.most_common(10)"
   ]
  },
  {
   "cell_type": "code",
   "execution_count": 12,
   "metadata": {
    "collapsed": false
   },
   "outputs": [
    {
     "data": {
      "text/html": [
       "\n",
       "    <div class=\"bk-root\">\n",
       "        <a href=\"http://bokeh.pydata.org\" target=\"_blank\" class=\"bk-logo bk-logo-small bk-logo-notebook\"></a>\n",
       "        <span id=\"92afc4d1-4dbe-4d43-85d4-f54623dbb2c2\">Loading BokehJS ...</span>\n",
       "    </div>"
      ]
     },
     "metadata": {},
     "output_type": "display_data"
    },
    {
     "data": {
      "application/javascript": [
       "\n",
       "(function(global) {\n",
       "  function now() {\n",
       "    return new Date();\n",
       "  }\n",
       "\n",
       "  if (typeof (window._bokeh_onload_callbacks) === \"undefined\") {\n",
       "    window._bokeh_onload_callbacks = [];\n",
       "  }\n",
       "\n",
       "  function run_callbacks() {\n",
       "    window._bokeh_onload_callbacks.forEach(function(callback) { callback() });\n",
       "    delete window._bokeh_onload_callbacks\n",
       "    console.info(\"Bokeh: all callbacks have finished\");\n",
       "  }\n",
       "\n",
       "  function load_libs(js_urls, callback) {\n",
       "    window._bokeh_onload_callbacks.push(callback);\n",
       "    if (window._bokeh_is_loading > 0) {\n",
       "      console.log(\"Bokeh: BokehJS is being loaded, scheduling callback at\", now());\n",
       "      return null;\n",
       "    }\n",
       "    if (js_urls == null || js_urls.length === 0) {\n",
       "      run_callbacks();\n",
       "      return null;\n",
       "    }\n",
       "    console.log(\"Bokeh: BokehJS not loaded, scheduling load and callback at\", now());\n",
       "    window._bokeh_is_loading = js_urls.length;\n",
       "    for (var i = 0; i < js_urls.length; i++) {\n",
       "      var url = js_urls[i];\n",
       "      var s = document.createElement('script');\n",
       "      s.src = url;\n",
       "      s.async = false;\n",
       "      s.onreadystatechange = s.onload = function() {\n",
       "        window._bokeh_is_loading--;\n",
       "        if (window._bokeh_is_loading === 0) {\n",
       "          console.log(\"Bokeh: all BokehJS libraries loaded\");\n",
       "          run_callbacks()\n",
       "        }\n",
       "      };\n",
       "      s.onerror = function() {\n",
       "        console.warn(\"failed to load library \" + url);\n",
       "      };\n",
       "      console.log(\"Bokeh: injecting script tag for BokehJS library: \", url);\n",
       "      document.getElementsByTagName(\"head\")[0].appendChild(s);\n",
       "    }\n",
       "  };\n",
       "\n",
       "  var js_urls = ['https://cdn.pydata.org/bokeh/release/bokeh-0.12.0.min.js', 'https://cdn.pydata.org/bokeh/release/bokeh-widgets-0.12.0.min.js', 'https://cdn.pydata.org/bokeh/release/bokeh-compiler-0.12.0.min.js'];\n",
       "\n",
       "  var inline_js = [\n",
       "    function(Bokeh) {\n",
       "      Bokeh.set_log_level(\"info\");\n",
       "    },\n",
       "    \n",
       "    function(Bokeh) {\n",
       "      Bokeh.$(\"#92afc4d1-4dbe-4d43-85d4-f54623dbb2c2\").text(\"BokehJS successfully loaded\");\n",
       "    },\n",
       "    function(Bokeh) {\n",
       "      console.log(\"Bokeh: injecting CSS: https://cdn.pydata.org/bokeh/release/bokeh-0.12.0.min.css\");\n",
       "      Bokeh.embed.inject_css(\"https://cdn.pydata.org/bokeh/release/bokeh-0.12.0.min.css\");\n",
       "      console.log(\"Bokeh: injecting CSS: https://cdn.pydata.org/bokeh/release/bokeh-widgets-0.12.0.min.css\");\n",
       "      Bokeh.embed.inject_css(\"https://cdn.pydata.org/bokeh/release/bokeh-widgets-0.12.0.min.css\");\n",
       "    }\n",
       "  ];\n",
       "\n",
       "  function run_inline_js() {\n",
       "    for (var i = 0; i < inline_js.length; i++) {\n",
       "      inline_js[i](window.Bokeh);\n",
       "    }\n",
       "  }\n",
       "\n",
       "  if (window._bokeh_is_loading === 0) {\n",
       "    console.log(\"Bokeh: BokehJS loaded, going straight to plotting\");\n",
       "    run_inline_js();\n",
       "  } else {\n",
       "    load_libs(js_urls, function() {\n",
       "      console.log(\"Bokeh: BokehJS plotting callback run at\", now());\n",
       "      run_inline_js();\n",
       "    });\n",
       "  }\n",
       "}(this));"
      ]
     },
     "metadata": {},
     "output_type": "display_data"
    }
   ],
   "source": [
    "from bokeh.plotting import figure, show, vplot, ColumnDataSource\n",
    "from bokeh.io import output_notebook\n",
    "from bokeh.models import HoverTool\n",
    "\n",
    "output_notebook()"
   ]
  },
  {
   "cell_type": "code",
   "execution_count": 13,
   "metadata": {
    "collapsed": false
   },
   "outputs": [],
   "source": [
    "MOST_COMMON = 50\n",
    "\n",
    "mc_brocavulary = brocabulary.most_common(int(MOST_COMMON/2))\n",
    "mc_siscavulary = siscabulary.most_common(int(MOST_COMMON/2))\n",
    "\n",
    "fr_brocavulary, fr_siscavulary  = [], []\n",
    "most_common_words = mc_brocavulary + mc_siscavulary\n",
    "words = list(set(word for word, _ in most_common_words))\n",
    "for word in words:\n",
    "    if word in brocabulary:\n",
    "        fr_brocavulary.append(brocabulary[word])\n",
    "    else:\n",
    "        fr_brocavulary.append(0)\n",
    "    if word in siscabulary:\n",
    "        fr_siscavulary.append(siscabulary[word])\n",
    "    else:\n",
    "        fr_siscavulary.append(0)"
   ]
  },
  {
   "cell_type": "code",
   "execution_count": 14,
   "metadata": {
    "collapsed": false
   },
   "outputs": [
    {
     "data": {
      "text/html": [
       "\n",
       "\n",
       "    <div class=\"bk-root\">\n",
       "        <div class=\"plotdiv\" id=\"971f979b-4149-4eb9-b599-14966c95a20a\"></div>\n",
       "    </div>\n",
       "<script type=\"text/javascript\">\n",
       "  \n",
       "  (function(global) {\n",
       "    function now() {\n",
       "      return new Date();\n",
       "    }\n",
       "  \n",
       "    if (typeof (window._bokeh_onload_callbacks) === \"undefined\") {\n",
       "      window._bokeh_onload_callbacks = [];\n",
       "    }\n",
       "  \n",
       "    function run_callbacks() {\n",
       "      window._bokeh_onload_callbacks.forEach(function(callback) { callback() });\n",
       "      delete window._bokeh_onload_callbacks\n",
       "      console.info(\"Bokeh: all callbacks have finished\");\n",
       "    }\n",
       "  \n",
       "    function load_libs(js_urls, callback) {\n",
       "      window._bokeh_onload_callbacks.push(callback);\n",
       "      if (window._bokeh_is_loading > 0) {\n",
       "        console.log(\"Bokeh: BokehJS is being loaded, scheduling callback at\", now());\n",
       "        return null;\n",
       "      }\n",
       "      if (js_urls == null || js_urls.length === 0) {\n",
       "        run_callbacks();\n",
       "        return null;\n",
       "      }\n",
       "      console.log(\"Bokeh: BokehJS not loaded, scheduling load and callback at\", now());\n",
       "      window._bokeh_is_loading = js_urls.length;\n",
       "      for (var i = 0; i < js_urls.length; i++) {\n",
       "        var url = js_urls[i];\n",
       "        var s = document.createElement('script');\n",
       "        s.src = url;\n",
       "        s.async = false;\n",
       "        s.onreadystatechange = s.onload = function() {\n",
       "          window._bokeh_is_loading--;\n",
       "          if (window._bokeh_is_loading === 0) {\n",
       "            console.log(\"Bokeh: all BokehJS libraries loaded\");\n",
       "            run_callbacks()\n",
       "          }\n",
       "        };\n",
       "        s.onerror = function() {\n",
       "          console.warn(\"failed to load library \" + url);\n",
       "        };\n",
       "        console.log(\"Bokeh: injecting script tag for BokehJS library: \", url);\n",
       "        document.getElementsByTagName(\"head\")[0].appendChild(s);\n",
       "      }\n",
       "    };var element = document.getElementById(\"971f979b-4149-4eb9-b599-14966c95a20a\");\n",
       "    if (element == null) {\n",
       "      console.log(\"Bokeh: ERROR: autoload.js configured with elementid '971f979b-4149-4eb9-b599-14966c95a20a' but no matching script tag was found. \")\n",
       "      return false;\n",
       "    }\n",
       "  \n",
       "    var js_urls = [];\n",
       "  \n",
       "    var inline_js = [\n",
       "      function(Bokeh) {\n",
       "        Bokeh.$(function() {\n",
       "            var docs_json = {\"bb42657b-ed12-4212-b9ba-6d35ba34cbdf\":{\"roots\":{\"references\":[{\"attributes\":{\"bottom_units\":\"screen\",\"fill_alpha\":{\"value\":0.5},\"fill_color\":{\"value\":\"lightgrey\"},\"left_units\":\"screen\",\"level\":\"overlay\",\"line_alpha\":{\"value\":1.0},\"line_color\":{\"value\":\"black\"},\"line_dash\":[4,4],\"line_width\":{\"value\":2},\"plot\":null,\"render_mode\":\"css\",\"right_units\":\"screen\",\"top_units\":\"screen\"},\"id\":\"47b369d4-8928-4a3d-b065-2020d2efe8a2\",\"type\":\"BoxAnnotation\"},{\"attributes\":{\"dimension\":1,\"plot\":{\"id\":\"6395ce24-89e8-4343-bba2-3e8dff98f03b\",\"subtype\":\"Figure\",\"type\":\"Plot\"},\"ticker\":{\"id\":\"ed729106-fa90-4359-89f6-484cc5878cd8\",\"type\":\"BasicTicker\"}},\"id\":\"823bc90d-c7db-4685-aa4d-a0026ba50055\",\"type\":\"Grid\"},{\"attributes\":{},\"id\":\"bc0de9d9-ef33-408e-9ce4-1e179b6fbd9b\",\"type\":\"CategoricalTickFormatter\"},{\"attributes\":{\"axis_label\":\"Frequency\",\"formatter\":{\"id\":\"558028e0-74ad-421e-8e06-742fd6162b76\",\"type\":\"BasicTickFormatter\"},\"plot\":{\"id\":\"6395ce24-89e8-4343-bba2-3e8dff98f03b\",\"subtype\":\"Figure\",\"type\":\"Plot\"},\"ticker\":{\"id\":\"ed729106-fa90-4359-89f6-484cc5878cd8\",\"type\":\"BasicTicker\"}},\"id\":\"4c2919ae-7396-4759-8fcd-9335805ab2e7\",\"type\":\"LinearAxis\"},{\"attributes\":{},\"id\":\"ed729106-fa90-4359-89f6-484cc5878cd8\",\"type\":\"BasicTicker\"},{\"attributes\":{},\"id\":\"558028e0-74ad-421e-8e06-742fd6162b76\",\"type\":\"BasicTickFormatter\"},{\"attributes\":{\"plot\":null,\"text\":\"Vocabulary gender\"},\"id\":\"65d935d3-d554-4019-a6be-72ce4016d867\",\"type\":\"Title\"},{\"attributes\":{\"overlay\":{\"id\":\"47b369d4-8928-4a3d-b065-2020d2efe8a2\",\"type\":\"BoxAnnotation\"},\"plot\":{\"id\":\"6395ce24-89e8-4343-bba2-3e8dff98f03b\",\"subtype\":\"Figure\",\"type\":\"Plot\"}},\"id\":\"6e78fbd8-969d-4e0e-8945-3163170f585b\",\"type\":\"BoxZoomTool\"},{\"attributes\":{\"plot\":{\"id\":\"6395ce24-89e8-4343-bba2-3e8dff98f03b\",\"subtype\":\"Figure\",\"type\":\"Plot\"}},\"id\":\"6732f96a-f89d-41af-8993-14ac7b321ca1\",\"type\":\"ResetTool\"},{\"attributes\":{\"plot\":{\"id\":\"6395ce24-89e8-4343-bba2-3e8dff98f03b\",\"subtype\":\"Figure\",\"type\":\"Plot\"}},\"id\":\"5dd34ffe-8793-4134-bc1e-91a23c026f16\",\"type\":\"WheelZoomTool\"},{\"attributes\":{\"fill_alpha\":{\"value\":0.2},\"fill_color\":{\"value\":\"red\"},\"line_color\":{\"value\":\"red\"},\"size\":{\"units\":\"screen\",\"value\":10},\"x\":{\"field\":\"range_words\"},\"y\":{\"field\":\"freq_false\"}},\"id\":\"ad5cd7d3-2115-473e-9ccb-28a9bf6c11f7\",\"type\":\"Circle\"},{\"attributes\":{\"callback\":null,\"plot\":{\"id\":\"6395ce24-89e8-4343-bba2-3e8dff98f03b\",\"subtype\":\"Figure\",\"type\":\"Plot\"},\"tooltips\":[[\"words\",\"@words\"]]},\"id\":\"0602a4b4-912d-4966-a2b6-cb3fa6314a3f\",\"type\":\"HoverTool\"},{\"attributes\":{},\"id\":\"c8117998-93a2-4603-83b4-4e494248077f\",\"type\":\"ToolEvents\"},{\"attributes\":{\"fill_alpha\":{\"value\":0.1},\"fill_color\":{\"value\":\"#1f77b4\"},\"line_alpha\":{\"value\":0.1},\"line_color\":{\"value\":\"#1f77b4\"},\"size\":{\"units\":\"screen\",\"value\":10},\"x\":{\"field\":\"range_words\"},\"y\":{\"field\":\"freq_false\"}},\"id\":\"a37ec5bd-3778-4d51-9e12-ffc41ecb6795\",\"type\":\"Circle\"},{\"attributes\":{\"below\":[{\"id\":\"726fc3fe-d797-4d37-a8ae-2a0be315bd11\",\"type\":\"CategoricalAxis\"}],\"left\":[{\"id\":\"4c2919ae-7396-4759-8fcd-9335805ab2e7\",\"type\":\"LinearAxis\"}],\"renderers\":[{\"id\":\"726fc3fe-d797-4d37-a8ae-2a0be315bd11\",\"type\":\"CategoricalAxis\"},{\"id\":\"eb6529e3-e435-4c2f-985b-e29b030fe87a\",\"type\":\"Grid\"},{\"id\":\"4c2919ae-7396-4759-8fcd-9335805ab2e7\",\"type\":\"LinearAxis\"},{\"id\":\"823bc90d-c7db-4685-aa4d-a0026ba50055\",\"type\":\"Grid\"},{\"id\":\"47b369d4-8928-4a3d-b065-2020d2efe8a2\",\"type\":\"BoxAnnotation\"},{\"id\":\"86d860f2-db56-446d-8cf4-70d0974eeb64\",\"type\":\"GlyphRenderer\"},{\"id\":\"e51e068e-784c-4cf8-982a-278b68044dc9\",\"type\":\"GlyphRenderer\"}],\"title\":{\"id\":\"65d935d3-d554-4019-a6be-72ce4016d867\",\"type\":\"Title\"},\"tool_events\":{\"id\":\"c8117998-93a2-4603-83b4-4e494248077f\",\"type\":\"ToolEvents\"},\"toolbar\":{\"id\":\"297dce58-c84e-429d-82d9-96ea423d8bf7\",\"type\":\"Toolbar\"},\"x_range\":{\"id\":\"e813d592-106c-45e8-8261-02c8bf26ba18\",\"type\":\"FactorRange\"},\"y_range\":{\"id\":\"d85f241d-6286-4b01-9058-0423c046304f\",\"type\":\"DataRange1d\"}},\"id\":\"6395ce24-89e8-4343-bba2-3e8dff98f03b\",\"subtype\":\"Figure\",\"type\":\"Plot\"},{\"attributes\":{\"plot\":{\"id\":\"6395ce24-89e8-4343-bba2-3e8dff98f03b\",\"subtype\":\"Figure\",\"type\":\"Plot\"},\"ticker\":{\"id\":\"5d2e3c69-e2de-4e09-bce6-8e984b700a05\",\"type\":\"CategoricalTicker\"}},\"id\":\"eb6529e3-e435-4c2f-985b-e29b030fe87a\",\"type\":\"Grid\"},{\"attributes\":{\"data_source\":{\"id\":\"e238d692-0cf2-4e80-8928-41ffc552186d\",\"type\":\"ColumnDataSource\"},\"glyph\":{\"id\":\"ad5cd7d3-2115-473e-9ccb-28a9bf6c11f7\",\"type\":\"Circle\"},\"hover_glyph\":null,\"nonselection_glyph\":{\"id\":\"a37ec5bd-3778-4d51-9e12-ffc41ecb6795\",\"type\":\"Circle\"},\"selection_glyph\":null},\"id\":\"e51e068e-784c-4cf8-982a-278b68044dc9\",\"type\":\"GlyphRenderer\"},{\"attributes\":{\"axis_label\":\"Words\",\"formatter\":{\"id\":\"bc0de9d9-ef33-408e-9ce4-1e179b6fbd9b\",\"type\":\"CategoricalTickFormatter\"},\"major_label_orientation\":0.7853981633974483,\"plot\":{\"id\":\"6395ce24-89e8-4343-bba2-3e8dff98f03b\",\"subtype\":\"Figure\",\"type\":\"Plot\"},\"ticker\":{\"id\":\"5d2e3c69-e2de-4e09-bce6-8e984b700a05\",\"type\":\"CategoricalTicker\"}},\"id\":\"726fc3fe-d797-4d37-a8ae-2a0be315bd11\",\"type\":\"CategoricalAxis\"},{\"attributes\":{\"callback\":null},\"id\":\"d85f241d-6286-4b01-9058-0423c046304f\",\"type\":\"DataRange1d\"},{\"attributes\":{\"plot\":{\"id\":\"6395ce24-89e8-4343-bba2-3e8dff98f03b\",\"subtype\":\"Figure\",\"type\":\"Plot\"}},\"id\":\"b0871faf-a9bb-4890-9b1b-2decb9b5bc04\",\"type\":\"PanTool\"},{\"attributes\":{\"callback\":null,\"column_names\":[\"range_words\",\"freq_false\",\"words\",\"freq_true\"],\"data\":{\"freq_false\":[29,419,0,54,22,337,29,23,24,20,22,27,6,19,37,29,1009,20,27,234,30,12,6,6,0,20,40,18,25,29,22,39,40],\"freq_true\":[42,676,27,18,7,483,28,25,25,13,13,96,28,34,34,13,1313,49,43,420,25,42,46,45,32,19,35,30,25,40,14,25,0],\"range_words\":[1,2,3,4,5,6,7,8,9,10,11,12,13,14,15,16,17,18,19,20,21,22,23,24,25,26,27,28,29,30,31,32,33],\"words\":[\"amp\",\"url\",\"icml\",\"pycon\",\"way\",\"<number>\",\"good\",\"think\",\"open\",\"make\",\"oh\",\"python\",\"learn\",\"great\",\"like\",\"know\",\"user\",\"talk\",\"new\",\"rt\",\"code\",\"https\",\"learning\",\"data\",\"dataviz\",\"people\",\"one\",\"really\",\"time\",\"thanks\",\"day\",\"get\",\"sgdq\"]}},\"id\":\"e238d692-0cf2-4e80-8928-41ffc552186d\",\"type\":\"ColumnDataSource\"},{\"attributes\":{\"active_drag\":\"auto\",\"active_scroll\":\"auto\",\"active_tap\":\"auto\",\"tools\":[{\"id\":\"0602a4b4-912d-4966-a2b6-cb3fa6314a3f\",\"type\":\"HoverTool\"},{\"id\":\"b0871faf-a9bb-4890-9b1b-2decb9b5bc04\",\"type\":\"PanTool\"},{\"id\":\"5dd34ffe-8793-4134-bc1e-91a23c026f16\",\"type\":\"WheelZoomTool\"},{\"id\":\"6e78fbd8-969d-4e0e-8945-3163170f585b\",\"type\":\"BoxZoomTool\"},{\"id\":\"6732f96a-f89d-41af-8993-14ac7b321ca1\",\"type\":\"ResetTool\"},{\"id\":\"ba9db77e-4f81-46b7-a1b3-8003bbb3f536\",\"type\":\"SaveTool\"}]},\"id\":\"297dce58-c84e-429d-82d9-96ea423d8bf7\",\"type\":\"Toolbar\"},{\"attributes\":{\"fill_alpha\":{\"value\":0.2},\"fill_color\":{\"value\":\"navy\"},\"line_color\":{\"value\":\"navy\"},\"size\":{\"units\":\"screen\",\"value\":10},\"x\":{\"field\":\"range_words\"},\"y\":{\"field\":\"freq_true\"}},\"id\":\"c3f09845-5395-429d-b462-2c099262dd45\",\"type\":\"Circle\"},{\"attributes\":{\"fill_alpha\":{\"value\":0.1},\"fill_color\":{\"value\":\"#1f77b4\"},\"line_alpha\":{\"value\":0.1},\"line_color\":{\"value\":\"#1f77b4\"},\"size\":{\"units\":\"screen\",\"value\":10},\"x\":{\"field\":\"range_words\"},\"y\":{\"field\":\"freq_true\"}},\"id\":\"b7d0c7b5-e1b4-45f8-8367-9f8ae6d028ad\",\"type\":\"Circle\"},{\"attributes\":{\"callback\":null,\"factors\":[\"amp\",\"url\",\"icml\",\"pycon\",\"way\",\"<number>\",\"good\",\"think\",\"open\",\"make\",\"oh\",\"python\",\"learn\",\"great\",\"like\",\"know\",\"user\",\"talk\",\"new\",\"rt\",\"code\",\"https\",\"learning\",\"data\",\"dataviz\",\"people\",\"one\",\"really\",\"time\",\"thanks\",\"day\",\"get\",\"sgdq\"]},\"id\":\"e813d592-106c-45e8-8261-02c8bf26ba18\",\"type\":\"FactorRange\"},{\"attributes\":{\"data_source\":{\"id\":\"e238d692-0cf2-4e80-8928-41ffc552186d\",\"type\":\"ColumnDataSource\"},\"glyph\":{\"id\":\"c3f09845-5395-429d-b462-2c099262dd45\",\"type\":\"Circle\"},\"hover_glyph\":null,\"nonselection_glyph\":{\"id\":\"b7d0c7b5-e1b4-45f8-8367-9f8ae6d028ad\",\"type\":\"Circle\"},\"selection_glyph\":null},\"id\":\"86d860f2-db56-446d-8cf4-70d0974eeb64\",\"type\":\"GlyphRenderer\"},{\"attributes\":{\"plot\":{\"id\":\"6395ce24-89e8-4343-bba2-3e8dff98f03b\",\"subtype\":\"Figure\",\"type\":\"Plot\"}},\"id\":\"ba9db77e-4f81-46b7-a1b3-8003bbb3f536\",\"type\":\"SaveTool\"},{\"attributes\":{},\"id\":\"5d2e3c69-e2de-4e09-bce6-8e984b700a05\",\"type\":\"CategoricalTicker\"}],\"root_ids\":[\"6395ce24-89e8-4343-bba2-3e8dff98f03b\"]},\"title\":\"Bokeh Application\",\"version\":\"0.12.0\"}};\n",
       "            var render_items = [{\"docid\":\"bb42657b-ed12-4212-b9ba-6d35ba34cbdf\",\"elementid\":\"971f979b-4149-4eb9-b599-14966c95a20a\",\"modelid\":\"6395ce24-89e8-4343-bba2-3e8dff98f03b\",\"notebook_comms_target\":\"0bb9aca1-7fd4-4cb5-b99f-4280c461a59f\"}];\n",
       "            \n",
       "            Bokeh.embed.embed_items(docs_json, render_items);\n",
       "        });\n",
       "      },\n",
       "      function(Bokeh) {\n",
       "      }\n",
       "    ];\n",
       "  \n",
       "    function run_inline_js() {\n",
       "      for (var i = 0; i < inline_js.length; i++) {\n",
       "        inline_js[i](window.Bokeh);\n",
       "      }\n",
       "    }\n",
       "  \n",
       "    if (window._bokeh_is_loading === 0) {\n",
       "      console.log(\"Bokeh: BokehJS loaded, going straight to plotting\");\n",
       "      run_inline_js();\n",
       "    } else {\n",
       "      load_libs(js_urls, function() {\n",
       "        console.log(\"Bokeh: BokehJS plotting callback run at\", now());\n",
       "        run_inline_js();\n",
       "      });\n",
       "    }\n",
       "  }(this));\n",
       "</script>"
      ]
     },
     "metadata": {},
     "output_type": "display_data"
    },
    {
     "data": {
      "text/html": [
       "<p><code>&lt;Bokeh Notebook handle for <strong>In[14]</strong>&gt;</code></p>"
      ],
      "text/plain": [
       "<bokeh.io._CommsHandle at 0x10f887d30>"
      ]
     },
     "execution_count": 14,
     "metadata": {},
     "output_type": "execute_result"
    }
   ],
   "source": [
    "import numpy as np\n",
    "range_words=list(range(1,len(words)+1))\n",
    "source = ColumnDataSource(data=dict(range_words=range_words,\n",
    "                                    words=words,\n",
    "                                    freq_true=fr_brocavulary, \n",
    "                                    freq_false=fr_siscavulary))\n",
    "\n",
    "hover = HoverTool()\n",
    "hover.point_policy = \"follow_mouse\"\n",
    "hover = HoverTool(\n",
    "        tooltips=[\n",
    "            (\"words\", \"@words\"),\n",
    "        ]\n",
    "    )\n",
    "\n",
    "TOOLS=\"pan,wheel_zoom,box_zoom,reset,save\"\n",
    "\n",
    "\n",
    "p = figure(title = \"Vocabulary gender\", x_range=words, tools=[TOOLS, hover])\n",
    "p.xaxis.axis_label = 'Words'\n",
    "p.yaxis.axis_label = 'Frequency'\n",
    "p.circle('range_words', 'freq_true', source=source, fill_alpha=0.2, size=10, color=\"navy\")\n",
    "p.circle('range_words', 'freq_false', source=source, fill_alpha=0.2, size=10, color='red')\n",
    "p.xaxis.major_label_orientation = np.pi/4  \n",
    "\n",
    "show(p)"
   ]
  },
  {
   "cell_type": "code",
   "execution_count": 15,
   "metadata": {
    "collapsed": false
   },
   "outputs": [
    {
     "data": {
      "text/html": [
       "\n",
       "\n",
       "    <div class=\"bk-root\">\n",
       "        <div class=\"plotdiv\" id=\"5b956893-bbfb-41a7-8c18-b9cd5eb36b14\"></div>\n",
       "    </div>\n",
       "<script type=\"text/javascript\">\n",
       "  \n",
       "  (function(global) {\n",
       "    function now() {\n",
       "      return new Date();\n",
       "    }\n",
       "  \n",
       "    if (typeof (window._bokeh_onload_callbacks) === \"undefined\") {\n",
       "      window._bokeh_onload_callbacks = [];\n",
       "    }\n",
       "  \n",
       "    function run_callbacks() {\n",
       "      window._bokeh_onload_callbacks.forEach(function(callback) { callback() });\n",
       "      delete window._bokeh_onload_callbacks\n",
       "      console.info(\"Bokeh: all callbacks have finished\");\n",
       "    }\n",
       "  \n",
       "    function load_libs(js_urls, callback) {\n",
       "      window._bokeh_onload_callbacks.push(callback);\n",
       "      if (window._bokeh_is_loading > 0) {\n",
       "        console.log(\"Bokeh: BokehJS is being loaded, scheduling callback at\", now());\n",
       "        return null;\n",
       "      }\n",
       "      if (js_urls == null || js_urls.length === 0) {\n",
       "        run_callbacks();\n",
       "        return null;\n",
       "      }\n",
       "      console.log(\"Bokeh: BokehJS not loaded, scheduling load and callback at\", now());\n",
       "      window._bokeh_is_loading = js_urls.length;\n",
       "      for (var i = 0; i < js_urls.length; i++) {\n",
       "        var url = js_urls[i];\n",
       "        var s = document.createElement('script');\n",
       "        s.src = url;\n",
       "        s.async = false;\n",
       "        s.onreadystatechange = s.onload = function() {\n",
       "          window._bokeh_is_loading--;\n",
       "          if (window._bokeh_is_loading === 0) {\n",
       "            console.log(\"Bokeh: all BokehJS libraries loaded\");\n",
       "            run_callbacks()\n",
       "          }\n",
       "        };\n",
       "        s.onerror = function() {\n",
       "          console.warn(\"failed to load library \" + url);\n",
       "        };\n",
       "        console.log(\"Bokeh: injecting script tag for BokehJS library: \", url);\n",
       "        document.getElementsByTagName(\"head\")[0].appendChild(s);\n",
       "      }\n",
       "    };var element = document.getElementById(\"5b956893-bbfb-41a7-8c18-b9cd5eb36b14\");\n",
       "    if (element == null) {\n",
       "      console.log(\"Bokeh: ERROR: autoload.js configured with elementid '5b956893-bbfb-41a7-8c18-b9cd5eb36b14' but no matching script tag was found. \")\n",
       "      return false;\n",
       "    }\n",
       "  \n",
       "    var js_urls = [];\n",
       "  \n",
       "    var inline_js = [\n",
       "      function(Bokeh) {\n",
       "        Bokeh.$(function() {\n",
       "            var docs_json = {\"b2a19735-ca08-4c53-91d1-c21dbc51d560\":{\"roots\":{\"references\":[{\"attributes\":{\"callback\":null,\"column_names\":[\"top\",\"left\",\"right\"],\"data\":{\"left\":[6.0,13.95,21.9,29.85,37.8,45.75,53.7,61.65,69.6,77.55,85.5,93.45,101.4,109.35000000000001,117.3,125.25,133.2,141.15,149.1,157.05],\"right\":[13.95,21.9,29.85,37.8,45.75,53.7,61.65,69.6,77.55,85.5,93.45,101.4,109.35000000000001,117.3,125.25,133.2,141.15,149.1,157.05,165.0],\"top\":[0.0016352201257861635,0.002264150943396227,0.0021383647798742128,0.0023899371069182403,0.004025157232704401,0.004402515723270438,0.005157232704402518,0.0069182389937106955,0.00943396226415094,0.0064150943396226396,0.009937106918238991,0.010566037735849052,0.009811320754716977,0.01635220125786166,0.016603773584905654,0.01094339622641511,0.00654088050314464,0.00012578616352201274,0.0,0.00012578616352201274]}},\"id\":\"d8f155f9-e4c4-4fd4-b9c4-408db83fce23\",\"type\":\"ColumnDataSource\"},{\"attributes\":{\"overlay\":{\"id\":\"fbb533b3-df2a-4c33-88d8-838015759a2d\",\"type\":\"BoxAnnotation\"},\"plot\":{\"id\":\"d094bd50-a03f-413d-870d-0e59925bf27a\",\"subtype\":\"Figure\",\"type\":\"Plot\"}},\"id\":\"8217f3c0-61eb-45a3-bcca-1266d8ad14c2\",\"type\":\"BoxZoomTool\"},{\"attributes\":{\"plot\":null,\"text\":\"\"},\"id\":\"adc7d1c0-4000-49ad-97fd-e9f4fa1be9b7\",\"type\":\"Title\"},{\"attributes\":{\"data_source\":{\"id\":\"d8f155f9-e4c4-4fd4-b9c4-408db83fce23\",\"type\":\"ColumnDataSource\"},\"glyph\":{\"id\":\"519daf5a-ee6b-4950-b239-ce0613eb2461\",\"type\":\"Quad\"},\"hover_glyph\":null,\"nonselection_glyph\":{\"id\":\"3d44c8dc-a522-4fee-8bbb-65fdb365557a\",\"type\":\"Quad\"},\"selection_glyph\":null},\"id\":\"93afaa4f-b36a-4381-9a82-1ce321646855\",\"type\":\"GlyphRenderer\"},{\"attributes\":{\"callback\":null},\"id\":\"cf79d6d4-0942-44e7-899f-966d00305d6c\",\"type\":\"DataRange1d\"},{\"attributes\":{\"below\":[{\"id\":\"100c280b-b9e7-474e-8477-27180a9cd7bf\",\"type\":\"LinearAxis\"}],\"left\":[{\"id\":\"d1554239-f8c9-48e2-9c99-e6f56a00332f\",\"type\":\"LinearAxis\"}],\"renderers\":[{\"id\":\"100c280b-b9e7-474e-8477-27180a9cd7bf\",\"type\":\"LinearAxis\"},{\"id\":\"9ba2d4c1-8338-4dc7-b38a-7c50502f78e4\",\"type\":\"Grid\"},{\"id\":\"d1554239-f8c9-48e2-9c99-e6f56a00332f\",\"type\":\"LinearAxis\"},{\"id\":\"048671de-f475-4388-931c-8068cccfe614\",\"type\":\"Grid\"},{\"id\":\"fbb533b3-df2a-4c33-88d8-838015759a2d\",\"type\":\"BoxAnnotation\"},{\"id\":\"93afaa4f-b36a-4381-9a82-1ce321646855\",\"type\":\"GlyphRenderer\"},{\"id\":\"a0abc796-d6be-434f-bc8d-a914f2887cef\",\"type\":\"GlyphRenderer\"},{\"id\":\"ba63925a-f344-4f3e-b9f4-3dbd9d4025d0\",\"type\":\"Legend\"},{\"id\":\"a0c01738-e694-4574-ba3b-8e90379c9390\",\"type\":\"GlyphRenderer\"},{\"id\":\"11377340-49f0-48d0-b1dd-704752228d3d\",\"type\":\"GlyphRenderer\"}],\"title\":{\"id\":\"adc7d1c0-4000-49ad-97fd-e9f4fa1be9b7\",\"type\":\"Title\"},\"tool_events\":{\"id\":\"477374a3-6118-4b30-bf31-872cfe1d56cb\",\"type\":\"ToolEvents\"},\"toolbar\":{\"id\":\"0160f5a7-176b-4e3c-996f-77272a0d73d5\",\"type\":\"Toolbar\"},\"x_range\":{\"id\":\"cf79d6d4-0942-44e7-899f-966d00305d6c\",\"type\":\"DataRange1d\"},\"y_range\":{\"id\":\"095ae932-ac65-4224-a3e2-3e1860d6334f\",\"type\":\"DataRange1d\"}},\"id\":\"d094bd50-a03f-413d-870d-0e59925bf27a\",\"subtype\":\"Figure\",\"type\":\"Plot\"},{\"attributes\":{\"bottom\":{\"value\":0},\"fill_alpha\":{\"value\":0.1},\"fill_color\":{\"value\":\"#1f77b4\"},\"left\":{\"field\":\"left\"},\"line_alpha\":{\"value\":0.1},\"line_color\":{\"value\":\"#1f77b4\"},\"right\":{\"field\":\"right\"},\"top\":{\"field\":\"top\"}},\"id\":\"4e7343dc-c9ac-4965-a5b7-13ff74d1748c\",\"type\":\"Quad\"},{\"attributes\":{\"line_alpha\":{\"value\":0.1},\"line_color\":{\"value\":\"#1f77b4\"},\"line_width\":{\"value\":6},\"x\":{\"field\":\"x\"},\"y\":{\"field\":\"y\"}},\"id\":\"50314b29-722e-497e-a63e-5cbaff8c5e58\",\"type\":\"Line\"},{\"attributes\":{\"axis_label\":\"len(tweets)\",\"formatter\":{\"id\":\"58640a72-bb19-4bc9-af22-0c53d0885a6b\",\"type\":\"BasicTickFormatter\"},\"plot\":{\"id\":\"d094bd50-a03f-413d-870d-0e59925bf27a\",\"subtype\":\"Figure\",\"type\":\"Plot\"},\"ticker\":{\"id\":\"9d122dc2-73dd-4174-91da-054cb2eed0de\",\"type\":\"BasicTicker\"}},\"id\":\"100c280b-b9e7-474e-8477-27180a9cd7bf\",\"type\":\"LinearAxis\"},{\"attributes\":{},\"id\":\"cf087fff-2148-40bb-bd96-0cb221510433\",\"type\":\"BasicTicker\"},{\"attributes\":{\"data_source\":{\"id\":\"3df02794-5a2d-4661-aa1f-646f944410c7\",\"type\":\"ColumnDataSource\"},\"glyph\":{\"id\":\"f98ade38-ba75-4baa-853a-d79bad4bb054\",\"type\":\"Quad\"},\"hover_glyph\":null,\"nonselection_glyph\":{\"id\":\"4e7343dc-c9ac-4965-a5b7-13ff74d1748c\",\"type\":\"Quad\"},\"selection_glyph\":null},\"id\":\"a0abc796-d6be-434f-bc8d-a914f2887cef\",\"type\":\"GlyphRenderer\"},{\"attributes\":{\"plot\":{\"id\":\"d094bd50-a03f-413d-870d-0e59925bf27a\",\"subtype\":\"Figure\",\"type\":\"Plot\"}},\"id\":\"965944b3-cd4b-42ee-a48d-24f2ae937d3d\",\"type\":\"SaveTool\"},{\"attributes\":{\"callback\":null,\"column_names\":[\"y\",\"x\"],\"data\":{\"x\":[5,5,5,5,7,8,8,8,9,9,10,11,11,11,11,11,11,11,12,12,12,12,12,12,12,13,13,13,13,13,13,13,13,13,14,14,14,14,14,14,14,15,15,15,16,16,16,16,17,17,17,17,17,17,18,18,18,18,19,19,19,19,19,19,20,20,20,20,21,21,22,22,22,22,23,23,23,23,23,23,24,24,24,24,24,25,25,25,25,25,25,25,25,25,25,25,26,26,26,26,26,26,27,27,27,27,27,27,27,27,28,28,28,28,29,29,29,29,30,30,30,30,30,30,31,31,31,31,31,31,31,31,32,32,33,33,33,33,33,33,33,33,34,34,34,34,34,34,34,34,35,35,35,35,35,35,35,35,35,35,35,36,36,36,36,36,36,36,37,37,37,37,37,37,37,37,37,38,38,38,38,38,38,38,39,39,39,39,39,39,39,40,40,40,40,40,41,41,41,42,42,42,42,42,42,42,42,43,43,43,43,43,43,44,44,44,44,44,44,44,44,44,45,45,45,45,45,45,45,45,45,45,45,46,46,46,46,46,46,47,47,47,47,47,47,47,47,47,47,47,48,48,48,48,48,48,48,48,49,49,49,49,49,49,50,50,50,51,51,51,51,51,51,51,52,52,52,52,52,52,52,52,53,53,53,53,53,53,54,54,54,54,54,54,54,54,55,55,55,55,55,55,55,55,55,55,56,56,56,56,56,56,56,56,56,56,56,57,57,58,58,58,58,58,58,58,59,59,59,59,59,60,60,60,60,60,61,61,61,61,61,61,61,61,61,61,62,62,62,62,62,62,63,63,63,63,63,63,63,63,63,63,64,65,65,65,65,65,65,65,65,65,65,65,65,66,66,66,66,66,66,66,66,66,67,67,67,67,67,67,67,67,67,67,68,68,68,68,68,68,68,69,69,69,70,70,70,71,71,71,71,71,71,71,71,72,72,72,72,72,72,73,73,73,73,73,73,73,74,74,74,74,74,74,74,75,75,75,75,75,75,75,75,75,76,76,76,77,77,77,77,77,77,77,77,78,78,78,78,78,78,78,78,78,79,79,79,80,80,80,80,80,80,80,80,81,81,81,81,82,82,82,82,83,83,83,83,83,83,84,84,84,85,85,85,85,85,85,85,85,85,85,85,85,85,86,86,86,86,86,87,87,87,87,87,87,87,87,87,88,88,88,88,88,88,88,89,89,89,89,89,89,89,89,90,90,90,90,91,91,91,91,91,91,91,91,91,92,92,92,92,92,92,92,92,93,93,93,93,94,94,94,94,94,94,94,95,95,95,95,95,95,95,95,95,95,96,96,96,96,96,96,97,97,97,97,97,97,97,97,98,98,98,99,99,99,99,99,99,100,100,100,100,100,100,100,100,101,101,101,101,101,101,101,101,101,102,102,102,102,102,102,102,102,102,102,103,103,103,103,103,103,103,104,104,104,104,104,104,105,105,105,105,105,105,106,106,106,106,106,106,106,106,106,106,106,107,107,107,107,107,107,107,107,107,108,108,108,108,108,108,108,108,108,108,108,109,109,109,109,109,109,109,109,109,109,110,110,110,110,110,111,111,111,111,111,111,112,112,112,112,112,112,112,112,112,112,112,113,113,113,113,113,113,113,113,113,113,113,113,113,114,114,114,114,114,114,114,114,114,114,115,115,115,115,115,115,115,115,115,115,115,115,115,115,116,116,116,116,116,116,116,116,116,116,116,116,116,117,117,117,117,117,117,117,117,117,117,117,118,118,118,118,118,118,118,118,118,118,119,119,119,119,119,119,119,119,119,119,119,119,119,119,119,120,120,120,120,120,120,120,121,121,121,121,121,121,121,121,121,121,121,121,122,122,122,122,122,122,122,122,122,122,122,122,122,122,122,122,122,122,122,122,122,122,123,123,123,123,123,123,124,124,124,124,124,124,124,124,125,125,125,125,125,126,126,126,126,126,127,127,127,127,127,127,127,128,128,128,128,129,129,129,129,129,129,129,129,130,130,130,130,130,130,130,130,130,131,131,131,131,131,131,131,131,131,131,131,131,131,131,131,131,131,131,132,132,132,132,132,132,132,132,132,132,132,132,132,132,133,133,133,133,133,133,133,133,133,133,133,133,133,134,134,134,134,134,134,135,135,135,135,135,135,135,135,135,135,135,135,136,136,136,136,136,136,137,137,137,137,137,137,137,137,137,137,138,138,138,138,138,138,138,138,138,138,138,139,139,139,139,139,139,139,139,139,139,139,140,140,140,140,140,140,140,140,140,140,141,144],\"y\":[0.0014618887652501974,0.0014618887652501974,0.0014618887652501974,0.0014618887652501974,0.0016177426135336212,0.0017000769680762232,0.0017000769680762232,0.0017000769680762232,0.0017853997999497373,0.0017853997999497373,0.001873743414976812,0.0019651354818486897,0.0019651354818486897,0.0019651354818486897,0.0019651354818486897,0.0019651354818486897,0.0019651354818486897,0.0019651354818486897,0.00205959872645945,0.00205959872645945,0.00205959872645945,0.00205959872645945,0.00205959872645945,0.00205959872645945,0.00205959872645945,0.0021571506282538236,0.0021571506282538236,0.0021571506282538236,0.0021571506282538236,0.0021571506282538236,0.0021571506282538236,0.0021571506282538236,0.0021571506282538236,0.0021571506282538236,0.002257803119941539,0.002257803119941539,0.002257803119941539,0.002257803119941539,0.002257803119941539,0.002257803119941539,0.002257803119941539,0.0023615622919804756,0.0023615622919804756,0.0023615622919804756,0.0024684281032747385,0.0024684281032747385,0.0024684281032747385,0.0024684281032747385,0.0025783940995718637,0.0025783940995718637,0.0025783940995718637,0.0025783940995718637,0.0025783940995718637,0.0025783940995718637,0.002691447141074927,0.002691447141074927,0.002691447141074927,0.002691447141074927,0.002807567140810142,0.002807567140810142,0.002807567140810142,0.002807567140810142,0.002807567140810142,0.002807567140810142,0.0029267268153078596,0.0029267268153078596,0.0029267268153078596,0.0029267268153078596,0.0030488914491645512,0.0030488914491645512,0.0031740186750546986,0.0031740186750546986,0.0031740186750546986,0.0031740186750546986,0.0033020582707544337,0.0033020582707544337,0.0033020582707544337,0.0033020582707544337,0.0033020582707544337,0.0033020582707544337,0.0034329519747226703,0.0034329519747226703,0.0034329519747226703,0.0034329519747226703,0.0034329519747226703,0.003566633321760364,0.003566633321760364,0.003566633321760364,0.003566633321760364,0.003566633321760364,0.003566633321760364,0.003566633321760364,0.003566633321760364,0.003566633321760364,0.003566633321760364,0.003566633321760364,0.003703027500233894,0.003703027500233894,0.003703027500233894,0.003703027500233894,0.003703027500233894,0.003703027500233894,0.003842051232304509,0.003842051232304509,0.003842051232304509,0.003842051232304509,0.003842051232304509,0.003842051232304509,0.003842051232304509,0.003842051232304509,0.003983612678551996,0.003983612678551996,0.003983612678551996,0.003983612678551996,0.004127611368317249,0.004127611368317249,0.004127611368317249,0.004127611368317249,0.004273938157015285,0.004273938157015285,0.004273938157015285,0.004273938157015285,0.004273938157015285,0.004273938157015285,0.0044224752115874745,0.0044224752115874745,0.0044224752115874745,0.0044224752115874745,0.0044224752115874745,0.0044224752115874745,0.0044224752115874745,0.0044224752115874745,0.004573096025169577,0.004573096025169577,0.004725665461950692,0.004725665461950692,0.004725665461950692,0.004725665461950692,0.004725665461950692,0.004725665461950692,0.004725665461950692,0.004725665461950692,0.00488003983308795,0.00488003983308795,0.00488003983308795,0.00488003983308795,0.00488003983308795,0.00488003983308795,0.00488003983308795,0.00488003983308795,0.0050360670044227365,0.0050360670044227365,0.0050360670044227365,0.0050360670044227365,0.0050360670044227365,0.0050360670044227365,0.0050360670044227365,0.0050360670044227365,0.0050360670044227365,0.0050360670044227365,0.0050360670044227365,0.0051935865366173044,0.0051935865366173044,0.0051935865366173044,0.0051935865366173044,0.0051935865366173044,0.0051935865366173044,0.0051935865366173044,0.005352429858195839,0.005352429858195839,0.005352429858195839,0.005352429858195839,0.005352429858195839,0.005352429858195839,0.005352429858195839,0.005352429858195839,0.005352429858195839,0.005512420471832407,0.005512420471832407,0.005512420471832407,0.005512420471832407,0.005512420471832407,0.005512420471832407,0.005512420471832407,0.00567337419408006,0.00567337419408006,0.00567337419408006,0.00567337419408006,0.00567337419408006,0.00567337419408006,0.00567337419408006,0.005835099428581545,0.005835099428581545,0.005835099428581545,0.005835099428581545,0.005835099428581545,0.005997397472643357,0.005997397472643357,0.005997397472643357,0.006160062856892061,0.006160062856892061,0.006160062856892061,0.006160062856892061,0.006160062856892061,0.006160062856892061,0.006160062856892061,0.006160062856892061,0.0063228837175656645,0.0063228837175656645,0.0063228837175656645,0.0063228837175656645,0.0063228837175656645,0.0063228837175656645,0.006485642200824621,0.006485642200824621,0.006485642200824621,0.006485642200824621,0.006485642200824621,0.006485642200824621,0.006485642200824621,0.006485642200824621,0.006485642200824621,0.006648114898297244,0.006648114898297244,0.006648114898297244,0.006648114898297244,0.006648114898297244,0.006648114898297244,0.006648114898297244,0.006648114898297244,0.006648114898297244,0.006648114898297244,0.006648114898297244,0.006810073312904413,0.006810073312904413,0.006810073312904413,0.006810073312904413,0.006810073312904413,0.006810073312904413,0.006971284353839137,0.006971284353839137,0.006971284353839137,0.006971284353839137,0.006971284353839137,0.006971284353839137,0.006971284353839137,0.006971284353839137,0.006971284353839137,0.006971284353839137,0.006971284353839137,0.0071315108594090515,0.0071315108594090515,0.0071315108594090515,0.0071315108594090515,0.0071315108594090515,0.0071315108594090515,0.0071315108594090515,0.0071315108594090515,0.0072905121462852746,0.0072905121462852746,0.0072905121462852746,0.0072905121462852746,0.0072905121462852746,0.0072905121462852746,0.007448044583540273,0.007448044583540273,0.007448044583540273,0.007603862189701686,0.007603862189701686,0.007603862189701686,0.007603862189701686,0.007603862189701686,0.007603862189701686,0.007603862189701686,0.007757717250899344,0.007757717250899344,0.007757717250899344,0.007757717250899344,0.007757717250899344,0.007757717250899344,0.007757717250899344,0.007757717250899344,0.007909360958040183,0.007909360958040183,0.007909360958040183,0.007909360958040183,0.007909360958040183,0.007909360958040183,0.008058544060811338,0.008058544060811338,0.008058544060811338,0.008058544060811338,0.008058544060811338,0.008058544060811338,0.008058544060811338,0.008058544060811338,0.008205017536186446,0.008205017536186446,0.008205017536186446,0.008205017536186446,0.008205017536186446,0.008205017536186446,0.008205017536186446,0.008205017536186446,0.008205017536186446,0.008205017536186446,0.008348533268995019,0.008348533268995019,0.008348533268995019,0.008348533268995019,0.008348533268995019,0.008348533268995019,0.008348533268995019,0.008348533268995019,0.008348533268995019,0.008348533268995019,0.008348533268995019,0.008488844742010568,0.008488844742010568,0.008625707732920875,0.008625707732920875,0.008625707732920875,0.008625707732920875,0.008625707732920875,0.008625707732920875,0.008625707732920875,0.008758881015464102,0.008758881015464102,0.008758881015464102,0.008758881015464102,0.008758881015464102,0.00888812706194811,0.00888812706194811,0.00888812706194811,0.00888812706194811,0.00888812706194811,0.009013212744317966,0.009013212744317966,0.009013212744317966,0.009013212744317966,0.009013212744317966,0.009013212744317966,0.009013212744317966,0.009013212744317966,0.009013212744317966,0.009013212744317966,0.009133910030898824,0.009133910030898824,0.009133910030898824,0.009133910030898824,0.009133910030898824,0.009133910030898824,0.0092499966759185,0.0092499966759185,0.0092499966759185,0.0092499966759185,0.0092499966759185,0.0092499966759185,0.0092499966759185,0.0092499966759185,0.0092499966759185,0.0092499966759185,0.00936125689890653,0.009467482051074701,0.009467482051074701,0.009467482051074701,0.009467482051074701,0.009467482051074701,0.009467482051074701,0.009467482051074701,0.009467482051074701,0.009467482051074701,0.009467482051074701,0.009467482051074701,0.009467482051074701,0.009568471265807899,0.009568471265807899,0.009568471265807899,0.009568471265807899,0.009568471265807899,0.009568471265807899,0.009568471265807899,0.009568471265807899,0.009568471265807899,0.009664032090433844,0.009664032090433844,0.009664032090433844,0.009664032090433844,0.009664032090433844,0.009664032090433844,0.009664032090433844,0.009664032090433844,0.009664032090433844,0.009664032090433844,0.009753981096495909,0.009753981096495909,0.009753981096495909,0.009753981096495909,0.009753981096495909,0.009753981096495909,0.009753981096495909,0.009838144465824357,0.009838144465824357,0.009838144465824357,0.009916358549787903,0.009916358549787903,0.009916358549787903,0.009988470399209151,0.009988470399209151,0.009988470399209151,0.009988470399209151,0.009988470399209151,0.009988470399209151,0.009988470399209151,0.009988470399209151,0.010054338262543533,0.010054338262543533,0.010054338262543533,0.010054338262543533,0.010054338262543533,0.010054338262543533,0.010113832050051523,0.010113832050051523,0.010113832050051523,0.010113832050051523,0.010113832050051523,0.010113832050051523,0.010113832050051523,0.010166833761837267,0.010166833761837267,0.010166833761837267,0.010166833761837267,0.010166833761837267,0.010166833761837267,0.010166833761837267,0.010213237877782718,0.010213237877782718,0.010213237877782718,0.010213237877782718,0.010213237877782718,0.010213237877782718,0.010213237877782718,0.010213237877782718,0.010213237877782718,0.010252951707573914,0.010252951707573914,0.010252951707573914,0.01028589569919438,0.01028589569919438,0.01028589569919438,0.01028589569919438,0.01028589569919438,0.01028589569919438,0.01028589569919438,0.01028589569919438,0.010312003704448559,0.010312003704448559,0.010312003704448559,0.010312003704448559,0.010312003704448559,0.010312003704448559,0.010312003704448559,0.010312003704448559,0.010312003704448559,0.010331223200274912,0.010331223200274912,0.010331223200274912,0.010343515464812221,0.010343515464812221,0.010343515464812221,0.010343515464812221,0.010343515464812221,0.010343515464812221,0.010343515464812221,0.010343515464812221,0.010348855707393034,0.010348855707393034,0.010348855707393034,0.010348855707393034,0.010347233151853425,0.010347233151853425,0.010347233151853425,0.010347233151853425,0.010338651072767205,0.010338651072767205,0.010338651072767205,0.010338651072767205,0.010338651072767205,0.010338651072767205,0.010323126784434037,0.010323126784434037,0.010323126784434037,0.010300691582673317,0.010300691582673317,0.010300691582673317,0.010300691582673317,0.010300691582673317,0.010300691582673317,0.010300691582673317,0.010300691582673317,0.010300691582673317,0.010300691582673317,0.010300691582673317,0.010300691582673317,0.010300691582673317,0.010271390639697668,0.010271390639697668,0.010271390639697668,0.010271390639697668,0.010271390639697668,0.010235282852560356,0.010235282852560356,0.010235282852560356,0.010235282852560356,0.010235282852560356,0.010235282852560356,0.010235282852560356,0.010235282852560356,0.010235282852560356,0.010192440645888272,0.010192440645888272,0.010192440645888272,0.010192440645888272,0.010192440645888272,0.010192440645888272,0.010192440645888272,0.010142949729825318,0.010142949729825318,0.010142949729825318,0.010142949729825318,0.010142949729825318,0.010142949729825318,0.010142949729825318,0.010142949729825318,0.010086908814318474,0.010086908814318474,0.010086908814318474,0.010086908814318474,0.010024429281079635,0.010024429281079635,0.010024429281079635,0.010024429281079635,0.010024429281079635,0.010024429281079635,0.010024429281079635,0.010024429281079635,0.010024429281079635,0.009955634814749013,0.009955634814749013,0.009955634814749013,0.009955634814749013,0.009955634814749013,0.009955634814749013,0.009955634814749013,0.009955634814749013,0.009880660994969467,0.009880660994969467,0.009880660994969467,0.009880660994969467,0.009799654851254641,0.009799654851254641,0.009799654851254641,0.009799654851254641,0.009799654851254641,0.009799654851254641,0.009799654851254641,0.009712774382695967,0.009712774382695967,0.009712774382695967,0.009712774382695967,0.009712774382695967,0.009712774382695967,0.009712774382695967,0.009712774382695967,0.009712774382695967,0.009712774382695967,0.009620188044703826,0.009620188044703826,0.009620188044703826,0.009620188044703826,0.009620188044703826,0.009620188044703826,0.009522074205115418,0.009522074205115418,0.009522074205115418,0.009522074205115418,0.009522074205115418,0.009522074205115418,0.009522074205115418,0.009522074205115418,0.009418620572125615,0.009418620572125615,0.009418620572125615,0.00931002359660641,0.00931002359660641,0.00931002359660641,0.00931002359660641,0.00931002359660641,0.00931002359660641,0.009196487851475343,0.009196487851475343,0.009196487851475343,0.009196487851475343,0.009196487851475343,0.009196487851475343,0.009196487851475343,0.009196487851475343,0.00907822539085258,0.00907822539085258,0.00907822539085258,0.00907822539085258,0.00907822539085258,0.00907822539085258,0.00907822539085258,0.00907822539085258,0.00907822539085258,0.008955455091810423,0.008955455091810423,0.008955455091810423,0.008955455091810423,0.008955455091810423,0.008955455091810423,0.008955455091810423,0.008955455091810423,0.008955455091810423,0.008955455091810423,0.008828401981567084,0.008828401981567084,0.008828401981567084,0.008828401981567084,0.008828401981567084,0.008828401981567084,0.008828401981567084,0.00869729655300899,0.00869729655300899,0.00869729655300899,0.00869729655300899,0.00869729655300899,0.00869729655300899,0.008562374071442424,0.008562374071442424,0.008562374071442424,0.008562374071442424,0.008562374071442424,0.008562374071442424,0.008423873875476122,0.008423873875476122,0.008423873875476122,0.008423873875476122,0.008423873875476122,0.008423873875476122,0.008423873875476122,0.008423873875476122,0.008423873875476122,0.008423873875476122,0.008423873875476122,0.008282038674921725,0.008282038674921725,0.008282038674921725,0.008282038674921725,0.008282038674921725,0.008282038674921725,0.008282038674921725,0.008282038674921725,0.008282038674921725,0.00813711384856916,0.00813711384856916,0.00813711384856916,0.00813711384856916,0.00813711384856916,0.00813711384856916,0.00813711384856916,0.00813711384856916,0.00813711384856916,0.00813711384856916,0.00813711384856916,0.0079893467446493,0.0079893467446493,0.0079893467446493,0.0079893467446493,0.0079893467446493,0.0079893467446493,0.0079893467446493,0.0079893467446493,0.0079893467446493,0.0079893467446493,0.007838985986737343,0.007838985986737343,0.007838985986737343,0.007838985986737343,0.007838985986737343,0.0076862807877777,0.0076862807877777,0.0076862807877777,0.0076862807877777,0.0076862807877777,0.0076862807877777,0.007531480274825517,0.007531480274825517,0.007531480274825517,0.007531480274825517,0.007531480274825517,0.007531480274825517,0.007531480274825517,0.007531480274825517,0.007531480274825517,0.007531480274825517,0.007531480274825517,0.007374832827002012,0.007374832827002012,0.007374832827002012,0.007374832827002012,0.007374832827002012,0.007374832827002012,0.007374832827002012,0.007374832827002012,0.007374832827002012,0.007374832827002012,0.007374832827002012,0.007374832827002012,0.007374832827002012,0.007216585429051428,0.007216585429051428,0.007216585429051428,0.007216585429051428,0.007216585429051428,0.007216585429051428,0.007216585429051428,0.007216585429051428,0.007216585429051428,0.007216585429051428,0.007056983042767395,0.007056983042767395,0.007056983042767395,0.007056983042767395,0.007056983042767395,0.007056983042767395,0.007056983042767395,0.007056983042767395,0.007056983042767395,0.007056983042767395,0.007056983042767395,0.007056983042767395,0.007056983042767395,0.007056983042767395,0.006896267998426857,0.006896267998426857,0.006896267998426857,0.006896267998426857,0.006896267998426857,0.006896267998426857,0.006896267998426857,0.006896267998426857,0.006896267998426857,0.006896267998426857,0.006896267998426857,0.006896267998426857,0.006896267998426857,0.006734679408231404,0.006734679408231404,0.006734679408231404,0.006734679408231404,0.006734679408231404,0.006734679408231404,0.006734679408231404,0.006734679408231404,0.006734679408231404,0.006734679408231404,0.006734679408231404,0.006572452603609812,0.006572452603609812,0.006572452603609812,0.006572452603609812,0.006572452603609812,0.006572452603609812,0.006572452603609812,0.006572452603609812,0.006572452603609812,0.006572452603609812,0.006409818598082988,0.006409818598082988,0.006409818598082988,0.006409818598082988,0.006409818598082988,0.006409818598082988,0.006409818598082988,0.006409818598082988,0.006409818598082988,0.006409818598082988,0.006409818598082988,0.006409818598082988,0.006409818598082988,0.006409818598082988,0.006409818598082988,0.0062470035772343065,0.0062470035772343065,0.0062470035772343065,0.0062470035772343065,0.0062470035772343065,0.0062470035772343065,0.0062470035772343065,0.0060842284171655865,0.0060842284171655865,0.0060842284171655865,0.0060842284171655865,0.0060842284171655865,0.0060842284171655865,0.0060842284171655865,0.0060842284171655865,0.0060842284171655865,0.0060842284171655865,0.0060842284171655865,0.0060842284171655865,0.005921708232652902,0.005921708232652902,0.005921708232652902,0.005921708232652902,0.005921708232652902,0.005921708232652902,0.005921708232652902,0.005921708232652902,0.005921708232652902,0.005921708232652902,0.005921708232652902,0.005921708232652902,0.005921708232652902,0.005921708232652902,0.005921708232652902,0.005921708232652902,0.005921708232652902,0.005921708232652902,0.005921708232652902,0.005921708232652902,0.005921708232652902,0.005921708232652902,0.005759651956047893,0.005759651956047893,0.005759651956047893,0.005759651956047893,0.005759651956047893,0.005759651956047893,0.005598261947800553,0.005598261947800553,0.005598261947800553,0.005598261947800553,0.005598261947800553,0.005598261947800553,0.005598261947800553,0.005598261947800553,0.0054377336393094805,0.0054377336393094805,0.0054377336393094805,0.0054377336393094805,0.0054377336393094805,0.005278255208636431,0.005278255208636431,0.005278255208636431,0.005278255208636431,0.005278255208636431,0.005120007289454582,0.005120007289454582,0.005120007289454582,0.005120007289454582,0.005120007289454582,0.005120007289454582,0.005120007289454582,0.004963162713435292,0.004963162713435292,0.004963162713435292,0.004963162713435292,0.004807886286117095,0.004807886286117095,0.004807886286117095,0.004807886286117095,0.004807886286117095,0.004807886286117095,0.004807886286117095,0.004807886286117095,0.004654334596144113,0.004654334596144113,0.004654334596144113,0.004654334596144113,0.004654334596144113,0.004654334596144113,0.004654334596144113,0.004654334596144113,0.004654334596144113,0.004502655857609838,0.004502655857609838,0.004502655857609838,0.004502655857609838,0.004502655857609838,0.004502655857609838,0.004502655857609838,0.004502655857609838,0.004502655857609838,0.004502655857609838,0.004502655857609838,0.004502655857609838,0.004502655857609838,0.004502655857609838,0.004502655857609838,0.004502655857609838,0.004502655857609838,0.004502655857609838,0.004352989785097022,0.004352989785097022,0.004352989785097022,0.004352989785097022,0.004352989785097022,0.004352989785097022,0.004352989785097022,0.004352989785097022,0.004352989785097022,0.004352989785097022,0.004352989785097022,0.004352989785097022,0.004352989785097022,0.004352989785097022,0.004205467500865862,0.004205467500865862,0.004205467500865862,0.004205467500865862,0.004205467500865862,0.004205467500865862,0.004205467500865862,0.004205467500865862,0.004205467500865862,0.004205467500865862,0.004205467500865862,0.004205467500865862,0.004205467500865862,0.004060211473511516,0.004060211473511516,0.004060211473511516,0.004060211473511516,0.004060211473511516,0.004060211473511516,0.003917335487288624,0.003917335487288624,0.003917335487288624,0.003917335487288624,0.003917335487288624,0.003917335487288624,0.003917335487288624,0.003917335487288624,0.003917335487288624,0.003917335487288624,0.003917335487288624,0.003917335487288624,0.0037769446411855525,0.0037769446411855525,0.0037769446411855525,0.0037769446411855525,0.0037769446411855525,0.0037769446411855525,0.003639135376724802,0.003639135376724802,0.003639135376724802,0.003639135376724802,0.003639135376724802,0.003639135376724802,0.003639135376724802,0.003639135376724802,0.003639135376724802,0.003639135376724802,0.003503995533368909,0.003503995533368909,0.003503995533368909,0.003503995533368909,0.003503995533368909,0.003503995533368909,0.003503995533368909,0.003503995533368909,0.003503995533368909,0.003503995533368909,0.003503995533368909,0.003371604430323262,0.003371604430323262,0.003371604430323262,0.003371604430323262,0.003371604430323262,0.003371604430323262,0.003371604430323262,0.003371604430323262,0.003371604430323262,0.003371604430323262,0.003371604430323262,0.003242032973449058,0.003242032973449058,0.003242032973449058,0.003242032973449058,0.003242032973449058,0.003242032973449058,0.003242032973449058,0.003242032973449058,0.003242032973449058,0.003242032973449058,0.0031153437859308846,0.002753075189005994]}},\"id\":\"171c7c81-03ef-41ec-8beb-f7595512402a\",\"type\":\"ColumnDataSource\"},{\"attributes\":{\"plot\":{\"id\":\"d094bd50-a03f-413d-870d-0e59925bf27a\",\"subtype\":\"Figure\",\"type\":\"Plot\"},\"ticker\":{\"id\":\"9d122dc2-73dd-4174-91da-054cb2eed0de\",\"type\":\"BasicTicker\"}},\"id\":\"9ba2d4c1-8338-4dc7-b38a-7c50502f78e4\",\"type\":\"Grid\"},{\"attributes\":{\"plot\":{\"id\":\"d094bd50-a03f-413d-870d-0e59925bf27a\",\"subtype\":\"Figure\",\"type\":\"Plot\"}},\"id\":\"4c1b1410-e493-4a6c-9106-7a91e79aa279\",\"type\":\"ResetTool\"},{\"attributes\":{\"bottom_units\":\"screen\",\"fill_alpha\":{\"value\":0.5},\"fill_color\":{\"value\":\"lightgrey\"},\"left_units\":\"screen\",\"level\":\"overlay\",\"line_alpha\":{\"value\":1.0},\"line_color\":{\"value\":\"black\"},\"line_dash\":[4,4],\"line_width\":{\"value\":2},\"plot\":null,\"render_mode\":\"css\",\"right_units\":\"screen\",\"top_units\":\"screen\"},\"id\":\"fbb533b3-df2a-4c33-88d8-838015759a2d\",\"type\":\"BoxAnnotation\"},{\"attributes\":{\"callback\":null},\"id\":\"095ae932-ac65-4224-a3e2-3e1860d6334f\",\"type\":\"DataRange1d\"},{\"attributes\":{\"plot\":{\"id\":\"d094bd50-a03f-413d-870d-0e59925bf27a\",\"subtype\":\"Figure\",\"type\":\"Plot\"}},\"id\":\"f91b627d-c065-4df2-a524-f2ca35a74419\",\"type\":\"WheelZoomTool\"},{\"attributes\":{\"line_alpha\":{\"value\":0.7},\"line_color\":{\"value\":\"red\"},\"line_width\":{\"value\":6},\"x\":{\"field\":\"x\"},\"y\":{\"field\":\"y\"}},\"id\":\"28e3d6d4-fc8f-40ed-92e2-90990acf4111\",\"type\":\"Line\"},{\"attributes\":{\"legends\":[[\"PDF\",[{\"id\":\"a0c01738-e694-4574-ba3b-8e90379c9390\",\"type\":\"GlyphRenderer\"},{\"id\":\"11377340-49f0-48d0-b1dd-704752228d3d\",\"type\":\"GlyphRenderer\"}]]],\"plot\":{\"id\":\"d094bd50-a03f-413d-870d-0e59925bf27a\",\"subtype\":\"Figure\",\"type\":\"Plot\"}},\"id\":\"ba63925a-f344-4f3e-b9f4-3dbd9d4025d0\",\"type\":\"Legend\"},{\"attributes\":{\"active_drag\":\"auto\",\"active_scroll\":\"auto\",\"active_tap\":\"auto\",\"tools\":[{\"id\":\"9c67ae5c-f75a-4e03-bd55-71b742b29532\",\"type\":\"PanTool\"},{\"id\":\"f91b627d-c065-4df2-a524-f2ca35a74419\",\"type\":\"WheelZoomTool\"},{\"id\":\"8217f3c0-61eb-45a3-bcca-1266d8ad14c2\",\"type\":\"BoxZoomTool\"},{\"id\":\"965944b3-cd4b-42ee-a48d-24f2ae937d3d\",\"type\":\"SaveTool\"},{\"id\":\"4c1b1410-e493-4a6c-9106-7a91e79aa279\",\"type\":\"ResetTool\"},{\"id\":\"6c2c34a0-71f8-4911-a2f4-0ade87c244f6\",\"type\":\"HelpTool\"}]},\"id\":\"0160f5a7-176b-4e3c-996f-77272a0d73d5\",\"type\":\"Toolbar\"},{\"attributes\":{\"line_alpha\":{\"value\":0.7},\"line_color\":{\"value\":\"navy\"},\"line_width\":{\"value\":6},\"x\":{\"field\":\"x\"},\"y\":{\"field\":\"y\"}},\"id\":\"2b9a431a-4c08-43dd-92fb-01393e696b34\",\"type\":\"Line\"},{\"attributes\":{\"callback\":null,\"column_names\":[\"y\",\"x\"],\"data\":{\"x\":[6,8,10,11,11,12,12,12,12,12,12,13,13,14,14,14,14,14,15,16,16,16,16,17,17,17,19,19,19,21,21,22,22,23,24,25,26,26,27,27,27,28,28,28,28,29,29,29,30,30,31,31,32,33,34,34,34,34,35,36,36,36,37,37,37,37,37,38,38,39,39,39,39,39,39,39,40,40,40,40,40,41,41,41,41,41,42,42,42,42,42,43,43,44,44,45,45,45,45,46,46,46,46,46,47,47,47,47,47,48,48,48,48,48,48,48,49,49,49,49,49,49,49,50,50,50,51,52,52,52,52,53,53,53,54,54,54,54,55,55,55,55,55,55,55,55,56,56,56,56,56,56,56,56,56,57,57,57,58,58,59,60,60,60,60,60,60,60,60,60,60,61,61,61,61,62,62,62,62,62,63,63,63,63,64,64,64,64,64,64,64,64,64,64,65,65,65,65,65,65,66,66,66,66,66,66,66,66,66,67,67,67,67,68,68,68,68,68,68,69,69,69,69,69,69,69,69,69,69,69,70,70,70,70,70,70,70,70,70,70,71,71,71,71,71,71,71,71,71,71,71,72,72,72,72,72,72,72,72,72,72,73,73,73,73,73,73,73,74,74,74,74,74,74,75,75,75,75,75,75,75,75,75,75,75,75,75,75,75,75,76,76,76,76,76,76,76,76,77,77,77,77,77,77,77,78,78,78,78,78,79,79,79,79,79,79,79,80,80,80,80,80,80,80,81,81,81,82,82,82,82,82,82,82,82,83,83,83,83,83,83,83,83,83,84,84,84,84,84,85,85,85,85,85,85,85,86,86,86,86,86,86,87,87,87,87,87,87,87,88,88,88,88,88,88,88,88,88,88,88,88,88,88,88,88,89,89,89,89,89,89,89,89,90,90,90,90,90,90,90,90,90,90,90,90,90,90,90,90,91,91,91,91,91,91,92,92,92,92,92,92,92,92,92,92,92,93,93,93,93,93,93,93,93,93,94,94,94,94,94,94,94,94,94,94,94,94,94,95,95,95,95,95,95,96,96,96,96,96,97,97,97,97,97,97,97,97,97,97,97,97,97,97,98,98,98,98,98,98,98,98,98,98,98,98,98,98,98,98,98,98,99,99,99,99,99,100,100,100,100,100,100,100,100,100,100,100,100,101,101,101,101,101,101,101,101,101,101,101,102,102,102,102,102,102,102,102,102,102,103,103,103,103,103,103,103,103,103,104,104,104,104,104,104,104,104,104,104,104,104,104,104,104,105,105,105,105,105,105,105,106,106,106,106,106,106,106,106,106,106,106,106,107,107,107,107,107,107,107,108,108,108,108,108,108,108,108,109,109,109,109,109,109,109,109,109,109,110,110,110,110,110,110,110,110,110,110,110,110,110,110,110,110,110,110,110,110,110,110,111,111,111,111,111,111,111,111,111,111,111,111,111,111,111,111,111,112,112,112,112,112,112,112,112,112,112,112,112,112,112,112,112,112,112,112,113,113,113,113,113,113,113,113,113,113,113,113,113,113,114,114,114,114,114,114,114,114,114,114,114,114,114,114,114,114,114,114,114,115,115,115,115,115,115,115,115,115,115,115,115,115,115,115,116,116,116,116,116,116,116,116,116,116,116,116,116,117,117,117,117,117,117,117,117,117,117,117,118,118,118,118,118,118,118,118,118,118,118,118,118,118,118,118,118,118,118,118,118,119,119,119,119,119,119,119,119,119,119,119,119,119,119,119,119,119,119,119,120,120,120,120,120,120,120,120,120,120,120,120,120,120,120,120,120,120,120,120,120,120,121,121,121,121,121,121,121,121,121,121,121,121,121,121,121,121,122,122,122,122,122,122,122,122,122,122,122,122,122,122,122,122,122,122,122,122,122,122,122,122,123,123,123,123,123,123,123,123,123,123,124,124,124,124,124,124,124,124,124,125,125,125,125,125,125,125,125,125,125,125,126,126,126,126,126,126,126,126,126,126,126,126,126,127,127,127,127,127,127,127,127,127,128,128,128,128,128,128,128,129,129,129,129,130,130,130,130,130,130,130,130,130,130,130,130,130,130,130,130,131,131,131,131,131,131,131,131,131,131,131,131,131,132,132,132,132,132,132,132,132,132,132,132,132,132,132,133,133,133,133,133,133,133,133,133,133,133,134,134,134,134,134,134,134,134,134,134,134,134,134,134,134,135,135,135,135,135,136,136,136,136,137,137,137,137,137,137,137,137,137,137,137,137,138,138,138,138,138,138,138,139,139,139,139,139,140,140,140,140,142,165],\"y\":[0.00029800583938421166,0.0003531582250947239,0.0004168695013177598,0.0004522440520024083,0.0004522440520024083,0.0004901366363214776,0.0004901366363214776,0.0004901366363214776,0.0004901366363214776,0.0004901366363214776,0.0004901366363214776,0.0005306803780402704,0.0005306803780402704,0.0005740113173848584,0.0005740113173848584,0.0005740113173848584,0.0005740113173848584,0.0005740113173848584,0.0006202680938953062,0.0006695915898962449,0.0006695915898962449,0.0006695915898962449,0.0006695915898962449,0.0007221245335637515,0.0007221245335637515,0.0007221245335637515,0.0008373962351538798,0.0008373962351538798,0.0008373962351538798,0.0009672442439752697,0.0009672442439752697,0.001037996934974998,0.001037996934974998,0.0011128267324575709,0.001191874669414828,0.001275278951071356,0.001363174189995699,0.001363174189995699,0.001455690605627651,0.001455690605627651,0.001455690605627651,0.0015529531906294674,0.0015529531906294674,0.0015529531906294674,0.0015529531906294674,0.0016550808468727028,0.0016550808468727028,0.0016550808468727028,0.0017621854942809982,0.0017621854942809982,0.001874371156159382,0.001874371156159382,0.0019917330250486453,0.00211435651354529,0.002242316294919449,0.002242316294919449,0.002242316294919449,0.002242316294919449,0.0023756753387405914,0.0025144839470796687,0.0025144839470796687,0.0025144839470796687,0.0026587787971919553,0.0026587787971919553,0.0026587787971919553,0.0026587787971919553,0.0026587787971919553,0.00280858199689283,0.00280858199689283,0.0029639001591146613,0.0029639001591146613,0.0029639001591146613,0.0029639001591146613,0.0029639001591146613,0.0029639001591146613,0.0029639001591146613,0.0031247235023723692,0.0031247235023723692,0.0031247235023723692,0.0031247235023723692,0.0031247235023723692,0.003291024984063825,0.003291024984063825,0.003291024984063825,0.003291024984063825,0.003291024984063825,0.003462759473684942,0.003462759473684942,0.003462759473684942,0.003462759473684942,0.003462759473684942,0.0036398629731441276,0.0036398629731441276,0.003822251891413215,0.003822251891413215,0.004009822380748547,0.004009822380748547,0.004009822380748547,0.004009822380748547,0.004202449741653925,0.004202449741653925,0.004202449741653925,0.004202449741653925,0.004202449741653925,0.004399987903633938,0.004399987903633938,0.004399987903633938,0.004399987903633938,0.004399987903633938,0.004602268988599972,0.004602268988599972,0.004602268988599972,0.004602268988599972,0.004602268988599972,0.004602268988599972,0.004602268988599972,0.004809102963540411,0.004809102963540411,0.004809102963540411,0.004809102963540411,0.004809102963540411,0.004809102963540411,0.004809102963540411,0.005020277388750367,0.005020277388750367,0.005020277388750367,0.005235557267534497,0.005454685002849491,0.005454685002849491,0.005454685002849491,0.005454685002849491,0.005677380465841659,0.005677380465841659,0.005677380465841659,0.005903341180661652,0.005903341180661652,0.005903341180661652,0.005903341180661652,0.0061322426293049835,0.0061322426293049835,0.0061322426293049835,0.0061322426293049835,0.0061322426293049835,0.0061322426293049835,0.0061322426293049835,0.0061322426293049835,0.006363738679537209,0.006363738679537209,0.006363738679537209,0.006363738679537209,0.006363738679537209,0.006363738679537209,0.006363738679537209,0.006363738679537209,0.006363738679537209,0.006597462138219777,0.006597462138219777,0.006597462138219777,0.006833025431561899,0.006833025431561899,0.007070021412989902,0.007308024298454946,0.007308024298454946,0.007308024298454946,0.007308024298454946,0.007308024298454946,0.007308024298454946,0.007308024298454946,0.007308024298454946,0.007308024298454946,0.007308024298454946,0.007546590728098589,0.007546590728098589,0.007546590728098589,0.007546590728098589,0.007785260952271053,0.007785260952271053,0.007785260952271053,0.007785260952271053,0.007785260952271053,0.008023560138956245,0.008023560138956245,0.008023560138956245,0.008023560138956245,0.008260999798708863,0.008260999798708863,0.008260999798708863,0.008260999798708863,0.008260999798708863,0.008260999798708863,0.008260999798708863,0.008260999798708863,0.008260999798708863,0.008260999798708863,0.008497079322260388,0.008497079322260388,0.008497079322260388,0.008497079322260388,0.008497079322260388,0.008497079322260388,0.008731287625011016,0.008731287625011016,0.008731287625011016,0.008731287625011016,0.008731287625011016,0.008731287625011016,0.008731287625011016,0.008731287625011016,0.008731287625011016,0.008963104891702373,0.008963104891702373,0.008963104891702373,0.008963104891702373,0.009192004413670065,0.009192004413670065,0.009192004413670065,0.009192004413670065,0.009192004413670065,0.009192004413670065,0.009417454510214305,0.009417454510214305,0.009417454510214305,0.009417454510214305,0.009417454510214305,0.009417454510214305,0.009417454510214305,0.009417454510214305,0.009417454510214305,0.009417454510214305,0.009417454510214305,0.009638920524810189,0.009638920524810189,0.009638920524810189,0.009638920524810189,0.009638920524810189,0.009638920524810189,0.009638920524810189,0.009638920524810189,0.009638920524810189,0.009638920524810189,0.009855866886114754,0.009855866886114754,0.009855866886114754,0.009855866886114754,0.009855866886114754,0.009855866886114754,0.009855866886114754,0.009855866886114754,0.009855866886114754,0.009855866886114754,0.009855866886114754,0.010067759223024228,0.010067759223024228,0.010067759223024228,0.010067759223024228,0.010067759223024228,0.010067759223024228,0.010067759223024228,0.010067759223024228,0.010067759223024228,0.010067759223024228,0.010274066522399667,0.010274066522399667,0.010274066522399667,0.010274066522399667,0.010274066522399667,0.010274066522399667,0.010274066522399667,0.010474263317519704,0.010474263317519704,0.010474263317519704,0.010474263317519704,0.010474263317519704,0.010474263317519704,0.010667831894842352,0.010667831894842352,0.010667831894842352,0.010667831894842352,0.010667831894842352,0.010667831894842352,0.010667831894842352,0.010667831894842352,0.010667831894842352,0.010667831894842352,0.010667831894842352,0.010667831894842352,0.010667831894842352,0.010667831894842352,0.010667831894842352,0.010667831894842352,0.010854264506269575,0.010854264506269575,0.010854264506269575,0.010854264506269575,0.010854264506269575,0.010854264506269575,0.010854264506269575,0.010854264506269575,0.011033065573814206,0.011033065573814206,0.011033065573814206,0.011033065573814206,0.011033065573814206,0.011033065573814206,0.011033065573814206,0.01120375387337317,0.01120375387337317,0.01120375387337317,0.01120375387337317,0.01120375387337317,0.011365864684217408,0.011365864684217408,0.011365864684217408,0.011365864684217408,0.011365864684217408,0.011365864684217408,0.011365864684217408,0.011518951890820283,0.011518951890820283,0.011518951890820283,0.011518951890820283,0.011518951890820283,0.011518951890820283,0.011518951890820283,0.011662590023763962,0.011662590023763962,0.011662590023763962,0.01179637622668826,0.01179637622668826,0.01179637622668826,0.01179637622668826,0.01179637622668826,0.01179637622668826,0.01179637622668826,0.01179637622668826,0.011919932136578071,0.011919932136578071,0.011919932136578071,0.011919932136578071,0.011919932136578071,0.011919932136578071,0.011919932136578071,0.011919932136578071,0.011919932136578071,0.012032905665122396,0.012032905665122396,0.012032905665122396,0.012032905665122396,0.012032905665122396,0.012134972669417668,0.012134972669417668,0.012134972669417668,0.012134972669417668,0.012134972669417668,0.012134972669417668,0.012134972669417668,0.012225838500926779,0.012225838500926779,0.012225838500926779,0.012225838500926779,0.012225838500926779,0.012225838500926779,0.012305239422338632,0.012305239422338632,0.012305239422338632,0.012305239422338632,0.012305239422338632,0.012305239422338632,0.012305239422338632,0.012372943882795149,0.012372943882795149,0.012372943882795149,0.012372943882795149,0.012372943882795149,0.012372943882795149,0.012372943882795149,0.012372943882795149,0.012372943882795149,0.012372943882795149,0.012372943882795149,0.012372943882795149,0.012372943882795149,0.012372943882795149,0.012372943882795149,0.012372943882795149,0.01242875364285747,0.01242875364285747,0.01242875364285747,0.01242875364285747,0.01242875364285747,0.01242875364285747,0.01242875364285747,0.01242875364285747,0.012472504741562678,0.012472504741562678,0.012472504741562678,0.012472504741562678,0.012472504741562678,0.012472504741562678,0.012472504741562678,0.012472504741562678,0.012472504741562678,0.012472504741562678,0.012472504741562678,0.012472504741562678,0.012472504741562678,0.012472504741562678,0.012472504741562678,0.012472504741562678,0.012504068298968999,0.012504068298968999,0.012504068298968999,0.012504068298968999,0.012504068298968999,0.012504068298968999,0.012523351148691755,0.012523351148691755,0.012523351148691755,0.012523351148691755,0.012523351148691755,0.012523351148691755,0.012523351148691755,0.012523351148691755,0.012523351148691755,0.012523351148691755,0.012523351148691755,0.012530296296085387,0.012530296296085387,0.012530296296085387,0.012530296296085387,0.012530296296085387,0.012530296296085387,0.012530296296085387,0.012530296296085387,0.012530296296085387,0.012524883198917881,0.012524883198917881,0.012524883198917881,0.012524883198917881,0.012524883198917881,0.012524883198917881,0.012524883198917881,0.012524883198917881,0.012524883198917881,0.012524883198917881,0.012524883198917881,0.012524883198917881,0.012524883198917881,0.012507127868603253,0.012507127868603253,0.012507127868603253,0.012507127868603253,0.012507127868603253,0.012507127868603253,0.012477082791293807,0.012477082791293807,0.012477082791293807,0.012477082791293807,0.012477082791293807,0.012434836669376462,0.012434836669376462,0.012434836669376462,0.012434836669376462,0.012434836669376462,0.012434836669376462,0.012434836669376462,0.012434836669376462,0.012434836669376462,0.012434836669376462,0.012434836669376462,0.012434836669376462,0.012434836669376462,0.012434836669376462,0.012380513985154998,0.012380513985154998,0.012380513985154998,0.012380513985154998,0.012380513985154998,0.012380513985154998,0.012380513985154998,0.012380513985154998,0.012380513985154998,0.012380513985154998,0.012380513985154998,0.012380513985154998,0.012380513985154998,0.012380513985154998,0.012380513985154998,0.012380513985154998,0.012380513985154998,0.012380513985154998,0.012314274389721923,0.012314274389721923,0.012314274389721923,0.012314274389721923,0.012314274389721923,0.012236311921218872,0.012236311921218872,0.012236311921218872,0.012236311921218872,0.012236311921218872,0.012236311921218872,0.012236311921218872,0.012236311921218872,0.012236311921218872,0.012236311921218872,0.012236311921218872,0.012236311921218872,0.012146854057842698,0.012146854057842698,0.012146854057842698,0.012146854057842698,0.012146854057842698,0.012146854057842698,0.012146854057842698,0.012146854057842698,0.012146854057842698,0.012146854057842698,0.012146854057842698,0.012046160612065324,0.012046160612065324,0.012046160612065324,0.012046160612065324,0.012046160612065324,0.012046160612065324,0.012046160612065324,0.012046160612065324,0.012046160612065324,0.012046160612065324,0.011934522473589705,0.011934522473589705,0.011934522473589705,0.011934522473589705,0.011934522473589705,0.011934522473589705,0.011934522473589705,0.011934522473589705,0.011934522473589705,0.011812260209552615,0.011812260209552615,0.011812260209552615,0.011812260209552615,0.011812260209552615,0.011812260209552615,0.011812260209552615,0.011812260209552615,0.011812260209552615,0.011812260209552615,0.011812260209552615,0.011812260209552615,0.011812260209552615,0.011812260209552615,0.011812260209552615,0.011679722531399442,0.011679722531399442,0.011679722531399442,0.011679722531399442,0.011679722531399442,0.011679722531399442,0.011679722531399442,0.011537284638688949,0.011537284638688949,0.011537284638688949,0.011537284638688949,0.011537284638688949,0.011537284638688949,0.011537284638688949,0.011537284638688949,0.011537284638688949,0.011537284638688949,0.011537284638688949,0.011537284638688949,0.011385346450830698,0.011385346450830698,0.011385346450830698,0.011385346450830698,0.011385346450830698,0.011385346450830698,0.011385346450830698,0.011224330738408513,0.011224330738408513,0.011224330738408513,0.011224330738408513,0.011224330738408513,0.011224330738408513,0.011224330738408513,0.011224330738408513,0.01105468116629556,0.01105468116629556,0.01105468116629556,0.01105468116629556,0.01105468116629556,0.01105468116629556,0.01105468116629556,0.01105468116629556,0.01105468116629556,0.01105468116629556,0.01087686026121645,0.01087686026121645,0.01087686026121645,0.01087686026121645,0.01087686026121645,0.01087686026121645,0.01087686026121645,0.01087686026121645,0.01087686026121645,0.01087686026121645,0.01087686026121645,0.01087686026121645,0.01087686026121645,0.01087686026121645,0.01087686026121645,0.01087686026121645,0.01087686026121645,0.01087686026121645,0.01087686026121645,0.01087686026121645,0.01087686026121645,0.01087686026121645,0.01069134731675653,0.01069134731675653,0.01069134731675653,0.01069134731675653,0.01069134731675653,0.01069134731675653,0.01069134731675653,0.01069134731675653,0.01069134731675653,0.01069134731675653,0.01069134731675653,0.01069134731675653,0.01069134731675653,0.01069134731675653,0.01069134731675653,0.01069134731675653,0.01069134731675653,0.010498636249056746,0.010498636249056746,0.010498636249056746,0.010498636249056746,0.010498636249056746,0.010498636249056746,0.010498636249056746,0.010498636249056746,0.010498636249056746,0.010498636249056746,0.010498636249056746,0.010498636249056746,0.010498636249056746,0.010498636249056746,0.010498636249056746,0.010498636249056746,0.010498636249056746,0.010498636249056746,0.010498636249056746,0.010299233416563568,0.010299233416563568,0.010299233416563568,0.010299233416563568,0.010299233416563568,0.010299233416563568,0.010299233416563568,0.010299233416563568,0.010299233416563568,0.010299233416563568,0.010299233416563568,0.010299233416563568,0.010299233416563568,0.010299233416563568,0.010093655417227855,0.010093655417227855,0.010093655417227855,0.010093655417227855,0.010093655417227855,0.010093655417227855,0.010093655417227855,0.010093655417227855,0.010093655417227855,0.010093655417227855,0.010093655417227855,0.010093655417227855,0.010093655417227855,0.010093655417227855,0.010093655417227855,0.010093655417227855,0.010093655417227855,0.010093655417227855,0.010093655417227855,0.009882426876465952,0.009882426876465952,0.009882426876465952,0.009882426876465952,0.009882426876465952,0.009882426876465952,0.009882426876465952,0.009882426876465952,0.009882426876465952,0.009882426876465952,0.009882426876465952,0.009882426876465952,0.009882426876465952,0.009882426876465952,0.009882426876465952,0.009666078239013099,0.009666078239013099,0.009666078239013099,0.009666078239013099,0.009666078239013099,0.009666078239013099,0.009666078239013099,0.009666078239013099,0.009666078239013099,0.009666078239013099,0.009666078239013099,0.009666078239013099,0.009666078239013099,0.009445143577517153,0.009445143577517153,0.009445143577517153,0.009445143577517153,0.009445143577517153,0.009445143577517153,0.009445143577517153,0.009445143577517153,0.009445143577517153,0.009445143577517153,0.009445143577517153,0.009220158430343708,0.009220158430343708,0.009220158430343708,0.009220158430343708,0.009220158430343708,0.009220158430343708,0.009220158430343708,0.009220158430343708,0.009220158430343708,0.009220158430343708,0.009220158430343708,0.009220158430343708,0.009220158430343708,0.009220158430343708,0.009220158430343708,0.009220158430343708,0.009220158430343708,0.009220158430343708,0.009220158430343708,0.009220158430343708,0.009220158430343708,0.008991657680597656,0.008991657680597656,0.008991657680597656,0.008991657680597656,0.008991657680597656,0.008991657680597656,0.008991657680597656,0.008991657680597656,0.008991657680597656,0.008991657680597656,0.008991657680597656,0.008991657680597656,0.008991657680597656,0.008991657680597656,0.008991657680597656,0.008991657680597656,0.008991657680597656,0.008991657680597656,0.008991657680597656,0.008760173487816637,0.008760173487816637,0.008760173487816637,0.008760173487816637,0.008760173487816637,0.008760173487816637,0.008760173487816637,0.008760173487816637,0.008760173487816637,0.008760173487816637,0.008760173487816637,0.008760173487816637,0.008760173487816637,0.008760173487816637,0.008760173487816637,0.008760173487816637,0.008760173487816637,0.008760173487816637,0.008760173487816637,0.008760173487816637,0.008760173487816637,0.008760173487816637,0.008526233283165586,0.008526233283165586,0.008526233283165586,0.008526233283165586,0.008526233283165586,0.008526233283165586,0.008526233283165586,0.008526233283165586,0.008526233283165586,0.008526233283165586,0.008526233283165586,0.008526233283165586,0.008526233283165586,0.008526233283165586,0.008526233283165586,0.008526233283165586,0.008290357838265944,0.008290357838265944,0.008290357838265944,0.008290357838265944,0.008290357838265944,0.008290357838265944,0.008290357838265944,0.008290357838265944,0.008290357838265944,0.008290357838265944,0.008290357838265944,0.008290357838265944,0.008290357838265944,0.008290357838265944,0.008290357838265944,0.008290357838265944,0.008290357838265944,0.008290357838265944,0.008290357838265944,0.008290357838265944,0.008290357838265944,0.008290357838265944,0.008290357838265944,0.008290357838265944,0.00805305941703585,0.00805305941703585,0.00805305941703585,0.00805305941703585,0.00805305941703585,0.00805305941703585,0.00805305941703585,0.00805305941703585,0.00805305941703585,0.00805305941703585,0.007814840019106801,0.007814840019106801,0.007814840019106801,0.007814840019106801,0.007814840019106801,0.007814840019106801,0.007814840019106801,0.007814840019106801,0.007814840019106801,0.007576189722526611,0.007576189722526611,0.007576189722526611,0.007576189722526611,0.007576189722526611,0.007576189722526611,0.007576189722526611,0.007576189722526611,0.007576189722526611,0.007576189722526611,0.007576189722526611,0.007337585132566526,0.007337585132566526,0.007337585132566526,0.007337585132566526,0.007337585132566526,0.007337585132566526,0.007337585132566526,0.007337585132566526,0.007337585132566526,0.007337585132566526,0.007337585132566526,0.007337585132566526,0.007337585132566526,0.007099487942530877,0.007099487942530877,0.007099487942530877,0.007099487942530877,0.007099487942530877,0.007099487942530877,0.007099487942530877,0.007099487942530877,0.007099487942530877,0.006862343611529703,0.006862343611529703,0.006862343611529703,0.006862343611529703,0.006862343611529703,0.006862343611529703,0.006862343611529703,0.006626580163226782,0.006626580163226782,0.006626580163226782,0.006626580163226782,0.006392607108626401,0.006392607108626401,0.006392607108626401,0.006392607108626401,0.006392607108626401,0.006392607108626401,0.006392607108626401,0.006392607108626401,0.006392607108626401,0.006392607108626401,0.006392607108626401,0.006392607108626401,0.006392607108626401,0.006392607108626401,0.006392607108626401,0.006392607108626401,0.00616081449501997,0.00616081449501997,0.00616081449501997,0.00616081449501997,0.00616081449501997,0.00616081449501997,0.00616081449501997,0.00616081449501997,0.00616081449501997,0.00616081449501997,0.00616081449501997,0.00616081449501997,0.00616081449501997,0.005931572082286494,0.005931572082286494,0.005931572082286494,0.005931572082286494,0.005931572082286494,0.005931572082286494,0.005931572082286494,0.005931572082286494,0.005931572082286494,0.005931572082286494,0.005931572082286494,0.005931572082286494,0.005931572082286494,0.005931572082286494,0.005705228646836314,0.005705228646836314,0.005705228646836314,0.005705228646836314,0.005705228646836314,0.005705228646836314,0.005705228646836314,0.005705228646836314,0.005705228646836314,0.005705228646836314,0.005705228646836314,0.005482111412612676,0.005482111412612676,0.005482111412612676,0.005482111412612676,0.005482111412612676,0.005482111412612676,0.005482111412612676,0.005482111412612676,0.005482111412612676,0.005482111412612676,0.005482111412612676,0.005482111412612676,0.005482111412612676,0.005482111412612676,0.005482111412612676,0.0052625256077270255,0.0052625256077270255,0.0052625256077270255,0.0052625256077270255,0.0052625256077270255,0.005046754144507476,0.005046754144507476,0.005046754144507476,0.005046754144507476,0.004835057419990984,0.004835057419990984,0.004835057419990984,0.004835057419990984,0.004835057419990984,0.004835057419990984,0.004835057419990984,0.004835057419990984,0.004835057419990984,0.004835057419990984,0.004835057419990984,0.004835057419990984,0.00462767323319306,0.00462767323319306,0.00462767323319306,0.00462767323319306,0.00462767323319306,0.00462767323319306,0.00462767323319306,0.004424816814848349,0.004424816814848349,0.004424816814848349,0.004424816814848349,0.004424816814848349,0.004226680964734404,0.004226680964734404,0.004226680964734404,0.004226680964734404,0.0038452315468402473,0.0009758009869174676]}},\"id\":\"6849836b-df7e-4825-a9a4-6d75b3c409ee\",\"type\":\"ColumnDataSource\"},{\"attributes\":{\"callback\":null,\"column_names\":[\"top\",\"left\",\"right\"],\"data\":{\"left\":[5.0,11.95,18.9,25.85,32.8,39.75,46.7,53.65,60.6,67.55000000000001,74.5,81.45,88.4,95.35000000000001,102.3,109.25,116.2,123.15,130.10000000000002,137.05],\"right\":[11.95,18.9,25.85,32.8,39.75,46.7,53.65,60.6,67.55000000000001,74.5,81.45,88.4,95.35000000000001,102.3,109.25,116.2,123.15,130.10000000000002,137.05,144.0],\"top\":[0.0025899280575539573,0.005755395683453238,0.005467625899280574,0.005467625899280579,0.00820143884892086,0.006906474820143882,0.00705035971223022,0.006906474820143882,0.008345323741007181,0.005899280575539578,0.006330935251798558,0.006762589928057551,0.007194244604316544,0.007194244604316559,0.008633093525179852,0.010359712230215824,0.011942446043165463,0.006618705035971207,0.011366906474820162,0.00489208633093526]}},\"id\":\"3df02794-5a2d-4661-aa1f-646f944410c7\",\"type\":\"ColumnDataSource\"},{\"attributes\":{\"data_source\":{\"id\":\"6849836b-df7e-4825-a9a4-6d75b3c409ee\",\"type\":\"ColumnDataSource\"},\"glyph\":{\"id\":\"2b9a431a-4c08-43dd-92fb-01393e696b34\",\"type\":\"Line\"},\"hover_glyph\":null,\"nonselection_glyph\":{\"id\":\"50314b29-722e-497e-a63e-5cbaff8c5e58\",\"type\":\"Line\"},\"selection_glyph\":null},\"id\":\"a0c01738-e694-4574-ba3b-8e90379c9390\",\"type\":\"GlyphRenderer\"},{\"attributes\":{\"bottom\":{\"value\":0},\"fill_alpha\":{\"value\":0.1},\"fill_color\":{\"value\":\"#1f77b4\"},\"left\":{\"field\":\"left\"},\"line_alpha\":{\"value\":0.1},\"line_color\":{\"value\":\"#1f77b4\"},\"right\":{\"field\":\"right\"},\"top\":{\"field\":\"top\"}},\"id\":\"3d44c8dc-a522-4fee-8bbb-65fdb365557a\",\"type\":\"Quad\"},{\"attributes\":{},\"id\":\"58640a72-bb19-4bc9-af22-0c53d0885a6b\",\"type\":\"BasicTickFormatter\"},{\"attributes\":{\"data_source\":{\"id\":\"171c7c81-03ef-41ec-8beb-f7595512402a\",\"type\":\"ColumnDataSource\"},\"glyph\":{\"id\":\"28e3d6d4-fc8f-40ed-92e2-90990acf4111\",\"type\":\"Line\"},\"hover_glyph\":null,\"nonselection_glyph\":{\"id\":\"26925d80-f808-4d4d-ba21-c21040f0915e\",\"type\":\"Line\"},\"selection_glyph\":null},\"id\":\"11377340-49f0-48d0-b1dd-704752228d3d\",\"type\":\"GlyphRenderer\"},{\"attributes\":{\"axis_label\":\"# tweets\",\"formatter\":{\"id\":\"b7901098-3998-4fea-b88b-f029d21994a0\",\"type\":\"BasicTickFormatter\"},\"plot\":{\"id\":\"d094bd50-a03f-413d-870d-0e59925bf27a\",\"subtype\":\"Figure\",\"type\":\"Plot\"},\"ticker\":{\"id\":\"cf087fff-2148-40bb-bd96-0cb221510433\",\"type\":\"BasicTicker\"}},\"id\":\"d1554239-f8c9-48e2-9c99-e6f56a00332f\",\"type\":\"LinearAxis\"},{\"attributes\":{\"line_alpha\":{\"value\":0.1},\"line_color\":{\"value\":\"#1f77b4\"},\"line_width\":{\"value\":6},\"x\":{\"field\":\"x\"},\"y\":{\"field\":\"y\"}},\"id\":\"26925d80-f808-4d4d-ba21-c21040f0915e\",\"type\":\"Line\"},{\"attributes\":{\"dimension\":1,\"plot\":{\"id\":\"d094bd50-a03f-413d-870d-0e59925bf27a\",\"subtype\":\"Figure\",\"type\":\"Plot\"},\"ticker\":{\"id\":\"cf087fff-2148-40bb-bd96-0cb221510433\",\"type\":\"BasicTicker\"}},\"id\":\"048671de-f475-4388-931c-8068cccfe614\",\"type\":\"Grid\"},{\"attributes\":{\"plot\":{\"id\":\"d094bd50-a03f-413d-870d-0e59925bf27a\",\"subtype\":\"Figure\",\"type\":\"Plot\"}},\"id\":\"9c67ae5c-f75a-4e03-bd55-71b742b29532\",\"type\":\"PanTool\"},{\"attributes\":{},\"id\":\"b7901098-3998-4fea-b88b-f029d21994a0\",\"type\":\"BasicTickFormatter\"},{\"attributes\":{},\"id\":\"477374a3-6118-4b30-bf31-872cfe1d56cb\",\"type\":\"ToolEvents\"},{\"attributes\":{\"bottom\":{\"value\":0},\"fill_alpha\":{\"value\":0.3},\"fill_color\":{\"value\":\"navy\"},\"left\":{\"field\":\"left\"},\"line_color\":{\"value\":\"#033649\"},\"right\":{\"field\":\"right\"},\"top\":{\"field\":\"top\"}},\"id\":\"519daf5a-ee6b-4950-b239-ce0613eb2461\",\"type\":\"Quad\"},{\"attributes\":{\"bottom\":{\"value\":0},\"fill_alpha\":{\"value\":0.3},\"fill_color\":{\"value\":\"red\"},\"left\":{\"field\":\"left\"},\"line_color\":{\"value\":\"#033649\"},\"right\":{\"field\":\"right\"},\"top\":{\"field\":\"top\"}},\"id\":\"f98ade38-ba75-4baa-853a-d79bad4bb054\",\"type\":\"Quad\"},{\"attributes\":{},\"id\":\"9d122dc2-73dd-4174-91da-054cb2eed0de\",\"type\":\"BasicTicker\"},{\"attributes\":{\"plot\":{\"id\":\"d094bd50-a03f-413d-870d-0e59925bf27a\",\"subtype\":\"Figure\",\"type\":\"Plot\"}},\"id\":\"6c2c34a0-71f8-4911-a2f4-0ade87c244f6\",\"type\":\"HelpTool\"}],\"root_ids\":[\"d094bd50-a03f-413d-870d-0e59925bf27a\"]},\"title\":\"Bokeh Application\",\"version\":\"0.12.0\"}};\n",
       "            var render_items = [{\"docid\":\"b2a19735-ca08-4c53-91d1-c21dbc51d560\",\"elementid\":\"5b956893-bbfb-41a7-8c18-b9cd5eb36b14\",\"modelid\":\"d094bd50-a03f-413d-870d-0e59925bf27a\",\"notebook_comms_target\":\"376b4e1c-9529-4426-a056-f092e75a8217\"}];\n",
       "            \n",
       "            Bokeh.embed.embed_items(docs_json, render_items);\n",
       "        });\n",
       "      },\n",
       "      function(Bokeh) {\n",
       "      }\n",
       "    ];\n",
       "  \n",
       "    function run_inline_js() {\n",
       "      for (var i = 0; i < inline_js.length; i++) {\n",
       "        inline_js[i](window.Bokeh);\n",
       "      }\n",
       "    }\n",
       "  \n",
       "    if (window._bokeh_is_loading === 0) {\n",
       "      console.log(\"Bokeh: BokehJS loaded, going straight to plotting\");\n",
       "      run_inline_js();\n",
       "    } else {\n",
       "      load_libs(js_urls, function() {\n",
       "        console.log(\"Bokeh: BokehJS plotting callback run at\", now());\n",
       "        run_inline_js();\n",
       "      });\n",
       "    }\n",
       "  }(this));\n",
       "</script>"
      ]
     },
     "metadata": {},
     "output_type": "display_data"
    },
    {
     "data": {
      "text/html": [
       "<p><code>&lt;Bokeh Notebook handle for <strong>In[15]</strong>&gt;</code></p>"
      ],
      "text/plain": [
       "<bokeh.io._CommsHandle at 0x10f8b6160>"
      ]
     },
     "execution_count": 15,
     "metadata": {},
     "output_type": "execute_result"
    }
   ],
   "source": [
    "tweet_lens_bro = [len(tweet) for tweet in brotweets]\n",
    "hist_bro, edges_bro = np.histogram(tweet_lens_bro, density=True, bins=20)\n",
    "tweet_lens_bro.sort()\n",
    "\n",
    "tweet_lens_sis = [len(tweet) for tweet in sistweets]\n",
    "hist_sis, edges_sis = np.histogram(tweet_lens_sis, density=True, bins=20)\n",
    "tweet_lens_sis.sort()\n",
    "\n",
    "p = figure(title=\"\")\n",
    "p.quad(top=hist_bro, bottom=0, left=edges_bro[:-1], right=edges_bro[1:],\n",
    "        fill_color=\"navy\", line_color=\"#033649\", fill_alpha=0.3)\n",
    "p.quad(top=hist_sis, bottom=0, left=edges_sis[:-1], right=edges_sis[1:],\n",
    "        fill_color=\"red\", line_color=\"#033649\", fill_alpha=0.3)\n",
    "\n",
    "sigma =  np.std(tweet_lens_bro)\n",
    "mu = np.mean(tweet_lens_bro)\n",
    "pdf = stats.norm.pdf(tweet_lens_bro, mu, sigma)\n",
    "p.line(tweet_lens_bro, pdf, line_color=\"navy\", line_width=6, alpha=0.7, legend=\"PDF\")\n",
    "\n",
    "sigma =  np.std(tweet_lens_sis)\n",
    "mu = np.mean(tweet_lens_sis)\n",
    "pdf = stats.norm.pdf(tweet_lens_sis, mu, sigma)\n",
    "p.line(tweet_lens_sis, pdf, line_color=\"red\", line_width=6, alpha=0.7, legend=\"PDF\")\n",
    "\n",
    "p.xaxis.axis_label = 'len(tweets)'\n",
    "p.yaxis.axis_label = '# tweets'\n",
    "show(p)\n"
   ]
  },
  {
   "cell_type": "markdown",
   "metadata": {},
   "source": [
    "## 2.5. Split your data in train and test \n",
    "*(and probably share it too)*"
   ]
  },
  {
   "cell_type": "code",
   "execution_count": 16,
   "metadata": {
    "collapsed": false
   },
   "outputs": [
    {
     "name": "stdout",
     "output_type": "stream",
     "text": [
      "Examples in train: 1200\n",
      "Examples in test: 800\n"
     ]
    }
   ],
   "source": [
    "from sklearn import cross_validation\n",
    "X = pd_dataset['text'].tolist()\n",
    "y = pd_dataset['class'].tolist()\n",
    "\n",
    "X_train, X_test, y_train, y_test = cross_validation.train_test_split(X, y, test_size=0.4, random_state=0)\n",
    "print(\"Examples in train: {}\".format(len(X_train)))\n",
    "print(\"Examples in test: {}\".format(len(X_test)))"
   ]
  },
  {
   "cell_type": "markdown",
   "metadata": {
    "collapsed": true
   },
   "source": [
    "#  3. In the beginning we had a bag of words *(or maybe the set)* "
   ]
  },
  {
   "cell_type": "markdown",
   "metadata": {},
   "source": [
    "## 3.1. What is a bag of words\n",
    "\n",
    "- Simplest way to represent text.\n",
    "- Create a vector with the size of the vocabulary seen in train.\n",
    "- Each sentence is represented counting the number of times each word appears.\n",
    "\n",
    "```python\n",
    "dataset = [\"I love Python\", \"I love NLP\", \"Pyladies are cool\"]\n",
    "vocabulary = set([\"I\", \"love\", \"Python\", \"NLP\", \"Pyladies\", \"are\", \"cool\"])\n",
    "dataset_representation =  [[1,1,1,0,0,0,0], \n",
    "                           [1,1,0,1,0,0,0],\n",
    "                           [0,0,0,0,1,1,1]] \n",
    "```\n",
    "\n",
    "Ok, that looks cool. This look solved. Let's party! "
   ]
  },
  {
   "cell_type": "markdown",
   "metadata": {},
   "source": [
    "## 3.2. So, what's the problem, then?\n",
    "\n",
    "\n",
    "- Unseen words.\n",
    "- One-hot Representation: Represents every word as an $\\mathbb{R}^{|V|×1}$\n",
    "```python\n",
    "hotel = [0, 0, 0, 0, 0, 0, 0, 0, 1, 0, 0, 0, 0, 0]\n",
    "motel = [0, 0, 0, 0, 1, 0, 0, 0, 0, 0, 0, 0, 0, 0]\n",
    "w hotel AN D w motel = 0\n",
    "```\n",
    "$w^{hotel} AND w^{motel} = 0\n",
    "&nbsp;\n",
    "![cat!](imgs/catF.gif \"Angry cat fuck\")\n",
    "\n",
    "&nbsp;\n",
    "\n",
    "- *The curse of dimensionality!!!*\n",
    "  - Generalizing locally (eg. nearest neighbors) requires representative examples for all relevant variations\n",
    "  - The number of possible configurations of the variables of interest is much larger than the number of training samples.\n",
    "\n",
    "\n",
    "&nbsp;\n",
    "![Curse!](imgs/curse.jpg \"The curse of the dimensionality\")\n"
   ]
  },
  {
   "cell_type": "code",
   "execution_count": 17,
   "metadata": {
    "collapsed": false
   },
   "outputs": [
    {
     "name": "stdout",
     "output_type": "stream",
     "text": [
      "Train: {0|1}^(1200x4060)\n",
      "Test:  {0|1}^(800x4060)\n",
      "\n",
      "VOCABULARY EXTRACT: broke, broken, brother, brownlee, browser, bruce, brunch, brutal, btw, bu, buddy, buffer, bug, bugfixes, buggy, bugs, build, building, built, bullies, bump, bunch, burnt, bursting, busy, but, butler, button, buy, buys, buzz, by, byegium, ca, cabin, cable, cableporn, caesar, caged, call, called, calling, calls, came, camp, campaign, camping, can, canada, candidate, cannot, capita, capitalism, capitalists, capn, captain, captains, capture, car, card, cardinality, cards, career, careful, caribbean, caring, carpentry, cars, cartoon, case, cash, cat, catch, categorical, catered, cats, catty, caught, causal, cause, caused, cc, celebrate, celebrating, cena, centenial, center, centrality, centre, century, cernan, certainly, ceval, cfd, cffi, cfp, chair, chalk, challenge, challenges\n",
      "\n",
      "TWEET REPRESENTATION: [0 0 0 0 0 0 0 0 0 0 0 0 0 0 0 0 0 0 0 0 0 0 0 0 0 0 0 0 0 0 0 0 0 0 0 0 0\n",
      " 0 0 0 0 0 0 0 0 0 0 0 0 0 0 0 0 0 0 0 0 0 0 0 0 0 0 0 0 0 0 0 0 0 0 0 0 0\n",
      " 0 0 0 0 0 0 0 0 0 0 0 0 0 0 0 0 0 0 0 0 0 0 0 0 0 0 0 0 0 0 0 0 0 0 0 0 0\n",
      " 0 0 0 0 0 0 0 0 0 0 0 0 1 0 0 0 0 0 0 0 0 0 0 0 0 0 0 0 0 0 0 0 0 0 0 0 0\n",
      " 0 0 0 0 0 0 0 0 0 0 0 0 0 0 0 0 0 0 0 0 0 0 0 0 0 0 0 0 0 0 0 0 0 0 0 0 0\n",
      " 0 0 0 0 0 0 0 0 0 0 0 0 0 0 0 0 0 0 0 0 0 0 0 0 0 0 0 0 0 0 0 0 0 0 0 0 0\n",
      " 0 0 0 0 0 0 1 0 0 0 0 0 0 0 0 0 0 0 0 0 0 0 0 0 0 0 0 0 0 0 0 0 0 0 0 0 0\n",
      " 0 0 0 0 0 0 0 0 0 0 0 0 0 0 0 0 0 0 0 0 0 0 0 0 0 0 0 0 0 0 0 0 0 0 0 0 0\n",
      " 0 0 0 0 0 0 0 0 0 0 0 0 0 0 0 0 0 0 0 0 0 0 0 0 0 0 0 0 0 0 0 0 0 0 0 0 0\n",
      " 0 0 0 0 0 0 0 0 0 0 0 0 0 0 0 0 0 0 0 0 0 0 0 0 0 0 0 0 0 0 0 0 0 0 0 0 0\n",
      " 0 0 0 0 0 0 0 0 0 0 0 0 0 0 0 0 0 0 0 0 0 0 0 0 0 0 0 0 0 0 0 0 0 0 0 0 0\n",
      " 0 0 0 0 0 0 0 0 0 0 0 0 0 0 0 0 0 0 0 0 0 0 0 0 0 0 0 0 0 0 0 0 0 0 0 0 0\n",
      " 0 0 0 0 0 0 0 0 0 0 0 0 0 0 0 0 0 0 0 0 0 0 0 0 0 0 0 0 0 0 0 0 0 0 0 0 0\n",
      " 0 0 0 0 0 1 0 0 0 0 0 0 0 0 0 0 0 0 0 0 0 0 0 0 0 1 0 0 0 0 0 0 0 0 0 0 0\n",
      " 0 0 0 0 0 0 0 0 0 0 0 0 0 0 0 0 0 0 0 0 0 0 0 0 0 0 0 0 0 0 0 0 0 0 0 0 0\n",
      " 0 0 0 0 0 0 0 0 0 0 0 0 0 0 0 0 0 0 0 0 0 0 0 0 0 0 0 0 0 0 0 0 0 0 0 0 0\n",
      " 0 0 0 0 0 0 0 0 0 0 0 0 0 0 0 0 0 0 0 0 0 0 0 0 0 0 0 0 0 0 0 0 0 0 0 0 0\n",
      " 0 0 0 0 0 0 0 0 0 0 0 0 0 0 0 0 0 0 0 0 0 0 0 0 0 0 0 0 0 0 0 0 0 0 0 0 0\n",
      " 0 0 0 0 0 0 0 0 0 0 0 0 0 0 0 0 0 0 0 0 0 0 0 0 0 0 0 0 0 0 0 0 0 0 0 0 0\n",
      " 0 0 0 0 0 0 0 0 0 0 0 0 0 0 0 0 0 0 0 0 0 0 0 0 0 0 0 0 0 0 0 0 0 0 0 0 0\n",
      " 0 0 0 0 0 0 0 0 0 0 0 0 0 0 0 0 0 0 0 0 0 0 0 0 0 0 0 0 0 0 0 0 0 0 0 0 0\n",
      " 0 0 0 0 0 0 0 0 0 0 0 0 0 0 0 0 0 0 0 0 0 0 0 0 0 0 0 0 0 0 0 0 0 0 0 0 0\n",
      " 0 0 0 0 0 0 0 0 0 0 0 0 0 0 0 0 0 0 0 0 0 0 0 0 0 0 0 0 0 0 0 0 0 0 0 0 0\n",
      " 0 0 0 0 0 0 0 0 0 0 0 0 0 0 0 0 0 0 0 0 0 0 0 0 0 0 0 0 0 0 0 0 0 0 0 0 0\n",
      " 0 0 0 0 0 0 0 1 0 0 0 0 0 0 0 0 0 0 0 0 0 0 0 0 0 0 0 0 0 0 0 0 0 0 0 0 0\n",
      " 0 0 0 0 0 0 0 0 0 0 0 0 0 0 0 0 0 0 0 0 0 0 0 0 0 0 0 0 0 0 0 0 0 0 0 0 0\n",
      " 0 0 0 0 0 0 0 0 0 0 0 0 0 0 0 0 0 0 0 0 0 0 0 0 0 0 0 0 0 0 0 0 0 0 0 0 0\n",
      " 0 0 0 0 0 0 0 0 0 0 0 0 0 0 0 0 0 0 0 0 0 0 0 0 0 0 0 0 0 0 0 0 0 0 0 0 0\n",
      " 0 0 0 0 0 0 0 0 0 0 0 0 0 0 0 0 0 0 0 0 0 0 0 0 0 0 0 0 0 0 0 0 0 0 0 0 0\n",
      " 0 0 0 0 0 0 0 0 0 0 0 0 0 0 0 0 0 0 0 0 0 0 0 0 0 0 0 0 0 0 0 0 0 0 0 0 0\n",
      " 0 0 0 0 0 0 0 0 0 0 0 0 0 0 0 0 0 0 0 0 0 0 0 0 0 0 0 0 0 0 0 0 0 0 0 0 0\n",
      " 0 0 0 0 0 0 0 0 0 0 0 0 0 0 0 0 0 0 0 0 0 0 0 0 0 0 0 0 0 0 0 0 0 0 0 0 0\n",
      " 0 0 0 0 0 0 0 0 0 0 0 0 0 0 0 0 0 0 0 0 0 0 0 0 0 0 0 0 0 0 0 0 0 0 0 0 0\n",
      " 0 0 0 0 0 0 0 0 0 0 0 0 0 0 0 0 0 0 0 0 0 0 0 0 0 0 0 0 0 0 0 0 0 0 0 0 0\n",
      " 0 0 0 0 0 0 0 0 0 0 0 0 0 0 0 0 0 0 0 0 0 0 0 0 0 0 0 0 0 0 0 0 0 0 0 0 0\n",
      " 0 0 0 0 0 0 0 0 0 0 0 0 0 0 0 0 0 0 0 0 0 0 0 0 0 0 0 0 0 0 0 0 0 0 0 0 0\n",
      " 0 0 0 0 0 0 0 0 0 0 0 0 0 0 0 0 0 0 0 0 0 0 0 0 0 0 0 0 0 0 0 0 0 0 0 0 0\n",
      " 0 0 0 0 0 0 0 0 0 0 0 0 0 0 0 0 0 0 0 0 0 0 0 0 0 0 0 0 0 0 0 0 0 0 0 0 0\n",
      " 0 0 0 0 0 0 0 0 0 0 0 0 0 0 0 0 0 0 0 0 0 0 0 0 0 0 0 0 0 0 0 0 0 0 0 0 0\n",
      " 0 0 0 0 0 0 0 0 0 0 0 0 0 0 0 0 0 0 0 0 0 0 0 0 0 0 0 0 0 0 0 0 0 0 0 0 0\n",
      " 0 0 0 0 0 0 0 0 0 0 0 0 0 0 0 0 0 0 0 0 0 0 0 0 0 0 0 0 0 0 0 0 0 0 0 0 0\n",
      " 0 0 0 0 0 0 0 0 0 0 0 0 0 0 0 0 0 0 0 0 0 0 0 0 0 0 0 0 0 0 0 0 0 0 0 0 0\n",
      " 0 0 0 0 0 0 0 0 0 0 0 0 0 0 0 0 0 0 0 0 0 0 0 0 0 0 0 0 0 0 0 0 0 0 0 0 0\n",
      " 0 0 0 0 0 0 0 0 0 0 0 0 0 0 0 0 0 0 0 0 0 0 0 0 0 0 0 0 0 0 0 0 0 0 0 0 0\n",
      " 0 0 0 0 0 0 0 0 0 0 0 0 0 0 0 0 0 0 0 0 0 0 0 0 0 0 0 0 0 0 0 0 0 0 0 0 0\n",
      " 0 0 0 0 0 0 0 0 0 0 0 0 0 0 0 0 0 0 0 0 0 0 0 0 0 0 0 0 0 0 0 0 0 0 0 0 0\n",
      " 0 0 0 0 0 0 0 0 0 0 0 0 0 0 0 0 0 0 0 0 0 0 0 0 0 0 0 0 0 0 0 0 0 0 0 0 0\n",
      " 0 0 0 0 0 0 0 0 0 0 0 0 0 0 0 0 0 0 0 0 0 0 0 0 0 0 0 0 0 0 0 0 0 0 0 0 0\n",
      " 0 0 0 0 0 0 0 0 0 0 0 0 0 0 0 0 0 0 0 0 0 0 0 0 0 0 0 0 0 0 0 0 0 0 0 0 0\n",
      " 0 0 0 0 0 0 0 0 0 0 0 0 0 0 0 0 0 0 0 0 0 0 0 0 0 0 0 0 0 0 0 0 0 0 0 0 0\n",
      " 0 0 0 0 0 0 0 0 0 0 0 0 0 0 1 0 0 0 0 0 0 0 0 0 0 0 0 0 0 0 0 0 0 0 0 0 0\n",
      " 0 0 0 0 0 0 0 0 0 0 0 0 0 0 0 0 0 0 0 0 0 0 0 0 0 0 0 0 0 0 0 0 0 0 0 0 0\n",
      " 0 0 0 0 0 0 0 0 0 0 0 0 0 0 0 0 0 0 0 0 0 0 0 0 0 0 0 0 0 0 0 0 0 0 0 0 0\n",
      " 0 0 0 0 0 0 0 0 0 0 0 0 0 0 0 0 0 0 0 0 0 0 0 0 0 0 0 0 0 0 0 0 0 0 0 0 0\n",
      " 0 0 0 0 0 0 0 0 0 0 0 0 0 0 0 0 0 0 0 0 0 0 0 0 0 0 0 0 0 0 0 0 0 0 0 0 0\n",
      " 0 0 0 0 0 0 0 0 0 0 0 0 0 0 0 0 0 0 0 0 0 0 0 0 0 0 0 0 0 0 0 0 0 0 0 0 0\n",
      " 0 0 0 0 0 0 0 0 0 0 0 0 0 0 0 0 0 0 0 0 0 0 0 0 0 0 0 0 0 0 0 0 0 0 0 0 0\n",
      " 0 0 0 0 0 0 0 0 0 0 0 0 0 0 0 0 0 0 0 0 0 0 0 0 0 0 0 0 0 0 0 0 0 0 0 0 0\n",
      " 0 0 1 0 0 0 0 0 0 0 0 0 0 0 0 0 0 0 0 0 0 0 0 0 0 0 0 0 0 0 0 0 0 0 0 0 0\n",
      " 0 0 0 0 0 0 0 0 0 0 0 0 0 0 0 0 0 0 0 0 0 0 0 0 0 0 0 0 0 0 0 0 0 0 0 0 0\n",
      " 0 0 0 0 0 0 0 0 0 0 0 0 0 0 0 0 0 0 0 0 0 0 0 0 0 0 0 0 0 0 0 0 0 0 0 0 0\n",
      " 0 0 0 0 0 0 0 0 0 0 0 0 0 0 0 0 0 0 0 0 0 0 0 0 0 0 0 0 0 0 0 0 0 0 0 0 0\n",
      " 0 0 0 0 0 0 0 0 0 0 0 0 0 0 0 0 0 0 0 0 0 0 0 0 0 0 0 0 0 0 0 0 0 0 0 0 0\n",
      " 0 0 0 0 0 0 0 0 0 0 0 0 0 0 0 0 0 0 0 0 0 0 0 0 0 0 0 0 0 0 0 0 0 0 0 0 0\n",
      " 0 0 0 0 0 0 0 0 0 0 0 0 0 0 0 0 0 0 0 0 0 0 0 0 0 0 0 0 0 0 0 0 0 0 0 0 0\n",
      " 0 0 0 0 0 0 0 0 0 0 0 0 0 0 0 0 0 0 0 0 0 0 0 0 0 0 0 0 0 0 0 0 0 0 0 0 0\n",
      " 0 0 0 0 0 0 0 0 0 0 0 0 0 0 0 0 0 0 0 0 0 0 0 0 0 0 0 0 0 0 0 0 0 0 0 0 0\n",
      " 0 0 0 0 0 0 0 0 0 0 0 0 0 0 0 0 0 0 0 0 0 0 0 0 0 0 0 0 0 0 0 0 0 0 0 0 0\n",
      " 0 0 0 0 0 0 0 0 0 0 0 0 0 0 0 0 0 0 0 0 0 0 0 0 0 0 0 0 0 0 0 0 0 0 0 0 0\n",
      " 0 0 0 0 0 0 0 0 0 0 0 0 0 0 0 0 0 0 0 0 0 0 0 0 0 0 0 0 0 0 0 0 0 0 0 0 0\n",
      " 0 0 0 0 0 0 0 0 0 0 0 0 0 0 0 0 0 0 0 0 0 0 0 0 0 0 0 0 0 0 0 0 0 0 0 0 0\n",
      " 0 0 0 0 0 0 0 0 0 0 0 0 0 0 0 0 0 0 0 0 0 0 0 0 0 0 0 0 0 0 0 0 0 0 0 0 0\n",
      " 0 0 0 0 0 0 0 0 0 0 0 0 0 0 0 0 0 0 0 0 0 0 0 0 0 0 0 0 0 0 0 0 0 0 0 0 0\n",
      " 0 0 0 0 0 0 0 0 0 0 0 0 0 0 0 0 0 0 0 0 0 0 0 0 0 0 0 0 0 0 0 0 0 0 0 0 0\n",
      " 0 0 0 0 0 0 0 0 0 0 0 0 0 0 0 0 0 0 0 0 0 0 0 0 0 0 0 0 0 0 0 0 0 0 0 0 0\n",
      " 0 0 0 0 0 0 0 0 0 0 0 0 0 0 0 0 0 0 0 0 0 0 0 0 0 0 0 0 0 0 0 0 0 0 0 0 0\n",
      " 0 0 0 0 0 0 0 0 0 0 0 0 0 0 0 0 0 0 0 0 0 0 0 0 0 0 0 0 0 0 0 0 0 0 0 0 0\n",
      " 0 0 0 0 0 0 0 0 0 0 0 0 0 0 0 0 0 0 0 0 0 0 0 0 0 0 0 0 0 0 0 0 0 0 0 0 0\n",
      " 0 0 0 0 0 0 0 0 0 0 0 0 0 0 0 0 0 0 0 0 0 0 0 0 0 0 0 0 0 0 0 0 0 0 0 0 0\n",
      " 0 0 0 0 0 0 0 0 0 0 0 0 0 0 0 0 0 0 0 0 0 0 0 0 0 0 0 0 0 0 0 0 0 0 0 0 0\n",
      " 0 0 0 0 0 0 0 0 0 0 0 0 0 0 0 0 0 0 0 0 0 0 0 0 0 0 0 0 0 0 0 0 0 0 0 0 0\n",
      " 0 0 0 0 0 0 0 0 0 0 0 0 0 0 0 0 0 0 0 0 0 0 0 0 0 0 0 0 0 0 0 0 0 0 0 0 0\n",
      " 0 0 0 0 0 0 0 0 0 0 0 0 0 0 0 0 0 0 0 0 0 0 0 0 0 0 0 0 0 0 0 0 0 0 0 0 0\n",
      " 0 0 0 0 0 0 0 0 0 0 0 0 0 0 0 0 0 0 0 0 0 0 0 0 0 0 0 0 0 0 0 0 0 0 0 0 0\n",
      " 0 0 0 0 0 0 0 0 0 0 0 0 0 0 0 0 0 0 0 0 0 0 0 0 0 0 0 0 0 0 0 0 0 0 0 0 0\n",
      " 0 0 0 0 0 0 0 0 0 0 0 0 0 0 0 0 0 0 0 0 0 0 0 0 0 0 0 0 0 0 0 0 0 0 0 0 0\n",
      " 0 0 0 0 0 0 0 0 0 0 0 0 0 0 0 0 0 0 0 0 0 0 0 0 0 0 0 0 0 0 0 0 0 0 0 0 0\n",
      " 0 0 0 0 0 0 0 0 0 0 0 0 0 0 0 0 0 0 0 0 0 0 0 0 0 0 0 0 0 0 0 0 0 0 0 0 0\n",
      " 0 0 0 0 0 0 0 0 0 0 0 0 0 0 0 0 0 0 0 0 0 0 0 0 0 0 0 0 0 0 0 0 0 0 0 0 0\n",
      " 0 0 0 0 0 0 0 0 0 0 0 0 0 0 0 0 0 0 0 0 0 0 0 0 0 0 0 0 0 0 0 0 0 0 0 0 0\n",
      " 0 0 0 0 0 0 0 0 0 0 0 0 0 0 0 0 0 0 0 0 0 0 0 0 0 0 0 0 0 0 0 0 0 0 0 0 0\n",
      " 0 0 0 0 0 0 0 0 0 0 0 0 0 0 0 0 0 0 0 0 0 0 0 0 0 0 0 0 0 0 0 0 0 0 0 0 0\n",
      " 0 0 0 0 0 0 0 0 0 0 0 0 0 0 0 0 0 0 0 0 0 0 0 0 0 0 0 0 0 0 0 0 0 0 0 0 0\n",
      " 0 0 0 0 0 0 0 0 0 0 0 0 0 0 0 0 0 0 0 0 0 0 0 0 0 0 0 0 0 0 0 0 0 0 0 0 0\n",
      " 0 0 0 0 0 0 0 0 0 0 0 0 0 0 0 0 0 0 0 0 0 0 0 0 0 0 0 0 0 0 0 0 0 0 0 0 0\n",
      " 0 0 0 0 0 0 0 0 0 0 0 0 0 0 0 0 0 0 0 0 0 0 0 0 0 0 0 0 0 0 0 0 0 0 0 0 0\n",
      " 0 0 0 0 0 0 0 0 0 0 0 0 0 0 0 0 0 0 0 0 0 0 0 0 0 0 0 0 0 0 0 0 0 0 0 0 0\n",
      " 0 0 0 0 0 0 0 0 0 0 0 0 0 0 0 0 0 0 0 0 0 0 0 0 0 0 0 0 0 0 0 0 0 0 0 0 0\n",
      " 0 0 0 0 0 0 0 0 0 0 0 0 0 0 0 0 0 0 0 1 0 0 0 0 0 0 0 0 0 0 0 0 0 0 0 0 0\n",
      " 0 0 0 0 0 0 0 0 0 0 0 0 0 0 0 0 0 0 0 0 0 0 0 0 0 0 0 0 0 0 0 0 0 0 0 0 0\n",
      " 0 0 0 0 0 0 0 0 0 0 0 0 0 0 0 0 0 0 0 0 0 0 0 0 0 0 0 0 0 0 0 0 0 0 0 1 0\n",
      " 0 0 0 0 0 0 0 0 0 0 0 0 0 0 0 0 0 0 0 0 0 0 0 0 0 0 0 0 0 0 0 0 0 0 0 0 0\n",
      " 0 0 0 0 0 0 0 0 0 0 0 0 0 0 0 0 0 0 0 0 0 2 0 0 0 0 0 0 0 0 0 0 0 0 0 0 0\n",
      " 0 0 0 0 0 0 0 0 0 0 0 0 0 0 0 0 0 0 0 0 0 0 0 0 0 0 0 0 0 0 0 0 0 0 0 0 0\n",
      " 0 0 0 0 0 0 0 0 0 0 0 0 0 0 0 0 0 0 0 0 0 0 0 0 0 0 0 0 0 0 0 0 0 0 0 0 0\n",
      " 0 0 0 0 0 0 0 0 0 0 0 0 0 0 0 0 0 0 0 0 0 0 0 0 0 0 0 0 0 0 0 0 0 0 0 0 0\n",
      " 0 0 0 0 0 0 0 0 0 0 1 0 0 0 0 0 0 0 0 0 0 0 0 0 0 0 0 0 0 0 0 0 0 0 0 0 0\n",
      " 0 0 0 0 0 0 0 0 0 0 0 0 0 0 0 0 0 0 0 0 0 0 0 0 0 0 0 0 0 0 0 0 0 0 0 0 0\n",
      " 0 0 0 0 0 0 0 0 0 0 0 0 0 0 0 0 0 0 0 0 0 0 0 0 0 0 0 0 0 0 0 0 0 0 0 0 0\n",
      " 0 0 0 0 0 0 0 0 0 0 0 0 0 0 0 0 0 0 0 0 0 0 0 0 0 0 0]\n"
     ]
    }
   ],
   "source": [
    "from sklearn.feature_extraction.text import CountVectorizer\n",
    "\n",
    "vectorizer = CountVectorizer(analyzer = \"word\", \n",
    "                             tokenizer = None,\n",
    "                             preprocessor = None,\n",
    "                             stop_words = None,\n",
    "                             ngram_range=(1, 1),\n",
    "                             max_features = 5000) \n",
    "\n",
    "# Fit the train\n",
    "BOW_train = vectorizer.fit_transform(X_train)\n",
    "BOW_train = BOW_train.toarray()\n",
    "\n",
    "# Transform the test\n",
    "BOW_test = vectorizer.transform(X_test)\n",
    "BOW_test = BOW_test.toarray()\n",
    "\n",
    "\n",
    "print('Train: {{0|1}}^({}x{})'.format(BOW_train.shape[0], BOW_train.shape[1]))\n",
    "print('Test:  {{0|1}}^({}x{})'.format(BOW_test.shape[0], BOW_test.shape[1]))\n",
    "vocab = vectorizer.get_feature_names()\n",
    "print('\\nVOCABULARY EXTRACT: {}'.format(', '.join(vocab[500:600])))\n",
    "np.set_printoptions(threshold=np.nan)\n",
    "print('\\nTWEET REPRESENTATION: {}'.format(BOW_train[0]))"
   ]
  },
  {
   "cell_type": "markdown",
   "metadata": {},
   "source": [
    "# 4. Word embeddings\n",
    "\n",
    "> You shall know a word by the company it keeps.\n",
    ">\n",
    "> -- <cite>J.R. Firth 1957:11</cite>\n",
    "\n",
    "## The holy grail in text representation!\n",
    "### Word2vec\n",
    "Ok, we need to talk.\n",
    "- Word2vec is NOT an algorithm for learning word embeddings. Word2vec is a **family** of algorithms for learning word embeddings. You may want to talk about a skipgram model trained using negative sampling.\n",
    "- Word2vec is NOT the holy grail (If you don't understand it)\n",
    "- (Sligthly related note) Tensorflow is awesome, but we should get used to allocate memory\n",
    "\n",
    "&nbsp;\n",
    "&nbsp;\n",
    "\n",
    ">Mikolov, T., Sutskever, I., Chen, K., Corrado, G. S., & Dean, J. (2013). *Distributed representations of words and phrases and their compositionality.* In Advances in neural information processing systems (pp. 3111-3119).\n",
    "\n",
    "Now, we can go on.\n",
    "- With Word2vec algorithms are able to learn word embedings from unsupervised raw text. \n",
    "- Two algorithms are implemented:\n",
    " - Continuous Bag-of-Words model (CBOW) \n",
    "   - Predicts target words (e.g. 'mat') from source context words ('the cat sits on the').\n",
    "   - CBOW smoothes over a lot of the distributional information.\n",
    "   - Useful for smaller datasets.\n",
    " - **Skip-Gram model**\n",
    "   - Predicts source context words ('the cat sits on the') from target words (e.g. 'mat').\n",
    "   - Treats each context-target pair as a new observation.\n",
    "   - Useful for larger datasets\n",
    "   \n",
    "- These algorithms are trained using:\n",
    "    - **Negative sampling.** \n",
    "    - Hierarchical Softmax\n",
    "    \n",
    " \n",
    "![w2v!](imgs/nce-nplm.png \"Noise-Contrastive Training\")\n",
    "&nbsp;\n",
    "&nbsp;\n",
    "[Read the complete tutorial](https://www.tensorflow.org/versions/r0.9/tutorials/word2vec/index.html)\n",
    "\n",
    "&nbsp;\n",
    "&nbsp;\n",
    "\n",
    "### Glove\n",
    "\n",
    "> Pennington, J., Socher, R., & Manning, C. D. (2014, October). *[Glove: Global Vectors for Word Representation](http://nlp.stanford.edu/pubs/glove.pdf)*. In  EMNLP (Vol. 14, pp. 1532-43).\n",
    "\n",
    "GloVe is an unsupervised learning algorithm for obtaining vector representations for words. Training is performed on aggregated global word-word co-occurrence statistics from a corpus, and the resulting representations showcase interesting linear substructures of the word vector space.\n",
    "\n",
    "- New global logbilinear regression model that combines the advantages of the two major model families in the literature: \n",
    "  - Global matrix factorization \n",
    "  - Local context window methods.\n",
    "  \n",
    "![glove!](imgs/man_woman.jpg \"Word vectors learned with GloVe\")"
   ]
  },
  {
   "cell_type": "markdown",
   "metadata": {},
   "source": [
    "## 4.1. Pretrained data using GloVe"
   ]
  },
  {
   "cell_type": "code",
   "execution_count": 18,
   "metadata": {
    "collapsed": false
   },
   "outputs": [],
   "source": [
    "from os.path import join"
   ]
  },
  {
   "cell_type": "code",
   "execution_count": 19,
   "metadata": {
    "collapsed": false
   },
   "outputs": [],
   "source": [
    "import numpy as np\n",
    "\n",
    "def load_glove_dict(glove_filepath):\n",
    "    \"\"\" Build a dictionary with GloVe values. \n",
    "\n",
    "    Read the GloVe resource and build a dictionary where the key is the word \n",
    "    and the value its GloVe representation\n",
    "\n",
    "    Args:\n",
    "        glove_filepath (str): Path where the GloVe resource is.\n",
    "        \n",
    "    Returns:\n",
    "        dict: Dictionary with GloVe data.\n",
    "    \"\"\"\n",
    "    glove_embeddings = {}\n",
    "    # TODO: check if the filepath exists\n",
    "    with open(glove_filepath) as glove_file:\n",
    "        for line in glove_file:\n",
    "            split_line = line.split() \n",
    "            word, vector = split_line[0], np.asarray(split_line[1:])\n",
    "            glove_embeddings[word] =  vector\n",
    "    return glove_embeddings"
   ]
  },
  {
   "cell_type": "code",
   "execution_count": 20,
   "metadata": {
    "collapsed": false
   },
   "outputs": [],
   "source": [
    "GLOVE_PATH = '../../../resources/GloVe/twitter_dataset'\n",
    "\n",
    "embedding_size = '25'\n",
    "glove_file = join(GLOVE_PATH, 'glove.twitter.27B.' + embedding_size + 'd.txt')\n",
    "glove_25 = load_glove_dict(glove_file)"
   ]
  },
  {
   "cell_type": "code",
   "execution_count": 21,
   "metadata": {
    "collapsed": false
   },
   "outputs": [],
   "source": [
    "embedding_size = '100'\n",
    "glove_file = join(GLOVE_PATH, 'glove.twitter.27B.' + embedding_size + 'd.txt')\n",
    "glove_100 = load_glove_dict(glove_file)"
   ]
  },
  {
   "cell_type": "code",
   "execution_count": 23,
   "metadata": {
    "collapsed": false
   },
   "outputs": [],
   "source": [
    "def get_most_common_vocab(most_common, vocabulary):\n",
    "    \"\"\" Get the most common words in a vocabulary\n",
    "\n",
    "    Args:\n",
    "        most_common (int): Number of most common word that want to be retrieved.\n",
    "        vocabulary (Counter): Vocabulary with words and frequencies of each word.\n",
    "        \n",
    "    Returns:\n",
    "        set: set of most common words in this vocabulary.\n",
    "    \"\"\"\n",
    "    most_common_words = vocabulary.most_common(int(most_common))\n",
    "    return set(word for word, _ in most_common_words)\n",
    "\n",
    "\n",
    "def get_words_to_plot(most_common, vocabulary, dictionary):\n",
    "    words_to_plot = {}\n",
    "    unseen_words = []\n",
    "    for word in get_most_common_vocab(most_common, vocabulary):\n",
    "        if word in dictionary:\n",
    "            words_to_plot[word] = dictionary[word]\n",
    "        else:\n",
    "            unseen_words.append(word)\n",
    "    return words_to_plot, unseen_words"
   ]
  },
  {
   "cell_type": "code",
   "execution_count": 24,
   "metadata": {
    "collapsed": false
   },
   "outputs": [],
   "source": [
    "from sklearn.manifold import TSNE\n",
    "\n",
    "def plot_tsne(dictionary, most_common):\n",
    "    tsne = TSNE(perplexity=30, n_components=2, init='pca', n_iter=5000)\n",
    "   \n",
    "    words_to_plot_bros, unseen_words_bros = get_words_to_plot(most_common, brocabulary, dictionary)\n",
    "    words_to_plot_sis, unseen_words_sis = get_words_to_plot(most_common, siscabulary, dictionary)\n",
    "\n",
    "    low_dim_embs_bros = tsne.fit_transform(list(words_to_plot_bros.values()))\n",
    "    low_dim_embs_sis = tsne.fit_transform(list(words_to_plot_sis.values()))\n",
    "    \n",
    "    words_bros = list(words_to_plot_bros.keys())\n",
    "    range_words_bros=list(range(1,len(words_bros)+1))\n",
    "    source_bros = ColumnDataSource(data=dict(range_words=range_words_bros,\n",
    "                                             words_bros=words_bros,\n",
    "                                             x=low_dim_embs_bros[:,0], \n",
    "                                             y=low_dim_embs_bros[:,1]))\n",
    "\n",
    "    words_sis = list(words_to_plot_sis.keys())\n",
    "    range_words_sis = list(range(1,len(words_sis)+1))\n",
    "    source_sis = ColumnDataSource(data=dict(range_words=range_words_sis,\n",
    "                                             words_sis=words_sis,\n",
    "                                             x=low_dim_embs_sis[:,0], \n",
    "                                             y=low_dim_embs_sis[:,1]))\n",
    "    \n",
    "    \n",
    "    hover = HoverTool()\n",
    "    hover.point_policy = \"follow_mouse\"\n",
    "    hover = HoverTool(\n",
    "            tooltips=[\n",
    "                (\"words_bros\", \"@words_bros\"),\n",
    "                (\"words_sis\", \"@words_sis\"),\n",
    "            ]\n",
    "        )\n",
    "\n",
    "    TOOLS=\"pan,wheel_zoom,box_zoom,reset,save\"\n",
    "\n",
    "    p = figure(title = \"Word visualization\", tools=[TOOLS, hover])\n",
    "    p.circle('x', 'y', source=source_bros, fill_alpha=0.2, size=10, color='navy')\n",
    "    p.circle('x', 'y', source=source_sis, fill_alpha=0.2, size=10, color='red')\n",
    "\n",
    "    show(p)\n",
    "    return set(unseen_words_bros + unseen_words_sis)"
   ]
  },
  {
   "cell_type": "code",
   "execution_count": 25,
   "metadata": {
    "collapsed": false
   },
   "outputs": [
    {
     "data": {
      "text/html": [
       "\n",
       "\n",
       "    <div class=\"bk-root\">\n",
       "        <div class=\"plotdiv\" id=\"39b95373-7f75-4e5f-a8f7-d59400b059df\"></div>\n",
       "    </div>\n",
       "<script type=\"text/javascript\">\n",
       "  \n",
       "  (function(global) {\n",
       "    function now() {\n",
       "      return new Date();\n",
       "    }\n",
       "  \n",
       "    if (typeof (window._bokeh_onload_callbacks) === \"undefined\") {\n",
       "      window._bokeh_onload_callbacks = [];\n",
       "    }\n",
       "  \n",
       "    function run_callbacks() {\n",
       "      window._bokeh_onload_callbacks.forEach(function(callback) { callback() });\n",
       "      delete window._bokeh_onload_callbacks\n",
       "      console.info(\"Bokeh: all callbacks have finished\");\n",
       "    }\n",
       "  \n",
       "    function load_libs(js_urls, callback) {\n",
       "      window._bokeh_onload_callbacks.push(callback);\n",
       "      if (window._bokeh_is_loading > 0) {\n",
       "        console.log(\"Bokeh: BokehJS is being loaded, scheduling callback at\", now());\n",
       "        return null;\n",
       "      }\n",
       "      if (js_urls == null || js_urls.length === 0) {\n",
       "        run_callbacks();\n",
       "        return null;\n",
       "      }\n",
       "      console.log(\"Bokeh: BokehJS not loaded, scheduling load and callback at\", now());\n",
       "      window._bokeh_is_loading = js_urls.length;\n",
       "      for (var i = 0; i < js_urls.length; i++) {\n",
       "        var url = js_urls[i];\n",
       "        var s = document.createElement('script');\n",
       "        s.src = url;\n",
       "        s.async = false;\n",
       "        s.onreadystatechange = s.onload = function() {\n",
       "          window._bokeh_is_loading--;\n",
       "          if (window._bokeh_is_loading === 0) {\n",
       "            console.log(\"Bokeh: all BokehJS libraries loaded\");\n",
       "            run_callbacks()\n",
       "          }\n",
       "        };\n",
       "        s.onerror = function() {\n",
       "          console.warn(\"failed to load library \" + url);\n",
       "        };\n",
       "        console.log(\"Bokeh: injecting script tag for BokehJS library: \", url);\n",
       "        document.getElementsByTagName(\"head\")[0].appendChild(s);\n",
       "      }\n",
       "    };var element = document.getElementById(\"39b95373-7f75-4e5f-a8f7-d59400b059df\");\n",
       "    if (element == null) {\n",
       "      console.log(\"Bokeh: ERROR: autoload.js configured with elementid '39b95373-7f75-4e5f-a8f7-d59400b059df' but no matching script tag was found. \")\n",
       "      return false;\n",
       "    }\n",
       "  \n",
       "    var js_urls = [];\n",
       "  \n",
       "    var inline_js = [\n",
       "      function(Bokeh) {\n",
       "        Bokeh.$(function() {\n",
       "            var docs_json = {\"049331e5-ca13-4a7a-acc3-0109a6f57186\":{\"roots\":{\"references\":[{\"attributes\":{},\"id\":\"45ee9004-0708-4811-be00-e02f4d844263\",\"type\":\"BasicTickFormatter\"},{\"attributes\":{\"callback\":null,\"column_names\":[\"words_sis\",\"range_words\",\"y\",\"x\"],\"data\":{\"range_words\":[1,2,3,4,5,6,7,8,9,10,11,12,13,14,15,16,17,18,19,20,21,22,23,24,25,26,27,28,29,30,31,32,33,34,35,36,37,38,39,40,41,42,43,44,45,46,47,48,49,50,51,52,53,54,55,56,57,58,59,60,61,62,63,64,65,66,67,68,69,70,71,72,73,74,75,76,77,78,79,80,81,82,83,84,85,86,87,88,89,90,91,92,93,94,95,96,97,98,99,100,101,102,103,104,105,106,107,108,109,110,111,112,113,114,115,116,117,118,119,120,121,122,123,124,125,126,127,128,129,130,131,132,133,134,135,136,137,138,139,140,141,142,143,144,145,146,147,148,149,150,151,152,153,154,155,156,157,158,159,160,161,162,163,164,165,166,167,168,169,170,171,172,173,174,175,176,177,178,179,180,181,182,183,184,185,186,187,188,189,190,191,192,193,194,195,196,197,198,199,200,201,202,203,204,205,206,207,208,209,210,211,212,213,214,215,216,217,218,219,220,221,222,223,224,225,226,227,228,229,230,231,232,233,234,235,236,237,238,239,240,241,242,243,244,245,246,247,248,249,250,251,252,253,254,255,256,257,258,259,260,261,262,263,264,265,266,267,268,269,270,271,272,273,274,275,276,277,278,279,280,281,282,283,284,285,286,287,288,289,290,291,292,293,294,295,296,297,298,299,300,301,302,303,304,305,306,307,308,309,310,311,312,313,314,315,316,317,318,319,320,321,322,323,324,325,326,327,328,329,330,331,332,333,334,335,336,337,338,339,340,341,342,343,344,345,346,347,348,349,350,351,352,353,354,355,356,357,358,359,360,361,362,363,364,365,366,367,368,369,370,371,372,373,374,375,376,377,378,379,380,381,382,383,384,385,386,387,388,389,390,391,392,393,394,395,396,397,398,399,400,401,402,403,404,405,406,407,408,409,410,411,412,413,414,415,416,417,418,419,420,421,422,423,424,425,426,427,428,429,430,431,432,433,434,435,436,437,438,439,440,441,442,443,444,445,446,447,448,449,450,451,452,453,454,455,456,457,458,459,460,461,462,463,464,465,466,467,468,469,470,471,472,473,474,475,476,477,478,479,480,481,482,483,484,485,486,487,488,489,490,491,492,493,494,495,496,497,498,499,500,501,502,503,504,505,506,507,508,509,510,511,512,513,514,515,516,517,518,519,520,521,522,523,524,525,526,527,528,529,530,531,532,533,534,535,536,537,538,539,540,541,542,543,544,545,546,547,548,549,550,551,552,553,554,555,556,557,558,559,560,561,562,563,564,565,566,567,568,569,570,571,572,573,574,575,576,577,578,579,580,581,582,583,584,585,586,587,588,589,590,591,592,593,594,595,596,597,598,599,600,601,602,603,604,605,606,607,608,609,610,611,612,613,614,615,616,617,618,619,620,621,622,623,624,625,626,627,628,629,630,631,632,633,634,635,636,637,638,639,640,641,642,643,644,645,646,647,648,649,650,651,652,653,654,655,656,657,658,659,660,661,662,663,664,665,666,667,668,669,670,671,672,673,674,675,676,677,678,679,680,681,682,683,684,685,686,687,688,689,690,691,692,693,694,695,696,697,698,699,700,701,702,703,704,705,706,707,708,709,710,711,712,713,714,715,716,717,718,719,720,721,722,723,724,725,726,727,728,729,730,731,732,733,734,735,736,737,738,739,740,741,742,743,744,745,746,747,748,749,750,751,752,753,754,755,756,757,758,759,760,761,762,763,764,765,766,767,768,769,770,771,772,773,774,775,776,777,778,779,780,781,782,783,784,785,786,787,788,789,790,791,792,793,794,795,796,797,798,799,800,801,802,803,804,805,806,807,808,809,810,811,812,813,814,815,816,817,818,819,820,821,822,823,824,825,826,827,828,829,830,831,832,833,834,835,836,837,838,839,840,841,842,843,844,845,846,847,848,849,850,851,852,853,854,855,856,857,858,859,860,861,862,863,864,865,866,867,868,869,870,871,872,873,874,875,876,877,878,879,880,881,882,883,884,885,886,887,888,889,890,891,892,893,894,895,896,897,898,899,900,901,902,903,904,905,906,907,908,909,910,911,912,913,914,915,916,917,918,919,920,921,922,923,924,925,926,927,928,929,930,931,932,933,934,935,936,937,938,939,940,941,942,943,944,945,946,947,948,949,950,951,952,953,954,955,956,957,958,959,960,961,962,963,964,965,966,967,968,969,970,971,972,973,974,975,976,977,978,979,980,981],\"words_sis\":[\"choice\",\"year\",\"etc\",\"years\",\"rolling\",\"stories\",\"trump\",\"looking\",\"brain\",\"e\",\"proposals\",\"thought\",\"frank\",\"hearing\",\"meeting\",\"nothing\",\"model\",\"bruce\",\"guy\",\"room\",\"sometimes\",\"city\",\"months\",\"docs\",\"read\",\"different\",\"compelling\",\"least\",\"since\",\"top\",\"lemonade\",\"almost\",\"gpus\",\"dance\",\"p\",\"bought\",\"keep\",\"sentiment\",\"friends\",\"band\",\"new\",\"underrated\",\"icymi\",\"many\",\"non\",\"data\",\"floor\",\"game\",\"factory\",\"beloved\",\"saved\",\"pics\",\"context\",\"took\",\"count\",\"movie\",\"countries\",\"dc\",\"wut\",\"rape\",\"standards\",\"slack\",\"yes\",\"called\",\"topics\",\"caesar\",\"silly\",\"sadly\",\"canada\",\"research\",\"food\",\"upcoming\",\"til\",\"tuned\",\"position\",\"goals\",\"university\",\"booth\",\"learn\",\"slow\",\"men\",\"_\",\"instead\",\"believe\",\"easier\",\"c\",\"course\",\"thinking\",\"real\",\"g\",\"knows\",\"ff\",\"aw\",\"run\",\"drive\",\"making\",\"give\",\"omen\",\"interview\",\"hail\",\"posting\",\"like\",\"published\",\"kid\",\"felt\",\"remember\",\"play\",\"reviewer\",\"constraint\",\"talk\",\"session\",\"crypto\",\"webcams\",\"directly\",\"explains\",\"wow\",\"sustainable\",\"weird\",\"excited\",\"used\",\"war\",\"probably\",\"outline\",\"maybe\",\"passed\",\"season\",\"holy\",\"bus\",\"june\",\"take\",\"cool\",\"power\",\"voice\",\"mac\",\"spending\",\"even\",\"way\",\"reports\",\"wearing\",\"python\",\"openstack\",\"stop\",\"evil\",\"finish\",\"middle\",\"round\",\"tells\",\"learned\",\"google\",\"seattle\",\"shout\",\"r\",\"reading\",\"stanford\",\"figure\",\"interesting\",\"happen\",\"engineer\",\"well\",\"setting\",\"character\",\"use\",\"opening\",\"design\",\"immigrants\",\"special\",\"rds\",\"put\",\"software\",\"edition\",\"chair\",\"simulation\",\"anyone\",\"value\",\"easy\",\"wrong\",\"week\",\"haha\",\"diana\",\"involved\",\"education\",\"professional\",\"decline\",\"things\",\"details\",\"toyota\",\"question\",\"dude\",\"end\",\"view\",\"giving\",\"oh\",\"still\",\"myth\",\"award\",\"places\",\"reilly\",\"everything\",\"coming\",\"future\",\"athlete\",\"material\",\"conduct\",\"meet\",\"break\",\"phone\",\"thing\",\"time\",\"instant\",\"fast\",\"favorite\",\"review\",\"error\",\"teams\",\"groups\",\"continues\",\"portland\",\"hands\",\"science\",\"missed\",\"fine\",\"lunch\",\"la\",\"article\",\"baby\",\"battle\",\"perf\",\"guido\",\"friday\",\"due\",\"intermediate\",\"invitations\",\"petition\",\"youtube\",\"website\",\"place\",\"always\",\"lot\",\"fly\",\"added\",\"victims\",\"agree\",\"perhaps\",\"side\",\"dinner\",\"ppl\",\"twitter\",\"class\",\"neighbor\",\"source\",\"smile\",\"switch\",\"go\",\"lady\",\"hi\",\"classic\",\"training\",\"starts\",\"miss\",\"red\",\"spent\",\"understand\",\"try\",\"tomorrow\",\"updated\",\"hard\",\"lose\",\"island\",\"feature\",\"congratulations\",\"forward\",\"publish\",\"dollars\",\"sweet\",\"enemy\",\"discussions\",\"pass\",\"rt\",\"feeling\",\"minutes\",\"editorial\",\"event\",\"point\",\"make\",\"strange\",\"space\",\"beginners\",\"story\",\"clark\",\"first\",\"happening\",\"case\",\"great\",\"foot\",\"changed\",\"donated\",\"public\",\"knew\",\"basically\",\"family\",\"shirt\",\"station\",\"pride\",\"seemed\",\"reason\",\"lots\",\"sunday\",\"strangers\",\"pop\",\"crazy\",\"explain\",\"wanting\",\"big\",\"send\",\"bid\",\"history\",\"bad\",\"syrup\",\"congrats\",\"much\",\"nominate\",\"served\",\"book\",\"tools\",\"peer\",\"sending\",\"stay\",\"v\",\"<number>\",\"person\",\"turn\",\"heck\",\"think\",\"level\",\"hoping\",\"welcome\",\"pro\",\"seeds\",\"yet\",\"omg\",\"attacks\",\"exciting\",\"pictures\",\"knowledge\",\"launches\",\"become\",\"school\",\"l\",\"worried\",\"grant\",\"blog\",\"wish\",\"reminder\",\"huge\",\"role\",\"touch\",\"front\",\"proud\",\"something\",\"also\",\"terrible\",\"personal\",\"seconds\",\"em\",\"code\",\"community\",\"ran\",\"yay\",\"collaboration\",\"change\",\"heart\",\"loved\",\"requests\",\"thanks\",\"pre\",\"modern\",\"database\",\"device\",\"hours\",\"stack\",\"environment\",\"register\",\"deliberate\",\"cc\",\"commitment\",\"piece\",\"behemoth\",\"redesign\",\"pm\",\"conf\",\"ballroom\",\"auction\",\"email\",\"waiting\",\"san\",\"books\",\"made\",\"sleep\",\"bed\",\"credit\",\"risk\",\"honestly\",\"scaling\",\"enough\",\"valley\",\"driving\",\"hand\",\"create\",\"include\",\"listen\",\"impact\",\"tea\",\"technology\",\"gustavo\",\"f\",\"feet\",\"following\",\"js\",\"eating\",\"isc\",\"problem\",\"form\",\"awesome\",\"share\",\"security\",\"debugging\",\"saying\",\"ever\",\"diverse\",\"equity\",\"one\",\"important\",\"lights\",\"black\",\"amount\",\"goes\",\"looks\",\"shit\",\"turned\",\"skills\",\"sandbox\",\"hpc\",\"url\",\"junior\",\"listening\",\"huh\",\"enjoying\",\"info\",\"lovely\",\"truly\",\"scale\",\"account\",\"diane\",\"yup\",\"helpful\",\"left\",\"tried\",\"gets\",\"home\",\"idea\",\"thoughts\",\"guys\",\"css\",\"breath\",\"recommend\",\"lines\",\"anytime\",\"head\",\"th\",\"away\",\"crash\",\"female\",\"tweets\",\"nginx\",\"name\",\"post\",\"h\",\"panel\",\"america\",\"sqlite\",\"glitch\",\"long\",\"words\",\"familiar\",\"company\",\"delightful\",\"gaming\",\"high\",\"leave\",\"hey\",\"application\",\"see\",\"hoodie\",\"best\",\"beyond\",\"development\",\"http\",\"let\",\"someone\",\"computing\",\"girls\",\"kids\",\"images\",\"flask\",\"web\",\"guide\",\"weekend\",\"pretend\",\"seen\",\"access\",\"came\",\"talked\",\"clearly\",\"say\",\"saw\",\"little\",\"days\",\"slides\",\"met\",\"perfect\",\"management\",\"month\",\"mark\",\"part\",\"htt\",\"polite\",\"works\",\"set\",\"links\",\"without\",\"thx\",\"lawyers\",\"teaching\",\"hope\",\"lga\",\"stuff\",\"guidelines\",\"list\",\"cute\",\"user\",\"apple\",\"video\",\"sans\",\"projects\",\"luck\",\"emotional\",\"started\",\"journals\",\"blast\",\"need\",\"mail\",\"literally\",\"yeah\",\"student\",\"nd\",\"support\",\"photos\",\"mysql\",\"whose\",\"enjoyed\",\"rain\",\"distributed\",\"incident\",\"onboarding\",\"full\",\"others\",\"never\",\"teach\",\"invitation\",\"pay\",\"found\",\"takes\",\"check\",\"programming\",\"tech\",\"playing\",\"hour\",\"though\",\"shared\",\"photocopy\",\"second\",\"given\",\"wants\",\"far\",\"postdoc\",\"advice\",\"would\",\"plus\",\"insane\",\"locke\",\"via\",\"whole\",\"page\",\"cs\",\"liked\",\"sf\",\"work\",\"command\",\"camp\",\"world\",\"closer\",\"repeat\",\"quote\",\"police\",\"gt\",\"us\",\"old\",\"table\",\"keynote\",\"look\",\"yesterday\",\"ridiculous\",\"join\",\"sends\",\"art\",\"hello\",\"workshop\",\"supportive\",\"crap\",\"systems\",\"paid\",\"program\",\"bar\",\"soon\",\"visit\",\"experienced\",\"life\",\"dev\",\"experience\",\"social\",\"related\",\"whether\",\"product\",\"candy\",\"note\",\"stats\",\"wear\",\"ignore\",\"mid\",\"done\",\"message\",\"dad\",\"intro\",\"thank\",\"birthday\",\"challenges\",\"blue\",\"jeez\",\"tell\",\"women\",\"meant\",\"write\",\"speaking\",\"linux\",\"advocates\",\"fuck\",\"outside\",\"short\",\"ago\",\"actually\",\"talks\",\"dm\",\"outreach\",\"random\",\"please\",\"kate\",\"get\",\"lost\",\"machine\",\"q\",\"mentoring\",\"oil\",\"house\",\"told\",\"francisco\",\"qgis\",\"longer\",\"trying\",\"child\",\"sad\",\"million\",\"single\",\"obama\",\"ploop\",\"sorry\",\"atomic\",\"lightning\",\"proprietary\",\"love\",\"mad\",\"tonight\",\"good\",\"needs\",\"find\",\"bullies\",\"conferences\",\"apparently\",\"opera\",\"compiler\",\"car\",\"monday\",\"yep\",\"files\",\"beautiful\",\"ate\",\"users\",\"programmers\",\"eee\",\"computers\",\"played\",\"next\",\"glad\",\"running\",\"com\",\"critical\",\"decide\",\"apollo\",\"line\",\"turns\",\"finally\",\"coursera\",\"says\",\"journal\",\"sign\",\"internet\",\"documentary\",\"explaining\",\"nice\",\"people\",\"follow\",\"practice\",\"comments\",\"day\",\"speakers\",\"happy\",\"communication\",\"decent\",\"back\",\"production\",\"hires\",\"gun\",\"news\",\"diversity\",\"sick\",\"tim\",\"body\",\"doubt\",\"photo\",\"near\",\"super\",\"u\",\"wonderful\",\"quick\",\"colleagues\",\"accessible\",\"every\",\"open\",\"less\",\"restart\",\"muslim\",\"wait\",\"students\",\"recruiter\",\"often\",\"wifi\",\"everyone\",\"mishka\",\"hear\",\"start\",\"bitcoin\",\"folks\",\"maple\",\"memories\",\"nearly\",\"incredible\",\"tutorial\",\"b\",\"party\",\"toronto\",\"mean\",\"kill\",\"fun\",\"last\",\"job\",\"want\",\"totally\",\"innovation\",\"satisfying\",\"wrote\",\"using\",\"chocobo\",\"free\",\"writes\",\"guess\",\"performance\",\"could\",\"pycon\",\"group\",\"went\",\"ops\",\"cat\",\"pretty\",\"numba\",\"restricted\",\"w\",\"taking\",\"okay\",\"amazing\",\"skillshare\",\"heard\",\"based\",\"later\",\"cuda\",\"volunteer\",\"fought\",\"calling\",\"together\",\"else\",\"heading\",\"law\",\"emoji\",\"live\",\"cost\",\"fight\",\"mobile\",\"call\",\"storytelling\",\"infrastructure\",\"yoga\",\"know\",\"mostly\",\"dear\",\"key\",\"system\",\"psf\",\"factors\",\"x\",\"add\",\"lol\",\"orlando\",\"technical\",\"help\",\"lt\",\"app\",\"weeks\",\"hate\",\"penny\",\"tribute\",\"makes\",\"woman\",\"textbooks\",\"interested\",\"amp\",\"search\",\"deploys\",\"christmas\",\"late\",\"angry\",\"jenkins\",\"ready\",\"board\",\"bit\",\"director\",\"show\",\"buy\",\"man\",\"might\",\"tutorials\",\"mention\",\"tho\",\"right\",\"ed\",\"west\",\"music\",\"got\",\"investing\",\"holding\",\"sea\",\"jack\",\"remote\",\"meetup\",\"saturday\",\"talking\",\"taste\",\"another\",\"watch\",\"tower\",\"friend\",\"languages\",\"generation\",\"morning\",\"deadly\",\"times\",\"better\",\"bring\",\"rust\",\"hiring\",\"song\",\"money\",\"names\",\"overwhelming\",\"directors\",\"finding\",\"lack\",\"wake\",\"plan\",\"tfw\",\"said\",\"announce\",\"seeing\",\"exercises\",\"versions\",\"picture\",\"conference\",\"hair\",\"fantastic\",\"project\",\"scores\",\"word\",\"come\",\"paper\",\"watched\",\"written\",\"runs\",\"exact\",\"honored\",\"feel\",\"three\",\"success\",\"submit\",\"definitely\",\"diet\",\"nvidia\",\"getting\",\"sure\",\"log\",\"learning\",\"wine\",\"watching\",\"state\",\"terrifying\",\"windows\",\"building\",\"planning\",\"openaccess\",\"two\",\"may\",\"platform\",\"jail\",\"pays\",\"surprised\",\"behind\",\"seriously\",\"kind\",\"posts\",\"uk\",\"god\",\"helped\",\"around\",\"mission\",\"plugin\",\"outage\",\"hack\",\"true\",\"https\",\"driver\",\"hamilton\",\"night\",\"going\",\"computer\",\"really\",\"gone\",\"working\",\"explained\",\"telling\",\"knowing\",\"team\",\"today\",\"simply\",\"glass\",\"past\"],\"x\":[-15.223411861016109,-19.8547755082947,-2.639826070586985,-20.193361529202722,-12.211697274061258,-1.0687377440171346,17.368273660195538,-22.106289146895215,-9.36108983187967,-5.0031497374002285,8.078709210602375,-17.586915229986165,16.363176938402656,-18.246451964945503,-2.401796594290616,-23.186248912137046,4.295275069265819,16.732284365658092,-28.866340844436962,-11.956459653223348,-20.827243733562323,3.3194029439953407,-20.475510848520134,5.665114399263396,-0.02376485555454244,-25.681754299348125,-5.0373239089667905,-19.58124518633297,-16.954555583675006,-8.829247208215362,-9.316955582602862,-16.07168278745867,18.629094087622846,-10.482076440814373,-4.349228029248104,-12.860451371030333,-24.170110900841053,5.042686182048205,-28.99282036350858,-9.98792347311768,-14.749343605652268,-14.066061035631991,3.7712962147585123,-26.069395855298396,-5.269661017284187,7.0467094719525925,-11.148695806577564,-14.4102443972189,6.0846376676733875,-22.441533368290937,-13.556708745093854,-0.10345613755587069,-5.086663128300212,-15.112062979399443,-18.85371688361585,-10.149308287427532,8.762940015085883,1.2969561759993227,-12.051701832975604,-6.383703015500715,0.4936904017635147,-10.882009057958605,-26.823102894575246,-17.305305898606008,13.36992208267689,15.137249924903516,-9.815103981449221,-15.438853695483772,-3.9385976808508447,6.022350413623611,-11.944096472992745,-0.20412959508663042,-22.677733611353364,-0.7076176986937139,-5.762999218890405,-2.703885581256964,6.231478380312699,-2.0914850540242806,4.666789143590267,-14.900706577361014,-12.302706494009591,-5.201026616265319,-19.904688776309683,-24.81726461328908,-19.405252473511002,-5.092998781330278,-4.840029694803874,-20.239556444535804,-27.598567301585557,-4.915641497620234,-22.23925811503495,-7.357708816612035,-26.80738989283201,-15.667372337475287,-12.426042822465776,-20.640880672950733,-22.3186065902637,16.498359688782728,-1.6258056517915558,-7.1323351589156605,2.368869883453278,-22.68336521798518,1.8727393977206577,-28.505227398560276,-15.241287865227575,-17.897915111153175,-14.13712088846457,14.139886586590054,16.800718659064,-20.828654920141673,-2.1025806878904856,16.688619577213814,19.352438995454694,-10.40129897710024,-6.140454010408489,-26.583005956427183,10.093850566239079,-7.836346585978333,-22.74354122895448,-11.499993362359758,-4.303426656487911,-18.069731035249124,0.9576055420416602,-20.37735894337894,-14.972879664029435,-19.129426030742017,-11.882893917096256,-10.524694187064503,-17.186628464573733,-22.055997569588133,-21.214500929199,-5.619119932097879,-11.412048262075205,8.208605581626985,-10.099914588611583,-24.296725657445666,-23.709361540610153,4.191424957464112,-13.864626794819387,14.48181176997495,15.968578813626818,-24.62130691830475,-9.331581348114945,-8.787010120828528,-13.263537659213679,-11.978378876000537,-7.689259719954179,3.7554614272465914,6.915157725225336,0.6504028307740981,-16.780495964465374,-6.262581166636966,0.1807331465050076,5.583474907959612,-4.803755617445453,-6.833955183047814,-10.236945893686874,8.997349560811251,-24.690248863047724,-6.451339180731792,-1.3419109622678727,-11.18161511297446,-2.981043903072276,3.847591152851075,9.833259142396951,-3.2750212723311005,18.932964947593305,-21.658242471424302,8.654728270767396,2.2991092681293166,-10.64629189796728,15.653972154240762,-23.00182284885792,0.8861866494249546,-15.415198954356596,-21.891215717946864,-19.35977214278467,-27.991314066643483,14.194778041405666,-0.5707390063754861,8.47624816429986,7.405415557804424,5.389842133437998,-24.020006340446145,-0.2499039958132554,13.951252335700957,-7.854145945490629,-28.86865674432587,-18.352322884363023,1.4677832744329256,-13.923402014542793,-27.009325671910076,-22.66142081503952,-4.68931493398921,-14.247148737560703,-7.578752348725401,16.377559773673934,-23.576770213209347,-21.323867899499373,-9.300926092144065,-4.856792645070019,5.3551235510841595,9.097619273523106,-23.630575143359394,-18.504489936304317,-1.5272683118841788,-23.61011884806866,-19.00499501216831,-2.7075672345628155,-15.06047521427326,-18.108314450082027,2.7683912264498365,7.788037034248998,-15.059492907764554,9.20117728397284,-4.355489518716782,1.6646149677042317,-10.601622820379331,7.1596196974909265,-16.52718742437771,-26.69402454207188,-12.486292290627706,-2.8391549707346067,3.114871926712401,-24.230199258994347,-4.622003035353718,-18.40023366931948,14.395105656558947,-18.023723940709697,-25.527312748231655,15.307824811600135,5.721142288819671,10.82826010060536,4.528585791129397,3.8076495099530927,-7.520684368316606,-23.373496508010387,-25.328053786093484,-15.609641781226802,1.2967760613508197,1.0446198692693844,-17.37400777978443,-15.71333909707512,-11.57871897266098,-12.484735499115565,-27.878084148546087,5.181101623983506,-7.371752274156579,-13.227115024269946,4.963571134761536,-30.388674864150424,-7.132376808166693,-21.64357841741903,-11.566078698331786,-22.993312181677847,2.2831628565734707,-6.40136268101214,-18.143153669389463,-25.222933042325646,-12.702062826964868,-10.12662668078022,-19.524923901579875,-21.33339793033159,-18.679920042522102,1.3711474763994405,-25.283023837241497,-17.66930282816854,4.815165405750771,-0.03417715159636758,-18.849630188981752,-20.8384530042749,2.5229123099383712,-2.305475964770722,-22.95839544781862,8.335658048630606,13.22748375007836,-16.263123355883085,-4.651447160414373,-28.487557729476542,-22.39319544616241,3.73396212901424,-2.4895295673070126,-6.626958810336668,-22.21789532204969,-7.430845373817692,-4.544487813988374,11.625601943925588,-1.40511449228078,16.705781422039934,-19.647533803348576,-10.189976506755064,-7.332325088404112,-20.501262628945074,-9.84823716445348,-12.996092326935445,-3.334008066955342,8.464257017226725,-17.115511752625576,-16.99516550177927,-29.114740242363645,-13.169591343484708,-10.218962087654074,-14.155081613035769,-15.215468237011185,-21.741621489293273,-25.842556005752535,-18.055678057565572,-17.645964794615548,-10.074532714528043,-26.615431346098944,-19.31247974041104,-20.648170983290928,-16.723635522210394,-0.5858935322248026,-3.0514243266676258,-1.158424778954332,-26.822771814849226,-8.51887187521615,-19.015530689201313,-25.254315240766417,-0.18130221231290614,-12.786356936394201,0.2599933491242319,9.645568179992084,12.684644996459431,-2.309241128524533,-24.112252598768315,-5.695507537972502,-7.137592309899923,-23.549704141519143,-16.38331544403291,-11.917823715228522,-21.821603011288353,-6.518916561666294,-21.521252593696005,-21.36892748756773,-3.6933008879661067,-7.695192703896238,-24.67792988668224,-26.635516118519973,1.486190844669892,-6.756778591887407,3.7686555217657762,1.7517415536279763,11.811296043714526,-20.518193362063695,-7.756465502197,-5.782725229751058,-15.287293276202776,18.05570812755591,4.021332915207347,-22.888324114420087,-4.226530668394706,-16.77394334277248,-7.163810868468435,-9.817711751700156,-11.322560276776546,-18.712221885783055,-23.224841434176177,-21.814212345786387,-3.716747537611229,5.6902989340729295,-22.693262372023586,-2.8662152166659944,2.580042093607849,9.559457635173084,-14.57072951089204,-25.91111377076145,11.495928522160202,-8.952941491128534,-30.37313148416502,-15.685150524698317,3.085530128088566,-20.896013363005864,-4.824123923352833,3.7521296413689145,7.48998090483761,8.47943191750695,-22.11253470825053,-2.7093324435280075,9.883676081135288,3.1554908710539804,9.272106416461012,-3.860842179515294,0.37492716433112977,0.31626859554451126,18.906160543326777,13.047507380980116,-16.482960168987184,13.393152501949462,12.548855609602136,-2.3826301026977528,1.2052378056369568,-22.177495025703983,1.9328106269311687,1.5651706183828222,-20.609967924918017,-30.320791764933862,-30.313553987260946,0.003421436497252253,6.386663940256968,-18.64458980876183,16.677286916658513,-24.270921928047787,3.5557809609832134,-12.230173204981597,-10.483350567705317,2.6181584785415537,0.8058174243357579,-12.136087612833336,5.830519385562423,-9.924430666271748,11.163569033283062,14.18929995131868,-6.129933159157568,-9.787875831491654,-16.496903155762297,-2.58232714381468,-19.38682548974164,20.843981880475493,-25.822901809501378,-4.336843112588484,-19.853359073217632,0.07341177101107582,6.6650238906001675,15.038762119356198,-19.518088718517077,-23.84609827628227,14.593426162294998,15.906427867343155,-25.29394874878019,-8.25311171089649,-15.619406094050548,-11.091088806584251,-12.588041527627434,-12.796265462723692,-22.243634428284913,-28.040524398718482,-14.571755570123159,4.494854829534075,15.957540543880432,16.245249491450572,4.5360113672415645,-7.714687894317813,-12.29482520098666,-27.45659790008805,-14.331377632628556,1.8130986405918756,-21.32140972328421,-15.574847642786693,-4.5766670412754715,3.830138799983956,15.915647605697039,-27.061083737824763,-3.104854813132129,-15.650363651129483,-18.769409206744474,-12.525298506885298,-12.859928302083059,-3.66807358712003,-24.1934007124017,-26.804417406934682,12.830818813770417,-10.741809011742312,-15.515188009400541,-8.128023296171552,-23.77914127670016,-11.196558276365911,-17.656335149386855,-20.95962382634153,1.9664536562361343,-8.175144706948776,4.93205467223628,16.0520665297517,-11.892149344195948,-0.33717400414236476,-5.501344232087632,4.52444856849542,-4.741468996360057,16.40327154000593,13.335576284058632,-17.282248144506475,-23.55478520591942,5.683727140674294,7.309450843251264,-5.316892480745345,9.832686428661866,-7.147058176153691,-21.48473070691299,-23.278520816651202,7.8997606048996705,-23.206746664560967,-13.108904803413603,-18.992507367541105,-14.425835845975232,8.92930757598798,8.263084345603241,-22.465675874988253,-23.357850460273117,11.112135226001447,-27.005876914397078,-27.86355812044233,1.7777454015114826,17.235425765011986,6.0169169567591405,2.7654039993133575,-18.811519432414492,-18.68271198276442,-16.634145219152494,6.601317184851887,-16.774487603183946,-16.35932062946863,-16.268861242755506,-21.57535938530381,-16.695344305138708,-26.694493507413643,-20.523992528081894,0.6400709842101435,-24.332712532551245,-19.472846313945183,8.783227990374392,-19.677798163755032,17.286755578936084,-3.178267146321699,8.271175401015116,-3.6962625875736417,-15.963162441314124,-7.821592777352285,3.6021774167493703,-22.259265605089105,-20.715651233741315,9.741396395781091,6.537451115756307,-22.504206846451538,19.994803127038743,-24.744057709240266,9.355510039604262,0.6826400182943528,-22.778583786151653,5.285753013858739,7.912080562314867,4.347030645341226,-3.152141782639327,6.448046200571434,-19.70631713587488,-8.199910311481652,-16.25324575459869,-4.19573945910864,-13.872607523580733,-22.26752290594419,0.7724686818126407,-17.62262768048503,-27.047795617896575,7.596473716161705,-17.407033956571315,-12.83260409989259,1.7678265926438088,13.651041428216494,-13.705683156328712,-14.439799949936129,-13.985390952409933,15.949915670789492,2.9912392721112733,17.720623927863834,-7.696724910437504,-26.489572858547422,-23.906995663669374,3.5025426254723953,1.8640929254730576,-1.4978228617040625,-15.075661963975556,-12.493704206029001,0.6118259427136128,13.30672728592307,9.786751287882003,-13.86190988676877,-21.678421495089854,-24.714812538574737,1.1986833705897268,16.742270886852744,-19.4220685360493,-13.805290720326907,-10.929715576388057,-25.122359964284776,17.47190942349721,-2.888629316421006,-22.36628960416162,-3.1805047129054027,-13.709411123110234,16.624177440989847,2.8976096480542455,-18.567667956875393,3.289155805235114,-3.0574516011439514,-16.422789162324776,2.7695631322566077,-17.58117371050307,8.535143168163545,-5.7889610890665395,-5.264787454481947,-20.339928377005354,-18.265183893188333,-1.1174076955546786,2.7845053020882267,-4.214886090240212,-23.06969005211777,-27.821794331907782,-10.61676506144724,13.557409484127618,-22.204106627983855,-16.6181815394117,-13.269134245029997,-0.9117823273715702,-2.277642885992359,4.131330897542111,-22.71262605323552,7.396777569434401,-3.5333279681732694,-13.007477094271945,7.775190798589638,-2.025368951172881,8.057288249207303,-8.378810825608719,-21.926970252203606,-0.9332283798391052,2.7122238194488646,-23.882190616042966,10.448398889042167,2.2213535364568875,5.848500689671517,-0.4399567788206577,-17.00641937835713,7.289614148158315,-9.730888349013568,-0.9362839691572975,-2.4866128764672086,-13.902466674022884,-19.266137082946834,-8.661466444632087,-24.5528712015412,-0.5876034794314002,-28.707260703459237,9.972561277898318,-20.78870109867014,-23.90223447902975,8.064752797779247,-9.488446793906498,-11.686078527266101,-21.247162766972632,-8.327530009272332,-16.697042164437097,0.692133169440872,6.50229414162292,11.955084813915787,9.964605974962966,-28.11813488290346,-13.564847890587558,-17.04820279163412,-17.06406607595123,-18.3070057525156,-7.455579999213776,-0.04814159189667512,11.136517074074286,-8.32516557191797,-14.586196839839952,14.006362104668158,-20.319785130974076,-17.26750600851676,-5.400969125229267,-3.7800658353132928,12.060703815093154,6.7280877307640115,-12.440238367367655,-18.404020737996817,3.0561393447664154,17.74689538439386,-19.78806790155874,-19.82277645701181,-7.3036275731829505,-27.28685314356332,-2.4735267486449555,-17.55623684985659,-8.017710864114784,17.390259017978305,-28.057513823248705,15.151474310872137,-6.052223536592705,16.917452827343176,-25.056736157168192,-26.601624716934193,-18.741973961778054,-20.89250384874001,-10.933854781330908,-22.53151170376934,10.70885781509681,12.86225227247568,-16.44049529664483,9.4482908776175,15.991236547074948,-11.238571197855824,-17.803844577510667,-26.607502053124332,5.760068932142339,-21.458020985113535,-16.4029689678736,5.751998647164121,14.098691480287513,19.08912243600374,7.92901870173388,-14.007882772933987,-20.2280844403537,-17.753041089772967,-13.375770745049781,-2.9717550376178767,6.3506224053528495,-17.438403446651176,14.232742401132311,-8.061283057175975,-12.805297327931623,-23.18630547711036,18.390041224393574,-7.793856488727312,3.2186309927142527,-3.343847663668454,6.240145359304375,-1.1131553537368566,-6.302254163642693,-21.35362875015544,-27.055106814773875,-15.691903115202482,-6.739357383053792,2.9843065958716446,-19.705479297565525,-0.13322247803126208,-23.894737387062715,4.840974830180371,-13.795851102154119,-16.07640992906661,7.3996107521541195,12.421526750855035,-5.733758515106243,2.624159797519956,11.090071120416006,-27.276630899866095,16.602654840607823,-9.46094577061799,-16.53512246050617,1.6698354951810555,-13.54970674493734,-8.624998437110595,-6.202682433679373,-21.072724111716376,-15.329566005107342,10.337993380103018,14.902352989781354,-18.750725190164626,-3.344057008016087,-19.90239843630492,10.975955321926051,-5.675435537830044,-22.29058402120506,7.675346407345054,10.054414219059868,-20.50908810905258,6.44768477555722,-24.815953800488845,17.244114199014877,-18.21501403806881,-18.774872660808704,16.16608942436243,-28.017620589513307,-8.425943262870858,-19.093221869264475,-15.82435491698924,-20.114559632650014,11.497146224047592,-6.376715650507011,-16.886082405300723,3.5182959018241418,-22.330885286266607,-25.736818078196645,-20.290480545815925,-19.537403761040924,8.207857824354038,-22.799468626690913,-17.293247886027068,10.573041990564047,-5.198895642150644,0.6959408113582839,-11.09748723078919,17.514290609810786,-0.43909354983762794,0.41675509016270135,-20.362149862620562,-13.754418127941994,-22.080605104657483,18.996513011075866,9.013518727801955,-14.102603753951461,10.003493265282925,-29.666270361745347,-22.19940397750808,-1.4145168249929851,17.234200500630898,-6.292871412819282,-14.764592001525111,-27.916673385311256,-20.0187166969983,18.764594574479958,-17.167790300214353,-0.3835592985992674,-22.933444439854643,18.498461224649375,10.178575534726308,-12.096785642101748,-19.631171978408876,-23.746409415559214,-22.6436205130004,-14.483756006287258,7.483047417507259,-8.515306688219885,-7.73911524658397,-0.0926835171187187,-4.828526676712547,7.221692752144354,-20.604438284263487,11.969790756702421,9.498438678403193,-5.850418196469842,-22.680753238557745,-15.162396821364705,-22.44614054148605,-5.797306831795608,9.01454319298574,18.75710219910519,6.875320946781992,-4.730703679162462,0.20583545784022456,-27.93321914261592,2.4434581179842327,9.493251469126195,-14.312612384934438,-3.0174659130031207,6.779717361459951,-20.53083493360291,-27.624534120671665,-1.3224734884596254,-1.1569922798293137,-21.009619060586427,-8.220960496121474,1.6464878957825717,-16.336124958950407,-1.4926716325587335,5.760254186055054,20.076189984984783,-20.39081406378435,-22.953634147378818,-9.49470860682616,16.684923338924957,-21.56870268025211,4.736045328422851,-26.655358067801426,10.862521941000093,-7.705673944542601,-12.719894973462454,-29.18543266082039,-21.75469988172357,11.605873818284447,-0.47918867632716383,-25.92906448392735,-24.305750484677453,-5.550564895284026,5.888651008428537,-11.476456333804691,-19.870239401490114,15.894432266876697,-11.370984370186333,5.617738290601234,16.838999614061866,8.879717367231352,12.345799798500224,-17.928406584603426,-19.953979505303167,-11.208654598659402,-19.91350188478672,-18.213552848581287,-5.159871829711896,-29.203926001900623,6.96567513161525,-3.036365372582026,-19.071245643569817,3.581667201528571,-18.899833786772056,-23.069593617317746,-22.450698393745395,17.782557075190798,7.132951409986068,-11.455994942427596,-1.2272551380659062,-11.869705213149723,-0.5713690812904724,10.735901837253968,-20.678933631606665,0.2567215840646934,-30.198793988590754,-3.174837472951725,20.678771683892137,-17.50157104792384,-3.157948485858335,-19.97578716801758,-5.369629658804292,0.9791431159010985,0.9106297581897961,13.320622295832676,-23.06833979534808,-20.32529456129861,6.63110907021576,-2.6445265664713182,-23.217640943020967,-22.11240776425798,0.6665956452489694,-16.376548431025217,0.8137607218182925,-12.663109603410213,-6.515386264893963,-0.5687389329409871,-28.356893166963157,-22.63607031826484,2.057062747803868,2.6163568366970007,-17.6773687065941,-10.109671471697457,19.961168468266536,-19.92242660900023,-20.196596302555943,-2.8447333878361256,4.278615727340659,-10.123646462543753,-18.084973907575964,6.058958101163598,-6.551991450163245,8.892198446778796,5.97063545907221,-3.043291107103422,18.040282254994526,-22.145992796962112,-20.308394171659998,11.237004575235144,-6.2402332576843556,-1.1459309353497797,-15.624564110819938,-12.448125781220558,-18.62117704633049,-22.326705183928652,2.342646769195798,-3.8924784790340534,-27.660121118865327,-13.83142113481662,-13.068897631014327,-3.878503052735911,12.51074223333552,2.736334326931672,9.822151027203684,-27.325803972634613,8.305586351681036,-11.883126742534662,15.930152195518989,-18.901221461303827,-20.646572345088575,9.241949890201035,-22.563372391086354,-19.705479317519867,-16.919668486000056,-5.314610822950162,-19.570314340087123,-20.6345305251309,-15.744008180823782,-19.251742368644837,-15.67090393925669,-10.16767330101614,-18.325996991018854],\"y\":[11.716780010963168,-0.0089195116827121,14.09967681270916,-0.892087563343497,-6.088358962642659,-5.311933539903032,10.298477479838839,4.336702214297591,-8.306180798846004,19.590542550034883,-11.56217078345852,-13.242646589607036,11.973773334435238,-14.619176638357605,-1.5151325688644195,-16.459669687061567,-1.1406186141023922,11.568765226083435,-7.6348185989260395,-3.3089141871385426,-19.283164768346534,16.196465794021158,0.1566194911833978,0.2499175358235909,-7.280075855636847,-16.94361484581758,-20.14383860897025,-10.670841179927784,-8.645924821918603,11.307911840766888,4.361547553745682,-9.828465831991739,3.6382427764866163,10.187090501885894,18.608431471480692,-11.180971546108651,-8.714953816497154,-13.231265873775472,-3.9309151881373854,9.852533689629507,3.3535065008773097,-20.028783109443488,-8.257872576677396,-16.5522361100964,13.108306548841481,3.7797017162334186,-3.6768755977266574,8.707371544409039,-2.3119735462712403,10.846942253867597,-13.663136650256718,10.565960630482047,-16.342689617459808,-10.336596124606178,-11.245751063847104,0.8428290057444617,-8.992570127442823,15.124668424632638,-19.820490266110927,-10.837234745837094,-14.605919593278164,-19.63035362171234,0.5201941508059982,-14.713473786008219,-10.152261454808283,8.174353630004067,-20.922628853447296,-17.946185175655565,9.590350460298081,-6.376690524579102,2.705275369285889,0.17436611699538984,-1.8115260811208176,1.4954497081569875,-6.286465691327286,-11.66854541597153,-7.669693195732485,0.11459275936626183,-19.296692095968638,-1.411720780787551,0.6496441972096425,15.446885358492,-13.398113234218956,-6.461480696419892,-22.135812106490064,18.04585266747709,-5.535925420140823,-15.974798492931852,-10.838127179307355,17.335666694097362,-17.64457101412271,16.033920816335353,3.4330158994604516,-4.389112695217688,-1.3435795326046878,-12.63180789322658,-8.709408634731702,4.945392773097178,-1.8604804177889365,-8.192009062472543,3.6382793130212114,-13.325292456600389,-6.83765777112689,-6.960143585492336,-14.64564117633099,-12.13109495129275,8.928730413877947,-4.563817810052019,0.23496142606811424,-14.718646336748082,-1.2801174694478792,0.8817476244381952,0.4527992934282935,-23.238805722776778,-15.817034865335444,2.602858210564145,-4.054416412472757,-19.665078197360923,-2.967716421057865,-12.71616994118398,-8.840369245608487,-16.14714112905195,-3.3127399403919435,-10.958135077166611,-9.862288318415372,-1.490870536943997,-21.040076848851257,-1.261862269634073,1.5621523399189532,-8.544614538477306,5.978059809966891,-3.282833943300726,11.678856465273046,6.433237725397418,-14.322240729556679,-13.556133331714038,-10.895670365403644,-10.446462406070793,5.415366608596653,2.894008493836471,3.0305060810646633,-9.153859471279018,-18.123376323616768,-1.8537120649184333,-6.687398515467055,-5.07144145160907,-14.947478330919582,-19.834060279788947,5.913064274119059,15.224974330216535,14.136416025364014,19.786387541731195,-6.307100148512464,-7.811593729536792,-13.66138054546551,-18.47034142438644,-16.323156651822742,-0.6052849667336868,-4.286132394399942,-2.142964012685174,-13.501734085580258,-12.619745469641355,0.46507486220742805,-2.6560527419015516,-10.160703664067242,-0.31108359571526256,4.2161877536483745,-9.14328245455511,1.0102161575251465,-3.054412875491112,-3.748364224122958,1.216413405165763,-19.639742314746172,-16.5228331392511,-1.8437557798041546,-16.493186886224446,0.9859358428095488,2.159653792268501,11.377903931850309,-12.754097145084842,-5.5347799120392756,-1.0911091439870277,-13.08903555451346,-15.748781672222755,1.5813933225521126,7.032803596877791,-12.517612599098598,-7.715258393263019,-2.518750022058631,4.4623736388895345,-15.36090805825341,2.1071199859004004,-12.25854462523979,-17.278147531024132,11.982107209952066,-6.673195653527944,9.541478096831844,-16.321826194477676,-3.0210342563079684,-11.388437958631007,-12.211382969645872,10.38129691092838,-13.565191596166622,-6.213462486162631,-3.0465200555838283,8.69527102636013,-14.704263851664843,-2.9116826071987103,6.793777005298229,-1.4092764355068352,6.741773201507689,-3.935829499167426,8.683441792446361,7.98177968327652,-8.116267113718,-10.75721161329256,15.179449577064815,-3.6136414308774434,-5.640300831001025,-10.825684999647073,-1.1995100956837053,3.899610044326444,16.626118053723104,-6.1568923079871505,7.076348154920465,-9.047115081819793,8.546753218035871,10.414866152367814,2.9838704616433054,-2.1420089269713567,0.7387496935027082,1.4844153456372702,-11.760742167312259,6.736785998801354,4.993524928898316,-6.588253061545163,-12.877540005786052,-15.634552715541695,-5.505752744420244,1.6246729856457116,-12.306245677235326,-18.06102516355426,-18.53813010389432,-5.455570205089947,2.3530705414879174,-17.27427548611618,7.783633591135967,1.8645420523794254,-17.533124006767505,-10.22921667116708,-10.513985483081955,-2.558477349388455,-6.775361889730525,7.875662335784401,13.891592374047127,-2.741063565744683,2.579578854941735,-4.920380908516528,6.588188591892221,4.9749885952382416,-14.297227647757254,-18.29512781979059,-10.521903802521118,2.3103749224146877,2.56048201920605,-12.174207695011066,-10.110354505050788,14.872749575268081,3.19750697080652,12.334490604463285,-4.960622646484514,-0.4489645117009974,-16.68770598257593,7.334229330329073,-15.149691541228352,-10.016172235297518,-3.3240451898640657,15.019186583898895,-14.261617056357924,0.619577028112217,-6.061860437892698,-0.09560993507448771,-5.997871640522835,-10.469683038586618,-19.671956769286066,-2.9321163589844663,1.0510927530377245,-5.2839825060680585,10.777432436580531,-1.943609907023044,-16.360645563433177,10.053555561687094,7.328365545428374,-5.213185867400945,-12.942497798529088,-15.741864549802605,-6.897586523094884,-15.617484474815601,-16.355384051326144,-4.949811081656316,5.753633229816726,-1.2650293678355633,1.7776256434175535,-17.01483023961748,-16.58852348466487,-15.757628678300444,2.187141296001557,-23.447324740922035,9.815651907076049,-12.57503384578238,-18.321806422584956,-16.631870286787095,9.898354141014243,5.995764242647572,2.736775937363012,-4.828559050012224,-13.3710028662178,4.723487671045871,13.26157165342208,-15.377903068765166,-10.091940297283035,-15.240813319059434,-5.390348074175539,0.55516479741285,-4.984559137876424,-8.699303394739143,-8.619273091229598,17.82541809261546,18.659987938435947,-19.231144756423163,-6.545134267798582,-20.19440026483674,-13.007503995063368,-5.240901379438776,-5.1914052656230245,13.11836653926336,18.926473631428017,6.316235592550958,-12.084854735496396,2.9899216363066174,-12.699620750191238,-18.362771830553385,11.889391806142672,-16.699083758454464,-1.045200589672055,-20.66584270090048,1.8226168664764173,18.029455073064963,-16.03423610910938,11.522480431085278,5.990180394444076,-5.351053792323147,-0.3677358536513713,9.906901904409406,9.668715523345238,-7.020493157955762,-4.753746534450475,12.68079720119298,-16.71280531163719,-20.286716407941874,-7.07105993114208,10.083205091170598,1.5329798499535556,19.833825618446948,1.9850234610723896,-5.885859731138204,-7.7503301676219,0.39254102642709,-3.5794999923653443,-12.667968013973631,-10.500292548774258,-12.76505353571064,2.2815808794486556,14.49263415050344,5.127236255824963,-2.3175468747493793,1.428788627241632,2.3991252162227816,2.265059093320453,-14.324799689269847,-4.147605474548307,0.3397161321595613,-13.496616704268337,15.052634450786275,-20.07913875501692,-4.310719882621199,4.111038842525877,1.85994003248135,1.8882914979000378,-7.910848607714043,7.790430450185655,2.525799106317801,7.076127020983165,-3.953132726547945,16.752843204207696,-4.975571138913187,-12.472039700481567,-3.3792842754516266,-2.1780266212999218,-17.49471720560328,-12.294418694607874,-17.12616714767374,2.1332248346860974,-12.551356745910898,15.048160095424217,-1.279215554728656,-8.212619392509303,-18.78741453450344,1.1316956669941765,10.390523443226387,-11.167074436514866,4.006467723854223,-1.4574049684259955,10.561003162940796,18.151025026349743,-5.672003784725132,14.291733792236379,14.391184634476204,-12.511122227889285,3.2510972774302416,-14.108478324838703,-5.309036352030044,7.477559169502932,4.322111810234203,1.4846578305650233,2.0777923233154745,-15.035352206683001,-14.134267654890127,-2.6832034350355167,-6.850697612595819,-7.393903296150241,-12.59523931031447,-6.369581562106717,5.649005018244873,-23.374405704665694,-8.902301621797918,4.70832752509011,-11.796006139473263,-9.332820928464145,-17.500672103501877,1.5612064653192435,2.336353568789205,4.1680699459602115,12.136122513487816,10.284334991849061,1.3397493780084049,-12.146209153708503,6.843373804212065,8.652888538166968,-22.12562145598704,-13.636101929215906,5.258338924208524,10.392538483400745,1.4621623550918954,-21.95824951209962,-7.987058635099338,-12.892472752089722,-9.4091050158022,-2.9109163691776723,-6.890581884697606,-21.12331250186705,-3.9108049276433965,2.5648141849595163,-7.621716358095049,-19.45586867795479,-3.4856076825033537,-2.0313431232881993,-6.445721388663316,0.12539795855318558,-7.483411987071757,-11.063494118233635,-9.853263065584926,7.962233572614305,3.1623755733093484,-16.927042401104206,4.340945341443414,18.196938338186285,-4.247749335966657,9.28148981056229,3.0421670755345858,5.054056798210098,-1.8337839032494034,-21.23968702761406,10.813033049493962,-2.4317445578254593,-20.393660155667376,2.653495761910872,-4.9038287688419295,-7.953636027392091,14.71090165497159,1.2094844965977194,-6.703272407745098,5.781274225199934,6.970615023854737,-22.22273942824424,-3.4576711131303344,13.476125446785527,-8.234562061290644,-17.651466353285677,-2.685856173709599,-4.151013706764962,-6.103498201328705,10.314166763510462,5.900842844455079,5.753193781506057,-3.8861901186032224,1.4089712999403323,-19.231430647360213,-12.52577144635844,1.5343639276720848,-7.923962671889319,-13.859558240801498,-16.63577850412804,-14.091744744454049,-12.465790882806687,-7.643185308408404,0.9330110622509729,-2.3079477883517505,1.6314898272170848,7.8395109648434635,-2.747322511940703,0.7836659198511642,11.776682013812152,-4.822851319044311,13.499232078685063,-22.75961450704093,-5.2694052432472285,-1.2860315802634414,4.321147646913585,-15.774659832403428,12.794166614543087,-9.824684535747615,-18.263136441135593,-5.376915932964866,4.7159826977361625,-16.388977428326353,-11.676106002601273,1.9506398524368083,6.018264722184571,4.766735775381119,6.026328382904183,7.075880023288179,12.390008284143862,-4.562784018454027,11.74096900720835,-23.746448783490003,-8.485487950396164,7.251622871401466,0.01634356417477408,-9.015449934894134,6.316807419228732,-16.265391695854184,1.6368417840252354,-6.837953868251178,-0.23770593520364905,14.729049851637027,10.104786385055315,3.040087370282866,-17.35614707302736,-12.19278793448751,-4.9145372598342485,-1.0520959613680378,-10.975584930178673,2.4833642337656165,-1.1792440946129747,-17.93676737588204,-13.71965659235101,-18.983600387172096,0.9349436633948276,-17.954981112158386,-13.642838596194903,-9.166712566719346,2.744922602123105,0.4075626934850438,-1.6132113072671324,9.156702545520723,-0.256665209443544,-10.375592280854201,3.6427360730858553,6.696869874877965,-3.627154916232008,-15.588241885105186,-10.478833017900303,-10.632951218005587,1.511885719790121,-21.800770888942598,-14.070685843594614,12.436080164824906,-21.988662465359155,9.675553070860335,7.124285617089783,-8.842740411223133,5.263783271375935,14.966450157199858,-12.982153298543878,15.113735197834233,-5.955313271145728,-14.833673405650678,3.7248072491367124,9.104984649178943,-4.943154458999624,-3.3947739017448284,-7.024394829933522,-11.163174321962467,16.303650373777256,-7.59500261899912,-6.862176286198817,-3.7388873085436387,-8.052628970851094,4.731073038026236,-9.217422214133201,-21.698659499629695,4.323595691526999,-8.795472043046868,-2.1171604789055394,8.620233022720607,-4.2825000916236435,-22.620045349131768,-21.24865230640181,0.7017943245641571,-18.15560803869462,-4.546170059960669,-0.5264759962557006,-2.40176622058682,3.977132427634582,-15.103898470694105,-15.202491750157963,6.535951108168567,-15.368883808177644,9.60977071413092,-13.027114653569523,-19.315924168552588,-1.736056383855786,6.725966682994865,10.396409807225346,-11.34925974684501,5.396784280030917,-19.492836732005486,0.9068010798685037,-4.133052252246855,6.22369338746875,-6.616267529938021,8.610913649786278,12.540090830946038,9.266364963085328,-10.703135772964075,9.970000482587778,-20.11910007183899,-14.340311430087064,-9.661260929333206,-15.590923647335556,-7.328326513921935,-18.330250179799624,3.7768969773599297,-10.183912825273513,-11.800672675299626,-4.645030599805537,-1.7539934071032668,-8.309704502729538,-16.36004757652336,-14.744502291266967,7.3302603809447975,-5.537503602390787,-19.497709623024953,15.03585185892342,11.725445674915246,-8.290107121611255,-10.05584378885712,-3.717055188740364,18.134954268494962,-5.093342307398236,-2.104128249579714,-3.055221237949291,-12.298315711994299,16.576223472010604,2.8376308086478237,-22.34313771515697,-13.249918711229778,-10.73451422399637,-13.789130067063812,-16.661842480270874,-3.3502387981844794,-15.374829848549671,4.9708598608288375,1.6244698322734654,5.394920153432821,-0.5079744538422246,2.57356528792534,6.648821139587852,-12.600289252852201,3.3405842602115365,6.910674481437055,-10.455492058022909,-17.667384937616994,-10.458002614396188,-8.613385625740984,-16.305828705388944,5.592412408090491,2.92462088416933,-1.4896559108847538,2.350466935457364,-0.11090688212701205,0.40415103616968556,8.417442025563146,0.07406555146699251,4.581390059306707,0.9244740594639443,6.549442525983622,4.140050502297184,9.00832633217907,-2.3265997696393765,-11.444795566359714,-6.0581918488780495,19.73473664094597,-11.63134644690002,-19.86388238659355,6.884483757546978,-3.4072433228528936,-8.961613134132872,-3.915558003994382,1.9364641470609738,-15.034519136843823,-6.109030709931131,3.355275590438155,7.13211268234115,-3.181899122402562,-16.45409916879209,6.420638042675741,-16.800128678474113,14.671194065505341,2.2183773182538444,3.2143220595351556,2.8968214618275256,-0.7999525765937695,9.240133896656431,-15.585473017172587,-18.98290527671427,7.282882713236186,-2.47620168221617,-1.188401546077717,-8.4474965818701,7.8985454120661025,-4.997476516968256,-13.380807581445438,13.080284362294384,-8.106393068225547,-18.368386315630183,11.207897184172657,-4.007231704825012,11.647715584932762,19.44660790002765,8.568877642594702,-1.731179710519174,-8.563004864923332,-2.2570259832359794,-8.967315805536536,0.798935836799645,-22.332268802694422,11.561739263436388,7.169241040106542,-2.5466249227557354,-6.586605713434358,-1.5511532198346,-20.099685554978652,7.241493952566113,-18.600520645056186,3.88756083730026,-14.447753974654756,-4.43209988928848,-6.710764099362946,-17.363803227217502,6.270258215382251,-5.995139062018678,-9.993549289257308,9.553402653483495,1.9777199227015483,18.429239955458797,3.740420024225698,15.159472413377705,-14.068053150038777,-9.190532212139171,5.704388837838604,-1.940168195985741,-2.2646772570968228,-9.535798747920996,-17.26137234211843,-3.670759065062601,-20.461577876999613,-7.918062711785164,-12.600352528835188,3.8537984828325964,4.258253941385375,-8.33529717856788,-11.392210381721677,11.866676928037142,-12.765140950905089,3.1314824101411487,-7.735763120115984,-9.318261112467571,8.23723346675853,-6.51107822417541,5.425946700401963,13.179578400892074,-3.401390045184917,17.31596883005087,-10.900294162664663,1.1367330636972888,7.3367571411240124,2.102096202172013,-13.34230917924364,-13.540759799306628,-1.045117113146071,5.353807469315123,-6.132920320321313,-14.514872278687807,-14.954424819070384,-10.428845714251269,-18.5809021038442,-3.4248693348893897,-8.504190449105169,-20.37311526680446,9.069429370798288,-17.305620979189793,-9.202091714525642,4.742113953690422,-14.386947147748193,-3.409134455776709,-3.5143790165684954,1.980139653061396,-13.607810037264578,-18.051379701800716,11.783834934334473,-3.100264033922668,0.20301101551938294,3.804004791084751,-11.925615312667187,17.154403799605422,4.961575239091053,0.16046146816660384,15.396084455200631,-0.9009500988116919,15.060589057486727,14.619164910833012,5.824685117617371,-0.583677238751831,-15.693896099803837,-15.432817309974594,-3.041945156161143,-12.67894170907883,-9.805156272125807,-5.500933217968248,-20.640573319035898,14.488124490786692,2.7283633301747674,2.0657353406646144,3.1071080977029255,-0.47053360035206293,-18.1890903670934,9.997637693903982,-3.681223672103242,-4.220579377214595,-7.935797997421647,-7.79696747620293,9.232769985074436,-11.200686126758745,-8.468580246998798,-10.988256680119576,1.7389541039959011,7.271804936320121,-10.834448026432833,-12.053492024044578,12.910034314405507,16.340676592066067,10.60133102384537,-8.291747230823558,-6.9282339161163184,-7.170266698409058,11.7951052609572,11.97879192985411,3.077589704895681,-6.161974908336324,4.219997039045655,-15.110207709153892,3.3709781648938515,-4.075793175764669,-7.384830798926106,-1.4700410971935476,-4.310486993332374,-18.1415443172739,-4.879026179646008,3.882306168577114,-12.860365331929092,-10.009466538049283,-11.479170538513927,-8.054878724244027,6.994115197706738,-1.9327816859521572,10.926620099685744,-18.36449811293089,-16.93525802751517,-20.67751184681372,-8.058183621796319,-17.64921581604942,-20.122997886466084,0.12471197499521947,-2.6718577569382385,6.435003578054621,-13.790193927711348,2.401865131464242,-16.56409601005565,1.741905557313426,0.25718078363692437,11.826804549744443,-8.523112957628083,4.456003440821761,8.774620744997435,-4.438267031406019,-11.529103550787955,-21.332344336556865,-6.731201454832087,-4.032392715622817,-11.86275874484995,-7.6067667027838475,-8.47567442859047,-13.176602928424142,-10.253098852883936,-14.254680393929661,-0.4138371306568658,-15.582684834957528,-0.06652446482232927,-16.736225284110326,2.6557140203123617,4.076173447061889,-8.20102001980329,-10.833188764037983,5.332943320145492,-18.15721660683578,3.4136809259345555,-7.515628227515314,-8.115577625327777,-20.175736555784567,5.243294351731672,-4.103072150664693,-2.2851399092586733,0.7476613203750064,0.9343691667240355,-10.064699287605139,-1.0348461492336671,-10.861625695138274,-17.395034715223176,-16.24468288009412,-5.624763937387206,-16.938121975635674,-20.568785201219285,3.859034770626467,9.558514858166953,-9.589035883382856,-14.031539403443965,-5.138491853013006,-3.6534592537901855,2.5318978159576586,-10.00404292243997,7.54647285770379,-10.323160950107043,13.435182307236063,-0.977925149724099,11.45011337362411,3.848956169593793,-6.3920127742234545,3.1343504242381637,-13.15619849260638,-7.183380765296263,-4.674460502789153,-16.39855507006203,-15.221235041521652,-17.20518479479926,7.67649993194401,2.3657321096716353,-22.10770824914315,5.011880169743611,-5.891735251292764]}},\"id\":\"084751af-9886-437e-a89a-faa6d3d55a38\",\"type\":\"ColumnDataSource\"},{\"attributes\":{\"callback\":null,\"plot\":{\"id\":\"98e262a1-1a0b-4331-bd65-ecd8cf1af464\",\"subtype\":\"Figure\",\"type\":\"Plot\"},\"tooltips\":[[\"words_bros\",\"@words_bros\"],[\"words_sis\",\"@words_sis\"]]},\"id\":\"f864ee9a-dd69-4b8d-8041-91b9a5638543\",\"type\":\"HoverTool\"},{\"attributes\":{},\"id\":\"a2f57681-49eb-4016-bcb6-ae3d1cd2592b\",\"type\":\"ToolEvents\"},{\"attributes\":{\"overlay\":{\"id\":\"9c24aa8c-2fc8-4aaa-98f5-7464c159a5fe\",\"type\":\"BoxAnnotation\"},\"plot\":{\"id\":\"98e262a1-1a0b-4331-bd65-ecd8cf1af464\",\"subtype\":\"Figure\",\"type\":\"Plot\"}},\"id\":\"f455288d-6d6d-42f4-96a7-912649657a2a\",\"type\":\"BoxZoomTool\"},{\"attributes\":{\"data_source\":{\"id\":\"130dccab-8427-4144-b8c9-7e54b06336b4\",\"type\":\"ColumnDataSource\"},\"glyph\":{\"id\":\"b538c68f-2f56-4278-963a-1108c8f1f037\",\"type\":\"Circle\"},\"hover_glyph\":null,\"nonselection_glyph\":{\"id\":\"f7610ede-b997-4e25-8a3e-2bedf49547aa\",\"type\":\"Circle\"},\"selection_glyph\":null},\"id\":\"e51a4920-4ce7-4f07-add4-69e019cec628\",\"type\":\"GlyphRenderer\"},{\"attributes\":{\"plot\":{\"id\":\"98e262a1-1a0b-4331-bd65-ecd8cf1af464\",\"subtype\":\"Figure\",\"type\":\"Plot\"}},\"id\":\"4557ccfd-bffa-4871-b05d-a1a8e7848880\",\"type\":\"SaveTool\"},{\"attributes\":{\"callback\":null},\"id\":\"63ee833f-4c88-40e8-9aeb-b8c9ac21ec44\",\"type\":\"DataRange1d\"},{\"attributes\":{\"plot\":{\"id\":\"98e262a1-1a0b-4331-bd65-ecd8cf1af464\",\"subtype\":\"Figure\",\"type\":\"Plot\"}},\"id\":\"4666f1d9-784e-4b55-8151-e18ce8db74a0\",\"type\":\"ResetTool\"},{\"attributes\":{\"fill_alpha\":{\"value\":0.1},\"fill_color\":{\"value\":\"#1f77b4\"},\"line_alpha\":{\"value\":0.1},\"line_color\":{\"value\":\"#1f77b4\"},\"size\":{\"units\":\"screen\",\"value\":10},\"x\":{\"field\":\"x\"},\"y\":{\"field\":\"y\"}},\"id\":\"f7610ede-b997-4e25-8a3e-2bedf49547aa\",\"type\":\"Circle\"},{\"attributes\":{\"plot\":{\"id\":\"98e262a1-1a0b-4331-bd65-ecd8cf1af464\",\"subtype\":\"Figure\",\"type\":\"Plot\"}},\"id\":\"fd25093c-da49-4396-a2bb-e06b03c5c3d6\",\"type\":\"PanTool\"},{\"attributes\":{\"callback\":null,\"column_names\":[\"range_words\",\"y\",\"x\",\"words_bros\"],\"data\":{\"range_words\":[1,2,3,4,5,6,7,8,9,10,11,12,13,14,15,16,17,18,19,20,21,22,23,24,25,26,27,28,29,30,31,32,33,34,35,36,37,38,39,40,41,42,43,44,45,46,47,48,49,50,51,52,53,54,55,56,57,58,59,60,61,62,63,64,65,66,67,68,69,70,71,72,73,74,75,76,77,78,79,80,81,82,83,84,85,86,87,88,89,90,91,92,93,94,95,96,97,98,99,100,101,102,103,104,105,106,107,108,109,110,111,112,113,114,115,116,117,118,119,120,121,122,123,124,125,126,127,128,129,130,131,132,133,134,135,136,137,138,139,140,141,142,143,144,145,146,147,148,149,150,151,152,153,154,155,156,157,158,159,160,161,162,163,164,165,166,167,168,169,170,171,172,173,174,175,176,177,178,179,180,181,182,183,184,185,186,187,188,189,190,191,192,193,194,195,196,197,198,199,200,201,202,203,204,205,206,207,208,209,210,211,212,213,214,215,216,217,218,219,220,221,222,223,224,225,226,227,228,229,230,231,232,233,234,235,236,237,238,239,240,241,242,243,244,245,246,247,248,249,250,251,252,253,254,255,256,257,258,259,260,261,262,263,264,265,266,267,268,269,270,271,272,273,274,275,276,277,278,279,280,281,282,283,284,285,286,287,288,289,290,291,292,293,294,295,296,297,298,299,300,301,302,303,304,305,306,307,308,309,310,311,312,313,314,315,316,317,318,319,320,321,322,323,324,325,326,327,328,329,330,331,332,333,334,335,336,337,338,339,340,341,342,343,344,345,346,347,348,349,350,351,352,353,354,355,356,357,358,359,360,361,362,363,364,365,366,367,368,369,370,371,372,373,374,375,376,377,378,379,380,381,382,383,384,385,386,387,388,389,390,391,392,393,394,395,396,397,398,399,400,401,402,403,404,405,406,407,408,409,410,411,412,413,414,415,416,417,418,419,420,421,422,423,424,425,426,427,428,429,430,431,432,433,434,435,436,437,438,439,440,441,442,443,444,445,446,447,448,449,450,451,452,453,454,455,456,457,458,459,460,461,462,463,464,465,466,467,468,469,470,471,472,473,474,475,476,477,478,479,480,481,482,483,484,485,486,487,488,489,490,491,492,493,494,495,496,497,498,499,500,501,502,503,504,505,506,507,508,509,510,511,512,513,514,515,516,517,518,519,520,521,522,523,524,525,526,527,528,529,530,531,532,533,534,535,536,537,538,539,540,541,542,543,544,545,546,547,548,549,550,551,552,553,554,555,556,557,558,559,560,561,562,563,564,565,566,567,568,569,570,571,572,573,574,575,576,577,578,579,580,581,582,583,584,585,586,587,588,589,590,591,592,593,594,595,596,597,598,599,600,601,602,603,604,605,606,607,608,609,610,611,612,613,614,615,616,617,618,619,620,621,622,623,624,625,626,627,628,629,630,631,632,633,634,635,636,637,638,639,640,641,642,643,644,645,646,647,648,649,650,651,652,653,654,655,656,657,658,659,660,661,662,663,664,665,666,667,668,669,670,671,672,673,674,675,676,677,678,679,680,681,682,683,684,685,686,687,688,689,690,691,692,693,694,695,696,697,698,699,700,701,702,703,704,705,706,707,708,709,710,711,712,713,714,715,716,717,718,719,720,721,722,723,724,725,726,727,728,729,730,731,732,733,734,735,736,737,738,739,740,741,742,743,744,745,746,747,748,749,750,751,752,753,754,755,756,757,758,759,760,761,762,763,764,765,766,767,768,769,770,771,772,773,774,775,776,777,778,779,780,781,782,783,784,785,786,787,788,789,790,791,792,793,794,795,796,797,798,799,800,801,802,803,804,805,806,807,808,809,810,811,812,813,814,815,816,817,818,819,820,821,822,823,824,825,826,827,828,829,830,831,832,833,834,835,836,837,838,839,840,841,842,843,844,845,846,847,848,849,850,851,852,853,854,855,856,857,858,859,860,861,862,863,864,865,866,867,868,869,870,871,872,873,874,875,876,877,878,879,880,881,882,883,884,885,886,887,888,889,890,891,892,893,894,895,896,897,898,899,900,901,902,903,904,905,906,907,908,909,910,911,912,913,914,915,916,917,918,919,920,921,922,923,924,925,926,927,928,929,930,931,932,933,934,935,936,937],\"words_bros\":[\"syntax\",\"year\",\"years\",\"static\",\"japanese\",\"read\",\"according\",\"updates\",\"generative\",\"actual\",\"looking\",\"brain\",\"faster\",\"e\",\"thought\",\"numerical\",\"utah\",\"pie\",\"meeting\",\"approach\",\"voting\",\"room\",\"workshops\",\"docs\",\"different\",\"since\",\"hands\",\"natural\",\"among\",\"type\",\"recorded\",\"submitted\",\"p\",\"automated\",\"llvm\",\"friends\",\"test\",\"new\",\"issues\",\"depends\",\"many\",\"non\",\"neural\",\"data\",\"anywhere\",\"average\",\"exciting\",\"dl\",\"something\",\"dataset\",\"finally\",\"keynotes\",\"pip\",\"local\",\"jobs\",\"upload\",\"svm\",\"decoding\",\"completed\",\"ask\",\"programming\",\"problem\",\"upcoming\",\"must\",\"til\",\"maps\",\"position\",\"opensource\",\"ad\",\"booth\",\"combine\",\"slow\",\"discussion\",\"revamped\",\"keyboard\",\"instead\",\"productive\",\"believe\",\"easier\",\"c\",\"interviews\",\"trial\",\"examples\",\"g\",\"french\",\"backend\",\"high\",\"legacy\",\"takes\",\"papers\",\"ne\",\"give\",\"interview\",\"trick\",\"solution\",\"begins\",\"fact\",\"podcast\",\"like\",\"published\",\"implementation\",\"play\",\"talk\",\"link\",\"samples\",\"member\",\"split\",\"know\",\"saw\",\"files\",\"sustainable\",\"excited\",\"gotta\",\"used\",\"ec\",\"probably\",\"becoming\",\"park\",\"maybe\",\"request\",\"processes\",\"coding\",\"asks\",\"cool\",\"power\",\"slides\",\"supervised\",\"learn\",\"rc\",\"macbook\",\"videos\",\"display\",\"questions\",\"add\",\"help\",\"app\",\"scientists\",\"buy\",\"unfortunately\",\"function\",\"json\",\"learned\",\"go\",\"seattle\",\"offers\",\"r\",\"reading\",\"figure\",\"frankly\",\"interesting\",\"happen\",\"engineer\",\"answer\",\"well\",\"prediction\",\"latest\",\"rejection\",\"past\",\"blog\",\"software\",\"models\",\"top\",\"git\",\"scientific\",\"keep\",\"last\",\"haha\",\"expect\",\"academia\",\"notebooks\",\"calls\",\"education\",\"professional\",\"changelog\",\"openscience\",\"question\",\"graphical\",\"dirty\",\"generally\",\"valid\",\"possible\",\"giving\",\"translate\",\"set\",\"still\",\"dropping\",\"int\",\"update\",\"promising\",\"finishes\",\"everything\",\"proceedings\",\"coming\",\"regression\",\"future\",\"lasso\",\"algebra\",\"thing\",\"time\",\"math\",\"les\",\"review\",\"en\",\"error\",\"teams\",\"optimization\",\"phone\",\"mmds\",\"schedule\",\"missed\",\"ready\",\"first\",\"makes\",\"article\",\"keeping\",\"munich\",\"robot\",\"thanks\",\"neuroscience\",\"defaults\",\"response\",\"de\",\"gif\",\"bunch\",\"youtube\",\"cognitive\",\"lot\",\"added\",\"week\",\"agree\",\"dinner\",\"twitter\",\"tutorials\",\"correct\",\"source\",\"project\",\"major\",\"rates\",\"depth\",\"hiding\",\"image\",\"adversarial\",\"gb\",\"pr\",\"search\",\"planet\",\"understand\",\"wheels\",\"methods\",\"tomorrow\",\"updated\",\"flow\",\"points\",\"provide\",\"ni\",\"overhead\",\"forward\",\"conda\",\"science\",\"numbers\",\"pass\",\"safe\",\"dask\",\"point\",\"make\",\"space\",\"otherwise\",\"inspired\",\"move\",\"great\",\"heaps\",\"improvements\",\"graphics\",\"projects\",\"speakers\",\"family\",\"fused\",\"ml\",\"quick\",\"reason\",\"students\",\"americans\",\"reinforcement\",\"upon\",\"particular\",\"strangers\",\"crazy\",\"audience\",\"understanding\",\"online\",\"big\",\"mine\",\"series\",\"history\",\"bad\",\"final\",\"congrats\",\"much\",\"putting\",\"package\",\"contributor\",\"matrix\",\"could\",\"inspiration\",\"paper\",\"logistic\",\"confidence\",\"ai\",\"systems\",\"architecture\",\"meet\",\"person\",\"turn\",\"thoughts\",\"think\",\"level\",\"clear\",\"pro\",\"model\",\"imho\",\"super\",\"pictures\",\"biases\",\"l\",\"yes\",\"research\",\"vienna\",\"notes\",\"styles\",\"useful\",\"ci\",\"simple\",\"also\",\"personal\",\"example\",\"portland\",\"released\",\"sold\",\"code\",\"election\",\"earth\",\"community\",\"early\",\"knights\",\"energised\",\"mode\",\"polynomial\",\"heart\",\"growth\",\"penalty\",\"requests\",\"rules\",\"none\",\"pre\",\"building\",\"hours\",\"except\",\"register\",\"speed\",\"mostly\",\"surprise\",\"ok\",\"attendees\",\"cc\",\"speak\",\"learnings\",\"engineering\",\"amd\",\"network\",\"pm\",\"positive\",\"called\",\"ways\",\"san\",\"practical\",\"books\",\"made\",\"text\",\"interactive\",\"credit\",\"fast\",\"enough\",\"gradient\",\"domain\",\"jupiter\",\"capital\",\"presidential\",\"always\",\"create\",\"extended\",\"partners\",\"explained\",\"sky\",\"f\",\"access\",\"closer\",\"js\",\"objects\",\"laptop\",\"computing\",\"fp\",\"hope\",\"today\",\"saying\",\"excellent\",\"sizes\",\"tip\",\"one\",\"important\",\"dataviz\",\"already\",\"black\",\"thrilled\",\"looks\",\"empirical\",\"kinds\",\"join\",\"vision\",\"node\",\"label\",\"seems\",\"oops\",\"trainers\",\"volunteers\",\"independence\",\"speaking\",\"ago\",\"scale\",\"water\",\"profiling\",\"seq\",\"helpful\",\"left\",\"responsive\",\"tried\",\"spout\",\"path\",\"betrayal\",\"labyrinth\",\"types\",\"logger\",\"lines\",\"cause\",\"try\",\"anaconda\",\"presenting\",\"spouse\",\"th\",\"causal\",\"introduction\",\"publications\",\"tricks\",\"prefer\",\"post\",\"h\",\"change\",\"changing\",\"mechanical\",\"long\",\"words\",\"essay\",\"summary\",\"lab\",\"located\",\"see\",\"sure\",\"best\",\"beyond\",\"languages\",\"stumbled\",\"http\",\"datasets\",\"let\",\"someone\",\"usually\",\"presentations\",\"kids\",\"images\",\"banker\",\"weekend\",\"funny\",\"seen\",\"real\",\"devs\",\"charger\",\"announced\",\"say\",\"dropout\",\"little\",\"map\",\"days\",\"starting\",\"log\",\"smooth\",\"hosting\",\"connectivity\",\"part\",\"htt\",\"oh\",\"total\",\"without\",\"sprint\",\"teaching\",\"visual\",\"stuff\",\"deepmind\",\"la\",\"bars\",\"list\",\"user\",\"run\",\"video\",\"case\",\"comes\",\"tweet\",\"insights\",\"st\",\"aspect\",\"fmri\",\"started\",\"need\",\"berkeley\",\"beta\",\"flattered\",\"upgrade\",\"yeah\",\"student\",\"changed\",\"support\",\"wanted\",\"ever\",\"tue\",\"multiple\",\"government\",\"sc\",\"sense\",\"full\",\"whole\",\"never\",\"cross\",\"python\",\"reference\",\"check\",\"feedback\",\"available\",\"mind\",\"though\",\"hey\",\"tables\",\"second\",\"du\",\"given\",\"far\",\"catch\",\"j\",\"would\",\"viz\",\"via\",\"fix\",\"others\",\"things\",\"release\",\"fit\",\"sf\",\"work\",\"wikipedia\",\"analysis\",\"poster\",\"world\",\"feature\",\"missing\",\"cast\",\"gt\",\"us\",\"old\",\"job\",\"tuning\",\"derived\",\"keynote\",\"weeks\",\"perl\",\"incredibly\",\"explains\",\"module\",\"recently\",\"hood\",\"eu\",\"workshop\",\"happy\",\"awe\",\"program\",\"github\",\"soon\",\"visit\",\"country\",\"life\",\"experience\",\"closing\",\"related\",\"religion\",\"joined\",\"intensive\",\"consider\",\"whether\",\"url\",\"senior\",\"bp\",\"aes\",\"extensions\",\"done\",\"deep\",\"loss\",\"money\",\"detailed\",\"thank\",\"solvers\",\"word\",\"interpreting\",\"tell\",\"features\",\"shell\",\"write\",\"problems\",\"linux\",\"stay\",\"short\",\"info\",\"pure\",\"actually\",\"talks\",\"classification\",\"fabian\",\"demo\",\"imported\",\"random\",\"please\",\"sparse\",\"issue\",\"torch\",\"welcome\",\"get\",\"original\",\"machine\",\"ca\",\"matlab\",\"title\",\"google\",\"hurray\",\"trying\",\"bird\",\"sad\",\"library\",\"anyone\",\"bias\",\"ht\",\"joint\",\"single\",\"end\",\"sorry\",\"behind\",\"preparing\",\"love\",\"good\",\"needs\",\"find\",\"etc\",\"door\",\"statement\",\"memory\",\"car\",\"monday\",\"july\",\"beautiful\",\"pretty\",\"users\",\"transfer\",\"style\",\"pages\",\"biggest\",\"tickets\",\"next\",\"glad\",\"running\",\"sheffield\",\"right\",\"cars\",\"existence\",\"challenge\",\"highlight\",\"depending\",\"line\",\"turns\",\"statistical\",\"journal\",\"awesome\",\"internet\",\"idea\",\"people\",\"version\",\"follow\",\"rounding\",\"glance\",\"shows\",\"comments\",\"day\",\"satellite\",\"networks\",\"summit\",\"difference\",\"afternoon\",\"py\",\"back\",\"tagged\",\"german\",\"impressive\",\"news\",\"wild\",\"accepted\",\"thx\",\"police\",\"wonderful\",\"inference\",\"colleagues\",\"every\",\"vs\",\"open\",\"pelican\",\"less\",\"nc\",\"optional\",\"bigdata\",\"klein\",\"fab\",\"paris\",\"everyone\",\"take\",\"hear\",\"repo\",\"start\",\"watches\",\"folks\",\"et\",\"tutorial\",\"fun\",\"chat\",\"classic\",\"mean\",\"functions\",\"b\",\"completely\",\"want\",\"v\",\"james\",\"population\",\"bu\",\"considering\",\"night\",\"live\",\"third\",\"due\",\"free\",\"noticed\",\"guess\",\"stochastic\",\"performance\",\"supposed\",\"import\",\"pycon\",\"statistics\",\"group\",\"gradients\",\"name\",\"numba\",\"gallery\",\"w\",\"ones\",\"discover\",\"hackers\",\"center\",\"office\",\"wed\",\"way\",\"details\",\"summer\",\"heard\",\"based\",\"solve\",\"currently\",\"later\",\"similar\",\"indeed\",\"terms\",\"submissions\",\"sry\",\"results\",\"wrote\",\"seem\",\"call\",\"gimmicky\",\"using\",\"wow\",\"lightning\",\"key\",\"rooms\",\"x\",\"literally\",\"enjoy\",\"nips\",\"technical\",\"documentation\",\"analytics\",\"generalization\",\"hm\",\"automation\",\"focus\",\"progress\",\"changes\",\"interested\",\"build\",\"bag\",\"infos\",\"quite\",\"amp\",\"validation\",\"nice\",\"k\",\"making\",\"expertise\",\"lieu\",\"translations\",\"unedited\",\"eg\",\"linear\",\"bit\",\"approximate\",\"posters\",\"show\",\"color\",\"man\",\"course\",\"notebook\",\"current\",\"rennes\",\"api\",\"large\",\"got\",\"study\",\"doc\",\"spot\",\"american\",\"language\",\"stack\",\"tpot\",\"another\",\"watch\",\"highly\",\"bayesian\",\"web\",\"times\",\"better\",\"tasks\",\"control\",\"book\",\"posted\",\"author\",\"apologies\",\"ecosystem\",\"setup\",\"cluster\",\"rt\",\"distributed\",\"osis\",\"said\",\"announce\",\"seeing\",\"white\",\"advance\",\"might\",\"maintenance\",\"conference\",\"social\",\"come\",\"btw\",\"scientist\",\"written\",\"uncertainty\",\"exact\",\"honored\",\"feel\",\"look\",\"install\",\"success\",\"submit\",\"definitely\",\"ordinal\",\"getting\",\"visualizations\",\"cleaning\",\"anything\",\"realize\",\"u\",\"attend\",\"windows\",\"forge\",\"un\",\"<number>\",\"easy\",\"two\",\"may\",\"diagram\",\"presented\",\"self\",\"stats\",\"env\",\"uk\",\"yet\",\"smart\",\"machines\",\"algorithm\",\"hack\",\"nets\",\"merge\",\"https\",\"multi\",\"learning\",\"going\",\"amazing\",\"use\",\"really\",\"boosting\",\"working\",\"state\",\"powell\",\"team\",\"forget\",\"nb\",\"around\"],\"x\":[14.485567607352337,-23.401989965544118,-23.623892270613442,14.740912879196815,-10.23181994969367,0.863315508332696,-7.521478476905379,-2.799788002769865,16.115621803241673,-10.46938093104926,-29.772031774049758,-15.134270951912796,-17.45951301919519,-5.9407517556034115,-25.585566400388974,14.112412115723274,9.122168720432347,5.297936623843877,-7.82753133034406,-4.79520272227445,-8.46144091286735,-8.805113052777385,1.3664284512256244,5.265958980323154,-18.280447101107185,-23.83327706031168,-19.535131724887265,-13.36740376693164,-7.193438531754713,-17.287783993207242,-3.9481329177807214,0.19759828118703265,-5.228533519031091,9.97660662322138,16.906404877608978,-31.569630435959052,4.646047069431207,-19.081728920737945,-11.032171752004816,-15.748549981939627,-18.945335632568987,-0.9089626208153485,13.259088000795437,5.963867583042485,-19.1412096180324,-6.728563825879665,-9.049257182592578,3.286589540589304,-21.709897043728866,14.990485338163017,-25.032111893544922,10.10308943056154,10.781626580285074,-7.539967410170504,-4.316636757838266,-2.1730408660602496,11.575794315600803,13.215564622072765,11.79867146976466,-28.815223978325946,5.9697301515606895,-12.187211654654837,-3.2493330454959612,-25.888194502291356,-22.28976953089269,-1.1217333356665515,-14.785806667960097,11.774797309000062,1.2339210754904344,0.20349754099116157,-0.8607574997908602,-16.840860512013236,0.28994510823898284,17.48491388709016,4.561508991972625,-21.319409215550863,-11.61062172869393,-27.112235123106824,-16.293881080525153,-4.4888313109887585,-0.5730189076706558,-9.03917465948871,3.213297623564539,-3.8879176486287217,-10.22081083383166,11.953770794323287,-15.959112077088617,-5.05137867461923,-14.661061347785056,3.072711526626615,0.8850766643158274,-27.527781328832642,-1.8749421206195724,-13.311336891968002,-9.315716936331267,-14.095879295600223,-19.74830334642645,-0.01372203205567793,-24.26055053431809,0.1950449674632371,9.01528963144804,-22.31108717668447,-27.637312663955623,-3.389408534041745,-8.329936177135481,-7.951485043098442,-15.386865420846306,-25.116877181238273,-26.147223406887576,6.64760230356729,6.347860035597031,-26.725878641903186,-27.842918499171414,-24.638429257609335,7.220547778339507,-24.52309626015786,-13.363756623698984,-8.517800763019277,-24.41739985386595,-4.505307729923004,8.787337352061463,6.066929439025048,-13.129922654505247,-28.9089041273821,-14.089771478957664,2.5173318504905966,17.655615001533647,-14.675321734381091,6.408599441739365,5.433716699627548,-2.0253046014060168,0.2586542568609934,-11.186027970261927,-3.5283646923435907,-23.09697208231229,-1.2501057306289496,13.677842994728081,-29.054225162497364,-13.50373346094019,7.813272190404621,14.378835807842375,-14.713449738446615,-27.29000557452245,8.632667489367812,-5.275517148892624,-4.963912472082152,-0.8250001934498357,-11.846104228466857,-15.62981781717232,-9.058392215888837,-20.81335264396721,5.419122642048761,-11.718314929674825,-24.39960311655901,3.404124777726679,-3.4588359052527684,4.783790449239668,-19.5645749410974,-2.762191347845156,6.073633989221782,-10.236168543703183,-13.640683247704775,1.4798370535330618,14.32499937079566,-29.180699130374208,-22.538878048289423,-23.23229632820658,-18.021209072042033,-6.014852097974157,6.25004133691349,-13.19939693801383,0.9652304890139374,7.066563227542759,18.1028556889451,12.777849807430918,-11.188460987830405,14.529241975516324,-17.51972541152841,-16.67675941276067,-9.386112270480718,-9.86401552308775,-14.95205685175402,-1.4187142912916166,-14.308740751879702,-24.51669920483493,-21.381087313445164,7.955992202631849,-2.9697065131791116,-10.25612228951,-13.902855941917023,-21.447923608616986,11.853130220824696,-25.780251818031818,13.856738800069927,-15.97326497714913,11.234796707347266,4.229384119357464,-21.472018927318747,-22.082531288010237,3.4754094696923286,-1.3329251791025063,-2.4379125621703794,-3.7444133384747955,0.7315145853539871,-20.21324081782753,8.204809933428631,-19.864649060541932,16.83937120990211,-7.766628355447022,-23.29857647762171,-26.198536384790973,-21.786583314500007,-22.3810875834943,0.1535161782041994,-20.779606002182565,2.8809152539649383,-13.377925948848318,-26.88630164849761,13.662259400246244,13.329860650454346,-8.03887168095199,-3.7373889119818737,-2.4494353678818577,-17.920243318652748,-1.9265743665931714,13.420596684535438,-19.827056779270492,-4.089136656149865,-23.801321859758648,-18.710482510001388,-24.57641681957748,-3.5565910602488673,5.340472607830494,-10.893226221363417,-0.7966991272625876,1.974665927269354,-11.101943376325963,-6.1153884095132245,10.058510837987587,-18.999400281092612,0.6672079622050868,16.639640942703256,5.043640715445224,2.2437696382328243,-3.756706366387437,-14.733079733162839,-18.13738327149692,-15.279051615156268,8.325877755222493,-25.512334384457276,-3.3826263187342196,-11.259534163440279,-16.766880859460674,-4.842578361274824,-8.017865113890354,9.425320453690771,-21.275697023024108,13.958408085751524,3.90700618415131,-2.3393522770341284,-19.591455320264913,-28.989922090307477,16.80832040162798,-16.61737857627291,-25.84203443690279,-14.918898623597933,-16.719824702899068,-3.4082606707505856,-19.184381289152693,-28.417342538029455,-5.382458968569445,9.793276858067196,3.0474124288605435,2.231977546810138,1.1342082028146536,-31.62100900331462,18.919382501499218,5.428749732168838,-16.54766377241033,-19.51356675153857,2.4524581694465253,-6.680857494818336,14.862166188120831,-13.431450836404514,-10.438535298785004,-18.13205464454857,-22.551969964703396,-1.8090124795552471,-4.53841377420063,-2.3075546932772273,-19.201023059892208,-23.367753093319337,-12.240995083372425,1.9977514937044039,-22.737956948877716,-5.793161052221983,-26.441865810456946,-20.414981780708988,-21.278668625843977,-5.229888942613685,10.829637171774635,8.75100830817892,-24.781574024748497,-3.3655603981021716,3.1561663423973396,11.095946357979699,-4.105417737645695,-18.392312817504948,7.1090163490645955,5.095088764628185,-26.16387343052016,-20.62202083071318,-20.858304802401886,-15.467944810987495,-24.796123380459047,-15.875588625050097,-13.706740604160721,-5.7611066085873,-10.338731619402019,9.64288507596469,-14.079867133419391,-1.4307239137622954,11.62119271305913,-4.455572028418739,-24.257626022624468,3.823603869244488,10.061503298381481,3.548949012490389,-14.219864574292593,-4.446399537215014,-0.8238938768190819,-14.991369334674681,-25.51790009892149,-5.205698671665581,-8.106882494207284,10.276010311249717,-5.096578511566818,-18.204518194455712,-5.807647632371744,-8.644027918256908,-16.63040939382398,-7.147165853144683,-24.925671797356276,11.656575476646513,18.57028133959441,-11.824603997320162,15.981172784337753,-31.149224032870926,-3.109980417838556,-17.53648348225876,-6.270709494274446,-10.141365924968094,-19.247982098966155,-4.406704945207967,-2.5667052684163467,-24.313836267405147,-19.690680566462113,-0.47213113800962686,-14.356610433648648,-17.018043195174226,-18.87534229270816,-23.12208544281314,9.669480670084997,2.2324752328867263,-12.617014220451452,13.400992361760585,6.140076024522094,5.995675728155797,-6.513152793462544,-16.39691179613186,-5.101051913822066,-26.977477314739136,-14.803351097968719,7.339092259687279,-3.8921819808754923,3.418083847789878,-22.92828782299323,-19.985477672555163,3.582010799866228,-6.3095064454351775,-17.18993259866369,-18.17372079244466,15.453000831901859,2.5765546909843464,13.16040991758113,-7.645384925111097,-7.311888826610786,-24.95954522061829,-4.836113034875674,-5.3185183288010665,7.164279109414217,-8.06808793991893,-15.88231503616458,-4.547205746392541,-5.008145683001413,-20.84123184400167,4.3906152879182745,1.7256685115679764,3.905372820847015,8.214497960616514,6.810388485559965,-25.050935104880125,-25.735076822587597,-26.4598739826861,-6.834461726044835,-9.52516422642229,-11.495458972965992,-21.289452406602877,-9.963144195491127,13.050363969620573,-24.744160457061174,-13.309878387101048,-8.510800701217654,-30.004595421876544,14.857629911075973,-3.7524017267470406,-6.194777560374517,-5.111060550535956,13.740581199132876,-10.187569068809161,-16.85829521953892,-21.390811712886823,6.40228732731291,7.161194565041545,-5.6864882854709045,-12.447255173581796,-23.903633928499897,-11.653450428536296,-14.428410576527721,14.668340211932806,15.225812376413803,-4.429189843424055,-22.43986082427508,4.055704581016042,-24.320060669115414,15.15916120970552,-12.592250246101868,4.808796704540603,9.48384467225513,-3.654250095223883,13.231564242612839,-12.831185481248554,-24.367041132981125,-26.013059936414884,9.71981649869677,-0.7159919567223798,7.338681296521287,-17.413950985135383,16.68384172097203,2.798808294368893,11.749743273778893,-13.08046297343646,-17.13642213372899,-3.015760159916837,-4.536329570849765,-20.77940753572813,-20.947477980685715,6.625728853808791,-20.45818548562922,-13.060761217314628,2.4827759646367817,2.813960012327149,4.29815677036473,-12.552866022608246,-26.48651282840239,-24.449805621661817,-27.595353491334787,-9.643567157400385,-1.150659583980828,9.107078854664246,4.983077309270224,13.643400426029853,-27.03479795980608,-22.30167393025922,-17.18013900668773,3.4533769435390473,-30.376079438662178,-0.5368500115818865,10.414118539449062,-23.876048701310193,-29.5127059181917,-26.255860158178802,-31.431342024600102,11.720996928560389,3.44341198753591,-5.482860949508753,-26.975247946279627,19.88423975195743,-19.17360097736391,-0.36406574992400353,-23.9880174837357,-22.396289979424417,3.1945843814625747,-16.62810967030165,2.073733761067178,10.120347389913285,-18.954383183602072,5.023976874874149,-24.010233034788072,-6.112024466990689,-21.050140853947628,2.8589050116466934,0.21631207906454997,2.9719178018134578,-19.984036501103258,18.016937458056145,-3.1629636107526204,-8.83694850286771,-4.487731613395726,0.03757682251943947,-20.83106913401246,-2.0501394205786427,-9.123244842129354,-15.2535232522568,-3.915459314379324,8.292203040423882,-17.46250196590952,-5.510517851832691,13.856893811344078,-24.188503596542123,-28.203959157921144,9.57537667366892,3.7280799508240743,-8.963880657991858,4.248815026917297,-24.199874299579218,0.4892335223759575,-21.461774405507956,-22.478144868311094,-26.820685198990425,-25.937633367462748,-16.177998476061315,-3.083773297893855,-6.897733288721463,6.830431854267608,-17.180434553182412,-14.365793725482924,-20.59527659071363,-25.935180607802458,-13.31867219093914,12.960446068977589,-7.448967562051096,-4.934608364405312,-2.4454289657100405,-4.7878133442296935,-15.611503280972064,-23.044346657104988,-24.588689838680775,-9.395664979254965,-18.547864899359848,-0.534352883980437,-14.39430182476627,-21.781291840593177,-21.565127908316033,-4.23128326035086,-26.475000128957603,16.117928004462613,-1.1048696424088689,-16.125977221250444,-19.72486474147845,-21.06959413335998,-7.739842024940646,-14.757161088198545,8.04151647113446,-27.778793285613713,-0.12188192484858563,3.3355967323448183,-1.624522588341335,-15.977798039517054,-2.873240410233765,-23.224444617022563,-11.499800551317104,-2.458283192172785,-27.11431363549982,-23.2009571141349,-3.4143256129988364,7.24733024955968,12.379580095497724,9.51756325095677,-24.066409610111226,12.924448615539468,-9.613926185463452,-8.394203397681594,7.050084862453904,-7.081341672393692,-17.316182221280187,-6.818205185190242,3.1715830665384046,-26.219697825956324,-23.223414422436374,1.26304373440392,12.097173443765135,-25.77422308674126,-5.913621071733112,-9.9744819034864,-16.416579552289114,-6.3448759384445195,-10.525537074440418,-7.400117698658251,-6.360091740172216,-7.258683904948299,4.86442147932496,-13.659508491095796,-14.626800545419284,0.6929270384742402,-3.976415187030808,6.423928799356503,10.85885399626798,7.505926434815231,-25.086482361432015,-16.824273575106872,-2.5400662767822175,-29.26430556019975,1.6920259219691915,-26.492174120567682,14.38336220051086,-12.91595667340624,13.040192630812568,-27.428273675457604,-2.21048604123108,9.55905229978732,-0.9194665808952593,-10.34748474310356,10.827124656190358,-29.176613037255084,-20.32849624000496,-0.8230510100352628,-17.44535997407906,-24.512426534210952,-13.269741699435118,11.525735065803401,10.895084052003257,3.586657076965318,8.499037127576477,-17.884887786852055,-22.98404307035514,16.82561939075472,-9.739717543385567,2.5849777343568894,-25.99261004650332,-26.897556513733328,-11.392785193577396,-8.672781117301364,-25.028778470556954,9.135466159090289,-19.769737594354194,-0.5447052245040714,11.862801018022846,-23.94380553027572,-13.322430356290774,-22.69107443505823,-2.529838717963048,-22.38154022230581,-8.060422340845127,3.428818784355155,-11.002031088356532,-18.50355979084443,-20.337234959545256,-22.830301191377806,-19.605625984009436,-12.53746714700168,-31.162784312292334,-28.238695838617648,-29.159388072302864,-22.853969623036622,3.9689730118108066,-11.561174622017193,-8.261586070318238,1.6819100565659686,-16.717569108987345,-24.9641012854977,-16.75652614585265,-29.565241917555202,-29.72602995686354,0.24474760575973475,1.147680717408162,-12.881130156552796,1.8030664713540554,-11.318578253779108,-18.342351609421126,-22.602956041640788,-24.34604937867338,-20.75141614868614,10.576232527177078,-22.736112923411344,-16.362913575766715,-6.164371644265068,-10.425144227583278,-3.14230220280848,-15.76774785890062,-12.755093146074596,-14.780237181340391,15.02854013194281,0.43725049704735774,-28.35192981560379,-2.333846922086485,-11.130743023892068,-19.433822973040275,-11.344089325828199,-22.292953126257117,14.822867752060457,0.9643285082822347,-18.21191793253099,-7.450935730419306,-25.751416989231885,1.5436830998697517,-6.038304884946569,-6.955204060820892,-8.79798914544345,-24.831517540860187,5.221415037479733,-21.617222595362932,-2.492835803969566,-10.199518202821388,-9.277573595533331,-5.2362137889119,-17.910988173717996,-13.88860275997308,-26.6154940181534,-6.375245534654148,-29.10910532847721,15.235133543159902,7.194594507671427,-20.67402697178842,3.5535688367232714,-11.549528306247664,10.971537546805243,-17.369866614866325,7.568668595801109,9.034954277460896,8.538274974632746,9.968421898042042,-29.066320796905167,1.5530345514707156,-25.376517798870143,-27.10503628028764,-27.50388555152131,11.635680770588742,-22.509354027631826,-13.860384265613943,-17.614667309724684,-0.747677243687653,3.5733649579985167,-27.777713453677038,-3.6631229297120664,-12.428103186181989,-24.781024951096274,8.187790280318108,-7.4586547018098015,-16.21165799712538,-28.285409402841818,-4.062653529142945,-14.243665843917928,-6.559918197449012,1.0946917776888165,-13.485226852632087,-24.973805039384192,-17.905020902135426,-20.267942976468298,-21.518800618274927,-5.382379057523263,-22.427265264021717,-24.18805967285971,15.936058529922377,-2.5306536271418665,-23.80166219199857,8.361558829981815,10.950405568685513,8.968905154005242,-7.720917445398054,15.355813112662164,-27.74792478884963,4.108259246701834,-0.8705158745648371,-3.5786517740086854,-18.80722422846892,-5.170925397468871,1.82214796968026,-7.780985859690129,-1.9106125432919412,-16.54834472686108,-22.520600002644876,-4.355804263355883,-23.461429075456167,-26.928817137782442,-7.244236197768481,-11.239454264435176,-12.956523026998605,-25.519403831906228,-10.526712445512203,-14.79932684109305,-7.672917458447324,-0.5714867589408221,-21.96012158274202,-2.660801529124296,0.9966018237643526,-17.176750875420577,-28.10049204343937,16.450190815073608,-24.46442017876647,-24.431618695252716,1.6817608055316813,-12.999005564089565,-8.427978695213046,-3.714232403588174,-24.337171045680353,-27.65502061163848,11.897077802889397,5.0764653688769785,10.448955130951123,7.960514670661216,15.966593734546299,-23.094941135919186,7.835177663631762,-5.079831818043182,-3.1196816892843833,-20.769841833243376,-13.5071685790433,-3.3111770799895472,-9.695556622704176,-0.2391446959591253,-11.892404401305043,6.089002534802668,10.549455202213778,-28.86358031243639,-5.536913128263877,-22.48798605712528,9.804701307916051,0.25656167500905164,-0.31644811168328546,18.44726470024487,5.8975049505364705,13.76103509095218,-19.034195429030444,16.29225732373591,-5.50419099018488,-18.268497319216372,-13.248485472123363,-30.901378517573423,-18.591439277782452,5.448685152669535,-8.671510855339122,1.4456869987105245,3.0638322667686873,-9.622921802373847,-26.714592751490606,3.9775294669370225,5.663233454119881,-12.190558137471426,-9.976414517403775,-1.1818327053735005,-10.503019709206855,11.262040805681586,-21.36506456796928,-26.682508494435382,-10.179397417883854,14.667689908840277,-2.170413193003381,-19.58372686797324,-23.638695823235427,9.258437379484176,-13.676096271822615,-2.1250750442472706,-2.56230978273235,0.6855133656775705,-15.164684462686175,10.230942883272352,3.196701144665544,14.220562927809956,-22.371035985223216,18.186221245618587,8.058849926330728,-26.50125120973896,-7.710043667096531,-23.198401659917753,-11.601445592767254,-6.594836237388814,-24.92457172048133,6.0132291093612285,-7.626177079323323,-5.571134711981237,-27.821419249284652,-23.08953496677855,13.655642759626659,0.5439437888369566,11.196411173290105,-10.560896641990631,-8.380682493153339,-23.288094121373224,-29.873969123063954,4.184077106894851,-3.073023221793363,-0.6696209028648359,-24.44631935720142,15.385132866593501,-26.680124875199354,13.40095742265419,-8.642735539304795,-21.394088496948058,-18.596982394052866,-4.855123049294324,-12.614913973236986,4.661739447028668,9.887029989959771,-2.839544652211245,-4.529720562888991,-15.830206968470918,-18.88878751797622,-23.226976330873676,12.14814004393503,-1.396109608089804,-16.472161256155726,3.1696158091979987,8.63125011593985,-9.376920993417306,-22.788315903278676,-15.619026169708938,-10.733347378767037,11.430289456465973,1.9707990526755415,9.324497428676676,12.8996832917148,5.071995244355237,8.047825870514602,-0.45766220999049856,-26.26035799168772,-28.674235398611263,-24.527343303910616,-24.33276604918138,10.34275107894673,-27.892919725438652,-8.151524345722171,10.75909336512425,-20.94888188269433,-26.616827933866187,7.324571672180848,-20.273406361388723],\"y\":[-1.3701016244790947,-5.504224404864017,-6.055368906271351,-0.02007476926823426,11.698575914064598,-12.69546469573352,-18.477674225937154,-0.9119253970118355,-3.533768445291492,-18.725674443873505,-4.941742224346691,-14.397968306058743,-9.191338203038136,19.29906373286745,-19.34718495866019,-6.837521917698179,13.910680454885606,14.015526498366453,3.5755802778663117,-16.898674085555754,-9.222701940980519,-7.231062134068686,-2.9810059599472414,0.43362789574646454,-16.461119988034092,-6.862266913579532,-10.617448567937767,7.140170968616751,-18.92178978787969,-7.105818310199237,-3.9536761216728395,-9.063392412182802,18.282955225562716,-4.574012954229808,-1.9424620706233557,-7.2951233263236315,-14.50211332619217,-1.917038695240541,-11.22713671162473,-23.972564764378617,-16.024547390947664,12.603328432808196,-6.494130483858166,-2.1114655758522503,-21.049545054909764,-20.613791295347124,-20.829712553711556,13.211731286925543,-17.141460357343636,1.6251737094308751,-8.226407355846408,-2.185106786743099,5.695878749309834,7.820129480927181,-8.890639343785338,2.1616486617903488,-1.491377532751424,-6.465944284438676,-15.94569998374524,-16.59547584759393,-4.991654296896462,-11.949059028418452,-2.474860498430797,-17.631204460378907,-2.518979011332438,3.202316876783364,-6.546015226421036,0.37847230213204486,12.598946098952986,-1.9985199967323175,1.5557666236481253,-8.957931199343374,-6.866705881862499,-7.563789309228395,7.381976270278622,-19.687057995057064,-21.844360476685,-14.998704410785617,-17.9574003602125,19.269664498614574,-3.9059630420360407,-1.7132523845114318,-8.454615484933413,18.82584403726441,11.73932595065491,0.6530275473119405,-5.0978923909359946,-12.302642501971247,-11.271577321826745,-12.521192838669375,18.13615267653709,-13.774707674206132,-5.55435218595804,-10.880989784817576,-13.410368455724775,-10.162320955630985,-19.434767893531703,-4.698548650042495,-15.91026590401572,-9.100357553413474,-6.317095969592448,-10.368688161899863,-17.05496880244729,3.509873190479244,-3.3945510332085984,1.9306955506369587,-3.264592886137204,-16.532349228988632,-21.011105087386337,0.4473140426507457,-9.327010452864558,-5.870994632615488,-13.0915077394531,-21.988166649146844,11.196204437088657,-18.34469535265843,-24.712554739376728,6.598593907002379,-12.407995638938177,1.6359730249773667,-7.358154785207083,-3.522564810079578,-13.509364429078122,-2.7876035312509475,-1.916571451622513,-11.24298317216971,-5.934241796038651,-17.142935422851302,10.129401961899989,7.47786670764641,7.155025053552647,0.16138399029214,-14.530213952732014,2.7013275646336594,1.6429119696889487,4.398212874151019,-11.693870136308869,-13.405072627016745,-21.260567695710076,-8.493983418368295,-0.4302350935893594,-17.280079508768377,-10.632897092570806,14.027364689861685,-4.71511040261958,20.265850539276382,-13.02746764262425,-8.513946555846204,-22.287872355897292,-20.78885607640855,-18.263736344335026,-6.659819358118592,-15.221502307651651,-11.434686595655855,-17.335353712944382,-1.5900897241829037,-20.372155924866238,-9.297202732140489,3.3882500916883087,-2.463736584293828,3.0993727253864867,5.2545315413868545,18.484836244261363,-9.658074747898342,-10.980609387241362,-5.367080139805966,7.645301174263926,-20.739137354520388,15.709196917114513,5.977644859847966,-13.353520911549458,-15.568611917724231,3.1545968949456773,-3.675353306976448,-1.1012606232854594,-14.60648964230403,-6.057675481634548,-12.483794498270672,-22.259828365164747,-16.20477304556851,-13.958080798591157,-18.899540862406095,-17.937869195958235,-2.133951413535673,-14.833282653501353,-21.328642696388055,12.446981268555362,2.215576577504446,-21.452061930291702,-10.301460764634085,-17.220309282320137,-4.1848320254492455,-6.663858206444695,-7.083867056542404,-13.27456406646011,9.45219860969632,-15.184499648176384,-14.996554495131289,-4.561567091580003,-14.854436326866256,15.372135226546169,-2.843969111117188,14.989639228787572,6.990202259037795,-0.37836419648657316,-5.799165066596576,2.813274908370283,-2.742185629108863,0.9198087160573024,-9.368371970103377,-6.799513138623091,-4.4757173869867986,-19.153721757570302,-7.26385059432861,-21.090663181778318,15.121612453975647,2.13194713597137,2.063799733939228,-9.50801031312407,-3.953577371511573,-12.59454364127309,15.003889251979011,9.254768556737675,-15.11258867945864,5.834018008511822,-9.380746436427177,-15.977297704022993,-0.6395367345220603,-4.040644057412027,-22.73573040506279,-1.2318690987339147,3.4428072828092726,-1.1463035918742062,-16.0341688476955,-7.433345979349351,-9.145540728829607,-10.158749599405366,-6.863033723423694,-11.469277708874804,-10.824512712443584,1.466864972757655,-4.8669098714998045,7.500210168996889,12.68072724368103,1.5840184072230183,3.2474109785954446,-18.665451052382284,-0.6875313893238668,-7.252970634074351,-3.94538673222837,0.3441632165193063,-2.053085578043661,-5.989752715468868,-7.1824010839592916,14.474302038308132,-14.105928492076089,-7.548167556519427,5.485547903545592,-14.167498080155527,-20.93677956920556,-7.519486738324623,-9.061786777076769,0.5271929593268471,-6.096232007944731,-14.315595637093198,2.638621954199579,-21.177058091651187,-12.281391879877187,-8.529526258730485,-1.1501081491584946,-24.362283304831955,-8.655455589170108,-0.12591237636623315,-9.317827442347555,-1.2358760347048001,-7.250506617096452,-2.03990927700127,11.13999113261075,-9.787703013295586,-18.646213617323877,-13.686503460132053,-19.600309501582085,-4.6176160714569034,-20.962316982695192,-18.694680965897714,-25.083385677539006,-14.44983880985209,-5.610882151937972,-16.948333183773364,4.558670548871726,-12.330123773381933,-12.067074263750134,4.386746734327249,-13.950962288406638,-14.739516490942435,11.81077295004908,3.3523651714823015,-16.216352335342503,-20.851771077266292,-2.883498296923166,-3.3778423796746346,3.90589336831573,-18.731279145793483,-12.296943270088997,-11.824570432863611,-0.5966226848251586,-15.154045154275055,11.60821475194366,-5.7141316277190795,-8.179468401274587,-12.204873015360084,-14.523041254251984,-10.706725630158676,-14.946469325688483,-16.74632184988808,-5.3477859442063185,-3.3122226885392543,17.09212926045022,3.2764830101799878,0.23449349646528622,5.37030961777619,-0.17697833669253993,-9.387270182087244,19.93638425576705,6.3818943808163935,-13.767450499374354,13.686678275441473,-11.575173007911694,12.674205877564017,-19.346027611727273,12.613527053865612,-8.56295802956731,-17.972770667593032,7.126125418075127,-14.553384279199161,13.98215108729442,-4.38411136279605,0.24514082369842477,-1.261067589221239,-10.534283923567145,3.458373385956458,6.544432640152465,-3.796832215629,13.390214496620544,-5.352533043402594,-0.1826329435076384,1.4657177396265844,-13.971048183886312,-15.598824193909282,-4.753656586571854,2.3341361527011926,-8.614347794917318,-18.57940689854245,11.244017316170137,-9.868575176060947,-4.944346026903781,-19.034408455556644,-2.5258565507286153,-0.07770327945273259,-22.691070892192535,-3.9976468557714364,7.156890094500753,-2.264088432317099,13.182237934236051,-17.225216426371414,-4.658139307313002,-7.830127580227583,8.261214154061246,6.2233762028131165,7.9266574523520505,-15.11710944927674,-19.467649149397936,-16.078743451345524,15.232502838213898,-17.77105187638678,-10.96035977970619,-19.490806434321662,2.747586208689152,-4.02705208323807,-6.202599836902601,-8.505728349643572,-17.344898328234564,-1.9756906358615152,-1.6550111733294548,9.224718337407417,8.19617564541468,-7.597629268816845,-15.082369292989624,-10.418616015119948,-3.770539853864984,-12.453704416449067,-16.480011818866597,3.283148179677234,20.08795839473035,-5.483193931430627,-7.662733239706657,12.26468568651525,-18.901033508375225,6.550243752719543,-4.823230099000302,11.086717282145187,-10.882196580565385,-3.761410041189602,-19.241163497385116,-13.463767580761758,1.319854040173908,-4.080703899797932,-14.412781918556192,-14.113906388961738,-1.8891869210214238,-8.34547829941411,8.142841486104903,-24.76333922734167,-4.573263937451467,-8.794465751673325,-22.08745604018768,0.8367559316944421,-13.379344977814515,1.4915697428802184,4.042999886595086,-20.592888007412416,6.107033229724656,1.606685857880748,-11.567233670533618,-11.925194999189175,-17.335512732574266,-6.632916596257959,-8.460976678078213,-4.4609318189198905,-4.254253670652218,3.458522425201426,-19.32861683435295,-8.773877933169699,-2.449698363332642,-20.27920295009036,-3.5421355294098578,-3.0985833022779543,-20.351445366749882,3.8870669934253734,-21.978006599613305,-0.11174252764938497,-4.99468596675883,-13.478822203545544,-13.418379318590755,4.5981851788349895,-5.73924412678819,-12.93239750158726,7.372362215360828,-5.096567091013514,-6.250737033840702,-3.285765409426652,-5.483998689551056,-22.752080229722754,3.298246743282538,19.598660969345886,-24.15640516137058,-23.493048999232272,-7.078827300058256,-3.773286884584767,-16.16934911265531,-12.558679725725078,-6.675138141381439,-13.555243670045675,-25.743502308993783,-11.985508186705355,-12.15535993888025,-0.4276346626130098,-22.715288712121243,-18.446076444299067,-17.37127695118692,16.26981421902728,-5.006861525796052,-13.36060444352412,-17.629989961553452,-21.898803760024784,-9.314895789836596,-7.309704962217263,-0.9622907502148166,-0.1960967080501715,-3.189921805154418,-18.443950240149835,-20.846429641269193,-10.997983618232563,0.9972564442509373,7.8823802684198405,-2.4064585064295763,-17.23292357136603,-5.931551347334718,-12.82706890359792,3.0781632482971766,-4.893469756109894,-6.197486812419845,4.546025379362185,-10.523425235003943,-1.8938116345366942,-7.630323779088937,-6.5478096949847036,16.33908197908919,6.844158779177939,9.300299368856097,-19.640826083035503,9.183982920044377,-16.45758499018243,-5.515371706063239,-15.449836568441587,-0.5218397512730263,14.905493542354474,-3.446436660243891,0.17295571463268777,5.19230763184924,-10.14460207380212,6.486597075313144,-1.6380386366807387,-11.473850141857698,5.818539222649614,-4.291824005755709,7.311196017626519,-16.982914804419096,-5.415490256955012,-7.913266749799391,-13.85628003309561,13.775153770181372,2.4345925425558197,-24.903237177430967,3.9523560970904232,6.346449109549112,-16.93072988415384,-23.368164126914845,2.7055637511002995,-15.77251424135698,-15.869767475472072,9.24761657677462,-21.411773612686183,-9.975996313057,12.660774665808368,-19.17597357935374,-1.8549234670570611,-13.339471208461555,-15.502629059087651,-3.7621650787899936,1.5544584826547276,-14.996096543417211,0.1785388179368893,-7.145623508193599,-1.1965077738943317,-14.593278011282376,-12.920164900610125,5.92275085649493,-6.420242950461613,-7.223450809567695,15.55258434960826,-19.15429898638999,-12.823585683078015,-9.270272466736726,19.135895774233653,-16.67966653934063,-0.7460857230115074,7.751484347402396,-3.263373711074198,-17.115084413515703,-15.952873829040911,-3.2178836294642412,-2.2525532646188746,13.748332905356717,-12.54620320228565,4.659609171698256,-6.891564266082851,9.883459152620743,2.9830776837925774,-1.6905798464330617,-9.329497066671681,1.2894403229482148,18.77987374284843,-12.409669999385907,-7.787525171005491,-7.6282469497464325,4.9901603295953745,-7.982691609994284,-1.9193469065025448,-4.986956127406357,1.2082702441575606,-22.60951858296469,-16.634458863858093,-3.171391877184655,-1.8412859481797823,-12.503162113259801,17.23084259116033,-5.1939724677348105,-1.9415788090726416,5.685900460806775,-3.4976087731591607,2.396676418009901,-6.306548166980308,0.4791756953582783,9.031195440642973,-13.779894351055225,-14.333828088287023,-5.342235281952523,-15.256687729666917,-16.542464266576633,-1.921562091071491,-4.621459870548962,-23.09587628408022,-23.079845541178578,3.886748313580125,-8.076710574445183,11.801611351832921,6.543065273630573,0.5793073513476141,-9.02070294172438,-10.878682811867327,-14.256764331162852,-13.149361090344337,-6.3089034583113826,4.718228592501321,-2.953481061832677,-15.992300536823013,-4.150476706695902,-16.85769392449066,-1.8588140766040788,5.82260131315161,-12.830293723522782,-11.150025212565902,1.3704882779859002,-10.842995997520687,-3.6250233919167396,8.404638023266664,-2.1261265367421327,-18.41798024043799,-13.094692092780583,-5.5268928067371474,9.727086601870617,2.0101172145227877,7.632856494951861,-14.419640601471745,1.4728166976186996,-3.571989751513788,-11.398551426451512,9.234019081164638,3.988406770839098,-9.372594108815369,5.165175432367577,-0.8179573965781939,-13.395402761380318,1.9047896441066074,-4.830279423669204,3.7462395769859995,-15.896202650869991,-19.85322933965496,2.009456251816965,-15.306013767088638,-8.747371808933812,-16.6635299953765,2.846271703990217,14.062299309103912,-2.466638942777017,-5.597865279758771,-5.718858347444317,6.778100258093211,-10.680701548532584,-22.793710546326388,-12.874644575944263,-1.8579069473040974,-14.742164528582984,-16.938632884729323,12.317032784404002,-6.451158145813452,-12.461626178035349,1.027754553550634,-0.08155496904109838,-3.493750464391114,7.9035478930540215,-0.8813407248040263,-3.878482435013849,5.206324133897125,-3.699826661155236,5.013106792968012,-10.881410621343358,-10.29191048570073,0.35421717733960634,-5.566915458560604,-10.498365082204865,-8.96795569601477,13.097488932588197,-13.44371484427121,-0.9477463955833265,-16.91149983051334,-7.692949180633095,-4.346049307763446,-24.049366094828056,-4.692722558199955,-11.380166469294878,-7.633439830209815,-7.528498896702838,-0.8030206093795617,5.677679935949732,-19.139026184179123,-16.66531868607593,6.399202050914811,0.9142543083660971,-4.407347450941532,-21.11046692687569,2.896820232484895,-11.927251064441345,-2.575362642146367,2.4836433253982846,5.131553804943428,5.118554581095363,-14.614323762043233,-2.444234258810153,13.490522758321132,-0.081119726560973,-0.6152549496491582,11.709786088360522,-21.402909298078647,3.7023666684058925,-11.635547280368794,-19.52021608601363,4.478539315015341,-8.889278983181129,-0.7313143561601124,-6.180346788416529,-11.735907789776325,-13.708336728536514,14.706302879837958,-5.494457858363598,5.166655525068268,-17.487894362882514,13.76089142614176,0.08314347819257709,-3.2799113513288782,10.481844246755681,0.22943048690808582,14.444443760555023,-10.741247084366565,-13.465728014489011,-20.446170545173338,2.923192169248541,-7.977483829159654,-11.786958887180365,-15.465354981681317,15.529859849815507,-0.9524736099906345,-2.822096160651726,6.077914422118465,4.204561054284568,-16.383674725157697,-8.135019229280381,21.511545320495603,-21.113922884513812,-14.537988957954767,19.90893668784245,12.68315514101024,-20.378119219715067,18.300361577528534,-23.06459763643806,-2.188191132227219,4.944081202231551,-4.944120048381771,-12.011659106203203,-0.35609005583531783,-22.715134235426362,-12.84254409944845,-7.917784183059551,-5.268913790160244,-18.71666005806778,7.748002862669278,-2.070778657605463,-16.94710012516544,4.588781301276761,-2.7058600669577357,-19.11234271618644,11.28411670832825,-1.0109196248811383,20.516471441129998,-17.24674273618591,-10.407147324165434,4.314879640628996,6.521721127233625,-8.586348301876956,8.241434843709298,-13.762136889418862,-1.4823712318287756,-3.859103001401317,-20.388607043747662,-15.10976677023363,-12.519237405098705,-25.173786208080415,-5.519364760894436,-18.753190942316134,-21.465455305275995,-17.31329522871062,-3.1939947016682373,6.351535749238025,-14.822267385691932,-12.298669996980772,-20.669462572114917,-17.22285783110716,-4.588519732690334,-22.555135368802137,6.912580729337082,9.523426920180546,-1.2421143367175427,-6.1153020260180595,18.139355408156895,-19.051850981663424,-2.7736113213384974,5.937152717969902,-6.604589745605323,-5.900353506581443,-4.748338312973808,-5.609604400116339,7.850664557028686,-5.671209711404239,-13.590697521829723,-15.60636685222347,-24.156872191660213,-23.545929342508114,-9.871022284550662,0.2597582522708018,9.673448779257756,-19.804906588900405,10.2287048981482,-5.7437098328819625,-2.4928759764921486,18.172986226446405,-19.615840683406706,-6.116721426761927,14.79053788147902,-18.865565271666547,-3.8075163496344215,12.591327541731495,-7.564829049404615,-13.208275303657121,-6.711973630047866,9.398220961924169,4.411281135808469,7.3239320873914036,-9.65569506480786,-7.061115199673828,5.71370260447779,-18.428996771794885,14.774584978359856,3.1206471796240285,0.7759637226878827,-9.150369255057104,-14.341801017242021,0.6481154202470565,-4.371950903208446,8.880392828035589,-18.303618143522723,-3.3907358038313395,7.36074232718478,-6.347858884993071,-11.458927786339025,-23.550148330098857,-5.599511542996022,4.436742785290494,-14.315316827845365,-14.030388866679532,-9.16092474502002,0.57122253670682,-10.99483860705589,-0.4904104147826033,-10.689110995989925,-20.541504408674005,-7.190798210147111,0.16814356777680334,1.6592617095277635,9.117558780672734,-6.936327929440137,9.598730562126034,-19.33702399805873,-4.557642819409595,-20.93164803136896,8.164678770071884,-5.9248149687877,-17.83654475504047,-6.102836631356403,4.3887655903336125,6.919525573481286,-10.742340682182544,6.562231417138439,-11.638213286546081,-12.575581228516395,-12.619081968215854,-16.662037113713062,-24.7708968746528,-15.880227522835561,-4.606414894105934,4.654984068229521,-15.090782397825853,-2.9125086122973407,-18.312879157611825,-5.191406628499074,-8.974511371966512,-2.57411723754289,-7.156344176700589,-17.437369551086114,-19.6778927693075,20.46843648454752,10.244071124389338,5.334684080025402,3.269416086476455,14.900698538684738,21.422109426536608,-7.737626945979244,-15.20209936082024,-11.08041773551339,-6.213705045333714,-5.629627541512582,-16.48978182357393,-16.996928776008662,10.89345796110747,8.477497061250807,-12.560554212616674,-7.852237045492292,-0.3028676954642288,-7.037090085906255,5.182916219819862,15.266145154430461,3.264107607850592,16.28054541254374,3.8020947002341003,-16.534298649030635,-7.961935074222563,-0.7033759612652338,-22.454819312442968,-16.08007720843364,-9.75483480582853,-3.4033468846552433,10.447422620580925,11.919375183593075,-0.18476341203506114,-14.465032127306976,13.66110012176653,-11.36140485534029]}},\"id\":\"130dccab-8427-4144-b8c9-7e54b06336b4\",\"type\":\"ColumnDataSource\"},{\"attributes\":{\"fill_alpha\":{\"value\":0.2},\"fill_color\":{\"value\":\"red\"},\"line_color\":{\"value\":\"red\"},\"size\":{\"units\":\"screen\",\"value\":10},\"x\":{\"field\":\"x\"},\"y\":{\"field\":\"y\"}},\"id\":\"6642ca3e-e291-438a-bf3c-54825d319734\",\"type\":\"Circle\"},{\"attributes\":{\"plot\":{\"id\":\"98e262a1-1a0b-4331-bd65-ecd8cf1af464\",\"subtype\":\"Figure\",\"type\":\"Plot\"}},\"id\":\"ab1aa6d8-0e58-446f-af87-9717673972d4\",\"type\":\"WheelZoomTool\"},{\"attributes\":{\"plot\":{\"id\":\"98e262a1-1a0b-4331-bd65-ecd8cf1af464\",\"subtype\":\"Figure\",\"type\":\"Plot\"},\"ticker\":{\"id\":\"98406a9b-1cf6-47de-8ef8-68003ccf9163\",\"type\":\"BasicTicker\"}},\"id\":\"9cd53aa0-1009-4ea7-baf4-2697a3d30fec\",\"type\":\"Grid\"},{\"attributes\":{\"bottom_units\":\"screen\",\"fill_alpha\":{\"value\":0.5},\"fill_color\":{\"value\":\"lightgrey\"},\"left_units\":\"screen\",\"level\":\"overlay\",\"line_alpha\":{\"value\":1.0},\"line_color\":{\"value\":\"black\"},\"line_dash\":[4,4],\"line_width\":{\"value\":2},\"plot\":null,\"render_mode\":\"css\",\"right_units\":\"screen\",\"top_units\":\"screen\"},\"id\":\"9c24aa8c-2fc8-4aaa-98f5-7464c159a5fe\",\"type\":\"BoxAnnotation\"},{\"attributes\":{\"fill_alpha\":{\"value\":0.2},\"fill_color\":{\"value\":\"navy\"},\"line_color\":{\"value\":\"navy\"},\"size\":{\"units\":\"screen\",\"value\":10},\"x\":{\"field\":\"x\"},\"y\":{\"field\":\"y\"}},\"id\":\"b538c68f-2f56-4278-963a-1108c8f1f037\",\"type\":\"Circle\"},{\"attributes\":{\"data_source\":{\"id\":\"084751af-9886-437e-a89a-faa6d3d55a38\",\"type\":\"ColumnDataSource\"},\"glyph\":{\"id\":\"6642ca3e-e291-438a-bf3c-54825d319734\",\"type\":\"Circle\"},\"hover_glyph\":null,\"nonselection_glyph\":{\"id\":\"85f36c90-09d4-4950-ac88-f8b782f26fb3\",\"type\":\"Circle\"},\"selection_glyph\":null},\"id\":\"ae8a187c-c34c-4b92-8347-032425fec16e\",\"type\":\"GlyphRenderer\"},{\"attributes\":{\"callback\":null},\"id\":\"ff5e5cf2-7162-4fec-83e9-1cbfa1ad1ba1\",\"type\":\"DataRange1d\"},{\"attributes\":{\"below\":[{\"id\":\"34b92dae-b8dc-4088-b938-a4a2236f603c\",\"type\":\"LinearAxis\"}],\"left\":[{\"id\":\"12502cfd-4919-43e7-99a6-7f781d3b7e5c\",\"type\":\"LinearAxis\"}],\"renderers\":[{\"id\":\"34b92dae-b8dc-4088-b938-a4a2236f603c\",\"type\":\"LinearAxis\"},{\"id\":\"9cd53aa0-1009-4ea7-baf4-2697a3d30fec\",\"type\":\"Grid\"},{\"id\":\"12502cfd-4919-43e7-99a6-7f781d3b7e5c\",\"type\":\"LinearAxis\"},{\"id\":\"c33adf75-11ce-4907-aa8a-b5cb598705c9\",\"type\":\"Grid\"},{\"id\":\"9c24aa8c-2fc8-4aaa-98f5-7464c159a5fe\",\"type\":\"BoxAnnotation\"},{\"id\":\"e51a4920-4ce7-4f07-add4-69e019cec628\",\"type\":\"GlyphRenderer\"},{\"id\":\"ae8a187c-c34c-4b92-8347-032425fec16e\",\"type\":\"GlyphRenderer\"}],\"title\":{\"id\":\"be26e3ae-364e-4405-a695-a877beed2c4b\",\"type\":\"Title\"},\"tool_events\":{\"id\":\"a2f57681-49eb-4016-bcb6-ae3d1cd2592b\",\"type\":\"ToolEvents\"},\"toolbar\":{\"id\":\"2ebe300e-1d1d-41a4-b51a-52a7fc4c0d4d\",\"type\":\"Toolbar\"},\"x_range\":{\"id\":\"ff5e5cf2-7162-4fec-83e9-1cbfa1ad1ba1\",\"type\":\"DataRange1d\"},\"y_range\":{\"id\":\"63ee833f-4c88-40e8-9aeb-b8c9ac21ec44\",\"type\":\"DataRange1d\"}},\"id\":\"98e262a1-1a0b-4331-bd65-ecd8cf1af464\",\"subtype\":\"Figure\",\"type\":\"Plot\"},{\"attributes\":{},\"id\":\"98406a9b-1cf6-47de-8ef8-68003ccf9163\",\"type\":\"BasicTicker\"},{\"attributes\":{\"dimension\":1,\"plot\":{\"id\":\"98e262a1-1a0b-4331-bd65-ecd8cf1af464\",\"subtype\":\"Figure\",\"type\":\"Plot\"},\"ticker\":{\"id\":\"9109d56d-e75b-48dc-b5cd-0447ffe29511\",\"type\":\"BasicTicker\"}},\"id\":\"c33adf75-11ce-4907-aa8a-b5cb598705c9\",\"type\":\"Grid\"},{\"attributes\":{\"formatter\":{\"id\":\"45ee9004-0708-4811-be00-e02f4d844263\",\"type\":\"BasicTickFormatter\"},\"plot\":{\"id\":\"98e262a1-1a0b-4331-bd65-ecd8cf1af464\",\"subtype\":\"Figure\",\"type\":\"Plot\"},\"ticker\":{\"id\":\"9109d56d-e75b-48dc-b5cd-0447ffe29511\",\"type\":\"BasicTicker\"}},\"id\":\"12502cfd-4919-43e7-99a6-7f781d3b7e5c\",\"type\":\"LinearAxis\"},{\"attributes\":{},\"id\":\"e125aaee-f95e-4bcb-9f4d-dbc968110616\",\"type\":\"BasicTickFormatter\"},{\"attributes\":{\"fill_alpha\":{\"value\":0.1},\"fill_color\":{\"value\":\"#1f77b4\"},\"line_alpha\":{\"value\":0.1},\"line_color\":{\"value\":\"#1f77b4\"},\"size\":{\"units\":\"screen\",\"value\":10},\"x\":{\"field\":\"x\"},\"y\":{\"field\":\"y\"}},\"id\":\"85f36c90-09d4-4950-ac88-f8b782f26fb3\",\"type\":\"Circle\"},{\"attributes\":{},\"id\":\"9109d56d-e75b-48dc-b5cd-0447ffe29511\",\"type\":\"BasicTicker\"},{\"attributes\":{\"active_drag\":\"auto\",\"active_scroll\":\"auto\",\"active_tap\":\"auto\",\"tools\":[{\"id\":\"f864ee9a-dd69-4b8d-8041-91b9a5638543\",\"type\":\"HoverTool\"},{\"id\":\"fd25093c-da49-4396-a2bb-e06b03c5c3d6\",\"type\":\"PanTool\"},{\"id\":\"ab1aa6d8-0e58-446f-af87-9717673972d4\",\"type\":\"WheelZoomTool\"},{\"id\":\"f455288d-6d6d-42f4-96a7-912649657a2a\",\"type\":\"BoxZoomTool\"},{\"id\":\"4666f1d9-784e-4b55-8151-e18ce8db74a0\",\"type\":\"ResetTool\"},{\"id\":\"4557ccfd-bffa-4871-b05d-a1a8e7848880\",\"type\":\"SaveTool\"}]},\"id\":\"2ebe300e-1d1d-41a4-b51a-52a7fc4c0d4d\",\"type\":\"Toolbar\"},{\"attributes\":{\"plot\":null,\"text\":\"Word visualization\"},\"id\":\"be26e3ae-364e-4405-a695-a877beed2c4b\",\"type\":\"Title\"},{\"attributes\":{\"formatter\":{\"id\":\"e125aaee-f95e-4bcb-9f4d-dbc968110616\",\"type\":\"BasicTickFormatter\"},\"plot\":{\"id\":\"98e262a1-1a0b-4331-bd65-ecd8cf1af464\",\"subtype\":\"Figure\",\"type\":\"Plot\"},\"ticker\":{\"id\":\"98406a9b-1cf6-47de-8ef8-68003ccf9163\",\"type\":\"BasicTicker\"}},\"id\":\"34b92dae-b8dc-4088-b938-a4a2236f603c\",\"type\":\"LinearAxis\"}],\"root_ids\":[\"98e262a1-1a0b-4331-bd65-ecd8cf1af464\"]},\"title\":\"Bokeh Application\",\"version\":\"0.12.0\"}};\n",
       "            var render_items = [{\"docid\":\"049331e5-ca13-4a7a-acc3-0109a6f57186\",\"elementid\":\"39b95373-7f75-4e5f-a8f7-d59400b059df\",\"modelid\":\"98e262a1-1a0b-4331-bd65-ecd8cf1af464\",\"notebook_comms_target\":\"72a1ac56-5415-43bb-97d1-798003204cb6\"}];\n",
       "            \n",
       "            Bokeh.embed.embed_items(docs_json, render_items);\n",
       "        });\n",
       "      },\n",
       "      function(Bokeh) {\n",
       "      }\n",
       "    ];\n",
       "  \n",
       "    function run_inline_js() {\n",
       "      for (var i = 0; i < inline_js.length; i++) {\n",
       "        inline_js[i](window.Bokeh);\n",
       "      }\n",
       "    }\n",
       "  \n",
       "    if (window._bokeh_is_loading === 0) {\n",
       "      console.log(\"Bokeh: BokehJS loaded, going straight to plotting\");\n",
       "      run_inline_js();\n",
       "    } else {\n",
       "      load_libs(js_urls, function() {\n",
       "        console.log(\"Bokeh: BokehJS plotting callback run at\", now());\n",
       "        run_inline_js();\n",
       "      });\n",
       "    }\n",
       "  }(this));\n",
       "</script>"
      ]
     },
     "metadata": {},
     "output_type": "display_data"
    }
   ],
   "source": [
    "unseen_words = plot_tsne(glove_100, 1000)"
   ]
  },
  {
   "cell_type": "code",
   "execution_count": 26,
   "metadata": {
    "collapsed": false
   },
   "outputs": [
    {
     "name": "stdout",
     "output_type": "stream",
     "text": [
      "europython, jmlr, datashader, preprint, print_statement, pypi, icml, numfocus, reproducibility, bibtex, jupyter, hyperparameter, euroscipy, seabikes, rwatch, uwsgi, ngcmsummeracademy, percona, numpy, joblib, cython, neuroimaging, iclr, prni, blacklivesmatter, polyconf, barbagroup, pydatabln, alifexv, wikitables, wssspe, colormap, brexit, factorization, sourceness, mcpenface, ohbm, dadaist, centenial, decoders, pydata, moogles, plotly, subsampling, orlandoshooting, benv, lstms, perceptron, nilearn, datascience, pyconopenspace, scipy, proxysql, prereleas, resnet, __past__, machinelearning, tensorflow, brainhack, ceval, pytn, matplotlib, cffi, sklearn, ipython, scikit, sparsity, prompt_toolkit, pyconca, cardinality, automl, openai, pydataparis, kubernetes, theano, pydatalondon, deeplearning, sgdq\n"
     ]
    }
   ],
   "source": [
    "print(', '.join(unseen_words))"
   ]
  },
  {
   "cell_type": "code",
   "execution_count": 27,
   "metadata": {
    "collapsed": true
   },
   "outputs": [],
   "source": [
    "def tokenize_dataset(tokenizer, dataset):\n",
    "    tokenize_dataset = []\n",
    "    for tweet in dataset:\n",
    "        # Replace different numbers with a token\n",
    "        tweet = re.sub(r\"\\.\\d+\\s*\", \".<number> \", tweet)\n",
    "        tweet = re.sub(r\"\\d+\\s*\", \" <number> \", tweet)\n",
    "        tokens = tokenizer(tweet)\n",
    "        tokenize_dataset.append(tokens)\n",
    "    return tokenize_dataset"
   ]
  },
  {
   "cell_type": "code",
   "execution_count": 28,
   "metadata": {
    "collapsed": false
   },
   "outputs": [],
   "source": [
    "X_train_tokenized = tokenize_dataset(TweetTokenizer().tokenize, X_train)\n",
    "X_test_tokenized = tokenize_dataset(TweetTokenizer().tokenize, X_test)"
   ]
  },
  {
   "cell_type": "code",
   "execution_count": 29,
   "metadata": {
    "collapsed": true
   },
   "outputs": [],
   "source": [
    "def get_embeddings(dataset, dictionary, embedding_size):\n",
    "    X_emebeddings = []\n",
    "    for tweet in dataset:\n",
    "        tweet_embeddings = []\n",
    "        for word in tweet:\n",
    "            if word in dictionary:\n",
    "                tweet_embeddings.append(dictionary[word])\n",
    "        if not tweet_embeddings:\n",
    "            tweet_embeddings.append(np.zeros(embedding_size))\n",
    "        # Each tweet would have a different number of words and ML techniques requiere fixed inputs. \n",
    "        X_emebeddings.append(np.mean(np.asarray(tweet_embeddings, dtype=np.float32), axis=0))\n",
    "    return X_emebeddings"
   ]
  },
  {
   "cell_type": "code",
   "execution_count": 30,
   "metadata": {
    "collapsed": true
   },
   "outputs": [],
   "source": [
    "X_train_GloVe = get_embeddings(X_train_tokenized, glove_100, 100)\n",
    "X_test_GloVe = get_embeddings(X_test_tokenized, glove_100, 100)"
   ]
  },
  {
   "cell_type": "markdown",
   "metadata": {},
   "source": [
    "## 4.2. But I want to train word embeddings with my own data!"
   ]
  },
  {
   "cell_type": "code",
   "execution_count": 31,
   "metadata": {
    "collapsed": false
   },
   "outputs": [],
   "source": [
    "from gensim.models import word2vec"
   ]
  },
  {
   "cell_type": "code",
   "execution_count": 32,
   "metadata": {
    "collapsed": false
   },
   "outputs": [],
   "source": [
    "# Initialize and train the model (this will take some time)\n",
    "model = word2vec.Word2Vec(X_train_tokenized, \n",
    "                          workers = 4,\n",
    "                          size = 100,  \n",
    "                          min_count = 1,     # How many times a word should appear to be taken into account\n",
    "                          window = 5, \n",
    "                          sample = 1e-3 ,    # Downsample setting for frequent words\n",
    "                          batch_words = 100) # Batches of examples passed to worker threads \n",
    "\n",
    "# This model won't be updated\n",
    "model.init_sims(replace=True)\n",
    "\n",
    "model_name = \"word2vec\"\n",
    "model.save(model_name)"
   ]
  },
  {
   "cell_type": "code",
   "execution_count": 33,
   "metadata": {
    "collapsed": false,
    "scrolled": true
   },
   "outputs": [
    {
     "data": {
      "text/plain": [
       "(4193, 100)"
      ]
     },
     "execution_count": 33,
     "metadata": {},
     "output_type": "execute_result"
    }
   ],
   "source": [
    "model.syn0.shape"
   ]
  },
  {
   "cell_type": "code",
   "execution_count": 34,
   "metadata": {
    "collapsed": false
   },
   "outputs": [
    {
     "data": {
      "text/html": [
       "\n",
       "\n",
       "    <div class=\"bk-root\">\n",
       "        <div class=\"plotdiv\" id=\"d723fea0-8fdc-41d3-9d85-34bc1e2d211f\"></div>\n",
       "    </div>\n",
       "<script type=\"text/javascript\">\n",
       "  \n",
       "  (function(global) {\n",
       "    function now() {\n",
       "      return new Date();\n",
       "    }\n",
       "  \n",
       "    if (typeof (window._bokeh_onload_callbacks) === \"undefined\") {\n",
       "      window._bokeh_onload_callbacks = [];\n",
       "    }\n",
       "  \n",
       "    function run_callbacks() {\n",
       "      window._bokeh_onload_callbacks.forEach(function(callback) { callback() });\n",
       "      delete window._bokeh_onload_callbacks\n",
       "      console.info(\"Bokeh: all callbacks have finished\");\n",
       "    }\n",
       "  \n",
       "    function load_libs(js_urls, callback) {\n",
       "      window._bokeh_onload_callbacks.push(callback);\n",
       "      if (window._bokeh_is_loading > 0) {\n",
       "        console.log(\"Bokeh: BokehJS is being loaded, scheduling callback at\", now());\n",
       "        return null;\n",
       "      }\n",
       "      if (js_urls == null || js_urls.length === 0) {\n",
       "        run_callbacks();\n",
       "        return null;\n",
       "      }\n",
       "      console.log(\"Bokeh: BokehJS not loaded, scheduling load and callback at\", now());\n",
       "      window._bokeh_is_loading = js_urls.length;\n",
       "      for (var i = 0; i < js_urls.length; i++) {\n",
       "        var url = js_urls[i];\n",
       "        var s = document.createElement('script');\n",
       "        s.src = url;\n",
       "        s.async = false;\n",
       "        s.onreadystatechange = s.onload = function() {\n",
       "          window._bokeh_is_loading--;\n",
       "          if (window._bokeh_is_loading === 0) {\n",
       "            console.log(\"Bokeh: all BokehJS libraries loaded\");\n",
       "            run_callbacks()\n",
       "          }\n",
       "        };\n",
       "        s.onerror = function() {\n",
       "          console.warn(\"failed to load library \" + url);\n",
       "        };\n",
       "        console.log(\"Bokeh: injecting script tag for BokehJS library: \", url);\n",
       "        document.getElementsByTagName(\"head\")[0].appendChild(s);\n",
       "      }\n",
       "    };var element = document.getElementById(\"d723fea0-8fdc-41d3-9d85-34bc1e2d211f\");\n",
       "    if (element == null) {\n",
       "      console.log(\"Bokeh: ERROR: autoload.js configured with elementid 'd723fea0-8fdc-41d3-9d85-34bc1e2d211f' but no matching script tag was found. \")\n",
       "      return false;\n",
       "    }\n",
       "  \n",
       "    var js_urls = [];\n",
       "  \n",
       "    var inline_js = [\n",
       "      function(Bokeh) {\n",
       "        Bokeh.$(function() {\n",
       "            var docs_json = {\"300c0d19-86e1-4666-b8ec-e1fba405c4c5\":{\"roots\":{\"references\":[{\"attributes\":{\"dimension\":1,\"plot\":{\"id\":\"a1d37a72-1659-46dc-8981-891fe369d653\",\"subtype\":\"Figure\",\"type\":\"Plot\"},\"ticker\":{\"id\":\"fce083a7-92de-4f9f-9195-7895471ea907\",\"type\":\"BasicTicker\"}},\"id\":\"dd5e966a-c4ba-465e-b9d2-87503fdc0e2d\",\"type\":\"Grid\"},{\"attributes\":{\"formatter\":{\"id\":\"f159e72b-e447-4c0c-80e1-37951fffa4b6\",\"type\":\"BasicTickFormatter\"},\"plot\":{\"id\":\"a1d37a72-1659-46dc-8981-891fe369d653\",\"subtype\":\"Figure\",\"type\":\"Plot\"},\"ticker\":{\"id\":\"80c1cfa7-b60a-4727-90e7-3cd671646470\",\"type\":\"BasicTicker\"}},\"id\":\"6d3050f6-83d2-4a30-8ac3-6cd72d9dd526\",\"type\":\"LinearAxis\"},{\"attributes\":{\"callback\":null},\"id\":\"3e80d6cd-6840-49b1-8a9c-3019e3dfe31d\",\"type\":\"DataRange1d\"},{\"attributes\":{\"plot\":{\"id\":\"a1d37a72-1659-46dc-8981-891fe369d653\",\"subtype\":\"Figure\",\"type\":\"Plot\"}},\"id\":\"07207910-ffd0-4ffe-80d9-f3ee57f04bce\",\"type\":\"PanTool\"},{\"attributes\":{\"plot\":{\"id\":\"a1d37a72-1659-46dc-8981-891fe369d653\",\"subtype\":\"Figure\",\"type\":\"Plot\"},\"ticker\":{\"id\":\"80c1cfa7-b60a-4727-90e7-3cd671646470\",\"type\":\"BasicTicker\"}},\"id\":\"1a25d739-eb45-494c-8dda-f4bdef9c37d3\",\"type\":\"Grid\"},{\"attributes\":{},\"id\":\"f159e72b-e447-4c0c-80e1-37951fffa4b6\",\"type\":\"BasicTickFormatter\"},{\"attributes\":{\"fill_alpha\":{\"value\":0.1},\"fill_color\":{\"value\":\"#1f77b4\"},\"line_alpha\":{\"value\":0.1},\"line_color\":{\"value\":\"#1f77b4\"},\"size\":{\"units\":\"screen\",\"value\":10},\"x\":{\"field\":\"x\"},\"y\":{\"field\":\"y\"}},\"id\":\"68cbc293-fa4c-45cf-a8e4-7aca808ac634\",\"type\":\"Circle\"},{\"attributes\":{\"callback\":null,\"column_names\":[\"words_sis\",\"range_words\",\"y\",\"x\"],\"data\":{\"range_words\":[1,2,3,4,5,6,7,8,9,10,11,12,13,14,15,16,17,18,19,20,21,22,23,24,25,26,27,28,29,30,31,32,33,34,35,36,37,38,39,40,41,42,43,44,45,46,47,48,49,50,51,52,53,54,55,56,57,58,59,60,61,62,63,64,65,66,67,68,69,70,71,72,73,74,75,76,77,78,79,80,81,82,83,84,85,86,87,88,89,90,91,92,93,94,95,96,97,98,99,100,101,102,103,104,105,106,107,108,109,110,111,112,113,114,115,116,117,118,119,120,121,122,123,124,125,126,127,128,129,130,131,132,133,134,135,136,137,138,139,140,141,142,143,144,145,146,147,148,149,150,151,152,153,154,155,156,157,158,159,160,161,162,163,164,165,166,167,168,169,170,171,172,173,174,175,176,177,178,179,180,181,182,183,184,185,186,187,188,189,190,191,192,193,194,195,196,197,198,199,200,201,202,203,204,205,206,207,208,209,210,211,212,213,214,215,216,217,218,219,220,221,222,223,224,225,226,227,228,229,230,231,232,233,234,235,236,237,238,239,240,241,242,243,244,245,246,247,248,249,250,251,252,253,254,255,256,257,258,259,260,261,262,263,264,265,266,267,268,269,270,271,272,273,274,275,276,277,278,279,280,281,282,283,284,285,286,287,288,289,290,291,292,293,294,295,296,297,298,299,300,301,302,303,304,305,306,307,308,309,310,311,312,313,314,315,316,317,318,319,320,321,322,323,324,325,326,327,328,329,330,331,332,333,334,335,336,337,338,339,340,341,342,343,344,345,346,347,348,349,350,351,352,353,354,355,356,357,358,359,360,361,362,363,364,365,366,367,368,369,370,371,372,373,374,375,376,377,378,379,380,381,382,383,384,385,386,387,388,389,390,391,392,393,394,395,396,397,398,399,400,401,402,403,404,405,406,407,408,409,410,411,412,413,414,415,416,417,418,419,420,421,422,423,424,425,426,427,428,429,430,431,432,433,434,435,436,437,438,439,440,441,442,443,444,445,446,447,448,449,450,451,452,453,454,455,456,457,458,459,460,461,462,463,464,465,466,467,468,469,470,471,472,473,474,475,476,477,478,479,480,481,482,483,484,485,486,487,488,489,490,491,492,493,494,495,496,497,498,499,500,501,502,503,504,505,506,507,508,509,510,511,512,513,514,515,516,517,518,519,520,521,522,523,524,525,526,527,528,529,530,531,532,533,534,535,536,537,538,539,540,541,542,543,544,545,546,547,548,549,550,551,552,553,554,555,556,557,558,559,560,561,562,563,564,565,566,567,568,569,570,571,572,573,574,575,576,577,578,579,580,581,582,583,584,585,586,587,588,589,590,591,592,593,594,595,596,597,598,599,600,601,602,603,604,605,606,607,608,609,610,611,612,613,614,615,616,617,618,619,620,621,622,623,624,625,626,627,628,629,630,631,632,633,634,635,636,637,638,639,640,641,642,643,644,645,646,647,648,649,650,651,652,653,654,655,656,657,658,659,660,661,662,663,664,665,666,667,668,669,670,671,672,673,674,675,676,677,678,679,680,681,682,683,684,685,686,687,688,689,690,691,692,693,694,695,696,697,698,699,700,701,702,703,704,705,706,707,708,709,710,711,712,713,714,715,716,717,718,719,720,721,722,723,724,725,726,727,728,729,730,731,732,733,734,735,736,737,738,739,740,741,742,743,744,745,746,747,748,749,750,751,752,753,754,755,756,757,758,759,760,761,762,763,764,765,766,767,768,769,770,771,772,773,774,775,776,777,778,779,780,781,782,783,784,785,786,787,788,789,790,791,792,793,794,795,796,797,798,799,800,801,802,803,804,805,806,807,808,809,810,811,812,813,814,815,816,817,818,819,820,821,822,823,824,825,826,827,828,829,830,831,832,833,834,835,836,837,838,839,840,841,842,843,844,845,846,847,848,849,850,851,852,853,854,855,856,857,858,859,860,861,862,863,864,865,866,867,868,869,870,871,872,873,874,875,876,877,878,879,880,881,882,883,884,885,886,887,888,889,890,891,892,893,894,895,896,897,898,899,900,901,902,903,904,905,906,907,908,909,910,911,912,913,914,915,916,917,918,919,920,921,922,923,924,925],\"words_sis\":[\"choice\",\"year\",\"years\",\"rolling\",\"stories\",\"saved\",\"looking\",\"brain\",\"e\",\"proposals\",\"thought\",\"frank\",\"hearing\",\"meeting\",\"nothing\",\"seeds\",\"bruce\",\"guy\",\"room\",\"sometimes\",\"city\",\"months\",\"docs\",\"read\",\"different\",\"compelling\",\"least\",\"since\",\"lemonade\",\"almost\",\"gpus\",\"dance\",\"p\",\"bought\",\"keep\",\"sentiment\",\"friends\",\"band\",\"new\",\"underrated\",\"icymi\",\"many\",\"non\",\"data\",\"floor\",\"game\",\"factory\",\"served\",\"mcpenface\",\"took\",\"movie\",\"countries\",\"dc\",\"touch\",\"rape\",\"standards\",\"slack\",\"worried\",\"called\",\"topics\",\"caesar\",\"silly\",\"sadly\",\"canada\",\"research\",\"food\",\"upcoming\",\"til\",\"tuned\",\"position\",\"goals\",\"university\",\"booth\",\"learn\",\"slow\",\"men\",\"_\",\"instead\",\"believe\",\"languages\",\"c\",\"course\",\"thinking\",\"real\",\"g\",\"knows\",\"ff\",\"high\",\"run\",\"drive\",\"making\",\"give\",\"interview\",\"hail\",\"posting\",\"like\",\"published\",\"kid\",\"felt\",\"remember\",\"play\",\"reviewer\",\"constraint\",\"talk\",\"session\",\"crypto\",\"webcams\",\"directly\",\"explains\",\"wow\",\"obama\",\"weird\",\"bullies\",\"used\",\"probably\",\"outline\",\"maybe\",\"june\",\"take\",\"cool\",\"power\",\"voice\",\"mac\",\"spending\",\"way\",\"reports\",\"wearing\",\"python\",\"openstack\",\"stop\",\"evil\",\"finish\",\"middle\",\"round\",\"tells\",\"learned\",\"brexit\",\"seattle\",\"code\",\"r\",\"reading\",\"figure\",\"interesting\",\"happen\",\"engineer\",\"well\",\"setting\",\"character\",\"use\",\"opening\",\"design\",\"past\",\"special\",\"rds\",\"put\",\"software\",\"edition\",\"chair\",\"scipy\",\"top\",\"anyone\",\"value\",\"easy\",\"holy\",\"week\",\"haha\",\"wanting\",\"involved\",\"education\",\"professional\",\"decline\",\"things\",\"details\",\"toyota\",\"question\",\"dude\",\"view\",\"giving\",\"set\",\"still\",\"jupyter\",\"myth\",\"award\",\"everything\",\"coming\",\"future\",\"material\",\"conduct\",\"meet\",\"break\",\"phone\",\"thing\",\"time\",\"instant\",\"review\",\"error\",\"teams\",\"groups\",\"continues\",\"portland\",\"science\",\"missed\",\"fine\",\"lunch\",\"la\",\"article\",\"baby\",\"battle\",\"tonight\",\"guido\",\"friday\",\"due\",\"intermediate\",\"invitations\",\"petition\",\"youtube\",\"website\",\"place\",\"always\",\"lot\",\"fly\",\"added\",\"victims\",\"agree\",\"perhaps\",\"side\",\"dinner\",\"ppl\",\"twitter\",\"class\",\"source\",\"smile\",\"switch\",\"go\",\"lady\",\"hi\",\"classic\",\"submit\",\"starts\",\"miss\",\"red\",\"understand\",\"try\",\"tomorrow\",\"updated\",\"hard\",\"lose\",\"island\",\"feature\",\"congratulations\",\"forward\",\"publish\",\"dollars\",\"sweet\",\"enemy\",\"pass\",\"rt\",\"feeling\",\"minutes\",\"editorial\",\"event\",\"point\",\"make\",\"space\",\"beginners\",\"story\",\"first\",\"happening\",\"case\",\"great\",\"foot\",\"changed\",\"happy\",\"donated\",\"public\",\"knew\",\"basically\",\"family\",\"station\",\"pride\",\"seemed\",\"reason\",\"lots\",\"sunday\",\"strangers\",\"pop\",\"crazy\",\"explain\",\"big\",\"bid\",\"history\",\"send\",\"syrup\",\"congrats\",\"much\",\"nominate\",\"book\",\"tools\",\"peer\",\"sending\",\"stay\",\"v\",\"production\",\"person\",\"turn\",\"heck\",\"think\",\"level\",\"hoping\",\"welcome\",\"pro\",\"model\",\"yet\",\"omg\",\"collaboration\",\"exciting\",\"pictures\",\"knowledge\",\"launches\",\"become\",\"school\",\"l\",\"yes\",\"grant\",\"blog\",\"wish\",\"reminder\",\"huge\",\"role\",\"front\",\"proud\",\"something\",\"also\",\"terrible\",\"personal\",\"seconds\",\"em\",\"shout\",\"community\",\"change\",\"heart\",\"favorite\",\"requests\",\"thanks\",\"pre\",\"modern\",\"database\",\"device\",\"hours\",\"environment\",\"register\",\"deliberate\",\"cc\",\"fast\",\"piece\",\"behemoth\",\"redesign\",\"pm\",\"conf\",\"ballroom\",\"auction\",\"email\",\"waiting\",\"san\",\"books\",\"made\",\"sleep\",\"bed\",\"credit\",\"commitment\",\"honestly\",\"scaling\",\"enough\",\"valley\",\"driving\",\"hand\",\"create\",\"include\",\"listen\",\"impact\",\"tea\",\"technology\",\"gustavo\",\"f\",\"feet\",\"following\",\"js\",\"problem\",\"form\",\"proxysql\",\"share\",\"hope\",\"debugging\",\"saying\",\"ever\",\"diverse\",\"equity\",\"one\",\"important\",\"documentary\",\"black\",\"amount\",\"goes\",\"looks\",\"shit\",\"turned\",\"skills\",\"stack\",\"url\",\"junior\",\"listening\",\"message\",\"enjoying\",\"info\",\"lovely\",\"truly\",\"scale\",\"yup\",\"uwsgi\",\"left\",\"tried\",\"gets\",\"home\",\"idea\",\"thoughts\",\"guys\",\"css\",\"ate\",\"breath\",\"recommend\",\"lines\",\"anytime\",\"head\",\"th\",\"away\",\"crash\",\"female\",\"tweets\",\"nginx\",\"post\",\"h\",\"america\",\"long\",\"words\",\"familiar\",\"company\",\"delightful\",\"gaming\",\"leave\",\"hey\",\"application\",\"see\",\"hoodie\",\"best\",\"beyond\",\"development\",\"war\",\"let\",\"someone\",\"computing\",\"girls\",\"kids\",\"images\",\"flask\",\"web\",\"weeks\",\"weekend\",\"pretend\",\"seen\",\"access\",\"came\",\"talked\",\"clearly\",\"say\",\"saw\",\"little\",\"days\",\"slides\",\"met\",\"perfect\",\"management\",\"month\",\"mark\",\"part\",\"htt\",\"polite\",\"works\",\"oh\",\"links\",\"without\",\"lawyers\",\"teaching\",\"aw\",\"stuff\",\"guidelines\",\"list\",\"cute\",\"user\",\"apple\",\"video\",\"sans\",\"projects\",\"luck\",\"emotional\",\"started\",\"journals\",\"blast\",\"need\",\"mail\",\"literally\",\"yeah\",\"student\",\"nd\",\"support\",\"photos\",\"mysql\",\"whose\",\"enjoyed\",\"distributed\",\"incident\",\"full\",\"others\",\"never\",\"teach\",\"invitation\",\"pay\",\"found\",\"takes\",\"check\",\"programming\",\"tech\",\"percona\",\"playing\",\"hour\",\"though\",\"shared\",\"photocopy\",\"second\",\"given\",\"tower\",\"far\",\"advice\",\"context\",\"would\",\"plus\",\"insane\",\"locke\",\"via\",\"whole\",\"page\",\"cs\",\"liked\",\"sf\",\"excited\",\"work\",\"command\",\"camp\",\"world\",\"thx\",\"security\",\"police\",\"us\",\"old\",\"table\",\"keynote\",\"francisco\",\"yesterday\",\"join\",\"sends\",\"art\",\"hello\",\"workshop\",\"repeat\",\"systems\",\"program\",\"bar\",\"soon\",\"visit\",\"experienced\",\"life\",\"dev\",\"experience\",\"social\",\"related\",\"whether\",\"near\",\"note\",\"wear\",\"ignore\",\"mid\",\"done\",\"practice\",\"money\",\"intro\",\"thank\",\"birthday\",\"challenges\",\"blue\",\"tell\",\"women\",\"meant\",\"write\",\"speaking\",\"linux\",\"advocates\",\"fuck\",\"outside\",\"short\",\"ago\",\"actually\",\"talks\",\"outreach\",\"random\",\"please\",\"decide\",\"sustainable\",\"get\",\"machine\",\"q\",\"even\",\"house\",\"told\",\"google\",\"qgis\",\"longer\",\"trying\",\"child\",\"sad\",\"million\",\"single\",\"end\",\"ploop\",\"sorry\",\"behind\",\"lightning\",\"proprietary\",\"love\",\"mad\",\"places\",\"good\",\"needs\",\"find\",\"etc\",\"conferences\",\"apparently\",\"opera\",\"compiler\",\"car\",\"monday\",\"yep\",\"files\",\"beautiful\",\"pretty\",\"users\",\"programmers\",\"eee\",\"computers\",\"played\",\"next\",\"glad\",\"running\",\"com\",\"critical\",\"right\",\"sign\",\"apollo\",\"line\",\"turns\",\"finally\",\"coursera\",\"says\",\"journal\",\"awesome\",\"internet\",\"lights\",\"explaining\",\"nice\",\"people\",\"follow\",\"kate\",\"comments\",\"day\",\"speakers\",\"supportive\",\"communication\",\"decent\",\"back\",\"gun\",\"news\",\"diversity\",\"sick\",\"tim\",\"doubt\",\"photo\",\"closer\",\"super\",\"u\",\"wonderful\",\"quick\",\"colleagues\",\"accessible\",\"every\",\"open\",\"fought\",\"less\",\"restart\",\"muslim\",\"wait\",\"students\",\"recruiter\",\"often\",\"wifi\",\"everyone\",\"mishka\",\"hear\",\"start\",\"bitcoin\",\"folks\",\"maple\",\"memories\",\"nearly\",\"incredible\",\"tutorial\",\"b\",\"party\",\"toronto\",\"mean\",\"kill\",\"fun\",\"last\",\"job\",\"want\",\"totally\",\"satisfying\",\"wrote\",\"easier\",\"using\",\"chocobo\",\"free\",\"writes\",\"guess\",\"perf\",\"performance\",\"could\",\"wrong\",\"group\",\"went\",\"name\",\"cat\",\"overwhelming\",\"numba\",\"restricted\",\"w\",\"taking\",\"okay\",\"moogles\",\"amazing\",\"skillshare\",\"heard\",\"based\",\"later\",\"cuda\",\"volunteer\",\"bad\",\"calling\",\"together\",\"else\",\"heading\",\"law\",\"emoji\",\"live\",\"cost\",\"fight\",\"mobile\",\"call\",\"storytelling\",\"infrastructure\",\"yoga\",\"know\",\"mostly\",\"dear\",\"key\",\"system\",\"psf\",\"factors\",\"x\",\"add\",\"lol\",\"orlando\",\"technical\",\"help\",\"wants\",\"app\",\"hate\",\"penny\",\"tribute\",\"makes\",\"woman\",\"textbooks\",\"interested\",\"training\",\"search\",\"pypi\",\"deploys\",\"late\",\"angry\",\"jenkins\",\"ready\",\"board\",\"bit\",\"director\",\"show\",\"buy\",\"man\",\"might\",\"tutorials\",\"mention\",\"tho\",\"ed\",\"attacks\",\"west\",\"music\",\"got\",\"investing\",\"holding\",\"sea\",\"pycon\",\"jack\",\"meetup\",\"saturday\",\"talking\",\"taste\",\"another\",\"watch\",\"friend\",\"generation\",\"morning\",\"deadly\",\"times\",\"better\",\"bring\",\"rust\",\"hiring\",\"song\",\"atomic\",\"names\",\"around\",\"directors\",\"finding\",\"lack\",\"wake\",\"plan\",\"tfw\",\"said\",\"announce\",\"seeing\",\"exercises\",\"versions\",\"picture\",\"conference\",\"hair\",\"project\",\"word\",\"come\",\"paper\",\"watched\",\"written\",\"runs\",\"exact\",\"honored\",\"feel\",\"three\",\"look\",\"success\",\"really\",\"definitely\",\"diet\",\"nvidia\",\"getting\",\"sure\",\"log\",\"learning\",\"wine\",\"watching\",\"state\",\"terrifying\",\"windows\",\"building\",\"planning\",\"<number>\",\"two\",\"may\",\"platform\",\"jail\",\"pays\",\"surprised\",\"stats\",\"seriously\",\"kind\",\"posts\",\"uk\",\"god\",\"helped\",\"mission\",\"plugin\",\"outage\",\"hack\",\"true\",\"https\",\"driver\",\"hamilton\",\"night\",\"going\",\"computer\",\"http\",\"gone\",\"working\",\"explained\",\"telling\",\"knowing\",\"team\",\"today\",\"lost\",\"glass\",\"scores\"],\"x\":[-15.28075456705535,-54.71319156170308,-56.703390036775424,5.43364040498313,-60.13906585245161,-16.782779362692914,-60.66507392660514,-66.93744291425297,-32.4835251366073,-10.534942248961825,-35.881930791514264,-34.89495031220315,-20.770017756391166,-47.399487528814426,-7.76166355518407,-23.303073070562142,-5.168935558724157,-16.23458279173387,-46.17875023539508,3.2241040695597976,8.491620508032582,-10.817020492620967,-35.52689953559702,-58.94714519591992,-40.24663815322181,-50.42106268957394,-23.463365470276617,-61.31939779181357,1.7210442747321266,17.494113126415634,9.324149529305288,-35.81692571765147,-14.103074240707176,-21.619490058477023,-31.12239217423082,-18.68742138683893,-65.20107819537913,1.4515495922950252,-58.54437023630588,-20.616119540333674,4.887771650941471,-59.97803050517099,12.414531598883972,-57.759320263461674,-0.7804781638133181,-43.9115946806523,7.312274851422074,7.9130475071794635,-6.185089374964529,-15.92187001143023,-38.70859936239645,-35.71536395217724,-42.17210878821085,-32.90813661617158,1.4299085641942832,-3.8651328669242124,-5.669546478361764,-27.99815853148158,-37.080243666166076,-2.2152914452916077,-11.411761147694794,-30.436726624469976,0.9914250316290367,-20.39631258456769,-66.01020634414736,-4.744888468894272,-10.849553629422612,-30.7692879389377,16.033474287440193,-29.49849836408937,-49.44635316402656,-25.939486732325918,-56.83314686842102,-60.658008429258416,2.652504412410949,-28.35143943112447,-41.107846074653565,-33.42789706630845,-29.972513950414605,-38.83854866566221,-64.85099749673982,-47.310370688409975,-50.718096047053905,-63.48461823957267,-21.506038216606896,-11.702614691567298,-23.5200137329521,-42.06415615544358,-55.29330536943227,-29.8161171603189,-29.88283741907849,-40.57228636301045,-9.590282034851796,-33.27593488406862,-10.464746675160656,-57.56698963921564,-41.58182561693821,-11.207681722382192,-41.94536546086995,-61.8289575770694,-17.4300949423591,-39.4080970913442,-14.821585002302763,-57.500116613618495,6.377621761550319,-41.67326398798939,-8.641648491506091,0.3309814433679354,-59.97361821613437,-48.58458114511455,-43.798037206311044,-16.837735036108178,-22.884211945351826,-47.07115815881022,-58.81233014625268,-14.24157531935321,-58.76530272738496,-25.941469974217103,-36.76069737009319,-46.32381183935193,-44.28774824734423,-0.7900107659223302,4.83389337925602,-11.18515490620527,-59.98206912843479,-44.48514857879695,-9.574677543085652,-58.35346686948492,-15.465416475532598,-33.65764018028703,-14.534710087714544,-45.30457489667014,-35.88714219586009,-25.0739666247488,-15.959025192114755,-62.063434361883424,-28.762976314756262,-40.22636522803584,-58.81230125493918,-44.57502635685645,-30.42250172198052,-24.386301573227055,-55.36195752616256,-53.604110357028475,-24.97848455092393,-54.868630200826246,-7.072644040978164,-13.151105205100604,-55.62660978566635,-7.26163273222228,-61.598961433283996,-45.78941578089275,-26.77139662782783,2.23493110922547,-39.645408168320884,-61.46074497391175,16.89746616901329,-15.84479390926454,-33.270508621077234,-26.062936371988343,-57.26771419927097,1.1918352674133728,-48.27421598957425,-37.13228401518648,-63.50514934846786,-49.344859413276474,-35.65087915437661,-7.023116903627241,-63.7836161636617,-29.970899727700825,-27.76835998287074,-55.56985428701641,-31.647742710868325,-17.045415647794034,-39.68127675570393,-17.485810638722867,2.4756834830623653,-43.03406145169339,-49.64084296895854,-59.150712352831114,-23.548995089082606,-28.729307605479175,-55.22901779660709,-40.75508191253472,-49.15925330888813,-62.10654028497822,-29.43719146139353,-4.391807345013931,-30.169303534434473,9.972560152665043,-39.37418582827678,-64.78753943397138,-57.17546880316442,33.87015898138531,-50.47560582365544,-55.02899371225326,-41.62807383773227,-10.426367736965117,-32.80148806649905,-53.19726809662746,-61.04747944748354,-18.684306850113817,-20.16743376165021,-14.763685952760445,-29.540184614535555,-65.25512743205023,-36.71071609059326,4.731429978452929,-33.21404797335465,-6.095199424958435,9.383180290322697,-32.47545850981791,-18.313745677126708,-9.360952671054388,9.173585722924948,-40.50697599248801,-27.71222958028478,-62.48499783304036,-46.63805190335944,-40.33904993473188,-30.178626327965468,-37.08306715957612,-5.435815787680786,-6.323980102531284,-6.2674541351043,-44.89352633628553,-23.134452874225577,-24.814625511565545,-44.60266939089302,-33.96900509208461,-60.28725920683961,-14.791926575687622,-20.604385588379184,-50.78512778265614,-40.35566859028766,-11.819363459425718,6.771901779986629,-45.71804533743067,-42.4455198193788,-49.535066013415225,-44.26272340993934,-54.113437738245594,-51.15785991603149,-55.59956166591952,-44.79395538483294,-8.122351598805528,-39.58384454467887,-9.098505706105309,-43.1709401522179,17.92997539510388,-34.41342619485885,-20.853988786737045,-23.524010686891263,-13.012369343880952,-12.902251115968363,-22.50884085791194,-58.40840030286908,-26.68934475213643,-40.12584945070736,-21.435375078827633,-28.150015734495796,-46.16149270380709,-59.32861419562841,-54.01773304215343,-37.95324690081947,-27.800000218339914,-57.93270095448929,-33.09228764395374,-48.12424574917662,-56.54707267109712,-27.114027008278043,-26.70326029302347,-63.567050958526046,6.924581300354981,-40.12923803894079,-12.543825554598396,28.949137955988093,-32.702892400391924,-24.34201541101482,-17.089342795736545,-17.51051056062955,-10.339700471740954,-12.254234019662487,-14.224166441528597,-64.45774945797449,-20.520211352729792,-23.38283300793205,-8.068927487153625,-43.67278293635251,7.587118579697776,-49.33286539140874,-60.37547014637451,-19.517273401924683,-47.12056520955736,-60.319745655581414,-8.152147179604583,-32.99530332675178,-55.782220226456474,-10.510423181751275,-19.543185927285943,-55.93833268500056,-27.902529339285895,9.374573230854455,-45.360657800049786,2.095609586385904,-9.426072716688685,-58.251104795070866,-35.32195776744911,-13.384327971174729,-47.219074553023006,-16.858633354430953,-52.1021132803937,-62.63091282349272,-42.38637385815669,-35.76473963792173,-29.3841013407564,-23.963045144124784,-8.519209462763422,0.6808885927151219,-51.811854491089406,-6.51102228051811,-46.5992104630963,-41.75154597600242,-48.48762409538957,-61.40405842921946,-43.09961826442586,-26.529133461650357,-21.885236696419934,-31.713770629650412,-50.756044540246904,-32.18813962125124,-51.74025536019596,-60.01958692281103,-25.833721580682443,-27.399588766737843,-18.380788060217853,-17.59130413446763,2.4453919884019446,-51.791038787146945,-47.03665953304737,-21.887673878646527,-52.741975693497295,-63.50775835223843,-57.008041807749045,7.833768097610851,-26.03900028571786,-43.93301122294479,-27.690707406648986,-22.381597831152195,-11.842552408763549,-34.84979543569566,-2.861990941692348,-25.95825368423974,-50.49553781273246,-7.4019040457322465,-4.046481688068022,-17.0514989162542,-43.285991558564525,-25.653678314518896,-23.420274645080408,-0.01478171234437253,-34.90378274786516,-2.714470462763471,-44.22618655174471,-44.549950569006626,-50.31675850235385,-1.9327902076176442,-34.15687120316157,-8.754900845685192,-58.291252311787964,-26.387038137594,-35.58657752044646,-38.988004481599354,-52.090067744825646,-28.34462342334449,-8.948239675936664,-58.2190720329944,-14.019350403708728,-29.25925712225284,-32.38111551919449,-8.074450271353424,-48.2047415690414,-33.06857887101349,-41.72838937577405,-17.500407359213078,29.916810871789153,-21.197208956408744,-57.24478590968263,-58.404871113631216,-30.948182077286457,-59.834888682343795,-54.10579594787497,-31.636363530175014,-46.17667121448437,-43.02978627291808,-38.45869451673572,-13.1533415267268,-59.36055781549589,-50.96519655359385,-26.500705049003898,-51.531541506827246,-43.253842574639805,-32.613314660736044,-49.574554869245155,-44.36502592783017,-18.79176826429844,-59.71718111568131,-38.501049588981836,-23.060030625466535,-2.788720056181965,-21.56776202368553,-35.79890458267718,-19.62209207822328,-44.55576341130204,-49.487697562933526,-7.829026080729153,-39.70279595817564,0.4448100805682971,-24.221052395112753,-50.623274550985066,-35.0301784499802,-22.026197381062076,-39.01340050841404,-53.27447445369342,-41.42746965860876,-27.947685636193135,15.653904634967823,7.413832674092942,-20.91143261464858,7.367225419159326,-15.560649668071818,-0.5927215627338493,-28.437516008041037,-50.60858005333908,-40.04251405411205,4.462270915086335,-22.561154327519297,4.287744172061125,-35.285589344152626,-60.40411033644134,-4.457508675412739,8.775428697996624,-45.213145554125084,-53.412270874827406,-4.6839095497085665,-55.31921391457895,4.6839884074458356,-6.152592525722707,-42.56673896343127,-19.158004766215946,-21.630330995648006,-56.08861410693327,-27.6828294855022,-62.23257582626689,-10.341637549958763,-37.714954111777224,-4.260636367350806,-16.804358293465352,-59.01341181473829,-42.81691559229653,-2.1527856015718494,-33.651358164463495,-44.83828537840682,-22.22749641021398,-59.418042936177315,-26.181243247637827,-56.8975330111341,-28.12565891959055,-46.35637199992873,-9.447245273877263,-22.194076216801566,-14.824100324375113,3.7085816175890884,-52.82957480506082,-17.997894032561234,-52.19096389422302,-63.98406681246226,-57.13232308080578,-28.942575121534546,-33.76265434895587,-19.189395270449726,-58.32551309385165,4.534000678345632,-10.023158778324298,-66.21861550407255,-10.43946412927448,-15.352956299785356,-64.33851791202532,-37.866364392043266,-61.029484786872096,-21.111303318350284,-47.55510087575813,8.282827832354265,-26.468996475185744,-38.07245510023443,-50.05547417376132,2.576421493010107,-41.105171499649664,-28.438563629246953,-61.12351172924526,-15.241374690766198,-42.010421056274986,3.9642990755527086,-13.199265386021306,-62.62646525400822,-14.668348903979604,-2.101473882636244,-57.70433651372745,-1.060725796771334,-42.53984108672641,-65.87639245516567,-31.88009133985414,-19.294023242089605,-55.58847407118184,11.935553482814363,-45.87415573209815,-41.11847343311621,-37.80691880413899,-16.72952283515219,-28.866566073315706,-55.40838445856783,-46.923773521324186,-58.72626372641703,-6.697489909083136,-37.654967020164186,-27.33044920053054,-43.52951084851937,-39.61864673261663,-41.850748683734444,-62.65071266618921,-32.11560990760805,-19.507555978619692,-3.9592082060197504,-54.18336826217241,-57.8306409046517,-7.434205826441543,-13.303448840266526,35.253744735058156,-4.340201514969965,-6.131946294998649,-47.8032962220392,-9.180105380634988,-35.86630217556672,-57.51977560069944,-5.8448339482936005,-18.830434453231927,-26.037638862003107,-60.147316551602046,-51.67741528264455,-6.301593425513231,-0.33921267680646755,-53.22752944732648,-52.971355139400494,-30.81114088291819,-56.942166655135345,-14.842725259579417,-41.95401262571962,-49.22668396195712,-13.788463929530634,-3.0716475956682574,-21.91733648225001,-59.228793991237275,-48.582489074171995,-22.678998980132132,-43.95112715096267,-17.4357427461555,-11.435355641547757,-37.15846294826339,-33.21836342699743,-12.987324078795424,-14.718882048574564,-51.530900673997216,-13.642354168878887,-47.510616874378236,-58.33439911311308,-31.56444207263119,-36.64495440664696,-36.71426523169187,-20.04783694199185,-51.40669770534868,-48.27738371556361,-45.53839241664429,-43.053485077972375,-20.29399763259781,-56.886829109045166,7.157839549829357,-25.83826888842218,-38.35709244762277,-2.4397401334467768,-15.5779703316194,-33.66754115110735,-39.93923446499707,-23.39784471118997,-21.32000529718486,-52.291588781142416,-51.51104624723835,-61.1115584856223,-16.083035167554744,-59.825141331245796,-44.35578372522797,-18.035358633957816,-49.27832758922511,-30.48185238579036,-54.32195577316274,-15.55901143428884,-34.578740463114244,-0.06577314351022495,-50.31696755800171,-48.4172703917238,-52.85573247579076,-58.15956961482572,-36.72663031719277,-53.42871143178402,-63.72198773139657,-12.380506443424094,-51.75077959916695,-58.87176135813325,-62.71967723047342,-19.673533512838,-47.12212876329319,-16.24442451461949,-32.429940848229364,-66.8130312709093,10.940568594464834,-37.216432366745494,-36.890419284697835,2.0910660792062434,-8.332797627826139,-42.758377675069625,-24.492180210701886,-56.79197036584762,-37.802670660904234,-50.101987062070975,-44.20379978841012,-63.412735196538726,-20.085532075299863,-55.76397293479417,-9.780595654738018,-27.777916725532073,-57.90873329053834,-64.79945661636822,-53.74695295540955,-47.8776099369031,-53.52235203260298,-31.255534479141126,-4.76690948361171,-31.650692354690335,11.274552325547008,-35.74738296539939,-3.2071086058915195,-55.871932290646534,-31.084406973209532,-62.112874233105245,-35.40709174844173,-48.16090262329387,-2.2409461332217644,-24.117587654935612,0.029425725211818417,-51.92325235321043,-50.65752118068073,-56.52549751701215,0.11343484138733624,-14.647567661902379,-61.62826238339018,-20.348119275048937,-15.924206711380256,-38.422587924300245,-25.116903836190456,-24.088985433146245,-30.079040207986772,-0.09669239284219729,-37.29620412929011,-57.16747390479945,-62.12409283251622,-29.670081208745078,-49.60766201617178,-62.11795439569241,-56.59546875022044,-54.485874778667615,-3.8503863784248265,-4.4454600869020595,-60.09569587018918,-21.76548943287334,6.412450915242084,-22.99025976223362,-40.49140885182197,-54.873868812383336,-17.20412751551035,-32.56083609320891,-48.95590941914641,6.291821151790665,-16.02036326307514,1.871943479621812,-2.0231969632501174,-9.059246654716919,-48.9816786223203,-40.965097091047156,-23.896604384434333,-17.37669233812498,4.027403872364091,-11.765615926315936,-53.66703765057806,-56.76590408254177,9.830987123827292,-28.589482064173882,-9.521964399769875,-3.9794051006051676,-37.61394493245123,-45.2798832004577,-10.972494794585906,-54.318269901248044,-5.771077726337479,-59.01981117696361,-30.87781833308458,-53.98244776566896,-45.40713035157718,-30.52078641226313,-55.35190648496478,-22.61706980930379,-25.03441530880654,-34.98616435502724,-18.445103122553594,-55.613082490835424,-52.915549315247034,-10.29817314894864,-23.422275528557936,-20.369418021241096,-6.790002131445178,-53.08965270498817,-54.608503062098805,-39.79418411693168,-49.588662236777836,-59.713670702913014,-22.752140064963598,-40.32324104290086,-19.269726304527683,-58.45102144265884,-18.278120895885614,-55.09892073769697,-16.20007261406456,-52.01683830865005,-30.032522583062878,-55.27928739072618,-60.04339129320918,-49.01809403459108,-44.46622020741546,-7.873545624506039,-37.35027824687374,-7.076006628174475,-23.192825574515275,-32.332186457100576,-8.487146122257624,-56.19445672937141,-42.75610215639737,-13.566144758692184,4.375832642650046,-47.63986902877347,-13.746490206085241,-57.76976265628346,-35.520747891061035,-5.650880776389404,-4.3969017572317135,-39.334828265143436,-55.20642083669815,-5.326610221356917,-34.277629736692596,0.31276363607411395,-34.325215500184875,-11.632043725184824,-16.939166328842013,-43.375106873498076,-22.272333353492076,-30.283921416646994,-27.726797135027432,-54.23849302886043,-17.709573272748898,3.7233634939507914,-24.27758906122925,-59.10187441720276,-49.02764024127147,-12.316438437879157,-39.76443732334016,-28.91532916240091,-33.86164990502861,-18.018472095275182,-35.80483125141195,-26.442968989689756,-6.528527360431517,-9.40941382657963,-32.69757997818985,-60.92699182701842,-20.656681103252822,-52.135418141110755,-28.991084920595604,-23.93294663154378,9.151336728314249,-19.382046708710902,-25.854609678836535,16.752133899931355,-51.94922349046916,-20.102142291748034,-39.57912826329633,-35.073388149288164,-55.60971457595371,-34.90767160700236,-2.0207847190258894,2.097567766207928,-27.65138397946256,-56.28275462488121,-40.312876285915635,-25.089373165173548,-38.02246245082687,20.185964145228873,-53.978434726160756,-49.085877199428126,-23.64586385952133,-4.748783221390793,-34.918768451877135,-11.571752800961844,4.860122021302489,-41.1704792897005,-38.736504338666265,-57.01181672739594,-23.455625022244146,5.244803080235153,-40.05371412836819,-61.294470756485346,-19.672584320846568,-2.4709659972122853,-18.237754022400228,-0.5055305509960685,14.893668492269423,-34.2749369689223,-38.10685495858823,-50.707936099937534,-1.8959973470090485,-39.40776732903998,-45.71134939353484,-53.25763306572999,-56.00290905719027,-27.156625214758808,6.673103631429018,-46.10528531421331,-59.08261900064167,-18.760110251285614,-51.806964404815254,-64.04526679462137,-15.49179926497785,-31.98036965648032,-18.449366487019283,-31.20446794814542,-2.2906453260722177,6.229807089668539,-42.874543944894285,-26.050691030305366,-15.125238835293576,-12.76289166819384,-38.539963447870846,-26.720519694475936,-54.315090578625494,-45.7188036443837,-54.00556807251116,-46.52734807419071,-60.32714690380028,-60.79793795861898,-3.738976053035575,-46.296073656662266,-41.05838486745321,-42.136711122648535,-18.494620388812187,-47.62747864653524,-25.700280729046938,-57.37534867154086,-29.658145829323058,-59.3513827020225,-52.34578584193673,10.10730343704219,-51.43134502504635,-42.07085081505189,-47.265693066454546,-44.41599626419403,-57.95771343560522,-21.32702196596291,-50.297038508764544,-40.89392039024715,-12.213851995069477,-57.28767612445294,-42.02692642295456,-37.71919580313491,-58.382239525926416,-52.3715826645418,-49.56217619789716,-50.354921240027615,13.178519445080392,-33.732569973167365,2.0670747773300313,-12.214995330401578,-25.54497300995901,-11.97934224649575,-16.766790755283388,-26.078825807799948,-57.88593870870417,-46.154830492787745,-31.520660145665396,-35.4197052320425,-3.859476317858465,-56.60063275850898,2.472150157332581,-49.263193322572974,-25.41959222906561,-17.13322718307575,-36.812197180482535,-54.674985137543906,-34.47579592206196,-29.173404829902996,-24.77472507617826,-53.52391928008612,-37.76781793791129,-17.635408536834593,-1.322151053999734,-62.387350645869454,-58.398182436380445,-42.76224689825597,-12.989599855670132,-8.584730333988775],\"y\":[10.254628502879033,9.185394683654335,-0.8818980849444052,-16.798688952643417,9.670609606463925,-0.3026794692966683,0.7243201615093582,-6.558763778004997,-18.702746776345,-0.724353317414303,-5.16487315935366,-28.810944514130703,30.75986005684169,10.625865330339032,-11.69884906248373,20.98112968555535,-12.672237469030392,10.793665981830724,-12.011483296398467,21.797503634672236,4.605743391420873,-22.713293475025207,-20.26696529087292,-6.994615615036353,-1.0063483786715675,5.63502502398344,13.186447334766903,-5.732801779037986,-18.18121472972751,5.120401948976202,15.064232464041378,20.82356808043107,3.8069661325557607,17.887129571930913,16.812786231965962,-12.682342940717133,-7.03145758520833,6.248873595272945,-3.581134963605088,-27.022917101252197,-18.02089807585512,-6.669511927147203,-0.352173890831242,-5.669937765350813,10.404251556509687,-3.4364773592083417,-9.239415147758164,18.11753977876801,27.42676216569975,-9.695161590650931,-12.81551222620764,23.728017439282844,14.412535364977286,10.126643733877122,17.64342734460115,25.013651797917582,5.820073302420577,11.877335415715601,2.8704817835297263,15.034102168124365,-5.317546543710606,-24.394367160834335,-12.321789443173117,-14.581849464225458,-4.482467626722996,11.433768256669188,6.323548732330484,12.486460211029133,9.938068671142737,-10.79278635308904,-8.788262013579216,7.873579262803011,-14.79081118753947,-9.193920463333585,-19.868301960282434,-11.979333953422373,-17.181044676215116,-10.060002147096407,-3.5226916173422818,10.249259612283263,-5.685937551605232,1.5635773784607232,1.328307697623,-14.183641685053079,-10.428532126165832,-29.21615009923032,18.68987564312286,4.869137573008392,5.900823447135916,21.94834974785073,0.22451241696118576,10.517380255413888,-9.687677564935182,-7.199792185198188,1.3448178484772402,-4.279099149648491,-22.781633870418457,-13.659018493560133,-7.946755235643423,4.57926523325691,23.009335284108626,-19.310868097020155,-13.10741723397697,-6.146393995616246,6.1028882632804935,-15.210868792670231,7.248301448059853,20.215708535911688,-11.170960043938184,2.627436511791814,-21.79964517526956,-12.9230328341049,1.1513929133841772,16.570457946371462,4.857226057721042,24.237805883095465,3.3494973061055284,16.379933466724005,4.6939332305557535,-5.201843203743979,9.303478632423923,-10.749183636191527,-8.085068485948788,24.32335480444685,-3.3772964299771786,-6.910057170311949,4.530492860045116,-4.081481155162388,15.037020177947202,-12.50608692137199,0.592952955358339,1.353223028524368,27.887026419700284,8.559824469898382,21.625310173866776,-8.577146575145086,-12.940452630000435,25.463658329688712,-4.589059058493544,-8.69642819532801,14.353500729046983,-5.93419565061908,7.65711886578702,-0.054919047255014355,1.409057504594727,-4.803896765440122,-21.827665058707222,-3.6648422760839585,-5.580362846359895,-19.2560053777727,-14.177037602619974,-15.971725466738452,12.821539252774478,10.597323548177053,-0.3480157500988625,-2.3032572315226068,-2.4259186145222715,3.504155580366874,5.36848853685691,-21.128489091725484,2.798167486060091,-9.324320324289328,-12.594886686727834,-0.3784084653116436,-0.7768112087038272,-1.400839695742842,13.197332799475408,18.23870109630219,-4.848611532746894,-8.70363270318558,-6.902039266905099,-3.354865739830756,0.19148884407302008,-23.60482297617769,-28.029971106372706,-32.368825290540194,15.09552158666102,-6.378830690955953,-16.40177504065828,-1.9145064104820573,26.084002542045152,30.011497888276633,0.9036983238942173,22.41648116242886,-17.967158462715858,0.06197909518808399,1.8793547878541117,18.819018725153757,-17.553846532885274,-2.4811108452822617,14.937137503590476,3.362106643106408,-5.074254385973699,4.357101479637917,-11.79395435055997,-12.741222531383801,-0.3212072074599739,28.382999075558782,3.544068055833365,-9.807183586328065,-0.7615181928641551,-15.114263565980048,-5.935309007074262,-6.463855713693757,8.074170752287731,-1.7968389607790756,-12.173141453878767,18.67130474821894,7.060879225147732,-7.84780031297982,2.647161611354066,-25.43819699593814,21.02509178961566,9.177604445087471,6.510812834913259,-5.622706157303617,-22.945951489923583,-3.0163734944793776,-3.4041288863851396,5.928779436821184,-6.775111709085978,-4.399312434153387,-3.3161690090118197,23.069777457592746,-17.071589410186768,-1.2173894589285497,-11.446589827021654,-15.13160618761658,-14.84695997592709,12.303272216102433,-13.0509674379652,-24.434974237014607,22.3172074105305,-5.667683654190893,-25.33036010692654,3.267022395089118,-12.15050521721553,-19.270880556797092,8.274426745039126,1.0432032103644324,10.930381984394026,-13.528447807740637,11.800964940949372,10.734253375360058,-5.262714056783139,-24.475406321610322,-15.711243654943008,-2.04375425286457,-16.213591048104902,-6.271916471495363,2.192776001745637,-8.088886713247476,29.159609109752058,26.535939752496024,-15.00767953070364,-1.8653100580883888,-5.301613904266127,-12.421840255047451,4.2852871132705515,-3.446451042464348,-2.6804953679350216,4.7071424630840735,-6.03530865516933,-2.8806035945827544,13.538170465707486,14.94901361719585,-7.289072247355963,18.203529778685258,-6.950691216977835,-2.6656369203280756,-14.096860829839867,6.295031224511217,-2.3536478995797565,3.673916330847026,-19.074964347264707,19.546838692297623,23.60908651518623,20.452212814306616,6.945277990076528,30.75880422869125,-8.456397016615378,-7.83485511551273,-16.96660376146125,-4.935446820340152,-3.527157469464926,-1.5874206860862847,5.187029200811735,-6.610878604119558,5.626942575907597,-5.900789668113422,-19.981946439051686,3.766459059510471,0.4335191701829137,-17.047917337734237,-5.799912369970979,-0.38953476351058275,14.063287988283355,3.5600456707779804,15.466093040676878,5.606107127167425,-11.846381752546156,-9.99780925161789,-16.811396549580365,15.317569610836058,8.26755563739475,-4.607321510275848,-2.7206765618996567,15.5356040328429,-9.769815219469512,3.413718147847612,6.496594795066065,-11.339397697605454,3.234342553444462,-26.852694801008447,-3.5247454111444805,-4.577178075594503,-2.929947357297111,2.935614282295785,4.1660826261016926,7.659098463171298,13.021196722360168,13.80855189405543,30.480399287100372,-24.121393878761673,-4.783607045688249,-24.17535115006164,-28.105588816104127,-13.07757005781405,-16.150237756201125,-2.9280949020043687,10.659414945329566,-7.7659306001504484,-1.293037796500589,-0.16027516473981596,18.21903004573661,-25.56148921063093,1.1592943119021863,-15.285726820618438,-9.432328323932548,-13.695098136160441,-6.044552115469411,-12.741091078991799,-8.023414743546367,-3.406001185564384,-20.467815447017216,26.334476853020593,-19.763359438022377,4.831245107203365,-9.174618516221784,-19.894789510437562,7.323503081667392,0.31664437405028883,-13.661753454956806,-4.369897226600147,5.162439517526443,2.2674780856874683,8.352494370521574,-10.982530463518023,-17.378709500626165,23.20479707647889,-14.534604918496173,-11.234965423142903,21.137823739673653,7.399643661648743,-17.50334555692594,-1.6874902670515441,-8.594624318119282,27.71566825851714,-13.834653643454077,1.9013664695409103,10.261654235548217,-26.647109584083303,-11.430740053909764,-4.9016033414619455,21.846293918384564,13.620532925528703,-0.5607418943100564,-1.442989506377865,15.897250807547659,-9.790055688609485,1.3421796959940704,-9.87469492550591,16.001141450041324,-20.154591180312984,-4.127250748508673,24.349042233801946,-16.985968732808796,11.709748863517898,-12.746210448912738,-1.9033421524495737,-14.764756209060224,-1.859903826583247,-7.820847687658841,-1.7344135584170717,15.10511441934918,-1.5782152234195184,5.469608544003525,-4.284337663557714,-6.858174269413473,0.5914341321302191,-15.920903762635115,-1.7300215091221112,-5.622589047740825,-7.3909516479576185,16.324976763677615,7.646828693039406,-0.42449845377326645,3.853456556805381,-28.931264344553263,9.32281217953245,31.94940907792068,-8.900023313895078,-17.919378092413282,13.211369086250404,-5.989965730509047,-8.962880167410736,12.312874479628846,2.103028234731997,-13.045011650316892,5.139008761463885,-7.1652992294625575,11.810414550251995,20.960108137011844,-7.022399032302707,-3.0701492637424295,-8.42462770577066,-9.399556109207962,-3.304698616253387,9.352435248215663,8.627123042706852,5.326542096201246,0.0519702804998849,6.364764101935212,-8.709904208615232,-14.272196960907372,0.3030661609066631,-14.860668758437841,-2.884848119287948,-15.501879217089023,-4.306099954404825,-20.98856689415252,3.3156483357812383,-22.312066507921532,-4.147405444423582,16.349989495644046,-8.471665455214787,15.110129827994818,-10.468086152547126,-13.736857154721559,-8.446555777592055,-22.306458427445605,-1.9843814837964513,8.614593804650363,-1.3776421113680166,22.037725232414143,-25.259089308934715,13.949795898622398,16.550283443304792,-8.123398237590528,-4.086423971012742,-20.66293060336604,-3.701608900639222,-10.199104456440981,16.112009692203006,-9.269787957397254,3.1513141384884897,1.290025763857241,3.3869577385908554,-8.769389828750615,-20.61813075133574,14.386866798259815,17.48808216184098,-12.818036694219481,-3.038202291451016,4.783165780447571,5.943580784153781,1.479469041671419,7.552324938613857,-25.934264070779317,25.146729808097703,2.3070949950706177,-9.411009481444804,8.393016402987925,-12.011351951028846,0.9600456230913901,11.410548556487011,27.963279887884543,-11.647147799029748,-18.42708630153323,8.587963268237466,2.1079703907591085,-0.9391153580701617,1.601571477707173,-19.182681211834694,-13.352551314847524,-14.242158481324322,-6.7323974965803774,16.460559467521435,28.626719442808717,2.309020417494272,-21.45194110510135,-6.429949518337062,2.5610586477598116,-8.120034054427409,-10.299912049577514,-15.260968593339456,-17.07513727550474,0.4737323012289253,23.787466805744668,-18.293929213924294,-9.383356331471028,-12.013530553780466,-2.8177479051222125,-7.024224412430363,-4.89135322128115,8.991056407515229,1.3914842334425233,18.719506289519163,-15.001272295952422,-19.343550194657006,-1.3692968792372673,-21.801641966872033,-10.674263714438263,10.152816072486484,24.352373207080177,-28.84521839876947,-1.855559124059982,18.03819458145179,-4.863894105094714,-5.539102219519004,-3.240838355255622,-4.46019550473485,7.041566088515513,11.18822825959542,-18.703587166198357,-3.7157841654327575,14.581998956833026,4.499221649726627,-30.640885664857915,3.1906162017227313,-2.402573637788843,5.246799805468516,1.3701125318262954,-2.6357118752771194,-5.346312509389379,17.7540731496269,-24.25353728275251,6.384502049366185,-2.281978855658912,20.638137844639083,-4.5466714451026355,8.00685376942616,1.133242047676882,-11.147704941270566,-6.865817521313269,-1.204251891566634,-11.59883024479821,-4.591909446913889,12.070202597571956,-29.18201440102316,7.770868463337541,-2.8095787144336506,-9.628419991019298,-24.852443683334013,2.281755755901897,19.160307275600253,13.488060368992342,9.696261139399933,8.713156382500763,2.0519406859404885,21.420925829101858,-19.918048054425473,-26.826847859465765,-19.125841311988005,6.412558807963416,6.99796440299628,-6.579956477376596,6.670644474630511,-20.62989745539376,-17.766720989152816,0.26066661431109744,6.373727049621411,-8.164894176311936,3.9032174841081733,5.501721071785153,30.33588293854456,-2.230646012449426,-3.3156319154788294,12.103200492429421,12.989352801114636,-16.13799325276312,-7.035208745054568,8.121665633817598,25.85953782005915,13.263279135809608,0.6256148352075657,-10.52293978959838,-3.0920525706249133,-16.934867678479854,-12.014555675917645,-19.604616369940125,-22.009284068474862,-14.525317415906713,-5.662675817633969,-17.029134817901884,-22.43515089709238,-2.2806226503921314,4.039082612200534,4.698789315167284,-8.331467860779076,-14.457164147093756,-10.530723587827241,-19.093230925424667,5.61019732375125,10.939436269220431,3.465113826205728,-4.902040957698411,-4.166673010641874,24.689415071462914,7.988375612198638,-28.0427350464042,-22.555058427893226,-2.706120569065267,-11.393566300302286,-28.81171512507434,11.750587043467204,-4.104083140196478,11.28688280926763,3.1427311697461597,-10.24524968629119,4.279132823327211,-19.204030733615244,2.7650673600968867,0.21146685472764443,-6.668750354778576,15.822869396900924,-9.668738211586948,-3.750647918285393,-16.816827201871,-3.7162487723305158,-0.11182249936016105,-11.475423846133307,-4.2310746452482775,-16.488141741433445,-5.073212127287498,8.960969876601784,-31.001374323694534,9.319788524169013,-13.892429651005097,-14.704438470360477,-10.985317834942554,2.42735360831153,7.049579982962212,-0.5991549211276705,-15.001042519106079,-2.1744159812954935,15.504629608059082,-6.9385342556822955,-0.4555259666886975,-13.063344245772583,-7.701338941020699,-20.49837857843949,-11.192569966509806,-3.857377479840913,19.563153564963255,-7.705922778118483,6.050099075650972,4.757747926958372,-8.477323771056533,3.933404261479435,15.054939741709218,-8.71464046987812,-9.793007508179226,-12.07059317020158,-28.278218481565613,9.631043621332756,-6.78733720032451,-5.102412193738431,-6.664831409418315,4.508007233371446,-18.204960732880537,-4.842239391496154,5.428002170520027,12.856178159094906,-7.201954000628374,-23.214455353649655,-2.4679942553109,3.1491366106300287,-1.3158808186810003,-14.983471969007873,-1.1360205289840712,-19.101496716655447,3.7609899318521096,2.7417537885773413,17.147784485397437,8.269682693126738,-12.721119425615774,-21.32782781914134,-10.860329209287185,5.178734497777117,-2.4902708288789746,6.268931106205019,-4.046885808452538,12.143925943060522,-5.682723206874418,-17.97296372581043,-10.098578101352983,1.1869282986431444,-3.48401695743769,-25.480345504623273,4.08724460372617,0.7702056456737705,-12.02879138139132,9.4361823240196,1.7872652654953516,-25.384231328099368,25.040554396020358,-20.321948718369573,3.2841558053416615,20.956629903905572,10.579691453196236,-6.580143724683461,2.1161527004914653,4.455017423456534,-16.101826594978128,-16.29435140040388,7.254507102346776,8.014784378636545,15.861423738927948,-10.449950855631126,-4.103304219930421,13.62946905278183,1.9541098117713258,-4.566773584160618,-2.414717787323137,-10.244162997002846,-6.183191234925827,15.231450693836626,-0.3467828612551625,18.98353192123957,-14.278264924159009,6.029991054466868,13.547284142591806,-7.879337450395934,10.290060833704084,-13.275450342515978,-15.55866840946893,16.033762143090907,15.353681572586078,10.19817735786956,-14.076142078338389,24.921280742591524,-6.089895562991345,0.9482497837344438,-18.595823043648817,12.341028499163803,-5.723422080878474,7.260210918358699,9.42866977621481,8.84251669384536,-14.792031494591116,-1.1366161788892544,1.982995141317876,-17.48271373393642,-26.89329209095704,-1.9880403034610983,12.571085375657118,-5.371980465437395,7.6396802478733585,-2.169585562255339,21.60305590207198,-19.735934599385068,19.871553952263703,-0.5814729365189963,2.9475246378209183,-17.206915118652006,-10.394227128091071,2.946951362917906,-3.615519348047315,-11.442479515775526,0.1204813666887392,-21.50338874942364,10.510587263666732,0.1847344984986321,9.841454935342359,-22.96813588297687,-5.558819023090052,-1.5060515641315848,20.109278717480876,1.654702539983584,-6.883617298436116,-11.369404634294256,2.226579070243476,-1.3207002716730811,-25.514830511331468,5.569589784036361,-29.503330115129383,14.175999512306252,1.2415733032424607,-22.550128837562568,12.66174892915938,-17.558962903202605,5.548528751288054,-14.120818712174332,3.7869552471557335,5.9600976943798045,-1.5814797521768882,1.6552610449894265,0.07727740290141781,-10.664169078178691,-4.205985302007857,-7.158627463076395,-1.565251118277257,-9.11966162713703,-3.049958180196083,-0.6120485667337618,-23.957269038400476,-24.436522308403628,-10.497499107060557,-5.374806549045339,29.661886007096864,-5.51087492545301,-16.685953132436346,-17.478911453634534,-20.142527350362442,7.0896762049072475,-7.915193912114075,10.512490290633432,-12.398066979074905,13.416210669938202,7.978155993835694,-14.404971144691661,-8.858096288247728,8.061619909409217,-10.447866089672505,17.892880136853282,-8.386872510419257,18.96937895611699,-5.35022675091343,-4.307656110429164,-3.9231219971610423,10.589183766386018,11.910449477515236,0.638002328313494,-33.98773045458658,9.95147482325381,-9.509087241336177,1.7821496053379764,22.523572385223197,-1.15192088169461,-19.90040112220213,-5.605235630842496,29.032961944480437,12.066945158408698,23.45695647102814,8.202305864555159,-12.409992845899055,-9.863157076308926,-31.30730702249112,-7.878665034012997,2.8941270568953876,-15.280014957886465,-10.605862303397437,-2.2668531359067106,-3.25991122754099,-4.082515873444667,0.1240195482655896,2.969501552721462,6.889911186878187,-22.201089370884905,-8.18246426792902,-7.372027978760219,-1.6012738318989908,-21.759822851306428,-5.263302545842308,-6.266473368353638,-7.659250186663842,-3.8337509331089943,19.303662835849643,6.073029529990816,4.1731558994731275,-4.895758663922043,0.051561245333227264,-0.26619717257794057,-9.300939945490661,-6.792177455815842,-11.005201546784523,9.78843540089942,-21.72746777191419,-4.4723030453665595,-1.5328203289668876,18.348367266075005,15.884741426541193,5.330019787271845,-28.40716633362246,0.6371150277774854,9.18909277632116,18.769058062130956,17.21351598907794,-5.713671151078789,-9.243392665077371,-8.239331741576045,-6.993120363648007,4.924231352739305,18.03925229868436,-7.451452933401166,-8.626533304483559,-23.11194768276759,6.8604674360259645,-11.460975828484868,25.24871066279631,-2.1625172173995395,-3.948213549218123,-18.076396628021122,18.121799601986257,11.716691566722782,-0.9456633271533594,-16.23927006904209,11.532785693347922,-23.989656573618333,1.3780008985946361,-1.4110916505853046,-9.510246042172296,-22.531480150533447,-27.893940244788823]}},\"id\":\"d87696a9-171f-4cff-844b-b7e0ab9682b5\",\"type\":\"ColumnDataSource\"},{\"attributes\":{\"callback\":null,\"plot\":{\"id\":\"a1d37a72-1659-46dc-8981-891fe369d653\",\"subtype\":\"Figure\",\"type\":\"Plot\"},\"tooltips\":[[\"words_bros\",\"@words_bros\"],[\"words_sis\",\"@words_sis\"]]},\"id\":\"df99b51d-5b52-4d8e-8952-5c5389a122bc\",\"type\":\"HoverTool\"},{\"attributes\":{\"plot\":{\"id\":\"a1d37a72-1659-46dc-8981-891fe369d653\",\"subtype\":\"Figure\",\"type\":\"Plot\"}},\"id\":\"82dd8e4d-41ed-48fc-8d49-f42e370ed5e6\",\"type\":\"ResetTool\"},{\"attributes\":{\"active_drag\":\"auto\",\"active_scroll\":\"auto\",\"active_tap\":\"auto\",\"tools\":[{\"id\":\"df99b51d-5b52-4d8e-8952-5c5389a122bc\",\"type\":\"HoverTool\"},{\"id\":\"07207910-ffd0-4ffe-80d9-f3ee57f04bce\",\"type\":\"PanTool\"},{\"id\":\"cce7291f-37d5-4156-b596-4c9c10aba443\",\"type\":\"WheelZoomTool\"},{\"id\":\"fe4567ad-bc9a-46d0-a776-cdb0cc37c9f4\",\"type\":\"BoxZoomTool\"},{\"id\":\"82dd8e4d-41ed-48fc-8d49-f42e370ed5e6\",\"type\":\"ResetTool\"},{\"id\":\"edcab2ae-b4e9-4d0b-ae08-2c616db4e61f\",\"type\":\"SaveTool\"}]},\"id\":\"1a6d1392-73cf-4311-acd7-02a786240b64\",\"type\":\"Toolbar\"},{\"attributes\":{\"plot\":{\"id\":\"a1d37a72-1659-46dc-8981-891fe369d653\",\"subtype\":\"Figure\",\"type\":\"Plot\"}},\"id\":\"cce7291f-37d5-4156-b596-4c9c10aba443\",\"type\":\"WheelZoomTool\"},{\"attributes\":{\"formatter\":{\"id\":\"37c29a18-bf2e-4d89-9db8-88c7a6589ac8\",\"type\":\"BasicTickFormatter\"},\"plot\":{\"id\":\"a1d37a72-1659-46dc-8981-891fe369d653\",\"subtype\":\"Figure\",\"type\":\"Plot\"},\"ticker\":{\"id\":\"fce083a7-92de-4f9f-9195-7895471ea907\",\"type\":\"BasicTicker\"}},\"id\":\"408a5882-67cf-440d-a6cd-3262906c0983\",\"type\":\"LinearAxis\"},{\"attributes\":{\"data_source\":{\"id\":\"a6d9c530-5aa1-4fd7-92bb-31dec19208c8\",\"type\":\"ColumnDataSource\"},\"glyph\":{\"id\":\"0346f84f-3ffa-4145-9571-a7c11e546aab\",\"type\":\"Circle\"},\"hover_glyph\":null,\"nonselection_glyph\":{\"id\":\"68cbc293-fa4c-45cf-a8e4-7aca808ac634\",\"type\":\"Circle\"},\"selection_glyph\":null},\"id\":\"b5d14468-1da9-44f0-865d-d7a9c88e8775\",\"type\":\"GlyphRenderer\"},{\"attributes\":{},\"id\":\"ee3d10be-e61e-4e39-bf03-a1ce86561e5c\",\"type\":\"ToolEvents\"},{\"attributes\":{\"fill_alpha\":{\"value\":0.1},\"fill_color\":{\"value\":\"#1f77b4\"},\"line_alpha\":{\"value\":0.1},\"line_color\":{\"value\":\"#1f77b4\"},\"size\":{\"units\":\"screen\",\"value\":10},\"x\":{\"field\":\"x\"},\"y\":{\"field\":\"y\"}},\"id\":\"c947034c-9bde-46b3-82a5-72587299c075\",\"type\":\"Circle\"},{\"attributes\":{\"fill_alpha\":{\"value\":0.2},\"fill_color\":{\"value\":\"red\"},\"line_color\":{\"value\":\"red\"},\"size\":{\"units\":\"screen\",\"value\":10},\"x\":{\"field\":\"x\"},\"y\":{\"field\":\"y\"}},\"id\":\"1808a7f4-4683-4789-8d8c-bdcd959074e5\",\"type\":\"Circle\"},{\"attributes\":{\"data_source\":{\"id\":\"d87696a9-171f-4cff-844b-b7e0ab9682b5\",\"type\":\"ColumnDataSource\"},\"glyph\":{\"id\":\"1808a7f4-4683-4789-8d8c-bdcd959074e5\",\"type\":\"Circle\"},\"hover_glyph\":null,\"nonselection_glyph\":{\"id\":\"c947034c-9bde-46b3-82a5-72587299c075\",\"type\":\"Circle\"},\"selection_glyph\":null},\"id\":\"9b78773a-56e5-4aa0-8ede-6fe791bf99d7\",\"type\":\"GlyphRenderer\"},{\"attributes\":{\"below\":[{\"id\":\"6d3050f6-83d2-4a30-8ac3-6cd72d9dd526\",\"type\":\"LinearAxis\"}],\"left\":[{\"id\":\"408a5882-67cf-440d-a6cd-3262906c0983\",\"type\":\"LinearAxis\"}],\"renderers\":[{\"id\":\"6d3050f6-83d2-4a30-8ac3-6cd72d9dd526\",\"type\":\"LinearAxis\"},{\"id\":\"1a25d739-eb45-494c-8dda-f4bdef9c37d3\",\"type\":\"Grid\"},{\"id\":\"408a5882-67cf-440d-a6cd-3262906c0983\",\"type\":\"LinearAxis\"},{\"id\":\"dd5e966a-c4ba-465e-b9d2-87503fdc0e2d\",\"type\":\"Grid\"},{\"id\":\"d9f632c2-f730-44ad-9b98-7a1bfe77c47d\",\"type\":\"BoxAnnotation\"},{\"id\":\"b5d14468-1da9-44f0-865d-d7a9c88e8775\",\"type\":\"GlyphRenderer\"},{\"id\":\"9b78773a-56e5-4aa0-8ede-6fe791bf99d7\",\"type\":\"GlyphRenderer\"}],\"title\":{\"id\":\"7bf2e27a-8593-445f-bb41-aed621ce9909\",\"type\":\"Title\"},\"tool_events\":{\"id\":\"ee3d10be-e61e-4e39-bf03-a1ce86561e5c\",\"type\":\"ToolEvents\"},\"toolbar\":{\"id\":\"1a6d1392-73cf-4311-acd7-02a786240b64\",\"type\":\"Toolbar\"},\"x_range\":{\"id\":\"3e80d6cd-6840-49b1-8a9c-3019e3dfe31d\",\"type\":\"DataRange1d\"},\"y_range\":{\"id\":\"85c33106-b4a5-4e0c-b122-262ffad5cf13\",\"type\":\"DataRange1d\"}},\"id\":\"a1d37a72-1659-46dc-8981-891fe369d653\",\"subtype\":\"Figure\",\"type\":\"Plot\"},{\"attributes\":{\"bottom_units\":\"screen\",\"fill_alpha\":{\"value\":0.5},\"fill_color\":{\"value\":\"lightgrey\"},\"left_units\":\"screen\",\"level\":\"overlay\",\"line_alpha\":{\"value\":1.0},\"line_color\":{\"value\":\"black\"},\"line_dash\":[4,4],\"line_width\":{\"value\":2},\"plot\":null,\"render_mode\":\"css\",\"right_units\":\"screen\",\"top_units\":\"screen\"},\"id\":\"d9f632c2-f730-44ad-9b98-7a1bfe77c47d\",\"type\":\"BoxAnnotation\"},{\"attributes\":{\"callback\":null,\"column_names\":[\"range_words\",\"y\",\"x\",\"words_bros\"],\"data\":{\"range_words\":[1,2,3,4,5,6,7,8,9,10,11,12,13,14,15,16,17,18,19,20,21,22,23,24,25,26,27,28,29,30,31,32,33,34,35,36,37,38,39,40,41,42,43,44,45,46,47,48,49,50,51,52,53,54,55,56,57,58,59,60,61,62,63,64,65,66,67,68,69,70,71,72,73,74,75,76,77,78,79,80,81,82,83,84,85,86,87,88,89,90,91,92,93,94,95,96,97,98,99,100,101,102,103,104,105,106,107,108,109,110,111,112,113,114,115,116,117,118,119,120,121,122,123,124,125,126,127,128,129,130,131,132,133,134,135,136,137,138,139,140,141,142,143,144,145,146,147,148,149,150,151,152,153,154,155,156,157,158,159,160,161,162,163,164,165,166,167,168,169,170,171,172,173,174,175,176,177,178,179,180,181,182,183,184,185,186,187,188,189,190,191,192,193,194,195,196,197,198,199,200,201,202,203,204,205,206,207,208,209,210,211,212,213,214,215,216,217,218,219,220,221,222,223,224,225,226,227,228,229,230,231,232,233,234,235,236,237,238,239,240,241,242,243,244,245,246,247,248,249,250,251,252,253,254,255,256,257,258,259,260,261,262,263,264,265,266,267,268,269,270,271,272,273,274,275,276,277,278,279,280,281,282,283,284,285,286,287,288,289,290,291,292,293,294,295,296,297,298,299,300,301,302,303,304,305,306,307,308,309,310,311,312,313,314,315,316,317,318,319,320,321,322,323,324,325,326,327,328,329,330,331,332,333,334,335,336,337,338,339,340,341,342,343,344,345,346,347,348,349,350,351,352,353,354,355,356,357,358,359,360,361,362,363,364,365,366,367,368,369,370,371,372,373,374,375,376,377,378,379,380,381,382,383,384,385,386,387,388,389,390,391,392,393,394,395,396,397,398,399,400,401,402,403,404,405,406,407,408,409,410,411,412,413,414,415,416,417,418,419,420,421,422,423,424,425,426,427,428,429,430,431,432,433,434,435,436,437,438,439,440,441,442,443,444,445,446,447,448,449,450,451,452,453,454,455,456,457,458,459,460,461,462,463,464,465,466,467,468,469,470,471,472,473,474,475,476,477,478,479,480,481,482,483,484,485,486,487,488,489,490,491,492,493,494,495,496,497,498,499,500,501,502,503,504,505,506,507,508,509,510,511,512,513,514,515,516,517,518,519,520,521,522,523,524,525,526,527,528,529,530,531,532,533,534,535,536,537,538,539,540,541,542,543,544,545,546,547,548,549,550,551,552,553,554,555,556,557,558,559,560,561,562,563,564,565,566,567,568,569,570,571,572,573,574,575,576,577,578,579,580,581,582,583,584,585,586,587,588,589,590,591,592,593,594,595,596,597,598,599,600,601,602,603,604,605,606,607,608,609,610,611,612,613,614,615,616,617,618,619,620,621,622,623,624,625,626,627,628,629,630,631,632,633,634,635,636,637,638,639,640,641,642,643,644,645,646,647,648,649,650,651,652,653,654,655,656,657,658,659,660,661,662,663,664,665,666,667,668,669,670,671,672,673,674,675,676,677,678,679,680,681,682,683,684,685,686,687,688,689,690,691,692,693,694,695,696,697,698,699,700,701,702,703,704,705,706,707,708,709,710,711,712,713,714,715,716,717,718,719,720,721,722,723,724,725,726,727,728,729,730,731,732,733,734,735,736,737,738,739,740,741,742,743,744,745,746,747,748,749,750,751,752,753,754,755,756,757,758,759,760,761,762,763,764,765,766,767,768,769,770,771,772,773,774,775,776,777,778,779,780,781,782,783,784,785,786,787,788,789,790,791,792,793,794,795,796,797,798,799,800,801,802,803,804,805,806,807,808,809,810,811,812,813,814,815,816,817,818,819,820,821,822,823,824,825,826,827,828,829,830,831,832,833,834,835,836,837,838,839,840,841,842,843,844,845,846,847,848,849,850,851,852,853,854,855,856,857,858,859,860,861,862,863,864,865,866,867,868,869,870,871,872,873,874,875,876,877,878,879,880,881,882,883,884,885,886,887,888,889,890,891,892,893,894,895,896,897,898,899,900,901,902,903,904,905,906,907,908,909,910,911],\"words_bros\":[\"syntax\",\"year\",\"years\",\"japanese\",\"read\",\"according\",\"updates\",\"generative\",\"actual\",\"looking\",\"brain\",\"faster\",\"e\",\"thought\",\"numerical\",\"meeting\",\"approach\",\"styles\",\"room\",\"workshops\",\"models\",\"docs\",\"different\",\"since\",\"dadaist\",\"natural\",\"among\",\"type\",\"recorded\",\"submitted\",\"p\",\"keep\",\"friends\",\"new\",\"issues\",\"depends\",\"__past__\",\"non\",\"neural\",\"data\",\"anywhere\",\"ipython\",\"average\",\"exciting\",\"dl\",\"something\",\"dataset\",\"finally\",\"keynotes\",\"pip\",\"local\",\"jobs\",\"called\",\"decoding\",\"jupiter\",\"research\",\"problem\",\"upcoming\",\"must\",\"til\",\"position\",\"ad\",\"booth\",\"combine\",\"slow\",\"discussion\",\"revamped\",\"keyboard\",\"instead\",\"believe\",\"easier\",\"c\",\"course\",\"trial\",\"examples\",\"g\",\"french\",\"high\",\"run\",\"takes\",\"papers\",\"hm\",\"announced\",\"trick\",\"solution\",\"begins\",\"fact\",\"podcast\",\"like\",\"published\",\"implementation\",\"play\",\"talk\",\"link\",\"member\",\"split\",\"know\",\"saw\",\"files\",\"sustainable\",\"excited\",\"gotta\",\"used\",\"ec\",\"probably\",\"becoming\",\"park\",\"maybe\",\"europython\",\"datashader\",\"processes\",\"coding\",\"asks\",\"cool\",\"power\",\"slides\",\"supervised\",\"learn\",\"cython\",\"way\",\"videos\",\"display\",\"questions\",\"add\",\"help\",\"app\",\"scientists\",\"buy\",\"unfortunately\",\"function\",\"json\",\"learned\",\"brexit\",\"seattle\",\"offers\",\"r\",\"reading\",\"figure\",\"frankly\",\"interesting\",\"happen\",\"int\",\"engineer\",\"answer\",\"well\",\"resnet\",\"use\",\"rejection\",\"past\",\"tensorflow\",\"software\",\"scipy\",\"top\",\"git\",\"scientific\",\"easy\",\"last\",\"haha\",\"expect\",\"academia\",\"notebooks\",\"calls\",\"education\",\"professional\",\"things\",\"details\",\"question\",\"graphical\",\"dirty\",\"generally\",\"valid\",\"possible\",\"giving\",\"translate\",\"oh\",\"still\",\"jupyter\",\"update\",\"promising\",\"finishes\",\"everything\",\"proceedings\",\"coming\",\"regression\",\"future\",\"lasso\",\"algebra\",\"thing\",\"time\",\"math\",\"les\",\"review\",\"en\",\"error\",\"teams\",\"optimization\",\"phone\",\"mmds\",\"schedule\",\"missed\",\"ready\",\"notes\",\"makes\",\"article\",\"keeping\",\"thanks\",\"subsampling\",\"neuroscience\",\"defaults\",\"response\",\"de\",\"samples\",\"bunch\",\"youtube\",\"always\",\"lot\",\"automl\",\"added\",\"week\",\"agree\",\"cffi\",\"dinner\",\"twitter\",\"tutorials\",\"correct\",\"source\",\"project\",\"major\",\"rates\",\"classic\",\"image\",\"adversarial\",\"gb\",\"pr\",\"search\",\"ht\",\"wanted\",\"planet\",\"understand\",\"wheels\",\"methods\",\"tomorrow\",\"updated\",\"rwatch\",\"points\",\"provide\",\"ni\",\"feature\",\"k\",\"forward\",\"conda\",\"science\",\"numbers\",\"pass\",\"safe\",\"numfocus\",\"dask\",\"point\",\"make\",\"space\",\"first\",\"changelog\",\"great\",\"heaps\",\"benv\",\"lstms\",\"graphics\",\"projects\",\"speakers\",\"family\",\"fused\",\"ml\",\"quick\",\"reason\",\"students\",\"go\",\"americans\",\"reinforcement\",\"particular\",\"statistics\",\"crazy\",\"summer\",\"learnings\",\"online\",\"big\",\"theano\",\"series\",\"history\",\"bad\",\"final\",\"spot\",\"much\",\"putting\",\"package\",\"contributor\",\"matrix\",\"could\",\"sklearn\",\"inspiration\",\"paper\",\"logistic\",\"confidence\",\"ai\",\"systems\",\"architecture\",\"meet\",\"person\",\"turn\",\"thoughts\",\"think\",\"level\",\"clear\",\"pro\",\"model\",\"imho\",\"pictures\",\"biases\",\"l\",\"yes\",\"blog\",\"vienna\",\"useful\",\"ci\",\"simple\",\"also\",\"personal\",\"example\",\"portland\",\"released\",\"sold\",\"code\",\"election\",\"earth\",\"community\",\"early\",\"energised\",\"mode\",\"polynomial\",\"heart\",\"growth\",\"penalty\",\"requests\",\"cardinality\",\"rules\",\"none\",\"pre\",\"hours\",\"except\",\"register\",\"speed\",\"mostly\",\"surprise\",\"ok\",\"attendees\",\"cc\",\"speak\",\"understanding\",\"engineering\",\"amd\",\"network\",\"pm\",\"positive\",\"ways\",\"san\",\"practical\",\"books\",\"made\",\"text\",\"interactive\",\"credit\",\"fast\",\"neuroimaging\",\"enough\",\"gradient\",\"domain\",\"maps\",\"presidential\",\"create\",\"colormap\",\"extended\",\"generalization\",\"decoders\",\"explained\",\"sky\",\"f\",\"access\",\"american\",\"js\",\"objects\",\"laptop\",\"computing\",\"fp\",\"hope\",\"today\",\"saying\",\"excellent\",\"ever\",\"one\",\"important\",\"dataviz\",\"already\",\"black\",\"thrilled\",\"looks\",\"empirical\",\"kinds\",\"join\",\"vision\",\"node\",\"seems\",\"oops\",\"reproducibility\",\"independence\",\"check\",\"speaking\",\"ago\",\"partners\",\"scale\",\"water\",\"profiling\",\"seq\",\"left\",\"responsive\",\"tried\",\"spout\",\"path\",\"betrayal\",\"labyrinth\",\"types\",\"lines\",\"cause\",\"try\",\"anaconda\",\"presenting\",\"spouse\",\"bu\",\"causal\",\"introduction\",\"publications\",\"tricks\",\"prefer\",\"post\",\"h\",\"long\",\"words\",\"essay\",\"summary\",\"lab\",\"located\",\"see\",\"sure\",\"best\",\"beyond\",\"languages\",\"stumbled\",\"http\",\"datasets\",\"let\",\"someone\",\"usually\",\"presentations\",\"kids\",\"images\",\"plotly\",\"highly\",\"weekend\",\"funny\",\"seen\",\"real\",\"devs\",\"charger\",\"openai\",\"say\",\"dropout\",\"little\",\"map\",\"days\",\"starting\",\"log\",\"center\",\"hosting\",\"part\",\"htt\",\"set\",\"total\",\"pydata\",\"without\",\"sprint\",\"teaching\",\"visual\",\"stuff\",\"deepmind\",\"la\",\"bars\",\"list\",\"ask\",\"user\",\"legacy\",\"video\",\"case\",\"comes\",\"tweet\",\"aspect\",\"fmri\",\"started\",\"need\",\"berkeley\",\"beta\",\"flattered\",\"upgrade\",\"yeah\",\"student\",\"changed\",\"support\",\"change\",\"matplotlib\",\"tue\",\"multiple\",\"government\",\"sense\",\"full\",\"whole\",\"never\",\"static\",\"python\",\"reference\",\"flow\",\"programming\",\"feedback\",\"available\",\"interview\",\"mind\",\"though\",\"hey\",\"tables\",\"second\",\"du\",\"given\",\"far\",\"catch\",\"j\",\"would\",\"viz\",\"via\",\"fix\",\"others\",\"release\",\"fit\",\"sf\",\"work\",\"analysis\",\"poster\",\"world\",\"closer\",\"missing\",\"kubernetes\",\"super\",\"us\",\"old\",\"job\",\"tuning\",\"derived\",\"ceval\",\"keynote\",\"weeks\",\"perl\",\"sparsity\",\"module\",\"recently\",\"eu\",\"workshop\",\"happy\",\"preprint\",\"program\",\"github\",\"soon\",\"visit\",\"country\",\"life\",\"experience\",\"closing\",\"related\",\"joined\",\"consider\",\"whether\",\"url\",\"senior\",\"bp\",\"aes\",\"extensions\",\"done\",\"deep\",\"loss\",\"money\",\"pycon\",\"detailed\",\"thank\",\"solvers\",\"word\",\"interpreting\",\"tell\",\"features\",\"shell\",\"write\",\"problems\",\"linux\",\"stay\",\"nilearn\",\"short\",\"info\",\"pure\",\"actually\",\"talks\",\"classification\",\"fabian\",\"demo\",\"imported\",\"random\",\"please\",\"sparse\",\"issue\",\"torch\",\"welcome\",\"get\",\"original\",\"machine\",\"ca\",\"matlab\",\"title\",\"explains\",\"hurray\",\"trying\",\"bird\",\"sad\",\"library\",\"anyone\",\"bias\",\"improvements\",\"joint\",\"single\",\"end\",\"sorry\",\"behind\",\"preparing\",\"love\",\"good\",\"needs\",\"find\",\"etc\",\"move\",\"door\",\"macbook\",\"statement\",\"memory\",\"car\",\"monday\",\"beautiful\",\"pretty\",\"users\",\"style\",\"google\",\"biggest\",\"tickets\",\"next\",\"glad\",\"running\",\"right\",\"cars\",\"existence\",\"challenge\",\"depending\",\"numpy\",\"turns\",\"statistical\",\"volunteers\",\"journal\",\"awesome\",\"internet\",\"idea\",\"people\",\"version\",\"follow\",\"glance\",\"shows\",\"comments\",\"day\",\"satellite\",\"networks\",\"summit\",\"smooth\",\"difference\",\"afternoon\",\"back\",\"building\",\"german\",\"impressive\",\"news\",\"wild\",\"accepted\",\"line\",\"thx\",\"police\",\"wonderful\",\"inference\",\"colleagues\",\"print_statement\",\"every\",\"vs\",\"open\",\"pelican\",\"less\",\"nc\",\"optional\",\"klein\",\"fab\",\"paris\",\"everyone\",\"take\",\"hear\",\"repo\",\"start\",\"watches\",\"folks\",\"et\",\"tutorial\",\"fun\",\"chat\",\"mean\",\"functions\",\"b\",\"completely\",\"want\",\"v\",\"james\",\"population\",\"th\",\"night\",\"live\",\"third\",\"due\",\"free\",\"noticed\",\"guess\",\"stochastic\",\"performance\",\"supposed\",\"import\",\"icml\",\"strangers\",\"group\",\"gradients\",\"name\",\"hyperparameter\",\"numba\",\"gallery\",\"w\",\"ones\",\"discover\",\"hackers\",\"test\",\"wed\",\"many\",\"machines\",\"audience\",\"heard\",\"based\",\"solve\",\"currently\",\"later\",\"similar\",\"indeed\",\"terms\",\"submissions\",\"sry\",\"results\",\"wrote\",\"seem\",\"call\",\"mine\",\"perceptron\",\"using\",\"wow\",\"lightning\",\"key\",\"rooms\",\"x\",\"literally\",\"enjoy\",\"technical\",\"documentation\",\"analytics\",\"joblib\",\"focus\",\"progress\",\"changes\",\"interested\",\"build\",\"bag\",\"infos\",\"quite\",\"validation\",\"nice\",\"pypi\",\"making\",\"expertise\",\"lieu\",\"translations\",\"unedited\",\"eg\",\"linear\",\"bit\",\"approximate\",\"posters\",\"show\",\"color\",\"man\",\"might\",\"notebook\",\"current\",\"rennes\",\"hiding\",\"api\",\"large\",\"got\",\"study\",\"interviews\",\"wssspe\",\"doc\",\"congrats\",\"factorization\",\"language\",\"stack\",\"tpot\",\"another\",\"watch\",\"pages\",\"web\",\"times\",\"better\",\"tasks\",\"control\",\"book\",\"posted\",\"apologies\",\"ecosystem\",\"setup\",\"cluster\",\"rt\",\"distributed\",\"said\",\"announce\",\"seeing\",\"white\",\"advance\",\"maintenance\",\"conference\",\"tip\",\"social\",\"centenial\",\"come\",\"btw\",\"scientist\",\"written\",\"uncertainty\",\"exact\",\"honored\",\"feel\",\"look\",\"install\",\"success\",\"submit\",\"definitely\",\"ordinal\",\"getting\",\"visualizations\",\"cleaning\",\"anything\",\"realize\",\"u\",\"wikitables\",\"attend\",\"windows\",\"july\",\"<number>\",\"forget\",\"two\",\"may\",\"diagram\",\"presented\",\"give\",\"stats\",\"env\",\"uk\",\"yet\",\"backend\",\"algorithm\",\"hack\",\"nets\",\"https\",\"learning\",\"going\",\"amazing\",\"latest\",\"really\",\"boosting\",\"working\",\"state\",\"powell\",\"team\",\"nb\",\"around\"],\"x\":[-33.42494007026155,-67.45069384368965,-65.79438041886087,-37.12686494282486,-59.61021605497407,-30.34339414916934,-25.65754818526987,-10.073638962740556,10.911642202395365,-57.00963468330255,-65.04910657659136,-52.93074111789815,-30.580039456614493,-40.652531610769614,-4.519808911104415,-43.9504630988445,-39.82756795424991,14.839608697940282,-51.568871824934035,13.546004269282552,-55.85750495232613,-24.665230113437932,-40.67888475772289,-60.686823195786026,-56.683369894601185,-12.169312893380281,-32.56616611023843,-18.71500309076273,1.0328064801483923,-14.721589868093773,-14.19245499857899,-20.616542000245627,-34.82830846833768,-62.83520452168614,-27.137566966890684,-20.902043232026173,-3.5870790911042234,-3.5736302393493875,-35.94488983238615,-60.622405507543306,-24.65199338930205,-45.78512005535189,-7.6930888038514285,-38.63114929427746,-48.64731889079493,-38.900652806237595,-20.15340337833666,-24.917520778623164,13.99616828613276,-43.01782200306691,-41.649426845374784,-19.99753318187109,-46.71734022543912,-9.42638277294408,-0.4436888870178711,-62.60853733016862,-65.03602473584125,-1.4754583474994232,-14.008548429425922,-23.299750017109762,-29.449082885310798,-6.05945574692574,-44.81716060915038,-27.665546006200195,0.03308300596581173,9.251631950959315,-1.980965462643063,-16.614279678605467,-49.73581054991225,-36.66999629017165,-25.13032597253557,-48.81347852718523,-34.13907265442612,-25.254077980438407,-37.27501294459349,-21.139292670763126,-15.7558176585858,-55.65040349915521,-55.06630447594615,-33.22079655397757,-40.44950529944956,-31.292421477687114,6.002438815602496,-1.1314371346108503,-25.310815887033915,-14.548152714537643,-2.358648487570491,-2.833725703559542,-63.39904896187261,-36.741861674621695,15.324077292058833,-12.646275504734051,-63.42413207597471,4.91781721473323,12.0259182276383,-13.446130037668965,-62.363796867750786,-11.142265108468958,-57.60388982001172,-51.20937198125572,-42.6440782141057,-5.391003852063446,-50.17689564512809,-17.797856720867923,-65.98080684217696,3.9165652326916196,-13.619035784273255,-67.05242452291851,-32.40239968605942,-7.3436503259605335,-29.96353283536523,-40.51884275543233,-45.4011662763724,-50.672815983842966,-40.28945290416865,-61.27784668049533,-34.44886709172218,-62.74458371804143,-32.73231890044691,-63.738657620480495,-17.589462846029203,-25.170652101584754,-20.807604193119985,-39.7440887036534,-62.064156333096946,-49.315836336459476,16.862445931406093,20.162904275841928,-2.3161067296048334,-47.83279830513732,6.631528900315213,-56.83867771679815,-14.137871637387944,-53.16377153936338,-17.07452499726775,-55.91736427838292,-26.997489412686072,-35.624741126016126,12.064226595218132,-60.638571222391136,-31.221123519137695,-10.71571051072834,-36.825043929706695,-27.937576646687777,-66.71370514368309,-6.5359492237668215,-58.5285578533003,0.13140026436667168,-38.55295803220387,15.713459744660222,-59.352332730980585,-34.91268066213372,-20.663089939471156,-20.775264976456192,-32.66701815805511,-51.95374148632384,-52.01457183961205,-58.09813436405945,-21.266242149487415,-19.69892053272593,-38.700044545295896,-55.6274303386156,-30.74783663476932,-34.33856830896017,-67.79699561575606,-23.800798135880008,-35.93030962610028,-4.192001367111551,12.577462824655298,-6.848582534182492,-0.7707948776364554,-41.167465922706384,-59.947222021651314,-4.604470367360961,-53.482661499698175,-63.04094840427037,-24.79186567374613,-21.85819593299351,-9.097770324823788,-17.498119407574762,-27.201116663146774,-12.4634724678766,-46.53590023326052,-49.351894205526804,-62.029953641798926,0.4649587477413392,-29.505446707201358,-60.15414122836334,-61.63660914633695,-60.81420044493475,-44.39043894615812,-57.56489061757385,-36.18804648927449,-53.59088989853314,-35.182943320978,-68.61910733427477,-61.375050248421935,4.3580729378334695,-32.30808629712553,-14.125716566776873,-30.143049019240273,-3.005420691571968,-60.62684647575031,-46.407514351821305,11.43391396761177,-64.46279980786353,-37.34257241972295,-29.432491488124995,-8.831841242644915,-22.695892968776782,-54.1445531186487,-6.01602370734229,-35.8830894053767,-32.825969137045576,-39.52125830241198,-43.44004581012519,-27.898058052485247,-34.76836191414314,-62.69682130190676,19.8607244848026,2.2011720886581996,-28.532333637578656,-37.34229638053317,-21.546339096224315,-14.774736353115589,-57.077718740420366,-49.94419076884719,13.80063707785513,-29.124287968479432,10.719323361670465,-51.1652512420958,-35.828966920522326,-7.920016136231644,-8.582545688810292,-45.08528161795291,-15.546907900339848,9.024651727951538,-2.9620905088689486,-32.335043354233875,-15.657680007117229,-29.871297905487996,-63.62610588998849,-49.03594493438461,-7.276818015111056,-11.651695638246261,-59.12600593345385,-17.874244577007552,-40.55545981779521,-41.99417555791551,-44.94055325975653,-3.0427418286829306,-62.74950828317842,1.8897791341469445,-26.85998424942343,-22.95454520454628,-15.268359846381216,13.986284560903734,-50.183011163759026,-61.159466808217786,-59.55127046767711,-57.439321744057686,0.672186001740277,-65.33767599919734,-0.4895052835107605,-8.850073735317485,-21.84336159979889,-25.517890774396932,-69.190244049539,-19.808961696053476,-36.54548284582812,-9.009950568192654,-52.66786970900538,-17.58568283091703,-14.900676523396902,-49.228657894618074,-48.370270795427196,-27.21907275687469,-30.296040957561747,-30.23982663881824,10.41661596354302,-21.29889492212846,-28.65351468246589,-24.15493444314926,-62.84251613033534,-53.135975101990205,-14.337449644989311,-32.23496190440243,-56.75979811658749,-55.54545951141151,-55.11504821775294,-5.425582842544639,-60.51268732457067,-5.115391160763299,-56.0555454363551,-38.10309476864426,-66.71508298712327,-63.07263928952951,-4.508643389730652,-38.93172648446082,-63.14355015884887,-40.67840418360272,22.102626077137845,-6.379239367446001,-38.45629606398703,-13.240338696325043,-26.406941870657835,-44.12208492748019,-8.787623947958878,-40.24667670157594,-60.63749483961771,-19.59202068771703,6.487425289416018,-20.752244859008787,-47.1869370839383,-2.373553275829013,-23.8111390634454,-7.837597485521995,-38.08020848833041,-51.439790431014146,-58.77241652642713,-10.017294732717822,-10.557370285160903,20.019120578585262,-39.69601616944554,-59.378377217761084,11.284471593567961,-20.25435421268958,-21.588461753355862,-43.913626368700385,-15.99328465846233,-61.97060220635525,-33.96231181427582,-18.328304658661008,-67.38309739393804,-43.564618285468406,-27.064592308167164,-20.626314455895518,4.224967413916064,2.176231110328563,-18.516844112341015,3.584344121941636,-51.3694265253033,-5.1444502456217895,-17.913744227147536,-5.182717511203192,-15.36851119983257,-22.733170612790886,-29.074656601621854,-30.104318775099973,-15.191789932243315,-55.22885221718691,11.232873949775481,14.821847305916265,-35.07258720177087,-42.95530446131176,-4.440345926586629,-19.469771625427725,-32.740162911494764,-25.629002108194378,-41.62137542734415,-51.30515674715072,-22.257129569516614,-12.876746813099563,-38.25318559222917,9.331175901133081,-28.510139632050386,-58.734119050464386,-17.52752407680242,-50.10557855525076,2.4160151458414716,-68.4462217479486,-16.062001710370062,-43.90235361343453,-41.98608903285364,-42.1503306789584,-36.68604982859317,-6.594582708946607,-65.94265391749927,-42.66317145714404,-35.080994037210395,-29.77544987224864,-54.39836679975673,-38.161402303565474,-13.552360583929893,-28.38226510642682,-6.0190280371143405,3.6470594380864294,-27.83069861363633,-38.21689448089616,-20.18791187347412,-34.233938993244095,6.554113670969882,-61.08174154926384,-65.0199233510247,-58.170544498729946,-4.508595810744263,-36.40167265046994,-61.42122771091457,-54.049920505784854,9.778878829720721,-47.28482427876332,-39.369320200656915,-14.159545297204374,-68.15574243187942,-57.649630136004866,-27.206610244845955,-42.11077514607881,9.963948795942697,-9.198907679425494,-45.73632920294422,0.9149903232521696,-15.727068944457983,-1.9533552275619466,-51.474137612030816,-38.03889649360786,-41.91508724191155,-16.658903275238547,-30.193707970630996,-3.5187502365332723,7.018154340437773,-23.98555868356497,-58.05261714629891,-35.507722017511426,-35.04142526706092,-17.338611906861807,0.050950701272942024,-27.604005334072816,13.67619064915428,-26.519752834317107,-28.416716120227107,-52.979294148558424,-53.12411451498334,-24.896258467425092,-17.113257842338385,-11.64756977372333,-10.194055144518197,-21.64371763307867,-4.38834417017019,-12.042805496509231,10.088943232555943,-18.18089659022363,-60.023290336088635,-5.771612780283705,-65.54410998073426,-57.05759180753683,-13.488889666063383,-10.492385021632769,-29.821947102264982,-7.582855088980481,-65.57776945743127,-46.821098915010474,-37.492356403221194,-12.646576328883341,-38.826768204620485,-2.1820756938466634,-28.302368812264866,1.7788761468907512,-1.6084525472791524,-64.69664867805163,-2.054015305194635,-18.848502584742462,-26.900593505746002,-37.54435662167829,-12.329220937020702,-11.929718212289846,-56.044143300560016,-22.285023415767345,-50.59317518314691,-61.43198721242739,-7.738461029372522,-25.823250842067903,3.830701798136613,-48.40959389097233,-32.95947878311816,-57.25558368050144,3.550051229144909,-58.92390557794677,-27.463273128660823,-48.400384553499826,-9.04230606772495,-53.09233309639643,-12.060862382750958,-48.356460805992626,-45.087335735305736,2.743153047140347,-52.95679403357745,-63.686198821574166,-32.61073339696848,-41.48755398795033,-44.265332004272594,-28.921426962731854,-18.864311309239323,-34.282880713296834,-29.255573845601102,-35.82751007478094,-15.308225316662309,-38.79390924180301,-6.414956449178623,-59.04153368038596,-57.33275104204786,-35.85806130086882,0.4648969597287818,-19.792729417081798,-26.607095062778342,-45.0564676739047,-63.606061601616254,5.000785060309949,-11.150623450931812,-41.479312036040135,-24.46322354977594,-49.65317943557979,-22.722805754924277,-22.742475551334035,-56.67399590471258,-21.42766830637854,-26.39232982826885,1.8708609954958166,-22.393644891591507,-24.796451520675785,8.153913003010672,-53.48698751568858,-55.76225888700661,-59.34614578983001,-16.923285935164188,-62.33032279488947,8.852749983997104,-54.407605363088486,-61.40480093098792,0.027689810549699802,-65.76966253850782,-12.373233405942573,-34.25424597201742,-53.98898283306164,-40.85315403023014,2.9457570999335956,-12.75400319709175,-46.83855129255954,-9.547680930217778,-52.02102580779733,-2.712491864935958,-17.42411330150919,-60.98595879020304,-39.12858507492945,-54.43327391480948,-0.46165528908386877,-42.95521088075902,-47.25325337745559,6.270267906909769,-46.706660664816326,-58.621255625789736,-31.00392899025205,-13.200511338773316,-52.238008139053306,-12.426943608121341,-10.843316880928208,5.50367586435525,-58.868140516191104,-62.59388524790472,-55.337564639584606,-53.565938479965766,8.551239987701244,6.741114011828984,-21.398934912697577,-44.94460227705764,-30.428255272484236,-15.048741475656428,-37.24629373646256,-1.04790916171614,0.9342645732374402,-11.562193432414993,-41.60592159561452,-66.42423820402242,-33.903980494262306,-64.39043953611981,-38.14842362035152,-69.13431044955192,-30.721454755874237,7.570041139732222,-52.11150135973439,-48.57398528646955,20.704779681918208,-22.630055604563914,-23.22822270495351,-36.86768592279214,-65.10074420904134,-7.935763876200112,-16.201529032522277,15.413394167145805,-29.589005398796676,-8.196946022525307,-31.497500378699335,-54.100540296940785,-32.2481781595871,-35.3979638935219,-57.634640330089546,3.4147315864235375,-51.1716822995453,4.292730650900577,-38.96982793305792,-4.7854578922667015,-68.19318750295518,-61.067179794827275,-33.56800779836273,-52.33328061283705,-42.97082116360592,-47.21782125112242,-32.76645645646715,-33.08814856522868,-47.160930431331174,-23.490459939154494,-35.69996451722044,-57.53841595476719,-70.31804181465192,-48.24614877475696,-12.703323492751272,-9.247829687789944,-5.767184389545264,-66.53629271781573,-55.2193176976533,-31.341602601945,-24.23453957674622,-43.891555373697656,-40.80001316509894,-61.93534690564234,9.868058333819217,-64.36891922428862,-29.029121373054487,8.957701683004645,-18.458912803317766,-61.183676018017486,-14.469939741634898,-33.19976182072963,-58.46300036110311,-11.447199499598504,-52.259828027686964,-54.94674177029827,-7.305948125966386,-32.193724261356984,8.379501579786801,-12.09883563968464,-64.10953881545407,-36.44674325101357,-33.30424857466598,13.750318385191328,-51.46331494217342,-61.407857793729086,-49.063933801877994,-56.387680230463545,-44.78049671099418,-8.24866706601439,17.163752820038262,-17.087142646788525,-23.14078630928783,-44.97632328848217,8.50942748848624,-47.16353080481035,-32.21758334356655,-41.72715268616094,-59.442088412132335,-30.35682212157898,-58.72399689176855,-16.877170800354254,-37.42065334089538,-59.32130772104355,-50.89494785746804,-55.7161757039969,-61.468341526856214,-17.736363165522242,-26.705804634839364,-14.774231896256229,-30.797160858900988,-34.89692310064356,-23.76811423170255,-29.729382432444186,-9.511857510460768,-36.60301299976247,-51.06443519166663,-54.542523777131734,-60.26600882243922,-63.432380776600816,-56.7507664377793,-35.94722498753252,15.472659577325413,-14.431823242856206,-1.2420447902993452,-59.75962670547941,-21.35204147586973,-25.255901787264605,-16.28686335016716,2.1972057465828736,-41.09671686318154,-10.726423137938111,-61.37143214175561,-38.066077206549615,-27.340747530127903,-64.42231335451893,-31.351107252948804,-3.750012564019925,-1.5028642489604132,-39.10148625308771,-6.484342215648894,-18.675348968769566,-59.623697434565564,-19.166740753603463,-6.866908125405,-10.962306329881184,-65.96735685518263,-32.10089319911319,-64.06019248622148,3.9195362398932776,-23.565160225085258,-28.693701015059297,-4.193467327550238,1.080476750252769,0.7201927848131403,-32.49229715395544,-46.9689843090011,-46.46933840338484,-63.65190520395643,-36.67074726743186,-42.89575296995138,-19.190875324426372,-64.42407431726588,-28.899648164960023,-57.4050352222879,-45.28086637674189,-27.526154044429283,-20.914663363021177,-55.88976406760628,-44.89511440754475,-19.25000790538846,-46.93595021764362,-25.107160958260838,-12.519865117681915,-10.711226866831428,-48.960563790149,-54.97485508825,-30.221779912566653,7.056439145293231,-24.179722880408754,-58.128512231409466,2.8228590677321597,-45.46425110457454,2.3677683998023533,-45.54492046935801,9.201606998684413,-21.248534872954167,-31.3696732493431,-44.99837012982336,-34.23842678762752,-18.997470144329455,-43.721449535395664,-31.210545507238717,-40.74423514537789,-9.423772170643856,-59.69566874936103,-13.461035895253717,-10.036518643359242,6.938822190118003,-42.729145986550385,-23.166853418300562,-61.63057555853361,-17.77589436641289,-35.637427665729405,-48.94013974146996,-34.15315070678339,-20.416615387148955,-31.824005850565065,8.999628676146193,-26.990950066495838,-18.904771712229667,-7.621927621476521,-1.4623416379903678,1.5029898343150376,-58.442617634018006,-54.414474406887976,-24.899026608201186,-56.46975097711782,-28.842897515817995,-0.9513724967382144,-60.82859883587728,-56.530035597472555,-50.175189185876995,-39.56331074673892,-3.245088608855656,-25.48375842782054,-26.9462424349252,-47.24287272781071,-37.31005170089915,-18.38698483094647,-31.718880886130044,-16.142099391533662,-14.624121791011303,-0.9052762676545947,-26.41587543409451,-47.416490741246584,-49.14594432849913,-26.17377117547486,-27.259859434565847,-36.583750448220144,-4.763296184025575,-59.47712488194553,-39.40479657711064,-21.17361940008695,-16.93047401099223,-22.07738473898646,3.8379218544207223,-17.58972607455501,4.8945965393163995,-55.05988556396728,-28.875414684035256,-24.85706001890662,-23.2948665526141,-34.844500723671615,-8.880360181636146,-51.04502992098716,-53.22814815207169,-6.855438409852041,-37.79163047212166,-22.45080268379762,-15.626551588053745,-42.85546499154266,-54.824967893961045,-43.042821719904076,-53.870922659268295,-5.427878421487523,-7.859202295205558,-16.343050992955074,-52.327471408502774,-44.714482756072165,-42.33524759025209,-43.41623340250727,-2.658024212310319,-42.31991504234415,-46.878080655936614,-24.852439062900164,-48.053287183683736,-45.48592533636495,-64.38478461272369,-13.165814495474692,-30.60182215791057,-41.67385294606567,-26.000214179807582,-34.36453128136632,-20.608149436623663,-23.72170144752665,-21.24111209811324,-62.99629702833732,-12.18170093346967,-40.3227687314702,-21.903465232791607,-16.65092142133806,-3.9446691131688585,-2.1381380441962197,-22.14918914206028,-69.64818640655139,-26.731503213983437,-40.46094827612192,-33.753681568947265,-61.91960285502293,-12.763471550067042,-15.528220066956548,-66.67773548465428,4.2674860035626665,-34.851313026830475,15.861023888637206,-46.97956357842499,-64.5376560953682,-29.06416122415639,-33.90308302364016,-46.64544780684129,-46.61038903714904,-18.762971981781508,-54.04482147767754,1.399141762512765,-18.638341429662532,-31.77567216588593,-7.136011854869908,-38.55753535787614,7.324207914622752,-25.07041373011788,-50.32889669459438,-42.5022099127009,-62.04144474357876,-17.94301223919695,-48.48291712334652,-50.45234567436687,-18.91202680861254,-6.748153118587623,-43.18003784880086,-16.97694435699485,3.1189273565339084,-38.972462606218734,-69.5287150883867,-5.012686947064583,-27.350816471118566,-43.28084423155911,-27.992573990929422,-62.411089950476715,-62.543923701775256,-67.22932848954063,-54.88149978178528,7.260425992848757,-62.45235382559968,-10.700011763373121,-49.509394890465934,-38.97924005225041,-25.827303283952652,-44.78491650623327,-9.11082232935829,-41.06922458041589],\"y\":[16.663109349839356,-0.15844808406268227,5.718357867402603,-3.5473098134777676,3.0171037925748925,13.373047818270118,-8.239354582576784,-19.66739257092061,2.170177313313734,-9.34150976617591,10.841957734793732,2.4084180589861925,4.575952323329537,-0.398022367727405,-0.9556715209210284,15.79669046338738,-23.410035820190863,-1.9838840706028298,9.868981826878278,3.9332081766952975,-9.228958039708704,-17.114304872156552,-11.457269354555969,7.4543643130106885,15.022864463037145,3.5043503173126824,-23.420655830433738,-2.177963220871802,-26.406923549241775,16.178553876522447,-10.083414822280695,-16.842849754056548,7.366740805015004,3.0178270268012537,-7.232366459887706,2.7671338830489436,-22.391075980341256,12.592640164669323,23.769542705989792,3.4243388859602018,-13.61425768322553,-0.6297737636329741,21.325367628527214,26.072647937322024,7.116393660178969,-28.082921757904078,-22.28878401443819,-5.6064996791867125,-0.744354232778692,-6.6637680476155765,-25.712884350797726,30.944742310594414,18.92930993464912,27.434650736500487,-8.013037030857447,10.670019766408908,14.311742637801284,25.42485392834142,-17.092600558357947,-25.06745492579147,-25.139472838788077,-12.766063061856796,18.117150432076123,-30.877178655704892,22.53380308421797,-20.227738452758746,-24.692683093226,-3.8589344983114966,-20.59372082545772,26.470896089952383,-0.3679727767335054,-16.697912025689966,-19.26564360629579,5.851997305890092,-1.391893158180701,-26.293855016537407,6.481217586776189,-18.02716501089276,15.75222251182814,-4.554334955877188,18.865663821890713,-5.8189327219427325,-11.950248702334424,8.475712058884893,15.1848190178348,0.369240489810996,1.3935112280643869,-3.7517503880031504,3.6002407195184625,21.133720339238863,-1.4952822864748196,16.923319829381374,5.055217154475194,19.837465242576553,-14.503021052612622,23.54405538884194,2.2434319366198676,5.031831836290421,-11.932905991913422,-3.888483694803957,17.555900132615573,8.437774995607532,10.888485235920866,-16.73697982716786,8.7296798985872,16.091118595643113,2.312164257070003,-2.120002905758195,21.370621032535006,12.407311842109696,-20.460484023153104,8.934244543707386,-22.992466477169977,4.641973923812793,-2.5451552858608246,-12.443862771806627,13.131269079118578,9.186282657371095,2.6348536264274927,1.088084762221678,19.435326366607622,-18.974976223380104,13.202928355628167,10.606432046293216,7.124934107302596,-12.538520837286907,-15.19864761153863,13.388112883648319,-0.8602816882337263,-3.716471142769611,-15.413887558188227,6.006321334262436,4.652574836519788,-3.4955991816896086,7.278867663448915,7.758537816696241,0.8152025637897726,-29.690766547015983,-11.247841125435379,14.305054463525432,-10.278055889129856,-27.900454273979328,14.859974031869937,-23.45475066527157,3.5995146121244725,-10.686263158880847,2.5577925388025746,-11.377748558040164,-9.399352583762772,16.31376289969262,6.1455053925825425,11.198262438136926,25.71229780526777,-28.927729723842152,-11.005640510381575,22.709725492023317,-2.1560600093839706,11.317984265395303,-5.593123480680007,4.3700697615201705,21.228416701936318,9.33420454372224,-7.84078231982541,17.29350467132731,6.340321205746147,21.04801435552052,-19.96155066684044,-37.6827370808546,12.61950588843069,-15.275137247987985,17.000499398003758,4.805741256688225,-3.6032937350802707,-20.110209595287156,-14.503756452035166,-0.0860062860190093,3.3941804680730665,-7.79848565009983,19.790491848250166,-24.259137841167618,6.25714320911327,-9.917901803112695,-5.079176266590322,12.856891677221444,-2.7333543673786687,-13.909259690083076,17.428815061067944,17.6752731760002,1.7330416296078068,-1.7534470640503503,-18.5735062932028,-5.394031797856433,-6.810984207582483,6.817518307713628,2.8880321059435503,10.589512897221155,-7.427153775418963,4.281379636416165,-14.529069848124902,20.573094538902918,8.390829581131714,15.668897655649825,10.319946395169849,3.6052237058308942,6.5186552442930115,3.614763013073768,2.6604477841100405,15.302249419159713,10.859088228790188,2.3707962012503194,-5.3573319712784775,31.48684929923904,-24.495761741400113,-6.557910587063474,-18.267640288011126,1.56214843275273,-5.452131508146876,1.2585974476252961,13.861497061022348,7.65966879554807,18.130336106460646,2.7420507677465777,-5.35650834773247,-0.7304710213035657,6.514032987154934,-0.9528548831987969,-7.996331124353885,-8.083857522625603,-7.088470318494488,16.10714215854651,-13.410741783732238,-11.96267237134288,0.5118579823095022,22.18464635696244,4.946723510809978,22.58933292271604,5.107419493411467,-18.13276876308267,0.955512778111061,25.667032973244634,-10.318954450265851,-6.983654542725711,-10.385715035387198,4.469899514725976,-22.592432832488708,12.724141957149193,10.098135651190033,3.1230123792743303,-5.591993404173495,-10.596927994701641,19.138360496559898,-1.4630297939343349,2.8759360855458422,-13.740547175252676,-4.600728970287616,-28.7808230740354,-1.528587871006428,-2.017352450124096,5.265360234243235,-5.102225894077258,3.5611033548255517,6.916290211174923,2.955352225572717,-21.479139306883027,2.613773990132139,-31.056487139880417,-15.390214177982296,7.768746706929549,18.796268787117864,12.421227984205794,-12.831757887271076,-0.6585685559019897,-20.320951871274556,10.590907105571272,23.073111544749903,-5.872500623623277,17.1155039400005,-1.2938562990698845,-3.062377160253014,-7.504342492151484,-20.578029248746315,-15.486462306934241,-28.214321599542377,-5.250617330078719,-9.111172484223792,24.51727092721482,-1.4432625563670627,10.453970469271477,3.13686341578069,10.997385533644357,20.258435813192058,6.302633323856239,23.23681626295654,-14.130356950362021,-0.9985274147197807,2.1944742176419494,7.656263210014496,-6.179389660769049,28.596362652826254,6.291496788936618,-9.344943398054514,-3.5461088509792273,-22.943138169023104,18.43384046397429,-31.706499886271235,-2.101849213027348,-14.412271919484482,-14.998766390986951,13.996173964456844,2.1342233876073005,-6.875449437603345,13.731872663185387,-33.55695173452986,11.962924155563362,-12.484758157445487,23.370691049676584,-30.834042755332334,9.122196076947874,-6.995533129670755,5.1112644727882115,-8.859157232472299,-16.769379557206616,-8.036427792688649,-13.371514176219588,-2.1465669692284792,-22.5610099207307,7.218492699169053,19.348375247586905,-4.864294343660246,-9.397777394217961,4.01746569980793,4.203230506805606,-26.360552254326368,9.216945757907327,-16.08368127430539,37.65806409522706,-9.321878434536078,1.8154853917953575,25.91026535674823,23.441103325076035,13.351310505088124,17.70717251926597,13.86613215699544,25.820538060463306,-30.686525508850558,-21.21839060384249,12.736641738413795,10.41321096483996,30.389898010209777,19.240361648948006,6.247169196854342,9.7118123480169,-2.60113155560021,-3.3142306644323214,-0.15107326389519862,-14.710490856780083,-26.370548467194833,7.873532848504309,7.738993229443567,-19.814527942370656,2.7475224147100747,-10.524775854732164,10.494942491926139,13.647720704964236,-1.1249905469110901,7.966185634126494,10.299335887244913,-17.396397714052995,-5.764100356613978,0.15586064182017711,3.5225747370812046,28.64705816987045,10.286720947530403,-3.5439315458352483,-22.59094623860564,10.232904672063494,-4.383247786020964,0.912786462496584,25.647838603124033,-24.335140992699852,-17.869082054463565,1.8252723114662979,-11.438520502306286,30.800521293208593,-11.326504369442445,-26.206459344392684,10.870020546183262,-1.2163441829984887,-16.537627074973624,10.832068924957557,20.366391964339833,10.498032608107945,-5.477827765178623,1.65479272953786,-3.70954267512559,-8.567077365747595,30.824979536870305,3.658367499974299,3.5333526857674347,34.3272854135837,-11.736687531996942,5.694714512379096,-2.2496319922833137,1.6311163592938085,8.601735416302475,-16.87569234368559,14.85683542202489,32.87850742216967,-27.249191185925906,10.750509596511868,-6.363823339645634,-15.01020343109927,-9.615472345260521,-12.215134263720326,-25.520601597648827,-1.674318815067869,17.342248392952015,20.706039477146415,6.798077518941985,16.6729154253789,25.79984321253875,16.86698999396155,18.626824642079097,-5.263307093725359,14.29476636394526,19.6532477490868,4.353019739431238,-3.21990195837972,-4.3523666781453425,13.060911792096647,10.999751721783742,16.667232880926807,11.781850505906819,-22.32197279648701,-12.052836170862255,15.78084031819425,-23.822052672762194,4.120519386927535,0.76933608797163,-17.062908740834924,-5.53638723883595,5.051250834284919,-17.902697901641716,-7.99758323530615,-7.205477223020067,-5.50601486201228,1.7734838718082606,-28.278474227179423,9.199261084974397,4.405067544750652,-7.170442273185001,-17.08623223264824,-1.0693240850539785,-3.4512777342954775,-6.170839018381957,23.501533633211693,-16.828551567116545,5.681046993300694,6.803725191327461,-14.699906045415185,3.602844704416775,-9.827843423286927,-22.71315264075032,8.700905846387744,28.53461519322523,-1.96600861826597,7.94739453511543,8.2500665943202,-9.500333778073108,-20.49666865562971,34.25484875919911,-2.3427143296179294,10.716743467390165,10.132014444794201,7.431331224970747,-28.498195757928126,-8.61480332468507,10.560621039699237,-1.7952455078231757,-10.778506982253536,-7.313581604081029,-25.05031826772689,1.9055679662842804,0.9719134082290307,-25.261577286522513,14.347366109438944,-10.03976941320167,12.064653528817168,1.3439131001879354,-1.3963258981729245,19.395953921360658,28.25312219019617,-9.947396031513126,6.170736332333357,-0.4388776129153668,2.7182674667447575,3.876859573083103,26.951227514517,1.0845736047780519,19.597624702113823,-16.632938908567898,4.486156286614589,-14.710322273591727,12.535969490216587,-6.363240938011447,-3.059068464459393,-4.613114374593035,-14.440776709725869,-17.035802973485847,8.270639359507959,3.234341647587617,-16.786058454925218,17.81709800404233,2.4908973395228693,21.400041686948526,36.56762874920075,-9.700494321686216,27.99262738820183,-31.917103749581347,1.4284488321855182,9.351042213182458,17.459940463206227,9.036270220935464,-1.014626853894309,2.9816786711175283,-10.29597682718443,24.463599336996406,-0.8170523256273653,1.0832141854947113,-0.6803581990099148,14.653879732169575,-15.302251581843475,19.014736932397877,-5.1182379710743335,6.272769060269743,-20.526103767682024,7.4320810722276915,30.981296916691242,6.005365186314084,-25.9184771948426,-11.76011618932508,0.922237541503294,-5.814590764085432,8.086880519288105,-3.845054483163201,6.47017805049858,-18.516317032013905,6.487707464644332,-9.566662424054078,3.9028626771072705,-12.47629353704337,-15.286778188096307,-10.948457622940909,25.98050838540527,-2.2825592146523914,-0.18223969178600297,-14.152212115458115,1.28891681616593,24.035179935202454,5.208109043943862,19.649962859384924,-2.2776316746136804,-2.2921008804263923,-12.607924138819351,2.2563178667370907,-1.5512288179840577,-18.286537364394235,29.207699215866516,11.807798580488813,12.695805574522064,8.852493168308602,7.1257888461452135,-2.228335228573261,-4.601075813589237,-7.625143864890453,-1.8558635210825312,0.34576941416364126,24.162628986575555,1.0211274561116768,14.852814344667523,3.1126395228160577,-14.826805202243566,11.079967267202191,16.74592247148615,-2.2283673819487655,7.121063458761905,32.421381311124335,6.830683033096465,-22.421907521570844,16.986082255370153,16.610593462140866,-1.7641384497720434,-19.892900349645213,5.580156272877812,5.1660043682207455,-12.352776314489134,19.966328423863825,8.38354182511226,23.697488984214274,-3.472541315082793,-4.2829429575196745,9.473815541989975,-12.420608293910403,-5.249241662626546,-11.990388977041714,16.57592928594935,-27.98305109787729,30.28514543928391,9.238245163516723,-1.9434725994131987,-14.793195137586387,1.611995498690826,2.8789061723469405,-8.331978694906518,19.198555573480416,5.28469856855255,6.145030279857719,-6.078920872007754,-0.46592897115909954,-31.087295699833774,-9.515277278003037,-21.033115651782396,21.245304729269986,4.57728670790844,-4.238452544924184,5.7964474348023245,-9.569331238609534,25.966193393985726,-8.974764564555699,12.135536864486639,12.85488178973778,24.983912532709645,0.4856841944455986,21.51827202910503,7.919493463363832,-7.243435309375177,-8.647693093475079,14.35445529505423,8.34603460675836,-18.232201953732858,-1.1830782672061042,-10.244695210104599,6.077588939823673,-2.289596535761999,12.39462565783705,2.730954646203331,8.940157198687196,4.525169003533057,21.441732962237385,-17.67502153026268,-10.983197777871167,1.3799575545383413,0.2842688365207329,-8.387763139559038,-13.445499190832445,21.744724727715987,27.49686399632787,-13.926764890679525,-10.652198591782028,-14.435916475115228,14.653728326841353,4.471380110474715,5.945974529729504,-6.8659578507899734,-0.38606063093699616,1.3238592976616375,8.302695590677596,-13.898799975952876,-23.22987553972967,-18.944158556067656,22.538296390369375,-26.99866475724313,-7.197883695367603,-5.050306729571379,-0.8531973388142746,4.2266356641908605,14.283857640545017,13.946701397490237,0.17375150711317786,2.077317914716414,0.3171392287347895,-8.584626835387633,-3.092671311186834,-23.48205329739251,13.779954658410135,4.0765396906502005,8.692881103329135,1.6579471124036393,-18.135285293307117,-30.351280533077013,12.313473496743939,18.40999664170666,-4.2425824817130735,-13.672229917018383,-27.27492078797292,8.831825107746665,9.52853538958907,-11.305677943864042,-30.145727372888107,0.06026731048966085,2.435350114041298,6.011873510627735,-0.6024749857945246,-10.785218784339746,-6.406144159705221,-4.243190554677514,-3.8873556784370633,4.448524933047758,2.6708720985136396,-7.049210042794568,15.750699283919188,-12.99431710670789,-35.872333382384994,14.931279516472511,-18.60968276332007,-8.693473450034425,13.742054154141625,-14.002256376716495,12.14534152246421,19.091040234265243,19.872362478022588,21.080641876225066,7.85615495259949,0.545197764695487,-16.92570653082675,8.698648812855788,19.66581710085104,0.9304315942339622,-5.310551477222433,12.56645914013749,-19.333463368775003,26.30340988087952,17.379995819008577,-7.802466174058057,10.45217387217692,5.397302443680569,-11.9601797448695,25.68857288476309,-19.046888990464677,-11.50077728518998,-1.7992879598192273,22.133016258225,-25.637283179404832,-4.719249671051244,14.944913781048404,-23.193274206116616,5.313160494913334,-25.640640472861254,6.74107943462992,-7.606047856479786,-0.04994666901717723,-2.983441234309748,6.66690000315342,16.64496569624308,13.609622601190294,1.86999997456104,-13.101543726995388,8.00696417001965,3.649943113685736,-10.022520449459085,6.36046892651338,6.11998827145321,-3.911929543563634,-25.64484691300627,18.813895082802915,22.525349624894982,-12.65936422460114,18.516481361951303,12.527776831889453,8.84670660968308,12.840020409461092,-3.8222210880411316,11.348841034474427,9.209953842468945,6.797142368235585,-10.485315670738018,19.385117299857285,12.847394054851422,-3.0930832566388755,-2.231899305462252,4.482423716025893,-3.452813712857304,1.4219632006037957,-20.40953034656336,9.484653703850558,-25.758754956290694,25.699378557168327,-21.05185472568329,1.0235781364737047,-37.09806613429099,-16.977008173811146,14.347165487919296,8.518275911713573,-16.935415859383895,-20.690400905391655,0.02762975313598253,-0.030769542395280017,22.497703717310888,14.921718886515622,7.83044423094044,1.3928969884034033,7.673046717703462,1.755714083459634,16.69101900711221,21.452211178754055,33.484667761679596,-16.851350849826467,-35.92047529232406,-9.480483455321355,4.714561508937176,33.67149703620954,-3.027676782547335,4.440882128263226,15.010245668540646,-5.865854467837212,-9.515610148271199,-16.690284427012333,-1.4072316782253775,-20.173089402344054,-12.764846384488857,-6.1369247532670705,-8.27044139212205,-3.4659662654479737,-18.11923587722804,0.3536533719574035,10.868222760908589,24.93322608689557,1.8221417149018977,4.151279663579152,3.008821666660567,22.839900623203906,8.253773912979966,22.164764678424092,10.97127334083284,-17.129300820084964,13.443794718756848,3.9280280422848635,-3.565484406473225,4.624255116735517,-4.154145664120508,11.436040379455983,28.232479721982084,-11.709133129240973,9.402620060312119,-2.740256112134153,-20.970823924765483,23.471900746347643,4.069219798974971,6.723936635933565,-15.823801623945277,14.831993867766723,11.530159858972716,27.825522162681636,3.4998577064360012,-18.69723782570323,5.3386644262653835,4.048159836104137,-7.5221796057971115,-16.187095521605446,0.3005179593952903,-27.68655389898986,-12.266506990919972,12.152005137705197,-18.35740391453663,-13.424276693844522,14.703044046690243,5.624736115727627,0.15951889136708383,4.346681897434442,-0.34543031517813605,1.8217333531399384,-2.172072048426732,17.32930634710356,12.331476146147303,-1.9520772995993556,8.408911140784559,-3.5337141659673343,15.027108591100097,11.813404642827956,-5.430580500489116,29.760880933223074,15.635439186268131,3.1182521715180367,3.322200580675083,-29.40676311872389,-14.719591452680525,6.468627649153957,16.074383096071127,18.70313381286565,13.142974943153286,-7.592217753795114,-14.66324069267608,15.717121917458455,0.37682751475032966,16.8556353150646,28.789413291323964,4.69960323925857,-18.98489292625828,16.3970487605835,4.4249860555318445,4.936816121893246,21.361424813205492,-7.922018302483074,5.3286085539197225,-6.449972287239486,-3.797521351195018,7.507698034494441,10.39570319471314,24.6662236654734,-23.083958696662776,6.715206553378067]}},\"id\":\"a6d9c530-5aa1-4fd7-92bb-31dec19208c8\",\"type\":\"ColumnDataSource\"},{\"attributes\":{\"fill_alpha\":{\"value\":0.2},\"fill_color\":{\"value\":\"navy\"},\"line_color\":{\"value\":\"navy\"},\"size\":{\"units\":\"screen\",\"value\":10},\"x\":{\"field\":\"x\"},\"y\":{\"field\":\"y\"}},\"id\":\"0346f84f-3ffa-4145-9571-a7c11e546aab\",\"type\":\"Circle\"},{\"attributes\":{},\"id\":\"80c1cfa7-b60a-4727-90e7-3cd671646470\",\"type\":\"BasicTicker\"},{\"attributes\":{\"plot\":{\"id\":\"a1d37a72-1659-46dc-8981-891fe369d653\",\"subtype\":\"Figure\",\"type\":\"Plot\"}},\"id\":\"edcab2ae-b4e9-4d0b-ae08-2c616db4e61f\",\"type\":\"SaveTool\"},{\"attributes\":{\"overlay\":{\"id\":\"d9f632c2-f730-44ad-9b98-7a1bfe77c47d\",\"type\":\"BoxAnnotation\"},\"plot\":{\"id\":\"a1d37a72-1659-46dc-8981-891fe369d653\",\"subtype\":\"Figure\",\"type\":\"Plot\"}},\"id\":\"fe4567ad-bc9a-46d0-a776-cdb0cc37c9f4\",\"type\":\"BoxZoomTool\"},{\"attributes\":{},\"id\":\"37c29a18-bf2e-4d89-9db8-88c7a6589ac8\",\"type\":\"BasicTickFormatter\"},{\"attributes\":{},\"id\":\"fce083a7-92de-4f9f-9195-7895471ea907\",\"type\":\"BasicTicker\"},{\"attributes\":{\"callback\":null},\"id\":\"85c33106-b4a5-4e0c-b122-262ffad5cf13\",\"type\":\"DataRange1d\"},{\"attributes\":{\"plot\":null,\"text\":\"Word visualization\"},\"id\":\"7bf2e27a-8593-445f-bb41-aed621ce9909\",\"type\":\"Title\"}],\"root_ids\":[\"a1d37a72-1659-46dc-8981-891fe369d653\"]},\"title\":\"Bokeh Application\",\"version\":\"0.12.0\"}};\n",
       "            var render_items = [{\"docid\":\"300c0d19-86e1-4666-b8ec-e1fba405c4c5\",\"elementid\":\"d723fea0-8fdc-41d3-9d85-34bc1e2d211f\",\"modelid\":\"a1d37a72-1659-46dc-8981-891fe369d653\",\"notebook_comms_target\":\"469e3574-a5f1-4499-9dae-1f49a8c7bdd8\"}];\n",
       "            \n",
       "            Bokeh.embed.embed_items(docs_json, render_items);\n",
       "        });\n",
       "      },\n",
       "      function(Bokeh) {\n",
       "      }\n",
       "    ];\n",
       "  \n",
       "    function run_inline_js() {\n",
       "      for (var i = 0; i < inline_js.length; i++) {\n",
       "        inline_js[i](window.Bokeh);\n",
       "      }\n",
       "    }\n",
       "  \n",
       "    if (window._bokeh_is_loading === 0) {\n",
       "      console.log(\"Bokeh: BokehJS loaded, going straight to plotting\");\n",
       "      run_inline_js();\n",
       "    } else {\n",
       "      load_libs(js_urls, function() {\n",
       "        console.log(\"Bokeh: BokehJS plotting callback run at\", now());\n",
       "        run_inline_js();\n",
       "      });\n",
       "    }\n",
       "  }(this));\n",
       "</script>"
      ]
     },
     "metadata": {},
     "output_type": "display_data"
    }
   ],
   "source": [
    "_ = plot_tsne(model, 1000)"
   ]
  },
  {
   "cell_type": "code",
   "execution_count": 35,
   "metadata": {
    "collapsed": false
   },
   "outputs": [
    {
     "data": {
      "text/plain": [
       "[('and', 0.9998661279678345),\n",
       " ('\"', 0.9998612403869629),\n",
       " ('.', 0.9998607635498047),\n",
       " ('of', 0.9998567700386047),\n",
       " ('in', 0.9998563528060913),\n",
       " ('a', 0.9998547434806824),\n",
       " ('!', 0.9998537302017212),\n",
       " ('about', 0.9998530149459839),\n",
       " (',', 0.99985271692276),\n",
       " ('on', 0.9998509287834167)]"
      ]
     },
     "execution_count": 35,
     "metadata": {},
     "output_type": "execute_result"
    }
   ],
   "source": [
    "model.most_similar(\"python\")"
   ]
  },
  {
   "cell_type": "code",
   "execution_count": 36,
   "metadata": {
    "collapsed": false
   },
   "outputs": [],
   "source": [
    "X_train_word2vec = get_embeddings(X_train_tokenized, model, 100)\n",
    "X_test_word2vec = get_embeddings(X_test_tokenized, model, 100)"
   ]
  },
  {
   "cell_type": "markdown",
   "metadata": {},
   "source": [
    "##  5.  Now fight! "
   ]
  },
  {
   "cell_type": "code",
   "execution_count": 37,
   "metadata": {
    "collapsed": false
   },
   "outputs": [],
   "source": [
    "from sklearn import svm\n",
    "from sklearn.metrics import classification_report, roc_curve, auc"
   ]
  },
  {
   "cell_type": "code",
   "execution_count": 38,
   "metadata": {
    "collapsed": false
   },
   "outputs": [
    {
     "name": "stdout",
     "output_type": "stream",
     "text": [
      "             precision    recall  f1-score   support\n",
      "\n",
      "       Bros       0.00      0.00      0.00       411\n",
      "        Sis       0.49      1.00      0.65       389\n",
      "\n",
      "avg / total       0.24      0.48      0.32       800\n",
      "\n"
     ]
    }
   ],
   "source": [
    "clf = svm.SVC()\n",
    "clf.fit(BOW_train, y_train)  \n",
    "predicction_BOW = clf.predict(BOW_test)\n",
    "target_names = ['Bros', 'Sis']\n",
    "print(classification_report(y_test, predicction_BOW,  target_names=target_names))"
   ]
  },
  {
   "cell_type": "code",
   "execution_count": 39,
   "metadata": {
    "collapsed": false
   },
   "outputs": [
    {
     "name": "stdout",
     "output_type": "stream",
     "text": [
      "             precision    recall  f1-score   support\n",
      "\n",
      "       Bros       0.66      0.60      0.62       411\n",
      "        Sis       0.61      0.67      0.64       389\n",
      "\n",
      "avg / total       0.63      0.63      0.63       800\n",
      "\n"
     ]
    }
   ],
   "source": [
    "clf = svm.SVC()\n",
    "clf.fit(X_train_GloVe, y_train)\n",
    "predicction_GloVe = clf.predict(X_test_GloVe)\n",
    "print(classification_report(y_test, predicction_GloVe,  target_names=target_names))"
   ]
  },
  {
   "cell_type": "code",
   "execution_count": 40,
   "metadata": {
    "collapsed": false
   },
   "outputs": [
    {
     "name": "stdout",
     "output_type": "stream",
     "text": [
      "             precision    recall  f1-score   support\n",
      "\n",
      "       Bros       0.00      0.00      0.00       411\n",
      "        Sis       0.49      1.00      0.65       389\n",
      "\n",
      "avg / total       0.24      0.49      0.32       800\n",
      "\n"
     ]
    },
    {
     "name": "stderr",
     "output_type": "stream",
     "text": [
      "/Users/mai/Dev/tools/miniconda3/envs/ep16/lib/python3.5/site-packages/sklearn/metrics/classification.py:1074: UndefinedMetricWarning: Precision and F-score are ill-defined and being set to 0.0 in labels with no predicted samples.\n",
      "  'precision', 'predicted', average, warn_for)\n"
     ]
    }
   ],
   "source": [
    "clf = svm.SVC()\n",
    "clf.fit(X_train_word2vec, y_train)\n",
    "predicction_word2vec = clf.predict(X_test_word2vec)\n",
    "print(classification_report(y_test, predicction_word2vec,  target_names=target_names))"
   ]
  },
  {
   "cell_type": "code",
   "execution_count": 41,
   "metadata": {
    "collapsed": false
   },
   "outputs": [],
   "source": [
    "false_positive_rate_bow, true_positive_rate_bow, _ = roc_curve(y_test, predicction_BOW)\n",
    "roc_auc_bow = auc(false_positive_rate_bow, true_positive_rate_bow)\n",
    "\n",
    "false_positive_rate_glove, true_positive_rate_glove, _ = roc_curve(y_test, predicction_GloVe)\n",
    "roc_auc_glove = auc(false_positive_rate_glove, true_positive_rate_glove)\n",
    "\n",
    "false_positive_rate_w2v, true_positive_rate_w2v, _ = roc_curve(y_test, predicction_word2vec)\n",
    "roc_auc_w2v = auc(false_positive_rate_w2v, true_positive_rate_w2v)"
   ]
  },
  {
   "cell_type": "code",
   "execution_count": 42,
   "metadata": {
    "collapsed": false
   },
   "outputs": [
    {
     "data": {
      "text/html": [
       "\n",
       "\n",
       "    <div class=\"bk-root\">\n",
       "        <div class=\"plotdiv\" id=\"2a220ec5-141d-4c3f-bc2c-4d471817a66c\"></div>\n",
       "    </div>\n",
       "<script type=\"text/javascript\">\n",
       "  \n",
       "  (function(global) {\n",
       "    function now() {\n",
       "      return new Date();\n",
       "    }\n",
       "  \n",
       "    if (typeof (window._bokeh_onload_callbacks) === \"undefined\") {\n",
       "      window._bokeh_onload_callbacks = [];\n",
       "    }\n",
       "  \n",
       "    function run_callbacks() {\n",
       "      window._bokeh_onload_callbacks.forEach(function(callback) { callback() });\n",
       "      delete window._bokeh_onload_callbacks\n",
       "      console.info(\"Bokeh: all callbacks have finished\");\n",
       "    }\n",
       "  \n",
       "    function load_libs(js_urls, callback) {\n",
       "      window._bokeh_onload_callbacks.push(callback);\n",
       "      if (window._bokeh_is_loading > 0) {\n",
       "        console.log(\"Bokeh: BokehJS is being loaded, scheduling callback at\", now());\n",
       "        return null;\n",
       "      }\n",
       "      if (js_urls == null || js_urls.length === 0) {\n",
       "        run_callbacks();\n",
       "        return null;\n",
       "      }\n",
       "      console.log(\"Bokeh: BokehJS not loaded, scheduling load and callback at\", now());\n",
       "      window._bokeh_is_loading = js_urls.length;\n",
       "      for (var i = 0; i < js_urls.length; i++) {\n",
       "        var url = js_urls[i];\n",
       "        var s = document.createElement('script');\n",
       "        s.src = url;\n",
       "        s.async = false;\n",
       "        s.onreadystatechange = s.onload = function() {\n",
       "          window._bokeh_is_loading--;\n",
       "          if (window._bokeh_is_loading === 0) {\n",
       "            console.log(\"Bokeh: all BokehJS libraries loaded\");\n",
       "            run_callbacks()\n",
       "          }\n",
       "        };\n",
       "        s.onerror = function() {\n",
       "          console.warn(\"failed to load library \" + url);\n",
       "        };\n",
       "        console.log(\"Bokeh: injecting script tag for BokehJS library: \", url);\n",
       "        document.getElementsByTagName(\"head\")[0].appendChild(s);\n",
       "      }\n",
       "    };var element = document.getElementById(\"2a220ec5-141d-4c3f-bc2c-4d471817a66c\");\n",
       "    if (element == null) {\n",
       "      console.log(\"Bokeh: ERROR: autoload.js configured with elementid '2a220ec5-141d-4c3f-bc2c-4d471817a66c' but no matching script tag was found. \")\n",
       "      return false;\n",
       "    }\n",
       "  \n",
       "    var js_urls = [];\n",
       "  \n",
       "    var inline_js = [\n",
       "      function(Bokeh) {\n",
       "        Bokeh.$(function() {\n",
       "            var docs_json = {\"421de1d8-3edf-4edd-8d61-cd5b7563e274\":{\"roots\":{\"references\":[{\"attributes\":{\"bottom_units\":\"screen\",\"fill_alpha\":{\"value\":0.5},\"fill_color\":{\"value\":\"lightgrey\"},\"left_units\":\"screen\",\"level\":\"overlay\",\"line_alpha\":{\"value\":1.0},\"line_color\":{\"value\":\"black\"},\"line_dash\":[4,4],\"line_width\":{\"value\":2},\"plot\":null,\"render_mode\":\"css\",\"right_units\":\"screen\",\"top_units\":\"screen\"},\"id\":\"90bf8a3f-389f-491c-bb06-b515872010d9\",\"type\":\"BoxAnnotation\"},{\"attributes\":{\"line_color\":{\"value\":\"gray\"},\"line_dash\":[4,4],\"line_width\":{\"value\":2},\"x\":{\"field\":\"x\"},\"y\":{\"field\":\"y\"}},\"id\":\"74d10d1a-1541-429d-bc3b-3d838346b178\",\"type\":\"Line\"},{\"attributes\":{\"line_alpha\":{\"value\":0.1},\"line_color\":{\"value\":\"#1f77b4\"},\"line_width\":{\"value\":2},\"x\":{\"field\":\"x\"},\"y\":{\"field\":\"y\"}},\"id\":\"511c1d65-20f9-4d9f-9d77-b8e99c723bad\",\"type\":\"Line\"},{\"attributes\":{\"plot\":{\"id\":\"3102bcd9-707b-45a6-b743-e50275b809df\",\"subtype\":\"Figure\",\"type\":\"Plot\"},\"ticker\":{\"id\":\"c78d42f0-f284-4b16-83e0-859711d94ecd\",\"type\":\"BasicTicker\"}},\"id\":\"77a85a19-ce20-401c-9f4f-20234ba808f2\",\"type\":\"Grid\"},{\"attributes\":{\"below\":[{\"id\":\"c0e8ba97-6949-4a4c-91f8-cf98f3145f4c\",\"type\":\"LinearAxis\"}],\"left\":[{\"id\":\"076ffd77-1412-411d-9af7-15df12d35ee6\",\"type\":\"LinearAxis\"}],\"renderers\":[{\"id\":\"c0e8ba97-6949-4a4c-91f8-cf98f3145f4c\",\"type\":\"LinearAxis\"},{\"id\":\"77a85a19-ce20-401c-9f4f-20234ba808f2\",\"type\":\"Grid\"},{\"id\":\"076ffd77-1412-411d-9af7-15df12d35ee6\",\"type\":\"LinearAxis\"},{\"id\":\"192ebf82-d0c6-434c-aa2f-40ccfce3d4b8\",\"type\":\"Grid\"},{\"id\":\"90bf8a3f-389f-491c-bb06-b515872010d9\",\"type\":\"BoxAnnotation\"},{\"id\":\"99c1b638-1388-4bc6-b091-606eb3b3eb9c\",\"type\":\"Legend\"},{\"id\":\"ba4efeb9-baa8-4abc-977a-a8b26a874531\",\"type\":\"GlyphRenderer\"},{\"id\":\"42b07537-acb9-4911-a0c3-df31469d8846\",\"type\":\"GlyphRenderer\"},{\"id\":\"5f6cd7f4-b7b8-47f0-b56b-63c92e4e2d78\",\"type\":\"GlyphRenderer\"},{\"id\":\"5f157a7e-eb37-4741-bebb-98949968da2d\",\"type\":\"GlyphRenderer\"}],\"title\":{\"id\":\"212f47f1-4def-47c4-a7f0-bebe558925ce\",\"type\":\"Title\"},\"tool_events\":{\"id\":\"86c66f16-adc4-4b5b-859d-d9146ae0a9ce\",\"type\":\"ToolEvents\"},\"toolbar\":{\"id\":\"0e7b240c-8f3e-4669-86b2-a7f952c7daa0\",\"type\":\"Toolbar\"},\"x_range\":{\"id\":\"db3f468d-341c-40fd-b124-4adad6bfcfcf\",\"type\":\"DataRange1d\"},\"y_range\":{\"id\":\"6e5645c3-f5c5-417d-bde4-a5db365db675\",\"type\":\"DataRange1d\"}},\"id\":\"3102bcd9-707b-45a6-b743-e50275b809df\",\"subtype\":\"Figure\",\"type\":\"Plot\"},{\"attributes\":{\"callback\":null,\"column_names\":[\"y\",\"x\"],\"data\":{\"x\":[0.0,1.0],\"y\":[0.0,1.05]}},\"id\":\"5aa47589-18b3-4a65-a76e-e40f0df89258\",\"type\":\"ColumnDataSource\"},{\"attributes\":{},\"id\":\"c78d42f0-f284-4b16-83e0-859711d94ecd\",\"type\":\"BasicTicker\"},{\"attributes\":{\"data_source\":{\"id\":\"21734680-32c1-407a-b5c4-7f9b01b8b08b\",\"type\":\"ColumnDataSource\"},\"glyph\":{\"id\":\"4ebfb5dd-3d08-4b8c-b983-e66840c2a7b1\",\"type\":\"Line\"},\"hover_glyph\":null,\"nonselection_glyph\":{\"id\":\"511c1d65-20f9-4d9f-9d77-b8e99c723bad\",\"type\":\"Line\"},\"selection_glyph\":null},\"id\":\"42b07537-acb9-4911-a0c3-df31469d8846\",\"type\":\"GlyphRenderer\"},{\"attributes\":{},\"id\":\"c06ae116-7e93-401e-880c-8773fb4cb845\",\"type\":\"BasicTickFormatter\"},{\"attributes\":{\"callback\":null},\"id\":\"6e5645c3-f5c5-417d-bde4-a5db365db675\",\"type\":\"DataRange1d\"},{\"attributes\":{\"plot\":{\"id\":\"3102bcd9-707b-45a6-b743-e50275b809df\",\"subtype\":\"Figure\",\"type\":\"Plot\"}},\"id\":\"60dc4b42-5580-4733-ab72-d4183a4c75b2\",\"type\":\"ResetTool\"},{\"attributes\":{\"plot\":null,\"text\":\"Receiver Operating Characteristic\"},\"id\":\"212f47f1-4def-47c4-a7f0-bebe558925ce\",\"type\":\"Title\"},{\"attributes\":{\"data_source\":{\"id\":\"eefa9e61-f07d-4482-ac68-c17228530a97\",\"type\":\"ColumnDataSource\"},\"glyph\":{\"id\":\"8de29259-5cad-48d3-a9aa-39bc4bf200e6\",\"type\":\"Line\"},\"hover_glyph\":null,\"nonselection_glyph\":{\"id\":\"6c190d06-6ebe-4178-892e-37a3219e4a3d\",\"type\":\"Line\"},\"selection_glyph\":null},\"id\":\"ba4efeb9-baa8-4abc-977a-a8b26a874531\",\"type\":\"GlyphRenderer\"},{\"attributes\":{\"active_drag\":\"auto\",\"active_scroll\":\"auto\",\"active_tap\":\"auto\",\"tools\":[{\"id\":\"9577d552-5340-45db-8976-2f79a15a9268\",\"type\":\"PanTool\"},{\"id\":\"37bf021e-ec1b-4686-ba40-fef55d457cbb\",\"type\":\"WheelZoomTool\"},{\"id\":\"ff8a2ebb-29f1-4a24-aedb-56eca2144ebd\",\"type\":\"BoxZoomTool\"},{\"id\":\"60dc4b42-5580-4733-ab72-d4183a4c75b2\",\"type\":\"ResetTool\"},{\"id\":\"db5aac75-820b-48c4-8449-e06cf3e6f6b3\",\"type\":\"SaveTool\"}]},\"id\":\"0e7b240c-8f3e-4669-86b2-a7f952c7daa0\",\"type\":\"Toolbar\"},{\"attributes\":{\"data_source\":{\"id\":\"bea83634-6f0d-4756-826a-39e76cae15e1\",\"type\":\"ColumnDataSource\"},\"glyph\":{\"id\":\"d98e3cd0-e2ff-4197-a248-539e21e3361e\",\"type\":\"Line\"},\"hover_glyph\":null,\"nonselection_glyph\":{\"id\":\"90b66969-b0ba-4865-bc9e-35aa38d67fdb\",\"type\":\"Line\"},\"selection_glyph\":null},\"id\":\"5f6cd7f4-b7b8-47f0-b56b-63c92e4e2d78\",\"type\":\"GlyphRenderer\"},{\"attributes\":{\"line_color\":{\"value\":\"green\"},\"line_width\":{\"value\":2},\"x\":{\"field\":\"x\"},\"y\":{\"field\":\"y\"}},\"id\":\"8de29259-5cad-48d3-a9aa-39bc4bf200e6\",\"type\":\"Line\"},{\"attributes\":{\"data_source\":{\"id\":\"5aa47589-18b3-4a65-a76e-e40f0df89258\",\"type\":\"ColumnDataSource\"},\"glyph\":{\"id\":\"74d10d1a-1541-429d-bc3b-3d838346b178\",\"type\":\"Line\"},\"hover_glyph\":null,\"nonselection_glyph\":{\"id\":\"9c83677d-4b7f-49c3-8e76-d569c026abef\",\"type\":\"Line\"},\"selection_glyph\":null},\"id\":\"5f157a7e-eb37-4741-bebb-98949968da2d\",\"type\":\"GlyphRenderer\"},{\"attributes\":{\"plot\":{\"id\":\"3102bcd9-707b-45a6-b743-e50275b809df\",\"subtype\":\"Figure\",\"type\":\"Plot\"}},\"id\":\"9577d552-5340-45db-8976-2f79a15a9268\",\"type\":\"PanTool\"},{\"attributes\":{\"line_color\":{\"value\":\"yellow\"},\"line_width\":{\"value\":2},\"x\":{\"field\":\"x\"},\"y\":{\"field\":\"y\"}},\"id\":\"d98e3cd0-e2ff-4197-a248-539e21e3361e\",\"type\":\"Line\"},{\"attributes\":{\"line_color\":{\"value\":\"blue\"},\"line_width\":{\"value\":2},\"x\":{\"field\":\"x\"},\"y\":{\"field\":\"y\"}},\"id\":\"4ebfb5dd-3d08-4b8c-b983-e66840c2a7b1\",\"type\":\"Line\"},{\"attributes\":{\"callback\":null,\"column_names\":[\"y\",\"x\"],\"data\":{\"x\":[0.0,1.0],\"y\":[0.0,1.0]}},\"id\":\"bea83634-6f0d-4756-826a-39e76cae15e1\",\"type\":\"ColumnDataSource\"},{\"attributes\":{},\"id\":\"fa3dcc41-a4e6-4b19-b5b9-a63bfdc0ff80\",\"type\":\"BasicTickFormatter\"},{\"attributes\":{},\"id\":\"7c9bb907-6d58-46ba-850c-136207fb2037\",\"type\":\"BasicTicker\"},{\"attributes\":{\"axis_label\":\"False Positive Rate\",\"formatter\":{\"id\":\"c06ae116-7e93-401e-880c-8773fb4cb845\",\"type\":\"BasicTickFormatter\"},\"plot\":{\"id\":\"3102bcd9-707b-45a6-b743-e50275b809df\",\"subtype\":\"Figure\",\"type\":\"Plot\"},\"ticker\":{\"id\":\"c78d42f0-f284-4b16-83e0-859711d94ecd\",\"type\":\"BasicTicker\"}},\"id\":\"c0e8ba97-6949-4a4c-91f8-cf98f3145f4c\",\"type\":\"LinearAxis\"},{\"attributes\":{\"plot\":{\"id\":\"3102bcd9-707b-45a6-b743-e50275b809df\",\"subtype\":\"Figure\",\"type\":\"Plot\"}},\"id\":\"db5aac75-820b-48c4-8449-e06cf3e6f6b3\",\"type\":\"SaveTool\"},{\"attributes\":{\"axis_label\":\"True Positive Rate\",\"formatter\":{\"id\":\"fa3dcc41-a4e6-4b19-b5b9-a63bfdc0ff80\",\"type\":\"BasicTickFormatter\"},\"plot\":{\"id\":\"3102bcd9-707b-45a6-b743-e50275b809df\",\"subtype\":\"Figure\",\"type\":\"Plot\"},\"ticker\":{\"id\":\"7c9bb907-6d58-46ba-850c-136207fb2037\",\"type\":\"BasicTicker\"}},\"id\":\"076ffd77-1412-411d-9af7-15df12d35ee6\",\"type\":\"LinearAxis\"},{\"attributes\":{\"dimension\":1,\"plot\":{\"id\":\"3102bcd9-707b-45a6-b743-e50275b809df\",\"subtype\":\"Figure\",\"type\":\"Plot\"},\"ticker\":{\"id\":\"7c9bb907-6d58-46ba-850c-136207fb2037\",\"type\":\"BasicTicker\"}},\"id\":\"192ebf82-d0c6-434c-aa2f-40ccfce3d4b8\",\"type\":\"Grid\"},{\"attributes\":{\"line_alpha\":{\"value\":0.1},\"line_color\":{\"value\":\"#1f77b4\"},\"line_width\":{\"value\":2},\"x\":{\"field\":\"x\"},\"y\":{\"field\":\"y\"}},\"id\":\"6c190d06-6ebe-4178-892e-37a3219e4a3d\",\"type\":\"Line\"},{\"attributes\":{},\"id\":\"86c66f16-adc4-4b5b-859d-d9146ae0a9ce\",\"type\":\"ToolEvents\"},{\"attributes\":{\"overlay\":{\"id\":\"90bf8a3f-389f-491c-bb06-b515872010d9\",\"type\":\"BoxAnnotation\"},\"plot\":{\"id\":\"3102bcd9-707b-45a6-b743-e50275b809df\",\"subtype\":\"Figure\",\"type\":\"Plot\"}},\"id\":\"ff8a2ebb-29f1-4a24-aedb-56eca2144ebd\",\"type\":\"BoxZoomTool\"},{\"attributes\":{\"line_alpha\":{\"value\":0.1},\"line_color\":{\"value\":\"#1f77b4\"},\"line_width\":{\"value\":2},\"x\":{\"field\":\"x\"},\"y\":{\"field\":\"y\"}},\"id\":\"90b66969-b0ba-4865-bc9e-35aa38d67fdb\",\"type\":\"Line\"},{\"attributes\":{\"callback\":null,\"column_names\":[\"y\",\"x\"],\"data\":{\"x\":[0.0,1.0,1.0],\"y\":[0.0,0.9974293059125964,1.0]}},\"id\":\"eefa9e61-f07d-4482-ac68-c17228530a97\",\"type\":\"ColumnDataSource\"},{\"attributes\":{\"callback\":null,\"column_names\":[\"y\",\"x\"],\"data\":{\"x\":[0.0,0.40389294403892945,1.0],\"y\":[0.0,0.6709511568123393,1.0]}},\"id\":\"21734680-32c1-407a-b5c4-7f9b01b8b08b\",\"type\":\"ColumnDataSource\"},{\"attributes\":{\"plot\":{\"id\":\"3102bcd9-707b-45a6-b743-e50275b809df\",\"subtype\":\"Figure\",\"type\":\"Plot\"}},\"id\":\"37bf021e-ec1b-4686-ba40-fef55d457cbb\",\"type\":\"WheelZoomTool\"},{\"attributes\":{\"legends\":[[\"BoW ROC curve (area = 0.50)\",[{\"id\":\"ba4efeb9-baa8-4abc-977a-a8b26a874531\",\"type\":\"GlyphRenderer\"}]],[\"GloVE ROC curve (area = 0.63)\",[{\"id\":\"42b07537-acb9-4911-a0c3-df31469d8846\",\"type\":\"GlyphRenderer\"}]],[\"W2V ROC curve (area = 0.50)\",[{\"id\":\"5f6cd7f4-b7b8-47f0-b56b-63c92e4e2d78\",\"type\":\"GlyphRenderer\"}]],[\"Guessing\",[{\"id\":\"5f157a7e-eb37-4741-bebb-98949968da2d\",\"type\":\"GlyphRenderer\"}]]],\"location\":\"bottom_right\",\"plot\":{\"id\":\"3102bcd9-707b-45a6-b743-e50275b809df\",\"subtype\":\"Figure\",\"type\":\"Plot\"}},\"id\":\"99c1b638-1388-4bc6-b091-606eb3b3eb9c\",\"type\":\"Legend\"},{\"attributes\":{\"line_alpha\":{\"value\":0.1},\"line_color\":{\"value\":\"#1f77b4\"},\"line_dash\":[4,4],\"line_width\":{\"value\":2},\"x\":{\"field\":\"x\"},\"y\":{\"field\":\"y\"}},\"id\":\"9c83677d-4b7f-49c3-8e76-d569c026abef\",\"type\":\"Line\"},{\"attributes\":{\"callback\":null},\"id\":\"db3f468d-341c-40fd-b124-4adad6bfcfcf\",\"type\":\"DataRange1d\"}],\"root_ids\":[\"3102bcd9-707b-45a6-b743-e50275b809df\"]},\"title\":\"Bokeh Application\",\"version\":\"0.12.0\"}};\n",
       "            var render_items = [{\"docid\":\"421de1d8-3edf-4edd-8d61-cd5b7563e274\",\"elementid\":\"2a220ec5-141d-4c3f-bc2c-4d471817a66c\",\"modelid\":\"3102bcd9-707b-45a6-b743-e50275b809df\",\"notebook_comms_target\":\"a982b4fb-9f08-4e32-9be8-67271c175976\"}];\n",
       "            \n",
       "            Bokeh.embed.embed_items(docs_json, render_items);\n",
       "        });\n",
       "      },\n",
       "      function(Bokeh) {\n",
       "      }\n",
       "    ];\n",
       "  \n",
       "    function run_inline_js() {\n",
       "      for (var i = 0; i < inline_js.length; i++) {\n",
       "        inline_js[i](window.Bokeh);\n",
       "      }\n",
       "    }\n",
       "  \n",
       "    if (window._bokeh_is_loading === 0) {\n",
       "      console.log(\"Bokeh: BokehJS loaded, going straight to plotting\");\n",
       "      run_inline_js();\n",
       "    } else {\n",
       "      load_libs(js_urls, function() {\n",
       "        console.log(\"Bokeh: BokehJS plotting callback run at\", now());\n",
       "        run_inline_js();\n",
       "      });\n",
       "    }\n",
       "  }(this));\n",
       "</script>"
      ]
     },
     "metadata": {},
     "output_type": "display_data"
    },
    {
     "data": {
      "text/html": [
       "<p><code>&lt;Bokeh Notebook handle for <strong>In[42]</strong>&gt;</code></p>"
      ],
      "text/plain": [
       "<bokeh.io._CommsHandle at 0x119ce48d0>"
      ]
     },
     "execution_count": 42,
     "metadata": {},
     "output_type": "execute_result"
    }
   ],
   "source": [
    "from bokeh.palettes import Spectral6\n",
    "\n",
    "p = figure(title=\"Receiver Operating Characteristic\", tools=TOOLS)\n",
    "\n",
    "\n",
    "p.line(false_positive_rate_bow, true_positive_rate_bow, legend='BoW ROC curve (area = {:.2f})'.format(roc_auc_bow), \n",
    "       line_color=\"green\", line_width=2)\n",
    "p.line(false_positive_rate_glove, true_positive_rate_glove, \n",
    "       legend='GloVE ROC curve (area = {:.2f})'.format(roc_auc_glove), \n",
    "       line_color=\"blue\", line_width=2)\n",
    "p.line(false_positive_rate_w2v, true_positive_rate_w2v, \n",
    "       legend='W2V ROC curve (area = {:.2f})'.format(roc_auc_w2v), \n",
    "       line_color=\"yellow\", line_width=2)\n",
    "\n",
    "\n",
    "p.line([0.0, 1.0], [0.0, 1.05], legend='Guessing', \n",
    "       line_color=\"gray\", line_width=2, line_dash=(4, 4))\n",
    "\n",
    "p.xaxis.axis_label = 'False Positive Rate'\n",
    "p.yaxis.axis_label = 'True Positive Rate'\n",
    "\n",
    "p.legend.location = 'bottom_right'\n",
    "show(p)  "
   ]
  },
  {
   "cell_type": "markdown",
   "metadata": {
    "collapsed": true
   },
   "source": [
    "# 6. Discussion\n",
    "\n",
    "- Science is NOT broken *some* scientist are.\n",
    "- Understand your algorithms.\n",
    "- If you have guessed that maybe the mean is not the best option for representing sentences you may want to use a Neural Network toolkit try [Layers](https://github.com/RParedesPalacios/Layers).\n",
    "![CNN!](imgs/CNN_357.jpg \"CNN\")\n",
    "\n",
    "- And finally ...\n",
    "![Bitches!](imgs/amy.gif \"Bitches get stuff done\")\n"
   ]
  },
  {
   "cell_type": "markdown",
   "metadata": {
    "collapsed": true
   },
   "source": [
    "# Thank you!\n",
    "Nos vemos en la PyCon ES 2016\n",
    "![Bitches!](imgs/pycones.jpg \"Bitches get stuff done\")"
   ]
  }
 ],
 "metadata": {
  "kernelspec": {
   "display_name": "Python 3",
   "language": "python",
   "name": "python3"
  },
  "language_info": {
   "codemirror_mode": {
    "name": "ipython",
    "version": 3
   },
   "file_extension": ".py",
   "mimetype": "text/x-python",
   "name": "python",
   "nbconvert_exporter": "python",
   "pygments_lexer": "ipython3",
   "version": "3.5.2"
  }
 },
 "nbformat": 4,
 "nbformat_minor": 0
}
