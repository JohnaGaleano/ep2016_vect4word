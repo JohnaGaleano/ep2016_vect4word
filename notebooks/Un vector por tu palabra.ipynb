{
 "cells": [
  {
   "cell_type": "markdown",
   "metadata": {},
   "source": [
    "# ¡Hola!\n",
    "____________________\n",
    "- **Name:** Maite Giménez.\n",
    "- **Who?:** Ph.D. student at Universitat Politècnica de València.\n",
    "- **Twitter:** @maidotgimenez\n",
    "- **Github:** maigimenez\n",
    "\n",
    "\n",
    "\n",
    "![PyladiesES!](imgs/pyladiesES.png \"PyLadies Spain\")\n",
    "\n",
    "## Where are the slides?\n",
    "It's a notebook and it's available here: [Github/maigimenez/ep2016_vect4word](https://github.com/maigimenez/ep2016_vect4word)"
   ]
  },
  {
   "cell_type": "markdown",
   "metadata": {},
   "source": [
    "# Roadmap\n",
    "\n",
    "1. Point 1\n",
    "2. Point 2\n",
    "3. Point 3"
   ]
  },
  {
   "cell_type": "markdown",
   "metadata": {},
   "source": [
    "# 0. Make a plan!\n",
    "\n",
    "![Science!](imgs/neil.gif \"Loving science!\")"
   ]
  },
  {
   "cell_type": "markdown",
   "metadata": {},
   "source": [
    "## 0.1 Gather your data"
   ]
  },
  {
   "cell_type": "code",
   "execution_count": null,
   "metadata": {
    "collapsed": true
   },
   "outputs": [],
   "source": [
    "from configparser import ConfigParser\n",
    "from os.path import join\n",
    "from os import pardir"
   ]
  },
  {
   "cell_type": "code",
   "execution_count": null,
   "metadata": {
    "collapsed": false
   },
   "outputs": [],
   "source": [
    "config = ConfigParser()\n",
    "config.read(join(pardir,'src','credentials.ini'))\n",
    "\n",
    "APP_KEY = config['twitter']['app_key']\n",
    "APP_SECRET = config['twitter']['app_secret']\n",
    "OAUTH_TOKEN =  config['twitter']['oauth_token']\n",
    "OAUTH_TOKEN_SECRET =  config['twitter']['oauth_token_secret']"
   ]
  },
  {
   "cell_type": "code",
   "execution_count": null,
   "metadata": {
    "collapsed": false
   },
   "outputs": [],
   "source": [
    "from twitter import oauth, Twitter, TwitterHTTPError"
   ]
  },
  {
   "cell_type": "code",
   "execution_count": null,
   "metadata": {
    "collapsed": false
   },
   "outputs": [],
   "source": [
    "auth = oauth.OAuth(OAUTH_TOKEN, OAUTH_TOKEN_SECRET,\n",
    "                   APP_KEY, APP_SECRET)\n",
    "\n",
    "twitter_api = Twitter(auth=auth)\n",
    "twitter_api.retry = True"
   ]
  },
  {
   "cell_type": "markdown",
   "metadata": {},
   "source": [
    "*Full disclaimer: gender is non a binary issue. This is just a simplified example. If you are willing to expand this experiment, go ahead and contact me!*"
   ]
  },
  {
   "cell_type": "code",
   "execution_count": null,
   "metadata": {
    "collapsed": false
   },
   "outputs": [],
   "source": [
    "brogrammers = ['jakevdp', 'rasbt', 'GaelVaroquaux', 'amuellerml', 'fperez_org', \n",
    "               'fpedregosa', 'ogrisel', 'dontusethiscode', 'randal_olson', 'tdhopper' ] \n",
    "sisgrammers = ['pkafei', 'LorenaABarba', 'jessicamckellar', 'heddle317', 'diana_clarke',\n",
    "               'wholemilk', 'spang', 'cecilycarver', 'juliaelman', 'b0rk']\n",
    "\n",
    "brotweets = []\n",
    "for bro in brogrammers: \n",
    "    brotweets.extend(twitter_api.statuses.user_timeline(screen_name=bro, count=100))\n",
    "\n",
    "sistweets = []\n",
    "for sis in sisgrammers: \n",
    "    sistweets.extend(twitter_api.statuses.user_timeline(screen_name=sis, count=100))"
   ]
  },
  {
   "cell_type": "markdown",
   "metadata": {},
   "source": [
    "## 0.1 Clean your data"
   ]
  },
  {
   "cell_type": "code",
   "execution_count": null,
   "metadata": {
    "collapsed": false
   },
   "outputs": [],
   "source": [
    "import re\n",
    "\n",
    "def clean_tweet(tweet):\n",
    "    \"\"\" Simplest preprocess.\n",
    "\n",
    "    Convert a tweet to lowercarse and replace URLs and @username by a generic token\n",
    "\n",
    "    Args:\n",
    "        tweet (str): Tweet to clean.\n",
    "\n",
    "    Returns:\n",
    "        str: Preprocessed tweet\n",
    "    \"\"\"\n",
    "    \n",
    "    tweet = tweet.lower()\n",
    "    \n",
    "    # Remove URL and replace them with a token\n",
    "    URL_REGEX = r'http[s]?://(?:[a-zA-Z]|[0-9]|[$-_@.&+]|[!*\\(\\),]|(?:%[0-9a-fA-F][0-9a-fA-F]))+'\n",
    "    tweet = re.sub(URL_REGEX, '<url>', tweet, flags=re.MULTILINE)\n",
    "    \n",
    "    # Remove usernames and replace them with a token\n",
    "    tweet = re.sub(\"@([A-Za-z0-9_]+)\", \"<user>\", tweet)\n",
    "\n",
    "    # Remove repeated spaces\n",
    "    tweet = re.sub(r\"\\s{2,}\", \" \", tweet)\n",
    "\n",
    "    # If a character is repeated more than 4 time, keep only 3 repetitions.\n",
    "    tweet = re.sub(r'(.)\\1{4,}', r'\\1\\1\\1', tweet)\n",
    "    \n",
    "    return tweet"
   ]
  },
  {
   "cell_type": "code",
   "execution_count": null,
   "metadata": {
    "collapsed": false
   },
   "outputs": [],
   "source": [
    "import pandas as pd\n",
    "\n",
    "dataset = []\n",
    "# Gather the text \n",
    "for tweet in brotweets:\n",
    "    cleaned_tweet = clean_tweet(tweet['text'])\n",
    "    dataset.append({'id': tweet['id'], 'text': cleaned_tweet, 'class': 0})\n",
    "for tweet in sistweets:\n",
    "    cleaned_tweet = clean_tweet(tweet['text'])\n",
    "    dataset.append({'id': tweet['id'], 'text': cleaned_tweet, 'class': 1})\n",
    "\n",
    "pd_dataset = pd.DataFrame(dataset)"
   ]
  },
  {
   "cell_type": "code",
   "execution_count": null,
   "metadata": {
    "collapsed": false
   },
   "outputs": [],
   "source": [
    "pd_dataset.head()"
   ]
  },
  {
   "cell_type": "markdown",
   "metadata": {},
   "source": [
    "## 0.2. Share your data"
   ]
  },
  {
   "cell_type": "code",
   "execution_count": null,
   "metadata": {
    "collapsed": false
   },
   "outputs": [],
   "source": [
    "pd_dataset.to_csv('../corpora/full_dataset.csv')"
   ]
  },
  {
   "cell_type": "code",
   "execution_count": null,
   "metadata": {
    "collapsed": false
   },
   "outputs": [],
   "source": [
    "pd_dataset[['class', 'id']].to_csv('../corpora/ep16.csv')"
   ]
  },
  {
   "cell_type": "markdown",
   "metadata": {},
   "source": [
    "![Toast!](imgs/toast.gif \"Let's celebrate!\")"
   ]
  },
  {
   "cell_type": "markdown",
   "metadata": {},
   "source": [
    "## 0.3. Study your data"
   ]
  },
  {
   "cell_type": "code",
   "execution_count": 18,
   "metadata": {
    "collapsed": false
   },
   "outputs": [
    {
     "data": {
      "text/html": [
       "<div>\n",
       "<table border=\"1\" class=\"dataframe\">\n",
       "  <thead>\n",
       "    <tr style=\"text-align: right;\">\n",
       "      <th></th>\n",
       "      <th>class</th>\n",
       "      <th>id</th>\n",
       "      <th>text</th>\n",
       "    </tr>\n",
       "  </thead>\n",
       "  <tbody>\n",
       "    <tr>\n",
       "      <th>0</th>\n",
       "      <td>0</td>\n",
       "      <td>752137929871462400</td>\n",
       "      <td>&lt;user&gt; great seeing you today!</td>\n",
       "    </tr>\n",
       "    <tr>\n",
       "      <th>1</th>\n",
       "      <td>0</td>\n",
       "      <td>751510274432131072</td>\n",
       "      <td>\"i just wanted to check that you got my previo...</td>\n",
       "    </tr>\n",
       "    <tr>\n",
       "      <th>2</th>\n",
       "      <td>0</td>\n",
       "      <td>751374701344219136</td>\n",
       "      <td>rt &lt;user&gt;: &lt;user&gt; support for minor bugs may e...</td>\n",
       "    </tr>\n",
       "    <tr>\n",
       "      <th>3</th>\n",
       "      <td>0</td>\n",
       "      <td>751373414435328001</td>\n",
       "      <td>could be controversial, but frankly i think it...</td>\n",
       "    </tr>\n",
       "    <tr>\n",
       "      <th>4</th>\n",
       "      <td>0</td>\n",
       "      <td>751373066987573248</td>\n",
       "      <td>til that &lt;user&gt; plans to drop python 2 support...</td>\n",
       "    </tr>\n",
       "  </tbody>\n",
       "</table>\n",
       "</div>"
      ],
      "text/plain": [
       "   class                  id  \\\n",
       "0      0  752137929871462400   \n",
       "1      0  751510274432131072   \n",
       "2      0  751374701344219136   \n",
       "3      0  751373414435328001   \n",
       "4      0  751373066987573248   \n",
       "\n",
       "                                                text  \n",
       "0                     <user> great seeing you today!  \n",
       "1  \"i just wanted to check that you got my previo...  \n",
       "2  rt <user>: <user> support for minor bugs may e...  \n",
       "3  could be controversial, but frankly i think it...  \n",
       "4  til that <user> plans to drop python 2 support...  "
      ]
     },
     "execution_count": 18,
     "metadata": {},
     "output_type": "execute_result"
    }
   ],
   "source": [
    "import pandas as pd\n",
    "\n",
    "DATASET_PATH = \"../corpora/full_dataset.csv\"\n",
    "pd_dataset = pd.DataFrame.from_csv(DATASET_PATH)\n",
    "pd_dataset.head()"
   ]
  },
  {
   "cell_type": "code",
   "execution_count": 19,
   "metadata": {
    "collapsed": false
   },
   "outputs": [],
   "source": [
    "import nltk.data\n",
    "#nltk.download()   "
   ]
  },
  {
   "cell_type": "code",
   "execution_count": 20,
   "metadata": {
    "collapsed": false
   },
   "outputs": [],
   "source": [
    "from nltk.tokenize import TweetTokenizer, word_tokenize\n",
    "from nltk.corpus import stopwords\n",
    "from collections import Counter\n",
    "import re\n",
    "import scipy.stats as stats"
   ]
  },
  {
   "cell_type": "code",
   "execution_count": 21,
   "metadata": {
    "collapsed": false
   },
   "outputs": [
    {
     "name": "stdout",
     "output_type": "stream",
     "text": [
      "i, me, my, myself, we, our, ours, ourselves, you, your, yours, yourself, yourselves, he, him, his, himself, she, her, hers\n"
     ]
    }
   ],
   "source": [
    "print(', '.join(stopwords.words('english')[:20]))"
   ]
  },
  {
   "cell_type": "code",
   "execution_count": 22,
   "metadata": {
    "collapsed": true
   },
   "outputs": [],
   "source": [
    "def get_vocabulary(corpus, tokenizer):\n",
    "    stop_words = stopwords.words('english')\n",
    "\n",
    "    # Remove puntuation marks\n",
    "    no_punks = [re.sub(r'\\W', ' ', tweet) for tweet in corpus]\n",
    "    \n",
    "    # Tokenize and remove stop words\n",
    "    clean_tokens = []\n",
    "    for tweet in no_punks:\n",
    "        # Replace different numbers with a token\n",
    "        tweet = re.sub(r\"\\.\\d+\\s*\", \".<number> \", tweet)\n",
    "        tweet = re.sub(r\"\\d+\\s*\", \" <number> \", tweet)\n",
    "    \n",
    "        tokens = tokenizer(tweet)\n",
    "        tokens = [token for token in tokens if token not in stop_words]\n",
    "        clean_tokens.extend(tokens)\n",
    "\n",
    "    # Build the vocabulary\n",
    "    return Counter(clean_tokens)"
   ]
  },
  {
   "cell_type": "code",
   "execution_count": 23,
   "metadata": {
    "collapsed": false
   },
   "outputs": [],
   "source": [
    "tknzr = TweetTokenizer()\n",
    "\n",
    "brotweets = pd_dataset[pd_dataset['class'] == 0]['text'].tolist()\n",
    "sistweets = pd_dataset[pd_dataset['class'] == 1]['text'].tolist()\n",
    "\n",
    "brocabulary = get_vocabulary(brotweets, tknzr.tokenize)\n",
    "siscabulary = get_vocabulary(sistweets, tknzr.tokenize)"
   ]
  },
  {
   "cell_type": "code",
   "execution_count": 24,
   "metadata": {
    "collapsed": false
   },
   "outputs": [
    {
     "data": {
      "text/plain": [
       "[('user', 1313),\n",
       " ('url', 676),\n",
       " ('<number>', 483),\n",
       " ('rt', 420),\n",
       " ('python', 96),\n",
       " ('talk', 49),\n",
       " ('learning', 46),\n",
       " ('data', 45),\n",
       " ('new', 43),\n",
       " ('https', 42)]"
      ]
     },
     "execution_count": 24,
     "metadata": {},
     "output_type": "execute_result"
    }
   ],
   "source": [
    "brocabulary.most_common(10)"
   ]
  },
  {
   "cell_type": "code",
   "execution_count": 25,
   "metadata": {
    "collapsed": false
   },
   "outputs": [
    {
     "data": {
      "text/plain": [
       "[('user', 1009),\n",
       " ('url', 419),\n",
       " ('<number>', 337),\n",
       " ('rt', 234),\n",
       " ('pycon', 54),\n",
       " ('one', 40),\n",
       " ('sgdq', 40),\n",
       " ('get', 39),\n",
       " ('like', 37),\n",
       " ('code', 30)]"
      ]
     },
     "execution_count": 25,
     "metadata": {},
     "output_type": "execute_result"
    }
   ],
   "source": [
    "siscabulary.most_common(10)"
   ]
  },
  {
   "cell_type": "code",
   "execution_count": 26,
   "metadata": {
    "collapsed": false
   },
   "outputs": [
    {
     "data": {
      "text/html": [
       "\n",
       "    <div class=\"bk-root\">\n",
       "        <a href=\"http://bokeh.pydata.org\" target=\"_blank\" class=\"bk-logo bk-logo-small bk-logo-notebook\"></a>\n",
       "        <span id=\"56b2cbe9-4525-4b98-b3e3-0f8d9305e052\">Loading BokehJS ...</span>\n",
       "    </div>"
      ]
     },
     "metadata": {},
     "output_type": "display_data"
    },
    {
     "data": {
      "application/javascript": [
       "\n",
       "(function(global) {\n",
       "  function now() {\n",
       "    return new Date();\n",
       "  }\n",
       "\n",
       "  if (typeof (window._bokeh_onload_callbacks) === \"undefined\") {\n",
       "    window._bokeh_onload_callbacks = [];\n",
       "  }\n",
       "\n",
       "  function run_callbacks() {\n",
       "    window._bokeh_onload_callbacks.forEach(function(callback) { callback() });\n",
       "    delete window._bokeh_onload_callbacks\n",
       "    console.info(\"Bokeh: all callbacks have finished\");\n",
       "  }\n",
       "\n",
       "  function load_libs(js_urls, callback) {\n",
       "    window._bokeh_onload_callbacks.push(callback);\n",
       "    if (window._bokeh_is_loading > 0) {\n",
       "      console.log(\"Bokeh: BokehJS is being loaded, scheduling callback at\", now());\n",
       "      return null;\n",
       "    }\n",
       "    if (js_urls == null || js_urls.length === 0) {\n",
       "      run_callbacks();\n",
       "      return null;\n",
       "    }\n",
       "    console.log(\"Bokeh: BokehJS not loaded, scheduling load and callback at\", now());\n",
       "    window._bokeh_is_loading = js_urls.length;\n",
       "    for (var i = 0; i < js_urls.length; i++) {\n",
       "      var url = js_urls[i];\n",
       "      var s = document.createElement('script');\n",
       "      s.src = url;\n",
       "      s.async = false;\n",
       "      s.onreadystatechange = s.onload = function() {\n",
       "        window._bokeh_is_loading--;\n",
       "        if (window._bokeh_is_loading === 0) {\n",
       "          console.log(\"Bokeh: all BokehJS libraries loaded\");\n",
       "          run_callbacks()\n",
       "        }\n",
       "      };\n",
       "      s.onerror = function() {\n",
       "        console.warn(\"failed to load library \" + url);\n",
       "      };\n",
       "      console.log(\"Bokeh: injecting script tag for BokehJS library: \", url);\n",
       "      document.getElementsByTagName(\"head\")[0].appendChild(s);\n",
       "    }\n",
       "  };\n",
       "\n",
       "  var js_urls = ['https://cdn.pydata.org/bokeh/release/bokeh-0.12.0.min.js', 'https://cdn.pydata.org/bokeh/release/bokeh-widgets-0.12.0.min.js', 'https://cdn.pydata.org/bokeh/release/bokeh-compiler-0.12.0.min.js'];\n",
       "\n",
       "  var inline_js = [\n",
       "    function(Bokeh) {\n",
       "      Bokeh.set_log_level(\"info\");\n",
       "    },\n",
       "    \n",
       "    function(Bokeh) {\n",
       "      Bokeh.$(\"#56b2cbe9-4525-4b98-b3e3-0f8d9305e052\").text(\"BokehJS successfully loaded\");\n",
       "    },\n",
       "    function(Bokeh) {\n",
       "      console.log(\"Bokeh: injecting CSS: https://cdn.pydata.org/bokeh/release/bokeh-0.12.0.min.css\");\n",
       "      Bokeh.embed.inject_css(\"https://cdn.pydata.org/bokeh/release/bokeh-0.12.0.min.css\");\n",
       "      console.log(\"Bokeh: injecting CSS: https://cdn.pydata.org/bokeh/release/bokeh-widgets-0.12.0.min.css\");\n",
       "      Bokeh.embed.inject_css(\"https://cdn.pydata.org/bokeh/release/bokeh-widgets-0.12.0.min.css\");\n",
       "    }\n",
       "  ];\n",
       "\n",
       "  function run_inline_js() {\n",
       "    for (var i = 0; i < inline_js.length; i++) {\n",
       "      inline_js[i](window.Bokeh);\n",
       "    }\n",
       "  }\n",
       "\n",
       "  if (window._bokeh_is_loading === 0) {\n",
       "    console.log(\"Bokeh: BokehJS loaded, going straight to plotting\");\n",
       "    run_inline_js();\n",
       "  } else {\n",
       "    load_libs(js_urls, function() {\n",
       "      console.log(\"Bokeh: BokehJS plotting callback run at\", now());\n",
       "      run_inline_js();\n",
       "    });\n",
       "  }\n",
       "}(this));"
      ]
     },
     "metadata": {},
     "output_type": "display_data"
    }
   ],
   "source": [
    "from bokeh.plotting import figure, show, vplot, ColumnDataSource\n",
    "from bokeh.io import output_notebook\n",
    "from bokeh.models import HoverTool\n",
    "\n",
    "output_notebook()"
   ]
  },
  {
   "cell_type": "code",
   "execution_count": 27,
   "metadata": {
    "collapsed": false
   },
   "outputs": [],
   "source": [
    "MOST_COMMON = 50\n",
    "\n",
    "mc_brocavulary = brocabulary.most_common(int(MOST_COMMON/2))\n",
    "mc_siscavulary = siscabulary.most_common(int(MOST_COMMON/2))\n",
    "\n",
    "fr_brocavulary, fr_siscavulary  = [], []\n",
    "most_common_words = mc_brocavulary + mc_siscavulary\n",
    "words = list(set(word for word, _ in most_common_words))\n",
    "for word in words:\n",
    "    if word in brocabulary:\n",
    "        fr_brocavulary.append(brocabulary[word])\n",
    "    else:\n",
    "        fr_brocavulary.append(0)\n",
    "    if word in siscabulary:\n",
    "        fr_siscavulary.append(siscabulary[word])\n",
    "    else:\n",
    "        fr_siscavulary.append(0)"
   ]
  },
  {
   "cell_type": "code",
   "execution_count": 28,
   "metadata": {
    "collapsed": false
   },
   "outputs": [
    {
     "data": {
      "text/html": [
       "\n",
       "\n",
       "    <div class=\"bk-root\">\n",
       "        <div class=\"plotdiv\" id=\"beb215e2-47bc-48ca-8b91-199c47bd10a1\"></div>\n",
       "    </div>\n",
       "<script type=\"text/javascript\">\n",
       "  \n",
       "  (function(global) {\n",
       "    function now() {\n",
       "      return new Date();\n",
       "    }\n",
       "  \n",
       "    if (typeof (window._bokeh_onload_callbacks) === \"undefined\") {\n",
       "      window._bokeh_onload_callbacks = [];\n",
       "    }\n",
       "  \n",
       "    function run_callbacks() {\n",
       "      window._bokeh_onload_callbacks.forEach(function(callback) { callback() });\n",
       "      delete window._bokeh_onload_callbacks\n",
       "      console.info(\"Bokeh: all callbacks have finished\");\n",
       "    }\n",
       "  \n",
       "    function load_libs(js_urls, callback) {\n",
       "      window._bokeh_onload_callbacks.push(callback);\n",
       "      if (window._bokeh_is_loading > 0) {\n",
       "        console.log(\"Bokeh: BokehJS is being loaded, scheduling callback at\", now());\n",
       "        return null;\n",
       "      }\n",
       "      if (js_urls == null || js_urls.length === 0) {\n",
       "        run_callbacks();\n",
       "        return null;\n",
       "      }\n",
       "      console.log(\"Bokeh: BokehJS not loaded, scheduling load and callback at\", now());\n",
       "      window._bokeh_is_loading = js_urls.length;\n",
       "      for (var i = 0; i < js_urls.length; i++) {\n",
       "        var url = js_urls[i];\n",
       "        var s = document.createElement('script');\n",
       "        s.src = url;\n",
       "        s.async = false;\n",
       "        s.onreadystatechange = s.onload = function() {\n",
       "          window._bokeh_is_loading--;\n",
       "          if (window._bokeh_is_loading === 0) {\n",
       "            console.log(\"Bokeh: all BokehJS libraries loaded\");\n",
       "            run_callbacks()\n",
       "          }\n",
       "        };\n",
       "        s.onerror = function() {\n",
       "          console.warn(\"failed to load library \" + url);\n",
       "        };\n",
       "        console.log(\"Bokeh: injecting script tag for BokehJS library: \", url);\n",
       "        document.getElementsByTagName(\"head\")[0].appendChild(s);\n",
       "      }\n",
       "    };var element = document.getElementById(\"beb215e2-47bc-48ca-8b91-199c47bd10a1\");\n",
       "    if (element == null) {\n",
       "      console.log(\"Bokeh: ERROR: autoload.js configured with elementid 'beb215e2-47bc-48ca-8b91-199c47bd10a1' but no matching script tag was found. \")\n",
       "      return false;\n",
       "    }\n",
       "  \n",
       "    var js_urls = [];\n",
       "  \n",
       "    var inline_js = [\n",
       "      function(Bokeh) {\n",
       "        Bokeh.$(function() {\n",
       "            var docs_json = {\"5643b780-5b81-40b0-9d9f-878cbf41f0a9\":{\"roots\":{\"references\":[{\"attributes\":{\"plot\":{\"id\":\"82fdb68d-0a8e-45dd-b683-9ea39fc60961\",\"subtype\":\"Figure\",\"type\":\"Plot\"}},\"id\":\"92cf37fa-f6cd-4d09-af3a-62bf9b3bd171\",\"type\":\"SaveTool\"},{\"attributes\":{\"axis_label\":\"Words\",\"formatter\":{\"id\":\"e97d19bd-5db5-4df8-b4e6-a29f5736a1a0\",\"type\":\"CategoricalTickFormatter\"},\"major_label_orientation\":0.7853981633974483,\"plot\":{\"id\":\"82fdb68d-0a8e-45dd-b683-9ea39fc60961\",\"subtype\":\"Figure\",\"type\":\"Plot\"},\"ticker\":{\"id\":\"aecd8a35-2400-41da-901b-146b82989830\",\"type\":\"CategoricalTicker\"}},\"id\":\"64196615-83e8-4d60-8eaa-636b8128168e\",\"type\":\"CategoricalAxis\"},{\"attributes\":{\"bottom_units\":\"screen\",\"fill_alpha\":{\"value\":0.5},\"fill_color\":{\"value\":\"lightgrey\"},\"left_units\":\"screen\",\"level\":\"overlay\",\"line_alpha\":{\"value\":1.0},\"line_color\":{\"value\":\"black\"},\"line_dash\":[4,4],\"line_width\":{\"value\":2},\"plot\":null,\"render_mode\":\"css\",\"right_units\":\"screen\",\"top_units\":\"screen\"},\"id\":\"ef6b50f8-4f8b-494f-8d6a-fe04426dcd70\",\"type\":\"BoxAnnotation\"},{\"attributes\":{\"plot\":{\"id\":\"82fdb68d-0a8e-45dd-b683-9ea39fc60961\",\"subtype\":\"Figure\",\"type\":\"Plot\"}},\"id\":\"df58d499-09ba-4fed-8e09-d80b0c971907\",\"type\":\"ResetTool\"},{\"attributes\":{\"axis_label\":\"Frequency\",\"formatter\":{\"id\":\"0bd898ec-e63b-4de3-b54f-d016503784ca\",\"type\":\"BasicTickFormatter\"},\"plot\":{\"id\":\"82fdb68d-0a8e-45dd-b683-9ea39fc60961\",\"subtype\":\"Figure\",\"type\":\"Plot\"},\"ticker\":{\"id\":\"6d7d6ba1-b3ff-4ee0-a74c-1af26eb043b9\",\"type\":\"BasicTicker\"}},\"id\":\"3a3f47de-0276-4109-9e5c-18ae94f132b6\",\"type\":\"LinearAxis\"},{\"attributes\":{},\"id\":\"aecd8a35-2400-41da-901b-146b82989830\",\"type\":\"CategoricalTicker\"},{\"attributes\":{\"data_source\":{\"id\":\"d5fd95c2-e8c5-4276-b489-4b4a514760bc\",\"type\":\"ColumnDataSource\"},\"glyph\":{\"id\":\"dd5cfe63-e171-40ab-b887-5083021bf1e5\",\"type\":\"Circle\"},\"hover_glyph\":null,\"nonselection_glyph\":{\"id\":\"9e214bd0-3821-48d2-b6d1-57bc98f0d327\",\"type\":\"Circle\"},\"selection_glyph\":null},\"id\":\"496d408d-52c6-4e12-b949-b6773f57cc6d\",\"type\":\"GlyphRenderer\"},{\"attributes\":{\"fill_alpha\":{\"value\":0.1},\"fill_color\":{\"value\":\"#1f77b4\"},\"line_alpha\":{\"value\":0.1},\"line_color\":{\"value\":\"#1f77b4\"},\"size\":{\"units\":\"screen\",\"value\":10},\"x\":{\"field\":\"range_words\"},\"y\":{\"field\":\"freq_true\"}},\"id\":\"ffe06e89-0be8-44f8-be39-d4d56c69eb71\",\"type\":\"Circle\"},{\"attributes\":{},\"id\":\"e97d19bd-5db5-4df8-b4e6-a29f5736a1a0\",\"type\":\"CategoricalTickFormatter\"},{\"attributes\":{\"callback\":null,\"factors\":[\"learning\",\"people\",\"sgdq\",\"get\",\"amp\",\"great\",\"talk\",\"data\",\"dataviz\",\"make\",\"icml\",\"code\",\"think\",\"url\",\"open\",\"like\",\"day\",\"oh\",\"really\",\"<number>\",\"user\",\"https\",\"good\",\"thanks\",\"new\",\"time\",\"rt\",\"know\",\"pycon\",\"slides\",\"one\",\"learn\",\"way\",\"python\"]},\"id\":\"9be4a8ee-2180-4abf-bdd4-034bcbafd3c4\",\"type\":\"FactorRange\"},{\"attributes\":{\"fill_alpha\":{\"value\":0.2},\"fill_color\":{\"value\":\"red\"},\"line_color\":{\"value\":\"red\"},\"size\":{\"units\":\"screen\",\"value\":10},\"x\":{\"field\":\"range_words\"},\"y\":{\"field\":\"freq_false\"}},\"id\":\"dd5cfe63-e171-40ab-b887-5083021bf1e5\",\"type\":\"Circle\"},{\"attributes\":{\"below\":[{\"id\":\"64196615-83e8-4d60-8eaa-636b8128168e\",\"type\":\"CategoricalAxis\"}],\"left\":[{\"id\":\"3a3f47de-0276-4109-9e5c-18ae94f132b6\",\"type\":\"LinearAxis\"}],\"renderers\":[{\"id\":\"64196615-83e8-4d60-8eaa-636b8128168e\",\"type\":\"CategoricalAxis\"},{\"id\":\"122bb287-747f-434c-aff7-9cff943321bb\",\"type\":\"Grid\"},{\"id\":\"3a3f47de-0276-4109-9e5c-18ae94f132b6\",\"type\":\"LinearAxis\"},{\"id\":\"c6b02bee-efd8-4736-a30b-6e12e365a3d3\",\"type\":\"Grid\"},{\"id\":\"ef6b50f8-4f8b-494f-8d6a-fe04426dcd70\",\"type\":\"BoxAnnotation\"},{\"id\":\"be63ba95-f5aa-4850-bfda-a75d3f8d74b7\",\"type\":\"GlyphRenderer\"},{\"id\":\"496d408d-52c6-4e12-b949-b6773f57cc6d\",\"type\":\"GlyphRenderer\"}],\"title\":{\"id\":\"c400fca7-1e11-4f85-a5fc-cce1b7f46431\",\"type\":\"Title\"},\"tool_events\":{\"id\":\"3a0a9b44-0c35-4707-b318-d468b1eacfad\",\"type\":\"ToolEvents\"},\"toolbar\":{\"id\":\"c1a27c78-40f8-435d-8d8b-6dfbd869ef2e\",\"type\":\"Toolbar\"},\"x_range\":{\"id\":\"9be4a8ee-2180-4abf-bdd4-034bcbafd3c4\",\"type\":\"FactorRange\"},\"y_range\":{\"id\":\"8003058c-6371-4d69-86b9-9dee2f4f7d16\",\"type\":\"DataRange1d\"}},\"id\":\"82fdb68d-0a8e-45dd-b683-9ea39fc60961\",\"subtype\":\"Figure\",\"type\":\"Plot\"},{\"attributes\":{\"plot\":null,\"text\":\"Vocabulary gender\"},\"id\":\"c400fca7-1e11-4f85-a5fc-cce1b7f46431\",\"type\":\"Title\"},{\"attributes\":{},\"id\":\"3a0a9b44-0c35-4707-b318-d468b1eacfad\",\"type\":\"ToolEvents\"},{\"attributes\":{\"plot\":{\"id\":\"82fdb68d-0a8e-45dd-b683-9ea39fc60961\",\"subtype\":\"Figure\",\"type\":\"Plot\"}},\"id\":\"3e009236-4bf4-42e9-ae81-2a84d88539ae\",\"type\":\"WheelZoomTool\"},{\"attributes\":{\"plot\":{\"id\":\"82fdb68d-0a8e-45dd-b683-9ea39fc60961\",\"subtype\":\"Figure\",\"type\":\"Plot\"}},\"id\":\"cf1f06b0-51dc-43f2-acde-87ad404de550\",\"type\":\"PanTool\"},{\"attributes\":{\"fill_alpha\":{\"value\":0.1},\"fill_color\":{\"value\":\"#1f77b4\"},\"line_alpha\":{\"value\":0.1},\"line_color\":{\"value\":\"#1f77b4\"},\"size\":{\"units\":\"screen\",\"value\":10},\"x\":{\"field\":\"range_words\"},\"y\":{\"field\":\"freq_false\"}},\"id\":\"9e214bd0-3821-48d2-b6d1-57bc98f0d327\",\"type\":\"Circle\"},{\"attributes\":{},\"id\":\"0bd898ec-e63b-4de3-b54f-d016503784ca\",\"type\":\"BasicTickFormatter\"},{\"attributes\":{\"callback\":null},\"id\":\"8003058c-6371-4d69-86b9-9dee2f4f7d16\",\"type\":\"DataRange1d\"},{\"attributes\":{\"callback\":null,\"column_names\":[\"freq_true\",\"words\",\"freq_false\",\"range_words\"],\"data\":{\"freq_false\":[6,20,40,39,29,19,20,6,0,20,0,30,23,419,24,37,22,22,18,337,1009,12,29,29,27,25,234,29,54,8,40,6,22,27],\"freq_true\":[46,19,0,25,42,34,49,45,32,13,27,25,25,676,25,34,14,13,30,483,1313,42,28,40,43,25,420,13,18,25,35,28,7,96],\"range_words\":[1,2,3,4,5,6,7,8,9,10,11,12,13,14,15,16,17,18,19,20,21,22,23,24,25,26,27,28,29,30,31,32,33,34],\"words\":[\"learning\",\"people\",\"sgdq\",\"get\",\"amp\",\"great\",\"talk\",\"data\",\"dataviz\",\"make\",\"icml\",\"code\",\"think\",\"url\",\"open\",\"like\",\"day\",\"oh\",\"really\",\"<number>\",\"user\",\"https\",\"good\",\"thanks\",\"new\",\"time\",\"rt\",\"know\",\"pycon\",\"slides\",\"one\",\"learn\",\"way\",\"python\"]}},\"id\":\"d5fd95c2-e8c5-4276-b489-4b4a514760bc\",\"type\":\"ColumnDataSource\"},{\"attributes\":{\"data_source\":{\"id\":\"d5fd95c2-e8c5-4276-b489-4b4a514760bc\",\"type\":\"ColumnDataSource\"},\"glyph\":{\"id\":\"ea879f06-51c7-498f-922f-b06e6662d9de\",\"type\":\"Circle\"},\"hover_glyph\":null,\"nonselection_glyph\":{\"id\":\"ffe06e89-0be8-44f8-be39-d4d56c69eb71\",\"type\":\"Circle\"},\"selection_glyph\":null},\"id\":\"be63ba95-f5aa-4850-bfda-a75d3f8d74b7\",\"type\":\"GlyphRenderer\"},{\"attributes\":{\"overlay\":{\"id\":\"ef6b50f8-4f8b-494f-8d6a-fe04426dcd70\",\"type\":\"BoxAnnotation\"},\"plot\":{\"id\":\"82fdb68d-0a8e-45dd-b683-9ea39fc60961\",\"subtype\":\"Figure\",\"type\":\"Plot\"}},\"id\":\"c63e68cf-8394-40d7-8baf-c8ab47b2041f\",\"type\":\"BoxZoomTool\"},{\"attributes\":{\"plot\":{\"id\":\"82fdb68d-0a8e-45dd-b683-9ea39fc60961\",\"subtype\":\"Figure\",\"type\":\"Plot\"},\"ticker\":{\"id\":\"aecd8a35-2400-41da-901b-146b82989830\",\"type\":\"CategoricalTicker\"}},\"id\":\"122bb287-747f-434c-aff7-9cff943321bb\",\"type\":\"Grid\"},{\"attributes\":{\"active_drag\":\"auto\",\"active_scroll\":\"auto\",\"active_tap\":\"auto\",\"tools\":[{\"id\":\"d4582cac-05af-42d1-a2ae-886b13b24e3d\",\"type\":\"HoverTool\"},{\"id\":\"cf1f06b0-51dc-43f2-acde-87ad404de550\",\"type\":\"PanTool\"},{\"id\":\"3e009236-4bf4-42e9-ae81-2a84d88539ae\",\"type\":\"WheelZoomTool\"},{\"id\":\"c63e68cf-8394-40d7-8baf-c8ab47b2041f\",\"type\":\"BoxZoomTool\"},{\"id\":\"df58d499-09ba-4fed-8e09-d80b0c971907\",\"type\":\"ResetTool\"},{\"id\":\"92cf37fa-f6cd-4d09-af3a-62bf9b3bd171\",\"type\":\"SaveTool\"}]},\"id\":\"c1a27c78-40f8-435d-8d8b-6dfbd869ef2e\",\"type\":\"Toolbar\"},{\"attributes\":{\"callback\":null,\"plot\":{\"id\":\"82fdb68d-0a8e-45dd-b683-9ea39fc60961\",\"subtype\":\"Figure\",\"type\":\"Plot\"},\"tooltips\":[[\"words\",\"@words\"]]},\"id\":\"d4582cac-05af-42d1-a2ae-886b13b24e3d\",\"type\":\"HoverTool\"},{\"attributes\":{},\"id\":\"6d7d6ba1-b3ff-4ee0-a74c-1af26eb043b9\",\"type\":\"BasicTicker\"},{\"attributes\":{\"fill_alpha\":{\"value\":0.2},\"fill_color\":{\"value\":\"navy\"},\"line_color\":{\"value\":\"navy\"},\"size\":{\"units\":\"screen\",\"value\":10},\"x\":{\"field\":\"range_words\"},\"y\":{\"field\":\"freq_true\"}},\"id\":\"ea879f06-51c7-498f-922f-b06e6662d9de\",\"type\":\"Circle\"},{\"attributes\":{\"dimension\":1,\"plot\":{\"id\":\"82fdb68d-0a8e-45dd-b683-9ea39fc60961\",\"subtype\":\"Figure\",\"type\":\"Plot\"},\"ticker\":{\"id\":\"6d7d6ba1-b3ff-4ee0-a74c-1af26eb043b9\",\"type\":\"BasicTicker\"}},\"id\":\"c6b02bee-efd8-4736-a30b-6e12e365a3d3\",\"type\":\"Grid\"}],\"root_ids\":[\"82fdb68d-0a8e-45dd-b683-9ea39fc60961\"]},\"title\":\"Bokeh Application\",\"version\":\"0.12.0\"}};\n",
       "            var render_items = [{\"docid\":\"5643b780-5b81-40b0-9d9f-878cbf41f0a9\",\"elementid\":\"beb215e2-47bc-48ca-8b91-199c47bd10a1\",\"modelid\":\"82fdb68d-0a8e-45dd-b683-9ea39fc60961\",\"notebook_comms_target\":\"78ce0480-1dbb-4738-9c3a-78d34cd90d82\"}];\n",
       "            \n",
       "            Bokeh.embed.embed_items(docs_json, render_items);\n",
       "        });\n",
       "      },\n",
       "      function(Bokeh) {\n",
       "      }\n",
       "    ];\n",
       "  \n",
       "    function run_inline_js() {\n",
       "      for (var i = 0; i < inline_js.length; i++) {\n",
       "        inline_js[i](window.Bokeh);\n",
       "      }\n",
       "    }\n",
       "  \n",
       "    if (window._bokeh_is_loading === 0) {\n",
       "      console.log(\"Bokeh: BokehJS loaded, going straight to plotting\");\n",
       "      run_inline_js();\n",
       "    } else {\n",
       "      load_libs(js_urls, function() {\n",
       "        console.log(\"Bokeh: BokehJS plotting callback run at\", now());\n",
       "        run_inline_js();\n",
       "      });\n",
       "    }\n",
       "  }(this));\n",
       "</script>"
      ]
     },
     "metadata": {},
     "output_type": "display_data"
    },
    {
     "data": {
      "text/html": [
       "<p><code>&lt;Bokeh Notebook handle for <strong>In[28]</strong>&gt;</code></p>"
      ],
      "text/plain": [
       "<bokeh.io._CommsHandle at 0x7f97ad812860>"
      ]
     },
     "execution_count": 28,
     "metadata": {},
     "output_type": "execute_result"
    }
   ],
   "source": [
    "import numpy as np\n",
    "range_words=list(range(1,len(words)+1))\n",
    "source = ColumnDataSource(data=dict(range_words=range_words,\n",
    "                                    words=words,\n",
    "                                    freq_true=fr_brocavulary, \n",
    "                                    freq_false=fr_siscavulary))\n",
    "\n",
    "hover = HoverTool()\n",
    "hover.point_policy = \"follow_mouse\"\n",
    "hover = HoverTool(\n",
    "        tooltips=[\n",
    "            (\"words\", \"@words\"),\n",
    "        ]\n",
    "    )\n",
    "\n",
    "TOOLS=\"pan,wheel_zoom,box_zoom,reset,save\"\n",
    "\n",
    "\n",
    "p = figure(title = \"Vocabulary gender\", x_range=words, tools=[TOOLS, hover])\n",
    "p.xaxis.axis_label = 'Words'\n",
    "p.yaxis.axis_label = 'Frequency'\n",
    "p.circle('range_words', 'freq_true', source=source, fill_alpha=0.2, size=10, color=\"navy\")\n",
    "p.circle('range_words', 'freq_false', source=source, fill_alpha=0.2, size=10, color='red')\n",
    "p.xaxis.major_label_orientation = np.pi/4  \n",
    "\n",
    "show(p)"
   ]
  },
  {
   "cell_type": "code",
   "execution_count": 29,
   "metadata": {
    "collapsed": false
   },
   "outputs": [
    {
     "data": {
      "text/html": [
       "\n",
       "\n",
       "    <div class=\"bk-root\">\n",
       "        <div class=\"plotdiv\" id=\"c00de8e7-215f-4d5c-a83f-b81cdf021bae\"></div>\n",
       "    </div>\n",
       "<script type=\"text/javascript\">\n",
       "  \n",
       "  (function(global) {\n",
       "    function now() {\n",
       "      return new Date();\n",
       "    }\n",
       "  \n",
       "    if (typeof (window._bokeh_onload_callbacks) === \"undefined\") {\n",
       "      window._bokeh_onload_callbacks = [];\n",
       "    }\n",
       "  \n",
       "    function run_callbacks() {\n",
       "      window._bokeh_onload_callbacks.forEach(function(callback) { callback() });\n",
       "      delete window._bokeh_onload_callbacks\n",
       "      console.info(\"Bokeh: all callbacks have finished\");\n",
       "    }\n",
       "  \n",
       "    function load_libs(js_urls, callback) {\n",
       "      window._bokeh_onload_callbacks.push(callback);\n",
       "      if (window._bokeh_is_loading > 0) {\n",
       "        console.log(\"Bokeh: BokehJS is being loaded, scheduling callback at\", now());\n",
       "        return null;\n",
       "      }\n",
       "      if (js_urls == null || js_urls.length === 0) {\n",
       "        run_callbacks();\n",
       "        return null;\n",
       "      }\n",
       "      console.log(\"Bokeh: BokehJS not loaded, scheduling load and callback at\", now());\n",
       "      window._bokeh_is_loading = js_urls.length;\n",
       "      for (var i = 0; i < js_urls.length; i++) {\n",
       "        var url = js_urls[i];\n",
       "        var s = document.createElement('script');\n",
       "        s.src = url;\n",
       "        s.async = false;\n",
       "        s.onreadystatechange = s.onload = function() {\n",
       "          window._bokeh_is_loading--;\n",
       "          if (window._bokeh_is_loading === 0) {\n",
       "            console.log(\"Bokeh: all BokehJS libraries loaded\");\n",
       "            run_callbacks()\n",
       "          }\n",
       "        };\n",
       "        s.onerror = function() {\n",
       "          console.warn(\"failed to load library \" + url);\n",
       "        };\n",
       "        console.log(\"Bokeh: injecting script tag for BokehJS library: \", url);\n",
       "        document.getElementsByTagName(\"head\")[0].appendChild(s);\n",
       "      }\n",
       "    };var element = document.getElementById(\"c00de8e7-215f-4d5c-a83f-b81cdf021bae\");\n",
       "    if (element == null) {\n",
       "      console.log(\"Bokeh: ERROR: autoload.js configured with elementid 'c00de8e7-215f-4d5c-a83f-b81cdf021bae' but no matching script tag was found. \")\n",
       "      return false;\n",
       "    }\n",
       "  \n",
       "    var js_urls = [];\n",
       "  \n",
       "    var inline_js = [\n",
       "      function(Bokeh) {\n",
       "        Bokeh.$(function() {\n",
       "            var docs_json = {\"725f918c-dedd-4216-b906-dcb08bd83bb1\":{\"roots\":{\"references\":[{\"attributes\":{\"data_source\":{\"id\":\"f856546e-5603-4e1e-82ae-9ea235112a3a\",\"type\":\"ColumnDataSource\"},\"glyph\":{\"id\":\"e062bec3-99df-427e-9450-1874da0a47e5\",\"type\":\"Quad\"},\"hover_glyph\":null,\"nonselection_glyph\":{\"id\":\"189c204b-03ec-420f-b6a0-5cb38394b681\",\"type\":\"Quad\"},\"selection_glyph\":null},\"id\":\"d126d10d-6fe7-44c6-8de4-5338c1251373\",\"type\":\"GlyphRenderer\"},{\"attributes\":{},\"id\":\"a7903565-0b3c-4937-9cbc-0f8071df565a\",\"type\":\"ToolEvents\"},{\"attributes\":{},\"id\":\"02328b2a-657b-4e05-ab44-84bafe882e97\",\"type\":\"BasicTicker\"},{\"attributes\":{\"callback\":null},\"id\":\"1515f757-6fa3-40eb-9302-8568218c853f\",\"type\":\"DataRange1d\"},{\"attributes\":{\"callback\":null,\"column_names\":[\"y\",\"x\"],\"data\":{\"x\":[6,8,10,11,11,12,12,12,12,12,12,13,13,14,14,14,14,14,15,16,16,16,16,17,17,17,19,19,19,21,21,22,22,23,24,25,26,26,27,27,27,28,28,28,28,29,29,29,30,30,31,31,32,33,34,34,34,34,35,36,36,36,37,37,37,37,37,38,38,39,39,39,39,39,39,39,40,40,40,40,40,41,41,41,41,41,42,42,42,42,42,43,43,44,44,45,45,45,45,46,46,46,46,46,47,47,47,47,47,48,48,48,48,48,48,48,49,49,49,49,49,49,49,50,50,50,51,52,52,52,52,53,53,53,54,54,54,54,55,55,55,55,55,55,55,55,56,56,56,56,56,56,56,56,56,57,57,57,58,58,59,60,60,60,60,60,60,60,60,60,60,61,61,61,61,62,62,62,62,62,63,63,63,63,64,64,64,64,64,64,64,64,64,64,65,65,65,65,65,65,66,66,66,66,66,66,66,66,66,67,67,67,67,68,68,68,68,68,68,69,69,69,69,69,69,69,69,69,69,69,70,70,70,70,70,70,70,70,70,70,71,71,71,71,71,71,71,71,71,71,71,72,72,72,72,72,72,72,72,72,72,73,73,73,73,73,73,73,74,74,74,74,74,74,75,75,75,75,75,75,75,75,75,75,75,75,75,75,75,75,76,76,76,76,76,76,76,76,77,77,77,77,77,77,77,78,78,78,78,78,79,79,79,79,79,79,79,80,80,80,80,80,80,80,81,81,81,82,82,82,82,82,82,82,82,83,83,83,83,83,83,83,83,83,84,84,84,84,84,85,85,85,85,85,85,85,86,86,86,86,86,86,87,87,87,87,87,87,87,88,88,88,88,88,88,88,88,88,88,88,88,88,88,88,88,89,89,89,89,89,89,89,89,90,90,90,90,90,90,90,90,90,90,90,90,90,90,90,90,91,91,91,91,91,91,92,92,92,92,92,92,92,92,92,92,92,93,93,93,93,93,93,93,93,93,94,94,94,94,94,94,94,94,94,94,94,94,94,95,95,95,95,95,95,96,96,96,96,96,97,97,97,97,97,97,97,97,97,97,97,97,97,97,98,98,98,98,98,98,98,98,98,98,98,98,98,98,98,98,98,98,99,99,99,99,99,100,100,100,100,100,100,100,100,100,100,100,100,101,101,101,101,101,101,101,101,101,101,101,102,102,102,102,102,102,102,102,102,102,103,103,103,103,103,103,103,103,103,104,104,104,104,104,104,104,104,104,104,104,104,104,104,104,105,105,105,105,105,105,105,106,106,106,106,106,106,106,106,106,106,106,106,107,107,107,107,107,107,107,108,108,108,108,108,108,108,108,109,109,109,109,109,109,109,109,109,109,110,110,110,110,110,110,110,110,110,110,110,110,110,110,110,110,110,110,110,110,110,110,111,111,111,111,111,111,111,111,111,111,111,111,111,111,111,111,111,112,112,112,112,112,112,112,112,112,112,112,112,112,112,112,112,112,112,112,113,113,113,113,113,113,113,113,113,113,113,113,113,113,114,114,114,114,114,114,114,114,114,114,114,114,114,114,114,114,114,114,114,115,115,115,115,115,115,115,115,115,115,115,115,115,115,115,116,116,116,116,116,116,116,116,116,116,116,116,116,117,117,117,117,117,117,117,117,117,117,117,118,118,118,118,118,118,118,118,118,118,118,118,118,118,118,118,118,118,118,118,118,119,119,119,119,119,119,119,119,119,119,119,119,119,119,119,119,119,119,119,120,120,120,120,120,120,120,120,120,120,120,120,120,120,120,120,120,120,120,120,120,120,121,121,121,121,121,121,121,121,121,121,121,121,121,121,121,121,122,122,122,122,122,122,122,122,122,122,122,122,122,122,122,122,122,122,122,122,122,122,122,122,123,123,123,123,123,123,123,123,123,123,124,124,124,124,124,124,124,124,124,125,125,125,125,125,125,125,125,125,125,125,126,126,126,126,126,126,126,126,126,126,126,126,126,127,127,127,127,127,127,127,127,127,128,128,128,128,128,128,128,129,129,129,129,130,130,130,130,130,130,130,130,130,130,130,130,130,130,130,130,131,131,131,131,131,131,131,131,131,131,131,131,131,132,132,132,132,132,132,132,132,132,132,132,132,132,132,133,133,133,133,133,133,133,133,133,133,133,134,134,134,134,134,134,134,134,134,134,134,134,134,134,134,135,135,135,135,135,136,136,136,136,137,137,137,137,137,137,137,137,137,137,137,137,138,138,138,138,138,138,138,139,139,139,139,139,140,140,140,140,142,165],\"y\":[0.00029800583938421166,0.0003531582250947239,0.0004168695013177598,0.0004522440520024083,0.0004522440520024083,0.0004901366363214776,0.0004901366363214776,0.0004901366363214776,0.0004901366363214776,0.0004901366363214776,0.0004901366363214776,0.0005306803780402704,0.0005306803780402704,0.0005740113173848584,0.0005740113173848584,0.0005740113173848584,0.0005740113173848584,0.0005740113173848584,0.0006202680938953062,0.0006695915898962449,0.0006695915898962449,0.0006695915898962449,0.0006695915898962449,0.0007221245335637515,0.0007221245335637515,0.0007221245335637515,0.0008373962351538798,0.0008373962351538798,0.0008373962351538798,0.0009672442439752697,0.0009672442439752697,0.001037996934974998,0.001037996934974998,0.0011128267324575709,0.001191874669414828,0.001275278951071356,0.001363174189995699,0.001363174189995699,0.001455690605627651,0.001455690605627651,0.001455690605627651,0.0015529531906294674,0.0015529531906294674,0.0015529531906294674,0.0015529531906294674,0.0016550808468727028,0.0016550808468727028,0.0016550808468727028,0.0017621854942809982,0.0017621854942809982,0.001874371156159382,0.001874371156159382,0.0019917330250486453,0.00211435651354529,0.002242316294919449,0.002242316294919449,0.002242316294919449,0.002242316294919449,0.0023756753387405914,0.0025144839470796687,0.0025144839470796687,0.0025144839470796687,0.0026587787971919553,0.0026587787971919553,0.0026587787971919553,0.0026587787971919553,0.0026587787971919553,0.00280858199689283,0.00280858199689283,0.0029639001591146613,0.0029639001591146613,0.0029639001591146613,0.0029639001591146613,0.0029639001591146613,0.0029639001591146613,0.0029639001591146613,0.0031247235023723692,0.0031247235023723692,0.0031247235023723692,0.0031247235023723692,0.0031247235023723692,0.003291024984063825,0.003291024984063825,0.003291024984063825,0.003291024984063825,0.003291024984063825,0.003462759473684942,0.003462759473684942,0.003462759473684942,0.003462759473684942,0.003462759473684942,0.0036398629731441276,0.0036398629731441276,0.003822251891413215,0.003822251891413215,0.004009822380748547,0.004009822380748547,0.004009822380748547,0.004009822380748547,0.004202449741653925,0.004202449741653925,0.004202449741653925,0.004202449741653925,0.004202449741653925,0.004399987903633938,0.004399987903633938,0.004399987903633938,0.004399987903633938,0.004399987903633938,0.004602268988599972,0.004602268988599972,0.004602268988599972,0.004602268988599972,0.004602268988599972,0.004602268988599972,0.004602268988599972,0.004809102963540411,0.004809102963540411,0.004809102963540411,0.004809102963540411,0.004809102963540411,0.004809102963540411,0.004809102963540411,0.005020277388750367,0.005020277388750367,0.005020277388750367,0.005235557267534497,0.005454685002849491,0.005454685002849491,0.005454685002849491,0.005454685002849491,0.005677380465841659,0.005677380465841659,0.005677380465841659,0.005903341180661652,0.005903341180661652,0.005903341180661652,0.005903341180661652,0.0061322426293049835,0.0061322426293049835,0.0061322426293049835,0.0061322426293049835,0.0061322426293049835,0.0061322426293049835,0.0061322426293049835,0.0061322426293049835,0.006363738679537209,0.006363738679537209,0.006363738679537209,0.006363738679537209,0.006363738679537209,0.006363738679537209,0.006363738679537209,0.006363738679537209,0.006363738679537209,0.006597462138219777,0.006597462138219777,0.006597462138219777,0.006833025431561899,0.006833025431561899,0.007070021412989902,0.007308024298454946,0.007308024298454946,0.007308024298454946,0.007308024298454946,0.007308024298454946,0.007308024298454946,0.007308024298454946,0.007308024298454946,0.007308024298454946,0.007308024298454946,0.007546590728098589,0.007546590728098589,0.007546590728098589,0.007546590728098589,0.007785260952271053,0.007785260952271053,0.007785260952271053,0.007785260952271053,0.007785260952271053,0.008023560138956245,0.008023560138956245,0.008023560138956245,0.008023560138956245,0.008260999798708863,0.008260999798708863,0.008260999798708863,0.008260999798708863,0.008260999798708863,0.008260999798708863,0.008260999798708863,0.008260999798708863,0.008260999798708863,0.008260999798708863,0.008497079322260388,0.008497079322260388,0.008497079322260388,0.008497079322260388,0.008497079322260388,0.008497079322260388,0.008731287625011016,0.008731287625011016,0.008731287625011016,0.008731287625011016,0.008731287625011016,0.008731287625011016,0.008731287625011016,0.008731287625011016,0.008731287625011016,0.008963104891702373,0.008963104891702373,0.008963104891702373,0.008963104891702373,0.009192004413670065,0.009192004413670065,0.009192004413670065,0.009192004413670065,0.009192004413670065,0.009192004413670065,0.009417454510214305,0.009417454510214305,0.009417454510214305,0.009417454510214305,0.009417454510214305,0.009417454510214305,0.009417454510214305,0.009417454510214305,0.009417454510214305,0.009417454510214305,0.009417454510214305,0.009638920524810189,0.009638920524810189,0.009638920524810189,0.009638920524810189,0.009638920524810189,0.009638920524810189,0.009638920524810189,0.009638920524810189,0.009638920524810189,0.009638920524810189,0.009855866886114754,0.009855866886114754,0.009855866886114754,0.009855866886114754,0.009855866886114754,0.009855866886114754,0.009855866886114754,0.009855866886114754,0.009855866886114754,0.009855866886114754,0.009855866886114754,0.010067759223024228,0.010067759223024228,0.010067759223024228,0.010067759223024228,0.010067759223024228,0.010067759223024228,0.010067759223024228,0.010067759223024228,0.010067759223024228,0.010067759223024228,0.010274066522399667,0.010274066522399667,0.010274066522399667,0.010274066522399667,0.010274066522399667,0.010274066522399667,0.010274066522399667,0.010474263317519704,0.010474263317519704,0.010474263317519704,0.010474263317519704,0.010474263317519704,0.010474263317519704,0.010667831894842352,0.010667831894842352,0.010667831894842352,0.010667831894842352,0.010667831894842352,0.010667831894842352,0.010667831894842352,0.010667831894842352,0.010667831894842352,0.010667831894842352,0.010667831894842352,0.010667831894842352,0.010667831894842352,0.010667831894842352,0.010667831894842352,0.010667831894842352,0.010854264506269575,0.010854264506269575,0.010854264506269575,0.010854264506269575,0.010854264506269575,0.010854264506269575,0.010854264506269575,0.010854264506269575,0.011033065573814206,0.011033065573814206,0.011033065573814206,0.011033065573814206,0.011033065573814206,0.011033065573814206,0.011033065573814206,0.01120375387337317,0.01120375387337317,0.01120375387337317,0.01120375387337317,0.01120375387337317,0.011365864684217408,0.011365864684217408,0.011365864684217408,0.011365864684217408,0.011365864684217408,0.011365864684217408,0.011365864684217408,0.011518951890820283,0.011518951890820283,0.011518951890820283,0.011518951890820283,0.011518951890820283,0.011518951890820283,0.011518951890820283,0.011662590023763962,0.011662590023763962,0.011662590023763962,0.01179637622668826,0.01179637622668826,0.01179637622668826,0.01179637622668826,0.01179637622668826,0.01179637622668826,0.01179637622668826,0.01179637622668826,0.011919932136578071,0.011919932136578071,0.011919932136578071,0.011919932136578071,0.011919932136578071,0.011919932136578071,0.011919932136578071,0.011919932136578071,0.011919932136578071,0.012032905665122396,0.012032905665122396,0.012032905665122396,0.012032905665122396,0.012032905665122396,0.012134972669417668,0.012134972669417668,0.012134972669417668,0.012134972669417668,0.012134972669417668,0.012134972669417668,0.012134972669417668,0.012225838500926779,0.012225838500926779,0.012225838500926779,0.012225838500926779,0.012225838500926779,0.012225838500926779,0.012305239422338632,0.012305239422338632,0.012305239422338632,0.012305239422338632,0.012305239422338632,0.012305239422338632,0.012305239422338632,0.012372943882795149,0.012372943882795149,0.012372943882795149,0.012372943882795149,0.012372943882795149,0.012372943882795149,0.012372943882795149,0.012372943882795149,0.012372943882795149,0.012372943882795149,0.012372943882795149,0.012372943882795149,0.012372943882795149,0.012372943882795149,0.012372943882795149,0.012372943882795149,0.01242875364285747,0.01242875364285747,0.01242875364285747,0.01242875364285747,0.01242875364285747,0.01242875364285747,0.01242875364285747,0.01242875364285747,0.012472504741562678,0.012472504741562678,0.012472504741562678,0.012472504741562678,0.012472504741562678,0.012472504741562678,0.012472504741562678,0.012472504741562678,0.012472504741562678,0.012472504741562678,0.012472504741562678,0.012472504741562678,0.012472504741562678,0.012472504741562678,0.012472504741562678,0.012472504741562678,0.012504068298968999,0.012504068298968999,0.012504068298968999,0.012504068298968999,0.012504068298968999,0.012504068298968999,0.012523351148691755,0.012523351148691755,0.012523351148691755,0.012523351148691755,0.012523351148691755,0.012523351148691755,0.012523351148691755,0.012523351148691755,0.012523351148691755,0.012523351148691755,0.012523351148691755,0.012530296296085387,0.012530296296085387,0.012530296296085387,0.012530296296085387,0.012530296296085387,0.012530296296085387,0.012530296296085387,0.012530296296085387,0.012530296296085387,0.012524883198917881,0.012524883198917881,0.012524883198917881,0.012524883198917881,0.012524883198917881,0.012524883198917881,0.012524883198917881,0.012524883198917881,0.012524883198917881,0.012524883198917881,0.012524883198917881,0.012524883198917881,0.012524883198917881,0.012507127868603253,0.012507127868603253,0.012507127868603253,0.012507127868603253,0.012507127868603253,0.012507127868603253,0.012477082791293807,0.012477082791293807,0.012477082791293807,0.012477082791293807,0.012477082791293807,0.012434836669376462,0.012434836669376462,0.012434836669376462,0.012434836669376462,0.012434836669376462,0.012434836669376462,0.012434836669376462,0.012434836669376462,0.012434836669376462,0.012434836669376462,0.012434836669376462,0.012434836669376462,0.012434836669376462,0.012434836669376462,0.012380513985154998,0.012380513985154998,0.012380513985154998,0.012380513985154998,0.012380513985154998,0.012380513985154998,0.012380513985154998,0.012380513985154998,0.012380513985154998,0.012380513985154998,0.012380513985154998,0.012380513985154998,0.012380513985154998,0.012380513985154998,0.012380513985154998,0.012380513985154998,0.012380513985154998,0.012380513985154998,0.012314274389721923,0.012314274389721923,0.012314274389721923,0.012314274389721923,0.012314274389721923,0.012236311921218872,0.012236311921218872,0.012236311921218872,0.012236311921218872,0.012236311921218872,0.012236311921218872,0.012236311921218872,0.012236311921218872,0.012236311921218872,0.012236311921218872,0.012236311921218872,0.012236311921218872,0.012146854057842698,0.012146854057842698,0.012146854057842698,0.012146854057842698,0.012146854057842698,0.012146854057842698,0.012146854057842698,0.012146854057842698,0.012146854057842698,0.012146854057842698,0.012146854057842698,0.012046160612065324,0.012046160612065324,0.012046160612065324,0.012046160612065324,0.012046160612065324,0.012046160612065324,0.012046160612065324,0.012046160612065324,0.012046160612065324,0.012046160612065324,0.011934522473589705,0.011934522473589705,0.011934522473589705,0.011934522473589705,0.011934522473589705,0.011934522473589705,0.011934522473589705,0.011934522473589705,0.011934522473589705,0.011812260209552615,0.011812260209552615,0.011812260209552615,0.011812260209552615,0.011812260209552615,0.011812260209552615,0.011812260209552615,0.011812260209552615,0.011812260209552615,0.011812260209552615,0.011812260209552615,0.011812260209552615,0.011812260209552615,0.011812260209552615,0.011812260209552615,0.011679722531399442,0.011679722531399442,0.011679722531399442,0.011679722531399442,0.011679722531399442,0.011679722531399442,0.011679722531399442,0.011537284638688949,0.011537284638688949,0.011537284638688949,0.011537284638688949,0.011537284638688949,0.011537284638688949,0.011537284638688949,0.011537284638688949,0.011537284638688949,0.011537284638688949,0.011537284638688949,0.011537284638688949,0.011385346450830698,0.011385346450830698,0.011385346450830698,0.011385346450830698,0.011385346450830698,0.011385346450830698,0.011385346450830698,0.011224330738408513,0.011224330738408513,0.011224330738408513,0.011224330738408513,0.011224330738408513,0.011224330738408513,0.011224330738408513,0.011224330738408513,0.01105468116629556,0.01105468116629556,0.01105468116629556,0.01105468116629556,0.01105468116629556,0.01105468116629556,0.01105468116629556,0.01105468116629556,0.01105468116629556,0.01105468116629556,0.01087686026121645,0.01087686026121645,0.01087686026121645,0.01087686026121645,0.01087686026121645,0.01087686026121645,0.01087686026121645,0.01087686026121645,0.01087686026121645,0.01087686026121645,0.01087686026121645,0.01087686026121645,0.01087686026121645,0.01087686026121645,0.01087686026121645,0.01087686026121645,0.01087686026121645,0.01087686026121645,0.01087686026121645,0.01087686026121645,0.01087686026121645,0.01087686026121645,0.01069134731675653,0.01069134731675653,0.01069134731675653,0.01069134731675653,0.01069134731675653,0.01069134731675653,0.01069134731675653,0.01069134731675653,0.01069134731675653,0.01069134731675653,0.01069134731675653,0.01069134731675653,0.01069134731675653,0.01069134731675653,0.01069134731675653,0.01069134731675653,0.01069134731675653,0.010498636249056746,0.010498636249056746,0.010498636249056746,0.010498636249056746,0.010498636249056746,0.010498636249056746,0.010498636249056746,0.010498636249056746,0.010498636249056746,0.010498636249056746,0.010498636249056746,0.010498636249056746,0.010498636249056746,0.010498636249056746,0.010498636249056746,0.010498636249056746,0.010498636249056746,0.010498636249056746,0.010498636249056746,0.010299233416563568,0.010299233416563568,0.010299233416563568,0.010299233416563568,0.010299233416563568,0.010299233416563568,0.010299233416563568,0.010299233416563568,0.010299233416563568,0.010299233416563568,0.010299233416563568,0.010299233416563568,0.010299233416563568,0.010299233416563568,0.010093655417227855,0.010093655417227855,0.010093655417227855,0.010093655417227855,0.010093655417227855,0.010093655417227855,0.010093655417227855,0.010093655417227855,0.010093655417227855,0.010093655417227855,0.010093655417227855,0.010093655417227855,0.010093655417227855,0.010093655417227855,0.010093655417227855,0.010093655417227855,0.010093655417227855,0.010093655417227855,0.010093655417227855,0.009882426876465952,0.009882426876465952,0.009882426876465952,0.009882426876465952,0.009882426876465952,0.009882426876465952,0.009882426876465952,0.009882426876465952,0.009882426876465952,0.009882426876465952,0.009882426876465952,0.009882426876465952,0.009882426876465952,0.009882426876465952,0.009882426876465952,0.009666078239013099,0.009666078239013099,0.009666078239013099,0.009666078239013099,0.009666078239013099,0.009666078239013099,0.009666078239013099,0.009666078239013099,0.009666078239013099,0.009666078239013099,0.009666078239013099,0.009666078239013099,0.009666078239013099,0.009445143577517153,0.009445143577517153,0.009445143577517153,0.009445143577517153,0.009445143577517153,0.009445143577517153,0.009445143577517153,0.009445143577517153,0.009445143577517153,0.009445143577517153,0.009445143577517153,0.009220158430343708,0.009220158430343708,0.009220158430343708,0.009220158430343708,0.009220158430343708,0.009220158430343708,0.009220158430343708,0.009220158430343708,0.009220158430343708,0.009220158430343708,0.009220158430343708,0.009220158430343708,0.009220158430343708,0.009220158430343708,0.009220158430343708,0.009220158430343708,0.009220158430343708,0.009220158430343708,0.009220158430343708,0.009220158430343708,0.009220158430343708,0.008991657680597656,0.008991657680597656,0.008991657680597656,0.008991657680597656,0.008991657680597656,0.008991657680597656,0.008991657680597656,0.008991657680597656,0.008991657680597656,0.008991657680597656,0.008991657680597656,0.008991657680597656,0.008991657680597656,0.008991657680597656,0.008991657680597656,0.008991657680597656,0.008991657680597656,0.008991657680597656,0.008991657680597656,0.008760173487816637,0.008760173487816637,0.008760173487816637,0.008760173487816637,0.008760173487816637,0.008760173487816637,0.008760173487816637,0.008760173487816637,0.008760173487816637,0.008760173487816637,0.008760173487816637,0.008760173487816637,0.008760173487816637,0.008760173487816637,0.008760173487816637,0.008760173487816637,0.008760173487816637,0.008760173487816637,0.008760173487816637,0.008760173487816637,0.008760173487816637,0.008760173487816637,0.008526233283165586,0.008526233283165586,0.008526233283165586,0.008526233283165586,0.008526233283165586,0.008526233283165586,0.008526233283165586,0.008526233283165586,0.008526233283165586,0.008526233283165586,0.008526233283165586,0.008526233283165586,0.008526233283165586,0.008526233283165586,0.008526233283165586,0.008526233283165586,0.008290357838265944,0.008290357838265944,0.008290357838265944,0.008290357838265944,0.008290357838265944,0.008290357838265944,0.008290357838265944,0.008290357838265944,0.008290357838265944,0.008290357838265944,0.008290357838265944,0.008290357838265944,0.008290357838265944,0.008290357838265944,0.008290357838265944,0.008290357838265944,0.008290357838265944,0.008290357838265944,0.008290357838265944,0.008290357838265944,0.008290357838265944,0.008290357838265944,0.008290357838265944,0.008290357838265944,0.00805305941703585,0.00805305941703585,0.00805305941703585,0.00805305941703585,0.00805305941703585,0.00805305941703585,0.00805305941703585,0.00805305941703585,0.00805305941703585,0.00805305941703585,0.007814840019106801,0.007814840019106801,0.007814840019106801,0.007814840019106801,0.007814840019106801,0.007814840019106801,0.007814840019106801,0.007814840019106801,0.007814840019106801,0.007576189722526611,0.007576189722526611,0.007576189722526611,0.007576189722526611,0.007576189722526611,0.007576189722526611,0.007576189722526611,0.007576189722526611,0.007576189722526611,0.007576189722526611,0.007576189722526611,0.007337585132566526,0.007337585132566526,0.007337585132566526,0.007337585132566526,0.007337585132566526,0.007337585132566526,0.007337585132566526,0.007337585132566526,0.007337585132566526,0.007337585132566526,0.007337585132566526,0.007337585132566526,0.007337585132566526,0.007099487942530877,0.007099487942530877,0.007099487942530877,0.007099487942530877,0.007099487942530877,0.007099487942530877,0.007099487942530877,0.007099487942530877,0.007099487942530877,0.006862343611529703,0.006862343611529703,0.006862343611529703,0.006862343611529703,0.006862343611529703,0.006862343611529703,0.006862343611529703,0.006626580163226782,0.006626580163226782,0.006626580163226782,0.006626580163226782,0.006392607108626401,0.006392607108626401,0.006392607108626401,0.006392607108626401,0.006392607108626401,0.006392607108626401,0.006392607108626401,0.006392607108626401,0.006392607108626401,0.006392607108626401,0.006392607108626401,0.006392607108626401,0.006392607108626401,0.006392607108626401,0.006392607108626401,0.006392607108626401,0.00616081449501997,0.00616081449501997,0.00616081449501997,0.00616081449501997,0.00616081449501997,0.00616081449501997,0.00616081449501997,0.00616081449501997,0.00616081449501997,0.00616081449501997,0.00616081449501997,0.00616081449501997,0.00616081449501997,0.005931572082286494,0.005931572082286494,0.005931572082286494,0.005931572082286494,0.005931572082286494,0.005931572082286494,0.005931572082286494,0.005931572082286494,0.005931572082286494,0.005931572082286494,0.005931572082286494,0.005931572082286494,0.005931572082286494,0.005931572082286494,0.005705228646836314,0.005705228646836314,0.005705228646836314,0.005705228646836314,0.005705228646836314,0.005705228646836314,0.005705228646836314,0.005705228646836314,0.005705228646836314,0.005705228646836314,0.005705228646836314,0.005482111412612676,0.005482111412612676,0.005482111412612676,0.005482111412612676,0.005482111412612676,0.005482111412612676,0.005482111412612676,0.005482111412612676,0.005482111412612676,0.005482111412612676,0.005482111412612676,0.005482111412612676,0.005482111412612676,0.005482111412612676,0.005482111412612676,0.0052625256077270255,0.0052625256077270255,0.0052625256077270255,0.0052625256077270255,0.0052625256077270255,0.005046754144507476,0.005046754144507476,0.005046754144507476,0.005046754144507476,0.004835057419990984,0.004835057419990984,0.004835057419990984,0.004835057419990984,0.004835057419990984,0.004835057419990984,0.004835057419990984,0.004835057419990984,0.004835057419990984,0.004835057419990984,0.004835057419990984,0.004835057419990984,0.00462767323319306,0.00462767323319306,0.00462767323319306,0.00462767323319306,0.00462767323319306,0.00462767323319306,0.00462767323319306,0.004424816814848349,0.004424816814848349,0.004424816814848349,0.004424816814848349,0.004424816814848349,0.004226680964734404,0.004226680964734404,0.004226680964734404,0.004226680964734404,0.0038452315468402473,0.0009758009869174676]}},\"id\":\"b7744588-6c5e-4eaf-8f97-ce170824007c\",\"type\":\"ColumnDataSource\"},{\"attributes\":{\"plot\":{\"id\":\"b72833e0-98c1-4c67-90be-d8b8253e496a\",\"subtype\":\"Figure\",\"type\":\"Plot\"}},\"id\":\"46d48577-5232-47c9-94a4-58d8fdb29ce7\",\"type\":\"WheelZoomTool\"},{\"attributes\":{\"axis_label\":\"len(tweets)\",\"formatter\":{\"id\":\"e3a3147a-2293-49fc-8bf0-81f395b5734b\",\"type\":\"BasicTickFormatter\"},\"plot\":{\"id\":\"b72833e0-98c1-4c67-90be-d8b8253e496a\",\"subtype\":\"Figure\",\"type\":\"Plot\"},\"ticker\":{\"id\":\"02328b2a-657b-4e05-ab44-84bafe882e97\",\"type\":\"BasicTicker\"}},\"id\":\"2a281e03-5b2f-46ac-8b8c-6d99aebdd855\",\"type\":\"LinearAxis\"},{\"attributes\":{\"plot\":{\"id\":\"b72833e0-98c1-4c67-90be-d8b8253e496a\",\"subtype\":\"Figure\",\"type\":\"Plot\"}},\"id\":\"0a3ccfe9-5d26-4d03-8b8a-8e260526e8b7\",\"type\":\"SaveTool\"},{\"attributes\":{\"legends\":[[\"PDF\",[{\"id\":\"a9e11fdc-24e8-45b4-aa87-4f40003dc98a\",\"type\":\"GlyphRenderer\"},{\"id\":\"e78f8ee4-fdb1-43c9-97f3-fb93bec7b86f\",\"type\":\"GlyphRenderer\"}]]],\"plot\":{\"id\":\"b72833e0-98c1-4c67-90be-d8b8253e496a\",\"subtype\":\"Figure\",\"type\":\"Plot\"}},\"id\":\"4018e744-b544-455b-b039-74ae891f156b\",\"type\":\"Legend\"},{\"attributes\":{\"plot\":{\"id\":\"b72833e0-98c1-4c67-90be-d8b8253e496a\",\"subtype\":\"Figure\",\"type\":\"Plot\"}},\"id\":\"1b871c85-9491-4fef-8832-639484be4ca0\",\"type\":\"ResetTool\"},{\"attributes\":{},\"id\":\"e3a3147a-2293-49fc-8bf0-81f395b5734b\",\"type\":\"BasicTickFormatter\"},{\"attributes\":{\"callback\":null,\"column_names\":[\"left\",\"right\",\"top\"],\"data\":{\"left\":[6.0,13.95,21.9,29.85,37.8,45.75,53.7,61.65,69.6,77.55,85.5,93.45,101.4,109.35000000000001,117.3,125.25,133.2,141.15,149.1,157.05],\"right\":[13.95,21.9,29.85,37.8,45.75,53.7,61.65,69.6,77.55,85.5,93.45,101.4,109.35000000000001,117.3,125.25,133.2,141.15,149.1,157.05,165.0],\"top\":[0.0016352201257861635,0.002264150943396227,0.0021383647798742128,0.0023899371069182403,0.004025157232704401,0.004402515723270438,0.005157232704402518,0.0069182389937106955,0.00943396226415094,0.0064150943396226396,0.009937106918238991,0.010566037735849052,0.009811320754716977,0.01635220125786166,0.016603773584905654,0.01094339622641511,0.00654088050314464,0.00012578616352201274,0.0,0.00012578616352201274]}},\"id\":\"fbfbe5af-7b4c-4737-b14b-6913046bd777\",\"type\":\"ColumnDataSource\"},{\"attributes\":{\"plot\":{\"id\":\"b72833e0-98c1-4c67-90be-d8b8253e496a\",\"subtype\":\"Figure\",\"type\":\"Plot\"}},\"id\":\"2df524f9-9c45-4d23-bffd-ff0c0a6bc528\",\"type\":\"PanTool\"},{\"attributes\":{\"axis_label\":\"# tweets\",\"formatter\":{\"id\":\"a0397220-ac01-487c-aa4e-814749574bc7\",\"type\":\"BasicTickFormatter\"},\"plot\":{\"id\":\"b72833e0-98c1-4c67-90be-d8b8253e496a\",\"subtype\":\"Figure\",\"type\":\"Plot\"},\"ticker\":{\"id\":\"9ac99bb2-9aee-4fd3-a9e3-5e4a657a1be1\",\"type\":\"BasicTicker\"}},\"id\":\"bd61a61d-482f-437d-80e5-c0daeacae8ae\",\"type\":\"LinearAxis\"},{\"attributes\":{\"callback\":null},\"id\":\"4d248b01-77ce-4b2f-98cd-ed0a10de912d\",\"type\":\"DataRange1d\"},{\"attributes\":{\"active_drag\":\"auto\",\"active_scroll\":\"auto\",\"active_tap\":\"auto\",\"tools\":[{\"id\":\"2df524f9-9c45-4d23-bffd-ff0c0a6bc528\",\"type\":\"PanTool\"},{\"id\":\"46d48577-5232-47c9-94a4-58d8fdb29ce7\",\"type\":\"WheelZoomTool\"},{\"id\":\"069258b3-3740-4aa9-a5f5-9163e44e3d74\",\"type\":\"BoxZoomTool\"},{\"id\":\"0a3ccfe9-5d26-4d03-8b8a-8e260526e8b7\",\"type\":\"SaveTool\"},{\"id\":\"1b871c85-9491-4fef-8832-639484be4ca0\",\"type\":\"ResetTool\"},{\"id\":\"9a86734f-3209-4b04-951e-6f06482947e5\",\"type\":\"HelpTool\"}]},\"id\":\"f2bd6042-0284-4977-8e08-335f7b50a20c\",\"type\":\"Toolbar\"},{\"attributes\":{\"callback\":null,\"column_names\":[\"y\",\"x\"],\"data\":{\"x\":[5,5,5,5,7,8,8,8,9,9,10,11,11,11,11,11,11,11,12,12,12,12,12,12,12,13,13,13,13,13,13,13,13,13,14,14,14,14,14,14,14,15,15,15,16,16,16,16,17,17,17,17,17,17,18,18,18,18,19,19,19,19,19,19,20,20,20,20,21,21,22,22,22,22,23,23,23,23,23,23,24,24,24,24,24,25,25,25,25,25,25,25,25,25,25,25,26,26,26,26,26,26,27,27,27,27,27,27,27,27,28,28,28,28,29,29,29,29,30,30,30,30,30,30,31,31,31,31,31,31,31,31,32,32,33,33,33,33,33,33,33,33,34,34,34,34,34,34,34,34,35,35,35,35,35,35,35,35,35,35,35,36,36,36,36,36,36,36,37,37,37,37,37,37,37,37,37,38,38,38,38,38,38,38,39,39,39,39,39,39,39,40,40,40,40,40,41,41,41,42,42,42,42,42,42,42,42,43,43,43,43,43,43,44,44,44,44,44,44,44,44,44,45,45,45,45,45,45,45,45,45,45,45,46,46,46,46,46,46,47,47,47,47,47,47,47,47,47,47,47,48,48,48,48,48,48,48,48,49,49,49,49,49,49,50,50,50,51,51,51,51,51,51,51,52,52,52,52,52,52,52,52,53,53,53,53,53,53,54,54,54,54,54,54,54,54,55,55,55,55,55,55,55,55,55,55,56,56,56,56,56,56,56,56,56,56,56,57,57,58,58,58,58,58,58,58,59,59,59,59,59,60,60,60,60,60,61,61,61,61,61,61,61,61,61,61,62,62,62,62,62,62,63,63,63,63,63,63,63,63,63,63,64,65,65,65,65,65,65,65,65,65,65,65,65,66,66,66,66,66,66,66,66,66,67,67,67,67,67,67,67,67,67,67,68,68,68,68,68,68,68,69,69,69,70,70,70,71,71,71,71,71,71,71,71,72,72,72,72,72,72,73,73,73,73,73,73,73,74,74,74,74,74,74,74,75,75,75,75,75,75,75,75,75,76,76,76,77,77,77,77,77,77,77,77,78,78,78,78,78,78,78,78,78,79,79,79,80,80,80,80,80,80,80,80,81,81,81,81,82,82,82,82,83,83,83,83,83,83,84,84,84,85,85,85,85,85,85,85,85,85,85,85,85,85,86,86,86,86,86,87,87,87,87,87,87,87,87,87,88,88,88,88,88,88,88,89,89,89,89,89,89,89,89,90,90,90,90,91,91,91,91,91,91,91,91,91,92,92,92,92,92,92,92,92,93,93,93,93,94,94,94,94,94,94,94,95,95,95,95,95,95,95,95,95,95,96,96,96,96,96,96,97,97,97,97,97,97,97,97,98,98,98,99,99,99,99,99,99,100,100,100,100,100,100,100,100,101,101,101,101,101,101,101,101,101,102,102,102,102,102,102,102,102,102,102,103,103,103,103,103,103,103,104,104,104,104,104,104,105,105,105,105,105,105,106,106,106,106,106,106,106,106,106,106,106,107,107,107,107,107,107,107,107,107,108,108,108,108,108,108,108,108,108,108,108,109,109,109,109,109,109,109,109,109,109,110,110,110,110,110,111,111,111,111,111,111,112,112,112,112,112,112,112,112,112,112,112,113,113,113,113,113,113,113,113,113,113,113,113,113,114,114,114,114,114,114,114,114,114,114,115,115,115,115,115,115,115,115,115,115,115,115,115,115,116,116,116,116,116,116,116,116,116,116,116,116,116,117,117,117,117,117,117,117,117,117,117,117,118,118,118,118,118,118,118,118,118,118,119,119,119,119,119,119,119,119,119,119,119,119,119,119,119,120,120,120,120,120,120,120,121,121,121,121,121,121,121,121,121,121,121,121,122,122,122,122,122,122,122,122,122,122,122,122,122,122,122,122,122,122,122,122,122,122,123,123,123,123,123,123,124,124,124,124,124,124,124,124,125,125,125,125,125,126,126,126,126,126,127,127,127,127,127,127,127,128,128,128,128,129,129,129,129,129,129,129,129,130,130,130,130,130,130,130,130,130,131,131,131,131,131,131,131,131,131,131,131,131,131,131,131,131,131,131,132,132,132,132,132,132,132,132,132,132,132,132,132,132,133,133,133,133,133,133,133,133,133,133,133,133,133,134,134,134,134,134,134,135,135,135,135,135,135,135,135,135,135,135,135,136,136,136,136,136,136,137,137,137,137,137,137,137,137,137,137,138,138,138,138,138,138,138,138,138,138,138,139,139,139,139,139,139,139,139,139,139,139,140,140,140,140,140,140,140,140,140,140,141,144],\"y\":[0.0014618887652501974,0.0014618887652501974,0.0014618887652501974,0.0014618887652501974,0.0016177426135336212,0.0017000769680762232,0.0017000769680762232,0.0017000769680762232,0.0017853997999497373,0.0017853997999497373,0.001873743414976812,0.0019651354818486897,0.0019651354818486897,0.0019651354818486897,0.0019651354818486897,0.0019651354818486897,0.0019651354818486897,0.0019651354818486897,0.00205959872645945,0.00205959872645945,0.00205959872645945,0.00205959872645945,0.00205959872645945,0.00205959872645945,0.00205959872645945,0.0021571506282538236,0.0021571506282538236,0.0021571506282538236,0.0021571506282538236,0.0021571506282538236,0.0021571506282538236,0.0021571506282538236,0.0021571506282538236,0.0021571506282538236,0.002257803119941539,0.002257803119941539,0.002257803119941539,0.002257803119941539,0.002257803119941539,0.002257803119941539,0.002257803119941539,0.0023615622919804756,0.0023615622919804756,0.0023615622919804756,0.0024684281032747385,0.0024684281032747385,0.0024684281032747385,0.0024684281032747385,0.0025783940995718637,0.0025783940995718637,0.0025783940995718637,0.0025783940995718637,0.0025783940995718637,0.0025783940995718637,0.002691447141074927,0.002691447141074927,0.002691447141074927,0.002691447141074927,0.002807567140810142,0.002807567140810142,0.002807567140810142,0.002807567140810142,0.002807567140810142,0.002807567140810142,0.0029267268153078596,0.0029267268153078596,0.0029267268153078596,0.0029267268153078596,0.0030488914491645512,0.0030488914491645512,0.0031740186750546986,0.0031740186750546986,0.0031740186750546986,0.0031740186750546986,0.0033020582707544337,0.0033020582707544337,0.0033020582707544337,0.0033020582707544337,0.0033020582707544337,0.0033020582707544337,0.0034329519747226703,0.0034329519747226703,0.0034329519747226703,0.0034329519747226703,0.0034329519747226703,0.003566633321760364,0.003566633321760364,0.003566633321760364,0.003566633321760364,0.003566633321760364,0.003566633321760364,0.003566633321760364,0.003566633321760364,0.003566633321760364,0.003566633321760364,0.003566633321760364,0.003703027500233894,0.003703027500233894,0.003703027500233894,0.003703027500233894,0.003703027500233894,0.003703027500233894,0.003842051232304509,0.003842051232304509,0.003842051232304509,0.003842051232304509,0.003842051232304509,0.003842051232304509,0.003842051232304509,0.003842051232304509,0.003983612678551996,0.003983612678551996,0.003983612678551996,0.003983612678551996,0.004127611368317249,0.004127611368317249,0.004127611368317249,0.004127611368317249,0.004273938157015285,0.004273938157015285,0.004273938157015285,0.004273938157015285,0.004273938157015285,0.004273938157015285,0.0044224752115874745,0.0044224752115874745,0.0044224752115874745,0.0044224752115874745,0.0044224752115874745,0.0044224752115874745,0.0044224752115874745,0.0044224752115874745,0.004573096025169577,0.004573096025169577,0.004725665461950692,0.004725665461950692,0.004725665461950692,0.004725665461950692,0.004725665461950692,0.004725665461950692,0.004725665461950692,0.004725665461950692,0.00488003983308795,0.00488003983308795,0.00488003983308795,0.00488003983308795,0.00488003983308795,0.00488003983308795,0.00488003983308795,0.00488003983308795,0.0050360670044227365,0.0050360670044227365,0.0050360670044227365,0.0050360670044227365,0.0050360670044227365,0.0050360670044227365,0.0050360670044227365,0.0050360670044227365,0.0050360670044227365,0.0050360670044227365,0.0050360670044227365,0.0051935865366173044,0.0051935865366173044,0.0051935865366173044,0.0051935865366173044,0.0051935865366173044,0.0051935865366173044,0.0051935865366173044,0.005352429858195839,0.005352429858195839,0.005352429858195839,0.005352429858195839,0.005352429858195839,0.005352429858195839,0.005352429858195839,0.005352429858195839,0.005352429858195839,0.005512420471832407,0.005512420471832407,0.005512420471832407,0.005512420471832407,0.005512420471832407,0.005512420471832407,0.005512420471832407,0.00567337419408006,0.00567337419408006,0.00567337419408006,0.00567337419408006,0.00567337419408006,0.00567337419408006,0.00567337419408006,0.005835099428581545,0.005835099428581545,0.005835099428581545,0.005835099428581545,0.005835099428581545,0.005997397472643357,0.005997397472643357,0.005997397472643357,0.006160062856892061,0.006160062856892061,0.006160062856892061,0.006160062856892061,0.006160062856892061,0.006160062856892061,0.006160062856892061,0.006160062856892061,0.0063228837175656645,0.0063228837175656645,0.0063228837175656645,0.0063228837175656645,0.0063228837175656645,0.0063228837175656645,0.006485642200824621,0.006485642200824621,0.006485642200824621,0.006485642200824621,0.006485642200824621,0.006485642200824621,0.006485642200824621,0.006485642200824621,0.006485642200824621,0.006648114898297244,0.006648114898297244,0.006648114898297244,0.006648114898297244,0.006648114898297244,0.006648114898297244,0.006648114898297244,0.006648114898297244,0.006648114898297244,0.006648114898297244,0.006648114898297244,0.006810073312904413,0.006810073312904413,0.006810073312904413,0.006810073312904413,0.006810073312904413,0.006810073312904413,0.006971284353839137,0.006971284353839137,0.006971284353839137,0.006971284353839137,0.006971284353839137,0.006971284353839137,0.006971284353839137,0.006971284353839137,0.006971284353839137,0.006971284353839137,0.006971284353839137,0.0071315108594090515,0.0071315108594090515,0.0071315108594090515,0.0071315108594090515,0.0071315108594090515,0.0071315108594090515,0.0071315108594090515,0.0071315108594090515,0.0072905121462852746,0.0072905121462852746,0.0072905121462852746,0.0072905121462852746,0.0072905121462852746,0.0072905121462852746,0.007448044583540273,0.007448044583540273,0.007448044583540273,0.007603862189701686,0.007603862189701686,0.007603862189701686,0.007603862189701686,0.007603862189701686,0.007603862189701686,0.007603862189701686,0.007757717250899344,0.007757717250899344,0.007757717250899344,0.007757717250899344,0.007757717250899344,0.007757717250899344,0.007757717250899344,0.007757717250899344,0.007909360958040183,0.007909360958040183,0.007909360958040183,0.007909360958040183,0.007909360958040183,0.007909360958040183,0.008058544060811338,0.008058544060811338,0.008058544060811338,0.008058544060811338,0.008058544060811338,0.008058544060811338,0.008058544060811338,0.008058544060811338,0.008205017536186446,0.008205017536186446,0.008205017536186446,0.008205017536186446,0.008205017536186446,0.008205017536186446,0.008205017536186446,0.008205017536186446,0.008205017536186446,0.008205017536186446,0.008348533268995019,0.008348533268995019,0.008348533268995019,0.008348533268995019,0.008348533268995019,0.008348533268995019,0.008348533268995019,0.008348533268995019,0.008348533268995019,0.008348533268995019,0.008348533268995019,0.008488844742010568,0.008488844742010568,0.008625707732920875,0.008625707732920875,0.008625707732920875,0.008625707732920875,0.008625707732920875,0.008625707732920875,0.008625707732920875,0.008758881015464102,0.008758881015464102,0.008758881015464102,0.008758881015464102,0.008758881015464102,0.00888812706194811,0.00888812706194811,0.00888812706194811,0.00888812706194811,0.00888812706194811,0.009013212744317966,0.009013212744317966,0.009013212744317966,0.009013212744317966,0.009013212744317966,0.009013212744317966,0.009013212744317966,0.009013212744317966,0.009013212744317966,0.009013212744317966,0.009133910030898824,0.009133910030898824,0.009133910030898824,0.009133910030898824,0.009133910030898824,0.009133910030898824,0.0092499966759185,0.0092499966759185,0.0092499966759185,0.0092499966759185,0.0092499966759185,0.0092499966759185,0.0092499966759185,0.0092499966759185,0.0092499966759185,0.0092499966759185,0.00936125689890653,0.009467482051074701,0.009467482051074701,0.009467482051074701,0.009467482051074701,0.009467482051074701,0.009467482051074701,0.009467482051074701,0.009467482051074701,0.009467482051074701,0.009467482051074701,0.009467482051074701,0.009467482051074701,0.009568471265807899,0.009568471265807899,0.009568471265807899,0.009568471265807899,0.009568471265807899,0.009568471265807899,0.009568471265807899,0.009568471265807899,0.009568471265807899,0.009664032090433844,0.009664032090433844,0.009664032090433844,0.009664032090433844,0.009664032090433844,0.009664032090433844,0.009664032090433844,0.009664032090433844,0.009664032090433844,0.009664032090433844,0.009753981096495909,0.009753981096495909,0.009753981096495909,0.009753981096495909,0.009753981096495909,0.009753981096495909,0.009753981096495909,0.009838144465824357,0.009838144465824357,0.009838144465824357,0.009916358549787903,0.009916358549787903,0.009916358549787903,0.009988470399209151,0.009988470399209151,0.009988470399209151,0.009988470399209151,0.009988470399209151,0.009988470399209151,0.009988470399209151,0.009988470399209151,0.010054338262543533,0.010054338262543533,0.010054338262543533,0.010054338262543533,0.010054338262543533,0.010054338262543533,0.010113832050051523,0.010113832050051523,0.010113832050051523,0.010113832050051523,0.010113832050051523,0.010113832050051523,0.010113832050051523,0.010166833761837267,0.010166833761837267,0.010166833761837267,0.010166833761837267,0.010166833761837267,0.010166833761837267,0.010166833761837267,0.010213237877782718,0.010213237877782718,0.010213237877782718,0.010213237877782718,0.010213237877782718,0.010213237877782718,0.010213237877782718,0.010213237877782718,0.010213237877782718,0.010252951707573914,0.010252951707573914,0.010252951707573914,0.01028589569919438,0.01028589569919438,0.01028589569919438,0.01028589569919438,0.01028589569919438,0.01028589569919438,0.01028589569919438,0.01028589569919438,0.010312003704448559,0.010312003704448559,0.010312003704448559,0.010312003704448559,0.010312003704448559,0.010312003704448559,0.010312003704448559,0.010312003704448559,0.010312003704448559,0.010331223200274912,0.010331223200274912,0.010331223200274912,0.010343515464812221,0.010343515464812221,0.010343515464812221,0.010343515464812221,0.010343515464812221,0.010343515464812221,0.010343515464812221,0.010343515464812221,0.010348855707393034,0.010348855707393034,0.010348855707393034,0.010348855707393034,0.010347233151853425,0.010347233151853425,0.010347233151853425,0.010347233151853425,0.010338651072767205,0.010338651072767205,0.010338651072767205,0.010338651072767205,0.010338651072767205,0.010338651072767205,0.010323126784434037,0.010323126784434037,0.010323126784434037,0.010300691582673317,0.010300691582673317,0.010300691582673317,0.010300691582673317,0.010300691582673317,0.010300691582673317,0.010300691582673317,0.010300691582673317,0.010300691582673317,0.010300691582673317,0.010300691582673317,0.010300691582673317,0.010300691582673317,0.010271390639697668,0.010271390639697668,0.010271390639697668,0.010271390639697668,0.010271390639697668,0.010235282852560356,0.010235282852560356,0.010235282852560356,0.010235282852560356,0.010235282852560356,0.010235282852560356,0.010235282852560356,0.010235282852560356,0.010235282852560356,0.010192440645888272,0.010192440645888272,0.010192440645888272,0.010192440645888272,0.010192440645888272,0.010192440645888272,0.010192440645888272,0.010142949729825318,0.010142949729825318,0.010142949729825318,0.010142949729825318,0.010142949729825318,0.010142949729825318,0.010142949729825318,0.010142949729825318,0.010086908814318474,0.010086908814318474,0.010086908814318474,0.010086908814318474,0.010024429281079635,0.010024429281079635,0.010024429281079635,0.010024429281079635,0.010024429281079635,0.010024429281079635,0.010024429281079635,0.010024429281079635,0.010024429281079635,0.009955634814749013,0.009955634814749013,0.009955634814749013,0.009955634814749013,0.009955634814749013,0.009955634814749013,0.009955634814749013,0.009955634814749013,0.009880660994969467,0.009880660994969467,0.009880660994969467,0.009880660994969467,0.009799654851254641,0.009799654851254641,0.009799654851254641,0.009799654851254641,0.009799654851254641,0.009799654851254641,0.009799654851254641,0.009712774382695967,0.009712774382695967,0.009712774382695967,0.009712774382695967,0.009712774382695967,0.009712774382695967,0.009712774382695967,0.009712774382695967,0.009712774382695967,0.009712774382695967,0.009620188044703826,0.009620188044703826,0.009620188044703826,0.009620188044703826,0.009620188044703826,0.009620188044703826,0.009522074205115418,0.009522074205115418,0.009522074205115418,0.009522074205115418,0.009522074205115418,0.009522074205115418,0.009522074205115418,0.009522074205115418,0.009418620572125615,0.009418620572125615,0.009418620572125615,0.00931002359660641,0.00931002359660641,0.00931002359660641,0.00931002359660641,0.00931002359660641,0.00931002359660641,0.009196487851475343,0.009196487851475343,0.009196487851475343,0.009196487851475343,0.009196487851475343,0.009196487851475343,0.009196487851475343,0.009196487851475343,0.00907822539085258,0.00907822539085258,0.00907822539085258,0.00907822539085258,0.00907822539085258,0.00907822539085258,0.00907822539085258,0.00907822539085258,0.00907822539085258,0.008955455091810423,0.008955455091810423,0.008955455091810423,0.008955455091810423,0.008955455091810423,0.008955455091810423,0.008955455091810423,0.008955455091810423,0.008955455091810423,0.008955455091810423,0.008828401981567084,0.008828401981567084,0.008828401981567084,0.008828401981567084,0.008828401981567084,0.008828401981567084,0.008828401981567084,0.00869729655300899,0.00869729655300899,0.00869729655300899,0.00869729655300899,0.00869729655300899,0.00869729655300899,0.008562374071442424,0.008562374071442424,0.008562374071442424,0.008562374071442424,0.008562374071442424,0.008562374071442424,0.008423873875476122,0.008423873875476122,0.008423873875476122,0.008423873875476122,0.008423873875476122,0.008423873875476122,0.008423873875476122,0.008423873875476122,0.008423873875476122,0.008423873875476122,0.008423873875476122,0.008282038674921725,0.008282038674921725,0.008282038674921725,0.008282038674921725,0.008282038674921725,0.008282038674921725,0.008282038674921725,0.008282038674921725,0.008282038674921725,0.00813711384856916,0.00813711384856916,0.00813711384856916,0.00813711384856916,0.00813711384856916,0.00813711384856916,0.00813711384856916,0.00813711384856916,0.00813711384856916,0.00813711384856916,0.00813711384856916,0.0079893467446493,0.0079893467446493,0.0079893467446493,0.0079893467446493,0.0079893467446493,0.0079893467446493,0.0079893467446493,0.0079893467446493,0.0079893467446493,0.0079893467446493,0.007838985986737343,0.007838985986737343,0.007838985986737343,0.007838985986737343,0.007838985986737343,0.0076862807877777,0.0076862807877777,0.0076862807877777,0.0076862807877777,0.0076862807877777,0.0076862807877777,0.007531480274825517,0.007531480274825517,0.007531480274825517,0.007531480274825517,0.007531480274825517,0.007531480274825517,0.007531480274825517,0.007531480274825517,0.007531480274825517,0.007531480274825517,0.007531480274825517,0.007374832827002012,0.007374832827002012,0.007374832827002012,0.007374832827002012,0.007374832827002012,0.007374832827002012,0.007374832827002012,0.007374832827002012,0.007374832827002012,0.007374832827002012,0.007374832827002012,0.007374832827002012,0.007374832827002012,0.007216585429051428,0.007216585429051428,0.007216585429051428,0.007216585429051428,0.007216585429051428,0.007216585429051428,0.007216585429051428,0.007216585429051428,0.007216585429051428,0.007216585429051428,0.007056983042767395,0.007056983042767395,0.007056983042767395,0.007056983042767395,0.007056983042767395,0.007056983042767395,0.007056983042767395,0.007056983042767395,0.007056983042767395,0.007056983042767395,0.007056983042767395,0.007056983042767395,0.007056983042767395,0.007056983042767395,0.006896267998426857,0.006896267998426857,0.006896267998426857,0.006896267998426857,0.006896267998426857,0.006896267998426857,0.006896267998426857,0.006896267998426857,0.006896267998426857,0.006896267998426857,0.006896267998426857,0.006896267998426857,0.006896267998426857,0.006734679408231404,0.006734679408231404,0.006734679408231404,0.006734679408231404,0.006734679408231404,0.006734679408231404,0.006734679408231404,0.006734679408231404,0.006734679408231404,0.006734679408231404,0.006734679408231404,0.006572452603609812,0.006572452603609812,0.006572452603609812,0.006572452603609812,0.006572452603609812,0.006572452603609812,0.006572452603609812,0.006572452603609812,0.006572452603609812,0.006572452603609812,0.006409818598082988,0.006409818598082988,0.006409818598082988,0.006409818598082988,0.006409818598082988,0.006409818598082988,0.006409818598082988,0.006409818598082988,0.006409818598082988,0.006409818598082988,0.006409818598082988,0.006409818598082988,0.006409818598082988,0.006409818598082988,0.006409818598082988,0.0062470035772343065,0.0062470035772343065,0.0062470035772343065,0.0062470035772343065,0.0062470035772343065,0.0062470035772343065,0.0062470035772343065,0.0060842284171655865,0.0060842284171655865,0.0060842284171655865,0.0060842284171655865,0.0060842284171655865,0.0060842284171655865,0.0060842284171655865,0.0060842284171655865,0.0060842284171655865,0.0060842284171655865,0.0060842284171655865,0.0060842284171655865,0.005921708232652902,0.005921708232652902,0.005921708232652902,0.005921708232652902,0.005921708232652902,0.005921708232652902,0.005921708232652902,0.005921708232652902,0.005921708232652902,0.005921708232652902,0.005921708232652902,0.005921708232652902,0.005921708232652902,0.005921708232652902,0.005921708232652902,0.005921708232652902,0.005921708232652902,0.005921708232652902,0.005921708232652902,0.005921708232652902,0.005921708232652902,0.005921708232652902,0.005759651956047893,0.005759651956047893,0.005759651956047893,0.005759651956047893,0.005759651956047893,0.005759651956047893,0.005598261947800553,0.005598261947800553,0.005598261947800553,0.005598261947800553,0.005598261947800553,0.005598261947800553,0.005598261947800553,0.005598261947800553,0.0054377336393094805,0.0054377336393094805,0.0054377336393094805,0.0054377336393094805,0.0054377336393094805,0.005278255208636431,0.005278255208636431,0.005278255208636431,0.005278255208636431,0.005278255208636431,0.005120007289454582,0.005120007289454582,0.005120007289454582,0.005120007289454582,0.005120007289454582,0.005120007289454582,0.005120007289454582,0.004963162713435292,0.004963162713435292,0.004963162713435292,0.004963162713435292,0.004807886286117095,0.004807886286117095,0.004807886286117095,0.004807886286117095,0.004807886286117095,0.004807886286117095,0.004807886286117095,0.004807886286117095,0.004654334596144113,0.004654334596144113,0.004654334596144113,0.004654334596144113,0.004654334596144113,0.004654334596144113,0.004654334596144113,0.004654334596144113,0.004654334596144113,0.004502655857609838,0.004502655857609838,0.004502655857609838,0.004502655857609838,0.004502655857609838,0.004502655857609838,0.004502655857609838,0.004502655857609838,0.004502655857609838,0.004502655857609838,0.004502655857609838,0.004502655857609838,0.004502655857609838,0.004502655857609838,0.004502655857609838,0.004502655857609838,0.004502655857609838,0.004502655857609838,0.004352989785097022,0.004352989785097022,0.004352989785097022,0.004352989785097022,0.004352989785097022,0.004352989785097022,0.004352989785097022,0.004352989785097022,0.004352989785097022,0.004352989785097022,0.004352989785097022,0.004352989785097022,0.004352989785097022,0.004352989785097022,0.004205467500865862,0.004205467500865862,0.004205467500865862,0.004205467500865862,0.004205467500865862,0.004205467500865862,0.004205467500865862,0.004205467500865862,0.004205467500865862,0.004205467500865862,0.004205467500865862,0.004205467500865862,0.004205467500865862,0.004060211473511516,0.004060211473511516,0.004060211473511516,0.004060211473511516,0.004060211473511516,0.004060211473511516,0.003917335487288624,0.003917335487288624,0.003917335487288624,0.003917335487288624,0.003917335487288624,0.003917335487288624,0.003917335487288624,0.003917335487288624,0.003917335487288624,0.003917335487288624,0.003917335487288624,0.003917335487288624,0.0037769446411855525,0.0037769446411855525,0.0037769446411855525,0.0037769446411855525,0.0037769446411855525,0.0037769446411855525,0.003639135376724802,0.003639135376724802,0.003639135376724802,0.003639135376724802,0.003639135376724802,0.003639135376724802,0.003639135376724802,0.003639135376724802,0.003639135376724802,0.003639135376724802,0.003503995533368909,0.003503995533368909,0.003503995533368909,0.003503995533368909,0.003503995533368909,0.003503995533368909,0.003503995533368909,0.003503995533368909,0.003503995533368909,0.003503995533368909,0.003503995533368909,0.003371604430323262,0.003371604430323262,0.003371604430323262,0.003371604430323262,0.003371604430323262,0.003371604430323262,0.003371604430323262,0.003371604430323262,0.003371604430323262,0.003371604430323262,0.003371604430323262,0.003242032973449058,0.003242032973449058,0.003242032973449058,0.003242032973449058,0.003242032973449058,0.003242032973449058,0.003242032973449058,0.003242032973449058,0.003242032973449058,0.003242032973449058,0.0031153437859308846,0.002753075189005994]}},\"id\":\"58e10de1-82eb-483a-9e24-8d923ae4d781\",\"type\":\"ColumnDataSource\"},{\"attributes\":{\"bottom\":{\"value\":0},\"fill_alpha\":{\"value\":0.1},\"fill_color\":{\"value\":\"#1f77b4\"},\"left\":{\"field\":\"left\"},\"line_alpha\":{\"value\":0.1},\"line_color\":{\"value\":\"#1f77b4\"},\"right\":{\"field\":\"right\"},\"top\":{\"field\":\"top\"}},\"id\":\"189c204b-03ec-420f-b6a0-5cb38394b681\",\"type\":\"Quad\"},{\"attributes\":{},\"id\":\"9ac99bb2-9aee-4fd3-a9e3-5e4a657a1be1\",\"type\":\"BasicTicker\"},{\"attributes\":{\"bottom_units\":\"screen\",\"fill_alpha\":{\"value\":0.5},\"fill_color\":{\"value\":\"lightgrey\"},\"left_units\":\"screen\",\"level\":\"overlay\",\"line_alpha\":{\"value\":1.0},\"line_color\":{\"value\":\"black\"},\"line_dash\":[4,4],\"line_width\":{\"value\":2},\"plot\":null,\"render_mode\":\"css\",\"right_units\":\"screen\",\"top_units\":\"screen\"},\"id\":\"db12ae8e-5e34-4363-b543-21b1d29376fe\",\"type\":\"BoxAnnotation\"},{\"attributes\":{\"data_source\":{\"id\":\"58e10de1-82eb-483a-9e24-8d923ae4d781\",\"type\":\"ColumnDataSource\"},\"glyph\":{\"id\":\"a19aa25b-c746-483c-8de9-3d23f28e0da7\",\"type\":\"Line\"},\"hover_glyph\":null,\"nonselection_glyph\":{\"id\":\"42a16169-8d0b-4cd4-8427-32197ef08d17\",\"type\":\"Line\"},\"selection_glyph\":null},\"id\":\"e78f8ee4-fdb1-43c9-97f3-fb93bec7b86f\",\"type\":\"GlyphRenderer\"},{\"attributes\":{\"below\":[{\"id\":\"2a281e03-5b2f-46ac-8b8c-6d99aebdd855\",\"type\":\"LinearAxis\"}],\"left\":[{\"id\":\"bd61a61d-482f-437d-80e5-c0daeacae8ae\",\"type\":\"LinearAxis\"}],\"renderers\":[{\"id\":\"2a281e03-5b2f-46ac-8b8c-6d99aebdd855\",\"type\":\"LinearAxis\"},{\"id\":\"1afa5fa4-571f-449e-b63e-7f9fbfcde64f\",\"type\":\"Grid\"},{\"id\":\"bd61a61d-482f-437d-80e5-c0daeacae8ae\",\"type\":\"LinearAxis\"},{\"id\":\"104601be-46e0-4972-ae05-4d8d9f2c8587\",\"type\":\"Grid\"},{\"id\":\"db12ae8e-5e34-4363-b543-21b1d29376fe\",\"type\":\"BoxAnnotation\"},{\"id\":\"afd6b494-ccbe-4db9-8eb0-6568a8514be5\",\"type\":\"GlyphRenderer\"},{\"id\":\"d126d10d-6fe7-44c6-8de4-5338c1251373\",\"type\":\"GlyphRenderer\"},{\"id\":\"4018e744-b544-455b-b039-74ae891f156b\",\"type\":\"Legend\"},{\"id\":\"a9e11fdc-24e8-45b4-aa87-4f40003dc98a\",\"type\":\"GlyphRenderer\"},{\"id\":\"e78f8ee4-fdb1-43c9-97f3-fb93bec7b86f\",\"type\":\"GlyphRenderer\"}],\"title\":{\"id\":\"4be2af96-f2d1-4256-9036-f2b1b296acd4\",\"type\":\"Title\"},\"tool_events\":{\"id\":\"a7903565-0b3c-4937-9cbc-0f8071df565a\",\"type\":\"ToolEvents\"},\"toolbar\":{\"id\":\"f2bd6042-0284-4977-8e08-335f7b50a20c\",\"type\":\"Toolbar\"},\"x_range\":{\"id\":\"4d248b01-77ce-4b2f-98cd-ed0a10de912d\",\"type\":\"DataRange1d\"},\"y_range\":{\"id\":\"1515f757-6fa3-40eb-9302-8568218c853f\",\"type\":\"DataRange1d\"}},\"id\":\"b72833e0-98c1-4c67-90be-d8b8253e496a\",\"subtype\":\"Figure\",\"type\":\"Plot\"},{\"attributes\":{\"line_alpha\":{\"value\":0.1},\"line_color\":{\"value\":\"#1f77b4\"},\"line_width\":{\"value\":6},\"x\":{\"field\":\"x\"},\"y\":{\"field\":\"y\"}},\"id\":\"9cf9cf04-3f36-466f-8d8b-e0b13b6c966e\",\"type\":\"Line\"},{\"attributes\":{\"callback\":null,\"column_names\":[\"left\",\"right\",\"top\"],\"data\":{\"left\":[5.0,11.95,18.9,25.85,32.8,39.75,46.7,53.65,60.6,67.55000000000001,74.5,81.45,88.4,95.35000000000001,102.3,109.25,116.2,123.15,130.10000000000002,137.05],\"right\":[11.95,18.9,25.85,32.8,39.75,46.7,53.65,60.6,67.55000000000001,74.5,81.45,88.4,95.35000000000001,102.3,109.25,116.2,123.15,130.10000000000002,137.05,144.0],\"top\":[0.0025899280575539573,0.005755395683453238,0.005467625899280574,0.005467625899280579,0.00820143884892086,0.006906474820143882,0.00705035971223022,0.006906474820143882,0.008345323741007181,0.005899280575539578,0.006330935251798558,0.006762589928057551,0.007194244604316544,0.007194244604316559,0.008633093525179852,0.010359712230215824,0.011942446043165463,0.006618705035971207,0.011366906474820162,0.00489208633093526]}},\"id\":\"f856546e-5603-4e1e-82ae-9ea235112a3a\",\"type\":\"ColumnDataSource\"},{\"attributes\":{\"plot\":null,\"text\":\"\"},\"id\":\"4be2af96-f2d1-4256-9036-f2b1b296acd4\",\"type\":\"Title\"},{\"attributes\":{\"bottom\":{\"value\":0},\"fill_alpha\":{\"value\":0.1},\"fill_color\":{\"value\":\"#1f77b4\"},\"left\":{\"field\":\"left\"},\"line_alpha\":{\"value\":0.1},\"line_color\":{\"value\":\"#1f77b4\"},\"right\":{\"field\":\"right\"},\"top\":{\"field\":\"top\"}},\"id\":\"04166efc-cf65-4044-933c-db8e706503d4\",\"type\":\"Quad\"},{\"attributes\":{\"line_alpha\":{\"value\":0.7},\"line_color\":{\"value\":\"navy\"},\"line_width\":{\"value\":6},\"x\":{\"field\":\"x\"},\"y\":{\"field\":\"y\"}},\"id\":\"be6356cd-3589-422e-af61-127f1ad212a1\",\"type\":\"Line\"},{\"attributes\":{\"overlay\":{\"id\":\"db12ae8e-5e34-4363-b543-21b1d29376fe\",\"type\":\"BoxAnnotation\"},\"plot\":{\"id\":\"b72833e0-98c1-4c67-90be-d8b8253e496a\",\"subtype\":\"Figure\",\"type\":\"Plot\"}},\"id\":\"069258b3-3740-4aa9-a5f5-9163e44e3d74\",\"type\":\"BoxZoomTool\"},{\"attributes\":{\"line_alpha\":{\"value\":0.7},\"line_color\":{\"value\":\"red\"},\"line_width\":{\"value\":6},\"x\":{\"field\":\"x\"},\"y\":{\"field\":\"y\"}},\"id\":\"a19aa25b-c746-483c-8de9-3d23f28e0da7\",\"type\":\"Line\"},{\"attributes\":{\"data_source\":{\"id\":\"fbfbe5af-7b4c-4737-b14b-6913046bd777\",\"type\":\"ColumnDataSource\"},\"glyph\":{\"id\":\"b530c089-7de6-492f-ad3b-7da76144b970\",\"type\":\"Quad\"},\"hover_glyph\":null,\"nonselection_glyph\":{\"id\":\"04166efc-cf65-4044-933c-db8e706503d4\",\"type\":\"Quad\"},\"selection_glyph\":null},\"id\":\"afd6b494-ccbe-4db9-8eb0-6568a8514be5\",\"type\":\"GlyphRenderer\"},{\"attributes\":{\"plot\":{\"id\":\"b72833e0-98c1-4c67-90be-d8b8253e496a\",\"subtype\":\"Figure\",\"type\":\"Plot\"},\"ticker\":{\"id\":\"02328b2a-657b-4e05-ab44-84bafe882e97\",\"type\":\"BasicTicker\"}},\"id\":\"1afa5fa4-571f-449e-b63e-7f9fbfcde64f\",\"type\":\"Grid\"},{\"attributes\":{\"dimension\":1,\"plot\":{\"id\":\"b72833e0-98c1-4c67-90be-d8b8253e496a\",\"subtype\":\"Figure\",\"type\":\"Plot\"},\"ticker\":{\"id\":\"9ac99bb2-9aee-4fd3-a9e3-5e4a657a1be1\",\"type\":\"BasicTicker\"}},\"id\":\"104601be-46e0-4972-ae05-4d8d9f2c8587\",\"type\":\"Grid\"},{\"attributes\":{\"data_source\":{\"id\":\"b7744588-6c5e-4eaf-8f97-ce170824007c\",\"type\":\"ColumnDataSource\"},\"glyph\":{\"id\":\"be6356cd-3589-422e-af61-127f1ad212a1\",\"type\":\"Line\"},\"hover_glyph\":null,\"nonselection_glyph\":{\"id\":\"9cf9cf04-3f36-466f-8d8b-e0b13b6c966e\",\"type\":\"Line\"},\"selection_glyph\":null},\"id\":\"a9e11fdc-24e8-45b4-aa87-4f40003dc98a\",\"type\":\"GlyphRenderer\"},{\"attributes\":{\"bottom\":{\"value\":0},\"fill_alpha\":{\"value\":0.3},\"fill_color\":{\"value\":\"navy\"},\"left\":{\"field\":\"left\"},\"line_color\":{\"value\":\"#033649\"},\"right\":{\"field\":\"right\"},\"top\":{\"field\":\"top\"}},\"id\":\"b530c089-7de6-492f-ad3b-7da76144b970\",\"type\":\"Quad\"},{\"attributes\":{\"line_alpha\":{\"value\":0.1},\"line_color\":{\"value\":\"#1f77b4\"},\"line_width\":{\"value\":6},\"x\":{\"field\":\"x\"},\"y\":{\"field\":\"y\"}},\"id\":\"42a16169-8d0b-4cd4-8427-32197ef08d17\",\"type\":\"Line\"},{\"attributes\":{\"plot\":{\"id\":\"b72833e0-98c1-4c67-90be-d8b8253e496a\",\"subtype\":\"Figure\",\"type\":\"Plot\"}},\"id\":\"9a86734f-3209-4b04-951e-6f06482947e5\",\"type\":\"HelpTool\"},{\"attributes\":{\"bottom\":{\"value\":0},\"fill_alpha\":{\"value\":0.3},\"fill_color\":{\"value\":\"red\"},\"left\":{\"field\":\"left\"},\"line_color\":{\"value\":\"#033649\"},\"right\":{\"field\":\"right\"},\"top\":{\"field\":\"top\"}},\"id\":\"e062bec3-99df-427e-9450-1874da0a47e5\",\"type\":\"Quad\"},{\"attributes\":{},\"id\":\"a0397220-ac01-487c-aa4e-814749574bc7\",\"type\":\"BasicTickFormatter\"}],\"root_ids\":[\"b72833e0-98c1-4c67-90be-d8b8253e496a\"]},\"title\":\"Bokeh Application\",\"version\":\"0.12.0\"}};\n",
       "            var render_items = [{\"docid\":\"725f918c-dedd-4216-b906-dcb08bd83bb1\",\"elementid\":\"c00de8e7-215f-4d5c-a83f-b81cdf021bae\",\"modelid\":\"b72833e0-98c1-4c67-90be-d8b8253e496a\",\"notebook_comms_target\":\"4681b381-1006-4ab5-80bd-dcd0d80e5881\"}];\n",
       "            \n",
       "            Bokeh.embed.embed_items(docs_json, render_items);\n",
       "        });\n",
       "      },\n",
       "      function(Bokeh) {\n",
       "      }\n",
       "    ];\n",
       "  \n",
       "    function run_inline_js() {\n",
       "      for (var i = 0; i < inline_js.length; i++) {\n",
       "        inline_js[i](window.Bokeh);\n",
       "      }\n",
       "    }\n",
       "  \n",
       "    if (window._bokeh_is_loading === 0) {\n",
       "      console.log(\"Bokeh: BokehJS loaded, going straight to plotting\");\n",
       "      run_inline_js();\n",
       "    } else {\n",
       "      load_libs(js_urls, function() {\n",
       "        console.log(\"Bokeh: BokehJS plotting callback run at\", now());\n",
       "        run_inline_js();\n",
       "      });\n",
       "    }\n",
       "  }(this));\n",
       "</script>"
      ]
     },
     "metadata": {},
     "output_type": "display_data"
    },
    {
     "data": {
      "text/html": [
       "<p><code>&lt;Bokeh Notebook handle for <strong>In[29]</strong>&gt;</code></p>"
      ],
      "text/plain": [
       "<bokeh.io._CommsHandle at 0x7f97ad7db240>"
      ]
     },
     "execution_count": 29,
     "metadata": {},
     "output_type": "execute_result"
    }
   ],
   "source": [
    "tweet_lens_bro = [len(tweet) for tweet in brotweets]\n",
    "hist_bro, edges_bro = np.histogram(tweet_lens_bro, density=True, bins=20)\n",
    "tweet_lens_bro.sort()\n",
    "\n",
    "tweet_lens_sis = [len(tweet) for tweet in sistweets]\n",
    "hist_sis, edges_sis = np.histogram(tweet_lens_sis, density=True, bins=20)\n",
    "tweet_lens_sis.sort()\n",
    "\n",
    "p = figure(title=\"\")\n",
    "p.quad(top=hist_bro, bottom=0, left=edges_bro[:-1], right=edges_bro[1:],\n",
    "        fill_color=\"navy\", line_color=\"#033649\", fill_alpha=0.3)\n",
    "p.quad(top=hist_sis, bottom=0, left=edges_sis[:-1], right=edges_sis[1:],\n",
    "        fill_color=\"red\", line_color=\"#033649\", fill_alpha=0.3)\n",
    "\n",
    "sigma =  np.std(tweet_lens_bro)\n",
    "mu = np.mean(tweet_lens_bro)\n",
    "pdf = stats.norm.pdf(tweet_lens_bro, mu, sigma)\n",
    "p.line(tweet_lens_bro, pdf, line_color=\"navy\", line_width=6, alpha=0.7, legend=\"PDF\")\n",
    "\n",
    "sigma =  np.std(tweet_lens_sis)\n",
    "mu = np.mean(tweet_lens_sis)\n",
    "pdf = stats.norm.pdf(tweet_lens_sis, mu, sigma)\n",
    "p.line(tweet_lens_sis, pdf, line_color=\"red\", line_width=6, alpha=0.7, legend=\"PDF\")\n",
    "\n",
    "p.xaxis.axis_label = 'len(tweets)'\n",
    "p.yaxis.axis_label = '# tweets'\n",
    "show(p)\n"
   ]
  },
  {
   "cell_type": "markdown",
   "metadata": {},
   "source": [
    "## 0.4 Split your data in train and test \n",
    "*(and probably share it too)*"
   ]
  },
  {
   "cell_type": "code",
   "execution_count": 30,
   "metadata": {
    "collapsed": false
   },
   "outputs": [
    {
     "name": "stdout",
     "output_type": "stream",
     "text": [
      "Examples in train: 1200\n",
      "Examples in test: 800\n"
     ]
    }
   ],
   "source": [
    "from sklearn import cross_validation\n",
    "X = pd_dataset['text'].tolist()\n",
    "y = pd_dataset['class'].tolist()\n",
    "\n",
    "X_train, X_test, y_train, y_test = cross_validation.train_test_split(X, y, test_size=0.4, random_state=0)\n",
    "print(\"Examples in train: {}\".format(len(X_train)))\n",
    "print(\"Examples in test: {}\".format(len(X_test)))"
   ]
  },
  {
   "cell_type": "markdown",
   "metadata": {
    "collapsed": true
   },
   "source": [
    "#  1. In the beginning we had a bag of words *(or maybe the set)* "
   ]
  },
  {
   "cell_type": "markdown",
   "metadata": {},
   "source": [
    "## 1.1. What is a bag of words\n",
    "\n",
    "- Simplest way to represent text.\n",
    "- Create a vector with the size of the vocabulary seen in train.\n",
    "- Each sentence is represented counting the number of times each word appears.\n",
    "\n",
    "```python\n",
    "dataset = [\"I love Python\", \"I love NLP\", \"Pyladies are cool\"]\n",
    "vocabulary = set([\"I\", \"love\", \"Python\", \"NLP\", \"Pyladies\", \"are\", \"cool\"])\n",
    "dataset_representation =  [[1,1,1,0,0,0,0], \n",
    "                           [1,1,0,1,0,0,0],\n",
    "                           [0,0,0,0,1,1,1]] \n",
    "```\n",
    "\n",
    "Ok, that looks cool. This look solved. Let's party! "
   ]
  },
  {
   "cell_type": "code",
   "execution_count": 31,
   "metadata": {
    "collapsed": false
   },
   "outputs": [
    {
     "name": "stdout",
     "output_type": "stream",
     "text": [
      "Train: {0|1}^(1200x4060)\n",
      "Test:  {0|1}^(800x4060)\n",
      "\n",
      "VOCABULARY EXTRACT: broke, broken, brother, brownlee, browser, bruce, brunch, brutal, btw, bu, buddy, buffer, bug, bugfixes, buggy, bugs, build, building, built, bullies, bump, bunch, burnt, bursting, busy, but, butler, button, buy, buys, buzz, by, byegium, ca, cabin, cable, cableporn, caesar, caged, call, called, calling, calls, came, camp, campaign, camping, can, canada, candidate, cannot, capita, capitalism, capitalists, capn, captain, captains, capture, car, card, cardinality, cards, career, careful, caribbean, caring, carpentry, cars, cartoon, case, cash, cat, catch, categorical, catered, cats, catty, caught, causal, cause, caused, cc, celebrate, celebrating, cena, centenial, center, centrality, centre, century, cernan, certainly, ceval, cfd, cffi, cfp, chair, chalk, challenge, challenges\n",
      "\n",
      "TWEET REPRESENTATION: [0 0 0 0 0 0 0 0 0 0 0 0 0 0 0 0 0 0 0 0 0 0 0 0 0 0 0 0 0 0 0 0 0 0 0 0 0\n",
      " 0 0 0 0 0 0 0 0 0 0 0 0 0 0 0 0 0 0 0 0 0 0 0 0 0 0 0 0 0 0 0 0 0 0 0 0 0\n",
      " 0 0 0 0 0 0 0 0 0 0 0 0 0 0 0 0 0 0 0 0 0 0 0 0 0 0 0 0 0 0 0 0 0 0 0 0 0\n",
      " 0 0 0 0 0 0 0 0 0 0 0 0 1 0 0 0 0 0 0 0 0 0 0 0 0 0 0 0 0 0 0 0 0 0 0 0 0\n",
      " 0 0 0 0 0 0 0 0 0 0 0 0 0 0 0 0 0 0 0 0 0 0 0 0 0 0 0 0 0 0 0 0 0 0 0 0 0\n",
      " 0 0 0 0 0 0 0 0 0 0 0 0 0 0 0 0 0 0 0 0 0 0 0 0 0 0 0 0 0 0 0 0 0 0 0 0 0\n",
      " 0 0 0 0 0 0 1 0 0 0 0 0 0 0 0 0 0 0 0 0 0 0 0 0 0 0 0 0 0 0 0 0 0 0 0 0 0\n",
      " 0 0 0 0 0 0 0 0 0 0 0 0 0 0 0 0 0 0 0 0 0 0 0 0 0 0 0 0 0 0 0 0 0 0 0 0 0\n",
      " 0 0 0 0 0 0 0 0 0 0 0 0 0 0 0 0 0 0 0 0 0 0 0 0 0 0 0 0 0 0 0 0 0 0 0 0 0\n",
      " 0 0 0 0 0 0 0 0 0 0 0 0 0 0 0 0 0 0 0 0 0 0 0 0 0 0 0 0 0 0 0 0 0 0 0 0 0\n",
      " 0 0 0 0 0 0 0 0 0 0 0 0 0 0 0 0 0 0 0 0 0 0 0 0 0 0 0 0 0 0 0 0 0 0 0 0 0\n",
      " 0 0 0 0 0 0 0 0 0 0 0 0 0 0 0 0 0 0 0 0 0 0 0 0 0 0 0 0 0 0 0 0 0 0 0 0 0\n",
      " 0 0 0 0 0 0 0 0 0 0 0 0 0 0 0 0 0 0 0 0 0 0 0 0 0 0 0 0 0 0 0 0 0 0 0 0 0\n",
      " 0 0 0 0 0 1 0 0 0 0 0 0 0 0 0 0 0 0 0 0 0 0 0 0 0 1 0 0 0 0 0 0 0 0 0 0 0\n",
      " 0 0 0 0 0 0 0 0 0 0 0 0 0 0 0 0 0 0 0 0 0 0 0 0 0 0 0 0 0 0 0 0 0 0 0 0 0\n",
      " 0 0 0 0 0 0 0 0 0 0 0 0 0 0 0 0 0 0 0 0 0 0 0 0 0 0 0 0 0 0 0 0 0 0 0 0 0\n",
      " 0 0 0 0 0 0 0 0 0 0 0 0 0 0 0 0 0 0 0 0 0 0 0 0 0 0 0 0 0 0 0 0 0 0 0 0 0\n",
      " 0 0 0 0 0 0 0 0 0 0 0 0 0 0 0 0 0 0 0 0 0 0 0 0 0 0 0 0 0 0 0 0 0 0 0 0 0\n",
      " 0 0 0 0 0 0 0 0 0 0 0 0 0 0 0 0 0 0 0 0 0 0 0 0 0 0 0 0 0 0 0 0 0 0 0 0 0\n",
      " 0 0 0 0 0 0 0 0 0 0 0 0 0 0 0 0 0 0 0 0 0 0 0 0 0 0 0 0 0 0 0 0 0 0 0 0 0\n",
      " 0 0 0 0 0 0 0 0 0 0 0 0 0 0 0 0 0 0 0 0 0 0 0 0 0 0 0 0 0 0 0 0 0 0 0 0 0\n",
      " 0 0 0 0 0 0 0 0 0 0 0 0 0 0 0 0 0 0 0 0 0 0 0 0 0 0 0 0 0 0 0 0 0 0 0 0 0\n",
      " 0 0 0 0 0 0 0 0 0 0 0 0 0 0 0 0 0 0 0 0 0 0 0 0 0 0 0 0 0 0 0 0 0 0 0 0 0\n",
      " 0 0 0 0 0 0 0 0 0 0 0 0 0 0 0 0 0 0 0 0 0 0 0 0 0 0 0 0 0 0 0 0 0 0 0 0 0\n",
      " 0 0 0 0 0 0 0 1 0 0 0 0 0 0 0 0 0 0 0 0 0 0 0 0 0 0 0 0 0 0 0 0 0 0 0 0 0\n",
      " 0 0 0 0 0 0 0 0 0 0 0 0 0 0 0 0 0 0 0 0 0 0 0 0 0 0 0 0 0 0 0 0 0 0 0 0 0\n",
      " 0 0 0 0 0 0 0 0 0 0 0 0 0 0 0 0 0 0 0 0 0 0 0 0 0 0 0 0 0 0 0 0 0 0 0 0 0\n",
      " 0 0 0 0 0 0 0 0 0 0 0 0 0 0 0 0 0 0 0 0 0 0 0 0 0 0 0 0 0 0 0 0 0 0 0 0 0\n",
      " 0 0 0 0 0 0 0 0 0 0 0 0 0 0 0 0 0 0 0 0 0 0 0 0 0 0 0 0 0 0 0 0 0 0 0 0 0\n",
      " 0 0 0 0 0 0 0 0 0 0 0 0 0 0 0 0 0 0 0 0 0 0 0 0 0 0 0 0 0 0 0 0 0 0 0 0 0\n",
      " 0 0 0 0 0 0 0 0 0 0 0 0 0 0 0 0 0 0 0 0 0 0 0 0 0 0 0 0 0 0 0 0 0 0 0 0 0\n",
      " 0 0 0 0 0 0 0 0 0 0 0 0 0 0 0 0 0 0 0 0 0 0 0 0 0 0 0 0 0 0 0 0 0 0 0 0 0\n",
      " 0 0 0 0 0 0 0 0 0 0 0 0 0 0 0 0 0 0 0 0 0 0 0 0 0 0 0 0 0 0 0 0 0 0 0 0 0\n",
      " 0 0 0 0 0 0 0 0 0 0 0 0 0 0 0 0 0 0 0 0 0 0 0 0 0 0 0 0 0 0 0 0 0 0 0 0 0\n",
      " 0 0 0 0 0 0 0 0 0 0 0 0 0 0 0 0 0 0 0 0 0 0 0 0 0 0 0 0 0 0 0 0 0 0 0 0 0\n",
      " 0 0 0 0 0 0 0 0 0 0 0 0 0 0 0 0 0 0 0 0 0 0 0 0 0 0 0 0 0 0 0 0 0 0 0 0 0\n",
      " 0 0 0 0 0 0 0 0 0 0 0 0 0 0 0 0 0 0 0 0 0 0 0 0 0 0 0 0 0 0 0 0 0 0 0 0 0\n",
      " 0 0 0 0 0 0 0 0 0 0 0 0 0 0 0 0 0 0 0 0 0 0 0 0 0 0 0 0 0 0 0 0 0 0 0 0 0\n",
      " 0 0 0 0 0 0 0 0 0 0 0 0 0 0 0 0 0 0 0 0 0 0 0 0 0 0 0 0 0 0 0 0 0 0 0 0 0\n",
      " 0 0 0 0 0 0 0 0 0 0 0 0 0 0 0 0 0 0 0 0 0 0 0 0 0 0 0 0 0 0 0 0 0 0 0 0 0\n",
      " 0 0 0 0 0 0 0 0 0 0 0 0 0 0 0 0 0 0 0 0 0 0 0 0 0 0 0 0 0 0 0 0 0 0 0 0 0\n",
      " 0 0 0 0 0 0 0 0 0 0 0 0 0 0 0 0 0 0 0 0 0 0 0 0 0 0 0 0 0 0 0 0 0 0 0 0 0\n",
      " 0 0 0 0 0 0 0 0 0 0 0 0 0 0 0 0 0 0 0 0 0 0 0 0 0 0 0 0 0 0 0 0 0 0 0 0 0\n",
      " 0 0 0 0 0 0 0 0 0 0 0 0 0 0 0 0 0 0 0 0 0 0 0 0 0 0 0 0 0 0 0 0 0 0 0 0 0\n",
      " 0 0 0 0 0 0 0 0 0 0 0 0 0 0 0 0 0 0 0 0 0 0 0 0 0 0 0 0 0 0 0 0 0 0 0 0 0\n",
      " 0 0 0 0 0 0 0 0 0 0 0 0 0 0 0 0 0 0 0 0 0 0 0 0 0 0 0 0 0 0 0 0 0 0 0 0 0\n",
      " 0 0 0 0 0 0 0 0 0 0 0 0 0 0 0 0 0 0 0 0 0 0 0 0 0 0 0 0 0 0 0 0 0 0 0 0 0\n",
      " 0 0 0 0 0 0 0 0 0 0 0 0 0 0 0 0 0 0 0 0 0 0 0 0 0 0 0 0 0 0 0 0 0 0 0 0 0\n",
      " 0 0 0 0 0 0 0 0 0 0 0 0 0 0 0 0 0 0 0 0 0 0 0 0 0 0 0 0 0 0 0 0 0 0 0 0 0\n",
      " 0 0 0 0 0 0 0 0 0 0 0 0 0 0 0 0 0 0 0 0 0 0 0 0 0 0 0 0 0 0 0 0 0 0 0 0 0\n",
      " 0 0 0 0 0 0 0 0 0 0 0 0 0 0 1 0 0 0 0 0 0 0 0 0 0 0 0 0 0 0 0 0 0 0 0 0 0\n",
      " 0 0 0 0 0 0 0 0 0 0 0 0 0 0 0 0 0 0 0 0 0 0 0 0 0 0 0 0 0 0 0 0 0 0 0 0 0\n",
      " 0 0 0 0 0 0 0 0 0 0 0 0 0 0 0 0 0 0 0 0 0 0 0 0 0 0 0 0 0 0 0 0 0 0 0 0 0\n",
      " 0 0 0 0 0 0 0 0 0 0 0 0 0 0 0 0 0 0 0 0 0 0 0 0 0 0 0 0 0 0 0 0 0 0 0 0 0\n",
      " 0 0 0 0 0 0 0 0 0 0 0 0 0 0 0 0 0 0 0 0 0 0 0 0 0 0 0 0 0 0 0 0 0 0 0 0 0\n",
      " 0 0 0 0 0 0 0 0 0 0 0 0 0 0 0 0 0 0 0 0 0 0 0 0 0 0 0 0 0 0 0 0 0 0 0 0 0\n",
      " 0 0 0 0 0 0 0 0 0 0 0 0 0 0 0 0 0 0 0 0 0 0 0 0 0 0 0 0 0 0 0 0 0 0 0 0 0\n",
      " 0 0 0 0 0 0 0 0 0 0 0 0 0 0 0 0 0 0 0 0 0 0 0 0 0 0 0 0 0 0 0 0 0 0 0 0 0\n",
      " 0 0 1 0 0 0 0 0 0 0 0 0 0 0 0 0 0 0 0 0 0 0 0 0 0 0 0 0 0 0 0 0 0 0 0 0 0\n",
      " 0 0 0 0 0 0 0 0 0 0 0 0 0 0 0 0 0 0 0 0 0 0 0 0 0 0 0 0 0 0 0 0 0 0 0 0 0\n",
      " 0 0 0 0 0 0 0 0 0 0 0 0 0 0 0 0 0 0 0 0 0 0 0 0 0 0 0 0 0 0 0 0 0 0 0 0 0\n",
      " 0 0 0 0 0 0 0 0 0 0 0 0 0 0 0 0 0 0 0 0 0 0 0 0 0 0 0 0 0 0 0 0 0 0 0 0 0\n",
      " 0 0 0 0 0 0 0 0 0 0 0 0 0 0 0 0 0 0 0 0 0 0 0 0 0 0 0 0 0 0 0 0 0 0 0 0 0\n",
      " 0 0 0 0 0 0 0 0 0 0 0 0 0 0 0 0 0 0 0 0 0 0 0 0 0 0 0 0 0 0 0 0 0 0 0 0 0\n",
      " 0 0 0 0 0 0 0 0 0 0 0 0 0 0 0 0 0 0 0 0 0 0 0 0 0 0 0 0 0 0 0 0 0 0 0 0 0\n",
      " 0 0 0 0 0 0 0 0 0 0 0 0 0 0 0 0 0 0 0 0 0 0 0 0 0 0 0 0 0 0 0 0 0 0 0 0 0\n",
      " 0 0 0 0 0 0 0 0 0 0 0 0 0 0 0 0 0 0 0 0 0 0 0 0 0 0 0 0 0 0 0 0 0 0 0 0 0\n",
      " 0 0 0 0 0 0 0 0 0 0 0 0 0 0 0 0 0 0 0 0 0 0 0 0 0 0 0 0 0 0 0 0 0 0 0 0 0\n",
      " 0 0 0 0 0 0 0 0 0 0 0 0 0 0 0 0 0 0 0 0 0 0 0 0 0 0 0 0 0 0 0 0 0 0 0 0 0\n",
      " 0 0 0 0 0 0 0 0 0 0 0 0 0 0 0 0 0 0 0 0 0 0 0 0 0 0 0 0 0 0 0 0 0 0 0 0 0\n",
      " 0 0 0 0 0 0 0 0 0 0 0 0 0 0 0 0 0 0 0 0 0 0 0 0 0 0 0 0 0 0 0 0 0 0 0 0 0\n",
      " 0 0 0 0 0 0 0 0 0 0 0 0 0 0 0 0 0 0 0 0 0 0 0 0 0 0 0 0 0 0 0 0 0 0 0 0 0\n",
      " 0 0 0 0 0 0 0 0 0 0 0 0 0 0 0 0 0 0 0 0 0 0 0 0 0 0 0 0 0 0 0 0 0 0 0 0 0\n",
      " 0 0 0 0 0 0 0 0 0 0 0 0 0 0 0 0 0 0 0 0 0 0 0 0 0 0 0 0 0 0 0 0 0 0 0 0 0\n",
      " 0 0 0 0 0 0 0 0 0 0 0 0 0 0 0 0 0 0 0 0 0 0 0 0 0 0 0 0 0 0 0 0 0 0 0 0 0\n",
      " 0 0 0 0 0 0 0 0 0 0 0 0 0 0 0 0 0 0 0 0 0 0 0 0 0 0 0 0 0 0 0 0 0 0 0 0 0\n",
      " 0 0 0 0 0 0 0 0 0 0 0 0 0 0 0 0 0 0 0 0 0 0 0 0 0 0 0 0 0 0 0 0 0 0 0 0 0\n",
      " 0 0 0 0 0 0 0 0 0 0 0 0 0 0 0 0 0 0 0 0 0 0 0 0 0 0 0 0 0 0 0 0 0 0 0 0 0\n",
      " 0 0 0 0 0 0 0 0 0 0 0 0 0 0 0 0 0 0 0 0 0 0 0 0 0 0 0 0 0 0 0 0 0 0 0 0 0\n",
      " 0 0 0 0 0 0 0 0 0 0 0 0 0 0 0 0 0 0 0 0 0 0 0 0 0 0 0 0 0 0 0 0 0 0 0 0 0\n",
      " 0 0 0 0 0 0 0 0 0 0 0 0 0 0 0 0 0 0 0 0 0 0 0 0 0 0 0 0 0 0 0 0 0 0 0 0 0\n",
      " 0 0 0 0 0 0 0 0 0 0 0 0 0 0 0 0 0 0 0 0 0 0 0 0 0 0 0 0 0 0 0 0 0 0 0 0 0\n",
      " 0 0 0 0 0 0 0 0 0 0 0 0 0 0 0 0 0 0 0 0 0 0 0 0 0 0 0 0 0 0 0 0 0 0 0 0 0\n",
      " 0 0 0 0 0 0 0 0 0 0 0 0 0 0 0 0 0 0 0 0 0 0 0 0 0 0 0 0 0 0 0 0 0 0 0 0 0\n",
      " 0 0 0 0 0 0 0 0 0 0 0 0 0 0 0 0 0 0 0 0 0 0 0 0 0 0 0 0 0 0 0 0 0 0 0 0 0\n",
      " 0 0 0 0 0 0 0 0 0 0 0 0 0 0 0 0 0 0 0 0 0 0 0 0 0 0 0 0 0 0 0 0 0 0 0 0 0\n",
      " 0 0 0 0 0 0 0 0 0 0 0 0 0 0 0 0 0 0 0 0 0 0 0 0 0 0 0 0 0 0 0 0 0 0 0 0 0\n",
      " 0 0 0 0 0 0 0 0 0 0 0 0 0 0 0 0 0 0 0 0 0 0 0 0 0 0 0 0 0 0 0 0 0 0 0 0 0\n",
      " 0 0 0 0 0 0 0 0 0 0 0 0 0 0 0 0 0 0 0 0 0 0 0 0 0 0 0 0 0 0 0 0 0 0 0 0 0\n",
      " 0 0 0 0 0 0 0 0 0 0 0 0 0 0 0 0 0 0 0 0 0 0 0 0 0 0 0 0 0 0 0 0 0 0 0 0 0\n",
      " 0 0 0 0 0 0 0 0 0 0 0 0 0 0 0 0 0 0 0 0 0 0 0 0 0 0 0 0 0 0 0 0 0 0 0 0 0\n",
      " 0 0 0 0 0 0 0 0 0 0 0 0 0 0 0 0 0 0 0 0 0 0 0 0 0 0 0 0 0 0 0 0 0 0 0 0 0\n",
      " 0 0 0 0 0 0 0 0 0 0 0 0 0 0 0 0 0 0 0 0 0 0 0 0 0 0 0 0 0 0 0 0 0 0 0 0 0\n",
      " 0 0 0 0 0 0 0 0 0 0 0 0 0 0 0 0 0 0 0 0 0 0 0 0 0 0 0 0 0 0 0 0 0 0 0 0 0\n",
      " 0 0 0 0 0 0 0 0 0 0 0 0 0 0 0 0 0 0 0 0 0 0 0 0 0 0 0 0 0 0 0 0 0 0 0 0 0\n",
      " 0 0 0 0 0 0 0 0 0 0 0 0 0 0 0 0 0 0 0 0 0 0 0 0 0 0 0 0 0 0 0 0 0 0 0 0 0\n",
      " 0 0 0 0 0 0 0 0 0 0 0 0 0 0 0 0 0 0 0 0 0 0 0 0 0 0 0 0 0 0 0 0 0 0 0 0 0\n",
      " 0 0 0 0 0 0 0 0 0 0 0 0 0 0 0 0 0 0 0 0 0 0 0 0 0 0 0 0 0 0 0 0 0 0 0 0 0\n",
      " 0 0 0 0 0 0 0 0 0 0 0 0 0 0 0 0 0 0 0 1 0 0 0 0 0 0 0 0 0 0 0 0 0 0 0 0 0\n",
      " 0 0 0 0 0 0 0 0 0 0 0 0 0 0 0 0 0 0 0 0 0 0 0 0 0 0 0 0 0 0 0 0 0 0 0 0 0\n",
      " 0 0 0 0 0 0 0 0 0 0 0 0 0 0 0 0 0 0 0 0 0 0 0 0 0 0 0 0 0 0 0 0 0 0 0 1 0\n",
      " 0 0 0 0 0 0 0 0 0 0 0 0 0 0 0 0 0 0 0 0 0 0 0 0 0 0 0 0 0 0 0 0 0 0 0 0 0\n",
      " 0 0 0 0 0 0 0 0 0 0 0 0 0 0 0 0 0 0 0 0 0 2 0 0 0 0 0 0 0 0 0 0 0 0 0 0 0\n",
      " 0 0 0 0 0 0 0 0 0 0 0 0 0 0 0 0 0 0 0 0 0 0 0 0 0 0 0 0 0 0 0 0 0 0 0 0 0\n",
      " 0 0 0 0 0 0 0 0 0 0 0 0 0 0 0 0 0 0 0 0 0 0 0 0 0 0 0 0 0 0 0 0 0 0 0 0 0\n",
      " 0 0 0 0 0 0 0 0 0 0 0 0 0 0 0 0 0 0 0 0 0 0 0 0 0 0 0 0 0 0 0 0 0 0 0 0 0\n",
      " 0 0 0 0 0 0 0 0 0 0 1 0 0 0 0 0 0 0 0 0 0 0 0 0 0 0 0 0 0 0 0 0 0 0 0 0 0\n",
      " 0 0 0 0 0 0 0 0 0 0 0 0 0 0 0 0 0 0 0 0 0 0 0 0 0 0 0 0 0 0 0 0 0 0 0 0 0\n",
      " 0 0 0 0 0 0 0 0 0 0 0 0 0 0 0 0 0 0 0 0 0 0 0 0 0 0 0 0 0 0 0 0 0 0 0 0 0\n",
      " 0 0 0 0 0 0 0 0 0 0 0 0 0 0 0 0 0 0 0 0 0 0 0 0 0 0 0]\n"
     ]
    }
   ],
   "source": [
    "from sklearn.feature_extraction.text import CountVectorizer\n",
    "\n",
    "vectorizer = CountVectorizer(analyzer = \"word\", \n",
    "                             tokenizer = None,\n",
    "                             preprocessor = None,\n",
    "                             stop_words = None,\n",
    "                             ngram_range=(1, 1),\n",
    "                             max_features = 5000) \n",
    "\n",
    "# Fit the train\n",
    "BOW_train = vectorizer.fit_transform(X_train)\n",
    "BOW_train = BOW_train.toarray()\n",
    "\n",
    "# Transform the test\n",
    "BOW_test = vectorizer.transform(X_test)\n",
    "BOW_test = BOW_test.toarray()\n",
    "\n",
    "\n",
    "print('Train: {{0|1}}^({}x{})'.format(BOW_train.shape[0], BOW_train.shape[1]))\n",
    "print('Test:  {{0|1}}^({}x{})'.format(BOW_test.shape[0], BOW_test.shape[1]))\n",
    "vocab = vectorizer.get_feature_names()\n",
    "print('\\nVOCABULARY EXTRACT: {}'.format(', '.join(vocab[500:600])))\n",
    "np.set_printoptions(threshold=np.nan)\n",
    "print('\\nTWEET REPRESENTATION: {}'.format(BOW_train[0]))"
   ]
  },
  {
   "cell_type": "markdown",
   "metadata": {},
   "source": [
    "## 1.2. So, what's the problem, then?\n",
    "\n",
    "\n",
    "- Unseen words.\n",
    "- One-hot Representation: Represents every word as an $\\mathbb{R}^{|V|×1}$\n",
    "```python\n",
    "hotel = [0, 0, 0, 0, 0, 0, 0, 0, 1, 0, 0, 0, 0, 0]\n",
    "motel = [0, 0, 0, 0, 1, 0, 0, 0, 0, 0, 0, 0, 0, 0]\n",
    "w hotel AN D w motel = 0\n",
    "```\n",
    "$w^{hotel} AND w^{motel} = 0\n",
    "&nbsp;\n",
    "\n",
    "\n",
    "- *The curse of dimensionality!!!*\n",
    "  - Generalizing locally (eg. nearest neighbors) requires representative examples for all relevant variations\n",
    "  - The number of possible configurations of the variables of interest is much larger than the number of training samples.\n",
    "\n",
    "\n",
    "&nbsp;\n",
    "![Curse!](imgs/curse.jpg \"The curse of the dimensionality\")\n"
   ]
  },
  {
   "cell_type": "markdown",
   "metadata": {},
   "source": [
    "#  2. Word embeddings"
   ]
  },
  {
   "cell_type": "markdown",
   "metadata": {},
   "source": [
    "> You shall know a word by the company it keeps.\n",
    ">\n",
    "> -- <cite>J.R. Firth 1957:11</cite>"
   ]
  },
  {
   "cell_type": "markdown",
   "metadata": {},
   "source": [
    "## 2.1. Pretrained data using GloVe"
   ]
  },
  {
   "cell_type": "code",
   "execution_count": 32,
   "metadata": {
    "collapsed": false
   },
   "outputs": [],
   "source": [
    "import numpy as np\n",
    "\n",
    "def load_glove_dict(glove_file):\n",
    "    glove_embeddings = {}\n",
    "    with open(glove_file) as glove_file:\n",
    "        for line in glove_file:\n",
    "            split_line = line.split() \n",
    "            word, vector = split_line[0], np.asarray(split_line[1:])\n",
    "            glove_embeddings[word] =  vector\n",
    "    return glove_embeddings"
   ]
  },
  {
   "cell_type": "code",
   "execution_count": null,
   "metadata": {
    "collapsed": false
   },
   "outputs": [],
   "source": [
    "GLOVE_PATH = '/home/mgimenez/Dev/resources/GloVe/twitter_dataset'\n",
    "\n",
    "embedding_size = '25'\n",
    "glove_file = join(GLOVE_PATH, 'glove.twitter.27B.' + embedding_size + 'd.txt')\n",
    "glove_25 = load_glove_dict(glove_file)"
   ]
  },
  {
   "cell_type": "code",
   "execution_count": null,
   "metadata": {
    "collapsed": false
   },
   "outputs": [],
   "source": [
    "embedding_size = '100'\n",
    "glove_file = join(GLOVE_PATH, 'glove.twitter.27B.' + embedding_size + 'd.txt')\n",
    "glove_100 = load_glove_dict(glove_file)"
   ]
  },
  {
   "cell_type": "code",
   "execution_count": 38,
   "metadata": {
    "collapsed": false
   },
   "outputs": [],
   "source": [
    "embedding_size = '200'\n",
    "glove_file = join(GLOVE_PATH, 'glove.twitter.27B.' + embedding_size + 'd.txt')\n",
    "glove_200 = load_glove_dict(glove_file)"
   ]
  },
  {
   "cell_type": "code",
   "execution_count": 39,
   "metadata": {
    "collapsed": true
   },
   "outputs": [],
   "source": [
    "def get_most_common_vocab(most_common, brocabulary, siscabulary):\n",
    "    mc_brocavulary = brocabulary.most_common(int(most_common/2))\n",
    "    mc_siscavulary = siscabulary.most_common(int(most_common/2))\n",
    "\n",
    "    most_common_words = mc_brocavulary + mc_siscavulary\n",
    "    return set(word for word, _ in most_common_words)"
   ]
  },
  {
   "cell_type": "code",
   "execution_count": 40,
   "metadata": {
    "collapsed": false
   },
   "outputs": [],
   "source": [
    "def get_words_to_plot(most_common, dictionary):\n",
    "    words_to_plot = {}\n",
    "    unseen_words = []\n",
    "    for word in get_most_common_vocab(most_common, brocabulary, siscabulary):\n",
    "        if word in dictionary:\n",
    "            words_to_plot[word] = dictionary[word]\n",
    "        else:\n",
    "            unseen_words.append(word)\n",
    "    return words_to_plot, unseen_words"
   ]
  },
  {
   "cell_type": "code",
   "execution_count": 41,
   "metadata": {
    "collapsed": false
   },
   "outputs": [],
   "source": [
    "from sklearn.manifold import TSNE\n",
    "import matplotlib.pyplot as plt\n",
    "\n",
    "tsne = TSNE(perplexity=30, n_components=2, init='pca', n_iter=5000)\n",
    "words_to_plot, unseen_words = get_words_to_plot(1000, glove_100)\n",
    "\n",
    "low_dim_embs = tsne.fit_transform(list(words_to_plot.values()))"
   ]
  },
  {
   "cell_type": "code",
   "execution_count": 42,
   "metadata": {
    "collapsed": false
   },
   "outputs": [
    {
     "name": "stdout",
     "output_type": "stream",
     "text": [
      "resnet, ohbm, scikit, automl, nilearn, subsampling, pydatabln, icml, numfocus, uwsgi, reproducibility, pydata, sgdq, factorization, matplotlib, euroscipy, decoders, preprint, __past__, machinelearning, ipython, ngcmsummeracademy, scipy, pypi, brexit, datascience, joblib, polyconf, jupyter, deeplearning, numpy, sklearn, tensorflow, alifexv, pydatalondon, pydataparis, sparsity, dadaist, neuroimaging, print_statement\n"
     ]
    }
   ],
   "source": [
    "print(', '.join(unseen_words))"
   ]
  },
  {
   "cell_type": "code",
   "execution_count": 43,
   "metadata": {
    "collapsed": false,
    "scrolled": false
   },
   "outputs": [
    {
     "data": {
      "text/html": [
       "\n",
       "\n",
       "    <div class=\"bk-root\">\n",
       "        <div class=\"plotdiv\" id=\"585ba11d-b13f-4256-9a8e-9f76ecdda469\"></div>\n",
       "    </div>\n",
       "<script type=\"text/javascript\">\n",
       "  \n",
       "  (function(global) {\n",
       "    function now() {\n",
       "      return new Date();\n",
       "    }\n",
       "  \n",
       "    if (typeof (window._bokeh_onload_callbacks) === \"undefined\") {\n",
       "      window._bokeh_onload_callbacks = [];\n",
       "    }\n",
       "  \n",
       "    function run_callbacks() {\n",
       "      window._bokeh_onload_callbacks.forEach(function(callback) { callback() });\n",
       "      delete window._bokeh_onload_callbacks\n",
       "      console.info(\"Bokeh: all callbacks have finished\");\n",
       "    }\n",
       "  \n",
       "    function load_libs(js_urls, callback) {\n",
       "      window._bokeh_onload_callbacks.push(callback);\n",
       "      if (window._bokeh_is_loading > 0) {\n",
       "        console.log(\"Bokeh: BokehJS is being loaded, scheduling callback at\", now());\n",
       "        return null;\n",
       "      }\n",
       "      if (js_urls == null || js_urls.length === 0) {\n",
       "        run_callbacks();\n",
       "        return null;\n",
       "      }\n",
       "      console.log(\"Bokeh: BokehJS not loaded, scheduling load and callback at\", now());\n",
       "      window._bokeh_is_loading = js_urls.length;\n",
       "      for (var i = 0; i < js_urls.length; i++) {\n",
       "        var url = js_urls[i];\n",
       "        var s = document.createElement('script');\n",
       "        s.src = url;\n",
       "        s.async = false;\n",
       "        s.onreadystatechange = s.onload = function() {\n",
       "          window._bokeh_is_loading--;\n",
       "          if (window._bokeh_is_loading === 0) {\n",
       "            console.log(\"Bokeh: all BokehJS libraries loaded\");\n",
       "            run_callbacks()\n",
       "          }\n",
       "        };\n",
       "        s.onerror = function() {\n",
       "          console.warn(\"failed to load library \" + url);\n",
       "        };\n",
       "        console.log(\"Bokeh: injecting script tag for BokehJS library: \", url);\n",
       "        document.getElementsByTagName(\"head\")[0].appendChild(s);\n",
       "      }\n",
       "    };var element = document.getElementById(\"585ba11d-b13f-4256-9a8e-9f76ecdda469\");\n",
       "    if (element == null) {\n",
       "      console.log(\"Bokeh: ERROR: autoload.js configured with elementid '585ba11d-b13f-4256-9a8e-9f76ecdda469' but no matching script tag was found. \")\n",
       "      return false;\n",
       "    }\n",
       "  \n",
       "    var js_urls = [];\n",
       "  \n",
       "    var inline_js = [\n",
       "      function(Bokeh) {\n",
       "        Bokeh.$(function() {\n",
       "            var docs_json = {\"a3837211-2984-4fe0-9cc4-e38d9517ce4b\":{\"roots\":{\"references\":[{\"attributes\":{},\"id\":\"9b6091b8-3623-446f-8134-9af167465839\",\"type\":\"BasicTicker\"},{\"attributes\":{\"plot\":null,\"text\":\"Word visualization\"},\"id\":\"223ec467-3bed-4299-bf35-f5f700077b9f\",\"type\":\"Title\"},{\"attributes\":{},\"id\":\"410bdee9-5d4c-44c0-b4ec-e441597f202d\",\"type\":\"BasicTickFormatter\"},{\"attributes\":{\"formatter\":{\"id\":\"6535b34c-519c-459e-b1dc-8ba9715012bb\",\"type\":\"BasicTickFormatter\"},\"plot\":{\"id\":\"b1f6f32f-b20b-448a-abc8-22e5f013de24\",\"subtype\":\"Figure\",\"type\":\"Plot\"},\"ticker\":{\"id\":\"9b6091b8-3623-446f-8134-9af167465839\",\"type\":\"BasicTicker\"}},\"id\":\"d5429561-5ec1-458a-989e-ef525f1d1280\",\"type\":\"LinearAxis\"},{\"attributes\":{\"callback\":null,\"column_names\":[\"x\",\"words\",\"y\",\"range_words\"],\"data\":{\"range_words\":[1,2,3,4,5,6,7,8,9,10,11,12,13,14,15,16,17,18,19,20,21,22,23,24,25,26,27,28,29,30,31,32,33,34,35,36,37,38,39,40,41,42,43,44,45,46,47,48,49,50,51,52,53,54,55,56,57,58,59,60,61,62,63,64,65,66,67,68,69,70,71,72,73,74,75,76,77,78,79,80,81,82,83,84,85,86,87,88,89,90,91,92,93,94,95,96,97,98,99,100,101,102,103,104,105,106,107,108,109,110,111,112,113,114,115,116,117,118,119,120,121,122,123,124,125,126,127,128,129,130,131,132,133,134,135,136,137,138,139,140,141,142,143,144,145,146,147,148,149,150,151,152,153,154,155,156,157,158,159,160,161,162,163,164,165,166,167,168,169,170,171,172,173,174,175,176,177,178,179,180,181,182,183,184,185,186,187,188,189,190,191,192,193,194,195,196,197,198,199,200,201,202,203,204,205,206,207,208,209,210,211,212,213,214,215,216,217,218,219,220,221,222,223,224,225,226,227,228,229,230,231,232,233,234,235,236,237,238,239,240,241,242,243,244,245,246,247,248,249,250,251,252,253,254,255,256,257,258,259,260,261,262,263,264,265,266,267,268,269,270,271,272,273,274,275,276,277,278,279,280,281,282,283,284,285,286,287,288,289,290,291,292,293,294,295,296,297,298,299,300,301,302,303,304,305,306,307,308,309,310,311,312,313,314,315,316,317,318,319,320,321,322,323,324,325,326,327,328,329,330,331,332,333,334,335,336,337,338,339,340,341,342,343,344,345,346,347,348,349,350,351,352,353,354,355,356,357,358,359,360,361,362,363,364,365,366,367,368,369,370,371,372,373,374,375,376,377,378,379,380,381,382,383,384,385,386,387,388,389,390,391,392,393,394,395,396,397,398,399,400,401,402,403,404,405,406,407,408,409,410,411,412,413,414,415,416,417,418,419,420,421,422,423,424,425,426,427,428,429,430,431,432,433,434,435,436,437,438,439,440,441,442,443,444,445,446,447,448,449,450,451,452,453,454,455,456,457,458,459,460,461,462,463,464,465,466,467,468,469,470,471,472,473,474,475,476,477,478,479,480,481,482,483,484,485,486,487,488,489,490,491,492,493,494,495,496,497,498,499,500,501,502,503,504,505,506,507,508,509,510,511,512,513,514,515,516,517,518,519,520,521,522,523,524,525,526,527,528,529,530,531,532,533,534,535,536,537,538,539,540,541,542,543,544,545,546,547,548,549,550,551,552,553,554,555,556,557,558,559,560,561,562,563,564,565,566,567,568,569,570,571,572,573,574,575,576,577,578,579,580,581,582,583,584,585,586,587,588,589,590,591,592,593,594,595,596,597,598,599,600,601,602,603,604,605,606,607,608,609,610,611,612,613,614,615,616,617,618,619,620,621,622,623,624,625,626,627,628,629,630,631,632,633,634,635,636,637,638,639,640,641,642,643,644,645,646,647,648,649,650,651,652,653,654,655,656,657,658,659,660,661,662,663,664,665,666,667,668,669,670,671,672,673,674,675,676,677,678,679,680,681,682,683,684,685,686,687,688,689,690,691,692,693,694,695,696,697,698,699,700,701,702,703,704,705,706,707,708,709,710,711,712,713,714,715,716,717,718,719,720,721,722,723,724,725,726,727,728,729,730,731],\"words\":[\"wish\",\"today\",\"gallery\",\"election\",\"place\",\"reason\",\"plugin\",\"guido\",\"fuck\",\"linux\",\"wonderful\",\"path\",\"amd\",\"install\",\"us\",\"friend\",\"myth\",\"url\",\"etc\",\"excited\",\"board\",\"month\",\"soon\",\"conference\",\"journal\",\"glass\",\"strangers\",\"advice\",\"poster\",\"believe\",\"computing\",\"proposals\",\"b\",\"github\",\"accessible\",\"past\",\"linear\",\"psf\",\"twitter\",\"lightning\",\"programming\",\"old\",\"working\",\"online\",\"totally\",\"challenges\",\"listen\",\"super\",\"dc\",\"education\",\"party\",\"rejection\",\"faster\",\"link\",\"stay\",\"live\",\"police\",\"personal\",\"uk\",\"fit\",\"key\",\"role\",\"many\",\"keynote\",\"self\",\"product\",\"community\",\"congratulations\",\"change\",\"outreach\",\"api\",\"foot\",\"american\",\"little\",\"stack\",\"de\",\"like\",\"send\",\"examples\",\"isc\",\"project\",\"character\",\"vision\",\"deploys\",\"pop\",\"hour\",\"frank\",\"speak\",\"openaccess\",\"map\",\"night\",\"proud\",\"end\",\"needs\",\"visit\",\"x\",\"polynomial\",\"left\",\"using\",\"interactive\",\"fabian\",\"even\",\"birthday\",\"thinking\",\"see\",\"whole\",\"months\",\"get\",\"title\",\"saying\",\"projects\",\"meet\",\"mad\",\"feature\",\"hello\",\"make\",\"research\",\"find\",\"article\",\"workshop\",\"tweet\",\"going\",\"systems\",\"wait\",\"hackers\",\"academia\",\"issues\",\"tomorrow\",\"images\",\"maps\",\"thanks\",\"loss\",\"beginners\",\"front\",\"miss\",\"publish\",\"interesting\",\"power\",\"support\",\"results\",\"tickets\",\"analytics\",\"park\",\"unfortunately\",\"lose\",\"game\",\"home\",\"fly\",\"event\",\"performance\",\"made\",\"giving\",\"random\",\"average\",\"work\",\"comes\",\"went\",\"position\",\"canada\",\"optimization\",\"videos\",\"okay\",\"seriously\",\"upon\",\"history\",\"valley\",\"someone\",\"still\",\"called\",\"must\",\"submit\",\"documentation\",\"til\",\"done\",\"summer\",\"stories\",\"diverse\",\"baby\",\"machine\",\"name\",\"json\",\"tutorial\",\"guys\",\"speaking\",\"learn\",\"way\",\"high\",\"sf\",\"bad\",\"public\",\"yes\",\"university\",\"training\",\"years\",\"forward\",\"hair\",\"lt\",\"lawyers\",\"another\",\"though\",\"slack\",\"bring\",\"interview\",\"dev\",\"easier\",\"figure\",\"ever\",\"doc\",\"skills\",\"interested\",\"show\",\"lunch\",\"line\",\"model\",\"kate\",\"future\",\"top\",\"docs\",\"speakers\",\"release\",\"empirical\",\"penny\",\"chat\",\"better\",\"friends\",\"pycon\",\"hear\",\"free\",\"seen\",\"kind\",\"text\",\"example\",\"please\",\"teaching\",\"thx\",\"internet\",\"memory\",\"google\",\"c\",\"amazing\",\"book\",\"say\",\"proceedings\",\"hours\",\"seattle\",\"often\",\"important\",\"stuff\",\"cross\",\"without\",\"shared\",\"v\",\"instant\",\"major\",\"seeing\",\"locke\",\"sprint\",\"summary\",\"pip\",\"summit\",\"possible\",\"rt\",\"took\",\"changed\",\"unedited\",\"good\",\"update\",\"true\",\"control\",\"lab\",\"python\",\"song\",\"hard\",\"holy\",\"making\",\"could\",\"changes\",\"mmds\",\"dataviz\",\"toronto\",\"words\",\"understand\",\"books\",\"scale\",\"enough\",\"ready\",\"shout\",\"real\",\"reviewer\",\"exciting\",\"gt\",\"early\",\"open\",\"device\",\"access\",\"want\",\"program\",\"new\",\"wine\",\"build\",\"weeks\",\"head\",\"something\",\"know\",\"impressive\",\"word\",\"try\",\"challenge\",\"check\",\"posts\",\"look\",\"based\",\"form\",\"big\",\"full\",\"also\",\"never\",\"brain\",\"th\",\"getting\",\"probably\",\"wrong\",\"package\",\"hope\",\"wake\",\"presented\",\"starts\",\"video\",\"anything\",\"dl\",\"use\",\"web\",\"love\",\"context\",\"label\",\"multi\",\"languages\",\"goes\",\"times\",\"yeah\",\"presidential\",\"french\",\"things\",\"man\",\"stop\",\"computer\",\"mysql\",\"useful\",\"notebooks\",\"omg\",\"k\",\"seems\",\"fast\",\"repo\",\"post\",\"hoodie\",\"read\",\"thought\",\"ppl\",\"http\",\"always\",\"since\",\"bed\",\"year\",\"production\",\"long\",\"function\",\"days\",\"natural\",\"cluster\",\"longer\",\"need\",\"code\",\"software\",\"level\",\"life\",\"makes\",\"actually\",\"sustainable\",\"watch\",\"implementation\",\"explained\",\"mean\",\"gradient\",\"time\",\"ago\",\"less\",\"teach\",\"starting\",\"started\",\"trying\",\"thing\",\"first\",\"conf\",\"easy\",\"science\",\"add\",\"together\",\"logistic\",\"write\",\"right\",\"well\",\"looking\",\"indeed\",\"works\",\"great\",\"take\",\"piece\",\"oh\",\"guess\",\"used\",\"lemonade\",\"version\",\"sure\",\"models\",\"log\",\"haha\",\"yup\",\"tutorials\",\"single\",\"final\",\"running\",\"message\",\"go\",\"silly\",\"forge\",\"weekend\",\"register\",\"mention\",\"issue\",\"bars\",\"users\",\"taking\",\"may\",\"wow\",\"statistical\",\"others\",\"touch\",\"note\",\"coming\",\"heard\",\"py\",\"hate\",\"two\",\"far\",\"hey\",\"team\",\"ml\",\"dear\",\"l\",\"color\",\"side\",\"dance\",\"sky\",\"perf\",\"around\",\"test\",\"definitely\",\"question\",\"cs\",\"practice\",\"diversity\",\"looks\",\"cc\",\"user\",\"point\",\"lady\",\"neural\",\"spent\",\"course\",\"rules\",\"storytelling\",\"runs\",\"glad\",\"next\",\"tonight\",\"woman\",\"design\",\"slides\",\"email\",\"g\",\"image\",\"demo\",\"folks\",\"finish\",\"opensource\",\"sends\",\"engineering\",\"help\",\"morning\",\"laptop\",\"goals\",\"learned\",\"large\",\"minutes\",\"paper\",\"feedback\",\"quick\",\"pm\",\"back\",\"rc\",\"behind\",\"directors\",\"reading\",\"every\",\"papers\",\"distributed\",\"put\",\"red\",\"telling\",\"decline\",\"short\",\"regression\",\"ai\",\"vienna\",\"students\",\"files\",\"joint\",\"thank\",\"idea\",\"strange\",\"coding\",\"list\",\"eu\",\"due\",\"https\",\"written\",\"nginx\",\"import\",\"tried\",\"much\",\"via\",\"mind\",\"guy\",\"learning\",\"non\",\"wrote\",\"yesterday\",\"enjoy\",\"tell\",\"published\",\"explaining\",\"pretty\",\"matrix\",\"apparently\",\"social\",\"heart\",\"enemy\",\"case\",\"problem\",\"related\",\"think\",\"scientific\",\"instead\",\"give\",\"excellent\",\"h\",\"technical\",\"different\",\"simple\",\"award\",\"day\",\"women\",\"quite\",\"really\",\"provide\",\"details\",\"german\",\"lot\",\"introduction\",\"anaconda\",\"tim\",\"would\",\"material\",\"lovely\",\"audience\",\"p\",\"sweet\",\"conda\",\"one\",\"recently\",\"fmri\",\"company\",\"anyone\",\"classification\",\"computers\",\"country\",\"enjoyed\",\"error\",\"building\",\"source\",\"posted\",\"people\",\"lines\",\"style\",\"r\",\"machines\",\"happy\",\"talk\",\"literally\",\"feel\",\"schedule\",\"approach\",\"set\",\"translate\",\"july\",\"fun\",\"keep\",\"everyone\",\"sorry\",\"state\",\"tools\",\"closing\",\"architecture\",\"remember\",\"part\",\"ploop\",\"<number>\",\"library\",\"ht\",\"met\",\"might\",\"weird\",\"got\",\"questions\",\"reinforcement\",\"plan\",\"watching\",\"study\",\"happen\",\"vs\",\"pure\",\"app\",\"openscience\",\"released\",\"dude\",\"dask\",\"review\",\"htt\",\"paris\",\"js\",\"hail\",\"amp\",\"god\",\"lots\",\"experience\",\"already\",\"fine\",\"doubt\",\"francisco\",\"last\",\"leave\",\"finally\",\"third\",\"announce\",\"job\",\"tech\",\"join\",\"room\",\"money\",\"phone\",\"come\",\"info\",\"debugging\",\"hand\",\"family\",\"awesome\",\"late\",\"validation\",\"world\",\"pay\",\"wants\",\"u\",\"welcome\",\"run\",\"windows\",\"james\",\"git\",\"start\",\"movie\",\"talks\",\"intro\",\"_\",\"guidelines\",\"language\",\"nearly\",\"favorite\",\"algebra\",\"e\",\"mostly\",\"booth\",\"meeting\",\"away\",\"notebook\",\"data\",\"congrats\",\"updated\",\"datasets\",\"week\",\"group\",\"groups\",\"bar\",\"saw\",\"monday\",\"upgrade\",\"w\",\"available\",\"series\",\"features\",\"discussion\",\"networks\",\"pro\",\"analysis\",\"call\",\"viz\",\"peer\",\"similar\",\"yet\",\"methods\",\"thoughts\",\"cool\",\"deep\",\"qgis\",\"blog\",\"space\",\"powell\",\"generative\",\"int\",\"maybe\",\"best\",\"nice\"],\"x\":[-30.33335252275258,-21.458024563485434,3.5309011674519217,13.576711278200172,-12.272328239010527,-27.2737396341495,12.01973101705264,19.72597192316623,-34.807789775725354,13.66267446008935,-26.739986298854497,-11.073251153235782,11.672893994917603,8.607552451814243,-26.733279620318733,-34.24093594915978,-2.4908507707169014,4.69280829159614,8.153069445281659,-23.521714822133227,3.0807725517248463,-17.283210727289344,-22.06937765806831,4.6064416045047,1.8520774408058795,-10.098065639363563,-18.56489518302135,-3.0634236464859947,-4.366925233235956,-32.14223847572503,9.027095743683512,14.279766323272083,7.685167088370394,15.022895628758697,13.313599319505926,-19.15004386997181,18.158289348886157,18.7762504794115,2.4220008391498604,-11.595139725681374,11.958906116898715,-24.256379127403083,-18.985855441486887,2.846659400640872,-25.63726018189178,-4.363933226222463,-34.20663848547955,-11.928148690695842,11.561476339489408,6.772134494786704,-19.019293494289983,-0.7601239064679771,-16.078076195477006,1.5675022756914136,-32.48498316711354,-13.35517592937402,3.5342277054592524,-2.0299344467257896,-5.384926244768362,-12.067251367095661,-8.993941476281298,-6.865876686069572,-23.774949448891043,5.946407208376835,-21.30055716913118,1.3216535492507715,5.465670603612956,-21.007218421659065,-12.587449341095073,6.8663668945259335,7.553676770542659,-14.369291940825462,-6.546135247988783,-25.209378254395414,-4.879756300688739,4.650710970121045,-29.239282690008434,-0.6206624746154772,11.528841589931881,19.217697381270675,5.975719025976751,-4.858771433847155,-3.281857410940022,19.358848434612813,-10.11723182477409,-14.51959963429336,-12.195238290007028,-4.708784107282771,16.769067173568413,6.832213660177901,-21.87575913565643,-20.71424763101838,-12.318283301494608,-32.384205784236336,-1.6263524370650448,7.011524160141501,20.622745120017576,-22.29321506938073,-31.333822954789973,9.634976399040942,21.08640032301882,-30.564587371781133,-31.223345034684254,-30.979417568978857,-27.7746484403312,-20.67237195352257,-17.65852007833865,-24.581893188829287,-14.421943190968644,-31.364203429806768,6.431476170756181,-14.336341298216299,-27.429525921019845,-2.5923523697645767,-24.336555499463923,-27.806865360557595,8.575977636329794,-28.248323474754013,1.3104794447298884,6.231461011240113,2.148918352959423,-23.388879180744002,9.275687736157785,-23.28790099130571,7.790318579528188,2.4716498485746934,-4.200790732930169,-20.76433065839877,4.3325464432459695,8.204634349164872,-22.314959394191337,-11.60880482171804,11.518613347800404,-16.578784692146005,-30.261766160965472,2.0216953989308792,-6.259183078306126,-9.114536946279754,-16.31557112995534,-5.256997019614154,-14.987582984876749,9.56899150985381,14.243991524657025,-22.114935351691802,-11.894172919785754,-21.226269846886346,-20.501212590765064,-15.578497771924216,3.6581263505167896,-0.9937443415090769,-29.124521747816168,-25.60143005882425,-20.44592736249323,-17.93438487566239,-20.24372286292391,-18.900196223600805,-22.144708651934064,-10.664070815056537,-5.306054299080474,10.186493469319238,-1.9922612981233627,-28.768243867804305,-27.72548355002833,-6.2488686778746585,5.914681830727288,14.093203142199693,-28.75860610363699,-28.51084084280641,-32.2277833260697,-27.72761728324554,1.2360912013489083,15.554721158134518,-22.943788580633026,-25.342049634768767,-18.929094494812194,1.6379881556131086,13.586517955253212,-29.94544960447872,5.3264228477909015,-32.31218958714499,15.784980320520893,11.907815988882618,-31.13442035896918,-4.525123513372472,-0.7183066716400279,-22.439128517217533,-10.027412792878062,12.138137374186384,-26.702813412682804,4.39911556316029,-28.278368382545047,5.273194800211849,-6.706351941438651,-18.340486859284013,-17.180032297423114,-28.195479704386454,8.21545807800861,3.3168802080134023,-21.147766073223814,-23.002215938557832,-5.794639072993604,-26.54013742224468,2.7923278150738096,14.441245468686184,-17.141884066690203,-8.120659849939491,-29.95623868925821,7.1769069759725745,0.326712807211081,-12.423401525157592,-13.244062411436264,-18.805265532051497,-12.589621237742897,-5.59899148362802,-6.6414617802802365,-20.484739172439212,-11.39756311021046,2.9261762374585776,1.4283604557750529,-7.91771907434636,17.719603444619658,18.28686029370001,2.065369927048988,-23.255211824137035,-34.125105376949236,18.080060443467982,-33.8095455826286,-2.0532753036234324,-33.27649892372349,-24.465991459883952,-1.2058175846055081,-3.2382453650629817,-18.133792873576187,-0.16542445223061875,-24.04472960366758,3.5363136863634783,-4.992118715005051,4.895361878641836,7.585777336402204,-26.092976744913393,2.3731794317577175,-30.06846363295094,15.303949753326716,-17.12803382405024,13.641984751155896,-20.26207826473125,-9.81486993568304,-25.277235921154432,-14.221979992196733,-23.54267333814693,-1.8823527771176112,8.568300435508384,-3.8251299707253197,-3.553458194083049,-32.06661642741226,19.822414540204058,13.856428078334428,10.909909869023146,17.64411652895933,6.680550538264911,-9.834173370762429,6.921394432179214,-24.054060414782846,-12.362992555660151,19.700186082692237,-24.883606010795784,1.2253996644679392,-34.00951476051744,-8.821873378225714,7.764781688721261,14.365483740313072,-7.732580464920148,-21.545302468305753,-26.849548899197792,-28.933131725479576,-28.411734221891145,-11.685161777602106,20.046186869356973,16.9393703779486,14.555414375521565,-6.411765109592852,-28.802164941375874,2.3722569022485915,-7.841505717225533,-22.43143378678009,-23.107037870783632,-22.54742941038364,-34.48571616849791,12.19328856915886,-6.449099654173834,8.286004728431593,-20.34837179502268,-14.438376392878403,9.278992019259459,-0.7876158887517392,-28.47289565761447,5.308324794886526,-13.01496296698698,-9.932397185804387,0.40354894996410445,-17.657892295908912,-16.015376382312162,-28.730291160928196,-28.99542185049755,-5.718934837851617,-6.928981655768431,-24.80666154133415,-4.743696267736835,0.9407274254796092,0.055972253455968346,-26.96649872133896,-4.083724438885636,-7.110349331963572,-12.517106080261005,-11.079148668910587,-24.504874427525735,-30.213880322480744,-16.31994679061779,-17.32868955529485,-24.225750175120883,-27.468517249872832,-27.291815862851347,-0.8523810589723594,-30.229709198199842,-20.979976250994646,-0.3545177077556991,-15.750153386375784,-1.4917337127687293,-27.728954362696275,8.930341894686352,-30.690942031691456,3.143789976608876,-30.73089976608116,-2.5096327359266835,-4.632370614090204,14.059689161462511,-3.2803163549899494,-18.435145643029614,-18.637060887744962,-28.025188935993903,22.197453709890617,-3.961819530960601,-25.704039934156377,-35.926388945421,-32.56591140262967,9.329804249864965,15.19710094470511,12.01353890235421,10.796259582682561,-26.95072583638705,5.930986286618838,-20.510625893192195,-15.423805146941296,14.598557287424374,1.089100814263715,-12.112531533089038,1.931506320011938,-30.60735752632995,-24.1229227413516,13.184687042292847,-29.209164880928935,-19.558915538232142,-19.597349064810608,-18.906555223314264,1.3059106840922203,-12.524439273760963,-7.004758451880995,-18.283048408004635,-7.508308084603451,14.953519104017454,-17.8770933385514,-27.072940400707566,-2.696918779972522,9.692444064752225,-9.768780631665969,-21.220497914219898,-29.0309445873245,-26.688723357987318,8.051113955319089,-27.983910301491424,14.719252896474888,-2.5183069448802997,-29.053536137040446,19.54694057123412,-20.403513437793965,-18.81705653959375,-18.22874527829233,-0.5942003487172417,-16.183435777977625,-21.081415356112505,-26.166460918650856,-25.861273838448067,-19.68796039416453,6.152932046841355,-15.716052371437836,8.596084469191021,1.0997509994771453,-29.581148142116266,18.270172113351215,2.16942499307553,-22.775919611094356,-26.343581276886077,-26.76618935640256,-21.56604415548436,-19.914929246903494,-25.56790061607922,-24.54569370388819,-9.482718953030613,-27.507456416484963,-24.51568690915466,-30.85775972245757,-9.388740294096792,-6.507078215731911,-24.47535477097761,-5.365857876477026,7.883829801924597,-27.756873397843744,-29.02973119102376,12.143828632159565,-17.94300745705988,-10.174306629906551,-17.88354304351015,-0.678059602639029,-24.550573096124065,-21.045091610516153,12.743902370579178,-19.928335156771013,0.23876672039689684,1.396253672626167,-3.3795194686096495,-10.541491771015172,4.744036485474334,-24.977603737714652,-25.092646970863203,-27.240634765140666,17.137337213981226,-25.629686759750307,-14.901914943098806,-5.528254831832272,-21.909147390498777,-33.28640184679417,10.13953180721018,-30.206095214685313,-17.155086226665166,-21.56866286762221,-24.601474127145234,-15.684504576254492,10.342061411105657,-24.813674541743936,8.102647510475169,-8.044703407098362,-16.519241532465454,-9.558415122414283,-10.860281786944638,6.609430907032693,-18.489873652048495,8.722383534112646,-28.536830260810092,-9.078482591956194,8.880832102536317,-6.877027500699453,7.270379533617991,-27.059598428171515,8.087781985434471,4.367303677964002,-11.555992411907857,-10.041925468585866,18.447395302775593,-15.058311147387723,-12.548797637559845,-3.7486606164427254,9.915040577385735,-18.065486781880896,-29.455262308391593,-20.319032383004537,-21.423484642145763,-14.648808074387642,8.172826940431372,-3.7972984400663807,0.9214007841640628,7.60398510663434,2.2322225906626496,6.857248508817106,-23.994675225992623,-13.481820549312003,15.707060330059283,-11.663388765825008,9.038536796846316,-17.941788934929367,-22.5451270605833,10.700017473941832,-8.269808027950672,-1.022974230372992,-8.882517419722841,-16.56075005471364,6.553106091997307,-0.4122711543756789,-15.52818581372824,-16.86060553393216,-24.705872924293775,11.247621218687572,-17.37260644315885,4.0336094728543745,1.4719972978772462,-20.827203904212045,5.3672224951361365,15.078905150015805,-27.192143209371284,-9.717944705465202,-31.270814341995184,-1.2292080804757686,-12.507579810866421,18.09548124913464,2.2776064539357668,15.396536000021637,6.27196734505514,5.524203753321418,-5.121910334981863,-23.774222136723907,-7.9225320170024265,-19.875852987143926,13.412489862347098,-0.3398911539672899,3.634751873302356,-17.837309575803793,13.443285875076414,2.826686496587134,16.486071161741005,-4.479968224418291,-26.46814534098172,-25.42297274705568,1.5753416614730056,-17.05686899377158,-35.42136725230679,0.04651042188488383,-14.64044113080628,2.721583480280061,-20.332333332875955,-27.698563131101963,-30.358440617531446,2.6696322271470168,-2.770205935479045,-27.097395032250734,14.178778552620479,-23.034206327202913,-1.5798550719289515,-31.199922359189536,-9.151841428040553,-4.515074062475561,-25.383530240272307,-4.788537249954873,-29.038150026212023,17.31315733527731,-25.456907507362846,-26.285125241671423,-0.9453477829295176,7.8997980238607095,10.250132319587694,-22.78769238324401,-3.602937166895783,-1.5906060380678884,-22.197452146318305,-14.614469918788194,-19.891219482698048,-27.95035858248509,-0.7134972637379273,-1.0853388495524177,-3.992674413298626,-21.342972495545773,10.700724001516726,16.649141574600833,-11.041838287114935,-27.412819886085373,-3.1225385919817645,-26.973418265044206,-0.7561625055199995,6.150023238047071,-28.779728738832517,17.391827776700456,-22.03851071259279,-13.026753504307,18.125633353159955,1.6720658339611782,-28.770611343067838,15.850705749128037,8.784392585622335,-6.703018460888145,-17.208612457822248,-3.130959286892733,1.4327705261177681,0.6673149205690693,1.1219713878209907,-24.62547852788024,-12.70650278997678,-9.902141640213047,7.594822641537045,6.870401985389417,-31.115987183008635,-30.335319182963286,-26.162683488356322,-27.99297382083819,-6.66578934395058,-2.4938307884098405,-11.249657234352005,-3.485267416379841,-17.428526176140483,-27.512652082507035,-32.47257491122517,-31.146460039810346,-28.42458732522497,4.691794327714673,10.231675753399381,-14.471410970152718,8.463540412117771,-30.904768510812925,-11.845010300274552,20.878931077683298,9.231260869655822,4.633646151728035,9.973393370327829,-20.93943451660176,-26.973905888524282,-20.187198886157496,-24.027849889830904,-7.406887208526922,17.393536886369123,-8.080295547667808,-28.03043221354397,7.697190342255633,-27.221296099343448,10.694983233103798,-15.427020059899649,3.8234690056856095,17.196654040246898,-6.614801896313191,-35.43613035137558,20.350419930048485,1.4311685672455579,13.240667240332415,4.333523537255194,7.837947733954027,-12.490747782824458,10.892294749080797,-33.73666717252681,-23.211947751335455,-3.3664583585514967,-21.90974194434519,-16.1950216210924,-22.975826843608434,13.617808844923797,-19.767027848977815,-23.44942700865978,-22.1744401420309,-15.326032811857965,-7.458364212728813,-10.373266662447275,7.401524511512532,-1.4355201423787787,-20.061618497252717,-17.84632977798487,-1.5204603619633608,-25.757418257184195,1.2347193558625584,16.160806345480996,-15.24014129361749,-34.09370534599141,-26.240542648923682,-19.966017057779194,15.106742471255462,-21.464445211097402,-18.79385193369001,-32.973929966905956,7.658750024977027,-23.46965352418187,-13.8261971358774,10.01329642834481,-11.885560890702555,15.09004678189151,-16.12614973949333,-27.631035757646824,-13.050045443972119,-5.614999470674852,6.601206400677121,13.819589379765807,-3.5339023618239405,-15.442879245436982,-23.7997672225438,10.179357923265789,6.194072098270517,-21.37455529800504,3.253826495262977,2.5389412828353084,-22.928043931939634,10.990412218520298,5.604037569017714,-21.085060748752262,0.6496114367160368,17.423117601659165,-19.674500413581608,4.1526751512015,1.9093656023192926,-10.623487523098943,-33.49171641847551,-19.947559386441412,11.507814600159925,9.37010078729383,-1.5207226520587882,-9.743575277507645,4.656644626995616,1.6406039486802968,8.261788893768596,4.844157122297685,10.814702223940566,-30.95028438011316,17.38583978448362,12.830407330645386,-6.214684068525594,-22.59457871078396,13.02919845278994,-17.40254096875171,-26.184674377856705,-16.81561633349645,17.99743245273905,0.8259978666754251,-10.559346827372398,20.285847806343124,18.725086256894826,12.537100252858128,-24.63406208060332,-24.25711222438745,-26.140804950979994],\"y\":[-1.6066758881573568,0.2807232556617037,-5.777207357155991,-20.566238451933437,-13.33990045649749,-20.82138495127411,-4.5723323723297105,3.0982508120652943,-14.554942465503611,-4.272005030346656,4.888158097857092,-9.066570134423214,4.730149546352826,3.949475946225165,-8.35840877546695,-1.888785724134432,-18.660606009338654,6.264600403651065,9.538445993212282,-3.402093167202839,-10.100030957776058,-1.606753907575036,-3.999934146520418,-7.711696134883314,-15.399630765914901,1.2422778599921345,-26.97126769212185,-17.270029789607378,1.4459145669342734,-14.264830053389609,-6.272569891020408,-11.70527333698396,17.932035211132664,-3.4129247071427042,-14.276073544154446,-9.408274436160093,-8.627071366176498,-2.2892635965662143,7.202690254046646,3.205789578604362,-6.842169390859771,-1.149932722006901,-15.164252143252682,2.7907065096812924,-17.476756164098312,-12.121688958010617,-18.8706712281937,8.333831655175526,10.306306188939306,-15.584549956196629,2.599533232028913,-18.18260122809234,-19.258668880606077,4.627426220537403,-11.03652164486842,5.136267236747035,-13.845970703983898,1.0993000847022194,14.929425618199662,-5.543408404636877,-7.931084948483885,6.4978758374510095,-23.971921735387934,-7.270433414567218,-21.248062212050176,-9.034961141574739,-12.793847624534386,14.924522962723243,-23.15838740267762,-12.887231688553403,3.9725062691198003,-12.784684757979452,13.649074549356511,-0.7233401906867276,-4.662933842959012,14.647485913177265,-17.867379475172395,7.254421922961774,-13.464112194452326,-1.8266361122096604,-10.48294182602876,-15.639090877429402,-14.242851350136732,-4.642393801339757,7.07463426828026,-1.8080720021354746,19.200912894106025,-25.89490399992309,-3.922260964461029,1.1410353389744556,1.9064097507907678,12.955065086424614,-11.967906135659288,-7.5963135462268685,-2.1291750111789876,14.99614048850413,-5.8960929308611405,-8.918566085427676,-11.973061878307332,-8.892721715285381,1.652183002790847,-14.509339059187754,2.9993993354864044,-16.773798710526414,-7.301020268638312,-10.474645676486883,-2.143164393489047,-8.338464374952515,-3.5801750323684822,-18.391198998995694,-10.979567321051915,1.053842968646856,-19.689659647506218,-6.662899138195427,10.003505121899195,-11.59812085789924,-15.996868345437402,-8.613864882305199,-14.767417801389847,-9.454840253585564,7.688378340395139,-6.467682777211411,-4.968642233113302,-3.924908661214493,-0.6350087766719514,14.163209684362327,-9.62627560231235,0.7285903834924934,-4.59116567305541,2.072825101355558,13.755599537008361,-19.009477939408953,-7.639921505289953,-12.21039492837455,2.407220107286164,-3.511952961886285,-19.640133295090365,-7.28182717255567,8.986346973956037,-13.366235534118236,2.2234445363274946,-6.609122823810677,7.429989108992243,-17.88817250734601,-19.041220682568273,-2.088206221628807,-7.778619601850623,-8.856653014987007,-7.425917922793347,-9.06091499580672,-12.379341660616202,-10.84431134274999,-24.926239207859716,-21.11721769122054,-15.528912213207214,-11.043657658535908,-7.749848196255953,-14.537554142749586,14.997898203535657,-7.015860945902252,2.8251071035163116,10.691213908753385,-17.952634698794974,-15.701006988820716,-18.832364280199016,7.391996604941419,-24.121393313587944,-15.211764334558536,-19.239803218855275,-14.182405947032178,-3.3906331295491596,-9.231938356926264,-1.9220248514185323,-2.9919590768852116,-0.40888477068300355,-18.786254752983034,-14.961263626288122,4.150567474139997,-3.176958708694672,-20.07915377459831,-5.7921175398606914,-5.903159708089,-0.44497734839988673,-25.805110505011985,-27.163438964699665,-13.687817056018428,-12.174818503001939,11.495844306175151,-19.593409916021734,-13.839461561022263,12.508954681209007,-16.304506277166563,-9.520251408409747,-2.861953966558341,-5.987031575841445,-4.926936579601407,10.706942722883747,-12.637150590931823,-9.818220102035017,-15.49975557232418,-6.202435423324053,-9.1515195974681,-8.285824466516527,2.9033292243951854,-19.16464305824909,-14.378408617099582,-14.286046143420382,-1.739317447090648,-24.606711425553083,-26.112945573320253,5.29354023755976,4.5552574031978095,-8.457757329868043,-0.5309357297751863,0.3648955733657844,-13.18981434479623,7.798842864126906,-2.3308490330990064,-5.801286709025702,-1.0862992079668456,-10.492596193121736,0.3817516962012579,6.553897699315118,-13.404243902346673,-1.8621404794828276,-2.210151155502807,-18.53633109342457,-3.5041088061297927,-16.792570626656786,-19.014554249248285,8.304120611239261,-16.267628636365565,9.222727538206819,-25.62144827539203,12.663251456315908,3.4319076675895928,4.618817450477483,2.6165056813444276,16.261669541951374,4.2889879928665104,-19.76160497392676,-19.552831730511848,-12.004490440115543,-0.7689342572943983,9.681663514893117,-19.73938862075205,-21.51368262368661,-22.780500830864536,-9.918164928992033,-20.3590639706068,-13.425735105684353,15.927164563502583,7.1165571267965,-9.423402307802135,-16.04903043592218,1.5742645478814172,4.907894501975995,-10.675047374514701,-0.41303906627137876,-8.26376106095716,-21.374462538298243,12.375703404027782,-11.247774241039568,-23.409724762923815,-9.687583381659337,2.623198241329833,-0.32388128281755746,-7.735366101339516,-6.76901968440943,-17.123168078783404,-5.3919836738739955,9.228384884987742,-14.231659066058123,7.269175002387059,-12.170049166432937,-13.939867160241105,-23.228285373100086,-3.2644620132256805,-4.367330603871787,9.69471458905009,-26.301292646824436,-21.126988570043878,-19.64436787579957,-14.129847529512228,-20.580996853707408,-4.57138157968525,9.953363781772243,-8.332408977475268,-9.996373959891951,-19.793592594970466,14.121669318008252,3.599545192027902,-7.32572769090162,-3.7228095931188165,-12.103150959262836,-9.852254115817406,-9.73824370871322,-0.052594055085811574,1.3471081889521717,-11.938619611199856,-1.8228662709208794,-12.817663013797555,-21.80717558115164,-17.932474029281224,-19.349105097035284,-26.478113739560072,-13.4975274668585,-12.042622418556334,-1.789790152274916,-0.1467900999029106,-4.604116374025807,-16.0665620368416,-12.275112074737194,7.118012995743944,-5.444034710088675,-17.86420084803429,-14.645675964741354,-23.970716322258735,1.1232965630895395,-8.085414216783706,-15.982523178029169,-20.988483786933084,-6.486698342335808,-2.1900647924158205,3.7738137948122863,-7.828329376646241,-5.699892126454621,4.19725579562013,-25.181543104412032,12.46613200145249,-10.140359691845722,2.4628194470125893,2.827691116352277,-19.85896759054666,-2.6973934500510808,0.14197766601701917,-25.416716541109572,-10.951711303618156,-5.6602558790741115,8.961325358166523,-20.31017269066328,12.829346368986721,-21.543896126597065,-12.113964683118002,-12.47515556281044,-0.5649457443960086,-5.372958875261996,-14.140090327841033,-1.3679897595424362,8.938527650930771,16.591129279697007,-18.341950843686256,-18.64724411204439,-2.2782344438648594,0.5578525725162088,-3.8187848703933813,-21.2233350633644,-16.333233602967642,-26.04699616679097,14.125787638119773,-15.359399308154327,-4.679968694413536,-7.7405999666852745,-2.267922386929514,-9.35399439351783,-11.092050998300603,-11.88581732630813,-1.698494358358119,4.041609036343297,-0.7486532665136153,-19.92474374873715,-10.831179327813915,-4.907180231270091,-4.453743613035916,-12.68184369876417,-12.776316109063513,-11.718475326942082,-16.88748229827568,-13.537140713020792,-1.0629744517969602,-10.399447896535385,-20.04189017080113,-19.08060452557469,-7.557869000130075,-2.506523416913903,-4.380597584722029,-20.436423944444414,-26.397122877543772,-6.0955435748776825,-6.478331396686289,-12.661372397466412,-19.028253675027585,-3.22487645758657,-7.693919200292637,-17.701113922957568,-17.957202151609557,6.011980334247056,-7.8053639469443885,-3.230495685853784,-21.72697050649992,-14.52991096431842,-2.3252769124638766,-5.114394850897615,-17.505678673211996,-15.993172842415476,3.534281404583747,-9.110787877059014,-10.334603216940907,9.426784401720948,-16.50354345248172,-10.73567927068389,2.0296560739319505,8.914038743619468,-16.212315484311578,-0.6259550065695524,6.18792151381588,10.736375559267575,9.726476194413676,-6.174372212819995,-8.760243631426846,11.18879866445086,-9.962879203490944,7.247494451663635,-6.336716516883777,-23.331015274706886,2.125196102054943,-0.14448612197343946,-3.071466154652544,8.325537423270081,-8.563831995980724,-1.400379641252097,4.56354792990686,-11.752014559751045,-14.708683194714448,8.91998923928201,-10.363723108928415,-24.88356933670261,-11.406775052088914,2.012013880603367,-4.275238888918893,-17.908107808243773,11.895736155354424,-22.588883385369503,-3.9798420681936575,-15.918629816954246,9.44657892491677,6.595351697095677,8.149181935533631,10.941045304898205,16.592465785873518,4.295979732171101,-12.834949070029953,8.108634601551088,3.932915604685652,9.602434922070184,-12.580399201916782,-18.720319826773476,-16.52044333326891,-22.83228029319725,10.800260134890163,-9.374315890266923,-13.07678636806383,-4.480570224704012,12.055702173437037,5.055692243133211,-13.356853554594833,5.674470246278375,-7.416420726345202,-21.564792102994463,-14.501301646497765,-11.284743479014026,-9.03952658937749,-10.068989078497673,-3.155392721909516,-3.2251495336918548,1.3771572089729518,-15.316162732664335,-10.896749798130037,-6.676745532980399,5.000779789200611,15.309343846556558,-4.743583364577403,3.436728864051269,-26.226232663059214,-5.087057494048613,-4.586812389291397,-16.841722126308557,-12.24498006484521,9.14187603735534,2.366951180725686,0.7643180295014542,-16.866893942965756,-27.574733291115077,-9.91533912944365,-0.2301094374825794,-21.05313801026837,-13.739757145744099,-17.805327102113804,2.103626412829211,-5.745212045215648,6.4803055916690395,-12.198903922719394,-11.245791864610911,-20.81913366839323,-10.511043208485802,-21.01483037008893,-7.580569596561959,-11.037948413254414,4.896175185992592,-18.288283012241422,-16.514846009790425,-10.852519781036156,-8.516936124133263,17.035534631943353,10.193793000893967,-15.731374511711097,-0.7474884043796075,-3.7067323868775235,11.859767663240872,-5.389753142913457,-23.81216226866736,-9.448829878781929,-3.6100415097560536,16.8321954101516,-7.13536096941503,14.005206887418032,-22.283760064540505,-4.977686133914023,-2.2719626509210777,-12.367759957020635,-21.813011034208053,2.788744981811847,-23.788897686916574,-12.902074413241545,-25.40744923430414,13.244795498714156,-22.301932582881406,-5.278601695004907,1.886981698369857,-19.854888448086637,-3.0182980701244926,-21.511247310038726,-3.7383679123127016,0.14976767721087333,-17.481137309654503,1.4957769601395696,-6.648392950352468,-18.350392051146965,3.014703225845727,-19.93838734305319,-16.94821638635608,-20.514707456590372,-11.158087758872634,-12.284900424500265,-11.995163185697741,-14.950288106364146,16.649360281524732,-12.060101826188223,-24.191352865850185,4.5655235002195464,-8.858398942690119,0.6663574834046938,-15.36166991921832,-18.141223435125827,-17.64513546985237,-12.59647294978567,-5.5224281010502505,12.881889144245026,-22.55471159568551,-10.039212029815092,1.38342236015061,16.834255403225047,-13.23449529735896,0.5316554711879249,2.914943848411301,-9.048947601068319,16.427620222593344,3.752904763699685,1.9816034226086277,-11.206699984804475,-21.003793739615723,-5.199760137855278,-9.939868660069923,-23.298707384794803,-9.250709326216688,-1.479065081879249,13.63227879233598,-16.183257162527017,4.768457429263209,-11.423050619451661,-14.616625838276565,-0.6037913858698079,-24.899427853951,-8.481044697530889,8.05704670762508,18.064792084626177,-1.5047721265498328,5.556041308673294,-20.26548061816832,-16.81261411556451,-18.474852963569063,-7.826511593757061,-16.091176399169367,-5.206075700858747,-24.44026010976923,1.3779978141745974,1.7846949119720563,-11.335801470740812,-2.8916333832680836,10.606570801807568,-16.840633307439028,-5.292656610160451,-6.852206222125153,-11.425853219165395,-15.530115645448314,-12.488458651035128,-2.718315523431787,18.033226975614944,-15.016724758700695,13.429076860328989,7.163463597958538,-16.034185737469645,-23.983306511686383,-8.200011140235995,-23.075084217812645,-7.2575845487686665,-5.622472031382796,-1.0476997707542237,-18.103400312143485,-22.091016763898182,14.134448472182937,12.880410265336277,2.75522008476426,-6.363634453455829,-5.698929437081762,-12.911588857959025,-1.2132772276297223,-7.650188118957228,14.233755524299585,11.428199330705326,9.997077079655373,2.8644043629201166,6.663390666376109,-5.778299086490598,-22.832156399153877,-14.887700331999339,-6.228902677538098,12.594042237662757,-18.59540573540269,9.825098415215828,-2.9774319514475076,-10.024671733958643,-5.795787339042109,-3.9369945818172347,-2.4827649176500723,-15.416233216659913,-6.566648663714684,-2.418720997585229,-8.087185884152179,-15.24955976418539,9.197050934891836,-6.826350624323154,3.242735324248984,-7.162737902625064,-12.007425142462937,-0.2349059624348408,4.658354244523098,4.350296950484346,-9.29007664983623,-12.156468311848563,-17.405563435023694,-6.842236325606268,18.384679831498524,10.095634480280973,-11.43668202487121,2.817687581462946,16.73661707013973,3.2092111170831026,-5.38078429968748,-0.39493266682986455,-16.926579927121256,8.99131977793904,13.165016958813055,-11.723906986238266,-25.307424746182985,-21.4519600790413,5.163212158213006,-18.450910504285655,17.93350693486639,-19.066228798727995,-6.837069469856894,-8.856800033072767,-9.718236307564263,0.7285475999267761,0.517139710674328,13.294321815465933,0.07160655682134665,-5.231889848168632,-0.9320494594999794,-11.090435411981234,-11.933703442624685,-1.3609896379122264,-16.252506284355672,1.0305102959158505,3.3192486867818793,16.55191041727039,-4.6477916531364905,-4.108583199349124,-4.534028334603348,-13.97756710444135,-2.889082863908462,16.294591044425232,-11.512798215982965,-20.723226490551475,-1.5062029960290266,-9.449740246862858,-17.60882919574365,-15.800517032199306,-11.917819226529693,-24.043272043739734,1.2326729178403228,-14.12994707086305,-4.353081427183605,1.439372712064419,-7.298572276103687,1.748345151019228,-6.045338224309942,8.97407668254367,-16.261312084687674,4.542152702845019,1.588110342012846]}},\"id\":\"5d6a2dde-b9ed-4bcd-8733-3b16ec157d7a\",\"type\":\"ColumnDataSource\"},{\"attributes\":{},\"id\":\"1790dc5a-bdb8-4948-9875-9473d04f7489\",\"type\":\"BasicTicker\"},{\"attributes\":{\"formatter\":{\"id\":\"410bdee9-5d4c-44c0-b4ec-e441597f202d\",\"type\":\"BasicTickFormatter\"},\"plot\":{\"id\":\"b1f6f32f-b20b-448a-abc8-22e5f013de24\",\"subtype\":\"Figure\",\"type\":\"Plot\"},\"ticker\":{\"id\":\"1790dc5a-bdb8-4948-9875-9473d04f7489\",\"type\":\"BasicTicker\"}},\"id\":\"c206142c-3e73-45a1-8436-afd893f7a300\",\"type\":\"LinearAxis\"},{\"attributes\":{\"callback\":null},\"id\":\"60c9134c-d063-4f2b-b205-91654224f830\",\"type\":\"DataRange1d\"},{\"attributes\":{\"active_drag\":\"auto\",\"active_scroll\":\"auto\",\"active_tap\":\"auto\",\"tools\":[{\"id\":\"8f152a88-403c-4433-a759-29cf9738be9b\",\"type\":\"HoverTool\"},{\"id\":\"c4b2063e-d82c-4d4a-807d-e3edde3efee9\",\"type\":\"PanTool\"},{\"id\":\"870c9eae-f903-41ff-9641-fba42f2cc1a2\",\"type\":\"WheelZoomTool\"},{\"id\":\"39c5523b-9009-4146-a195-20986d6af454\",\"type\":\"BoxZoomTool\"},{\"id\":\"1b462646-0e07-4418-b7a9-2f39a86df074\",\"type\":\"ResetTool\"},{\"id\":\"96947490-eb98-4aed-a6cc-3bfde4e2aafb\",\"type\":\"SaveTool\"}]},\"id\":\"2bf00abf-508b-418b-9cfe-380036c957ec\",\"type\":\"Toolbar\"},{\"attributes\":{\"fill_alpha\":{\"value\":0.2},\"fill_color\":{\"value\":\"navy\"},\"line_color\":{\"value\":\"navy\"},\"size\":{\"units\":\"screen\",\"value\":10},\"x\":{\"field\":\"x\"},\"y\":{\"field\":\"y\"}},\"id\":\"05f07f53-9f1e-49ed-bf1a-513a7289b623\",\"type\":\"Circle\"},{\"attributes\":{},\"id\":\"6535b34c-519c-459e-b1dc-8ba9715012bb\",\"type\":\"BasicTickFormatter\"},{\"attributes\":{\"dimension\":1,\"plot\":{\"id\":\"b1f6f32f-b20b-448a-abc8-22e5f013de24\",\"subtype\":\"Figure\",\"type\":\"Plot\"},\"ticker\":{\"id\":\"9b6091b8-3623-446f-8134-9af167465839\",\"type\":\"BasicTicker\"}},\"id\":\"3b733865-a660-4be2-ba39-bacdbcf45e66\",\"type\":\"Grid\"},{\"attributes\":{\"plot\":{\"id\":\"b1f6f32f-b20b-448a-abc8-22e5f013de24\",\"subtype\":\"Figure\",\"type\":\"Plot\"}},\"id\":\"c4b2063e-d82c-4d4a-807d-e3edde3efee9\",\"type\":\"PanTool\"},{\"attributes\":{\"callback\":null,\"plot\":{\"id\":\"b1f6f32f-b20b-448a-abc8-22e5f013de24\",\"subtype\":\"Figure\",\"type\":\"Plot\"},\"tooltips\":[[\"words\",\"@words\"]]},\"id\":\"8f152a88-403c-4433-a759-29cf9738be9b\",\"type\":\"HoverTool\"},{\"attributes\":{\"data_source\":{\"id\":\"5d6a2dde-b9ed-4bcd-8733-3b16ec157d7a\",\"type\":\"ColumnDataSource\"},\"glyph\":{\"id\":\"05f07f53-9f1e-49ed-bf1a-513a7289b623\",\"type\":\"Circle\"},\"hover_glyph\":null,\"nonselection_glyph\":{\"id\":\"723574ef-257e-4819-88eb-939921678ab0\",\"type\":\"Circle\"},\"selection_glyph\":null},\"id\":\"7a7deab1-e63b-4955-bdc5-99ad34a46997\",\"type\":\"GlyphRenderer\"},{\"attributes\":{},\"id\":\"e0e1e4cb-958a-4a96-b72c-e568ddaa9c1d\",\"type\":\"ToolEvents\"},{\"attributes\":{\"plot\":{\"id\":\"b1f6f32f-b20b-448a-abc8-22e5f013de24\",\"subtype\":\"Figure\",\"type\":\"Plot\"}},\"id\":\"96947490-eb98-4aed-a6cc-3bfde4e2aafb\",\"type\":\"SaveTool\"},{\"attributes\":{\"plot\":{\"id\":\"b1f6f32f-b20b-448a-abc8-22e5f013de24\",\"subtype\":\"Figure\",\"type\":\"Plot\"}},\"id\":\"870c9eae-f903-41ff-9641-fba42f2cc1a2\",\"type\":\"WheelZoomTool\"},{\"attributes\":{\"plot\":{\"id\":\"b1f6f32f-b20b-448a-abc8-22e5f013de24\",\"subtype\":\"Figure\",\"type\":\"Plot\"},\"ticker\":{\"id\":\"1790dc5a-bdb8-4948-9875-9473d04f7489\",\"type\":\"BasicTicker\"}},\"id\":\"d0afea91-b87b-455a-8e0b-928342e0b839\",\"type\":\"Grid\"},{\"attributes\":{\"below\":[{\"id\":\"c206142c-3e73-45a1-8436-afd893f7a300\",\"type\":\"LinearAxis\"}],\"left\":[{\"id\":\"d5429561-5ec1-458a-989e-ef525f1d1280\",\"type\":\"LinearAxis\"}],\"renderers\":[{\"id\":\"c206142c-3e73-45a1-8436-afd893f7a300\",\"type\":\"LinearAxis\"},{\"id\":\"d0afea91-b87b-455a-8e0b-928342e0b839\",\"type\":\"Grid\"},{\"id\":\"d5429561-5ec1-458a-989e-ef525f1d1280\",\"type\":\"LinearAxis\"},{\"id\":\"3b733865-a660-4be2-ba39-bacdbcf45e66\",\"type\":\"Grid\"},{\"id\":\"239ed4a9-ab56-4095-9739-d6974df98c7c\",\"type\":\"BoxAnnotation\"},{\"id\":\"7a7deab1-e63b-4955-bdc5-99ad34a46997\",\"type\":\"GlyphRenderer\"}],\"title\":{\"id\":\"223ec467-3bed-4299-bf35-f5f700077b9f\",\"type\":\"Title\"},\"tool_events\":{\"id\":\"e0e1e4cb-958a-4a96-b72c-e568ddaa9c1d\",\"type\":\"ToolEvents\"},\"toolbar\":{\"id\":\"2bf00abf-508b-418b-9cfe-380036c957ec\",\"type\":\"Toolbar\"},\"x_range\":{\"id\":\"60c9134c-d063-4f2b-b205-91654224f830\",\"type\":\"DataRange1d\"},\"y_range\":{\"id\":\"a823bc60-9121-4e6d-9836-44c70f2da07d\",\"type\":\"DataRange1d\"}},\"id\":\"b1f6f32f-b20b-448a-abc8-22e5f013de24\",\"subtype\":\"Figure\",\"type\":\"Plot\"},{\"attributes\":{\"callback\":null},\"id\":\"a823bc60-9121-4e6d-9836-44c70f2da07d\",\"type\":\"DataRange1d\"},{\"attributes\":{\"overlay\":{\"id\":\"239ed4a9-ab56-4095-9739-d6974df98c7c\",\"type\":\"BoxAnnotation\"},\"plot\":{\"id\":\"b1f6f32f-b20b-448a-abc8-22e5f013de24\",\"subtype\":\"Figure\",\"type\":\"Plot\"}},\"id\":\"39c5523b-9009-4146-a195-20986d6af454\",\"type\":\"BoxZoomTool\"},{\"attributes\":{\"bottom_units\":\"screen\",\"fill_alpha\":{\"value\":0.5},\"fill_color\":{\"value\":\"lightgrey\"},\"left_units\":\"screen\",\"level\":\"overlay\",\"line_alpha\":{\"value\":1.0},\"line_color\":{\"value\":\"black\"},\"line_dash\":[4,4],\"line_width\":{\"value\":2},\"plot\":null,\"render_mode\":\"css\",\"right_units\":\"screen\",\"top_units\":\"screen\"},\"id\":\"239ed4a9-ab56-4095-9739-d6974df98c7c\",\"type\":\"BoxAnnotation\"},{\"attributes\":{\"plot\":{\"id\":\"b1f6f32f-b20b-448a-abc8-22e5f013de24\",\"subtype\":\"Figure\",\"type\":\"Plot\"}},\"id\":\"1b462646-0e07-4418-b7a9-2f39a86df074\",\"type\":\"ResetTool\"},{\"attributes\":{\"fill_alpha\":{\"value\":0.1},\"fill_color\":{\"value\":\"#1f77b4\"},\"line_alpha\":{\"value\":0.1},\"line_color\":{\"value\":\"#1f77b4\"},\"size\":{\"units\":\"screen\",\"value\":10},\"x\":{\"field\":\"x\"},\"y\":{\"field\":\"y\"}},\"id\":\"723574ef-257e-4819-88eb-939921678ab0\",\"type\":\"Circle\"}],\"root_ids\":[\"b1f6f32f-b20b-448a-abc8-22e5f013de24\"]},\"title\":\"Bokeh Application\",\"version\":\"0.12.0\"}};\n",
       "            var render_items = [{\"docid\":\"a3837211-2984-4fe0-9cc4-e38d9517ce4b\",\"elementid\":\"585ba11d-b13f-4256-9a8e-9f76ecdda469\",\"modelid\":\"b1f6f32f-b20b-448a-abc8-22e5f013de24\",\"notebook_comms_target\":\"c5db1cf9-5dba-4588-914a-2dcca7214811\"}];\n",
       "            \n",
       "            Bokeh.embed.embed_items(docs_json, render_items);\n",
       "        });\n",
       "      },\n",
       "      function(Bokeh) {\n",
       "      }\n",
       "    ];\n",
       "  \n",
       "    function run_inline_js() {\n",
       "      for (var i = 0; i < inline_js.length; i++) {\n",
       "        inline_js[i](window.Bokeh);\n",
       "      }\n",
       "    }\n",
       "  \n",
       "    if (window._bokeh_is_loading === 0) {\n",
       "      console.log(\"Bokeh: BokehJS loaded, going straight to plotting\");\n",
       "      run_inline_js();\n",
       "    } else {\n",
       "      load_libs(js_urls, function() {\n",
       "        console.log(\"Bokeh: BokehJS plotting callback run at\", now());\n",
       "        run_inline_js();\n",
       "      });\n",
       "    }\n",
       "  }(this));\n",
       "</script>"
      ]
     },
     "metadata": {},
     "output_type": "display_data"
    },
    {
     "data": {
      "text/html": [
       "<p><code>&lt;Bokeh Notebook handle for <strong>In[43]</strong>&gt;</code></p>"
      ],
      "text/plain": [
       "<bokeh.io._CommsHandle at 0x7f975f4d3940>"
      ]
     },
     "execution_count": 43,
     "metadata": {},
     "output_type": "execute_result"
    }
   ],
   "source": [
    "import numpy as np\n",
    "words = list(words_to_plot.keys())\n",
    "range_words=list(range(1,len(words)+1))\n",
    "\n",
    "source = ColumnDataSource(data=dict(range_words=range_words,\n",
    "                                    words=words,\n",
    "                                    x=low_dim_embs[:,0], \n",
    "                                    y=low_dim_embs[:,1]))\n",
    "\n",
    "hover = HoverTool()\n",
    "hover.point_policy = \"follow_mouse\"\n",
    "hover = HoverTool(\n",
    "        tooltips=[\n",
    "            (\"words\", \"@words\"),\n",
    "        ]\n",
    "    )\n",
    "\n",
    "TOOLS=\"pan,wheel_zoom,box_zoom,reset,save\"\n",
    "\n",
    "\n",
    "p = figure(title = \"Word visualization\", tools=[TOOLS, hover])\n",
    "p.circle('x', 'y', source=source, fill_alpha=0.2, size=10, color='navy')\n",
    "\n",
    "show(p)"
   ]
  },
  {
   "cell_type": "code",
   "execution_count": 44,
   "metadata": {
    "collapsed": true
   },
   "outputs": [],
   "source": [
    "def tokenize_dataset(tokenizer, dataset):\n",
    "    tokenize_dataset = []\n",
    "    for tweet in dataset:\n",
    "        # Replace different numbers with a token\n",
    "        tweet = re.sub(r\"\\.\\d+\\s*\", \".<number> \", tweet)\n",
    "        tweet = re.sub(r\"\\d+\\s*\", \" <number> \", tweet)\n",
    "        tokens = tokenizer(tweet)\n",
    "        tokenize_dataset.append(tokens)\n",
    "    return tokenize_dataset"
   ]
  },
  {
   "cell_type": "code",
   "execution_count": 45,
   "metadata": {
    "collapsed": false
   },
   "outputs": [],
   "source": [
    "X_train_tokenized = tokenize_dataset(TweetTokenizer().tokenize, X_train)\n",
    "X_test_tokenized = tokenize_dataset(TweetTokenizer().tokenize, X_test)"
   ]
  },
  {
   "cell_type": "code",
   "execution_count": 46,
   "metadata": {
    "collapsed": true
   },
   "outputs": [],
   "source": [
    "def get_embeddings(dataset, dictionary, embedding_size):\n",
    "    X_emebeddings = []\n",
    "    for tweet in dataset:\n",
    "        tweet_embeddings = []\n",
    "        for word in tweet:\n",
    "            if word in dictionary:\n",
    "                tweet_embeddings.append(dictionary[word])\n",
    "        if not tweet_embeddings:\n",
    "            tweet_embeddings.append(np.zeros(embedding_size))\n",
    "        # Each tweet would have a different number of words and ML techniques requiere fixed inputs. \n",
    "        X_emebeddings.append(np.mean(np.asarray(tweet_embeddings, dtype=np.float32), axis=0))\n",
    "    return X_emebeddings"
   ]
  },
  {
   "cell_type": "code",
   "execution_count": 47,
   "metadata": {
    "collapsed": true
   },
   "outputs": [],
   "source": [
    "X_train_GloVe = get_embeddings(X_train_tokenized, glove_100, 100)\n",
    "X_test_GloVe = get_embeddings(X_test_tokenized, glove_100, 100)"
   ]
  },
  {
   "cell_type": "markdown",
   "metadata": {},
   "source": [
    "## 2.2. But I want to train word embeddings with my own data!"
   ]
  },
  {
   "cell_type": "code",
   "execution_count": 49,
   "metadata": {
    "collapsed": false
   },
   "outputs": [],
   "source": [
    "from gensim.models import word2vec"
   ]
  },
  {
   "cell_type": "code",
   "execution_count": 50,
   "metadata": {
    "collapsed": false
   },
   "outputs": [],
   "source": [
    "# Initialize and train the model (this will take some time)\n",
    "model = word2vec.Word2Vec(X_train_tokenized, \n",
    "                          workers = 4,\n",
    "                          size = 100,  \n",
    "                          min_count = 1,     # How many times a word should appear to be taken into account\n",
    "                          window = 5, \n",
    "                          sample = 1e-3 ,    # Downsample setting for frequent words\n",
    "                          batch_words = 100) # Batches of examples passed to worker threads \n",
    "\n",
    "# This model won't be updated\n",
    "model.init_sims(replace=True)\n",
    "\n",
    "model_name = \"word2vec\"\n",
    "model.save(model_name)"
   ]
  },
  {
   "cell_type": "code",
   "execution_count": 51,
   "metadata": {
    "collapsed": false,
    "scrolled": true
   },
   "outputs": [
    {
     "data": {
      "text/plain": [
       "(4193, 100)"
      ]
     },
     "execution_count": 51,
     "metadata": {},
     "output_type": "execute_result"
    }
   ],
   "source": [
    "model.syn0.shape"
   ]
  },
  {
   "cell_type": "code",
   "execution_count": 52,
   "metadata": {
    "collapsed": false
   },
   "outputs": [],
   "source": [
    "from sklearn.manifold import TSNE\n",
    "\n",
    "tsne = TSNE(perplexity=30, n_components=2, init='pca', n_iter=5000)\n",
    "words_to_plot, unseen_words = get_words_to_plot(1000, model)\n",
    "\n",
    "low_dim_embs = tsne.fit_transform(list(words_to_plot.values()))"
   ]
  },
  {
   "cell_type": "code",
   "execution_count": 53,
   "metadata": {
    "collapsed": false
   },
   "outputs": [
    {
     "data": {
      "text/html": [
       "\n",
       "\n",
       "    <div class=\"bk-root\">\n",
       "        <div class=\"plotdiv\" id=\"bb35ed01-981a-42dd-ae0d-a1ca29c3b05e\"></div>\n",
       "    </div>\n",
       "<script type=\"text/javascript\">\n",
       "  \n",
       "  (function(global) {\n",
       "    function now() {\n",
       "      return new Date();\n",
       "    }\n",
       "  \n",
       "    if (typeof (window._bokeh_onload_callbacks) === \"undefined\") {\n",
       "      window._bokeh_onload_callbacks = [];\n",
       "    }\n",
       "  \n",
       "    function run_callbacks() {\n",
       "      window._bokeh_onload_callbacks.forEach(function(callback) { callback() });\n",
       "      delete window._bokeh_onload_callbacks\n",
       "      console.info(\"Bokeh: all callbacks have finished\");\n",
       "    }\n",
       "  \n",
       "    function load_libs(js_urls, callback) {\n",
       "      window._bokeh_onload_callbacks.push(callback);\n",
       "      if (window._bokeh_is_loading > 0) {\n",
       "        console.log(\"Bokeh: BokehJS is being loaded, scheduling callback at\", now());\n",
       "        return null;\n",
       "      }\n",
       "      if (js_urls == null || js_urls.length === 0) {\n",
       "        run_callbacks();\n",
       "        return null;\n",
       "      }\n",
       "      console.log(\"Bokeh: BokehJS not loaded, scheduling load and callback at\", now());\n",
       "      window._bokeh_is_loading = js_urls.length;\n",
       "      for (var i = 0; i < js_urls.length; i++) {\n",
       "        var url = js_urls[i];\n",
       "        var s = document.createElement('script');\n",
       "        s.src = url;\n",
       "        s.async = false;\n",
       "        s.onreadystatechange = s.onload = function() {\n",
       "          window._bokeh_is_loading--;\n",
       "          if (window._bokeh_is_loading === 0) {\n",
       "            console.log(\"Bokeh: all BokehJS libraries loaded\");\n",
       "            run_callbacks()\n",
       "          }\n",
       "        };\n",
       "        s.onerror = function() {\n",
       "          console.warn(\"failed to load library \" + url);\n",
       "        };\n",
       "        console.log(\"Bokeh: injecting script tag for BokehJS library: \", url);\n",
       "        document.getElementsByTagName(\"head\")[0].appendChild(s);\n",
       "      }\n",
       "    };var element = document.getElementById(\"bb35ed01-981a-42dd-ae0d-a1ca29c3b05e\");\n",
       "    if (element == null) {\n",
       "      console.log(\"Bokeh: ERROR: autoload.js configured with elementid 'bb35ed01-981a-42dd-ae0d-a1ca29c3b05e' but no matching script tag was found. \")\n",
       "      return false;\n",
       "    }\n",
       "  \n",
       "    var js_urls = [];\n",
       "  \n",
       "    var inline_js = [\n",
       "      function(Bokeh) {\n",
       "        Bokeh.$(function() {\n",
       "            var docs_json = {\"7e9502a7-9881-4e23-96e8-19a5b2979ead\":{\"roots\":{\"references\":[{\"attributes\":{\"below\":[{\"id\":\"db715d70-ed4c-414d-bb0f-11adc9273212\",\"type\":\"LinearAxis\"}],\"left\":[{\"id\":\"a902cf2e-8cda-42e0-b992-98dd8f62238b\",\"type\":\"LinearAxis\"}],\"renderers\":[{\"id\":\"db715d70-ed4c-414d-bb0f-11adc9273212\",\"type\":\"LinearAxis\"},{\"id\":\"6010e627-88ff-47f8-8ff0-22057c553bec\",\"type\":\"Grid\"},{\"id\":\"a902cf2e-8cda-42e0-b992-98dd8f62238b\",\"type\":\"LinearAxis\"},{\"id\":\"8aff4e12-5a02-4717-aef8-14db19dd1334\",\"type\":\"Grid\"},{\"id\":\"edcd6148-7fdf-4356-8beb-0d75b844d7ab\",\"type\":\"BoxAnnotation\"},{\"id\":\"7da05ca8-1808-43f1-b627-a96433d1724c\",\"type\":\"GlyphRenderer\"}],\"title\":{\"id\":\"4802cc81-4231-437c-ba50-947b3e8ead2b\",\"type\":\"Title\"},\"tool_events\":{\"id\":\"6bf5e7b6-ff4b-45c3-9b67-bba50d6f73df\",\"type\":\"ToolEvents\"},\"toolbar\":{\"id\":\"84f13b5a-a31f-4c09-bad6-0eca80f3c257\",\"type\":\"Toolbar\"},\"x_range\":{\"id\":\"6c3e9e72-821e-46f8-8544-b4f578771434\",\"type\":\"DataRange1d\"},\"y_range\":{\"id\":\"2f54d7ad-296c-4d24-9d49-9ff35cc94d48\",\"type\":\"DataRange1d\"}},\"id\":\"801b26a6-4521-45e6-a734-181555e804df\",\"subtype\":\"Figure\",\"type\":\"Plot\"},{\"attributes\":{\"callback\":null},\"id\":\"6c3e9e72-821e-46f8-8544-b4f578771434\",\"type\":\"DataRange1d\"},{\"attributes\":{\"active_drag\":\"auto\",\"active_scroll\":\"auto\",\"active_tap\":\"auto\",\"tools\":[{\"id\":\"a5305f9b-1b6f-4c8f-90ef-218fabe6b9ff\",\"type\":\"HoverTool\"},{\"id\":\"43d384f5-05b7-4ab2-aa88-f5de9f9ed963\",\"type\":\"PanTool\"},{\"id\":\"51507d15-d983-4159-af87-32fb1cc65b7b\",\"type\":\"WheelZoomTool\"},{\"id\":\"83346701-e82f-4c49-8dfb-d10c8fc69a8e\",\"type\":\"BoxZoomTool\"},{\"id\":\"a4afb248-94a2-4c20-87b2-bf8cba549dc3\",\"type\":\"ResetTool\"},{\"id\":\"41bee7eb-d929-4abe-a343-84845be952a4\",\"type\":\"SaveTool\"}]},\"id\":\"84f13b5a-a31f-4c09-bad6-0eca80f3c257\",\"type\":\"Toolbar\"},{\"attributes\":{},\"id\":\"46e0ca25-234f-45e6-95fc-142e2ee53064\",\"type\":\"BasicTicker\"},{\"attributes\":{\"overlay\":{\"id\":\"edcd6148-7fdf-4356-8beb-0d75b844d7ab\",\"type\":\"BoxAnnotation\"},\"plot\":{\"id\":\"801b26a6-4521-45e6-a734-181555e804df\",\"subtype\":\"Figure\",\"type\":\"Plot\"}},\"id\":\"83346701-e82f-4c49-8dfb-d10c8fc69a8e\",\"type\":\"BoxZoomTool\"},{\"attributes\":{\"plot\":null,\"text\":\"Word visualization\"},\"id\":\"4802cc81-4231-437c-ba50-947b3e8ead2b\",\"type\":\"Title\"},{\"attributes\":{},\"id\":\"f83e329b-5274-4f09-9165-516c7e96a879\",\"type\":\"BasicTickFormatter\"},{\"attributes\":{},\"id\":\"9523466e-1548-43aa-ad86-494b51df6d24\",\"type\":\"BasicTickFormatter\"},{\"attributes\":{\"fill_alpha\":{\"value\":0.2},\"fill_color\":{\"value\":\"navy\"},\"line_color\":{\"value\":\"navy\"},\"size\":{\"units\":\"screen\",\"value\":10},\"x\":{\"field\":\"x\"},\"y\":{\"field\":\"y\"}},\"id\":\"ae0b70c7-c59a-41df-88cb-431f12b0ef67\",\"type\":\"Circle\"},{\"attributes\":{\"plot\":{\"id\":\"801b26a6-4521-45e6-a734-181555e804df\",\"subtype\":\"Figure\",\"type\":\"Plot\"}},\"id\":\"41bee7eb-d929-4abe-a343-84845be952a4\",\"type\":\"SaveTool\"},{\"attributes\":{\"callback\":null},\"id\":\"2f54d7ad-296c-4d24-9d49-9ff35cc94d48\",\"type\":\"DataRange1d\"},{\"attributes\":{},\"id\":\"6bf5e7b6-ff4b-45c3-9b67-bba50d6f73df\",\"type\":\"ToolEvents\"},{\"attributes\":{\"fill_alpha\":{\"value\":0.1},\"fill_color\":{\"value\":\"#1f77b4\"},\"line_alpha\":{\"value\":0.1},\"line_color\":{\"value\":\"#1f77b4\"},\"size\":{\"units\":\"screen\",\"value\":10},\"x\":{\"field\":\"x\"},\"y\":{\"field\":\"y\"}},\"id\":\"e7de9939-c756-46d3-86dc-6f4d00ad1ab2\",\"type\":\"Circle\"},{\"attributes\":{\"callback\":null,\"column_names\":[\"x\",\"words\",\"y\",\"range_words\"],\"data\":{\"range_words\":[1,2,3,4,5,6,7,8,9,10,11,12,13,14,15,16,17,18,19,20,21,22,23,24,25,26,27,28,29,30,31,32,33,34,35,36,37,38,39,40,41,42,43,44,45,46,47,48,49,50,51,52,53,54,55,56,57,58,59,60,61,62,63,64,65,66,67,68,69,70,71,72,73,74,75,76,77,78,79,80,81,82,83,84,85,86,87,88,89,90,91,92,93,94,95,96,97,98,99,100,101,102,103,104,105,106,107,108,109,110,111,112,113,114,115,116,117,118,119,120,121,122,123,124,125,126,127,128,129,130,131,132,133,134,135,136,137,138,139,140,141,142,143,144,145,146,147,148,149,150,151,152,153,154,155,156,157,158,159,160,161,162,163,164,165,166,167,168,169,170,171,172,173,174,175,176,177,178,179,180,181,182,183,184,185,186,187,188,189,190,191,192,193,194,195,196,197,198,199,200,201,202,203,204,205,206,207,208,209,210,211,212,213,214,215,216,217,218,219,220,221,222,223,224,225,226,227,228,229,230,231,232,233,234,235,236,237,238,239,240,241,242,243,244,245,246,247,248,249,250,251,252,253,254,255,256,257,258,259,260,261,262,263,264,265,266,267,268,269,270,271,272,273,274,275,276,277,278,279,280,281,282,283,284,285,286,287,288,289,290,291,292,293,294,295,296,297,298,299,300,301,302,303,304,305,306,307,308,309,310,311,312,313,314,315,316,317,318,319,320,321,322,323,324,325,326,327,328,329,330,331,332,333,334,335,336,337,338,339,340,341,342,343,344,345,346,347,348,349,350,351,352,353,354,355,356,357,358,359,360,361,362,363,364,365,366,367,368,369,370,371,372,373,374,375,376,377,378,379,380,381,382,383,384,385,386,387,388,389,390,391,392,393,394,395,396,397,398,399,400,401,402,403,404,405,406,407,408,409,410,411,412,413,414,415,416,417,418,419,420,421,422,423,424,425,426,427,428,429,430,431,432,433,434,435,436,437,438,439,440,441,442,443,444,445,446,447,448,449,450,451,452,453,454,455,456,457,458,459,460,461,462,463,464,465,466,467,468,469,470,471,472,473,474,475,476,477,478,479,480,481,482,483,484,485,486,487,488,489,490,491,492,493,494,495,496,497,498,499,500,501,502,503,504,505,506,507,508,509,510,511,512,513,514,515,516,517,518,519,520,521,522,523,524,525,526,527,528,529,530,531,532,533,534,535,536,537,538,539,540,541,542,543,544,545,546,547,548,549,550,551,552,553,554,555,556,557,558,559,560,561,562,563,564,565,566,567,568,569,570,571,572,573,574,575,576,577,578,579,580,581,582,583,584,585,586,587,588,589,590,591,592,593,594,595,596,597,598,599,600,601,602,603,604,605,606,607,608,609,610,611,612,613,614,615,616,617,618,619,620,621,622,623,624,625,626,627,628,629,630,631,632,633,634,635,636,637,638,639,640,641,642,643,644,645,646,647,648,649,650,651,652,653,654,655,656,657,658,659,660,661,662,663,664,665,666,667,668,669,670,671,672,673,674,675,676,677,678,679,680,681,682,683,684,685,686,687,688,689,690,691,692,693,694,695,696,697,698,699,700,701,702,703,704,705,706,707,708,709,710,711,712,713,714,715,716,717,718,719,720,721,722,723,724,725,726,727,728,729,730,731,732,733,734,735,736,737,738,739,740],\"words\":[\"wish\",\"today\",\"resnet\",\"gallery\",\"election\",\"place\",\"reason\",\"plugin\",\"guido\",\"fuck\",\"linux\",\"wonderful\",\"path\",\"amd\",\"install\",\"us\",\"friend\",\"myth\",\"url\",\"etc\",\"excited\",\"board\",\"month\",\"soon\",\"conference\",\"journal\",\"glass\",\"strangers\",\"advice\",\"poster\",\"believe\",\"computing\",\"proposals\",\"b\",\"github\",\"accessible\",\"past\",\"linear\",\"psf\",\"twitter\",\"lightning\",\"programming\",\"old\",\"working\",\"online\",\"totally\",\"challenges\",\"listen\",\"super\",\"dc\",\"education\",\"party\",\"rejection\",\"faster\",\"link\",\"stay\",\"live\",\"automl\",\"personal\",\"uk\",\"fit\",\"key\",\"role\",\"many\",\"th\",\"community\",\"congratulations\",\"change\",\"outreach\",\"due\",\"foot\",\"american\",\"little\",\"stack\",\"de\",\"like\",\"send\",\"examples\",\"wrong\",\"subsampling\",\"character\",\"vision\",\"deploys\",\"pop\",\"hour\",\"frank\",\"speak\",\"map\",\"night\",\"proud\",\"end\",\"needs\",\"visit\",\"x\",\"polynomial\",\"left\",\"using\",\"interactive\",\"fabian\",\"even\",\"birthday\",\"thinking\",\"see\",\"whole\",\"months\",\"get\",\"title\",\"saying\",\"projects\",\"meet\",\"mad\",\"feature\",\"hello\",\"make\",\"research\",\"find\",\"article\",\"workshop\",\"numfocus\",\"going\",\"shared\",\"wait\",\"hackers\",\"academia\",\"issues\",\"images\",\"reproducibility\",\"maps\",\"thx\",\"thanks\",\"loss\",\"beginners\",\"front\",\"miss\",\"publish\",\"interesting\",\"power\",\"support\",\"results\",\"tickets\",\"analytics\",\"police\",\"unfortunately\",\"lose\",\"game\",\"home\",\"fly\",\"event\",\"performance\",\"made\",\"pydata\",\"giving\",\"random\",\"average\",\"work\",\"comes\",\"went\",\"position\",\"canada\",\"optimization\",\"videos\",\"okay\",\"seriously\",\"history\",\"valley\",\"someone\",\"factorization\",\"still\",\"called\",\"must\",\"submit\",\"documentation\",\"til\",\"summer\",\"stories\",\"diverse\",\"baby\",\"machine\",\"name\",\"json\",\"tutorial\",\"guys\",\"speaking\",\"learn\",\"way\",\"high\",\"sf\",\"bad\",\"silly\",\"matplotlib\",\"yes\",\"university\",\"training\",\"years\",\"forward\",\"hair\",\"lawyers\",\"another\",\"though\",\"slack\",\"bring\",\"interview\",\"dev\",\"easier\",\"figure\",\"ever\",\"doc\",\"skills\",\"interested\",\"show\",\"lunch\",\"line\",\"model\",\"kate\",\"future\",\"top\",\"docs\",\"speakers\",\"release\",\"park\",\"empirical\",\"level\",\"chat\",\"better\",\"friends\",\"pycon\",\"hear\",\"free\",\"seen\",\"kind\",\"text\",\"example\",\"please\",\"teaching\",\"intro\",\"internet\",\"memory\",\"decoders\",\"google\",\"c\",\"amazing\",\"book\",\"say\",\"proceedings\",\"hours\",\"seattle\",\"preprint\",\"often\",\"important\",\"stuff\",\"without\",\"v\",\"instant\",\"major\",\"seeing\",\"locke\",\"sprint\",\"summary\",\"pip\",\"summit\",\"possible\",\"rt\",\"took\",\"changed\",\"unedited\",\"good\",\"update\",\"true\",\"control\",\"lab\",\"python\",\"song\",\"large\",\"holy\",\"making\",\"together\",\"could\",\"changes\",\"enough\",\"dataviz\",\"toronto\",\"words\",\"understand\",\"books\",\"scale\",\"mmds\",\"ready\",\"__past__\",\"open\",\"real\",\"reviewer\",\"exciting\",\"pay\",\"early\",\"shout\",\"device\",\"access\",\"want\",\"program\",\"new\",\"wine\",\"ipython\",\"build\",\"weeks\",\"head\",\"something\",\"api\",\"know\",\"impressive\",\"word\",\"try\",\"challenge\",\"check\",\"posts\",\"look\",\"oh\",\"based\",\"scipy\",\"form\",\"big\",\"full\",\"also\",\"pypi\",\"never\",\"brain\",\"keynote\",\"getting\",\"probably\",\"package\",\"hope\",\"wake\",\"presented\",\"starts\",\"video\",\"anything\",\"dl\",\"icml\",\"use\",\"web\",\"love\",\"context\",\"languages\",\"goes\",\"brexit\",\"times\",\"yeah\",\"presidential\",\"french\",\"things\",\"man\",\"stop\",\"computer\",\"mysql\",\"useful\",\"notebooks\",\"omg\",\"k\",\"seems\",\"fast\",\"repo\",\"post\",\"hoodie\",\"read\",\"thought\",\"ppl\",\"debugging\",\"http\",\"always\",\"since\",\"bed\",\"year\",\"production\",\"long\",\"function\",\"bar\",\"days\",\"natural\",\"cluster\",\"longer\",\"need\",\"code\",\"software\",\"done\",\"life\",\"makes\",\"actually\",\"sustainable\",\"watch\",\"implementation\",\"explained\",\"mean\",\"gradient\",\"time\",\"ago\",\"less\",\"teach\",\"starting\",\"started\",\"trying\",\"thing\",\"first\",\"conf\",\"easy\",\"science\",\"add\",\"nilearn\",\"logistic\",\"write\",\"right\",\"well\",\"looking\",\"indeed\",\"works\",\"matrix\",\"take\",\"piece\",\"project\",\"guess\",\"used\",\"tweet\",\"lemonade\",\"version\",\"sure\",\"models\",\"log\",\"haha\",\"great\",\"yup\",\"tutorials\",\"single\",\"final\",\"running\",\"message\",\"go\",\"weekend\",\"register\",\"mention\",\"issue\",\"bars\",\"users\",\"taking\",\"may\",\"wow\",\"statistical\",\"others\",\"hard\",\"touch\",\"note\",\"coming\",\"heard\",\"country\",\"hate\",\"two\",\"far\",\"hey\",\"team\",\"ml\",\"dear\",\"tomorrow\",\"color\",\"side\",\"dance\",\"joblib\",\"sky\",\"perf\",\"around\",\"test\",\"definitely\",\"question\",\"cs\",\"practice\",\"diversity\",\"looks\",\"cc\",\"user\",\"point\",\"lady\",\"neural\",\"course\",\"rules\",\"storytelling\",\"runs\",\"glad\",\"next\",\"tonight\",\"woman\",\"design\",\"slides\",\"email\",\"g\",\"image\",\"demo\",\"folks\",\"finish\",\"sends\",\"engineering\",\"help\",\"morning\",\"laptop\",\"goals\",\"learned\",\"minutes\",\"paper\",\"feedback\",\"quick\",\"pm\",\"back\",\"behind\",\"public\",\"l\",\"directors\",\"reading\",\"every\",\"papers\",\"distributed\",\"put\",\"red\",\"telling\",\"decline\",\"short\",\"regression\",\"numpy\",\"ai\",\"vienna\",\"students\",\"files\",\"joint\",\"thank\",\"idea\",\"coding\",\"list\",\"eu\",\"https\",\"written\",\"jupyter\",\"nginx\",\"import\",\"tried\",\"much\",\"via\",\"mind\",\"guy\",\"learning\",\"non\",\"wrote\",\"yesterday\",\"enjoy\",\"tell\",\"published\",\"explaining\",\"pretty\",\"anyone\",\"apparently\",\"social\",\"heart\",\"enemy\",\"case\",\"problem\",\"related\",\"penny\",\"think\",\"scientific\",\"instead\",\"give\",\"excellent\",\"h\",\"technical\",\"different\",\"simple\",\"award\",\"day\",\"women\",\"quite\",\"really\",\"provide\",\"details\",\"german\",\"lot\",\"introduction\",\"anaconda\",\"tim\",\"would\",\"material\",\"lovely\",\"data\",\"sklearn\",\"p\",\"sweet\",\"conda\",\"one\",\"recently\",\"fmri\",\"company\",\"classification\",\"computers\",\"enjoyed\",\"error\",\"building\",\"source\",\"posted\",\"people\",\"lines\",\"style\",\"r\",\"machines\",\"happy\",\"tensorflow\",\"literally\",\"feel\",\"schedule\",\"approach\",\"set\",\"translate\",\"july\",\"fun\",\"keep\",\"everyone\",\"sorry\",\"state\",\"tools\",\"closing\",\"architecture\",\"remember\",\"part\",\"ploop\",\"<number>\",\"library\",\"ht\",\"met\",\"might\",\"weird\",\"got\",\"questions\",\"reinforcement\",\"plan\",\"watching\",\"study\",\"happen\",\"vs\",\"audience\",\"pure\",\"app\",\"released\",\"dude\",\"dask\",\"review\",\"htt\",\"paris\",\"js\",\"hail\",\"god\",\"lots\",\"experience\",\"already\",\"fine\",\"doubt\",\"francisco\",\"last\",\"leave\",\"finally\",\"third\",\"announce\",\"job\",\"tech\",\"join\",\"room\",\"money\",\"phone\",\"come\",\"info\",\"systems\",\"hand\",\"sparsity\",\"family\",\"awesome\",\"late\",\"validation\",\"world\",\"wants\",\"u\",\"dadaist\",\"welcome\",\"run\",\"windows\",\"james\",\"git\",\"neuroimaging\",\"start\",\"movie\",\"talks\",\"algebra\",\"_\",\"uwsgi\",\"guidelines\",\"language\",\"nearly\",\"favorite\",\"e\",\"mostly\",\"booth\",\"meeting\",\"away\",\"notebook\",\"talk\",\"congrats\",\"updated\",\"datasets\",\"week\",\"group\",\"groups\",\"print_statement\",\"saw\",\"monday\",\"upgrade\",\"w\",\"available\",\"series\",\"features\",\"discussion\",\"networks\",\"pro\",\"analysis\",\"call\",\"viz\",\"peer\",\"similar\",\"yet\",\"methods\",\"thoughts\",\"cool\",\"deep\",\"qgis\",\"blog\",\"space\",\"powell\",\"generative\",\"int\",\"maybe\",\"best\",\"nice\"],\"x\":[-38.23143985964254,-49.65187654619251,-15.663002274057181,4.022207416576045,-23.296386030648453,-40.91004166074033,-30.807358792231447,-24.795019325776458,-32.295900843497975,-12.57772595405896,-52.1733748161917,-28.79621775296306,-36.78240946800133,4.053489680321067,-54.35156680787096,-50.04101443050688,-41.3500950318904,-17.093097359761654,-26.057105916454397,-49.50786960949835,-47.153680972684576,-38.51940420169159,-59.064653531834686,-45.38070124819215,-54.366393703479176,-54.834305930037246,-19.516368530593123,-38.51124109747319,-35.831008506052285,2.7820593769057593,-10.393661854018013,-32.38308708010856,-21.412284203395267,-45.789899604775314,-31.42197223150094,-6.30033511085844,-46.99235865246985,-26.22216549489867,-23.627419140144433,-30.08912943465156,-34.92412908389314,-48.84051787984042,-28.819986208754518,-44.766203649136685,-48.99225122733705,-56.41339288795471,-50.56869250684254,-14.380016487808934,-42.433620065444465,-50.80645643984007,-37.07977791950111,-8.033390778526247,-4.85598997306484,-39.854287263908134,-4.038797079037903,-19.196281368352857,-43.38092093899136,-35.55429465950871,-16.89986015777867,-24.151390236397358,-42.5566405313511,-44.858324627344246,-6.109241383731245,-49.2827621178338,-40.77266799674866,-40.051777747119935,-17.734231589685997,-30.58431753995802,-6.739789127167102,-43.74400113986564,-13.269012654932459,-14.228840978276263,-56.895949968155215,-49.48782700735103,-42.17822668121212,-51.743210874896505,-28.327192043679755,-17.08062729354652,-36.05981733384381,-25.301684566472627,-30.030559873309794,-11.482661470541478,-19.739727339479707,-9.891470442654567,-19.002171336214772,-42.61453480580947,-30.453220130892937,14.726757141384015,-19.5330238890805,-7.458765569656849,-43.56534822461966,-53.73442911905268,-18.05764927138146,-26.468600183556962,-10.480552516422444,-21.60807717174929,-51.026503198618464,-35.09779708181506,-2.702172357479191,-30.87894995969771,-52.068531975097905,-15.668250838981182,-49.82501524538121,-39.852391035083485,-9.602025868051003,-50.948762908542925,-11.34477500732025,-37.40496909096911,-45.00358253350279,-34.16717738020745,-32.970359512937776,-34.88854630269873,-18.637706600365373,-51.55711540719189,-44.45900311392936,-60.206042565647564,-54.140086790650585,-57.9440022253985,-29.939204987830276,-54.13173582237746,-37.31028108691113,-27.0561943896062,-32.59986956074867,-12.308109575067451,-39.759208923580886,-34.6692623625522,-13.210983637678494,-49.7876877334131,-29.61214288573184,-51.651115775681646,-7.907625749024506,-38.21049880306814,-23.675918852060235,-1.5737560446910128,-22.37926746680135,-47.56358193326243,-44.304138369077585,-53.4074651428726,-25.049769180933982,-27.943144103126233,-26.345821436799195,-3.7741130317152005,-33.13047407012255,-25.441652922248775,-33.450815997254956,-47.15049249968626,-13.811287828847272,-39.77132089781685,-47.20642777905178,-49.22057092616348,-39.22169139910833,-43.706242908002764,-58.71948404144641,-11.993319935974059,-49.39427775999024,-26.471201753263628,-4.588127494479611,-58.07124334128373,-28.92563954522351,-52.1377811199658,-1.791210986788637,-29.142286540746102,-18.102216039979364,-46.937811742264074,-31.198843152521476,-42.34090094423912,-43.663939725974096,-50.04404846611088,-36.163376322854795,-19.26355190506858,-55.976621283373355,-3.1718139159848078,-9.018015032790109,-30.195980688491204,-35.6361747546645,-54.46022587296774,-32.559922632289975,-54.42494745540658,-44.21159061703177,7.334061138254107,-58.3059172639992,-30.405068031090693,-14.146647128009787,-40.629524232221414,-52.293704538278675,-21.67375548103184,-58.11269100778883,-43.04992989131092,-35.51676603856708,-18.123713417437315,-48.1789492792305,-34.114747814939165,-11.974750565634452,-54.537271583154286,-41.36831014041806,-45.49096779786127,-53.74002319069845,-37.76465693229436,-51.558121668321974,-4.693865745380528,-25.31980575621235,4.700429504223771,-32.41676362496465,-51.60957625207353,-33.203946478219166,-47.96770221143019,-27.278799757923977,-53.44524598071478,-47.1759267676722,-42.77430932863312,-13.558627682112627,-45.65724886806053,-34.418174272472946,-19.266107384474395,-45.85981039661971,-27.810286974544052,-36.35677638558352,-9.24071159941906,-45.84914909996464,-26.926274666522396,-30.84391386892244,-21.21799714227932,-10.284587273106098,-49.900182133840765,-47.97670574263573,-40.529411147379285,-31.616102182300185,-29.063962266275908,-46.78143710819639,-0.06801726684515273,-37.208714672987895,-44.79392246332059,-42.91383702240892,-52.74134571017528,-13.136063813195639,-43.225261659072935,-33.53499262672922,-24.393670519610364,-39.09049554125235,-45.87135353220712,-36.623073477356904,-31.162600144973283,-45.679779530388956,-39.39799856744858,-38.58374550403207,-32.1074287957276,-36.78205839118686,-40.52916746927563,-42.31493304090381,-14.986507239828297,-43.58690521476459,1.8628924633827695,6.453515432065184,1.9428481983719172,-30.613520943432377,-24.890038746136945,-33.50825946999868,-2.7484008139259606,-36.60791533744184,-15.177516888620588,-55.401653319084616,-51.83719431132664,0.32612218224533823,-48.457147029745315,-14.245421984324167,-52.416354044434264,-0.656105795194186,5.491490444767551,-2.6381193802904197,-32.231287640782554,-51.68373811048797,-46.221498563716246,-39.95810937734656,-26.814462930282772,18.85456182171456,-18.623625055846755,-53.04080111933284,-27.233338437952245,-46.474072734104,-23.16174498804715,-24.360706360219904,-33.93920989017734,-17.343680553104637,-42.3672828883088,-15.095798974118404,-1.5617833302960151,-15.852908450054532,-6.414500404994624,-53.37992862759427,-58.65245506604784,-5.418825514167982,-29.64768762105679,-9.391781350521475,-46.979286543448524,15.022015018145387,5.821040451060866,-26.12883079404088,-57.82763622444265,-46.75664116897841,-52.31952249196798,-32.991012901742224,-34.80214708416388,-54.5423544898647,-27.982614646330354,-24.20512777758538,-36.51505747249587,-52.98169446181275,-51.31754923931939,-6.709546095964084,-37.87847683754799,-21.33258941378867,-15.637388283256083,-39.87083904627155,-27.6559782301513,-52.157961380603574,-47.79093370986945,-45.57367818264494,-26.160320617792856,-20.24732150347301,-49.36395412794422,-47.96071788970888,-49.31357324034251,-19.320584405916463,-51.37651798707375,-60.37023868396421,-42.007964770848474,-45.95217153780632,-29.676811038146266,-39.55513426759319,-48.46099178238717,-22.891439591120406,-8.261522279010903,-34.83845937845694,-39.75875669947695,-23.461045668525607,-53.45264740322998,-9.776812067688873,-53.20527432041152,-44.9087293560022,-44.323280839834375,-36.88310315969402,-11.110132944129417,-57.8540215236492,-13.88519055349469,-33.95104861079408,-44.576707054479755,-21.951258939308545,3.8386817201236987,-49.982446130543785,-49.16907154955073,-37.89580611978595,-18.080189606388902,-45.614817043649296,-57.58940545767928,-21.42853504053979,-22.16818792685507,-24.62518240465304,-34.071333050183476,-50.85984377195119,-43.90911567856481,-52.166344837954966,-41.868521108803954,-51.042804958184995,-39.36322655594301,-38.18610723133988,-19.422608442594953,-23.785419465667495,-48.2662916750105,-55.386099810666835,4.565574969595114,-47.913961231584615,-8.115797718914719,-53.1600301749706,-32.95658075149459,-27.7205297361266,-56.64813255812261,-21.808554852353478,-9.337304888653348,-11.069983665716226,-56.65837598377726,-52.57061609449556,-52.594762978960134,-36.437838186239986,-57.616600236105334,-31.917920068669737,-40.895123308014135,-15.00466142906909,-41.93855792207185,-14.396774618268623,-7.608072640866377,-42.00469137752552,-52.031833962578915,-50.98071653287754,-43.431074719144625,-7.548160537116711,-39.171302180464686,-23.818095020776653,-8.7914965075248,-29.04095403406399,-56.874956783372504,-50.71070002671318,-33.3585962750609,-37.23139160168119,-48.909772729483834,-45.60919060737529,-20.59869686606174,-36.99790559813277,-49.12202905436616,-48.47360517402189,-49.03024148957928,-47.686927303837905,-29.984571768812543,-19.080596570129426,-52.11125140975037,-39.81957587350283,-37.39711507937402,-43.62076588488747,-56.34859164297579,-47.660526237442916,-13.18572489338031,-11.34713470508446,-47.5996576385126,-42.29752912478349,-43.17924497172467,-40.93431333334519,-47.55322276775506,-52.95105331199643,1.6167705159742085,-12.56667273036597,-24.030994519947644,-33.65315076436047,-52.084528212235604,-45.79028062436149,-52.76629371476318,-48.83714261943947,8.573899974408034,-20.810516737510984,-48.53951251299791,-29.048800361792356,-24.5705245310059,-39.007221796939035,-54.65566012576438,-36.48804884067541,-41.8010915186378,-38.69664092275976,21.32983984533456,-41.8731970689051,-15.604869380767708,-40.83616023392226,-43.348663611036145,-11.221287784334304,-11.485226265318275,-51.191908411335106,-43.5057711743941,-36.129276086627,-41.433705191903556,-43.312836498825924,-12.705356699059175,-39.43896844818309,-4.309728824537653,-21.450714587953932,-17.01874835892442,-10.069072298580322,4.137488946000867,-33.865587428441046,-52.929439662465356,-51.34775397401516,-37.453031895212945,-21.248396565048836,-1.3342550051218427,-26.90585201239189,-45.25428788414037,-37.946284476000756,-26.7803596410835,-32.062771063438575,-34.515365385270854,-23.7567239828936,-30.943154874823982,-42.741845497460105,-20.229466148367052,-31.80556800472587,-41.724341329444314,-49.808073975380864,-50.667902195392934,-48.66437211300974,-17.491782342081148,-26.64227619872975,-59.1153081497313,-53.77678531895284,-16.484607836103127,-20.63662444521058,-39.726322865909786,-45.56285233037271,-31.180073407170745,-6.0319501990552435,-30.758957332991617,-48.07458838050832,-39.5018667636095,-19.03561639609527,-13.35496817272982,-46.082234659178425,-24.649885902183463,-51.76050923884052,-41.335227291162724,-42.25477489592329,-49.7680530317791,-50.01356737727626,-27.92709283850086,-38.09138693142089,-35.96380754679,-4.946237525544812,-37.66751355447635,-47.14419343302164,-40.97721909536997,-54.43181889688096,-17.56955255551883,-19.292035857624082,-8.280325812104964,-27.193095810658004,-40.96504813419106,-40.106033463065586,-32.994692019226065,-7.036609153385518,-15.873431336970011,-55.47845098485539,-42.264789898267026,-14.658075594727277,-49.870833793974626,-46.36700409137912,-45.82006181008217,-54.861851833465536,-2.6932871731701797,-51.94695687473511,-50.834135291619155,-5.205433989329811,-31.311597419108562,-2.8370447079015784,-40.95292130063828,-52.29667967968623,-45.686359500922215,-40.58199464381353,-9.134291694882652,-51.93166705028633,-29.5051457368932,-44.308063459106386,-33.30610777067659,-29.406010066464653,-46.048147880717444,-30.788893689886457,-50.49305814133339,-55.27598900686569,-37.869122394833894,-49.756475013028435,-49.78792456944302,5.239555637261292,-26.246917059293818,-45.69653489058602,-57.02884175477763,-29.76235540895162,-1.6098516482783847,-50.39354698960207,-21.271123176067935,-55.828469942184334,-55.27728198290798,-3.747705563544968,-14.953340198890066,-33.90112786016756,-31.459327924396366,-21.313468319911042,-22.6852904955333,-50.86349405510673,-60.62064240938059,-41.211410812605884,-51.317064826545455,-38.20120630561701,-26.15988433122559,-24.839692279478342,-29.858967572414933,-33.6298290518826,-16.901080019086084,-14.889040949898474,-53.799749041577584,-18.252242785770804,-52.74091906064417,-50.62438845527578,-16.313509694955833,-23.492272964971285,-23.165302021468218,2.3863859037726614,-51.247254624657515,10.315192156193717,-32.93923936740672,-51.60947577848851,-48.28262284813699,-13.462952147643794,-17.258184804337553,-55.2983927695521,-56.344893586354395,-48.346781630536114,-33.48785391082139,-53.8937447285454,-20.23514430952906,-19.30648723439612,-41.881945862190456,-26.313418820150183,-51.00935626093485,-10.759150354167804,-43.77331804921884,-30.126320051016,-31.60867521445542,-7.089317964801024,-57.38558256743256,1.451550030104222,-16.472366567660313,-42.69123290205613,-27.115803989490644,-54.9418648830817,-21.522218672062543,-47.13713656011029,-47.879091969958594,-2.0359331418428646,-26.493139104829545,-35.226538568836325,13.229808550004051,-53.14370553835419,-48.570065957233,-34.60582419768478,9.39629234112857,1.739380018451985,-38.95719701825386,-25.82025419628416,-41.44583805145031,-49.23259513977626,-37.99992993890278,-16.36697752124157,-55.58468543779383,-35.90175644382237,-44.44329351106239,-49.353070560457816,-28.785850680572644,-51.730051835916115,-51.28320858149044,-23.025684615886956,1.1214843197659727,-12.95634522369095,-47.56198765203945,-43.54711535122234,-38.28217545630474,-39.13402588360176,-23.83423310697921,-34.641789996527194,-40.96506554359815,-44.272609306071224,-50.85329546950976,-12.378713717925578,-10.164832899433277,-27.853751990313228,-55.381943011377416,-50.292770244272,-41.64685925717103,-6.605651142821993,-36.183177711581806,-48.3458824433096,-45.369860378764834,-56.003601175246985,-24.36655727819405,-59.80717308644671,-31.886541919924422,-48.49066813254664,-2.2854853239102795,-44.58123515366593,0.9379462502435916,-44.317332127227026,-38.12801733820064,-59.71774489323784,-20.72249565140922,9.570527864269653,-53.30591561656431,-10.343022041047178,-0.885775161390241,-22.364786712065438,-42.881148397582876,-46.33644731553907,-56.3294775182836,-22.197088349536678,-7.585470237209435,-17.270212469380166,-41.575701241364555,-13.394086102122332,-50.78635006832127,-46.78475915675121,-52.10225079014467,-37.691656852793365,-0.054306779089961434,-33.14293120934789,-47.537371768081854,-28.470545360150926,-11.739228830450843,-47.17916044430287,-35.86127527139239,-36.51980670074354,-35.47966653392092,-40.00663266507594,-53.30537621587503,-35.00272937267946,-33.27498281804159,-54.07796321453581,-55.45077508992755,-16.55027546020879,-9.271796675186309,-28.674632402665704,6.929021706763815,-23.36177791054446,-29.16656729144472,-54.43279644709527,-54.40026162841626,-44.620886280735114,-44.13216194753962,-50.895849352894174,-54.641056959250804,-36.100481222619756,-22.61526750107934,-53.70114115216236,-28.479983492581848,12.046720455353803,-5.191735017029978,-55.12014111616546,-27.258799298236642,-25.886076718550395,-50.506846691518064,-56.37551744981838,-23.328367540315337,-53.901937788306,-45.79212789056541,-47.19815139196562,-40.970252020009546,-20.674846418545606,-52.95555880601786,-57.42458659823584,-46.33047550290619],\"y\":[22.115228792867605,9.678798033795843,-9.541266613807192,-13.32586674585497,-5.029206553304559,14.264317828437829,-16.072934209785764,8.904991912590809,24.939784784004598,-6.555634556324241,10.359172805088468,4.640026652396604,-6.301946777195879,-6.471121398786771,18.38938843957033,16.442739407949887,3.9829395917952723,-11.940587154626577,20.148684635955238,7.774240481024263,11.399926612570344,6.5899354759655315,13.65593504706707,24.689281420735334,7.259076622453729,21.73496709656056,15.56638514274761,13.672386979770971,8.423929635990195,-4.448548143943833,1.5131114590858288,28.03070680237988,16.898478921598436,-8.644464142413307,10.859736386630392,-4.816059831571693,18.201557503684818,6.153164168120246,24.770939995729986,22.16327564035192,22.91117928042374,19.26132042085151,-8.13705314259933,8.71203289522792,18.208535009876265,17.024488021218495,1.7113962878440097,2.7953472012094025,19.269900982007325,20.52195069782955,5.698403829054759,2.297964164304982,7.067606261387954,7.735792763585828,-14.848432354968756,-11.909509678704953,11.369033497407283,14.497318710167727,8.87501306852567,-17.723046016826416,13.837261470316452,17.94803358524794,10.812699647218544,13.916995361030448,11.106287515828523,12.36506279272938,20.438409911337825,9.725426706131504,-12.83663579197951,25.420253272289674,-3.9243639566566526,-22.253791169954614,8.547537239163743,2.983794109351299,21.73473346620461,14.055215237192709,14.216969373112349,3.356939863522933,1.2520167022859492,11.717281340278147,16.158056778870208,-15.590108932174449,6.962173685355345,14.547155054664579,-5.06756007258894,11.066864985090756,5.885435852871338,1.6596370324109646,25.85787657396041,12.715071003952648,17.251537688196972,3.2378750281741575,-22.268499245271375,-7.8900845510045166,-7.011596043119856,-0.5949661662634251,17.38577214624534,2.9496582814956436,0.9090501922784506,30.654213982486805,-5.116428511637548,-3.913502733776311,12.494555540870008,-2.2524018991642207,4.165325572600688,15.380764353459575,-0.8437180545305145,-8.78343400752189,4.19074599921198,5.481991906813415,12.168474513382254,28.299919010089827,2.352705165673108,17.175997479626844,14.170386006180673,15.071279798969764,14.394095478541391,10.38553901883802,-18.35791827075432,20.340355063072607,28.247118487137,-10.062106514009596,6.115495053350933,8.460377999318442,9.560206089839864,-2.0540118668661864,20.274381940929274,25.328577841632047,11.857246908262061,13.049216014160924,7.266529441717514,11.45455013772503,10.958416597629304,10.959439357605756,-8.380638690032882,9.133729543678472,16.387647127348366,18.356397659046657,-3.762872704247739,-12.515219836056948,-5.547896573495176,-4.314515688203026,4.891432977667848,22.609936267672985,-10.603827889845206,21.72620131230342,-19.32686485417786,12.3467184699562,-3.5995107020397143,-7.065278565212902,20.33109810208868,12.791340706674989,15.961881843786088,27.25425464397525,17.327157340577365,2.1189382441146036,-2.035627598951116,18.666135942067026,3.126192299128943,9.003496377708544,3.860302339126536,10.104857458065915,13.645600483735093,14.235381560242196,-11.91907825734631,12.579840829892246,14.37249235328785,13.812893370915676,-3.484988598074541,5.78840112432347,13.731060307404173,-11.371354932026602,-15.062003051447437,7.820881528580118,4.715850723071924,12.120027085790442,15.548482480196222,14.89049777918797,10.252982619031823,4.76252259045253,20.588028644051644,12.937380330282322,13.037669451230263,0.36811944853232936,16.16027613591703,-6.202516877439819,5.0724439645226305,15.764306146415,18.134365006936097,-9.288412264666194,20.00651004945246,-7.3058591906467125,12.527002242638453,13.476456821440614,12.459886091424162,26.079806107741337,11.111677243349948,14.800890212435775,26.178960069428133,3.827246379474028,27.0321654804713,6.029327304650332,19.271411898435606,5.345636238775603,-13.36959046498984,12.494852436693286,26.632259678839816,22.8970925204482,20.628378550776976,23.583996666248005,-6.694797732283457,2.5102691020657497,-22.777448719727996,-1.9273910610342817,11.440940459224766,32.75597627312277,16.856890754691275,-2.589118036796456,15.260467409103494,10.851131282291494,6.673272696714193,-4.2243322460661,4.6098463500886915,17.12121041820108,2.606322625939697,6.58318041632299,12.56422174741099,23.663669808012052,15.586839016519258,2.096513620257632,18.194363130279847,15.341647723186467,8.265200458027742,7.5905161456022965,15.239477283912686,9.581066197129735,8.019159350119667,-6.9155582736551136,3.504193250175061,7.625234846826739,13.376881343034867,3.511427915054774,6.348963345102835,9.431551797020443,-7.473905142666375,1.7071359362470768,3.1618540781640228,24.844484631183725,-12.277229161702392,-14.032325412368065,22.295745934201285,7.322720278836877,-3.5222379150022407,12.735045244065565,-3.0844728311053076,3.5376212951343478,-3.576266553078457,9.791125472437598,15.492184961529578,18.034409682961563,8.197677593363185,14.850855052511669,15.945627482870874,-0.15174653617320266,21.982490073384138,17.42248862470789,-8.09762756636794,1.3197269205619313,15.79457014226997,14.179717588761152,15.327324991970215,-1.785831850295868,13.748273478224755,-17.57171893370711,5.839015094927253,-14.1374062830031,12.94974278567831,-14.983612829728129,9.428542337968098,32.26028107254644,15.963931640559268,1.4169279348602775,0.11792838628549039,-2.973894350339192,-6.042006545405075,-16.991639120554215,1.3744118695702652,8.757283364152707,14.789660471233345,8.719732269564718,1.068822067511011,-10.236491684619647,23.515875241429352,27.540869909902664,-4.450671785277059,-10.039170368983116,16.472858296645715,12.591885498396332,3.7259653957387333,16.326234618014002,21.063862312388068,21.01872789222279,-3.465094910586887,18.770271208859647,19.88094102761736,10.339109166110013,11.747423907136413,16.554703965932884,-16.5703993929778,4.397367508900063,-12.055353827953352,7.181233101447038,19.083217963167975,7.779700932380006,12.486376816351004,14.31020094868424,16.583257911753336,-20.734845714772675,20.97264289114404,0.8987577256402988,23.16793262104088,5.076779788575687,0.03991519365742256,18.4460836221888,9.634275530031461,5.894661943313224,5.065388096980963,-0.8568379080734693,-11.042705256505164,6.111792187512293,8.74476619216332,-0.6409330660439739,6.803649130674265,21.800531502430204,-2.595266405781335,9.774988092692206,6.432439460943761,16.21648727484974,12.866292653659578,2.6132629545363795,9.013174353427557,19.539961769395926,3.156636489883051,7.609002975641053,14.916253082372899,19.667106937320842,-10.62273609604455,-1.5048316666703023,13.75169613764259,-9.35864063139775,1.984213964735354,-3.384422385890814,21.9555471742814,17.21524514132128,7.608959292286727,19.479257771406253,7.03474054585822,19.309536614726387,12.304955975497755,-10.246701581456826,14.637375060966692,30.59713213366432,16.086594317192795,-0.48256341495730926,-4.64800605948676,18.254576628770987,-0.6845696123036555,26.263295418991195,15.166206835841148,9.066516426495095,10.825074417287237,-6.272897657493679,0.8053631391346224,9.948841994473467,0.6660140716587504,22.24462175953105,12.26601662916188,9.047504372688884,10.381893938151372,11.324646930233207,14.659129547390325,18.108138300554376,7.013278443078479,6.954023150274995,-1.832989874162901,4.987008855242013,-0.7821555360475461,9.548830879287507,11.218845777209609,18.06681415759341,27.79598720186026,1.8778282923012448,17.167790937258037,20.026325201138917,25.828635197029385,15.259105989040235,32.41682620517569,21.217417495328885,25.545280437537215,20.30231915051636,8.904069489757202,13.118332135819804,20.572678285391977,15.029355966865062,-6.264077546049488,1.481602512657527,-10.889670917238913,10.774149401326527,16.393263764237048,20.870129714483962,16.120368397280714,-13.930153831966892,8.525883316046908,21.99618523405649,28.59828670911998,11.548520334548188,-7.810843917784254,9.924182082838295,-5.663539792815291,-1.9952702361151695,-13.916058927367184,17.05624229469882,0.6350213207322823,18.436396310009602,2.0208222949144803,24.362829782433117,13.297145914097452,4.459535402673825,-16.968975766385665,22.823585488598415,-0.43141907355608095,18.209461932045304,20.319043223700312,6.173982361666407,12.038726414570435,-6.237979099691677,-6.434093268192061,4.5058311002715845,28.406452663916735,-14.635431148081885,-3.1791332368326812,10.623620288236411,-15.870936163987974,16.28000921137646,30.59102637924373,5.491471886306176,3.0932980443626246,4.80929502240981,9.790817557476995,5.193123623329366,19.03643372318163,16.449939020832034,11.135898166798613,1.4678075693714394,30.983217115835984,-6.320320949847526,3.793560110710916,-11.47177097566876,5.263550252575438,12.437652222229334,5.287722373121668,15.692689931225658,-18.555493594035617,15.493032223146383,25.777516623529646,-0.4131691043291534,23.71258533086575,23.794309992394947,23.780049140523104,13.160141977836572,-3.189020268706711,-4.040799488206816,16.459646218912937,4.275205515790513,-8.926017997506023,11.087506582516223,-12.07920601456582,-7.186858501009074,6.955243906568856,28.762666194904536,15.879194804683,19.61925696623624,-4.421414209829365,13.115777969577755,22.165567646299667,17.780113765874713,9.164988746550502,11.54643674867848,8.575418614595023,-7.634326378761102,13.681364737898935,-5.645251092086883,13.225790734080487,20.59867602777075,20.939897789037428,-5.129375854807969,15.281677301798126,26.500526857391428,22.94997492948087,0.40768263073741196,0.0360335373394248,1.119352514846907,17.36843989170667,-9.661894984131267,25.45743534669313,20.08361319201072,18.979595249815137,-1.5590505104857095,19.319800365902022,11.975243823867117,17.877145499860376,-6.820660573701387,13.084821480596263,21.062353116359116,6.166269105507034,-6.127692980499351,10.364325205261947,-7.348437188717249,15.368213288458005,23.118232536667648,15.960038717589855,16.943514658603515,-19.54962810867716,14.039274613626242,11.518244433230581,17.4513966339944,-9.378564573972769,27.93706025108908,19.666620340125927,14.238238046666169,18.999809063826827,22.36080088597566,21.25275444199388,22.46950080017162,14.629297653351323,18.136327653911216,5.9054984208671755,-3.9846119825722823,13.282350420033499,17.611470879026815,18.313569831276318,19.407394118700516,15.432445229280415,9.106137250185803,-2.203386279614241,-21.153457996198632,20.254198779519253,10.471393229429294,26.663126917541973,4.3319417548183585,23.622992246818196,25.778892241794477,6.691297820964872,21.831416175640754,11.819942356776464,32.28859946777788,18.786924933014568,0.6048631052104089,18.36867372043124,-1.5454501116062846,15.136101228330872,-2.575012111478979,2.597287328863282,-1.1826934749235145,-19.706666390590655,-11.886050251590511,17.752585693327042,0.05806035298448864,10.165390804424812,14.90375582049098,13.24148190856508,12.266891262068933,-1.3423251955700068,17.18693727733121,8.0941639766459,13.506919886747614,13.554151658714277,1.4899728728726356,-15.84402134919781,-16.06633783900113,-17.022162549276548,13.102794406857358,11.85092845135499,24.38835645612711,14.027600761451437,22.261917139196647,17.66291512129383,26.762365323931963,-9.683452900474302,14.513620521815165,11.372044199651123,-5.359253937725151,19.75783048454575,9.683185045499616,4.969831243826275,6.062579810211081,17.84584066562211,18.743267193734717,17.632783005001098,30.424704384594037,17.592188382315296,-9.229199104525938,-16.479294597064094,14.966672634425084,17.98081211599701,6.4787449868541245,-4.2212756810480485,28.92848127910205,14.338962083575005,23.306536290208395,-5.857663682386407,13.991917435057147,19.217086742771446,-1.9624430917746312,-5.83929632037093,22.49479320032806,9.541082113686027,-14.03197400442306,1.3811786347875141,7.386666214883104,19.050783398860144,24.527524138257043,-12.203551961221867,2.8494151747034153,20.000399354885566,16.325234797905775,13.141719843814723,-1.8714301325730984,0.36713805057908144,17.529595439730926,-11.90770629425476,7.962804022943479,8.770953440491795,0.33676577126632223,11.036487631343626,4.62883400868827,19.706811784533684,-0.03456754435635099,23.921592175160608,-3.861050425701873,3.506804958117313,7.731412980082976,3.504195635982453,-3.4006220682452937,24.383643598544626,18.912128529053785,-4.423153505858412,10.123568237454482,23.77097189621703,29.150981858394488,9.486235808105414,-6.90139343948144,6.266936327967671,-0.6500953303786527,2.2605262202309495,-11.073491751047676,20.952011209638613,20.169952911245108,11.418010358816051,-14.800701943765914,5.201288260544759,-0.6975877593323441,-2.0029934908015106,9.760041110989995,6.3786907842284,-9.315014284907726,6.648617286758394,8.35529647435232,13.45713828607045,-6.396969062724594,11.556224481872079,10.169485936526755,7.920389997365351,-13.285276721747339,17.695126179174203,3.4433187288752607,1.7995171472496825,4.644009136981543,-21.8025205037303,7.476084835261666,-21.328438933125344,-1.0561282176795548,23.37377472401567,15.380823788013974,-16.10618925399108,15.549898713460676,-19.19434931723647,28.567639116001562,9.646228690349181,10.064456113115336,17.01931934282578,20.449540784079403,-1.7988420294000378,-12.456988873645399,3.1765312220986166,-10.458715239935557,6.313622900421394,5.104115512987534,8.33712179625578,26.38045677919854,22.12281835498823,-9.377426793788505,1.9762427742048119,14.878549044849551,16.145639434947164,22.88466746401275,25.55455676164071,16.483661179193987,25.18454815184078,11.6314848796801,11.942984777169,-0.13251354439499616,5.53047176719456,16.38872125607548,15.844352738196104,17.059078454378554,23.300152617123164,21.141313463309327,20.60624554014084,1.3891062645536467,24.537208598849993,1.4739259387511283,21.14741784180445,-6.004003125347871,12.338397085939185,2.1498776953144128,13.218938150220028,29.894508894676356,-0.8914807515824178,-2.4847717774144296,12.571851044382866,22.184549409572707,16.540074499287815,29.165954705466806,6.335224064253112,16.719143097022542,-18.639288503857347,19.274612931053337,15.500748373399244,12.438269428162556]}},\"id\":\"97e8a1c4-9f7a-486f-b5d4-d32f436a97ee\",\"type\":\"ColumnDataSource\"},{\"attributes\":{},\"id\":\"7fa70b78-2c0d-4178-9002-d86651b8823d\",\"type\":\"BasicTicker\"},{\"attributes\":{\"callback\":null,\"plot\":{\"id\":\"801b26a6-4521-45e6-a734-181555e804df\",\"subtype\":\"Figure\",\"type\":\"Plot\"},\"tooltips\":[[\"words\",\"@words\"]]},\"id\":\"a5305f9b-1b6f-4c8f-90ef-218fabe6b9ff\",\"type\":\"HoverTool\"},{\"attributes\":{\"plot\":{\"id\":\"801b26a6-4521-45e6-a734-181555e804df\",\"subtype\":\"Figure\",\"type\":\"Plot\"}},\"id\":\"51507d15-d983-4159-af87-32fb1cc65b7b\",\"type\":\"WheelZoomTool\"},{\"attributes\":{\"dimension\":1,\"plot\":{\"id\":\"801b26a6-4521-45e6-a734-181555e804df\",\"subtype\":\"Figure\",\"type\":\"Plot\"},\"ticker\":{\"id\":\"7fa70b78-2c0d-4178-9002-d86651b8823d\",\"type\":\"BasicTicker\"}},\"id\":\"8aff4e12-5a02-4717-aef8-14db19dd1334\",\"type\":\"Grid\"},{\"attributes\":{\"data_source\":{\"id\":\"97e8a1c4-9f7a-486f-b5d4-d32f436a97ee\",\"type\":\"ColumnDataSource\"},\"glyph\":{\"id\":\"ae0b70c7-c59a-41df-88cb-431f12b0ef67\",\"type\":\"Circle\"},\"hover_glyph\":null,\"nonselection_glyph\":{\"id\":\"e7de9939-c756-46d3-86dc-6f4d00ad1ab2\",\"type\":\"Circle\"},\"selection_glyph\":null},\"id\":\"7da05ca8-1808-43f1-b627-a96433d1724c\",\"type\":\"GlyphRenderer\"},{\"attributes\":{\"formatter\":{\"id\":\"f83e329b-5274-4f09-9165-516c7e96a879\",\"type\":\"BasicTickFormatter\"},\"plot\":{\"id\":\"801b26a6-4521-45e6-a734-181555e804df\",\"subtype\":\"Figure\",\"type\":\"Plot\"},\"ticker\":{\"id\":\"7fa70b78-2c0d-4178-9002-d86651b8823d\",\"type\":\"BasicTicker\"}},\"id\":\"a902cf2e-8cda-42e0-b992-98dd8f62238b\",\"type\":\"LinearAxis\"},{\"attributes\":{\"plot\":{\"id\":\"801b26a6-4521-45e6-a734-181555e804df\",\"subtype\":\"Figure\",\"type\":\"Plot\"}},\"id\":\"a4afb248-94a2-4c20-87b2-bf8cba549dc3\",\"type\":\"ResetTool\"},{\"attributes\":{\"plot\":{\"id\":\"801b26a6-4521-45e6-a734-181555e804df\",\"subtype\":\"Figure\",\"type\":\"Plot\"},\"ticker\":{\"id\":\"46e0ca25-234f-45e6-95fc-142e2ee53064\",\"type\":\"BasicTicker\"}},\"id\":\"6010e627-88ff-47f8-8ff0-22057c553bec\",\"type\":\"Grid\"},{\"attributes\":{\"plot\":{\"id\":\"801b26a6-4521-45e6-a734-181555e804df\",\"subtype\":\"Figure\",\"type\":\"Plot\"}},\"id\":\"43d384f5-05b7-4ab2-aa88-f5de9f9ed963\",\"type\":\"PanTool\"},{\"attributes\":{\"formatter\":{\"id\":\"9523466e-1548-43aa-ad86-494b51df6d24\",\"type\":\"BasicTickFormatter\"},\"plot\":{\"id\":\"801b26a6-4521-45e6-a734-181555e804df\",\"subtype\":\"Figure\",\"type\":\"Plot\"},\"ticker\":{\"id\":\"46e0ca25-234f-45e6-95fc-142e2ee53064\",\"type\":\"BasicTicker\"}},\"id\":\"db715d70-ed4c-414d-bb0f-11adc9273212\",\"type\":\"LinearAxis\"},{\"attributes\":{\"bottom_units\":\"screen\",\"fill_alpha\":{\"value\":0.5},\"fill_color\":{\"value\":\"lightgrey\"},\"left_units\":\"screen\",\"level\":\"overlay\",\"line_alpha\":{\"value\":1.0},\"line_color\":{\"value\":\"black\"},\"line_dash\":[4,4],\"line_width\":{\"value\":2},\"plot\":null,\"render_mode\":\"css\",\"right_units\":\"screen\",\"top_units\":\"screen\"},\"id\":\"edcd6148-7fdf-4356-8beb-0d75b844d7ab\",\"type\":\"BoxAnnotation\"}],\"root_ids\":[\"801b26a6-4521-45e6-a734-181555e804df\"]},\"title\":\"Bokeh Application\",\"version\":\"0.12.0\"}};\n",
       "            var render_items = [{\"docid\":\"7e9502a7-9881-4e23-96e8-19a5b2979ead\",\"elementid\":\"bb35ed01-981a-42dd-ae0d-a1ca29c3b05e\",\"modelid\":\"801b26a6-4521-45e6-a734-181555e804df\",\"notebook_comms_target\":\"8c85a698-391f-4773-91d5-e54f71a21bc8\"}];\n",
       "            \n",
       "            Bokeh.embed.embed_items(docs_json, render_items);\n",
       "        });\n",
       "      },\n",
       "      function(Bokeh) {\n",
       "      }\n",
       "    ];\n",
       "  \n",
       "    function run_inline_js() {\n",
       "      for (var i = 0; i < inline_js.length; i++) {\n",
       "        inline_js[i](window.Bokeh);\n",
       "      }\n",
       "    }\n",
       "  \n",
       "    if (window._bokeh_is_loading === 0) {\n",
       "      console.log(\"Bokeh: BokehJS loaded, going straight to plotting\");\n",
       "      run_inline_js();\n",
       "    } else {\n",
       "      load_libs(js_urls, function() {\n",
       "        console.log(\"Bokeh: BokehJS plotting callback run at\", now());\n",
       "        run_inline_js();\n",
       "      });\n",
       "    }\n",
       "  }(this));\n",
       "</script>"
      ]
     },
     "metadata": {},
     "output_type": "display_data"
    },
    {
     "data": {
      "text/html": [
       "<p><code>&lt;Bokeh Notebook handle for <strong>In[53]</strong>&gt;</code></p>"
      ],
      "text/plain": [
       "<bokeh.io._CommsHandle at 0x7f975c470f28>"
      ]
     },
     "execution_count": 53,
     "metadata": {},
     "output_type": "execute_result"
    }
   ],
   "source": [
    "words = list(words_to_plot.keys())\n",
    "range_words=list(range(1,len(words)+1))\n",
    "\n",
    "source = ColumnDataSource(data=dict(range_words=range_words,\n",
    "                                    words=words,\n",
    "                                    x=low_dim_embs[:,0], \n",
    "                                    y=low_dim_embs[:,1]))\n",
    "\n",
    "hover = HoverTool()\n",
    "hover.point_policy = \"follow_mouse\"\n",
    "hover = HoverTool(\n",
    "        tooltips=[\n",
    "            (\"words\", \"@words\"),\n",
    "        ]\n",
    "    )\n",
    "\n",
    "TOOLS=\"pan,wheel_zoom,box_zoom,reset,save\"\n",
    "\n",
    "\n",
    "p = figure(title = \"Word visualization\", tools=[TOOLS, hover])\n",
    "p.circle('x', 'y', source=source, fill_alpha=0.2, size=10, color='navy')\n",
    "\n",
    "show(p)"
   ]
  },
  {
   "cell_type": "code",
   "execution_count": 54,
   "metadata": {
    "collapsed": false
   },
   "outputs": [
    {
     "data": {
      "text/plain": [
       "[('the', 0.9998200535774231),\n",
       " ('to', 0.9998089671134949),\n",
       " ('a', 0.999801516532898),\n",
       " ('!', 0.99979567527771),\n",
       " ('i', 0.999795138835907),\n",
       " ('and', 0.9997925758361816),\n",
       " ('for', 0.9997901916503906),\n",
       " ('<url>', 0.9997870922088623),\n",
       " ('\"', 0.9997828006744385),\n",
       " ('in', 0.9997826814651489)]"
      ]
     },
     "execution_count": 54,
     "metadata": {},
     "output_type": "execute_result"
    }
   ],
   "source": [
    "model.most_similar(\"python\")"
   ]
  },
  {
   "cell_type": "code",
   "execution_count": 55,
   "metadata": {
    "collapsed": false
   },
   "outputs": [],
   "source": [
    "X_train_word2vec = get_embeddings(X_train_tokenized, model, 100)\n",
    "X_test_word2vec = get_embeddings(X_test_tokenized, model, 100)"
   ]
  },
  {
   "cell_type": "markdown",
   "metadata": {},
   "source": [
    "##  3.  Now fight! "
   ]
  },
  {
   "cell_type": "code",
   "execution_count": 56,
   "metadata": {
    "collapsed": false
   },
   "outputs": [],
   "source": [
    "from sklearn import svm\n",
    "from sklearn.metrics import classification_report, roc_curve, auc"
   ]
  },
  {
   "cell_type": "code",
   "execution_count": 57,
   "metadata": {
    "collapsed": false
   },
   "outputs": [
    {
     "name": "stdout",
     "output_type": "stream",
     "text": [
      "             precision    recall  f1-score   support\n",
      "\n",
      "       Bros       0.00      0.00      0.00       411\n",
      "        Sis       0.49      1.00      0.65       389\n",
      "\n",
      "avg / total       0.24      0.48      0.32       800\n",
      "\n"
     ]
    }
   ],
   "source": [
    "clf = svm.SVC()\n",
    "clf.fit(BOW_train, y_train)  \n",
    "predicction_BOW = clf.predict(BOW_test)\n",
    "target_names = ['Bros', 'Sis']\n",
    "print(classification_report(y_test, predicction_BOW,  target_names=target_names))"
   ]
  },
  {
   "cell_type": "code",
   "execution_count": 58,
   "metadata": {
    "collapsed": false
   },
   "outputs": [
    {
     "name": "stdout",
     "output_type": "stream",
     "text": [
      "             precision    recall  f1-score   support\n",
      "\n",
      "       Bros       0.66      0.60      0.62       411\n",
      "        Sis       0.61      0.67      0.64       389\n",
      "\n",
      "avg / total       0.63      0.63      0.63       800\n",
      "\n"
     ]
    }
   ],
   "source": [
    "clf = svm.SVC()\n",
    "clf.fit(X_train_GloVe, y_train)\n",
    "predicction_GloVe = clf.predict(X_test_GloVe)\n",
    "print(classification_report(y_test, predicction_GloVe,  target_names=target_names))"
   ]
  },
  {
   "cell_type": "code",
   "execution_count": 94,
   "metadata": {
    "collapsed": false
   },
   "outputs": [
    {
     "name": "stdout",
     "output_type": "stream",
     "text": [
      "             precision    recall  f1-score   support\n",
      "\n",
      "       Bros       0.00      0.00      0.00       411\n",
      "        Sis       0.49      1.00      0.65       389\n",
      "\n",
      "avg / total       0.24      0.49      0.32       800\n",
      "\n"
     ]
    },
    {
     "name": "stderr",
     "output_type": "stream",
     "text": [
      "/home/mgimenez/Dev/tools/miniconda3/envs/coolkids/lib/python3.4/site-packages/sklearn/metrics/classification.py:1074: UndefinedMetricWarning: Precision and F-score are ill-defined and being set to 0.0 in labels with no predicted samples.\n",
      "  'precision', 'predicted', average, warn_for)\n"
     ]
    }
   ],
   "source": [
    "clf = svm.SVC()\n",
    "clf.fit(X_train_word2vec, y_train)\n",
    "predicction_word2vec = clf.predict(X_test_word2vec)\n",
    "print(classification_report(y_test, predicction_word2vec,  target_names=target_names))"
   ]
  },
  {
   "cell_type": "code",
   "execution_count": 95,
   "metadata": {
    "collapsed": false
   },
   "outputs": [],
   "source": [
    "false_positive_rate_bow, true_positive_rate_bow, _ = roc_curve(y_test, predicction_BOW)\n",
    "roc_auc_bow = auc(false_positive_rate_bow, true_positive_rate_bow)\n",
    "\n",
    "false_positive_rate_glove, true_positive_rate_glove, _ = roc_curve(y_test, predicction_GloVe)\n",
    "roc_auc_glove = auc(false_positive_rate_glove, true_positive_rate_glove)\n",
    "\n",
    "false_positive_rate_w2v, true_positive_rate_w2v, _ = roc_curve(y_test, predicction_word2vec)\n",
    "roc_auc_w2v = auc(false_positive_rate_w2v, true_positive_rate_w2v)"
   ]
  },
  {
   "cell_type": "code",
   "execution_count": 96,
   "metadata": {
    "collapsed": false
   },
   "outputs": [
    {
     "data": {
      "text/html": [
       "\n",
       "\n",
       "    <div class=\"bk-root\">\n",
       "        <div class=\"plotdiv\" id=\"46ac917e-89ff-43ed-a7ca-f1058030b2cf\"></div>\n",
       "    </div>\n",
       "<script type=\"text/javascript\">\n",
       "  \n",
       "  (function(global) {\n",
       "    function now() {\n",
       "      return new Date();\n",
       "    }\n",
       "  \n",
       "    if (typeof (window._bokeh_onload_callbacks) === \"undefined\") {\n",
       "      window._bokeh_onload_callbacks = [];\n",
       "    }\n",
       "  \n",
       "    function run_callbacks() {\n",
       "      window._bokeh_onload_callbacks.forEach(function(callback) { callback() });\n",
       "      delete window._bokeh_onload_callbacks\n",
       "      console.info(\"Bokeh: all callbacks have finished\");\n",
       "    }\n",
       "  \n",
       "    function load_libs(js_urls, callback) {\n",
       "      window._bokeh_onload_callbacks.push(callback);\n",
       "      if (window._bokeh_is_loading > 0) {\n",
       "        console.log(\"Bokeh: BokehJS is being loaded, scheduling callback at\", now());\n",
       "        return null;\n",
       "      }\n",
       "      if (js_urls == null || js_urls.length === 0) {\n",
       "        run_callbacks();\n",
       "        return null;\n",
       "      }\n",
       "      console.log(\"Bokeh: BokehJS not loaded, scheduling load and callback at\", now());\n",
       "      window._bokeh_is_loading = js_urls.length;\n",
       "      for (var i = 0; i < js_urls.length; i++) {\n",
       "        var url = js_urls[i];\n",
       "        var s = document.createElement('script');\n",
       "        s.src = url;\n",
       "        s.async = false;\n",
       "        s.onreadystatechange = s.onload = function() {\n",
       "          window._bokeh_is_loading--;\n",
       "          if (window._bokeh_is_loading === 0) {\n",
       "            console.log(\"Bokeh: all BokehJS libraries loaded\");\n",
       "            run_callbacks()\n",
       "          }\n",
       "        };\n",
       "        s.onerror = function() {\n",
       "          console.warn(\"failed to load library \" + url);\n",
       "        };\n",
       "        console.log(\"Bokeh: injecting script tag for BokehJS library: \", url);\n",
       "        document.getElementsByTagName(\"head\")[0].appendChild(s);\n",
       "      }\n",
       "    };var element = document.getElementById(\"46ac917e-89ff-43ed-a7ca-f1058030b2cf\");\n",
       "    if (element == null) {\n",
       "      console.log(\"Bokeh: ERROR: autoload.js configured with elementid '46ac917e-89ff-43ed-a7ca-f1058030b2cf' but no matching script tag was found. \")\n",
       "      return false;\n",
       "    }\n",
       "  \n",
       "    var js_urls = [];\n",
       "  \n",
       "    var inline_js = [\n",
       "      function(Bokeh) {\n",
       "        Bokeh.$(function() {\n",
       "            var docs_json = {\"c4975de6-3dd3-4ca9-aa99-4023b9800560\":{\"roots\":{\"references\":[{\"attributes\":{\"data_source\":{\"id\":\"756fb32e-9a1a-4715-948d-c150bc2485bd\",\"type\":\"ColumnDataSource\"},\"glyph\":{\"id\":\"7c404d04-84d5-42e4-93c6-39770d16efec\",\"type\":\"Line\"},\"hover_glyph\":null,\"nonselection_glyph\":{\"id\":\"eeaffbc8-db06-4468-9a59-fc510a87846d\",\"type\":\"Line\"},\"selection_glyph\":null},\"id\":\"f7bdf180-8a82-489c-a4b7-aaf38268fc8d\",\"type\":\"GlyphRenderer\"},{\"attributes\":{\"callback\":null},\"id\":\"8d743fa6-f7c4-4f1c-9bc2-7c56801b2310\",\"type\":\"DataRange1d\"},{\"attributes\":{\"callback\":null,\"column_names\":[\"x\",\"y\"],\"data\":{\"x\":[0.0,1.0,1.0],\"y\":[0.0,0.9974293059125964,1.0]}},\"id\":\"1a37cb20-e35d-4dc3-87c1-a4d925bfa698\",\"type\":\"ColumnDataSource\"},{\"attributes\":{\"plot\":{\"id\":\"e5ab1ce2-1c0d-43a5-948a-62ffa6af77b0\",\"subtype\":\"Figure\",\"type\":\"Plot\"}},\"id\":\"e27147b6-8378-44c4-bec6-d36f2894dd78\",\"type\":\"SaveTool\"},{\"attributes\":{\"data_source\":{\"id\":\"1a37cb20-e35d-4dc3-87c1-a4d925bfa698\",\"type\":\"ColumnDataSource\"},\"glyph\":{\"id\":\"ce9c6b87-c8d3-4acc-830d-6b27cad59b6c\",\"type\":\"Line\"},\"hover_glyph\":null,\"nonselection_glyph\":{\"id\":\"c00b46c6-a7de-41ac-bc84-dae3d64a4d75\",\"type\":\"Line\"},\"selection_glyph\":null},\"id\":\"e1a70768-fdca-4d56-b5aa-620166dafffd\",\"type\":\"GlyphRenderer\"},{\"attributes\":{\"below\":[{\"id\":\"38b90a01-2873-4615-b823-c11fc7ba57c1\",\"type\":\"LinearAxis\"}],\"left\":[{\"id\":\"7113759a-21a7-4036-a7a0-5d24e5787f02\",\"type\":\"LinearAxis\"}],\"renderers\":[{\"id\":\"38b90a01-2873-4615-b823-c11fc7ba57c1\",\"type\":\"LinearAxis\"},{\"id\":\"781ef217-d3c5-4e75-a989-0d492b5b0f00\",\"type\":\"Grid\"},{\"id\":\"7113759a-21a7-4036-a7a0-5d24e5787f02\",\"type\":\"LinearAxis\"},{\"id\":\"3516b845-3096-4ae4-b172-011b1186b0b3\",\"type\":\"Grid\"},{\"id\":\"20256a58-a677-45d7-bb09-ac77b91c06a2\",\"type\":\"BoxAnnotation\"},{\"id\":\"c60b0a80-8186-437d-aef9-d360b9f00c7d\",\"type\":\"Legend\"},{\"id\":\"e1a70768-fdca-4d56-b5aa-620166dafffd\",\"type\":\"GlyphRenderer\"},{\"id\":\"fffd20d8-8cb3-4586-b5cb-3778f74dc39f\",\"type\":\"GlyphRenderer\"},{\"id\":\"f7bdf180-8a82-489c-a4b7-aaf38268fc8d\",\"type\":\"GlyphRenderer\"},{\"id\":\"5d83ff19-ff21-48bf-93f6-7511ee1b196a\",\"type\":\"GlyphRenderer\"}],\"title\":{\"id\":\"e5c53349-806f-4bf9-9f87-61b5e8f9b704\",\"type\":\"Title\"},\"tool_events\":{\"id\":\"f10bfc93-b049-4df0-be94-52e4c79625e0\",\"type\":\"ToolEvents\"},\"toolbar\":{\"id\":\"e550423d-4d30-4e48-982d-6682963dee0c\",\"type\":\"Toolbar\"},\"x_range\":{\"id\":\"96151129-e1e6-448b-ab48-bc249510c83f\",\"type\":\"DataRange1d\"},\"y_range\":{\"id\":\"8d743fa6-f7c4-4f1c-9bc2-7c56801b2310\",\"type\":\"DataRange1d\"}},\"id\":\"e5ab1ce2-1c0d-43a5-948a-62ffa6af77b0\",\"subtype\":\"Figure\",\"type\":\"Plot\"},{\"attributes\":{\"callback\":null,\"column_names\":[\"x\",\"y\"],\"data\":{\"x\":[0.0,0.40389294403892945,1.0],\"y\":[0.0,0.6709511568123393,1.0]}},\"id\":\"2e3de364-6586-4d97-8be0-ccc011101bb9\",\"type\":\"ColumnDataSource\"},{\"attributes\":{\"plot\":{\"id\":\"e5ab1ce2-1c0d-43a5-948a-62ffa6af77b0\",\"subtype\":\"Figure\",\"type\":\"Plot\"},\"ticker\":{\"id\":\"c18ffb10-3ffb-434d-8b44-353db44cb354\",\"type\":\"BasicTicker\"}},\"id\":\"781ef217-d3c5-4e75-a989-0d492b5b0f00\",\"type\":\"Grid\"},{\"attributes\":{\"plot\":{\"id\":\"e5ab1ce2-1c0d-43a5-948a-62ffa6af77b0\",\"subtype\":\"Figure\",\"type\":\"Plot\"}},\"id\":\"8945a77a-ee88-4196-94c8-58700cd55876\",\"type\":\"PanTool\"},{\"attributes\":{\"line_color\":{\"value\":\"green\"},\"line_width\":{\"value\":2},\"x\":{\"field\":\"x\"},\"y\":{\"field\":\"y\"}},\"id\":\"ce9c6b87-c8d3-4acc-830d-6b27cad59b6c\",\"type\":\"Line\"},{\"attributes\":{},\"id\":\"bf9d2ae0-070b-44dc-bc9f-fd760b17e07b\",\"type\":\"BasicTickFormatter\"},{\"attributes\":{\"plot\":{\"id\":\"e5ab1ce2-1c0d-43a5-948a-62ffa6af77b0\",\"subtype\":\"Figure\",\"type\":\"Plot\"}},\"id\":\"03976447-e35a-4908-9ae1-b1cc061f8826\",\"type\":\"WheelZoomTool\"},{\"attributes\":{\"dimension\":1,\"plot\":{\"id\":\"e5ab1ce2-1c0d-43a5-948a-62ffa6af77b0\",\"subtype\":\"Figure\",\"type\":\"Plot\"},\"ticker\":{\"id\":\"208c9595-df95-4b3e-8588-060b3c5b6b7a\",\"type\":\"BasicTicker\"}},\"id\":\"3516b845-3096-4ae4-b172-011b1186b0b3\",\"type\":\"Grid\"},{\"attributes\":{\"callback\":null,\"column_names\":[\"x\",\"y\"],\"data\":{\"x\":[0.0,1.0],\"y\":[0.0,1.0]}},\"id\":\"756fb32e-9a1a-4715-948d-c150bc2485bd\",\"type\":\"ColumnDataSource\"},{\"attributes\":{\"line_alpha\":{\"value\":0.1},\"line_color\":{\"value\":\"#1f77b4\"},\"line_width\":{\"value\":2},\"x\":{\"field\":\"x\"},\"y\":{\"field\":\"y\"}},\"id\":\"c00b46c6-a7de-41ac-bc84-dae3d64a4d75\",\"type\":\"Line\"},{\"attributes\":{\"line_color\":{\"value\":\"yellow\"},\"line_width\":{\"value\":2},\"x\":{\"field\":\"x\"},\"y\":{\"field\":\"y\"}},\"id\":\"7c404d04-84d5-42e4-93c6-39770d16efec\",\"type\":\"Line\"},{\"attributes\":{\"callback\":null,\"column_names\":[\"y\",\"x\"],\"data\":{\"x\":[0.0,1.0],\"y\":[0.0,1.05]}},\"id\":\"fd07d7bc-0a75-4e2f-8ce3-805e4d1cd649\",\"type\":\"ColumnDataSource\"},{\"attributes\":{\"active_drag\":\"auto\",\"active_scroll\":\"auto\",\"active_tap\":\"auto\",\"tools\":[{\"id\":\"8945a77a-ee88-4196-94c8-58700cd55876\",\"type\":\"PanTool\"},{\"id\":\"03976447-e35a-4908-9ae1-b1cc061f8826\",\"type\":\"WheelZoomTool\"},{\"id\":\"a889f2c6-ca71-4b79-bdc1-a8c565f31718\",\"type\":\"BoxZoomTool\"},{\"id\":\"d433a2a1-bc4c-4e8b-a4b5-097761002bce\",\"type\":\"ResetTool\"},{\"id\":\"e27147b6-8378-44c4-bec6-d36f2894dd78\",\"type\":\"SaveTool\"}]},\"id\":\"e550423d-4d30-4e48-982d-6682963dee0c\",\"type\":\"Toolbar\"},{\"attributes\":{},\"id\":\"c18ffb10-3ffb-434d-8b44-353db44cb354\",\"type\":\"BasicTicker\"},{\"attributes\":{\"bottom_units\":\"screen\",\"fill_alpha\":{\"value\":0.5},\"fill_color\":{\"value\":\"lightgrey\"},\"left_units\":\"screen\",\"level\":\"overlay\",\"line_alpha\":{\"value\":1.0},\"line_color\":{\"value\":\"black\"},\"line_dash\":[4,4],\"line_width\":{\"value\":2},\"plot\":null,\"render_mode\":\"css\",\"right_units\":\"screen\",\"top_units\":\"screen\"},\"id\":\"20256a58-a677-45d7-bb09-ac77b91c06a2\",\"type\":\"BoxAnnotation\"},{\"attributes\":{\"line_alpha\":{\"value\":0.1},\"line_color\":{\"value\":\"#1f77b4\"},\"line_width\":{\"value\":2},\"x\":{\"field\":\"x\"},\"y\":{\"field\":\"y\"}},\"id\":\"d94feb45-02bf-4a8a-aeb4-c91380ff10dc\",\"type\":\"Line\"},{\"attributes\":{\"data_source\":{\"id\":\"2e3de364-6586-4d97-8be0-ccc011101bb9\",\"type\":\"ColumnDataSource\"},\"glyph\":{\"id\":\"b9095c01-8137-477f-9fe0-5a146526e4b5\",\"type\":\"Line\"},\"hover_glyph\":null,\"nonselection_glyph\":{\"id\":\"d94feb45-02bf-4a8a-aeb4-c91380ff10dc\",\"type\":\"Line\"},\"selection_glyph\":null},\"id\":\"fffd20d8-8cb3-4586-b5cb-3778f74dc39f\",\"type\":\"GlyphRenderer\"},{\"attributes\":{},\"id\":\"208c9595-df95-4b3e-8588-060b3c5b6b7a\",\"type\":\"BasicTicker\"},{\"attributes\":{\"plot\":null,\"text\":\"Receiver Operating Characteristic\"},\"id\":\"e5c53349-806f-4bf9-9f87-61b5e8f9b704\",\"type\":\"Title\"},{\"attributes\":{\"line_color\":{\"value\":\"blue\"},\"line_width\":{\"value\":2},\"x\":{\"field\":\"x\"},\"y\":{\"field\":\"y\"}},\"id\":\"b9095c01-8137-477f-9fe0-5a146526e4b5\",\"type\":\"Line\"},{\"attributes\":{\"axis_label\":\"False Positive Rate\",\"formatter\":{\"id\":\"bf9d2ae0-070b-44dc-bc9f-fd760b17e07b\",\"type\":\"BasicTickFormatter\"},\"plot\":{\"id\":\"e5ab1ce2-1c0d-43a5-948a-62ffa6af77b0\",\"subtype\":\"Figure\",\"type\":\"Plot\"},\"ticker\":{\"id\":\"c18ffb10-3ffb-434d-8b44-353db44cb354\",\"type\":\"BasicTicker\"}},\"id\":\"38b90a01-2873-4615-b823-c11fc7ba57c1\",\"type\":\"LinearAxis\"},{\"attributes\":{},\"id\":\"2ca954df-fa35-4dde-9c5c-3d01864f405b\",\"type\":\"BasicTickFormatter\"},{\"attributes\":{\"line_alpha\":{\"value\":0.1},\"line_color\":{\"value\":\"#1f77b4\"},\"line_width\":{\"value\":2},\"x\":{\"field\":\"x\"},\"y\":{\"field\":\"y\"}},\"id\":\"eeaffbc8-db06-4468-9a59-fc510a87846d\",\"type\":\"Line\"},{\"attributes\":{\"data_source\":{\"id\":\"fd07d7bc-0a75-4e2f-8ce3-805e4d1cd649\",\"type\":\"ColumnDataSource\"},\"glyph\":{\"id\":\"99a1b4e0-df3a-4fcb-a66e-c6bd63b7c3ec\",\"type\":\"Line\"},\"hover_glyph\":null,\"nonselection_glyph\":{\"id\":\"d3cabd3e-599e-42c1-a075-c6afdef7cd97\",\"type\":\"Line\"},\"selection_glyph\":null},\"id\":\"5d83ff19-ff21-48bf-93f6-7511ee1b196a\",\"type\":\"GlyphRenderer\"},{\"attributes\":{\"legends\":[[\"BoW ROC curve (area = 0.50)\",[{\"id\":\"e1a70768-fdca-4d56-b5aa-620166dafffd\",\"type\":\"GlyphRenderer\"}]],[\"GloVE ROC curve (area = 0.63)\",[{\"id\":\"fffd20d8-8cb3-4586-b5cb-3778f74dc39f\",\"type\":\"GlyphRenderer\"}]],[\"W2V ROC curve (area = 0.50)\",[{\"id\":\"f7bdf180-8a82-489c-a4b7-aaf38268fc8d\",\"type\":\"GlyphRenderer\"}]],[\"Guessing\",[{\"id\":\"5d83ff19-ff21-48bf-93f6-7511ee1b196a\",\"type\":\"GlyphRenderer\"}]]],\"location\":\"bottom_right\",\"plot\":{\"id\":\"e5ab1ce2-1c0d-43a5-948a-62ffa6af77b0\",\"subtype\":\"Figure\",\"type\":\"Plot\"}},\"id\":\"c60b0a80-8186-437d-aef9-d360b9f00c7d\",\"type\":\"Legend\"},{\"attributes\":{\"plot\":{\"id\":\"e5ab1ce2-1c0d-43a5-948a-62ffa6af77b0\",\"subtype\":\"Figure\",\"type\":\"Plot\"}},\"id\":\"d433a2a1-bc4c-4e8b-a4b5-097761002bce\",\"type\":\"ResetTool\"},{\"attributes\":{},\"id\":\"f10bfc93-b049-4df0-be94-52e4c79625e0\",\"type\":\"ToolEvents\"},{\"attributes\":{\"axis_label\":\"True Positive Rate\",\"formatter\":{\"id\":\"2ca954df-fa35-4dde-9c5c-3d01864f405b\",\"type\":\"BasicTickFormatter\"},\"plot\":{\"id\":\"e5ab1ce2-1c0d-43a5-948a-62ffa6af77b0\",\"subtype\":\"Figure\",\"type\":\"Plot\"},\"ticker\":{\"id\":\"208c9595-df95-4b3e-8588-060b3c5b6b7a\",\"type\":\"BasicTicker\"}},\"id\":\"7113759a-21a7-4036-a7a0-5d24e5787f02\",\"type\":\"LinearAxis\"},{\"attributes\":{\"overlay\":{\"id\":\"20256a58-a677-45d7-bb09-ac77b91c06a2\",\"type\":\"BoxAnnotation\"},\"plot\":{\"id\":\"e5ab1ce2-1c0d-43a5-948a-62ffa6af77b0\",\"subtype\":\"Figure\",\"type\":\"Plot\"}},\"id\":\"a889f2c6-ca71-4b79-bdc1-a8c565f31718\",\"type\":\"BoxZoomTool\"},{\"attributes\":{\"callback\":null},\"id\":\"96151129-e1e6-448b-ab48-bc249510c83f\",\"type\":\"DataRange1d\"},{\"attributes\":{\"line_color\":{\"value\":\"gray\"},\"line_dash\":[4,4],\"line_width\":{\"value\":2},\"x\":{\"field\":\"x\"},\"y\":{\"field\":\"y\"}},\"id\":\"99a1b4e0-df3a-4fcb-a66e-c6bd63b7c3ec\",\"type\":\"Line\"},{\"attributes\":{\"line_alpha\":{\"value\":0.1},\"line_color\":{\"value\":\"#1f77b4\"},\"line_dash\":[4,4],\"line_width\":{\"value\":2},\"x\":{\"field\":\"x\"},\"y\":{\"field\":\"y\"}},\"id\":\"d3cabd3e-599e-42c1-a075-c6afdef7cd97\",\"type\":\"Line\"}],\"root_ids\":[\"e5ab1ce2-1c0d-43a5-948a-62ffa6af77b0\"]},\"title\":\"Bokeh Application\",\"version\":\"0.12.0\"}};\n",
       "            var render_items = [{\"docid\":\"c4975de6-3dd3-4ca9-aa99-4023b9800560\",\"elementid\":\"46ac917e-89ff-43ed-a7ca-f1058030b2cf\",\"modelid\":\"e5ab1ce2-1c0d-43a5-948a-62ffa6af77b0\",\"notebook_comms_target\":\"faef5ae4-8304-4083-8c7d-0b55d4051dd1\"}];\n",
       "            \n",
       "            Bokeh.embed.embed_items(docs_json, render_items);\n",
       "        });\n",
       "      },\n",
       "      function(Bokeh) {\n",
       "      }\n",
       "    ];\n",
       "  \n",
       "    function run_inline_js() {\n",
       "      for (var i = 0; i < inline_js.length; i++) {\n",
       "        inline_js[i](window.Bokeh);\n",
       "      }\n",
       "    }\n",
       "  \n",
       "    if (window._bokeh_is_loading === 0) {\n",
       "      console.log(\"Bokeh: BokehJS loaded, going straight to plotting\");\n",
       "      run_inline_js();\n",
       "    } else {\n",
       "      load_libs(js_urls, function() {\n",
       "        console.log(\"Bokeh: BokehJS plotting callback run at\", now());\n",
       "        run_inline_js();\n",
       "      });\n",
       "    }\n",
       "  }(this));\n",
       "</script>"
      ]
     },
     "metadata": {},
     "output_type": "display_data"
    },
    {
     "data": {
      "text/html": [
       "<p><code>&lt;Bokeh Notebook handle for <strong>In[96]</strong>&gt;</code></p>"
      ],
      "text/plain": [
       "<bokeh.io._CommsHandle at 0x7f975c1dedd8>"
      ]
     },
     "execution_count": 96,
     "metadata": {},
     "output_type": "execute_result"
    }
   ],
   "source": [
    "from bokeh.palettes import Spectral6\n",
    "\n",
    "p = figure(title=\"Receiver Operating Characteristic\", tools=TOOLS)\n",
    "\n",
    "\n",
    "p.line(false_positive_rate_bow, true_positive_rate_bow, legend='BoW ROC curve (area = {:.2f})'.format(roc_auc_bow), \n",
    "       line_color=\"green\", line_width=2)\n",
    "p.line(false_positive_rate_glove, true_positive_rate_glove, \n",
    "       legend='GloVE ROC curve (area = {:.2f})'.format(roc_auc_glove), \n",
    "       line_color=\"blue\", line_width=2)\n",
    "p.line(false_positive_rate_w2v, true_positive_rate_w2v, \n",
    "       legend='W2V ROC curve (area = {:.2f})'.format(roc_auc_w2v), \n",
    "       line_color=\"yellow\", line_width=2)\n",
    "\n",
    "\n",
    "p.line([0.0, 1.0], [0.0, 1.05], legend='Guessing', \n",
    "       line_color=\"gray\", line_width=2, line_dash=(4, 4))\n",
    "\n",
    "p.xaxis.axis_label = 'False Positive Rate'\n",
    "p.yaxis.axis_label = 'True Positive Rate'\n",
    "\n",
    "p.legend.location = 'bottom_right'\n",
    "show(p)  "
   ]
  },
  {
   "cell_type": "code",
   "execution_count": null,
   "metadata": {
    "collapsed": true
   },
   "outputs": [],
   "source": []
  }
 ],
 "metadata": {
  "kernelspec": {
   "display_name": "Python 3",
   "language": "python",
   "name": "python3"
  },
  "language_info": {
   "codemirror_mode": {
    "name": "ipython",
    "version": 3
   },
   "file_extension": ".py",
   "mimetype": "text/x-python",
   "name": "python",
   "nbconvert_exporter": "python",
   "pygments_lexer": "ipython3",
   "version": "3.4.5"
  }
 },
 "nbformat": 4,
 "nbformat_minor": 0
}
