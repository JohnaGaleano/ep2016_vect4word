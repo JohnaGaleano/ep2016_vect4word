{
 "cells": [
  {
   "cell_type": "markdown",
   "metadata": {},
   "source": [
    "# ¡Hola!\n",
    "____________________\n",
    "- **Name:** Maite Giménez.\n",
    "- **Who?:** Ph.D. student at Universitat Politècnica de València.\n",
    "- **Twitter:** @maidotgimenez\n",
    "- **Github:** maigimenez\n",
    "\n",
    "\n",
    "\n",
    "![PyladiesES!](imgs/pyladiesES.png \"PyLadies Spain\")\n",
    "\n",
    "## Where are the slides?\n",
    "It's a notebook and it's available here: [Github/maigimenez/ep2016_vect4word](https://github.com/maigimenez/ep2016_vect4word)"
   ]
  },
  {
   "cell_type": "markdown",
   "metadata": {},
   "source": [
    "# Roadmap\n",
    "\n",
    "1. Point 1\n",
    "2. Point 2\n",
    "3. Point 3"
   ]
  },
  {
   "cell_type": "markdown",
   "metadata": {},
   "source": [
    "# 0. Make a plan!\n",
    "\n",
    "![Science!](imgs/neil.gif \"Loving science!\")"
   ]
  },
  {
   "cell_type": "markdown",
   "metadata": {},
   "source": [
    "## 0.1 Gather your data"
   ]
  },
  {
   "cell_type": "code",
   "execution_count": 1,
   "metadata": {
    "collapsed": true
   },
   "outputs": [],
   "source": [
    "from configparser import ConfigParser\n",
    "from os.path import join\n",
    "from os import pardir"
   ]
  },
  {
   "cell_type": "code",
   "execution_count": 2,
   "metadata": {
    "collapsed": false
   },
   "outputs": [],
   "source": [
    "config = ConfigParser()\n",
    "config.read(join(pardir,'src','credentials.ini'))\n",
    "\n",
    "APP_KEY = config['twitter']['app_key']\n",
    "APP_SECRET = config['twitter']['app_secret']\n",
    "OAUTH_TOKEN =  config['twitter']['oauth_token']\n",
    "OAUTH_TOKEN_SECRET =  config['twitter']['oauth_token_secret']"
   ]
  },
  {
   "cell_type": "code",
   "execution_count": 3,
   "metadata": {
    "collapsed": false
   },
   "outputs": [],
   "source": [
    "from twitter import oauth, Twitter, TwitterHTTPError"
   ]
  },
  {
   "cell_type": "code",
   "execution_count": 4,
   "metadata": {
    "collapsed": true
   },
   "outputs": [],
   "source": [
    "auth = oauth.OAuth(OAUTH_TOKEN, OAUTH_TOKEN_SECRET,\n",
    "                   APP_KEY, APP_SECRET)\n",
    "\n",
    "twitter_api = Twitter(auth=auth)\n",
    "twitter_api.retry = True"
   ]
  },
  {
   "cell_type": "markdown",
   "metadata": {},
   "source": [
    "*Full disclaimer: gender is non a binary issue. This is just a simplified example. If you are willing to expand this experiment, go ahead and contact me!*"
   ]
  },
  {
   "cell_type": "code",
   "execution_count": null,
   "metadata": {
    "collapsed": false
   },
   "outputs": [],
   "source": [
    "brogrammers = ['jakevdp', 'rasbt', 'GaelVaroquaux', 'amuellerml', 'fperez_org', \n",
    "               'fpedregosa', 'ogrisel', 'dontusethiscode', 'randal_olson', 'tdhopper' ] \n",
    "sisgrammers = ['pkafei', 'LorenaABarba', 'jessicamckellar', 'heddle317', 'diana_clarke',\n",
    "               'wholemilk', 'spang', 'cecilycarver', 'juliaelman', 'b0rk']\n",
    "\n",
    "brotweets = []\n",
    "for bro in brogrammers: \n",
    "    brotweets.extend(twitter_api.statuses.user_timeline(screen_name=bro, count=100))\n",
    "\n",
    "sistweets = []\n",
    "for sis in sisgrammers: \n",
    "    sistweets.extend(twitter_api.statuses.user_timeline(screen_name=sis, count=100))"
   ]
  },
  {
   "cell_type": "markdown",
   "metadata": {},
   "source": [
    "## 0.1 Clean your data"
   ]
  },
  {
   "cell_type": "code",
   "execution_count": null,
   "metadata": {
    "collapsed": false
   },
   "outputs": [],
   "source": [
    "import re\n",
    "\n",
    "def clean_tweet(tweet):\n",
    "    \"\"\" Simplest preprocess.\n",
    "\n",
    "    Convert a tweet to lowercarse and replace URLs and @username by a generic token\n",
    "\n",
    "    Args:\n",
    "        tweet (str): Tweet to clean.\n",
    "\n",
    "    Returns:\n",
    "        str: Preprocessed tweet\n",
    "    \"\"\"\n",
    "    \n",
    "    tweet = tweet.lower()\n",
    "    \n",
    "    # Remove URL and replace them with a token\n",
    "    URL_REGEX = r'http[s]?://(?:[a-zA-Z]|[0-9]|[$-_@.&+]|[!*\\(\\),]|(?:%[0-9a-fA-F][0-9a-fA-F]))+'\n",
    "    tweet = re.sub(URL_REGEX, '<url>', tweet, flags=re.MULTILINE)\n",
    "    \n",
    "    # Remove usernames and replace them with a token\n",
    "    tweet = re.sub(\"@([A-Za-z0-9_]+)\", \"<user>\", tweet)\n",
    "\n",
    "    # Remove repeated spaces\n",
    "    tweet = re.sub(r\"\\s{2,}\", \" \", tweet)\n",
    "\n",
    "    # If a character is repeated more than 4 time, keep only 3 repetitions.\n",
    "    tweet = re.sub(r'(.)\\1{4,}', r'\\1\\1\\1', tweet)\n",
    "    \n",
    "    return tweet"
   ]
  },
  {
   "cell_type": "code",
   "execution_count": null,
   "metadata": {
    "collapsed": false
   },
   "outputs": [],
   "source": [
    "import pandas as pd\n",
    "\n",
    "dataset = []\n",
    "# Gather the text \n",
    "for tweet in brotweets:\n",
    "    cleaned_tweet = clean_tweet(tweet['text'])\n",
    "    dataset.append({'id': tweet['id'], 'text': cleaned_tweet, 'class': 0})\n",
    "for tweet in sistweets:\n",
    "    cleaned_tweet = clean_tweet(tweet['text'])\n",
    "    dataset.append({'id': tweet['id'], 'text': cleaned_tweet, 'class': 1})\n",
    "\n",
    "pd_dataset = pd.DataFrame(dataset)"
   ]
  },
  {
   "cell_type": "code",
   "execution_count": null,
   "metadata": {
    "collapsed": false
   },
   "outputs": [],
   "source": [
    "pd_dataset.head()"
   ]
  },
  {
   "cell_type": "markdown",
   "metadata": {},
   "source": [
    "## 0.2. Share your data"
   ]
  },
  {
   "cell_type": "code",
   "execution_count": null,
   "metadata": {
    "collapsed": false
   },
   "outputs": [],
   "source": [
    "pd_dataset.to_csv('../corpora/full_dataset.csv')"
   ]
  },
  {
   "cell_type": "code",
   "execution_count": null,
   "metadata": {
    "collapsed": false
   },
   "outputs": [],
   "source": [
    "pd_dataset[['class', 'id']].to_csv('../corpora/ep16.csv')"
   ]
  },
  {
   "cell_type": "markdown",
   "metadata": {},
   "source": [
    "![Toast!](imgs/toast.gif \"Let's celebrate!\")"
   ]
  },
  {
   "cell_type": "markdown",
   "metadata": {},
   "source": [
    "## 0.3. Study your data"
   ]
  },
  {
   "cell_type": "code",
   "execution_count": 10,
   "metadata": {
    "collapsed": false
   },
   "outputs": [
    {
     "data": {
      "text/html": [
       "<div>\n",
       "<table border=\"1\" class=\"dataframe\">\n",
       "  <thead>\n",
       "    <tr style=\"text-align: right;\">\n",
       "      <th></th>\n",
       "      <th>class</th>\n",
       "      <th>id</th>\n",
       "      <th>text</th>\n",
       "    </tr>\n",
       "  </thead>\n",
       "  <tbody>\n",
       "    <tr>\n",
       "      <th>0</th>\n",
       "      <td>0</td>\n",
       "      <td>752137929871462400</td>\n",
       "      <td>&lt;user&gt; great seeing you today!</td>\n",
       "    </tr>\n",
       "    <tr>\n",
       "      <th>1</th>\n",
       "      <td>0</td>\n",
       "      <td>751510274432131072</td>\n",
       "      <td>\"i just wanted to check that you got my previo...</td>\n",
       "    </tr>\n",
       "    <tr>\n",
       "      <th>2</th>\n",
       "      <td>0</td>\n",
       "      <td>751374701344219136</td>\n",
       "      <td>rt &lt;user&gt;: &lt;user&gt; support for minor bugs may e...</td>\n",
       "    </tr>\n",
       "    <tr>\n",
       "      <th>3</th>\n",
       "      <td>0</td>\n",
       "      <td>751373414435328001</td>\n",
       "      <td>could be controversial, but frankly i think it...</td>\n",
       "    </tr>\n",
       "    <tr>\n",
       "      <th>4</th>\n",
       "      <td>0</td>\n",
       "      <td>751373066987573248</td>\n",
       "      <td>til that &lt;user&gt; plans to drop python 2 support...</td>\n",
       "    </tr>\n",
       "  </tbody>\n",
       "</table>\n",
       "</div>"
      ],
      "text/plain": [
       "   class                  id  \\\n",
       "0      0  752137929871462400   \n",
       "1      0  751510274432131072   \n",
       "2      0  751374701344219136   \n",
       "3      0  751373414435328001   \n",
       "4      0  751373066987573248   \n",
       "\n",
       "                                                text  \n",
       "0                     <user> great seeing you today!  \n",
       "1  \"i just wanted to check that you got my previo...  \n",
       "2  rt <user>: <user> support for minor bugs may e...  \n",
       "3  could be controversial, but frankly i think it...  \n",
       "4  til that <user> plans to drop python 2 support...  "
      ]
     },
     "execution_count": 10,
     "metadata": {},
     "output_type": "execute_result"
    }
   ],
   "source": [
    "import pandas as pd\n",
    "\n",
    "DATASET_PATH = \"../corpora/full_dataset.csv\"\n",
    "pd_dataset = pd.DataFrame.from_csv(DATASET_PATH)\n",
    "pd_dataset.head()"
   ]
  },
  {
   "cell_type": "code",
   "execution_count": 11,
   "metadata": {
    "collapsed": false
   },
   "outputs": [],
   "source": [
    "import nltk.data\n",
    "#nltk.download()   "
   ]
  },
  {
   "cell_type": "code",
   "execution_count": 15,
   "metadata": {
    "collapsed": false
   },
   "outputs": [],
   "source": [
    "from nltk.tokenize import TweetTokenizer, word_tokenize\n",
    "from nltk.corpus import stopwords\n",
    "from collections import Counter\n",
    "import re\n",
    "import scipy.stats as stats"
   ]
  },
  {
   "cell_type": "code",
   "execution_count": 16,
   "metadata": {
    "collapsed": false
   },
   "outputs": [
    {
     "name": "stdout",
     "output_type": "stream",
     "text": [
      "i, me, my, myself, we, our, ours, ourselves, you, your, yours, yourself, yourselves, he, him, his, himself, she, her, hers\n"
     ]
    }
   ],
   "source": [
    "print(', '.join(stopwords.words('english')[:20]))"
   ]
  },
  {
   "cell_type": "code",
   "execution_count": 17,
   "metadata": {
    "collapsed": true
   },
   "outputs": [],
   "source": [
    "def get_vocabulary(corpus, tokenizer):\n",
    "    stop_words = stopwords.words('english')\n",
    "\n",
    "    # Remove puntuation marks\n",
    "    no_punks = [re.sub(r'\\W', ' ', tweet) for tweet in corpus]\n",
    "    \n",
    "    # Tokenize and remove stop words\n",
    "    clean_tokens = []\n",
    "    for tweet in no_punks:\n",
    "        # Replace different numbers with a token\n",
    "        tweet = re.sub(r\"\\.\\d+\\s*\", \".<number> \", tweet)\n",
    "        tweet = re.sub(r\"\\d+\\s*\", \" <number> \", tweet)\n",
    "    \n",
    "        tokens = tokenizer(tweet)\n",
    "        tokens = [token for token in tokens if token not in stop_words]\n",
    "        clean_tokens.extend(tokens)\n",
    "\n",
    "    # Build the vocabulary\n",
    "    return Counter(clean_tokens)"
   ]
  },
  {
   "cell_type": "code",
   "execution_count": 18,
   "metadata": {
    "collapsed": false
   },
   "outputs": [],
   "source": [
    "tknzr = TweetTokenizer()\n",
    "\n",
    "brotweets = pd_dataset[pd_dataset['class'] == 0]['text'].tolist()\n",
    "sistweets = pd_dataset[pd_dataset['class'] == 1]['text'].tolist()\n",
    "\n",
    "brocabulary = get_vocabulary(brotweets, tknzr.tokenize)\n",
    "siscabulary = get_vocabulary(sistweets, tknzr.tokenize)"
   ]
  },
  {
   "cell_type": "code",
   "execution_count": 19,
   "metadata": {
    "collapsed": false
   },
   "outputs": [
    {
     "data": {
      "text/plain": [
       "[('user', 1313),\n",
       " ('url', 676),\n",
       " ('<number>', 483),\n",
       " ('rt', 420),\n",
       " ('python', 96),\n",
       " ('talk', 49),\n",
       " ('learning', 46),\n",
       " ('data', 45),\n",
       " ('new', 43),\n",
       " ('amp', 42)]"
      ]
     },
     "execution_count": 19,
     "metadata": {},
     "output_type": "execute_result"
    }
   ],
   "source": [
    "brocabulary.most_common(10)"
   ]
  },
  {
   "cell_type": "code",
   "execution_count": 20,
   "metadata": {
    "collapsed": false
   },
   "outputs": [
    {
     "data": {
      "text/plain": [
       "[('user', 1009),\n",
       " ('url', 419),\n",
       " ('<number>', 337),\n",
       " ('rt', 234),\n",
       " ('pycon', 54),\n",
       " ('sgdq', 40),\n",
       " ('one', 40),\n",
       " ('get', 39),\n",
       " ('like', 37),\n",
       " ('code', 30)]"
      ]
     },
     "execution_count": 20,
     "metadata": {},
     "output_type": "execute_result"
    }
   ],
   "source": [
    "siscabulary.most_common(10)"
   ]
  },
  {
   "cell_type": "code",
   "execution_count": 23,
   "metadata": {
    "collapsed": false
   },
   "outputs": [
    {
     "data": {
      "text/html": [
       "\n",
       "    <div class=\"bk-root\">\n",
       "        <a href=\"http://bokeh.pydata.org\" target=\"_blank\" class=\"bk-logo bk-logo-small bk-logo-notebook\"></a>\n",
       "        <span id=\"f0b80ac1-d78d-4e03-9978-6b0a56743456\">Loading BokehJS ...</span>\n",
       "    </div>"
      ]
     },
     "metadata": {},
     "output_type": "display_data"
    },
    {
     "data": {
      "application/javascript": [
       "\n",
       "(function(global) {\n",
       "  function now() {\n",
       "    return new Date();\n",
       "  }\n",
       "\n",
       "  if (typeof (window._bokeh_onload_callbacks) === \"undefined\") {\n",
       "    window._bokeh_onload_callbacks = [];\n",
       "  }\n",
       "\n",
       "  function run_callbacks() {\n",
       "    window._bokeh_onload_callbacks.forEach(function(callback) { callback() });\n",
       "    delete window._bokeh_onload_callbacks\n",
       "    console.info(\"Bokeh: all callbacks have finished\");\n",
       "  }\n",
       "\n",
       "  function load_libs(js_urls, callback) {\n",
       "    window._bokeh_onload_callbacks.push(callback);\n",
       "    if (window._bokeh_is_loading > 0) {\n",
       "      console.log(\"Bokeh: BokehJS is being loaded, scheduling callback at\", now());\n",
       "      return null;\n",
       "    }\n",
       "    if (js_urls == null || js_urls.length === 0) {\n",
       "      run_callbacks();\n",
       "      return null;\n",
       "    }\n",
       "    console.log(\"Bokeh: BokehJS not loaded, scheduling load and callback at\", now());\n",
       "    window._bokeh_is_loading = js_urls.length;\n",
       "    for (var i = 0; i < js_urls.length; i++) {\n",
       "      var url = js_urls[i];\n",
       "      var s = document.createElement('script');\n",
       "      s.src = url;\n",
       "      s.async = false;\n",
       "      s.onreadystatechange = s.onload = function() {\n",
       "        window._bokeh_is_loading--;\n",
       "        if (window._bokeh_is_loading === 0) {\n",
       "          console.log(\"Bokeh: all BokehJS libraries loaded\");\n",
       "          run_callbacks()\n",
       "        }\n",
       "      };\n",
       "      s.onerror = function() {\n",
       "        console.warn(\"failed to load library \" + url);\n",
       "      };\n",
       "      console.log(\"Bokeh: injecting script tag for BokehJS library: \", url);\n",
       "      document.getElementsByTagName(\"head\")[0].appendChild(s);\n",
       "    }\n",
       "  };\n",
       "\n",
       "  var js_urls = ['https://cdn.pydata.org/bokeh/release/bokeh-0.12.0.min.js', 'https://cdn.pydata.org/bokeh/release/bokeh-widgets-0.12.0.min.js', 'https://cdn.pydata.org/bokeh/release/bokeh-compiler-0.12.0.min.js'];\n",
       "\n",
       "  var inline_js = [\n",
       "    function(Bokeh) {\n",
       "      Bokeh.set_log_level(\"info\");\n",
       "    },\n",
       "    \n",
       "    function(Bokeh) {\n",
       "      Bokeh.$(\"#f0b80ac1-d78d-4e03-9978-6b0a56743456\").text(\"BokehJS successfully loaded\");\n",
       "    },\n",
       "    function(Bokeh) {\n",
       "      console.log(\"Bokeh: injecting CSS: https://cdn.pydata.org/bokeh/release/bokeh-0.12.0.min.css\");\n",
       "      Bokeh.embed.inject_css(\"https://cdn.pydata.org/bokeh/release/bokeh-0.12.0.min.css\");\n",
       "      console.log(\"Bokeh: injecting CSS: https://cdn.pydata.org/bokeh/release/bokeh-widgets-0.12.0.min.css\");\n",
       "      Bokeh.embed.inject_css(\"https://cdn.pydata.org/bokeh/release/bokeh-widgets-0.12.0.min.css\");\n",
       "    }\n",
       "  ];\n",
       "\n",
       "  function run_inline_js() {\n",
       "    for (var i = 0; i < inline_js.length; i++) {\n",
       "      inline_js[i](window.Bokeh);\n",
       "    }\n",
       "  }\n",
       "\n",
       "  if (window._bokeh_is_loading === 0) {\n",
       "    console.log(\"Bokeh: BokehJS loaded, going straight to plotting\");\n",
       "    run_inline_js();\n",
       "  } else {\n",
       "    load_libs(js_urls, function() {\n",
       "      console.log(\"Bokeh: BokehJS plotting callback run at\", now());\n",
       "      run_inline_js();\n",
       "    });\n",
       "  }\n",
       "}(this));"
      ]
     },
     "metadata": {},
     "output_type": "display_data"
    }
   ],
   "source": [
    "from bokeh.plotting import figure, show, vplot, ColumnDataSource\n",
    "from bokeh.io import output_notebook\n",
    "from bokeh.models import HoverTool\n",
    "\n",
    "output_notebook()"
   ]
  },
  {
   "cell_type": "code",
   "execution_count": 24,
   "metadata": {
    "collapsed": false
   },
   "outputs": [],
   "source": [
    "MOST_COMMON = 50\n",
    "\n",
    "mc_brocavulary = brocabulary.most_common(int(MOST_COMMON/2))\n",
    "mc_siscavulary = siscabulary.most_common(int(MOST_COMMON/2))\n",
    "\n",
    "fr_brocavulary, fr_siscavulary  = [], []\n",
    "most_common_words = mc_brocavulary + mc_siscavulary\n",
    "words = list(set(word for word, _ in most_common_words))\n",
    "for word in words:\n",
    "    if word in brocabulary:\n",
    "        fr_brocavulary.append(brocabulary[word])\n",
    "    else:\n",
    "        fr_brocavulary.append(0)\n",
    "    if word in siscabulary:\n",
    "        fr_siscavulary.append(siscabulary[word])\n",
    "    else:\n",
    "        fr_siscavulary.append(0)"
   ]
  },
  {
   "cell_type": "code",
   "execution_count": 25,
   "metadata": {
    "collapsed": false
   },
   "outputs": [
    {
     "data": {
      "text/html": [
       "\n",
       "\n",
       "    <div class=\"bk-root\">\n",
       "        <div class=\"plotdiv\" id=\"44f04089-785e-40a7-a79b-8075ab6d1379\"></div>\n",
       "    </div>\n",
       "<script type=\"text/javascript\">\n",
       "  \n",
       "  (function(global) {\n",
       "    function now() {\n",
       "      return new Date();\n",
       "    }\n",
       "  \n",
       "    if (typeof (window._bokeh_onload_callbacks) === \"undefined\") {\n",
       "      window._bokeh_onload_callbacks = [];\n",
       "    }\n",
       "  \n",
       "    function run_callbacks() {\n",
       "      window._bokeh_onload_callbacks.forEach(function(callback) { callback() });\n",
       "      delete window._bokeh_onload_callbacks\n",
       "      console.info(\"Bokeh: all callbacks have finished\");\n",
       "    }\n",
       "  \n",
       "    function load_libs(js_urls, callback) {\n",
       "      window._bokeh_onload_callbacks.push(callback);\n",
       "      if (window._bokeh_is_loading > 0) {\n",
       "        console.log(\"Bokeh: BokehJS is being loaded, scheduling callback at\", now());\n",
       "        return null;\n",
       "      }\n",
       "      if (js_urls == null || js_urls.length === 0) {\n",
       "        run_callbacks();\n",
       "        return null;\n",
       "      }\n",
       "      console.log(\"Bokeh: BokehJS not loaded, scheduling load and callback at\", now());\n",
       "      window._bokeh_is_loading = js_urls.length;\n",
       "      for (var i = 0; i < js_urls.length; i++) {\n",
       "        var url = js_urls[i];\n",
       "        var s = document.createElement('script');\n",
       "        s.src = url;\n",
       "        s.async = false;\n",
       "        s.onreadystatechange = s.onload = function() {\n",
       "          window._bokeh_is_loading--;\n",
       "          if (window._bokeh_is_loading === 0) {\n",
       "            console.log(\"Bokeh: all BokehJS libraries loaded\");\n",
       "            run_callbacks()\n",
       "          }\n",
       "        };\n",
       "        s.onerror = function() {\n",
       "          console.warn(\"failed to load library \" + url);\n",
       "        };\n",
       "        console.log(\"Bokeh: injecting script tag for BokehJS library: \", url);\n",
       "        document.getElementsByTagName(\"head\")[0].appendChild(s);\n",
       "      }\n",
       "    };var element = document.getElementById(\"44f04089-785e-40a7-a79b-8075ab6d1379\");\n",
       "    if (element == null) {\n",
       "      console.log(\"Bokeh: ERROR: autoload.js configured with elementid '44f04089-785e-40a7-a79b-8075ab6d1379' but no matching script tag was found. \")\n",
       "      return false;\n",
       "    }\n",
       "  \n",
       "    var js_urls = [];\n",
       "  \n",
       "    var inline_js = [\n",
       "      function(Bokeh) {\n",
       "        Bokeh.$(function() {\n",
       "            var docs_json = {\"e76a4536-aa08-48ec-bd7d-911f23dd891d\":{\"roots\":{\"references\":[{\"attributes\":{\"bottom_units\":\"screen\",\"fill_alpha\":{\"value\":0.5},\"fill_color\":{\"value\":\"lightgrey\"},\"left_units\":\"screen\",\"level\":\"overlay\",\"line_alpha\":{\"value\":1.0},\"line_color\":{\"value\":\"black\"},\"line_dash\":[4,4],\"line_width\":{\"value\":2},\"plot\":null,\"render_mode\":\"css\",\"right_units\":\"screen\",\"top_units\":\"screen\"},\"id\":\"ba387459-1db8-4c68-9ea1-70c0652fd525\",\"type\":\"BoxAnnotation\"},{\"attributes\":{\"below\":[{\"id\":\"b8c9cf63-3e1d-4ff3-bc46-099ccc1dd405\",\"type\":\"CategoricalAxis\"}],\"left\":[{\"id\":\"751064be-a457-41de-9b91-b587b60e8fad\",\"type\":\"LinearAxis\"}],\"renderers\":[{\"id\":\"b8c9cf63-3e1d-4ff3-bc46-099ccc1dd405\",\"type\":\"CategoricalAxis\"},{\"id\":\"85176367-01aa-462a-9056-63a662e7ac2f\",\"type\":\"Grid\"},{\"id\":\"751064be-a457-41de-9b91-b587b60e8fad\",\"type\":\"LinearAxis\"},{\"id\":\"d1535134-136b-48f4-b20c-3c153248f504\",\"type\":\"Grid\"},{\"id\":\"ba387459-1db8-4c68-9ea1-70c0652fd525\",\"type\":\"BoxAnnotation\"},{\"id\":\"c6263250-58ba-4df3-8c37-683e7523a735\",\"type\":\"GlyphRenderer\"},{\"id\":\"7dcf8542-399b-4f9a-8d16-22ab77cc06a4\",\"type\":\"GlyphRenderer\"}],\"title\":{\"id\":\"69bf3b60-08e8-4cc5-b6e2-3d9a9bfae68d\",\"type\":\"Title\"},\"tool_events\":{\"id\":\"6eba71b5-d67e-4ec7-9aa3-2703e0b60baa\",\"type\":\"ToolEvents\"},\"toolbar\":{\"id\":\"39b36999-edc1-4125-a94a-230b6051d89b\",\"type\":\"Toolbar\"},\"x_range\":{\"id\":\"242c27a7-5a47-47c5-9262-8112fa0f00c1\",\"type\":\"FactorRange\"},\"y_range\":{\"id\":\"ccf3ecbc-d805-4f27-8bc4-15dea4e267d5\",\"type\":\"DataRange1d\"}},\"id\":\"3b627762-a087-47cd-8c3d-fac2c6e4267c\",\"subtype\":\"Figure\",\"type\":\"Plot\"},{\"attributes\":{\"axis_label\":\"Words\",\"formatter\":{\"id\":\"4ea0de25-e807-4340-af59-45cbd9ac1db8\",\"type\":\"CategoricalTickFormatter\"},\"major_label_orientation\":0.7853981633974483,\"plot\":{\"id\":\"3b627762-a087-47cd-8c3d-fac2c6e4267c\",\"subtype\":\"Figure\",\"type\":\"Plot\"},\"ticker\":{\"id\":\"73d1f775-b5c5-4544-8678-d2298a8e51ea\",\"type\":\"CategoricalTicker\"}},\"id\":\"b8c9cf63-3e1d-4ff3-bc46-099ccc1dd405\",\"type\":\"CategoricalAxis\"},{\"attributes\":{\"data_source\":{\"id\":\"168e918f-3063-4d89-8042-b517ff76f5b4\",\"type\":\"ColumnDataSource\"},\"glyph\":{\"id\":\"0fce611c-19d7-474f-b51b-f4135000f9b9\",\"type\":\"Circle\"},\"hover_glyph\":null,\"nonselection_glyph\":{\"id\":\"b934fd9b-1d29-479f-b0f3-55ce2d1822ad\",\"type\":\"Circle\"},\"selection_glyph\":null},\"id\":\"7dcf8542-399b-4f9a-8d16-22ab77cc06a4\",\"type\":\"GlyphRenderer\"},{\"attributes\":{\"plot\":{\"id\":\"3b627762-a087-47cd-8c3d-fac2c6e4267c\",\"subtype\":\"Figure\",\"type\":\"Plot\"}},\"id\":\"448403bc-a195-4707-b730-4d0656ca143d\",\"type\":\"PanTool\"},{\"attributes\":{\"fill_alpha\":{\"value\":0.2},\"fill_color\":{\"value\":\"navy\"},\"line_color\":{\"value\":\"navy\"},\"size\":{\"units\":\"screen\",\"value\":10},\"x\":{\"field\":\"range_words\"},\"y\":{\"field\":\"freq_true\"}},\"id\":\"25594a06-0cfa-4ab1-a7b7-f323e42d36ec\",\"type\":\"Circle\"},{\"attributes\":{\"plot\":{\"id\":\"3b627762-a087-47cd-8c3d-fac2c6e4267c\",\"subtype\":\"Figure\",\"type\":\"Plot\"}},\"id\":\"2ab7b9c2-3ff8-47d6-a56d-fb8573a6b826\",\"type\":\"SaveTool\"},{\"attributes\":{\"plot\":{\"id\":\"3b627762-a087-47cd-8c3d-fac2c6e4267c\",\"subtype\":\"Figure\",\"type\":\"Plot\"}},\"id\":\"e87fce1b-7d8d-4da0-a349-da8d2743430a\",\"type\":\"ResetTool\"},{\"attributes\":{\"axis_label\":\"Frequency\",\"formatter\":{\"id\":\"aef08bc0-635b-4c9c-bc7c-d044bc0a4147\",\"type\":\"BasicTickFormatter\"},\"plot\":{\"id\":\"3b627762-a087-47cd-8c3d-fac2c6e4267c\",\"subtype\":\"Figure\",\"type\":\"Plot\"},\"ticker\":{\"id\":\"8f178ae8-3355-4044-8574-a8ed71b99bcf\",\"type\":\"BasicTicker\"}},\"id\":\"751064be-a457-41de-9b91-b587b60e8fad\",\"type\":\"LinearAxis\"},{\"attributes\":{\"callback\":null,\"factors\":[\"get\",\"learning\",\"learn\",\"pycon\",\"way\",\"make\",\"icml\",\"time\",\"talk\",\"oh\",\"user\",\"day\",\"sgdq\",\"one\",\"know\",\"url\",\"amp\",\"python\",\"really\",\"code\",\"open\",\"think\",\"https\",\"thanks\",\"good\",\"data\",\"new\",\"<number>\",\"great\",\"people\",\"rt\",\"like\",\"dataviz\",\"slides\"]},\"id\":\"242c27a7-5a47-47c5-9262-8112fa0f00c1\",\"type\":\"FactorRange\"},{\"attributes\":{\"dimension\":1,\"plot\":{\"id\":\"3b627762-a087-47cd-8c3d-fac2c6e4267c\",\"subtype\":\"Figure\",\"type\":\"Plot\"},\"ticker\":{\"id\":\"8f178ae8-3355-4044-8574-a8ed71b99bcf\",\"type\":\"BasicTicker\"}},\"id\":\"d1535134-136b-48f4-b20c-3c153248f504\",\"type\":\"Grid\"},{\"attributes\":{\"overlay\":{\"id\":\"ba387459-1db8-4c68-9ea1-70c0652fd525\",\"type\":\"BoxAnnotation\"},\"plot\":{\"id\":\"3b627762-a087-47cd-8c3d-fac2c6e4267c\",\"subtype\":\"Figure\",\"type\":\"Plot\"}},\"id\":\"7fd088e1-64e7-44e5-b1aa-06728233458e\",\"type\":\"BoxZoomTool\"},{\"attributes\":{\"callback\":null},\"id\":\"ccf3ecbc-d805-4f27-8bc4-15dea4e267d5\",\"type\":\"DataRange1d\"},{\"attributes\":{\"plot\":{\"id\":\"3b627762-a087-47cd-8c3d-fac2c6e4267c\",\"subtype\":\"Figure\",\"type\":\"Plot\"},\"ticker\":{\"id\":\"73d1f775-b5c5-4544-8678-d2298a8e51ea\",\"type\":\"CategoricalTicker\"}},\"id\":\"85176367-01aa-462a-9056-63a662e7ac2f\",\"type\":\"Grid\"},{\"attributes\":{\"active_drag\":\"auto\",\"active_scroll\":\"auto\",\"active_tap\":\"auto\",\"tools\":[{\"id\":\"af594dcc-38c7-4edd-b85a-eef439a0b040\",\"type\":\"HoverTool\"},{\"id\":\"448403bc-a195-4707-b730-4d0656ca143d\",\"type\":\"PanTool\"},{\"id\":\"fdbfe632-ba46-453e-94b3-32d1cea844f7\",\"type\":\"WheelZoomTool\"},{\"id\":\"7fd088e1-64e7-44e5-b1aa-06728233458e\",\"type\":\"BoxZoomTool\"},{\"id\":\"e87fce1b-7d8d-4da0-a349-da8d2743430a\",\"type\":\"ResetTool\"},{\"id\":\"2ab7b9c2-3ff8-47d6-a56d-fb8573a6b826\",\"type\":\"SaveTool\"}]},\"id\":\"39b36999-edc1-4125-a94a-230b6051d89b\",\"type\":\"Toolbar\"},{\"attributes\":{},\"id\":\"aef08bc0-635b-4c9c-bc7c-d044bc0a4147\",\"type\":\"BasicTickFormatter\"},{\"attributes\":{},\"id\":\"8f178ae8-3355-4044-8574-a8ed71b99bcf\",\"type\":\"BasicTicker\"},{\"attributes\":{\"plot\":null,\"text\":\"Vocabulary gender\"},\"id\":\"69bf3b60-08e8-4cc5-b6e2-3d9a9bfae68d\",\"type\":\"Title\"},{\"attributes\":{\"fill_alpha\":{\"value\":0.1},\"fill_color\":{\"value\":\"#1f77b4\"},\"line_alpha\":{\"value\":0.1},\"line_color\":{\"value\":\"#1f77b4\"},\"size\":{\"units\":\"screen\",\"value\":10},\"x\":{\"field\":\"range_words\"},\"y\":{\"field\":\"freq_false\"}},\"id\":\"b934fd9b-1d29-479f-b0f3-55ce2d1822ad\",\"type\":\"Circle\"},{\"attributes\":{\"plot\":{\"id\":\"3b627762-a087-47cd-8c3d-fac2c6e4267c\",\"subtype\":\"Figure\",\"type\":\"Plot\"}},\"id\":\"fdbfe632-ba46-453e-94b3-32d1cea844f7\",\"type\":\"WheelZoomTool\"},{\"attributes\":{},\"id\":\"73d1f775-b5c5-4544-8678-d2298a8e51ea\",\"type\":\"CategoricalTicker\"},{\"attributes\":{},\"id\":\"4ea0de25-e807-4340-af59-45cbd9ac1db8\",\"type\":\"CategoricalTickFormatter\"},{\"attributes\":{},\"id\":\"6eba71b5-d67e-4ec7-9aa3-2703e0b60baa\",\"type\":\"ToolEvents\"},{\"attributes\":{\"callback\":null,\"column_names\":[\"range_words\",\"freq_true\",\"freq_false\",\"words\"],\"data\":{\"freq_false\":[39,6,6,54,22,20,0,25,20,22,1009,22,40,40,29,419,29,27,18,30,24,23,12,29,29,6,27,337,19,20,234,37,0,8],\"freq_true\":[25,46,28,18,7,13,27,25,49,13,1313,14,0,35,13,676,42,96,30,25,25,25,42,40,28,45,43,483,34,19,420,34,32,25],\"range_words\":[1,2,3,4,5,6,7,8,9,10,11,12,13,14,15,16,17,18,19,20,21,22,23,24,25,26,27,28,29,30,31,32,33,34],\"words\":[\"get\",\"learning\",\"learn\",\"pycon\",\"way\",\"make\",\"icml\",\"time\",\"talk\",\"oh\",\"user\",\"day\",\"sgdq\",\"one\",\"know\",\"url\",\"amp\",\"python\",\"really\",\"code\",\"open\",\"think\",\"https\",\"thanks\",\"good\",\"data\",\"new\",\"<number>\",\"great\",\"people\",\"rt\",\"like\",\"dataviz\",\"slides\"]}},\"id\":\"168e918f-3063-4d89-8042-b517ff76f5b4\",\"type\":\"ColumnDataSource\"},{\"attributes\":{\"fill_alpha\":{\"value\":0.2},\"fill_color\":{\"value\":\"red\"},\"line_color\":{\"value\":\"red\"},\"size\":{\"units\":\"screen\",\"value\":10},\"x\":{\"field\":\"range_words\"},\"y\":{\"field\":\"freq_false\"}},\"id\":\"0fce611c-19d7-474f-b51b-f4135000f9b9\",\"type\":\"Circle\"},{\"attributes\":{\"callback\":null,\"plot\":{\"id\":\"3b627762-a087-47cd-8c3d-fac2c6e4267c\",\"subtype\":\"Figure\",\"type\":\"Plot\"},\"tooltips\":[[\"words\",\"@words\"]]},\"id\":\"af594dcc-38c7-4edd-b85a-eef439a0b040\",\"type\":\"HoverTool\"},{\"attributes\":{\"fill_alpha\":{\"value\":0.1},\"fill_color\":{\"value\":\"#1f77b4\"},\"line_alpha\":{\"value\":0.1},\"line_color\":{\"value\":\"#1f77b4\"},\"size\":{\"units\":\"screen\",\"value\":10},\"x\":{\"field\":\"range_words\"},\"y\":{\"field\":\"freq_true\"}},\"id\":\"10586131-7455-4630-9c70-64f743375ecc\",\"type\":\"Circle\"},{\"attributes\":{\"data_source\":{\"id\":\"168e918f-3063-4d89-8042-b517ff76f5b4\",\"type\":\"ColumnDataSource\"},\"glyph\":{\"id\":\"25594a06-0cfa-4ab1-a7b7-f323e42d36ec\",\"type\":\"Circle\"},\"hover_glyph\":null,\"nonselection_glyph\":{\"id\":\"10586131-7455-4630-9c70-64f743375ecc\",\"type\":\"Circle\"},\"selection_glyph\":null},\"id\":\"c6263250-58ba-4df3-8c37-683e7523a735\",\"type\":\"GlyphRenderer\"}],\"root_ids\":[\"3b627762-a087-47cd-8c3d-fac2c6e4267c\"]},\"title\":\"Bokeh Application\",\"version\":\"0.12.0\"}};\n",
       "            var render_items = [{\"docid\":\"e76a4536-aa08-48ec-bd7d-911f23dd891d\",\"elementid\":\"44f04089-785e-40a7-a79b-8075ab6d1379\",\"modelid\":\"3b627762-a087-47cd-8c3d-fac2c6e4267c\",\"notebook_comms_target\":\"bc335ded-7f9c-4450-834b-2f23f77314ae\"}];\n",
       "            \n",
       "            Bokeh.embed.embed_items(docs_json, render_items);\n",
       "        });\n",
       "      },\n",
       "      function(Bokeh) {\n",
       "      }\n",
       "    ];\n",
       "  \n",
       "    function run_inline_js() {\n",
       "      for (var i = 0; i < inline_js.length; i++) {\n",
       "        inline_js[i](window.Bokeh);\n",
       "      }\n",
       "    }\n",
       "  \n",
       "    if (window._bokeh_is_loading === 0) {\n",
       "      console.log(\"Bokeh: BokehJS loaded, going straight to plotting\");\n",
       "      run_inline_js();\n",
       "    } else {\n",
       "      load_libs(js_urls, function() {\n",
       "        console.log(\"Bokeh: BokehJS plotting callback run at\", now());\n",
       "        run_inline_js();\n",
       "      });\n",
       "    }\n",
       "  }(this));\n",
       "</script>"
      ]
     },
     "metadata": {},
     "output_type": "display_data"
    },
    {
     "data": {
      "text/html": [
       "<p><code>&lt;Bokeh Notebook handle for <strong>In[25]</strong>&gt;</code></p>"
      ],
      "text/plain": [
       "<bokeh.io._CommsHandle at 0x1123da080>"
      ]
     },
     "execution_count": 25,
     "metadata": {},
     "output_type": "execute_result"
    }
   ],
   "source": [
    "import numpy as np\n",
    "range_words=list(range(1,len(words)+1))\n",
    "source = ColumnDataSource(data=dict(range_words=range_words,\n",
    "                                    words=words,\n",
    "                                    freq_true=fr_brocavulary, \n",
    "                                    freq_false=fr_siscavulary))\n",
    "\n",
    "hover = HoverTool()\n",
    "hover.point_policy = \"follow_mouse\"\n",
    "hover = HoverTool(\n",
    "        tooltips=[\n",
    "            (\"words\", \"@words\"),\n",
    "        ]\n",
    "    )\n",
    "\n",
    "TOOLS=\"pan,wheel_zoom,box_zoom,reset,save\"\n",
    "\n",
    "\n",
    "p = figure(title = \"Vocabulary gender\", x_range=words, tools=[TOOLS, hover])\n",
    "p.xaxis.axis_label = 'Words'\n",
    "p.yaxis.axis_label = 'Frequency'\n",
    "p.circle('range_words', 'freq_true', source=source, fill_alpha=0.2, size=10, color=\"navy\")\n",
    "p.circle('range_words', 'freq_false', source=source, fill_alpha=0.2, size=10, color='red')\n",
    "p.xaxis.major_label_orientation = np.pi/4  \n",
    "\n",
    "show(p)"
   ]
  },
  {
   "cell_type": "code",
   "execution_count": 26,
   "metadata": {
    "collapsed": false
   },
   "outputs": [
    {
     "data": {
      "text/html": [
       "\n",
       "\n",
       "    <div class=\"bk-root\">\n",
       "        <div class=\"plotdiv\" id=\"81847345-94e1-40c9-8b9d-6bb6696bd697\"></div>\n",
       "    </div>\n",
       "<script type=\"text/javascript\">\n",
       "  \n",
       "  (function(global) {\n",
       "    function now() {\n",
       "      return new Date();\n",
       "    }\n",
       "  \n",
       "    if (typeof (window._bokeh_onload_callbacks) === \"undefined\") {\n",
       "      window._bokeh_onload_callbacks = [];\n",
       "    }\n",
       "  \n",
       "    function run_callbacks() {\n",
       "      window._bokeh_onload_callbacks.forEach(function(callback) { callback() });\n",
       "      delete window._bokeh_onload_callbacks\n",
       "      console.info(\"Bokeh: all callbacks have finished\");\n",
       "    }\n",
       "  \n",
       "    function load_libs(js_urls, callback) {\n",
       "      window._bokeh_onload_callbacks.push(callback);\n",
       "      if (window._bokeh_is_loading > 0) {\n",
       "        console.log(\"Bokeh: BokehJS is being loaded, scheduling callback at\", now());\n",
       "        return null;\n",
       "      }\n",
       "      if (js_urls == null || js_urls.length === 0) {\n",
       "        run_callbacks();\n",
       "        return null;\n",
       "      }\n",
       "      console.log(\"Bokeh: BokehJS not loaded, scheduling load and callback at\", now());\n",
       "      window._bokeh_is_loading = js_urls.length;\n",
       "      for (var i = 0; i < js_urls.length; i++) {\n",
       "        var url = js_urls[i];\n",
       "        var s = document.createElement('script');\n",
       "        s.src = url;\n",
       "        s.async = false;\n",
       "        s.onreadystatechange = s.onload = function() {\n",
       "          window._bokeh_is_loading--;\n",
       "          if (window._bokeh_is_loading === 0) {\n",
       "            console.log(\"Bokeh: all BokehJS libraries loaded\");\n",
       "            run_callbacks()\n",
       "          }\n",
       "        };\n",
       "        s.onerror = function() {\n",
       "          console.warn(\"failed to load library \" + url);\n",
       "        };\n",
       "        console.log(\"Bokeh: injecting script tag for BokehJS library: \", url);\n",
       "        document.getElementsByTagName(\"head\")[0].appendChild(s);\n",
       "      }\n",
       "    };var element = document.getElementById(\"81847345-94e1-40c9-8b9d-6bb6696bd697\");\n",
       "    if (element == null) {\n",
       "      console.log(\"Bokeh: ERROR: autoload.js configured with elementid '81847345-94e1-40c9-8b9d-6bb6696bd697' but no matching script tag was found. \")\n",
       "      return false;\n",
       "    }\n",
       "  \n",
       "    var js_urls = [];\n",
       "  \n",
       "    var inline_js = [\n",
       "      function(Bokeh) {\n",
       "        Bokeh.$(function() {\n",
       "            var docs_json = {\"d581edca-8dcd-4696-9494-0687cfb24b03\":{\"roots\":{\"references\":[{\"attributes\":{\"bottom\":{\"value\":0},\"fill_alpha\":{\"value\":0.1},\"fill_color\":{\"value\":\"#1f77b4\"},\"left\":{\"field\":\"left\"},\"line_alpha\":{\"value\":0.1},\"line_color\":{\"value\":\"#1f77b4\"},\"right\":{\"field\":\"right\"},\"top\":{\"field\":\"top\"}},\"id\":\"d8422946-e67c-4310-9dee-2b348fc4884d\",\"type\":\"Quad\"},{\"attributes\":{\"dimension\":1,\"plot\":{\"id\":\"bbd0fde0-bc12-4bf7-92a2-f7eee0ba739c\",\"subtype\":\"Figure\",\"type\":\"Plot\"},\"ticker\":{\"id\":\"f5041197-7f6b-4b50-bbc3-a1a2db409455\",\"type\":\"BasicTicker\"}},\"id\":\"9468e9e3-9c10-412f-af07-dafc8af368c6\",\"type\":\"Grid\"},{\"attributes\":{},\"id\":\"698c83eb-3dfe-4e9b-8c52-6827207ee2f7\",\"type\":\"BasicTicker\"},{\"attributes\":{\"callback\":null},\"id\":\"5e2c67f9-cea0-45ac-9729-71e4782e28f2\",\"type\":\"DataRange1d\"},{\"attributes\":{\"plot\":{\"id\":\"bbd0fde0-bc12-4bf7-92a2-f7eee0ba739c\",\"subtype\":\"Figure\",\"type\":\"Plot\"}},\"id\":\"58cd4b71-1540-4e11-a54e-fbf157b41e66\",\"type\":\"WheelZoomTool\"},{\"attributes\":{\"plot\":{\"id\":\"bbd0fde0-bc12-4bf7-92a2-f7eee0ba739c\",\"subtype\":\"Figure\",\"type\":\"Plot\"}},\"id\":\"a1a72d5c-452b-4205-af48-9c71942a9336\",\"type\":\"ResetTool\"},{\"attributes\":{\"callback\":null,\"column_names\":[\"left\",\"right\",\"top\"],\"data\":{\"left\":[6.0,13.95,21.9,29.85,37.8,45.75,53.7,61.65,69.6,77.55,85.5,93.45,101.4,109.35000000000001,117.3,125.25,133.2,141.15,149.1,157.05],\"right\":[13.95,21.9,29.85,37.8,45.75,53.7,61.65,69.6,77.55,85.5,93.45,101.4,109.35000000000001,117.3,125.25,133.2,141.15,149.1,157.05,165.0],\"top\":[0.0016352201257861635,0.002264150943396227,0.0021383647798742128,0.0023899371069182403,0.004025157232704401,0.004402515723270438,0.005157232704402518,0.0069182389937106955,0.00943396226415094,0.0064150943396226396,0.009937106918238991,0.010566037735849052,0.009811320754716977,0.01635220125786166,0.016603773584905654,0.01094339622641511,0.00654088050314464,0.00012578616352201274,0.0,0.00012578616352201274]}},\"id\":\"b74964d5-8bd7-4603-9ee0-6304c0c484cb\",\"type\":\"ColumnDataSource\"},{\"attributes\":{},\"id\":\"7624f17c-cde1-4c18-b84a-ba469c2d66a1\",\"type\":\"ToolEvents\"},{\"attributes\":{\"line_alpha\":{\"value\":0.7},\"line_color\":{\"value\":\"red\"},\"line_width\":{\"value\":6},\"x\":{\"field\":\"x\"},\"y\":{\"field\":\"y\"}},\"id\":\"9f9be45b-b9c7-4e28-b8df-422813e47158\",\"type\":\"Line\"},{\"attributes\":{\"callback\":null,\"column_names\":[\"left\",\"right\",\"top\"],\"data\":{\"left\":[5.0,11.95,18.9,25.85,32.8,39.75,46.7,53.65,60.6,67.55000000000001,74.5,81.45,88.4,95.35000000000001,102.3,109.25,116.2,123.15,130.10000000000002,137.05],\"right\":[11.95,18.9,25.85,32.8,39.75,46.7,53.65,60.6,67.55000000000001,74.5,81.45,88.4,95.35000000000001,102.3,109.25,116.2,123.15,130.10000000000002,137.05,144.0],\"top\":[0.0025899280575539573,0.005755395683453238,0.005467625899280574,0.005467625899280579,0.00820143884892086,0.006906474820143882,0.00705035971223022,0.006906474820143882,0.008345323741007181,0.005899280575539578,0.006330935251798558,0.006762589928057551,0.007194244604316544,0.007194244604316559,0.008633093525179852,0.010359712230215824,0.011942446043165463,0.006618705035971207,0.011366906474820162,0.00489208633093526]}},\"id\":\"9b07c2a5-8522-48fc-96ea-39d1f90a0275\",\"type\":\"ColumnDataSource\"},{\"attributes\":{\"overlay\":{\"id\":\"74ab793c-823b-41e7-b0d8-69e365f2313f\",\"type\":\"BoxAnnotation\"},\"plot\":{\"id\":\"bbd0fde0-bc12-4bf7-92a2-f7eee0ba739c\",\"subtype\":\"Figure\",\"type\":\"Plot\"}},\"id\":\"ac13e88d-30c1-495c-b210-6ab4ab9c7e30\",\"type\":\"BoxZoomTool\"},{\"attributes\":{\"bottom\":{\"value\":0},\"fill_alpha\":{\"value\":0.1},\"fill_color\":{\"value\":\"#1f77b4\"},\"left\":{\"field\":\"left\"},\"line_alpha\":{\"value\":0.1},\"line_color\":{\"value\":\"#1f77b4\"},\"right\":{\"field\":\"right\"},\"top\":{\"field\":\"top\"}},\"id\":\"87fffec8-5591-4bf8-acc6-431d3bc73294\",\"type\":\"Quad\"},{\"attributes\":{\"axis_label\":\"# tweets\",\"formatter\":{\"id\":\"a635e8cf-f778-4fc1-a6f4-bdf810778ec0\",\"type\":\"BasicTickFormatter\"},\"plot\":{\"id\":\"bbd0fde0-bc12-4bf7-92a2-f7eee0ba739c\",\"subtype\":\"Figure\",\"type\":\"Plot\"},\"ticker\":{\"id\":\"f5041197-7f6b-4b50-bbc3-a1a2db409455\",\"type\":\"BasicTicker\"}},\"id\":\"556d9cd5-ab74-42ac-91ab-1d864e336b3d\",\"type\":\"LinearAxis\"},{\"attributes\":{\"axis_label\":\"len(tweets)\",\"formatter\":{\"id\":\"c5077d7a-6d5f-463a-962a-97a35937f2c3\",\"type\":\"BasicTickFormatter\"},\"plot\":{\"id\":\"bbd0fde0-bc12-4bf7-92a2-f7eee0ba739c\",\"subtype\":\"Figure\",\"type\":\"Plot\"},\"ticker\":{\"id\":\"698c83eb-3dfe-4e9b-8c52-6827207ee2f7\",\"type\":\"BasicTicker\"}},\"id\":\"c84933a4-8048-4fe7-be9c-fd678c72e952\",\"type\":\"LinearAxis\"},{\"attributes\":{\"bottom\":{\"value\":0},\"fill_alpha\":{\"value\":0.3},\"fill_color\":{\"value\":\"red\"},\"left\":{\"field\":\"left\"},\"line_color\":{\"value\":\"#033649\"},\"right\":{\"field\":\"right\"},\"top\":{\"field\":\"top\"}},\"id\":\"2990426a-fd6c-4047-9820-981ec2a4271c\",\"type\":\"Quad\"},{\"attributes\":{\"data_source\":{\"id\":\"02da9f35-eb0a-4693-8c70-e6cf9b956d83\",\"type\":\"ColumnDataSource\"},\"glyph\":{\"id\":\"9f9be45b-b9c7-4e28-b8df-422813e47158\",\"type\":\"Line\"},\"hover_glyph\":null,\"nonselection_glyph\":{\"id\":\"c050c40b-5e59-4e5c-a8ed-bf9bf1376488\",\"type\":\"Line\"},\"selection_glyph\":null},\"id\":\"08e79775-4571-4342-9ff5-e72ebc98389c\",\"type\":\"GlyphRenderer\"},{\"attributes\":{\"data_source\":{\"id\":\"b74964d5-8bd7-4603-9ee0-6304c0c484cb\",\"type\":\"ColumnDataSource\"},\"glyph\":{\"id\":\"7ad727bd-3e61-4903-9848-586d73c040f7\",\"type\":\"Quad\"},\"hover_glyph\":null,\"nonselection_glyph\":{\"id\":\"d8422946-e67c-4310-9dee-2b348fc4884d\",\"type\":\"Quad\"},\"selection_glyph\":null},\"id\":\"a29654b4-40cb-4791-b9d2-9ee91fa2f9ab\",\"type\":\"GlyphRenderer\"},{\"attributes\":{\"legends\":[[\"PDF\",[{\"id\":\"bd5cc631-1a4b-4208-8b0c-a2f1b860f433\",\"type\":\"GlyphRenderer\"},{\"id\":\"08e79775-4571-4342-9ff5-e72ebc98389c\",\"type\":\"GlyphRenderer\"}]]],\"plot\":{\"id\":\"bbd0fde0-bc12-4bf7-92a2-f7eee0ba739c\",\"subtype\":\"Figure\",\"type\":\"Plot\"}},\"id\":\"20e04791-bada-4817-8622-350d7543dd91\",\"type\":\"Legend\"},{\"attributes\":{\"line_alpha\":{\"value\":0.1},\"line_color\":{\"value\":\"#1f77b4\"},\"line_width\":{\"value\":6},\"x\":{\"field\":\"x\"},\"y\":{\"field\":\"y\"}},\"id\":\"c050c40b-5e59-4e5c-a8ed-bf9bf1376488\",\"type\":\"Line\"},{\"attributes\":{\"callback\":null,\"column_names\":[\"y\",\"x\"],\"data\":{\"x\":[6,8,10,11,11,12,12,12,12,12,12,13,13,14,14,14,14,14,15,16,16,16,16,17,17,17,19,19,19,21,21,22,22,23,24,25,26,26,27,27,27,28,28,28,28,29,29,29,30,30,31,31,32,33,34,34,34,34,35,36,36,36,37,37,37,37,37,38,38,39,39,39,39,39,39,39,40,40,40,40,40,41,41,41,41,41,42,42,42,42,42,43,43,44,44,45,45,45,45,46,46,46,46,46,47,47,47,47,47,48,48,48,48,48,48,48,49,49,49,49,49,49,49,50,50,50,51,52,52,52,52,53,53,53,54,54,54,54,55,55,55,55,55,55,55,55,56,56,56,56,56,56,56,56,56,57,57,57,58,58,59,60,60,60,60,60,60,60,60,60,60,61,61,61,61,62,62,62,62,62,63,63,63,63,64,64,64,64,64,64,64,64,64,64,65,65,65,65,65,65,66,66,66,66,66,66,66,66,66,67,67,67,67,68,68,68,68,68,68,69,69,69,69,69,69,69,69,69,69,69,70,70,70,70,70,70,70,70,70,70,71,71,71,71,71,71,71,71,71,71,71,72,72,72,72,72,72,72,72,72,72,73,73,73,73,73,73,73,74,74,74,74,74,74,75,75,75,75,75,75,75,75,75,75,75,75,75,75,75,75,76,76,76,76,76,76,76,76,77,77,77,77,77,77,77,78,78,78,78,78,79,79,79,79,79,79,79,80,80,80,80,80,80,80,81,81,81,82,82,82,82,82,82,82,82,83,83,83,83,83,83,83,83,83,84,84,84,84,84,85,85,85,85,85,85,85,86,86,86,86,86,86,87,87,87,87,87,87,87,88,88,88,88,88,88,88,88,88,88,88,88,88,88,88,88,89,89,89,89,89,89,89,89,90,90,90,90,90,90,90,90,90,90,90,90,90,90,90,90,91,91,91,91,91,91,92,92,92,92,92,92,92,92,92,92,92,93,93,93,93,93,93,93,93,93,94,94,94,94,94,94,94,94,94,94,94,94,94,95,95,95,95,95,95,96,96,96,96,96,97,97,97,97,97,97,97,97,97,97,97,97,97,97,98,98,98,98,98,98,98,98,98,98,98,98,98,98,98,98,98,98,99,99,99,99,99,100,100,100,100,100,100,100,100,100,100,100,100,101,101,101,101,101,101,101,101,101,101,101,102,102,102,102,102,102,102,102,102,102,103,103,103,103,103,103,103,103,103,104,104,104,104,104,104,104,104,104,104,104,104,104,104,104,105,105,105,105,105,105,105,106,106,106,106,106,106,106,106,106,106,106,106,107,107,107,107,107,107,107,108,108,108,108,108,108,108,108,109,109,109,109,109,109,109,109,109,109,110,110,110,110,110,110,110,110,110,110,110,110,110,110,110,110,110,110,110,110,110,110,111,111,111,111,111,111,111,111,111,111,111,111,111,111,111,111,111,112,112,112,112,112,112,112,112,112,112,112,112,112,112,112,112,112,112,112,113,113,113,113,113,113,113,113,113,113,113,113,113,113,114,114,114,114,114,114,114,114,114,114,114,114,114,114,114,114,114,114,114,115,115,115,115,115,115,115,115,115,115,115,115,115,115,115,116,116,116,116,116,116,116,116,116,116,116,116,116,117,117,117,117,117,117,117,117,117,117,117,118,118,118,118,118,118,118,118,118,118,118,118,118,118,118,118,118,118,118,118,118,119,119,119,119,119,119,119,119,119,119,119,119,119,119,119,119,119,119,119,120,120,120,120,120,120,120,120,120,120,120,120,120,120,120,120,120,120,120,120,120,120,121,121,121,121,121,121,121,121,121,121,121,121,121,121,121,121,122,122,122,122,122,122,122,122,122,122,122,122,122,122,122,122,122,122,122,122,122,122,122,122,123,123,123,123,123,123,123,123,123,123,124,124,124,124,124,124,124,124,124,125,125,125,125,125,125,125,125,125,125,125,126,126,126,126,126,126,126,126,126,126,126,126,126,127,127,127,127,127,127,127,127,127,128,128,128,128,128,128,128,129,129,129,129,130,130,130,130,130,130,130,130,130,130,130,130,130,130,130,130,131,131,131,131,131,131,131,131,131,131,131,131,131,132,132,132,132,132,132,132,132,132,132,132,132,132,132,133,133,133,133,133,133,133,133,133,133,133,134,134,134,134,134,134,134,134,134,134,134,134,134,134,134,135,135,135,135,135,136,136,136,136,137,137,137,137,137,137,137,137,137,137,137,137,138,138,138,138,138,138,138,139,139,139,139,139,140,140,140,140,142,165],\"y\":[0.00029800583938421166,0.0003531582250947239,0.0004168695013177598,0.0004522440520024083,0.0004522440520024083,0.0004901366363214776,0.0004901366363214776,0.0004901366363214776,0.0004901366363214776,0.0004901366363214776,0.0004901366363214776,0.0005306803780402704,0.0005306803780402704,0.0005740113173848584,0.0005740113173848584,0.0005740113173848584,0.0005740113173848584,0.0005740113173848584,0.0006202680938953062,0.0006695915898962449,0.0006695915898962449,0.0006695915898962449,0.0006695915898962449,0.0007221245335637515,0.0007221245335637515,0.0007221245335637515,0.0008373962351538798,0.0008373962351538798,0.0008373962351538798,0.0009672442439752697,0.0009672442439752697,0.001037996934974998,0.001037996934974998,0.0011128267324575709,0.001191874669414828,0.001275278951071356,0.001363174189995699,0.001363174189995699,0.001455690605627651,0.001455690605627651,0.001455690605627651,0.0015529531906294674,0.0015529531906294674,0.0015529531906294674,0.0015529531906294674,0.0016550808468727028,0.0016550808468727028,0.0016550808468727028,0.0017621854942809982,0.0017621854942809982,0.001874371156159382,0.001874371156159382,0.0019917330250486453,0.00211435651354529,0.002242316294919449,0.002242316294919449,0.002242316294919449,0.002242316294919449,0.0023756753387405914,0.0025144839470796687,0.0025144839470796687,0.0025144839470796687,0.0026587787971919553,0.0026587787971919553,0.0026587787971919553,0.0026587787971919553,0.0026587787971919553,0.00280858199689283,0.00280858199689283,0.0029639001591146613,0.0029639001591146613,0.0029639001591146613,0.0029639001591146613,0.0029639001591146613,0.0029639001591146613,0.0029639001591146613,0.0031247235023723692,0.0031247235023723692,0.0031247235023723692,0.0031247235023723692,0.0031247235023723692,0.003291024984063825,0.003291024984063825,0.003291024984063825,0.003291024984063825,0.003291024984063825,0.003462759473684942,0.003462759473684942,0.003462759473684942,0.003462759473684942,0.003462759473684942,0.0036398629731441276,0.0036398629731441276,0.003822251891413215,0.003822251891413215,0.004009822380748547,0.004009822380748547,0.004009822380748547,0.004009822380748547,0.004202449741653925,0.004202449741653925,0.004202449741653925,0.004202449741653925,0.004202449741653925,0.004399987903633938,0.004399987903633938,0.004399987903633938,0.004399987903633938,0.004399987903633938,0.004602268988599972,0.004602268988599972,0.004602268988599972,0.004602268988599972,0.004602268988599972,0.004602268988599972,0.004602268988599972,0.004809102963540411,0.004809102963540411,0.004809102963540411,0.004809102963540411,0.004809102963540411,0.004809102963540411,0.004809102963540411,0.005020277388750367,0.005020277388750367,0.005020277388750367,0.005235557267534497,0.005454685002849491,0.005454685002849491,0.005454685002849491,0.005454685002849491,0.005677380465841659,0.005677380465841659,0.005677380465841659,0.005903341180661652,0.005903341180661652,0.005903341180661652,0.005903341180661652,0.0061322426293049835,0.0061322426293049835,0.0061322426293049835,0.0061322426293049835,0.0061322426293049835,0.0061322426293049835,0.0061322426293049835,0.0061322426293049835,0.006363738679537209,0.006363738679537209,0.006363738679537209,0.006363738679537209,0.006363738679537209,0.006363738679537209,0.006363738679537209,0.006363738679537209,0.006363738679537209,0.006597462138219777,0.006597462138219777,0.006597462138219777,0.006833025431561899,0.006833025431561899,0.007070021412989902,0.007308024298454946,0.007308024298454946,0.007308024298454946,0.007308024298454946,0.007308024298454946,0.007308024298454946,0.007308024298454946,0.007308024298454946,0.007308024298454946,0.007308024298454946,0.007546590728098589,0.007546590728098589,0.007546590728098589,0.007546590728098589,0.007785260952271053,0.007785260952271053,0.007785260952271053,0.007785260952271053,0.007785260952271053,0.008023560138956245,0.008023560138956245,0.008023560138956245,0.008023560138956245,0.008260999798708863,0.008260999798708863,0.008260999798708863,0.008260999798708863,0.008260999798708863,0.008260999798708863,0.008260999798708863,0.008260999798708863,0.008260999798708863,0.008260999798708863,0.008497079322260388,0.008497079322260388,0.008497079322260388,0.008497079322260388,0.008497079322260388,0.008497079322260388,0.008731287625011016,0.008731287625011016,0.008731287625011016,0.008731287625011016,0.008731287625011016,0.008731287625011016,0.008731287625011016,0.008731287625011016,0.008731287625011016,0.008963104891702373,0.008963104891702373,0.008963104891702373,0.008963104891702373,0.009192004413670065,0.009192004413670065,0.009192004413670065,0.009192004413670065,0.009192004413670065,0.009192004413670065,0.009417454510214305,0.009417454510214305,0.009417454510214305,0.009417454510214305,0.009417454510214305,0.009417454510214305,0.009417454510214305,0.009417454510214305,0.009417454510214305,0.009417454510214305,0.009417454510214305,0.009638920524810189,0.009638920524810189,0.009638920524810189,0.009638920524810189,0.009638920524810189,0.009638920524810189,0.009638920524810189,0.009638920524810189,0.009638920524810189,0.009638920524810189,0.009855866886114754,0.009855866886114754,0.009855866886114754,0.009855866886114754,0.009855866886114754,0.009855866886114754,0.009855866886114754,0.009855866886114754,0.009855866886114754,0.009855866886114754,0.009855866886114754,0.010067759223024228,0.010067759223024228,0.010067759223024228,0.010067759223024228,0.010067759223024228,0.010067759223024228,0.010067759223024228,0.010067759223024228,0.010067759223024228,0.010067759223024228,0.010274066522399667,0.010274066522399667,0.010274066522399667,0.010274066522399667,0.010274066522399667,0.010274066522399667,0.010274066522399667,0.010474263317519704,0.010474263317519704,0.010474263317519704,0.010474263317519704,0.010474263317519704,0.010474263317519704,0.010667831894842352,0.010667831894842352,0.010667831894842352,0.010667831894842352,0.010667831894842352,0.010667831894842352,0.010667831894842352,0.010667831894842352,0.010667831894842352,0.010667831894842352,0.010667831894842352,0.010667831894842352,0.010667831894842352,0.010667831894842352,0.010667831894842352,0.010667831894842352,0.010854264506269575,0.010854264506269575,0.010854264506269575,0.010854264506269575,0.010854264506269575,0.010854264506269575,0.010854264506269575,0.010854264506269575,0.011033065573814206,0.011033065573814206,0.011033065573814206,0.011033065573814206,0.011033065573814206,0.011033065573814206,0.011033065573814206,0.01120375387337317,0.01120375387337317,0.01120375387337317,0.01120375387337317,0.01120375387337317,0.011365864684217408,0.011365864684217408,0.011365864684217408,0.011365864684217408,0.011365864684217408,0.011365864684217408,0.011365864684217408,0.011518951890820283,0.011518951890820283,0.011518951890820283,0.011518951890820283,0.011518951890820283,0.011518951890820283,0.011518951890820283,0.011662590023763962,0.011662590023763962,0.011662590023763962,0.01179637622668826,0.01179637622668826,0.01179637622668826,0.01179637622668826,0.01179637622668826,0.01179637622668826,0.01179637622668826,0.01179637622668826,0.011919932136578071,0.011919932136578071,0.011919932136578071,0.011919932136578071,0.011919932136578071,0.011919932136578071,0.011919932136578071,0.011919932136578071,0.011919932136578071,0.012032905665122396,0.012032905665122396,0.012032905665122396,0.012032905665122396,0.012032905665122396,0.012134972669417668,0.012134972669417668,0.012134972669417668,0.012134972669417668,0.012134972669417668,0.012134972669417668,0.012134972669417668,0.012225838500926779,0.012225838500926779,0.012225838500926779,0.012225838500926779,0.012225838500926779,0.012225838500926779,0.012305239422338632,0.012305239422338632,0.012305239422338632,0.012305239422338632,0.012305239422338632,0.012305239422338632,0.012305239422338632,0.012372943882795149,0.012372943882795149,0.012372943882795149,0.012372943882795149,0.012372943882795149,0.012372943882795149,0.012372943882795149,0.012372943882795149,0.012372943882795149,0.012372943882795149,0.012372943882795149,0.012372943882795149,0.012372943882795149,0.012372943882795149,0.012372943882795149,0.012372943882795149,0.01242875364285747,0.01242875364285747,0.01242875364285747,0.01242875364285747,0.01242875364285747,0.01242875364285747,0.01242875364285747,0.01242875364285747,0.012472504741562678,0.012472504741562678,0.012472504741562678,0.012472504741562678,0.012472504741562678,0.012472504741562678,0.012472504741562678,0.012472504741562678,0.012472504741562678,0.012472504741562678,0.012472504741562678,0.012472504741562678,0.012472504741562678,0.012472504741562678,0.012472504741562678,0.012472504741562678,0.012504068298968999,0.012504068298968999,0.012504068298968999,0.012504068298968999,0.012504068298968999,0.012504068298968999,0.012523351148691755,0.012523351148691755,0.012523351148691755,0.012523351148691755,0.012523351148691755,0.012523351148691755,0.012523351148691755,0.012523351148691755,0.012523351148691755,0.012523351148691755,0.012523351148691755,0.012530296296085387,0.012530296296085387,0.012530296296085387,0.012530296296085387,0.012530296296085387,0.012530296296085387,0.012530296296085387,0.012530296296085387,0.012530296296085387,0.012524883198917881,0.012524883198917881,0.012524883198917881,0.012524883198917881,0.012524883198917881,0.012524883198917881,0.012524883198917881,0.012524883198917881,0.012524883198917881,0.012524883198917881,0.012524883198917881,0.012524883198917881,0.012524883198917881,0.012507127868603253,0.012507127868603253,0.012507127868603253,0.012507127868603253,0.012507127868603253,0.012507127868603253,0.012477082791293807,0.012477082791293807,0.012477082791293807,0.012477082791293807,0.012477082791293807,0.012434836669376462,0.012434836669376462,0.012434836669376462,0.012434836669376462,0.012434836669376462,0.012434836669376462,0.012434836669376462,0.012434836669376462,0.012434836669376462,0.012434836669376462,0.012434836669376462,0.012434836669376462,0.012434836669376462,0.012434836669376462,0.012380513985154998,0.012380513985154998,0.012380513985154998,0.012380513985154998,0.012380513985154998,0.012380513985154998,0.012380513985154998,0.012380513985154998,0.012380513985154998,0.012380513985154998,0.012380513985154998,0.012380513985154998,0.012380513985154998,0.012380513985154998,0.012380513985154998,0.012380513985154998,0.012380513985154998,0.012380513985154998,0.012314274389721923,0.012314274389721923,0.012314274389721923,0.012314274389721923,0.012314274389721923,0.012236311921218872,0.012236311921218872,0.012236311921218872,0.012236311921218872,0.012236311921218872,0.012236311921218872,0.012236311921218872,0.012236311921218872,0.012236311921218872,0.012236311921218872,0.012236311921218872,0.012236311921218872,0.012146854057842698,0.012146854057842698,0.012146854057842698,0.012146854057842698,0.012146854057842698,0.012146854057842698,0.012146854057842698,0.012146854057842698,0.012146854057842698,0.012146854057842698,0.012146854057842698,0.012046160612065324,0.012046160612065324,0.012046160612065324,0.012046160612065324,0.012046160612065324,0.012046160612065324,0.012046160612065324,0.012046160612065324,0.012046160612065324,0.012046160612065324,0.011934522473589705,0.011934522473589705,0.011934522473589705,0.011934522473589705,0.011934522473589705,0.011934522473589705,0.011934522473589705,0.011934522473589705,0.011934522473589705,0.011812260209552615,0.011812260209552615,0.011812260209552615,0.011812260209552615,0.011812260209552615,0.011812260209552615,0.011812260209552615,0.011812260209552615,0.011812260209552615,0.011812260209552615,0.011812260209552615,0.011812260209552615,0.011812260209552615,0.011812260209552615,0.011812260209552615,0.011679722531399442,0.011679722531399442,0.011679722531399442,0.011679722531399442,0.011679722531399442,0.011679722531399442,0.011679722531399442,0.011537284638688949,0.011537284638688949,0.011537284638688949,0.011537284638688949,0.011537284638688949,0.011537284638688949,0.011537284638688949,0.011537284638688949,0.011537284638688949,0.011537284638688949,0.011537284638688949,0.011537284638688949,0.011385346450830698,0.011385346450830698,0.011385346450830698,0.011385346450830698,0.011385346450830698,0.011385346450830698,0.011385346450830698,0.011224330738408513,0.011224330738408513,0.011224330738408513,0.011224330738408513,0.011224330738408513,0.011224330738408513,0.011224330738408513,0.011224330738408513,0.01105468116629556,0.01105468116629556,0.01105468116629556,0.01105468116629556,0.01105468116629556,0.01105468116629556,0.01105468116629556,0.01105468116629556,0.01105468116629556,0.01105468116629556,0.01087686026121645,0.01087686026121645,0.01087686026121645,0.01087686026121645,0.01087686026121645,0.01087686026121645,0.01087686026121645,0.01087686026121645,0.01087686026121645,0.01087686026121645,0.01087686026121645,0.01087686026121645,0.01087686026121645,0.01087686026121645,0.01087686026121645,0.01087686026121645,0.01087686026121645,0.01087686026121645,0.01087686026121645,0.01087686026121645,0.01087686026121645,0.01087686026121645,0.01069134731675653,0.01069134731675653,0.01069134731675653,0.01069134731675653,0.01069134731675653,0.01069134731675653,0.01069134731675653,0.01069134731675653,0.01069134731675653,0.01069134731675653,0.01069134731675653,0.01069134731675653,0.01069134731675653,0.01069134731675653,0.01069134731675653,0.01069134731675653,0.01069134731675653,0.010498636249056746,0.010498636249056746,0.010498636249056746,0.010498636249056746,0.010498636249056746,0.010498636249056746,0.010498636249056746,0.010498636249056746,0.010498636249056746,0.010498636249056746,0.010498636249056746,0.010498636249056746,0.010498636249056746,0.010498636249056746,0.010498636249056746,0.010498636249056746,0.010498636249056746,0.010498636249056746,0.010498636249056746,0.010299233416563568,0.010299233416563568,0.010299233416563568,0.010299233416563568,0.010299233416563568,0.010299233416563568,0.010299233416563568,0.010299233416563568,0.010299233416563568,0.010299233416563568,0.010299233416563568,0.010299233416563568,0.010299233416563568,0.010299233416563568,0.010093655417227855,0.010093655417227855,0.010093655417227855,0.010093655417227855,0.010093655417227855,0.010093655417227855,0.010093655417227855,0.010093655417227855,0.010093655417227855,0.010093655417227855,0.010093655417227855,0.010093655417227855,0.010093655417227855,0.010093655417227855,0.010093655417227855,0.010093655417227855,0.010093655417227855,0.010093655417227855,0.010093655417227855,0.009882426876465952,0.009882426876465952,0.009882426876465952,0.009882426876465952,0.009882426876465952,0.009882426876465952,0.009882426876465952,0.009882426876465952,0.009882426876465952,0.009882426876465952,0.009882426876465952,0.009882426876465952,0.009882426876465952,0.009882426876465952,0.009882426876465952,0.009666078239013099,0.009666078239013099,0.009666078239013099,0.009666078239013099,0.009666078239013099,0.009666078239013099,0.009666078239013099,0.009666078239013099,0.009666078239013099,0.009666078239013099,0.009666078239013099,0.009666078239013099,0.009666078239013099,0.009445143577517153,0.009445143577517153,0.009445143577517153,0.009445143577517153,0.009445143577517153,0.009445143577517153,0.009445143577517153,0.009445143577517153,0.009445143577517153,0.009445143577517153,0.009445143577517153,0.009220158430343708,0.009220158430343708,0.009220158430343708,0.009220158430343708,0.009220158430343708,0.009220158430343708,0.009220158430343708,0.009220158430343708,0.009220158430343708,0.009220158430343708,0.009220158430343708,0.009220158430343708,0.009220158430343708,0.009220158430343708,0.009220158430343708,0.009220158430343708,0.009220158430343708,0.009220158430343708,0.009220158430343708,0.009220158430343708,0.009220158430343708,0.008991657680597656,0.008991657680597656,0.008991657680597656,0.008991657680597656,0.008991657680597656,0.008991657680597656,0.008991657680597656,0.008991657680597656,0.008991657680597656,0.008991657680597656,0.008991657680597656,0.008991657680597656,0.008991657680597656,0.008991657680597656,0.008991657680597656,0.008991657680597656,0.008991657680597656,0.008991657680597656,0.008991657680597656,0.008760173487816637,0.008760173487816637,0.008760173487816637,0.008760173487816637,0.008760173487816637,0.008760173487816637,0.008760173487816637,0.008760173487816637,0.008760173487816637,0.008760173487816637,0.008760173487816637,0.008760173487816637,0.008760173487816637,0.008760173487816637,0.008760173487816637,0.008760173487816637,0.008760173487816637,0.008760173487816637,0.008760173487816637,0.008760173487816637,0.008760173487816637,0.008760173487816637,0.008526233283165586,0.008526233283165586,0.008526233283165586,0.008526233283165586,0.008526233283165586,0.008526233283165586,0.008526233283165586,0.008526233283165586,0.008526233283165586,0.008526233283165586,0.008526233283165586,0.008526233283165586,0.008526233283165586,0.008526233283165586,0.008526233283165586,0.008526233283165586,0.008290357838265944,0.008290357838265944,0.008290357838265944,0.008290357838265944,0.008290357838265944,0.008290357838265944,0.008290357838265944,0.008290357838265944,0.008290357838265944,0.008290357838265944,0.008290357838265944,0.008290357838265944,0.008290357838265944,0.008290357838265944,0.008290357838265944,0.008290357838265944,0.008290357838265944,0.008290357838265944,0.008290357838265944,0.008290357838265944,0.008290357838265944,0.008290357838265944,0.008290357838265944,0.008290357838265944,0.00805305941703585,0.00805305941703585,0.00805305941703585,0.00805305941703585,0.00805305941703585,0.00805305941703585,0.00805305941703585,0.00805305941703585,0.00805305941703585,0.00805305941703585,0.007814840019106801,0.007814840019106801,0.007814840019106801,0.007814840019106801,0.007814840019106801,0.007814840019106801,0.007814840019106801,0.007814840019106801,0.007814840019106801,0.007576189722526611,0.007576189722526611,0.007576189722526611,0.007576189722526611,0.007576189722526611,0.007576189722526611,0.007576189722526611,0.007576189722526611,0.007576189722526611,0.007576189722526611,0.007576189722526611,0.007337585132566526,0.007337585132566526,0.007337585132566526,0.007337585132566526,0.007337585132566526,0.007337585132566526,0.007337585132566526,0.007337585132566526,0.007337585132566526,0.007337585132566526,0.007337585132566526,0.007337585132566526,0.007337585132566526,0.007099487942530877,0.007099487942530877,0.007099487942530877,0.007099487942530877,0.007099487942530877,0.007099487942530877,0.007099487942530877,0.007099487942530877,0.007099487942530877,0.006862343611529703,0.006862343611529703,0.006862343611529703,0.006862343611529703,0.006862343611529703,0.006862343611529703,0.006862343611529703,0.006626580163226782,0.006626580163226782,0.006626580163226782,0.006626580163226782,0.006392607108626401,0.006392607108626401,0.006392607108626401,0.006392607108626401,0.006392607108626401,0.006392607108626401,0.006392607108626401,0.006392607108626401,0.006392607108626401,0.006392607108626401,0.006392607108626401,0.006392607108626401,0.006392607108626401,0.006392607108626401,0.006392607108626401,0.006392607108626401,0.00616081449501997,0.00616081449501997,0.00616081449501997,0.00616081449501997,0.00616081449501997,0.00616081449501997,0.00616081449501997,0.00616081449501997,0.00616081449501997,0.00616081449501997,0.00616081449501997,0.00616081449501997,0.00616081449501997,0.005931572082286494,0.005931572082286494,0.005931572082286494,0.005931572082286494,0.005931572082286494,0.005931572082286494,0.005931572082286494,0.005931572082286494,0.005931572082286494,0.005931572082286494,0.005931572082286494,0.005931572082286494,0.005931572082286494,0.005931572082286494,0.005705228646836314,0.005705228646836314,0.005705228646836314,0.005705228646836314,0.005705228646836314,0.005705228646836314,0.005705228646836314,0.005705228646836314,0.005705228646836314,0.005705228646836314,0.005705228646836314,0.005482111412612676,0.005482111412612676,0.005482111412612676,0.005482111412612676,0.005482111412612676,0.005482111412612676,0.005482111412612676,0.005482111412612676,0.005482111412612676,0.005482111412612676,0.005482111412612676,0.005482111412612676,0.005482111412612676,0.005482111412612676,0.005482111412612676,0.0052625256077270255,0.0052625256077270255,0.0052625256077270255,0.0052625256077270255,0.0052625256077270255,0.005046754144507476,0.005046754144507476,0.005046754144507476,0.005046754144507476,0.004835057419990984,0.004835057419990984,0.004835057419990984,0.004835057419990984,0.004835057419990984,0.004835057419990984,0.004835057419990984,0.004835057419990984,0.004835057419990984,0.004835057419990984,0.004835057419990984,0.004835057419990984,0.00462767323319306,0.00462767323319306,0.00462767323319306,0.00462767323319306,0.00462767323319306,0.00462767323319306,0.00462767323319306,0.004424816814848349,0.004424816814848349,0.004424816814848349,0.004424816814848349,0.004424816814848349,0.004226680964734404,0.004226680964734404,0.004226680964734404,0.004226680964734404,0.0038452315468402473,0.0009758009869174676]}},\"id\":\"8ac31a9f-3f6d-433b-b6f4-3ef2ef19ca0b\",\"type\":\"ColumnDataSource\"},{\"attributes\":{\"callback\":null},\"id\":\"56254f3d-8b49-4a99-98d3-ea6ea2d53ee7\",\"type\":\"DataRange1d\"},{\"attributes\":{},\"id\":\"a635e8cf-f778-4fc1-a6f4-bdf810778ec0\",\"type\":\"BasicTickFormatter\"},{\"attributes\":{\"data_source\":{\"id\":\"8ac31a9f-3f6d-433b-b6f4-3ef2ef19ca0b\",\"type\":\"ColumnDataSource\"},\"glyph\":{\"id\":\"2ed4c8fa-081d-4e33-a1bd-07569a432a97\",\"type\":\"Line\"},\"hover_glyph\":null,\"nonselection_glyph\":{\"id\":\"449f5bb1-8f05-46dc-a47d-01840d8c3d38\",\"type\":\"Line\"},\"selection_glyph\":null},\"id\":\"bd5cc631-1a4b-4208-8b0c-a2f1b860f433\",\"type\":\"GlyphRenderer\"},{\"attributes\":{\"plot\":{\"id\":\"bbd0fde0-bc12-4bf7-92a2-f7eee0ba739c\",\"subtype\":\"Figure\",\"type\":\"Plot\"}},\"id\":\"e47d342c-825d-43e5-9dd1-a11727a06d46\",\"type\":\"PanTool\"},{\"attributes\":{\"line_alpha\":{\"value\":0.7},\"line_color\":{\"value\":\"navy\"},\"line_width\":{\"value\":6},\"x\":{\"field\":\"x\"},\"y\":{\"field\":\"y\"}},\"id\":\"2ed4c8fa-081d-4e33-a1bd-07569a432a97\",\"type\":\"Line\"},{\"attributes\":{\"plot\":{\"id\":\"bbd0fde0-bc12-4bf7-92a2-f7eee0ba739c\",\"subtype\":\"Figure\",\"type\":\"Plot\"}},\"id\":\"4f827b35-16c5-495d-961f-3c4e357d50d8\",\"type\":\"HelpTool\"},{\"attributes\":{\"active_drag\":\"auto\",\"active_scroll\":\"auto\",\"active_tap\":\"auto\",\"tools\":[{\"id\":\"e47d342c-825d-43e5-9dd1-a11727a06d46\",\"type\":\"PanTool\"},{\"id\":\"58cd4b71-1540-4e11-a54e-fbf157b41e66\",\"type\":\"WheelZoomTool\"},{\"id\":\"ac13e88d-30c1-495c-b210-6ab4ab9c7e30\",\"type\":\"BoxZoomTool\"},{\"id\":\"ad4b6baf-ab24-4752-bdc4-e7bb2ef3ef12\",\"type\":\"SaveTool\"},{\"id\":\"a1a72d5c-452b-4205-af48-9c71942a9336\",\"type\":\"ResetTool\"},{\"id\":\"4f827b35-16c5-495d-961f-3c4e357d50d8\",\"type\":\"HelpTool\"}]},\"id\":\"9a67a333-79c6-4bce-b6b3-46e09975ead6\",\"type\":\"Toolbar\"},{\"attributes\":{\"bottom_units\":\"screen\",\"fill_alpha\":{\"value\":0.5},\"fill_color\":{\"value\":\"lightgrey\"},\"left_units\":\"screen\",\"level\":\"overlay\",\"line_alpha\":{\"value\":1.0},\"line_color\":{\"value\":\"black\"},\"line_dash\":[4,4],\"line_width\":{\"value\":2},\"plot\":null,\"render_mode\":\"css\",\"right_units\":\"screen\",\"top_units\":\"screen\"},\"id\":\"74ab793c-823b-41e7-b0d8-69e365f2313f\",\"type\":\"BoxAnnotation\"},{\"attributes\":{\"below\":[{\"id\":\"c84933a4-8048-4fe7-be9c-fd678c72e952\",\"type\":\"LinearAxis\"}],\"left\":[{\"id\":\"556d9cd5-ab74-42ac-91ab-1d864e336b3d\",\"type\":\"LinearAxis\"}],\"renderers\":[{\"id\":\"c84933a4-8048-4fe7-be9c-fd678c72e952\",\"type\":\"LinearAxis\"},{\"id\":\"c9c047ca-27c7-4552-a3f5-29c491ba693c\",\"type\":\"Grid\"},{\"id\":\"556d9cd5-ab74-42ac-91ab-1d864e336b3d\",\"type\":\"LinearAxis\"},{\"id\":\"9468e9e3-9c10-412f-af07-dafc8af368c6\",\"type\":\"Grid\"},{\"id\":\"74ab793c-823b-41e7-b0d8-69e365f2313f\",\"type\":\"BoxAnnotation\"},{\"id\":\"a29654b4-40cb-4791-b9d2-9ee91fa2f9ab\",\"type\":\"GlyphRenderer\"},{\"id\":\"5d59fc99-7081-4042-bbd7-b620f239b5f2\",\"type\":\"GlyphRenderer\"},{\"id\":\"20e04791-bada-4817-8622-350d7543dd91\",\"type\":\"Legend\"},{\"id\":\"bd5cc631-1a4b-4208-8b0c-a2f1b860f433\",\"type\":\"GlyphRenderer\"},{\"id\":\"08e79775-4571-4342-9ff5-e72ebc98389c\",\"type\":\"GlyphRenderer\"}],\"title\":{\"id\":\"0dfbe8da-498a-4290-89f4-bc20a8db4541\",\"type\":\"Title\"},\"tool_events\":{\"id\":\"7624f17c-cde1-4c18-b84a-ba469c2d66a1\",\"type\":\"ToolEvents\"},\"toolbar\":{\"id\":\"9a67a333-79c6-4bce-b6b3-46e09975ead6\",\"type\":\"Toolbar\"},\"x_range\":{\"id\":\"5e2c67f9-cea0-45ac-9729-71e4782e28f2\",\"type\":\"DataRange1d\"},\"y_range\":{\"id\":\"56254f3d-8b49-4a99-98d3-ea6ea2d53ee7\",\"type\":\"DataRange1d\"}},\"id\":\"bbd0fde0-bc12-4bf7-92a2-f7eee0ba739c\",\"subtype\":\"Figure\",\"type\":\"Plot\"},{\"attributes\":{},\"id\":\"c5077d7a-6d5f-463a-962a-97a35937f2c3\",\"type\":\"BasicTickFormatter\"},{\"attributes\":{\"plot\":{\"id\":\"bbd0fde0-bc12-4bf7-92a2-f7eee0ba739c\",\"subtype\":\"Figure\",\"type\":\"Plot\"},\"ticker\":{\"id\":\"698c83eb-3dfe-4e9b-8c52-6827207ee2f7\",\"type\":\"BasicTicker\"}},\"id\":\"c9c047ca-27c7-4552-a3f5-29c491ba693c\",\"type\":\"Grid\"},{\"attributes\":{\"callback\":null,\"column_names\":[\"y\",\"x\"],\"data\":{\"x\":[5,5,5,5,7,8,8,8,9,9,10,11,11,11,11,11,11,11,12,12,12,12,12,12,12,13,13,13,13,13,13,13,13,13,14,14,14,14,14,14,14,15,15,15,16,16,16,16,17,17,17,17,17,17,18,18,18,18,19,19,19,19,19,19,20,20,20,20,21,21,22,22,22,22,23,23,23,23,23,23,24,24,24,24,24,25,25,25,25,25,25,25,25,25,25,25,26,26,26,26,26,26,27,27,27,27,27,27,27,27,28,28,28,28,29,29,29,29,30,30,30,30,30,30,31,31,31,31,31,31,31,31,32,32,33,33,33,33,33,33,33,33,34,34,34,34,34,34,34,34,35,35,35,35,35,35,35,35,35,35,35,36,36,36,36,36,36,36,37,37,37,37,37,37,37,37,37,38,38,38,38,38,38,38,39,39,39,39,39,39,39,40,40,40,40,40,41,41,41,42,42,42,42,42,42,42,42,43,43,43,43,43,43,44,44,44,44,44,44,44,44,44,45,45,45,45,45,45,45,45,45,45,45,46,46,46,46,46,46,47,47,47,47,47,47,47,47,47,47,47,48,48,48,48,48,48,48,48,49,49,49,49,49,49,50,50,50,51,51,51,51,51,51,51,52,52,52,52,52,52,52,52,53,53,53,53,53,53,54,54,54,54,54,54,54,54,55,55,55,55,55,55,55,55,55,55,56,56,56,56,56,56,56,56,56,56,56,57,57,58,58,58,58,58,58,58,59,59,59,59,59,60,60,60,60,60,61,61,61,61,61,61,61,61,61,61,62,62,62,62,62,62,63,63,63,63,63,63,63,63,63,63,64,65,65,65,65,65,65,65,65,65,65,65,65,66,66,66,66,66,66,66,66,66,67,67,67,67,67,67,67,67,67,67,68,68,68,68,68,68,68,69,69,69,70,70,70,71,71,71,71,71,71,71,71,72,72,72,72,72,72,73,73,73,73,73,73,73,74,74,74,74,74,74,74,75,75,75,75,75,75,75,75,75,76,76,76,77,77,77,77,77,77,77,77,78,78,78,78,78,78,78,78,78,79,79,79,80,80,80,80,80,80,80,80,81,81,81,81,82,82,82,82,83,83,83,83,83,83,84,84,84,85,85,85,85,85,85,85,85,85,85,85,85,85,86,86,86,86,86,87,87,87,87,87,87,87,87,87,88,88,88,88,88,88,88,89,89,89,89,89,89,89,89,90,90,90,90,91,91,91,91,91,91,91,91,91,92,92,92,92,92,92,92,92,93,93,93,93,94,94,94,94,94,94,94,95,95,95,95,95,95,95,95,95,95,96,96,96,96,96,96,97,97,97,97,97,97,97,97,98,98,98,99,99,99,99,99,99,100,100,100,100,100,100,100,100,101,101,101,101,101,101,101,101,101,102,102,102,102,102,102,102,102,102,102,103,103,103,103,103,103,103,104,104,104,104,104,104,105,105,105,105,105,105,106,106,106,106,106,106,106,106,106,106,106,107,107,107,107,107,107,107,107,107,108,108,108,108,108,108,108,108,108,108,108,109,109,109,109,109,109,109,109,109,109,110,110,110,110,110,111,111,111,111,111,111,112,112,112,112,112,112,112,112,112,112,112,113,113,113,113,113,113,113,113,113,113,113,113,113,114,114,114,114,114,114,114,114,114,114,115,115,115,115,115,115,115,115,115,115,115,115,115,115,116,116,116,116,116,116,116,116,116,116,116,116,116,117,117,117,117,117,117,117,117,117,117,117,118,118,118,118,118,118,118,118,118,118,119,119,119,119,119,119,119,119,119,119,119,119,119,119,119,120,120,120,120,120,120,120,121,121,121,121,121,121,121,121,121,121,121,121,122,122,122,122,122,122,122,122,122,122,122,122,122,122,122,122,122,122,122,122,122,122,123,123,123,123,123,123,124,124,124,124,124,124,124,124,125,125,125,125,125,126,126,126,126,126,127,127,127,127,127,127,127,128,128,128,128,129,129,129,129,129,129,129,129,130,130,130,130,130,130,130,130,130,131,131,131,131,131,131,131,131,131,131,131,131,131,131,131,131,131,131,132,132,132,132,132,132,132,132,132,132,132,132,132,132,133,133,133,133,133,133,133,133,133,133,133,133,133,134,134,134,134,134,134,135,135,135,135,135,135,135,135,135,135,135,135,136,136,136,136,136,136,137,137,137,137,137,137,137,137,137,137,138,138,138,138,138,138,138,138,138,138,138,139,139,139,139,139,139,139,139,139,139,139,140,140,140,140,140,140,140,140,140,140,141,144],\"y\":[0.0014618887652501974,0.0014618887652501974,0.0014618887652501974,0.0014618887652501974,0.0016177426135336212,0.0017000769680762232,0.0017000769680762232,0.0017000769680762232,0.0017853997999497373,0.0017853997999497373,0.001873743414976812,0.0019651354818486897,0.0019651354818486897,0.0019651354818486897,0.0019651354818486897,0.0019651354818486897,0.0019651354818486897,0.0019651354818486897,0.00205959872645945,0.00205959872645945,0.00205959872645945,0.00205959872645945,0.00205959872645945,0.00205959872645945,0.00205959872645945,0.0021571506282538236,0.0021571506282538236,0.0021571506282538236,0.0021571506282538236,0.0021571506282538236,0.0021571506282538236,0.0021571506282538236,0.0021571506282538236,0.0021571506282538236,0.002257803119941539,0.002257803119941539,0.002257803119941539,0.002257803119941539,0.002257803119941539,0.002257803119941539,0.002257803119941539,0.0023615622919804756,0.0023615622919804756,0.0023615622919804756,0.0024684281032747385,0.0024684281032747385,0.0024684281032747385,0.0024684281032747385,0.0025783940995718637,0.0025783940995718637,0.0025783940995718637,0.0025783940995718637,0.0025783940995718637,0.0025783940995718637,0.002691447141074927,0.002691447141074927,0.002691447141074927,0.002691447141074927,0.002807567140810142,0.002807567140810142,0.002807567140810142,0.002807567140810142,0.002807567140810142,0.002807567140810142,0.0029267268153078596,0.0029267268153078596,0.0029267268153078596,0.0029267268153078596,0.0030488914491645512,0.0030488914491645512,0.0031740186750546986,0.0031740186750546986,0.0031740186750546986,0.0031740186750546986,0.0033020582707544337,0.0033020582707544337,0.0033020582707544337,0.0033020582707544337,0.0033020582707544337,0.0033020582707544337,0.0034329519747226703,0.0034329519747226703,0.0034329519747226703,0.0034329519747226703,0.0034329519747226703,0.003566633321760364,0.003566633321760364,0.003566633321760364,0.003566633321760364,0.003566633321760364,0.003566633321760364,0.003566633321760364,0.003566633321760364,0.003566633321760364,0.003566633321760364,0.003566633321760364,0.003703027500233894,0.003703027500233894,0.003703027500233894,0.003703027500233894,0.003703027500233894,0.003703027500233894,0.003842051232304509,0.003842051232304509,0.003842051232304509,0.003842051232304509,0.003842051232304509,0.003842051232304509,0.003842051232304509,0.003842051232304509,0.003983612678551996,0.003983612678551996,0.003983612678551996,0.003983612678551996,0.004127611368317249,0.004127611368317249,0.004127611368317249,0.004127611368317249,0.004273938157015285,0.004273938157015285,0.004273938157015285,0.004273938157015285,0.004273938157015285,0.004273938157015285,0.0044224752115874745,0.0044224752115874745,0.0044224752115874745,0.0044224752115874745,0.0044224752115874745,0.0044224752115874745,0.0044224752115874745,0.0044224752115874745,0.004573096025169577,0.004573096025169577,0.004725665461950692,0.004725665461950692,0.004725665461950692,0.004725665461950692,0.004725665461950692,0.004725665461950692,0.004725665461950692,0.004725665461950692,0.00488003983308795,0.00488003983308795,0.00488003983308795,0.00488003983308795,0.00488003983308795,0.00488003983308795,0.00488003983308795,0.00488003983308795,0.0050360670044227365,0.0050360670044227365,0.0050360670044227365,0.0050360670044227365,0.0050360670044227365,0.0050360670044227365,0.0050360670044227365,0.0050360670044227365,0.0050360670044227365,0.0050360670044227365,0.0050360670044227365,0.0051935865366173044,0.0051935865366173044,0.0051935865366173044,0.0051935865366173044,0.0051935865366173044,0.0051935865366173044,0.0051935865366173044,0.005352429858195839,0.005352429858195839,0.005352429858195839,0.005352429858195839,0.005352429858195839,0.005352429858195839,0.005352429858195839,0.005352429858195839,0.005352429858195839,0.005512420471832407,0.005512420471832407,0.005512420471832407,0.005512420471832407,0.005512420471832407,0.005512420471832407,0.005512420471832407,0.00567337419408006,0.00567337419408006,0.00567337419408006,0.00567337419408006,0.00567337419408006,0.00567337419408006,0.00567337419408006,0.005835099428581545,0.005835099428581545,0.005835099428581545,0.005835099428581545,0.005835099428581545,0.005997397472643357,0.005997397472643357,0.005997397472643357,0.006160062856892061,0.006160062856892061,0.006160062856892061,0.006160062856892061,0.006160062856892061,0.006160062856892061,0.006160062856892061,0.006160062856892061,0.0063228837175656645,0.0063228837175656645,0.0063228837175656645,0.0063228837175656645,0.0063228837175656645,0.0063228837175656645,0.006485642200824621,0.006485642200824621,0.006485642200824621,0.006485642200824621,0.006485642200824621,0.006485642200824621,0.006485642200824621,0.006485642200824621,0.006485642200824621,0.006648114898297244,0.006648114898297244,0.006648114898297244,0.006648114898297244,0.006648114898297244,0.006648114898297244,0.006648114898297244,0.006648114898297244,0.006648114898297244,0.006648114898297244,0.006648114898297244,0.006810073312904413,0.006810073312904413,0.006810073312904413,0.006810073312904413,0.006810073312904413,0.006810073312904413,0.006971284353839137,0.006971284353839137,0.006971284353839137,0.006971284353839137,0.006971284353839137,0.006971284353839137,0.006971284353839137,0.006971284353839137,0.006971284353839137,0.006971284353839137,0.006971284353839137,0.0071315108594090515,0.0071315108594090515,0.0071315108594090515,0.0071315108594090515,0.0071315108594090515,0.0071315108594090515,0.0071315108594090515,0.0071315108594090515,0.0072905121462852746,0.0072905121462852746,0.0072905121462852746,0.0072905121462852746,0.0072905121462852746,0.0072905121462852746,0.007448044583540273,0.007448044583540273,0.007448044583540273,0.007603862189701686,0.007603862189701686,0.007603862189701686,0.007603862189701686,0.007603862189701686,0.007603862189701686,0.007603862189701686,0.007757717250899344,0.007757717250899344,0.007757717250899344,0.007757717250899344,0.007757717250899344,0.007757717250899344,0.007757717250899344,0.007757717250899344,0.007909360958040183,0.007909360958040183,0.007909360958040183,0.007909360958040183,0.007909360958040183,0.007909360958040183,0.008058544060811338,0.008058544060811338,0.008058544060811338,0.008058544060811338,0.008058544060811338,0.008058544060811338,0.008058544060811338,0.008058544060811338,0.008205017536186446,0.008205017536186446,0.008205017536186446,0.008205017536186446,0.008205017536186446,0.008205017536186446,0.008205017536186446,0.008205017536186446,0.008205017536186446,0.008205017536186446,0.008348533268995019,0.008348533268995019,0.008348533268995019,0.008348533268995019,0.008348533268995019,0.008348533268995019,0.008348533268995019,0.008348533268995019,0.008348533268995019,0.008348533268995019,0.008348533268995019,0.008488844742010568,0.008488844742010568,0.008625707732920875,0.008625707732920875,0.008625707732920875,0.008625707732920875,0.008625707732920875,0.008625707732920875,0.008625707732920875,0.008758881015464102,0.008758881015464102,0.008758881015464102,0.008758881015464102,0.008758881015464102,0.00888812706194811,0.00888812706194811,0.00888812706194811,0.00888812706194811,0.00888812706194811,0.009013212744317966,0.009013212744317966,0.009013212744317966,0.009013212744317966,0.009013212744317966,0.009013212744317966,0.009013212744317966,0.009013212744317966,0.009013212744317966,0.009013212744317966,0.009133910030898824,0.009133910030898824,0.009133910030898824,0.009133910030898824,0.009133910030898824,0.009133910030898824,0.0092499966759185,0.0092499966759185,0.0092499966759185,0.0092499966759185,0.0092499966759185,0.0092499966759185,0.0092499966759185,0.0092499966759185,0.0092499966759185,0.0092499966759185,0.00936125689890653,0.009467482051074701,0.009467482051074701,0.009467482051074701,0.009467482051074701,0.009467482051074701,0.009467482051074701,0.009467482051074701,0.009467482051074701,0.009467482051074701,0.009467482051074701,0.009467482051074701,0.009467482051074701,0.009568471265807899,0.009568471265807899,0.009568471265807899,0.009568471265807899,0.009568471265807899,0.009568471265807899,0.009568471265807899,0.009568471265807899,0.009568471265807899,0.009664032090433844,0.009664032090433844,0.009664032090433844,0.009664032090433844,0.009664032090433844,0.009664032090433844,0.009664032090433844,0.009664032090433844,0.009664032090433844,0.009664032090433844,0.009753981096495909,0.009753981096495909,0.009753981096495909,0.009753981096495909,0.009753981096495909,0.009753981096495909,0.009753981096495909,0.009838144465824357,0.009838144465824357,0.009838144465824357,0.009916358549787903,0.009916358549787903,0.009916358549787903,0.009988470399209151,0.009988470399209151,0.009988470399209151,0.009988470399209151,0.009988470399209151,0.009988470399209151,0.009988470399209151,0.009988470399209151,0.010054338262543533,0.010054338262543533,0.010054338262543533,0.010054338262543533,0.010054338262543533,0.010054338262543533,0.010113832050051523,0.010113832050051523,0.010113832050051523,0.010113832050051523,0.010113832050051523,0.010113832050051523,0.010113832050051523,0.010166833761837267,0.010166833761837267,0.010166833761837267,0.010166833761837267,0.010166833761837267,0.010166833761837267,0.010166833761837267,0.010213237877782718,0.010213237877782718,0.010213237877782718,0.010213237877782718,0.010213237877782718,0.010213237877782718,0.010213237877782718,0.010213237877782718,0.010213237877782718,0.010252951707573914,0.010252951707573914,0.010252951707573914,0.01028589569919438,0.01028589569919438,0.01028589569919438,0.01028589569919438,0.01028589569919438,0.01028589569919438,0.01028589569919438,0.01028589569919438,0.010312003704448559,0.010312003704448559,0.010312003704448559,0.010312003704448559,0.010312003704448559,0.010312003704448559,0.010312003704448559,0.010312003704448559,0.010312003704448559,0.010331223200274912,0.010331223200274912,0.010331223200274912,0.010343515464812221,0.010343515464812221,0.010343515464812221,0.010343515464812221,0.010343515464812221,0.010343515464812221,0.010343515464812221,0.010343515464812221,0.010348855707393034,0.010348855707393034,0.010348855707393034,0.010348855707393034,0.010347233151853425,0.010347233151853425,0.010347233151853425,0.010347233151853425,0.010338651072767205,0.010338651072767205,0.010338651072767205,0.010338651072767205,0.010338651072767205,0.010338651072767205,0.010323126784434037,0.010323126784434037,0.010323126784434037,0.010300691582673317,0.010300691582673317,0.010300691582673317,0.010300691582673317,0.010300691582673317,0.010300691582673317,0.010300691582673317,0.010300691582673317,0.010300691582673317,0.010300691582673317,0.010300691582673317,0.010300691582673317,0.010300691582673317,0.010271390639697668,0.010271390639697668,0.010271390639697668,0.010271390639697668,0.010271390639697668,0.010235282852560356,0.010235282852560356,0.010235282852560356,0.010235282852560356,0.010235282852560356,0.010235282852560356,0.010235282852560356,0.010235282852560356,0.010235282852560356,0.010192440645888272,0.010192440645888272,0.010192440645888272,0.010192440645888272,0.010192440645888272,0.010192440645888272,0.010192440645888272,0.010142949729825318,0.010142949729825318,0.010142949729825318,0.010142949729825318,0.010142949729825318,0.010142949729825318,0.010142949729825318,0.010142949729825318,0.010086908814318474,0.010086908814318474,0.010086908814318474,0.010086908814318474,0.010024429281079635,0.010024429281079635,0.010024429281079635,0.010024429281079635,0.010024429281079635,0.010024429281079635,0.010024429281079635,0.010024429281079635,0.010024429281079635,0.009955634814749013,0.009955634814749013,0.009955634814749013,0.009955634814749013,0.009955634814749013,0.009955634814749013,0.009955634814749013,0.009955634814749013,0.009880660994969467,0.009880660994969467,0.009880660994969467,0.009880660994969467,0.009799654851254641,0.009799654851254641,0.009799654851254641,0.009799654851254641,0.009799654851254641,0.009799654851254641,0.009799654851254641,0.009712774382695967,0.009712774382695967,0.009712774382695967,0.009712774382695967,0.009712774382695967,0.009712774382695967,0.009712774382695967,0.009712774382695967,0.009712774382695967,0.009712774382695967,0.009620188044703826,0.009620188044703826,0.009620188044703826,0.009620188044703826,0.009620188044703826,0.009620188044703826,0.009522074205115418,0.009522074205115418,0.009522074205115418,0.009522074205115418,0.009522074205115418,0.009522074205115418,0.009522074205115418,0.009522074205115418,0.009418620572125615,0.009418620572125615,0.009418620572125615,0.00931002359660641,0.00931002359660641,0.00931002359660641,0.00931002359660641,0.00931002359660641,0.00931002359660641,0.009196487851475343,0.009196487851475343,0.009196487851475343,0.009196487851475343,0.009196487851475343,0.009196487851475343,0.009196487851475343,0.009196487851475343,0.00907822539085258,0.00907822539085258,0.00907822539085258,0.00907822539085258,0.00907822539085258,0.00907822539085258,0.00907822539085258,0.00907822539085258,0.00907822539085258,0.008955455091810423,0.008955455091810423,0.008955455091810423,0.008955455091810423,0.008955455091810423,0.008955455091810423,0.008955455091810423,0.008955455091810423,0.008955455091810423,0.008955455091810423,0.008828401981567084,0.008828401981567084,0.008828401981567084,0.008828401981567084,0.008828401981567084,0.008828401981567084,0.008828401981567084,0.00869729655300899,0.00869729655300899,0.00869729655300899,0.00869729655300899,0.00869729655300899,0.00869729655300899,0.008562374071442424,0.008562374071442424,0.008562374071442424,0.008562374071442424,0.008562374071442424,0.008562374071442424,0.008423873875476122,0.008423873875476122,0.008423873875476122,0.008423873875476122,0.008423873875476122,0.008423873875476122,0.008423873875476122,0.008423873875476122,0.008423873875476122,0.008423873875476122,0.008423873875476122,0.008282038674921725,0.008282038674921725,0.008282038674921725,0.008282038674921725,0.008282038674921725,0.008282038674921725,0.008282038674921725,0.008282038674921725,0.008282038674921725,0.00813711384856916,0.00813711384856916,0.00813711384856916,0.00813711384856916,0.00813711384856916,0.00813711384856916,0.00813711384856916,0.00813711384856916,0.00813711384856916,0.00813711384856916,0.00813711384856916,0.0079893467446493,0.0079893467446493,0.0079893467446493,0.0079893467446493,0.0079893467446493,0.0079893467446493,0.0079893467446493,0.0079893467446493,0.0079893467446493,0.0079893467446493,0.007838985986737343,0.007838985986737343,0.007838985986737343,0.007838985986737343,0.007838985986737343,0.0076862807877777,0.0076862807877777,0.0076862807877777,0.0076862807877777,0.0076862807877777,0.0076862807877777,0.007531480274825517,0.007531480274825517,0.007531480274825517,0.007531480274825517,0.007531480274825517,0.007531480274825517,0.007531480274825517,0.007531480274825517,0.007531480274825517,0.007531480274825517,0.007531480274825517,0.007374832827002012,0.007374832827002012,0.007374832827002012,0.007374832827002012,0.007374832827002012,0.007374832827002012,0.007374832827002012,0.007374832827002012,0.007374832827002012,0.007374832827002012,0.007374832827002012,0.007374832827002012,0.007374832827002012,0.007216585429051428,0.007216585429051428,0.007216585429051428,0.007216585429051428,0.007216585429051428,0.007216585429051428,0.007216585429051428,0.007216585429051428,0.007216585429051428,0.007216585429051428,0.007056983042767395,0.007056983042767395,0.007056983042767395,0.007056983042767395,0.007056983042767395,0.007056983042767395,0.007056983042767395,0.007056983042767395,0.007056983042767395,0.007056983042767395,0.007056983042767395,0.007056983042767395,0.007056983042767395,0.007056983042767395,0.006896267998426857,0.006896267998426857,0.006896267998426857,0.006896267998426857,0.006896267998426857,0.006896267998426857,0.006896267998426857,0.006896267998426857,0.006896267998426857,0.006896267998426857,0.006896267998426857,0.006896267998426857,0.006896267998426857,0.006734679408231404,0.006734679408231404,0.006734679408231404,0.006734679408231404,0.006734679408231404,0.006734679408231404,0.006734679408231404,0.006734679408231404,0.006734679408231404,0.006734679408231404,0.006734679408231404,0.006572452603609812,0.006572452603609812,0.006572452603609812,0.006572452603609812,0.006572452603609812,0.006572452603609812,0.006572452603609812,0.006572452603609812,0.006572452603609812,0.006572452603609812,0.006409818598082988,0.006409818598082988,0.006409818598082988,0.006409818598082988,0.006409818598082988,0.006409818598082988,0.006409818598082988,0.006409818598082988,0.006409818598082988,0.006409818598082988,0.006409818598082988,0.006409818598082988,0.006409818598082988,0.006409818598082988,0.006409818598082988,0.0062470035772343065,0.0062470035772343065,0.0062470035772343065,0.0062470035772343065,0.0062470035772343065,0.0062470035772343065,0.0062470035772343065,0.0060842284171655865,0.0060842284171655865,0.0060842284171655865,0.0060842284171655865,0.0060842284171655865,0.0060842284171655865,0.0060842284171655865,0.0060842284171655865,0.0060842284171655865,0.0060842284171655865,0.0060842284171655865,0.0060842284171655865,0.005921708232652902,0.005921708232652902,0.005921708232652902,0.005921708232652902,0.005921708232652902,0.005921708232652902,0.005921708232652902,0.005921708232652902,0.005921708232652902,0.005921708232652902,0.005921708232652902,0.005921708232652902,0.005921708232652902,0.005921708232652902,0.005921708232652902,0.005921708232652902,0.005921708232652902,0.005921708232652902,0.005921708232652902,0.005921708232652902,0.005921708232652902,0.005921708232652902,0.005759651956047893,0.005759651956047893,0.005759651956047893,0.005759651956047893,0.005759651956047893,0.005759651956047893,0.005598261947800553,0.005598261947800553,0.005598261947800553,0.005598261947800553,0.005598261947800553,0.005598261947800553,0.005598261947800553,0.005598261947800553,0.0054377336393094805,0.0054377336393094805,0.0054377336393094805,0.0054377336393094805,0.0054377336393094805,0.005278255208636431,0.005278255208636431,0.005278255208636431,0.005278255208636431,0.005278255208636431,0.005120007289454582,0.005120007289454582,0.005120007289454582,0.005120007289454582,0.005120007289454582,0.005120007289454582,0.005120007289454582,0.004963162713435292,0.004963162713435292,0.004963162713435292,0.004963162713435292,0.004807886286117095,0.004807886286117095,0.004807886286117095,0.004807886286117095,0.004807886286117095,0.004807886286117095,0.004807886286117095,0.004807886286117095,0.004654334596144113,0.004654334596144113,0.004654334596144113,0.004654334596144113,0.004654334596144113,0.004654334596144113,0.004654334596144113,0.004654334596144113,0.004654334596144113,0.004502655857609838,0.004502655857609838,0.004502655857609838,0.004502655857609838,0.004502655857609838,0.004502655857609838,0.004502655857609838,0.004502655857609838,0.004502655857609838,0.004502655857609838,0.004502655857609838,0.004502655857609838,0.004502655857609838,0.004502655857609838,0.004502655857609838,0.004502655857609838,0.004502655857609838,0.004502655857609838,0.004352989785097022,0.004352989785097022,0.004352989785097022,0.004352989785097022,0.004352989785097022,0.004352989785097022,0.004352989785097022,0.004352989785097022,0.004352989785097022,0.004352989785097022,0.004352989785097022,0.004352989785097022,0.004352989785097022,0.004352989785097022,0.004205467500865862,0.004205467500865862,0.004205467500865862,0.004205467500865862,0.004205467500865862,0.004205467500865862,0.004205467500865862,0.004205467500865862,0.004205467500865862,0.004205467500865862,0.004205467500865862,0.004205467500865862,0.004205467500865862,0.004060211473511516,0.004060211473511516,0.004060211473511516,0.004060211473511516,0.004060211473511516,0.004060211473511516,0.003917335487288624,0.003917335487288624,0.003917335487288624,0.003917335487288624,0.003917335487288624,0.003917335487288624,0.003917335487288624,0.003917335487288624,0.003917335487288624,0.003917335487288624,0.003917335487288624,0.003917335487288624,0.0037769446411855525,0.0037769446411855525,0.0037769446411855525,0.0037769446411855525,0.0037769446411855525,0.0037769446411855525,0.003639135376724802,0.003639135376724802,0.003639135376724802,0.003639135376724802,0.003639135376724802,0.003639135376724802,0.003639135376724802,0.003639135376724802,0.003639135376724802,0.003639135376724802,0.003503995533368909,0.003503995533368909,0.003503995533368909,0.003503995533368909,0.003503995533368909,0.003503995533368909,0.003503995533368909,0.003503995533368909,0.003503995533368909,0.003503995533368909,0.003503995533368909,0.003371604430323262,0.003371604430323262,0.003371604430323262,0.003371604430323262,0.003371604430323262,0.003371604430323262,0.003371604430323262,0.003371604430323262,0.003371604430323262,0.003371604430323262,0.003371604430323262,0.003242032973449058,0.003242032973449058,0.003242032973449058,0.003242032973449058,0.003242032973449058,0.003242032973449058,0.003242032973449058,0.003242032973449058,0.003242032973449058,0.003242032973449058,0.0031153437859308846,0.002753075189005994]}},\"id\":\"02da9f35-eb0a-4693-8c70-e6cf9b956d83\",\"type\":\"ColumnDataSource\"},{\"attributes\":{\"line_alpha\":{\"value\":0.1},\"line_color\":{\"value\":\"#1f77b4\"},\"line_width\":{\"value\":6},\"x\":{\"field\":\"x\"},\"y\":{\"field\":\"y\"}},\"id\":\"449f5bb1-8f05-46dc-a47d-01840d8c3d38\",\"type\":\"Line\"},{\"attributes\":{\"plot\":null,\"text\":\"\"},\"id\":\"0dfbe8da-498a-4290-89f4-bc20a8db4541\",\"type\":\"Title\"},{\"attributes\":{\"bottom\":{\"value\":0},\"fill_alpha\":{\"value\":0.3},\"fill_color\":{\"value\":\"navy\"},\"left\":{\"field\":\"left\"},\"line_color\":{\"value\":\"#033649\"},\"right\":{\"field\":\"right\"},\"top\":{\"field\":\"top\"}},\"id\":\"7ad727bd-3e61-4903-9848-586d73c040f7\",\"type\":\"Quad\"},{\"attributes\":{},\"id\":\"f5041197-7f6b-4b50-bbc3-a1a2db409455\",\"type\":\"BasicTicker\"},{\"attributes\":{\"data_source\":{\"id\":\"9b07c2a5-8522-48fc-96ea-39d1f90a0275\",\"type\":\"ColumnDataSource\"},\"glyph\":{\"id\":\"2990426a-fd6c-4047-9820-981ec2a4271c\",\"type\":\"Quad\"},\"hover_glyph\":null,\"nonselection_glyph\":{\"id\":\"87fffec8-5591-4bf8-acc6-431d3bc73294\",\"type\":\"Quad\"},\"selection_glyph\":null},\"id\":\"5d59fc99-7081-4042-bbd7-b620f239b5f2\",\"type\":\"GlyphRenderer\"},{\"attributes\":{\"plot\":{\"id\":\"bbd0fde0-bc12-4bf7-92a2-f7eee0ba739c\",\"subtype\":\"Figure\",\"type\":\"Plot\"}},\"id\":\"ad4b6baf-ab24-4752-bdc4-e7bb2ef3ef12\",\"type\":\"SaveTool\"}],\"root_ids\":[\"bbd0fde0-bc12-4bf7-92a2-f7eee0ba739c\"]},\"title\":\"Bokeh Application\",\"version\":\"0.12.0\"}};\n",
       "            var render_items = [{\"docid\":\"d581edca-8dcd-4696-9494-0687cfb24b03\",\"elementid\":\"81847345-94e1-40c9-8b9d-6bb6696bd697\",\"modelid\":\"bbd0fde0-bc12-4bf7-92a2-f7eee0ba739c\",\"notebook_comms_target\":\"2b911628-7a4f-4fb5-9b5c-dbde3a356022\"}];\n",
       "            \n",
       "            Bokeh.embed.embed_items(docs_json, render_items);\n",
       "        });\n",
       "      },\n",
       "      function(Bokeh) {\n",
       "      }\n",
       "    ];\n",
       "  \n",
       "    function run_inline_js() {\n",
       "      for (var i = 0; i < inline_js.length; i++) {\n",
       "        inline_js[i](window.Bokeh);\n",
       "      }\n",
       "    }\n",
       "  \n",
       "    if (window._bokeh_is_loading === 0) {\n",
       "      console.log(\"Bokeh: BokehJS loaded, going straight to plotting\");\n",
       "      run_inline_js();\n",
       "    } else {\n",
       "      load_libs(js_urls, function() {\n",
       "        console.log(\"Bokeh: BokehJS plotting callback run at\", now());\n",
       "        run_inline_js();\n",
       "      });\n",
       "    }\n",
       "  }(this));\n",
       "</script>"
      ]
     },
     "metadata": {},
     "output_type": "display_data"
    },
    {
     "data": {
      "text/html": [
       "<p><code>&lt;Bokeh Notebook handle for <strong>In[26]</strong>&gt;</code></p>"
      ],
      "text/plain": [
       "<bokeh.io._CommsHandle at 0x1125025f8>"
      ]
     },
     "execution_count": 26,
     "metadata": {},
     "output_type": "execute_result"
    }
   ],
   "source": [
    "tweet_lens_bro = [len(tweet) for tweet in brotweets]\n",
    "hist_bro, edges_bro = np.histogram(tweet_lens_bro, density=True, bins=20)\n",
    "tweet_lens_bro.sort()\n",
    "\n",
    "tweet_lens_sis = [len(tweet) for tweet in sistweets]\n",
    "hist_sis, edges_sis = np.histogram(tweet_lens_sis, density=True, bins=20)\n",
    "tweet_lens_sis.sort()\n",
    "\n",
    "p = figure(title=\"\")\n",
    "p.quad(top=hist_bro, bottom=0, left=edges_bro[:-1], right=edges_bro[1:],\n",
    "        fill_color=\"navy\", line_color=\"#033649\", fill_alpha=0.3)\n",
    "p.quad(top=hist_sis, bottom=0, left=edges_sis[:-1], right=edges_sis[1:],\n",
    "        fill_color=\"red\", line_color=\"#033649\", fill_alpha=0.3)\n",
    "\n",
    "sigma =  np.std(tweet_lens_bro)\n",
    "mu = np.mean(tweet_lens_bro)\n",
    "pdf = stats.norm.pdf(tweet_lens_bro, mu, sigma)\n",
    "p.line(tweet_lens_bro, pdf, line_color=\"navy\", line_width=6, alpha=0.7, legend=\"PDF\")\n",
    "\n",
    "sigma =  np.std(tweet_lens_sis)\n",
    "mu = np.mean(tweet_lens_sis)\n",
    "pdf = stats.norm.pdf(tweet_lens_sis, mu, sigma)\n",
    "p.line(tweet_lens_sis, pdf, line_color=\"red\", line_width=6, alpha=0.7, legend=\"PDF\")\n",
    "\n",
    "p.xaxis.axis_label = 'len(tweets)'\n",
    "p.yaxis.axis_label = '# tweets'\n",
    "show(p)\n"
   ]
  },
  {
   "cell_type": "markdown",
   "metadata": {},
   "source": [
    "## 0.4 Split your data in train and test \n",
    "*(and probably share it too)*"
   ]
  },
  {
   "cell_type": "code",
   "execution_count": 28,
   "metadata": {
    "collapsed": false
   },
   "outputs": [
    {
     "name": "stdout",
     "output_type": "stream",
     "text": [
      "Examples in train: 1200\n",
      "Examples in test: 800\n"
     ]
    }
   ],
   "source": [
    "from sklearn import cross_validation\n",
    "X = pd_dataset['text'].tolist()\n",
    "y = pd_dataset['class'].tolist()\n",
    "\n",
    "X_train, X_test, y_train, y_test = cross_validation.train_test_split(X, y, test_size=0.4, random_state=0)\n",
    "print(\"Examples in train: {}\".format(len(X_train)))\n",
    "print(\"Examples in test: {}\".format(len(X_test)))"
   ]
  },
  {
   "cell_type": "markdown",
   "metadata": {
    "collapsed": true
   },
   "source": [
    "#  1. In the beginning we had a bag of words *(or maybe the set)* "
   ]
  },
  {
   "cell_type": "markdown",
   "metadata": {},
   "source": [
    "## 1.1. What is a bag of words\n",
    "\n",
    "- Simplest way to represent text.\n",
    "- Create a vector with the size of the vocabulary seen in train.\n",
    "- Each sentence is represented counting the number of times each word appears.\n",
    "\n",
    "```python\n",
    "dataset = [\"I love Python\", \"I love NLP\", \"Pyladies are cool\"]\n",
    "vocabulary = set([\"I\", \"love\", \"Python\", \"NLP\", \"Pyladies\", \"are\", \"cool\"])\n",
    "dataset_representation =  [[1,1,1,0,0,0,0], \n",
    "                           [1,1,0,1,0,0,0],\n",
    "                           [0,0,0,0,1,1,1]] \n",
    "```\n",
    "\n",
    "Ok, that looks cool. This look solved. Let's party! "
   ]
  },
  {
   "cell_type": "code",
   "execution_count": 29,
   "metadata": {
    "collapsed": false
   },
   "outputs": [
    {
     "name": "stdout",
     "output_type": "stream",
     "text": [
      "Train: {0|1}^(1200x4060)\n",
      "Test:  {0|1}^(800x4060)\n",
      "\n",
      "VOCABULARY EXTRACT: broke, broken, brother, brownlee, browser, bruce, brunch, brutal, btw, bu, buddy, buffer, bug, bugfixes, buggy, bugs, build, building, built, bullies, bump, bunch, burnt, bursting, busy, but, butler, button, buy, buys, buzz, by, byegium, ca, cabin, cable, cableporn, caesar, caged, call, called, calling, calls, came, camp, campaign, camping, can, canada, candidate, cannot, capita, capitalism, capitalists, capn, captain, captains, capture, car, card, cardinality, cards, career, careful, caribbean, caring, carpentry, cars, cartoon, case, cash, cat, catch, categorical, catered, cats, catty, caught, causal, cause, caused, cc, celebrate, celebrating, cena, centenial, center, centrality, centre, century, cernan, certainly, ceval, cfd, cffi, cfp, chair, chalk, challenge, challenges\n",
      "\n",
      "TWEET REPRESENTATION: [0 0 0 0 0 0 0 0 0 0 0 0 0 0 0 0 0 0 0 0 0 0 0 0 0 0 0 0 0 0 0 0 0 0 0 0 0\n",
      " 0 0 0 0 0 0 0 0 0 0 0 0 0 0 0 0 0 0 0 0 0 0 0 0 0 0 0 0 0 0 0 0 0 0 0 0 0\n",
      " 0 0 0 0 0 0 0 0 0 0 0 0 0 0 0 0 0 0 0 0 0 0 0 0 0 0 0 0 0 0 0 0 0 0 0 0 0\n",
      " 0 0 0 0 0 0 0 0 0 0 0 0 1 0 0 0 0 0 0 0 0 0 0 0 0 0 0 0 0 0 0 0 0 0 0 0 0\n",
      " 0 0 0 0 0 0 0 0 0 0 0 0 0 0 0 0 0 0 0 0 0 0 0 0 0 0 0 0 0 0 0 0 0 0 0 0 0\n",
      " 0 0 0 0 0 0 0 0 0 0 0 0 0 0 0 0 0 0 0 0 0 0 0 0 0 0 0 0 0 0 0 0 0 0 0 0 0\n",
      " 0 0 0 0 0 0 1 0 0 0 0 0 0 0 0 0 0 0 0 0 0 0 0 0 0 0 0 0 0 0 0 0 0 0 0 0 0\n",
      " 0 0 0 0 0 0 0 0 0 0 0 0 0 0 0 0 0 0 0 0 0 0 0 0 0 0 0 0 0 0 0 0 0 0 0 0 0\n",
      " 0 0 0 0 0 0 0 0 0 0 0 0 0 0 0 0 0 0 0 0 0 0 0 0 0 0 0 0 0 0 0 0 0 0 0 0 0\n",
      " 0 0 0 0 0 0 0 0 0 0 0 0 0 0 0 0 0 0 0 0 0 0 0 0 0 0 0 0 0 0 0 0 0 0 0 0 0\n",
      " 0 0 0 0 0 0 0 0 0 0 0 0 0 0 0 0 0 0 0 0 0 0 0 0 0 0 0 0 0 0 0 0 0 0 0 0 0\n",
      " 0 0 0 0 0 0 0 0 0 0 0 0 0 0 0 0 0 0 0 0 0 0 0 0 0 0 0 0 0 0 0 0 0 0 0 0 0\n",
      " 0 0 0 0 0 0 0 0 0 0 0 0 0 0 0 0 0 0 0 0 0 0 0 0 0 0 0 0 0 0 0 0 0 0 0 0 0\n",
      " 0 0 0 0 0 1 0 0 0 0 0 0 0 0 0 0 0 0 0 0 0 0 0 0 0 1 0 0 0 0 0 0 0 0 0 0 0\n",
      " 0 0 0 0 0 0 0 0 0 0 0 0 0 0 0 0 0 0 0 0 0 0 0 0 0 0 0 0 0 0 0 0 0 0 0 0 0\n",
      " 0 0 0 0 0 0 0 0 0 0 0 0 0 0 0 0 0 0 0 0 0 0 0 0 0 0 0 0 0 0 0 0 0 0 0 0 0\n",
      " 0 0 0 0 0 0 0 0 0 0 0 0 0 0 0 0 0 0 0 0 0 0 0 0 0 0 0 0 0 0 0 0 0 0 0 0 0\n",
      " 0 0 0 0 0 0 0 0 0 0 0 0 0 0 0 0 0 0 0 0 0 0 0 0 0 0 0 0 0 0 0 0 0 0 0 0 0\n",
      " 0 0 0 0 0 0 0 0 0 0 0 0 0 0 0 0 0 0 0 0 0 0 0 0 0 0 0 0 0 0 0 0 0 0 0 0 0\n",
      " 0 0 0 0 0 0 0 0 0 0 0 0 0 0 0 0 0 0 0 0 0 0 0 0 0 0 0 0 0 0 0 0 0 0 0 0 0\n",
      " 0 0 0 0 0 0 0 0 0 0 0 0 0 0 0 0 0 0 0 0 0 0 0 0 0 0 0 0 0 0 0 0 0 0 0 0 0\n",
      " 0 0 0 0 0 0 0 0 0 0 0 0 0 0 0 0 0 0 0 0 0 0 0 0 0 0 0 0 0 0 0 0 0 0 0 0 0\n",
      " 0 0 0 0 0 0 0 0 0 0 0 0 0 0 0 0 0 0 0 0 0 0 0 0 0 0 0 0 0 0 0 0 0 0 0 0 0\n",
      " 0 0 0 0 0 0 0 0 0 0 0 0 0 0 0 0 0 0 0 0 0 0 0 0 0 0 0 0 0 0 0 0 0 0 0 0 0\n",
      " 0 0 0 0 0 0 0 1 0 0 0 0 0 0 0 0 0 0 0 0 0 0 0 0 0 0 0 0 0 0 0 0 0 0 0 0 0\n",
      " 0 0 0 0 0 0 0 0 0 0 0 0 0 0 0 0 0 0 0 0 0 0 0 0 0 0 0 0 0 0 0 0 0 0 0 0 0\n",
      " 0 0 0 0 0 0 0 0 0 0 0 0 0 0 0 0 0 0 0 0 0 0 0 0 0 0 0 0 0 0 0 0 0 0 0 0 0\n",
      " 0 0 0 0 0 0 0 0 0 0 0 0 0 0 0 0 0 0 0 0 0 0 0 0 0 0 0 0 0 0 0 0 0 0 0 0 0\n",
      " 0 0 0 0 0 0 0 0 0 0 0 0 0 0 0 0 0 0 0 0 0 0 0 0 0 0 0 0 0 0 0 0 0 0 0 0 0\n",
      " 0 0 0 0 0 0 0 0 0 0 0 0 0 0 0 0 0 0 0 0 0 0 0 0 0 0 0 0 0 0 0 0 0 0 0 0 0\n",
      " 0 0 0 0 0 0 0 0 0 0 0 0 0 0 0 0 0 0 0 0 0 0 0 0 0 0 0 0 0 0 0 0 0 0 0 0 0\n",
      " 0 0 0 0 0 0 0 0 0 0 0 0 0 0 0 0 0 0 0 0 0 0 0 0 0 0 0 0 0 0 0 0 0 0 0 0 0\n",
      " 0 0 0 0 0 0 0 0 0 0 0 0 0 0 0 0 0 0 0 0 0 0 0 0 0 0 0 0 0 0 0 0 0 0 0 0 0\n",
      " 0 0 0 0 0 0 0 0 0 0 0 0 0 0 0 0 0 0 0 0 0 0 0 0 0 0 0 0 0 0 0 0 0 0 0 0 0\n",
      " 0 0 0 0 0 0 0 0 0 0 0 0 0 0 0 0 0 0 0 0 0 0 0 0 0 0 0 0 0 0 0 0 0 0 0 0 0\n",
      " 0 0 0 0 0 0 0 0 0 0 0 0 0 0 0 0 0 0 0 0 0 0 0 0 0 0 0 0 0 0 0 0 0 0 0 0 0\n",
      " 0 0 0 0 0 0 0 0 0 0 0 0 0 0 0 0 0 0 0 0 0 0 0 0 0 0 0 0 0 0 0 0 0 0 0 0 0\n",
      " 0 0 0 0 0 0 0 0 0 0 0 0 0 0 0 0 0 0 0 0 0 0 0 0 0 0 0 0 0 0 0 0 0 0 0 0 0\n",
      " 0 0 0 0 0 0 0 0 0 0 0 0 0 0 0 0 0 0 0 0 0 0 0 0 0 0 0 0 0 0 0 0 0 0 0 0 0\n",
      " 0 0 0 0 0 0 0 0 0 0 0 0 0 0 0 0 0 0 0 0 0 0 0 0 0 0 0 0 0 0 0 0 0 0 0 0 0\n",
      " 0 0 0 0 0 0 0 0 0 0 0 0 0 0 0 0 0 0 0 0 0 0 0 0 0 0 0 0 0 0 0 0 0 0 0 0 0\n",
      " 0 0 0 0 0 0 0 0 0 0 0 0 0 0 0 0 0 0 0 0 0 0 0 0 0 0 0 0 0 0 0 0 0 0 0 0 0\n",
      " 0 0 0 0 0 0 0 0 0 0 0 0 0 0 0 0 0 0 0 0 0 0 0 0 0 0 0 0 0 0 0 0 0 0 0 0 0\n",
      " 0 0 0 0 0 0 0 0 0 0 0 0 0 0 0 0 0 0 0 0 0 0 0 0 0 0 0 0 0 0 0 0 0 0 0 0 0\n",
      " 0 0 0 0 0 0 0 0 0 0 0 0 0 0 0 0 0 0 0 0 0 0 0 0 0 0 0 0 0 0 0 0 0 0 0 0 0\n",
      " 0 0 0 0 0 0 0 0 0 0 0 0 0 0 0 0 0 0 0 0 0 0 0 0 0 0 0 0 0 0 0 0 0 0 0 0 0\n",
      " 0 0 0 0 0 0 0 0 0 0 0 0 0 0 0 0 0 0 0 0 0 0 0 0 0 0 0 0 0 0 0 0 0 0 0 0 0\n",
      " 0 0 0 0 0 0 0 0 0 0 0 0 0 0 0 0 0 0 0 0 0 0 0 0 0 0 0 0 0 0 0 0 0 0 0 0 0\n",
      " 0 0 0 0 0 0 0 0 0 0 0 0 0 0 0 0 0 0 0 0 0 0 0 0 0 0 0 0 0 0 0 0 0 0 0 0 0\n",
      " 0 0 0 0 0 0 0 0 0 0 0 0 0 0 0 0 0 0 0 0 0 0 0 0 0 0 0 0 0 0 0 0 0 0 0 0 0\n",
      " 0 0 0 0 0 0 0 0 0 0 0 0 0 0 1 0 0 0 0 0 0 0 0 0 0 0 0 0 0 0 0 0 0 0 0 0 0\n",
      " 0 0 0 0 0 0 0 0 0 0 0 0 0 0 0 0 0 0 0 0 0 0 0 0 0 0 0 0 0 0 0 0 0 0 0 0 0\n",
      " 0 0 0 0 0 0 0 0 0 0 0 0 0 0 0 0 0 0 0 0 0 0 0 0 0 0 0 0 0 0 0 0 0 0 0 0 0\n",
      " 0 0 0 0 0 0 0 0 0 0 0 0 0 0 0 0 0 0 0 0 0 0 0 0 0 0 0 0 0 0 0 0 0 0 0 0 0\n",
      " 0 0 0 0 0 0 0 0 0 0 0 0 0 0 0 0 0 0 0 0 0 0 0 0 0 0 0 0 0 0 0 0 0 0 0 0 0\n",
      " 0 0 0 0 0 0 0 0 0 0 0 0 0 0 0 0 0 0 0 0 0 0 0 0 0 0 0 0 0 0 0 0 0 0 0 0 0\n",
      " 0 0 0 0 0 0 0 0 0 0 0 0 0 0 0 0 0 0 0 0 0 0 0 0 0 0 0 0 0 0 0 0 0 0 0 0 0\n",
      " 0 0 0 0 0 0 0 0 0 0 0 0 0 0 0 0 0 0 0 0 0 0 0 0 0 0 0 0 0 0 0 0 0 0 0 0 0\n",
      " 0 0 1 0 0 0 0 0 0 0 0 0 0 0 0 0 0 0 0 0 0 0 0 0 0 0 0 0 0 0 0 0 0 0 0 0 0\n",
      " 0 0 0 0 0 0 0 0 0 0 0 0 0 0 0 0 0 0 0 0 0 0 0 0 0 0 0 0 0 0 0 0 0 0 0 0 0\n",
      " 0 0 0 0 0 0 0 0 0 0 0 0 0 0 0 0 0 0 0 0 0 0 0 0 0 0 0 0 0 0 0 0 0 0 0 0 0\n",
      " 0 0 0 0 0 0 0 0 0 0 0 0 0 0 0 0 0 0 0 0 0 0 0 0 0 0 0 0 0 0 0 0 0 0 0 0 0\n",
      " 0 0 0 0 0 0 0 0 0 0 0 0 0 0 0 0 0 0 0 0 0 0 0 0 0 0 0 0 0 0 0 0 0 0 0 0 0\n",
      " 0 0 0 0 0 0 0 0 0 0 0 0 0 0 0 0 0 0 0 0 0 0 0 0 0 0 0 0 0 0 0 0 0 0 0 0 0\n",
      " 0 0 0 0 0 0 0 0 0 0 0 0 0 0 0 0 0 0 0 0 0 0 0 0 0 0 0 0 0 0 0 0 0 0 0 0 0\n",
      " 0 0 0 0 0 0 0 0 0 0 0 0 0 0 0 0 0 0 0 0 0 0 0 0 0 0 0 0 0 0 0 0 0 0 0 0 0\n",
      " 0 0 0 0 0 0 0 0 0 0 0 0 0 0 0 0 0 0 0 0 0 0 0 0 0 0 0 0 0 0 0 0 0 0 0 0 0\n",
      " 0 0 0 0 0 0 0 0 0 0 0 0 0 0 0 0 0 0 0 0 0 0 0 0 0 0 0 0 0 0 0 0 0 0 0 0 0\n",
      " 0 0 0 0 0 0 0 0 0 0 0 0 0 0 0 0 0 0 0 0 0 0 0 0 0 0 0 0 0 0 0 0 0 0 0 0 0\n",
      " 0 0 0 0 0 0 0 0 0 0 0 0 0 0 0 0 0 0 0 0 0 0 0 0 0 0 0 0 0 0 0 0 0 0 0 0 0\n",
      " 0 0 0 0 0 0 0 0 0 0 0 0 0 0 0 0 0 0 0 0 0 0 0 0 0 0 0 0 0 0 0 0 0 0 0 0 0\n",
      " 0 0 0 0 0 0 0 0 0 0 0 0 0 0 0 0 0 0 0 0 0 0 0 0 0 0 0 0 0 0 0 0 0 0 0 0 0\n",
      " 0 0 0 0 0 0 0 0 0 0 0 0 0 0 0 0 0 0 0 0 0 0 0 0 0 0 0 0 0 0 0 0 0 0 0 0 0\n",
      " 0 0 0 0 0 0 0 0 0 0 0 0 0 0 0 0 0 0 0 0 0 0 0 0 0 0 0 0 0 0 0 0 0 0 0 0 0\n",
      " 0 0 0 0 0 0 0 0 0 0 0 0 0 0 0 0 0 0 0 0 0 0 0 0 0 0 0 0 0 0 0 0 0 0 0 0 0\n",
      " 0 0 0 0 0 0 0 0 0 0 0 0 0 0 0 0 0 0 0 0 0 0 0 0 0 0 0 0 0 0 0 0 0 0 0 0 0\n",
      " 0 0 0 0 0 0 0 0 0 0 0 0 0 0 0 0 0 0 0 0 0 0 0 0 0 0 0 0 0 0 0 0 0 0 0 0 0\n",
      " 0 0 0 0 0 0 0 0 0 0 0 0 0 0 0 0 0 0 0 0 0 0 0 0 0 0 0 0 0 0 0 0 0 0 0 0 0\n",
      " 0 0 0 0 0 0 0 0 0 0 0 0 0 0 0 0 0 0 0 0 0 0 0 0 0 0 0 0 0 0 0 0 0 0 0 0 0\n",
      " 0 0 0 0 0 0 0 0 0 0 0 0 0 0 0 0 0 0 0 0 0 0 0 0 0 0 0 0 0 0 0 0 0 0 0 0 0\n",
      " 0 0 0 0 0 0 0 0 0 0 0 0 0 0 0 0 0 0 0 0 0 0 0 0 0 0 0 0 0 0 0 0 0 0 0 0 0\n",
      " 0 0 0 0 0 0 0 0 0 0 0 0 0 0 0 0 0 0 0 0 0 0 0 0 0 0 0 0 0 0 0 0 0 0 0 0 0\n",
      " 0 0 0 0 0 0 0 0 0 0 0 0 0 0 0 0 0 0 0 0 0 0 0 0 0 0 0 0 0 0 0 0 0 0 0 0 0\n",
      " 0 0 0 0 0 0 0 0 0 0 0 0 0 0 0 0 0 0 0 0 0 0 0 0 0 0 0 0 0 0 0 0 0 0 0 0 0\n",
      " 0 0 0 0 0 0 0 0 0 0 0 0 0 0 0 0 0 0 0 0 0 0 0 0 0 0 0 0 0 0 0 0 0 0 0 0 0\n",
      " 0 0 0 0 0 0 0 0 0 0 0 0 0 0 0 0 0 0 0 0 0 0 0 0 0 0 0 0 0 0 0 0 0 0 0 0 0\n",
      " 0 0 0 0 0 0 0 0 0 0 0 0 0 0 0 0 0 0 0 0 0 0 0 0 0 0 0 0 0 0 0 0 0 0 0 0 0\n",
      " 0 0 0 0 0 0 0 0 0 0 0 0 0 0 0 0 0 0 0 0 0 0 0 0 0 0 0 0 0 0 0 0 0 0 0 0 0\n",
      " 0 0 0 0 0 0 0 0 0 0 0 0 0 0 0 0 0 0 0 0 0 0 0 0 0 0 0 0 0 0 0 0 0 0 0 0 0\n",
      " 0 0 0 0 0 0 0 0 0 0 0 0 0 0 0 0 0 0 0 0 0 0 0 0 0 0 0 0 0 0 0 0 0 0 0 0 0\n",
      " 0 0 0 0 0 0 0 0 0 0 0 0 0 0 0 0 0 0 0 0 0 0 0 0 0 0 0 0 0 0 0 0 0 0 0 0 0\n",
      " 0 0 0 0 0 0 0 0 0 0 0 0 0 0 0 0 0 0 0 0 0 0 0 0 0 0 0 0 0 0 0 0 0 0 0 0 0\n",
      " 0 0 0 0 0 0 0 0 0 0 0 0 0 0 0 0 0 0 0 0 0 0 0 0 0 0 0 0 0 0 0 0 0 0 0 0 0\n",
      " 0 0 0 0 0 0 0 0 0 0 0 0 0 0 0 0 0 0 0 0 0 0 0 0 0 0 0 0 0 0 0 0 0 0 0 0 0\n",
      " 0 0 0 0 0 0 0 0 0 0 0 0 0 0 0 0 0 0 0 0 0 0 0 0 0 0 0 0 0 0 0 0 0 0 0 0 0\n",
      " 0 0 0 0 0 0 0 0 0 0 0 0 0 0 0 0 0 0 0 0 0 0 0 0 0 0 0 0 0 0 0 0 0 0 0 0 0\n",
      " 0 0 0 0 0 0 0 0 0 0 0 0 0 0 0 0 0 0 0 0 0 0 0 0 0 0 0 0 0 0 0 0 0 0 0 0 0\n",
      " 0 0 0 0 0 0 0 0 0 0 0 0 0 0 0 0 0 0 0 0 0 0 0 0 0 0 0 0 0 0 0 0 0 0 0 0 0\n",
      " 0 0 0 0 0 0 0 0 0 0 0 0 0 0 0 0 0 0 0 1 0 0 0 0 0 0 0 0 0 0 0 0 0 0 0 0 0\n",
      " 0 0 0 0 0 0 0 0 0 0 0 0 0 0 0 0 0 0 0 0 0 0 0 0 0 0 0 0 0 0 0 0 0 0 0 0 0\n",
      " 0 0 0 0 0 0 0 0 0 0 0 0 0 0 0 0 0 0 0 0 0 0 0 0 0 0 0 0 0 0 0 0 0 0 0 1 0\n",
      " 0 0 0 0 0 0 0 0 0 0 0 0 0 0 0 0 0 0 0 0 0 0 0 0 0 0 0 0 0 0 0 0 0 0 0 0 0\n",
      " 0 0 0 0 0 0 0 0 0 0 0 0 0 0 0 0 0 0 0 0 0 2 0 0 0 0 0 0 0 0 0 0 0 0 0 0 0\n",
      " 0 0 0 0 0 0 0 0 0 0 0 0 0 0 0 0 0 0 0 0 0 0 0 0 0 0 0 0 0 0 0 0 0 0 0 0 0\n",
      " 0 0 0 0 0 0 0 0 0 0 0 0 0 0 0 0 0 0 0 0 0 0 0 0 0 0 0 0 0 0 0 0 0 0 0 0 0\n",
      " 0 0 0 0 0 0 0 0 0 0 0 0 0 0 0 0 0 0 0 0 0 0 0 0 0 0 0 0 0 0 0 0 0 0 0 0 0\n",
      " 0 0 0 0 0 0 0 0 0 0 1 0 0 0 0 0 0 0 0 0 0 0 0 0 0 0 0 0 0 0 0 0 0 0 0 0 0\n",
      " 0 0 0 0 0 0 0 0 0 0 0 0 0 0 0 0 0 0 0 0 0 0 0 0 0 0 0 0 0 0 0 0 0 0 0 0 0\n",
      " 0 0 0 0 0 0 0 0 0 0 0 0 0 0 0 0 0 0 0 0 0 0 0 0 0 0 0 0 0 0 0 0 0 0 0 0 0\n",
      " 0 0 0 0 0 0 0 0 0 0 0 0 0 0 0 0 0 0 0 0 0 0 0 0 0 0 0]\n"
     ]
    }
   ],
   "source": [
    "from sklearn.feature_extraction.text import CountVectorizer\n",
    "\n",
    "vectorizer = CountVectorizer(analyzer = \"word\", \n",
    "                             tokenizer = None,\n",
    "                             preprocessor = None,\n",
    "                             stop_words = None,\n",
    "                             ngram_range=(1, 1),\n",
    "                             max_features = 5000) \n",
    "\n",
    "# Fit the train\n",
    "BOW_train = vectorizer.fit_transform(X_train)\n",
    "BOW_train = BOW_train.toarray()\n",
    "\n",
    "# Transform the test\n",
    "BOW_test = vectorizer.transform(X_test)\n",
    "BOW_test = BOW_test.toarray()\n",
    "\n",
    "\n",
    "print('Train: {{0|1}}^({}x{})'.format(BOW_train.shape[0], BOW_train.shape[1]))\n",
    "print('Test:  {{0|1}}^({}x{})'.format(BOW_test.shape[0], BOW_test.shape[1]))\n",
    "vocab = vectorizer.get_feature_names()\n",
    "print('\\nVOCABULARY EXTRACT: {}'.format(', '.join(vocab[500:600])))\n",
    "np.set_printoptions(threshold=np.nan)\n",
    "print('\\nTWEET REPRESENTATION: {}'.format(BOW_train[0]))"
   ]
  },
  {
   "cell_type": "markdown",
   "metadata": {},
   "source": [
    "## 1.2. So, what's the problem, then?\n",
    "\n",
    "\n",
    "- Unseen words.\n",
    "- One-hot Representation: Represents every word as an $\\mathbb{R}^{|V|×1}$\n",
    "```python\n",
    "hotel = [0, 0, 0, 0, 0, 0, 0, 0, 1, 0, 0, 0, 0, 0]\n",
    "motel = [0, 0, 0, 0, 1, 0, 0, 0, 0, 0, 0, 0, 0, 0]\n",
    "w hotel AN D w motel = 0\n",
    "```\n",
    "$w^{hotel} AND w^{motel} = 0\n",
    "&nbsp;\n",
    "\n",
    "\n",
    "- *The curse of dimensionality!!!*\n",
    "  - Generalizing locally (eg. nearest neighbors) requires representative examples for all relevant variations\n",
    "  - The number of possible configurations of the variables of interest is much larger than the number of training samples.\n",
    "\n",
    "\n",
    "&nbsp;\n",
    "![Curse!](imgs/curse.jpg \"The curse of the dimensionality\")\n"
   ]
  },
  {
   "cell_type": "markdown",
   "metadata": {},
   "source": [
    "#  2. Word embeddings"
   ]
  },
  {
   "cell_type": "markdown",
   "metadata": {},
   "source": [
    "> You shall know a word by the company it keeps.\n",
    ">\n",
    "> -- <cite>J.R. Firth 1957:11</cite>"
   ]
  },
  {
   "cell_type": "markdown",
   "metadata": {},
   "source": [
    "## 2.1. Pretrained data using GloVe"
   ]
  },
  {
   "cell_type": "code",
   "execution_count": 30,
   "metadata": {
    "collapsed": false
   },
   "outputs": [],
   "source": [
    "import numpy as np\n",
    "\n",
    "def load_glove_dict(glove_file):\n",
    "    glove_embeddings = {}\n",
    "    with open(glove_file) as glove_file:\n",
    "        for line in glove_file:\n",
    "            split_line = line.split() \n",
    "            word, vector = split_line[0], np.asarray(split_line[1:])\n",
    "            glove_embeddings[word] =  vector\n",
    "    return glove_embeddings"
   ]
  },
  {
   "cell_type": "code",
   "execution_count": 17,
   "metadata": {
    "collapsed": false
   },
   "outputs": [],
   "source": [
    "GLOVE_PATH = '/home/mgimenez/Dev/resources/GloVe/twitter_dataset'\n",
    "\n",
    "embedding_size = '25'\n",
    "glove_file = join(GLOVE_PATH, 'glove.twitter.27B.' + embedding_size + 'd.txt')\n",
    "glove_25 = load_glove_dict(glove_file)"
   ]
  },
  {
   "cell_type": "code",
   "execution_count": 18,
   "metadata": {
    "collapsed": true
   },
   "outputs": [],
   "source": [
    "embedding_size = '100'\n",
    "glove_file = join(GLOVE_PATH, 'glove.twitter.27B.' + embedding_size + 'd.txt')\n",
    "glove_100 = load_glove_dict(glove_file)"
   ]
  },
  {
   "cell_type": "code",
   "execution_count": 19,
   "metadata": {
    "collapsed": false
   },
   "outputs": [],
   "source": [
    "embedding_size = '200'\n",
    "glove_file = join(GLOVE_PATH, 'glove.twitter.27B.' + embedding_size + 'd.txt')\n",
    "glove_200 = load_glove_dict(glove_file)"
   ]
  },
  {
   "cell_type": "code",
   "execution_count": 58,
   "metadata": {
    "collapsed": true
   },
   "outputs": [],
   "source": [
    "def get_most_common_vocab(most_common, brocabulary, siscabulary):\n",
    "    mc_brocavulary = brocabulary.most_common(int(most_common/2))\n",
    "    mc_siscavulary = siscabulary.most_common(int(most_common/2))\n",
    "\n",
    "    most_common_words = mc_brocavulary + mc_siscavulary\n",
    "    return set(word for word, _ in most_common_words)"
   ]
  },
  {
   "cell_type": "code",
   "execution_count": 60,
   "metadata": {
    "collapsed": false
   },
   "outputs": [],
   "source": [
    "def get_words_to_plot(most_common, dictionary):\n",
    "    words_to_plot = {}\n",
    "    unseen_words = []\n",
    "    for word in get_most_common_vocab(most_common, brocabulary, siscabulary):\n",
    "        if word in dictionary:\n",
    "            words_to_plot[word] = dictionary[word]\n",
    "        else:\n",
    "            unseen_words.append(word)\n",
    "    return words_to_plot, unseen_words"
   ]
  },
  {
   "cell_type": "code",
   "execution_count": 28,
   "metadata": {
    "collapsed": false
   },
   "outputs": [],
   "source": [
    "from sklearn.manifold import TSNE\n",
    "import matplotlib.pyplot as plt\n",
    "\n",
    "tsne = TSNE(perplexity=30, n_components=2, init='pca', n_iter=5000)\n",
    "words_to_plot, unseen_words = get_words_to_plot(1000, glove_25)\n",
    "\n",
    "low_dim_embs = tsne.fit_transform(list(words_to_plot.values()))"
   ]
  },
  {
   "cell_type": "code",
   "execution_count": 36,
   "metadata": {
    "collapsed": false
   },
   "outputs": [
    {
     "name": "stdout",
     "output_type": "stream",
     "text": [
      "cython, euroscipy, ipython, numfocus, alifexv, neuroimaging, jupyter, automl, factorization, pydataparis, nilearn, matplotlib, preprint, uwsgi, joblib, numpy, scikit, decoders, icml, pydata, pydatabln, sparsity, tensorflow, print_statement, deeplearning, dadaist, __past__, ohbm, sklearn, scipy, brexit, datascience, reproducibility, sgdq, machinelearning, pypi, pydatalondon\n"
     ]
    }
   ],
   "source": [
    "print(', '.join(unseen_words))"
   ]
  },
  {
   "cell_type": "code",
   "execution_count": 29,
   "metadata": {
    "collapsed": false,
    "scrolled": false
   },
   "outputs": [
    {
     "data": {
      "text/html": [
       "\n",
       "\n",
       "    <div class=\"bk-root\">\n",
       "        <div class=\"plotdiv\" id=\"2bedc7fe-150b-419c-83f8-f6505358e1b1\"></div>\n",
       "    </div>\n",
       "<script type=\"text/javascript\">\n",
       "  \n",
       "  (function(global) {\n",
       "    function now() {\n",
       "      return new Date();\n",
       "    }\n",
       "  \n",
       "    if (typeof (window._bokeh_onload_callbacks) === \"undefined\") {\n",
       "      window._bokeh_onload_callbacks = [];\n",
       "    }\n",
       "  \n",
       "    function run_callbacks() {\n",
       "      window._bokeh_onload_callbacks.forEach(function(callback) { callback() });\n",
       "      delete window._bokeh_onload_callbacks\n",
       "      console.info(\"Bokeh: all callbacks have finished\");\n",
       "    }\n",
       "  \n",
       "    function load_libs(js_urls, callback) {\n",
       "      window._bokeh_onload_callbacks.push(callback);\n",
       "      if (window._bokeh_is_loading > 0) {\n",
       "        console.log(\"Bokeh: BokehJS is being loaded, scheduling callback at\", now());\n",
       "        return null;\n",
       "      }\n",
       "      if (js_urls == null || js_urls.length === 0) {\n",
       "        run_callbacks();\n",
       "        return null;\n",
       "      }\n",
       "      console.log(\"Bokeh: BokehJS not loaded, scheduling load and callback at\", now());\n",
       "      window._bokeh_is_loading = js_urls.length;\n",
       "      for (var i = 0; i < js_urls.length; i++) {\n",
       "        var url = js_urls[i];\n",
       "        var s = document.createElement('script');\n",
       "        s.src = url;\n",
       "        s.async = false;\n",
       "        s.onreadystatechange = s.onload = function() {\n",
       "          window._bokeh_is_loading--;\n",
       "          if (window._bokeh_is_loading === 0) {\n",
       "            console.log(\"Bokeh: all BokehJS libraries loaded\");\n",
       "            run_callbacks()\n",
       "          }\n",
       "        };\n",
       "        s.onerror = function() {\n",
       "          console.warn(\"failed to load library \" + url);\n",
       "        };\n",
       "        console.log(\"Bokeh: injecting script tag for BokehJS library: \", url);\n",
       "        document.getElementsByTagName(\"head\")[0].appendChild(s);\n",
       "      }\n",
       "    };var element = document.getElementById(\"2bedc7fe-150b-419c-83f8-f6505358e1b1\");\n",
       "    if (element == null) {\n",
       "      console.log(\"Bokeh: ERROR: autoload.js configured with elementid '2bedc7fe-150b-419c-83f8-f6505358e1b1' but no matching script tag was found. \")\n",
       "      return false;\n",
       "    }\n",
       "  \n",
       "    var js_urls = [];\n",
       "  \n",
       "    var inline_js = [\n",
       "      function(Bokeh) {\n",
       "        Bokeh.$(function() {\n",
       "            var docs_json = {\"28d28afd-93cb-4f48-b514-7b1952e87bb4\":{\"roots\":{\"references\":[{\"attributes\":{\"plot\":{\"id\":\"d51663bd-dd2e-45f2-a7a8-adbe182e7539\",\"subtype\":\"Figure\",\"type\":\"Plot\"}},\"id\":\"530859d2-162f-4002-87fa-3aa68c7f394a\",\"type\":\"ResetTool\"},{\"attributes\":{\"below\":[{\"id\":\"3531d357-3471-441e-a35c-cea747ea4718\",\"type\":\"LinearAxis\"}],\"left\":[{\"id\":\"03f6ac7f-427e-442f-81af-e3fbf4927ec2\",\"type\":\"LinearAxis\"}],\"renderers\":[{\"id\":\"3531d357-3471-441e-a35c-cea747ea4718\",\"type\":\"LinearAxis\"},{\"id\":\"26e76c89-3a17-43bc-af0a-468e491b0f58\",\"type\":\"Grid\"},{\"id\":\"03f6ac7f-427e-442f-81af-e3fbf4927ec2\",\"type\":\"LinearAxis\"},{\"id\":\"833f7c0d-3799-4580-9813-7bcd1365668f\",\"type\":\"Grid\"},{\"id\":\"369c5a32-4f21-48a6-850a-92e99c79c2cb\",\"type\":\"BoxAnnotation\"},{\"id\":\"63470b2d-7a26-4b77-8a1d-7402e58e7518\",\"type\":\"GlyphRenderer\"}],\"title\":{\"id\":\"40918339-57e3-4d59-b6f4-8d83e044ae6d\",\"type\":\"Title\"},\"tool_events\":{\"id\":\"18d41846-d58d-4e26-9a54-0eb19844cf9c\",\"type\":\"ToolEvents\"},\"toolbar\":{\"id\":\"8dd2081b-c8be-4523-9625-9b32bec58f7e\",\"type\":\"Toolbar\"},\"x_range\":{\"id\":\"027ed9c0-17fe-4f9e-be02-878368decb3c\",\"type\":\"DataRange1d\"},\"y_range\":{\"id\":\"eb2dbee7-2d7c-4671-842f-17683eb160a4\",\"type\":\"DataRange1d\"}},\"id\":\"d51663bd-dd2e-45f2-a7a8-adbe182e7539\",\"subtype\":\"Figure\",\"type\":\"Plot\"},{\"attributes\":{\"overlay\":{\"id\":\"369c5a32-4f21-48a6-850a-92e99c79c2cb\",\"type\":\"BoxAnnotation\"},\"plot\":{\"id\":\"d51663bd-dd2e-45f2-a7a8-adbe182e7539\",\"subtype\":\"Figure\",\"type\":\"Plot\"}},\"id\":\"b2a53b58-a7f9-43d8-9d33-45df0f8e56ce\",\"type\":\"BoxZoomTool\"},{\"attributes\":{\"plot\":{\"id\":\"d51663bd-dd2e-45f2-a7a8-adbe182e7539\",\"subtype\":\"Figure\",\"type\":\"Plot\"}},\"id\":\"460cf832-359e-498d-a67b-73a13469847e\",\"type\":\"PanTool\"},{\"attributes\":{\"plot\":{\"id\":\"d51663bd-dd2e-45f2-a7a8-adbe182e7539\",\"subtype\":\"Figure\",\"type\":\"Plot\"}},\"id\":\"bdcd2482-f462-42d3-b189-8f9606254daf\",\"type\":\"WheelZoomTool\"},{\"attributes\":{\"data_source\":{\"id\":\"51388bc1-d965-4e76-b5ae-85877ac0412d\",\"type\":\"ColumnDataSource\"},\"glyph\":{\"id\":\"5cc0cdcf-c78a-4e99-9907-6fa32c8ba4b2\",\"type\":\"Circle\"},\"hover_glyph\":null,\"nonselection_glyph\":{\"id\":\"0a3631e1-b61c-4c2d-94be-eb287cae0990\",\"type\":\"Circle\"},\"selection_glyph\":null},\"id\":\"63470b2d-7a26-4b77-8a1d-7402e58e7518\",\"type\":\"GlyphRenderer\"},{\"attributes\":{\"formatter\":{\"id\":\"24b641ba-9856-49dd-8989-af8585c8ad02\",\"type\":\"BasicTickFormatter\"},\"plot\":{\"id\":\"d51663bd-dd2e-45f2-a7a8-adbe182e7539\",\"subtype\":\"Figure\",\"type\":\"Plot\"},\"ticker\":{\"id\":\"2c2fbea0-bd03-41c9-9be0-f8fa6dd50496\",\"type\":\"BasicTicker\"}},\"id\":\"03f6ac7f-427e-442f-81af-e3fbf4927ec2\",\"type\":\"LinearAxis\"},{\"attributes\":{\"fill_alpha\":{\"value\":0.1},\"fill_color\":{\"value\":\"#1f77b4\"},\"line_alpha\":{\"value\":0.1},\"line_color\":{\"value\":\"#1f77b4\"},\"size\":{\"units\":\"screen\",\"value\":10},\"x\":{\"field\":\"x\"},\"y\":{\"field\":\"y\"}},\"id\":\"0a3631e1-b61c-4c2d-94be-eb287cae0990\",\"type\":\"Circle\"},{\"attributes\":{\"callback\":null,\"plot\":{\"id\":\"d51663bd-dd2e-45f2-a7a8-adbe182e7539\",\"subtype\":\"Figure\",\"type\":\"Plot\"},\"tooltips\":[[\"words\",\"@words\"]]},\"id\":\"e75ed2f2-b848-43f9-97c6-32a5a8107354\",\"type\":\"HoverTool\"},{\"attributes\":{\"plot\":null,\"text\":\"Word visualization\"},\"id\":\"40918339-57e3-4d59-b6f4-8d83e044ae6d\",\"type\":\"Title\"},{\"attributes\":{\"callback\":null,\"column_names\":[\"words\",\"x\",\"y\",\"range_words\"],\"data\":{\"range_words\":[1,2,3,4,5,6,7,8,9,10,11,12,13,14,15,16,17,18,19,20,21,22,23,24,25,26,27,28,29,30,31,32,33,34,35,36,37,38,39,40,41,42,43,44,45,46,47,48,49,50,51,52,53,54,55,56,57,58,59,60,61,62,63,64,65,66,67,68,69,70,71,72,73,74,75,76,77,78,79,80,81,82,83,84,85,86,87,88,89,90,91,92,93,94,95,96,97,98,99,100,101,102,103,104,105,106,107,108,109,110,111,112,113,114,115,116,117,118,119,120,121,122,123,124,125,126,127,128,129,130,131,132,133,134,135,136,137,138,139,140,141,142,143,144,145,146,147,148,149,150,151,152,153,154,155,156,157,158,159,160,161,162,163,164,165,166,167,168,169,170,171,172,173,174,175,176,177,178,179,180,181,182,183,184,185,186,187,188,189,190,191,192,193,194,195,196,197,198,199,200,201,202,203,204,205,206,207,208,209,210,211,212,213,214,215,216,217,218,219,220,221,222,223,224,225,226,227,228,229,230,231,232,233,234,235,236,237,238,239,240,241,242,243,244,245,246,247,248,249,250,251,252,253,254,255,256,257,258,259,260,261,262,263,264,265,266,267,268,269,270,271,272,273,274,275,276,277,278,279,280,281,282,283,284,285,286,287,288,289,290,291,292,293,294,295,296,297,298,299,300,301,302,303,304,305,306,307,308,309,310,311,312,313,314,315,316,317,318,319,320,321,322,323,324,325,326,327,328,329,330,331,332,333,334,335,336,337,338,339,340,341,342,343,344,345,346,347,348,349,350,351,352,353,354,355,356,357,358,359,360,361,362,363,364,365,366,367,368,369,370,371,372,373,374,375,376,377,378,379,380,381,382,383,384,385,386,387,388,389,390,391,392,393,394,395,396,397,398,399,400,401,402,403,404,405,406,407,408,409,410,411,412,413,414,415,416,417,418,419,420,421,422,423,424,425,426,427,428,429,430,431,432,433,434,435,436,437,438,439,440,441,442,443,444,445,446,447,448,449,450,451,452,453,454,455,456,457,458,459,460,461,462,463,464,465,466,467,468,469,470,471,472,473,474,475,476,477,478,479,480,481,482,483,484,485,486,487,488,489,490,491,492,493,494,495,496,497,498,499,500,501,502,503,504,505,506,507,508,509,510,511,512,513,514,515,516,517,518,519,520,521,522,523,524,525,526,527,528,529,530,531,532,533,534,535,536,537,538,539,540,541,542,543,544,545,546,547,548,549,550,551,552,553,554,555,556,557,558,559,560,561,562,563,564,565,566,567,568,569,570,571,572,573,574,575,576,577,578,579,580,581,582,583,584,585,586,587,588,589,590,591,592,593,594,595,596,597,598,599,600,601,602,603,604,605,606,607,608,609,610,611,612,613,614,615,616,617,618,619,620,621,622,623,624,625,626,627,628,629,630,631,632,633,634,635,636,637,638,639,640,641,642,643,644,645,646,647,648,649,650,651,652,653,654,655,656,657,658,659,660,661,662,663,664,665,666,667,668,669,670,671,672,673,674,675,676,677,678,679,680,681,682,683,684,685,686,687,688,689,690,691,692,693,694,695,696,697,698,699,700,701,702,703,704,705,706,707,708,709,710,711,712,713,714,715,716,717,718,719,720,721,722,723,724,725,726,727,728,729,730,731,732,733,734,735,736,737,738],\"words\":[\"issues\",\"nc\",\"yeah\",\"teaching\",\"dev\",\"versions\",\"note\",\"f\",\"examples\",\"looks\",\"c\",\"mostly\",\"folks\",\"js\",\"dask\",\"lawyers\",\"speak\",\"directors\",\"submit\",\"party\",\"glad\",\"use\",\"slides\",\"b\",\"factory\",\"p\",\"demo\",\"challenges\",\"log\",\"would\",\"excited\",\"insane\",\"believe\",\"saw\",\"proposals\",\"related\",\"fast\",\"etc\",\"get\",\"dl\",\"together\",\"generative\",\"bars\",\"read\",\"months\",\"social\",\"tweet\",\"import\",\"floor\",\"less\",\"version\",\"project\",\"education\",\"surprised\",\"wish\",\"monday\",\"mention\",\"may\",\"called\",\"head\",\"rc\",\"quite\",\"hey\",\"maybe\",\"lunch\",\"images\",\"person\",\"enough\",\"started\",\"ok\",\"lots\",\"actually\",\"switch\",\"pretty\",\"bring\",\"many\",\"intro\",\"instead\",\"german\",\"also\",\"science\",\"guess\",\"example\",\"forge\",\"everyone\",\"anaconda\",\"scale\",\"lab\",\"japanese\",\"announce\",\"_\",\"h\",\"make\",\"program\",\"penny\",\"linux\",\"material\",\"announced\",\"better\",\"ff\",\"seattle\",\"closing\",\"windows\",\"dear\",\"awesome\",\"reference\",\"welcome\",\"doc\",\"keep\",\"decline\",\"scientific\",\"git\",\"thoughts\",\"g\",\"lovely\",\"isc\",\"kind\",\"plugin\",\"new\",\"back\",\"dance\",\"flattered\",\"though\",\"online\",\"challenge\",\"country\",\"classification\",\"turns\",\"optimization\",\"list\",\"think\",\"language\",\"part\",\"opensource\",\"event\",\"wrote\",\"fit\",\"police\",\"award\",\"k\",\"rt\",\"sorry\",\"fly\",\"wonderful\",\"based\",\"yesterday\",\"http\",\"every\",\"know\",\"much\",\"engineering\",\"models\",\"gets\",\"french\",\"l\",\"easy\",\"apparently\",\"reinforcement\",\"goes\",\"guidelines\",\"please\",\"piece\",\"history\",\"myth\",\"took\",\"important\",\"advice\",\"us\",\"issue\",\"hour\",\"friends\",\"old\",\"e\",\"hear\",\"lady\",\"call\",\"til\",\"skills\",\"ready\",\"introduction\",\"weeks\",\"crypto\",\"files\",\"explained\",\"upon\",\"board\",\"python\",\"great\",\"telling\",\"holy\",\"machines\",\"video\",\"changes\",\"lines\",\"gt\",\"fun\",\"always\",\"using\",\"modern\",\"translate\",\"journal\",\"goals\",\"students\",\"yup\",\"wants\",\"similar\",\"email\",\"whether\",\"academia\",\"training\",\"enjoyed\",\"presidential\",\"talks\",\"th\",\"come\",\"faster\",\"point\",\"made\",\"open\",\"maps\",\"guy\",\"late\",\"provide\",\"tutorials\",\"deep\",\"problem\",\"visit\",\"since\",\"interactive\",\"networks\",\"day\",\"peer\",\"must\",\"joint\",\"tools\",\"anyone\",\"needs\",\"war\",\"women\",\"says\",\"tweets\",\"simple\",\"check\",\"workshop\",\"front\",\"level\",\"auction\",\"far\",\"distributed\",\"written\",\"finish\",\"position\",\"today\",\"meet\",\"big\",\"self\",\"anything\",\"quick\",\"future\",\"met\",\"model\",\"lost\",\"books\",\"really\",\"tomorrow\",\"powell\",\"htt\",\"r\",\"line\",\"machine\",\"overwhelming\",\"posts\",\"sprint\",\"regression\",\"portland\",\"w\",\"personal\",\"seeing\",\"enjoy\",\"experience\",\"nginx\",\"help\",\"loss\",\"touch\",\"morning\",\"reason\",\"want\",\"red\",\"impressive\",\"weekend\",\"slack\",\"tried\",\"times\",\"try\",\"form\",\"yet\",\"got\",\"explains\",\"already\",\"message\",\"validation\",\"architecture\",\"storytelling\",\"unedited\",\"explaining\",\"dataviz\",\"text\",\"next\",\"random\",\"discussion\",\"run\",\"empirical\",\"junior\",\"past\",\"send\",\"evil\",\"install\",\"cross\",\"cool\",\"helped\",\"speakers\",\"long\",\"poster\",\"audience\",\"starting\",\"free\",\"super\",\"internet\",\"recently\",\"lose\",\"yes\",\"course\",\"pro\",\"product\",\"taking\",\"book\",\"join\",\"company\",\"july\",\"listening\",\"deploys\",\"favorite\",\"methods\",\"ml\",\"community\",\"might\",\"control\",\"psf\",\"search\",\"frank\",\"last\",\"words\",\"large\",\"key\",\"package\",\"valley\",\"talk\",\"programming\",\"friend\",\"https\",\"mmds\",\"error\",\"group\",\"image\",\"learned\",\"days\",\"natural\",\"going\",\"viz\",\"happy\",\"trying\",\"eu\",\"state\",\"thanks\",\"features\",\"instant\",\"thinking\",\"spent\",\"side\",\"pass\",\"perf\",\"driver\",\"system\",\"sign\",\"pip\",\"pop\",\"one\",\"tho\",\"software\",\"best\",\"good\",\"url\",\"lot\",\"building\",\"non\",\"need\",\"ai\",\"py\",\"shout\",\"miss\",\"q\",\"blog\",\"updated\",\"change\",\"live\",\"fuck\",\"pure\",\"starts\",\"thing\",\"amp\",\"summer\",\"music\",\"review\",\"json\",\"role\",\"guys\",\"practice\",\"pay\",\"election\",\"never\",\"heart\",\"paris\",\"early\",\"sweet\",\"library\",\"diana\",\"word\",\"doubt\",\"hard\",\"hand\",\"matrix\",\"watch\",\"team\",\"used\",\"life\",\"saying\",\"article\",\"ever\",\"birthday\",\"stuff\",\"done\",\"web\",\"logistic\",\"title\",\"understand\",\"build\",\"source\",\"seen\",\"something\",\"release\",\"missed\",\"uk\",\"due\",\"excellent\",\"woman\",\"code\",\"mind\",\"year\",\"info\",\"single\",\"details\",\"mean\",\"summit\",\"happen\",\"feel\",\"go\",\"sad\",\"world\",\"little\",\"lightning\",\"sends\",\"coming\",\"thx\",\"listen\",\"outreach\",\"third\",\"look\",\"people\",\"end\",\"works\",\"ago\",\"learn\",\"multi\",\"feedback\",\"dude\",\"design\",\"technical\",\"terrifying\",\"tonight\",\"leave\",\"performance\",\"around\",\"cluster\",\"papers\",\"projects\",\"summary\",\"useful\",\"notebook\",\"nearly\",\"keynote\",\"repo\",\"analysis\",\"linear\",\"interesting\",\"someone\",\"booth\",\"man\",\"plan\",\"runs\",\"hair\",\"final\",\"beginners\",\"proprietary\",\"getting\",\"forward\",\"things\",\"computing\",\"sending\",\"vienna\",\"movie\",\"upgrade\",\"post\",\"function\",\"running\",\"real\",\"research\",\"idea\",\"rules\",\"canada\",\"approach\",\"v\",\"definitely\",\"full\",\"series\",\"rejection\",\"stop\",\"questions\",\"park\",\"gallery\",\"seems\",\"top\",\"hate\",\"api\",\"videos\",\"released\",\"docs\",\"wrong\",\"silly\",\"giving\",\"implementation\",\"shirt\",\"two\",\"baby\",\"link\",\"find\",\"device\",\"via\",\"job\",\"cs\",\"thank\",\"u\",\"chat\",\"stay\",\"bad\",\"sustainable\",\"results\",\"easier\",\"diversity\",\"cc\",\"watching\",\"high\",\"update\",\"conda\",\"amazing\",\"access\",\"feature\",\"work\",\"hope\",\"making\",\"thought\",\"first\",\"enemy\",\"tickets\",\"conference\",\"write\",\"google\",\"place\",\"hours\",\"changed\",\"gradient\",\"data\",\"hello\",\"whole\",\"major\",\"case\",\"god\",\"space\",\"victims\",\"heard\",\"mysql\",\"map\",\"night\",\"song\",\"public\",\"looking\",\"dc\",\"algebra\",\"available\",\"app\",\"amd\",\"openscience\",\"comes\",\"wake\",\"qgis\",\"user\",\"james\",\"ploop\",\"time\",\"path\",\"coding\",\"reading\",\"lt\",\"right\",\"nice\",\"set\",\"fmri\",\"presented\",\"computer\",\"exciting\",\"different\",\"speaking\",\"game\",\"test\",\"okay\",\"probably\",\"statistical\",\"years\",\"languages\",\"give\",\"int\",\"without\",\"users\",\"neural\",\"documentation\",\"home\",\"stack\",\"see\",\"debugging\",\"month\",\"tell\",\"name\",\"pycon\",\"away\",\"congrats\",\"week\",\"sure\",\"haha\",\"kate\",\"phone\",\"power\",\"room\",\"datasets\",\"diverse\",\"memory\",\"guido\",\"minutes\",\"class\",\"oh\",\"tech\",\"add\",\"congratulations\",\"question\",\"label\",\"money\",\"average\",\"learning\",\"finally\",\"family\",\"like\",\"show\",\"programmers\",\"style\",\"wait\",\"tutorial\",\"wow\",\"tfw\",\"indeed\",\"meeting\",\"notebooks\",\"left\",\"laptop\",\"terrible\",\"sf\",\"computers\",\"remember\",\"put\",\"toronto\",\"went\",\"way\",\"fine\",\"omg\",\"brain\",\"systems\",\"working\",\"strangers\",\"schedule\",\"vs\",\"still\",\"color\",\"even\",\"ppl\",\"love\",\"could\",\"proceedings\",\"interested\",\"another\",\"openaccess\",\"possible\",\"de\",\"github\",\"posted\",\"take\",\"study\",\"say\",\"totally\",\"ht\",\"paper\",\"soon\",\"start\",\"x\",\"pm\",\"teach\",\"support\",\"analytics\",\"twitter\",\"makes\",\"<number>\",\"well\"],\"x\":[-1.1044464166925967,10.366145435672303,-24.408506442986116,3.053588721406831,10.013479267424643,8.048799579771487,1.3123414433962455,5.077151736952702,8.971568290521097,-20.815214968473736,5.1545215240162925,-7.905122540947599,-14.605450330020352,8.040801941743435,19.501548921190192,12.046511059979206,-14.47940653882773,11.89151822909517,7.20081034895161,-13.168578496741222,-24.174959558205828,-7.149235604078702,6.027398544199036,9.46601415981847,4.696201545092643,4.714049062304443,8.903415214779972,0.43359071850473896,7.071820927452258,-24.876797909074927,-16.81871344615669,-7.077198598615622,-20.879138170294834,-18.17421756373667,13.18608129574143,1.078192282758502,-9.414448933637162,6.205608485137549,-20.799046017891193,7.363635465090936,-15.296084075643781,17.74487822945766,5.634846899482309,-8.278249791391303,-13.501006983835328,0.32330848088015085,0.5569717707194943,12.639286104425615,-8.362260947868068,-9.494018458596132,-4.011802221315469,2.7765468847745103,5.031345028007374,-20.928694737365397,-23.8200527808888,-13.845319432005821,0.8288621310939772,-11.980390321566716,-20.59626989096936,-7.9241826272670846,13.494415006750934,-3.4918768499621877,-23.12122049849565,-25.119309643882897,-15.958589555298085,6.959268366277045,-15.690416924153448,-17.153736152243724,-16.182489808289553,-25.022351880985862,-16.889757004991488,-21.394812616245623,2.5147740557854554,-20.63042529984233,-23.762967326536515,-15.847245440070504,7.867089858962268,-19.188952017762364,10.717644613450469,-20.18259398943782,4.044810941447049,-25.505137920637516,0.5424292088673629,15.198132548560155,-24.136128536416212,17.406280075689082,5.9598891612335505,0.015513660785484839,11.258054396772778,0.37952700931589833,2.4439927508882744,5.633247207619893,-24.554790056952864,2.09432779396402,7.3371724156348295,13.519327667195556,-2.188022980081739,0.11980959795178148,-23.6061839974853,5.577607219015483,12.621625563142228,-5.713848124508308,10.450271283715397,-22.41340532312056,-17.178405992037398,5.65721680886605,-21.812232520975133,8.112090499410524,-26.94620431512085,13.940755238301755,15.904916419290704,9.249470996555337,-11.943905369712715,6.38113217292454,-19.096182821375404,19.06954481219959,-19.398210365679752,12.377763604968514,-2.1315346230670924,-23.74854631181747,-8.98228660058862,-11.843975175822791,-25.957064078670918,3.6654691407595514,-0.26622541880207623,-13.560412974556892,15.719564145899302,-13.04621309006237,13.666783481528409,3.6837364758203024,-24.638183560533967,2.352339703484887,-4.109678076800446,18.321480863143623,1.9638366895658557,-4.255947586727908,-4.948627262978406,7.722166074314694,-2.0829183225650643,4.726410083608525,2.4316800596636803,-25.73669501157855,-9.635037929813663,-18.187530821579536,2.0734743586856648,-15.246655850570853,14.223037807825323,-16.50648337419689,-24.7803896324943,-23.014386763588863,7.36232971210772,10.53901404807153,-17.541687364914964,10.85266970673283,5.562204059632548,-10.168576820125912,-20.708275292271832,17.58181365570516,-14.992150411825934,13.400078569334656,-25.053751435276045,2.470176662903889,-2.6105139104292343,1.5762608179886692,-16.387752564110322,-2.842219667534467,-0.19547485596243291,-22.993855541528756,3.2141629697742986,-14.098142024415562,-22.843648325948724,-17.312302884185353,4.087044322931174,-21.282182236554117,-8.405460063922348,-26.956142456134753,-16.708252308643885,2.6317404680337635,-10.852798633739539,7.785508283718029,-13.01209219263697,18.528473073603614,9.061697660427177,-2.439628514207949,-11.393585970020798,2.222694899105971,15.160114338982611,-17.139867325913965,-22.565452888026737,-17.33584695771024,5.232855087815818,-2.6426824762190715,-1.3729231139951936,2.0029637082544998,7.225567189676986,-17.47320773739835,-24.96094501640465,-6.778555482558273,11.715501178125937,10.838204933420768,6.800701363012799,-5.378268670509248,5.743449142607699,-25.56515595425376,-21.801718350647267,-2.8022522310025693,2.5959220387807957,-15.745921040575734,4.392247620575303,-2.5413276542243,-11.900899021122871,9.501166072188525,-10.217267845875961,-11.871064941824896,-25.11266520533824,-8.832067993084273,-3.8432182179614727,-19.417258676064282,-3.5262168762399426,10.06870154217594,-20.608627315382016,-13.954284232161186,-0.1918062986572889,12.368682628290406,-12.177649549154346,-13.564691280054006,-2.1698376844251808,-15.095949499663211,10.756029309427474,11.271002795817594,-15.734700339027642,14.316830151153288,-23.303690520902638,5.078210659926224,11.704306747594215,-21.68196768824418,-28.127045800962513,-3.5503444140365623,-13.354023510053963,-10.446548854113434,0.32679717642249373,-1.9979943122149235,-2.903357031589594,3.1341353504538745,-7.145085791575752,-2.104326924692521,4.830884271632463,-11.057851748797795,15.355780841983156,-4.029597691696524,-8.08957024706477,1.5214992073911193,-14.57991369572585,-21.927112025319904,-9.050074100515669,-13.534154673160977,-21.75288767997438,-9.915078333545267,0.380169156059642,-9.688504209544487,10.115588050941762,-15.57851818741014,4.296661896314904,-24.4397926096088,-14.651544597472235,15.005612740267503,14.290454326825415,4.1578255058787565,-0.32276038474922586,4.118745423953993,-0.4847077194318948,7.357633318151678,3.57009584579765,17.834159844300842,12.281976901910872,4.464896205727606,-1.7911193936211796,-19.200866985495757,-18.033542754822335,1.7514618679789409,17.300386418459514,-23.480423829291357,-4.543699320882773,1.7690824974197896,-16.56790209548086,-16.659046548382623,-26.157440918718546,-5.0513489962011295,-6.179953927560943,-13.872180713995819,-3.159600166225399,-22.407864508203552,-14.482514458198143,-24.997106445179462,-1.5324174098852967,-18.900800267195777,-19.726718283655348,-2.702517933448268,-16.708659443805956,-3.905705454120209,14.506220472508174,10.424544664446831,11.47447015382165,15.311698955657175,-1.803349451341961,19.241659365237904,-6.851140331763557,-13.224383164676656,-4.666711022108846,5.910980819253594,-8.262188007953673,16.811375391933307,11.135422105266805,-14.820289163925137,-6.769744179622519,1.1439419664456232,7.9284616918622355,-6.361990832529924,-19.23030743179559,-21.89635208362788,7.166092238601138,-18.474376853433476,-3.542416288889089,4.201105970214713,-8.984655180176684,-0.6766087831563494,-6.003404149465755,2.389778043135902,-5.927179563848741,-17.98166736350717,-26.147737868867548,-4.174651589711522,4.358701440789958,8.752600498631585,-17.67500153747053,3.441472334370262,-2.323484015516414,2.7175177268500135,-11.29829124774248,-19.97693873530343,17.212507856761736,-15.082047626435024,12.930965411984523,14.065673021519013,3.710579149683441,-23.695751160259977,-1.0432146061903182,18.82623688639717,7.573380185942492,14.673171866339796,-13.391534712466175,-15.868574810201046,1.3648832133914395,0.67547959470014,5.065715560820788,12.42758190728252,-26.872411780393648,11.579001888827339,-22.954340555756676,14.387797427482976,20.28270626228466,-1.094578262365804,2.3909724361171834,6.586628299418741,-16.73756344390606,-13.984706827304015,-3.2881879995696335,-18.266238817757845,18.0893536569337,-20.904366601675633,-23.86476727032229,3.5626605365588544,8.403444000641692,-21.798801542586762,7.3697269298160615,3.5245252866474766,-19.89123163713287,-13.164866046492175,-7.275562620409408,-8.763052808909523,-15.124560709157395,3.294866173014099,9.821671121761598,-2.7594353910684544,16.322174697044247,-8.365266680898285,-20.29867767514301,-27.414947917366597,11.732440586025021,-16.272841880511994,-17.711105999421832,14.274932908884693,-17.065205442187,1.510623319791801,-2.8680723175856495,-24.3275736485981,3.1440724948460996,8.37666627964919,-21.554107963680956,-22.35840524525312,5.612845323633146,3.3112372719311187,6.117724090826992,-3.4540803091837775,-11.00933866105835,-27.33852326165785,-3.0534920834030834,-15.62892249553021,-18.448668982780724,13.31134603474259,-14.96418825107013,-9.397540965126888,4.895396226663657,16.900170352729123,-10.827558397874299,-23.762334461336696,-7.290114113422502,-10.437259004393775,9.96771138625662,-25.072567161415623,-12.742933143495724,10.934506073961881,-13.39406735661783,-19.679695906061692,1.1380729751096963,13.231721317542569,-19.39663948933422,-17.036848862223508,-27.110860259839633,-6.7852282460036415,15.048738491755731,-11.49000878321689,-7.761610664729158,-20.36362122906766,-14.60181968089867,-22.816748977759143,6.107521063916644,-19.208887645226664,-20.77387586170364,-17.818450833971287,-17.51919377583768,4.043539069403911,17.876981978534285,-2.372840040873681,-15.409974966766914,-0.25567736619925874,5.94059841676903,-17.753059168155563,-21.771447728122126,0.6558191302508233,-15.61184640634411,11.91559102395946,-11.137341983926678,5.606499332796942,-13.661825731759155,3.9955765124506426,-13.7667687753456,-13.047204990098257,4.875537391120241,-4.6298442682274485,5.425119177646151,-24.9300465910251,3.704545622886408,-17.28535442105679,-23.252652970830393,-24.181696837207795,-22.71803542754451,-13.968607591646734,-19.945233413471723,-7.868196924462101,-8.48275427975989,-14.73314527818047,-22.098557487806623,-21.010504209208186,11.411127345606106,-3.514407868209941,-20.540840573835666,-16.161846790105876,-10.691539358925183,-10.74426343348274,-14.829484530956618,-14.190743605514609,12.884441953152404,7.119246417400339,-27.561123256346903,9.486623661320621,8.106362481755447,-6.757085319326588,-14.681822659359167,-22.949918969285118,-2.0973665915444597,-13.335654675344554,15.709675978138726,0.22751790268918223,5.410061473416849,9.330442950541004,9.028366206843003,11.9379482570226,-13.281253367853289,8.250731369148038,15.951722413584571,8.772073013650152,18.266860786410376,-5.319821078116441,-21.557573148916084,6.7060520050311805,-27.836021855293374,-0.7890237911774444,-8.21154069147745,-20.502922016251087,9.164407857709548,12.849146201038202,16.857272608475625,-18.829695337190156,-9.689099092187789,-15.999513383017316,11.884526480498195,-8.692908544071562,13.18030753632021,-9.6312586173861,8.409500217842089,2.151948807702463,-2.0564352831374975,-9.196685320609316,-8.639245890312374,5.077178384542686,-4.025612178063769,0.07218794457282146,12.140443282637502,0.8064065817702954,5.88436024856936,-20.621684996796947,-4.599646957748111,-1.4991465314591874,-0.3979841130150519,-27.61975277719112,-1.0113351491849845,12.38846343998474,6.616783639109971,-19.61253774622284,-5.93361456679497,-26.575727049827766,8.548506669284336,0.23453688675534395,0.4701874243289407,8.783597883986934,-22.3433428080896,-28.57522255914685,-18.88811128593225,14.142080146366276,-6.436776348926931,-15.703373816396722,-20.973294298772597,1.165617818252299,-22.409593115698527,9.65068409891863,4.041493660918833,2.3277201725818326,9.741694806704608,-21.57610922181295,3.2780775778181157,1.9271604060296583,-26.949899371122648,-26.819419765602216,10.836522075155054,-5.472868791586242,-9.239557899507222,11.143317204845646,6.8098344609411985,-19.503294417639587,-7.18993204417086,0.2668490561337761,18.01935858562427,-16.63617482047939,8.12804995902456,5.778728273238002,-12.042391041336582,-23.405437237464525,-17.55897500890855,-21.613063285467092,-12.785604381893908,1.2948289528634276,-9.929868576332913,3.4187738540422408,-7.3897858354509,3.185158700513601,-4.331444551280445,-13.160157220865193,-18.575424757271236,16.591096459863866,4.991651418918274,-22.243273561881967,-16.75739258253738,-3.3106510897113557,3.490023466765111,-14.276670763005123,2.8606065756265187,2.305145603135612,-18.2613279153222,14.316661429579023,3.811747257860744,-15.731310087254824,-9.603717936775269,1.8807350522755195,-19.877466194730143,8.953332750141028,5.237310914607745,4.592498659747795,3.6930088086824284,13.493893197091797,19.966147413420437,-17.742885716128193,-22.05763878258221,19.499193231693454,2.959299801346921,14.511363303796161,20.800916463745097,-11.806435716795121,1.2525599871686586,13.363644183158549,-7.3444641775003525,7.302895240489439,-25.333956662331797,-19.121187936690117,-4.2247017314954745,17.248267050348996,5.5094752734631065,9.352894548389031,-5.414629346574312,-15.783224847044414,-1.5737946484028253,-11.0320827740044,-1.2541401075956204,-26.02780989471745,-21.360451821881547,16.304212676204042,-14.27470186081879,2.641571960665262,-24.412444175856884,9.20468955429945,-18.074239615540115,7.7911487211940615,18.385535478304146,14.543967671677903,-11.035662492093648,5.868833906627669,-23.639057247697295,17.42283017873256,-11.470109486134973,-26.661761427232697,-20.71472145361183,19.391965740454992,-14.271645353336567,-20.23498907818967,-13.571809072400503,-23.733304905571,-25.921274454168973,12.857023323950719,-6.663185114955143,0.580233920773868,-10.006087192853894,17.31202333291977,13.341181857976313,1.2405737572199085,13.387882583862606,-11.679804865192805,-7.186275111098313,-25.09911777567291,3.2400956924301685,1.2917103630048388,-19.996937552297172,-6.042198012939863,12.890930022669535,-12.009468116090018,-4.178601124265993,2.937196718486664,-16.66104980666735,-22.41517946314021,-25.66469051348927,-10.785306702394697,15.624645025816415,-4.366371442766636,-16.40945076731507,11.724651905949349,-24.725744962249763,15.723367816884428,-17.299526537147347,1.385921926939281,12.709524825686245,-15.64220233272634,9.392817722654947,-3.498725712400733,10.905747322198465,11.076726833210781,-21.124667555029088,-25.52106849571923,11.979998278595653,-16.67538143479539,-22.71643784078703,-19.457119790290477,-24.732270341289187,-11.07853609797181,11.298683835720713,-10.872130848720058,-8.839410102734194,-5.861741089879139,9.833969203943553,-24.27763669509753,-4.102803428760684,-26.528997095803245,-14.634856494541854,-21.268374727001707,-24.263944831019757,13.528552622998467,-10.7868186511688,-16.15858215533008,19.781670857624935,-3.5213240375485118,6.10073982121148,16.280365084572804,-5.848303169435013,-22.442049799220886,-1.4361308127105132,-26.03571147487471,-20.482399147698313,7.919207215844986,-0.7302182215102718,-15.201172293941921,-9.795409502398845,5.999439261822175,8.773295922057537,-14.192674944117458,-2.4777115941812937,12.431979705491516,2.1310723669226657,-18.446243279728172,6.698576943035244,-24.314561583547146],\"y\":[-14.472436634765867,6.147861422776202,3.8855751583616156,-15.895498145662891,-1.3627559756013143,-9.387560955426832,4.386852252430477,12.29681795498701,-10.384216064521281,-1.7634940980182912,13.135693098054222,-12.479200989476066,-20.07512294266968,5.1378701918196255,-5.574714960734754,-15.980789908637561,-16.759016855297318,-15.507434219431472,-8.137327407585628,4.698095029648388,-9.856719162018962,-9.480458022471941,-1.423453536529474,8.829840032200766,-2.192117143823774,14.096700888581218,-1.0671707490613462,-14.273041189651819,-0.5377513742940786,-16.61962066844077,1.7361434072901356,-12.37511092400462,-7.403001809003424,-7.209177453573231,-14.838396128358147,-16.39153191612482,-10.388054579777306,6.214272331182841,-4.282748318665175,10.05762839726815,-8.09294126945976,-7.100122005783458,0.5497168525941378,-20.227017584817993,-3.054283704223541,5.586155229245403,7.631944549570876,-0.7013419983979795,-2.0862991453370023,-12.04503279222487,8.931386827141209,-6.836717391430707,-14.815345231552898,-15.30051813064987,1.429843948044034,0.5380975525066011,10.553407824951673,-5.190907576243118,-12.120378493545735,-1.3763387815524797,-1.52263526812085,4.299403633765523,5.342727631623033,-9.190364900191495,5.1276147573799555,-9.97170376587638,-13.765150569060076,-11.918028813971874,-2.1456119314674926,5.9305860638248005,-9.979044999949025,-14.43975833522637,-0.49122493273504053,-1.403301039935212,-5.727326716306289,-10.459855088113128,2.6508396088128485,-9.174827717787705,2.652499630160649,-15.997724679860411,-15.423168086796506,-10.553310460763909,-15.56038792259572,-3.5524308487208804,-1.6217943165908646,-2.8223856702282797,-1.2839745841108463,-9.853594368105682,1.7381151573362723,-5.737131978669929,11.589136543116908,12.42789102576174,-6.7791706385779555,-8.15522020528074,1.3790307327687483,-7.331369639811599,7.043027724817286,-6.010516771528232,-8.575670224076601,9.306596637416755,5.881058296830663,-5.241279195205798,-3.991144797735536,6.451144834273341,9.303238293787816,-10.244551871404825,6.484902101063694,2.273319701089382,-4.514963830442698,-14.307248697124106,-12.433718815222228,0.8493647480536685,-15.095809845875099,11.87974863392849,8.194380259233565,-4.375589090280215,-19.349591175921866,-7.578072756014501,1.0708093771388312,-3.320952464916044,8.770420699159992,-20.628530073257398,-9.511307981013474,5.658192928781964,-5.283685339803344,-9.767251467502346,-11.11701024082612,-7.909081204212209,-9.762490145147344,-5.807873491706155,-12.843211083283462,-16.878666998402185,-3.779454803630813,-7.845898077479138,-7.523546618172979,-19.305239293032372,-0.881758736786184,-18.73822361541006,-4.681453638124865,14.27317204475017,11.071409825702725,5.309977155164589,-2.5953859274147915,7.784518531868422,-14.811897007427207,-2.97182759359415,2.3796179298997395,-8.270624538429097,-11.393136209882332,-9.640984406371784,-14.533625392180873,0.0006209281879481846,-4.793076409435467,2.4566848622919117,12.176212995508315,-11.466696268410344,-13.974232109269579,-10.290780118913755,-5.416418383530591,-13.138304302253133,0.2811916912027254,-1.4907772272600246,-5.975535716318081,-18.228111230405453,-4.808798072409995,-14.658044531370782,-15.923097747562043,-6.363245840318116,-12.387815878123753,-3.370914027356329,-1.983956741714144,-7.832592370061729,14.677052921347292,-6.3445929742766465,7.44939579787212,-7.164268603336978,-0.44894839330269803,-14.437288353699094,-0.621413040882713,-12.639912120962178,-1.8566444862012619,-8.472428921620281,-5.956047582437618,-18.79403778325172,-15.511943740148906,-10.05683384964925,-2.4206378285889976,7.999452038691607,-13.232610125968673,-6.169836381935467,-1.213818411286441,9.00581812105021,-14.525771126526935,-1.4547077754775646,11.293821170396921,4.880856474898226,-13.036015880887351,-9.47596526823998,0.7991129590728286,-1.901139036939918,-12.153267645564146,-8.101779196615988,-15.287459479891885,4.114355268592864,-18.682776925284923,4.961156164075234,3.465038664030457,-17.01740036572489,16.03954455181675,-7.9371413694862545,-6.350241973109184,-17.71986340206999,-18.430981132198806,2.4453217436430603,-3.105704668945556,-11.232446042912443,-13.82337086435712,-12.419952949945014,-0.4599938843377389,-5.229254942027479,-11.737546820456311,-0.9071818301435098,-12.238407715456233,-10.507872774629012,-13.18386654183033,-14.78977987821552,-1.1390558111393534,-4.181777379918745,-11.170651288642144,-5.127374946834487,2.792751719087355,-10.875908519661976,-17.45232585799423,0.19038708603960589,-8.999155328341685,-9.885407822723911,-17.357589971480316,-9.113565047285915,-10.587297177479313,-18.504662133456574,7.9510839693862065,5.210416390261701,1.2647445988995705,-8.017400953262104,-1.5601411148738777,-8.927586915401712,-4.315154339867362,-4.638567038322569,-8.359911886239225,-19.309207457709892,-4.595796352011612,-13.063391947442442,1.0669029665240242,1.5294258258841953,5.602190345925884,-14.404735639070113,-8.841660214131519,-10.558015993168471,-15.337080142965931,12.944227458093557,-0.10710890108574492,-5.82695928605388,-6.677962584646481,-12.300699645300439,1.5687569304328715,10.450953215958032,2.4231643138506556,13.097216765548326,0.18497735933055276,-1.4595846303698359,-18.462812195563476,-6.66112622097353,0.2329863298690935,-10.451207576730136,6.031567047334639,10.529317657705134,4.60056098511083,-8.01869146884576,4.400082652910918,-14.851097487462448,-7.195734165880396,-17.903763824174376,-7.682576438824185,-0.3272745224997757,4.063596229600001,-14.209628998629393,-14.352083773192717,6.640428333032688,-11.584980701137594,3.1623865512871103,-10.831417453088203,-14.852993324047574,-7.289842673770909,-6.495514565563455,-9.693585369384431,-14.574761097750992,-4.243443681070061,-18.71503504900665,-2.916408205447226,-16.577041531335247,-12.33550745149625,-11.914295271679574,-11.522523338381378,-5.84826460829102,-17.472444250225166,-7.702144046976779,3.114838641324098,3.7707945603640267,2.430649967516331,-12.663072556543877,-2.8103540784114953,-12.00838961972107,10.471762626423036,-6.470604781692745,2.7886332293225693,-19.864858476518233,-3.4493283922556897,-1.6606373887011219,3.1921183406109153,-18.09697949675601,-3.000271515974634,1.2479639834838916,9.261088054743983,-12.510390021762811,-4.720365209802778,0.3485114312456382,7.534642286286238,5.956345367954248,-18.189646357118804,-17.343171221620207,5.061580169918703,-12.128728142403238,15.39859867164999,-8.764710912166645,-9.77485049545847,-6.091370501383116,-1.6253260883665093,-10.981679462115055,2.1879007542889832,-6.110354720954523,-5.864173297858716,8.907927246920766,-12.749334220476154,-1.0458618820709409,-11.12885321578138,-15.922775768073745,4.8471224443626095,-5.460550153646316,-5.031738006396141,10.06710712397678,0.861543501916343,-14.601089081744608,1.0718411094836031,-3.1221729517826518,-4.862423478822004,6.706577580961243,-7.516375602175529,-12.433420009009183,0.005513865888350233,1.7717527572645095,-5.308015745475351,3.7192060307944326,-8.71799322674716,-10.118721145001622,-16.63413648259861,-0.3843766997124877,6.48541963797671,-2.987913595406206,-5.1392887677936,6.268068036445105,-14.563825137602203,15.241850419371714,-18.33924935498958,6.130017465918083,-9.315304294756857,-4.278151539588194,-9.554049493767932,-3.7025222519167498,-2.1477313642311358,-4.445353981310263,11.226340669984923,0.11448823854354948,-7.16020984597439,-2.738294369310107,-1.7074842850206815,8.4441566120014,-7.663227564428574,-9.454603096659882,-8.312131300116084,6.3850086123193295,3.824485160315135,1.1928603552364854,-11.062395993037274,-10.459814550868394,12.664077833523388,-7.055612381719836,14.196354245485463,10.711003976214064,2.044811540588341,5.10370332998932,14.868823398633303,4.86768634530007,-6.926239623369021,-14.731688086063714,6.039616155600959,-10.274350672883195,12.427893774439548,-1.6487219822412296,-12.874866897087962,-2.1760236783436038,2.9618665099285875,8.901242664131278,-7.53345355810311,-7.667119158916575,7.238768710557316,2.3531970625699326,-5.85111580779112,-8.015456707552778,-18.038576765155682,-13.985827118264748,-12.972274612194054,8.136034336183497,-0.02353745223188386,4.6545558472609505,-10.23804768662013,10.632011410939487,-19.395997398106857,-16.55742438053016,-13.236004974779657,-0.5240997206413308,-3.6297519545437185,5.016770923757988,5.852125560958529,-13.030626989304691,-12.664451282501505,-11.98874626962159,-12.001515830414407,-13.3198268650705,6.332008709144005,-10.671280796492123,-1.89906563878778,4.639007463397092,-8.543495013541447,-5.453599145670646,-15.98185605446349,-12.149027908447932,-11.767002666181806,-6.6106763259770736,-10.029819435340684,-5.420941236897516,-3.379429209694342,4.296094897365916,-3.9040904964033873,-11.953545222621502,-11.234464847594703,-4.241424759305143,-13.811530802606313,1.5191620713071523,5.47417732267748,1.6102225935427834,-6.7412371688651636,-11.449326575022921,-9.43397088488914,-16.220267182614215,-11.27507827259314,-3.9278958136696036,-10.889803673865943,-9.529805050724358,-1.0876838025490025,-7.754030567931974,-16.624669285841094,0.38075810971602025,7.889959200538633,-6.073382714148435,-14.329320914690415,-6.027715482391119,-1.4797409791381573,-12.840576311885876,-4.583924173659694,-12.152422372460881,-3.479605185941253,-17.387719751770465,-0.9567265575031555,-8.024678591897926,-10.098334183342029,-8.316106669060597,-14.14383165816775,-13.047507592207515,1.8243880541112456,-4.639838519136999,-4.4372559567096905,-5.978811816229966,-3.0214476171130658,-8.54114895034574,-14.734527615146613,-11.482513587769574,-10.285778380848006,-2.8035261526452406,-3.661751578498495,-11.7688273294167,-5.0305439123223685,-13.933137949460304,-10.466319096045632,-11.458311794547914,-9.669499093623784,-3.6736411647544513,-12.050178549774289,4.623867292372173,-7.491128418796191,-0.3454225339850814,9.337610228592856,-11.24200207896292,-8.479759399218905,-4.021474225631095,-6.656267568038918,-12.330748394551138,-9.413547640139582,-16.07122800294004,6.0994683137522285,9.495813496924017,-1.471827318001265,3.7537971488439763,-10.684570120365652,-3.0942082632418217,5.475173094332062,-14.806645744601177,5.460449010101059,-5.087233449665765,5.285814568836568,-13.923310431390716,12.306184103987489,-14.846609422400338,0.7233986525852584,-3.3809013477312067,-18.39655501611048,-6.0497073077486,-20.799931375073367,7.283528967959352,-4.173269744186463,-15.370688114575797,6.91233314601403,-11.781771805507859,-1.6029381602654398,7.965807183587373,-6.125989384473225,-6.263205836332531,-12.059363695759822,-10.12702444959431,-9.591783046482211,-12.68889055731139,0.543055714288211,-9.497324509686184,4.285603011726804,4.632373185477698,-8.288261041257625,-5.41488521893509,6.088054660636358,-11.311626989721061,6.241894642587258,7.419202920772527,11.54693239475539,5.792814504088565,-4.683128358877115,-10.933496506440658,-13.212129788169152,-7.065976744948185,-11.941755444988416,-13.934206199266383,10.063022756765216,-6.1759834438206616,-2.770209088055727,-0.47906703128664874,-2.9103382547269083,6.264863154701107,-5.295745933885189,-6.976234710641707,-8.00295796166203,-2.29314599141319,-10.634988886034765,-12.979932262329367,1.3324319191418752,-20.033515953157618,2.2402551134018345,-9.259975551618545,-20.218276646198667,5.646477296610877,-13.37930640736232,-2.508706979643959,-15.016261180943667,-3.7338881043355636,3.2130045855167864,6.128207689798704,-8.032893691268045,-6.416189542644061,-1.004837519939486,-12.747837317207438,-2.5658881447810726,-20.611742995222894,-6.480797127025847,-7.413153137721846,-2.724083102249901,3.0450066972783594,9.431762349832107,-12.716091954082989,-2.7356121127876416,6.6479326042142315,-16.959943839539513,-5.245831706198343,4.500575053054012,-2.3507962895794527,-7.525020039816755,-13.197632463449073,-4.665086853059313,-6.952114293621649,3.930264669919396,11.839134384100443,-5.788237263932134,-0.5781626199193743,-3.3030861819977555,-11.750792482000623,-19.525570006663447,6.4651629058840925,-9.976696840498525,3.574984068418544,0.7098163503582623,-9.104351257532311,-8.74487697902725,-4.079823112953692,-11.25075349817113,-11.017608165672911,-16.895623358514595,3.7491267790721756,-9.525905622238477,5.440761740986907,-14.313933734956642,-12.17095781340748,-4.337180983041808,-17.716666323763537,-6.502165975073155,4.936747415079837,-9.097062203021114,-6.026407021678675,-9.715726931955137,-11.55704444190203,-0.7930898103572158,0.7671969298789283,-4.546878271051725,-9.841950742557463,1.1464265090110026,-7.963877833912924,-11.376570482759885,-5.858430791692537,-5.833990419163132,8.926976393240613,2.987742211058202,-8.455865712876676,6.09426707661582,11.479245502104323,3.3646469278764,-2.9337717888651005,-0.3021137410553707,-8.26754231134457,-5.344668100910233,-3.089740081142619,10.478982062103537,-2.4340409882256995,-5.524566887170251,5.339068985425928,-10.549477550732062,3.145295651271312,10.223878165132888,-13.782136507124278,-0.08941539794516049,-10.217378005236334,-6.4275735775605565,-15.566883129931643,-2.6683534316085527,2.5928729715913095,-11.06501804945357,6.715091318401699,-9.562676036169796,8.674868850563032,0.836094188268466,-6.854744151623967,4.516197375949955,3.191226332783055,-18.913312262245007,-8.047029305105967,-3.804039660070933,-5.01707272739177,-2.8945460290537057,4.106047441337523,5.9792194608590865,-4.992171492129939,-7.286625450195053,-5.674128908287697,5.797927405238238,-4.0766242182094174,-8.77778151489699,1.4729314956520065,4.439979033133991,-13.476294031567676,-9.631054638037789,-8.085612197395623,-15.304084091213598,-6.536114636764617,9.34041255557475,-12.836711222031695,6.498616226719247,-13.805791974191763,-20.07388176380659,4.328331796027414,-16.14591897311363,-14.953076378273007,-8.399498214683131,-7.337315338073561,-7.665364158402677,-14.175820568349456,15.167541775898858,-7.240891385103669,-18.225280847142393,-6.120281371413268,-10.446419274401046,-6.443799855054757,-15.293355410134176,9.068049250942405,-9.199900423865497,0.8019054570017647,-5.381969799482666,11.012093301451516,8.480685741002786,-17.346238553060978,-1.9007606812836957,-9.139085407339683,7.907015484805879,-12.577086427474216,12.959613591317169,-10.082430894659261]}},\"id\":\"51388bc1-d965-4e76-b5ae-85877ac0412d\",\"type\":\"ColumnDataSource\"},{\"attributes\":{},\"id\":\"18d41846-d58d-4e26-9a54-0eb19844cf9c\",\"type\":\"ToolEvents\"},{\"attributes\":{\"plot\":{\"id\":\"d51663bd-dd2e-45f2-a7a8-adbe182e7539\",\"subtype\":\"Figure\",\"type\":\"Plot\"},\"ticker\":{\"id\":\"bcb7e520-2ebf-475f-b999-2be9efdb1979\",\"type\":\"BasicTicker\"}},\"id\":\"26e76c89-3a17-43bc-af0a-468e491b0f58\",\"type\":\"Grid\"},{\"attributes\":{\"callback\":null},\"id\":\"027ed9c0-17fe-4f9e-be02-878368decb3c\",\"type\":\"DataRange1d\"},{\"attributes\":{\"bottom_units\":\"screen\",\"fill_alpha\":{\"value\":0.5},\"fill_color\":{\"value\":\"lightgrey\"},\"left_units\":\"screen\",\"level\":\"overlay\",\"line_alpha\":{\"value\":1.0},\"line_color\":{\"value\":\"black\"},\"line_dash\":[4,4],\"line_width\":{\"value\":2},\"plot\":null,\"render_mode\":\"css\",\"right_units\":\"screen\",\"top_units\":\"screen\"},\"id\":\"369c5a32-4f21-48a6-850a-92e99c79c2cb\",\"type\":\"BoxAnnotation\"},{\"attributes\":{},\"id\":\"bcb7e520-2ebf-475f-b999-2be9efdb1979\",\"type\":\"BasicTicker\"},{\"attributes\":{},\"id\":\"24b641ba-9856-49dd-8989-af8585c8ad02\",\"type\":\"BasicTickFormatter\"},{\"attributes\":{\"active_drag\":\"auto\",\"active_scroll\":\"auto\",\"active_tap\":\"auto\",\"tools\":[{\"id\":\"e75ed2f2-b848-43f9-97c6-32a5a8107354\",\"type\":\"HoverTool\"},{\"id\":\"460cf832-359e-498d-a67b-73a13469847e\",\"type\":\"PanTool\"},{\"id\":\"bdcd2482-f462-42d3-b189-8f9606254daf\",\"type\":\"WheelZoomTool\"},{\"id\":\"b2a53b58-a7f9-43d8-9d33-45df0f8e56ce\",\"type\":\"BoxZoomTool\"},{\"id\":\"530859d2-162f-4002-87fa-3aa68c7f394a\",\"type\":\"ResetTool\"},{\"id\":\"aa4a50cd-2da8-4051-8749-64dd14bcb75f\",\"type\":\"SaveTool\"}]},\"id\":\"8dd2081b-c8be-4523-9625-9b32bec58f7e\",\"type\":\"Toolbar\"},{\"attributes\":{\"formatter\":{\"id\":\"4a3e3884-b21f-4283-b1c0-96e13b0f8db1\",\"type\":\"BasicTickFormatter\"},\"plot\":{\"id\":\"d51663bd-dd2e-45f2-a7a8-adbe182e7539\",\"subtype\":\"Figure\",\"type\":\"Plot\"},\"ticker\":{\"id\":\"bcb7e520-2ebf-475f-b999-2be9efdb1979\",\"type\":\"BasicTicker\"}},\"id\":\"3531d357-3471-441e-a35c-cea747ea4718\",\"type\":\"LinearAxis\"},{\"attributes\":{\"plot\":{\"id\":\"d51663bd-dd2e-45f2-a7a8-adbe182e7539\",\"subtype\":\"Figure\",\"type\":\"Plot\"}},\"id\":\"aa4a50cd-2da8-4051-8749-64dd14bcb75f\",\"type\":\"SaveTool\"},{\"attributes\":{\"callback\":null},\"id\":\"eb2dbee7-2d7c-4671-842f-17683eb160a4\",\"type\":\"DataRange1d\"},{\"attributes\":{},\"id\":\"4a3e3884-b21f-4283-b1c0-96e13b0f8db1\",\"type\":\"BasicTickFormatter\"},{\"attributes\":{},\"id\":\"2c2fbea0-bd03-41c9-9be0-f8fa6dd50496\",\"type\":\"BasicTicker\"},{\"attributes\":{\"dimension\":1,\"plot\":{\"id\":\"d51663bd-dd2e-45f2-a7a8-adbe182e7539\",\"subtype\":\"Figure\",\"type\":\"Plot\"},\"ticker\":{\"id\":\"2c2fbea0-bd03-41c9-9be0-f8fa6dd50496\",\"type\":\"BasicTicker\"}},\"id\":\"833f7c0d-3799-4580-9813-7bcd1365668f\",\"type\":\"Grid\"},{\"attributes\":{\"fill_alpha\":{\"value\":0.2},\"fill_color\":{\"value\":\"navy\"},\"line_color\":{\"value\":\"navy\"},\"size\":{\"units\":\"screen\",\"value\":10},\"x\":{\"field\":\"x\"},\"y\":{\"field\":\"y\"}},\"id\":\"5cc0cdcf-c78a-4e99-9907-6fa32c8ba4b2\",\"type\":\"Circle\"}],\"root_ids\":[\"d51663bd-dd2e-45f2-a7a8-adbe182e7539\"]},\"title\":\"Bokeh Application\",\"version\":\"0.12.0\"}};\n",
       "            var render_items = [{\"docid\":\"28d28afd-93cb-4f48-b514-7b1952e87bb4\",\"elementid\":\"2bedc7fe-150b-419c-83f8-f6505358e1b1\",\"modelid\":\"d51663bd-dd2e-45f2-a7a8-adbe182e7539\",\"notebook_comms_target\":\"420dbde4-3888-46e8-8dff-c84f534dc677\"}];\n",
       "            \n",
       "            Bokeh.embed.embed_items(docs_json, render_items);\n",
       "        });\n",
       "      },\n",
       "      function(Bokeh) {\n",
       "      }\n",
       "    ];\n",
       "  \n",
       "    function run_inline_js() {\n",
       "      for (var i = 0; i < inline_js.length; i++) {\n",
       "        inline_js[i](window.Bokeh);\n",
       "      }\n",
       "    }\n",
       "  \n",
       "    if (window._bokeh_is_loading === 0) {\n",
       "      console.log(\"Bokeh: BokehJS loaded, going straight to plotting\");\n",
       "      run_inline_js();\n",
       "    } else {\n",
       "      load_libs(js_urls, function() {\n",
       "        console.log(\"Bokeh: BokehJS plotting callback run at\", now());\n",
       "        run_inline_js();\n",
       "      });\n",
       "    }\n",
       "  }(this));\n",
       "</script>"
      ]
     },
     "metadata": {},
     "output_type": "display_data"
    },
    {
     "data": {
      "text/html": [
       "<p><code>&lt;Bokeh Notebook handle for <strong>In[29]</strong>&gt;</code></p>"
      ],
      "text/plain": [
       "<bokeh.io._CommsHandle at 0x7fccc7890400>"
      ]
     },
     "execution_count": 29,
     "metadata": {},
     "output_type": "execute_result"
    }
   ],
   "source": [
    "import numpy as np\n",
    "words = list(words_to_plot.keys())\n",
    "range_words=list(range(1,len(words)+1))\n",
    "\n",
    "source = ColumnDataSource(data=dict(range_words=range_words,\n",
    "                                    words=words,\n",
    "                                    x=low_dim_embs[:,0], \n",
    "                                    y=low_dim_embs[:,1]))\n",
    "\n",
    "hover = HoverTool()\n",
    "hover.point_policy = \"follow_mouse\"\n",
    "hover = HoverTool(\n",
    "        tooltips=[\n",
    "            (\"words\", \"@words\"),\n",
    "        ]\n",
    "    )\n",
    "\n",
    "TOOLS=\"pan,wheel_zoom,box_zoom,reset,save\"\n",
    "\n",
    "\n",
    "p = figure(title = \"Word visualization\", tools=[TOOLS, hover])\n",
    "p.circle('x', 'y', source=source, fill_alpha=0.2, size=10, color='navy')\n",
    "\n",
    "show(p)"
   ]
  },
  {
   "cell_type": "code",
   "execution_count": 34,
   "metadata": {
    "collapsed": true
   },
   "outputs": [],
   "source": [
    "def tokenize_dataset(tokenizer, dataset):\n",
    "    tokenize_dataset = []\n",
    "    for tweet in dataset:\n",
    "        # Replace different numbers with a token\n",
    "        tweet = re.sub(r\"\\.\\d+\\s*\", \".<number> \", tweet)\n",
    "        tweet = re.sub(r\"\\d+\\s*\", \" <number> \", tweet)\n",
    "        tokens = tokenizer(tweet)\n",
    "        tokenize_dataset.append(tokens)\n",
    "    return tokenize_dataset"
   ]
  },
  {
   "cell_type": "code",
   "execution_count": 35,
   "metadata": {
    "collapsed": false
   },
   "outputs": [],
   "source": [
    "X_train_tokenized = tokenize_dataset(TweetTokenizer().tokenize, X_train)\n",
    "X_test_tokenized = tokenize_dataset(TweetTokenizer().tokenize, X_test)"
   ]
  },
  {
   "cell_type": "code",
   "execution_count": 87,
   "metadata": {
    "collapsed": false
   },
   "outputs": [],
   "source": [
    "X_train_GloVe = []\n",
    "for tweet in X_train_tokenized:\n",
    "    tweet_GloVe = []\n",
    "    for word in tweet:\n",
    "        if word in glove_25:\n",
    "            tweet_GloVe.append(glove_25[word])\n",
    "    if not tweet_GloVe:\n",
    "        tweet_GloVe.append(np.zeros(25))\n",
    "    # Each tweet would have a different number of words and ML techniques requiere fixed inputs. \n",
    "    X_train_GloVe.append(np.mean(np.asarray(tweet_GloVe, dtype=np.float32), axis=0))"
   ]
  },
  {
   "cell_type": "code",
   "execution_count": 86,
   "metadata": {
    "collapsed": false
   },
   "outputs": [],
   "source": [
    "X_test_GloVe = []\n",
    "for tweet in X_test_tokenized:\n",
    "    tweet_GloVe = []\n",
    "    for word in tweet:\n",
    "        if word in glove_25:\n",
    "            tweet_GloVe.append(glove_25[word])\n",
    "    if not tweet_GloVe:\n",
    "        tweet_GloVe.append(np.zeros(25))\n",
    "    # Each tweet would have a different number of words and ML techniques requiere fixed inputs.\n",
    "    X_test_GloVe.append(np.mean(np.asarray(tweet_GloVe, dtype=np.float32), axis=0))"
   ]
  },
  {
   "cell_type": "markdown",
   "metadata": {},
   "source": [
    "## 2.2. Pretrained data using Word2vec"
   ]
  },
  {
   "cell_type": "markdown",
   "metadata": {},
   "source": [
    "Pre-trained word and phrase vectors\n",
    "\n",
    "We are publishing pre-trained vectors trained on part of Google News dataset (about 100 billion words). The model contains 300-dimensional vectors for 3 million words and phrases. The phrases were obtained using a simple data-driven approach described in [2]. The archive is available here: GoogleNews-vectors-negative300.bin.gz."
   ]
  },
  {
   "cell_type": "markdown",
   "metadata": {},
   "source": [
    "## 2.3. But I want to train word embeddings with my own data!"
   ]
  },
  {
   "cell_type": "code",
   "execution_count": 36,
   "metadata": {
    "collapsed": true
   },
   "outputs": [],
   "source": [
    "from gensim.models import word2vec"
   ]
  },
  {
   "cell_type": "code",
   "execution_count": 53,
   "metadata": {
    "collapsed": false
   },
   "outputs": [],
   "source": [
    "# Initialize and train the model (this will take some time)\n",
    "model = word2vec.Word2Vec(X_train_tokenized, \n",
    "                          workers=4,\n",
    "                          size=300,  \n",
    "                          min_count = 1, # How many times a word should appear to be taken into account\n",
    "                          window = 5, \n",
    "                          sample = downsampling)\n",
    "\n",
    "# This model won't be updated\n",
    "model.init_sims(replace=True)\n",
    "\n",
    "model_name = \"word2vec\"\n",
    "model.save(model_name)"
   ]
  },
  {
   "cell_type": "code",
   "execution_count": 54,
   "metadata": {
    "collapsed": false,
    "scrolled": true
   },
   "outputs": [
    {
     "data": {
      "text/plain": [
       "(4193, 300)"
      ]
     },
     "execution_count": 54,
     "metadata": {},
     "output_type": "execute_result"
    }
   ],
   "source": [
    "model.syn0.shape"
   ]
  },
  {
   "cell_type": "code",
   "execution_count": 64,
   "metadata": {
    "collapsed": false
   },
   "outputs": [],
   "source": [
    "from sklearn.manifold import TSNE\n",
    "\n",
    "tsne = TSNE(perplexity=30, n_components=2, init='pca', n_iter=5000)\n",
    "words_to_plot, unseen_words = get_words_to_plot(1000, model)\n",
    "\n",
    "low_dim_embs = tsne.fit_transform(list(words_to_plot.values()))"
   ]
  },
  {
   "cell_type": "code",
   "execution_count": 65,
   "metadata": {
    "collapsed": false
   },
   "outputs": [
    {
     "data": {
      "text/html": [
       "\n",
       "\n",
       "    <div class=\"bk-root\">\n",
       "        <div class=\"plotdiv\" id=\"3ff6b0c4-99c9-4103-8feb-ff43f5dc7fe4\"></div>\n",
       "    </div>\n",
       "<script type=\"text/javascript\">\n",
       "  \n",
       "  (function(global) {\n",
       "    function now() {\n",
       "      return new Date();\n",
       "    }\n",
       "  \n",
       "    if (typeof (window._bokeh_onload_callbacks) === \"undefined\") {\n",
       "      window._bokeh_onload_callbacks = [];\n",
       "    }\n",
       "  \n",
       "    function run_callbacks() {\n",
       "      window._bokeh_onload_callbacks.forEach(function(callback) { callback() });\n",
       "      delete window._bokeh_onload_callbacks\n",
       "      console.info(\"Bokeh: all callbacks have finished\");\n",
       "    }\n",
       "  \n",
       "    function load_libs(js_urls, callback) {\n",
       "      window._bokeh_onload_callbacks.push(callback);\n",
       "      if (window._bokeh_is_loading > 0) {\n",
       "        console.log(\"Bokeh: BokehJS is being loaded, scheduling callback at\", now());\n",
       "        return null;\n",
       "      }\n",
       "      if (js_urls == null || js_urls.length === 0) {\n",
       "        run_callbacks();\n",
       "        return null;\n",
       "      }\n",
       "      console.log(\"Bokeh: BokehJS not loaded, scheduling load and callback at\", now());\n",
       "      window._bokeh_is_loading = js_urls.length;\n",
       "      for (var i = 0; i < js_urls.length; i++) {\n",
       "        var url = js_urls[i];\n",
       "        var s = document.createElement('script');\n",
       "        s.src = url;\n",
       "        s.async = false;\n",
       "        s.onreadystatechange = s.onload = function() {\n",
       "          window._bokeh_is_loading--;\n",
       "          if (window._bokeh_is_loading === 0) {\n",
       "            console.log(\"Bokeh: all BokehJS libraries loaded\");\n",
       "            run_callbacks()\n",
       "          }\n",
       "        };\n",
       "        s.onerror = function() {\n",
       "          console.warn(\"failed to load library \" + url);\n",
       "        };\n",
       "        console.log(\"Bokeh: injecting script tag for BokehJS library: \", url);\n",
       "        document.getElementsByTagName(\"head\")[0].appendChild(s);\n",
       "      }\n",
       "    };var element = document.getElementById(\"3ff6b0c4-99c9-4103-8feb-ff43f5dc7fe4\");\n",
       "    if (element == null) {\n",
       "      console.log(\"Bokeh: ERROR: autoload.js configured with elementid '3ff6b0c4-99c9-4103-8feb-ff43f5dc7fe4' but no matching script tag was found. \")\n",
       "      return false;\n",
       "    }\n",
       "  \n",
       "    var js_urls = [];\n",
       "  \n",
       "    var inline_js = [\n",
       "      function(Bokeh) {\n",
       "        Bokeh.$(function() {\n",
       "            var docs_json = {\"1908b354-607a-4f3f-9353-ad4ec2f5fa50\":{\"roots\":{\"references\":[{\"attributes\":{\"callback\":null,\"plot\":{\"id\":\"23394b50-fb43-4cea-b7dc-0ca3f4cbb322\",\"subtype\":\"Figure\",\"type\":\"Plot\"},\"tooltips\":[[\"words\",\"@words\"]]},\"id\":\"99189e56-2b7a-4afb-a1b8-af7a2161d6d8\",\"type\":\"HoverTool\"},{\"attributes\":{\"callback\":null},\"id\":\"d563f402-6b12-4201-b396-efc460b988fa\",\"type\":\"DataRange1d\"},{\"attributes\":{\"plot\":{\"id\":\"23394b50-fb43-4cea-b7dc-0ca3f4cbb322\",\"subtype\":\"Figure\",\"type\":\"Plot\"},\"ticker\":{\"id\":\"d2bf8b6c-ed8d-4ba0-a4b4-c0593cefc3f6\",\"type\":\"BasicTicker\"}},\"id\":\"e40ab79d-70d2-4c2e-a8d1-f28798787d41\",\"type\":\"Grid\"},{\"attributes\":{\"plot\":{\"id\":\"23394b50-fb43-4cea-b7dc-0ca3f4cbb322\",\"subtype\":\"Figure\",\"type\":\"Plot\"}},\"id\":\"d7e7e8af-5659-4f28-8aa1-0232e629b4fb\",\"type\":\"ResetTool\"},{\"attributes\":{\"overlay\":{\"id\":\"81a90086-cbb8-40c5-abd9-09498913b4db\",\"type\":\"BoxAnnotation\"},\"plot\":{\"id\":\"23394b50-fb43-4cea-b7dc-0ca3f4cbb322\",\"subtype\":\"Figure\",\"type\":\"Plot\"}},\"id\":\"cfe01d57-7953-4dba-9749-a7b83b67b8b4\",\"type\":\"BoxZoomTool\"},{\"attributes\":{\"fill_alpha\":{\"value\":0.2},\"fill_color\":{\"value\":\"navy\"},\"line_color\":{\"value\":\"navy\"},\"size\":{\"units\":\"screen\",\"value\":10},\"x\":{\"field\":\"x\"},\"y\":{\"field\":\"y\"}},\"id\":\"9f336b5f-8c95-4af0-8b07-75fc6b710873\",\"type\":\"Circle\"},{\"attributes\":{\"active_drag\":\"auto\",\"active_scroll\":\"auto\",\"active_tap\":\"auto\",\"tools\":[{\"id\":\"99189e56-2b7a-4afb-a1b8-af7a2161d6d8\",\"type\":\"HoverTool\"},{\"id\":\"698bce1e-cafe-4ecd-97f4-1684af5c4310\",\"type\":\"PanTool\"},{\"id\":\"2bcefeed-42cb-47f6-8c96-ad546ee3003f\",\"type\":\"WheelZoomTool\"},{\"id\":\"cfe01d57-7953-4dba-9749-a7b83b67b8b4\",\"type\":\"BoxZoomTool\"},{\"id\":\"d7e7e8af-5659-4f28-8aa1-0232e629b4fb\",\"type\":\"ResetTool\"},{\"id\":\"5713429d-a2d7-4532-a186-efe3cf089267\",\"type\":\"SaveTool\"}]},\"id\":\"9a97f160-098c-43c4-9fa0-d2e4597ed544\",\"type\":\"Toolbar\"},{\"attributes\":{},\"id\":\"fd51cfd0-dd9c-477a-835b-1285cfaedc16\",\"type\":\"ToolEvents\"},{\"attributes\":{\"formatter\":{\"id\":\"faf14bcf-4333-458e-be54-7d47d0d0adc5\",\"type\":\"BasicTickFormatter\"},\"plot\":{\"id\":\"23394b50-fb43-4cea-b7dc-0ca3f4cbb322\",\"subtype\":\"Figure\",\"type\":\"Plot\"},\"ticker\":{\"id\":\"04f8a980-6536-4a8f-aca9-70a67a2f1801\",\"type\":\"BasicTicker\"}},\"id\":\"682d63d4-f3f9-4c55-a157-d7e514b5d8cd\",\"type\":\"LinearAxis\"},{\"attributes\":{\"dimension\":1,\"plot\":{\"id\":\"23394b50-fb43-4cea-b7dc-0ca3f4cbb322\",\"subtype\":\"Figure\",\"type\":\"Plot\"},\"ticker\":{\"id\":\"04f8a980-6536-4a8f-aca9-70a67a2f1801\",\"type\":\"BasicTicker\"}},\"id\":\"2af50e0d-bc78-46e2-9d98-e1c92600073a\",\"type\":\"Grid\"},{\"attributes\":{\"plot\":{\"id\":\"23394b50-fb43-4cea-b7dc-0ca3f4cbb322\",\"subtype\":\"Figure\",\"type\":\"Plot\"}},\"id\":\"5713429d-a2d7-4532-a186-efe3cf089267\",\"type\":\"SaveTool\"},{\"attributes\":{\"below\":[{\"id\":\"f47f5681-d5b7-4943-bdb0-b9a4aae18c8e\",\"type\":\"LinearAxis\"}],\"left\":[{\"id\":\"682d63d4-f3f9-4c55-a157-d7e514b5d8cd\",\"type\":\"LinearAxis\"}],\"renderers\":[{\"id\":\"f47f5681-d5b7-4943-bdb0-b9a4aae18c8e\",\"type\":\"LinearAxis\"},{\"id\":\"e40ab79d-70d2-4c2e-a8d1-f28798787d41\",\"type\":\"Grid\"},{\"id\":\"682d63d4-f3f9-4c55-a157-d7e514b5d8cd\",\"type\":\"LinearAxis\"},{\"id\":\"2af50e0d-bc78-46e2-9d98-e1c92600073a\",\"type\":\"Grid\"},{\"id\":\"81a90086-cbb8-40c5-abd9-09498913b4db\",\"type\":\"BoxAnnotation\"},{\"id\":\"39dfb5b5-0534-480a-8092-a98cf1cb50c1\",\"type\":\"GlyphRenderer\"}],\"title\":{\"id\":\"467ea5ce-b92b-42fd-9fbb-ccfc7f9975b2\",\"type\":\"Title\"},\"tool_events\":{\"id\":\"fd51cfd0-dd9c-477a-835b-1285cfaedc16\",\"type\":\"ToolEvents\"},\"toolbar\":{\"id\":\"9a97f160-098c-43c4-9fa0-d2e4597ed544\",\"type\":\"Toolbar\"},\"x_range\":{\"id\":\"9d18a875-0f2e-49a2-900f-724df7579092\",\"type\":\"DataRange1d\"},\"y_range\":{\"id\":\"d563f402-6b12-4201-b396-efc460b988fa\",\"type\":\"DataRange1d\"}},\"id\":\"23394b50-fb43-4cea-b7dc-0ca3f4cbb322\",\"subtype\":\"Figure\",\"type\":\"Plot\"},{\"attributes\":{\"plot\":{\"id\":\"23394b50-fb43-4cea-b7dc-0ca3f4cbb322\",\"subtype\":\"Figure\",\"type\":\"Plot\"}},\"id\":\"2bcefeed-42cb-47f6-8c96-ad546ee3003f\",\"type\":\"WheelZoomTool\"},{\"attributes\":{\"plot\":{\"id\":\"23394b50-fb43-4cea-b7dc-0ca3f4cbb322\",\"subtype\":\"Figure\",\"type\":\"Plot\"}},\"id\":\"698bce1e-cafe-4ecd-97f4-1684af5c4310\",\"type\":\"PanTool\"},{\"attributes\":{\"fill_alpha\":{\"value\":0.1},\"fill_color\":{\"value\":\"#1f77b4\"},\"line_alpha\":{\"value\":0.1},\"line_color\":{\"value\":\"#1f77b4\"},\"size\":{\"units\":\"screen\",\"value\":10},\"x\":{\"field\":\"x\"},\"y\":{\"field\":\"y\"}},\"id\":\"df8ad5d1-d685-49c3-8389-6a4076771da5\",\"type\":\"Circle\"},{\"attributes\":{},\"id\":\"faf14bcf-4333-458e-be54-7d47d0d0adc5\",\"type\":\"BasicTickFormatter\"},{\"attributes\":{\"data_source\":{\"id\":\"4e2ab7da-8848-4a79-bdf8-5debedf338b4\",\"type\":\"ColumnDataSource\"},\"glyph\":{\"id\":\"9f336b5f-8c95-4af0-8b07-75fc6b710873\",\"type\":\"Circle\"},\"hover_glyph\":null,\"nonselection_glyph\":{\"id\":\"df8ad5d1-d685-49c3-8389-6a4076771da5\",\"type\":\"Circle\"},\"selection_glyph\":null},\"id\":\"39dfb5b5-0534-480a-8092-a98cf1cb50c1\",\"type\":\"GlyphRenderer\"},{\"attributes\":{},\"id\":\"04f8a980-6536-4a8f-aca9-70a67a2f1801\",\"type\":\"BasicTicker\"},{\"attributes\":{\"bottom_units\":\"screen\",\"fill_alpha\":{\"value\":0.5},\"fill_color\":{\"value\":\"lightgrey\"},\"left_units\":\"screen\",\"level\":\"overlay\",\"line_alpha\":{\"value\":1.0},\"line_color\":{\"value\":\"black\"},\"line_dash\":[4,4],\"line_width\":{\"value\":2},\"plot\":null,\"render_mode\":\"css\",\"right_units\":\"screen\",\"top_units\":\"screen\"},\"id\":\"81a90086-cbb8-40c5-abd9-09498913b4db\",\"type\":\"BoxAnnotation\"},{\"attributes\":{\"formatter\":{\"id\":\"3ee3d2eb-c642-4133-ba65-5f8ebfb18bb2\",\"type\":\"BasicTickFormatter\"},\"plot\":{\"id\":\"23394b50-fb43-4cea-b7dc-0ca3f4cbb322\",\"subtype\":\"Figure\",\"type\":\"Plot\"},\"ticker\":{\"id\":\"d2bf8b6c-ed8d-4ba0-a4b4-c0593cefc3f6\",\"type\":\"BasicTicker\"}},\"id\":\"f47f5681-d5b7-4943-bdb0-b9a4aae18c8e\",\"type\":\"LinearAxis\"},{\"attributes\":{},\"id\":\"d2bf8b6c-ed8d-4ba0-a4b4-c0593cefc3f6\",\"type\":\"BasicTicker\"},{\"attributes\":{\"callback\":null,\"column_names\":[\"range_words\",\"words\",\"y\",\"x\"],\"data\":{\"range_words\":[1,2,3,4,5,6,7,8,9,10,11,12,13,14,15,16,17,18,19,20,21,22,23,24,25,26,27,28,29,30,31,32,33,34,35,36,37,38,39,40,41,42,43,44,45,46,47,48,49,50,51,52,53,54,55,56,57,58,59,60,61,62,63,64,65,66,67,68,69,70,71,72,73,74,75,76,77,78,79,80,81,82,83,84,85,86,87,88,89,90,91,92,93,94,95,96,97,98,99,100,101,102,103,104,105,106,107,108,109,110,111,112,113,114,115,116,117,118,119,120,121,122,123,124,125,126,127,128,129,130,131,132,133,134,135,136,137,138,139,140,141,142,143,144,145,146,147,148,149,150,151,152,153,154,155,156,157,158,159,160,161,162,163,164,165,166,167,168,169,170,171,172,173,174,175,176,177,178,179,180,181,182,183,184,185,186,187,188,189,190,191,192,193,194,195,196,197,198,199,200,201,202,203,204,205,206,207,208,209,210,211,212,213,214,215,216,217,218,219,220,221,222,223,224,225,226,227,228,229,230,231,232,233,234,235,236,237,238,239,240,241,242,243,244,245,246,247,248,249,250,251,252,253,254,255,256,257,258,259,260,261,262,263,264,265,266,267,268,269,270,271,272,273,274,275,276,277,278,279,280,281,282,283,284,285,286,287,288,289,290,291,292,293,294,295,296,297,298,299,300,301,302,303,304,305,306,307,308,309,310,311,312,313,314,315,316,317,318,319,320,321,322,323,324,325,326,327,328,329,330,331,332,333,334,335,336,337,338,339,340,341,342,343,344,345,346,347,348,349,350,351,352,353,354,355,356,357,358,359,360,361,362,363,364,365,366,367,368,369,370,371,372,373,374,375,376,377,378,379,380,381,382,383,384,385,386,387,388,389,390,391,392,393,394,395,396,397,398,399,400,401,402,403,404,405,406,407,408,409,410,411,412,413,414,415,416,417,418,419,420,421,422,423,424,425,426,427,428,429,430,431,432,433,434,435,436,437,438,439,440,441,442,443,444,445,446,447,448,449,450,451,452,453,454,455,456,457,458,459,460,461,462,463,464,465,466,467,468,469,470,471,472,473,474,475,476,477,478,479,480,481,482,483,484,485,486,487,488,489,490,491,492,493,494,495,496,497,498,499,500,501,502,503,504,505,506,507,508,509,510,511,512,513,514,515,516,517,518,519,520,521,522,523,524,525,526,527,528,529,530,531,532,533,534,535,536,537,538,539,540,541,542,543,544,545,546,547,548,549,550,551,552,553,554,555,556,557,558,559,560,561,562,563,564,565,566,567,568,569,570,571,572,573,574,575,576,577,578,579,580,581,582,583,584,585,586,587,588,589,590,591,592,593,594,595,596,597,598,599,600,601,602,603,604,605,606,607,608,609,610,611,612,613,614,615,616,617,618,619,620,621,622,623,624,625,626,627,628,629,630,631,632,633,634,635,636,637,638,639,640,641,642,643,644,645,646,647,648,649,650,651,652,653,654,655,656,657,658,659,660,661,662,663,664,665,666,667,668,669,670,671,672,673,674,675,676,677,678,679,680,681,682,683,684,685,686,687,688,689,690,691,692,693,694,695,696,697,698,699,700,701,702,703,704,705,706,707,708,709,710,711,712,713,714,715,716,717,718,719,720,721,722,723,724,725,726,727,728,729,730,731,732,733,734,735],\"words\":[\"remember\",\"computer\",\"shit\",\"computers\",\"something\",\"reading\",\"wake\",\"lovely\",\"junior\",\"w\",\"indeed\",\"mmds\",\"versions\",\"seen\",\"speaking\",\"team\",\"reinforcement\",\"progress\",\"challenge\",\"times\",\"networks\",\"hours\",\"company\",\"closing\",\"performance\",\"nearly\",\"accessible\",\"pydata\",\"color\",\"san\",\"great\",\"path\",\"fun\",\"presidential\",\"book\",\"analysis\",\"honestly\",\"around\",\"war\",\"meeting\",\"academia\",\"toronto\",\"way\",\"folks\",\"birthday\",\"made\",\"waiting\",\"gallery\",\"right\",\"class\",\"thought\",\"glass\",\"education\",\"statistical\",\"meet\",\"canada\",\"key\",\"awesome\",\"unedited\",\"completely\",\"impressive\",\"keep\",\"search\",\"speakers\",\"lunch\",\"luck\",\"etc\",\"joint\",\"overwhelming\",\"space\",\"factory\",\"send\",\"changed\",\"says\",\"papers\",\"get\",\"head\",\"instead\",\"commitment\",\"vienna\",\"form\",\"hello\",\"tried\",\"works\",\"natural\",\"kind\",\"last\",\"via\",\"listening\",\"de\",\"weeks\",\"hey\",\"leave\",\"uk\",\"distributed\",\"approach\",\"back\",\"q\",\"lots\",\"level\",\"involved\",\"old\",\"shout\",\"think\",\"fine\",\"red\",\"released\",\"hand\",\"research\",\"needs\",\"mind\",\"ago\",\"possible\",\"group\",\"understand\",\"rules\",\"dear\",\"image\",\"fit\",\"call\",\"sprint\",\"started\",\"looking\",\"man\",\"brexit\",\"web\",\"factorization\",\"skills\",\"quite\",\"things\",\"lightning\",\"slides\",\"mostly\",\"friend\",\"booth\",\"summer\",\"check\",\"tutorial\",\"excited\",\"sure\",\"technical\",\"week\",\"women\",\"pass\",\"went\",\"beta\",\"victims\",\"github\",\"role\",\"dadaist\",\"simple\",\"provide\",\"god\",\"following\",\"hiring\",\"linux\",\"making\",\"workshop\",\"message\",\"pypi\",\"tell\",\"mid\",\"omg\",\"believe\",\"posted\",\"sklearn\",\"pm\",\"docs\",\"turned\",\"go\",\"congrats\",\"bring\",\"consider\",\"conference\",\"actually\",\"schedule\",\"learning\",\"may\",\"case\",\"classification\",\"model\",\"title\",\"love\",\"watching\",\"version\",\"first\",\"discussion\",\"int\",\"deep\",\"guy\",\"dance\",\"know\",\"twitter\",\"list\",\"ff\",\"stop\",\"print_statement\",\"room\",\"bars\",\"cluster\",\"sustainable\",\"software\",\"reason\",\"different\",\"many\",\"excellent\",\"comes\",\"join\",\"map\",\"log\",\"show\",\"engineer\",\"miss\",\"loss\",\"board\",\"coding\",\"seems\",\"engineering\",\"sad\",\"life\",\"heart\",\"stay\",\"series\",\"systems\",\"whole\",\"google\",\"happen\",\"month\",\"introduction\",\"k\",\"python\",\"yup\",\"wait\",\"vs\",\"json\",\"idea\",\"baby\",\"storytelling\",\"features\",\"text\",\"money\",\"hour\",\"top\",\"also\",\"thanks\",\"register\",\"changes\",\"free\",\"eee\",\"random\",\"training\",\"dataviz\",\"big\",\"style\",\"true\",\"announce\",\"install\",\"live\",\"feedback\",\"tickets\",\"feel\",\"enjoy\",\"end\",\"personal\",\"used\",\"touch\",\"wow\",\"point\",\"would\",\"numpy\",\"debugging\",\"intro\",\"finish\",\"explaining\",\"easier\",\"person\",\"published\",\"outreach\",\"dask\",\"home\",\"h\",\"ploop\",\"definitely\",\"tho\",\"package\",\"b\",\"experience\",\"enjoyed\",\"<number>\",\"internet\",\"quick\",\"well\",\"apparently\",\"look\",\"notebook\",\"summit\",\"hard\",\"took\",\"someone\",\"getting\",\"please\",\"machine\",\"pure\",\"probably\",\"directors\",\"easy\",\"taking\",\"fast\",\"police\",\"starting\",\"looks\",\"icml\",\"windows\",\"best\",\"diversity\",\"maybe\",\"got\",\"email\",\"interview\",\"validation\",\"source\",\"two\",\"teaching\",\"v\",\"enough\",\"thx\",\"mean\",\"non\",\"mcpenface\",\"lady\",\"exciting\",\"morning\",\"students\",\"part\",\"interesting\",\"future\",\"link\",\"use\",\"new\",\"results\",\"movie\",\"final\",\"advice\",\"proposals\",\"anything\",\"library\",\"talks\",\"material\",\"amazing\",\"documentary\",\"post\",\"side\",\"less\",\"sf\",\"surprised\",\"learn\",\"question\",\"dl\",\"wrote\",\"make\",\"decline\",\"every\",\"decoders\",\"night\",\"neural\",\"programming\",\"met\",\"figure\",\"average\",\"read\",\"build\",\"questions\",\"issues\",\"nilearn\",\"l\",\"th\",\"even\",\"update\",\"heard\",\"recently\",\"longer\",\"datasets\",\"review\",\"c\",\"award\",\"must\",\"others\",\"tweets\",\"position\",\"data\",\"projects\",\"people\",\"brain\",\"mail\",\"going\",\"since\",\"major\",\"job\",\"doc\",\"study\",\"never\",\"yes\",\"friends\",\"automl\",\"wear\",\"explained\",\"weekend\",\"super\",\"example\",\"memory\",\"paris\",\"lose\",\"pro\",\"js\",\"another\",\"useful\",\"production\",\"behind\",\"oh\",\"notebooks\",\"myth\",\"away\",\"guess\",\"yeah\",\"thinking\",\"linear\",\"time\",\"url\",\"repo\",\"take\",\"auction\",\"single\",\"hope\",\"come\",\"need\",\"empirical\",\"open\",\"terrible\",\"better\",\"place\",\"without\",\"us\",\"speak\",\"generative\",\"run\",\"university\",\"real\",\"german\",\"social\",\"hoodie\",\"together\",\"past\",\"starts\",\"translate\",\"okay\",\"telling\",\"x\",\"algebra\",\"give\",\"scientific\",\"ml\",\"dc\",\"pycon\",\"__past__\",\"hate\",\"seattle\",\"optimization\",\"models\",\"nice\",\"forward\",\"thing\",\"http\",\"numfocus\",\"pip\",\"finally\",\"videos\",\"related\",\"next\",\"try\",\"running\",\"hear\",\"nginx\",\"challenges\",\"wrong\",\"methods\",\"tweet\",\"written\",\"ppl\",\"good\",\"matplotlib\",\"joblib\",\"based\",\"haha\",\"qgis\",\"online\",\"wish\",\"find\",\"say\",\"lot\",\"pop\",\"minutes\",\"though\",\"maps\",\"ht\",\"long\",\"soon\",\"french\",\"game\",\"rejection\",\"due\",\"explains\",\"important\",\"design\",\"day\",\"front\",\"goes\",\"deploys\",\"control\",\"tutorials\",\"documentation\",\"congratulations\",\"high\",\"third\",\"stuff\",\"tomorrow\",\"viz\",\"_\",\"line\",\"https\",\"poster\",\"files\",\"wants\",\"family\",\"note\",\"always\",\"p\",\"journal\",\"start\",\"park\",\"application\",\"mysql\",\"early\",\"paper\",\"names\",\"history\",\"kate\",\"party\",\"api\",\"reviewer\",\"help\",\"available\",\"posts\",\"tonight\",\"watch\",\"tech\",\"upgrade\",\"htt\",\"powell\",\"one\",\"could\",\"gradient\",\"playing\",\"ever\",\"thank\",\"images\",\"see\",\"mention\",\"set\",\"details\",\"working\",\"function\",\"machines\",\"users\",\"video\",\"election\",\"lab\",\"books\",\"submit\",\"wonderful\",\"sorry\",\"power\",\"beginners\",\"similar\",\"literally\",\"u\",\"scipy\",\"interactive\",\"james\",\"learned\",\"chat\",\"scaling\",\"little\",\"eu\",\"examples\",\"summary\",\"world\",\"strangers\",\"might\",\"proceedings\",\"program\",\"favorite\",\"jupyter\",\"everyone\",\"words\",\"beautiful\",\"makes\",\"woman\",\"edition\",\"blog\",\"fly\",\"tools\",\"support\",\"change\",\"ai\",\"guidelines\",\"saw\",\"error\",\"large\",\"diverse\",\"demo\",\"regression\",\"frank\",\"language\",\"runs\",\"valley\",\"late\",\"pay\",\"yesterday\",\"year\",\"happy\",\"architecture\",\"holy\",\"word\",\"years\",\"saying\",\"logistic\",\"issue\",\"done\",\"computing\",\"practice\",\"welcome\",\"write\",\"scale\",\"audience\",\"bad\",\"pretty\",\"goals\",\"hair\",\"updated\",\"work\",\"science\",\"already\",\"fmri\",\"days\",\"user\",\"put\",\"info\",\"plugin\",\"psf\",\"neuroimaging\",\"presented\",\"piece\",\"ready\",\"anaconda\",\"add\",\"test\",\"terrifying\",\"git\",\"yet\",\"app\",\"cool\",\"keynote\",\"country\",\"still\",\"amd\",\"monday\",\"glad\",\"lines\",\"laptop\",\"dude\",\"management\",\"anyone\",\"like\",\"release\",\"peer\",\"called\",\"become\",\"want\",\"import\",\"giving\",\"g\",\"course\",\"problem\",\"project\",\"song\",\"event\",\"reproducibility\",\"today\",\"july\",\"left\",\"conda\",\"sparsity\",\"e\",\"matrix\",\"talk\",\"trying\",\"f\",\"r\",\"feature\",\"building\",\"interested\",\"article\",\"guys\",\"name\",\"code\",\"ipython\",\"really\",\"preprint\",\"much\",\"cc\",\"faster\",\"state\",\"using\",\"community\",\"full\",\"rt\",\"far\",\"takes\",\"analytics\",\"locke\",\"implementation\",\"coming\",\"tensorflow\",\"access\",\"totally\"],\"x\":[-14.892911601328304,-35.27775995555921,1.511815959614044,-27.80424344399205,-26.522993612570847,15.11210585168048,-11.215583298853714,-14.427040509428306,-23.607517653011843,-36.006317295067184,13.469516149257034,11.055777781987647,-39.802062820187416,-42.45193566804354,-2.551702986476833,-24.525288509704662,-21.12107757396328,-40.04836628252973,20.676223925580157,-34.7868169628029,-9.101914151777986,-0.7192403936410823,-26.63921767137189,-52.29067617032477,-12.204734107876554,-6.397815565584761,4.351754509229942,-17.966948267970835,19.768516870393118,-45.33711073100343,-44.878184460776126,-38.788498805234056,-22.02051540747837,-41.98195832659083,-20.025548214391396,-6.816635207467734,7.031217566016543,-23.343013560924856,25.888572698646698,-33.91635467693796,-10.768856961923802,-45.244966712188244,-46.052891370465275,-22.644172500416715,-10.582262226596502,-39.47840674081741,-27.82089893290292,1.4867656245660064,-37.11153184998721,15.602449059108752,-50.637525356096624,11.914135419017066,-20.25213230304335,-0.3642448066010668,2.8567651566992067,-14.824975871377582,16.68077243806325,-49.4999650117152,29.980880973444158,-46.202496877895015,6.9440200670487116,-53.366830016343954,-22.33319240991915,-43.033142731280314,13.070799284447912,21.869632987370334,-51.3542151801009,-1.0480069890205093,1.648044729263954,-12.196316236030787,29.292061349234825,-19.059270007943564,-35.123922363991085,29.159446856631966,-13.402505057830748,-42.26428501415503,-34.31796591903579,-6.41161455301147,-1.8347705506514653,4.953055596951767,-40.738862368963645,-44.296174734448755,-2.4198494483132995,15.181713474471756,-5.559113386587197,16.595824356798627,-35.24584510121924,-16.999131601282095,-37.09151308138882,-27.352752847381748,-20.413641942355913,-20.02708390430394,0.4723832843378377,4.831693007884721,-4.575019197921702,2.20178871686432,-30.779077716954163,28.829785002852557,-44.03597377368834,8.239152010877726,14.999392489115742,-24.236663928876233,30.914499298423767,-42.521682490797566,-36.969682788544524,-19.84799993451122,-5.644464913067648,-18.05224988355944,-54.21776233765826,-28.903524531367623,-1.326892453726147,-12.312506430731778,-31.137577152195952,3.402188626093629,-15.110177107109793,18.709796959695485,-8.362843836471749,-15.751232433375739,-40.45273830363566,-49.04137872649535,1.0331140993860128,-11.85047561882756,-44.69201978716179,-28.998947550356633,27.840437693768244,-18.220592089492698,-19.262353967051624,-25.404167869559103,-10.85126921071883,-30.022958677374458,-36.29800221973027,-27.123328301434864,-26.8815273574255,-12.505222785390337,-36.16500635199163,-11.810937954550951,-20.95697082342585,-40.0347254675106,-26.727208075930292,-41.841948386074804,-27.4352987360152,-60.44068484751302,-32.66577456923915,14.165440203935495,-43.30666120190492,0.1838529313044798,10.496195532454347,-25.69567542279061,-4.762009028226576,27.69351894221579,-25.05564216456621,-10.755566291219242,-9.659189435848598,10.709009565260882,-45.22533085111015,-29.086502484540922,24.63425157332433,-38.96222454073674,-1.8157137287791172,-5.400370403308545,-37.788770853674386,3.4854468885805785,-1.5323524011656544,23.611920982212094,11.004342174287487,18.732271995881487,-24.281813578608702,-15.91782817460526,-13.504915931873244,-25.35173141504928,-5.895168383683103,-29.480644921281492,-16.369030403904052,-48.15610758958376,-32.75448360048634,4.10518829802713,-38.539098973870125,-28.82824449016051,-43.734958784318856,-28.727480074219628,-13.331476530028,-47.118717886114574,-37.3290587748133,-37.24308726910134,-49.40537868680937,-41.48338548055181,26.12610227187438,16.834860639299915,-14.373076518895157,-30.64082310641061,-7.067230218624346,-40.196631456664086,-37.64094627763649,-9.339521554244413,22.44372055289135,-10.689499868592156,-32.712518591649136,-18.966455648302187,-11.54993398448261,-8.092494454599825,-2.5673131581507707,-44.3643612976899,-41.038775451814494,-12.34582005262645,-38.99893996431431,2.4865944131725874,-34.988635517875224,-6.998182324988936,16.749029056725508,-7.215466468255436,-40.539176533184005,6.338184516118746,-6.072326976078892,-7.286830289579774,-22.619482949876073,-25.691387654971287,-14.692477198369179,-19.390657230724933,-8.05955729424002,-38.88478946260143,7.88114926064654,4.6345428941156825,-18.149208147751352,-25.989243598807867,-24.22964682061302,-23.277722700286716,9.66254637913347,-46.31133419489887,0.8730054268126574,-24.010278674168028,-40.782492819864785,34.61880887670541,-17.140767340602913,2.705340320403337,29.703131134651283,-44.59262471518015,-13.923391815108776,15.69438929213367,-16.173291240970133,-8.536653397989392,-28.86676312462951,26.23197646123924,21.98431344061672,-27.1502942400871,-42.966033107640996,0.44653406651924954,18.34432899090185,-29.271636749217706,24.786471548767373,-31.034788821544062,0.22288560725025122,33.359087562828016,-22.86803030431253,-17.04814997915594,-21.039738551443694,-41.69347162343301,7.0993659956145585,-17.93143998703149,11.9891001945311,10.170138564619727,-0.17718711172260887,5.633656179634127,-27.17991000923438,-41.2083430125371,-41.655821153319394,11.298419956644652,-25.301100245634945,-45.6860825346678,-39.78192695871991,-12.569468958393701,-6.878947670046793,-40.956334422841344,-26.096733784282915,-16.905189903010665,-26.925687351915528,5.641289764625485,-36.16321443886001,13.784123654382782,33.60733174008409,-13.423344999102879,10.951077567183265,6.959090715689892,-22.71532463183866,0.2105108266663483,-10.015728130355035,-45.41636625777292,-37.751595082636015,-16.48913275223107,-38.583407639619296,-23.509960604617714,-27.160843347910237,-47.60659467646398,-30.394887247334122,-41.93881912499227,0.2301993408470188,13.814515870274219,-46.588317299560266,16.698919264260642,-34.994046110115676,-36.04239425145389,-34.25166495872393,-32.72028184303986,-34.836499510376136,-23.37110512362639,15.175756379633427,-15.995667442331438,-7.890555909622353,-21.909227286036305,-32.39660432985638,8.777918583229638,-21.75653395580801,1.8461088188047785,5.056002779351138,-30.413947871382568,-35.893539273789706,-37.092352419532084,-22.264261881688387,-19.422874969716258,7.38714326652044,24.55733519974025,-48.65223273341385,-4.619429100460828,-21.06932686878477,-38.087500827685716,-48.52972138218074,-31.45167242091081,-11.161047049902193,-27.728831621142874,14.549820453392092,-4.323498031784868,5.630357490968094,6.363996587846687,-16.05507340187755,-2.3437990560941744,-26.626507155070446,-29.115066893693452,-39.64167350460275,-32.737590380178275,-41.91352063764893,-20.022532466676548,-19.000696815194786,-30.0096576415443,18.341300969162756,-33.50496233075156,-15.307997877996936,-18.803158540246987,-34.948183097899,-43.149913875523076,-19.33528530443673,-23.834437367600476,-42.79210271174713,-18.926625182652177,9.409295620154396,-47.81895718388707,19.85753608835647,-26.759482049427252,-12.940156481664461,-16.723326355217505,-26.463080361234205,-47.98010403049821,2.2202686675203593,-41.797963818519,-11.170216068373003,2.72292320627192,-7.456468892124078,-33.02963253319073,-30.951968386468035,-29.939343301002822,12.509028750552506,-32.22550890747957,-24.57495902788548,-0.32770263324295906,-30.891996963279077,-7.902309175382925,-19.7795505458586,-13.345056829034707,-1.3727648988727337,4.562366767555931,-14.152082386124802,-37.33659647703506,11.953478199500871,5.431978443057053,-48.18964731962742,-9.383246659694636,-9.688125539706839,-31.23426585378263,-15.816244417682446,-33.94230265579076,-4.814892774278676,-40.06087076079313,-32.50877143079531,-35.14355470248403,-36.35880839586291,8.896242219994411,-48.422297011295456,-36.109314276166515,-3.679055183822904,-26.024469282397906,6.501132177934999,-33.57313453591262,-33.6680576081929,-30.881206492130115,-22.04991680323262,-4.344277891888546,1.7561453944088752,-0.959859972087865,-22.448356392191023,-31.709571117141074,9.716337735201165,-50.36884524917889,-9.165855918723695,-3.981528457506841,-14.375897258646862,1.9636176153259235,-9.587521533406642,-14.247247706417273,24.511300069492563,-6.59346510489819,-33.17112020442579,-1.2248030563410233,0.2846916195627938,0.5155428933543363,-53.04827048177897,-53.1091228111573,-33.68985381480526,4.380558587040812,-39.03284705560118,18.867108709202707,21.101622538803092,-30.033877903514504,24.641180410636384,16.76838693890947,-31.61601852579142,-34.14216774816544,-39.100986649786506,6.761255773435696,-39.57364866216663,32.33317602687948,-46.7671821353976,-39.20126238682486,-18.33064213107611,-43.92663262174458,7.918395274105397,2.8667599897825946,-30.94281906950427,-38.72301105181749,-40.80935799675833,27.701076710630144,-1.7327380155232237,3.622249280885937,-14.638798741882944,-32.48352880636967,-20.21492472862576,-6.702217762447085,17.97044655279469,-25.374649917851748,10.601329597431784,8.60589304634716,-28.17808302810743,-11.25573451273006,-38.084376681458174,20.570740498348947,-33.63151765429455,-37.68117833617804,-44.170131392761384,-33.223285220686705,-27.7639550317691,-24.365176195207628,-42.501273446941845,-13.826188532953271,-33.659501177970995,-11.149043998554594,25.985335016433034,-0.020162826575274264,14.29746792162839,-8.219888235219582,-18.29624650907234,-39.411584135031546,-38.72613547552274,-51.4721130990424,-20.499086637416333,-20.093436140240357,-13.653286427435798,12.53829006354998,-22.719921154170315,22.074261170591242,-26.290448014994965,-9.279305380303608,-36.18556659818245,-6.897565680651707,-44.10096550479775,-46.01655426059123,15.4500203320711,-21.69067839838135,-23.516620420351128,-16.608349143905215,-17.325310601772816,-14.616244111142063,-16.825000778685386,13.55212238632266,-8.531943756547566,-28.02399426139747,-5.219426329275161,13.783449889037225,-40.0266688024226,-47.36490249762608,24.22246172307751,-43.943035298730116,20.476330253043734,-21.641826346265024,-41.11630963554978,-8.447964990166147,-25.233506326162267,-44.36207534679649,-3.9702174643754207,-0.6146608548831943,5.538577781569657,17.15899952009496,-41.28938447492189,-38.966424869400186,11.140132330878025,-3.912271641210132,-45.20608887022018,-39.82797289385634,-5.182376682565851,0.6889734556045837,-15.980534930892675,-7.129023750486183,-17.67493009621351,-44.232697542563855,-20.07164729320959,29.02417368374289,-32.57459630148943,-14.449046256117954,-12.84365323966182,-36.57694930712864,-13.445124259912891,-41.29819292883077,6.884343820924146,-46.87835712989918,-32.326945481585625,-17.977729592781063,-40.112339008116244,-19.2270814430801,-13.250080592435713,2.1319186395197685,4.69896104141386,-3.0418520957968838,9.204364232953518,-34.48338374609346,-28.43099313298438,-9.43052237681965,-2.8195936664338026,-47.97843079895703,1.4362033607970366,-28.495544468626196,-30.60354568795397,9.360590564944534,-41.42327809484036,-47.42667728126355,-25.32053780819948,22.386110598051534,-15.7530069784215,-17.042131844749626,-23.18138395815677,-45.15410214709968,-17.92621391623818,-36.82609879406192,8.481998601474361,-38.22593898058195,-42.839309524266284,18.759781487372397,-28.28581790893989,-42.134665796825765,-2.1794492078118317,22.457440032460106,-25.12944297641289,-23.892120151964757,-38.56903026395013,-15.509841045253463,-29.387621703231265,-44.96233904165522,-35.463285278268614,-2.669344158691385,-9.895702030864488,-4.208215036730238,-5.91951151765231,-6.891207171182373,-43.040409548814964,-10.85130779788497,-13.944527553047589,-41.75456757808905,-31.418287548465468,5.352974603971021,-39.84320974198623,-33.7250796997384,-21.456105901621104,-36.4171673522534,11.867153030026909,-23.712820075177536,-27.896332839940005,7.405828803636424,-39.074870275921725,-23.16779976223802,-5.66407774450638,-9.910546357615127,-40.54309211304709,16.891366997453893,-39.52645101753294,-41.57188158231622,-50.59126485865386,-30.926063290526987,-3.820315844679805,-11.986918076930731,21.50429868456637,7.649308332610273,-45.48933233144861,-30.45005674906374,-24.491689979205724,23.494050186551295,3.729639476059406,9.555791081952917,-21.626348461639633,-8.705656965156926,-22.124511907938725,-1.606794009588619,30.5426577186849,-4.419219118148208,-50.45231875456997,-30.394720672184683,20.559038593837847,6.322244504998536,-8.017751674868174,-45.52605630952526,-18.546048758515774,-3.264903549765214,-2.592055424109596,-10.084516998690837,-9.343908261853015,-3.4764138593429976,3.0908772831633273,-28.641049343946335,-58.75458498704864,-0.45188230288539677,-31.996437273853022,-24.54691209027917,-11.211466774996483,-29.8095364548922,-17.50269694223597,-38.38918079162513,-46.08575103400424,-17.081844612739754,-5.009186624335574,-48.54965060889127,-8.637726599776245,19.925154698391417,20.048044284259422,3.4757801322554704,-58.92227537377571,12.386808818328998,17.444541551181153,-30.064121155089772,-16.726859839678532,8.35314879653257,-9.027214659610285,-21.12588924061712,11.374496655015564,-2.201087753131427,-46.50609292686225,-25.660051528040455,-18.15282132928303,-47.352589234753665,32.713564244732225,-37.19811011753571,24.55455550385293,-9.560626437580531,-28.716744750744702,-25.586169349106935,13.724045675660006,-35.59108885563504,-2.446696406177215,-19.102425000815828,-37.60043315781976,-55.05078295834391,22.130227970818215,-38.861232798414456,-18.092073546674747,-29.956279367900095,-19.24372413292936,-2.829844442315436,-15.63682119911889,-23.342175002307776,-38.43164392432513,-19.858199987574203,-11.305236106826733,14.652771623453454,26.283903427882876,-40.66683723538581,-12.462808874549978,-22.16235330777471,25.436468543309935,-5.54813478166611,18.27871905876419,-31.749703963530077,-42.911513886939304,-11.994400598507477,-5.149562012634808,-10.625643940699552,-14.36954864980997,-30.74555832756452,-21.71181678792836,-33.96117980176375,-13.48222911801735,2.694460776934378,-39.96139353172078,-25.318761394782076,-41.998938455398054,-36.92761609199029,-35.10307798672134,-42.84137844759166,-60.49737517279058,11.883927122313256,-34.19250304399559,-38.60792146947456,-7.419347197727264,-40.987739025328004,-50.196553066254694,-6.827226404505666,3.1171999388433735,-4.830699714983244,-2.666253400707999,-21.31706010826913,-16.057771270219014,-36.31454746969832,-27.315692935041376],\"y\":[3.070145821050763,4.4051537214258705,-28.91284746983167,-31.365518483286138,-12.64172206891567,-30.768665600029728,-12.082492941472639,-26.98186844793897,-1.6492658902993713,-9.139721463291187,-18.013519714377164,5.324144947368131,-29.927163808762657,7.205500558545936,-5.999039669742773,1.8925129256248598,28.749266174511572,-22.37183665768787,17.916729925573616,10.991917890023073,14.22564582855248,-4.486044342502485,-17.700747966001277,-9.934838423861311,-15.53177915004229,16.01179897089127,-18.07209469569255,-19.180757780712064,-13.792722582586144,0.8848917353396112,-29.778572296372698,-25.731703378300377,23.927685689621498,-26.67099553092305,-35.779716773823864,-16.69831259733062,-17.495390970577063,20.798198721558837,-5.435655679263687,6.854242842624422,-9.90082020845246,-32.58441875151075,-20.886729048728466,-3.2498608913481717,12.407600721731082,-26.828220022218407,-7.264467531678478,6.917116955406826,-25.43986231310178,4.389872251447003,-16.559614161669792,-0.07736312146266108,-0.2576873275108928,-25.52610418506313,4.503750661557142,7.270647006877819,-20.361099368164695,-0.7204736141704058,-13.78252708304651,-15.821774970950827,-11.651240835305959,-3.1995837410914163,2.0444345597829594,-24.716723328329213,30.723047839974033,-4.2984088398876015,-21.676154997415118,-14.481890829473633,-23.75585663979927,-20.95642656772879,-6.276398516630693,-17.271523885819573,-6.176101799498121,0.4037006129851869,-24.20821878604898,-18.03900965797841,-18.168394689345373,23.492812823734774,-31.845911325014914,-24.12155794319549,-18.76977391605082,-20.961226277854376,-0.1878165772838635,-8.098772281677132,-14.44014985237498,-1.514326782523691,-25.827676587681644,11.698550088366684,-24.062963916381833,-34.98317136441413,4.296915067613976,-6.569355494746458,12.143640959012787,2.5985596089461525,-21.61598776899368,16.556305550626988,-28.815686654000313,16.65511571030934,-17.70425199238786,-29.15311244264143,1.0644952201426041,8.88765334342584,12.523229171640521,-23.19684768233973,-15.366220976518978,21.018553166560103,8.870213041151684,4.8149438319277165,-10.085369643493532,-3.797806594566933,18.133840109300365,-0.8696174351742532,-3.2419271438272284,-15.768496103130435,-34.33518230151179,-3.9917001696312124,-34.46672578441724,10.144436656608526,-25.365765134349317,-22.585319407226933,-16.04614863619158,-34.73548291229554,-5.248123412953179,16.977071644261166,-9.951290580248385,-8.565616604515379,-26.988136472795386,-27.356504868987848,18.124989959993766,14.257388774036217,0.5842770514818881,-14.741535119564206,-4.8908535257088905,2.94790056153867,-4.310366970066969,-7.825621981225305,6.871833748756827,4.411019569400251,20.558532614894027,-28.172055033695873,-2.201768344766861,-7.159599039091865,3.369563111952491,18.66342503449338,-20.041810864545297,9.519906086921408,8.903118351938126,-19.241728368443855,-33.365640910206594,9.866544218854497,4.161830826946313,4.837347244111685,-20.562689866410103,-32.57888059186096,-18.53856181103148,2.583519822641444,-0.17711157113416542,9.123435200908327,-8.192873634398959,-19.267613464394074,15.899291059618102,-5.771906586389211,2.4306060531546647,9.896075113257936,28.71921907409486,4.979282359958298,26.908130844041835,29.99959134339223,5.126343892021956,-24.778327618998542,-6.2162608622933835,-30.05126130923013,-30.884809945447273,-20.88642402428317,-36.42197116177975,30.88417365718207,-20.15401071193751,-18.111849395909807,-2.8949190083305045,-19.902476774516362,-12.326106758358792,-17.273326549111093,11.416457261405549,2.963383653466542,-18.962947019256834,-25.090750648587115,-14.036824919299406,11.188379374871477,8.542925004186568,27.68198361706143,-28.431224476547523,-20.62909506802208,-31.226212354334073,33.0525563378533,-25.868062942378387,-14.249572022236125,2.0099931234390027,7.442018413684475,15.110399196308093,10.98943025424705,-2.6175305487154095,-14.15011934637497,-16.308251755093615,-3.1312348930270573,-13.322740205462928,1.162345094588039,15.405547153662019,-8.603732704268813,-13.792345601905778,-37.46802881496318,-5.5058055236968695,-14.733493181083528,5.929147083857049,20.264914994690155,-16.5395843035092,-32.52788163847002,14.15752202531667,-39.201734185199385,4.658919926869004,1.1029221078603426,-23.445079774240803,-3.338467265824946,-33.33879395530503,6.334011430291488,17.455413500704328,6.777594312840377,2.230727063892279,-1.404744671648303,3.025783276744243,-20.691104510522802,-18.362730232520533,-0.9380621097038716,-26.794580919712715,-8.132995601981891,6.523325640956014,10.4453522756636,-7.995364480928312,-4.893126386399726,19.24928016148782,-15.35370187142613,-8.09655995080677,-22.262429883277488,5.892908341840565,8.50616249544858,-21.053950122459927,-21.21894044353254,21.14624605907289,-21.91189974141271,-18.081775091415484,6.439871348583354,14.898188555317995,8.215488048123486,-37.83534852774791,14.080603991960476,-17.25705666375304,-22.79908851305403,1.0468734699184756,27.002021678758698,22.230060328820972,-17.35131260693131,-2.043799929894521,-21.04894029431791,-26.034106278339053,-12.99063643691264,3.2358464903633335,-13.360132660603407,-16.486614053275375,6.050273224612216,-16.771280836328934,24.445918399288924,29.79546310014399,-14.522099865899218,15.047355331587376,-3.0702275775968264,-20.74883873920522,12.123313326619215,8.040232589306884,10.022720551501665,-6.153335545394229,19.11102114642516,-24.362955656033773,25.56696240882317,4.4117959449823,-34.52903595827154,8.065126607614491,-24.005409920508896,19.468474918122013,16.65394797687435,-18.080454253423547,-28.601199299205597,-23.243534297061075,-18.9719550089177,-32.280883586563206,-9.527539240542483,27.602922930290195,-14.831227245227177,-10.509949408325763,-17.0509829100323,-30.84174525775067,-33.140420283873986,0.09431176379242072,-23.394183088845338,-13.113542961095813,-23.50549817332508,14.293710079997842,-18.30062316775559,-11.12632631401461,-13.162022480357148,-17.054348497974345,15.158211913362333,9.60678567970088,-4.058143737460467,5.599281458512972,-8.549506096876865,-35.85272635096666,-29.311481122002725,-0.18102855890780456,10.140083407422233,10.141022486389272,17.483648688243324,-16.584589866651054,-17.125659739306094,-24.409791764105485,6.009325645815919,-12.679492560351612,-27.408848777379482,10.223920101288874,10.997611473183847,-22.877206909536678,-29.724528637001036,15.134535712975167,7.834227081627684,-5.805354792103254,-16.52504204605456,11.717160722457233,-14.121700048720763,-37.33217511244963,-19.008961862182254,-19.142076413865137,-19.588009173341245,24.016987667408287,8.619933804403862,-27.37356244914429,-11.91674708439004,-1.1457436998989385,-24.284880027086974,-28.605747360655727,-16.028608805022746,12.719950042672927,-18.202373856337008,-12.253033933465543,18.257207161110273,12.09716412122672,2.946683704989184,-18.1332470420135,17.90750143857386,-17.575311826563432,-23.30182190230737,-9.242509935109942,-10.503737526527626,-10.828663088786747,-32.80383554827796,-25.59293753280881,-26.29901691966444,-1.6093779553951475,-28.96924379029713,-10.424943749571005,-34.56440784555015,-6.383384196834333,-11.724981017458497,-12.717513241304488,5.119657487443373,0.743958330179551,8.339602648822067,2.023019053302612,-5.580351348525484,-28.873199032479718,-0.3941451860798096,0.7416002396123325,-10.345838312511876,16.270482772124986,-7.887089304489078,-14.707862615400067,-9.833859254311049,27.667164784448133,13.708055795269159,-8.195757771426608,-16.00482906438254,0.1133286446069223,-14.977404145453571,-14.18690972746072,-16.919213954416936,-27.34551858716489,-14.560049036628664,-5.402048736242005,-12.05543100576878,16.558314037555245,0.5984036078330073,-5.59461390828315,-26.828892291332252,-24.782187145479394,-15.43835584733535,-21.798266040246535,-7.872595323604289,-13.253877385917283,20.971975200952915,-7.941693138231461,16.565768207434655,-6.742465338267881,-11.276148576918903,0.27812389541455945,-24.107227841546095,-22.15709154351347,19.188244815044264,-28.409264591295102,-10.285448906466096,-1.3993256412129094,-23.713916745917526,-20.97441823948509,7.413252211412864,-9.271205570940541,-6.591162920968616,-13.523348062319302,-16.79000296789894,-2.022148793888458,-13.202012984162106,-19.528821822273823,-23.199943075369777,2.229958953560787,-5.760612520527478,-1.8886619602735673,7.863837010827358,4.625096280901515,-9.9246942582845,6.8659138274280105,-1.784827425668853,-21.676986111198456,-10.430017207578793,-22.598098837181947,-32.92244260643763,-6.460578992500666,-22.747944845065618,-8.677927513894216,10.642126089531661,-20.087598496762975,-16.573420405700972,-2.848193894845081,3.5361931243247597,-17.69720619073058,21.610787802426422,-39.036051994935164,9.662562137322233,-31.680024596473892,-3.927188589318875,1.7158593771222337,-3.082304493038167,27.21000086814276,6.387386097468215,14.114803846557535,-18.739668708072976,-21.21904512862558,25.87914532204373,-4.152510171949887,-12.221954316240819,-9.862921256241002,-33.50001215784904,-28.372069874783975,-8.1899155475679,-4.995618008898802,-32.263285524240835,18.66330272395092,-37.813704144161996,13.23706825470891,0.41281799798867036,-11.363448588430968,-5.606139497141489,-29.4473148490628,-11.633640208655391,-14.621784164163294,-19.19059430858378,-9.194640575081936,-2.58349196216677,16.53843618525009,2.905579098327382,-14.623683629485926,-21.07757537216885,-38.39635502405939,-7.555265438953553,-19.16460057791436,0.7539568307029294,-28.341204712260318,-14.324872216447512,22.862663904740245,-11.529972290830795,11.210875489022403,21.782082166314993,1.066596886186727,-3.5965368670141373,3.3348904067935243,-2.7021897282218084,-25.716728027368845,0.10094099705499776,26.499559610467372,26.632259707957136,-39.25151950469428,-3.4563644640429665,3.4239754146745263,3.239737276767114,11.366239633157681,15.784674467038487,0.6476762452337309,-13.22820055731541,-10.601172031974286,-19.28932876922092,21.257354334832183,-12.123009788201259,18.043289722831098,17.2720711082674,-11.20601037673547,-23.203004112688003,-3.5917813824695535,6.645848392180321,-22.03046781266065,-18.890395386158286,18.653488265540037,23.72440040299569,-20.660315047239916,-21.177728649267507,-15.219615327449548,-25.902207937998195,-22.06288237053018,-17.999051396682255,-31.09579204469427,-16.438597908761334,21.643525165534125,-23.036988129542692,10.143158744054297,10.67389127113688,21.465039739670885,-6.152330723971433,-5.762189518491618,-1.040740102427162,-28.717282727509794,15.481006033206773,12.51768063834777,-1.4756972650267421,-10.308510304087555,8.961763610263045,19.36506068814694,-22.050284923268098,-16.261709197214522,23.902321018436776,4.673603555556012,-28.634877811051016,-18.63395618335897,6.697921652856032,11.110561044259065,-1.031189721590885,-19.846952560122002,-24.31047389400204,23.222191910709757,-15.545971418840905,-12.167159506324882,-10.377585465790915,-31.221718808186626,-26.61824702040284,38.657166622584064,-7.011725802054975,-20.175316944768003,-28.005363932694024,-0.749837255722723,14.235386117045108,-11.970588338400136,-30.31277697472552,14.225863611898568,14.28237985473032,12.447020616396193,-5.197605460197952,-18.366724508628025,24.474570389520956,-26.502723547547156,-11.918087824884163,-20.65520734190131,29.84515486429462,-17.167288552435327,-4.44625485542822,-12.066277308358973,13.256257199134136,-7.345946166709187,-5.776983502520845,-19.467094876222077,15.419040002609641,-22.012858192897603,-27.75299921986107,-9.885432392685749,-7.785789130423616,-26.82477984233287,-1.973308143840872,-9.368379134468428,14.447846498531794,25.19890785045597,3.928421450042945,13.401007636989117,-10.369971477949699,3.015159873516357,20.786837637755287,-23.709406377763223,26.91959093126292,-15.35542635512483,-16.77203433746961,-6.649660242509774,-17.82281984150044,2.3025427587240594,-30.257767233800298,-7.303030280551227,29.8921794621153,-7.994911013942289,19.496994776299537,-14.834209928973548,-11.8418383692283,8.260038759934877,-11.025186714918597,12.777084086859423,16.947349896800873,-19.52846404888371,-22.889797938198083,-2.754162278795437,13.595735316150245,-14.068537883528661,-23.766608245341455,-10.395011601388335,-33.57708817072966,-18.7494811352673,-34.20263891836103,-4.336775788069503,-36.42057128825857,24.31164092559625,-1.756163531522717,-32.05109562612237,-13.086972971556088,-20.64432685532439,-10.207241626326804,-7.354259724739381,-18.71867363710586,-8.293820077800577,-35.05463595064774,1.2797613023988894,-37.75084918292131,-13.07318502791216,-8.653077656751476,-19.52407437220388,7.991150447159259,-2.0956330625014634,-8.409646824220225,2.2271523799090565,8.310336053083837,-0.9894267805478355,25.51951427843922,8.41874936482209,12.782036596856333,-10.531723260338941,-1.0465846337323708,-36.48172780955474,-3.9992440244823544,-23.115251348445483,-29.31545725418161,-27.909911011311255,11.26078510763453,-12.697079556305813,-29.899280142925456,40.178301963084394,-26.428657423011938,3.1898499041130046,-16.459146375859156,-8.545368392057949,-3.801452663134633,-24.53905038108895,-6.477564268261319,6.9142827432709915,-15.231812124483927,-10.533442765566619,-11.00388053053246,-20.779706524448414,-2.6908205158615686,21.84622112480871,-1.3729543628814598,-21.4592703375037,22.377261455038685,-15.204969641765784,-26.497268553304863,-25.205514881461465,-25.841009871058226,-4.02297518753807,-13.10149134909407,-23.037006633768556,-26.317133862616334,21.45805018778481,-7.812204553123609,-28.004143970457534,-33.73008283796862,6.841986223722971,-26.478843097321388,-7.2343736373545555,-25.23674814474885,-18.225021702186012,7.152628639997068,11.19146959153174,-30.762256090958243,-14.154260316946026,-12.694885431390075,18.55730640901965,21.96095903239171,27.705746899207483,-31.736987142833165,-19.936907483195707,-22.314876320735713,-21.38759684758068,-19.326942640990882,-23.78506473595105,-14.133620835343287,8.448880273949865,-20.811582327268916,-19.95406343252721,-6.383503029960117,3.4786936528649637,-21.17249710344039,-24.717049504792435,-31.275800083445738,13.581276936722908,-10.139197768470915,-20.1781244930673,-4.943909961694373,-16.083802375617623,-18.34839906308169,3.763644097316674]}},\"id\":\"4e2ab7da-8848-4a79-bdf8-5debedf338b4\",\"type\":\"ColumnDataSource\"},{\"attributes\":{\"callback\":null},\"id\":\"9d18a875-0f2e-49a2-900f-724df7579092\",\"type\":\"DataRange1d\"},{\"attributes\":{},\"id\":\"3ee3d2eb-c642-4133-ba65-5f8ebfb18bb2\",\"type\":\"BasicTickFormatter\"},{\"attributes\":{\"plot\":null,\"text\":\"Word visualization\"},\"id\":\"467ea5ce-b92b-42fd-9fbb-ccfc7f9975b2\",\"type\":\"Title\"}],\"root_ids\":[\"23394b50-fb43-4cea-b7dc-0ca3f4cbb322\"]},\"title\":\"Bokeh Application\",\"version\":\"0.12.0\"}};\n",
       "            var render_items = [{\"docid\":\"1908b354-607a-4f3f-9353-ad4ec2f5fa50\",\"elementid\":\"3ff6b0c4-99c9-4103-8feb-ff43f5dc7fe4\",\"modelid\":\"23394b50-fb43-4cea-b7dc-0ca3f4cbb322\",\"notebook_comms_target\":\"540e0bdf-09f4-4651-91e6-d4ae29b2b1be\"}];\n",
       "            \n",
       "            Bokeh.embed.embed_items(docs_json, render_items);\n",
       "        });\n",
       "      },\n",
       "      function(Bokeh) {\n",
       "      }\n",
       "    ];\n",
       "  \n",
       "    function run_inline_js() {\n",
       "      for (var i = 0; i < inline_js.length; i++) {\n",
       "        inline_js[i](window.Bokeh);\n",
       "      }\n",
       "    }\n",
       "  \n",
       "    if (window._bokeh_is_loading === 0) {\n",
       "      console.log(\"Bokeh: BokehJS loaded, going straight to plotting\");\n",
       "      run_inline_js();\n",
       "    } else {\n",
       "      load_libs(js_urls, function() {\n",
       "        console.log(\"Bokeh: BokehJS plotting callback run at\", now());\n",
       "        run_inline_js();\n",
       "      });\n",
       "    }\n",
       "  }(this));\n",
       "</script>"
      ]
     },
     "metadata": {},
     "output_type": "display_data"
    },
    {
     "data": {
      "text/html": [
       "<p><code>&lt;Bokeh Notebook handle for <strong>In[65]</strong>&gt;</code></p>"
      ],
      "text/plain": [
       "<bokeh.io._CommsHandle at 0x117cb12b0>"
      ]
     },
     "execution_count": 65,
     "metadata": {},
     "output_type": "execute_result"
    }
   ],
   "source": [
    "words = list(words_to_plot.keys())\n",
    "range_words=list(range(1,len(words)+1))\n",
    "\n",
    "source = ColumnDataSource(data=dict(range_words=range_words,\n",
    "                                    words=words,\n",
    "                                    x=low_dim_embs[:,0], \n",
    "                                    y=low_dim_embs[:,1]))\n",
    "\n",
    "hover = HoverTool()\n",
    "hover.point_policy = \"follow_mouse\"\n",
    "hover = HoverTool(\n",
    "        tooltips=[\n",
    "            (\"words\", \"@words\"),\n",
    "        ]\n",
    "    )\n",
    "\n",
    "TOOLS=\"pan,wheel_zoom,box_zoom,reset,save\"\n",
    "\n",
    "\n",
    "p = figure(title = \"Word visualization\", tools=[TOOLS, hover])\n",
    "p.circle('x', 'y', source=source, fill_alpha=0.2, size=10, color='navy')\n",
    "\n",
    "show(p)"
   ]
  },
  {
   "cell_type": "code",
   "execution_count": null,
   "metadata": {
    "collapsed": true
   },
   "outputs": [],
   "source": []
  }
 ],
 "metadata": {
  "kernelspec": {
   "display_name": "Python 3",
   "language": "python",
   "name": "python3"
  },
  "language_info": {
   "codemirror_mode": {
    "name": "ipython",
    "version": 3
   },
   "file_extension": ".py",
   "mimetype": "text/x-python",
   "name": "python",
   "nbconvert_exporter": "python",
   "pygments_lexer": "ipython3",
   "version": "3.5.2"
  }
 },
 "nbformat": 4,
 "nbformat_minor": 0
}
