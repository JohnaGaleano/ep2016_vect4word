{
 "cells": [
  {
   "cell_type": "markdown",
   "metadata": {},
   "source": [
    "# 0. Make a plan!\n",
    "\n",
    "![Science!](imgs/neil.gif \"Loving science!\")"
   ]
  },
  {
   "cell_type": "markdown",
   "metadata": {},
   "source": [
    "## 0.1 Gather your data"
   ]
  },
  {
   "cell_type": "code",
   "execution_count": 1,
   "metadata": {
    "collapsed": true
   },
   "outputs": [],
   "source": [
    "from configparser import ConfigParser\n",
    "from os.path import join\n",
    "from os import pardir"
   ]
  },
  {
   "cell_type": "code",
   "execution_count": 2,
   "metadata": {
    "collapsed": false
   },
   "outputs": [],
   "source": [
    "config = ConfigParser()\n",
    "config.read(join(pardir,'src','credentials.ini'))\n",
    "\n",
    "APP_KEY = config['twitter']['app_key']\n",
    "APP_SECRET = config['twitter']['app_secret']\n",
    "OAUTH_TOKEN =  config['twitter']['oauth_token']\n",
    "OAUTH_TOKEN_SECRET =  config['twitter']['oauth_token_secret']"
   ]
  },
  {
   "cell_type": "code",
   "execution_count": 3,
   "metadata": {
    "collapsed": false
   },
   "outputs": [],
   "source": [
    "from twitter import oauth, Twitter, TwitterHTTPError"
   ]
  },
  {
   "cell_type": "code",
   "execution_count": 4,
   "metadata": {
    "collapsed": true
   },
   "outputs": [],
   "source": [
    "auth = oauth.OAuth(OAUTH_TOKEN, OAUTH_TOKEN_SECRET,\n",
    "                   APP_KEY, APP_SECRET)\n",
    "\n",
    "twitter_api = Twitter(auth=auth)\n",
    "twitter_api.retry = True"
   ]
  },
  {
   "cell_type": "markdown",
   "metadata": {},
   "source": [
    "*Full disclaimer: gender is non a binary issue. This is just a simplified example. If you are willing to expand this experiment, go ahead and contact me!*"
   ]
  },
  {
   "cell_type": "code",
   "execution_count": 5,
   "metadata": {
    "collapsed": false
   },
   "outputs": [],
   "source": [
    "brogrammers = ['jakevdp', 'rasbt', 'GaelVaroquaux', 'amuellerml', 'fperez_org', \n",
    "               'fpedregosa', 'ogrisel', 'dontusethiscode', 'randal_olson', 'tdhopper' ] \n",
    "sisgrammers = ['pkafei', 'LorenaABarba', 'jessicamckellar', 'heddle317', 'diana_clarke',\n",
    "               'wholemilk', 'spang', 'cecilycarver', 'juliaelman', 'b0rk']\n",
    "\n",
    "brotweets = []\n",
    "for bro in brogrammers: \n",
    "    brotweets.extend(twitter_api.statuses.user_timeline(screen_name=bro, count=100))\n",
    "\n",
    "sistweets = []\n",
    "for sis in sisgrammers: \n",
    "    sistweets.extend(twitter_api.statuses.user_timeline(screen_name=sis, count=100))"
   ]
  },
  {
   "cell_type": "markdown",
   "metadata": {},
   "source": [
    "## 0.1 Clean your data"
   ]
  },
  {
   "cell_type": "code",
   "execution_count": 6,
   "metadata": {
    "collapsed": false
   },
   "outputs": [],
   "source": [
    "import re\n",
    "\n",
    "def clean_tweet(tweet):\n",
    "    \"\"\" Simplest preprocess.\n",
    "\n",
    "    Convert a tweet to lowercarse and replace URLs and @username by a generic token\n",
    "\n",
    "    Args:\n",
    "        tweet (str): Tweet to clean.\n",
    "\n",
    "    Returns:\n",
    "        str: Preprocessed tweet\n",
    "    \"\"\"\n",
    "    \n",
    "    tweet = tweet.lower()\n",
    "    \n",
    "    # Remove URL and replace them with a token\n",
    "    URL_REGEX = r'http[s]?://(?:[a-zA-Z]|[0-9]|[$-_@.&+]|[!*\\(\\),]|(?:%[0-9a-fA-F][0-9a-fA-F]))+'\n",
    "    tweet = re.sub(URL_REGEX, '<url>', tweet, flags=re.MULTILINE)\n",
    "    \n",
    "    # Remove usernames and replace them with a token\n",
    "    tweet = re.sub(\"@([A-Za-z0-9_]+)\", \"<user>\", tweet)\n",
    "\n",
    "    # Remove repeated spaces\n",
    "    tweet = re.sub(r\"\\s{2,}\", \" \", tweet)\n",
    "\n",
    "    # If a character is repeated more than 4 time, keep only 3 repetitions.\n",
    "    tweet = re.sub(r'(.)\\1{4,}', r'\\1\\1\\1', tweet)\n",
    "    \n",
    "    return tweet"
   ]
  },
  {
   "cell_type": "code",
   "execution_count": 7,
   "metadata": {
    "collapsed": false
   },
   "outputs": [],
   "source": [
    "import pandas as pd\n",
    "\n",
    "dataset = []\n",
    "# Gather the text \n",
    "for tweet in brotweets:\n",
    "    cleaned_tweet = clean_tweet(tweet['text'])\n",
    "    dataset.append({'id': tweet['id'], 'text': cleaned_tweet, 'class': 0})\n",
    "for tweet in sistweets:\n",
    "    cleaned_tweet = clean_tweet(tweet['text'])\n",
    "    dataset.append({'id': tweet['id'], 'text': cleaned_tweet, 'class': 1})\n",
    "\n",
    "pd_dataset = pd.DataFrame(dataset)"
   ]
  },
  {
   "cell_type": "code",
   "execution_count": 8,
   "metadata": {
    "collapsed": false
   },
   "outputs": [
    {
     "data": {
      "text/html": [
       "<div>\n",
       "<table border=\"1\" class=\"dataframe\">\n",
       "  <thead>\n",
       "    <tr style=\"text-align: right;\">\n",
       "      <th></th>\n",
       "      <th>class</th>\n",
       "      <th>id</th>\n",
       "      <th>text</th>\n",
       "    </tr>\n",
       "  </thead>\n",
       "  <tbody>\n",
       "    <tr>\n",
       "      <th>0</th>\n",
       "      <td>0</td>\n",
       "      <td>752137929871462400</td>\n",
       "      <td>&lt;user&gt; great seeing you today!</td>\n",
       "    </tr>\n",
       "    <tr>\n",
       "      <th>1</th>\n",
       "      <td>0</td>\n",
       "      <td>751510274432131072</td>\n",
       "      <td>\"i just wanted to check that you got my previo...</td>\n",
       "    </tr>\n",
       "    <tr>\n",
       "      <th>2</th>\n",
       "      <td>0</td>\n",
       "      <td>751374701344219136</td>\n",
       "      <td>rt &lt;user&gt;: &lt;user&gt; support for minor bugs may e...</td>\n",
       "    </tr>\n",
       "    <tr>\n",
       "      <th>3</th>\n",
       "      <td>0</td>\n",
       "      <td>751373414435328001</td>\n",
       "      <td>could be controversial, but frankly i think it...</td>\n",
       "    </tr>\n",
       "    <tr>\n",
       "      <th>4</th>\n",
       "      <td>0</td>\n",
       "      <td>751373066987573248</td>\n",
       "      <td>til that &lt;user&gt; plans to drop python 2 support...</td>\n",
       "    </tr>\n",
       "  </tbody>\n",
       "</table>\n",
       "</div>"
      ],
      "text/plain": [
       "   class                  id  \\\n",
       "0      0  752137929871462400   \n",
       "1      0  751510274432131072   \n",
       "2      0  751374701344219136   \n",
       "3      0  751373414435328001   \n",
       "4      0  751373066987573248   \n",
       "\n",
       "                                                text  \n",
       "0                     <user> great seeing you today!  \n",
       "1  \"i just wanted to check that you got my previo...  \n",
       "2  rt <user>: <user> support for minor bugs may e...  \n",
       "3  could be controversial, but frankly i think it...  \n",
       "4  til that <user> plans to drop python 2 support...  "
      ]
     },
     "execution_count": 8,
     "metadata": {},
     "output_type": "execute_result"
    }
   ],
   "source": [
    "pd_dataset.head()"
   ]
  },
  {
   "cell_type": "markdown",
   "metadata": {},
   "source": [
    "## 0.2. Share your data"
   ]
  },
  {
   "cell_type": "code",
   "execution_count": 9,
   "metadata": {
    "collapsed": false
   },
   "outputs": [],
   "source": [
    "pd_dataset.to_csv('../corpora/full_dataset.csv')"
   ]
  },
  {
   "cell_type": "code",
   "execution_count": 10,
   "metadata": {
    "collapsed": false
   },
   "outputs": [],
   "source": [
    "pd_dataset[['class', 'id']].to_csv('../corpora/ep16.csv')"
   ]
  },
  {
   "cell_type": "markdown",
   "metadata": {},
   "source": [
    "![Toast!](imgs/toast.gif \"Let's celebrate!\")"
   ]
  },
  {
   "cell_type": "markdown",
   "metadata": {
    "collapsed": true
   },
   "source": [
    "#  1. In the beginning we had a bag of words *(or maybe the set)* "
   ]
  },
  {
   "cell_type": "code",
   "execution_count": 11,
   "metadata": {
    "collapsed": false
   },
   "outputs": [
    {
     "data": {
      "text/html": [
       "<div>\n",
       "<table border=\"1\" class=\"dataframe\">\n",
       "  <thead>\n",
       "    <tr style=\"text-align: right;\">\n",
       "      <th></th>\n",
       "      <th>class</th>\n",
       "      <th>id</th>\n",
       "      <th>text</th>\n",
       "    </tr>\n",
       "  </thead>\n",
       "  <tbody>\n",
       "    <tr>\n",
       "      <th>0</th>\n",
       "      <td>0</td>\n",
       "      <td>752137929871462400</td>\n",
       "      <td>&lt;user&gt; great seeing you today!</td>\n",
       "    </tr>\n",
       "    <tr>\n",
       "      <th>1</th>\n",
       "      <td>0</td>\n",
       "      <td>751510274432131072</td>\n",
       "      <td>\"i just wanted to check that you got my previo...</td>\n",
       "    </tr>\n",
       "    <tr>\n",
       "      <th>2</th>\n",
       "      <td>0</td>\n",
       "      <td>751374701344219136</td>\n",
       "      <td>rt &lt;user&gt;: &lt;user&gt; support for minor bugs may e...</td>\n",
       "    </tr>\n",
       "    <tr>\n",
       "      <th>3</th>\n",
       "      <td>0</td>\n",
       "      <td>751373414435328001</td>\n",
       "      <td>could be controversial, but frankly i think it...</td>\n",
       "    </tr>\n",
       "    <tr>\n",
       "      <th>4</th>\n",
       "      <td>0</td>\n",
       "      <td>751373066987573248</td>\n",
       "      <td>til that &lt;user&gt; plans to drop python 2 support...</td>\n",
       "    </tr>\n",
       "  </tbody>\n",
       "</table>\n",
       "</div>"
      ],
      "text/plain": [
       "   class                  id  \\\n",
       "0      0  752137929871462400   \n",
       "1      0  751510274432131072   \n",
       "2      0  751374701344219136   \n",
       "3      0  751373414435328001   \n",
       "4      0  751373066987573248   \n",
       "\n",
       "                                                text  \n",
       "0                     <user> great seeing you today!  \n",
       "1  \"i just wanted to check that you got my previo...  \n",
       "2  rt <user>: <user> support for minor bugs may e...  \n",
       "3  could be controversial, but frankly i think it...  \n",
       "4  til that <user> plans to drop python 2 support...  "
      ]
     },
     "execution_count": 11,
     "metadata": {},
     "output_type": "execute_result"
    }
   ],
   "source": [
    "DATASET_PATH = \"../corpora/full_dataset.csv\"\n",
    "pd_dataset = pd.DataFrame.from_csv(DATASET_PATH)\n",
    "pd_dataset.head()"
   ]
  },
  {
   "cell_type": "markdown",
   "metadata": {},
   "source": [
    "## 1.1. Study the vocabulary"
   ]
  },
  {
   "cell_type": "code",
   "execution_count": null,
   "metadata": {
    "collapsed": true
   },
   "outputs": [],
   "source": []
  },
  {
   "cell_type": "markdown",
   "metadata": {},
   "source": [
    "## 1.2. Bag of words"
   ]
  },
  {
   "cell_type": "markdown",
   "metadata": {},
   "source": [
    "#  2. “You will be judged by the company you keep” -  Word embeddings"
   ]
  }
 ],
 "metadata": {
  "kernelspec": {
   "display_name": "Python 3",
   "language": "python",
   "name": "python3"
  },
  "language_info": {
   "codemirror_mode": {
    "name": "ipython",
    "version": 3
   },
   "file_extension": ".py",
   "mimetype": "text/x-python",
   "name": "python",
   "nbconvert_exporter": "python",
   "pygments_lexer": "ipython3",
   "version": "3.5.2"
  }
 },
 "nbformat": 4,
 "nbformat_minor": 0
}
