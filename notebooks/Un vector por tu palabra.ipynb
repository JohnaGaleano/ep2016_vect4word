{
 "cells": [
  {
   "cell_type": "markdown",
   "metadata": {},
   "source": [
    "# ¡Hola!\n",
    "____________________\n",
    "- **Name:** Maite Giménez.\n",
    "- **Who?:** Ph.D. student at Universitat Politècnica de València.\n",
    "- **Twitter:** @maidotgimenez\n",
    "- **Github:** maigimenez\n",
    "\n",
    "\n",
    "\n",
    "![PyladiesES!](imgs/pyladiesES.png \"PyLadies Spain\")\n",
    "\n",
    "## Where are the slides?\n",
    "It's a notebook and it's available here: [Github/maigimenez/ep2016_vect4word](https://github.com/maigimenez/ep2016_vect4word)"
   ]
  },
  {
   "cell_type": "markdown",
   "metadata": {},
   "source": [
    "# Roadmap\n",
    "\n",
    "1. Definition of the problem. \n",
    "  1. Text representation in NLP.\n",
    "  2. An NLP problem: Binary gender classification.\n",
    "2. Get some data.\n",
    "3. Bag of words.\n",
    "4. Word embeddings\n",
    "  1. Pre-trained word embeddings.\n",
    "  2. Train your own model.\n",
    "5. Compare your approaches\n",
    "6. Discuss!"
   ]
  },
  {
   "cell_type": "markdown",
   "metadata": {},
   "source": [
    "![Science!](imgs/neil.gif \"Loving science!\")"
   ]
  },
  {
   "cell_type": "markdown",
   "metadata": {},
   "source": [
    "# 1. Definition of the problem\n",
    "\n",
    "## 1.1. Words are NOT numbers\n",
    "![Doctor!](imgs/doctor.gif \"I'm sorry\")\n",
    "\n",
    "## 1.2. Binary gender classification is dead\n"
   ]
  },
  {
   "cell_type": "markdown",
   "metadata": {},
   "source": [
    "# 2. Get some data!"
   ]
  },
  {
   "cell_type": "markdown",
   "metadata": {},
   "source": [
    "## 2.1 Gather your data"
   ]
  },
  {
   "cell_type": "code",
   "execution_count": 1,
   "metadata": {
    "collapsed": true
   },
   "outputs": [],
   "source": [
    "from configparser import ConfigParser\n",
    "from os.path import join\n",
    "from os import pardir"
   ]
  },
  {
   "cell_type": "code",
   "execution_count": 2,
   "metadata": {
    "collapsed": false
   },
   "outputs": [],
   "source": [
    "config = ConfigParser()\n",
    "config.read(join(pardir,'src','credentials.ini'))\n",
    "\n",
    "APP_KEY = config['twitter']['app_key']\n",
    "APP_SECRET = config['twitter']['app_secret']\n",
    "OAUTH_TOKEN =  config['twitter']['oauth_token']\n",
    "OAUTH_TOKEN_SECRET =  config['twitter']['oauth_token_secret']"
   ]
  },
  {
   "cell_type": "code",
   "execution_count": null,
   "metadata": {
    "collapsed": false
   },
   "outputs": [],
   "source": [
    "from twitter import oauth, Twitter, TwitterHTTPError"
   ]
  },
  {
   "cell_type": "code",
   "execution_count": null,
   "metadata": {
    "collapsed": false
   },
   "outputs": [],
   "source": [
    "auth = oauth.OAuth(OAUTH_TOKEN, OAUTH_TOKEN_SECRET,\n",
    "                   APP_KEY, APP_SECRET)\n",
    "\n",
    "twitter_api = Twitter(auth=auth)\n",
    "twitter_api.retry = True"
   ]
  },
  {
   "cell_type": "markdown",
   "metadata": {},
   "source": [
    "*Full disclaimer: gender is non a binary issue. This is just a simplified example. If you are willing to expand this experiment, go ahead and contact me!*"
   ]
  },
  {
   "cell_type": "code",
   "execution_count": null,
   "metadata": {
    "collapsed": false
   },
   "outputs": [],
   "source": [
    "brogrammers = ['jakevdp', 'rasbt', 'GaelVaroquaux', 'amuellerml', 'fperez_org', \n",
    "               'fpedregosa', 'ogrisel', 'dontusethiscode', 'randal_olson', 'tdhopper' ] \n",
    "sisgrammers = ['pkafei', 'LorenaABarba', 'jessicamckellar', 'heddle317', 'diana_clarke',\n",
    "               'wholemilk', 'spang', 'cecilycarver', 'juliaelman', 'b0rk']\n",
    "\n",
    "brotweets = []\n",
    "for bro in brogrammers: \n",
    "    brotweets.extend(twitter_api.statuses.user_timeline(screen_name=bro, count=100))\n",
    "\n",
    "sistweets = []\n",
    "for sis in sisgrammers: \n",
    "    sistweets.extend(twitter_api.statuses.user_timeline(screen_name=sis, count=100))"
   ]
  },
  {
   "cell_type": "markdown",
   "metadata": {},
   "source": [
    "## 2.2. Clean your data"
   ]
  },
  {
   "cell_type": "code",
   "execution_count": null,
   "metadata": {
    "collapsed": false
   },
   "outputs": [],
   "source": [
    "import re\n",
    "\n",
    "def clean_tweet(tweet):\n",
    "    \"\"\" Simplest preprocess.\n",
    "\n",
    "    Convert a tweet to lowercarse and replace URLs and @username by a generic token\n",
    "\n",
    "    Args:\n",
    "        tweet (str): Tweet to clean.\n",
    "\n",
    "    Returns:\n",
    "        str: Preprocessed tweet\n",
    "    \"\"\"\n",
    "    \n",
    "    tweet = tweet.lower()\n",
    "    \n",
    "    # Remove URL and replace them with a token\n",
    "    URL_REGEX = r'http[s]?://(?:[a-zA-Z]|[0-9]|[$-_@.&+]|[!*\\(\\),]|(?:%[0-9a-fA-F][0-9a-fA-F]))+'\n",
    "    tweet = re.sub(URL_REGEX, '<url>', tweet, flags=re.MULTILINE)\n",
    "    \n",
    "    # Remove usernames and replace them with a token\n",
    "    tweet = re.sub(\"@([A-Za-z0-9_]+)\", \"<user>\", tweet)\n",
    "\n",
    "    # Remove repeated spaces\n",
    "    tweet = re.sub(r\"\\s{2,}\", \" \", tweet)\n",
    "\n",
    "    # If a character is repeated more than 4 time, keep only 3 repetitions.\n",
    "    tweet = re.sub(r'(.)\\1{4,}', r'\\1\\1\\1', tweet)\n",
    "    \n",
    "    return tweet"
   ]
  },
  {
   "cell_type": "code",
   "execution_count": null,
   "metadata": {
    "collapsed": false
   },
   "outputs": [],
   "source": [
    "import pandas as pd\n",
    "\n",
    "dataset = []\n",
    "# Gather the text \n",
    "for tweet in brotweets:\n",
    "    cleaned_tweet = clean_tweet(tweet['text'])\n",
    "    dataset.append({'id': tweet['id'], 'text': cleaned_tweet, 'class': 0})\n",
    "for tweet in sistweets:\n",
    "    cleaned_tweet = clean_tweet(tweet['text'])\n",
    "    dataset.append({'id': tweet['id'], 'text': cleaned_tweet, 'class': 1})\n",
    "\n",
    "pd_dataset = pd.DataFrame(dataset)"
   ]
  },
  {
   "cell_type": "code",
   "execution_count": null,
   "metadata": {
    "collapsed": false
   },
   "outputs": [],
   "source": [
    "pd_dataset.head()"
   ]
  },
  {
   "cell_type": "markdown",
   "metadata": {},
   "source": [
    "## 2.3. Share your data"
   ]
  },
  {
   "cell_type": "code",
   "execution_count": null,
   "metadata": {
    "collapsed": false
   },
   "outputs": [],
   "source": [
    "pd_dataset.to_csv('../corpora/full_dataset.csv')"
   ]
  },
  {
   "cell_type": "code",
   "execution_count": null,
   "metadata": {
    "collapsed": false
   },
   "outputs": [],
   "source": [
    "pd_dataset[['class', 'id']].to_csv('../corpora/ep16.csv')"
   ]
  },
  {
   "cell_type": "markdown",
   "metadata": {},
   "source": [
    "![Toast!](imgs/toast.gif \"Let's celebrate!\")"
   ]
  },
  {
   "cell_type": "markdown",
   "metadata": {},
   "source": [
    "## 2.4. Study your data"
   ]
  },
  {
   "cell_type": "code",
   "execution_count": 3,
   "metadata": {
    "collapsed": false
   },
   "outputs": [
    {
     "data": {
      "text/html": [
       "<div>\n",
       "<table border=\"1\" class=\"dataframe\">\n",
       "  <thead>\n",
       "    <tr style=\"text-align: right;\">\n",
       "      <th></th>\n",
       "      <th>class</th>\n",
       "      <th>id</th>\n",
       "      <th>text</th>\n",
       "    </tr>\n",
       "  </thead>\n",
       "  <tbody>\n",
       "    <tr>\n",
       "      <th>0</th>\n",
       "      <td>0</td>\n",
       "      <td>752137929871462400</td>\n",
       "      <td>&lt;user&gt; great seeing you today!</td>\n",
       "    </tr>\n",
       "    <tr>\n",
       "      <th>1</th>\n",
       "      <td>0</td>\n",
       "      <td>751510274432131072</td>\n",
       "      <td>\"i just wanted to check that you got my previo...</td>\n",
       "    </tr>\n",
       "    <tr>\n",
       "      <th>2</th>\n",
       "      <td>0</td>\n",
       "      <td>751374701344219136</td>\n",
       "      <td>rt &lt;user&gt;: &lt;user&gt; support for minor bugs may e...</td>\n",
       "    </tr>\n",
       "    <tr>\n",
       "      <th>3</th>\n",
       "      <td>0</td>\n",
       "      <td>751373414435328001</td>\n",
       "      <td>could be controversial, but frankly i think it...</td>\n",
       "    </tr>\n",
       "    <tr>\n",
       "      <th>4</th>\n",
       "      <td>0</td>\n",
       "      <td>751373066987573248</td>\n",
       "      <td>til that &lt;user&gt; plans to drop python 2 support...</td>\n",
       "    </tr>\n",
       "  </tbody>\n",
       "</table>\n",
       "</div>"
      ],
      "text/plain": [
       "   class                  id  \\\n",
       "0      0  752137929871462400   \n",
       "1      0  751510274432131072   \n",
       "2      0  751374701344219136   \n",
       "3      0  751373414435328001   \n",
       "4      0  751373066987573248   \n",
       "\n",
       "                                                text  \n",
       "0                     <user> great seeing you today!  \n",
       "1  \"i just wanted to check that you got my previo...  \n",
       "2  rt <user>: <user> support for minor bugs may e...  \n",
       "3  could be controversial, but frankly i think it...  \n",
       "4  til that <user> plans to drop python 2 support...  "
      ]
     },
     "execution_count": 3,
     "metadata": {},
     "output_type": "execute_result"
    }
   ],
   "source": [
    "import pandas as pd\n",
    "\n",
    "DATASET_PATH = \"../corpora/full_dataset.csv\"\n",
    "pd_dataset = pd.DataFrame.from_csv(DATASET_PATH)\n",
    "pd_dataset.head()"
   ]
  },
  {
   "cell_type": "code",
   "execution_count": 4,
   "metadata": {
    "collapsed": false
   },
   "outputs": [],
   "source": [
    "import nltk.data\n",
    "#nltk.download()   "
   ]
  },
  {
   "cell_type": "code",
   "execution_count": 5,
   "metadata": {
    "collapsed": false
   },
   "outputs": [],
   "source": [
    "from nltk.tokenize import TweetTokenizer, word_tokenize\n",
    "from nltk.corpus import stopwords\n",
    "from collections import Counter\n",
    "import re\n",
    "import scipy.stats as stats"
   ]
  },
  {
   "cell_type": "code",
   "execution_count": 6,
   "metadata": {
    "collapsed": false
   },
   "outputs": [
    {
     "name": "stdout",
     "output_type": "stream",
     "text": [
      "i, me, my, myself, we, our, ours, ourselves, you, your, yours, yourself, yourselves, he, him, his, himself, she, her, hers\n"
     ]
    }
   ],
   "source": [
    "print(', '.join(stopwords.words('english')[:20]))"
   ]
  },
  {
   "cell_type": "code",
   "execution_count": 7,
   "metadata": {
    "collapsed": true
   },
   "outputs": [],
   "source": [
    "def get_vocabulary(corpus, tokenizer):\n",
    "    stop_words = stopwords.words('english')\n",
    "\n",
    "    # Remove puntuation marks\n",
    "    no_punks = [re.sub(r'\\W', ' ', tweet) for tweet in corpus]\n",
    "    \n",
    "    # Tokenize and remove stop words\n",
    "    clean_tokens = []\n",
    "    for tweet in no_punks:\n",
    "        # Replace different numbers with a token\n",
    "        tweet = re.sub(r\"\\.\\d+\\s*\", \".<number> \", tweet)\n",
    "        tweet = re.sub(r\"\\d+\\s*\", \" <number> \", tweet)\n",
    "    \n",
    "        tokens = tokenizer(tweet)\n",
    "        tokens = [token for token in tokens if token not in stop_words]\n",
    "        clean_tokens.extend(tokens)\n",
    "\n",
    "    # Build the vocabulary\n",
    "    return Counter(clean_tokens)"
   ]
  },
  {
   "cell_type": "code",
   "execution_count": 8,
   "metadata": {
    "collapsed": false
   },
   "outputs": [],
   "source": [
    "tknzr = TweetTokenizer()\n",
    "\n",
    "brotweets = pd_dataset[pd_dataset['class'] == 0]['text'].tolist()\n",
    "sistweets = pd_dataset[pd_dataset['class'] == 1]['text'].tolist()\n",
    "\n",
    "brocabulary = get_vocabulary(brotweets, tknzr.tokenize)\n",
    "siscabulary = get_vocabulary(sistweets, tknzr.tokenize)"
   ]
  },
  {
   "cell_type": "code",
   "execution_count": 9,
   "metadata": {
    "collapsed": false
   },
   "outputs": [
    {
     "data": {
      "text/plain": [
       "[('user', 1313),\n",
       " ('url', 676),\n",
       " ('<number>', 483),\n",
       " ('rt', 420),\n",
       " ('python', 96),\n",
       " ('talk', 49),\n",
       " ('learning', 46),\n",
       " ('data', 45),\n",
       " ('new', 43),\n",
       " ('https', 42)]"
      ]
     },
     "execution_count": 9,
     "metadata": {},
     "output_type": "execute_result"
    }
   ],
   "source": [
    "brocabulary.most_common(10)"
   ]
  },
  {
   "cell_type": "code",
   "execution_count": 10,
   "metadata": {
    "collapsed": false
   },
   "outputs": [
    {
     "data": {
      "text/plain": [
       "[('user', 1009),\n",
       " ('url', 419),\n",
       " ('<number>', 337),\n",
       " ('rt', 234),\n",
       " ('pycon', 54),\n",
       " ('one', 40),\n",
       " ('sgdq', 40),\n",
       " ('get', 39),\n",
       " ('like', 37),\n",
       " ('code', 30)]"
      ]
     },
     "execution_count": 10,
     "metadata": {},
     "output_type": "execute_result"
    }
   ],
   "source": [
    "siscabulary.most_common(10)"
   ]
  },
  {
   "cell_type": "code",
   "execution_count": 11,
   "metadata": {
    "collapsed": false
   },
   "outputs": [
    {
     "data": {
      "text/html": [
       "\n",
       "    <div class=\"bk-root\">\n",
       "        <a href=\"http://bokeh.pydata.org\" target=\"_blank\" class=\"bk-logo bk-logo-small bk-logo-notebook\"></a>\n",
       "        <span id=\"e3440488-57af-4d45-a624-2216717626fa\">Loading BokehJS ...</span>\n",
       "    </div>"
      ]
     },
     "metadata": {},
     "output_type": "display_data"
    },
    {
     "data": {
      "application/javascript": [
       "\n",
       "(function(global) {\n",
       "  function now() {\n",
       "    return new Date();\n",
       "  }\n",
       "\n",
       "  if (typeof (window._bokeh_onload_callbacks) === \"undefined\") {\n",
       "    window._bokeh_onload_callbacks = [];\n",
       "  }\n",
       "\n",
       "  function run_callbacks() {\n",
       "    window._bokeh_onload_callbacks.forEach(function(callback) { callback() });\n",
       "    delete window._bokeh_onload_callbacks\n",
       "    console.info(\"Bokeh: all callbacks have finished\");\n",
       "  }\n",
       "\n",
       "  function load_libs(js_urls, callback) {\n",
       "    window._bokeh_onload_callbacks.push(callback);\n",
       "    if (window._bokeh_is_loading > 0) {\n",
       "      console.log(\"Bokeh: BokehJS is being loaded, scheduling callback at\", now());\n",
       "      return null;\n",
       "    }\n",
       "    if (js_urls == null || js_urls.length === 0) {\n",
       "      run_callbacks();\n",
       "      return null;\n",
       "    }\n",
       "    console.log(\"Bokeh: BokehJS not loaded, scheduling load and callback at\", now());\n",
       "    window._bokeh_is_loading = js_urls.length;\n",
       "    for (var i = 0; i < js_urls.length; i++) {\n",
       "      var url = js_urls[i];\n",
       "      var s = document.createElement('script');\n",
       "      s.src = url;\n",
       "      s.async = false;\n",
       "      s.onreadystatechange = s.onload = function() {\n",
       "        window._bokeh_is_loading--;\n",
       "        if (window._bokeh_is_loading === 0) {\n",
       "          console.log(\"Bokeh: all BokehJS libraries loaded\");\n",
       "          run_callbacks()\n",
       "        }\n",
       "      };\n",
       "      s.onerror = function() {\n",
       "        console.warn(\"failed to load library \" + url);\n",
       "      };\n",
       "      console.log(\"Bokeh: injecting script tag for BokehJS library: \", url);\n",
       "      document.getElementsByTagName(\"head\")[0].appendChild(s);\n",
       "    }\n",
       "  };\n",
       "\n",
       "  var js_urls = ['https://cdn.pydata.org/bokeh/release/bokeh-0.12.0.min.js', 'https://cdn.pydata.org/bokeh/release/bokeh-widgets-0.12.0.min.js', 'https://cdn.pydata.org/bokeh/release/bokeh-compiler-0.12.0.min.js'];\n",
       "\n",
       "  var inline_js = [\n",
       "    function(Bokeh) {\n",
       "      Bokeh.set_log_level(\"info\");\n",
       "    },\n",
       "    \n",
       "    function(Bokeh) {\n",
       "      Bokeh.$(\"#e3440488-57af-4d45-a624-2216717626fa\").text(\"BokehJS successfully loaded\");\n",
       "    },\n",
       "    function(Bokeh) {\n",
       "      console.log(\"Bokeh: injecting CSS: https://cdn.pydata.org/bokeh/release/bokeh-0.12.0.min.css\");\n",
       "      Bokeh.embed.inject_css(\"https://cdn.pydata.org/bokeh/release/bokeh-0.12.0.min.css\");\n",
       "      console.log(\"Bokeh: injecting CSS: https://cdn.pydata.org/bokeh/release/bokeh-widgets-0.12.0.min.css\");\n",
       "      Bokeh.embed.inject_css(\"https://cdn.pydata.org/bokeh/release/bokeh-widgets-0.12.0.min.css\");\n",
       "    }\n",
       "  ];\n",
       "\n",
       "  function run_inline_js() {\n",
       "    for (var i = 0; i < inline_js.length; i++) {\n",
       "      inline_js[i](window.Bokeh);\n",
       "    }\n",
       "  }\n",
       "\n",
       "  if (window._bokeh_is_loading === 0) {\n",
       "    console.log(\"Bokeh: BokehJS loaded, going straight to plotting\");\n",
       "    run_inline_js();\n",
       "  } else {\n",
       "    load_libs(js_urls, function() {\n",
       "      console.log(\"Bokeh: BokehJS plotting callback run at\", now());\n",
       "      run_inline_js();\n",
       "    });\n",
       "  }\n",
       "}(this));"
      ]
     },
     "metadata": {},
     "output_type": "display_data"
    }
   ],
   "source": [
    "from bokeh.plotting import figure, show, vplot, ColumnDataSource\n",
    "from bokeh.io import output_notebook\n",
    "from bokeh.models import HoverTool\n",
    "\n",
    "output_notebook()"
   ]
  },
  {
   "cell_type": "code",
   "execution_count": 12,
   "metadata": {
    "collapsed": false
   },
   "outputs": [],
   "source": [
    "MOST_COMMON = 50\n",
    "\n",
    "mc_brocavulary = brocabulary.most_common(int(MOST_COMMON/2))\n",
    "mc_siscavulary = siscabulary.most_common(int(MOST_COMMON/2))\n",
    "\n",
    "fr_brocavulary, fr_siscavulary  = [], []\n",
    "most_common_words = mc_brocavulary + mc_siscavulary\n",
    "words = list(set(word for word, _ in most_common_words))\n",
    "for word in words:\n",
    "    if word in brocabulary:\n",
    "        fr_brocavulary.append(brocabulary[word])\n",
    "    else:\n",
    "        fr_brocavulary.append(0)\n",
    "    if word in siscabulary:\n",
    "        fr_siscavulary.append(siscabulary[word])\n",
    "    else:\n",
    "        fr_siscavulary.append(0)"
   ]
  },
  {
   "cell_type": "code",
   "execution_count": 13,
   "metadata": {
    "collapsed": false
   },
   "outputs": [
    {
     "data": {
      "text/html": [
       "\n",
       "\n",
       "    <div class=\"bk-root\">\n",
       "        <div class=\"plotdiv\" id=\"0449597f-c422-4d70-8856-677cf90107b0\"></div>\n",
       "    </div>\n",
       "<script type=\"text/javascript\">\n",
       "  \n",
       "  (function(global) {\n",
       "    function now() {\n",
       "      return new Date();\n",
       "    }\n",
       "  \n",
       "    if (typeof (window._bokeh_onload_callbacks) === \"undefined\") {\n",
       "      window._bokeh_onload_callbacks = [];\n",
       "    }\n",
       "  \n",
       "    function run_callbacks() {\n",
       "      window._bokeh_onload_callbacks.forEach(function(callback) { callback() });\n",
       "      delete window._bokeh_onload_callbacks\n",
       "      console.info(\"Bokeh: all callbacks have finished\");\n",
       "    }\n",
       "  \n",
       "    function load_libs(js_urls, callback) {\n",
       "      window._bokeh_onload_callbacks.push(callback);\n",
       "      if (window._bokeh_is_loading > 0) {\n",
       "        console.log(\"Bokeh: BokehJS is being loaded, scheduling callback at\", now());\n",
       "        return null;\n",
       "      }\n",
       "      if (js_urls == null || js_urls.length === 0) {\n",
       "        run_callbacks();\n",
       "        return null;\n",
       "      }\n",
       "      console.log(\"Bokeh: BokehJS not loaded, scheduling load and callback at\", now());\n",
       "      window._bokeh_is_loading = js_urls.length;\n",
       "      for (var i = 0; i < js_urls.length; i++) {\n",
       "        var url = js_urls[i];\n",
       "        var s = document.createElement('script');\n",
       "        s.src = url;\n",
       "        s.async = false;\n",
       "        s.onreadystatechange = s.onload = function() {\n",
       "          window._bokeh_is_loading--;\n",
       "          if (window._bokeh_is_loading === 0) {\n",
       "            console.log(\"Bokeh: all BokehJS libraries loaded\");\n",
       "            run_callbacks()\n",
       "          }\n",
       "        };\n",
       "        s.onerror = function() {\n",
       "          console.warn(\"failed to load library \" + url);\n",
       "        };\n",
       "        console.log(\"Bokeh: injecting script tag for BokehJS library: \", url);\n",
       "        document.getElementsByTagName(\"head\")[0].appendChild(s);\n",
       "      }\n",
       "    };var element = document.getElementById(\"0449597f-c422-4d70-8856-677cf90107b0\");\n",
       "    if (element == null) {\n",
       "      console.log(\"Bokeh: ERROR: autoload.js configured with elementid '0449597f-c422-4d70-8856-677cf90107b0' but no matching script tag was found. \")\n",
       "      return false;\n",
       "    }\n",
       "  \n",
       "    var js_urls = [];\n",
       "  \n",
       "    var inline_js = [\n",
       "      function(Bokeh) {\n",
       "        Bokeh.$(function() {\n",
       "            var docs_json = {\"b35fd3f8-901d-4d84-87b6-10661210a248\":{\"roots\":{\"references\":[{\"attributes\":{\"fill_alpha\":{\"value\":0.1},\"fill_color\":{\"value\":\"#1f77b4\"},\"line_alpha\":{\"value\":0.1},\"line_color\":{\"value\":\"#1f77b4\"},\"size\":{\"units\":\"screen\",\"value\":10},\"x\":{\"field\":\"range_words\"},\"y\":{\"field\":\"freq_false\"}},\"id\":\"bac3654d-3000-4575-aabc-d7c491c15463\",\"type\":\"Circle\"},{\"attributes\":{\"axis_label\":\"Frequency\",\"formatter\":{\"id\":\"358b0c48-ba36-4d5b-a8d4-da3ec021cc9b\",\"type\":\"BasicTickFormatter\"},\"plot\":{\"id\":\"635871bc-f4ee-40df-be12-7fe764d51431\",\"subtype\":\"Figure\",\"type\":\"Plot\"},\"ticker\":{\"id\":\"17e2738d-d6cc-48da-8c6b-920615df404a\",\"type\":\"BasicTicker\"}},\"id\":\"dce60afc-186a-42c0-a6f8-ce68f1ded4b0\",\"type\":\"LinearAxis\"},{\"attributes\":{\"dimension\":1,\"plot\":{\"id\":\"635871bc-f4ee-40df-be12-7fe764d51431\",\"subtype\":\"Figure\",\"type\":\"Plot\"},\"ticker\":{\"id\":\"17e2738d-d6cc-48da-8c6b-920615df404a\",\"type\":\"BasicTicker\"}},\"id\":\"7248b566-0724-4ea5-8a37-810b59826302\",\"type\":\"Grid\"},{\"attributes\":{\"bottom_units\":\"screen\",\"fill_alpha\":{\"value\":0.5},\"fill_color\":{\"value\":\"lightgrey\"},\"left_units\":\"screen\",\"level\":\"overlay\",\"line_alpha\":{\"value\":1.0},\"line_color\":{\"value\":\"black\"},\"line_dash\":[4,4],\"line_width\":{\"value\":2},\"plot\":null,\"render_mode\":\"css\",\"right_units\":\"screen\",\"top_units\":\"screen\"},\"id\":\"848edef0-6969-4952-ba74-3707131de612\",\"type\":\"BoxAnnotation\"},{\"attributes\":{\"axis_label\":\"Words\",\"formatter\":{\"id\":\"1eb52422-9230-4f1b-9b84-e2eccebe5b9d\",\"type\":\"CategoricalTickFormatter\"},\"major_label_orientation\":0.7853981633974483,\"plot\":{\"id\":\"635871bc-f4ee-40df-be12-7fe764d51431\",\"subtype\":\"Figure\",\"type\":\"Plot\"},\"ticker\":{\"id\":\"f12460c4-982c-48dc-b858-08f85b46c8c0\",\"type\":\"CategoricalTicker\"}},\"id\":\"d58271d4-6ee4-4ae2-bab6-834633a257ef\",\"type\":\"CategoricalAxis\"},{\"attributes\":{\"plot\":{\"id\":\"635871bc-f4ee-40df-be12-7fe764d51431\",\"subtype\":\"Figure\",\"type\":\"Plot\"}},\"id\":\"afdec57f-3f84-4f62-943e-7b2ea81486d7\",\"type\":\"WheelZoomTool\"},{\"attributes\":{},\"id\":\"f12460c4-982c-48dc-b858-08f85b46c8c0\",\"type\":\"CategoricalTicker\"},{\"attributes\":{\"callback\":null,\"factors\":[\"learning\",\"way\",\"good\",\"new\",\"code\",\"get\",\"time\",\"python\",\"one\",\"oh\",\"<number>\",\"thanks\",\"day\",\"think\",\"url\",\"great\",\"really\",\"make\",\"slides\",\"know\",\"icml\",\"data\",\"open\",\"https\",\"rt\",\"talk\",\"like\",\"pycon\",\"sgdq\",\"learn\",\"dataviz\",\"amp\",\"user\",\"want\"]},\"id\":\"5c3ea13b-b53e-44f4-becd-998667e0bb67\",\"type\":\"FactorRange\"},{\"attributes\":{\"plot\":null,\"text\":\"Vocabulary gender\"},\"id\":\"b890d7db-7593-46c9-8857-0e227257b889\",\"type\":\"Title\"},{\"attributes\":{},\"id\":\"1eb52422-9230-4f1b-9b84-e2eccebe5b9d\",\"type\":\"CategoricalTickFormatter\"},{\"attributes\":{\"plot\":{\"id\":\"635871bc-f4ee-40df-be12-7fe764d51431\",\"subtype\":\"Figure\",\"type\":\"Plot\"}},\"id\":\"8c46f952-09e4-4fde-ae93-065afacd9b1b\",\"type\":\"PanTool\"},{\"attributes\":{\"fill_alpha\":{\"value\":0.2},\"fill_color\":{\"value\":\"navy\"},\"line_color\":{\"value\":\"navy\"},\"size\":{\"units\":\"screen\",\"value\":10},\"x\":{\"field\":\"range_words\"},\"y\":{\"field\":\"freq_true\"}},\"id\":\"d32a71d2-9b66-4309-90e8-63482719aaae\",\"type\":\"Circle\"},{\"attributes\":{\"overlay\":{\"id\":\"848edef0-6969-4952-ba74-3707131de612\",\"type\":\"BoxAnnotation\"},\"plot\":{\"id\":\"635871bc-f4ee-40df-be12-7fe764d51431\",\"subtype\":\"Figure\",\"type\":\"Plot\"}},\"id\":\"27c865fe-96d1-4537-8c14-2ec0008881c1\",\"type\":\"BoxZoomTool\"},{\"attributes\":{\"plot\":{\"id\":\"635871bc-f4ee-40df-be12-7fe764d51431\",\"subtype\":\"Figure\",\"type\":\"Plot\"}},\"id\":\"eefa0723-f775-4d99-9425-ec32ffea5f81\",\"type\":\"SaveTool\"},{\"attributes\":{\"plot\":{\"id\":\"635871bc-f4ee-40df-be12-7fe764d51431\",\"subtype\":\"Figure\",\"type\":\"Plot\"},\"ticker\":{\"id\":\"f12460c4-982c-48dc-b858-08f85b46c8c0\",\"type\":\"CategoricalTicker\"}},\"id\":\"73495566-618e-4e7c-ac82-e1cd45d47061\",\"type\":\"Grid\"},{\"attributes\":{\"callback\":null,\"column_names\":[\"freq_false\",\"words\",\"freq_true\",\"range_words\"],\"data\":{\"freq_false\":[6,22,29,27,30,39,25,27,40,22,337,29,22,23,419,19,18,20,8,29,0,6,24,12,234,20,37,54,40,6,0,29,1009,20],\"freq_true\":[46,7,28,43,25,25,25,96,35,13,483,40,14,25,676,34,30,13,25,13,27,45,25,42,420,49,34,18,0,28,32,42,1313,9],\"range_words\":[1,2,3,4,5,6,7,8,9,10,11,12,13,14,15,16,17,18,19,20,21,22,23,24,25,26,27,28,29,30,31,32,33,34],\"words\":[\"learning\",\"way\",\"good\",\"new\",\"code\",\"get\",\"time\",\"python\",\"one\",\"oh\",\"<number>\",\"thanks\",\"day\",\"think\",\"url\",\"great\",\"really\",\"make\",\"slides\",\"know\",\"icml\",\"data\",\"open\",\"https\",\"rt\",\"talk\",\"like\",\"pycon\",\"sgdq\",\"learn\",\"dataviz\",\"amp\",\"user\",\"want\"]}},\"id\":\"a2a8cb61-0590-4e5f-83d4-c26bf251af24\",\"type\":\"ColumnDataSource\"},{\"attributes\":{\"fill_alpha\":{\"value\":0.1},\"fill_color\":{\"value\":\"#1f77b4\"},\"line_alpha\":{\"value\":0.1},\"line_color\":{\"value\":\"#1f77b4\"},\"size\":{\"units\":\"screen\",\"value\":10},\"x\":{\"field\":\"range_words\"},\"y\":{\"field\":\"freq_true\"}},\"id\":\"8350eb0f-65c8-461e-850b-4521efd2c53d\",\"type\":\"Circle\"},{\"attributes\":{\"plot\":{\"id\":\"635871bc-f4ee-40df-be12-7fe764d51431\",\"subtype\":\"Figure\",\"type\":\"Plot\"}},\"id\":\"419767b8-a93f-4474-bc5c-fde00867a6d1\",\"type\":\"ResetTool\"},{\"attributes\":{\"data_source\":{\"id\":\"a2a8cb61-0590-4e5f-83d4-c26bf251af24\",\"type\":\"ColumnDataSource\"},\"glyph\":{\"id\":\"f7a36f91-da8e-4d53-87c1-a60f928708ef\",\"type\":\"Circle\"},\"hover_glyph\":null,\"nonselection_glyph\":{\"id\":\"bac3654d-3000-4575-aabc-d7c491c15463\",\"type\":\"Circle\"},\"selection_glyph\":null},\"id\":\"be48b2f3-f1c7-49e6-8594-5ec17c8bfc9f\",\"type\":\"GlyphRenderer\"},{\"attributes\":{\"callback\":null,\"plot\":{\"id\":\"635871bc-f4ee-40df-be12-7fe764d51431\",\"subtype\":\"Figure\",\"type\":\"Plot\"},\"tooltips\":[[\"words\",\"@words\"]]},\"id\":\"25c75527-5f51-4161-a2b9-6c3c2708d11f\",\"type\":\"HoverTool\"},{\"attributes\":{\"below\":[{\"id\":\"d58271d4-6ee4-4ae2-bab6-834633a257ef\",\"type\":\"CategoricalAxis\"}],\"left\":[{\"id\":\"dce60afc-186a-42c0-a6f8-ce68f1ded4b0\",\"type\":\"LinearAxis\"}],\"renderers\":[{\"id\":\"d58271d4-6ee4-4ae2-bab6-834633a257ef\",\"type\":\"CategoricalAxis\"},{\"id\":\"73495566-618e-4e7c-ac82-e1cd45d47061\",\"type\":\"Grid\"},{\"id\":\"dce60afc-186a-42c0-a6f8-ce68f1ded4b0\",\"type\":\"LinearAxis\"},{\"id\":\"7248b566-0724-4ea5-8a37-810b59826302\",\"type\":\"Grid\"},{\"id\":\"848edef0-6969-4952-ba74-3707131de612\",\"type\":\"BoxAnnotation\"},{\"id\":\"ecfeffee-f5e9-45a7-bd88-962b492f70dc\",\"type\":\"GlyphRenderer\"},{\"id\":\"be48b2f3-f1c7-49e6-8594-5ec17c8bfc9f\",\"type\":\"GlyphRenderer\"}],\"title\":{\"id\":\"b890d7db-7593-46c9-8857-0e227257b889\",\"type\":\"Title\"},\"tool_events\":{\"id\":\"14be411e-1090-4f30-bb55-bce4d35dedeb\",\"type\":\"ToolEvents\"},\"toolbar\":{\"id\":\"e7da66fd-c5a4-49d7-a728-72804dac8e44\",\"type\":\"Toolbar\"},\"x_range\":{\"id\":\"5c3ea13b-b53e-44f4-becd-998667e0bb67\",\"type\":\"FactorRange\"},\"y_range\":{\"id\":\"84ca6802-eab7-43d6-bcb1-8fe51be7224f\",\"type\":\"DataRange1d\"}},\"id\":\"635871bc-f4ee-40df-be12-7fe764d51431\",\"subtype\":\"Figure\",\"type\":\"Plot\"},{\"attributes\":{\"fill_alpha\":{\"value\":0.2},\"fill_color\":{\"value\":\"red\"},\"line_color\":{\"value\":\"red\"},\"size\":{\"units\":\"screen\",\"value\":10},\"x\":{\"field\":\"range_words\"},\"y\":{\"field\":\"freq_false\"}},\"id\":\"f7a36f91-da8e-4d53-87c1-a60f928708ef\",\"type\":\"Circle\"},{\"attributes\":{},\"id\":\"14be411e-1090-4f30-bb55-bce4d35dedeb\",\"type\":\"ToolEvents\"},{\"attributes\":{},\"id\":\"17e2738d-d6cc-48da-8c6b-920615df404a\",\"type\":\"BasicTicker\"},{\"attributes\":{\"data_source\":{\"id\":\"a2a8cb61-0590-4e5f-83d4-c26bf251af24\",\"type\":\"ColumnDataSource\"},\"glyph\":{\"id\":\"d32a71d2-9b66-4309-90e8-63482719aaae\",\"type\":\"Circle\"},\"hover_glyph\":null,\"nonselection_glyph\":{\"id\":\"8350eb0f-65c8-461e-850b-4521efd2c53d\",\"type\":\"Circle\"},\"selection_glyph\":null},\"id\":\"ecfeffee-f5e9-45a7-bd88-962b492f70dc\",\"type\":\"GlyphRenderer\"},{\"attributes\":{\"callback\":null},\"id\":\"84ca6802-eab7-43d6-bcb1-8fe51be7224f\",\"type\":\"DataRange1d\"},{\"attributes\":{},\"id\":\"358b0c48-ba36-4d5b-a8d4-da3ec021cc9b\",\"type\":\"BasicTickFormatter\"},{\"attributes\":{\"active_drag\":\"auto\",\"active_scroll\":\"auto\",\"active_tap\":\"auto\",\"tools\":[{\"id\":\"25c75527-5f51-4161-a2b9-6c3c2708d11f\",\"type\":\"HoverTool\"},{\"id\":\"8c46f952-09e4-4fde-ae93-065afacd9b1b\",\"type\":\"PanTool\"},{\"id\":\"afdec57f-3f84-4f62-943e-7b2ea81486d7\",\"type\":\"WheelZoomTool\"},{\"id\":\"27c865fe-96d1-4537-8c14-2ec0008881c1\",\"type\":\"BoxZoomTool\"},{\"id\":\"419767b8-a93f-4474-bc5c-fde00867a6d1\",\"type\":\"ResetTool\"},{\"id\":\"eefa0723-f775-4d99-9425-ec32ffea5f81\",\"type\":\"SaveTool\"}]},\"id\":\"e7da66fd-c5a4-49d7-a728-72804dac8e44\",\"type\":\"Toolbar\"}],\"root_ids\":[\"635871bc-f4ee-40df-be12-7fe764d51431\"]},\"title\":\"Bokeh Application\",\"version\":\"0.12.0\"}};\n",
       "            var render_items = [{\"docid\":\"b35fd3f8-901d-4d84-87b6-10661210a248\",\"elementid\":\"0449597f-c422-4d70-8856-677cf90107b0\",\"modelid\":\"635871bc-f4ee-40df-be12-7fe764d51431\",\"notebook_comms_target\":\"b81a5195-69cb-4e82-9bdd-0aea606d4055\"}];\n",
       "            \n",
       "            Bokeh.embed.embed_items(docs_json, render_items);\n",
       "        });\n",
       "      },\n",
       "      function(Bokeh) {\n",
       "      }\n",
       "    ];\n",
       "  \n",
       "    function run_inline_js() {\n",
       "      for (var i = 0; i < inline_js.length; i++) {\n",
       "        inline_js[i](window.Bokeh);\n",
       "      }\n",
       "    }\n",
       "  \n",
       "    if (window._bokeh_is_loading === 0) {\n",
       "      console.log(\"Bokeh: BokehJS loaded, going straight to plotting\");\n",
       "      run_inline_js();\n",
       "    } else {\n",
       "      load_libs(js_urls, function() {\n",
       "        console.log(\"Bokeh: BokehJS plotting callback run at\", now());\n",
       "        run_inline_js();\n",
       "      });\n",
       "    }\n",
       "  }(this));\n",
       "</script>"
      ]
     },
     "metadata": {},
     "output_type": "display_data"
    },
    {
     "data": {
      "text/html": [
       "<p><code>&lt;Bokeh Notebook handle for <strong>In[13]</strong>&gt;</code></p>"
      ],
      "text/plain": [
       "<bokeh.io._CommsHandle at 0x10efa5908>"
      ]
     },
     "execution_count": 13,
     "metadata": {},
     "output_type": "execute_result"
    }
   ],
   "source": [
    "import numpy as np\n",
    "range_words=list(range(1,len(words)+1))\n",
    "source = ColumnDataSource(data=dict(range_words=range_words,\n",
    "                                    words=words,\n",
    "                                    freq_true=fr_brocavulary, \n",
    "                                    freq_false=fr_siscavulary))\n",
    "\n",
    "hover = HoverTool()\n",
    "hover.point_policy = \"follow_mouse\"\n",
    "hover = HoverTool(\n",
    "        tooltips=[\n",
    "            (\"words\", \"@words\"),\n",
    "        ]\n",
    "    )\n",
    "\n",
    "TOOLS=\"pan,wheel_zoom,box_zoom,reset,save\"\n",
    "\n",
    "\n",
    "p = figure(title = \"Vocabulary gender\", x_range=words, tools=[TOOLS, hover])\n",
    "p.xaxis.axis_label = 'Words'\n",
    "p.yaxis.axis_label = 'Frequency'\n",
    "p.circle('range_words', 'freq_true', source=source, fill_alpha=0.2, size=10, color=\"navy\")\n",
    "p.circle('range_words', 'freq_false', source=source, fill_alpha=0.2, size=10, color='red')\n",
    "p.xaxis.major_label_orientation = np.pi/4  \n",
    "\n",
    "show(p)"
   ]
  },
  {
   "cell_type": "code",
   "execution_count": 14,
   "metadata": {
    "collapsed": false
   },
   "outputs": [
    {
     "data": {
      "text/html": [
       "\n",
       "\n",
       "    <div class=\"bk-root\">\n",
       "        <div class=\"plotdiv\" id=\"71929e16-f58a-40f3-a6c0-e0978e38b81b\"></div>\n",
       "    </div>\n",
       "<script type=\"text/javascript\">\n",
       "  \n",
       "  (function(global) {\n",
       "    function now() {\n",
       "      return new Date();\n",
       "    }\n",
       "  \n",
       "    if (typeof (window._bokeh_onload_callbacks) === \"undefined\") {\n",
       "      window._bokeh_onload_callbacks = [];\n",
       "    }\n",
       "  \n",
       "    function run_callbacks() {\n",
       "      window._bokeh_onload_callbacks.forEach(function(callback) { callback() });\n",
       "      delete window._bokeh_onload_callbacks\n",
       "      console.info(\"Bokeh: all callbacks have finished\");\n",
       "    }\n",
       "  \n",
       "    function load_libs(js_urls, callback) {\n",
       "      window._bokeh_onload_callbacks.push(callback);\n",
       "      if (window._bokeh_is_loading > 0) {\n",
       "        console.log(\"Bokeh: BokehJS is being loaded, scheduling callback at\", now());\n",
       "        return null;\n",
       "      }\n",
       "      if (js_urls == null || js_urls.length === 0) {\n",
       "        run_callbacks();\n",
       "        return null;\n",
       "      }\n",
       "      console.log(\"Bokeh: BokehJS not loaded, scheduling load and callback at\", now());\n",
       "      window._bokeh_is_loading = js_urls.length;\n",
       "      for (var i = 0; i < js_urls.length; i++) {\n",
       "        var url = js_urls[i];\n",
       "        var s = document.createElement('script');\n",
       "        s.src = url;\n",
       "        s.async = false;\n",
       "        s.onreadystatechange = s.onload = function() {\n",
       "          window._bokeh_is_loading--;\n",
       "          if (window._bokeh_is_loading === 0) {\n",
       "            console.log(\"Bokeh: all BokehJS libraries loaded\");\n",
       "            run_callbacks()\n",
       "          }\n",
       "        };\n",
       "        s.onerror = function() {\n",
       "          console.warn(\"failed to load library \" + url);\n",
       "        };\n",
       "        console.log(\"Bokeh: injecting script tag for BokehJS library: \", url);\n",
       "        document.getElementsByTagName(\"head\")[0].appendChild(s);\n",
       "      }\n",
       "    };var element = document.getElementById(\"71929e16-f58a-40f3-a6c0-e0978e38b81b\");\n",
       "    if (element == null) {\n",
       "      console.log(\"Bokeh: ERROR: autoload.js configured with elementid '71929e16-f58a-40f3-a6c0-e0978e38b81b' but no matching script tag was found. \")\n",
       "      return false;\n",
       "    }\n",
       "  \n",
       "    var js_urls = [];\n",
       "  \n",
       "    var inline_js = [\n",
       "      function(Bokeh) {\n",
       "        Bokeh.$(function() {\n",
       "            var docs_json = {\"09ea8870-887b-4d6a-885a-e1804cadc157\":{\"roots\":{\"references\":[{\"attributes\":{\"plot\":{\"id\":\"3b147eb8-5dc1-449e-81b9-17f49ca09ef2\",\"subtype\":\"Figure\",\"type\":\"Plot\"}},\"id\":\"30580f5c-606f-400d-aa91-9f54c491fdc7\",\"type\":\"SaveTool\"},{\"attributes\":{\"callback\":null,\"column_names\":[\"left\",\"top\",\"right\"],\"data\":{\"left\":[6.0,13.95,21.9,29.85,37.8,45.75,53.7,61.65,69.6,77.55,85.5,93.45,101.4,109.35000000000001,117.3,125.25,133.2,141.15,149.1,157.05],\"right\":[13.95,21.9,29.85,37.8,45.75,53.7,61.65,69.6,77.55,85.5,93.45,101.4,109.35000000000001,117.3,125.25,133.2,141.15,149.1,157.05,165.0],\"top\":[0.0016352201257861635,0.002264150943396227,0.0021383647798742128,0.0023899371069182403,0.004025157232704401,0.004402515723270438,0.005157232704402518,0.0069182389937106955,0.00943396226415094,0.0064150943396226396,0.009937106918238991,0.010566037735849052,0.009811320754716977,0.01635220125786166,0.016603773584905654,0.01094339622641511,0.00654088050314464,0.00012578616352201274,0.0,0.00012578616352201274]}},\"id\":\"5c46c0dc-e1da-476e-a679-689353de0adb\",\"type\":\"ColumnDataSource\"},{\"attributes\":{\"plot\":{\"id\":\"3b147eb8-5dc1-449e-81b9-17f49ca09ef2\",\"subtype\":\"Figure\",\"type\":\"Plot\"}},\"id\":\"a861f681-b9d2-4967-8208-49dba1228156\",\"type\":\"HelpTool\"},{\"attributes\":{\"legends\":[[\"PDF\",[{\"id\":\"76d106b5-4782-4468-838d-31f0c028bc74\",\"type\":\"GlyphRenderer\"},{\"id\":\"5e9cd249-43c0-4b55-8e12-766763ca878b\",\"type\":\"GlyphRenderer\"}]]],\"plot\":{\"id\":\"3b147eb8-5dc1-449e-81b9-17f49ca09ef2\",\"subtype\":\"Figure\",\"type\":\"Plot\"}},\"id\":\"53109aff-ed18-4539-9561-30c2ac9e7019\",\"type\":\"Legend\"},{\"attributes\":{\"line_alpha\":{\"value\":0.7},\"line_color\":{\"value\":\"red\"},\"line_width\":{\"value\":6},\"x\":{\"field\":\"x\"},\"y\":{\"field\":\"y\"}},\"id\":\"173bd9ab-a427-4373-a017-0773ce822f9f\",\"type\":\"Line\"},{\"attributes\":{\"plot\":{\"id\":\"3b147eb8-5dc1-449e-81b9-17f49ca09ef2\",\"subtype\":\"Figure\",\"type\":\"Plot\"}},\"id\":\"63c024cc-1c3c-4171-8a41-1bf8fe5f20e6\",\"type\":\"WheelZoomTool\"},{\"attributes\":{\"dimension\":1,\"plot\":{\"id\":\"3b147eb8-5dc1-449e-81b9-17f49ca09ef2\",\"subtype\":\"Figure\",\"type\":\"Plot\"},\"ticker\":{\"id\":\"f5fecb15-b7eb-43e8-a59f-f5d572921163\",\"type\":\"BasicTicker\"}},\"id\":\"b05ee94f-d383-4c9f-b3ce-58536b6c0b04\",\"type\":\"Grid\"},{\"attributes\":{\"plot\":{\"id\":\"3b147eb8-5dc1-449e-81b9-17f49ca09ef2\",\"subtype\":\"Figure\",\"type\":\"Plot\"},\"ticker\":{\"id\":\"9c20576d-21a4-45fd-acad-cd41b82bfec6\",\"type\":\"BasicTicker\"}},\"id\":\"b2248b50-d091-4dbf-a63a-c6aabc3606d1\",\"type\":\"Grid\"},{\"attributes\":{\"plot\":{\"id\":\"3b147eb8-5dc1-449e-81b9-17f49ca09ef2\",\"subtype\":\"Figure\",\"type\":\"Plot\"}},\"id\":\"50a63a78-ec99-4ab0-9b05-9bbee4e60d91\",\"type\":\"ResetTool\"},{\"attributes\":{\"line_alpha\":{\"value\":0.1},\"line_color\":{\"value\":\"#1f77b4\"},\"line_width\":{\"value\":6},\"x\":{\"field\":\"x\"},\"y\":{\"field\":\"y\"}},\"id\":\"54f89aab-37f9-44e4-ac02-51562a273ad7\",\"type\":\"Line\"},{\"attributes\":{\"plot\":null,\"text\":\"\"},\"id\":\"7a9b5215-ea3a-438f-a0d4-21da02427df9\",\"type\":\"Title\"},{\"attributes\":{\"callback\":null,\"column_names\":[\"x\",\"y\"],\"data\":{\"x\":[5,5,5,5,7,8,8,8,9,9,10,11,11,11,11,11,11,11,12,12,12,12,12,12,12,13,13,13,13,13,13,13,13,13,14,14,14,14,14,14,14,15,15,15,16,16,16,16,17,17,17,17,17,17,18,18,18,18,19,19,19,19,19,19,20,20,20,20,21,21,22,22,22,22,23,23,23,23,23,23,24,24,24,24,24,25,25,25,25,25,25,25,25,25,25,25,26,26,26,26,26,26,27,27,27,27,27,27,27,27,28,28,28,28,29,29,29,29,30,30,30,30,30,30,31,31,31,31,31,31,31,31,32,32,33,33,33,33,33,33,33,33,34,34,34,34,34,34,34,34,35,35,35,35,35,35,35,35,35,35,35,36,36,36,36,36,36,36,37,37,37,37,37,37,37,37,37,38,38,38,38,38,38,38,39,39,39,39,39,39,39,40,40,40,40,40,41,41,41,42,42,42,42,42,42,42,42,43,43,43,43,43,43,44,44,44,44,44,44,44,44,44,45,45,45,45,45,45,45,45,45,45,45,46,46,46,46,46,46,47,47,47,47,47,47,47,47,47,47,47,48,48,48,48,48,48,48,48,49,49,49,49,49,49,50,50,50,51,51,51,51,51,51,51,52,52,52,52,52,52,52,52,53,53,53,53,53,53,54,54,54,54,54,54,54,54,55,55,55,55,55,55,55,55,55,55,56,56,56,56,56,56,56,56,56,56,56,57,57,58,58,58,58,58,58,58,59,59,59,59,59,60,60,60,60,60,61,61,61,61,61,61,61,61,61,61,62,62,62,62,62,62,63,63,63,63,63,63,63,63,63,63,64,65,65,65,65,65,65,65,65,65,65,65,65,66,66,66,66,66,66,66,66,66,67,67,67,67,67,67,67,67,67,67,68,68,68,68,68,68,68,69,69,69,70,70,70,71,71,71,71,71,71,71,71,72,72,72,72,72,72,73,73,73,73,73,73,73,74,74,74,74,74,74,74,75,75,75,75,75,75,75,75,75,76,76,76,77,77,77,77,77,77,77,77,78,78,78,78,78,78,78,78,78,79,79,79,80,80,80,80,80,80,80,80,81,81,81,81,82,82,82,82,83,83,83,83,83,83,84,84,84,85,85,85,85,85,85,85,85,85,85,85,85,85,86,86,86,86,86,87,87,87,87,87,87,87,87,87,88,88,88,88,88,88,88,89,89,89,89,89,89,89,89,90,90,90,90,91,91,91,91,91,91,91,91,91,92,92,92,92,92,92,92,92,93,93,93,93,94,94,94,94,94,94,94,95,95,95,95,95,95,95,95,95,95,96,96,96,96,96,96,97,97,97,97,97,97,97,97,98,98,98,99,99,99,99,99,99,100,100,100,100,100,100,100,100,101,101,101,101,101,101,101,101,101,102,102,102,102,102,102,102,102,102,102,103,103,103,103,103,103,103,104,104,104,104,104,104,105,105,105,105,105,105,106,106,106,106,106,106,106,106,106,106,106,107,107,107,107,107,107,107,107,107,108,108,108,108,108,108,108,108,108,108,108,109,109,109,109,109,109,109,109,109,109,110,110,110,110,110,111,111,111,111,111,111,112,112,112,112,112,112,112,112,112,112,112,113,113,113,113,113,113,113,113,113,113,113,113,113,114,114,114,114,114,114,114,114,114,114,115,115,115,115,115,115,115,115,115,115,115,115,115,115,116,116,116,116,116,116,116,116,116,116,116,116,116,117,117,117,117,117,117,117,117,117,117,117,118,118,118,118,118,118,118,118,118,118,119,119,119,119,119,119,119,119,119,119,119,119,119,119,119,120,120,120,120,120,120,120,121,121,121,121,121,121,121,121,121,121,121,121,122,122,122,122,122,122,122,122,122,122,122,122,122,122,122,122,122,122,122,122,122,122,123,123,123,123,123,123,124,124,124,124,124,124,124,124,125,125,125,125,125,126,126,126,126,126,127,127,127,127,127,127,127,128,128,128,128,129,129,129,129,129,129,129,129,130,130,130,130,130,130,130,130,130,131,131,131,131,131,131,131,131,131,131,131,131,131,131,131,131,131,131,132,132,132,132,132,132,132,132,132,132,132,132,132,132,133,133,133,133,133,133,133,133,133,133,133,133,133,134,134,134,134,134,134,135,135,135,135,135,135,135,135,135,135,135,135,136,136,136,136,136,136,137,137,137,137,137,137,137,137,137,137,138,138,138,138,138,138,138,138,138,138,138,139,139,139,139,139,139,139,139,139,139,139,140,140,140,140,140,140,140,140,140,140,141,144],\"y\":[0.0014618887652501974,0.0014618887652501974,0.0014618887652501974,0.0014618887652501974,0.0016177426135336212,0.0017000769680762232,0.0017000769680762232,0.0017000769680762232,0.0017853997999497373,0.0017853997999497373,0.001873743414976812,0.0019651354818486897,0.0019651354818486897,0.0019651354818486897,0.0019651354818486897,0.0019651354818486897,0.0019651354818486897,0.0019651354818486897,0.00205959872645945,0.00205959872645945,0.00205959872645945,0.00205959872645945,0.00205959872645945,0.00205959872645945,0.00205959872645945,0.0021571506282538236,0.0021571506282538236,0.0021571506282538236,0.0021571506282538236,0.0021571506282538236,0.0021571506282538236,0.0021571506282538236,0.0021571506282538236,0.0021571506282538236,0.002257803119941539,0.002257803119941539,0.002257803119941539,0.002257803119941539,0.002257803119941539,0.002257803119941539,0.002257803119941539,0.0023615622919804756,0.0023615622919804756,0.0023615622919804756,0.0024684281032747385,0.0024684281032747385,0.0024684281032747385,0.0024684281032747385,0.0025783940995718637,0.0025783940995718637,0.0025783940995718637,0.0025783940995718637,0.0025783940995718637,0.0025783940995718637,0.002691447141074927,0.002691447141074927,0.002691447141074927,0.002691447141074927,0.002807567140810142,0.002807567140810142,0.002807567140810142,0.002807567140810142,0.002807567140810142,0.002807567140810142,0.0029267268153078596,0.0029267268153078596,0.0029267268153078596,0.0029267268153078596,0.0030488914491645512,0.0030488914491645512,0.0031740186750546986,0.0031740186750546986,0.0031740186750546986,0.0031740186750546986,0.0033020582707544337,0.0033020582707544337,0.0033020582707544337,0.0033020582707544337,0.0033020582707544337,0.0033020582707544337,0.0034329519747226703,0.0034329519747226703,0.0034329519747226703,0.0034329519747226703,0.0034329519747226703,0.003566633321760364,0.003566633321760364,0.003566633321760364,0.003566633321760364,0.003566633321760364,0.003566633321760364,0.003566633321760364,0.003566633321760364,0.003566633321760364,0.003566633321760364,0.003566633321760364,0.003703027500233894,0.003703027500233894,0.003703027500233894,0.003703027500233894,0.003703027500233894,0.003703027500233894,0.003842051232304509,0.003842051232304509,0.003842051232304509,0.003842051232304509,0.003842051232304509,0.003842051232304509,0.003842051232304509,0.003842051232304509,0.003983612678551996,0.003983612678551996,0.003983612678551996,0.003983612678551996,0.004127611368317249,0.004127611368317249,0.004127611368317249,0.004127611368317249,0.004273938157015285,0.004273938157015285,0.004273938157015285,0.004273938157015285,0.004273938157015285,0.004273938157015285,0.0044224752115874745,0.0044224752115874745,0.0044224752115874745,0.0044224752115874745,0.0044224752115874745,0.0044224752115874745,0.0044224752115874745,0.0044224752115874745,0.004573096025169577,0.004573096025169577,0.004725665461950692,0.004725665461950692,0.004725665461950692,0.004725665461950692,0.004725665461950692,0.004725665461950692,0.004725665461950692,0.004725665461950692,0.00488003983308795,0.00488003983308795,0.00488003983308795,0.00488003983308795,0.00488003983308795,0.00488003983308795,0.00488003983308795,0.00488003983308795,0.0050360670044227365,0.0050360670044227365,0.0050360670044227365,0.0050360670044227365,0.0050360670044227365,0.0050360670044227365,0.0050360670044227365,0.0050360670044227365,0.0050360670044227365,0.0050360670044227365,0.0050360670044227365,0.0051935865366173044,0.0051935865366173044,0.0051935865366173044,0.0051935865366173044,0.0051935865366173044,0.0051935865366173044,0.0051935865366173044,0.005352429858195839,0.005352429858195839,0.005352429858195839,0.005352429858195839,0.005352429858195839,0.005352429858195839,0.005352429858195839,0.005352429858195839,0.005352429858195839,0.005512420471832407,0.005512420471832407,0.005512420471832407,0.005512420471832407,0.005512420471832407,0.005512420471832407,0.005512420471832407,0.00567337419408006,0.00567337419408006,0.00567337419408006,0.00567337419408006,0.00567337419408006,0.00567337419408006,0.00567337419408006,0.005835099428581545,0.005835099428581545,0.005835099428581545,0.005835099428581545,0.005835099428581545,0.005997397472643357,0.005997397472643357,0.005997397472643357,0.006160062856892061,0.006160062856892061,0.006160062856892061,0.006160062856892061,0.006160062856892061,0.006160062856892061,0.006160062856892061,0.006160062856892061,0.0063228837175656645,0.0063228837175656645,0.0063228837175656645,0.0063228837175656645,0.0063228837175656645,0.0063228837175656645,0.006485642200824621,0.006485642200824621,0.006485642200824621,0.006485642200824621,0.006485642200824621,0.006485642200824621,0.006485642200824621,0.006485642200824621,0.006485642200824621,0.006648114898297244,0.006648114898297244,0.006648114898297244,0.006648114898297244,0.006648114898297244,0.006648114898297244,0.006648114898297244,0.006648114898297244,0.006648114898297244,0.006648114898297244,0.006648114898297244,0.006810073312904413,0.006810073312904413,0.006810073312904413,0.006810073312904413,0.006810073312904413,0.006810073312904413,0.006971284353839137,0.006971284353839137,0.006971284353839137,0.006971284353839137,0.006971284353839137,0.006971284353839137,0.006971284353839137,0.006971284353839137,0.006971284353839137,0.006971284353839137,0.006971284353839137,0.0071315108594090515,0.0071315108594090515,0.0071315108594090515,0.0071315108594090515,0.0071315108594090515,0.0071315108594090515,0.0071315108594090515,0.0071315108594090515,0.0072905121462852746,0.0072905121462852746,0.0072905121462852746,0.0072905121462852746,0.0072905121462852746,0.0072905121462852746,0.007448044583540273,0.007448044583540273,0.007448044583540273,0.007603862189701686,0.007603862189701686,0.007603862189701686,0.007603862189701686,0.007603862189701686,0.007603862189701686,0.007603862189701686,0.007757717250899344,0.007757717250899344,0.007757717250899344,0.007757717250899344,0.007757717250899344,0.007757717250899344,0.007757717250899344,0.007757717250899344,0.007909360958040183,0.007909360958040183,0.007909360958040183,0.007909360958040183,0.007909360958040183,0.007909360958040183,0.008058544060811338,0.008058544060811338,0.008058544060811338,0.008058544060811338,0.008058544060811338,0.008058544060811338,0.008058544060811338,0.008058544060811338,0.008205017536186446,0.008205017536186446,0.008205017536186446,0.008205017536186446,0.008205017536186446,0.008205017536186446,0.008205017536186446,0.008205017536186446,0.008205017536186446,0.008205017536186446,0.008348533268995019,0.008348533268995019,0.008348533268995019,0.008348533268995019,0.008348533268995019,0.008348533268995019,0.008348533268995019,0.008348533268995019,0.008348533268995019,0.008348533268995019,0.008348533268995019,0.008488844742010568,0.008488844742010568,0.008625707732920875,0.008625707732920875,0.008625707732920875,0.008625707732920875,0.008625707732920875,0.008625707732920875,0.008625707732920875,0.008758881015464102,0.008758881015464102,0.008758881015464102,0.008758881015464102,0.008758881015464102,0.00888812706194811,0.00888812706194811,0.00888812706194811,0.00888812706194811,0.00888812706194811,0.009013212744317966,0.009013212744317966,0.009013212744317966,0.009013212744317966,0.009013212744317966,0.009013212744317966,0.009013212744317966,0.009013212744317966,0.009013212744317966,0.009013212744317966,0.009133910030898824,0.009133910030898824,0.009133910030898824,0.009133910030898824,0.009133910030898824,0.009133910030898824,0.0092499966759185,0.0092499966759185,0.0092499966759185,0.0092499966759185,0.0092499966759185,0.0092499966759185,0.0092499966759185,0.0092499966759185,0.0092499966759185,0.0092499966759185,0.00936125689890653,0.009467482051074701,0.009467482051074701,0.009467482051074701,0.009467482051074701,0.009467482051074701,0.009467482051074701,0.009467482051074701,0.009467482051074701,0.009467482051074701,0.009467482051074701,0.009467482051074701,0.009467482051074701,0.009568471265807899,0.009568471265807899,0.009568471265807899,0.009568471265807899,0.009568471265807899,0.009568471265807899,0.009568471265807899,0.009568471265807899,0.009568471265807899,0.009664032090433844,0.009664032090433844,0.009664032090433844,0.009664032090433844,0.009664032090433844,0.009664032090433844,0.009664032090433844,0.009664032090433844,0.009664032090433844,0.009664032090433844,0.009753981096495909,0.009753981096495909,0.009753981096495909,0.009753981096495909,0.009753981096495909,0.009753981096495909,0.009753981096495909,0.009838144465824357,0.009838144465824357,0.009838144465824357,0.009916358549787903,0.009916358549787903,0.009916358549787903,0.009988470399209151,0.009988470399209151,0.009988470399209151,0.009988470399209151,0.009988470399209151,0.009988470399209151,0.009988470399209151,0.009988470399209151,0.010054338262543533,0.010054338262543533,0.010054338262543533,0.010054338262543533,0.010054338262543533,0.010054338262543533,0.010113832050051523,0.010113832050051523,0.010113832050051523,0.010113832050051523,0.010113832050051523,0.010113832050051523,0.010113832050051523,0.010166833761837267,0.010166833761837267,0.010166833761837267,0.010166833761837267,0.010166833761837267,0.010166833761837267,0.010166833761837267,0.010213237877782718,0.010213237877782718,0.010213237877782718,0.010213237877782718,0.010213237877782718,0.010213237877782718,0.010213237877782718,0.010213237877782718,0.010213237877782718,0.010252951707573914,0.010252951707573914,0.010252951707573914,0.01028589569919438,0.01028589569919438,0.01028589569919438,0.01028589569919438,0.01028589569919438,0.01028589569919438,0.01028589569919438,0.01028589569919438,0.010312003704448559,0.010312003704448559,0.010312003704448559,0.010312003704448559,0.010312003704448559,0.010312003704448559,0.010312003704448559,0.010312003704448559,0.010312003704448559,0.010331223200274912,0.010331223200274912,0.010331223200274912,0.010343515464812221,0.010343515464812221,0.010343515464812221,0.010343515464812221,0.010343515464812221,0.010343515464812221,0.010343515464812221,0.010343515464812221,0.010348855707393034,0.010348855707393034,0.010348855707393034,0.010348855707393034,0.010347233151853425,0.010347233151853425,0.010347233151853425,0.010347233151853425,0.010338651072767205,0.010338651072767205,0.010338651072767205,0.010338651072767205,0.010338651072767205,0.010338651072767205,0.010323126784434037,0.010323126784434037,0.010323126784434037,0.010300691582673317,0.010300691582673317,0.010300691582673317,0.010300691582673317,0.010300691582673317,0.010300691582673317,0.010300691582673317,0.010300691582673317,0.010300691582673317,0.010300691582673317,0.010300691582673317,0.010300691582673317,0.010300691582673317,0.010271390639697668,0.010271390639697668,0.010271390639697668,0.010271390639697668,0.010271390639697668,0.010235282852560356,0.010235282852560356,0.010235282852560356,0.010235282852560356,0.010235282852560356,0.010235282852560356,0.010235282852560356,0.010235282852560356,0.010235282852560356,0.010192440645888272,0.010192440645888272,0.010192440645888272,0.010192440645888272,0.010192440645888272,0.010192440645888272,0.010192440645888272,0.010142949729825318,0.010142949729825318,0.010142949729825318,0.010142949729825318,0.010142949729825318,0.010142949729825318,0.010142949729825318,0.010142949729825318,0.010086908814318474,0.010086908814318474,0.010086908814318474,0.010086908814318474,0.010024429281079635,0.010024429281079635,0.010024429281079635,0.010024429281079635,0.010024429281079635,0.010024429281079635,0.010024429281079635,0.010024429281079635,0.010024429281079635,0.009955634814749013,0.009955634814749013,0.009955634814749013,0.009955634814749013,0.009955634814749013,0.009955634814749013,0.009955634814749013,0.009955634814749013,0.009880660994969467,0.009880660994969467,0.009880660994969467,0.009880660994969467,0.009799654851254641,0.009799654851254641,0.009799654851254641,0.009799654851254641,0.009799654851254641,0.009799654851254641,0.009799654851254641,0.009712774382695967,0.009712774382695967,0.009712774382695967,0.009712774382695967,0.009712774382695967,0.009712774382695967,0.009712774382695967,0.009712774382695967,0.009712774382695967,0.009712774382695967,0.009620188044703826,0.009620188044703826,0.009620188044703826,0.009620188044703826,0.009620188044703826,0.009620188044703826,0.009522074205115418,0.009522074205115418,0.009522074205115418,0.009522074205115418,0.009522074205115418,0.009522074205115418,0.009522074205115418,0.009522074205115418,0.009418620572125615,0.009418620572125615,0.009418620572125615,0.00931002359660641,0.00931002359660641,0.00931002359660641,0.00931002359660641,0.00931002359660641,0.00931002359660641,0.009196487851475343,0.009196487851475343,0.009196487851475343,0.009196487851475343,0.009196487851475343,0.009196487851475343,0.009196487851475343,0.009196487851475343,0.00907822539085258,0.00907822539085258,0.00907822539085258,0.00907822539085258,0.00907822539085258,0.00907822539085258,0.00907822539085258,0.00907822539085258,0.00907822539085258,0.008955455091810423,0.008955455091810423,0.008955455091810423,0.008955455091810423,0.008955455091810423,0.008955455091810423,0.008955455091810423,0.008955455091810423,0.008955455091810423,0.008955455091810423,0.008828401981567084,0.008828401981567084,0.008828401981567084,0.008828401981567084,0.008828401981567084,0.008828401981567084,0.008828401981567084,0.00869729655300899,0.00869729655300899,0.00869729655300899,0.00869729655300899,0.00869729655300899,0.00869729655300899,0.008562374071442424,0.008562374071442424,0.008562374071442424,0.008562374071442424,0.008562374071442424,0.008562374071442424,0.008423873875476122,0.008423873875476122,0.008423873875476122,0.008423873875476122,0.008423873875476122,0.008423873875476122,0.008423873875476122,0.008423873875476122,0.008423873875476122,0.008423873875476122,0.008423873875476122,0.008282038674921725,0.008282038674921725,0.008282038674921725,0.008282038674921725,0.008282038674921725,0.008282038674921725,0.008282038674921725,0.008282038674921725,0.008282038674921725,0.00813711384856916,0.00813711384856916,0.00813711384856916,0.00813711384856916,0.00813711384856916,0.00813711384856916,0.00813711384856916,0.00813711384856916,0.00813711384856916,0.00813711384856916,0.00813711384856916,0.0079893467446493,0.0079893467446493,0.0079893467446493,0.0079893467446493,0.0079893467446493,0.0079893467446493,0.0079893467446493,0.0079893467446493,0.0079893467446493,0.0079893467446493,0.007838985986737343,0.007838985986737343,0.007838985986737343,0.007838985986737343,0.007838985986737343,0.0076862807877777,0.0076862807877777,0.0076862807877777,0.0076862807877777,0.0076862807877777,0.0076862807877777,0.007531480274825517,0.007531480274825517,0.007531480274825517,0.007531480274825517,0.007531480274825517,0.007531480274825517,0.007531480274825517,0.007531480274825517,0.007531480274825517,0.007531480274825517,0.007531480274825517,0.007374832827002012,0.007374832827002012,0.007374832827002012,0.007374832827002012,0.007374832827002012,0.007374832827002012,0.007374832827002012,0.007374832827002012,0.007374832827002012,0.007374832827002012,0.007374832827002012,0.007374832827002012,0.007374832827002012,0.007216585429051428,0.007216585429051428,0.007216585429051428,0.007216585429051428,0.007216585429051428,0.007216585429051428,0.007216585429051428,0.007216585429051428,0.007216585429051428,0.007216585429051428,0.007056983042767395,0.007056983042767395,0.007056983042767395,0.007056983042767395,0.007056983042767395,0.007056983042767395,0.007056983042767395,0.007056983042767395,0.007056983042767395,0.007056983042767395,0.007056983042767395,0.007056983042767395,0.007056983042767395,0.007056983042767395,0.006896267998426857,0.006896267998426857,0.006896267998426857,0.006896267998426857,0.006896267998426857,0.006896267998426857,0.006896267998426857,0.006896267998426857,0.006896267998426857,0.006896267998426857,0.006896267998426857,0.006896267998426857,0.006896267998426857,0.006734679408231404,0.006734679408231404,0.006734679408231404,0.006734679408231404,0.006734679408231404,0.006734679408231404,0.006734679408231404,0.006734679408231404,0.006734679408231404,0.006734679408231404,0.006734679408231404,0.006572452603609812,0.006572452603609812,0.006572452603609812,0.006572452603609812,0.006572452603609812,0.006572452603609812,0.006572452603609812,0.006572452603609812,0.006572452603609812,0.006572452603609812,0.006409818598082988,0.006409818598082988,0.006409818598082988,0.006409818598082988,0.006409818598082988,0.006409818598082988,0.006409818598082988,0.006409818598082988,0.006409818598082988,0.006409818598082988,0.006409818598082988,0.006409818598082988,0.006409818598082988,0.006409818598082988,0.006409818598082988,0.0062470035772343065,0.0062470035772343065,0.0062470035772343065,0.0062470035772343065,0.0062470035772343065,0.0062470035772343065,0.0062470035772343065,0.0060842284171655865,0.0060842284171655865,0.0060842284171655865,0.0060842284171655865,0.0060842284171655865,0.0060842284171655865,0.0060842284171655865,0.0060842284171655865,0.0060842284171655865,0.0060842284171655865,0.0060842284171655865,0.0060842284171655865,0.005921708232652902,0.005921708232652902,0.005921708232652902,0.005921708232652902,0.005921708232652902,0.005921708232652902,0.005921708232652902,0.005921708232652902,0.005921708232652902,0.005921708232652902,0.005921708232652902,0.005921708232652902,0.005921708232652902,0.005921708232652902,0.005921708232652902,0.005921708232652902,0.005921708232652902,0.005921708232652902,0.005921708232652902,0.005921708232652902,0.005921708232652902,0.005921708232652902,0.005759651956047893,0.005759651956047893,0.005759651956047893,0.005759651956047893,0.005759651956047893,0.005759651956047893,0.005598261947800553,0.005598261947800553,0.005598261947800553,0.005598261947800553,0.005598261947800553,0.005598261947800553,0.005598261947800553,0.005598261947800553,0.0054377336393094805,0.0054377336393094805,0.0054377336393094805,0.0054377336393094805,0.0054377336393094805,0.005278255208636431,0.005278255208636431,0.005278255208636431,0.005278255208636431,0.005278255208636431,0.005120007289454582,0.005120007289454582,0.005120007289454582,0.005120007289454582,0.005120007289454582,0.005120007289454582,0.005120007289454582,0.004963162713435292,0.004963162713435292,0.004963162713435292,0.004963162713435292,0.004807886286117095,0.004807886286117095,0.004807886286117095,0.004807886286117095,0.004807886286117095,0.004807886286117095,0.004807886286117095,0.004807886286117095,0.004654334596144113,0.004654334596144113,0.004654334596144113,0.004654334596144113,0.004654334596144113,0.004654334596144113,0.004654334596144113,0.004654334596144113,0.004654334596144113,0.004502655857609838,0.004502655857609838,0.004502655857609838,0.004502655857609838,0.004502655857609838,0.004502655857609838,0.004502655857609838,0.004502655857609838,0.004502655857609838,0.004502655857609838,0.004502655857609838,0.004502655857609838,0.004502655857609838,0.004502655857609838,0.004502655857609838,0.004502655857609838,0.004502655857609838,0.004502655857609838,0.004352989785097022,0.004352989785097022,0.004352989785097022,0.004352989785097022,0.004352989785097022,0.004352989785097022,0.004352989785097022,0.004352989785097022,0.004352989785097022,0.004352989785097022,0.004352989785097022,0.004352989785097022,0.004352989785097022,0.004352989785097022,0.004205467500865862,0.004205467500865862,0.004205467500865862,0.004205467500865862,0.004205467500865862,0.004205467500865862,0.004205467500865862,0.004205467500865862,0.004205467500865862,0.004205467500865862,0.004205467500865862,0.004205467500865862,0.004205467500865862,0.004060211473511516,0.004060211473511516,0.004060211473511516,0.004060211473511516,0.004060211473511516,0.004060211473511516,0.003917335487288624,0.003917335487288624,0.003917335487288624,0.003917335487288624,0.003917335487288624,0.003917335487288624,0.003917335487288624,0.003917335487288624,0.003917335487288624,0.003917335487288624,0.003917335487288624,0.003917335487288624,0.0037769446411855525,0.0037769446411855525,0.0037769446411855525,0.0037769446411855525,0.0037769446411855525,0.0037769446411855525,0.003639135376724802,0.003639135376724802,0.003639135376724802,0.003639135376724802,0.003639135376724802,0.003639135376724802,0.003639135376724802,0.003639135376724802,0.003639135376724802,0.003639135376724802,0.003503995533368909,0.003503995533368909,0.003503995533368909,0.003503995533368909,0.003503995533368909,0.003503995533368909,0.003503995533368909,0.003503995533368909,0.003503995533368909,0.003503995533368909,0.003503995533368909,0.003371604430323262,0.003371604430323262,0.003371604430323262,0.003371604430323262,0.003371604430323262,0.003371604430323262,0.003371604430323262,0.003371604430323262,0.003371604430323262,0.003371604430323262,0.003371604430323262,0.003242032973449058,0.003242032973449058,0.003242032973449058,0.003242032973449058,0.003242032973449058,0.003242032973449058,0.003242032973449058,0.003242032973449058,0.003242032973449058,0.003242032973449058,0.0031153437859308846,0.002753075189005994]}},\"id\":\"af4a5b2b-6055-41d0-bace-35cac60f7443\",\"type\":\"ColumnDataSource\"},{\"attributes\":{\"axis_label\":\"len(tweets)\",\"formatter\":{\"id\":\"5906cc33-4590-4aaa-adab-0a54e3e23e88\",\"type\":\"BasicTickFormatter\"},\"plot\":{\"id\":\"3b147eb8-5dc1-449e-81b9-17f49ca09ef2\",\"subtype\":\"Figure\",\"type\":\"Plot\"},\"ticker\":{\"id\":\"9c20576d-21a4-45fd-acad-cd41b82bfec6\",\"type\":\"BasicTicker\"}},\"id\":\"c5a0e11e-baab-4848-bf6f-c34ce36ab4b4\",\"type\":\"LinearAxis\"},{\"attributes\":{\"bottom\":{\"value\":0},\"fill_alpha\":{\"value\":0.3},\"fill_color\":{\"value\":\"navy\"},\"left\":{\"field\":\"left\"},\"line_color\":{\"value\":\"#033649\"},\"right\":{\"field\":\"right\"},\"top\":{\"field\":\"top\"}},\"id\":\"f295fcf7-2370-4582-afb6-195ed21d370e\",\"type\":\"Quad\"},{\"attributes\":{},\"id\":\"f5fecb15-b7eb-43e8-a59f-f5d572921163\",\"type\":\"BasicTicker\"},{\"attributes\":{},\"id\":\"1fe04708-33b6-46dc-aa9f-d7824eee8c12\",\"type\":\"ToolEvents\"},{\"attributes\":{\"active_drag\":\"auto\",\"active_scroll\":\"auto\",\"active_tap\":\"auto\",\"tools\":[{\"id\":\"cdaa8b71-46d0-4e95-8bee-4fb391a764df\",\"type\":\"PanTool\"},{\"id\":\"63c024cc-1c3c-4171-8a41-1bf8fe5f20e6\",\"type\":\"WheelZoomTool\"},{\"id\":\"e97a655c-9539-4498-bdc8-6329e0465a0e\",\"type\":\"BoxZoomTool\"},{\"id\":\"30580f5c-606f-400d-aa91-9f54c491fdc7\",\"type\":\"SaveTool\"},{\"id\":\"50a63a78-ec99-4ab0-9b05-9bbee4e60d91\",\"type\":\"ResetTool\"},{\"id\":\"a861f681-b9d2-4967-8208-49dba1228156\",\"type\":\"HelpTool\"}]},\"id\":\"31c381df-fef5-46d3-ba64-22a69f1a2f0e\",\"type\":\"Toolbar\"},{\"attributes\":{},\"id\":\"5906cc33-4590-4aaa-adab-0a54e3e23e88\",\"type\":\"BasicTickFormatter\"},{\"attributes\":{\"callback\":null},\"id\":\"d0f06c26-bbfe-4183-9e95-ca0ea1325aa4\",\"type\":\"DataRange1d\"},{\"attributes\":{\"below\":[{\"id\":\"c5a0e11e-baab-4848-bf6f-c34ce36ab4b4\",\"type\":\"LinearAxis\"}],\"left\":[{\"id\":\"792d2326-0158-4fa2-9889-4ae16d489a13\",\"type\":\"LinearAxis\"}],\"renderers\":[{\"id\":\"c5a0e11e-baab-4848-bf6f-c34ce36ab4b4\",\"type\":\"LinearAxis\"},{\"id\":\"b2248b50-d091-4dbf-a63a-c6aabc3606d1\",\"type\":\"Grid\"},{\"id\":\"792d2326-0158-4fa2-9889-4ae16d489a13\",\"type\":\"LinearAxis\"},{\"id\":\"b05ee94f-d383-4c9f-b3ce-58536b6c0b04\",\"type\":\"Grid\"},{\"id\":\"68d02635-8e49-4293-8bda-0f1f921f0ec6\",\"type\":\"BoxAnnotation\"},{\"id\":\"b2696ca8-6d27-4fe1-9dbf-bbeaf3422350\",\"type\":\"GlyphRenderer\"},{\"id\":\"785e5cb5-bbdd-4438-b8ad-cc9a9e6e4b89\",\"type\":\"GlyphRenderer\"},{\"id\":\"53109aff-ed18-4539-9561-30c2ac9e7019\",\"type\":\"Legend\"},{\"id\":\"76d106b5-4782-4468-838d-31f0c028bc74\",\"type\":\"GlyphRenderer\"},{\"id\":\"5e9cd249-43c0-4b55-8e12-766763ca878b\",\"type\":\"GlyphRenderer\"}],\"title\":{\"id\":\"7a9b5215-ea3a-438f-a0d4-21da02427df9\",\"type\":\"Title\"},\"tool_events\":{\"id\":\"1fe04708-33b6-46dc-aa9f-d7824eee8c12\",\"type\":\"ToolEvents\"},\"toolbar\":{\"id\":\"31c381df-fef5-46d3-ba64-22a69f1a2f0e\",\"type\":\"Toolbar\"},\"x_range\":{\"id\":\"b779263e-cd5e-4b8b-8e5a-3899d2a2eb0e\",\"type\":\"DataRange1d\"},\"y_range\":{\"id\":\"d0f06c26-bbfe-4183-9e95-ca0ea1325aa4\",\"type\":\"DataRange1d\"}},\"id\":\"3b147eb8-5dc1-449e-81b9-17f49ca09ef2\",\"subtype\":\"Figure\",\"type\":\"Plot\"},{\"attributes\":{\"bottom\":{\"value\":0},\"fill_alpha\":{\"value\":0.1},\"fill_color\":{\"value\":\"#1f77b4\"},\"left\":{\"field\":\"left\"},\"line_alpha\":{\"value\":0.1},\"line_color\":{\"value\":\"#1f77b4\"},\"right\":{\"field\":\"right\"},\"top\":{\"field\":\"top\"}},\"id\":\"c8ec57c7-413a-4b0f-be94-c2b19995016c\",\"type\":\"Quad\"},{\"attributes\":{\"bottom\":{\"value\":0},\"fill_alpha\":{\"value\":0.1},\"fill_color\":{\"value\":\"#1f77b4\"},\"left\":{\"field\":\"left\"},\"line_alpha\":{\"value\":0.1},\"line_color\":{\"value\":\"#1f77b4\"},\"right\":{\"field\":\"right\"},\"top\":{\"field\":\"top\"}},\"id\":\"d616fadb-1629-405e-bdcd-635f03973621\",\"type\":\"Quad\"},{\"attributes\":{\"axis_label\":\"# tweets\",\"formatter\":{\"id\":\"506c3add-6310-49ce-97a4-93eaa9241549\",\"type\":\"BasicTickFormatter\"},\"plot\":{\"id\":\"3b147eb8-5dc1-449e-81b9-17f49ca09ef2\",\"subtype\":\"Figure\",\"type\":\"Plot\"},\"ticker\":{\"id\":\"f5fecb15-b7eb-43e8-a59f-f5d572921163\",\"type\":\"BasicTicker\"}},\"id\":\"792d2326-0158-4fa2-9889-4ae16d489a13\",\"type\":\"LinearAxis\"},{\"attributes\":{\"data_source\":{\"id\":\"2a4d8fa9-7a30-4614-b24d-fd6c427da406\",\"type\":\"ColumnDataSource\"},\"glyph\":{\"id\":\"eb59ffec-17cc-44b7-acce-1b9c533471de\",\"type\":\"Quad\"},\"hover_glyph\":null,\"nonselection_glyph\":{\"id\":\"d616fadb-1629-405e-bdcd-635f03973621\",\"type\":\"Quad\"},\"selection_glyph\":null},\"id\":\"785e5cb5-bbdd-4438-b8ad-cc9a9e6e4b89\",\"type\":\"GlyphRenderer\"},{\"attributes\":{\"bottom_units\":\"screen\",\"fill_alpha\":{\"value\":0.5},\"fill_color\":{\"value\":\"lightgrey\"},\"left_units\":\"screen\",\"level\":\"overlay\",\"line_alpha\":{\"value\":1.0},\"line_color\":{\"value\":\"black\"},\"line_dash\":[4,4],\"line_width\":{\"value\":2},\"plot\":null,\"render_mode\":\"css\",\"right_units\":\"screen\",\"top_units\":\"screen\"},\"id\":\"68d02635-8e49-4293-8bda-0f1f921f0ec6\",\"type\":\"BoxAnnotation\"},{\"attributes\":{\"data_source\":{\"id\":\"1e08d73c-6c59-4c59-a9d0-2151e8f9b42d\",\"type\":\"ColumnDataSource\"},\"glyph\":{\"id\":\"97e27511-ce85-4a46-a587-866a989d373d\",\"type\":\"Line\"},\"hover_glyph\":null,\"nonselection_glyph\":{\"id\":\"41a2452b-6cab-44d1-a2e4-832feebace46\",\"type\":\"Line\"},\"selection_glyph\":null},\"id\":\"76d106b5-4782-4468-838d-31f0c028bc74\",\"type\":\"GlyphRenderer\"},{\"attributes\":{\"callback\":null},\"id\":\"b779263e-cd5e-4b8b-8e5a-3899d2a2eb0e\",\"type\":\"DataRange1d\"},{\"attributes\":{\"data_source\":{\"id\":\"af4a5b2b-6055-41d0-bace-35cac60f7443\",\"type\":\"ColumnDataSource\"},\"glyph\":{\"id\":\"173bd9ab-a427-4373-a017-0773ce822f9f\",\"type\":\"Line\"},\"hover_glyph\":null,\"nonselection_glyph\":{\"id\":\"54f89aab-37f9-44e4-ac02-51562a273ad7\",\"type\":\"Line\"},\"selection_glyph\":null},\"id\":\"5e9cd249-43c0-4b55-8e12-766763ca878b\",\"type\":\"GlyphRenderer\"},{\"attributes\":{\"plot\":{\"id\":\"3b147eb8-5dc1-449e-81b9-17f49ca09ef2\",\"subtype\":\"Figure\",\"type\":\"Plot\"}},\"id\":\"cdaa8b71-46d0-4e95-8bee-4fb391a764df\",\"type\":\"PanTool\"},{\"attributes\":{\"bottom\":{\"value\":0},\"fill_alpha\":{\"value\":0.3},\"fill_color\":{\"value\":\"red\"},\"left\":{\"field\":\"left\"},\"line_color\":{\"value\":\"#033649\"},\"right\":{\"field\":\"right\"},\"top\":{\"field\":\"top\"}},\"id\":\"eb59ffec-17cc-44b7-acce-1b9c533471de\",\"type\":\"Quad\"},{\"attributes\":{\"data_source\":{\"id\":\"5c46c0dc-e1da-476e-a679-689353de0adb\",\"type\":\"ColumnDataSource\"},\"glyph\":{\"id\":\"f295fcf7-2370-4582-afb6-195ed21d370e\",\"type\":\"Quad\"},\"hover_glyph\":null,\"nonselection_glyph\":{\"id\":\"c8ec57c7-413a-4b0f-be94-c2b19995016c\",\"type\":\"Quad\"},\"selection_glyph\":null},\"id\":\"b2696ca8-6d27-4fe1-9dbf-bbeaf3422350\",\"type\":\"GlyphRenderer\"},{\"attributes\":{\"overlay\":{\"id\":\"68d02635-8e49-4293-8bda-0f1f921f0ec6\",\"type\":\"BoxAnnotation\"},\"plot\":{\"id\":\"3b147eb8-5dc1-449e-81b9-17f49ca09ef2\",\"subtype\":\"Figure\",\"type\":\"Plot\"}},\"id\":\"e97a655c-9539-4498-bdc8-6329e0465a0e\",\"type\":\"BoxZoomTool\"},{\"attributes\":{\"line_alpha\":{\"value\":0.1},\"line_color\":{\"value\":\"#1f77b4\"},\"line_width\":{\"value\":6},\"x\":{\"field\":\"x\"},\"y\":{\"field\":\"y\"}},\"id\":\"41a2452b-6cab-44d1-a2e4-832feebace46\",\"type\":\"Line\"},{\"attributes\":{\"callback\":null,\"column_names\":[\"left\",\"top\",\"right\"],\"data\":{\"left\":[5.0,11.95,18.9,25.85,32.8,39.75,46.7,53.65,60.6,67.55000000000001,74.5,81.45,88.4,95.35000000000001,102.3,109.25,116.2,123.15,130.10000000000002,137.05],\"right\":[11.95,18.9,25.85,32.8,39.75,46.7,53.65,60.6,67.55000000000001,74.5,81.45,88.4,95.35000000000001,102.3,109.25,116.2,123.15,130.10000000000002,137.05,144.0],\"top\":[0.0025899280575539573,0.005755395683453238,0.005467625899280574,0.005467625899280579,0.00820143884892086,0.006906474820143882,0.00705035971223022,0.006906474820143882,0.008345323741007181,0.005899280575539578,0.006330935251798558,0.006762589928057551,0.007194244604316544,0.007194244604316559,0.008633093525179852,0.010359712230215824,0.011942446043165463,0.006618705035971207,0.011366906474820162,0.00489208633093526]}},\"id\":\"2a4d8fa9-7a30-4614-b24d-fd6c427da406\",\"type\":\"ColumnDataSource\"},{\"attributes\":{},\"id\":\"506c3add-6310-49ce-97a4-93eaa9241549\",\"type\":\"BasicTickFormatter\"},{\"attributes\":{},\"id\":\"9c20576d-21a4-45fd-acad-cd41b82bfec6\",\"type\":\"BasicTicker\"},{\"attributes\":{\"callback\":null,\"column_names\":[\"x\",\"y\"],\"data\":{\"x\":[6,8,10,11,11,12,12,12,12,12,12,13,13,14,14,14,14,14,15,16,16,16,16,17,17,17,19,19,19,21,21,22,22,23,24,25,26,26,27,27,27,28,28,28,28,29,29,29,30,30,31,31,32,33,34,34,34,34,35,36,36,36,37,37,37,37,37,38,38,39,39,39,39,39,39,39,40,40,40,40,40,41,41,41,41,41,42,42,42,42,42,43,43,44,44,45,45,45,45,46,46,46,46,46,47,47,47,47,47,48,48,48,48,48,48,48,49,49,49,49,49,49,49,50,50,50,51,52,52,52,52,53,53,53,54,54,54,54,55,55,55,55,55,55,55,55,56,56,56,56,56,56,56,56,56,57,57,57,58,58,59,60,60,60,60,60,60,60,60,60,60,61,61,61,61,62,62,62,62,62,63,63,63,63,64,64,64,64,64,64,64,64,64,64,65,65,65,65,65,65,66,66,66,66,66,66,66,66,66,67,67,67,67,68,68,68,68,68,68,69,69,69,69,69,69,69,69,69,69,69,70,70,70,70,70,70,70,70,70,70,71,71,71,71,71,71,71,71,71,71,71,72,72,72,72,72,72,72,72,72,72,73,73,73,73,73,73,73,74,74,74,74,74,74,75,75,75,75,75,75,75,75,75,75,75,75,75,75,75,75,76,76,76,76,76,76,76,76,77,77,77,77,77,77,77,78,78,78,78,78,79,79,79,79,79,79,79,80,80,80,80,80,80,80,81,81,81,82,82,82,82,82,82,82,82,83,83,83,83,83,83,83,83,83,84,84,84,84,84,85,85,85,85,85,85,85,86,86,86,86,86,86,87,87,87,87,87,87,87,88,88,88,88,88,88,88,88,88,88,88,88,88,88,88,88,89,89,89,89,89,89,89,89,90,90,90,90,90,90,90,90,90,90,90,90,90,90,90,90,91,91,91,91,91,91,92,92,92,92,92,92,92,92,92,92,92,93,93,93,93,93,93,93,93,93,94,94,94,94,94,94,94,94,94,94,94,94,94,95,95,95,95,95,95,96,96,96,96,96,97,97,97,97,97,97,97,97,97,97,97,97,97,97,98,98,98,98,98,98,98,98,98,98,98,98,98,98,98,98,98,98,99,99,99,99,99,100,100,100,100,100,100,100,100,100,100,100,100,101,101,101,101,101,101,101,101,101,101,101,102,102,102,102,102,102,102,102,102,102,103,103,103,103,103,103,103,103,103,104,104,104,104,104,104,104,104,104,104,104,104,104,104,104,105,105,105,105,105,105,105,106,106,106,106,106,106,106,106,106,106,106,106,107,107,107,107,107,107,107,108,108,108,108,108,108,108,108,109,109,109,109,109,109,109,109,109,109,110,110,110,110,110,110,110,110,110,110,110,110,110,110,110,110,110,110,110,110,110,110,111,111,111,111,111,111,111,111,111,111,111,111,111,111,111,111,111,112,112,112,112,112,112,112,112,112,112,112,112,112,112,112,112,112,112,112,113,113,113,113,113,113,113,113,113,113,113,113,113,113,114,114,114,114,114,114,114,114,114,114,114,114,114,114,114,114,114,114,114,115,115,115,115,115,115,115,115,115,115,115,115,115,115,115,116,116,116,116,116,116,116,116,116,116,116,116,116,117,117,117,117,117,117,117,117,117,117,117,118,118,118,118,118,118,118,118,118,118,118,118,118,118,118,118,118,118,118,118,118,119,119,119,119,119,119,119,119,119,119,119,119,119,119,119,119,119,119,119,120,120,120,120,120,120,120,120,120,120,120,120,120,120,120,120,120,120,120,120,120,120,121,121,121,121,121,121,121,121,121,121,121,121,121,121,121,121,122,122,122,122,122,122,122,122,122,122,122,122,122,122,122,122,122,122,122,122,122,122,122,122,123,123,123,123,123,123,123,123,123,123,124,124,124,124,124,124,124,124,124,125,125,125,125,125,125,125,125,125,125,125,126,126,126,126,126,126,126,126,126,126,126,126,126,127,127,127,127,127,127,127,127,127,128,128,128,128,128,128,128,129,129,129,129,130,130,130,130,130,130,130,130,130,130,130,130,130,130,130,130,131,131,131,131,131,131,131,131,131,131,131,131,131,132,132,132,132,132,132,132,132,132,132,132,132,132,132,133,133,133,133,133,133,133,133,133,133,133,134,134,134,134,134,134,134,134,134,134,134,134,134,134,134,135,135,135,135,135,136,136,136,136,137,137,137,137,137,137,137,137,137,137,137,137,138,138,138,138,138,138,138,139,139,139,139,139,140,140,140,140,142,165],\"y\":[0.00029800583938421166,0.0003531582250947239,0.0004168695013177598,0.0004522440520024083,0.0004522440520024083,0.0004901366363214776,0.0004901366363214776,0.0004901366363214776,0.0004901366363214776,0.0004901366363214776,0.0004901366363214776,0.0005306803780402704,0.0005306803780402704,0.0005740113173848584,0.0005740113173848584,0.0005740113173848584,0.0005740113173848584,0.0005740113173848584,0.0006202680938953062,0.0006695915898962449,0.0006695915898962449,0.0006695915898962449,0.0006695915898962449,0.0007221245335637515,0.0007221245335637515,0.0007221245335637515,0.0008373962351538798,0.0008373962351538798,0.0008373962351538798,0.0009672442439752697,0.0009672442439752697,0.001037996934974998,0.001037996934974998,0.0011128267324575709,0.001191874669414828,0.001275278951071356,0.001363174189995699,0.001363174189995699,0.001455690605627651,0.001455690605627651,0.001455690605627651,0.0015529531906294674,0.0015529531906294674,0.0015529531906294674,0.0015529531906294674,0.0016550808468727028,0.0016550808468727028,0.0016550808468727028,0.0017621854942809982,0.0017621854942809982,0.001874371156159382,0.001874371156159382,0.0019917330250486453,0.00211435651354529,0.002242316294919449,0.002242316294919449,0.002242316294919449,0.002242316294919449,0.0023756753387405914,0.0025144839470796687,0.0025144839470796687,0.0025144839470796687,0.0026587787971919553,0.0026587787971919553,0.0026587787971919553,0.0026587787971919553,0.0026587787971919553,0.00280858199689283,0.00280858199689283,0.0029639001591146613,0.0029639001591146613,0.0029639001591146613,0.0029639001591146613,0.0029639001591146613,0.0029639001591146613,0.0029639001591146613,0.0031247235023723692,0.0031247235023723692,0.0031247235023723692,0.0031247235023723692,0.0031247235023723692,0.003291024984063825,0.003291024984063825,0.003291024984063825,0.003291024984063825,0.003291024984063825,0.003462759473684942,0.003462759473684942,0.003462759473684942,0.003462759473684942,0.003462759473684942,0.0036398629731441276,0.0036398629731441276,0.003822251891413215,0.003822251891413215,0.004009822380748547,0.004009822380748547,0.004009822380748547,0.004009822380748547,0.004202449741653925,0.004202449741653925,0.004202449741653925,0.004202449741653925,0.004202449741653925,0.004399987903633938,0.004399987903633938,0.004399987903633938,0.004399987903633938,0.004399987903633938,0.004602268988599972,0.004602268988599972,0.004602268988599972,0.004602268988599972,0.004602268988599972,0.004602268988599972,0.004602268988599972,0.004809102963540411,0.004809102963540411,0.004809102963540411,0.004809102963540411,0.004809102963540411,0.004809102963540411,0.004809102963540411,0.005020277388750367,0.005020277388750367,0.005020277388750367,0.005235557267534497,0.005454685002849491,0.005454685002849491,0.005454685002849491,0.005454685002849491,0.005677380465841659,0.005677380465841659,0.005677380465841659,0.005903341180661652,0.005903341180661652,0.005903341180661652,0.005903341180661652,0.0061322426293049835,0.0061322426293049835,0.0061322426293049835,0.0061322426293049835,0.0061322426293049835,0.0061322426293049835,0.0061322426293049835,0.0061322426293049835,0.006363738679537209,0.006363738679537209,0.006363738679537209,0.006363738679537209,0.006363738679537209,0.006363738679537209,0.006363738679537209,0.006363738679537209,0.006363738679537209,0.006597462138219777,0.006597462138219777,0.006597462138219777,0.006833025431561899,0.006833025431561899,0.007070021412989902,0.007308024298454946,0.007308024298454946,0.007308024298454946,0.007308024298454946,0.007308024298454946,0.007308024298454946,0.007308024298454946,0.007308024298454946,0.007308024298454946,0.007308024298454946,0.007546590728098589,0.007546590728098589,0.007546590728098589,0.007546590728098589,0.007785260952271053,0.007785260952271053,0.007785260952271053,0.007785260952271053,0.007785260952271053,0.008023560138956245,0.008023560138956245,0.008023560138956245,0.008023560138956245,0.008260999798708863,0.008260999798708863,0.008260999798708863,0.008260999798708863,0.008260999798708863,0.008260999798708863,0.008260999798708863,0.008260999798708863,0.008260999798708863,0.008260999798708863,0.008497079322260388,0.008497079322260388,0.008497079322260388,0.008497079322260388,0.008497079322260388,0.008497079322260388,0.008731287625011016,0.008731287625011016,0.008731287625011016,0.008731287625011016,0.008731287625011016,0.008731287625011016,0.008731287625011016,0.008731287625011016,0.008731287625011016,0.008963104891702373,0.008963104891702373,0.008963104891702373,0.008963104891702373,0.009192004413670065,0.009192004413670065,0.009192004413670065,0.009192004413670065,0.009192004413670065,0.009192004413670065,0.009417454510214305,0.009417454510214305,0.009417454510214305,0.009417454510214305,0.009417454510214305,0.009417454510214305,0.009417454510214305,0.009417454510214305,0.009417454510214305,0.009417454510214305,0.009417454510214305,0.009638920524810189,0.009638920524810189,0.009638920524810189,0.009638920524810189,0.009638920524810189,0.009638920524810189,0.009638920524810189,0.009638920524810189,0.009638920524810189,0.009638920524810189,0.009855866886114754,0.009855866886114754,0.009855866886114754,0.009855866886114754,0.009855866886114754,0.009855866886114754,0.009855866886114754,0.009855866886114754,0.009855866886114754,0.009855866886114754,0.009855866886114754,0.010067759223024228,0.010067759223024228,0.010067759223024228,0.010067759223024228,0.010067759223024228,0.010067759223024228,0.010067759223024228,0.010067759223024228,0.010067759223024228,0.010067759223024228,0.010274066522399667,0.010274066522399667,0.010274066522399667,0.010274066522399667,0.010274066522399667,0.010274066522399667,0.010274066522399667,0.010474263317519704,0.010474263317519704,0.010474263317519704,0.010474263317519704,0.010474263317519704,0.010474263317519704,0.010667831894842352,0.010667831894842352,0.010667831894842352,0.010667831894842352,0.010667831894842352,0.010667831894842352,0.010667831894842352,0.010667831894842352,0.010667831894842352,0.010667831894842352,0.010667831894842352,0.010667831894842352,0.010667831894842352,0.010667831894842352,0.010667831894842352,0.010667831894842352,0.010854264506269575,0.010854264506269575,0.010854264506269575,0.010854264506269575,0.010854264506269575,0.010854264506269575,0.010854264506269575,0.010854264506269575,0.011033065573814206,0.011033065573814206,0.011033065573814206,0.011033065573814206,0.011033065573814206,0.011033065573814206,0.011033065573814206,0.01120375387337317,0.01120375387337317,0.01120375387337317,0.01120375387337317,0.01120375387337317,0.011365864684217408,0.011365864684217408,0.011365864684217408,0.011365864684217408,0.011365864684217408,0.011365864684217408,0.011365864684217408,0.011518951890820283,0.011518951890820283,0.011518951890820283,0.011518951890820283,0.011518951890820283,0.011518951890820283,0.011518951890820283,0.011662590023763962,0.011662590023763962,0.011662590023763962,0.01179637622668826,0.01179637622668826,0.01179637622668826,0.01179637622668826,0.01179637622668826,0.01179637622668826,0.01179637622668826,0.01179637622668826,0.011919932136578071,0.011919932136578071,0.011919932136578071,0.011919932136578071,0.011919932136578071,0.011919932136578071,0.011919932136578071,0.011919932136578071,0.011919932136578071,0.012032905665122396,0.012032905665122396,0.012032905665122396,0.012032905665122396,0.012032905665122396,0.012134972669417668,0.012134972669417668,0.012134972669417668,0.012134972669417668,0.012134972669417668,0.012134972669417668,0.012134972669417668,0.012225838500926779,0.012225838500926779,0.012225838500926779,0.012225838500926779,0.012225838500926779,0.012225838500926779,0.012305239422338632,0.012305239422338632,0.012305239422338632,0.012305239422338632,0.012305239422338632,0.012305239422338632,0.012305239422338632,0.012372943882795149,0.012372943882795149,0.012372943882795149,0.012372943882795149,0.012372943882795149,0.012372943882795149,0.012372943882795149,0.012372943882795149,0.012372943882795149,0.012372943882795149,0.012372943882795149,0.012372943882795149,0.012372943882795149,0.012372943882795149,0.012372943882795149,0.012372943882795149,0.01242875364285747,0.01242875364285747,0.01242875364285747,0.01242875364285747,0.01242875364285747,0.01242875364285747,0.01242875364285747,0.01242875364285747,0.012472504741562678,0.012472504741562678,0.012472504741562678,0.012472504741562678,0.012472504741562678,0.012472504741562678,0.012472504741562678,0.012472504741562678,0.012472504741562678,0.012472504741562678,0.012472504741562678,0.012472504741562678,0.012472504741562678,0.012472504741562678,0.012472504741562678,0.012472504741562678,0.012504068298968999,0.012504068298968999,0.012504068298968999,0.012504068298968999,0.012504068298968999,0.012504068298968999,0.012523351148691755,0.012523351148691755,0.012523351148691755,0.012523351148691755,0.012523351148691755,0.012523351148691755,0.012523351148691755,0.012523351148691755,0.012523351148691755,0.012523351148691755,0.012523351148691755,0.012530296296085387,0.012530296296085387,0.012530296296085387,0.012530296296085387,0.012530296296085387,0.012530296296085387,0.012530296296085387,0.012530296296085387,0.012530296296085387,0.012524883198917881,0.012524883198917881,0.012524883198917881,0.012524883198917881,0.012524883198917881,0.012524883198917881,0.012524883198917881,0.012524883198917881,0.012524883198917881,0.012524883198917881,0.012524883198917881,0.012524883198917881,0.012524883198917881,0.012507127868603253,0.012507127868603253,0.012507127868603253,0.012507127868603253,0.012507127868603253,0.012507127868603253,0.012477082791293807,0.012477082791293807,0.012477082791293807,0.012477082791293807,0.012477082791293807,0.012434836669376462,0.012434836669376462,0.012434836669376462,0.012434836669376462,0.012434836669376462,0.012434836669376462,0.012434836669376462,0.012434836669376462,0.012434836669376462,0.012434836669376462,0.012434836669376462,0.012434836669376462,0.012434836669376462,0.012434836669376462,0.012380513985154998,0.012380513985154998,0.012380513985154998,0.012380513985154998,0.012380513985154998,0.012380513985154998,0.012380513985154998,0.012380513985154998,0.012380513985154998,0.012380513985154998,0.012380513985154998,0.012380513985154998,0.012380513985154998,0.012380513985154998,0.012380513985154998,0.012380513985154998,0.012380513985154998,0.012380513985154998,0.012314274389721923,0.012314274389721923,0.012314274389721923,0.012314274389721923,0.012314274389721923,0.012236311921218872,0.012236311921218872,0.012236311921218872,0.012236311921218872,0.012236311921218872,0.012236311921218872,0.012236311921218872,0.012236311921218872,0.012236311921218872,0.012236311921218872,0.012236311921218872,0.012236311921218872,0.012146854057842698,0.012146854057842698,0.012146854057842698,0.012146854057842698,0.012146854057842698,0.012146854057842698,0.012146854057842698,0.012146854057842698,0.012146854057842698,0.012146854057842698,0.012146854057842698,0.012046160612065324,0.012046160612065324,0.012046160612065324,0.012046160612065324,0.012046160612065324,0.012046160612065324,0.012046160612065324,0.012046160612065324,0.012046160612065324,0.012046160612065324,0.011934522473589705,0.011934522473589705,0.011934522473589705,0.011934522473589705,0.011934522473589705,0.011934522473589705,0.011934522473589705,0.011934522473589705,0.011934522473589705,0.011812260209552615,0.011812260209552615,0.011812260209552615,0.011812260209552615,0.011812260209552615,0.011812260209552615,0.011812260209552615,0.011812260209552615,0.011812260209552615,0.011812260209552615,0.011812260209552615,0.011812260209552615,0.011812260209552615,0.011812260209552615,0.011812260209552615,0.011679722531399442,0.011679722531399442,0.011679722531399442,0.011679722531399442,0.011679722531399442,0.011679722531399442,0.011679722531399442,0.011537284638688949,0.011537284638688949,0.011537284638688949,0.011537284638688949,0.011537284638688949,0.011537284638688949,0.011537284638688949,0.011537284638688949,0.011537284638688949,0.011537284638688949,0.011537284638688949,0.011537284638688949,0.011385346450830698,0.011385346450830698,0.011385346450830698,0.011385346450830698,0.011385346450830698,0.011385346450830698,0.011385346450830698,0.011224330738408513,0.011224330738408513,0.011224330738408513,0.011224330738408513,0.011224330738408513,0.011224330738408513,0.011224330738408513,0.011224330738408513,0.01105468116629556,0.01105468116629556,0.01105468116629556,0.01105468116629556,0.01105468116629556,0.01105468116629556,0.01105468116629556,0.01105468116629556,0.01105468116629556,0.01105468116629556,0.01087686026121645,0.01087686026121645,0.01087686026121645,0.01087686026121645,0.01087686026121645,0.01087686026121645,0.01087686026121645,0.01087686026121645,0.01087686026121645,0.01087686026121645,0.01087686026121645,0.01087686026121645,0.01087686026121645,0.01087686026121645,0.01087686026121645,0.01087686026121645,0.01087686026121645,0.01087686026121645,0.01087686026121645,0.01087686026121645,0.01087686026121645,0.01087686026121645,0.01069134731675653,0.01069134731675653,0.01069134731675653,0.01069134731675653,0.01069134731675653,0.01069134731675653,0.01069134731675653,0.01069134731675653,0.01069134731675653,0.01069134731675653,0.01069134731675653,0.01069134731675653,0.01069134731675653,0.01069134731675653,0.01069134731675653,0.01069134731675653,0.01069134731675653,0.010498636249056746,0.010498636249056746,0.010498636249056746,0.010498636249056746,0.010498636249056746,0.010498636249056746,0.010498636249056746,0.010498636249056746,0.010498636249056746,0.010498636249056746,0.010498636249056746,0.010498636249056746,0.010498636249056746,0.010498636249056746,0.010498636249056746,0.010498636249056746,0.010498636249056746,0.010498636249056746,0.010498636249056746,0.010299233416563568,0.010299233416563568,0.010299233416563568,0.010299233416563568,0.010299233416563568,0.010299233416563568,0.010299233416563568,0.010299233416563568,0.010299233416563568,0.010299233416563568,0.010299233416563568,0.010299233416563568,0.010299233416563568,0.010299233416563568,0.010093655417227855,0.010093655417227855,0.010093655417227855,0.010093655417227855,0.010093655417227855,0.010093655417227855,0.010093655417227855,0.010093655417227855,0.010093655417227855,0.010093655417227855,0.010093655417227855,0.010093655417227855,0.010093655417227855,0.010093655417227855,0.010093655417227855,0.010093655417227855,0.010093655417227855,0.010093655417227855,0.010093655417227855,0.009882426876465952,0.009882426876465952,0.009882426876465952,0.009882426876465952,0.009882426876465952,0.009882426876465952,0.009882426876465952,0.009882426876465952,0.009882426876465952,0.009882426876465952,0.009882426876465952,0.009882426876465952,0.009882426876465952,0.009882426876465952,0.009882426876465952,0.009666078239013099,0.009666078239013099,0.009666078239013099,0.009666078239013099,0.009666078239013099,0.009666078239013099,0.009666078239013099,0.009666078239013099,0.009666078239013099,0.009666078239013099,0.009666078239013099,0.009666078239013099,0.009666078239013099,0.009445143577517153,0.009445143577517153,0.009445143577517153,0.009445143577517153,0.009445143577517153,0.009445143577517153,0.009445143577517153,0.009445143577517153,0.009445143577517153,0.009445143577517153,0.009445143577517153,0.009220158430343708,0.009220158430343708,0.009220158430343708,0.009220158430343708,0.009220158430343708,0.009220158430343708,0.009220158430343708,0.009220158430343708,0.009220158430343708,0.009220158430343708,0.009220158430343708,0.009220158430343708,0.009220158430343708,0.009220158430343708,0.009220158430343708,0.009220158430343708,0.009220158430343708,0.009220158430343708,0.009220158430343708,0.009220158430343708,0.009220158430343708,0.008991657680597656,0.008991657680597656,0.008991657680597656,0.008991657680597656,0.008991657680597656,0.008991657680597656,0.008991657680597656,0.008991657680597656,0.008991657680597656,0.008991657680597656,0.008991657680597656,0.008991657680597656,0.008991657680597656,0.008991657680597656,0.008991657680597656,0.008991657680597656,0.008991657680597656,0.008991657680597656,0.008991657680597656,0.008760173487816637,0.008760173487816637,0.008760173487816637,0.008760173487816637,0.008760173487816637,0.008760173487816637,0.008760173487816637,0.008760173487816637,0.008760173487816637,0.008760173487816637,0.008760173487816637,0.008760173487816637,0.008760173487816637,0.008760173487816637,0.008760173487816637,0.008760173487816637,0.008760173487816637,0.008760173487816637,0.008760173487816637,0.008760173487816637,0.008760173487816637,0.008760173487816637,0.008526233283165586,0.008526233283165586,0.008526233283165586,0.008526233283165586,0.008526233283165586,0.008526233283165586,0.008526233283165586,0.008526233283165586,0.008526233283165586,0.008526233283165586,0.008526233283165586,0.008526233283165586,0.008526233283165586,0.008526233283165586,0.008526233283165586,0.008526233283165586,0.008290357838265944,0.008290357838265944,0.008290357838265944,0.008290357838265944,0.008290357838265944,0.008290357838265944,0.008290357838265944,0.008290357838265944,0.008290357838265944,0.008290357838265944,0.008290357838265944,0.008290357838265944,0.008290357838265944,0.008290357838265944,0.008290357838265944,0.008290357838265944,0.008290357838265944,0.008290357838265944,0.008290357838265944,0.008290357838265944,0.008290357838265944,0.008290357838265944,0.008290357838265944,0.008290357838265944,0.00805305941703585,0.00805305941703585,0.00805305941703585,0.00805305941703585,0.00805305941703585,0.00805305941703585,0.00805305941703585,0.00805305941703585,0.00805305941703585,0.00805305941703585,0.007814840019106801,0.007814840019106801,0.007814840019106801,0.007814840019106801,0.007814840019106801,0.007814840019106801,0.007814840019106801,0.007814840019106801,0.007814840019106801,0.007576189722526611,0.007576189722526611,0.007576189722526611,0.007576189722526611,0.007576189722526611,0.007576189722526611,0.007576189722526611,0.007576189722526611,0.007576189722526611,0.007576189722526611,0.007576189722526611,0.007337585132566526,0.007337585132566526,0.007337585132566526,0.007337585132566526,0.007337585132566526,0.007337585132566526,0.007337585132566526,0.007337585132566526,0.007337585132566526,0.007337585132566526,0.007337585132566526,0.007337585132566526,0.007337585132566526,0.007099487942530877,0.007099487942530877,0.007099487942530877,0.007099487942530877,0.007099487942530877,0.007099487942530877,0.007099487942530877,0.007099487942530877,0.007099487942530877,0.006862343611529703,0.006862343611529703,0.006862343611529703,0.006862343611529703,0.006862343611529703,0.006862343611529703,0.006862343611529703,0.006626580163226782,0.006626580163226782,0.006626580163226782,0.006626580163226782,0.006392607108626401,0.006392607108626401,0.006392607108626401,0.006392607108626401,0.006392607108626401,0.006392607108626401,0.006392607108626401,0.006392607108626401,0.006392607108626401,0.006392607108626401,0.006392607108626401,0.006392607108626401,0.006392607108626401,0.006392607108626401,0.006392607108626401,0.006392607108626401,0.00616081449501997,0.00616081449501997,0.00616081449501997,0.00616081449501997,0.00616081449501997,0.00616081449501997,0.00616081449501997,0.00616081449501997,0.00616081449501997,0.00616081449501997,0.00616081449501997,0.00616081449501997,0.00616081449501997,0.005931572082286494,0.005931572082286494,0.005931572082286494,0.005931572082286494,0.005931572082286494,0.005931572082286494,0.005931572082286494,0.005931572082286494,0.005931572082286494,0.005931572082286494,0.005931572082286494,0.005931572082286494,0.005931572082286494,0.005931572082286494,0.005705228646836314,0.005705228646836314,0.005705228646836314,0.005705228646836314,0.005705228646836314,0.005705228646836314,0.005705228646836314,0.005705228646836314,0.005705228646836314,0.005705228646836314,0.005705228646836314,0.005482111412612676,0.005482111412612676,0.005482111412612676,0.005482111412612676,0.005482111412612676,0.005482111412612676,0.005482111412612676,0.005482111412612676,0.005482111412612676,0.005482111412612676,0.005482111412612676,0.005482111412612676,0.005482111412612676,0.005482111412612676,0.005482111412612676,0.0052625256077270255,0.0052625256077270255,0.0052625256077270255,0.0052625256077270255,0.0052625256077270255,0.005046754144507476,0.005046754144507476,0.005046754144507476,0.005046754144507476,0.004835057419990984,0.004835057419990984,0.004835057419990984,0.004835057419990984,0.004835057419990984,0.004835057419990984,0.004835057419990984,0.004835057419990984,0.004835057419990984,0.004835057419990984,0.004835057419990984,0.004835057419990984,0.00462767323319306,0.00462767323319306,0.00462767323319306,0.00462767323319306,0.00462767323319306,0.00462767323319306,0.00462767323319306,0.004424816814848349,0.004424816814848349,0.004424816814848349,0.004424816814848349,0.004424816814848349,0.004226680964734404,0.004226680964734404,0.004226680964734404,0.004226680964734404,0.0038452315468402473,0.0009758009869174676]}},\"id\":\"1e08d73c-6c59-4c59-a9d0-2151e8f9b42d\",\"type\":\"ColumnDataSource\"},{\"attributes\":{\"line_alpha\":{\"value\":0.7},\"line_color\":{\"value\":\"navy\"},\"line_width\":{\"value\":6},\"x\":{\"field\":\"x\"},\"y\":{\"field\":\"y\"}},\"id\":\"97e27511-ce85-4a46-a587-866a989d373d\",\"type\":\"Line\"}],\"root_ids\":[\"3b147eb8-5dc1-449e-81b9-17f49ca09ef2\"]},\"title\":\"Bokeh Application\",\"version\":\"0.12.0\"}};\n",
       "            var render_items = [{\"docid\":\"09ea8870-887b-4d6a-885a-e1804cadc157\",\"elementid\":\"71929e16-f58a-40f3-a6c0-e0978e38b81b\",\"modelid\":\"3b147eb8-5dc1-449e-81b9-17f49ca09ef2\",\"notebook_comms_target\":\"d8361a63-a2d6-45b7-b1e5-e478e86b8860\"}];\n",
       "            \n",
       "            Bokeh.embed.embed_items(docs_json, render_items);\n",
       "        });\n",
       "      },\n",
       "      function(Bokeh) {\n",
       "      }\n",
       "    ];\n",
       "  \n",
       "    function run_inline_js() {\n",
       "      for (var i = 0; i < inline_js.length; i++) {\n",
       "        inline_js[i](window.Bokeh);\n",
       "      }\n",
       "    }\n",
       "  \n",
       "    if (window._bokeh_is_loading === 0) {\n",
       "      console.log(\"Bokeh: BokehJS loaded, going straight to plotting\");\n",
       "      run_inline_js();\n",
       "    } else {\n",
       "      load_libs(js_urls, function() {\n",
       "        console.log(\"Bokeh: BokehJS plotting callback run at\", now());\n",
       "        run_inline_js();\n",
       "      });\n",
       "    }\n",
       "  }(this));\n",
       "</script>"
      ]
     },
     "metadata": {},
     "output_type": "display_data"
    },
    {
     "data": {
      "text/html": [
       "<p><code>&lt;Bokeh Notebook handle for <strong>In[14]</strong>&gt;</code></p>"
      ],
      "text/plain": [
       "<bokeh.io._CommsHandle at 0x10efd4f60>"
      ]
     },
     "execution_count": 14,
     "metadata": {},
     "output_type": "execute_result"
    }
   ],
   "source": [
    "tweet_lens_bro = [len(tweet) for tweet in brotweets]\n",
    "hist_bro, edges_bro = np.histogram(tweet_lens_bro, density=True, bins=20)\n",
    "tweet_lens_bro.sort()\n",
    "\n",
    "tweet_lens_sis = [len(tweet) for tweet in sistweets]\n",
    "hist_sis, edges_sis = np.histogram(tweet_lens_sis, density=True, bins=20)\n",
    "tweet_lens_sis.sort()\n",
    "\n",
    "p = figure(title=\"\")\n",
    "p.quad(top=hist_bro, bottom=0, left=edges_bro[:-1], right=edges_bro[1:],\n",
    "        fill_color=\"navy\", line_color=\"#033649\", fill_alpha=0.3)\n",
    "p.quad(top=hist_sis, bottom=0, left=edges_sis[:-1], right=edges_sis[1:],\n",
    "        fill_color=\"red\", line_color=\"#033649\", fill_alpha=0.3)\n",
    "\n",
    "sigma =  np.std(tweet_lens_bro)\n",
    "mu = np.mean(tweet_lens_bro)\n",
    "pdf = stats.norm.pdf(tweet_lens_bro, mu, sigma)\n",
    "p.line(tweet_lens_bro, pdf, line_color=\"navy\", line_width=6, alpha=0.7, legend=\"PDF\")\n",
    "\n",
    "sigma =  np.std(tweet_lens_sis)\n",
    "mu = np.mean(tweet_lens_sis)\n",
    "pdf = stats.norm.pdf(tweet_lens_sis, mu, sigma)\n",
    "p.line(tweet_lens_sis, pdf, line_color=\"red\", line_width=6, alpha=0.7, legend=\"PDF\")\n",
    "\n",
    "p.xaxis.axis_label = 'len(tweets)'\n",
    "p.yaxis.axis_label = '# tweets'\n",
    "show(p)\n"
   ]
  },
  {
   "cell_type": "markdown",
   "metadata": {},
   "source": [
    "## 2.5. Split your data in train and test \n",
    "*(and probably share it too)*"
   ]
  },
  {
   "cell_type": "code",
   "execution_count": 15,
   "metadata": {
    "collapsed": false
   },
   "outputs": [
    {
     "name": "stdout",
     "output_type": "stream",
     "text": [
      "Examples in train: 1200\n",
      "Examples in test: 800\n"
     ]
    }
   ],
   "source": [
    "from sklearn import cross_validation\n",
    "X = pd_dataset['text'].tolist()\n",
    "y = pd_dataset['class'].tolist()\n",
    "\n",
    "X_train, X_test, y_train, y_test = cross_validation.train_test_split(X, y, test_size=0.4, random_state=0)\n",
    "print(\"Examples in train: {}\".format(len(X_train)))\n",
    "print(\"Examples in test: {}\".format(len(X_test)))"
   ]
  },
  {
   "cell_type": "markdown",
   "metadata": {
    "collapsed": true
   },
   "source": [
    "#  3. In the beginning we had a bag of words *(or maybe the set)* "
   ]
  },
  {
   "cell_type": "markdown",
   "metadata": {},
   "source": [
    "## 3.1. What is a bag of words\n",
    "\n",
    "- Simplest way to represent text.\n",
    "- Create a vector with the size of the vocabulary seen in train.\n",
    "- Each sentence is represented counting the number of times each word appears.\n",
    "\n",
    "```python\n",
    "dataset = [\"I love Python\", \"I love NLP\", \"Pyladies are cool\"]\n",
    "vocabulary = set([\"I\", \"love\", \"Python\", \"NLP\", \"Pyladies\", \"are\", \"cool\"])\n",
    "dataset_representation =  [[1,1,1,0,0,0,0], \n",
    "                           [1,1,0,1,0,0,0],\n",
    "                           [0,0,0,0,1,1,1]] \n",
    "```\n",
    "\n",
    "Ok, that looks cool. This look solved. Let's party! "
   ]
  },
  {
   "cell_type": "code",
   "execution_count": 16,
   "metadata": {
    "collapsed": false
   },
   "outputs": [
    {
     "name": "stdout",
     "output_type": "stream",
     "text": [
      "Train: {0|1}^(1200x4060)\n",
      "Test:  {0|1}^(800x4060)\n",
      "\n",
      "VOCABULARY EXTRACT: broke, broken, brother, brownlee, browser, bruce, brunch, brutal, btw, bu, buddy, buffer, bug, bugfixes, buggy, bugs, build, building, built, bullies, bump, bunch, burnt, bursting, busy, but, butler, button, buy, buys, buzz, by, byegium, ca, cabin, cable, cableporn, caesar, caged, call, called, calling, calls, came, camp, campaign, camping, can, canada, candidate, cannot, capita, capitalism, capitalists, capn, captain, captains, capture, car, card, cardinality, cards, career, careful, caribbean, caring, carpentry, cars, cartoon, case, cash, cat, catch, categorical, catered, cats, catty, caught, causal, cause, caused, cc, celebrate, celebrating, cena, centenial, center, centrality, centre, century, cernan, certainly, ceval, cfd, cffi, cfp, chair, chalk, challenge, challenges\n",
      "\n",
      "TWEET REPRESENTATION: [0 0 0 0 0 0 0 0 0 0 0 0 0 0 0 0 0 0 0 0 0 0 0 0 0 0 0 0 0 0 0 0 0 0 0 0 0\n",
      " 0 0 0 0 0 0 0 0 0 0 0 0 0 0 0 0 0 0 0 0 0 0 0 0 0 0 0 0 0 0 0 0 0 0 0 0 0\n",
      " 0 0 0 0 0 0 0 0 0 0 0 0 0 0 0 0 0 0 0 0 0 0 0 0 0 0 0 0 0 0 0 0 0 0 0 0 0\n",
      " 0 0 0 0 0 0 0 0 0 0 0 0 1 0 0 0 0 0 0 0 0 0 0 0 0 0 0 0 0 0 0 0 0 0 0 0 0\n",
      " 0 0 0 0 0 0 0 0 0 0 0 0 0 0 0 0 0 0 0 0 0 0 0 0 0 0 0 0 0 0 0 0 0 0 0 0 0\n",
      " 0 0 0 0 0 0 0 0 0 0 0 0 0 0 0 0 0 0 0 0 0 0 0 0 0 0 0 0 0 0 0 0 0 0 0 0 0\n",
      " 0 0 0 0 0 0 1 0 0 0 0 0 0 0 0 0 0 0 0 0 0 0 0 0 0 0 0 0 0 0 0 0 0 0 0 0 0\n",
      " 0 0 0 0 0 0 0 0 0 0 0 0 0 0 0 0 0 0 0 0 0 0 0 0 0 0 0 0 0 0 0 0 0 0 0 0 0\n",
      " 0 0 0 0 0 0 0 0 0 0 0 0 0 0 0 0 0 0 0 0 0 0 0 0 0 0 0 0 0 0 0 0 0 0 0 0 0\n",
      " 0 0 0 0 0 0 0 0 0 0 0 0 0 0 0 0 0 0 0 0 0 0 0 0 0 0 0 0 0 0 0 0 0 0 0 0 0\n",
      " 0 0 0 0 0 0 0 0 0 0 0 0 0 0 0 0 0 0 0 0 0 0 0 0 0 0 0 0 0 0 0 0 0 0 0 0 0\n",
      " 0 0 0 0 0 0 0 0 0 0 0 0 0 0 0 0 0 0 0 0 0 0 0 0 0 0 0 0 0 0 0 0 0 0 0 0 0\n",
      " 0 0 0 0 0 0 0 0 0 0 0 0 0 0 0 0 0 0 0 0 0 0 0 0 0 0 0 0 0 0 0 0 0 0 0 0 0\n",
      " 0 0 0 0 0 1 0 0 0 0 0 0 0 0 0 0 0 0 0 0 0 0 0 0 0 1 0 0 0 0 0 0 0 0 0 0 0\n",
      " 0 0 0 0 0 0 0 0 0 0 0 0 0 0 0 0 0 0 0 0 0 0 0 0 0 0 0 0 0 0 0 0 0 0 0 0 0\n",
      " 0 0 0 0 0 0 0 0 0 0 0 0 0 0 0 0 0 0 0 0 0 0 0 0 0 0 0 0 0 0 0 0 0 0 0 0 0\n",
      " 0 0 0 0 0 0 0 0 0 0 0 0 0 0 0 0 0 0 0 0 0 0 0 0 0 0 0 0 0 0 0 0 0 0 0 0 0\n",
      " 0 0 0 0 0 0 0 0 0 0 0 0 0 0 0 0 0 0 0 0 0 0 0 0 0 0 0 0 0 0 0 0 0 0 0 0 0\n",
      " 0 0 0 0 0 0 0 0 0 0 0 0 0 0 0 0 0 0 0 0 0 0 0 0 0 0 0 0 0 0 0 0 0 0 0 0 0\n",
      " 0 0 0 0 0 0 0 0 0 0 0 0 0 0 0 0 0 0 0 0 0 0 0 0 0 0 0 0 0 0 0 0 0 0 0 0 0\n",
      " 0 0 0 0 0 0 0 0 0 0 0 0 0 0 0 0 0 0 0 0 0 0 0 0 0 0 0 0 0 0 0 0 0 0 0 0 0\n",
      " 0 0 0 0 0 0 0 0 0 0 0 0 0 0 0 0 0 0 0 0 0 0 0 0 0 0 0 0 0 0 0 0 0 0 0 0 0\n",
      " 0 0 0 0 0 0 0 0 0 0 0 0 0 0 0 0 0 0 0 0 0 0 0 0 0 0 0 0 0 0 0 0 0 0 0 0 0\n",
      " 0 0 0 0 0 0 0 0 0 0 0 0 0 0 0 0 0 0 0 0 0 0 0 0 0 0 0 0 0 0 0 0 0 0 0 0 0\n",
      " 0 0 0 0 0 0 0 1 0 0 0 0 0 0 0 0 0 0 0 0 0 0 0 0 0 0 0 0 0 0 0 0 0 0 0 0 0\n",
      " 0 0 0 0 0 0 0 0 0 0 0 0 0 0 0 0 0 0 0 0 0 0 0 0 0 0 0 0 0 0 0 0 0 0 0 0 0\n",
      " 0 0 0 0 0 0 0 0 0 0 0 0 0 0 0 0 0 0 0 0 0 0 0 0 0 0 0 0 0 0 0 0 0 0 0 0 0\n",
      " 0 0 0 0 0 0 0 0 0 0 0 0 0 0 0 0 0 0 0 0 0 0 0 0 0 0 0 0 0 0 0 0 0 0 0 0 0\n",
      " 0 0 0 0 0 0 0 0 0 0 0 0 0 0 0 0 0 0 0 0 0 0 0 0 0 0 0 0 0 0 0 0 0 0 0 0 0\n",
      " 0 0 0 0 0 0 0 0 0 0 0 0 0 0 0 0 0 0 0 0 0 0 0 0 0 0 0 0 0 0 0 0 0 0 0 0 0\n",
      " 0 0 0 0 0 0 0 0 0 0 0 0 0 0 0 0 0 0 0 0 0 0 0 0 0 0 0 0 0 0 0 0 0 0 0 0 0\n",
      " 0 0 0 0 0 0 0 0 0 0 0 0 0 0 0 0 0 0 0 0 0 0 0 0 0 0 0 0 0 0 0 0 0 0 0 0 0\n",
      " 0 0 0 0 0 0 0 0 0 0 0 0 0 0 0 0 0 0 0 0 0 0 0 0 0 0 0 0 0 0 0 0 0 0 0 0 0\n",
      " 0 0 0 0 0 0 0 0 0 0 0 0 0 0 0 0 0 0 0 0 0 0 0 0 0 0 0 0 0 0 0 0 0 0 0 0 0\n",
      " 0 0 0 0 0 0 0 0 0 0 0 0 0 0 0 0 0 0 0 0 0 0 0 0 0 0 0 0 0 0 0 0 0 0 0 0 0\n",
      " 0 0 0 0 0 0 0 0 0 0 0 0 0 0 0 0 0 0 0 0 0 0 0 0 0 0 0 0 0 0 0 0 0 0 0 0 0\n",
      " 0 0 0 0 0 0 0 0 0 0 0 0 0 0 0 0 0 0 0 0 0 0 0 0 0 0 0 0 0 0 0 0 0 0 0 0 0\n",
      " 0 0 0 0 0 0 0 0 0 0 0 0 0 0 0 0 0 0 0 0 0 0 0 0 0 0 0 0 0 0 0 0 0 0 0 0 0\n",
      " 0 0 0 0 0 0 0 0 0 0 0 0 0 0 0 0 0 0 0 0 0 0 0 0 0 0 0 0 0 0 0 0 0 0 0 0 0\n",
      " 0 0 0 0 0 0 0 0 0 0 0 0 0 0 0 0 0 0 0 0 0 0 0 0 0 0 0 0 0 0 0 0 0 0 0 0 0\n",
      " 0 0 0 0 0 0 0 0 0 0 0 0 0 0 0 0 0 0 0 0 0 0 0 0 0 0 0 0 0 0 0 0 0 0 0 0 0\n",
      " 0 0 0 0 0 0 0 0 0 0 0 0 0 0 0 0 0 0 0 0 0 0 0 0 0 0 0 0 0 0 0 0 0 0 0 0 0\n",
      " 0 0 0 0 0 0 0 0 0 0 0 0 0 0 0 0 0 0 0 0 0 0 0 0 0 0 0 0 0 0 0 0 0 0 0 0 0\n",
      " 0 0 0 0 0 0 0 0 0 0 0 0 0 0 0 0 0 0 0 0 0 0 0 0 0 0 0 0 0 0 0 0 0 0 0 0 0\n",
      " 0 0 0 0 0 0 0 0 0 0 0 0 0 0 0 0 0 0 0 0 0 0 0 0 0 0 0 0 0 0 0 0 0 0 0 0 0\n",
      " 0 0 0 0 0 0 0 0 0 0 0 0 0 0 0 0 0 0 0 0 0 0 0 0 0 0 0 0 0 0 0 0 0 0 0 0 0\n",
      " 0 0 0 0 0 0 0 0 0 0 0 0 0 0 0 0 0 0 0 0 0 0 0 0 0 0 0 0 0 0 0 0 0 0 0 0 0\n",
      " 0 0 0 0 0 0 0 0 0 0 0 0 0 0 0 0 0 0 0 0 0 0 0 0 0 0 0 0 0 0 0 0 0 0 0 0 0\n",
      " 0 0 0 0 0 0 0 0 0 0 0 0 0 0 0 0 0 0 0 0 0 0 0 0 0 0 0 0 0 0 0 0 0 0 0 0 0\n",
      " 0 0 0 0 0 0 0 0 0 0 0 0 0 0 0 0 0 0 0 0 0 0 0 0 0 0 0 0 0 0 0 0 0 0 0 0 0\n",
      " 0 0 0 0 0 0 0 0 0 0 0 0 0 0 1 0 0 0 0 0 0 0 0 0 0 0 0 0 0 0 0 0 0 0 0 0 0\n",
      " 0 0 0 0 0 0 0 0 0 0 0 0 0 0 0 0 0 0 0 0 0 0 0 0 0 0 0 0 0 0 0 0 0 0 0 0 0\n",
      " 0 0 0 0 0 0 0 0 0 0 0 0 0 0 0 0 0 0 0 0 0 0 0 0 0 0 0 0 0 0 0 0 0 0 0 0 0\n",
      " 0 0 0 0 0 0 0 0 0 0 0 0 0 0 0 0 0 0 0 0 0 0 0 0 0 0 0 0 0 0 0 0 0 0 0 0 0\n",
      " 0 0 0 0 0 0 0 0 0 0 0 0 0 0 0 0 0 0 0 0 0 0 0 0 0 0 0 0 0 0 0 0 0 0 0 0 0\n",
      " 0 0 0 0 0 0 0 0 0 0 0 0 0 0 0 0 0 0 0 0 0 0 0 0 0 0 0 0 0 0 0 0 0 0 0 0 0\n",
      " 0 0 0 0 0 0 0 0 0 0 0 0 0 0 0 0 0 0 0 0 0 0 0 0 0 0 0 0 0 0 0 0 0 0 0 0 0\n",
      " 0 0 0 0 0 0 0 0 0 0 0 0 0 0 0 0 0 0 0 0 0 0 0 0 0 0 0 0 0 0 0 0 0 0 0 0 0\n",
      " 0 0 1 0 0 0 0 0 0 0 0 0 0 0 0 0 0 0 0 0 0 0 0 0 0 0 0 0 0 0 0 0 0 0 0 0 0\n",
      " 0 0 0 0 0 0 0 0 0 0 0 0 0 0 0 0 0 0 0 0 0 0 0 0 0 0 0 0 0 0 0 0 0 0 0 0 0\n",
      " 0 0 0 0 0 0 0 0 0 0 0 0 0 0 0 0 0 0 0 0 0 0 0 0 0 0 0 0 0 0 0 0 0 0 0 0 0\n",
      " 0 0 0 0 0 0 0 0 0 0 0 0 0 0 0 0 0 0 0 0 0 0 0 0 0 0 0 0 0 0 0 0 0 0 0 0 0\n",
      " 0 0 0 0 0 0 0 0 0 0 0 0 0 0 0 0 0 0 0 0 0 0 0 0 0 0 0 0 0 0 0 0 0 0 0 0 0\n",
      " 0 0 0 0 0 0 0 0 0 0 0 0 0 0 0 0 0 0 0 0 0 0 0 0 0 0 0 0 0 0 0 0 0 0 0 0 0\n",
      " 0 0 0 0 0 0 0 0 0 0 0 0 0 0 0 0 0 0 0 0 0 0 0 0 0 0 0 0 0 0 0 0 0 0 0 0 0\n",
      " 0 0 0 0 0 0 0 0 0 0 0 0 0 0 0 0 0 0 0 0 0 0 0 0 0 0 0 0 0 0 0 0 0 0 0 0 0\n",
      " 0 0 0 0 0 0 0 0 0 0 0 0 0 0 0 0 0 0 0 0 0 0 0 0 0 0 0 0 0 0 0 0 0 0 0 0 0\n",
      " 0 0 0 0 0 0 0 0 0 0 0 0 0 0 0 0 0 0 0 0 0 0 0 0 0 0 0 0 0 0 0 0 0 0 0 0 0\n",
      " 0 0 0 0 0 0 0 0 0 0 0 0 0 0 0 0 0 0 0 0 0 0 0 0 0 0 0 0 0 0 0 0 0 0 0 0 0\n",
      " 0 0 0 0 0 0 0 0 0 0 0 0 0 0 0 0 0 0 0 0 0 0 0 0 0 0 0 0 0 0 0 0 0 0 0 0 0\n",
      " 0 0 0 0 0 0 0 0 0 0 0 0 0 0 0 0 0 0 0 0 0 0 0 0 0 0 0 0 0 0 0 0 0 0 0 0 0\n",
      " 0 0 0 0 0 0 0 0 0 0 0 0 0 0 0 0 0 0 0 0 0 0 0 0 0 0 0 0 0 0 0 0 0 0 0 0 0\n",
      " 0 0 0 0 0 0 0 0 0 0 0 0 0 0 0 0 0 0 0 0 0 0 0 0 0 0 0 0 0 0 0 0 0 0 0 0 0\n",
      " 0 0 0 0 0 0 0 0 0 0 0 0 0 0 0 0 0 0 0 0 0 0 0 0 0 0 0 0 0 0 0 0 0 0 0 0 0\n",
      " 0 0 0 0 0 0 0 0 0 0 0 0 0 0 0 0 0 0 0 0 0 0 0 0 0 0 0 0 0 0 0 0 0 0 0 0 0\n",
      " 0 0 0 0 0 0 0 0 0 0 0 0 0 0 0 0 0 0 0 0 0 0 0 0 0 0 0 0 0 0 0 0 0 0 0 0 0\n",
      " 0 0 0 0 0 0 0 0 0 0 0 0 0 0 0 0 0 0 0 0 0 0 0 0 0 0 0 0 0 0 0 0 0 0 0 0 0\n",
      " 0 0 0 0 0 0 0 0 0 0 0 0 0 0 0 0 0 0 0 0 0 0 0 0 0 0 0 0 0 0 0 0 0 0 0 0 0\n",
      " 0 0 0 0 0 0 0 0 0 0 0 0 0 0 0 0 0 0 0 0 0 0 0 0 0 0 0 0 0 0 0 0 0 0 0 0 0\n",
      " 0 0 0 0 0 0 0 0 0 0 0 0 0 0 0 0 0 0 0 0 0 0 0 0 0 0 0 0 0 0 0 0 0 0 0 0 0\n",
      " 0 0 0 0 0 0 0 0 0 0 0 0 0 0 0 0 0 0 0 0 0 0 0 0 0 0 0 0 0 0 0 0 0 0 0 0 0\n",
      " 0 0 0 0 0 0 0 0 0 0 0 0 0 0 0 0 0 0 0 0 0 0 0 0 0 0 0 0 0 0 0 0 0 0 0 0 0\n",
      " 0 0 0 0 0 0 0 0 0 0 0 0 0 0 0 0 0 0 0 0 0 0 0 0 0 0 0 0 0 0 0 0 0 0 0 0 0\n",
      " 0 0 0 0 0 0 0 0 0 0 0 0 0 0 0 0 0 0 0 0 0 0 0 0 0 0 0 0 0 0 0 0 0 0 0 0 0\n",
      " 0 0 0 0 0 0 0 0 0 0 0 0 0 0 0 0 0 0 0 0 0 0 0 0 0 0 0 0 0 0 0 0 0 0 0 0 0\n",
      " 0 0 0 0 0 0 0 0 0 0 0 0 0 0 0 0 0 0 0 0 0 0 0 0 0 0 0 0 0 0 0 0 0 0 0 0 0\n",
      " 0 0 0 0 0 0 0 0 0 0 0 0 0 0 0 0 0 0 0 0 0 0 0 0 0 0 0 0 0 0 0 0 0 0 0 0 0\n",
      " 0 0 0 0 0 0 0 0 0 0 0 0 0 0 0 0 0 0 0 0 0 0 0 0 0 0 0 0 0 0 0 0 0 0 0 0 0\n",
      " 0 0 0 0 0 0 0 0 0 0 0 0 0 0 0 0 0 0 0 0 0 0 0 0 0 0 0 0 0 0 0 0 0 0 0 0 0\n",
      " 0 0 0 0 0 0 0 0 0 0 0 0 0 0 0 0 0 0 0 0 0 0 0 0 0 0 0 0 0 0 0 0 0 0 0 0 0\n",
      " 0 0 0 0 0 0 0 0 0 0 0 0 0 0 0 0 0 0 0 0 0 0 0 0 0 0 0 0 0 0 0 0 0 0 0 0 0\n",
      " 0 0 0 0 0 0 0 0 0 0 0 0 0 0 0 0 0 0 0 0 0 0 0 0 0 0 0 0 0 0 0 0 0 0 0 0 0\n",
      " 0 0 0 0 0 0 0 0 0 0 0 0 0 0 0 0 0 0 0 0 0 0 0 0 0 0 0 0 0 0 0 0 0 0 0 0 0\n",
      " 0 0 0 0 0 0 0 0 0 0 0 0 0 0 0 0 0 0 0 0 0 0 0 0 0 0 0 0 0 0 0 0 0 0 0 0 0\n",
      " 0 0 0 0 0 0 0 0 0 0 0 0 0 0 0 0 0 0 0 0 0 0 0 0 0 0 0 0 0 0 0 0 0 0 0 0 0\n",
      " 0 0 0 0 0 0 0 0 0 0 0 0 0 0 0 0 0 0 0 0 0 0 0 0 0 0 0 0 0 0 0 0 0 0 0 0 0\n",
      " 0 0 0 0 0 0 0 0 0 0 0 0 0 0 0 0 0 0 0 0 0 0 0 0 0 0 0 0 0 0 0 0 0 0 0 0 0\n",
      " 0 0 0 0 0 0 0 0 0 0 0 0 0 0 0 0 0 0 0 0 0 0 0 0 0 0 0 0 0 0 0 0 0 0 0 0 0\n",
      " 0 0 0 0 0 0 0 0 0 0 0 0 0 0 0 0 0 0 0 1 0 0 0 0 0 0 0 0 0 0 0 0 0 0 0 0 0\n",
      " 0 0 0 0 0 0 0 0 0 0 0 0 0 0 0 0 0 0 0 0 0 0 0 0 0 0 0 0 0 0 0 0 0 0 0 0 0\n",
      " 0 0 0 0 0 0 0 0 0 0 0 0 0 0 0 0 0 0 0 0 0 0 0 0 0 0 0 0 0 0 0 0 0 0 0 1 0\n",
      " 0 0 0 0 0 0 0 0 0 0 0 0 0 0 0 0 0 0 0 0 0 0 0 0 0 0 0 0 0 0 0 0 0 0 0 0 0\n",
      " 0 0 0 0 0 0 0 0 0 0 0 0 0 0 0 0 0 0 0 0 0 2 0 0 0 0 0 0 0 0 0 0 0 0 0 0 0\n",
      " 0 0 0 0 0 0 0 0 0 0 0 0 0 0 0 0 0 0 0 0 0 0 0 0 0 0 0 0 0 0 0 0 0 0 0 0 0\n",
      " 0 0 0 0 0 0 0 0 0 0 0 0 0 0 0 0 0 0 0 0 0 0 0 0 0 0 0 0 0 0 0 0 0 0 0 0 0\n",
      " 0 0 0 0 0 0 0 0 0 0 0 0 0 0 0 0 0 0 0 0 0 0 0 0 0 0 0 0 0 0 0 0 0 0 0 0 0\n",
      " 0 0 0 0 0 0 0 0 0 0 1 0 0 0 0 0 0 0 0 0 0 0 0 0 0 0 0 0 0 0 0 0 0 0 0 0 0\n",
      " 0 0 0 0 0 0 0 0 0 0 0 0 0 0 0 0 0 0 0 0 0 0 0 0 0 0 0 0 0 0 0 0 0 0 0 0 0\n",
      " 0 0 0 0 0 0 0 0 0 0 0 0 0 0 0 0 0 0 0 0 0 0 0 0 0 0 0 0 0 0 0 0 0 0 0 0 0\n",
      " 0 0 0 0 0 0 0 0 0 0 0 0 0 0 0 0 0 0 0 0 0 0 0 0 0 0 0]\n"
     ]
    }
   ],
   "source": [
    "from sklearn.feature_extraction.text import CountVectorizer\n",
    "\n",
    "vectorizer = CountVectorizer(analyzer = \"word\", \n",
    "                             tokenizer = None,\n",
    "                             preprocessor = None,\n",
    "                             stop_words = None,\n",
    "                             ngram_range=(1, 1),\n",
    "                             max_features = 5000) \n",
    "\n",
    "# Fit the train\n",
    "BOW_train = vectorizer.fit_transform(X_train)\n",
    "BOW_train = BOW_train.toarray()\n",
    "\n",
    "# Transform the test\n",
    "BOW_test = vectorizer.transform(X_test)\n",
    "BOW_test = BOW_test.toarray()\n",
    "\n",
    "\n",
    "print('Train: {{0|1}}^({}x{})'.format(BOW_train.shape[0], BOW_train.shape[1]))\n",
    "print('Test:  {{0|1}}^({}x{})'.format(BOW_test.shape[0], BOW_test.shape[1]))\n",
    "vocab = vectorizer.get_feature_names()\n",
    "print('\\nVOCABULARY EXTRACT: {}'.format(', '.join(vocab[500:600])))\n",
    "np.set_printoptions(threshold=np.nan)\n",
    "print('\\nTWEET REPRESENTATION: {}'.format(BOW_train[0]))"
   ]
  },
  {
   "cell_type": "markdown",
   "metadata": {},
   "source": [
    "## 3.2. So, what's the problem, then?\n",
    "\n",
    "\n",
    "- Unseen words.\n",
    "- One-hot Representation: Represents every word as an $\\mathbb{R}^{|V|×1}$\n",
    "```python\n",
    "hotel = [0, 0, 0, 0, 0, 0, 0, 0, 1, 0, 0, 0, 0, 0]\n",
    "motel = [0, 0, 0, 0, 1, 0, 0, 0, 0, 0, 0, 0, 0, 0]\n",
    "w hotel AN D w motel = 0\n",
    "```\n",
    "$w^{hotel} AND w^{motel} = 0\n",
    "&nbsp;\n",
    "\n",
    "\n",
    "- *The curse of dimensionality!!!*\n",
    "  - Generalizing locally (eg. nearest neighbors) requires representative examples for all relevant variations\n",
    "  - The number of possible configurations of the variables of interest is much larger than the number of training samples.\n",
    "\n",
    "\n",
    "&nbsp;\n",
    "![Curse!](imgs/curse.jpg \"The curse of the dimensionality\")\n"
   ]
  },
  {
   "cell_type": "markdown",
   "metadata": {},
   "source": [
    "# 4. Word embeddings\n",
    "\n",
    "> You shall know a word by the company it keeps.\n",
    ">\n",
    "> -- <cite>J.R. Firth 1957:11</cite>"
   ]
  },
  {
   "cell_type": "markdown",
   "metadata": {},
   "source": [
    "## 4.1. Pretrained data using GloVe"
   ]
  },
  {
   "cell_type": "code",
   "execution_count": 17,
   "metadata": {
    "collapsed": false
   },
   "outputs": [],
   "source": [
    "import numpy as np\n",
    "\n",
    "def load_glove_dict(glove_file):\n",
    "    glove_embeddings = {}\n",
    "    with open(glove_file) as glove_file:\n",
    "        for line in glove_file:\n",
    "            split_line = line.split() \n",
    "            word, vector = split_line[0], np.asarray(split_line[1:])\n",
    "            glove_embeddings[word] =  vector\n",
    "    return glove_embeddings"
   ]
  },
  {
   "cell_type": "code",
   "execution_count": 30,
   "metadata": {
    "collapsed": false
   },
   "outputs": [],
   "source": [
    "GLOVE_PATH = '../../../resources/GloVe/twitter_dataset'\n",
    "\n",
    "embedding_size = '25'\n",
    "glove_file = join(GLOVE_PATH, 'glove.twitter.27B.' + embedding_size + 'd.txt')\n",
    "glove_25 = load_glove_dict(glove_file)"
   ]
  },
  {
   "cell_type": "code",
   "execution_count": 31,
   "metadata": {
    "collapsed": false
   },
   "outputs": [],
   "source": [
    "embedding_size = '100'\n",
    "glove_file = join(GLOVE_PATH, 'glove.twitter.27B.' + embedding_size + 'd.txt')\n",
    "glove_100 = load_glove_dict(glove_file)"
   ]
  },
  {
   "cell_type": "code",
   "execution_count": 95,
   "metadata": {
    "collapsed": false
   },
   "outputs": [],
   "source": [
    "embedding_size = '200'\n",
    "glove_file = join(GLOVE_PATH, 'glove.twitter.27B.' + embedding_size + 'd.txt')\n",
    "glove_200 = load_glove_dict(glove_file)"
   ]
  },
  {
   "cell_type": "code",
   "execution_count": 46,
   "metadata": {
    "collapsed": true
   },
   "outputs": [],
   "source": [
    "def get_most_common_vocab(most_common, vocabulary):\n",
    "    most_common_words = vocabulary.most_common(int(most_common/2))\n",
    "    return set(word for word, _ in most_common_words)"
   ]
  },
  {
   "cell_type": "code",
   "execution_count": 47,
   "metadata": {
    "collapsed": false
   },
   "outputs": [],
   "source": [
    "def get_words_to_plot(most_common, vocabulary, dictionary):\n",
    "    words_to_plot = {}\n",
    "    unseen_words = []\n",
    "    for word in get_most_common_vocab(most_common, vocabulary):\n",
    "        if word in dictionary:\n",
    "            words_to_plot[word] = dictionary[word]\n",
    "        else:\n",
    "            unseen_words.append(word)\n",
    "    return words_to_plot, unseen_words"
   ]
  },
  {
   "cell_type": "code",
   "execution_count": 53,
   "metadata": {
    "collapsed": false
   },
   "outputs": [],
   "source": [
    "from sklearn.manifold import TSNE\n",
    "\n",
    "tsne = TSNE(perplexity=30, n_components=2, init='pca', n_iter=5000)\n",
    "words_to_plot_bros, unseen_words_bros = get_words_to_plot(1000, brocabulary, glove_100)\n",
    "words_to_plot_sis, unseen_words_sis = get_words_to_plot(1000, siscabulary, glove_100)\n",
    "\n",
    "low_dim_embs_bros = tsne.fit_transform(list(words_to_plot_bros.values()))\n",
    "low_dim_embs_sis = tsne.fit_transform(list(words_to_plot_sis.values()))"
   ]
  },
  {
   "cell_type": "code",
   "execution_count": 73,
   "metadata": {
    "collapsed": true
   },
   "outputs": [],
   "source": [
    "def plot_tsne(dictionary, most_common):\n",
    "    tsne = TSNE(perplexity=30, n_components=2, init='pca', n_iter=5000)\n",
    "    words_to_plot_bros, unseen_words_bros = get_words_to_plot(most_common, brocabulary, dictionary)\n",
    "    words_to_plot_sis, unseen_words_sis = get_words_to_plot(most_common, siscabulary, dictionary)\n",
    "\n",
    "    low_dim_embs_bros = tsne.fit_transform(list(words_to_plot_bros.values()))\n",
    "    low_dim_embs_sis = tsne.fit_transform(list(words_to_plot_sis.values()))\n",
    "    \n",
    "    words_bros = list(words_to_plot_bros.keys())\n",
    "    range_words_bros=list(range(1,len(words_bros)+1))\n",
    "    source_bros = ColumnDataSource(data=dict(range_words=range_words,\n",
    "                                             words_bros=words_bros,\n",
    "                                             x=low_dim_embs_bros[:,0], \n",
    "                                             y=low_dim_embs_bros[:,1]))\n",
    "\n",
    "    words_sis = list(words_to_plot_sis.keys())\n",
    "    range_words_sis = list(range(1,len(words_sis)+1))\n",
    "    source_sis = ColumnDataSource(data=dict(range_words=range_words_sis,\n",
    "                                             words_sis=words_sis,\n",
    "                                             x=low_dim_embs_sis[:,0], \n",
    "                                             y=low_dim_embs_sis[:,1]))\n",
    "    hover = HoverTool()\n",
    "    hover.point_policy = \"follow_mouse\"\n",
    "    hover = HoverTool(\n",
    "            tooltips=[\n",
    "                (\"words_bros\", \"@words_bros\"),\n",
    "                (\"words_sis\", \"@words_sis\"),\n",
    "            ]\n",
    "        )\n",
    "\n",
    "    TOOLS=\"pan,wheel_zoom,box_zoom,reset,save\"\n",
    "\n",
    "\n",
    "    p = figure(title = \"Word visualization\", tools=[TOOLS, hover])\n",
    "    p.circle('x', 'y', source=source_bros, fill_alpha=0.2, size=10, color='navy')\n",
    "    p.circle('x', 'y', source=source_sis, fill_alpha=0.2, size=10, color='red')\n",
    "\n",
    "    show(p)\n",
    "    return set(unseen_words_bros + unseen_words_sis)"
   ]
  },
  {
   "cell_type": "code",
   "execution_count": 74,
   "metadata": {
    "collapsed": false
   },
   "outputs": [
    {
     "data": {
      "text/html": [
       "\n",
       "\n",
       "    <div class=\"bk-root\">\n",
       "        <div class=\"plotdiv\" id=\"fa8d9d4b-fd5e-4a8f-9fcb-978b0d3095ac\"></div>\n",
       "    </div>\n",
       "<script type=\"text/javascript\">\n",
       "  \n",
       "  (function(global) {\n",
       "    function now() {\n",
       "      return new Date();\n",
       "    }\n",
       "  \n",
       "    if (typeof (window._bokeh_onload_callbacks) === \"undefined\") {\n",
       "      window._bokeh_onload_callbacks = [];\n",
       "    }\n",
       "  \n",
       "    function run_callbacks() {\n",
       "      window._bokeh_onload_callbacks.forEach(function(callback) { callback() });\n",
       "      delete window._bokeh_onload_callbacks\n",
       "      console.info(\"Bokeh: all callbacks have finished\");\n",
       "    }\n",
       "  \n",
       "    function load_libs(js_urls, callback) {\n",
       "      window._bokeh_onload_callbacks.push(callback);\n",
       "      if (window._bokeh_is_loading > 0) {\n",
       "        console.log(\"Bokeh: BokehJS is being loaded, scheduling callback at\", now());\n",
       "        return null;\n",
       "      }\n",
       "      if (js_urls == null || js_urls.length === 0) {\n",
       "        run_callbacks();\n",
       "        return null;\n",
       "      }\n",
       "      console.log(\"Bokeh: BokehJS not loaded, scheduling load and callback at\", now());\n",
       "      window._bokeh_is_loading = js_urls.length;\n",
       "      for (var i = 0; i < js_urls.length; i++) {\n",
       "        var url = js_urls[i];\n",
       "        var s = document.createElement('script');\n",
       "        s.src = url;\n",
       "        s.async = false;\n",
       "        s.onreadystatechange = s.onload = function() {\n",
       "          window._bokeh_is_loading--;\n",
       "          if (window._bokeh_is_loading === 0) {\n",
       "            console.log(\"Bokeh: all BokehJS libraries loaded\");\n",
       "            run_callbacks()\n",
       "          }\n",
       "        };\n",
       "        s.onerror = function() {\n",
       "          console.warn(\"failed to load library \" + url);\n",
       "        };\n",
       "        console.log(\"Bokeh: injecting script tag for BokehJS library: \", url);\n",
       "        document.getElementsByTagName(\"head\")[0].appendChild(s);\n",
       "      }\n",
       "    };var element = document.getElementById(\"fa8d9d4b-fd5e-4a8f-9fcb-978b0d3095ac\");\n",
       "    if (element == null) {\n",
       "      console.log(\"Bokeh: ERROR: autoload.js configured with elementid 'fa8d9d4b-fd5e-4a8f-9fcb-978b0d3095ac' but no matching script tag was found. \")\n",
       "      return false;\n",
       "    }\n",
       "  \n",
       "    var js_urls = [];\n",
       "  \n",
       "    var inline_js = [\n",
       "      function(Bokeh) {\n",
       "        Bokeh.$(function() {\n",
       "            var docs_json = {\"b3110315-25c2-4ac5-8543-a183a8597266\":{\"roots\":{\"references\":[{\"attributes\":{\"data_source\":{\"id\":\"6a43a80c-ab72-4fd8-8966-0f426ff0f1e5\",\"type\":\"ColumnDataSource\"},\"glyph\":{\"id\":\"1a0d5106-f74d-47d0-b0b2-d4780e529629\",\"type\":\"Circle\"},\"hover_glyph\":null,\"nonselection_glyph\":{\"id\":\"81f115be-084f-40c2-a8c4-22b8d8f3c049\",\"type\":\"Circle\"},\"selection_glyph\":null},\"id\":\"aadcb497-e62c-4802-ac8b-5e85990f07e4\",\"type\":\"GlyphRenderer\"},{\"attributes\":{},\"id\":\"5d436697-2873-438a-bd05-2b0b21cb9d3c\",\"type\":\"BasicTickFormatter\"},{\"attributes\":{\"fill_alpha\":{\"value\":0.2},\"fill_color\":{\"value\":\"navy\"},\"line_color\":{\"value\":\"navy\"},\"size\":{\"units\":\"screen\",\"value\":10},\"x\":{\"field\":\"x\"},\"y\":{\"field\":\"y\"}},\"id\":\"823af8bc-1ebf-49ce-94b9-194a8b8fc127\",\"type\":\"Circle\"},{\"attributes\":{\"plot\":{\"id\":\"578126db-1ee3-448a-aa27-89c45ceb90e3\",\"subtype\":\"Figure\",\"type\":\"Plot\"}},\"id\":\"3d4fe266-4dfd-4c5a-af1c-c31e34aa3cb4\",\"type\":\"PanTool\"},{\"attributes\":{\"callback\":null},\"id\":\"b2e8649a-d6ce-4d87-bf1f-174d8f42883f\",\"type\":\"DataRange1d\"},{\"attributes\":{\"plot\":{\"id\":\"578126db-1ee3-448a-aa27-89c45ceb90e3\",\"subtype\":\"Figure\",\"type\":\"Plot\"}},\"id\":\"aa61512e-06d9-44a8-bb06-910ccf227bf7\",\"type\":\"ResetTool\"},{\"attributes\":{},\"id\":\"11a28fdc-99d7-4de8-aa7e-99dffbb5729b\",\"type\":\"BasicTickFormatter\"},{\"attributes\":{\"formatter\":{\"id\":\"5d436697-2873-438a-bd05-2b0b21cb9d3c\",\"type\":\"BasicTickFormatter\"},\"plot\":{\"id\":\"578126db-1ee3-448a-aa27-89c45ceb90e3\",\"subtype\":\"Figure\",\"type\":\"Plot\"},\"ticker\":{\"id\":\"3b8b9233-4c8d-468d-add0-e4cd161e91a0\",\"type\":\"BasicTicker\"}},\"id\":\"79371b5b-b397-46d6-a2ab-b9f96f4bdf31\",\"type\":\"LinearAxis\"},{\"attributes\":{},\"id\":\"3b8b9233-4c8d-468d-add0-e4cd161e91a0\",\"type\":\"BasicTicker\"},{\"attributes\":{\"plot\":{\"id\":\"578126db-1ee3-448a-aa27-89c45ceb90e3\",\"subtype\":\"Figure\",\"type\":\"Plot\"}},\"id\":\"1e1d410d-28ff-421f-ba52-30db08810fd2\",\"type\":\"WheelZoomTool\"},{\"attributes\":{\"fill_alpha\":{\"value\":0.2},\"fill_color\":{\"value\":\"red\"},\"line_color\":{\"value\":\"red\"},\"size\":{\"units\":\"screen\",\"value\":10},\"x\":{\"field\":\"x\"},\"y\":{\"field\":\"y\"}},\"id\":\"1a0d5106-f74d-47d0-b0b2-d4780e529629\",\"type\":\"Circle\"},{\"attributes\":{\"callback\":null,\"column_names\":[\"x\",\"y\",\"words_bros\",\"range_words\"],\"data\":{\"range_words\":[1,2,3,4,5,6,7,8,9,10,11,12,13,14,15,16,17,18,19,20,21,22,23,24,25,26,27,28,29,30,31,32,33,34,35,36,37,38,39,40,41,42,43,44,45,46,47,48,49,50,51,52,53,54,55,56,57,58,59,60,61,62,63,64,65,66,67,68,69,70,71,72,73,74,75,76,77,78,79,80,81,82,83,84,85,86,87,88,89,90,91,92,93,94,95,96,97,98,99,100,101,102,103,104,105,106,107,108,109,110,111,112,113,114,115,116,117,118,119,120,121,122,123,124,125,126,127,128,129,130,131,132,133,134,135,136,137,138,139,140,141,142,143,144,145,146,147,148,149,150,151,152,153,154,155,156,157,158,159,160,161,162,163,164,165,166,167,168,169,170,171,172,173,174,175,176,177,178,179,180,181,182,183,184,185,186,187,188,189,190,191,192,193,194,195,196,197,198,199,200,201,202,203,204,205,206,207,208,209,210,211,212,213,214,215,216,217,218,219,220,221,222,223,224,225,226,227,228,229,230,231,232,233,234,235,236,237,238,239,240,241,242,243,244,245,246,247,248,249,250,251,252,253,254,255,256,257,258,259,260,261,262,263,264,265,266,267,268,269,270,271,272,273,274,275,276,277,278,279,280,281,282,283,284,285,286,287,288,289,290,291,292,293,294,295,296,297,298,299,300,301,302,303,304,305,306,307,308,309,310,311,312,313,314,315,316,317,318,319,320,321,322,323,324,325,326,327,328,329,330,331,332,333,334,335,336,337,338,339,340,341,342,343,344,345,346,347,348,349,350,351,352,353,354,355,356,357,358,359,360,361,362,363,364,365,366,367,368,369,370,371,372,373,374,375,376,377,378,379,380,381,382,383,384,385,386,387,388,389,390,391,392,393,394,395,396,397,398,399,400,401,402,403,404,405,406,407,408,409,410,411,412,413,414,415,416,417,418,419,420,421,422,423,424,425,426,427,428,429,430,431,432,433,434,435,436,437,438,439,440,441,442,443,444,445,446,447,448,449,450,451,452,453,454,455,456,457,458,459,460,461,462,463,464,465,466,467,468,469,470,471,472,473,474,475,476,477,478,479,480,481,482,483,484,485,486,487,488,489,490,491,492,493,494,495,496,497,498,499,500,501,502,503,504,505,506,507,508,509,510,511,512,513,514,515,516,517,518,519,520,521,522,523,524,525,526,527,528,529,530,531,532,533,534,535,536,537,538,539,540,541,542,543,544,545,546,547,548,549,550,551,552,553,554,555,556,557,558,559,560,561,562,563,564,565,566,567,568,569,570,571,572,573,574,575,576,577,578,579,580,581,582,583,584,585,586,587,588,589,590,591,592,593,594,595,596,597,598,599,600,601,602,603,604,605,606,607,608,609,610,611,612,613,614,615,616,617,618,619,620,621,622,623,624,625,626,627,628,629,630,631,632,633,634,635,636,637,638,639,640,641,642,643,644,645,646,647,648,649,650,651,652,653,654,655,656,657,658,659,660,661,662,663,664,665,666,667,668,669,670,671,672,673,674,675,676,677,678,679,680,681,682,683,684,685,686,687,688,689,690,691,692,693,694,695,696,697,698,699,700,701,702,703,704,705,706,707,708,709,710,711,712,713,714,715,716,717,718,719,720,721,722,723,724,725,726,727,728,729,730,731,732],\"words_bros\":[\"boosting\",\"networks\",\"welcome\",\"h\",\"better\",\"learned\",\"cc\",\"pro\",\"money\",\"viz\",\"function\",\"going\",\"opensource\",\"logistic\",\"faster\",\"little\",\"pip\",\"looking\",\"talk\",\"poster\",\"soon\",\"french\",\"js\",\"definitely\",\"cluster\",\"c\",\"friends\",\"keep\",\"review\",\"like\",\"performance\",\"right\",\"version\",\"though\",\"take\",\"third\",\"guess\",\"label\",\"audience\",\"give\",\"library\",\"programming\",\"brain\",\"useful\",\"go\",\"finally\",\"x\",\"different\",\"watch\",\"reason\",\"work\",\"datasets\",\"final\",\"changes\",\"every\",\"images\",\"excited\",\"presented\",\"exciting\",\"memory\",\"use\",\"two\",\"haha\",\"james\",\"wrote\",\"error\",\"tried\",\"way\",\"videos\",\"text\",\"coding\",\"g\",\"forward\",\"amp\",\"case\",\"detailed\",\"article\",\"u\",\"map\",\"interactive\",\"rc\",\"lab\",\"sure\",\"tomorrow\",\"one\",\"mmds\",\"idea\",\"yes\",\"rules\",\"country\",\"loss\",\"another\",\"closing\",\"people\",\"well\",\"find\",\"made\",\"py\",\"title\",\"docs\",\"sprint\",\"implementation\",\"read\",\"machines\",\"windows\",\"paris\",\"got\",\"build\",\"cool\",\"love\",\"tweet\",\"bars\",\"log\",\"dl\",\"link\",\"july\",\"set\",\"path\",\"makes\",\"live\",\"study\",\"examples\",\"social\",\"scale\",\"easy\",\"reinforcement\",\"heard\",\"summit\",\"new\",\"early\",\"machine\",\"rt\",\"import\",\"gallery\",\"powell\",\"author\",\"first\",\"meeting\",\"classification\",\"source\",\"math\",\"<number>\",\"might\",\"translate\",\"k\",\"also\",\"need\",\"available\",\"interesting\",\"internet\",\"may\",\"real\",\"experience\",\"make\",\"words\",\"level\",\"example\",\"htt\",\"say\",\"w\",\"getting\",\"power\",\"git\",\"hear\",\"seattle\",\"write\",\"test\",\"bad\",\"questions\",\"jupiter\",\"man\",\"scientific\",\"dataviz\",\"single\",\"engineering\",\"issue\",\"summer\",\"nice\",\"ht\",\"want\",\"making\",\"yet\",\"vs\",\"world\",\"distributed\",\"analysis\",\"average\",\"introduction\",\"computing\",\"summary\",\"days\",\"architecture\",\"self\",\"api\",\"started\",\"upon\",\"amd\",\"join\",\"rejection\",\"technical\",\"today\",\"tickets\",\"space\",\"color\",\"great\",\"support\",\"vienna\",\"independence\",\"provide\",\"high\",\"int\",\"german\",\"google\",\"park\",\"forge\",\"via\",\"realize\",\"et\",\"style\",\"chat\",\"project\",\"ai\",\"history\",\"install\",\"written\",\"laptop\",\"recently\",\"paper\",\"de\",\"word\",\"congrats\",\"anything\",\"see\",\"come\",\"research\",\"help\",\"notebook\",\"users\",\"coming\",\"academia\",\"booth\",\"update\",\"software\",\"github\",\"workshop\",\"post\",\"day\",\"team\",\"actually\",\"everyone\",\"ml\",\"multi\",\"released\",\"pretty\",\"mind\",\"repo\",\"fun\",\"list\",\"features\",\"yeah\",\"long\",\"awesome\",\"slides\",\"big\",\"always\",\"eu\",\"conference\",\"proceedings\",\"course\",\"already\",\"algebra\",\"old\",\"matrix\",\"submit\",\"openscience\",\"week\",\"code\",\"look\",\"hope\",\"language\",\"must\",\"left\",\"problem\",\"seen\",\"good\",\"v\",\"science\",\"folks\",\"sorry\",\"future\",\"never\",\"blog\",\"using\",\"related\",\"us\",\"oh\",\"strangers\",\"control\",\"thanks\",\"life\",\"quite\",\"around\",\"gt\",\"book\",\"starting\",\"could\",\"b\",\"analytics\",\"think\",\"possible\",\"name\",\"really\",\"please\",\"top\",\"wow\",\"would\",\"looks\",\"unedited\",\"mostly\",\"demo\",\"try\",\"full\",\"cross\",\"data\",\"open\",\"https\",\"validation\",\"results\",\"lightning\",\"state\",\"free\",\"enjoy\",\"easier\",\"issues\",\"schedule\",\"keynote\",\"similar\",\"sustainable\",\"learn\",\"still\",\"pure\",\"talks\",\"video\",\"much\",\"community\",\"best\",\"challenge\",\"explained\",\"presidential\",\"twitter\",\"learning\",\"speak\",\"online\",\"glad\",\"time\",\"python\",\"indeed\",\"fmri\",\"job\",\"far\",\"papers\",\"back\",\"non\",\"posted\",\"call\",\"release\",\"files\",\"point\",\"neural\",\"app\",\"important\",\"maps\",\"models\",\"change\",\"run\",\"statistical\",\"probably\",\"seems\",\"documentation\",\"notebooks\",\"announce\",\"without\",\"done\",\"tutorials\",\"conda\",\"joint\",\"tell\",\"pycon\",\"les\",\"user\",\"p\",\"package\",\"projects\",\"thx\",\"years\",\"random\",\"happy\",\"approach\",\"times\",\"large\",\"ever\",\"tutorial\",\"doc\",\"books\",\"amazing\",\"maybe\",\"major\",\"needs\",\"believe\",\"regression\",\"end\",\"get\",\"check\",\"since\",\"natural\",\"used\",\"generative\",\"running\",\"working\",\"gradient\",\"next\",\"feedback\",\"anaconda\",\"question\",\"th\",\"feature\",\"url\",\"optimization\",\"l\",\"begins\",\"many\",\"thought\",\"deep\",\"thing\",\"json\",\"http\",\"methods\",\"discussion\",\"interested\",\"anyone\",\"know\",\"last\",\"program\",\"model\",\"fit\",\"fast\",\"quick\",\"stuff\",\"called\",\"r\",\"things\",\"image\",\"excellent\",\"simple\",\"dask\",\"comes\",\"someone\",\"based\",\"linear\",\"upgrade\",\"election\",\"year\",\"series\",\"impressive\",\"empirical\",\"start\",\"e\"],\"x\":[12.843829021851203,11.266281995545585,-31.807129116057,-14.829462320041221,-32.304526541253324,-16.767174168887813,-11.829332350569114,-12.961263583597374,-43.87916624342933,15.255733623399186,-1.1394074044040696,-35.05219902847465,16.44564758467991,12.878950421794418,-20.270523204655092,-36.51739803981451,15.604269127260405,-39.10320349201688,-42.284292676118454,-2.0127819299976073,-32.90236331813554,-11.459062730527005,6.055688905317026,-40.08219742776503,9.214657140627196,-16.872498910116587,-25.38158472738645,-35.34739679268771,-7.844802279278884,-38.581287277589716,-8.820549141675295,-31.718180390859008,-9.976306624508718,-32.39358103055565,-41.35183321492809,-25.97722443400711,-34.3009284593425,-2.9503793240439085,-7.9775376660427755,-41.541731821706605,0.08300068217715337,6.393385942459916,-24.348279255765505,-6.330761891761662,-36.871456430232264,-33.55992109132533,-15.41545298002656,-24.642402324332014,-39.521785112048434,-30.55440231338823,-28.609998651670992,15.865980346759285,-13.803460166259727,-20.75842488195323,-28.885390461682775,-0.5779135180201405,-30.137002813412522,-6.490356139863409,-11.476748904706556,-15.681613469435005,-31.65651764305142,-26.076114961575502,-26.163476750627616,-24.64644103814549,-6.200339003234928,-9.016250011916798,-34.09236995856459,-31.30217126041681,-8.544346720476977,-44.77727314020293,6.915713614615999,-14.962131189375388,-24.029206748077232,7.163073036561777,-12.72743329355911,1.4486132710954192,-4.568911300821082,-20.502902530795097,1.661343859446787,0.5805634417047427,7.851843606246041,2.6606348624786444,-37.08939116231656,-31.88637118323022,-28.803172474096,18.04960277068432,-15.115715520656583,-27.800854134983712,-15.86664585144223,-18.728226618852133,-15.010806268909162,-27.482227025697554,-21.565107112505473,-26.832473329929144,-34.1466993405768,-44.29918318486082,-33.03082375484745,-10.736386188285206,-17.027933539518855,3.6826589288275393,7.0727645069040355,9.277710126868508,-3.897096332205988,1.122846700921289,5.7213995333856476,-10.286145875302854,-41.547112393012085,-4.200942665673184,-37.394292249540506,-38.53200895035724,-4.617324167031139,-0.25981051423581397,6.471453490207683,-12.49908512197881,-4.1286287333782035,-26.135230407864363,-13.66685675020446,-18.86779604066538,-33.1396629811983,-20.70692206471479,1.7097933018347424,-5.14184961259741,-1.907980629722738,4.923051304237673,-18.479222467414008,11.923578463784047,-37.033795420208655,-8.324644950599062,-19.056135815641223,-29.690467540520885,2.5326732425234892,-15.246415121106295,-3.2810337064651165,-2.4328004161816335,14.268829179782914,-4.051833758837315,-27.44626875643117,-4.580979564353418,11.76340307190965,-5.634827346863563,4.362485164314429,-15.085313088594091,-38.32575993651193,-9.874307361821387,-17.360944716966852,-37.44444853238998,-42.666816248174676,-7.026095322493475,-10.805378843049322,-2.4142626210212135,-35.88895372824965,-43.017847330583116,-10.517695040341556,-44.1328949711636,-9.587565013057546,-22.299638146683368,-8.312058168617467,0.9325592743855814,-40.72625425353847,-17.16294621229654,-40.630955120776115,-15.971002439501257,15.404885625524697,-38.088471192351,1.458584196146189,-5.5895598418308525,3.0489594038014705,-32.47406057646141,-16.333678613457288,10.132438416139872,-40.28870444608418,10.821338586285991,15.684577615043148,-21.960079905989762,3.6549006760743823,-14.453693111904037,-29.610785129438174,-36.53153818560348,-13.116150137788903,-43.099064497279166,-33.048909764104515,-32.2298173651622,-13.922007960361421,-19.974855960614118,16.482892827877404,3.469020179561676,-20.371154996650926,4.124206983039533,6.798742197955271,3.297160458747321,-29.50264248946876,4.614800097258693,-23.046251664930406,0.20659508074430616,-32.036816122178614,-10.477587857794102,8.787638243814637,-16.356035036249178,4.625914731976233,3.892863826444726,-32.235093435159705,-24.13321751407094,-16.19620974898421,-12.545346969596848,-34.57194405633372,-18.04364977964443,4.243740626622301,-10.606049110552684,-4.964568569299837,-22.88354037621474,0.688230299260785,-11.418463261143515,0.6998807292457188,-20.528690739735868,11.420396232555461,-5.837362207556863,-31.433594659000843,-8.001819515942065,-10.985246015283767,-5.249274250809568,-0.19977067117102887,-20.750203603279456,-10.248084762495393,6.2022445971077484,-5.7934385795933,10.707612054711387,-14.89397309248224,0.893389494411727,-9.697311492428936,-9.275832746800244,-30.9191114231036,-41.598617075280075,-38.842715446184265,-38.3473761741991,2.6648957475578117,-43.4932593555155,10.761520816921676,0.9674943685579175,-32.8675708280521,-11.877511902142604,-2.605450430693542,-4.246741688506975,3.8029695069128646,10.206139542761205,-1.452882199989781,-5.64152629850938,-32.195048248285815,-37.40987747588127,-34.99300038353911,-38.21236706667048,-5.339515374536047,7.408156857359342,-10.016232146898654,-38.40376273023923,-25.150815661000713,11.186903159187736,-35.95339042587142,-7.316547404032294,-4.244897619247395,-27.944662173238225,-25.914429087149344,-33.20880538667658,1.3730181869521119,-35.52868288339865,-34.95820561117224,-20.20115968296834,-7.247574812630649,14.75708376313505,-25.850796815065106,-32.71798177713213,5.143493437744915,-35.08647621183276,8.386403767291995,-6.4392966398148745,17.496522099876554,-28.524300819457686,-5.402750367248523,-39.12207348479811,-36.74749352063625,-10.6548721245084,-41.97806931566976,-31.09247046713947,-25.240788821708282,-36.785301931971254,-34.31790251807788,-14.845585499144443,3.2132004683221878,-28.143256983099803,-27.558651297210996,-27.313431830954336,-35.56914805095553,-2.414668730050323,-31.285167509288723,-12.06608668882292,-39.39361810689524,-26.688391205460892,-24.609722638875695,-16.081895350327695,-32.4017349451102,-27.24439872351962,-16.384504715274478,-31.52022504786565,-12.671948184768034,-0.8949580274049014,-25.060542912730384,-44.136050874497876,-17.300176013767683,7.396003284171622,-37.493867026060954,-18.23337006082561,-36.15675668241118,-37.25116730033085,-43.47691075024882,-11.784419681725096,-26.093554003493278,-40.000336013258625,-39.88450743975928,18.304473970769333,-19.12079293803116,-2.450902611243168,-41.394116962236836,-14.70488110234902,-20.651655053837032,2.947233275461,-20.09944690429467,1.4758337304982516,10.51528336122423,-13.594479207560372,2.9909937062659897,-17.702729787181333,-7.618502249496131,-35.73310050647468,-18.25648063364499,-12.552120907480482,-23.240335303116094,-5.93924904689289,-14.171454807386601,6.562606086923261,-14.933222524676735,-35.90857151756293,-18.529602785590416,-27.986854794939198,-8.731372771753207,-39.4633865026408,-3.7881225271186656,-32.19552369292542,-17.315827150026493,-7.57644809041434,-11.525726205983448,-4.107066763283702,-13.658744802069148,-11.008847302827885,-2.5953667208994644,-36.35478538392168,-29.091668072075084,13.0959780811746,-8.803283013876653,16.684177007754112,-27.041156308125046,-30.233423202768307,0.6088650270955416,-37.28064712249205,-18.35085563662831,-14.092850808434248,-44.14657794616836,-10.029374454519125,3.865669935560409,-23.83730400943068,13.143676220167437,0.14653092511651133,-18.02875290341453,3.4236136833728885,-4.064315348437165,-20.636374256469132,-22.211305459519885,11.495687229651988,-37.50165775542299,-17.898778397420664,10.529828986824425,6.653483851364282,-10.57205095663909,-30.459258259182857,-34.54080970296361,4.774114811951375,12.81961997335976,-1.3306373889189278,-40.89927338457798,17.334219696708004,-8.212761174024637,0.958820805968815,-15.417471512282205,-5.744495060811633,0.2596642527875282,-32.82503721294178,-30.258302899065594,-21.288753167973677,-32.791541082692746,-7.888650784997339,-27.998852152954427,5.969272330966181,-33.98124310016655,4.231919883428635,4.885875772358526,-3.075383794442631,-33.45536727823017,-33.51060183475842,-14.847130106007107,-43.89201324749828,-37.964970474962534,13.978182255219748,-25.659032492229667,-41.08316233968265,-7.166898256426125,-30.468632894397427,-12.464398728055155,-32.715274052286766,15.076667653936076,-22.568891774402825,-28.451590659532872,10.646239553269506,-27.737442340457534,-3.2591134615298754,11.49655385403249,-16.484299590482095,-26.703714234025746,-4.448983303204675,1.6657731381964984,8.492095645149659,-17.701348226352845,-23.112301019137295,-26.117951353483946,-33.77301763745713,-23.594996048457848,-30.78051232867488,12.901417847035718,0.8608072746371017,8.55208810921251,-4.013675788460101,-23.212204121014963,-41.95030496490508,-37.97544456119686,-28.209547520470228,-1.034457676468402,-4.157768512873716,-12.959710950423961,-20.291622432430557,-19.074513877446144,-28.914600452068715,-35.629591509127174,-18.424830276502004,-29.734079409747515,-0.6217371403030066,-7.85409173274055,-9.954572941550735,19.8479393582211,-29.337830120787384,-42.534203775826,-10.514668942741844,11.54148012423768,-2.4265612870002076,-12.264448959953329,-29.707257647472414,-9.302534928381634,-10.017844592882248,12.208825265593832,-25.650704337135785,-20.30501926725697],\"y\":[-19.76851916169817,-20.659623120344506,6.851429680580347,19.18591311348078,-18.751660803980187,-31.897237808101913,14.692873266827196,21.283930720257178,-13.108127842030896,-6.1494822078659475,-22.076781283542886,-8.19961207685244,-5.9816832855273345,-4.171217369986003,-18.061241397197854,-2.722591252970233,-3.27391910113902,-2.326604814451576,-21.91522329513891,-6.42973677140273,-6.486424852269097,-26.580063407837418,1.9765711120548075,-24.273808213724863,-3.549624623995439,19.463637423095673,-25.637730529794236,-16.992824373279984,-7.828561293584086,-20.542468076485832,-15.013744714290961,-18.545331132161756,1.1894794423297284,-14.946544688455688,-15.492079566576304,-9.27485606109387,-15.8645309091608,-3.7069038774277856,-15.060731856464598,-16.436460005083863,-21.079574148863603,-11.987944369630682,-19.362290202030913,-19.813842363233984,-8.476414715447701,-8.963417410865441,17.603813482544084,-22.853268574411953,-14.238776519382943,-22.80400352683938,-1.6103766032329725,-11.007515934745435,8.271237535518472,-25.4567468343195,-13.148447852159514,-9.68785777410994,0.8208660923213045,-14.982769934905924,-17.4193218340752,-5.407437566739059,-29.18749241670582,-21.68059329231238,8.90903777329837,5.153761412247404,-29.516780578986687,8.367142030999783,-27.23585244967982,-17.20870271586803,4.374722944314197,-21.26472999677288,-11.863548053522218,16.818695364678238,-7.184053173956295,1.0559111677701665,-6.696386390606726,-12.625259467794379,-16.753106377690326,18.94869674562493,3.2867413143534137,-10.463839181681132,0.6264596398123878,-21.144720530170115,-15.798164589810245,-4.428110190230381,-17.980882870584324,-10.24850085791909,-21.833864412610104,6.79193082409712,-12.017968721409604,-4.993562939336404,-14.483652746329634,-10.987867589211483,-7.483547425923238,-23.589872552488476,-11.609985589722886,-23.443930404581188,-24.9733710258649,12.538686942001565,-8.692143681581161,-6.892459837517546,4.733611831133048,-12.429563760223191,-30.893331460270932,-3.7828282755474647,6.336977114724496,14.792022196523018,-10.194197652044023,-21.96084939245289,2.6877296348449056,-18.06550831892466,10.150218428186395,-3.207663915949173,9.606061277511934,14.064218400172232,4.907782623407661,-3.7490153157905706,-3.815196470891735,-13.413112837953353,-24.14816616457675,-2.2151909243285983,-21.88179350484028,-19.31098500704777,10.044880713541248,-3.3576099905332897,-16.92002030376796,-10.121331285350443,-27.756348471717466,-10.42673541493295,0.33503677000803594,-3.0927220788288436,-2.9438722517219906,11.967891029361374,-2.896778471165108,-9.896544899440983,2.386806804158846,-26.568582208529005,-7.7998702188,-12.216686735936833,-12.758446150630693,-16.776056061976163,-23.133848836217005,19.346262482636437,-25.379672836950007,-29.300383376645694,15.606053291441999,-22.039851493318718,-15.525485982174331,-2.472547411011413,-17.749360380789167,8.56383173536397,-13.317143119569081,-7.168555770371756,-19.963825613262888,-18.38726506253897,-32.03536400454283,-14.567976686338497,-20.52350959407943,16.823398754451098,-20.808146342098887,22.243729777670097,-10.088953872441014,-0.44875712346119445,-2.2454998685339245,-28.418187492882627,1.2382174159541663,-30.582275563152585,-22.982672266076747,-17.66566146821703,-27.1224922617112,-1.9684986379697793,-6.413084380961008,-17.31798383199108,-9.535094193736045,0.8968115016037119,-18.114480663084596,-10.455037931744263,-6.291016535128462,1.3067165898443998,12.681767877787474,-16.986729029613954,-24.78596506010901,-12.537088680662684,10.567345778995819,-3.600632572267363,-15.023911236036893,-15.02589007712498,-20.809307829998424,-13.171762065151377,-15.41669342791356,-13.796820758517113,-5.3265268074657435,-17.982718468215857,-20.703341617905007,4.745834586317936,-8.550047664758115,-22.76120854052838,2.331644117123784,3.6472889696414192,-27.461255650730703,-16.136804312599153,-3.9184064161433505,-1.3214592084807568,-2.413925561906413,3.6285665405295706,0.9141094578586451,3.7291032332054885,-0.3624262981896462,-10.92496552082813,-21.482591432221817,-15.424401912068001,1.3851260136807433,-26.44996227052588,6.741833628287112,-10.583281998192868,2.2819141919113313,5.615558640388958,-21.95395847297288,16.75453827934181,0.20353679208079214,8.59128419419302,-16.078641541020545,13.159554667201565,-8.909325958030434,8.092472275231742,-29.04671657222819,6.358442394055537,-17.875753074185763,-25.338784268647824,18.2537379792165,-32.78701173970796,8.157915583853429,-24.276970283801813,-15.160897358741586,-9.06123021059553,-19.667955958636753,-3.7244436535237537,6.061380693100665,10.532952795814287,-6.731679756863585,21.935499954029943,-11.49426835990048,2.8041328036597597,8.08298199179537,-7.367606251989371,-13.7474658908042,2.7495310338540877,-2.451465439489101,-5.575636744341483,-25.786360622138712,-12.41567685706915,14.228174055923422,-2.138743021061518,-3.317251896264085,-0.16145232150963235,-18.891343346875786,-4.663887288560837,3.797226330527812,-4.327751598239976,-8.082379634090252,6.332199100512844,-11.718267562277612,4.585592933433267,-6.607379080408892,-2.1821057696372064,-19.90300291787971,14.717641855381673,-10.665140885367531,-15.392809268984985,-14.230519406254299,-9.831398095388987,-23.307057807912948,-4.680610425176762,-1.4530757136132892,-6.154865674721384,-8.614569432630791,-6.126510655007718,-1.206111557289716,-1.3740338584827854,-12.578821614930579,-29.910014167721574,-19.065016355741577,-11.091430116966436,-16.425202972219676,-26.778933252938195,1.1451101665080596,16.010469940308163,-20.57892642739953,-24.912152861773524,8.823171308556644,-17.441299235446944,-21.494946537301924,6.220931770786503,-29.482682481926165,-21.17593669276665,-16.689785124003826,7.495525168710569,-26.315200069533947,-0.18319020069549796,7.841364870314108,-18.64161174083173,-21.161310941806367,-14.55974342988383,17.03423302448707,-27.864205360885443,-6.380974349449039,-27.19968257471469,19.61042130709878,-14.888777855451519,-21.25010674830756,-24.55906721880453,-30.348974384998655,-21.193162680777725,-2.988609887958245,-0.34025169472007205,6.478539522514823,-23.701921459853754,-0.9522274898277632,-12.39832734717267,-21.403048644650216,2.306717227024433,-14.016219380709323,0.13558344425969038,-12.502568312671931,8.544845363247907,-8.025988184035104,15.762144066999436,-13.31832189763979,-14.196272425615877,2.1488664101621824,-5.665227103369575,-0.8700649047557799,4.376868346611006,-18.230352059460483,-9.244073904223965,-4.6188397008111375,-10.228945772226059,-21.065259541886004,-18.3313220323802,-31.463463696151454,-18.457927799189182,8.560777813109333,-28.237774125550427,4.000929282132277,-21.54131266635976,-13.50962332986185,2.9086283529504917,-11.782494060573434,-23.41368742762515,-9.45686803761746,9.4587445397184,-31.639537106166046,-31.08275865296387,7.375756776215638,-11.106787810840853,-11.790607028368937,-6.919927072887889,-19.137751919607954,-11.076478394025052,-0.09145604953062478,-14.907116984813472,-25.503331795692432,-6.865056823015985,9.832093991232071,-17.14107846372365,-20.964336558415287,-3.5825899752686206,-9.000649208588598,-13.877621086073198,-12.297194690953692,7.448966266002587,-25.00574309457044,6.891709976331137,-5.564998990950103,-25.513007808965487,-11.86911195233031,-15.620557814589482,-24.422831527054793,-21.0498333196364,-12.281393219471388,-6.534537309202319,-4.692982427753722,-24.23633706469136,-10.447071305932578,-10.276591513452997,-0.4871121318748676,-3.4096055867237767,-19.08562763306544,-5.619590878342159,17.228895289829946,11.215725541223305,20.148801635935847,-3.0749281242854503,-16.866947892975222,8.242425871685658,-9.899473588889064,4.914311975307239,-1.438256351721356,-21.414017532597217,-15.247374793855897,-2.861695998099602,-22.415908437805875,-10.139373652241428,-6.74192363036775,-28.47479811054733,2.503350267878488,-15.22290053359389,-9.421992066485673,-15.288120661348822,-14.672494384539851,-11.652008448194827,-11.264275689085332,-11.20441443898052,-0.8645116402814315,-9.34980538442635,4.309137666178888,-28.57121527414859,-10.095772054487483,-11.55375230341629,-1.5050217284198348,-10.070850722952223,-8.336296364361433,-18.19402401897834,-0.5109318235318346,-26.964664914076767,-4.420114486384447,-7.976389466630406,12.572029272018344,-14.664238540160321,21.47444465904738,-8.893951176111473,-22.66574525798157,-20.415965073748282,-17.89171223438458,-20.062178745675368,-10.05861642812848,16.22489544809691,-16.724433215738188,-15.598264757042678,-29.75755213258777,-24.20400128847838,-19.988168360388414,-8.878317921472167,-14.654332758678576,-4.845689930933864,-3.4854075647738663,-17.031800714182015,-16.448800473055734,-21.524562988955356,-29.236725974998162,19.62675542361088,-21.184923201453056,-7.3435119256202785,-17.63217806156663,7.391387645377753,-8.603594916025992,-18.8118754046826,-24.294109516332455,-21.16137846733981,-9.09681348650568,-0.8629610348624388,-16.404869172010024,-7.426474273222858,-7.21420059452068,-16.740190521783166,-16.621882758053886,-6.55990277359547,18.500195649993028]}},\"id\":\"99d131f3-5083-4682-93a0-d6be919c8bbd\",\"type\":\"ColumnDataSource\"},{\"attributes\":{\"formatter\":{\"id\":\"11a28fdc-99d7-4de8-aa7e-99dffbb5729b\",\"type\":\"BasicTickFormatter\"},\"plot\":{\"id\":\"578126db-1ee3-448a-aa27-89c45ceb90e3\",\"subtype\":\"Figure\",\"type\":\"Plot\"},\"ticker\":{\"id\":\"daa12751-5437-422a-b08d-48a4478a04e7\",\"type\":\"BasicTicker\"}},\"id\":\"d9b4f37b-2cfa-46cc-a32d-1a16fb2f1609\",\"type\":\"LinearAxis\"},{\"attributes\":{\"plot\":{\"id\":\"578126db-1ee3-448a-aa27-89c45ceb90e3\",\"subtype\":\"Figure\",\"type\":\"Plot\"}},\"id\":\"ee21bb5b-2dc7-48b1-893a-4c62b9f6799d\",\"type\":\"SaveTool\"},{\"attributes\":{\"fill_alpha\":{\"value\":0.1},\"fill_color\":{\"value\":\"#1f77b4\"},\"line_alpha\":{\"value\":0.1},\"line_color\":{\"value\":\"#1f77b4\"},\"size\":{\"units\":\"screen\",\"value\":10},\"x\":{\"field\":\"x\"},\"y\":{\"field\":\"y\"}},\"id\":\"81f115be-084f-40c2-a8c4-22b8d8f3c049\",\"type\":\"Circle\"},{\"attributes\":{\"active_drag\":\"auto\",\"active_scroll\":\"auto\",\"active_tap\":\"auto\",\"tools\":[{\"id\":\"c58b16e5-b938-49b2-85df-ca2c5b93be30\",\"type\":\"HoverTool\"},{\"id\":\"3d4fe266-4dfd-4c5a-af1c-c31e34aa3cb4\",\"type\":\"PanTool\"},{\"id\":\"1e1d410d-28ff-421f-ba52-30db08810fd2\",\"type\":\"WheelZoomTool\"},{\"id\":\"68f0a409-1dc7-4f8b-ab21-929c62797edc\",\"type\":\"BoxZoomTool\"},{\"id\":\"aa61512e-06d9-44a8-bb06-910ccf227bf7\",\"type\":\"ResetTool\"},{\"id\":\"ee21bb5b-2dc7-48b1-893a-4c62b9f6799d\",\"type\":\"SaveTool\"}]},\"id\":\"2116f20e-1da6-4303-844e-3cd1193e3510\",\"type\":\"Toolbar\"},{\"attributes\":{\"callback\":null,\"plot\":{\"id\":\"578126db-1ee3-448a-aa27-89c45ceb90e3\",\"subtype\":\"Figure\",\"type\":\"Plot\"},\"tooltips\":[[\"words_bros\",\"@words_bros\"],[\"words_sis\",\"@words_sis\"]]},\"id\":\"c58b16e5-b938-49b2-85df-ca2c5b93be30\",\"type\":\"HoverTool\"},{\"attributes\":{\"below\":[{\"id\":\"79371b5b-b397-46d6-a2ab-b9f96f4bdf31\",\"type\":\"LinearAxis\"}],\"left\":[{\"id\":\"d9b4f37b-2cfa-46cc-a32d-1a16fb2f1609\",\"type\":\"LinearAxis\"}],\"renderers\":[{\"id\":\"79371b5b-b397-46d6-a2ab-b9f96f4bdf31\",\"type\":\"LinearAxis\"},{\"id\":\"b28c7c0c-127b-4f43-b85f-335415e054f2\",\"type\":\"Grid\"},{\"id\":\"d9b4f37b-2cfa-46cc-a32d-1a16fb2f1609\",\"type\":\"LinearAxis\"},{\"id\":\"29b90ed8-3476-4653-9684-5d7549b93be7\",\"type\":\"Grid\"},{\"id\":\"0fb49cf3-3795-462a-98cb-373c385add0a\",\"type\":\"BoxAnnotation\"},{\"id\":\"0dd88da8-9a4b-46c5-b977-a3981705cf9f\",\"type\":\"GlyphRenderer\"},{\"id\":\"aadcb497-e62c-4802-ac8b-5e85990f07e4\",\"type\":\"GlyphRenderer\"}],\"title\":{\"id\":\"89b49b27-0c3a-47e3-8db9-255107dcca89\",\"type\":\"Title\"},\"tool_events\":{\"id\":\"6f6e15c8-3400-45f2-b189-9b05bfadba2d\",\"type\":\"ToolEvents\"},\"toolbar\":{\"id\":\"2116f20e-1da6-4303-844e-3cd1193e3510\",\"type\":\"Toolbar\"},\"x_range\":{\"id\":\"b2e8649a-d6ce-4d87-bf1f-174d8f42883f\",\"type\":\"DataRange1d\"},\"y_range\":{\"id\":\"ce4cf2cc-8aa8-41c1-8896-fdc9f19a3a9b\",\"type\":\"DataRange1d\"}},\"id\":\"578126db-1ee3-448a-aa27-89c45ceb90e3\",\"subtype\":\"Figure\",\"type\":\"Plot\"},{\"attributes\":{\"callback\":null,\"column_names\":[\"x\",\"y\",\"words_sis\",\"range_words\"],\"data\":{\"range_words\":[1,2,3,4,5,6,7,8,9,10,11,12,13,14,15,16,17,18,19,20,21,22,23,24,25,26,27,28,29,30,31,32,33,34,35,36,37,38,39,40,41,42,43,44,45,46,47,48,49,50,51,52,53,54,55,56,57,58,59,60,61,62,63,64,65,66,67,68,69,70,71,72,73,74,75,76,77,78,79,80,81,82,83,84,85,86,87,88,89,90,91,92,93,94,95,96,97,98,99,100,101,102,103,104,105,106,107,108,109,110,111,112,113,114,115,116,117,118,119,120,121,122,123,124,125,126,127,128,129,130,131,132,133,134,135,136,137,138,139,140,141,142,143,144,145,146,147,148,149,150,151,152,153,154,155,156,157,158,159,160,161,162,163,164,165,166,167,168,169,170,171,172,173,174,175,176,177,178,179,180,181,182,183,184,185,186,187,188,189,190,191,192,193,194,195,196,197,198,199,200,201,202,203,204,205,206,207,208,209,210,211,212,213,214,215,216,217,218,219,220,221,222,223,224,225,226,227,228,229,230,231,232,233,234,235,236,237,238,239,240,241,242,243,244,245,246,247,248,249,250,251,252,253,254,255,256,257,258,259,260,261,262,263,264,265,266,267,268,269,270,271,272,273,274,275,276,277,278,279,280,281,282,283,284,285,286,287,288,289,290,291,292,293,294,295,296,297,298,299,300,301,302,303,304,305,306,307,308,309,310,311,312,313,314,315,316,317,318,319,320,321,322,323,324,325,326,327,328,329,330,331,332,333,334,335,336,337,338,339,340,341,342,343,344,345,346,347,348,349,350,351,352,353,354,355,356,357,358,359,360,361,362,363,364,365,366,367,368,369,370,371,372,373,374,375,376,377,378,379,380,381,382,383,384,385,386,387,388,389,390,391,392,393,394,395,396,397,398,399,400,401,402,403,404,405,406,407,408,409,410,411,412,413,414,415,416,417,418,419,420,421,422,423,424,425,426,427,428,429,430,431,432,433,434,435,436,437,438,439,440,441,442,443,444,445,446,447,448,449,450,451,452,453,454,455,456,457,458,459,460,461,462,463,464,465,466,467,468,469,470,471,472,473,474,475,476,477,478,479,480,481,482,483,484,485,486,487,488,489,490,491,492,493,494,495],\"words_sis\":[\"welcome\",\"sure\",\"better\",\"learned\",\"amp\",\"kind\",\"guess\",\"see\",\"meetup\",\"deploys\",\"line\",\"starts\",\"dance\",\"going\",\"last\",\"bad\",\"little\",\"away\",\"looking\",\"soon\",\"js\",\"part\",\"guidelines\",\"definitely\",\"giving\",\"c\",\"keep\",\"remember\",\"review\",\"published\",\"right\",\"dude\",\"though\",\"junior\",\"space\",\"programming\",\"takes\",\"slack\",\"name\",\"give\",\"sweet\",\"fine\",\"saying\",\"past\",\"go\",\"details\",\"hello\",\"watch\",\"week\",\"work\",\"engineer\",\"isc\",\"every\",\"excited\",\"exciting\",\"congratulations\",\"telling\",\"use\",\"two\",\"haha\",\"wrote\",\"public\",\"tried\",\"way\",\"stories\",\"g\",\"favorite\",\"lovely\",\"forward\",\"tfw\",\"challenges\",\"case\",\"honestly\",\"u\",\"random\",\"maybe\",\"skills\",\"hair\",\"tomorrow\",\"happy\",\"one\",\"god\",\"idea\",\"qgis\",\"lines\",\"diversity\",\"another\",\"dev\",\"people\",\"well\",\"find\",\"conference\",\"tonight\",\"ago\",\"education\",\"made\",\"message\",\"stack\",\"morning\",\"system\",\"holy\",\"students\",\"following\",\"read\",\"movie\",\"totally\",\"home\",\"want\",\"lady\",\"cool\",\"love\",\"open\",\"sf\",\"pm\",\"workshop\",\"mysql\",\"victims\",\"set\",\"less\",\"makes\",\"touch\",\"proud\",\"figure\",\"strange\",\"live\",\"commitment\",\"social\",\"product\",\"scale\",\"event\",\"easy\",\"thank\",\"heard\",\"building\",\"new\",\"psf\",\"room\",\"machine\",\"code\",\"months\",\"ff\",\"meeting\",\"using\",\"lol\",\"switch\",\"<number>\",\"might\",\"missed\",\"finish\",\"still\",\"storytelling\",\"need\",\"bring\",\"openaccess\",\"next\",\"internet\",\"may\",\"real\",\"involved\",\"experience\",\"toronto\",\"party\",\"make\",\"weeks\",\"position\",\"myth\",\"htt\",\"say\",\"ppl\",\"hard\",\"mean\",\"getting\",\"wake\",\"role\",\"seattle\",\"million\",\"write\",\"outreach\",\"talk\",\"guy\",\"birthday\",\"tech\",\"become\",\"thinking\",\"interested\",\"canada\",\"nice\",\"note\",\"saw\",\"together\",\"perf\",\"yet\",\"world\",\"yesterday\",\"friends\",\"cs\",\"front\",\"watching\",\"super\",\"days\",\"training\",\"war\",\"key\",\"went\",\"met\",\"old\",\"family\",\"join\",\"technical\",\"today\",\"debugging\",\"group\",\"great\",\"support\",\"auction\",\"night\",\"best\",\"friend\",\"high\",\"song\",\"google\",\"via\",\"please\",\"sea\",\"personal\",\"enough\",\"visit\",\"history\",\"feet\",\"overwhelming\",\"pay\",\"took\",\"_\",\"congrats\",\"fuck\",\"learning\",\"names\",\"come\",\"advice\",\"research\",\"help\",\"instant\",\"goes\",\"booth\",\"lost\",\"software\",\"speaking\",\"minutes\",\"post\",\"day\",\"team\",\"lt\",\"man\",\"everyone\",\"first\",\"speakers\",\"pretty\",\"tools\",\"game\",\"ready\",\"fun\",\"list\",\"women\",\"yeah\",\"long\",\"weekend\",\"awesome\",\"slides\",\"board\",\"big\",\"always\",\"understand\",\"power\",\"course\",\"updated\",\"p\",\"posts\",\"submit\",\"lot\",\"works\",\"perfect\",\"things\",\"lose\",\"plugin\",\"look\",\"hope\",\"info\",\"waiting\",\"monday\",\"time\",\"lightning\",\"problem\",\"conf\",\"uk\",\"good\",\"science\",\"folks\",\"dear\",\"sorry\",\"future\",\"often\",\"years\",\"blog\",\"peer\",\"end\",\"systems\",\"us\",\"oh\",\"put\",\"kate\",\"miss\",\"chair\",\"thanks\",\"life\",\"based\",\"search\",\"around\",\"think\",\"book\",\"instead\",\"could\",\"b\",\"computers\",\"guys\",\"really\",\"wow\",\"would\",\"show\",\"feel\",\"due\",\"teaching\",\"try\",\"full\",\"data\",\"email\",\"https\",\"omg\",\"sends\",\"happen\",\"diverse\",\"mail\",\"state\",\"free\",\"etc\",\"yup\",\"even\",\"shout\",\"teach\",\"keynote\",\"explaining\",\"meet\",\"learn\",\"talks\",\"video\",\"wish\",\"also\",\"much\",\"community\",\"side\",\"form\",\"changed\",\"runs\",\"helped\",\"directors\",\"something\",\"wonderful\",\"month\",\"hours\",\"baby\",\"hand\",\"glad\",\"someone\",\"computing\",\"left\",\"python\",\"interesting\",\"woman\",\"decline\",\"mention\",\"looks\",\"place\",\"job\",\"far\",\"head\",\"back\",\"plan\",\"call\",\"company\",\"files\",\"point\",\"app\",\"important\",\"started\",\"nearly\",\"change\",\"run\",\"bed\",\"wait\",\"valley\",\"portland\",\"linux\",\"conferences\",\"goals\",\"hate\",\"announce\",\"without\",\"done\",\"driver\",\"rt\",\"true\",\"like\",\"heading\",\"pycon\",\"crypto\",\"proposals\",\"user\",\"lunch\",\"yes\",\"projects\",\"hail\",\"never\",\"behind\",\"command\",\"dc\",\"article\",\"leave\",\"wrong\",\"different\",\"silly\",\"ever\",\"nginx\",\"hey\",\"wants\",\"beautiful\",\"source\",\"application\",\"intro\",\"amazing\",\"needs\",\"get\",\"check\",\"since\",\"loved\",\"okay\",\"used\",\"running\",\"design\",\"working\",\"send\",\"stay\",\"words\",\"probably\",\"take\",\"url\",\"many\",\"thought\",\"thing\",\"got\",\"web\",\"hour\",\"access\",\"journal\",\"anyone\",\"whole\",\"lots\",\"know\",\"tho\",\"apparently\",\"program\",\"stop\",\"w\",\"taking\",\"reading\",\"stuff\",\"piece\",\"computer\",\"spent\",\"f\",\"tell\",\"beginners\",\"tutorial\",\"material\",\"trying\",\"numba\",\"year\",\"th\",\"enjoyed\",\"start\",\"red\",\"police\",\"late\",\"ploop\",\"award\",\"e\",\"heart\"],\"x\":[-35.07450459863954,-34.57160970131999,-30.774784899468504,-2.797117954927862,-1.5923011173179331,-38.49505339143199,-35.25120214764634,-30.386847728107867,5.696847642205312,17.402201450722377,-7.657458154249752,-15.89138073659988,-15.589993010354291,-28.734146876360217,-20.488282204826692,-36.74516567148196,-21.257020976973013,-24.006349432270987,-23.213001362336655,-24.164044221483874,-2.944260035411793,-9.545028395908899,8.55477258000569,-40.79621525677069,-24.98436928637515,-4.464990184650164,-38.1044873004296,-35.07961948216183,3.373061643544505,4.865488450348902,-33.79452066790494,-39.68630645674561,-32.76918179473407,-7.598918777918504,-3.8754705303887182,12.612637166787682,-20.165432583746057,-5.4281673864133735,-29.660462282249647,-27.455602751275045,-30.955625038550743,-36.76846039669461,-37.28728049296689,-18.70766470906879,-28.018567671319083,0.9931964545618275,-35.76836922335025,-20.156509371568344,-18.17305914549765,-21.651252500304068,10.703877825438932,19.873281906638027,-22.650777721681198,-25.58526258037234,-13.106505747088887,-31.804889773119307,-36.93949856691035,-19.480696698841335,-20.31957393406416,-39.23528755558017,-8.269581701040147,-0.32677855446245885,-25.690088738362615,-30.251659951167163,-4.5230467634268745,-3.5423749776096827,-23.414205987089208,-31.21378764694038,-9.826330318862315,1.923954023741866,7.156002258396722,1.221378927843441,-42.109652235094615,-3.02585574097092,-11.957796904538416,-35.405302731919505,0.7051164725403472,-24.283653195650807,-18.42318262399222,-33.34533800319167,-24.015933954742312,-33.96354079986701,-11.942083145834683,16.009960361766304,-7.874939362738084,9.741698477695037,-22.443819981746863,9.171062225367896,-32.3344463269211,-33.39287911211378,-35.46021996544886,2.495141364833305,-18.462007533438058,-19.002675130936034,1.4540497599411153,-33.71977844574895,8.824595255146402,-3.558252229152477,-20.512741026368115,8.281659292419292,-35.1995078514381,2.043748522362692,-13.073016048689318,-7.105440363772072,-20.741300610296392,-39.34411335907911,-24.801118290157756,-42.90607009725973,-15.460767103457796,-26.67964362544134,-31.65112526212632,-11.599538284830327,-4.1132754408676275,-15.050014812030183,5.9580864553101085,15.43915958671363,-11.450175569586875,-8.186744558163161,-29.204048294015678,-32.430035179058635,-12.068223906281188,-34.26670110535939,-9.22537608528159,-14.73040990611616,-13.450726054216684,6.414256296015392,4.942427582467532,4.477758881395168,-8.41305799713111,4.110205158534304,-14.325299653233728,-34.89215088009221,-35.7329438912189,1.3045009102531264,-1.6992102959832476,17.056182073703226,-24.669068662468433,-4.725552848961037,1.8515080359639091,-18.625002997215905,-7.195954726073399,2.3264921923736557,-19.146314856508205,-39.14102776380847,-1.9952695854072913,-3.9500971373514635,-42.27027762322786,-28.18981670998605,-9.613221922377141,-38.53153613279144,10.764795996335694,-28.308728253010518,-27.298785745813927,15.737265429322202,-21.830625554292933,11.589138784072533,-34.62585056855666,-34.346024705720296,-12.044497574466897,-4.0612586216461715,-7.211146602051321,-17.398227798227115,-31.411812315876254,-18.190008195344518,-6.546675710208782,11.951486468937144,16.24617526249592,-38.410193573833034,-32.754079650862494,-29.35401792184821,-38.9941319711801,-30.423423937460452,-27.36162987446388,-11.424703146745488,-6.4444065920020535,-17.717821910171573,-7.493208098230033,8.949565314294002,-40.66528803755745,-39.583346612295486,-33.36294554361084,7.782291067668174,-28.61087403352543,-35.205038282082555,-11.202073622480421,-8.007939632039196,-27.638625422758164,1.1944829180740717,-33.321917232131526,-28.141674936955255,-25.985700456455074,-36.060354241146825,-25.34168812731041,-20.85486653968478,-45.18930204305136,-3.8103510520120176,-16.274597316780543,-20.18580412582504,-8.793359612803979,-18.90193087380568,6.968018574080807,-12.834364609294333,-5.911694414847067,-21.17097742107464,-21.802201777065743,-24.133944508567645,-45.4366143766947,-0.9027795451469262,10.944797623122367,-19.478657433944385,15.044038014709002,1.0639595684004637,-27.98255293772967,-11.820810659118806,2.916906106458196,-19.387619795674887,-24.93667048358889,-45.19321537096335,-15.49025910349564,-17.087740237493655,10.858017769862679,7.526547059413246,-13.887060560158178,-10.662019517074302,6.06891619698412,-28.620097845673584,0.11647305971708732,-1.894410978146484,-14.946772923031972,7.194144337331949,-26.56705675308568,-21.153473041044666,-6.78165068355483,-35.50271769454298,-41.146496315163326,-0.6441748516120946,-29.61515512204183,-28.5624479708091,-5.108205836628683,0.5908407139790487,-13.607998943222379,2.967872137885972,-20.06127715569878,4.602448388511183,-21.760672147894823,11.030917161167295,-3.1453997858491665,-14.28170882375236,6.572743094074804,-20.64019527730162,-18.381907654619685,-3.406273618062028,-40.88983052179564,-30.679691996891776,-20.470393113029935,0.10855080944976646,-25.216822348598544,11.893154452092771,-13.69487754218172,-24.492294121853618,-27.468284386573313,2.6984657885510948,-24.113369499428902,-37.62402515232393,-11.732871689725508,-18.62662322165129,-27.961750747580197,-1.21334595745656,-0.35480995537620763,-20.560117032397372,-40.464877024525045,-30.25528386247076,-5.142128319209579,-8.201907405477202,5.382907435864834,-3.104616867277314,3.7118002297584742,4.262022734267317,-30.247941575413638,-22.863376927962,-27.73473269199097,-32.02925300373605,-21.876628981808985,13.533171193842104,-23.92666757375919,-31.128257913326657,7.265549840711788,-25.736171166097296,-17.65673808916509,-22.029088723099775,-5.603427103566237,-35.64659925276645,5.301773824708037,-8.619431401457922,-28.318885139575023,0.5529706729282086,-32.88838503517856,-36.69362410910387,-39.720813938369545,-24.258515307678618,-28.65518776476651,-18.143777863323407,8.925695939324854,9.311430891461725,-11.125356574892246,10.341167838847722,-27.643803844294148,-37.74307158538476,-29.547404716197164,-17.261230305160545,-32.81647506274565,-2.085177284892504,-34.928399043520976,-25.22937055799292,-3.7172293019061735,7.526637628528027,-18.34733807831565,-37.114920427436715,-6.574693600998081,-25.804213268035454,-39.244675612035444,-2.2767245756617083,14.289654695894253,-32.76074448388965,-37.22729119672075,-36.51997338391898,-40.517896200996866,-12.930121865629081,-37.275173035752886,-14.30096855699976,-1.03475875648137,-27.637414049075673,-7.940292557840255,10.947357230627876,8.829084058877537,16.12318631773643,-37.157463935797466,-17.762141579853363,-33.161543819268445,11.027789752990627,8.790079710625447,-1.9430703920458963,1.6949364846556554,-1.8714056428872496,-37.87419207270545,-43.447853161608364,-13.71323314427417,-1.9317833582110018,6.1172698689259,-7.603876691531807,-18.92720781380523,-2.427210287305153,-19.727068016690804,3.80165488260134,-31.59544838661955,-39.156725708079904,-31.327658811573944,2.419768965497293,-15.262551928487458,-7.6139325545073975,-17.19773482170563,-19.16526302834472,-24.415825577216417,4.817242512707751,-34.618609785021526,-30.500900856304412,-16.543360309400583,-14.02835491028556,-32.045610016343254,-13.166831209916625,-30.094573412825174,-36.15614023923996,9.286108390110869,-22.7453940738266,13.702646912691627,-13.65346896190723,-24.039019355215967,10.766545082480635,-10.017541102853357,-23.916206789232593,-10.338767992316702,-5.062506504828107,-30.025153658535796,-14.478468759255852,-27.078443950841066,-11.684679595176028,-43.55603763501795,1.0889274300191767,8.810862932360537,-10.368404955923799,10.526567588202985,-15.074756919049056,-20.21778503719251,-18.354893459792002,-16.05611703730356,-19.12021907531435,-25.958023847967922,-25.337211208351537,-5.360668994075314,-5.512738523236317,14.319468142601476,5.911924073508731,-12.16265898056605,-43.09578185656803,-0.47864298697509855,-26.122132798619763,-32.438831353916214,-16.202618176407928,-7.708176541451019,-34.42171927431332,-38.4471991357592,-9.577748090533246,16.730919081766494,14.694896034783294,8.274707193720912,11.425761218438222,-22.27051509924175,-37.075515023124154,1.6629966250630501,-5.005154201267073,-42.31652387460887,-17.23345492003781,-4.32921111442681,-4.680455438743974,3.990915680058044,-25.326560173272675,-34.2531974503053,-29.21067970828484,-23.52957717077166,-42.87143665977339,16.636944351265416,-36.037730696255494,-21.499047351025897,-29.478721960834775,2.5807186140351077,10.13621097153973,-0.7256684827213455,-29.07701669184961,-21.62113506593645,-30.539352853661686,1.0183749271674762,-19.164140484452798,-29.60348720270945,-39.29592783694714,-20.262260131802805,-18.994386825709896,6.070413211696181,-24.434697893422722,8.616363637649696,-37.68575750982558,-26.092384485259785,-39.68459799388785,-27.755742284342332,12.537404041063544,-29.992406371814575,-34.439971639841445,-32.637581721014534,-31.191791081544512,9.737166954662868,-15.012171140065554,7.660898161542197,4.483691142941458,-35.455007769580504,-22.269505226999627,-28.11104612277493,-37.898562680296365,-32.102322118739714,-37.712130763381516,6.688033719463567,-39.8345539460813,-4.67345440205678,-24.790669953950133,-6.071527099682514,-30.74303492395092,-7.2663625987356175,14.331550733884688,-18.38099569745481,-3.733201437169016,-39.029466569998924,11.614222466407174,13.786348643310667,3.6005739952851323,-25.677485799564977,-1.3104560457228347,-21.118832102938676,-15.471813918417743,-28.864062784669827,-14.54670581611496,-14.581121779975884,-1.7080727894088779,-21.631897858373655,17.199919069697273,-31.387638008373436,-1.7331196846153332,-35.78506976842911],\"y\":[5.570685510443007,-10.319575630478491,-15.374139409829713,-27.689171771104164,-7.059663509630867,-23.823018763516792,-11.883649365689637,-7.8444624544833665,-14.773677877159093,-12.170516000525831,-4.273525855986348,-9.518534149295789,7.326166345046431,-9.634571621085323,-3.8643393564897655,-17.63877894838152,5.778715014643669,-14.198984445573021,6.015654138179368,-1.899107209282112,5.760846836235974,-11.743800962908988,-19.524726126203117,-20.437567583818055,-17.12498435365708,13.640510251162594,-9.56550058002829,-13.928519132639984,-7.517799885053633,-4.643558567727544,-16.644067030747657,-6.056323049391656,-20.33741320293955,8.801399631659692,-6.067101247959114,-10.811289836366822,-20.657386779569293,-10.556523987205418,-32.50172483909329,-13.613991797468106,5.427810692062804,-5.106427993855904,-18.544468969093444,-13.314675359133991,-8.482230648823124,-2.8778703006179165,4.5133434423034915,9.876872743964517,-3.0079716950484294,-19.30746735454274,-7.786934006660463,-13.152664463176679,-9.493279262324098,-0.9750266674179232,-28.482988623191186,13.067056457527686,-19.018561501718384,-27.677803414306826,-8.84706884690791,0.06965099050933302,-23.273469794427204,-15.172967431411198,-21.833959053772762,-18.011512860067995,-20.84156709341818,12.814602294536027,11.274646612560039,7.8965234608835715,-0.7356076577534921,11.542072877769893,-20.895440824271372,5.150509349028272,-17.097584466801383,15.459751178589718,2.4801749477666903,-10.69802702250171,-24.718487626865375,4.559116373966251,0.1937636870025494,9.872431665783964,-8.532649029655742,-2.3324299831812776,-7.32063744596823,-14.900775667513326,-4.1112065948056085,-16.94286628406404,-8.554336487688612,-11.491379927308133,-25.55076614154813,-7.600761547045275,-24.952216477251863,-16.842069748572655,1.582694529499753,-7.707302077916134,-21.81602473211961,-14.306563176648723,6.873493510345034,-9.960066857467888,2.058822753860897,-5.021298521513814,-0.5171889417584009,-22.119933062383303,17.652414022497386,-22.672997094996788,11.059662728075281,-21.982189392203697,-5.445766817679605,-12.592591664052518,10.079287920586461,5.886662498887283,2.2640482782700664,-2.389248528597386,1.8073888535402332,0.5319742685656259,-12.968801966766357,-10.101922256016401,-23.64676026897228,-7.844621898272606,-20.382311413027494,-15.630420198303003,-16.18899713864151,13.32658934510538,-17.03308167584284,-28.570660095766602,5.6031762451847555,-22.472926880771013,4.8862493140095635,-9.040850837365994,-16.652826648379673,-13.025579873279412,-21.327628255350408,7.2370512867667625,-14.096698599570276,-17.022244691873585,0.43339759578629616,-13.496959829352086,-6.2584599211691065,-7.864945463846086,1.215259043698613,-3.7546169018659166,14.64130601028591,-13.70634097796717,-27.84250162218783,-3.9277824991693646,-8.393501985004633,16.37676050745964,-20.547813985079014,-2.048714015073486,-8.643419921182149,-16.160225770152056,-14.282556662829316,-16.053311572570205,-12.050696227634436,-16.023345346237242,-4.180529639946424,-0.0895656578404373,-8.361010952928766,-5.064138656354455,-24.342747241457992,-16.535372068238836,4.166884838920507,2.749904220757109,-13.814903248582315,-3.92104400294014,-14.019870297862402,-17.46145263580066,1.6552151451627517,-13.026748503502759,-26.844850761031765,-17.44659158749607,-13.315816348524134,-10.22320567765081,-4.7645805774463765,6.530127763562057,3.573270951907482,-11.454032122523003,-23.040645398423052,-16.728855744251767,-14.222903365711844,-6.404099439370866,9.859354066789104,-9.687416745197796,-28.015043751212904,-21.513638843293666,-26.58222831661751,4.022519314672176,5.7628587619173555,5.063806079045613,-12.70321386082428,-16.464818640338716,13.529063884246792,-24.655113079563286,-9.799539864811734,-7.3012436451624145,-4.624716618844483,7.170800297219546,-15.171624549669966,9.877022757998345,9.525968161826738,-3.884489182591718,-12.917465276121302,-12.941699747086515,-6.414378738926792,-12.224180667144646,15.2819491191411,1.9066532702448171,-2.8414241813644314,-1.8506384064785089,-9.422447357363797,-0.14056909805219117,-11.811589848079487,-13.469956314324095,8.574203534449726,12.159862727124716,-10.5910588174714,1.922937165658269,10.25726737924998,-8.102418907049763,-12.749015800037101,7.9702209830726565,0.39240042733336156,1.3067818126543203,14.55089100267404,-5.732086555349865,5.566015892290768,-21.56570333748774,-1.6257265269451298,-20.687034365341592,-16.73042952638473,-23.786099104379538,-14.202847008452926,-13.24349794371843,18.08453207134714,16.126619568802013,-7.815961015500442,-24.8462664540391,-32.50126788224156,-7.332494813894735,-26.492326583779462,-19.788915494847526,14.005181685304434,8.313136987462203,-19.623288849198822,-12.037153729518382,-15.064070891038243,-6.10918688099239,-23.946931666913784,-6.882529817391574,-0.9334872104250407,0.5176996494382894,13.007466496799605,6.298519605775662,-5.5335972364526755,-5.094699552379084,-4.97693527031603,-8.360011440530526,6.6136070202845545,-7.500842049393822,-1.723666965500232,-3.099048154234282,7.125705075916575,-1.9549963723855384,-29.558425643205197,-2.1082503800310657,-10.590072973266802,-1.7649130602063612,9.070966935149167,-10.207069531574922,-12.238545704609542,6.330198860338847,-16.265277042411107,-26.239766678059567,-6.294603741552717,-13.117354568904682,-1.7454304503642954,13.005143476813378,3.228221750117832e-05,-3.2681878292424678,-22.937140968692237,-20.45541642438859,11.345562272079311,-23.388107544204125,-16.06586779609054,-7.2172169710856116,6.462201069116128,-3.689299252120043,2.781266595527416,-3.738827047546531,-0.17242985001201802,-3.5157858515690554,-0.9242498801303427,-18.30791484250445,-15.161816949610289,4.119057409701651,4.244011940639624,-20.42911392418972,-27.258622101832017,5.3089270030956355,-1.0991382492150015,-11.603141834158343,-27.220952504458605,-5.571843625527077,-1.759101899355107,-13.810898968669655,-11.119619320160078,-9.20726020649743,-10.451124512516495,-0.4814638560286352,-11.788990089204463,5.280588453102678,2.6341146657927474,-12.169787736987594,7.149936329021907,-10.843927300883749,-15.931101291241182,-2.8471028438154273,-15.281157264028712,-15.02054841390691,-20.371388210270336,-19.419717519098796,-21.032161025662383,16.684321919948125,-2.774487108992243,-0.4332991372856314,-15.054797527400824,-0.23171981215818027,-17.448357621120845,6.010648625440199,-15.977674076718133,-11.145092481169875,-24.720343127796813,-18.253094723184418,-7.374521691763795,-3.153373897733812,3.847654865500722,1.5432165803767894,0.673600341738675,-21.40327251341536,-15.052914492373207,-15.529468222115616,4.2437792658453715,-18.2500596255282,1.153430662378441,5.653865982991366,-3.0151723561346833,-15.093959718337457,17.862169301832466,-26.268310882213786,-16.05028838814049,-26.31349112021624,4.311743183503086,-26.714140598274298,-22.49510597193877,1.5116780195392288,-3.107777211576518,-23.18234676378379,-22.96388856365198,-15.590642452457747,-15.01435032328439,-11.815606439199428,-24.54205147255783,-19.36025474211867,-22.465817466735526,-19.204327109057516,-22.048766420857355,8.463826552436075,-4.460777264222612,-6.905156157459357,4.0829440544611195,-15.947804163856256,-2.170350801101257,-23.21494164384723,-9.667123384662755,-13.592021231708836,-10.481292356526785,-28.39186922041925,-29.38153556652533,-18.756687050178062,17.712193565115836,7.048227814817834,-13.616559259180667,-13.671919754720474,-19.463631356236853,-15.686628210245773,-8.288020343776843,-7.449622274697714,-10.379212132097939,-11.911413183102024,-3.3809220939045828,-12.850727623684119,0.8906072486038661,-23.655672183469626,-10.99927154336169,-10.083398618527257,-24.094437567491692,-17.329160549662284,-6.013303965681721,-2.4967864266483537,0.7602947375227647,2.515931945958784,-8.821053572783388,-17.063289977363002,-19.296453126633985,-22.145099252572926,-4.733980784113514,-19.60248650900202,-7.659698039193778,-18.492073005899073,18.439501849091787,-3.969122945254519,-14.493973108829897,0.13460883622202305,-14.876285132577394,-15.04165665818327,-19.39483886218607,2.9832595206616443,-0.42167834572520935,-1.7236394459143136,-18.157284050726417,-2.1574986080250493,-16.176789600681463,-15.204313870853195,-4.272887923410488,4.981499863461119,-5.37490922604292,-12.950309187451737,-19.96371393047564,-24.261984638615154,-26.174929653330956,-16.936531863970135,-11.315552284663605,3.719874131501751,-23.605529980942705,9.340667374370728,-5.421037650265153,-4.897187119611497,2.706547297652532,8.41250770625909,-23.679556020947523,-10.857969566744481,-2.8504670567814214,-6.391908382868818,-0.18254793088167937,-1.8843247532780727,-27.18055035986108,-17.199421711860108,-8.673141541757055,-17.921225872686495,6.81057837772934,-9.515810049052083,-25.30929789769009,-21.140033553654867,-20.221503628694002,2.7989780643303503,-24.125106972726996,-11.993900956453057,-16.18236259001057,-10.818538339825034,-0.6671631825526826,-5.1116609729077265,-5.2499028273057675,-6.057183604868742,-23.068699656625128,-9.874071467942434,-23.936034390066794,-13.512852989871181,-18.428014551717318,-20.515306516496025,-11.400704244670028,-9.539268030636006,12.204611830330183,-17.724249121849525,-21.377106225019492,-22.603416060554846,-18.702915217047526,-2.642478059551173,-9.548313558713359,14.904275311595896,-12.667188656424749,-12.396580289342408,-6.011265426969589,5.098343491003025,-20.18444636653302,7.956384300084513,-5.010677798220471,-1.5408640649652399,0.37720806048626115,-9.223872470073035,10.235946848614288,-14.87966180938228,-1.5457902189803858,-16.74393824372597,15.363655668174674,13.53734703810241,-7.266908821277914]}},\"id\":\"6a43a80c-ab72-4fd8-8966-0f426ff0f1e5\",\"type\":\"ColumnDataSource\"},{\"attributes\":{\"overlay\":{\"id\":\"0fb49cf3-3795-462a-98cb-373c385add0a\",\"type\":\"BoxAnnotation\"},\"plot\":{\"id\":\"578126db-1ee3-448a-aa27-89c45ceb90e3\",\"subtype\":\"Figure\",\"type\":\"Plot\"}},\"id\":\"68f0a409-1dc7-4f8b-ab21-929c62797edc\",\"type\":\"BoxZoomTool\"},{\"attributes\":{\"plot\":null,\"text\":\"Word visualization\"},\"id\":\"89b49b27-0c3a-47e3-8db9-255107dcca89\",\"type\":\"Title\"},{\"attributes\":{\"callback\":null},\"id\":\"ce4cf2cc-8aa8-41c1-8896-fdc9f19a3a9b\",\"type\":\"DataRange1d\"},{\"attributes\":{},\"id\":\"6f6e15c8-3400-45f2-b189-9b05bfadba2d\",\"type\":\"ToolEvents\"},{\"attributes\":{\"plot\":{\"id\":\"578126db-1ee3-448a-aa27-89c45ceb90e3\",\"subtype\":\"Figure\",\"type\":\"Plot\"},\"ticker\":{\"id\":\"3b8b9233-4c8d-468d-add0-e4cd161e91a0\",\"type\":\"BasicTicker\"}},\"id\":\"b28c7c0c-127b-4f43-b85f-335415e054f2\",\"type\":\"Grid\"},{\"attributes\":{},\"id\":\"daa12751-5437-422a-b08d-48a4478a04e7\",\"type\":\"BasicTicker\"},{\"attributes\":{\"fill_alpha\":{\"value\":0.1},\"fill_color\":{\"value\":\"#1f77b4\"},\"line_alpha\":{\"value\":0.1},\"line_color\":{\"value\":\"#1f77b4\"},\"size\":{\"units\":\"screen\",\"value\":10},\"x\":{\"field\":\"x\"},\"y\":{\"field\":\"y\"}},\"id\":\"69f137de-dd84-4ad2-a8d4-8fbbbb3876f1\",\"type\":\"Circle\"},{\"attributes\":{\"data_source\":{\"id\":\"99d131f3-5083-4682-93a0-d6be919c8bbd\",\"type\":\"ColumnDataSource\"},\"glyph\":{\"id\":\"823af8bc-1ebf-49ce-94b9-194a8b8fc127\",\"type\":\"Circle\"},\"hover_glyph\":null,\"nonselection_glyph\":{\"id\":\"69f137de-dd84-4ad2-a8d4-8fbbbb3876f1\",\"type\":\"Circle\"},\"selection_glyph\":null},\"id\":\"0dd88da8-9a4b-46c5-b977-a3981705cf9f\",\"type\":\"GlyphRenderer\"},{\"attributes\":{\"dimension\":1,\"plot\":{\"id\":\"578126db-1ee3-448a-aa27-89c45ceb90e3\",\"subtype\":\"Figure\",\"type\":\"Plot\"},\"ticker\":{\"id\":\"daa12751-5437-422a-b08d-48a4478a04e7\",\"type\":\"BasicTicker\"}},\"id\":\"29b90ed8-3476-4653-9684-5d7549b93be7\",\"type\":\"Grid\"},{\"attributes\":{\"bottom_units\":\"screen\",\"fill_alpha\":{\"value\":0.5},\"fill_color\":{\"value\":\"lightgrey\"},\"left_units\":\"screen\",\"level\":\"overlay\",\"line_alpha\":{\"value\":1.0},\"line_color\":{\"value\":\"black\"},\"line_dash\":[4,4],\"line_width\":{\"value\":2},\"plot\":null,\"render_mode\":\"css\",\"right_units\":\"screen\",\"top_units\":\"screen\"},\"id\":\"0fb49cf3-3795-462a-98cb-373c385add0a\",\"type\":\"BoxAnnotation\"}],\"root_ids\":[\"578126db-1ee3-448a-aa27-89c45ceb90e3\"]},\"title\":\"Bokeh Application\",\"version\":\"0.12.0\"}};\n",
       "            var render_items = [{\"docid\":\"b3110315-25c2-4ac5-8543-a183a8597266\",\"elementid\":\"fa8d9d4b-fd5e-4a8f-9fcb-978b0d3095ac\",\"modelid\":\"578126db-1ee3-448a-aa27-89c45ceb90e3\",\"notebook_comms_target\":\"a0b35a3a-1072-4c2e-a22c-a55bbae9bb41\"}];\n",
       "            \n",
       "            Bokeh.embed.embed_items(docs_json, render_items);\n",
       "        });\n",
       "      },\n",
       "      function(Bokeh) {\n",
       "      }\n",
       "    ];\n",
       "  \n",
       "    function run_inline_js() {\n",
       "      for (var i = 0; i < inline_js.length; i++) {\n",
       "        inline_js[i](window.Bokeh);\n",
       "      }\n",
       "    }\n",
       "  \n",
       "    if (window._bokeh_is_loading === 0) {\n",
       "      console.log(\"Bokeh: BokehJS loaded, going straight to plotting\");\n",
       "      run_inline_js();\n",
       "    } else {\n",
       "      load_libs(js_urls, function() {\n",
       "        console.log(\"Bokeh: BokehJS plotting callback run at\", now());\n",
       "        run_inline_js();\n",
       "      });\n",
       "    }\n",
       "  }(this));\n",
       "</script>"
      ]
     },
     "metadata": {},
     "output_type": "display_data"
    }
   ],
   "source": [
    "unseen_words = plot_tsne(glove_100, 1000)"
   ]
  },
  {
   "cell_type": "code",
   "execution_count": 76,
   "metadata": {
    "collapsed": false
   },
   "outputs": [
    {
     "name": "stdout",
     "output_type": "stream",
     "text": [
      "print_statement, ipython, __past__, deeplearning, automl, polyconf, euroscipy, numfocus, scikit, scipy, numpy, pydatalondon, pydata, mcpenface, pypi, joblib, jupyter, matplotlib, reproducibility, factorization, brexit, icml, ohbm, dadaist, sparsity, sklearn, machinelearning, preprint, sgdq, alifexv, datascience, pydataparis, decoders, pydatabln, nilearn, neuroimaging, tensorflow\n"
     ]
    }
   ],
   "source": [
    "print(', '.join(unseen_words))"
   ]
  },
  {
   "cell_type": "code",
   "execution_count": 58,
   "metadata": {
    "collapsed": true
   },
   "outputs": [],
   "source": [
    "def tokenize_dataset(tokenizer, dataset):\n",
    "    tokenize_dataset = []\n",
    "    for tweet in dataset:\n",
    "        # Replace different numbers with a token\n",
    "        tweet = re.sub(r\"\\.\\d+\\s*\", \".<number> \", tweet)\n",
    "        tweet = re.sub(r\"\\d+\\s*\", \" <number> \", tweet)\n",
    "        tokens = tokenizer(tweet)\n",
    "        tokenize_dataset.append(tokens)\n",
    "    return tokenize_dataset"
   ]
  },
  {
   "cell_type": "code",
   "execution_count": 59,
   "metadata": {
    "collapsed": false
   },
   "outputs": [],
   "source": [
    "X_train_tokenized = tokenize_dataset(TweetTokenizer().tokenize, X_train)\n",
    "X_test_tokenized = tokenize_dataset(TweetTokenizer().tokenize, X_test)"
   ]
  },
  {
   "cell_type": "code",
   "execution_count": 60,
   "metadata": {
    "collapsed": true
   },
   "outputs": [],
   "source": [
    "def get_embeddings(dataset, dictionary, embedding_size):\n",
    "    X_emebeddings = []\n",
    "    for tweet in dataset:\n",
    "        tweet_embeddings = []\n",
    "        for word in tweet:\n",
    "            if word in dictionary:\n",
    "                tweet_embeddings.append(dictionary[word])\n",
    "        if not tweet_embeddings:\n",
    "            tweet_embeddings.append(np.zeros(embedding_size))\n",
    "        # Each tweet would have a different number of words and ML techniques requiere fixed inputs. \n",
    "        X_emebeddings.append(np.mean(np.asarray(tweet_embeddings, dtype=np.float32), axis=0))\n",
    "    return X_emebeddings"
   ]
  },
  {
   "cell_type": "code",
   "execution_count": 61,
   "metadata": {
    "collapsed": true
   },
   "outputs": [],
   "source": [
    "X_train_GloVe = get_embeddings(X_train_tokenized, glove_100, 100)\n",
    "X_test_GloVe = get_embeddings(X_test_tokenized, glove_100, 100)"
   ]
  },
  {
   "cell_type": "markdown",
   "metadata": {},
   "source": [
    "## 4.2. But I want to train word embeddings with my own data!"
   ]
  },
  {
   "cell_type": "code",
   "execution_count": 62,
   "metadata": {
    "collapsed": false
   },
   "outputs": [],
   "source": [
    "from gensim.models import word2vec"
   ]
  },
  {
   "cell_type": "code",
   "execution_count": 63,
   "metadata": {
    "collapsed": false
   },
   "outputs": [],
   "source": [
    "# Initialize and train the model (this will take some time)\n",
    "model = word2vec.Word2Vec(X_train_tokenized, \n",
    "                          workers = 4,\n",
    "                          size = 100,  \n",
    "                          min_count = 1,     # How many times a word should appear to be taken into account\n",
    "                          window = 5, \n",
    "                          sample = 1e-3 ,    # Downsample setting for frequent words\n",
    "                          batch_words = 100) # Batches of examples passed to worker threads \n",
    "\n",
    "# This model won't be updated\n",
    "model.init_sims(replace=True)\n",
    "\n",
    "model_name = \"word2vec\"\n",
    "model.save(model_name)"
   ]
  },
  {
   "cell_type": "code",
   "execution_count": 64,
   "metadata": {
    "collapsed": false,
    "scrolled": true
   },
   "outputs": [
    {
     "data": {
      "text/plain": [
       "(4193, 100)"
      ]
     },
     "execution_count": 64,
     "metadata": {},
     "output_type": "execute_result"
    }
   ],
   "source": [
    "model.syn0.shape"
   ]
  },
  {
   "cell_type": "code",
   "execution_count": 96,
   "metadata": {
    "collapsed": false
   },
   "outputs": [
    {
     "data": {
      "text/html": [
       "\n",
       "\n",
       "    <div class=\"bk-root\">\n",
       "        <div class=\"plotdiv\" id=\"adbd03dc-8518-4217-8a80-d4bac97cf402\"></div>\n",
       "    </div>\n",
       "<script type=\"text/javascript\">\n",
       "  \n",
       "  (function(global) {\n",
       "    function now() {\n",
       "      return new Date();\n",
       "    }\n",
       "  \n",
       "    if (typeof (window._bokeh_onload_callbacks) === \"undefined\") {\n",
       "      window._bokeh_onload_callbacks = [];\n",
       "    }\n",
       "  \n",
       "    function run_callbacks() {\n",
       "      window._bokeh_onload_callbacks.forEach(function(callback) { callback() });\n",
       "      delete window._bokeh_onload_callbacks\n",
       "      console.info(\"Bokeh: all callbacks have finished\");\n",
       "    }\n",
       "  \n",
       "    function load_libs(js_urls, callback) {\n",
       "      window._bokeh_onload_callbacks.push(callback);\n",
       "      if (window._bokeh_is_loading > 0) {\n",
       "        console.log(\"Bokeh: BokehJS is being loaded, scheduling callback at\", now());\n",
       "        return null;\n",
       "      }\n",
       "      if (js_urls == null || js_urls.length === 0) {\n",
       "        run_callbacks();\n",
       "        return null;\n",
       "      }\n",
       "      console.log(\"Bokeh: BokehJS not loaded, scheduling load and callback at\", now());\n",
       "      window._bokeh_is_loading = js_urls.length;\n",
       "      for (var i = 0; i < js_urls.length; i++) {\n",
       "        var url = js_urls[i];\n",
       "        var s = document.createElement('script');\n",
       "        s.src = url;\n",
       "        s.async = false;\n",
       "        s.onreadystatechange = s.onload = function() {\n",
       "          window._bokeh_is_loading--;\n",
       "          if (window._bokeh_is_loading === 0) {\n",
       "            console.log(\"Bokeh: all BokehJS libraries loaded\");\n",
       "            run_callbacks()\n",
       "          }\n",
       "        };\n",
       "        s.onerror = function() {\n",
       "          console.warn(\"failed to load library \" + url);\n",
       "        };\n",
       "        console.log(\"Bokeh: injecting script tag for BokehJS library: \", url);\n",
       "        document.getElementsByTagName(\"head\")[0].appendChild(s);\n",
       "      }\n",
       "    };var element = document.getElementById(\"adbd03dc-8518-4217-8a80-d4bac97cf402\");\n",
       "    if (element == null) {\n",
       "      console.log(\"Bokeh: ERROR: autoload.js configured with elementid 'adbd03dc-8518-4217-8a80-d4bac97cf402' but no matching script tag was found. \")\n",
       "      return false;\n",
       "    }\n",
       "  \n",
       "    var js_urls = [];\n",
       "  \n",
       "    var inline_js = [\n",
       "      function(Bokeh) {\n",
       "        Bokeh.$(function() {\n",
       "            var docs_json = {\"23c3ffcd-3b44-4bf6-a5f6-a37be746c74e\":{\"roots\":{\"references\":[{\"attributes\":{\"formatter\":{\"id\":\"4f87c92f-554e-4192-8598-239c7ee70b55\",\"type\":\"BasicTickFormatter\"},\"plot\":{\"id\":\"a2005523-fddd-47ee-9f76-a42c87f35929\",\"subtype\":\"Figure\",\"type\":\"Plot\"},\"ticker\":{\"id\":\"7e470b62-f105-451d-a4bd-effae8ad71fa\",\"type\":\"BasicTicker\"}},\"id\":\"7d9ae9b7-5681-426e-bce7-a69077c15d80\",\"type\":\"LinearAxis\"},{\"attributes\":{\"fill_alpha\":{\"value\":0.1},\"fill_color\":{\"value\":\"#1f77b4\"},\"line_alpha\":{\"value\":0.1},\"line_color\":{\"value\":\"#1f77b4\"},\"size\":{\"units\":\"screen\",\"value\":10},\"x\":{\"field\":\"x\"},\"y\":{\"field\":\"y\"}},\"id\":\"eee2497c-fe0f-4a3c-8fa8-2cf848f00d05\",\"type\":\"Circle\"},{\"attributes\":{\"callback\":null,\"plot\":{\"id\":\"a2005523-fddd-47ee-9f76-a42c87f35929\",\"subtype\":\"Figure\",\"type\":\"Plot\"},\"tooltips\":[[\"words_bros\",\"@words_bros\"],[\"words_sis\",\"@words_sis\"]]},\"id\":\"5563d521-4957-404a-8d30-e5524dd25c82\",\"type\":\"HoverTool\"},{\"attributes\":{\"plot\":{\"id\":\"a2005523-fddd-47ee-9f76-a42c87f35929\",\"subtype\":\"Figure\",\"type\":\"Plot\"}},\"id\":\"58ff674d-f7ab-41f6-a9b8-d4b0cdd12a33\",\"type\":\"SaveTool\"},{\"attributes\":{\"below\":[{\"id\":\"7d9ae9b7-5681-426e-bce7-a69077c15d80\",\"type\":\"LinearAxis\"}],\"left\":[{\"id\":\"c4bd315d-3fdc-43d9-9318-81a91157f0a0\",\"type\":\"LinearAxis\"}],\"renderers\":[{\"id\":\"7d9ae9b7-5681-426e-bce7-a69077c15d80\",\"type\":\"LinearAxis\"},{\"id\":\"459ebc5d-c19c-48ba-8fea-ebedbe24e12e\",\"type\":\"Grid\"},{\"id\":\"c4bd315d-3fdc-43d9-9318-81a91157f0a0\",\"type\":\"LinearAxis\"},{\"id\":\"bcd6e58f-e9fd-4544-a8fa-c82bac878c8b\",\"type\":\"Grid\"},{\"id\":\"0e6cfe31-6fbb-4ca4-9fa3-3f9a194a9ed5\",\"type\":\"BoxAnnotation\"},{\"id\":\"151ff70d-6b33-4fd6-9cb5-1717b2085c1d\",\"type\":\"GlyphRenderer\"},{\"id\":\"6aebeb02-431a-4668-abd5-d580bd7edb8f\",\"type\":\"GlyphRenderer\"}],\"title\":{\"id\":\"ec3c8703-5413-4ae5-97a9-98c69b6ae031\",\"type\":\"Title\"},\"tool_events\":{\"id\":\"7e4b11a7-3346-47f9-bca4-71c4e607434b\",\"type\":\"ToolEvents\"},\"toolbar\":{\"id\":\"bb3a0f46-f733-48ec-90ad-68b8cd40dddd\",\"type\":\"Toolbar\"},\"x_range\":{\"id\":\"059b230f-0c51-41dc-a614-9f9512ab742b\",\"type\":\"DataRange1d\"},\"y_range\":{\"id\":\"6cae7c9c-0253-4c39-88fb-b3ecdf0d4734\",\"type\":\"DataRange1d\"}},\"id\":\"a2005523-fddd-47ee-9f76-a42c87f35929\",\"subtype\":\"Figure\",\"type\":\"Plot\"},{\"attributes\":{\"formatter\":{\"id\":\"2c2c9f30-c5f8-45e2-9fb7-e53b954dd995\",\"type\":\"BasicTickFormatter\"},\"plot\":{\"id\":\"a2005523-fddd-47ee-9f76-a42c87f35929\",\"subtype\":\"Figure\",\"type\":\"Plot\"},\"ticker\":{\"id\":\"70a7300c-05e4-4beb-a8ff-8ceb589bfe17\",\"type\":\"BasicTicker\"}},\"id\":\"c4bd315d-3fdc-43d9-9318-81a91157f0a0\",\"type\":\"LinearAxis\"},{\"attributes\":{\"callback\":null},\"id\":\"6cae7c9c-0253-4c39-88fb-b3ecdf0d4734\",\"type\":\"DataRange1d\"},{\"attributes\":{\"overlay\":{\"id\":\"0e6cfe31-6fbb-4ca4-9fa3-3f9a194a9ed5\",\"type\":\"BoxAnnotation\"},\"plot\":{\"id\":\"a2005523-fddd-47ee-9f76-a42c87f35929\",\"subtype\":\"Figure\",\"type\":\"Plot\"}},\"id\":\"6d0306c9-b9f2-4067-bf41-bd4bb8699e80\",\"type\":\"BoxZoomTool\"},{\"attributes\":{\"bottom_units\":\"screen\",\"fill_alpha\":{\"value\":0.5},\"fill_color\":{\"value\":\"lightgrey\"},\"left_units\":\"screen\",\"level\":\"overlay\",\"line_alpha\":{\"value\":1.0},\"line_color\":{\"value\":\"black\"},\"line_dash\":[4,4],\"line_width\":{\"value\":2},\"plot\":null,\"render_mode\":\"css\",\"right_units\":\"screen\",\"top_units\":\"screen\"},\"id\":\"0e6cfe31-6fbb-4ca4-9fa3-3f9a194a9ed5\",\"type\":\"BoxAnnotation\"},{\"attributes\":{},\"id\":\"7e4b11a7-3346-47f9-bca4-71c4e607434b\",\"type\":\"ToolEvents\"},{\"attributes\":{\"callback\":null,\"column_names\":[\"x\",\"y\",\"words_bros\",\"range_words\"],\"data\":{\"range_words\":[1,2,3,4,5,6,7,8,9,10,11,12,13,14,15,16,17,18,19,20,21,22,23,24,25,26,27,28,29,30,31,32,33,34,35,36,37,38,39,40,41,42,43,44,45,46,47,48,49,50,51,52,53,54,55,56,57,58,59,60,61,62,63,64,65,66,67,68,69,70,71,72,73,74,75,76,77,78,79,80,81,82,83,84,85,86,87,88,89,90,91,92,93,94,95,96,97,98,99,100,101,102,103,104,105,106,107,108,109,110,111,112,113,114,115,116,117,118,119,120,121,122,123,124,125,126,127,128,129,130,131,132,133,134,135,136,137,138,139,140,141,142,143,144,145,146,147,148,149,150,151,152,153,154,155,156,157,158,159,160,161,162,163,164,165,166,167,168,169,170,171,172,173,174,175,176,177,178,179,180,181,182,183,184,185,186,187,188,189,190,191,192,193,194,195,196,197,198,199,200,201,202,203,204,205,206,207,208,209,210,211,212,213,214,215,216,217,218,219,220,221,222,223,224,225,226,227,228,229,230,231,232,233,234,235,236,237,238,239,240,241,242,243,244,245,246,247,248,249,250,251,252,253,254,255,256,257,258,259,260,261,262,263,264,265,266,267,268,269,270,271,272,273,274,275,276,277,278,279,280,281,282,283,284,285,286,287,288,289,290,291,292,293,294,295,296,297,298,299,300,301,302,303,304,305,306,307,308,309,310,311,312,313,314,315,316,317,318,319,320,321,322,323,324,325,326,327,328,329,330,331,332,333,334,335,336,337,338,339,340,341,342,343,344,345,346,347,348,349,350,351,352,353,354,355,356,357,358,359,360,361,362,363,364,365,366,367,368,369,370,371,372,373,374,375,376,377,378,379,380,381,382,383,384,385,386,387,388,389,390,391,392,393,394,395,396,397,398,399,400,401,402,403,404,405,406,407,408,409,410,411,412,413,414,415,416,417,418,419,420,421,422,423,424,425,426,427,428,429,430,431,432,433,434,435,436,437,438,439,440,441,442,443,444,445,446,447,448,449,450,451,452,453,454,455,456,457,458,459,460,461,462,463,464,465,466,467,468,469,470,471,472,473,474,475,476,477,478,479,480,481,482,483,484,485,486,487,488,489,490,491,492,493,494,495,496,497,498,499,500,501,502,503,504,505,506,507,508,509,510,511,512,513,514,515,516,517,518,519,520,521,522,523,524,525,526,527,528,529,530,531,532,533,534,535,536,537,538,539,540,541,542,543,544,545,546,547,548,549,550,551,552,553,554,555,556,557,558,559,560,561,562,563,564,565,566,567,568,569,570,571,572,573,574,575,576,577,578,579,580,581,582,583,584,585,586,587,588,589,590,591,592,593,594,595,596,597,598,599,600,601,602,603,604,605,606,607,608,609,610,611,612,613,614,615,616,617,618,619,620,621,622,623,624,625,626,627,628,629,630,631,632,633,634,635,636,637,638,639,640,641,642,643,644,645,646,647,648,649,650,651,652,653,654,655,656,657,658,659,660,661,662,663,664,665,666,667,668,669,670,671,672,673,674,675,676,677,678,679,680,681,682,683,684,685,686,687,688,689,690,691,692,693,694,695,696,697,698,699,700,701,702,703,704,705,706,707,708,709,710,711,712,713,714,715,716,717,718,719,720,721,722,723,724,725,726,727,728,729,730,731,732],\"words_bros\":[\"boosting\",\"networks\",\"welcome\",\"h\",\"better\",\"learned\",\"cc\",\"pro\",\"money\",\"viz\",\"function\",\"going\",\"logistic\",\"starting\",\"faster\",\"little\",\"pip\",\"looking\",\"questions\",\"poster\",\"soon\",\"french\",\"js\",\"definitely\",\"cluster\",\"c\",\"matplotlib\",\"friends\",\"keep\",\"review\",\"like\",\"performance\",\"right\",\"version\",\"though\",\"take\",\"third\",\"guess\",\"audience\",\"give\",\"library\",\"programming\",\"brain\",\"useful\",\"go\",\"finally\",\"x\",\"different\",\"watch\",\"reason\",\"work\",\"datasets\",\"final\",\"changes\",\"every\",\"images\",\"excited\",\"presented\",\"exciting\",\"memory\",\"use\",\"two\",\"haha\",\"james\",\"wrote\",\"error\",\"tried\",\"way\",\"videos\",\"text\",\"coding\",\"g\",\"forward\",\"case\",\"detailed\",\"article\",\"u\",\"map\",\"interactive\",\"maybe\",\"lab\",\"sure\",\"tomorrow\",\"one\",\"mmds\",\"idea\",\"yes\",\"rules\",\"country\",\"loss\",\"another\",\"closing\",\"people\",\"well\",\"find\",\"made\",\"title\",\"docs\",\"sprint\",\"implementation\",\"read\",\"windows\",\"paris\",\"dadaist\",\"got\",\"sklearn\",\"build\",\"cool\",\"love\",\"tweet\",\"bars\",\"log\",\"dl\",\"link\",\"july\",\"set\",\"path\",\"makes\",\"scipy\",\"live\",\"study\",\"examples\",\"social\",\"scale\",\"neuroimaging\",\"actually\",\"research\",\"reinforcement\",\"sparsity\",\"yet\",\"new\",\"early\",\"machine\",\"rt\",\"import\",\"gallery\",\"powell\",\"meeting\",\"numfocus\",\"source\",\"math\",\"<number>\",\"might\",\"translate\",\"k\",\"also\",\"need\",\"available\",\"interesting\",\"internet\",\"may\",\"real\",\"decoders\",\"experience\",\"reproducibility\",\"make\",\"words\",\"level\",\"example\",\"htt\",\"say\",\"w\",\"getting\",\"power\",\"git\",\"hear\",\"seattle\",\"write\",\"test\",\"bad\",\"talk\",\"jupiter\",\"man\",\"scientific\",\"dataviz\",\"mind\",\"engineering\",\"next\",\"summer\",\"nice\",\"ht\",\"want\",\"nilearn\",\"making\",\"summit\",\"vs\",\"world\",\"distributed\",\"analysis\",\"average\",\"introduction\",\"computing\",\"summary\",\"days\",\"architecture\",\"api\",\"started\",\"amd\",\"join\",\"rejection\",\"technical\",\"today\",\"tickets\",\"space\",\"color\",\"great\",\"support\",\"vienna\",\"independence\",\"provide\",\"high\",\"int\",\"german\",\"google\",\"park\",\"via\",\"realize\",\"et\",\"style\",\"chat\",\"project\",\"ai\",\"history\",\"install\",\"written\",\"laptop\",\"recently\",\"paper\",\"de\",\"using\",\"congrats\",\"anything\",\"learning\",\"see\",\"come\",\"easy\",\"help\",\"notebook\",\"users\",\"__past__\",\"academia\",\"booth\",\"update\",\"software\",\"heard\",\"github\",\"workshop\",\"post\",\"day\",\"team\",\"pydata\",\"everyone\",\"ml\",\"first\",\"released\",\"pretty\",\"jupyter\",\"repo\",\"fun\",\"list\",\"features\",\"yeah\",\"long\",\"awesome\",\"slides\",\"big\",\"always\",\"eu\",\"conference\",\"proceedings\",\"course\",\"already\",\"algebra\",\"old\",\"matrix\",\"submit\",\"week\",\"code\",\"look\",\"hope\",\"language\",\"must\",\"left\",\"single\",\"problem\",\"speak\",\"print_statement\",\"seen\",\"good\",\"v\",\"science\",\"automl\",\"sorry\",\"future\",\"never\",\"blog\",\"classification\",\"end\",\"us\",\"oh\",\"strangers\",\"mostly\",\"control\",\"thanks\",\"life\",\"quite\",\"around\",\"think\",\"book\",\"joblib\",\"could\",\"b\",\"analytics\",\"possible\",\"name\",\"really\",\"please\",\"top\",\"wow\",\"would\",\"looks\",\"unedited\",\"factorization\",\"demo\",\"try\",\"full\",\"machines\",\"data\",\"open\",\"https\",\"validation\",\"results\",\"lightning\",\"state\",\"free\",\"enjoy\",\"easier\",\"issues\",\"schedule\",\"keynote\",\"similar\",\"sustainable\",\"learn\",\"still\",\"pure\",\"talks\",\"video\",\"folks\",\"much\",\"community\",\"best\",\"challenge\",\"explained\",\"presidential\",\"tensorflow\",\"twitter\",\"ipython\",\"coming\",\"online\",\"glad\",\"time\",\"python\",\"indeed\",\"fmri\",\"job\",\"far\",\"papers\",\"back\",\"non\",\"posted\",\"call\",\"release\",\"issue\",\"files\",\"point\",\"neural\",\"app\",\"important\",\"maps\",\"models\",\"change\",\"run\",\"statistical\",\"probably\",\"seems\",\"documentation\",\"icml\",\"notebooks\",\"announce\",\"without\",\"done\",\"tutorials\",\"conda\",\"joint\",\"preprint\",\"tell\",\"pycon\",\"les\",\"user\",\"p\",\"package\",\"projects\",\"thx\",\"years\",\"random\",\"happy\",\"approach\",\"times\",\"large\",\"ever\",\"tutorial\",\"doc\",\"books\",\"amazing\",\"major\",\"needs\",\"believe\",\"regression\",\"related\",\"get\",\"check\",\"since\",\"natural\",\"used\",\"generative\",\"running\",\"working\",\"gradient\",\"th\",\"feedback\",\"anaconda\",\"question\",\"pypi\",\"feature\",\"url\",\"optimization\",\"l\",\"begins\",\"many\",\"thought\",\"deep\",\"thing\",\"json\",\"http\",\"methods\",\"discussion\",\"interested\",\"anyone\",\"know\",\"last\",\"program\",\"model\",\"fit\",\"fast\",\"quick\",\"stuff\",\"called\",\"r\",\"things\",\"image\",\"excellent\",\"simple\",\"dask\",\"comes\",\"word\",\"someone\",\"based\",\"linear\",\"upgrade\",\"election\",\"year\",\"series\",\"impressive\",\"empirical\",\"start\",\"numpy\",\"e\"],\"x\":[-17.34348163446278,-21.677911588676807,-32.40077843274635,1.5322951024860927,-92.73298749107141,-73.19910563395133,-28.807746255885604,-52.747761481706775,-20.614335341327674,-65.66393552121114,-35.671061046708466,-88.5168131549325,-51.439419089536095,-24.65089018976904,-62.565463840224325,-46.32934665251664,-26.03869319398939,-84.38766240118068,-12.13760769586856,-20.945534653485534,-62.61758676418838,-23.393099313265136,-16.99951591843547,-41.067383914283596,-15.998318072501679,-62.203080295845396,10.549369818053984,-43.568142973565585,-31.378524883969312,-73.09599164595137,-82.43416038683908,-44.05479802959446,-83.36348898382886,-58.52595735849465,-62.196182907782855,-78.61651455121383,-27.812984773354835,-81.14590414916472,-44.11020509603219,-46.45045536397474,-67.13899637731082,-60.87279806029959,-73.92066597072521,-63.66871588765791,-60.01015425382686,-18.42326758423728,-18.263436389953803,-35.05390760247127,-30.239147305682685,-5.389353177548657,-91.35126737000319,-20.798854676105535,-45.347099623490045,50.46733428995941,-44.481227759201865,-39.183204536443334,-23.76115971960494,-49.78211402941287,-46.0863966893342,-64.46282131544929,-94.51244625164578,-50.34805613878419,-13.530101440664254,-29.235449789021484,-47.591613799502056,-38.6103137534464,-43.40944190752592,-84.05566761501696,6.345305610181366,-63.59473306918217,-77.84126724677138,-46.75163053788579,-47.34373131811895,-70.95954037480774,-43.112356350832655,-37.049904353498036,-39.80905631511011,-26.146782386802453,-69.5399657444222,-81.44843502163185,-9.568099721586542,-44.33654106541328,-57.104716842923466,-79.70307524596765,-46.36904382850559,-89.9855431629479,-66.51117503584871,-40.50122235748429,-17.90727884536358,-50.52686592800891,-32.506511755654586,-0.756039661148966,-96.28558537253448,-80.49826367274466,-49.795291743555815,-64.28751643383812,-23.579440204276374,-35.69154356152456,-63.211148494074806,9.93023550562221,-89.7416779301546,-44.711939386955194,-24.152654029318096,7.26478837594267,-65.21257342497195,-6.562863138265879,-51.87114251839338,-54.46322632337137,-62.68245863076328,-9.122488231772788,-33.069849992270086,-56.14611873596171,-68.31221684644045,4.415867651301071,-59.91878948951755,-35.85908755265417,-23.05258146045421,-31.954688268862746,-18.706906801183468,-63.39702232312507,-78.64376169838957,-20.611708956050123,-85.38151838499483,-44.85896143029618,-75.50949714248951,-66.34847890111318,-59.849100467912535,-15.243817390167964,-14.787449965638418,-70.3242375591265,-82.25871185371555,-54.62632255791267,-79.67556364163504,-87.90725815972884,-36.69984212016093,-21.5011226612345,-69.79869069071358,-62.27254702672356,-2.651547429120474,-88.58912135106539,-18.450373990633423,-87.67138922288402,-39.5022796737858,-4.070401616522444,-65.84559053548999,-80.9221742002267,-60.08187113438135,-60.620879518233586,-69.05071914105471,-57.462104206852885,-47.92653720988077,-54.32713394635528,-37.09341746539102,-49.12782449962326,-26.770763466649054,-87.20267083901194,-52.55985386664702,-16.67312713611084,-17.376954009402844,-52.3649447994329,-69.69855834221958,-94.34066130216254,-65.12740391130039,-48.07968908952104,-19.375282683714378,-33.96269595734623,-46.26670816431888,-80.21410794267564,-92.01529923172525,-50.29668085804917,-77.78312621848791,4.33130756078722,-56.258647550465255,-68.03168486307355,-8.612284015463853,-35.712824883998586,-6.779429704740411,-87.58798818936441,-17.89799773617073,-83.12652894040045,-40.710159814766484,-86.70580901500628,-52.642125283935044,-11.232009150002083,-24.99252190774131,-29.71172615146053,-65.19075399544953,-37.32779406650919,-78.22211103046654,-11.255189248486953,-16.94998735845028,-30.707074671100738,-10.410669515149655,-52.895248587715,-2.4228506881251946,-62.14024768338978,-61.27732288066845,-1.2569445566893498,-45.00756613759796,-0.10206127206231128,-47.11503913946894,-93.55435206843082,-54.47385062538579,-41.43005658230592,-25.14671849147948,-79.90083544770285,-88.19859525461897,-4.910883374133942,-47.62153188749284,-74.01216016377795,-19.337859617652292,1.9971560189551565,-2.8909382558066667,-86.0244096506327,-25.050747163541644,-65.81354658638833,-23.669947803295077,-31.019723344608554,-28.85141926260993,-27.978093893170204,-82.17458670957593,-8.062859029365846,-41.45235908100154,-29.21357025785245,-49.521253660201566,-64.53287820010807,47.07310401236552,-86.10838072287402,-54.76286155583238,-93.74189235699737,-24.796933084208554,-19.99628583943269,-82.52664252315317,-83.03792562462519,-96.01528559937799,-59.31968968727542,-69.81694716265184,-29.077282513420087,-30.708046495732436,16.45340919792282,19.109920117457715,-52.79836877956183,-39.792800301610995,-89.21804522909625,-47.08387500194087,-54.033176272224075,-41.316432320569994,-82.78376503522735,-81.24225663643762,-48.3617746180974,-22.257226507526987,-48.81483574997885,-44.765800321271946,-97.83372023979739,-71.92423708924179,-55.63085215964028,-32.704828276046946,-36.79946162216853,-47.55040389083655,-76.39601065107415,-22.272433235283078,-68.93665798335707,-32.46402949087251,-61.84933179227529,-61.4285562660175,-78.60674206210945,-54.556890931849374,-39.81555678961097,-86.61173937947359,8.063199823676669,-34.13181277427966,-72.55198726342506,-10.82651372574274,-72.14293003675971,-49.55012092837924,-34.38989515883558,-81.05509363944779,-77.56124434807548,-92.50882252335465,-56.0445699016541,-22.45281434140298,-11.97304551108371,-60.35736491903389,-57.384553909199475,-44.905435314295524,3.461770154823189,-36.274506482199264,-66.0210502781739,-79.18328701134752,-7.91064372509181,-74.1565471412674,4.602164586293022,-38.82413506651271,-58.08398373601809,-73.68163509430768,-76.34814907668832,-46.99915311739199,-76.27407816220067,-82.37554458851264,-53.5887370447761,-15.415973796250293,-36.68885460765078,-5.541946969003437,-74.86906954161162,-50.80689610666432,-92.6201106483196,-51.2847084724733,-83.22517718492682,-41.78906402162306,-61.20168886470873,-54.5515872571387,-87.25679346437683,-25.696987389876025,-58.3468076168308,-26.187260915083815,-86.73333303191333,-84.91043620075851,-9.097141268185785,-29.714692524795975,-75.98468873739564,-58.404799179512494,-8.582182119740143,-66.12667717149867,-8.010342871631982,-37.76070852796939,-40.950476607454824,-8.918191314890377,-80.76342450515295,-84.98723629499746,-55.10772638147246,1.7004699874606104,-35.646435692930886,-59.35363185645777,-27.227009115020927,-72.29027218658359,-5.185295916348619,-20.66725705380913,-32.41395810904123,-13.315626500243736,-33.51486784594912,-12.364541186824573,-48.63315109590276,-72.56538374523228,-86.9050928159863,-40.87426046634691,-89.46588128298141,-86.37866993775023,-68.30086505367905,-91.78239748180548,-66.60565820299335,-54.55790017795666,-0.15566520544232937,-33.61378526124653,-2.09954782981321,16.81604562910323,-37.941189607339844,-29.220102648229087,-55.638054484197475,-84.45249619454394,-69.58645824048833,-90.45430257174307,-84.02584381276215,-22.79849448833999,-48.100458441966,-77.82137053872572,-81.39639395188183,-57.09178202512071,-88.15384104901788,-52.314804892005895,-43.99066476900785,-94.59966856452192,-74.56490474420794,-37.58035532253625,-16.052060906276093,-14.203492755337303,-25.276758840711995,-80.25473778712687,-42.72777751096764,-40.98900871493959,-44.046612096676554,-43.69510739887463,-49.170899284157166,-44.50780975455485,-31.0290720490448,-13.620447838342214,-3.749606153341144,-21.02273115899668,-51.330294738081726,-11.534702893334453,-43.137447835366004,-18.36146363834748,-12.232608130154368,-6.287299690259399,-13.902532012289626,-34.905476858624155,-78.95467494781727,-69.63022588635482,-88.14438891350153,-33.27114424976599,2.6830234263649517,-69.16698818413705,-58.00494670555738,-5.068272495316273,-64.45211424435593,-50.66429866259373,-86.06350931781834,-70.06976139225588,-75.81332551704716,-55.79920870693109,-70.4755786602114,-41.57746853102977,-57.837906967154176,-51.60177040570515,-71.68575142481896,1.1652775530205812,-51.721349522279695,-20.465071007216626,-67.60218107545249,-21.691305569867254,-83.96182728242306,-38.58701015017765,-97.10324345734202,-37.15189437927949,-60.09381167299764,-29.927353139551045,-65.62068149231459,-52.83357692742692,-57.50507699867709,-25.705048648197085,-31.431336433571264,15.258964580523674,-76.48295575328966,-41.457845413494695,-35.199464043273714,-27.53301854732027,-30.46186763374958,-56.43567243937565,-16.668614933551666,-73.09943166747347,-65.61281273083571,-91.28532110311829,-57.72013572674649,-73.18605716138852,-75.69791674340637,-6.864920979634026,-42.21377520603883,-39.98343278699598,-50.261993666154,-82.40740198451925,-49.52332995962392,-55.19945915179622,-60.9922655039697,-54.02768503309597,-58.77431388176987,-13.67708439024731,-1.310554600876476,-48.213862669850776,-72.78580411099928,-78.54824109587244,-59.41818258015147,-28.186969566754946,-40.782787877376585,12.319075028280823,-13.165744157527664,-24.420299877618355,-88.3790159371214,-27.856079737484233,-91.62642970550651,-12.95150937396238,-33.91236542558719,-36.304837238769444,-29.111740384440957,-33.950033211395905,-84.06152798626981,-27.083469811327735,-39.88778217741462,-38.639967946030524],\"y\":[-19.471561880453287,23.587075671999035,-22.025492675663543,15.787283110288277,8.250608087226079,-4.024259359636454,-18.37714016411476,1.258804461722569,-6.257443616989149,13.848258200607264,-11.051663160562834,18.60496810021846,5.0971310435513075,21.42185652395484,26.29072197241022,-27.542070007676564,-5.08799018347927,-12.443845346830743,-18.948179505716688,6.90127442134832,30.55320431313615,-15.15359514503389,0.46581792301030933,36.293900680858705,4.466988562334403,-12.07428553424337,5.795906294654765,-2.5396483051113714,20.972517593596294,15.408728128941888,8.244281936252559,21.352031790804062,-9.155068671842434,7.948741104218542,11.766874105943657,18.493194593035405,4.6462512996263605,-19.922994138332218,-15.026121706886752,0.08751408390148609,0.14185354029192132,-4.672203910535301,-19.111970943191846,-23.90317206114907,-19.29669936209404,13.653453672204105,34.00053101654376,36.59663002388579,35.88310477139868,-6.946037699582397,11.058949793199913,18.599211294598295,27.437668373990277,-0.2947959361064145,5.99407265000699,-10.317126857619382,10.031030878518786,2.187339731423995,3.372570269686015,-8.41568774021196,-10.330972961289085,25.444392079642334,-11.74477981414614,-6.835580691828867,-12.148975881279474,13.517083268228003,14.944435851801284,10.704450115330658,17.467547531570567,9.13665787427947,8.859814942681732,-19.270169118287935,-22.31839230919892,-11.527775164689684,-19.935669537319374,-7.702719682357402,9.974196911373053,-23.522182029440586,6.542225181265332,9.184369974671618,-8.841366783323615,-24.415222731992838,16.625305088405426,11.774870122645089,-8.562568127162445,6.46762599673676,25.926778586483255,17.143353808595087,8.083041889590575,-14.940013540456382,-26.31556163827969,1.1699587486557568,-4.738216035989315,33.14759531990365,35.15692513759486,-20.394219539453754,-11.704010298010132,-14.52657817335867,-2.6489443071641148,7.752305226095201,12.680659047764793,-11.901776219519036,6.565011554692382,-9.811644618927577,-15.040753092706879,-22.339287848373854,-11.201568600298945,32.46066893293938,-16.89874769021094,-0.7782205319162118,3.9001604736970155,-15.486624502211372,-9.34731435773222,2.5767162356788185,-1.7525837317331225,5.507369083156445,-22.007269778354704,15.034359418175868,21.244719479325706,22.292780497620477,-13.605358398497119,-0.989203752092297,28.284531369313203,11.635018948760052,-0.4878116120066865,22.77108986587768,-9.78022957741218,-15.662182274037777,14.684216253085822,-5.6265136439715,13.713434480289862,-18.633054191473427,-5.012957060268343,2.9524371134318086,32.77610224035342,15.8945884564837,22.008939863471987,0.6316579160815183,-11.927120499810021,8.7405626799811,-29.198990563715476,-1.2821320775913634,-20.821886054734772,-16.29530603628647,-5.522581195606504,17.899964439141762,17.133534816973356,-22.05756912210763,29.74712938998433,-4.979396422967694,7.034154330872446,4.128447892231284,28.86686595671466,28.051101525896648,-13.422213339022546,-9.178670803196923,-20.813700036655344,29.114318984204647,-11.020759870840623,-2.3664357728833765,-3.101416422636876,1.0797196169661845,-11.413942846127561,12.227704878725337,-14.543658301967268,18.318330943619042,30.526518609420393,25.70909891539042,-7.445558366610481,22.305462765171054,3.8559798955800018,11.35461656350934,-1.992359063873378,-12.947819667626025,12.914364575584157,-21.326739398094368,-11.860890877213432,-12.770615401193433,-3.3614399036931464,16.14678943398757,-6.015085472672696,20.507793225834273,7.736364203344014,2.234903993040748,25.93811246536104,-3.2492593307786444,19.311029211357035,24.400868423279338,-10.834384209355104,22.2511125014459,17.50890895435828,26.712691430545785,-14.189251108589103,28.417381102566527,16.956006158587478,-7.09065853494693,19.35609126665839,-7.898269201703919,34.11798530274969,-18.77992977148549,19.97313957727381,15.133980499590947,16.32904085190083,-12.425811036238652,-18.340782396794708,-2.316139282531374,0.3725523154781182,8.063518294122435,-2.5599669205964255,10.977107835329141,3.581423171859643,6.26351465904608,24.443822581706375,16.41834618834605,17.80424706234572,-2.321998737867398,-31.945278729398638,31.44465995532832,-32.85603034284694,1.9272287069369791,-4.26827728584907,-17.877018676594687,19.683119523120865,-28.09069158646467,-19.5328858033381,2.1844185168302817,-0.379162452103864,1.1783736156188782,13.337642672783142,4.444544879402743,3.2355319806082967,26.936122343486293,1.747737813444097,26.43992353220966,-1.8616921153242383,27.533814963552523,9.920517347918537,-10.591550810393121,8.498365154489605,-2.6819199247275662,3.750055591703243,-7.806025179225636,26.4189660173088,14.684259317225365,9.449264197355493,-5.069861110059756,-27.51609693218702,-6.057184946256812,13.713784792680501,17.059163206464255,1.7534620341514615,4.53803866752001,17.808316419451913,10.45166766326075,13.104950521543222,-28.62442161923273,-17.792028479667167,-17.813991794621508,-15.671046695308899,-3.2450000741663625,35.97251507448196,-15.978472347532895,-8.767320165005954,15.09406752540506,7.233643443781389,-1.2252139122729,-24.66974539796131,-15.751791072212555,14.355760220311668,-2.039260127529449,-2.1752593713617676,8.525121137516717,17.53655683165312,-15.46416477274865,-1.2984176997121322,1.1996914861840593,22.75690996846864,9.82418232790634,21.370017920647925,27.335805907683167,30.28411379953112,12.831070467526699,23.55216508017233,12.645402587608427,-5.472785399968364,-6.519480766082169,21.12265528141901,6.947986816144186,0.8487137560119273,24.104444194708588,-11.821970943342745,-16.03302928377576,21.57817928215771,19.898365328647646,22.993878936571267,-16.08606443168635,14.767254618982875,12.620273575360473,0.2695394050091211,24.71664742635442,10.629957076538291,-4.380331224352536,20.337760064963067,2.4801262294170208,10.087984011646487,-14.730125393891923,-23.2051547443674,4.510564208976447,12.46564772375665,4.558401742089945,19.253388468635727,32.21838549939832,-26.867352615425478,-24.85367066887711,33.60521571070052,-2.6730666238762435,-1.0754738654795433,-4.731914049063867,17.914167092159925,19.025770146798653,31.38672473733724,9.033750889772364,10.774098664818467,4.614740087237072,-26.44856314822513,31.969039348880962,-26.250611148136656,2.9617531736700444,7.258484168691563,-9.959793359613766,-11.921821159163896,-24.025379542016935,10.44804482543467,8.122529308576288,19.313342112355212,-2.0625364234989,-9.586043041749292,-12.699451470928409,-4.163168454193933,28.57961648270972,26.836485137529912,-8.779228072792918,27.17066401303219,-15.433136473347796,0.7872509455913963,-8.12970453404296,23.844924570146066,-22.899409761581257,-2.8090387992072925,-18.244385418360622,10.466186585207938,10.238186485429383,-29.846663844607107,5.379265388522642,11.2913176886216,-30.331795844880165,-22.35921433477347,21.95530160885794,6.4991410345551985,17.291062930879647,4.957547665549634,7.214586397764929,-3.6812761293975265,24.479718287200846,21.244063087253767,-16.324269383890446,-12.171987165213803,-2.3687140479343824,16.20942083405428,-17.642134352524362,12.025741122588245,6.791277489234017,-0.15464271320359357,24.02555235360474,19.99520428724695,-8.590493445918403,-8.076662899010557,-8.710171315123498,-34.04013415721085,-30.740180840435134,1.3505637382721887,-5.513379808075848,24.76815782929646,-0.08022726869132663,-0.6214650531253455,12.56693996149908,-18.589482034437136,13.23332906364702,31.776876675964093,8.721859944311403,-23.628348893971737,8.524735569190069,28.780236256148285,-27.38856543584901,-34.2717450662856,29.413951120423132,25.482362692853833,-4.737524511138675,-5.489116411403168,-1.861154004996293,13.122173849150444,-17.4445325815354,2.065846994057252,4.908591212809377,18.98656537744873,2.207889355966276,-19.158810516904502,-8.0667136981269,1.338335374673984,3.152788897707917,28.763954054025945,5.432385640261206,-29.291457785082535,-7.909195914990949,21.79029942207043,-17.214960128119973,11.020586281715666,3.420379324394717,-26.698071577191705,7.784308980734744,3.336477580176883,17.89487925391989,16.978396584183496,-14.37945184315791,-14.994187952199512,29.31076719230786,20.915317283199013,23.83775497645488,-1.2264386363699824,11.778839684973196,-10.056533055502785,25.518089733532623,5.010854461876726,13.838903091947833,15.16519539449871,5.33969072575865,-21.287787040099587,-6.7357037111199745,-29.899189248372668,16.540935586506496,1.7133948212523795,-7.808109683207571,-0.5120900157486559,15.820533368679508,16.510820478227313,24.186894968727618,-23.551500559821665,31.257892262208735,3.9628988802586607,-25.838300335365716,7.436655530895291,-28.018672837658777,-14.507542962894927,1.0252641266146143,-22.676591469285842,-3.5172597013681046,-32.066277729424684,3.624819968808889,15.872338767567218,14.100127638135,22.255594949419955,-17.94965825983291,8.41762275815853,-7.934998272518346,13.33588438353211,5.662437171309077,11.6762936618782,17.283748893661173,5.303009172202968,8.550727317278735,10.542796088241335,24.49333150702082,24.512104679667306,22.76509361170454,29.307991698424786,-2.7502536839400884,7.269926002737119]}},\"id\":\"8df8d57e-74d1-4ba6-9077-4bc243a24b93\",\"type\":\"ColumnDataSource\"},{\"attributes\":{},\"id\":\"70a7300c-05e4-4beb-a8ff-8ceb589bfe17\",\"type\":\"BasicTicker\"},{\"attributes\":{\"active_drag\":\"auto\",\"active_scroll\":\"auto\",\"active_tap\":\"auto\",\"tools\":[{\"id\":\"5563d521-4957-404a-8d30-e5524dd25c82\",\"type\":\"HoverTool\"},{\"id\":\"fc691a3d-54e1-416a-94c4-6ad8e819ff56\",\"type\":\"PanTool\"},{\"id\":\"9ee2b312-96c3-481d-91f8-999d11d8a5dc\",\"type\":\"WheelZoomTool\"},{\"id\":\"6d0306c9-b9f2-4067-bf41-bd4bb8699e80\",\"type\":\"BoxZoomTool\"},{\"id\":\"c623fab0-30dd-465c-8bb5-bb0101292c21\",\"type\":\"ResetTool\"},{\"id\":\"58ff674d-f7ab-41f6-a9b8-d4b0cdd12a33\",\"type\":\"SaveTool\"}]},\"id\":\"bb3a0f46-f733-48ec-90ad-68b8cd40dddd\",\"type\":\"Toolbar\"},{\"attributes\":{\"plot\":{\"id\":\"a2005523-fddd-47ee-9f76-a42c87f35929\",\"subtype\":\"Figure\",\"type\":\"Plot\"}},\"id\":\"fc691a3d-54e1-416a-94c4-6ad8e819ff56\",\"type\":\"PanTool\"},{\"attributes\":{\"plot\":{\"id\":\"a2005523-fddd-47ee-9f76-a42c87f35929\",\"subtype\":\"Figure\",\"type\":\"Plot\"}},\"id\":\"c623fab0-30dd-465c-8bb5-bb0101292c21\",\"type\":\"ResetTool\"},{\"attributes\":{\"fill_alpha\":{\"value\":0.1},\"fill_color\":{\"value\":\"#1f77b4\"},\"line_alpha\":{\"value\":0.1},\"line_color\":{\"value\":\"#1f77b4\"},\"size\":{\"units\":\"screen\",\"value\":10},\"x\":{\"field\":\"x\"},\"y\":{\"field\":\"y\"}},\"id\":\"9cfd2f6c-6ed2-4049-81eb-500e29543814\",\"type\":\"Circle\"},{\"attributes\":{\"fill_alpha\":{\"value\":0.2},\"fill_color\":{\"value\":\"red\"},\"line_color\":{\"value\":\"red\"},\"size\":{\"units\":\"screen\",\"value\":10},\"x\":{\"field\":\"x\"},\"y\":{\"field\":\"y\"}},\"id\":\"73b060cd-9a26-4354-86e8-086cd960d213\",\"type\":\"Circle\"},{\"attributes\":{\"plot\":null,\"text\":\"Word visualization\"},\"id\":\"ec3c8703-5413-4ae5-97a9-98c69b6ae031\",\"type\":\"Title\"},{\"attributes\":{\"plot\":{\"id\":\"a2005523-fddd-47ee-9f76-a42c87f35929\",\"subtype\":\"Figure\",\"type\":\"Plot\"},\"ticker\":{\"id\":\"7e470b62-f105-451d-a4bd-effae8ad71fa\",\"type\":\"BasicTicker\"}},\"id\":\"459ebc5d-c19c-48ba-8fea-ebedbe24e12e\",\"type\":\"Grid\"},{\"attributes\":{\"callback\":null},\"id\":\"059b230f-0c51-41dc-a614-9f9512ab742b\",\"type\":\"DataRange1d\"},{\"attributes\":{},\"id\":\"4f87c92f-554e-4192-8598-239c7ee70b55\",\"type\":\"BasicTickFormatter\"},{\"attributes\":{\"dimension\":1,\"plot\":{\"id\":\"a2005523-fddd-47ee-9f76-a42c87f35929\",\"subtype\":\"Figure\",\"type\":\"Plot\"},\"ticker\":{\"id\":\"70a7300c-05e4-4beb-a8ff-8ceb589bfe17\",\"type\":\"BasicTicker\"}},\"id\":\"bcd6e58f-e9fd-4544-a8fa-c82bac878c8b\",\"type\":\"Grid\"},{\"attributes\":{\"data_source\":{\"id\":\"8df8d57e-74d1-4ba6-9077-4bc243a24b93\",\"type\":\"ColumnDataSource\"},\"glyph\":{\"id\":\"96530227-9686-4b7f-a1b4-84b5759393ee\",\"type\":\"Circle\"},\"hover_glyph\":null,\"nonselection_glyph\":{\"id\":\"eee2497c-fe0f-4a3c-8fa8-2cf848f00d05\",\"type\":\"Circle\"},\"selection_glyph\":null},\"id\":\"151ff70d-6b33-4fd6-9cb5-1717b2085c1d\",\"type\":\"GlyphRenderer\"},{\"attributes\":{\"data_source\":{\"id\":\"e8d7be8a-9ae5-406d-b0a9-94f907ecef8c\",\"type\":\"ColumnDataSource\"},\"glyph\":{\"id\":\"73b060cd-9a26-4354-86e8-086cd960d213\",\"type\":\"Circle\"},\"hover_glyph\":null,\"nonselection_glyph\":{\"id\":\"9cfd2f6c-6ed2-4049-81eb-500e29543814\",\"type\":\"Circle\"},\"selection_glyph\":null},\"id\":\"6aebeb02-431a-4668-abd5-d580bd7edb8f\",\"type\":\"GlyphRenderer\"},{\"attributes\":{},\"id\":\"2c2c9f30-c5f8-45e2-9fb7-e53b954dd995\",\"type\":\"BasicTickFormatter\"},{\"attributes\":{\"plot\":{\"id\":\"a2005523-fddd-47ee-9f76-a42c87f35929\",\"subtype\":\"Figure\",\"type\":\"Plot\"}},\"id\":\"9ee2b312-96c3-481d-91f8-999d11d8a5dc\",\"type\":\"WheelZoomTool\"},{\"attributes\":{},\"id\":\"7e470b62-f105-451d-a4bd-effae8ad71fa\",\"type\":\"BasicTicker\"},{\"attributes\":{\"fill_alpha\":{\"value\":0.2},\"fill_color\":{\"value\":\"navy\"},\"line_color\":{\"value\":\"navy\"},\"size\":{\"units\":\"screen\",\"value\":10},\"x\":{\"field\":\"x\"},\"y\":{\"field\":\"y\"}},\"id\":\"96530227-9686-4b7f-a1b4-84b5759393ee\",\"type\":\"Circle\"},{\"attributes\":{\"callback\":null,\"column_names\":[\"x\",\"y\",\"words_sis\",\"range_words\"],\"data\":{\"range_words\":[1,2,3,4,5,6,7,8,9,10,11,12,13,14,15,16,17,18,19,20,21,22,23,24,25,26,27,28,29,30,31,32,33,34,35,36,37,38,39,40,41,42,43,44,45,46,47,48,49,50,51,52,53,54,55,56,57,58,59,60,61,62,63,64,65,66,67,68,69,70,71,72,73,74,75,76,77,78,79,80,81,82,83,84,85,86,87,88,89,90,91,92,93,94,95,96,97,98,99,100,101,102,103,104,105,106,107,108,109,110,111,112,113,114,115,116,117,118,119,120,121,122,123,124,125,126,127,128,129,130,131,132,133,134,135,136,137,138,139,140,141,142,143,144,145,146,147,148,149,150,151,152,153,154,155,156,157,158,159,160,161,162,163,164,165,166,167,168,169,170,171,172,173,174,175,176,177,178,179,180,181,182,183,184,185,186,187,188,189,190,191,192,193,194,195,196,197,198,199,200,201,202,203,204,205,206,207,208,209,210,211,212,213,214,215,216,217,218,219,220,221,222,223,224,225,226,227,228,229,230,231,232,233,234,235,236,237,238,239,240,241,242,243,244,245,246,247,248,249,250,251,252,253,254,255,256,257,258,259,260,261,262,263,264,265,266,267,268,269,270,271,272,273,274,275,276,277,278,279,280,281,282,283,284,285,286,287,288,289,290,291,292,293,294,295,296,297,298,299,300,301,302,303,304,305,306,307,308,309,310,311,312,313,314,315,316,317,318,319,320,321,322,323,324,325,326,327,328,329,330,331,332,333,334,335,336,337,338,339,340,341,342,343,344,345,346,347,348,349,350,351,352,353,354,355,356,357,358,359,360,361,362,363,364,365,366,367,368,369,370,371,372,373,374,375,376,377,378,379,380,381,382,383,384,385,386,387,388,389,390,391,392,393,394,395,396,397,398,399,400,401,402,403,404,405,406,407,408,409,410,411,412,413,414,415,416,417,418,419,420,421,422,423,424,425,426,427,428,429,430,431,432,433,434,435,436,437,438,439,440,441,442,443,444,445,446,447,448,449,450,451,452,453,454,455,456,457,458,459,460,461,462,463,464,465,466,467,468,469,470,471,472,473,474,475,476,477,478,479,480,481,482,483,484,485,486,487,488,489,490],\"words_sis\":[\"welcome\",\"sure\",\"better\",\"learned\",\"saying\",\"kind\",\"guess\",\"see\",\"people\",\"deploys\",\"line\",\"starts\",\"dance\",\"going\",\"bad\",\"little\",\"away\",\"looking\",\"soon\",\"js\",\"part\",\"guidelines\",\"definitely\",\"giving\",\"c\",\"keep\",\"remember\",\"review\",\"published\",\"right\",\"dude\",\"though\",\"junior\",\"space\",\"programming\",\"takes\",\"slack\",\"name\",\"give\",\"sweet\",\"fine\",\"wish\",\"past\",\"go\",\"details\",\"hello\",\"watch\",\"week\",\"work\",\"engineer\",\"every\",\"excited\",\"exciting\",\"congratulations\",\"telling\",\"use\",\"two\",\"haha\",\"wrote\",\"public\",\"tried\",\"way\",\"stories\",\"g\",\"favorite\",\"lovely\",\"forward\",\"tfw\",\"challenges\",\"case\",\"honestly\",\"u\",\"random\",\"maybe\",\"skills\",\"hair\",\"tomorrow\",\"happy\",\"one\",\"god\",\"idea\",\"qgis\",\"lines\",\"diversity\",\"another\",\"dev\",\"meetup\",\"well\",\"find\",\"conference\",\"tonight\",\"ago\",\"education\",\"made\",\"message\",\"stack\",\"morning\",\"system\",\"holy\",\"students\",\"following\",\"read\",\"movie\",\"totally\",\"home\",\"want\",\"lady\",\"cool\",\"love\",\"open\",\"sf\",\"pm\",\"workshop\",\"mysql\",\"victims\",\"set\",\"less\",\"makes\",\"touch\",\"scipy\",\"figure\",\"live\",\"commitment\",\"social\",\"scale\",\"event\",\"easy\",\"thank\",\"heard\",\"building\",\"new\",\"psf\",\"room\",\"machine\",\"code\",\"months\",\"ff\",\"meeting\",\"using\",\"lol\",\"switch\",\"<number>\",\"might\",\"missed\",\"finish\",\"still\",\"storytelling\",\"need\",\"bring\",\"next\",\"internet\",\"may\",\"real\",\"involved\",\"experience\",\"toronto\",\"party\",\"application\",\"weeks\",\"position\",\"myth\",\"htt\",\"say\",\"ppl\",\"hard\",\"mean\",\"getting\",\"wake\",\"role\",\"seattle\",\"million\",\"write\",\"outreach\",\"talk\",\"guy\",\"birthday\",\"tech\",\"become\",\"thinking\",\"interested\",\"canada\",\"nice\",\"note\",\"saw\",\"together\",\"perf\",\"yet\",\"world\",\"yesterday\",\"friends\",\"cs\",\"front\",\"watching\",\"super\",\"days\",\"training\",\"war\",\"key\",\"went\",\"met\",\"old\",\"family\",\"join\",\"technical\",\"today\",\"debugging\",\"group\",\"great\",\"support\",\"auction\",\"night\",\"best\",\"friend\",\"high\",\"song\",\"google\",\"via\",\"please\",\"sea\",\"personal\",\"enough\",\"visit\",\"history\",\"feet\",\"overwhelming\",\"pay\",\"took\",\"_\",\"congrats\",\"fuck\",\"learning\",\"names\",\"come\",\"advice\",\"research\",\"help\",\"instant\",\"goes\",\"booth\",\"lost\",\"software\",\"speaking\",\"minutes\",\"post\",\"day\",\"team\",\"man\",\"everyone\",\"first\",\"speakers\",\"pretty\",\"tools\",\"game\",\"ready\",\"fun\",\"list\",\"women\",\"yeah\",\"long\",\"weekend\",\"awesome\",\"slides\",\"board\",\"big\",\"always\",\"understand\",\"power\",\"course\",\"updated\",\"p\",\"posts\",\"submit\",\"lot\",\"works\",\"perfect\",\"things\",\"lose\",\"plugin\",\"look\",\"hope\",\"info\",\"waiting\",\"monday\",\"time\",\"lightning\",\"problem\",\"conf\",\"uk\",\"good\",\"science\",\"folks\",\"dear\",\"sorry\",\"future\",\"often\",\"years\",\"blog\",\"peer\",\"end\",\"systems\",\"us\",\"oh\",\"put\",\"kate\",\"miss\",\"chair\",\"thanks\",\"life\",\"based\",\"search\",\"around\",\"think\",\"book\",\"instead\",\"could\",\"b\",\"computers\",\"guys\",\"really\",\"wow\",\"would\",\"show\",\"feel\",\"brexit\",\"due\",\"teaching\",\"try\",\"proud\",\"full\",\"data\",\"email\",\"https\",\"omg\",\"sends\",\"happen\",\"diverse\",\"mail\",\"state\",\"free\",\"etc\",\"yup\",\"even\",\"shout\",\"teach\",\"keynote\",\"explaining\",\"meet\",\"learn\",\"talks\",\"video\",\"last\",\"also\",\"much\",\"community\",\"side\",\"form\",\"changed\",\"runs\",\"helped\",\"directors\",\"mcpenface\",\"something\",\"wonderful\",\"month\",\"hours\",\"baby\",\"hand\",\"glad\",\"someone\",\"computing\",\"left\",\"python\",\"interesting\",\"woman\",\"decline\",\"mention\",\"looks\",\"place\",\"job\",\"far\",\"head\",\"back\",\"plan\",\"call\",\"company\",\"files\",\"point\",\"app\",\"important\",\"started\",\"nearly\",\"change\",\"run\",\"bed\",\"wait\",\"valley\",\"portland\",\"linux\",\"conferences\",\"goals\",\"hate\",\"announce\",\"without\",\"done\",\"driver\",\"rt\",\"true\",\"like\",\"heading\",\"pycon\",\"crypto\",\"proposals\",\"user\",\"lunch\",\"yes\",\"projects\",\"hail\",\"never\",\"behind\",\"command\",\"dc\",\"article\",\"leave\",\"wrong\",\"different\",\"silly\",\"ever\",\"nginx\",\"hey\",\"wants\",\"beautiful\",\"source\",\"make\",\"intro\",\"amazing\",\"needs\",\"get\",\"check\",\"since\",\"okay\",\"used\",\"running\",\"design\",\"working\",\"send\",\"stay\",\"words\",\"probably\",\"take\",\"url\",\"many\",\"thought\",\"thing\",\"got\",\"web\",\"hour\",\"access\",\"journal\",\"anyone\",\"whole\",\"lots\",\"know\",\"tho\",\"apparently\",\"program\",\"stop\",\"w\",\"taking\",\"reading\",\"stuff\",\"piece\",\"computer\",\"f\",\"tell\",\"beginners\",\"tutorial\",\"material\",\"trying\",\"numba\",\"year\",\"th\",\"enjoyed\",\"start\",\"red\",\"police\",\"late\",\"ploop\",\"award\",\"e\",\"heart\"],\"x\":[-8.45051015155303,-50.81529617562425,-88.00848314081148,-33.04712567284751,-47.94485521987188,26.96048929250197,-36.62066755878736,-67.6387144834095,-82.76530769066645,-12.162888563029512,-49.79920409186173,-33.257195679282574,-20.091026536398942,-72.64208342016252,-61.74831243124422,-61.01560712810789,-36.93878296684254,-86.21484317264647,-61.65742630194886,-26.44393692310484,-28.45933071809068,-18.31969283059522,-62.16170502527177,-30.280237390063487,-52.693496428155456,-21.466445035393146,-38.730863518304794,-65.10941356472965,-31.160448489828163,-86.52560615841055,-4.139127420931339,-73.98447226051084,-23.30836787474048,-36.413328288597626,-46.126692837137945,-35.25210657324977,-9.047910700175594,-39.36712007894249,-40.73896669751367,-10.50902938740747,-13.39485835209389,-28.13613063897446,-55.15752135853927,-32.49587588046153,-59.68980661701511,-54.78736893425473,-33.39476391955976,-81.77315216362776,-70.33132970888362,-50.90284007311242,-84.6340166729853,-16.4390328188075,-45.786401396920674,-1.4214215271638762,-20.852897113619388,-76.84154498877261,-54.9980863920132,-25.883383710092108,-51.452477790640245,-64.36546812126659,-61.94872387687978,-83.61972969860142,-17.698251508319156,-19.948578264581283,-56.82223347443707,-60.67950925918042,-35.62903522794946,-23.766450833067726,-23.04564693238737,-53.224548947587024,-7.681833415424791,-68.08818459067389,-52.98270508501537,-58.32294146552583,-22.020330731976014,-65.93144871209022,-57.8167597577894,-88.17885457001125,-69.24339240602578,-42.99545737779411,-78.02570582270498,15.761896375975313,8.763733042213083,-36.64425520745573,-57.068840108377174,-62.54582113931758,-13.480215929009617,-55.988573522695,-50.48695721705774,-72.28413494893667,-31.163035829338458,-42.621532743731734,-41.75873015727401,-31.29619697203123,-38.44428762592397,-24.65823568584347,-63.23268518470589,-6.779068222136165,-42.85496025071865,-73.17509640456461,3.104034108880821,-75.39949107867056,-16.054824267576084,-27.283484112968694,-34.18141359808322,-44.985316585099476,-36.46245597475505,-68.46217661931661,-40.74725276640641,-74.77042761460262,-81.5260410812122,-35.33964653938881,-48.03699420596925,-50.444822894854894,-10.712812522219288,-58.35899365268364,-57.211910123974626,-65.21689419097565,-7.55310380188057,-47.7991028027976,-52.02416736335942,-66.84015105711157,-5.1909744177440365,-72.84020333565033,-17.75421144256648,-12.752911503045217,-47.038484696278786,-19.71581485362519,-63.08620862395318,-21.007685030868767,-69.61206954169754,11.487288053523283,-32.028045078525864,-72.84745780480434,-77.09743142109552,-52.154733785934035,-66.53745521399023,-50.73955873239256,-69.03991513780892,3.485362255086974,7.543069295100943,-84.67389374165313,-43.470498882088584,-33.2083293175734,-57.43889955873663,-80.29773539725377,-40.274924553128905,-76.50917498137694,-35.897438825850294,-75.23998743648099,-71.94606261247137,-75.89900887447462,-66.07006845004399,-39.03190555744117,-25.949077317376677,-43.175279717480564,-21.30174954627,-19.87858489946699,-15.044340879141991,-20.610886030584567,-30.360226774907773,-85.58415738513975,-91.72467606722232,-34.79457861161859,-7.970121706408847,-44.79197863347787,-93.33945396659796,-14.46801561806905,-48.532206177529275,-39.96549667662298,-51.36366048604391,-43.34408930959727,-11.68742032018671,-75.44343862530154,1.0449881012500888,-64.46292479193274,-62.17317719812339,-65.4999790366209,-58.34930101980672,-77.69569848132483,-3.925121748458111,-75.16609757889988,-18.67552800094517,-15.13517884740863,-36.242738752620355,-15.379274532088218,-86.41947934773606,-64.04306747626262,38.068114209294826,-57.722101157869076,22.02586593654729,-85.95301573407906,-52.82390884561296,-45.61188066215845,-64.74109411575259,-8.669657917413605,-36.07370768884548,-31.63164713585793,-6.253451105328744,0.783605722927784,-43.36931866265518,-33.904922743759116,-51.893028954297996,-32.87601230706429,-70.11472867738884,-39.02956377134688,-29.300632794103915,-92.19891578729616,-79.35397639526713,-1.5754770721025002,-29.503497431266407,-68.65580310119256,-85.15274078172651,-39.29100579661787,-39.91335063684862,-37.92419730576838,-56.01629819641746,-74.26963242047178,-28.82839653092044,3.8101906087942305,-47.053366926563776,-75.0147139354471,-52.72521738149606,-16.358851245681215,-28.790341541373387,18.293240433101513,-45.07743618645988,-70.42411285738365,-55.613466041429014,15.853693144939665,-81.8752911329781,-45.30715707928615,-65.87261778607792,-31.951907145828464,-72.7407593872717,-90.17438552860806,-62.22242004679416,-62.07413614452344,-72.13207042268841,-26.00922108940064,-80.28112347155556,-7.4224253821128325,-28.379052423760168,-72.18448381906163,-78.95435920333807,-48.78137773657351,-53.883864523954934,-44.73325492482333,-76.8141341344339,-39.55229599555858,-75.54139671189589,-64.70504138772885,-45.79339422870404,-11.83537708119883,-55.78933473884491,-78.47003350418657,-44.920638317543784,-35.926465690220354,-35.002138441692765,-6.2907051718631175,-36.56416000642199,-77.52817548341669,-66.84667902439337,-31.283452223806314,-48.402034450573055,-30.256322979505853,-32.85880409736812,-34.330572600118934,-50.01701282177972,8.355504139084976,-18.693095567391133,-52.81705350612597,-71.06306333099789,-53.1155908381363,-5.386234964003583,-69.27393237261369,-12.946405318771856,-45.60495353224702,-91.36041930306814,-56.94839083624337,-23.003819006243113,4.04187893519825,-37.193580850868805,-80.58881384167542,-45.82301082642624,-61.95784010264276,-50.587524622579444,-47.073100612894315,-90.56496055962366,-73.32958805607602,-49.77758279528649,-11.095673292206309,-70.31431934472428,-60.26181548807273,-18.605847561589176,-79.84822121485851,-74.99210391590384,-14.70780313204611,-69.36895555720116,-81.9718418518337,-73.23227495680436,-46.21190016946563,-46.702386559908476,-25.513073219025742,-39.098577818786296,-41.522313716330174,-77.34531619684948,-58.63159898718285,-54.588128466404,-26.266477240084615,-39.389761726217735,-81.05665578125917,-60.54493105216383,-26.265153210477166,-79.5936371462593,-37.087215100707056,-16.283398610802777,-32.52344558783373,-73.88755437920292,-35.73312292939784,-71.43726747103676,-46.128703696675025,-39.37257267670149,2.416914474251906,-56.09029671925827,-23.97512097063118,-26.367711659187012,-7.420218167597722,-43.15362706326272,-89.15326909112586,-82.17651843098902,-70.0714215696309,-35.79825401853749,3.9419562667690746,-61.605726783054365,-19.71065017817224,-41.0673798861106,-64.56765494047484,-92.67586440297973,-43.1527561228194,-57.9470088734187,-16.10936284964193,-22.87778954131011,-16.60373640170722,-39.8828692936577,-53.80429399246952,-1.2201408428047817,-41.100396407527896,-89.48378733213528,-48.602328989746454,-64.60502241556856,-59.43896775995669,-84.0840906887664,-68.88748859532407,-13.687874080493977,-3.5940112086979568,-33.29788408234514,-28.7901785546202,-30.944992265994472,-13.175399020856721,-0.39378197873958654,-29.076096817204746,-10.70948336932924,-86.66502021407943,-18.65916730416594,-60.61171434699769,4.79403049913988,-40.19548281093477,-70.12923553776854,-24.24414267391315,-67.13307473052915,-77.63168681790695,-42.05423476900431,-29.234106568248542,-31.72114717875929,-49.45456253074727,-68.24918237045438,-26.352429190440695,-53.824480413627214,-80.46023172510466,-0.7239461374359035,-79.17869262557646,-46.58114476236084,-84.06735326242074,-28.74956359217985,-32.54493287198606,-59.280337439370385,-54.857355047826665,-72.03974360740581,-42.41598631028464,-21.679400258821072,-83.1820081151637,-48.6796611058983,-26.10031447316033,-84.62357834001807,-54.893247089387984,-4.121135488705793,-59.85876249085276,-75.30023467388347,-40.156840726306136,-25.754704861337558,-24.501095876442196,-56.00199592277684,-25.973762342841507,-23.201153501891923,-73.68325260977532,-4.0837227408289305,-80.78997204608098,-32.18412253833346,-50.61402320201579,-17.185592043524437,-30.18091126842456,-80.30052255796578,4.633146906243152,-46.37807283347335,-61.42143155142058,-27.76269460742393,-81.433704684291,-36.4829475648403,0.3196942621891294,-0.15096018820027685,-40.60561419455417,-28.25313575279856,-57.878457382943175,-52.633174460235985,-8.980265920333041,-52.60095480841858,-54.042173367718405,-17.239898223822554,-27.33472213437916,-42.28374175892902,-76.94698679570307,-73.06183316305275,-10.07955541637467,-74.6033216066845,-62.317871017102334,-75.41786031204721,-64.62419287734083,-87.27987966247485,-6.2466846121397115,-56.572785564775224,-74.00160813041202,-49.30340195538961,-75.80583476685604,-1.7838445999789558,-23.12567905617241,-44.69332330322786,-10.693283031266024,-54.72133191270122,-13.79181316256675,-82.88582899215758,-71.70156769868406,-59.70240166891189,-67.36251152434129,-82.64115487633794,-22.98849325639193,7.690261671073038,-79.31474536044712,-77.52070251365102,-67.1929066202805,-20.193988946207877,-80.46400210891132,-50.11275572755914,-59.72500687768292,-45.29987477361987,-67.85294744469067,-79.24679652725456,-50.21144703034399,-11.392633925602285,-49.25151960016203,25.86714487515412,-38.67702325393125,-85.4038236133525,-57.19186721017529,-22.501936691068927,-58.45184370081938,-28.36845042697957,-21.70663340196803,-23.366317493631225,-82.61277084527961,-43.154440969589196,-3.9127376164144803,-79.00705229405257,-67.22776395792295,14.118583369361978,-48.253296791383995,-66.56032408542885,-43.1490663538763,-16.905175588333478,35.67288836044876],\"y\":[3.095546011610989,11.129137648702498,11.82590652211769,-10.239271927856668,-11.92583662138786,19.73160232289401,2.2317652349124244,-4.303190411458592,7.517411734106705,21.80165251301386,-27.06349370525141,-17.969368082953075,22.038051297936956,3.8100662628824704,18.39899981794634,13.90425150402183,12.253280212202235,-2.4813783235034608,-25.247336971546122,-7.947577215119652,-30.033677380216904,-17.944849127938294,25.13856990178314,15.700714033641573,-13.8619741382295,0.7771147581423972,21.23277027391926,1.2658083329041945,10.191969962504194,9.552192187974047,17.375836354817046,-14.731697209834916,5.311317783772636,17.620812629202188,-1.4561601746078463,0.05461689156657618,-29.323419653383457,17.98332817912921,-33.30797860083359,-13.879503549737603,-8.238293000337784,-14.476205168157183,-30.749044108401915,-4.955399752573267,-1.292124231776731,-18.433045998000317,-7.587994792976407,18.417224749195842,9.854436804346678,-11.805349113504725,2.0515867777691286,-10.223828826589354,12.596844246488567,6.689986852362459,4.291509284070672,-13.917991076932388,2.673906468875107,-20.809578309698004,15.443979624797215,-18.847767640186127,-3.9476657064290004,2.9697009071982223,-14.185706836988015,-21.73547960394734,-21.87251672188478,7.904044107448917,-30.146319575696662,-2.1451981303739216,-13.216835632892883,8.97015614018491,-16.607781519568732,-2.886725416108846,-16.54454865184428,13.93115951186473,31.519080801181847,5.951346827062924,-9.470727256877977,6.111255258677318,7.684654390971037,2.633688686837872,18.641819204352053,9.095880434915664,13.509517019383406,-19.23797500618732,4.335210865084144,6.326456489041873,-1.416365259886665,-7.736254672577203,28.228563394433692,-24.361022573043293,21.151502416762952,8.760718478891802,-6.275847442196243,32.11164869125849,-7.029807760892403,-16.259356653705566,14.29705966379609,-5.974494666799652,20.568994544644703,-2.1197720833456897,3.6554082561180543,0.41183190312108414,20.382295109594008,-17.816792205948182,4.539349011051885,-11.956170442801639,-9.038292940363325,6.3467265688831125,-15.743473420540793,5.066256368188228,-10.476361420114594,-15.9286341288747,-6.443797264747413,-20.17018436993556,6.947592339839415,21.007776108893765,-17.74340576562373,-2.085849357090773,21.42747435840855,10.25269101785555,3.3787481958665624,9.277948267110542,4.795276614679734,-11.300814665380873,17.11301824985226,16.763420856237815,-25.687810722117334,13.66998394960381,-14.656950956720532,-25.255783433090144,2.172475019231609,-17.866439154151763,-2.2834787835335026,15.645721588110687,4.798053838952867,-22.55735880110595,2.9669897584249663,21.041220139857085,2.226177392860378,20.916419314983326,0.19909990243356032,4.9992014443509225,-18.362712803564627,-20.94618236643942,-15.118119171247818,21.75031490628649,-28.811706798472926,-11.872307213352203,-26.480104711335624,13.6787659058834,9.260851464138346,16.858697164803353,13.784960549365751,14.486773584445066,1.7168522528176586,11.72143729369525,-15.941235461855063,-11.36077219592423,13.905143085249215,-4.349559787793027,0.4832176785533636,-7.660133583598134,8.420611841333637,15.260461527572453,-21.06958842713502,-28.95696625231995,-2.587941391503651,-16.33742875352297,0.8260717304240361,5.107344765113742,-2.6953371946650218,-9.142804870592576,1.4593504952895255,-6.942494128948158,-0.7618836200486208,-6.352664006883483,-0.24396694394011303,-12.743518202297972,17.064523674392824,-17.333795423056067,-3.3298453662056313,-10.15106327559568,-28.395753836920854,7.716744434437947,-2.680092777210675,-20.472808485012788,15.136902962939597,-10.265996360902445,17.323582844861612,1.184652393259748,1.3437734243149602,7.868397233448613,18.41767112386316,1.249720997756307,23.855821721172653,16.798158314731324,21.357663936781275,-15.03505294569028,-25.246513350510757,-19.168461235805,-14.892677370145899,-13.119231710475036,-29.74192724566488,18.344914777756014,-1.6381759712210147,8.066701562836109,-5.9122511902276,14.347377400403465,-12.67082179861003,2.2888303848452027,-9.017424291051944,-12.078592022587571,4.510377410433085,-4.323187895274403,10.853743130400526,-15.261731797900714,-13.073349088627664,18.846525808432013,-1.4690742967870836,-11.154915933912418,21.416555231122494,-22.234900906114575,-9.44199990630899,-32.80090990696953,23.05944023467842,-3.436673012737013,15.610901572960584,18.372144787246008,12.351501537163458,-13.010565008151941,4.778986841466573,-22.377696964459307,20.43365036645521,-32.80050498214708,23.68484538502073,-0.5029020435325995,10.369741349764203,-8.163800998857315,-8.477169752038868,15.508861187331778,10.467910035592709,11.937659603412548,9.380271104814474,10.83753448604216,11.46192262335323,13.833732882746995,-25.385420113375,-6.677674648418559,26.28448799464961,-25.254008099929056,-4.722411949420831,16.730066507324295,3.993978353907324,-23.629906982703915,18.46227470947088,-9.757911100299003,-33.643679366807575,8.161905476147373,28.85430326551872,26.41720493781965,-11.857996508846076,-6.895647011225078,-16.365275801725783,4.216958551876968,-31.57143824470241,-11.891695541291432,1.404103011240764,10.513464380730793,8.47629042540516,5.655102697379368,-1.7833072841483075,-6.819975126049076,-17.777634639718002,-0.059103382202340994,0.307416484569688,-6.2019492319070535,10.351655195770148,18.849222637510206,-6.422166950725309,-1.5246799077810456,13.376995600813276,12.121955348250976,25.443617968764624,-0.7924742592012533,8.988729446461114,2.9401963175404693,-5.513931307055601,16.361163722032085,0.924636003899214,-3.8188748382063102,-8.88628991553939,26.725470512314914,-14.729260327439306,-29.09093970183169,9.212027570410415,3.470349359922181,-18.649191012882774,-4.339847975516956,13.67835824167341,-13.965218941226782,8.685394589407526,-15.040745596744562,-9.291547823106974,-0.7081549234783204,-21.93150071222888,14.450525894215753,6.280326434245612,-4.069410982396515,-1.487309136020115,-34.40681941160108,-12.601138398109196,4.912516669982415,-13.39174664421867,-11.7397094700275,-3.4310953294395024,5.254710194678444,-24.403958400998757,13.172194936101215,2.9262355004400566,-5.454592167823069,-2.946095990866097,-4.276667342913304,30.791497368268324,15.198114545091677,9.436711640659382,-28.46256674996904,4.76756012475625,-11.489466579041203,-25.184449389904756,3.470951550882142,-22.44249521835946,-10.17686032662979,-22.896218238068457,8.028729895395568,-17.239749195510576,6.7897544196725725,22.929027921252523,10.293521934099038,4.0242219644392705,5.969717913798517,-33.93412653956343,29.460493627215012,9.948202127837835,0.8042660558087901,-18.66732796226989,6.105677047581747,-24.659212925108474,26.89585850538378,-4.118537070460649,24.531180294323697,-23.367515722501594,-6.67412448599533,6.328212512533976,16.292036917827264,-28.13564326594183,-19.748995465209287,24.1431443900514,2.881851922123287,27.876664410022812,4.601658726844426,-13.55840224095151,-22.295505880620208,-5.306428820672982,-1.2583065454168387,25.848990506847223,-33.135202510842355,-15.79036678122389,2.1517874641989083,-20.937138673786276,19.62388843038849,-20.590219554730847,1.8408730002617357,-11.885053613729161,6.416104982642554,-27.84715183825616,3.603017392332065,-25.475680907346057,29.690734609659145,-4.042848883775978,-16.6989679314759,10.89280397252637,-0.9726374109479753,-17.93837724637553,17.161861268258882,12.865909583766816,7.264610090001648,-19.66514677584463,22.029543993286673,20.522658361474896,-21.392523282806884,-32.32991692068592,9.66725596820228,-2.7017088118463146,22.783387639826504,-10.071694042576974,15.093809324028706,-14.785540122475712,4.478691001239342,11.733769920715101,-9.317247311959337,11.595045921242827,-23.990264093176847,-5.11522902702544,8.191062036643444,-9.791776662623455,1.6360462234804423,-9.102860482201628,-2.908184274373924,-24.283494500236426,0.3395272073615068,11.435229471701115,-18.412474106852116,-10.35114711196683,-3.7430350299573947,6.50177896921612,-21.52832922283701,-25.976038689942307,10.12783231171391,-34.439740438083554,-8.851079115197207,-4.97610100641094,-1.9639078068301572,25.820930205036934,25.19892922389466,12.747442980624312,-1.8826916611189823,24.618276302658455,-21.26917818653013,-6.321815994322742,-3.261385087718749,17.45453873562062,9.454997264260935,7.4814262438342825,-9.497393217772709,5.780273290073845,21.352497053910767,7.96851209178504,-28.06364734757078,-11.411716293885638,8.583375499407003,-27.344648018294496,12.231769508595512,18.045490454735187,-2.003578828625871,21.799955870459282,26.049118624991458,24.42207768822947,12.73454778168952,-10.867161906709168,-12.571651367569597,-4.367992038738404,-5.1218737365383324,10.949236285302364,11.472426619262597,12.973054381024538,7.5746042371788045,-7.6232866834131086,2.450155013219082,13.870382366858012,-8.216769727131433,-8.084153412870174,-2.750264576117371,-17.411894153407065,-10.882801860673144,28.644539275212743,21.852937014524386,8.143323966366111,6.018521472417802,-18.603534210000436,-14.662585708680327,17.326067693463514,-0.588556183313044,-14.776975088438924,7.027095936864389,-19.61194018662133,-24.385908798634283,18.408968210238715,17.00785318570492,-6.11681812424942,-8.881557774822456,-3.4886767949578052,13.387374760781503,16.284954477633548,-1.082425190603786,-7.057081526695049,-22.22516292865965,18.137361356599072,-0.26516425601597615,4.136163212124047,18.03992963537906]}},\"id\":\"e8d7be8a-9ae5-406d-b0a9-94f907ecef8c\",\"type\":\"ColumnDataSource\"}],\"root_ids\":[\"a2005523-fddd-47ee-9f76-a42c87f35929\"]},\"title\":\"Bokeh Application\",\"version\":\"0.12.0\"}};\n",
       "            var render_items = [{\"docid\":\"23c3ffcd-3b44-4bf6-a5f6-a37be746c74e\",\"elementid\":\"adbd03dc-8518-4217-8a80-d4bac97cf402\",\"modelid\":\"a2005523-fddd-47ee-9f76-a42c87f35929\",\"notebook_comms_target\":\"5e882dcd-9cff-4253-ae7b-cca27fd5d35f\"}];\n",
       "            \n",
       "            Bokeh.embed.embed_items(docs_json, render_items);\n",
       "        });\n",
       "      },\n",
       "      function(Bokeh) {\n",
       "      }\n",
       "    ];\n",
       "  \n",
       "    function run_inline_js() {\n",
       "      for (var i = 0; i < inline_js.length; i++) {\n",
       "        inline_js[i](window.Bokeh);\n",
       "      }\n",
       "    }\n",
       "  \n",
       "    if (window._bokeh_is_loading === 0) {\n",
       "      console.log(\"Bokeh: BokehJS loaded, going straight to plotting\");\n",
       "      run_inline_js();\n",
       "    } else {\n",
       "      load_libs(js_urls, function() {\n",
       "        console.log(\"Bokeh: BokehJS plotting callback run at\", now());\n",
       "        run_inline_js();\n",
       "      });\n",
       "    }\n",
       "  }(this));\n",
       "</script>"
      ]
     },
     "metadata": {},
     "output_type": "display_data"
    }
   ],
   "source": [
    "_ = plot_tsne(model, 1000)"
   ]
  },
  {
   "cell_type": "code",
   "execution_count": 87,
   "metadata": {
    "collapsed": false
   },
   "outputs": [
    {
     "data": {
      "text/plain": [
       "[('to', 0.9998844861984253),\n",
       " ('for', 0.9998799562454224),\n",
       " ('?', 0.9998782873153687),\n",
       " (',', 0.9998778104782104),\n",
       " ('a', 0.9998762011528015),\n",
       " ('that', 0.9998730421066284),\n",
       " ('the', 0.9998728632926941),\n",
       " ('.', 0.9998695254325867),\n",
       " ('on', 0.999866247177124),\n",
       " ('i', 0.9998655319213867)]"
      ]
     },
     "execution_count": 87,
     "metadata": {},
     "output_type": "execute_result"
    }
   ],
   "source": [
    "model.most_similar(\"python\")"
   ]
  },
  {
   "cell_type": "code",
   "execution_count": 88,
   "metadata": {
    "collapsed": false
   },
   "outputs": [],
   "source": [
    "X_train_word2vec = get_embeddings(X_train_tokenized, model, 100)\n",
    "X_test_word2vec = get_embeddings(X_test_tokenized, model, 100)"
   ]
  },
  {
   "cell_type": "markdown",
   "metadata": {},
   "source": [
    "##  5.  Now fight! "
   ]
  },
  {
   "cell_type": "code",
   "execution_count": 89,
   "metadata": {
    "collapsed": false
   },
   "outputs": [],
   "source": [
    "from sklearn import svm\n",
    "from sklearn.metrics import classification_report, roc_curve, auc"
   ]
  },
  {
   "cell_type": "code",
   "execution_count": 90,
   "metadata": {
    "collapsed": false
   },
   "outputs": [
    {
     "name": "stdout",
     "output_type": "stream",
     "text": [
      "             precision    recall  f1-score   support\n",
      "\n",
      "       Bros       0.00      0.00      0.00       411\n",
      "        Sis       0.49      1.00      0.65       389\n",
      "\n",
      "avg / total       0.24      0.48      0.32       800\n",
      "\n"
     ]
    }
   ],
   "source": [
    "clf = svm.SVC()\n",
    "clf.fit(BOW_train, y_train)  \n",
    "predicction_BOW = clf.predict(BOW_test)\n",
    "target_names = ['Bros', 'Sis']\n",
    "print(classification_report(y_test, predicction_BOW,  target_names=target_names))"
   ]
  },
  {
   "cell_type": "code",
   "execution_count": 91,
   "metadata": {
    "collapsed": false
   },
   "outputs": [
    {
     "name": "stdout",
     "output_type": "stream",
     "text": [
      "             precision    recall  f1-score   support\n",
      "\n",
      "       Bros       0.66      0.60      0.62       411\n",
      "        Sis       0.61      0.67      0.64       389\n",
      "\n",
      "avg / total       0.63      0.63      0.63       800\n",
      "\n"
     ]
    }
   ],
   "source": [
    "clf = svm.SVC()\n",
    "clf.fit(X_train_GloVe, y_train)\n",
    "predicction_GloVe = clf.predict(X_test_GloVe)\n",
    "print(classification_report(y_test, predicction_GloVe,  target_names=target_names))"
   ]
  },
  {
   "cell_type": "code",
   "execution_count": 92,
   "metadata": {
    "collapsed": false
   },
   "outputs": [
    {
     "name": "stdout",
     "output_type": "stream",
     "text": [
      "             precision    recall  f1-score   support\n",
      "\n",
      "       Bros       0.00      0.00      0.00       411\n",
      "        Sis       0.49      1.00      0.65       389\n",
      "\n",
      "avg / total       0.24      0.49      0.32       800\n",
      "\n"
     ]
    },
    {
     "name": "stderr",
     "output_type": "stream",
     "text": [
      "/Users/mai/Dev/tools/miniconda3/envs/ep16/lib/python3.5/site-packages/sklearn/metrics/classification.py:1074: UndefinedMetricWarning: Precision and F-score are ill-defined and being set to 0.0 in labels with no predicted samples.\n",
      "  'precision', 'predicted', average, warn_for)\n"
     ]
    }
   ],
   "source": [
    "clf = svm.SVC()\n",
    "clf.fit(X_train_word2vec, y_train)\n",
    "predicction_word2vec = clf.predict(X_test_word2vec)\n",
    "print(classification_report(y_test, predicction_word2vec,  target_names=target_names))"
   ]
  },
  {
   "cell_type": "code",
   "execution_count": 93,
   "metadata": {
    "collapsed": false
   },
   "outputs": [],
   "source": [
    "false_positive_rate_bow, true_positive_rate_bow, _ = roc_curve(y_test, predicction_BOW)\n",
    "roc_auc_bow = auc(false_positive_rate_bow, true_positive_rate_bow)\n",
    "\n",
    "false_positive_rate_glove, true_positive_rate_glove, _ = roc_curve(y_test, predicction_GloVe)\n",
    "roc_auc_glove = auc(false_positive_rate_glove, true_positive_rate_glove)\n",
    "\n",
    "false_positive_rate_w2v, true_positive_rate_w2v, _ = roc_curve(y_test, predicction_word2vec)\n",
    "roc_auc_w2v = auc(false_positive_rate_w2v, true_positive_rate_w2v)"
   ]
  },
  {
   "cell_type": "code",
   "execution_count": 94,
   "metadata": {
    "collapsed": false
   },
   "outputs": [
    {
     "data": {
      "text/html": [
       "\n",
       "\n",
       "    <div class=\"bk-root\">\n",
       "        <div class=\"plotdiv\" id=\"f7dcbade-26f3-47d8-afdc-3d049e9ee2bb\"></div>\n",
       "    </div>\n",
       "<script type=\"text/javascript\">\n",
       "  \n",
       "  (function(global) {\n",
       "    function now() {\n",
       "      return new Date();\n",
       "    }\n",
       "  \n",
       "    if (typeof (window._bokeh_onload_callbacks) === \"undefined\") {\n",
       "      window._bokeh_onload_callbacks = [];\n",
       "    }\n",
       "  \n",
       "    function run_callbacks() {\n",
       "      window._bokeh_onload_callbacks.forEach(function(callback) { callback() });\n",
       "      delete window._bokeh_onload_callbacks\n",
       "      console.info(\"Bokeh: all callbacks have finished\");\n",
       "    }\n",
       "  \n",
       "    function load_libs(js_urls, callback) {\n",
       "      window._bokeh_onload_callbacks.push(callback);\n",
       "      if (window._bokeh_is_loading > 0) {\n",
       "        console.log(\"Bokeh: BokehJS is being loaded, scheduling callback at\", now());\n",
       "        return null;\n",
       "      }\n",
       "      if (js_urls == null || js_urls.length === 0) {\n",
       "        run_callbacks();\n",
       "        return null;\n",
       "      }\n",
       "      console.log(\"Bokeh: BokehJS not loaded, scheduling load and callback at\", now());\n",
       "      window._bokeh_is_loading = js_urls.length;\n",
       "      for (var i = 0; i < js_urls.length; i++) {\n",
       "        var url = js_urls[i];\n",
       "        var s = document.createElement('script');\n",
       "        s.src = url;\n",
       "        s.async = false;\n",
       "        s.onreadystatechange = s.onload = function() {\n",
       "          window._bokeh_is_loading--;\n",
       "          if (window._bokeh_is_loading === 0) {\n",
       "            console.log(\"Bokeh: all BokehJS libraries loaded\");\n",
       "            run_callbacks()\n",
       "          }\n",
       "        };\n",
       "        s.onerror = function() {\n",
       "          console.warn(\"failed to load library \" + url);\n",
       "        };\n",
       "        console.log(\"Bokeh: injecting script tag for BokehJS library: \", url);\n",
       "        document.getElementsByTagName(\"head\")[0].appendChild(s);\n",
       "      }\n",
       "    };var element = document.getElementById(\"f7dcbade-26f3-47d8-afdc-3d049e9ee2bb\");\n",
       "    if (element == null) {\n",
       "      console.log(\"Bokeh: ERROR: autoload.js configured with elementid 'f7dcbade-26f3-47d8-afdc-3d049e9ee2bb' but no matching script tag was found. \")\n",
       "      return false;\n",
       "    }\n",
       "  \n",
       "    var js_urls = [];\n",
       "  \n",
       "    var inline_js = [\n",
       "      function(Bokeh) {\n",
       "        Bokeh.$(function() {\n",
       "            var docs_json = {\"9692f739-b542-447d-a8d1-60b3641f2949\":{\"roots\":{\"references\":[{\"attributes\":{\"line_alpha\":{\"value\":0.1},\"line_color\":{\"value\":\"#1f77b4\"},\"line_width\":{\"value\":2},\"x\":{\"field\":\"x\"},\"y\":{\"field\":\"y\"}},\"id\":\"5966a305-f116-4a17-b53a-d302b46e899d\",\"type\":\"Line\"},{\"attributes\":{\"axis_label\":\"True Positive Rate\",\"formatter\":{\"id\":\"7c258f61-04f5-48e5-9989-1a3af32d96f0\",\"type\":\"BasicTickFormatter\"},\"plot\":{\"id\":\"c0445cdd-2e07-42f0-8a58-2c066e0f79e1\",\"subtype\":\"Figure\",\"type\":\"Plot\"},\"ticker\":{\"id\":\"e2324f94-5580-4f7e-bba9-9ae7c9b7ebbf\",\"type\":\"BasicTicker\"}},\"id\":\"6327a63e-4915-44f5-aba1-d1d8cec2eca4\",\"type\":\"LinearAxis\"},{\"attributes\":{\"below\":[{\"id\":\"1e525b88-c7ef-4ba3-9f6c-b4508bd296c0\",\"type\":\"LinearAxis\"}],\"left\":[{\"id\":\"6327a63e-4915-44f5-aba1-d1d8cec2eca4\",\"type\":\"LinearAxis\"}],\"renderers\":[{\"id\":\"1e525b88-c7ef-4ba3-9f6c-b4508bd296c0\",\"type\":\"LinearAxis\"},{\"id\":\"b55ef354-74a6-45be-8c25-20ff5f256250\",\"type\":\"Grid\"},{\"id\":\"6327a63e-4915-44f5-aba1-d1d8cec2eca4\",\"type\":\"LinearAxis\"},{\"id\":\"8e493f01-3d7e-4f5e-b37d-1cd46ebd331e\",\"type\":\"Grid\"},{\"id\":\"89e2f4ba-9c53-49af-bbf5-e02c29d7a944\",\"type\":\"BoxAnnotation\"},{\"id\":\"a989f425-c90e-4011-8f91-0d112141c797\",\"type\":\"Legend\"},{\"id\":\"0d357b6c-c881-42ca-837c-b2919a53a320\",\"type\":\"GlyphRenderer\"},{\"id\":\"640141c5-d0b0-4c7b-85d9-1091a5dc8a67\",\"type\":\"GlyphRenderer\"},{\"id\":\"02336a45-40e4-40c6-9f8b-7b6256a5aaf4\",\"type\":\"GlyphRenderer\"},{\"id\":\"36b3c9ff-46ef-4140-97d1-44b231bb6961\",\"type\":\"GlyphRenderer\"}],\"title\":{\"id\":\"7a7d9080-88a9-4ae7-8b67-4cf75e09df32\",\"type\":\"Title\"},\"tool_events\":{\"id\":\"47da0080-76b6-4521-8203-7b5301f4838a\",\"type\":\"ToolEvents\"},\"toolbar\":{\"id\":\"1135fed1-51ec-474e-aabf-c0d7e54c1642\",\"type\":\"Toolbar\"},\"x_range\":{\"id\":\"1c4f7d8c-f68b-4c6b-80f9-93ed039385a6\",\"type\":\"DataRange1d\"},\"y_range\":{\"id\":\"ad82d733-7103-43db-92ab-89dff3577aaa\",\"type\":\"DataRange1d\"}},\"id\":\"c0445cdd-2e07-42f0-8a58-2c066e0f79e1\",\"subtype\":\"Figure\",\"type\":\"Plot\"},{\"attributes\":{\"overlay\":{\"id\":\"89e2f4ba-9c53-49af-bbf5-e02c29d7a944\",\"type\":\"BoxAnnotation\"},\"plot\":{\"id\":\"c0445cdd-2e07-42f0-8a58-2c066e0f79e1\",\"subtype\":\"Figure\",\"type\":\"Plot\"}},\"id\":\"6568f5eb-0c3e-4edd-8182-a9587138b487\",\"type\":\"BoxZoomTool\"},{\"attributes\":{\"callback\":null,\"column_names\":[\"x\",\"y\"],\"data\":{\"x\":[0.0,0.40389294403892945,1.0],\"y\":[0.0,0.6709511568123393,1.0]}},\"id\":\"caa92579-55dc-4c73-ab91-92152c9c33ee\",\"type\":\"ColumnDataSource\"},{\"attributes\":{},\"id\":\"7c258f61-04f5-48e5-9989-1a3af32d96f0\",\"type\":\"BasicTickFormatter\"},{\"attributes\":{\"dimension\":1,\"plot\":{\"id\":\"c0445cdd-2e07-42f0-8a58-2c066e0f79e1\",\"subtype\":\"Figure\",\"type\":\"Plot\"},\"ticker\":{\"id\":\"e2324f94-5580-4f7e-bba9-9ae7c9b7ebbf\",\"type\":\"BasicTicker\"}},\"id\":\"8e493f01-3d7e-4f5e-b37d-1cd46ebd331e\",\"type\":\"Grid\"},{\"attributes\":{\"line_color\":{\"value\":\"gray\"},\"line_dash\":[4,4],\"line_width\":{\"value\":2},\"x\":{\"field\":\"x\"},\"y\":{\"field\":\"y\"}},\"id\":\"0c00d673-9d2e-473e-ba53-f4f6eea0ee52\",\"type\":\"Line\"},{\"attributes\":{},\"id\":\"c874e6f7-57ef-47aa-84dd-16df4e8b8f2e\",\"type\":\"BasicTicker\"},{\"attributes\":{\"line_alpha\":{\"value\":0.1},\"line_color\":{\"value\":\"#1f77b4\"},\"line_dash\":[4,4],\"line_width\":{\"value\":2},\"x\":{\"field\":\"x\"},\"y\":{\"field\":\"y\"}},\"id\":\"79bde1f6-b423-4612-8087-e9366f726234\",\"type\":\"Line\"},{\"attributes\":{\"plot\":{\"id\":\"c0445cdd-2e07-42f0-8a58-2c066e0f79e1\",\"subtype\":\"Figure\",\"type\":\"Plot\"}},\"id\":\"203f5bbc-4ce8-462f-8ca1-9a3a9249198c\",\"type\":\"SaveTool\"},{\"attributes\":{\"bottom_units\":\"screen\",\"fill_alpha\":{\"value\":0.5},\"fill_color\":{\"value\":\"lightgrey\"},\"left_units\":\"screen\",\"level\":\"overlay\",\"line_alpha\":{\"value\":1.0},\"line_color\":{\"value\":\"black\"},\"line_dash\":[4,4],\"line_width\":{\"value\":2},\"plot\":null,\"render_mode\":\"css\",\"right_units\":\"screen\",\"top_units\":\"screen\"},\"id\":\"89e2f4ba-9c53-49af-bbf5-e02c29d7a944\",\"type\":\"BoxAnnotation\"},{\"attributes\":{\"line_alpha\":{\"value\":0.1},\"line_color\":{\"value\":\"#1f77b4\"},\"line_width\":{\"value\":2},\"x\":{\"field\":\"x\"},\"y\":{\"field\":\"y\"}},\"id\":\"bf8c7ade-d649-42f7-81a0-3b553c8b4875\",\"type\":\"Line\"},{\"attributes\":{},\"id\":\"e2324f94-5580-4f7e-bba9-9ae7c9b7ebbf\",\"type\":\"BasicTicker\"},{\"attributes\":{\"plot\":{\"id\":\"c0445cdd-2e07-42f0-8a58-2c066e0f79e1\",\"subtype\":\"Figure\",\"type\":\"Plot\"}},\"id\":\"243474e0-b69a-48d1-8a88-404a43fc7c94\",\"type\":\"WheelZoomTool\"},{\"attributes\":{\"plot\":{\"id\":\"c0445cdd-2e07-42f0-8a58-2c066e0f79e1\",\"subtype\":\"Figure\",\"type\":\"Plot\"},\"ticker\":{\"id\":\"c874e6f7-57ef-47aa-84dd-16df4e8b8f2e\",\"type\":\"BasicTicker\"}},\"id\":\"b55ef354-74a6-45be-8c25-20ff5f256250\",\"type\":\"Grid\"},{\"attributes\":{\"axis_label\":\"False Positive Rate\",\"formatter\":{\"id\":\"ec497af2-9349-44b8-a05a-9bc0a482d068\",\"type\":\"BasicTickFormatter\"},\"plot\":{\"id\":\"c0445cdd-2e07-42f0-8a58-2c066e0f79e1\",\"subtype\":\"Figure\",\"type\":\"Plot\"},\"ticker\":{\"id\":\"c874e6f7-57ef-47aa-84dd-16df4e8b8f2e\",\"type\":\"BasicTicker\"}},\"id\":\"1e525b88-c7ef-4ba3-9f6c-b4508bd296c0\",\"type\":\"LinearAxis\"},{\"attributes\":{\"callback\":null,\"column_names\":[\"x\",\"y\"],\"data\":{\"x\":[0.0,1.0],\"y\":[0.0,1.05]}},\"id\":\"7fcf23e2-fdaa-4156-9213-6837fc535a17\",\"type\":\"ColumnDataSource\"},{\"attributes\":{\"plot\":{\"id\":\"c0445cdd-2e07-42f0-8a58-2c066e0f79e1\",\"subtype\":\"Figure\",\"type\":\"Plot\"}},\"id\":\"884d639f-a1c5-4ed3-92c8-ee1cad21390f\",\"type\":\"PanTool\"},{\"attributes\":{\"legends\":[[\"BoW ROC curve (area = 0.50)\",[{\"id\":\"0d357b6c-c881-42ca-837c-b2919a53a320\",\"type\":\"GlyphRenderer\"}]],[\"GloVE ROC curve (area = 0.63)\",[{\"id\":\"640141c5-d0b0-4c7b-85d9-1091a5dc8a67\",\"type\":\"GlyphRenderer\"}]],[\"W2V ROC curve (area = 0.50)\",[{\"id\":\"02336a45-40e4-40c6-9f8b-7b6256a5aaf4\",\"type\":\"GlyphRenderer\"}]],[\"Guessing\",[{\"id\":\"36b3c9ff-46ef-4140-97d1-44b231bb6961\",\"type\":\"GlyphRenderer\"}]]],\"location\":\"bottom_right\",\"plot\":{\"id\":\"c0445cdd-2e07-42f0-8a58-2c066e0f79e1\",\"subtype\":\"Figure\",\"type\":\"Plot\"}},\"id\":\"a989f425-c90e-4011-8f91-0d112141c797\",\"type\":\"Legend\"},{\"attributes\":{\"callback\":null,\"column_names\":[\"x\",\"y\"],\"data\":{\"x\":[0.0,1.0,1.0],\"y\":[0.0,0.9974293059125964,1.0]}},\"id\":\"3a00929b-03f8-4a1f-b34c-20a52c22e662\",\"type\":\"ColumnDataSource\"},{\"attributes\":{\"callback\":null,\"column_names\":[\"x\",\"y\"],\"data\":{\"x\":[0.0,1.0],\"y\":[0.0,1.0]}},\"id\":\"19f7060b-c545-4a34-bd00-9acad78b73ac\",\"type\":\"ColumnDataSource\"},{\"attributes\":{\"callback\":null},\"id\":\"ad82d733-7103-43db-92ab-89dff3577aaa\",\"type\":\"DataRange1d\"},{\"attributes\":{\"line_color\":{\"value\":\"blue\"},\"line_width\":{\"value\":2},\"x\":{\"field\":\"x\"},\"y\":{\"field\":\"y\"}},\"id\":\"8cbc9329-c1ac-4b6a-b2f9-f4bf9df01279\",\"type\":\"Line\"},{\"attributes\":{\"line_alpha\":{\"value\":0.1},\"line_color\":{\"value\":\"#1f77b4\"},\"line_width\":{\"value\":2},\"x\":{\"field\":\"x\"},\"y\":{\"field\":\"y\"}},\"id\":\"d0cfa01c-00f2-405e-98e9-4cd09f2e3d22\",\"type\":\"Line\"},{\"attributes\":{},\"id\":\"ec497af2-9349-44b8-a05a-9bc0a482d068\",\"type\":\"BasicTickFormatter\"},{\"attributes\":{\"data_source\":{\"id\":\"3a00929b-03f8-4a1f-b34c-20a52c22e662\",\"type\":\"ColumnDataSource\"},\"glyph\":{\"id\":\"04137e9a-ac40-4789-a38a-cccb475fe78c\",\"type\":\"Line\"},\"hover_glyph\":null,\"nonselection_glyph\":{\"id\":\"bf8c7ade-d649-42f7-81a0-3b553c8b4875\",\"type\":\"Line\"},\"selection_glyph\":null},\"id\":\"0d357b6c-c881-42ca-837c-b2919a53a320\",\"type\":\"GlyphRenderer\"},{\"attributes\":{\"plot\":null,\"text\":\"Receiver Operating Characteristic\"},\"id\":\"7a7d9080-88a9-4ae7-8b67-4cf75e09df32\",\"type\":\"Title\"},{\"attributes\":{\"line_color\":{\"value\":\"green\"},\"line_width\":{\"value\":2},\"x\":{\"field\":\"x\"},\"y\":{\"field\":\"y\"}},\"id\":\"04137e9a-ac40-4789-a38a-cccb475fe78c\",\"type\":\"Line\"},{\"attributes\":{\"data_source\":{\"id\":\"caa92579-55dc-4c73-ab91-92152c9c33ee\",\"type\":\"ColumnDataSource\"},\"glyph\":{\"id\":\"8cbc9329-c1ac-4b6a-b2f9-f4bf9df01279\",\"type\":\"Line\"},\"hover_glyph\":null,\"nonselection_glyph\":{\"id\":\"d0cfa01c-00f2-405e-98e9-4cd09f2e3d22\",\"type\":\"Line\"},\"selection_glyph\":null},\"id\":\"640141c5-d0b0-4c7b-85d9-1091a5dc8a67\",\"type\":\"GlyphRenderer\"},{\"attributes\":{\"active_drag\":\"auto\",\"active_scroll\":\"auto\",\"active_tap\":\"auto\",\"tools\":[{\"id\":\"884d639f-a1c5-4ed3-92c8-ee1cad21390f\",\"type\":\"PanTool\"},{\"id\":\"243474e0-b69a-48d1-8a88-404a43fc7c94\",\"type\":\"WheelZoomTool\"},{\"id\":\"6568f5eb-0c3e-4edd-8182-a9587138b487\",\"type\":\"BoxZoomTool\"},{\"id\":\"80632c48-3556-4b97-bbe1-26d67d4a8cd2\",\"type\":\"ResetTool\"},{\"id\":\"203f5bbc-4ce8-462f-8ca1-9a3a9249198c\",\"type\":\"SaveTool\"}]},\"id\":\"1135fed1-51ec-474e-aabf-c0d7e54c1642\",\"type\":\"Toolbar\"},{\"attributes\":{\"data_source\":{\"id\":\"19f7060b-c545-4a34-bd00-9acad78b73ac\",\"type\":\"ColumnDataSource\"},\"glyph\":{\"id\":\"cb7e256a-208a-4a1b-b6f2-efa996453f1f\",\"type\":\"Line\"},\"hover_glyph\":null,\"nonselection_glyph\":{\"id\":\"5966a305-f116-4a17-b53a-d302b46e899d\",\"type\":\"Line\"},\"selection_glyph\":null},\"id\":\"02336a45-40e4-40c6-9f8b-7b6256a5aaf4\",\"type\":\"GlyphRenderer\"},{\"attributes\":{\"line_color\":{\"value\":\"yellow\"},\"line_width\":{\"value\":2},\"x\":{\"field\":\"x\"},\"y\":{\"field\":\"y\"}},\"id\":\"cb7e256a-208a-4a1b-b6f2-efa996453f1f\",\"type\":\"Line\"},{\"attributes\":{\"callback\":null},\"id\":\"1c4f7d8c-f68b-4c6b-80f9-93ed039385a6\",\"type\":\"DataRange1d\"},{\"attributes\":{\"plot\":{\"id\":\"c0445cdd-2e07-42f0-8a58-2c066e0f79e1\",\"subtype\":\"Figure\",\"type\":\"Plot\"}},\"id\":\"80632c48-3556-4b97-bbe1-26d67d4a8cd2\",\"type\":\"ResetTool\"},{\"attributes\":{},\"id\":\"47da0080-76b6-4521-8203-7b5301f4838a\",\"type\":\"ToolEvents\"},{\"attributes\":{\"data_source\":{\"id\":\"7fcf23e2-fdaa-4156-9213-6837fc535a17\",\"type\":\"ColumnDataSource\"},\"glyph\":{\"id\":\"0c00d673-9d2e-473e-ba53-f4f6eea0ee52\",\"type\":\"Line\"},\"hover_glyph\":null,\"nonselection_glyph\":{\"id\":\"79bde1f6-b423-4612-8087-e9366f726234\",\"type\":\"Line\"},\"selection_glyph\":null},\"id\":\"36b3c9ff-46ef-4140-97d1-44b231bb6961\",\"type\":\"GlyphRenderer\"}],\"root_ids\":[\"c0445cdd-2e07-42f0-8a58-2c066e0f79e1\"]},\"title\":\"Bokeh Application\",\"version\":\"0.12.0\"}};\n",
       "            var render_items = [{\"docid\":\"9692f739-b542-447d-a8d1-60b3641f2949\",\"elementid\":\"f7dcbade-26f3-47d8-afdc-3d049e9ee2bb\",\"modelid\":\"c0445cdd-2e07-42f0-8a58-2c066e0f79e1\",\"notebook_comms_target\":\"d2a9caa9-9221-43a3-ad45-b634eb5d9034\"}];\n",
       "            \n",
       "            Bokeh.embed.embed_items(docs_json, render_items);\n",
       "        });\n",
       "      },\n",
       "      function(Bokeh) {\n",
       "      }\n",
       "    ];\n",
       "  \n",
       "    function run_inline_js() {\n",
       "      for (var i = 0; i < inline_js.length; i++) {\n",
       "        inline_js[i](window.Bokeh);\n",
       "      }\n",
       "    }\n",
       "  \n",
       "    if (window._bokeh_is_loading === 0) {\n",
       "      console.log(\"Bokeh: BokehJS loaded, going straight to plotting\");\n",
       "      run_inline_js();\n",
       "    } else {\n",
       "      load_libs(js_urls, function() {\n",
       "        console.log(\"Bokeh: BokehJS plotting callback run at\", now());\n",
       "        run_inline_js();\n",
       "      });\n",
       "    }\n",
       "  }(this));\n",
       "</script>"
      ]
     },
     "metadata": {},
     "output_type": "display_data"
    },
    {
     "data": {
      "text/html": [
       "<p><code>&lt;Bokeh Notebook handle for <strong>In[94]</strong>&gt;</code></p>"
      ],
      "text/plain": [
       "<bokeh.io._CommsHandle at 0x119f58828>"
      ]
     },
     "execution_count": 94,
     "metadata": {},
     "output_type": "execute_result"
    }
   ],
   "source": [
    "from bokeh.palettes import Spectral6\n",
    "\n",
    "p = figure(title=\"Receiver Operating Characteristic\", tools=TOOLS)\n",
    "\n",
    "\n",
    "p.line(false_positive_rate_bow, true_positive_rate_bow, legend='BoW ROC curve (area = {:.2f})'.format(roc_auc_bow), \n",
    "       line_color=\"green\", line_width=2)\n",
    "p.line(false_positive_rate_glove, true_positive_rate_glove, \n",
    "       legend='GloVE ROC curve (area = {:.2f})'.format(roc_auc_glove), \n",
    "       line_color=\"blue\", line_width=2)\n",
    "p.line(false_positive_rate_w2v, true_positive_rate_w2v, \n",
    "       legend='W2V ROC curve (area = {:.2f})'.format(roc_auc_w2v), \n",
    "       line_color=\"yellow\", line_width=2)\n",
    "\n",
    "\n",
    "p.line([0.0, 1.0], [0.0, 1.05], legend='Guessing', \n",
    "       line_color=\"gray\", line_width=2, line_dash=(4, 4))\n",
    "\n",
    "p.xaxis.axis_label = 'False Positive Rate'\n",
    "p.yaxis.axis_label = 'True Positive Rate'\n",
    "\n",
    "p.legend.location = 'bottom_right'\n",
    "show(p)  "
   ]
  },
  {
   "cell_type": "markdown",
   "metadata": {
    "collapsed": true
   },
   "source": [
    "# 6. Discur"
   ]
  },
  {
   "cell_type": "code",
   "execution_count": null,
   "metadata": {
    "collapsed": true
   },
   "outputs": [],
   "source": []
  }
 ],
 "metadata": {
  "kernelspec": {
   "display_name": "Python 3",
   "language": "python",
   "name": "python3"
  },
  "language_info": {
   "codemirror_mode": {
    "name": "ipython",
    "version": 3
   },
   "file_extension": ".py",
   "mimetype": "text/x-python",
   "name": "python",
   "nbconvert_exporter": "python",
   "pygments_lexer": "ipython3",
   "version": "3.5.2"
  }
 },
 "nbformat": 4,
 "nbformat_minor": 0
}
